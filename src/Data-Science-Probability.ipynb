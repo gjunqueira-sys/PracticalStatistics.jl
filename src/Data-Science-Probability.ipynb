{
 "cells": [
  {
   "cell_type": "code",
   "execution_count": 1,
   "metadata": {},
   "outputs": [
    {
     "data": {
      "text/plain": [
       "fib (generic function with 1 method)"
      ]
     },
     "metadata": {},
     "output_type": "display_data"
    }
   ],
   "source": [
    "using StatsBase\n",
    "using Tables\n",
    "\n",
    "# fibonnaci sequence\n",
    "function fib(n)\n",
    "    if n < 2\n",
    "        return n\n",
    "    else\n",
    "        return fib(n-1) + fib(n-2)\n",
    "    end\n",
    "end\n",
    "\n",
    "# generate a random number from a fibonnaci sequence\n",
    "\n",
    "\n"
   ]
  },
  {
   "attachments": {},
   "cell_type": "markdown",
   "metadata": {},
   "source": [
    "# Section 1 Overview\n",
    "\n",
    "Section 1 introduces you to Discrete Probability. Section 1 is divided into three parts:\n",
    "\n",
    "Introduction to Discrete Probability\n",
    "Combinations and Permutations\n",
    "Addition Rule and Monty Hall\n",
    "After completing Section 1, you will be able to:\n",
    "\n",
    "apply basic probability theory to categorical data.\n",
    "perform a Monte Carlo simulation to approximate the results of repeating an experiment over and over, including simulating the outcomes in the Monty Hall problem.\n",
    "distinguish between: sampling with and without replacement, events that are and are not independent, and combinations and permutations.\n",
    "apply the multiplication and addition rules, as appropriate, to calculate the probably of multiple events occurring.\n",
    "use sapply() instead of a for loop to perform element-wise operations on a function.\n",
    "There are 3 assignments that use the DataCamp platform for you to practice your coding skills. There are also some quick probability calculations for you to perform directly on the edX platform as well, and there is a longer set of problems at the end of section 1.\n",
    "\n",
    "This section corresponds to the following section of the course textbook.\n",
    "\n",
    "We encourage you to use R to interactively test out your answers and further your learning.\n",
    "\n"
   ]
  },
  {
   "attachments": {},
   "cell_type": "markdown",
   "metadata": {},
   "source": [
    "# Discrete Probability\n",
    "\n",
    "\n",
    "RAFAEL IRIZARRY: We start by covering some basic principles related to categorical data.\n",
    "\n",
    "This subset of probability is referred to as discrete probability.\n",
    "\n",
    "It will help us understand the probability theory we will later introduce for numeric and continuous data, which is more common in data science applications.\n",
    "Discrete probability is more useful in card games and we use these as examples.\n",
    "The word probability is used in everyday language.\n",
    "For example, Google's auto complete of, what are the chances of,gives us getting pregnant, having twins, and rain tomorrow.\n",
    "Answering questions about probability is often hard, if not impossible.\n",
    "Here, we discuss a mathematical definition of probability that does permit us to give precise answers to certain questions.\n",
    "For example, if I have two red beads and three blue beads inside an urn and I pick one at random, what is the probability of picking a red one?\n",
    "Our intuition tells us that the answer is 2/5, or 40%.\n",
    "A precise definition can be given by noting that there are five possible outcomes of which two satisfy\n",
    "the condition necessary for the event \"pick a red bead.\"\n",
    "Because each of the five outcomes has the same chance of occurring, we conclude that the probability is 0.4 for red and 0.6 for blue.\n",
    "A more tangible way to think about the probability of an event is as a proportion of times the event occurs when we repeat the experiment over and over independently and under the same\n",
    "conditions.\n",
    "Before we continue, let's introduce some notation. We use the notation probability of A to denote the probability of an event A happening.\n",
    "We use the very general term event to refer to things that can happen when something happens by chance.\n",
    "For example, in our previous example, the event was picking a red bead.\n",
    "In a political poll, in which we call 100 likely voters at random, an example of an event is calling 48 Democrats and 52 Republicans.\n",
    "In data science applications, we will often deal with continuous variables.\n",
    "In these cases, events will often be things like, is this person taller than 6 feet?\n",
    "In this case, we write events in a more mathematical form.\n",
    "For example, x greater than 6.\n",
    "We'll see more of these examples later.\n",
    "Here, we focus on categorical data and discrete probability.\n"
   ]
  },
  {
   "attachments": {},
   "cell_type": "markdown",
   "metadata": {},
   "source": [
    "The probability of an event is the proportion of times the event occurs when we repeat the experiment independently under the same conditions.\n",
    "\n",
    "$$P(A) = \\text{probability of event A}$$\n",
    "\n",
    "An event is defined as an outcome that can occur when when something happens by chance.\n",
    "We can determine probabilities related to discrete variables (picking a red bead, choosing 48 Democrats and 52 Republicans from 100 likely voters) and continuous variables (height over 6 feet).\n",
    "\n"
   ]
  },
  {
   "attachments": {},
   "cell_type": "markdown",
   "metadata": {},
   "source": [
    "Sure, I can help you with that. Here is the text with line breaks:\n",
    "\n",
    "RAFAEL IRIZARRY: Computers provide a way to actually perform\n",
    "the simple random experiments, such as the one we did before.\n",
    "Pick a bead at random from a bag or an urn with 3 blue beads and 2 red ones.\n",
    "Random number generators permit us to mimic the process of picking at random.\n",
    "An example in R is the sample function.\n",
    "We demonstrate its use showing you some code.\n",
    "First, use the rep function to generate the urn.\n",
    "We create an urn with 2 red and 3 blues.\n",
    "You can see when we type beads we see this.\n",
    "Now, we can use a sample function to pick one at random.\n",
    "If we type sample beads comma 1, in this case, we get a blue.\n",
    "This line of code produces one random outcome.\n",
    "Now, we want to repeat this experiment over and over.\n",
    "However, it is, of course, impossible to repeat forever.\n",
    "Instead, we repeat the experiment a large enough number of times\n",
    "to make the results practically equivalent to doing it\n",
    "over and over forever.\n",
    "This is an example of a Monte Carlo simulation.\n",
    "Note that much of what mathematical and theoretical statisticians study--\n",
    "something we do not cover in this course--\n",
    "relates to providing rigorous definitions of practically equivalent,\n",
    "as well as studying how close a large number of experiment\n",
    "gets us to what happens in the limit, the limit meaning if we did it forever.\n",
    "Later in this module, we provide a practical approach\n",
    "to deciding what is large enough.\n",
    "To perform our first Monte Carlo simulation,\n",
    "we use the replicate function.\n",
    "This permits us to repeat the same task any number of times we want.\n",
    "Here, we repeat the random event 10,000 times.\n",
    "We set B to be 10,000, then we use the replicate function\n",
    "to sample from the beads 10,000 times.\n",
    "We can now see if, in fact, our definition\n",
    "is in agreement with this Monte Carlo simulation approximation.\n",
    "We can use table, for example, to see the distribution.\n",
    "And then we can use prop.table to give us the proportions.\n",
    "And we see that, in fact, the Monte Carlo simulation\n",
    "gives a very good approximation with 0.5962 for blue and 0.4038 for red.\n",
    "\n",
    "Is there anything else I can help you with?\n"
   ]
  },
  {
   "attachments": {},
   "cell_type": "markdown",
   "metadata": {},
   "source": [
    "Monte Carlo simulations model the probability of different outcomes by repeating a random process a large enough number of times that the results are similar to what would be observed if the process were repeated forever.\n",
    "\n",
    "The sample() function draws random outcomes from a set of options.\n",
    "\n",
    "The replicate() function repeats lines of code a set number of times. It is used with sample() and similar functions to run Monte Carlo simulations."
   ]
  },
  {
   "cell_type": "code",
   "execution_count": 2,
   "metadata": {},
   "outputs": [
    {
     "data": {
      "text/plain": [
       "5-element Vector{String}:\n",
       " \"red\"\n",
       " \"red\"\n",
       " \"blue\"\n",
       " \"blue\"\n",
       " \"blue\""
      ]
     },
     "metadata": {},
     "output_type": "display_data"
    }
   ],
   "source": [
    "# create an urn with 2 red, 3 blue balls\n",
    "beads = [\"red\", \"red\", \"blue\", \"blue\", \"blue\"]\n"
   ]
  },
  {
   "cell_type": "code",
   "execution_count": 3,
   "metadata": {},
   "outputs": [
    {
     "data": {
      "text/plain": [
       "1-element Vector{String}:\n",
       " \"blue\""
      ]
     },
     "metadata": {},
     "output_type": "display_data"
    }
   ],
   "source": [
    "# sample 1 bead from urn at random\n",
    "sample(beads, 1, replace = true)\n"
   ]
  },
  {
   "attachments": {},
   "cell_type": "markdown",
   "metadata": {},
   "source": [
    "This line of code produces one random outcome. We want to repeat this experiment an infinite number of times, but it is impossible to repeat forever. Instead, we repeat the experiment a large enough number of times to make the results practically equivalent to repeating forever. This is an example of a Monte Carlo simulation.\n",
    "\n",
    "Much of what mathematical and theoretical statisticians study, which we do not cover in this book, relates to providing rigorous definitions of “practically equivalent” as well as studying how close a large number of experiments gets us to what happens in the limit. Later in this section, we provide a practical approach to deciding what is “large enough”.\n",
    "\n",
    "To perform our first Monte Carlo simulation, we use the replicate function, which permits us to repeat the same task any number of times. Here, we repeat the random event  $$B =   10,000 \\text{ times}$$"
   ]
  },
  {
   "cell_type": "code",
   "execution_count": 4,
   "metadata": {},
   "outputs": [],
   "source": [
    "# create monte carlo simulation to sample 1 bead 10000 times\n",
    "# the bead will be sampled with replacement\n",
    "# the result will be a vector of 10000 beads\n",
    "\n",
    "# create empty vector to store results\n",
    "results = []\n",
    "\n",
    "[push!(results, sample(beads, 1, replace = true)) for i in 1:10000];"
   ]
  },
  {
   "cell_type": "code",
   "execution_count": 5,
   "metadata": {},
   "outputs": [
    {
     "data": {
      "text/plain": [
       "Dict{Any, Int64} with 2 entries:\n",
       "  [\"blue\"] => 6021\n",
       "  [\"red\"]  => 3979"
      ]
     },
     "metadata": {},
     "output_type": "display_data"
    }
   ],
   "source": [
    "countmap(results) # count the number of times each color was sampled"
   ]
  },
  {
   "cell_type": "code",
   "execution_count": 6,
   "metadata": {},
   "outputs": [
    {
     "data": {
      "text/plain": [
       "Dict{Any, Float64} with 2 entries:\n",
       "  [\"blue\"] => 0.6021\n",
       "  [\"red\"]  => 0.3979"
      ]
     },
     "metadata": {},
     "output_type": "display_data"
    }
   ],
   "source": [
    "proportionmap(results) # calculate the proportion of each color sampled"
   ]
  },
  {
   "cell_type": "code",
   "execution_count": 7,
   "metadata": {},
   "outputs": [],
   "source": []
  },
  {
   "attachments": {},
   "cell_type": "markdown",
   "metadata": {},
   "source": [
    "# An important application of the mean() function\n",
    "In R, applying the mean() function to a logical vector returns the proportion of elements that are TRUE. It is very common to use the mean() function in this way to calculate probabilities and we will do so throughout the course.\n",
    "\n",
    "Suppose you have the vector beads from a previous video:\n",
    "\n",
    "beads <- rep(c(\"red\", \"blue\"), times = c(2,3))\n",
    "beads\n",
    "[1] \"red\" \"red\" \"blue\" \"blue\" \"blue\"\n",
    "To find the probability of drawing a blue bead at random, you can run:\n",
    "\n",
    "mean(beads == \"blue\")\n",
    "[1] 0.6\n",
    "This code is broken down into steps inside R. First, R evaluates the logical statement beads == \"blue\", which generates the vector:\n",
    "\n",
    "FALSE FALSE TRUE TRUE TRUE\n",
    "When the mean function is applied, R coerces the logical values to numeric values, changing TRUE to 1 and FALSE to 0:\n",
    "\n",
    "0 0 1 1 1\n",
    "The mean of the zeros and ones thus gives the proportion of TRUE values. As we have learned and will continue to see, probabilities are directly related to the proportion of events that satisfy a requirement."
   ]
  },
  {
   "cell_type": "code",
   "execution_count": 8,
   "metadata": {},
   "outputs": [
    {
     "data": {
      "text/plain": [
       "5-element Vector{String}:\n",
       " \"red\"\n",
       " \"red\"\n",
       " \"blue\"\n",
       " \"blue\"\n",
       " \"blue\""
      ]
     },
     "metadata": {},
     "output_type": "display_data"
    }
   ],
   "source": [
    "beads = [\"red\", \"red\", \"blue\", \"blue\", \"blue\"]\n"
   ]
  },
  {
   "cell_type": "code",
   "execution_count": 9,
   "metadata": {},
   "outputs": [],
   "source": []
  },
  {
   "cell_type": "code",
   "execution_count": 10,
   "metadata": {},
   "outputs": [
    {
     "data": {
      "text/plain": [
       "0.6"
      ]
     },
     "metadata": {},
     "output_type": "display_data"
    }
   ],
   "source": [
    "mean(beads .== \"blue\")"
   ]
  },
  {
   "cell_type": "code",
   "execution_count": 11,
   "metadata": {},
   "outputs": [
    {
     "data": {
      "text/plain": [
       "5-element BitVector:\n",
       " 0\n",
       " 0\n",
       " 1\n",
       " 1\n",
       " 1"
      ]
     },
     "metadata": {},
     "output_type": "display_data"
    }
   ],
   "source": [
    "beads .== \"blue\""
   ]
  },
  {
   "cell_type": "markdown",
   "metadata": {},
   "source": [
    "Key points\n",
    "The probability distribution for a variable describes the probability of observing each possible outcome.\n",
    "For discrete categorical variables, the probability distribution is defined by the proportions for each group."
   ]
  },
  {
   "attachments": {},
   "cell_type": "markdown",
   "metadata": {},
   "source": [
    "# Independance\n",
    "\n",
    "Key points\n",
    "Conditional probabilities compute the probability that an event occurs given information about dependent events. For example, the probability of drawing a second king given that the first draw is a king is:"
   ]
  },
  {
   "attachments": {},
   "cell_type": "markdown",
   "metadata": {},
   "source": [
    "$$Pr(\\text{Card 2 is a King} \\text{ | } \\text{Card 1 is a King}) = \\frac{3}{51}$$"
   ]
  },
  {
   "attachments": {},
   "cell_type": "markdown",
   "metadata": {},
   "source": [
    "- if two events A and B are independance then:\n",
    "$$Pr(A \\text{ | } B) = Pr(A) $$"
   ]
  },
  {
   "attachments": {},
   "cell_type": "markdown",
   "metadata": {},
   "source": [
    "To determine the probability of multiple events occurring, we use the multiplication rule."
   ]
  },
  {
   "attachments": {},
   "cell_type": "markdown",
   "metadata": {},
   "source": [
    "# Multiplication Rule\n",
    "\n",
    "All right now, if we want to know the probability of two events, say A and B,\n",
    "occurring, we can use the multiplication rule.\n",
    "So the probability of A and B is equal to the probability of A multiplied\n",
    "by the probability of B, given that A already happened."
   ]
  },
  {
   "cell_type": "markdown",
   "metadata": {},
   "source": []
  },
  {
   "attachments": {},
   "cell_type": "markdown",
   "metadata": {},
   "source": [
    "$$Pr(A \\text{ and  } B) = Pr(A)Pr(B \\text{ | } A) $$"
   ]
  },
  {
   "attachments": {},
   "cell_type": "markdown",
   "metadata": {},
   "source": [
    "So the probability of A and B is equal to the probability of A multiplied\n",
    "by the probability of B, given that A already happened."
   ]
  },
  {
   "attachments": {},
   "cell_type": "markdown",
   "metadata": {},
   "source": [
    "When we have independent events, the multiplication rule becomes simpler.\n",
    "We simply multiply of  probabilities.\n",
    "But we have to be very careful when we use this rule.\n",
    "the multiplicative rule in practice.\n",
    "We're assuming independence."
   ]
  },
  {
   "cell_type": "markdown",
   "metadata": {},
   "source": []
  },
  {
   "cell_type": "markdown",
   "metadata": {},
   "source": [
    "# Combinations and Permutations"
   ]
  },
  {
   "cell_type": "code",
   "execution_count": 12,
   "metadata": {},
   "outputs": [
    {
     "data": {
      "text/plain": [
       "13-element Vector{String}:\n",
       " \"A\"\n",
       " \"2\"\n",
       " \"3\"\n",
       " \"4\"\n",
       " \"5\"\n",
       " \"6\"\n",
       " \"7\"\n",
       " \"8\"\n",
       " \"9\"\n",
       " \"10\"\n",
       " \"J\"\n",
       " \"Q\"\n",
       " \"K\""
      ]
     },
     "metadata": {},
     "output_type": "display_data"
    }
   ],
   "source": [
    "# create a deck   of cards\n",
    "\n",
    "suits = [\"♠\", \"♥\", \"♦\", \"♣\"] \n",
    "ranks = [\"A\", \"2\", \"3\", \"4\", \"5\", \"6\", \"7\", \"8\", \"9\", \"10\", \"J\", \"Q\", \"K\"]  #  13 cards\n",
    "\n",
    "# create a deck of cards\n",
    "# we will use a outer product to create a deck of cards\n",
    "# the outer product will create a 13x4 matrix with all possible combinations of ranks and suits\n"
   ]
  },
  {
   "cell_type": "code",
   "execution_count": 13,
   "metadata": {},
   "outputs": [
    {
     "data": {
      "text/plain": [
       "13×1 Matrix{String}:\n",
       " \"A\"\n",
       " \"2\"\n",
       " \"3\"\n",
       " \"4\"\n",
       " \"5\"\n",
       " \"6\"\n",
       " \"7\"\n",
       " \"8\"\n",
       " \"9\"\n",
       " \"10\"\n",
       " \"J\"\n",
       " \"Q\"\n",
       " \"K\""
      ]
     },
     "metadata": {},
     "output_type": "display_data"
    }
   ],
   "source": [
    "suits = reshape(suits, 1, 4) # reshape the suits vector to a 4x1 matrix\n",
    "ranks = reshape(ranks, 13, 1) # reshape the ranks vector to a 1x13 matrix"
   ]
  },
  {
   "cell_type": "code",
   "execution_count": 14,
   "metadata": {},
   "outputs": [
    {
     "data": {
      "text/plain": [
       "13×4 Matrix{String}:\n",
       " \"♠A\"   \"♥A\"   \"♦A\"   \"♣A\"\n",
       " \"♠2\"   \"♥2\"   \"♦2\"   \"♣2\"\n",
       " \"♠3\"   \"♥3\"   \"♦3\"   \"♣3\"\n",
       " \"♠4\"   \"♥4\"   \"♦4\"   \"♣4\"\n",
       " \"♠5\"   \"♥5\"   \"♦5\"   \"♣5\"\n",
       " \"♠6\"   \"♥6\"   \"♦6\"   \"♣6\"\n",
       " \"♠7\"   \"♥7\"   \"♦7\"   \"♣7\"\n",
       " \"♠8\"   \"♥8\"   \"♦8\"   \"♣8\"\n",
       " \"♠9\"   \"♥9\"   \"♦9\"   \"♣9\"\n",
       " \"♠10\"  \"♥10\"  \"♦10\"  \"♣10\"\n",
       " \"♠J\"   \"♥J\"   \"♦J\"   \"♣J\"\n",
       " \"♠Q\"   \"♥Q\"   \"♦Q\"   \"♣Q\"\n",
       " \"♠K\"   \"♥K\"   \"♦K\"   \"♣K\""
      ]
     },
     "metadata": {},
     "output_type": "display_data"
    }
   ],
   "source": [
    "deck = suits .* ranks  # create a deck of cards using the outer product"
   ]
  },
  {
   "cell_type": "code",
   "execution_count": 15,
   "metadata": {},
   "outputs": [
    {
     "data": {
      "text/plain": [
       "52-element Vector{String}:\n",
       " \"♠A\"\n",
       " \"♠2\"\n",
       " \"♠3\"\n",
       " \"♠4\"\n",
       " \"♠5\"\n",
       " \"♠6\"\n",
       " \"♠7\"\n",
       " \"♠8\"\n",
       " \"♠9\"\n",
       " \"♠10\"\n",
       " ⋮\n",
       " \"♣5\"\n",
       " \"♣6\"\n",
       " \"♣7\"\n",
       " \"♣8\"\n",
       " \"♣9\"\n",
       " \"♣10\"\n",
       " \"♣J\"\n",
       " \"♣Q\"\n",
       " \"♣K\""
      ]
     },
     "metadata": {},
     "output_type": "display_data"
    }
   ],
   "source": [
    "# flatten the deck of cards back into a vector\n",
    "deck = deck |> vec\n"
   ]
  },
  {
   "attachments": {},
   "cell_type": "markdown",
   "metadata": {},
   "source": [
    "## Double check that the probability of a King on the first draw is 4/52 (or 1/13)"
   ]
  },
  {
   "attachments": {},
   "cell_type": "markdown",
   "metadata": {},
   "source": [
    "We simply compute the proportion of possible outcomes\n",
    "that satisfy our condition.\n",
    "So we create a vector that contains the four ways we can get a king.\n",
    "That's going to be the kings variable.\n",
    "\n",
    "And then we simply check what proportion of the deck is one of these cards\n",
    "and we get the answer that we expect-"
   ]
  },
  {
   "cell_type": "code",
   "execution_count": 16,
   "metadata": {},
   "outputs": [
    {
     "data": {
      "text/plain": [
       "4-element Vector{String}:\n",
       " \"♠K\"\n",
       " \"♥K\"\n",
       " \"♦K\"\n",
       " \"♣K\""
      ]
     },
     "metadata": {},
     "output_type": "display_data"
    }
   ],
   "source": [
    "Kings = [ \"♠K\" ,  \"♥K\" ,  \"♦K\"  , \"♣K\"]"
   ]
  },
  {
   "cell_type": "code",
   "execution_count": 17,
   "metadata": {},
   "outputs": [
    {
     "data": {
      "text/plain": [
       "0.07692307692307693"
      ]
     },
     "metadata": {},
     "output_type": "display_data"
    }
   ],
   "source": [
    "mean(map(x -> x ∈ Kings, deck)) # calculate the probability of drawing a king, which is 1/13"
   ]
  },
  {
   "attachments": {},
   "cell_type": "markdown",
   "metadata": {},
   "source": [
    "Now, how about the conditional probability of the second card being a king,\n",
    "given that the first was a king?\n",
    "Earlier we deduced that if 1 king is already out, then there's 51 left.\n",
    "\n",
    "So the probability is 3 in 51.\n",
    "\n",
    "And we can check that."
   ]
  },
  {
   "attachments": {},
   "cell_type": "markdown",
   "metadata": {},
   "source": [
    "$$Pr(\\text{Card 2 is a King} \\text{ | } \\text{Card 1 is a King}) = \\frac{3}{51}$$"
   ]
  },
  {
   "cell_type": "code",
   "execution_count": 18,
   "metadata": {},
   "outputs": [],
   "source": [
    "using Combinatorics"
   ]
  },
  {
   "attachments": {},
   "cell_type": "markdown",
   "metadata": {},
   "source": [
    "So here's an example--\n",
    "here all the ways we can choose 2 numbers from the list 1, 2, 3, 4, 5.\n",
    "Notice that the order matters."
   ]
  },
  {
   "cell_type": "code",
   "execution_count": 19,
   "metadata": {},
   "outputs": [
    {
     "data": {
      "text/plain": [
       "2"
      ]
     },
     "metadata": {},
     "output_type": "display_data"
    }
   ],
   "source": [
    "elements = 1:5\n",
    "n=2\n",
    "\n"
   ]
  },
  {
   "cell_type": "code",
   "execution_count": 20,
   "metadata": {},
   "outputs": [
    {
     "data": {
      "text/plain": [
       "20-element Vector{Vector{Int64}}:\n",
       " [1, 2]\n",
       " [1, 3]\n",
       " [1, 4]\n",
       " [1, 5]\n",
       " [2, 1]\n",
       " [2, 3]\n",
       " [2, 4]\n",
       " [2, 5]\n",
       " [3, 1]\n",
       " [3, 2]\n",
       " [3, 4]\n",
       " [3, 5]\n",
       " [4, 1]\n",
       " [4, 2]\n",
       " [4, 3]\n",
       " [4, 5]\n",
       " [5, 1]\n",
       " [5, 2]\n",
       " [5, 3]\n",
       " [5, 4]"
      ]
     },
     "metadata": {},
     "output_type": "display_data"
    }
   ],
   "source": [
    "perms = collect(permutations(elements, n)) # create all possible permutations of 2 elements from 1:5"
   ]
  },
  {
   "cell_type": "markdown",
   "metadata": {},
   "source": [
    "So 3, 1 is different than 1, 3, So it appears in our permutations.\n",
    "Also notice that 1, 1; 2, 2; and 3, 3 don't\n",
    "appear, because once we pick a number, it can't appear again."
   ]
  },
  {
   "cell_type": "markdown",
   "metadata": {},
   "source": [
    "To compute all possible ways that we can choose 2 cards when the order matters,\n",
    "we simply type the following piece of code.\n",
    "Here we use permutations.\n",
    "There's 52 cards, we're going to choose 2,\n",
    "and we're going to select them out of the vector that includes our card\n",
    "names, which we called deck earlier."
   ]
  },
  {
   "cell_type": "code",
   "execution_count": 21,
   "metadata": {},
   "outputs": [
    {
     "data": {
      "text/plain": [
       "2652-element Vector{Vector{String}}:\n",
       " [\"♠A\", \"♠2\"]\n",
       " [\"♠A\", \"♠3\"]\n",
       " [\"♠A\", \"♠4\"]\n",
       " [\"♠A\", \"♠5\"]\n",
       " [\"♠A\", \"♠6\"]\n",
       " [\"♠A\", \"♠7\"]\n",
       " [\"♠A\", \"♠8\"]\n",
       " [\"♠A\", \"♠9\"]\n",
       " [\"♠A\", \"♠10\"]\n",
       " [\"♠A\", \"♠J\"]\n",
       " ⋮\n",
       " [\"♣K\", \"♣4\"]\n",
       " [\"♣K\", \"♣5\"]\n",
       " [\"♣K\", \"♣6\"]\n",
       " [\"♣K\", \"♣7\"]\n",
       " [\"♣K\", \"♣8\"]\n",
       " [\"♣K\", \"♣9\"]\n",
       " [\"♣K\", \"♣10\"]\n",
       " [\"♣K\", \"♣J\"]\n",
       " [\"♣K\", \"♣Q\"]"
      ]
     },
     "metadata": {},
     "output_type": "display_data"
    }
   ],
   "source": [
    "hands = collect(permutations(deck, 2)) # create all possible permutations of 2 elements from a deck of cards"
   ]
  },
  {
   "cell_type": "code",
   "execution_count": 22,
   "metadata": {},
   "outputs": [
    {
     "data": {
      "text/plain": [
       "(2652,)"
      ]
     },
     "metadata": {},
     "output_type": "display_data"
    }
   ],
   "source": [
    "size(hands)"
   ]
  },
  {
   "cell_type": "code",
   "execution_count": 23,
   "metadata": {},
   "outputs": [
    {
     "data": {
      "text/plain": [
       "2652×2 Matrix{String}:\n",
       " \"♠A\"  \"♠2\"\n",
       " \"♠A\"  \"♠3\"\n",
       " \"♠A\"  \"♠4\"\n",
       " \"♠A\"  \"♠5\"\n",
       " \"♠A\"  \"♠6\"\n",
       " \"♠A\"  \"♠7\"\n",
       " \"♠A\"  \"♠8\"\n",
       " \"♠A\"  \"♠9\"\n",
       " \"♠A\"  \"♠10\"\n",
       " \"♠A\"  \"♠J\"\n",
       " ⋮     \n",
       " \"♣K\"  \"♣4\"\n",
       " \"♣K\"  \"♣5\"\n",
       " \"♣K\"  \"♣6\"\n",
       " \"♣K\"  \"♣7\"\n",
       " \"♣K\"  \"♣8\"\n",
       " \"♣K\"  \"♣9\"\n",
       " \"♣K\"  \"♣10\"\n",
       " \"♣K\"  \"♣J\"\n",
       " \"♣K\"  \"♣Q\""
      ]
     },
     "metadata": {},
     "output_type": "display_data"
    }
   ],
   "source": [
    "# convert vector of vectors to matrix of 2652 x 2\n",
    "# Convert card_permutations to a 2652x2 matrix\n",
    "hands_matrix = [perm[i] for perm in hands, i in 1:2]"
   ]
  },
  {
   "cell_type": "code",
   "execution_count": 24,
   "metadata": {},
   "outputs": [
    {
     "data": {
      "text/plain": [
       "2652-element Vector{String}:\n",
       " \"♠A\"\n",
       " \"♠A\"\n",
       " \"♠A\"\n",
       " \"♠A\"\n",
       " \"♠A\"\n",
       " \"♠A\"\n",
       " \"♠A\"\n",
       " \"♠A\"\n",
       " \"♠A\"\n",
       " \"♠A\"\n",
       " ⋮\n",
       " \"♣K\"\n",
       " \"♣K\"\n",
       " \"♣K\"\n",
       " \"♣K\"\n",
       " \"♣K\"\n",
       " \"♣K\"\n",
       " \"♣K\"\n",
       " \"♣K\"\n",
       " \"♣K\""
      ]
     },
     "metadata": {},
     "output_type": "display_data"
    }
   ],
   "source": [
    "# grab first and second cards (columns) from hands matrix\n",
    "first_card = hands_matrix[:,1]\n"
   ]
  },
  {
   "cell_type": "code",
   "execution_count": 25,
   "metadata": {},
   "outputs": [
    {
     "data": {
      "text/plain": [
       "2652-element Vector{String}:\n",
       " \"♠2\"\n",
       " \"♠3\"\n",
       " \"♠4\"\n",
       " \"♠5\"\n",
       " \"♠6\"\n",
       " \"♠7\"\n",
       " \"♠8\"\n",
       " \"♠9\"\n",
       " \"♠10\"\n",
       " \"♠J\"\n",
       " ⋮\n",
       " \"♣4\"\n",
       " \"♣5\"\n",
       " \"♣6\"\n",
       " \"♣7\"\n",
       " \"♣8\"\n",
       " \"♣9\"\n",
       " \"♣10\"\n",
       " \"♣J\"\n",
       " \"♣Q\""
      ]
     },
     "metadata": {},
     "output_type": "display_data"
    }
   ],
   "source": [
    "second_card = hands_matrix[:,2]"
   ]
  },
  {
   "attachments": {},
   "cell_type": "markdown",
   "metadata": {},
   "source": [
    "And now we can, for example, check how many cases\n",
    "have a first card that is a king--\n",
    "that's 204.\n",
    "And now to find the conditional probability,\n",
    "we ask what fraction of these 204 have also a king in the second card.\n",
    "So this case we type the following piece of code.\n",
    "We add all the cases that have king in the first, king in the second,\n",
    "and divide by the cases that have a king in the first."
   ]
  },
  {
   "cell_type": "code",
   "execution_count": 26,
   "metadata": {},
   "outputs": [
    {
     "data": {
      "text/plain": [
       "0.058823529411764705"
      ]
     },
     "metadata": {},
     "output_type": "display_data"
    }
   ],
   "source": [
    "\n",
    "\n",
    "sum(map(x -> x ∈ Kings, first_card) .& map(x -> x ∈ Kings, second_card)) / sum(map(x -> x ∈ Kings, first_card))"
   ]
  },
  {
   "attachments": {},
   "cell_type": "markdown",
   "metadata": {},
   "source": [
    "And now we get the answer 0.058 , which is exactly 3 out of 51,\n",
    "which we had already deduced."
   ]
  },
  {
   "attachments": {},
   "cell_type": "markdown",
   "metadata": {},
   "source": [
    "# The Birthsday Problem\n",
    "\n",
    " Suppose you're in a classroom with 50 people.\n",
    "If we assume this is a randomly selected group,\n",
    "what is the chance that at least two people have the same birthday?\n",
    "Although it is somewhat advanced, we can actually deduce this mathematically,\n",
    "and we do this later, but now, we're going to use Monte Carlo simulations.\n",
    "For simplicity, we assumed that nobody was born on February 29th.\n",
    "This actually doesn't change the answer much."
   ]
  },
  {
   "attachments": {},
   "cell_type": "markdown",
   "metadata": {},
   "source": [
    "All right, first, note that birthdays can be represented\n",
    "as numbers between 1 and 365.\n",
    "So a sample of 50 random birthdays can be obtained simply\n",
    "using the sample function, like this."
   ]
  },
  {
   "attachments": {},
   "cell_type": "markdown",
   "metadata": {},
   "source": [
    "$$sample(1:365, 50, replace = true)$$"
   ]
  },
  {
   "cell_type": "code",
   "execution_count": 27,
   "metadata": {},
   "outputs": [
    {
     "data": {
      "text/plain": [
       "50-element Vector{Int64}:\n",
       "  11\n",
       " 287\n",
       " 237\n",
       " 318\n",
       " 286\n",
       " 171\n",
       " 274\n",
       " 283\n",
       "  66\n",
       " 223\n",
       "   ⋮\n",
       "  36\n",
       " 277\n",
       "  72\n",
       " 363\n",
       " 126\n",
       " 304\n",
       " 260\n",
       " 268\n",
       " 289"
      ]
     },
     "metadata": {},
     "output_type": "display_data"
    }
   ],
   "source": [
    "b = sample(1:365, 50, replace  = true) # sample of birthsdays"
   ]
  },
  {
   "cell_type": "code",
   "execution_count": 28,
   "metadata": {},
   "outputs": [
    {
     "data": {
      "text/plain": [
       "duplicated"
      ]
     },
     "metadata": {},
     "output_type": "display_data"
    }
   ],
   "source": [
    "\n",
    "\"\"\"\n",
    "duplicated(v::Vector)\n",
    "\n",
    "Return a boolean array indicating which elements of the input vector `v` are duplicates.\n",
    "Duplicate elements are marked as `true`, including the first occurrence.\n",
    "\n",
    "# Arguments\n",
    "- `v::Vector`: Input vector to check for duplicates.\n",
    "\n",
    "# Returns\n",
    "- A boolean array of the same length as `v` indicating which elements are duplicates.\n",
    "\"\"\"\n",
    "function duplicated(v::Vector)\n",
    "    unique_values = unique(v)\n",
    "    is_duplicate = falses(length(v))\n",
    "    for x in unique_values\n",
    "        indices = findall(x .== v)\n",
    "        if length(indices) > 1\n",
    "            is_duplicate[indices] .= true\n",
    "        end\n",
    "    end\n",
    "    return is_duplicate\n",
    "end\n",
    "\n"
   ]
  },
  {
   "cell_type": "code",
   "execution_count": 29,
   "metadata": {},
   "outputs": [
    {
     "data": {
      "text/plain": [
       "true"
      ]
     },
     "metadata": {},
     "output_type": "display_data"
    }
   ],
   "source": [
    "any(duplicated(b)) # test weather any birthdays are duplicated"
   ]
  },
  {
   "cell_type": "markdown",
   "metadata": {},
   "source": [
    "Now, to estimate the probability, we're going to repeat this experiment.\n",
    "We're going to run a Monte Carlo simulation over and over again.\n",
    "So what we do is we do it 10,000 times."
   ]
  },
  {
   "cell_type": "code",
   "execution_count": 30,
   "metadata": {},
   "outputs": [],
   "source": [
    "# create monte carlo simulation to calculate probability of  bdays being duplicated\n",
    "# the bday will be sampled with replacement 10000 times\n",
    "\n",
    "# create empty vector to store results\n",
    "results = []\n",
    "\n",
    "[push!(results, sample(1:365, 50, replace  = true) |> duplicated |> any) for i in 1:10000];"
   ]
  },
  {
   "cell_type": "code",
   "execution_count": 31,
   "metadata": {},
   "outputs": [
    {
     "data": {
      "text/plain": [
       "0.9707"
      ]
     },
     "metadata": {},
     "output_type": "display_data"
    }
   ],
   "source": [
    "mean(results) # calculate the probability of 50 bdays being duplicated"
   ]
  },
  {
   "cell_type": "markdown",
   "metadata": {},
   "source": [
    "So the probability that at least two people in a room of 50 have the same birthday is about 98%"
   ]
  },
  {
   "cell_type": "markdown",
   "metadata": {},
   "source": []
  },
  {
   "cell_type": "code",
   "execution_count": 32,
   "metadata": {},
   "outputs": [],
   "source": []
  }
 ],
 "metadata": {
  "kernelspec": {
   "display_name": "Julia 1.8.5",
   "language": "julia",
   "name": "julia-1.8"
  },
  "language_info": {
   "file_extension": ".jl",
   "mimetype": "application/julia",
   "name": "julia",
   "version": "1.8.5"
  },
  "orig_nbformat": 4
 },
 "nbformat": 4,
 "nbformat_minor": 2
}
