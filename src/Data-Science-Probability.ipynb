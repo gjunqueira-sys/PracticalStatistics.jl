{
 "cells": [
  {
   "cell_type": "code",
   "execution_count": 3,
   "metadata": {},
   "outputs": [
    {
     "data": {
      "text/plain": [
       "fib (generic function with 1 method)"
      ]
     },
     "metadata": {},
     "output_type": "display_data"
    }
   ],
   "source": [
    "using StatsBase\n",
    "using Tables\n",
    "\n",
    "# fibonnaci sequence\n",
    "function fib(n)\n",
    "    if n < 2\n",
    "        return n\n",
    "    else\n",
    "        return fib(n-1) + fib(n-2)\n",
    "    end\n",
    "end\n",
    "\n",
    "# generate a random number from a fibonnaci sequence\n",
    "\n",
    "\n"
   ]
  },
  {
   "cell_type": "code",
   "execution_count": 4,
   "metadata": {},
   "outputs": [],
   "source": [
    "using Plots"
   ]
  },
  {
   "attachments": {},
   "cell_type": "markdown",
   "metadata": {},
   "source": [
    "# Section 1 Overview\n",
    "\n",
    "Section 1 introduces you to Discrete Probability. Section 1 is divided into three parts:\n",
    "\n",
    "Introduction to Discrete Probability\n",
    "Combinations and Permutations\n",
    "Addition Rule and Monty Hall\n",
    "After completing Section 1, you will be able to:\n",
    "\n",
    "apply basic probability theory to categorical data.\n",
    "perform a Monte Carlo simulation to approximate the results of repeating an experiment over and over, including simulating the outcomes in the Monty Hall problem.\n",
    "distinguish between: sampling with and without replacement, events that are and are not independent, and combinations and permutations.\n",
    "apply the multiplication and addition rules, as appropriate, to calculate the probably of multiple events occurring.\n",
    "use sapply() instead of a for loop to perform element-wise operations on a function.\n",
    "There are 3 assignments that use the DataCamp platform for you to practice your coding skills. There are also some quick probability calculations for you to perform directly on the edX platform as well, and there is a longer set of problems at the end of section 1.\n",
    "\n",
    "This section corresponds to the following section of the course textbook.\n",
    "\n",
    "We encourage you to use R to interactively test out your answers and further your learning.\n",
    "\n"
   ]
  },
  {
   "attachments": {},
   "cell_type": "markdown",
   "metadata": {},
   "source": [
    "# Discrete Probability\n",
    "\n",
    "\n",
    "RAFAEL IRIZARRY: We start by covering some basic principles related to categorical data.\n",
    "\n",
    "This subset of probability is referred to as discrete probability.\n",
    "\n",
    "It will help us understand the probability theory we will later introduce for numeric and continuous data, which is more common in data science applications.\n",
    "Discrete probability is more useful in card games and we use these as examples.\n",
    "The word probability is used in everyday language.\n",
    "For example, Google's auto complete of, what are the chances of,gives us getting pregnant, having twins, and rain tomorrow.\n",
    "Answering questions about probability is often hard, if not impossible.\n",
    "Here, we discuss a mathematical definition of probability that does permit us to give precise answers to certain questions.\n",
    "For example, if I have two red beads and three blue beads inside an urn and I pick one at random, what is the probability of picking a red one?\n",
    "Our intuition tells us that the answer is 2/5, or 40%.\n",
    "A precise definition can be given by noting that there are five possible outcomes of which two satisfy\n",
    "the condition necessary for the event \"pick a red bead.\"\n",
    "Because each of the five outcomes has the same chance of occurring, we conclude that the probability is 0.4 for red and 0.6 for blue.\n",
    "A more tangible way to think about the probability of an event is as a proportion of times the event occurs when we repeat the experiment over and over independently and under the same\n",
    "conditions.\n",
    "Before we continue, let's introduce some notation. We use the notation probability of A to denote the probability of an event A happening.\n",
    "We use the very general term event to refer to things that can happen when something happens by chance.\n",
    "For example, in our previous example, the event was picking a red bead.\n",
    "In a political poll, in which we call 100 likely voters at random, an example of an event is calling 48 Democrats and 52 Republicans.\n",
    "In data science applications, we will often deal with continuous variables.\n",
    "In these cases, events will often be things like, is this person taller than 6 feet?\n",
    "In this case, we write events in a more mathematical form.\n",
    "For example, x greater than 6.\n",
    "We'll see more of these examples later.\n",
    "Here, we focus on categorical data and discrete probability.\n"
   ]
  },
  {
   "attachments": {},
   "cell_type": "markdown",
   "metadata": {},
   "source": [
    "The probability of an event is the proportion of times the event occurs when we repeat the experiment independently under the same conditions.\n",
    "\n",
    "$$P(A) = \\text{probability of event A}$$\n",
    "\n",
    "An event is defined as an outcome that can occur when when something happens by chance.\n",
    "We can determine probabilities related to discrete variables (picking a red bead, choosing 48 Democrats and 52 Republicans from 100 likely voters) and continuous variables (height over 6 feet).\n",
    "\n"
   ]
  },
  {
   "attachments": {},
   "cell_type": "markdown",
   "metadata": {},
   "source": [
    "Sure, I can help you with that. Here is the text with line breaks:\n",
    "\n",
    "RAFAEL IRIZARRY: Computers provide a way to actually perform\n",
    "the simple random experiments, such as the one we did before.\n",
    "Pick a bead at random from a bag or an urn with 3 blue beads and 2 red ones.\n",
    "Random number generators permit us to mimic the process of picking at random.\n",
    "An example in R is the sample function.\n",
    "We demonstrate its use showing you some code.\n",
    "First, use the rep function to generate the urn.\n",
    "We create an urn with 2 red and 3 blues.\n",
    "You can see when we type beads we see this.\n",
    "Now, we can use a sample function to pick one at random.\n",
    "If we type sample beads comma 1, in this case, we get a blue.\n",
    "This line of code produces one random outcome.\n",
    "Now, we want to repeat this experiment over and over.\n",
    "However, it is, of course, impossible to repeat forever.\n",
    "Instead, we repeat the experiment a large enough number of times\n",
    "to make the results practically equivalent to doing it\n",
    "over and over forever.\n",
    "This is an example of a Monte Carlo simulation.\n",
    "Note that much of what mathematical and theoretical statisticians study--\n",
    "something we do not cover in this course--\n",
    "relates to providing rigorous definitions of practically equivalent,\n",
    "as well as studying how close a large number of experiment\n",
    "gets us to what happens in the limit, the limit meaning if we did it forever.\n",
    "Later in this module, we provide a practical approach\n",
    "to deciding what is large enough.\n",
    "To perform our first Monte Carlo simulation,\n",
    "we use the replicate function.\n",
    "This permits us to repeat the same task any number of times we want.\n",
    "Here, we repeat the random event 10,000 times.\n",
    "We set B to be 10,000, then we use the replicate function\n",
    "to sample from the beads 10,000 times.\n",
    "We can now see if, in fact, our definition\n",
    "is in agreement with this Monte Carlo simulation approximation.\n",
    "We can use table, for example, to see the distribution.\n",
    "And then we can use prop.table to give us the proportions.\n",
    "And we see that, in fact, the Monte Carlo simulation\n",
    "gives a very good approximation with 0.5962 for blue and 0.4038 for red.\n",
    "\n",
    "Is there anything else I can help you with?\n"
   ]
  },
  {
   "attachments": {},
   "cell_type": "markdown",
   "metadata": {},
   "source": [
    "Monte Carlo simulations model the probability of different outcomes by repeating a random process a large enough number of times that the results are similar to what would be observed if the process were repeated forever.\n",
    "\n",
    "The sample() function draws random outcomes from a set of options.\n",
    "\n",
    "The replicate() function repeats lines of code a set number of times. It is used with sample() and similar functions to run Monte Carlo simulations."
   ]
  },
  {
   "cell_type": "code",
   "execution_count": 5,
   "metadata": {},
   "outputs": [
    {
     "data": {
      "text/plain": [
       "5-element Vector{String}:\n",
       " \"red\"\n",
       " \"red\"\n",
       " \"blue\"\n",
       " \"blue\"\n",
       " \"blue\""
      ]
     },
     "metadata": {},
     "output_type": "display_data"
    }
   ],
   "source": [
    "# create an urn with 2 red, 3 blue balls\n",
    "beads = [\"red\", \"red\", \"blue\", \"blue\", \"blue\"]\n"
   ]
  },
  {
   "cell_type": "code",
   "execution_count": 6,
   "metadata": {},
   "outputs": [
    {
     "data": {
      "text/plain": [
       "1-element Vector{String}:\n",
       " \"blue\""
      ]
     },
     "metadata": {},
     "output_type": "display_data"
    }
   ],
   "source": [
    "# sample 1 bead from urn at random\n",
    "sample(beads, 1, replace = true)\n"
   ]
  },
  {
   "attachments": {},
   "cell_type": "markdown",
   "metadata": {},
   "source": [
    "This line of code produces one random outcome. We want to repeat this experiment an infinite number of times, but it is impossible to repeat forever. Instead, we repeat the experiment a large enough number of times to make the results practically equivalent to repeating forever. This is an example of a Monte Carlo simulation.\n",
    "\n",
    "Much of what mathematical and theoretical statisticians study, which we do not cover in this book, relates to providing rigorous definitions of “practically equivalent” as well as studying how close a large number of experiments gets us to what happens in the limit. Later in this section, we provide a practical approach to deciding what is “large enough”.\n",
    "\n",
    "To perform our first Monte Carlo simulation, we use the replicate function, which permits us to repeat the same task any number of times. Here, we repeat the random event  $$B =   10,000 \\text{ times}$$"
   ]
  },
  {
   "cell_type": "code",
   "execution_count": 7,
   "metadata": {},
   "outputs": [],
   "source": [
    "# create monte carlo simulation to sample 1 bead 10000 times\n",
    "# the bead will be sampled with replacement\n",
    "# the result will be a vector of 10000 beads\n",
    "\n",
    "# create empty vector to store results\n",
    "results = []\n",
    "\n",
    "[push!(results, sample(beads, 1, replace = true)) for i in 1:10000];"
   ]
  },
  {
   "cell_type": "code",
   "execution_count": 8,
   "metadata": {},
   "outputs": [
    {
     "data": {
      "text/plain": [
       "Dict{Any, Int64} with 2 entries:\n",
       "  [\"blue\"] => 6103\n",
       "  [\"red\"]  => 3897"
      ]
     },
     "metadata": {},
     "output_type": "display_data"
    }
   ],
   "source": [
    "countmap(results) # count the number of times each color was sampled"
   ]
  },
  {
   "cell_type": "code",
   "execution_count": 9,
   "metadata": {},
   "outputs": [
    {
     "data": {
      "text/plain": [
       "Dict{Any, Float64} with 2 entries:\n",
       "  [\"blue\"] => 0.6103\n",
       "  [\"red\"]  => 0.3897"
      ]
     },
     "metadata": {},
     "output_type": "display_data"
    }
   ],
   "source": [
    "proportionmap(results) # calculate the proportion of each color sampled"
   ]
  },
  {
   "cell_type": "code",
   "execution_count": 10,
   "metadata": {},
   "outputs": [],
   "source": []
  },
  {
   "attachments": {},
   "cell_type": "markdown",
   "metadata": {},
   "source": [
    "# An important application of the mean() function\n",
    "In R, applying the mean() function to a logical vector returns the proportion of elements that are TRUE. It is very common to use the mean() function in this way to calculate probabilities and we will do so throughout the course.\n",
    "\n",
    "Suppose you have the vector beads from a previous video:\n",
    "\n",
    "beads <- rep(c(\"red\", \"blue\"), times = c(2,3))\n",
    "beads\n",
    "[1] \"red\" \"red\" \"blue\" \"blue\" \"blue\"\n",
    "To find the probability of drawing a blue bead at random, you can run:\n",
    "\n",
    "mean(beads == \"blue\")\n",
    "[1] 0.6\n",
    "This code is broken down into steps inside R. First, R evaluates the logical statement beads == \"blue\", which generates the vector:\n",
    "\n",
    "FALSE FALSE TRUE TRUE TRUE\n",
    "When the mean function is applied, R coerces the logical values to numeric values, changing TRUE to 1 and FALSE to 0:\n",
    "\n",
    "0 0 1 1 1\n",
    "The mean of the zeros and ones thus gives the proportion of TRUE values. As we have learned and will continue to see, probabilities are directly related to the proportion of events that satisfy a requirement."
   ]
  },
  {
   "cell_type": "code",
   "execution_count": 11,
   "metadata": {},
   "outputs": [
    {
     "data": {
      "text/plain": [
       "5-element Vector{String}:\n",
       " \"red\"\n",
       " \"red\"\n",
       " \"blue\"\n",
       " \"blue\"\n",
       " \"blue\""
      ]
     },
     "metadata": {},
     "output_type": "display_data"
    }
   ],
   "source": [
    "beads = [\"red\", \"red\", \"blue\", \"blue\", \"blue\"]\n"
   ]
  },
  {
   "cell_type": "code",
   "execution_count": 12,
   "metadata": {},
   "outputs": [],
   "source": []
  },
  {
   "cell_type": "code",
   "execution_count": 13,
   "metadata": {},
   "outputs": [
    {
     "data": {
      "text/plain": [
       "0.6"
      ]
     },
     "metadata": {},
     "output_type": "display_data"
    }
   ],
   "source": [
    "mean(beads .== \"blue\")"
   ]
  },
  {
   "cell_type": "code",
   "execution_count": 14,
   "metadata": {},
   "outputs": [
    {
     "data": {
      "text/plain": [
       "5-element BitVector:\n",
       " 0\n",
       " 0\n",
       " 1\n",
       " 1\n",
       " 1"
      ]
     },
     "metadata": {},
     "output_type": "display_data"
    }
   ],
   "source": [
    "beads .== \"blue\""
   ]
  },
  {
   "cell_type": "markdown",
   "metadata": {},
   "source": [
    "Key points\n",
    "The probability distribution for a variable describes the probability of observing each possible outcome.\n",
    "For discrete categorical variables, the probability distribution is defined by the proportions for each group."
   ]
  },
  {
   "attachments": {},
   "cell_type": "markdown",
   "metadata": {},
   "source": [
    "# Independance\n",
    "\n",
    "Key points\n",
    "Conditional probabilities compute the probability that an event occurs given information about dependent events. For example, the probability of drawing a second king given that the first draw is a king is:"
   ]
  },
  {
   "attachments": {},
   "cell_type": "markdown",
   "metadata": {},
   "source": [
    "$$Pr(\\text{Card 2 is a King} \\text{ | } \\text{Card 1 is a King}) = \\frac{3}{51}$$"
   ]
  },
  {
   "attachments": {},
   "cell_type": "markdown",
   "metadata": {},
   "source": [
    "- if two events A and B are independance then:\n",
    "$$Pr(A \\text{ | } B) = Pr(A) $$"
   ]
  },
  {
   "attachments": {},
   "cell_type": "markdown",
   "metadata": {},
   "source": [
    "To determine the probability of multiple events occurring, we use the multiplication rule."
   ]
  },
  {
   "attachments": {},
   "cell_type": "markdown",
   "metadata": {},
   "source": [
    "# Multiplication Rule\n",
    "\n",
    "All right now, if we want to know the probability of two events, say A and B,\n",
    "occurring, we can use the multiplication rule.\n",
    "So the probability of A and B is equal to the probability of A multiplied\n",
    "by the probability of B, given that A already happened."
   ]
  },
  {
   "attachments": {},
   "cell_type": "markdown",
   "metadata": {},
   "source": [
    "$$Pr(A \\text{ and  } B) = Pr(A)Pr(B \\text{ | } A) $$"
   ]
  },
  {
   "attachments": {},
   "cell_type": "markdown",
   "metadata": {},
   "source": [
    "So the probability of A and B is equal to the probability of A multiplied\n",
    "by the probability of B, given that A already happened."
   ]
  },
  {
   "attachments": {},
   "cell_type": "markdown",
   "metadata": {},
   "source": [
    "When we have independent events, the multiplication rule becomes simpler.\n",
    "We simply multiply of  probabilities.\n",
    "But we have to be very careful when we use this rule.\n",
    "the multiplicative rule in practice.\n",
    "We're assuming independence."
   ]
  },
  {
   "attachments": {},
   "cell_type": "markdown",
   "metadata": {},
   "source": [
    "The multiplication rule also applies to more than two events. We can use induction to expand for more events:\n",
    "\n"
   ]
  },
  {
   "attachments": {},
   "cell_type": "markdown",
   "metadata": {},
   "source": [
    "$$Pr(A \\text{ and  } B \\text{ and } C) = Pr(A)Pr(B \\text{ | } A)Pr(C \\text{ | A and B }) $$"
   ]
  },
  {
   "attachments": {},
   "cell_type": "markdown",
   "metadata": {},
   "source": [
    "## The multiplication rule also gives us a general formula for computing conditional probabilities:\n",
    "\n",
    "$$Pr(B \\text{ | } A) = \\frac{Pr(\\text{A and B})}{Pr(A)} $$"
   ]
  },
  {
   "attachments": {},
   "cell_type": "markdown",
   "metadata": {},
   "source": [
    "## Addition Rule"
   ]
  },
  {
   "attachments": {},
   "cell_type": "markdown",
   "metadata": {},
   "source": [
    "The addition rule tells us that:\n",
    "\n",
    "$$Pr(A \\ or \\ B) = Pr(A) + Pr(B) - Pr(A \\ and \\ B)$$"
   ]
  },
  {
   "attachments": {},
   "cell_type": "markdown",
   "metadata": {},
   "source": [
    "This rule is intuitive: think of a Venn diagram. If we simply add the probabilities, we count the intersection twice so we need to substract one instance."
   ]
  },
  {
   "attachments": {
    "image.png": {
     "image/png": "[encoded data removed]"
    }
   },
   "cell_type": "markdown",
   "metadata": {},
   "source": [
    "![image.png](attachment:image.png)"
   ]
  },
  {
   "cell_type": "markdown",
   "metadata": {},
   "source": [
    "# Combinations and Permutations"
   ]
  },
  {
   "cell_type": "code",
   "execution_count": 15,
   "metadata": {},
   "outputs": [
    {
     "data": {
      "text/plain": [
       "13-element Vector{String}:\n",
       " \"A\"\n",
       " \"2\"\n",
       " \"3\"\n",
       " \"4\"\n",
       " \"5\"\n",
       " \"6\"\n",
       " \"7\"\n",
       " \"8\"\n",
       " \"9\"\n",
       " \"10\"\n",
       " \"J\"\n",
       " \"Q\"\n",
       " \"K\""
      ]
     },
     "metadata": {},
     "output_type": "display_data"
    }
   ],
   "source": [
    "# create a deck   of cards\n",
    "\n",
    "suits = [\"♠\", \"♥\", \"♦\", \"♣\"] \n",
    "ranks = [\"A\", \"2\", \"3\", \"4\", \"5\", \"6\", \"7\", \"8\", \"9\", \"10\", \"J\", \"Q\", \"K\"]  #  13 cards\n",
    "\n",
    "# create a deck of cards\n",
    "# we will use a outer product to create a deck of cards\n",
    "# the outer product will create a 13x4 matrix with all possible combinations of ranks and suits\n"
   ]
  },
  {
   "cell_type": "code",
   "execution_count": 16,
   "metadata": {},
   "outputs": [
    {
     "data": {
      "text/plain": [
       "13×1 Matrix{String}:\n",
       " \"A\"\n",
       " \"2\"\n",
       " \"3\"\n",
       " \"4\"\n",
       " \"5\"\n",
       " \"6\"\n",
       " \"7\"\n",
       " \"8\"\n",
       " \"9\"\n",
       " \"10\"\n",
       " \"J\"\n",
       " \"Q\"\n",
       " \"K\""
      ]
     },
     "metadata": {},
     "output_type": "display_data"
    }
   ],
   "source": [
    "suits = reshape(suits, 1, 4) # reshape the suits vector to a 4x1 matrix\n",
    "ranks = reshape(ranks, 13, 1) # reshape the ranks vector to a 1x13 matrix"
   ]
  },
  {
   "cell_type": "code",
   "execution_count": 17,
   "metadata": {},
   "outputs": [
    {
     "data": {
      "text/plain": [
       "13×4 Matrix{String}:\n",
       " \"♠A\"   \"♥A\"   \"♦A\"   \"♣A\"\n",
       " \"♠2\"   \"♥2\"   \"♦2\"   \"♣2\"\n",
       " \"♠3\"   \"♥3\"   \"♦3\"   \"♣3\"\n",
       " \"♠4\"   \"♥4\"   \"♦4\"   \"♣4\"\n",
       " \"♠5\"   \"♥5\"   \"♦5\"   \"♣5\"\n",
       " \"♠6\"   \"♥6\"   \"♦6\"   \"♣6\"\n",
       " \"♠7\"   \"♥7\"   \"♦7\"   \"♣7\"\n",
       " \"♠8\"   \"♥8\"   \"♦8\"   \"♣8\"\n",
       " \"♠9\"   \"♥9\"   \"♦9\"   \"♣9\"\n",
       " \"♠10\"  \"♥10\"  \"♦10\"  \"♣10\"\n",
       " \"♠J\"   \"♥J\"   \"♦J\"   \"♣J\"\n",
       " \"♠Q\"   \"♥Q\"   \"♦Q\"   \"♣Q\"\n",
       " \"♠K\"   \"♥K\"   \"♦K\"   \"♣K\""
      ]
     },
     "metadata": {},
     "output_type": "display_data"
    }
   ],
   "source": [
    "deck = suits .* ranks  # create a deck of cards using the outer product"
   ]
  },
  {
   "cell_type": "code",
   "execution_count": 18,
   "metadata": {},
   "outputs": [
    {
     "data": {
      "text/plain": [
       "52-element Vector{String}:\n",
       " \"♠A\"\n",
       " \"♠2\"\n",
       " \"♠3\"\n",
       " \"♠4\"\n",
       " \"♠5\"\n",
       " \"♠6\"\n",
       " \"♠7\"\n",
       " \"♠8\"\n",
       " \"♠9\"\n",
       " \"♠10\"\n",
       " ⋮\n",
       " \"♣5\"\n",
       " \"♣6\"\n",
       " \"♣7\"\n",
       " \"♣8\"\n",
       " \"♣9\"\n",
       " \"♣10\"\n",
       " \"♣J\"\n",
       " \"♣Q\"\n",
       " \"♣K\""
      ]
     },
     "metadata": {},
     "output_type": "display_data"
    }
   ],
   "source": [
    "# flatten the deck of cards back into a vector\n",
    "deck = deck |> vec\n"
   ]
  },
  {
   "attachments": {},
   "cell_type": "markdown",
   "metadata": {},
   "source": [
    "## Double check that the probability of a King on the first draw is 4/52 (or 1/13)"
   ]
  },
  {
   "attachments": {},
   "cell_type": "markdown",
   "metadata": {},
   "source": [
    "We simply compute the proportion of possible outcomes\n",
    "that satisfy our condition.\n",
    "So we create a vector that contains the four ways we can get a king.\n",
    "That's going to be the kings variable.\n",
    "\n",
    "And then we simply check what proportion of the deck is one of these cards\n",
    "and we get the answer that we expect-"
   ]
  },
  {
   "cell_type": "code",
   "execution_count": 19,
   "metadata": {},
   "outputs": [
    {
     "data": {
      "text/plain": [
       "4-element Vector{String}:\n",
       " \"♠K\"\n",
       " \"♥K\"\n",
       " \"♦K\"\n",
       " \"♣K\""
      ]
     },
     "metadata": {},
     "output_type": "display_data"
    }
   ],
   "source": [
    "Kings = [ \"♠K\" ,  \"♥K\" ,  \"♦K\"  , \"♣K\"]"
   ]
  },
  {
   "cell_type": "code",
   "execution_count": 20,
   "metadata": {},
   "outputs": [
    {
     "data": {
      "text/plain": [
       "0.07692307692307693"
      ]
     },
     "metadata": {},
     "output_type": "display_data"
    }
   ],
   "source": [
    "mean(map(x -> x ∈ Kings, deck)) # calculate the probability of drawing a king, which is 1/13"
   ]
  },
  {
   "attachments": {},
   "cell_type": "markdown",
   "metadata": {},
   "source": [
    "Now, how about the conditional probability of the second card being a king,\n",
    "given that the first was a king?\n",
    "Earlier we deduced that if 1 king is already out, then there's 51 left.\n",
    "\n",
    "So the probability is 3 in 51.\n",
    "\n",
    "And we can check that."
   ]
  },
  {
   "attachments": {},
   "cell_type": "markdown",
   "metadata": {},
   "source": [
    "$$Pr(\\text{Card 2 is a King} \\text{ | } \\text{Card 1 is a King}) = \\frac{3}{51}$$"
   ]
  },
  {
   "cell_type": "code",
   "execution_count": 21,
   "metadata": {},
   "outputs": [],
   "source": [
    "using Combinatorics"
   ]
  },
  {
   "attachments": {},
   "cell_type": "markdown",
   "metadata": {},
   "source": [
    "So here's an example--\n",
    "here all the ways we can choose 2 numbers from the list 1, 2, 3, 4, 5.\n",
    "Notice that the order matters."
   ]
  },
  {
   "cell_type": "code",
   "execution_count": 22,
   "metadata": {},
   "outputs": [
    {
     "data": {
      "text/plain": [
       "2"
      ]
     },
     "metadata": {},
     "output_type": "display_data"
    }
   ],
   "source": [
    "elements = 1:5\n",
    "n=2\n",
    "\n"
   ]
  },
  {
   "cell_type": "code",
   "execution_count": 23,
   "metadata": {},
   "outputs": [
    {
     "data": {
      "text/plain": [
       "20-element Vector{Vector{Int64}}:\n",
       " [1, 2]\n",
       " [1, 3]\n",
       " [1, 4]\n",
       " [1, 5]\n",
       " [2, 1]\n",
       " [2, 3]\n",
       " [2, 4]\n",
       " [2, 5]\n",
       " [3, 1]\n",
       " [3, 2]\n",
       " [3, 4]\n",
       " [3, 5]\n",
       " [4, 1]\n",
       " [4, 2]\n",
       " [4, 3]\n",
       " [4, 5]\n",
       " [5, 1]\n",
       " [5, 2]\n",
       " [5, 3]\n",
       " [5, 4]"
      ]
     },
     "metadata": {},
     "output_type": "display_data"
    }
   ],
   "source": [
    "perms = collect(permutations(elements, n)) # create all possible permutations of 2 elements from 1:5"
   ]
  },
  {
   "cell_type": "markdown",
   "metadata": {},
   "source": [
    "So 3, 1 is different than 1, 3, So it appears in our permutations.\n",
    "Also notice that 1, 1; 2, 2; and 3, 3 don't\n",
    "appear, because once we pick a number, it can't appear again."
   ]
  },
  {
   "cell_type": "markdown",
   "metadata": {},
   "source": [
    "To compute all possible ways that we can choose 2 cards when the order matters,\n",
    "we simply type the following piece of code.\n",
    "Here we use permutations.\n",
    "There's 52 cards, we're going to choose 2,\n",
    "and we're going to select them out of the vector that includes our card\n",
    "names, which we called deck earlier."
   ]
  },
  {
   "cell_type": "code",
   "execution_count": 24,
   "metadata": {},
   "outputs": [
    {
     "data": {
      "text/plain": [
       "2652-element Vector{Vector{String}}:\n",
       " [\"♠A\", \"♠2\"]\n",
       " [\"♠A\", \"♠3\"]\n",
       " [\"♠A\", \"♠4\"]\n",
       " [\"♠A\", \"♠5\"]\n",
       " [\"♠A\", \"♠6\"]\n",
       " [\"♠A\", \"♠7\"]\n",
       " [\"♠A\", \"♠8\"]\n",
       " [\"♠A\", \"♠9\"]\n",
       " [\"♠A\", \"♠10\"]\n",
       " [\"♠A\", \"♠J\"]\n",
       " ⋮\n",
       " [\"♣K\", \"♣4\"]\n",
       " [\"♣K\", \"♣5\"]\n",
       " [\"♣K\", \"♣6\"]\n",
       " [\"♣K\", \"♣7\"]\n",
       " [\"♣K\", \"♣8\"]\n",
       " [\"♣K\", \"♣9\"]\n",
       " [\"♣K\", \"♣10\"]\n",
       " [\"♣K\", \"♣J\"]\n",
       " [\"♣K\", \"♣Q\"]"
      ]
     },
     "metadata": {},
     "output_type": "display_data"
    }
   ],
   "source": [
    "hands = collect(permutations(deck, 2)) # create all possible permutations of 2 elements from a deck of cards"
   ]
  },
  {
   "cell_type": "code",
   "execution_count": 25,
   "metadata": {},
   "outputs": [
    {
     "data": {
      "text/plain": [
       "(2652,)"
      ]
     },
     "metadata": {},
     "output_type": "display_data"
    }
   ],
   "source": [
    "size(hands)"
   ]
  },
  {
   "cell_type": "code",
   "execution_count": 26,
   "metadata": {},
   "outputs": [
    {
     "data": {
      "text/plain": [
       "2652×2 Matrix{String}:\n",
       " \"♠A\"  \"♠2\"\n",
       " \"♠A\"  \"♠3\"\n",
       " \"♠A\"  \"♠4\"\n",
       " \"♠A\"  \"♠5\"\n",
       " \"♠A\"  \"♠6\"\n",
       " \"♠A\"  \"♠7\"\n",
       " \"♠A\"  \"♠8\"\n",
       " \"♠A\"  \"♠9\"\n",
       " \"♠A\"  \"♠10\"\n",
       " \"♠A\"  \"♠J\"\n",
       " ⋮     \n",
       " \"♣K\"  \"♣4\"\n",
       " \"♣K\"  \"♣5\"\n",
       " \"♣K\"  \"♣6\"\n",
       " \"♣K\"  \"♣7\"\n",
       " \"♣K\"  \"♣8\"\n",
       " \"♣K\"  \"♣9\"\n",
       " \"♣K\"  \"♣10\"\n",
       " \"♣K\"  \"♣J\"\n",
       " \"♣K\"  \"♣Q\""
      ]
     },
     "metadata": {},
     "output_type": "display_data"
    }
   ],
   "source": [
    "# convert vector of vectors to matrix of 2652 x 2\n",
    "# Convert card_permutations to a 2652x2 matrix\n",
    "hands_matrix = [perm[i] for perm in hands, i in 1:2]"
   ]
  },
  {
   "cell_type": "code",
   "execution_count": 27,
   "metadata": {},
   "outputs": [
    {
     "data": {
      "text/plain": [
       "2652-element Vector{String}:\n",
       " \"♠A\"\n",
       " \"♠A\"\n",
       " \"♠A\"\n",
       " \"♠A\"\n",
       " \"♠A\"\n",
       " \"♠A\"\n",
       " \"♠A\"\n",
       " \"♠A\"\n",
       " \"♠A\"\n",
       " \"♠A\"\n",
       " ⋮\n",
       " \"♣K\"\n",
       " \"♣K\"\n",
       " \"♣K\"\n",
       " \"♣K\"\n",
       " \"♣K\"\n",
       " \"♣K\"\n",
       " \"♣K\"\n",
       " \"♣K\"\n",
       " \"♣K\""
      ]
     },
     "metadata": {},
     "output_type": "display_data"
    }
   ],
   "source": [
    "# grab first and second cards (columns) from hands matrix\n",
    "first_card = hands_matrix[:,1]\n"
   ]
  },
  {
   "cell_type": "code",
   "execution_count": 28,
   "metadata": {},
   "outputs": [
    {
     "data": {
      "text/plain": [
       "2652-element Vector{String}:\n",
       " \"♠2\"\n",
       " \"♠3\"\n",
       " \"♠4\"\n",
       " \"♠5\"\n",
       " \"♠6\"\n",
       " \"♠7\"\n",
       " \"♠8\"\n",
       " \"♠9\"\n",
       " \"♠10\"\n",
       " \"♠J\"\n",
       " ⋮\n",
       " \"♣4\"\n",
       " \"♣5\"\n",
       " \"♣6\"\n",
       " \"♣7\"\n",
       " \"♣8\"\n",
       " \"♣9\"\n",
       " \"♣10\"\n",
       " \"♣J\"\n",
       " \"♣Q\""
      ]
     },
     "metadata": {},
     "output_type": "display_data"
    }
   ],
   "source": [
    "second_card = hands_matrix[:,2]"
   ]
  },
  {
   "attachments": {},
   "cell_type": "markdown",
   "metadata": {},
   "source": [
    "And now we can, for example, check how many cases\n",
    "have a first card that is a king--\n",
    "that's 204.\n",
    "And now to find the conditional probability,\n",
    "we ask what fraction of these 204 have also a king in the second card.\n",
    "So this case we type the following piece of code.\n",
    "We add all the cases that have king in the first, king in the second,\n",
    "and divide by the cases that have a king in the first."
   ]
  },
  {
   "cell_type": "code",
   "execution_count": 29,
   "metadata": {},
   "outputs": [
    {
     "data": {
      "text/plain": [
       "0.058823529411764705"
      ]
     },
     "metadata": {},
     "output_type": "display_data"
    }
   ],
   "source": [
    "\n",
    "\n",
    "sum(map(x -> x ∈ Kings, first_card) .& map(x -> x ∈ Kings, second_card)) / sum(map(x -> x ∈ Kings, first_card))"
   ]
  },
  {
   "attachments": {},
   "cell_type": "markdown",
   "metadata": {},
   "source": [
    "And now we get the answer 0.058 , which is exactly 3 out of 51,\n",
    "which we had already deduced."
   ]
  },
  {
   "attachments": {},
   "cell_type": "markdown",
   "metadata": {},
   "source": [
    "# The Birthsday Problem\n",
    "\n",
    " Suppose you're in a classroom with 50 people.\n",
    "If we assume this is a randomly selected group,\n",
    "what is the chance that at least two people have the same birthday?\n",
    "Although it is somewhat advanced, we can actually deduce this mathematically,\n",
    "and we do this later, but now, we're going to use Monte Carlo simulations.\n",
    "For simplicity, we assumed that nobody was born on February 29th.\n",
    "This actually doesn't change the answer much."
   ]
  },
  {
   "attachments": {},
   "cell_type": "markdown",
   "metadata": {},
   "source": [
    "All right, first, note that birthdays can be represented\n",
    "as numbers between 1 and 365.\n",
    "So a sample of 50 random birthdays can be obtained simply\n",
    "using the sample function, like this."
   ]
  },
  {
   "attachments": {},
   "cell_type": "markdown",
   "metadata": {},
   "source": [
    "$$sample(1:365, 50, replace = true)$$"
   ]
  },
  {
   "cell_type": "code",
   "execution_count": 30,
   "metadata": {},
   "outputs": [
    {
     "data": {
      "text/plain": [
       "50-element Vector{Int64}:\n",
       " 313\n",
       " 213\n",
       " 226\n",
       "  90\n",
       "  16\n",
       " 278\n",
       " 263\n",
       " 170\n",
       "  62\n",
       " 328\n",
       "   ⋮\n",
       " 181\n",
       " 322\n",
       " 197\n",
       " 105\n",
       " 353\n",
       " 305\n",
       " 284\n",
       " 306\n",
       " 136"
      ]
     },
     "metadata": {},
     "output_type": "display_data"
    }
   ],
   "source": [
    "b = sample(1:365, 50, replace  = true) # sample of birthsdays"
   ]
  },
  {
   "cell_type": "code",
   "execution_count": 31,
   "metadata": {},
   "outputs": [
    {
     "data": {
      "text/plain": [
       "duplicated"
      ]
     },
     "metadata": {},
     "output_type": "display_data"
    }
   ],
   "source": [
    "\n",
    "\"\"\"\n",
    "duplicated(v::Vector)\n",
    "\n",
    "Return a boolean array indicating which elements of the input vector `v` are duplicates.\n",
    "Duplicate elements are marked as `true`, including the first occurrence.\n",
    "\n",
    "# Arguments\n",
    "- `v::Vector`: Input vector to check for duplicates.\n",
    "\n",
    "# Returns\n",
    "- A boolean array of the same length as `v` indicating which elements are duplicates.\n",
    "\"\"\"\n",
    "function duplicated(v::Vector)\n",
    "    unique_values = unique(v)\n",
    "    is_duplicate = falses(length(v))\n",
    "    for x in unique_values\n",
    "        indices = findall(x .== v)\n",
    "        if length(indices) > 1\n",
    "            is_duplicate[indices] .= true\n",
    "        end\n",
    "    end\n",
    "    return is_duplicate\n",
    "end\n",
    "\n"
   ]
  },
  {
   "cell_type": "code",
   "execution_count": 32,
   "metadata": {},
   "outputs": [
    {
     "data": {
      "text/plain": [
       "true"
      ]
     },
     "metadata": {},
     "output_type": "display_data"
    }
   ],
   "source": [
    "any(duplicated(b)) # test weather any birthdays are duplicated"
   ]
  },
  {
   "cell_type": "markdown",
   "metadata": {},
   "source": [
    "Now, to estimate the probability, we're going to repeat this experiment.\n",
    "We're going to run a Monte Carlo simulation over and over again.\n",
    "So what we do is we do it 10,000 times."
   ]
  },
  {
   "cell_type": "code",
   "execution_count": 33,
   "metadata": {},
   "outputs": [],
   "source": [
    "# create monte carlo simulation to calculate probability of  bdays being duplicated\n",
    "# the bday will be sampled with replacement 10000 times\n",
    "\n",
    "# create empty vector to store results\n",
    "results = []\n",
    "\n",
    "[push!(results, sample(1:365, 50, replace  = true) |> duplicated |> any) for i in 1:10000];"
   ]
  },
  {
   "cell_type": "code",
   "execution_count": 34,
   "metadata": {},
   "outputs": [
    {
     "data": {
      "text/plain": [
       "0.9677"
      ]
     },
     "metadata": {},
     "output_type": "display_data"
    }
   ],
   "source": [
    "mean(results) # calculate the probability of 50 bdays being duplicated"
   ]
  },
  {
   "cell_type": "markdown",
   "metadata": {},
   "source": [
    "So the probability that at least two people in a room of 50 have the same birthday is about 98%"
   ]
  },
  {
   "attachments": {},
   "cell_type": "markdown",
   "metadata": {},
   "source": [
    " Say you want to use what you've just\n",
    "learned about the birthday problem to bet\n",
    "with friends about two people having the same birthday in a group of people.\n",
    "When are the chances larger than 50%?\n",
    "Larger than 75%?\n",
    "Let's create a lookup table.\n",
    "We can quickly create a function to compute this for any group.\n",
    "We write the function like this.\n",
    "We'll call it compute prob, and we'll basically\n",
    "make the calculations for the probability\n",
    "of two people having the same birthday.\n",
    "We will use a small Monte Carlo simulation to do it."
   ]
  },
  {
   "cell_type": "code",
   "execution_count": 35,
   "metadata": {},
   "outputs": [
    {
     "data": {
      "text/plain": [
       "compute_prob (generic function with 1 method)"
      ]
     },
     "metadata": {},
     "output_type": "display_data"
    }
   ],
   "source": [
    "function compute_prob(n; B=10000)\n",
    "    results = []\n",
    "    [push!(results, sample(1:365, n, replace  = true) |> duplicated |> any) for i in 1:B];\n",
    "    return mean(results)\n",
    "end"
   ]
  },
  {
   "cell_type": "markdown",
   "metadata": {},
   "source": [
    "Now that we've done this, we want to compute this function,\n",
    "we want to apply this function to several values of n,\n",
    "let's say from 1 to 60."
   ]
  },
  {
   "cell_type": "code",
   "execution_count": 36,
   "metadata": {},
   "outputs": [
    {
     "data": {
      "image/png": "[encoded data removed]",
      "image/svg+xml": [
       "<?xml version=\"1.0\" encoding=\"utf-8\"?>\n",
       "<svg xmlns=\"http://www.w3.org/2000/svg\" xmlns:xlink=\"http://www.w3.org/1999/xlink\" width=\"600\" height=\"400\" viewBox=\"0 0 2400 1600\">\n",
       "<defs>\n",
       "  <clipPath id=\"clip090\">\n",
       "    <rect x=\"0\" y=\"0\" width=\"2400\" height=\"1600\"/>\n",
       "  </clipPath>\n",
       "</defs>\n",
       "<path clip-path=\"url(#clip090)\" d=\"M0 1600 L2400 1600 L2400 0 L0 0  Z\" fill=\"#ffffff\" fill-rule=\"evenodd\" fill-opacity=\"1\"/>\n",
       "<defs>\n",
       "  <clipPath id=\"clip091\">\n",
       "    <rect x=\"480\" y=\"0\" width=\"1681\" height=\"1600\"/>\n",
       "  </clipPath>\n",
       "</defs>\n",
       "<path clip-path=\"url(#clip090)\" d=\"M186.274 1486.45 L2352.76 1486.45 L2352.76 47.2441 L186.274 47.2441  Z\" fill=\"#ffffff\" fill-rule=\"evenodd\" fill-opacity=\"1\"/>\n",
       "<defs>\n",
       "  <clipPath id=\"clip092\">\n",
       "    <rect x=\"186\" y=\"47\" width=\"2167\" height=\"1440\"/>\n",
       "  </clipPath>\n",
       "</defs>\n",
       "<polyline clip-path=\"url(#clip092)\" style=\"stroke:#000000; stroke-linecap:round; stroke-linejoin:round; stroke-width:2; stroke-opacity:0.1; fill:none\" points=\"212.948,1486.45 212.948,47.2441 \"/>\n",
       "<polyline clip-path=\"url(#clip092)\" style=\"stroke:#000000; stroke-linecap:round; stroke-linejoin:round; stroke-width:2; stroke-opacity:0.1; fill:none\" points=\"559.363,1486.45 559.363,47.2441 \"/>\n",
       "<polyline clip-path=\"url(#clip092)\" style=\"stroke:#000000; stroke-linecap:round; stroke-linejoin:round; stroke-width:2; stroke-opacity:0.1; fill:none\" points=\"905.779,1486.45 905.779,47.2441 \"/>\n",
       "<polyline clip-path=\"url(#clip092)\" style=\"stroke:#000000; stroke-linecap:round; stroke-linejoin:round; stroke-width:2; stroke-opacity:0.1; fill:none\" points=\"1252.19,1486.45 1252.19,47.2441 \"/>\n",
       "<polyline clip-path=\"url(#clip092)\" style=\"stroke:#000000; stroke-linecap:round; stroke-linejoin:round; stroke-width:2; stroke-opacity:0.1; fill:none\" points=\"1598.61,1486.45 1598.61,47.2441 \"/>\n",
       "<polyline clip-path=\"url(#clip092)\" style=\"stroke:#000000; stroke-linecap:round; stroke-linejoin:round; stroke-width:2; stroke-opacity:0.1; fill:none\" points=\"1945.02,1486.45 1945.02,47.2441 \"/>\n",
       "<polyline clip-path=\"url(#clip092)\" style=\"stroke:#000000; stroke-linecap:round; stroke-linejoin:round; stroke-width:2; stroke-opacity:0.1; fill:none\" points=\"2291.44,1486.45 2291.44,47.2441 \"/>\n",
       "<polyline clip-path=\"url(#clip090)\" style=\"stroke:#000000; stroke-linecap:round; stroke-linejoin:round; stroke-width:4; stroke-opacity:1; fill:none\" points=\"186.274,1486.45 2352.76,1486.45 \"/>\n",
       "<polyline clip-path=\"url(#clip090)\" style=\"stroke:#000000; stroke-linecap:round; stroke-linejoin:round; stroke-width:4; stroke-opacity:1; fill:none\" points=\"212.948,1486.45 212.948,1467.55 \"/>\n",
       "<polyline clip-path=\"url(#clip090)\" style=\"stroke:#000000; stroke-linecap:round; stroke-linejoin:round; stroke-width:4; stroke-opacity:1; fill:none\" points=\"559.363,1486.45 559.363,1467.55 \"/>\n",
       "<polyline clip-path=\"url(#clip090)\" style=\"stroke:#000000; stroke-linecap:round; stroke-linejoin:round; stroke-width:4; stroke-opacity:1; fill:none\" points=\"905.779,1486.45 905.779,1467.55 \"/>\n",
       "<polyline clip-path=\"url(#clip090)\" style=\"stroke:#000000; stroke-linecap:round; stroke-linejoin:round; stroke-width:4; stroke-opacity:1; fill:none\" points=\"1252.19,1486.45 1252.19,1467.55 \"/>\n",
       "<polyline clip-path=\"url(#clip090)\" style=\"stroke:#000000; stroke-linecap:round; stroke-linejoin:round; stroke-width:4; stroke-opacity:1; fill:none\" points=\"1598.61,1486.45 1598.61,1467.55 \"/>\n",
       "<polyline clip-path=\"url(#clip090)\" style=\"stroke:#000000; stroke-linecap:round; stroke-linejoin:round; stroke-width:4; stroke-opacity:1; fill:none\" points=\"1945.02,1486.45 1945.02,1467.55 \"/>\n",
       "<polyline clip-path=\"url(#clip090)\" style=\"stroke:#000000; stroke-linecap:round; stroke-linejoin:round; stroke-width:4; stroke-opacity:1; fill:none\" points=\"2291.44,1486.45 2291.44,1467.55 \"/>\n",
       "<path clip-path=\"url(#clip090)\" d=\"M212.948 1517.37 Q209.337 1517.37 207.508 1520.93 Q205.703 1524.47 205.703 1531.6 Q205.703 1538.71 207.508 1542.27 Q209.337 1545.82 212.948 1545.82 Q216.582 1545.82 218.388 1542.27 Q220.216 1538.71 220.216 1531.6 Q220.216 1524.47 218.388 1520.93 Q216.582 1517.37 212.948 1517.37 M212.948 1513.66 Q218.758 1513.66 221.814 1518.27 Q224.892 1522.85 224.892 1531.6 Q224.892 1540.33 221.814 1544.94 Q218.758 1549.52 212.948 1549.52 Q207.138 1549.52 204.059 1544.94 Q201.004 1540.33 201.004 1531.6 Q201.004 1522.85 204.059 1518.27 Q207.138 1513.66 212.948 1513.66 Z\" fill=\"#000000\" fill-rule=\"nonzero\" fill-opacity=\"1\" /><path clip-path=\"url(#clip090)\" d=\"M534.051 1544.91 L541.69 1544.91 L541.69 1518.55 L533.38 1520.21 L533.38 1515.95 L541.644 1514.29 L546.319 1514.29 L546.319 1544.91 L553.958 1544.91 L553.958 1548.85 L534.051 1548.85 L534.051 1544.91 Z\" fill=\"#000000\" fill-rule=\"nonzero\" fill-opacity=\"1\" /><path clip-path=\"url(#clip090)\" d=\"M573.403 1517.37 Q569.792 1517.37 567.963 1520.93 Q566.157 1524.47 566.157 1531.6 Q566.157 1538.71 567.963 1542.27 Q569.792 1545.82 573.403 1545.82 Q577.037 1545.82 578.842 1542.27 Q580.671 1538.71 580.671 1531.6 Q580.671 1524.47 578.842 1520.93 Q577.037 1517.37 573.403 1517.37 M573.403 1513.66 Q579.213 1513.66 582.268 1518.27 Q585.347 1522.85 585.347 1531.6 Q585.347 1540.33 582.268 1544.94 Q579.213 1549.52 573.403 1549.52 Q567.593 1549.52 564.514 1544.94 Q561.458 1540.33 561.458 1531.6 Q561.458 1522.85 564.514 1518.27 Q567.593 1513.66 573.403 1513.66 Z\" fill=\"#000000\" fill-rule=\"nonzero\" fill-opacity=\"1\" /><path clip-path=\"url(#clip090)\" d=\"M884.552 1544.91 L900.871 1544.91 L900.871 1548.85 L878.927 1548.85 L878.927 1544.91 Q881.589 1542.16 886.172 1537.53 Q890.779 1532.88 891.959 1531.53 Q894.205 1529.01 895.084 1527.27 Q895.987 1525.51 895.987 1523.82 Q895.987 1521.07 894.043 1519.33 Q892.121 1517.6 889.02 1517.6 Q886.821 1517.6 884.367 1518.36 Q881.936 1519.13 879.159 1520.68 L879.159 1515.95 Q881.983 1514.82 884.436 1514.24 Q886.89 1513.66 888.927 1513.66 Q894.297 1513.66 897.492 1516.35 Q900.686 1519.03 900.686 1523.52 Q900.686 1525.65 899.876 1527.57 Q899.089 1529.47 896.983 1532.07 Q896.404 1532.74 893.302 1535.95 Q890.2 1539.15 884.552 1544.91 Z\" fill=\"#000000\" fill-rule=\"nonzero\" fill-opacity=\"1\" /><path clip-path=\"url(#clip090)\" d=\"M920.686 1517.37 Q917.075 1517.37 915.246 1520.93 Q913.441 1524.47 913.441 1531.6 Q913.441 1538.71 915.246 1542.27 Q917.075 1545.82 920.686 1545.82 Q924.32 1545.82 926.126 1542.27 Q927.955 1538.71 927.955 1531.6 Q927.955 1524.47 926.126 1520.93 Q924.32 1517.37 920.686 1517.37 M920.686 1513.66 Q926.496 1513.66 929.552 1518.27 Q932.63 1522.85 932.63 1531.6 Q932.63 1540.33 929.552 1544.94 Q926.496 1549.52 920.686 1549.52 Q914.876 1549.52 911.797 1544.94 Q908.742 1540.33 908.742 1531.6 Q908.742 1522.85 911.797 1518.27 Q914.876 1513.66 920.686 1513.66 Z\" fill=\"#000000\" fill-rule=\"nonzero\" fill-opacity=\"1\" /><path clip-path=\"url(#clip090)\" d=\"M1241.04 1530.21 Q1244.39 1530.93 1246.27 1533.2 Q1248.17 1535.47 1248.17 1538.8 Q1248.17 1543.92 1244.65 1546.72 Q1241.13 1549.52 1234.65 1549.52 Q1232.47 1549.52 1230.16 1549.08 Q1227.87 1548.66 1225.41 1547.81 L1225.41 1543.29 Q1227.36 1544.43 1229.67 1545.01 Q1231.99 1545.58 1234.51 1545.58 Q1238.91 1545.58 1241.2 1543.85 Q1243.51 1542.11 1243.51 1538.8 Q1243.51 1535.75 1241.36 1534.03 Q1239.23 1532.3 1235.41 1532.3 L1231.38 1532.3 L1231.38 1528.45 L1235.6 1528.45 Q1239.05 1528.45 1240.87 1527.09 Q1242.7 1525.7 1242.7 1523.11 Q1242.7 1520.45 1240.81 1519.03 Q1238.93 1517.6 1235.41 1517.6 Q1233.49 1517.6 1231.29 1518.01 Q1229.09 1518.43 1226.45 1519.31 L1226.45 1515.14 Q1229.12 1514.4 1231.43 1514.03 Q1233.77 1513.66 1235.83 1513.66 Q1241.15 1513.66 1244.25 1516.09 Q1247.36 1518.5 1247.36 1522.62 Q1247.36 1525.49 1245.71 1527.48 Q1244.07 1529.45 1241.04 1530.21 Z\" fill=\"#000000\" fill-rule=\"nonzero\" fill-opacity=\"1\" /><path clip-path=\"url(#clip090)\" d=\"M1267.03 1517.37 Q1263.42 1517.37 1261.59 1520.93 Q1259.79 1524.47 1259.79 1531.6 Q1259.79 1538.71 1261.59 1542.27 Q1263.42 1545.82 1267.03 1545.82 Q1270.67 1545.82 1272.47 1542.27 Q1274.3 1538.71 1274.3 1531.6 Q1274.3 1524.47 1272.47 1520.93 Q1270.67 1517.37 1267.03 1517.37 M1267.03 1513.66 Q1272.84 1513.66 1275.9 1518.27 Q1278.98 1522.85 1278.98 1531.6 Q1278.98 1540.33 1275.9 1544.94 Q1272.84 1549.52 1267.03 1549.52 Q1261.22 1549.52 1258.14 1544.94 Q1255.09 1540.33 1255.09 1531.6 Q1255.09 1522.85 1258.14 1518.27 Q1261.22 1513.66 1267.03 1513.66 Z\" fill=\"#000000\" fill-rule=\"nonzero\" fill-opacity=\"1\" /><path clip-path=\"url(#clip090)\" d=\"M1586.78 1518.36 L1574.98 1536.81 L1586.78 1536.81 L1586.78 1518.36 M1585.55 1514.29 L1591.43 1514.29 L1591.43 1536.81 L1596.36 1536.81 L1596.36 1540.7 L1591.43 1540.7 L1591.43 1548.85 L1586.78 1548.85 L1586.78 1540.7 L1571.18 1540.7 L1571.18 1536.19 L1585.55 1514.29 Z\" fill=\"#000000\" fill-rule=\"nonzero\" fill-opacity=\"1\" /><path clip-path=\"url(#clip090)\" d=\"M1614.1 1517.37 Q1610.48 1517.37 1608.66 1520.93 Q1606.85 1524.47 1606.85 1531.6 Q1606.85 1538.71 1608.66 1542.27 Q1610.48 1545.82 1614.1 1545.82 Q1617.73 1545.82 1619.54 1542.27 Q1621.36 1538.71 1621.36 1531.6 Q1621.36 1524.47 1619.54 1520.93 Q1617.73 1517.37 1614.1 1517.37 M1614.1 1513.66 Q1619.91 1513.66 1622.96 1518.27 Q1626.04 1522.85 1626.04 1531.6 Q1626.04 1540.33 1622.96 1544.94 Q1619.91 1549.52 1614.1 1549.52 Q1608.29 1549.52 1605.21 1544.94 Q1602.15 1540.33 1602.15 1531.6 Q1602.15 1522.85 1605.21 1518.27 Q1608.29 1513.66 1614.1 1513.66 Z\" fill=\"#000000\" fill-rule=\"nonzero\" fill-opacity=\"1\" /><path clip-path=\"url(#clip090)\" d=\"M1919.72 1514.29 L1938.08 1514.29 L1938.08 1518.22 L1924.01 1518.22 L1924.01 1526.7 Q1925.03 1526.35 1926.04 1526.19 Q1927.06 1526 1928.08 1526 Q1933.87 1526 1937.25 1529.17 Q1940.63 1532.34 1940.63 1537.76 Q1940.63 1543.34 1937.15 1546.44 Q1933.68 1549.52 1927.36 1549.52 Q1925.19 1549.52 1922.92 1549.15 Q1920.67 1548.78 1918.27 1548.04 L1918.27 1543.34 Q1920.35 1544.47 1922.57 1545.03 Q1924.79 1545.58 1927.27 1545.58 Q1931.28 1545.58 1933.61 1543.48 Q1935.95 1541.37 1935.95 1537.76 Q1935.95 1534.15 1933.61 1532.04 Q1931.28 1529.94 1927.27 1529.94 Q1925.4 1529.94 1923.52 1530.35 Q1921.67 1530.77 1919.72 1531.65 L1919.72 1514.29 Z\" fill=\"#000000\" fill-rule=\"nonzero\" fill-opacity=\"1\" /><path clip-path=\"url(#clip090)\" d=\"M1959.84 1517.37 Q1956.23 1517.37 1954.4 1520.93 Q1952.59 1524.47 1952.59 1531.6 Q1952.59 1538.71 1954.4 1542.27 Q1956.23 1545.82 1959.84 1545.82 Q1963.47 1545.82 1965.28 1542.27 Q1967.11 1538.71 1967.11 1531.6 Q1967.11 1524.47 1965.28 1520.93 Q1963.47 1517.37 1959.84 1517.37 M1959.84 1513.66 Q1965.65 1513.66 1968.71 1518.27 Q1971.78 1522.85 1971.78 1531.6 Q1971.78 1540.33 1968.71 1544.94 Q1965.65 1549.52 1959.84 1549.52 Q1954.03 1549.52 1950.95 1544.94 Q1947.9 1540.33 1947.9 1531.6 Q1947.9 1522.85 1950.95 1518.27 Q1954.03 1513.66 1959.84 1513.66 Z\" fill=\"#000000\" fill-rule=\"nonzero\" fill-opacity=\"1\" /><path clip-path=\"url(#clip090)\" d=\"M2276.85 1529.7 Q2273.7 1529.7 2271.85 1531.86 Q2270.02 1534.01 2270.02 1537.76 Q2270.02 1541.49 2271.85 1543.66 Q2273.7 1545.82 2276.85 1545.82 Q2279.99 1545.82 2281.82 1543.66 Q2283.67 1541.49 2283.67 1537.76 Q2283.67 1534.01 2281.82 1531.86 Q2279.99 1529.7 2276.85 1529.7 M2286.13 1515.05 L2286.13 1519.31 Q2284.37 1518.48 2282.56 1518.04 Q2280.78 1517.6 2279.02 1517.6 Q2274.39 1517.6 2271.94 1520.72 Q2269.51 1523.85 2269.16 1530.17 Q2270.53 1528.15 2272.59 1527.09 Q2274.65 1526 2277.12 1526 Q2282.33 1526 2285.34 1529.17 Q2288.37 1532.32 2288.37 1537.76 Q2288.37 1543.08 2285.23 1546.3 Q2282.08 1549.52 2276.85 1549.52 Q2270.85 1549.52 2267.68 1544.94 Q2264.51 1540.33 2264.51 1531.6 Q2264.51 1523.41 2268.4 1518.55 Q2272.29 1513.66 2278.84 1513.66 Q2280.6 1513.66 2282.38 1514.01 Q2284.18 1514.36 2286.13 1515.05 Z\" fill=\"#000000\" fill-rule=\"nonzero\" fill-opacity=\"1\" /><path clip-path=\"url(#clip090)\" d=\"M2306.43 1517.37 Q2302.82 1517.37 2300.99 1520.93 Q2299.18 1524.47 2299.18 1531.6 Q2299.18 1538.71 2300.99 1542.27 Q2302.82 1545.82 2306.43 1545.82 Q2310.06 1545.82 2311.87 1542.27 Q2313.7 1538.71 2313.7 1531.6 Q2313.7 1524.47 2311.87 1520.93 Q2310.06 1517.37 2306.43 1517.37 M2306.43 1513.66 Q2312.24 1513.66 2315.29 1518.27 Q2318.37 1522.85 2318.37 1531.6 Q2318.37 1540.33 2315.29 1544.94 Q2312.24 1549.52 2306.43 1549.52 Q2300.62 1549.52 2297.54 1544.94 Q2294.48 1540.33 2294.48 1531.6 Q2294.48 1522.85 2297.54 1518.27 Q2300.62 1513.66 2306.43 1513.66 Z\" fill=\"#000000\" fill-rule=\"nonzero\" fill-opacity=\"1\" /><polyline clip-path=\"url(#clip092)\" style=\"stroke:#000000; stroke-linecap:round; stroke-linejoin:round; stroke-width:2; stroke-opacity:0.1; fill:none\" points=\"186.274,1445.72 2352.76,1445.72 \"/>\n",
       "<polyline clip-path=\"url(#clip092)\" style=\"stroke:#000000; stroke-linecap:round; stroke-linejoin:round; stroke-width:2; stroke-opacity:0.1; fill:none\" points=\"186.274,1104.92 2352.76,1104.92 \"/>\n",
       "<polyline clip-path=\"url(#clip092)\" style=\"stroke:#000000; stroke-linecap:round; stroke-linejoin:round; stroke-width:2; stroke-opacity:0.1; fill:none\" points=\"186.274,764.12 2352.76,764.12 \"/>\n",
       "<polyline clip-path=\"url(#clip092)\" style=\"stroke:#000000; stroke-linecap:round; stroke-linejoin:round; stroke-width:2; stroke-opacity:0.1; fill:none\" points=\"186.274,423.322 2352.76,423.322 \"/>\n",
       "<polyline clip-path=\"url(#clip092)\" style=\"stroke:#000000; stroke-linecap:round; stroke-linejoin:round; stroke-width:2; stroke-opacity:0.1; fill:none\" points=\"186.274,82.5235 2352.76,82.5235 \"/>\n",
       "<polyline clip-path=\"url(#clip090)\" style=\"stroke:#000000; stroke-linecap:round; stroke-linejoin:round; stroke-width:4; stroke-opacity:1; fill:none\" points=\"186.274,1486.45 186.274,47.2441 \"/>\n",
       "<polyline clip-path=\"url(#clip090)\" style=\"stroke:#000000; stroke-linecap:round; stroke-linejoin:round; stroke-width:4; stroke-opacity:1; fill:none\" points=\"186.274,1445.72 205.172,1445.72 \"/>\n",
       "<polyline clip-path=\"url(#clip090)\" style=\"stroke:#000000; stroke-linecap:round; stroke-linejoin:round; stroke-width:4; stroke-opacity:1; fill:none\" points=\"186.274,1104.92 205.172,1104.92 \"/>\n",
       "<polyline clip-path=\"url(#clip090)\" style=\"stroke:#000000; stroke-linecap:round; stroke-linejoin:round; stroke-width:4; stroke-opacity:1; fill:none\" points=\"186.274,764.12 205.172,764.12 \"/>\n",
       "<polyline clip-path=\"url(#clip090)\" style=\"stroke:#000000; stroke-linecap:round; stroke-linejoin:round; stroke-width:4; stroke-opacity:1; fill:none\" points=\"186.274,423.322 205.172,423.322 \"/>\n",
       "<polyline clip-path=\"url(#clip090)\" style=\"stroke:#000000; stroke-linecap:round; stroke-linejoin:round; stroke-width:4; stroke-opacity:1; fill:none\" points=\"186.274,82.5235 205.172,82.5235 \"/>\n",
       "<path clip-path=\"url(#clip090)\" d=\"M62.9365 1431.51 Q59.3254 1431.51 57.4967 1435.08 Q55.6912 1438.62 55.6912 1445.75 Q55.6912 1452.86 57.4967 1456.42 Q59.3254 1459.96 62.9365 1459.96 Q66.5707 1459.96 68.3763 1456.42 Q70.205 1452.86 70.205 1445.75 Q70.205 1438.62 68.3763 1435.08 Q66.5707 1431.51 62.9365 1431.51 M62.9365 1427.81 Q68.7467 1427.81 71.8022 1432.42 Q74.8809 1437 74.8809 1445.75 Q74.8809 1454.48 71.8022 1459.08 Q68.7467 1463.67 62.9365 1463.67 Q57.1264 1463.67 54.0477 1459.08 Q50.9921 1454.48 50.9921 1445.75 Q50.9921 1437 54.0477 1432.42 Q57.1264 1427.81 62.9365 1427.81 Z\" fill=\"#000000\" fill-rule=\"nonzero\" fill-opacity=\"1\" /><path clip-path=\"url(#clip090)\" d=\"M83.0984 1457.12 L87.9827 1457.12 L87.9827 1463 L83.0984 1463 L83.0984 1457.12 Z\" fill=\"#000000\" fill-rule=\"nonzero\" fill-opacity=\"1\" /><path clip-path=\"url(#clip090)\" d=\"M108.168 1431.51 Q104.557 1431.51 102.728 1435.08 Q100.922 1438.62 100.922 1445.75 Q100.922 1452.86 102.728 1456.42 Q104.557 1459.96 108.168 1459.96 Q111.802 1459.96 113.608 1456.42 Q115.436 1452.86 115.436 1445.75 Q115.436 1438.62 113.608 1435.08 Q111.802 1431.51 108.168 1431.51 M108.168 1427.81 Q113.978 1427.81 117.033 1432.42 Q120.112 1437 120.112 1445.75 Q120.112 1454.48 117.033 1459.08 Q113.978 1463.67 108.168 1463.67 Q102.358 1463.67 99.2789 1459.08 Q96.2234 1454.48 96.2234 1445.75 Q96.2234 1437 99.2789 1432.42 Q102.358 1427.81 108.168 1427.81 Z\" fill=\"#000000\" fill-rule=\"nonzero\" fill-opacity=\"1\" /><path clip-path=\"url(#clip090)\" d=\"M138.33 1431.51 Q134.719 1431.51 132.89 1435.08 Q131.084 1438.62 131.084 1445.75 Q131.084 1452.86 132.89 1456.42 Q134.719 1459.96 138.33 1459.96 Q141.964 1459.96 143.769 1456.42 Q145.598 1452.86 145.598 1445.75 Q145.598 1438.62 143.769 1435.08 Q141.964 1431.51 138.33 1431.51 M138.33 1427.81 Q144.14 1427.81 147.195 1432.42 Q150.274 1437 150.274 1445.75 Q150.274 1454.48 147.195 1459.08 Q144.14 1463.67 138.33 1463.67 Q132.519 1463.67 129.441 1459.08 Q126.385 1454.48 126.385 1445.75 Q126.385 1437 129.441 1432.42 Q132.519 1427.81 138.33 1427.81 Z\" fill=\"#000000\" fill-rule=\"nonzero\" fill-opacity=\"1\" /><path clip-path=\"url(#clip090)\" d=\"M63.9319 1090.72 Q60.3208 1090.72 58.4921 1094.28 Q56.6865 1097.82 56.6865 1104.95 Q56.6865 1112.06 58.4921 1115.62 Q60.3208 1119.17 63.9319 1119.17 Q67.5661 1119.17 69.3717 1115.62 Q71.2004 1112.06 71.2004 1104.95 Q71.2004 1097.82 69.3717 1094.28 Q67.5661 1090.72 63.9319 1090.72 M63.9319 1087.01 Q69.742 1087.01 72.7976 1091.62 Q75.8763 1096.2 75.8763 1104.95 Q75.8763 1113.68 72.7976 1118.29 Q69.742 1122.87 63.9319 1122.87 Q58.1217 1122.87 55.043 1118.29 Q51.9875 1113.68 51.9875 1104.95 Q51.9875 1096.2 55.043 1091.62 Q58.1217 1087.01 63.9319 1087.01 Z\" fill=\"#000000\" fill-rule=\"nonzero\" fill-opacity=\"1\" /><path clip-path=\"url(#clip090)\" d=\"M84.0938 1116.32 L88.978 1116.32 L88.978 1122.2 L84.0938 1122.2 L84.0938 1116.32 Z\" fill=\"#000000\" fill-rule=\"nonzero\" fill-opacity=\"1\" /><path clip-path=\"url(#clip090)\" d=\"M103.191 1118.26 L119.51 1118.26 L119.51 1122.2 L97.566 1122.2 L97.566 1118.26 Q100.228 1115.51 104.811 1110.88 Q109.418 1106.23 110.598 1104.88 Q112.844 1102.36 113.723 1100.62 Q114.626 1098.86 114.626 1097.17 Q114.626 1094.42 112.682 1092.68 Q110.76 1090.95 107.658 1090.95 Q105.459 1090.95 103.006 1091.71 Q100.575 1092.48 97.7974 1094.03 L97.7974 1089.3 Q100.621 1088.17 103.075 1087.59 Q105.529 1087.01 107.566 1087.01 Q112.936 1087.01 116.131 1089.7 Q119.325 1092.38 119.325 1096.87 Q119.325 1099 118.515 1100.92 Q117.728 1102.82 115.621 1105.42 Q115.043 1106.09 111.941 1109.3 Q108.839 1112.5 103.191 1118.26 Z\" fill=\"#000000\" fill-rule=\"nonzero\" fill-opacity=\"1\" /><path clip-path=\"url(#clip090)\" d=\"M129.371 1087.64 L147.728 1087.64 L147.728 1091.57 L133.654 1091.57 L133.654 1100.04 Q134.672 1099.7 135.691 1099.54 Q136.709 1099.35 137.728 1099.35 Q143.515 1099.35 146.894 1102.52 Q150.274 1105.69 150.274 1111.11 Q150.274 1116.69 146.802 1119.79 Q143.33 1122.87 137.01 1122.87 Q134.834 1122.87 132.566 1122.5 Q130.32 1122.13 127.913 1121.39 L127.913 1116.69 Q129.996 1117.82 132.219 1118.38 Q134.441 1118.93 136.918 1118.93 Q140.922 1118.93 143.26 1116.83 Q145.598 1114.72 145.598 1111.11 Q145.598 1107.5 143.26 1105.39 Q140.922 1103.29 136.918 1103.29 Q135.043 1103.29 133.168 1103.7 Q131.316 1104.12 129.371 1105 L129.371 1087.64 Z\" fill=\"#000000\" fill-rule=\"nonzero\" fill-opacity=\"1\" /><path clip-path=\"url(#clip090)\" d=\"M62.9365 749.918 Q59.3254 749.918 57.4967 753.483 Q55.6912 757.025 55.6912 764.154 Q55.6912 771.261 57.4967 774.826 Q59.3254 778.367 62.9365 778.367 Q66.5707 778.367 68.3763 774.826 Q70.205 771.261 70.205 764.154 Q70.205 757.025 68.3763 753.483 Q66.5707 749.918 62.9365 749.918 M62.9365 746.215 Q68.7467 746.215 71.8022 750.821 Q74.8809 755.404 74.8809 764.154 Q74.8809 772.881 71.8022 777.488 Q68.7467 782.071 62.9365 782.071 Q57.1264 782.071 54.0477 777.488 Q50.9921 772.881 50.9921 764.154 Q50.9921 755.404 54.0477 750.821 Q57.1264 746.215 62.9365 746.215 Z\" fill=\"#000000\" fill-rule=\"nonzero\" fill-opacity=\"1\" /><path clip-path=\"url(#clip090)\" d=\"M83.0984 775.52 L87.9827 775.52 L87.9827 781.4 L83.0984 781.4 L83.0984 775.52 Z\" fill=\"#000000\" fill-rule=\"nonzero\" fill-opacity=\"1\" /><path clip-path=\"url(#clip090)\" d=\"M98.2141 746.84 L116.57 746.84 L116.57 750.775 L102.496 750.775 L102.496 759.247 Q103.515 758.9 104.534 758.738 Q105.552 758.553 106.571 758.553 Q112.358 758.553 115.737 761.724 Q119.117 764.895 119.117 770.312 Q119.117 775.89 115.645 778.992 Q112.172 782.071 105.853 782.071 Q103.677 782.071 101.409 781.701 Q99.1632 781.33 96.7558 780.589 L96.7558 775.89 Q98.8391 777.025 101.061 777.58 Q103.284 778.136 105.76 778.136 Q109.765 778.136 112.103 776.029 Q114.441 773.923 114.441 770.312 Q114.441 766.701 112.103 764.594 Q109.765 762.488 105.76 762.488 Q103.885 762.488 102.01 762.904 Q100.159 763.321 98.2141 764.201 L98.2141 746.84 Z\" fill=\"#000000\" fill-rule=\"nonzero\" fill-opacity=\"1\" /><path clip-path=\"url(#clip090)\" d=\"M138.33 749.918 Q134.719 749.918 132.89 753.483 Q131.084 757.025 131.084 764.154 Q131.084 771.261 132.89 774.826 Q134.719 778.367 138.33 778.367 Q141.964 778.367 143.769 774.826 Q145.598 771.261 145.598 764.154 Q145.598 757.025 143.769 753.483 Q141.964 749.918 138.33 749.918 M138.33 746.215 Q144.14 746.215 147.195 750.821 Q150.274 755.404 150.274 764.154 Q150.274 772.881 147.195 777.488 Q144.14 782.071 138.33 782.071 Q132.519 782.071 129.441 777.488 Q126.385 772.881 126.385 764.154 Q126.385 755.404 129.441 750.821 Q132.519 746.215 138.33 746.215 Z\" fill=\"#000000\" fill-rule=\"nonzero\" fill-opacity=\"1\" /><path clip-path=\"url(#clip090)\" d=\"M63.9319 409.12 Q60.3208 409.12 58.4921 412.685 Q56.6865 416.227 56.6865 423.356 Q56.6865 430.463 58.4921 434.028 Q60.3208 437.569 63.9319 437.569 Q67.5661 437.569 69.3717 434.028 Q71.2004 430.463 71.2004 423.356 Q71.2004 416.227 69.3717 412.685 Q67.5661 409.12 63.9319 409.12 M63.9319 405.417 Q69.742 405.417 72.7976 410.023 Q75.8763 414.606 75.8763 423.356 Q75.8763 432.083 72.7976 436.69 Q69.742 441.273 63.9319 441.273 Q58.1217 441.273 55.043 436.69 Q51.9875 432.083 51.9875 423.356 Q51.9875 414.606 55.043 410.023 Q58.1217 405.417 63.9319 405.417 Z\" fill=\"#000000\" fill-rule=\"nonzero\" fill-opacity=\"1\" /><path clip-path=\"url(#clip090)\" d=\"M84.0938 434.722 L88.978 434.722 L88.978 440.602 L84.0938 440.602 L84.0938 434.722 Z\" fill=\"#000000\" fill-rule=\"nonzero\" fill-opacity=\"1\" /><path clip-path=\"url(#clip090)\" d=\"M97.9826 406.042 L120.205 406.042 L120.205 408.032 L107.658 440.602 L102.774 440.602 L114.58 409.977 L97.9826 409.977 L97.9826 406.042 Z\" fill=\"#000000\" fill-rule=\"nonzero\" fill-opacity=\"1\" /><path clip-path=\"url(#clip090)\" d=\"M129.371 406.042 L147.728 406.042 L147.728 409.977 L133.654 409.977 L133.654 418.449 Q134.672 418.102 135.691 417.94 Q136.709 417.754 137.728 417.754 Q143.515 417.754 146.894 420.926 Q150.274 424.097 150.274 429.514 Q150.274 435.092 146.802 438.194 Q143.33 441.273 137.01 441.273 Q134.834 441.273 132.566 440.902 Q130.32 440.532 127.913 439.791 L127.913 435.092 Q129.996 436.227 132.219 436.782 Q134.441 437.338 136.918 437.338 Q140.922 437.338 143.26 435.231 Q145.598 433.125 145.598 429.514 Q145.598 425.903 143.26 423.796 Q140.922 421.69 136.918 421.69 Q135.043 421.69 133.168 422.106 Q131.316 422.523 129.371 423.403 L129.371 406.042 Z\" fill=\"#000000\" fill-rule=\"nonzero\" fill-opacity=\"1\" /><path clip-path=\"url(#clip090)\" d=\"M53.7467 95.8683 L61.3856 95.8683 L61.3856 69.5027 L53.0754 71.1694 L53.0754 66.9102 L61.3393 65.2435 L66.0152 65.2435 L66.0152 95.8683 L73.654 95.8683 L73.654 99.8035 L53.7467 99.8035 L53.7467 95.8683 Z\" fill=\"#000000\" fill-rule=\"nonzero\" fill-opacity=\"1\" /><path clip-path=\"url(#clip090)\" d=\"M83.0984 93.9239 L87.9827 93.9239 L87.9827 99.8035 L83.0984 99.8035 L83.0984 93.9239 Z\" fill=\"#000000\" fill-rule=\"nonzero\" fill-opacity=\"1\" /><path clip-path=\"url(#clip090)\" d=\"M108.168 68.3222 Q104.557 68.3222 102.728 71.887 Q100.922 75.4286 100.922 82.5582 Q100.922 89.6647 102.728 93.2295 Q104.557 96.7711 108.168 96.7711 Q111.802 96.7711 113.608 93.2295 Q115.436 89.6647 115.436 82.5582 Q115.436 75.4286 113.608 71.887 Q111.802 68.3222 108.168 68.3222 M108.168 64.6185 Q113.978 64.6185 117.033 69.225 Q120.112 73.8083 120.112 82.5582 Q120.112 91.285 117.033 95.8915 Q113.978 100.475 108.168 100.475 Q102.358 100.475 99.2789 95.8915 Q96.2234 91.285 96.2234 82.5582 Q96.2234 73.8083 99.2789 69.225 Q102.358 64.6185 108.168 64.6185 Z\" fill=\"#000000\" fill-rule=\"nonzero\" fill-opacity=\"1\" /><path clip-path=\"url(#clip090)\" d=\"M138.33 68.3222 Q134.719 68.3222 132.89 71.887 Q131.084 75.4286 131.084 82.5582 Q131.084 89.6647 132.89 93.2295 Q134.719 96.7711 138.33 96.7711 Q141.964 96.7711 143.769 93.2295 Q145.598 89.6647 145.598 82.5582 Q145.598 75.4286 143.769 71.887 Q141.964 68.3222 138.33 68.3222 M138.33 64.6185 Q144.14 64.6185 147.195 69.225 Q150.274 73.8083 150.274 82.5582 Q150.274 91.285 147.195 95.8915 Q144.14 100.475 138.33 100.475 Q132.519 100.475 129.441 95.8915 Q126.385 91.285 126.385 82.5582 Q126.385 73.8083 129.441 69.225 Q132.519 64.6185 138.33 64.6185 Z\" fill=\"#000000\" fill-rule=\"nonzero\" fill-opacity=\"1\" /><polyline clip-path=\"url(#clip092)\" style=\"stroke:#009af9; stroke-linecap:round; stroke-linejoin:round; stroke-width:4; stroke-opacity:1; fill:none\" points=\"247.59,1445.72 282.231,1441.22 316.873,1431.54 351.514,1426.36 386.156,1409.59 420.797,1388.87 455.439,1364.33 490.08,1338.43 524.722,1313.9 559.363,1284.72 594.005,1249.55 628.646,1218.2 663.288,1183.44 697.93,1137.23 732.571,1101.51 767.213,1060.75 801.854,1010.31 836.496,984.411 871.137,931.247 905.779,891.442 940.42,846.456 975.062,798.881 1009.7,746.125 1044.34,716.817 1078.99,677.966 1113.63,624.801 1148.27,596.583 1182.91,553.234 1217.55,515.201 1252.19,484.12 1286.84,449.904 1321.48,422.776 1356.12,388.833 1390.76,357.616 1425.4,339.622 1460.04,316.72 1494.68,292.864 1529.33,273.507 1563.97,245.834 1598.61,232.066 1633.25,214.208 1667.89,197.85 1702.53,187.762 1737.18,170.858 1771.82,167.996 1806.46,145.912 1841.1,145.23 1875.74,139.778 1910.38,128.054 1945.02,127.645 1979.67,117.149 2014.31,112.377 2048.95,113.741 2083.59,102.699 2118.23,103.108 2152.87,97.7913 2187.52,93.838 2222.16,93.1564 2256.8,90.839 2291.44,87.9763 \"/>\n",
       "<path clip-path=\"url(#clip090)\" d=\"M258.49 198.898 L527.569 198.898 L527.569 95.2176 L258.49 95.2176  Z\" fill=\"#ffffff\" fill-rule=\"evenodd\" fill-opacity=\"1\"/>\n",
       "<polyline clip-path=\"url(#clip090)\" style=\"stroke:#000000; stroke-linecap:round; stroke-linejoin:round; stroke-width:4; stroke-opacity:1; fill:none\" points=\"258.49,198.898 527.569,198.898 527.569,95.2176 258.49,95.2176 258.49,198.898 \"/>\n",
       "<polyline clip-path=\"url(#clip090)\" style=\"stroke:#009af9; stroke-linecap:round; stroke-linejoin:round; stroke-width:4; stroke-opacity:1; fill:none\" points=\"282.562,147.058 426.994,147.058 \"/>\n",
       "<path clip-path=\"url(#clip090)\" d=\"M464.909 166.745 Q463.103 171.375 461.39 172.787 Q459.677 174.199 456.807 174.199 L453.404 174.199 L453.404 170.634 L455.904 170.634 Q457.663 170.634 458.636 169.8 Q459.608 168.967 460.788 165.865 L461.552 163.921 L451.066 138.412 L455.58 138.412 L463.682 158.689 L471.784 138.412 L476.298 138.412 L464.909 166.745 Z\" fill=\"#000000\" fill-rule=\"nonzero\" fill-opacity=\"1\" /><path clip-path=\"url(#clip090)\" d=\"M483.589 160.402 L491.228 160.402 L491.228 134.037 L482.918 135.703 L482.918 131.444 L491.182 129.778 L495.858 129.778 L495.858 160.402 L503.497 160.402 L503.497 164.338 L483.589 164.338 L483.589 160.402 Z\" fill=\"#000000\" fill-rule=\"nonzero\" fill-opacity=\"1\" /></svg>\n"
      ],
      "text/html": [
       "<?xml version=\"1.0\" encoding=\"utf-8\"?>\n",
       "<svg xmlns=\"http://www.w3.org/2000/svg\" xmlns:xlink=\"http://www.w3.org/1999/xlink\" width=\"600\" height=\"400\" viewBox=\"0 0 2400 1600\">\n",
       "<defs>\n",
       "  <clipPath id=\"clip140\">\n",
       "    <rect x=\"0\" y=\"0\" width=\"2400\" height=\"1600\"/>\n",
       "  </clipPath>\n",
       "</defs>\n",
       "<path clip-path=\"url(#clip140)\" d=\"M0 1600 L2400 1600 L2400 0 L0 0  Z\" fill=\"#ffffff\" fill-rule=\"evenodd\" fill-opacity=\"1\"/>\n",
       "<defs>\n",
       "  <clipPath id=\"clip141\">\n",
       "    <rect x=\"480\" y=\"0\" width=\"1681\" height=\"1600\"/>\n",
       "  </clipPath>\n",
       "</defs>\n",
       "<path clip-path=\"url(#clip140)\" d=\"M186.274 1486.45 L2352.76 1486.45 L2352.76 47.2441 L186.274 47.2441  Z\" fill=\"#ffffff\" fill-rule=\"evenodd\" fill-opacity=\"1\"/>\n",
       "<defs>\n",
       "  <clipPath id=\"clip142\">\n",
       "    <rect x=\"186\" y=\"47\" width=\"2167\" height=\"1440\"/>\n",
       "  </clipPath>\n",
       "</defs>\n",
       "<polyline clip-path=\"url(#clip142)\" style=\"stroke:#000000; stroke-linecap:round; stroke-linejoin:round; stroke-width:2; stroke-opacity:0.1; fill:none\" points=\"212.948,1486.45 212.948,47.2441 \"/>\n",
       "<polyline clip-path=\"url(#clip142)\" style=\"stroke:#000000; stroke-linecap:round; stroke-linejoin:round; stroke-width:2; stroke-opacity:0.1; fill:none\" points=\"559.363,1486.45 559.363,47.2441 \"/>\n",
       "<polyline clip-path=\"url(#clip142)\" style=\"stroke:#000000; stroke-linecap:round; stroke-linejoin:round; stroke-width:2; stroke-opacity:0.1; fill:none\" points=\"905.779,1486.45 905.779,47.2441 \"/>\n",
       "<polyline clip-path=\"url(#clip142)\" style=\"stroke:#000000; stroke-linecap:round; stroke-linejoin:round; stroke-width:2; stroke-opacity:0.1; fill:none\" points=\"1252.19,1486.45 1252.19,47.2441 \"/>\n",
       "<polyline clip-path=\"url(#clip142)\" style=\"stroke:#000000; stroke-linecap:round; stroke-linejoin:round; stroke-width:2; stroke-opacity:0.1; fill:none\" points=\"1598.61,1486.45 1598.61,47.2441 \"/>\n",
       "<polyline clip-path=\"url(#clip142)\" style=\"stroke:#000000; stroke-linecap:round; stroke-linejoin:round; stroke-width:2; stroke-opacity:0.1; fill:none\" points=\"1945.02,1486.45 1945.02,47.2441 \"/>\n",
       "<polyline clip-path=\"url(#clip142)\" style=\"stroke:#000000; stroke-linecap:round; stroke-linejoin:round; stroke-width:2; stroke-opacity:0.1; fill:none\" points=\"2291.44,1486.45 2291.44,47.2441 \"/>\n",
       "<polyline clip-path=\"url(#clip140)\" style=\"stroke:#000000; stroke-linecap:round; stroke-linejoin:round; stroke-width:4; stroke-opacity:1; fill:none\" points=\"186.274,1486.45 2352.76,1486.45 \"/>\n",
       "<polyline clip-path=\"url(#clip140)\" style=\"stroke:#000000; stroke-linecap:round; stroke-linejoin:round; stroke-width:4; stroke-opacity:1; fill:none\" points=\"212.948,1486.45 212.948,1467.55 \"/>\n",
       "<polyline clip-path=\"url(#clip140)\" style=\"stroke:#000000; stroke-linecap:round; stroke-linejoin:round; stroke-width:4; stroke-opacity:1; fill:none\" points=\"559.363,1486.45 559.363,1467.55 \"/>\n",
       "<polyline clip-path=\"url(#clip140)\" style=\"stroke:#000000; stroke-linecap:round; stroke-linejoin:round; stroke-width:4; stroke-opacity:1; fill:none\" points=\"905.779,1486.45 905.779,1467.55 \"/>\n",
       "<polyline clip-path=\"url(#clip140)\" style=\"stroke:#000000; stroke-linecap:round; stroke-linejoin:round; stroke-width:4; stroke-opacity:1; fill:none\" points=\"1252.19,1486.45 1252.19,1467.55 \"/>\n",
       "<polyline clip-path=\"url(#clip140)\" style=\"stroke:#000000; stroke-linecap:round; stroke-linejoin:round; stroke-width:4; stroke-opacity:1; fill:none\" points=\"1598.61,1486.45 1598.61,1467.55 \"/>\n",
       "<polyline clip-path=\"url(#clip140)\" style=\"stroke:#000000; stroke-linecap:round; stroke-linejoin:round; stroke-width:4; stroke-opacity:1; fill:none\" points=\"1945.02,1486.45 1945.02,1467.55 \"/>\n",
       "<polyline clip-path=\"url(#clip140)\" style=\"stroke:#000000; stroke-linecap:round; stroke-linejoin:round; stroke-width:4; stroke-opacity:1; fill:none\" points=\"2291.44,1486.45 2291.44,1467.55 \"/>\n",
       "<path clip-path=\"url(#clip140)\" d=\"M212.948 1517.37 Q209.337 1517.37 207.508 1520.93 Q205.703 1524.47 205.703 1531.6 Q205.703 1538.71 207.508 1542.27 Q209.337 1545.82 212.948 1545.82 Q216.582 1545.82 218.388 1542.27 Q220.216 1538.71 220.216 1531.6 Q220.216 1524.47 218.388 1520.93 Q216.582 1517.37 212.948 1517.37 M212.948 1513.66 Q218.758 1513.66 221.814 1518.27 Q224.892 1522.85 224.892 1531.6 Q224.892 1540.33 221.814 1544.94 Q218.758 1549.52 212.948 1549.52 Q207.138 1549.52 204.059 1544.94 Q201.004 1540.33 201.004 1531.6 Q201.004 1522.85 204.059 1518.27 Q207.138 1513.66 212.948 1513.66 Z\" fill=\"#000000\" fill-rule=\"nonzero\" fill-opacity=\"1\" /><path clip-path=\"url(#clip140)\" d=\"M534.051 1544.91 L541.69 1544.91 L541.69 1518.55 L533.38 1520.21 L533.38 1515.95 L541.644 1514.29 L546.319 1514.29 L546.319 1544.91 L553.958 1544.91 L553.958 1548.85 L534.051 1548.85 L534.051 1544.91 Z\" fill=\"#000000\" fill-rule=\"nonzero\" fill-opacity=\"1\" /><path clip-path=\"url(#clip140)\" d=\"M573.403 1517.37 Q569.792 1517.37 567.963 1520.93 Q566.157 1524.47 566.157 1531.6 Q566.157 1538.71 567.963 1542.27 Q569.792 1545.82 573.403 1545.82 Q577.037 1545.82 578.842 1542.27 Q580.671 1538.71 580.671 1531.6 Q580.671 1524.47 578.842 1520.93 Q577.037 1517.37 573.403 1517.37 M573.403 1513.66 Q579.213 1513.66 582.268 1518.27 Q585.347 1522.85 585.347 1531.6 Q585.347 1540.33 582.268 1544.94 Q579.213 1549.52 573.403 1549.52 Q567.593 1549.52 564.514 1544.94 Q561.458 1540.33 561.458 1531.6 Q561.458 1522.85 564.514 1518.27 Q567.593 1513.66 573.403 1513.66 Z\" fill=\"#000000\" fill-rule=\"nonzero\" fill-opacity=\"1\" /><path clip-path=\"url(#clip140)\" d=\"M884.552 1544.91 L900.871 1544.91 L900.871 1548.85 L878.927 1548.85 L878.927 1544.91 Q881.589 1542.16 886.172 1537.53 Q890.779 1532.88 891.959 1531.53 Q894.205 1529.01 895.084 1527.27 Q895.987 1525.51 895.987 1523.82 Q895.987 1521.07 894.043 1519.33 Q892.121 1517.6 889.02 1517.6 Q886.821 1517.6 884.367 1518.36 Q881.936 1519.13 879.159 1520.68 L879.159 1515.95 Q881.983 1514.82 884.436 1514.24 Q886.89 1513.66 888.927 1513.66 Q894.297 1513.66 897.492 1516.35 Q900.686 1519.03 900.686 1523.52 Q900.686 1525.65 899.876 1527.57 Q899.089 1529.47 896.983 1532.07 Q896.404 1532.74 893.302 1535.95 Q890.2 1539.15 884.552 1544.91 Z\" fill=\"#000000\" fill-rule=\"nonzero\" fill-opacity=\"1\" /><path clip-path=\"url(#clip140)\" d=\"M920.686 1517.37 Q917.075 1517.37 915.246 1520.93 Q913.441 1524.47 913.441 1531.6 Q913.441 1538.71 915.246 1542.27 Q917.075 1545.82 920.686 1545.82 Q924.32 1545.82 926.126 1542.27 Q927.955 1538.71 927.955 1531.6 Q927.955 1524.47 926.126 1520.93 Q924.32 1517.37 920.686 1517.37 M920.686 1513.66 Q926.496 1513.66 929.552 1518.27 Q932.63 1522.85 932.63 1531.6 Q932.63 1540.33 929.552 1544.94 Q926.496 1549.52 920.686 1549.52 Q914.876 1549.52 911.797 1544.94 Q908.742 1540.33 908.742 1531.6 Q908.742 1522.85 911.797 1518.27 Q914.876 1513.66 920.686 1513.66 Z\" fill=\"#000000\" fill-rule=\"nonzero\" fill-opacity=\"1\" /><path clip-path=\"url(#clip140)\" d=\"M1241.04 1530.21 Q1244.39 1530.93 1246.27 1533.2 Q1248.17 1535.47 1248.17 1538.8 Q1248.17 1543.92 1244.65 1546.72 Q1241.13 1549.52 1234.65 1549.52 Q1232.47 1549.52 1230.16 1549.08 Q1227.87 1548.66 1225.41 1547.81 L1225.41 1543.29 Q1227.36 1544.43 1229.67 1545.01 Q1231.99 1545.58 1234.51 1545.58 Q1238.91 1545.58 1241.2 1543.85 Q1243.51 1542.11 1243.51 1538.8 Q1243.51 1535.75 1241.36 1534.03 Q1239.23 1532.3 1235.41 1532.3 L1231.38 1532.3 L1231.38 1528.45 L1235.6 1528.45 Q1239.05 1528.45 1240.87 1527.09 Q1242.7 1525.7 1242.7 1523.11 Q1242.7 1520.45 1240.81 1519.03 Q1238.93 1517.6 1235.41 1517.6 Q1233.49 1517.6 1231.29 1518.01 Q1229.09 1518.43 1226.45 1519.31 L1226.45 1515.14 Q1229.12 1514.4 1231.43 1514.03 Q1233.77 1513.66 1235.83 1513.66 Q1241.15 1513.66 1244.25 1516.09 Q1247.36 1518.5 1247.36 1522.62 Q1247.36 1525.49 1245.71 1527.48 Q1244.07 1529.45 1241.04 1530.21 Z\" fill=\"#000000\" fill-rule=\"nonzero\" fill-opacity=\"1\" /><path clip-path=\"url(#clip140)\" d=\"M1267.03 1517.37 Q1263.42 1517.37 1261.59 1520.93 Q1259.79 1524.47 1259.79 1531.6 Q1259.79 1538.71 1261.59 1542.27 Q1263.42 1545.82 1267.03 1545.82 Q1270.67 1545.82 1272.47 1542.27 Q1274.3 1538.71 1274.3 1531.6 Q1274.3 1524.47 1272.47 1520.93 Q1270.67 1517.37 1267.03 1517.37 M1267.03 1513.66 Q1272.84 1513.66 1275.9 1518.27 Q1278.98 1522.85 1278.98 1531.6 Q1278.98 1540.33 1275.9 1544.94 Q1272.84 1549.52 1267.03 1549.52 Q1261.22 1549.52 1258.14 1544.94 Q1255.09 1540.33 1255.09 1531.6 Q1255.09 1522.85 1258.14 1518.27 Q1261.22 1513.66 1267.03 1513.66 Z\" fill=\"#000000\" fill-rule=\"nonzero\" fill-opacity=\"1\" /><path clip-path=\"url(#clip140)\" d=\"M1586.78 1518.36 L1574.98 1536.81 L1586.78 1536.81 L1586.78 1518.36 M1585.55 1514.29 L1591.43 1514.29 L1591.43 1536.81 L1596.36 1536.81 L1596.36 1540.7 L1591.43 1540.7 L1591.43 1548.85 L1586.78 1548.85 L1586.78 1540.7 L1571.18 1540.7 L1571.18 1536.19 L1585.55 1514.29 Z\" fill=\"#000000\" fill-rule=\"nonzero\" fill-opacity=\"1\" /><path clip-path=\"url(#clip140)\" d=\"M1614.1 1517.37 Q1610.48 1517.37 1608.66 1520.93 Q1606.85 1524.47 1606.85 1531.6 Q1606.85 1538.71 1608.66 1542.27 Q1610.48 1545.82 1614.1 1545.82 Q1617.73 1545.82 1619.54 1542.27 Q1621.36 1538.71 1621.36 1531.6 Q1621.36 1524.47 1619.54 1520.93 Q1617.73 1517.37 1614.1 1517.37 M1614.1 1513.66 Q1619.91 1513.66 1622.96 1518.27 Q1626.04 1522.85 1626.04 1531.6 Q1626.04 1540.33 1622.96 1544.94 Q1619.91 1549.52 1614.1 1549.52 Q1608.29 1549.52 1605.21 1544.94 Q1602.15 1540.33 1602.15 1531.6 Q1602.15 1522.85 1605.21 1518.27 Q1608.29 1513.66 1614.1 1513.66 Z\" fill=\"#000000\" fill-rule=\"nonzero\" fill-opacity=\"1\" /><path clip-path=\"url(#clip140)\" d=\"M1919.72 1514.29 L1938.08 1514.29 L1938.08 1518.22 L1924.01 1518.22 L1924.01 1526.7 Q1925.03 1526.35 1926.04 1526.19 Q1927.06 1526 1928.08 1526 Q1933.87 1526 1937.25 1529.17 Q1940.63 1532.34 1940.63 1537.76 Q1940.63 1543.34 1937.15 1546.44 Q1933.68 1549.52 1927.36 1549.52 Q1925.19 1549.52 1922.92 1549.15 Q1920.67 1548.78 1918.27 1548.04 L1918.27 1543.34 Q1920.35 1544.47 1922.57 1545.03 Q1924.79 1545.58 1927.27 1545.58 Q1931.28 1545.58 1933.61 1543.48 Q1935.95 1541.37 1935.95 1537.76 Q1935.95 1534.15 1933.61 1532.04 Q1931.28 1529.94 1927.27 1529.94 Q1925.4 1529.94 1923.52 1530.35 Q1921.67 1530.77 1919.72 1531.65 L1919.72 1514.29 Z\" fill=\"#000000\" fill-rule=\"nonzero\" fill-opacity=\"1\" /><path clip-path=\"url(#clip140)\" d=\"M1959.84 1517.37 Q1956.23 1517.37 1954.4 1520.93 Q1952.59 1524.47 1952.59 1531.6 Q1952.59 1538.71 1954.4 1542.27 Q1956.23 1545.82 1959.84 1545.82 Q1963.47 1545.82 1965.28 1542.27 Q1967.11 1538.71 1967.11 1531.6 Q1967.11 1524.47 1965.28 1520.93 Q1963.47 1517.37 1959.84 1517.37 M1959.84 1513.66 Q1965.65 1513.66 1968.71 1518.27 Q1971.78 1522.85 1971.78 1531.6 Q1971.78 1540.33 1968.71 1544.94 Q1965.65 1549.52 1959.84 1549.52 Q1954.03 1549.52 1950.95 1544.94 Q1947.9 1540.33 1947.9 1531.6 Q1947.9 1522.85 1950.95 1518.27 Q1954.03 1513.66 1959.84 1513.66 Z\" fill=\"#000000\" fill-rule=\"nonzero\" fill-opacity=\"1\" /><path clip-path=\"url(#clip140)\" d=\"M2276.85 1529.7 Q2273.7 1529.7 2271.85 1531.86 Q2270.02 1534.01 2270.02 1537.76 Q2270.02 1541.49 2271.85 1543.66 Q2273.7 1545.82 2276.85 1545.82 Q2279.99 1545.82 2281.82 1543.66 Q2283.67 1541.49 2283.67 1537.76 Q2283.67 1534.01 2281.82 1531.86 Q2279.99 1529.7 2276.85 1529.7 M2286.13 1515.05 L2286.13 1519.31 Q2284.37 1518.48 2282.56 1518.04 Q2280.78 1517.6 2279.02 1517.6 Q2274.39 1517.6 2271.94 1520.72 Q2269.51 1523.85 2269.16 1530.17 Q2270.53 1528.15 2272.59 1527.09 Q2274.65 1526 2277.12 1526 Q2282.33 1526 2285.34 1529.17 Q2288.37 1532.32 2288.37 1537.76 Q2288.37 1543.08 2285.23 1546.3 Q2282.08 1549.52 2276.85 1549.52 Q2270.85 1549.52 2267.68 1544.94 Q2264.51 1540.33 2264.51 1531.6 Q2264.51 1523.41 2268.4 1518.55 Q2272.29 1513.66 2278.84 1513.66 Q2280.6 1513.66 2282.38 1514.01 Q2284.18 1514.36 2286.13 1515.05 Z\" fill=\"#000000\" fill-rule=\"nonzero\" fill-opacity=\"1\" /><path clip-path=\"url(#clip140)\" d=\"M2306.43 1517.37 Q2302.82 1517.37 2300.99 1520.93 Q2299.18 1524.47 2299.18 1531.6 Q2299.18 1538.71 2300.99 1542.27 Q2302.82 1545.82 2306.43 1545.82 Q2310.06 1545.82 2311.87 1542.27 Q2313.7 1538.71 2313.7 1531.6 Q2313.7 1524.47 2311.87 1520.93 Q2310.06 1517.37 2306.43 1517.37 M2306.43 1513.66 Q2312.24 1513.66 2315.29 1518.27 Q2318.37 1522.85 2318.37 1531.6 Q2318.37 1540.33 2315.29 1544.94 Q2312.24 1549.52 2306.43 1549.52 Q2300.62 1549.52 2297.54 1544.94 Q2294.48 1540.33 2294.48 1531.6 Q2294.48 1522.85 2297.54 1518.27 Q2300.62 1513.66 2306.43 1513.66 Z\" fill=\"#000000\" fill-rule=\"nonzero\" fill-opacity=\"1\" /><polyline clip-path=\"url(#clip142)\" style=\"stroke:#000000; stroke-linecap:round; stroke-linejoin:round; stroke-width:2; stroke-opacity:0.1; fill:none\" points=\"186.274,1445.72 2352.76,1445.72 \"/>\n",
       "<polyline clip-path=\"url(#clip142)\" style=\"stroke:#000000; stroke-linecap:round; stroke-linejoin:round; stroke-width:2; stroke-opacity:0.1; fill:none\" points=\"186.274,1104.92 2352.76,1104.92 \"/>\n",
       "<polyline clip-path=\"url(#clip142)\" style=\"stroke:#000000; stroke-linecap:round; stroke-linejoin:round; stroke-width:2; stroke-opacity:0.1; fill:none\" points=\"186.274,764.12 2352.76,764.12 \"/>\n",
       "<polyline clip-path=\"url(#clip142)\" style=\"stroke:#000000; stroke-linecap:round; stroke-linejoin:round; stroke-width:2; stroke-opacity:0.1; fill:none\" points=\"186.274,423.322 2352.76,423.322 \"/>\n",
       "<polyline clip-path=\"url(#clip142)\" style=\"stroke:#000000; stroke-linecap:round; stroke-linejoin:round; stroke-width:2; stroke-opacity:0.1; fill:none\" points=\"186.274,82.5235 2352.76,82.5235 \"/>\n",
       "<polyline clip-path=\"url(#clip140)\" style=\"stroke:#000000; stroke-linecap:round; stroke-linejoin:round; stroke-width:4; stroke-opacity:1; fill:none\" points=\"186.274,1486.45 186.274,47.2441 \"/>\n",
       "<polyline clip-path=\"url(#clip140)\" style=\"stroke:#000000; stroke-linecap:round; stroke-linejoin:round; stroke-width:4; stroke-opacity:1; fill:none\" points=\"186.274,1445.72 205.172,1445.72 \"/>\n",
       "<polyline clip-path=\"url(#clip140)\" style=\"stroke:#000000; stroke-linecap:round; stroke-linejoin:round; stroke-width:4; stroke-opacity:1; fill:none\" points=\"186.274,1104.92 205.172,1104.92 \"/>\n",
       "<polyline clip-path=\"url(#clip140)\" style=\"stroke:#000000; stroke-linecap:round; stroke-linejoin:round; stroke-width:4; stroke-opacity:1; fill:none\" points=\"186.274,764.12 205.172,764.12 \"/>\n",
       "<polyline clip-path=\"url(#clip140)\" style=\"stroke:#000000; stroke-linecap:round; stroke-linejoin:round; stroke-width:4; stroke-opacity:1; fill:none\" points=\"186.274,423.322 205.172,423.322 \"/>\n",
       "<polyline clip-path=\"url(#clip140)\" style=\"stroke:#000000; stroke-linecap:round; stroke-linejoin:round; stroke-width:4; stroke-opacity:1; fill:none\" points=\"186.274,82.5235 205.172,82.5235 \"/>\n",
       "<path clip-path=\"url(#clip140)\" d=\"M62.9365 1431.51 Q59.3254 1431.51 57.4967 1435.08 Q55.6912 1438.62 55.6912 1445.75 Q55.6912 1452.86 57.4967 1456.42 Q59.3254 1459.96 62.9365 1459.96 Q66.5707 1459.96 68.3763 1456.42 Q70.205 1452.86 70.205 1445.75 Q70.205 1438.62 68.3763 1435.08 Q66.5707 1431.51 62.9365 1431.51 M62.9365 1427.81 Q68.7467 1427.81 71.8022 1432.42 Q74.8809 1437 74.8809 1445.75 Q74.8809 1454.48 71.8022 1459.08 Q68.7467 1463.67 62.9365 1463.67 Q57.1264 1463.67 54.0477 1459.08 Q50.9921 1454.48 50.9921 1445.75 Q50.9921 1437 54.0477 1432.42 Q57.1264 1427.81 62.9365 1427.81 Z\" fill=\"#000000\" fill-rule=\"nonzero\" fill-opacity=\"1\" /><path clip-path=\"url(#clip140)\" d=\"M83.0984 1457.12 L87.9827 1457.12 L87.9827 1463 L83.0984 1463 L83.0984 1457.12 Z\" fill=\"#000000\" fill-rule=\"nonzero\" fill-opacity=\"1\" /><path clip-path=\"url(#clip140)\" d=\"M108.168 1431.51 Q104.557 1431.51 102.728 1435.08 Q100.922 1438.62 100.922 1445.75 Q100.922 1452.86 102.728 1456.42 Q104.557 1459.96 108.168 1459.96 Q111.802 1459.96 113.608 1456.42 Q115.436 1452.86 115.436 1445.75 Q115.436 1438.62 113.608 1435.08 Q111.802 1431.51 108.168 1431.51 M108.168 1427.81 Q113.978 1427.81 117.033 1432.42 Q120.112 1437 120.112 1445.75 Q120.112 1454.48 117.033 1459.08 Q113.978 1463.67 108.168 1463.67 Q102.358 1463.67 99.2789 1459.08 Q96.2234 1454.48 96.2234 1445.75 Q96.2234 1437 99.2789 1432.42 Q102.358 1427.81 108.168 1427.81 Z\" fill=\"#000000\" fill-rule=\"nonzero\" fill-opacity=\"1\" /><path clip-path=\"url(#clip140)\" d=\"M138.33 1431.51 Q134.719 1431.51 132.89 1435.08 Q131.084 1438.62 131.084 1445.75 Q131.084 1452.86 132.89 1456.42 Q134.719 1459.96 138.33 1459.96 Q141.964 1459.96 143.769 1456.42 Q145.598 1452.86 145.598 1445.75 Q145.598 1438.62 143.769 1435.08 Q141.964 1431.51 138.33 1431.51 M138.33 1427.81 Q144.14 1427.81 147.195 1432.42 Q150.274 1437 150.274 1445.75 Q150.274 1454.48 147.195 1459.08 Q144.14 1463.67 138.33 1463.67 Q132.519 1463.67 129.441 1459.08 Q126.385 1454.48 126.385 1445.75 Q126.385 1437 129.441 1432.42 Q132.519 1427.81 138.33 1427.81 Z\" fill=\"#000000\" fill-rule=\"nonzero\" fill-opacity=\"1\" /><path clip-path=\"url(#clip140)\" d=\"M63.9319 1090.72 Q60.3208 1090.72 58.4921 1094.28 Q56.6865 1097.82 56.6865 1104.95 Q56.6865 1112.06 58.4921 1115.62 Q60.3208 1119.17 63.9319 1119.17 Q67.5661 1119.17 69.3717 1115.62 Q71.2004 1112.06 71.2004 1104.95 Q71.2004 1097.82 69.3717 1094.28 Q67.5661 1090.72 63.9319 1090.72 M63.9319 1087.01 Q69.742 1087.01 72.7976 1091.62 Q75.8763 1096.2 75.8763 1104.95 Q75.8763 1113.68 72.7976 1118.29 Q69.742 1122.87 63.9319 1122.87 Q58.1217 1122.87 55.043 1118.29 Q51.9875 1113.68 51.9875 1104.95 Q51.9875 1096.2 55.043 1091.62 Q58.1217 1087.01 63.9319 1087.01 Z\" fill=\"#000000\" fill-rule=\"nonzero\" fill-opacity=\"1\" /><path clip-path=\"url(#clip140)\" d=\"M84.0938 1116.32 L88.978 1116.32 L88.978 1122.2 L84.0938 1122.2 L84.0938 1116.32 Z\" fill=\"#000000\" fill-rule=\"nonzero\" fill-opacity=\"1\" /><path clip-path=\"url(#clip140)\" d=\"M103.191 1118.26 L119.51 1118.26 L119.51 1122.2 L97.566 1122.2 L97.566 1118.26 Q100.228 1115.51 104.811 1110.88 Q109.418 1106.23 110.598 1104.88 Q112.844 1102.36 113.723 1100.62 Q114.626 1098.86 114.626 1097.17 Q114.626 1094.42 112.682 1092.68 Q110.76 1090.95 107.658 1090.95 Q105.459 1090.95 103.006 1091.71 Q100.575 1092.48 97.7974 1094.03 L97.7974 1089.3 Q100.621 1088.17 103.075 1087.59 Q105.529 1087.01 107.566 1087.01 Q112.936 1087.01 116.131 1089.7 Q119.325 1092.38 119.325 1096.87 Q119.325 1099 118.515 1100.92 Q117.728 1102.82 115.621 1105.42 Q115.043 1106.09 111.941 1109.3 Q108.839 1112.5 103.191 1118.26 Z\" fill=\"#000000\" fill-rule=\"nonzero\" fill-opacity=\"1\" /><path clip-path=\"url(#clip140)\" d=\"M129.371 1087.64 L147.728 1087.64 L147.728 1091.57 L133.654 1091.57 L133.654 1100.04 Q134.672 1099.7 135.691 1099.54 Q136.709 1099.35 137.728 1099.35 Q143.515 1099.35 146.894 1102.52 Q150.274 1105.69 150.274 1111.11 Q150.274 1116.69 146.802 1119.79 Q143.33 1122.87 137.01 1122.87 Q134.834 1122.87 132.566 1122.5 Q130.32 1122.13 127.913 1121.39 L127.913 1116.69 Q129.996 1117.82 132.219 1118.38 Q134.441 1118.93 136.918 1118.93 Q140.922 1118.93 143.26 1116.83 Q145.598 1114.72 145.598 1111.11 Q145.598 1107.5 143.26 1105.39 Q140.922 1103.29 136.918 1103.29 Q135.043 1103.29 133.168 1103.7 Q131.316 1104.12 129.371 1105 L129.371 1087.64 Z\" fill=\"#000000\" fill-rule=\"nonzero\" fill-opacity=\"1\" /><path clip-path=\"url(#clip140)\" d=\"M62.9365 749.918 Q59.3254 749.918 57.4967 753.483 Q55.6912 757.025 55.6912 764.154 Q55.6912 771.261 57.4967 774.826 Q59.3254 778.367 62.9365 778.367 Q66.5707 778.367 68.3763 774.826 Q70.205 771.261 70.205 764.154 Q70.205 757.025 68.3763 753.483 Q66.5707 749.918 62.9365 749.918 M62.9365 746.215 Q68.7467 746.215 71.8022 750.821 Q74.8809 755.404 74.8809 764.154 Q74.8809 772.881 71.8022 777.488 Q68.7467 782.071 62.9365 782.071 Q57.1264 782.071 54.0477 777.488 Q50.9921 772.881 50.9921 764.154 Q50.9921 755.404 54.0477 750.821 Q57.1264 746.215 62.9365 746.215 Z\" fill=\"#000000\" fill-rule=\"nonzero\" fill-opacity=\"1\" /><path clip-path=\"url(#clip140)\" d=\"M83.0984 775.52 L87.9827 775.52 L87.9827 781.4 L83.0984 781.4 L83.0984 775.52 Z\" fill=\"#000000\" fill-rule=\"nonzero\" fill-opacity=\"1\" /><path clip-path=\"url(#clip140)\" d=\"M98.2141 746.84 L116.57 746.84 L116.57 750.775 L102.496 750.775 L102.496 759.247 Q103.515 758.9 104.534 758.738 Q105.552 758.553 106.571 758.553 Q112.358 758.553 115.737 761.724 Q119.117 764.895 119.117 770.312 Q119.117 775.89 115.645 778.992 Q112.172 782.071 105.853 782.071 Q103.677 782.071 101.409 781.701 Q99.1632 781.33 96.7558 780.589 L96.7558 775.89 Q98.8391 777.025 101.061 777.58 Q103.284 778.136 105.76 778.136 Q109.765 778.136 112.103 776.029 Q114.441 773.923 114.441 770.312 Q114.441 766.701 112.103 764.594 Q109.765 762.488 105.76 762.488 Q103.885 762.488 102.01 762.904 Q100.159 763.321 98.2141 764.201 L98.2141 746.84 Z\" fill=\"#000000\" fill-rule=\"nonzero\" fill-opacity=\"1\" /><path clip-path=\"url(#clip140)\" d=\"M138.33 749.918 Q134.719 749.918 132.89 753.483 Q131.084 757.025 131.084 764.154 Q131.084 771.261 132.89 774.826 Q134.719 778.367 138.33 778.367 Q141.964 778.367 143.769 774.826 Q145.598 771.261 145.598 764.154 Q145.598 757.025 143.769 753.483 Q141.964 749.918 138.33 749.918 M138.33 746.215 Q144.14 746.215 147.195 750.821 Q150.274 755.404 150.274 764.154 Q150.274 772.881 147.195 777.488 Q144.14 782.071 138.33 782.071 Q132.519 782.071 129.441 777.488 Q126.385 772.881 126.385 764.154 Q126.385 755.404 129.441 750.821 Q132.519 746.215 138.33 746.215 Z\" fill=\"#000000\" fill-rule=\"nonzero\" fill-opacity=\"1\" /><path clip-path=\"url(#clip140)\" d=\"M63.9319 409.12 Q60.3208 409.12 58.4921 412.685 Q56.6865 416.227 56.6865 423.356 Q56.6865 430.463 58.4921 434.028 Q60.3208 437.569 63.9319 437.569 Q67.5661 437.569 69.3717 434.028 Q71.2004 430.463 71.2004 423.356 Q71.2004 416.227 69.3717 412.685 Q67.5661 409.12 63.9319 409.12 M63.9319 405.417 Q69.742 405.417 72.7976 410.023 Q75.8763 414.606 75.8763 423.356 Q75.8763 432.083 72.7976 436.69 Q69.742 441.273 63.9319 441.273 Q58.1217 441.273 55.043 436.69 Q51.9875 432.083 51.9875 423.356 Q51.9875 414.606 55.043 410.023 Q58.1217 405.417 63.9319 405.417 Z\" fill=\"#000000\" fill-rule=\"nonzero\" fill-opacity=\"1\" /><path clip-path=\"url(#clip140)\" d=\"M84.0938 434.722 L88.978 434.722 L88.978 440.602 L84.0938 440.602 L84.0938 434.722 Z\" fill=\"#000000\" fill-rule=\"nonzero\" fill-opacity=\"1\" /><path clip-path=\"url(#clip140)\" d=\"M97.9826 406.042 L120.205 406.042 L120.205 408.032 L107.658 440.602 L102.774 440.602 L114.58 409.977 L97.9826 409.977 L97.9826 406.042 Z\" fill=\"#000000\" fill-rule=\"nonzero\" fill-opacity=\"1\" /><path clip-path=\"url(#clip140)\" d=\"M129.371 406.042 L147.728 406.042 L147.728 409.977 L133.654 409.977 L133.654 418.449 Q134.672 418.102 135.691 417.94 Q136.709 417.754 137.728 417.754 Q143.515 417.754 146.894 420.926 Q150.274 424.097 150.274 429.514 Q150.274 435.092 146.802 438.194 Q143.33 441.273 137.01 441.273 Q134.834 441.273 132.566 440.902 Q130.32 440.532 127.913 439.791 L127.913 435.092 Q129.996 436.227 132.219 436.782 Q134.441 437.338 136.918 437.338 Q140.922 437.338 143.26 435.231 Q145.598 433.125 145.598 429.514 Q145.598 425.903 143.26 423.796 Q140.922 421.69 136.918 421.69 Q135.043 421.69 133.168 422.106 Q131.316 422.523 129.371 423.403 L129.371 406.042 Z\" fill=\"#000000\" fill-rule=\"nonzero\" fill-opacity=\"1\" /><path clip-path=\"url(#clip140)\" d=\"M53.7467 95.8683 L61.3856 95.8683 L61.3856 69.5027 L53.0754 71.1694 L53.0754 66.9102 L61.3393 65.2435 L66.0152 65.2435 L66.0152 95.8683 L73.654 95.8683 L73.654 99.8035 L53.7467 99.8035 L53.7467 95.8683 Z\" fill=\"#000000\" fill-rule=\"nonzero\" fill-opacity=\"1\" /><path clip-path=\"url(#clip140)\" d=\"M83.0984 93.9239 L87.9827 93.9239 L87.9827 99.8035 L83.0984 99.8035 L83.0984 93.9239 Z\" fill=\"#000000\" fill-rule=\"nonzero\" fill-opacity=\"1\" /><path clip-path=\"url(#clip140)\" d=\"M108.168 68.3222 Q104.557 68.3222 102.728 71.887 Q100.922 75.4286 100.922 82.5582 Q100.922 89.6647 102.728 93.2295 Q104.557 96.7711 108.168 96.7711 Q111.802 96.7711 113.608 93.2295 Q115.436 89.6647 115.436 82.5582 Q115.436 75.4286 113.608 71.887 Q111.802 68.3222 108.168 68.3222 M108.168 64.6185 Q113.978 64.6185 117.033 69.225 Q120.112 73.8083 120.112 82.5582 Q120.112 91.285 117.033 95.8915 Q113.978 100.475 108.168 100.475 Q102.358 100.475 99.2789 95.8915 Q96.2234 91.285 96.2234 82.5582 Q96.2234 73.8083 99.2789 69.225 Q102.358 64.6185 108.168 64.6185 Z\" fill=\"#000000\" fill-rule=\"nonzero\" fill-opacity=\"1\" /><path clip-path=\"url(#clip140)\" d=\"M138.33 68.3222 Q134.719 68.3222 132.89 71.887 Q131.084 75.4286 131.084 82.5582 Q131.084 89.6647 132.89 93.2295 Q134.719 96.7711 138.33 96.7711 Q141.964 96.7711 143.769 93.2295 Q145.598 89.6647 145.598 82.5582 Q145.598 75.4286 143.769 71.887 Q141.964 68.3222 138.33 68.3222 M138.33 64.6185 Q144.14 64.6185 147.195 69.225 Q150.274 73.8083 150.274 82.5582 Q150.274 91.285 147.195 95.8915 Q144.14 100.475 138.33 100.475 Q132.519 100.475 129.441 95.8915 Q126.385 91.285 126.385 82.5582 Q126.385 73.8083 129.441 69.225 Q132.519 64.6185 138.33 64.6185 Z\" fill=\"#000000\" fill-rule=\"nonzero\" fill-opacity=\"1\" /><polyline clip-path=\"url(#clip142)\" style=\"stroke:#009af9; stroke-linecap:round; stroke-linejoin:round; stroke-width:4; stroke-opacity:1; fill:none\" points=\"247.59,1445.72 282.231,1441.22 316.873,1431.54 351.514,1426.36 386.156,1409.59 420.797,1388.87 455.439,1364.33 490.08,1338.43 524.722,1313.9 559.363,1284.72 594.005,1249.55 628.646,1218.2 663.288,1183.44 697.93,1137.23 732.571,1101.51 767.213,1060.75 801.854,1010.31 836.496,984.411 871.137,931.247 905.779,891.442 940.42,846.456 975.062,798.881 1009.7,746.125 1044.34,716.817 1078.99,677.966 1113.63,624.801 1148.27,596.583 1182.91,553.234 1217.55,515.201 1252.19,484.12 1286.84,449.904 1321.48,422.776 1356.12,388.833 1390.76,357.616 1425.4,339.622 1460.04,316.72 1494.68,292.864 1529.33,273.507 1563.97,245.834 1598.61,232.066 1633.25,214.208 1667.89,197.85 1702.53,187.762 1737.18,170.858 1771.82,167.996 1806.46,145.912 1841.1,145.23 1875.74,139.778 1910.38,128.054 1945.02,127.645 1979.67,117.149 2014.31,112.377 2048.95,113.741 2083.59,102.699 2118.23,103.108 2152.87,97.7913 2187.52,93.838 2222.16,93.1564 2256.8,90.839 2291.44,87.9763 \"/>\n",
       "<path clip-path=\"url(#clip140)\" d=\"M258.49 198.898 L527.569 198.898 L527.569 95.2176 L258.49 95.2176  Z\" fill=\"#ffffff\" fill-rule=\"evenodd\" fill-opacity=\"1\"/>\n",
       "<polyline clip-path=\"url(#clip140)\" style=\"stroke:#000000; stroke-linecap:round; stroke-linejoin:round; stroke-width:4; stroke-opacity:1; fill:none\" points=\"258.49,198.898 527.569,198.898 527.569,95.2176 258.49,95.2176 258.49,198.898 \"/>\n",
       "<polyline clip-path=\"url(#clip140)\" style=\"stroke:#009af9; stroke-linecap:round; stroke-linejoin:round; stroke-width:4; stroke-opacity:1; fill:none\" points=\"282.562,147.058 426.994,147.058 \"/>\n",
       "<path clip-path=\"url(#clip140)\" d=\"M464.909 166.745 Q463.103 171.375 461.39 172.787 Q459.677 174.199 456.807 174.199 L453.404 174.199 L453.404 170.634 L455.904 170.634 Q457.663 170.634 458.636 169.8 Q459.608 168.967 460.788 165.865 L461.552 163.921 L451.066 138.412 L455.58 138.412 L463.682 158.689 L471.784 138.412 L476.298 138.412 L464.909 166.745 Z\" fill=\"#000000\" fill-rule=\"nonzero\" fill-opacity=\"1\" /><path clip-path=\"url(#clip140)\" d=\"M483.589 160.402 L491.228 160.402 L491.228 134.037 L482.918 135.703 L482.918 131.444 L491.182 129.778 L495.858 129.778 L495.858 160.402 L503.497 160.402 L503.497 164.338 L483.589 164.338 L483.589 160.402 Z\" fill=\"#000000\" fill-rule=\"nonzero\" fill-opacity=\"1\" /></svg>\n"
      ]
     },
     "metadata": {},
     "output_type": "display_data"
    }
   ],
   "source": [
    "map(compute_prob, 1:60) |> plot"
   ]
  },
  {
   "attachments": {},
   "cell_type": "markdown",
   "metadata": {},
   "source": [
    "The function we just defined uses a Monte Carlo simulation,\n",
    "but we can use what we've learned about probability theory\n",
    "to compute the exact value.\n",
    "Not only do we get the exact answer using math,\n",
    "but the computations are much faster since we\n",
    "don't have to generate experiments.\n",
    "We simply get a number.\n",
    "To make the math simpler for this particular problem,\n",
    "instead of computing the probability of it happening,\n",
    "we'll compute the probability of it not happening,\n",
    "and then we can use the multiplication rule.\n",
    "Let's start with the first person.\n",
    "The probability that person 1 has a unique birthday is 1, of course.\n",
    "All right.\n",
    "Now let's move on to the second one.\n",
    "The probability that the second person has\n",
    "a unique birthday given that person 1 already took one of the days\n",
    "is 364 divided by 365.\n",
    "Then for a person 3, given that the first two people already\n",
    "have unique birthdays, that leaves 363.\n",
    "So now that probability is 363 divided by 365.\n",
    "If we continue this way and find the chances of all,\n",
    "say, 50 people having unique birthdays, we would multiply 1 times 364 divided\n",
    "by 365, times 363 divided by 365, dot dot\n",
    "dot, all the way to the 50th element."
   ]
  },
  {
   "attachments": {},
   "cell_type": "markdown",
   "metadata": {},
   "source": [
    "$$Pr(\\text{person 1 has a unique birthday}) = 1$$\n",
    "\n",
    "$$Pr(\\text{person 2 has a unique birthday} \\text{ | } \\text{person 1 has a unique birthday}) = \\frac{364}{365}$$\n",
    "\n",
    "$$Pr(\\text{person 3 has a unique birthday} \\text{ | } \\text{person 1 has a unique birthday} \\text{ and } \\text{person 2 has a unique birthday}) = \\frac{363}{365}$$\n"
   ]
  },
  {
   "attachments": {},
   "cell_type": "markdown",
   "metadata": {},
   "source": [
    "Now, we can easily write a function that does this.\n",
    "This time we'll call it exact prob.\n",
    "It takes n as a argument, and it computes\n",
    "this probability using this simple code."
   ]
  },
  {
   "cell_type": "code",
   "execution_count": 37,
   "metadata": {},
   "outputs": [
    {
     "data": {
      "text/plain": [
       "exact_prob (generic function with 1 method)"
      ]
     },
     "metadata": {},
     "output_type": "display_data"
    }
   ],
   "source": [
    "\n",
    "\n",
    "function exact_prob(n::Int)\n",
    "    prob_unique = [(365 - i) / 365 for i in 0:(n-1)]\n",
    "    return 1 - prod(prob_unique)\n",
    "end\n",
    "  \n",
    "\n",
    " \n"
   ]
  },
  {
   "cell_type": "code",
   "execution_count": 38,
   "metadata": {},
   "outputs": [
    {
     "data": {
      "text/plain": [
       "0.9703735795779884"
      ]
     },
     "metadata": {},
     "output_type": "display_data"
    }
   ],
   "source": [
    "exact_prob(50)"
   ]
  },
  {
   "cell_type": "code",
   "execution_count": 39,
   "metadata": {},
   "outputs": [
    {
     "data": {
      "image/png": "[encoded data removed]",
      "image/svg+xml": [
       "<?xml version=\"1.0\" encoding=\"utf-8\"?>\n",
       "<svg xmlns=\"http://www.w3.org/2000/svg\" xmlns:xlink=\"http://www.w3.org/1999/xlink\" width=\"600\" height=\"400\" viewBox=\"0 0 2400 1600\">\n",
       "<defs>\n",
       "  <clipPath id=\"clip180\">\n",
       "    <rect x=\"0\" y=\"0\" width=\"2400\" height=\"1600\"/>\n",
       "  </clipPath>\n",
       "</defs>\n",
       "<path clip-path=\"url(#clip180)\" d=\"M0 1600 L2400 1600 L2400 0 L0 0  Z\" fill=\"#ffffff\" fill-rule=\"evenodd\" fill-opacity=\"1\"/>\n",
       "<defs>\n",
       "  <clipPath id=\"clip181\">\n",
       "    <rect x=\"480\" y=\"0\" width=\"1681\" height=\"1600\"/>\n",
       "  </clipPath>\n",
       "</defs>\n",
       "<path clip-path=\"url(#clip180)\" d=\"M186.274 1486.45 L2352.76 1486.45 L2352.76 47.2441 L186.274 47.2441  Z\" fill=\"#ffffff\" fill-rule=\"evenodd\" fill-opacity=\"1\"/>\n",
       "<defs>\n",
       "  <clipPath id=\"clip182\">\n",
       "    <rect x=\"186\" y=\"47\" width=\"2167\" height=\"1440\"/>\n",
       "  </clipPath>\n",
       "</defs>\n",
       "<polyline clip-path=\"url(#clip182)\" style=\"stroke:#000000; stroke-linecap:round; stroke-linejoin:round; stroke-width:2; stroke-opacity:0.1; fill:none\" points=\"212.948,1486.45 212.948,47.2441 \"/>\n",
       "<polyline clip-path=\"url(#clip182)\" style=\"stroke:#000000; stroke-linecap:round; stroke-linejoin:round; stroke-width:2; stroke-opacity:0.1; fill:none\" points=\"559.363,1486.45 559.363,47.2441 \"/>\n",
       "<polyline clip-path=\"url(#clip182)\" style=\"stroke:#000000; stroke-linecap:round; stroke-linejoin:round; stroke-width:2; stroke-opacity:0.1; fill:none\" points=\"905.779,1486.45 905.779,47.2441 \"/>\n",
       "<polyline clip-path=\"url(#clip182)\" style=\"stroke:#000000; stroke-linecap:round; stroke-linejoin:round; stroke-width:2; stroke-opacity:0.1; fill:none\" points=\"1252.19,1486.45 1252.19,47.2441 \"/>\n",
       "<polyline clip-path=\"url(#clip182)\" style=\"stroke:#000000; stroke-linecap:round; stroke-linejoin:round; stroke-width:2; stroke-opacity:0.1; fill:none\" points=\"1598.61,1486.45 1598.61,47.2441 \"/>\n",
       "<polyline clip-path=\"url(#clip182)\" style=\"stroke:#000000; stroke-linecap:round; stroke-linejoin:round; stroke-width:2; stroke-opacity:0.1; fill:none\" points=\"1945.02,1486.45 1945.02,47.2441 \"/>\n",
       "<polyline clip-path=\"url(#clip182)\" style=\"stroke:#000000; stroke-linecap:round; stroke-linejoin:round; stroke-width:2; stroke-opacity:0.1; fill:none\" points=\"2291.44,1486.45 2291.44,47.2441 \"/>\n",
       "<polyline clip-path=\"url(#clip180)\" style=\"stroke:#000000; stroke-linecap:round; stroke-linejoin:round; stroke-width:4; stroke-opacity:1; fill:none\" points=\"186.274,1486.45 2352.76,1486.45 \"/>\n",
       "<polyline clip-path=\"url(#clip180)\" style=\"stroke:#000000; stroke-linecap:round; stroke-linejoin:round; stroke-width:4; stroke-opacity:1; fill:none\" points=\"212.948,1486.45 212.948,1467.55 \"/>\n",
       "<polyline clip-path=\"url(#clip180)\" style=\"stroke:#000000; stroke-linecap:round; stroke-linejoin:round; stroke-width:4; stroke-opacity:1; fill:none\" points=\"559.363,1486.45 559.363,1467.55 \"/>\n",
       "<polyline clip-path=\"url(#clip180)\" style=\"stroke:#000000; stroke-linecap:round; stroke-linejoin:round; stroke-width:4; stroke-opacity:1; fill:none\" points=\"905.779,1486.45 905.779,1467.55 \"/>\n",
       "<polyline clip-path=\"url(#clip180)\" style=\"stroke:#000000; stroke-linecap:round; stroke-linejoin:round; stroke-width:4; stroke-opacity:1; fill:none\" points=\"1252.19,1486.45 1252.19,1467.55 \"/>\n",
       "<polyline clip-path=\"url(#clip180)\" style=\"stroke:#000000; stroke-linecap:round; stroke-linejoin:round; stroke-width:4; stroke-opacity:1; fill:none\" points=\"1598.61,1486.45 1598.61,1467.55 \"/>\n",
       "<polyline clip-path=\"url(#clip180)\" style=\"stroke:#000000; stroke-linecap:round; stroke-linejoin:round; stroke-width:4; stroke-opacity:1; fill:none\" points=\"1945.02,1486.45 1945.02,1467.55 \"/>\n",
       "<polyline clip-path=\"url(#clip180)\" style=\"stroke:#000000; stroke-linecap:round; stroke-linejoin:round; stroke-width:4; stroke-opacity:1; fill:none\" points=\"2291.44,1486.45 2291.44,1467.55 \"/>\n",
       "<path clip-path=\"url(#clip180)\" d=\"M212.948 1517.37 Q209.337 1517.37 207.508 1520.93 Q205.703 1524.47 205.703 1531.6 Q205.703 1538.71 207.508 1542.27 Q209.337 1545.82 212.948 1545.82 Q216.582 1545.82 218.388 1542.27 Q220.216 1538.71 220.216 1531.6 Q220.216 1524.47 218.388 1520.93 Q216.582 1517.37 212.948 1517.37 M212.948 1513.66 Q218.758 1513.66 221.814 1518.27 Q224.892 1522.85 224.892 1531.6 Q224.892 1540.33 221.814 1544.94 Q218.758 1549.52 212.948 1549.52 Q207.138 1549.52 204.059 1544.94 Q201.004 1540.33 201.004 1531.6 Q201.004 1522.85 204.059 1518.27 Q207.138 1513.66 212.948 1513.66 Z\" fill=\"#000000\" fill-rule=\"nonzero\" fill-opacity=\"1\" /><path clip-path=\"url(#clip180)\" d=\"M534.051 1544.91 L541.69 1544.91 L541.69 1518.55 L533.38 1520.21 L533.38 1515.95 L541.644 1514.29 L546.319 1514.29 L546.319 1544.91 L553.958 1544.91 L553.958 1548.85 L534.051 1548.85 L534.051 1544.91 Z\" fill=\"#000000\" fill-rule=\"nonzero\" fill-opacity=\"1\" /><path clip-path=\"url(#clip180)\" d=\"M573.403 1517.37 Q569.792 1517.37 567.963 1520.93 Q566.157 1524.47 566.157 1531.6 Q566.157 1538.71 567.963 1542.27 Q569.792 1545.82 573.403 1545.82 Q577.037 1545.82 578.842 1542.27 Q580.671 1538.71 580.671 1531.6 Q580.671 1524.47 578.842 1520.93 Q577.037 1517.37 573.403 1517.37 M573.403 1513.66 Q579.213 1513.66 582.268 1518.27 Q585.347 1522.85 585.347 1531.6 Q585.347 1540.33 582.268 1544.94 Q579.213 1549.52 573.403 1549.52 Q567.593 1549.52 564.514 1544.94 Q561.458 1540.33 561.458 1531.6 Q561.458 1522.85 564.514 1518.27 Q567.593 1513.66 573.403 1513.66 Z\" fill=\"#000000\" fill-rule=\"nonzero\" fill-opacity=\"1\" /><path clip-path=\"url(#clip180)\" d=\"M884.552 1544.91 L900.871 1544.91 L900.871 1548.85 L878.927 1548.85 L878.927 1544.91 Q881.589 1542.16 886.172 1537.53 Q890.779 1532.88 891.959 1531.53 Q894.205 1529.01 895.084 1527.27 Q895.987 1525.51 895.987 1523.82 Q895.987 1521.07 894.043 1519.33 Q892.121 1517.6 889.02 1517.6 Q886.821 1517.6 884.367 1518.36 Q881.936 1519.13 879.159 1520.68 L879.159 1515.95 Q881.983 1514.82 884.436 1514.24 Q886.89 1513.66 888.927 1513.66 Q894.297 1513.66 897.492 1516.35 Q900.686 1519.03 900.686 1523.52 Q900.686 1525.65 899.876 1527.57 Q899.089 1529.47 896.983 1532.07 Q896.404 1532.74 893.302 1535.95 Q890.2 1539.15 884.552 1544.91 Z\" fill=\"#000000\" fill-rule=\"nonzero\" fill-opacity=\"1\" /><path clip-path=\"url(#clip180)\" d=\"M920.686 1517.37 Q917.075 1517.37 915.246 1520.93 Q913.441 1524.47 913.441 1531.6 Q913.441 1538.71 915.246 1542.27 Q917.075 1545.82 920.686 1545.82 Q924.32 1545.82 926.126 1542.27 Q927.955 1538.71 927.955 1531.6 Q927.955 1524.47 926.126 1520.93 Q924.32 1517.37 920.686 1517.37 M920.686 1513.66 Q926.496 1513.66 929.552 1518.27 Q932.63 1522.85 932.63 1531.6 Q932.63 1540.33 929.552 1544.94 Q926.496 1549.52 920.686 1549.52 Q914.876 1549.52 911.797 1544.94 Q908.742 1540.33 908.742 1531.6 Q908.742 1522.85 911.797 1518.27 Q914.876 1513.66 920.686 1513.66 Z\" fill=\"#000000\" fill-rule=\"nonzero\" fill-opacity=\"1\" /><path clip-path=\"url(#clip180)\" d=\"M1241.04 1530.21 Q1244.39 1530.93 1246.27 1533.2 Q1248.17 1535.47 1248.17 1538.8 Q1248.17 1543.92 1244.65 1546.72 Q1241.13 1549.52 1234.65 1549.52 Q1232.47 1549.52 1230.16 1549.08 Q1227.87 1548.66 1225.41 1547.81 L1225.41 1543.29 Q1227.36 1544.43 1229.67 1545.01 Q1231.99 1545.58 1234.51 1545.58 Q1238.91 1545.58 1241.2 1543.85 Q1243.51 1542.11 1243.51 1538.8 Q1243.51 1535.75 1241.36 1534.03 Q1239.23 1532.3 1235.41 1532.3 L1231.38 1532.3 L1231.38 1528.45 L1235.6 1528.45 Q1239.05 1528.45 1240.87 1527.09 Q1242.7 1525.7 1242.7 1523.11 Q1242.7 1520.45 1240.81 1519.03 Q1238.93 1517.6 1235.41 1517.6 Q1233.49 1517.6 1231.29 1518.01 Q1229.09 1518.43 1226.45 1519.31 L1226.45 1515.14 Q1229.12 1514.4 1231.43 1514.03 Q1233.77 1513.66 1235.83 1513.66 Q1241.15 1513.66 1244.25 1516.09 Q1247.36 1518.5 1247.36 1522.62 Q1247.36 1525.49 1245.71 1527.48 Q1244.07 1529.45 1241.04 1530.21 Z\" fill=\"#000000\" fill-rule=\"nonzero\" fill-opacity=\"1\" /><path clip-path=\"url(#clip180)\" d=\"M1267.03 1517.37 Q1263.42 1517.37 1261.59 1520.93 Q1259.79 1524.47 1259.79 1531.6 Q1259.79 1538.71 1261.59 1542.27 Q1263.42 1545.82 1267.03 1545.82 Q1270.67 1545.82 1272.47 1542.27 Q1274.3 1538.71 1274.3 1531.6 Q1274.3 1524.47 1272.47 1520.93 Q1270.67 1517.37 1267.03 1517.37 M1267.03 1513.66 Q1272.84 1513.66 1275.9 1518.27 Q1278.98 1522.85 1278.98 1531.6 Q1278.98 1540.33 1275.9 1544.94 Q1272.84 1549.52 1267.03 1549.52 Q1261.22 1549.52 1258.14 1544.94 Q1255.09 1540.33 1255.09 1531.6 Q1255.09 1522.85 1258.14 1518.27 Q1261.22 1513.66 1267.03 1513.66 Z\" fill=\"#000000\" fill-rule=\"nonzero\" fill-opacity=\"1\" /><path clip-path=\"url(#clip180)\" d=\"M1586.78 1518.36 L1574.98 1536.81 L1586.78 1536.81 L1586.78 1518.36 M1585.55 1514.29 L1591.43 1514.29 L1591.43 1536.81 L1596.36 1536.81 L1596.36 1540.7 L1591.43 1540.7 L1591.43 1548.85 L1586.78 1548.85 L1586.78 1540.7 L1571.18 1540.7 L1571.18 1536.19 L1585.55 1514.29 Z\" fill=\"#000000\" fill-rule=\"nonzero\" fill-opacity=\"1\" /><path clip-path=\"url(#clip180)\" d=\"M1614.1 1517.37 Q1610.48 1517.37 1608.66 1520.93 Q1606.85 1524.47 1606.85 1531.6 Q1606.85 1538.71 1608.66 1542.27 Q1610.48 1545.82 1614.1 1545.82 Q1617.73 1545.82 1619.54 1542.27 Q1621.36 1538.71 1621.36 1531.6 Q1621.36 1524.47 1619.54 1520.93 Q1617.73 1517.37 1614.1 1517.37 M1614.1 1513.66 Q1619.91 1513.66 1622.96 1518.27 Q1626.04 1522.85 1626.04 1531.6 Q1626.04 1540.33 1622.96 1544.94 Q1619.91 1549.52 1614.1 1549.52 Q1608.29 1549.52 1605.21 1544.94 Q1602.15 1540.33 1602.15 1531.6 Q1602.15 1522.85 1605.21 1518.27 Q1608.29 1513.66 1614.1 1513.66 Z\" fill=\"#000000\" fill-rule=\"nonzero\" fill-opacity=\"1\" /><path clip-path=\"url(#clip180)\" d=\"M1919.72 1514.29 L1938.08 1514.29 L1938.08 1518.22 L1924.01 1518.22 L1924.01 1526.7 Q1925.03 1526.35 1926.04 1526.19 Q1927.06 1526 1928.08 1526 Q1933.87 1526 1937.25 1529.17 Q1940.63 1532.34 1940.63 1537.76 Q1940.63 1543.34 1937.15 1546.44 Q1933.68 1549.52 1927.36 1549.52 Q1925.19 1549.52 1922.92 1549.15 Q1920.67 1548.78 1918.27 1548.04 L1918.27 1543.34 Q1920.35 1544.47 1922.57 1545.03 Q1924.79 1545.58 1927.27 1545.58 Q1931.28 1545.58 1933.61 1543.48 Q1935.95 1541.37 1935.95 1537.76 Q1935.95 1534.15 1933.61 1532.04 Q1931.28 1529.94 1927.27 1529.94 Q1925.4 1529.94 1923.52 1530.35 Q1921.67 1530.77 1919.72 1531.65 L1919.72 1514.29 Z\" fill=\"#000000\" fill-rule=\"nonzero\" fill-opacity=\"1\" /><path clip-path=\"url(#clip180)\" d=\"M1959.84 1517.37 Q1956.23 1517.37 1954.4 1520.93 Q1952.59 1524.47 1952.59 1531.6 Q1952.59 1538.71 1954.4 1542.27 Q1956.23 1545.82 1959.84 1545.82 Q1963.47 1545.82 1965.28 1542.27 Q1967.11 1538.71 1967.11 1531.6 Q1967.11 1524.47 1965.28 1520.93 Q1963.47 1517.37 1959.84 1517.37 M1959.84 1513.66 Q1965.65 1513.66 1968.71 1518.27 Q1971.78 1522.85 1971.78 1531.6 Q1971.78 1540.33 1968.71 1544.94 Q1965.65 1549.52 1959.84 1549.52 Q1954.03 1549.52 1950.95 1544.94 Q1947.9 1540.33 1947.9 1531.6 Q1947.9 1522.85 1950.95 1518.27 Q1954.03 1513.66 1959.84 1513.66 Z\" fill=\"#000000\" fill-rule=\"nonzero\" fill-opacity=\"1\" /><path clip-path=\"url(#clip180)\" d=\"M2276.85 1529.7 Q2273.7 1529.7 2271.85 1531.86 Q2270.02 1534.01 2270.02 1537.76 Q2270.02 1541.49 2271.85 1543.66 Q2273.7 1545.82 2276.85 1545.82 Q2279.99 1545.82 2281.82 1543.66 Q2283.67 1541.49 2283.67 1537.76 Q2283.67 1534.01 2281.82 1531.86 Q2279.99 1529.7 2276.85 1529.7 M2286.13 1515.05 L2286.13 1519.31 Q2284.37 1518.48 2282.56 1518.04 Q2280.78 1517.6 2279.02 1517.6 Q2274.39 1517.6 2271.94 1520.72 Q2269.51 1523.85 2269.16 1530.17 Q2270.53 1528.15 2272.59 1527.09 Q2274.65 1526 2277.12 1526 Q2282.33 1526 2285.34 1529.17 Q2288.37 1532.32 2288.37 1537.76 Q2288.37 1543.08 2285.23 1546.3 Q2282.08 1549.52 2276.85 1549.52 Q2270.85 1549.52 2267.68 1544.94 Q2264.51 1540.33 2264.51 1531.6 Q2264.51 1523.41 2268.4 1518.55 Q2272.29 1513.66 2278.84 1513.66 Q2280.6 1513.66 2282.38 1514.01 Q2284.18 1514.36 2286.13 1515.05 Z\" fill=\"#000000\" fill-rule=\"nonzero\" fill-opacity=\"1\" /><path clip-path=\"url(#clip180)\" d=\"M2306.43 1517.37 Q2302.82 1517.37 2300.99 1520.93 Q2299.18 1524.47 2299.18 1531.6 Q2299.18 1538.71 2300.99 1542.27 Q2302.82 1545.82 2306.43 1545.82 Q2310.06 1545.82 2311.87 1542.27 Q2313.7 1538.71 2313.7 1531.6 Q2313.7 1524.47 2311.87 1520.93 Q2310.06 1517.37 2306.43 1517.37 M2306.43 1513.66 Q2312.24 1513.66 2315.29 1518.27 Q2318.37 1522.85 2318.37 1531.6 Q2318.37 1540.33 2315.29 1544.94 Q2312.24 1549.52 2306.43 1549.52 Q2300.62 1549.52 2297.54 1544.94 Q2294.48 1540.33 2294.48 1531.6 Q2294.48 1522.85 2297.54 1518.27 Q2300.62 1513.66 2306.43 1513.66 Z\" fill=\"#000000\" fill-rule=\"nonzero\" fill-opacity=\"1\" /><polyline clip-path=\"url(#clip182)\" style=\"stroke:#000000; stroke-linecap:round; stroke-linejoin:round; stroke-width:2; stroke-opacity:0.1; fill:none\" points=\"186.274,1445.72 2352.76,1445.72 \"/>\n",
       "<polyline clip-path=\"url(#clip182)\" style=\"stroke:#000000; stroke-linecap:round; stroke-linejoin:round; stroke-width:2; stroke-opacity:0.1; fill:none\" points=\"186.274,1104.27 2352.76,1104.27 \"/>\n",
       "<polyline clip-path=\"url(#clip182)\" style=\"stroke:#000000; stroke-linecap:round; stroke-linejoin:round; stroke-width:2; stroke-opacity:0.1; fill:none\" points=\"186.274,762.832 2352.76,762.832 \"/>\n",
       "<polyline clip-path=\"url(#clip182)\" style=\"stroke:#000000; stroke-linecap:round; stroke-linejoin:round; stroke-width:2; stroke-opacity:0.1; fill:none\" points=\"186.274,421.391 2352.76,421.391 \"/>\n",
       "<polyline clip-path=\"url(#clip182)\" style=\"stroke:#000000; stroke-linecap:round; stroke-linejoin:round; stroke-width:2; stroke-opacity:0.1; fill:none\" points=\"186.274,79.9492 2352.76,79.9492 \"/>\n",
       "<polyline clip-path=\"url(#clip180)\" style=\"stroke:#000000; stroke-linecap:round; stroke-linejoin:round; stroke-width:4; stroke-opacity:1; fill:none\" points=\"186.274,1486.45 186.274,47.2441 \"/>\n",
       "<polyline clip-path=\"url(#clip180)\" style=\"stroke:#000000; stroke-linecap:round; stroke-linejoin:round; stroke-width:4; stroke-opacity:1; fill:none\" points=\"186.274,1445.72 205.172,1445.72 \"/>\n",
       "<polyline clip-path=\"url(#clip180)\" style=\"stroke:#000000; stroke-linecap:round; stroke-linejoin:round; stroke-width:4; stroke-opacity:1; fill:none\" points=\"186.274,1104.27 205.172,1104.27 \"/>\n",
       "<polyline clip-path=\"url(#clip180)\" style=\"stroke:#000000; stroke-linecap:round; stroke-linejoin:round; stroke-width:4; stroke-opacity:1; fill:none\" points=\"186.274,762.832 205.172,762.832 \"/>\n",
       "<polyline clip-path=\"url(#clip180)\" style=\"stroke:#000000; stroke-linecap:round; stroke-linejoin:round; stroke-width:4; stroke-opacity:1; fill:none\" points=\"186.274,421.391 205.172,421.391 \"/>\n",
       "<polyline clip-path=\"url(#clip180)\" style=\"stroke:#000000; stroke-linecap:round; stroke-linejoin:round; stroke-width:4; stroke-opacity:1; fill:none\" points=\"186.274,79.9492 205.172,79.9492 \"/>\n",
       "<path clip-path=\"url(#clip180)\" d=\"M62.9365 1431.51 Q59.3254 1431.51 57.4967 1435.08 Q55.6912 1438.62 55.6912 1445.75 Q55.6912 1452.86 57.4967 1456.42 Q59.3254 1459.96 62.9365 1459.96 Q66.5707 1459.96 68.3763 1456.42 Q70.205 1452.86 70.205 1445.75 Q70.205 1438.62 68.3763 1435.08 Q66.5707 1431.51 62.9365 1431.51 M62.9365 1427.81 Q68.7467 1427.81 71.8022 1432.42 Q74.8809 1437 74.8809 1445.75 Q74.8809 1454.48 71.8022 1459.08 Q68.7467 1463.67 62.9365 1463.67 Q57.1264 1463.67 54.0477 1459.08 Q50.9921 1454.48 50.9921 1445.75 Q50.9921 1437 54.0477 1432.42 Q57.1264 1427.81 62.9365 1427.81 Z\" fill=\"#000000\" fill-rule=\"nonzero\" fill-opacity=\"1\" /><path clip-path=\"url(#clip180)\" d=\"M83.0984 1457.12 L87.9827 1457.12 L87.9827 1463 L83.0984 1463 L83.0984 1457.12 Z\" fill=\"#000000\" fill-rule=\"nonzero\" fill-opacity=\"1\" /><path clip-path=\"url(#clip180)\" d=\"M108.168 1431.51 Q104.557 1431.51 102.728 1435.08 Q100.922 1438.62 100.922 1445.75 Q100.922 1452.86 102.728 1456.42 Q104.557 1459.96 108.168 1459.96 Q111.802 1459.96 113.608 1456.42 Q115.436 1452.86 115.436 1445.75 Q115.436 1438.62 113.608 1435.08 Q111.802 1431.51 108.168 1431.51 M108.168 1427.81 Q113.978 1427.81 117.033 1432.42 Q120.112 1437 120.112 1445.75 Q120.112 1454.48 117.033 1459.08 Q113.978 1463.67 108.168 1463.67 Q102.358 1463.67 99.2789 1459.08 Q96.2234 1454.48 96.2234 1445.75 Q96.2234 1437 99.2789 1432.42 Q102.358 1427.81 108.168 1427.81 Z\" fill=\"#000000\" fill-rule=\"nonzero\" fill-opacity=\"1\" /><path clip-path=\"url(#clip180)\" d=\"M138.33 1431.51 Q134.719 1431.51 132.89 1435.08 Q131.084 1438.62 131.084 1445.75 Q131.084 1452.86 132.89 1456.42 Q134.719 1459.96 138.33 1459.96 Q141.964 1459.96 143.769 1456.42 Q145.598 1452.86 145.598 1445.75 Q145.598 1438.62 143.769 1435.08 Q141.964 1431.51 138.33 1431.51 M138.33 1427.81 Q144.14 1427.81 147.195 1432.42 Q150.274 1437 150.274 1445.75 Q150.274 1454.48 147.195 1459.08 Q144.14 1463.67 138.33 1463.67 Q132.519 1463.67 129.441 1459.08 Q126.385 1454.48 126.385 1445.75 Q126.385 1437 129.441 1432.42 Q132.519 1427.81 138.33 1427.81 Z\" fill=\"#000000\" fill-rule=\"nonzero\" fill-opacity=\"1\" /><path clip-path=\"url(#clip180)\" d=\"M63.9319 1090.07 Q60.3208 1090.07 58.4921 1093.64 Q56.6865 1097.18 56.6865 1104.31 Q56.6865 1111.42 58.4921 1114.98 Q60.3208 1118.52 63.9319 1118.52 Q67.5661 1118.52 69.3717 1114.98 Q71.2004 1111.42 71.2004 1104.31 Q71.2004 1097.18 69.3717 1093.64 Q67.5661 1090.07 63.9319 1090.07 M63.9319 1086.37 Q69.742 1086.37 72.7976 1090.98 Q75.8763 1095.56 75.8763 1104.31 Q75.8763 1113.04 72.7976 1117.64 Q69.742 1122.23 63.9319 1122.23 Q58.1217 1122.23 55.043 1117.64 Q51.9875 1113.04 51.9875 1104.31 Q51.9875 1095.56 55.043 1090.98 Q58.1217 1086.37 63.9319 1086.37 Z\" fill=\"#000000\" fill-rule=\"nonzero\" fill-opacity=\"1\" /><path clip-path=\"url(#clip180)\" d=\"M84.0938 1115.67 L88.978 1115.67 L88.978 1121.55 L84.0938 1121.55 L84.0938 1115.67 Z\" fill=\"#000000\" fill-rule=\"nonzero\" fill-opacity=\"1\" /><path clip-path=\"url(#clip180)\" d=\"M103.191 1117.62 L119.51 1117.62 L119.51 1121.55 L97.566 1121.55 L97.566 1117.62 Q100.228 1114.86 104.811 1110.23 Q109.418 1105.58 110.598 1104.24 Q112.844 1101.72 113.723 1099.98 Q114.626 1098.22 114.626 1096.53 Q114.626 1093.78 112.682 1092.04 Q110.76 1090.3 107.658 1090.3 Q105.459 1090.3 103.006 1091.07 Q100.575 1091.83 97.7974 1093.38 L97.7974 1088.66 Q100.621 1087.53 103.075 1086.95 Q105.529 1086.37 107.566 1086.37 Q112.936 1086.37 116.131 1089.05 Q119.325 1091.74 119.325 1096.23 Q119.325 1098.36 118.515 1100.28 Q117.728 1102.18 115.621 1104.77 Q115.043 1105.44 111.941 1108.66 Q108.839 1111.86 103.191 1117.62 Z\" fill=\"#000000\" fill-rule=\"nonzero\" fill-opacity=\"1\" /><path clip-path=\"url(#clip180)\" d=\"M129.371 1086.99 L147.728 1086.99 L147.728 1090.93 L133.654 1090.93 L133.654 1099.4 Q134.672 1099.05 135.691 1098.89 Q136.709 1098.71 137.728 1098.71 Q143.515 1098.71 146.894 1101.88 Q150.274 1105.05 150.274 1110.47 Q150.274 1116.04 146.802 1119.15 Q143.33 1122.23 137.01 1122.23 Q134.834 1122.23 132.566 1121.85 Q130.32 1121.48 127.913 1120.74 L127.913 1116.04 Q129.996 1117.18 132.219 1117.73 Q134.441 1118.29 136.918 1118.29 Q140.922 1118.29 143.26 1116.18 Q145.598 1114.08 145.598 1110.47 Q145.598 1106.86 143.26 1104.75 Q140.922 1102.64 136.918 1102.64 Q135.043 1102.64 133.168 1103.06 Q131.316 1103.48 129.371 1104.36 L129.371 1086.99 Z\" fill=\"#000000\" fill-rule=\"nonzero\" fill-opacity=\"1\" /><path clip-path=\"url(#clip180)\" d=\"M62.9365 748.631 Q59.3254 748.631 57.4967 752.196 Q55.6912 755.738 55.6912 762.867 Q55.6912 769.974 57.4967 773.538 Q59.3254 777.08 62.9365 777.08 Q66.5707 777.08 68.3763 773.538 Q70.205 769.974 70.205 762.867 Q70.205 755.738 68.3763 752.196 Q66.5707 748.631 62.9365 748.631 M62.9365 744.927 Q68.7467 744.927 71.8022 749.534 Q74.8809 754.117 74.8809 762.867 Q74.8809 771.594 71.8022 776.2 Q68.7467 780.784 62.9365 780.784 Q57.1264 780.784 54.0477 776.2 Q50.9921 771.594 50.9921 762.867 Q50.9921 754.117 54.0477 749.534 Q57.1264 744.927 62.9365 744.927 Z\" fill=\"#000000\" fill-rule=\"nonzero\" fill-opacity=\"1\" /><path clip-path=\"url(#clip180)\" d=\"M83.0984 774.233 L87.9827 774.233 L87.9827 780.112 L83.0984 780.112 L83.0984 774.233 Z\" fill=\"#000000\" fill-rule=\"nonzero\" fill-opacity=\"1\" /><path clip-path=\"url(#clip180)\" d=\"M98.2141 745.552 L116.57 745.552 L116.57 749.488 L102.496 749.488 L102.496 757.96 Q103.515 757.613 104.534 757.451 Q105.552 757.265 106.571 757.265 Q112.358 757.265 115.737 760.437 Q119.117 763.608 119.117 769.025 Q119.117 774.603 115.645 777.705 Q112.172 780.784 105.853 780.784 Q103.677 780.784 101.409 780.413 Q99.1632 780.043 96.7558 779.302 L96.7558 774.603 Q98.8391 775.737 101.061 776.293 Q103.284 776.849 105.76 776.849 Q109.765 776.849 112.103 774.742 Q114.441 772.636 114.441 769.025 Q114.441 765.413 112.103 763.307 Q109.765 761.201 105.76 761.201 Q103.885 761.201 102.01 761.617 Q100.159 762.034 98.2141 762.913 L98.2141 745.552 Z\" fill=\"#000000\" fill-rule=\"nonzero\" fill-opacity=\"1\" /><path clip-path=\"url(#clip180)\" d=\"M138.33 748.631 Q134.719 748.631 132.89 752.196 Q131.084 755.738 131.084 762.867 Q131.084 769.974 132.89 773.538 Q134.719 777.08 138.33 777.08 Q141.964 777.08 143.769 773.538 Q145.598 769.974 145.598 762.867 Q145.598 755.738 143.769 752.196 Q141.964 748.631 138.33 748.631 M138.33 744.927 Q144.14 744.927 147.195 749.534 Q150.274 754.117 150.274 762.867 Q150.274 771.594 147.195 776.2 Q144.14 780.784 138.33 780.784 Q132.519 780.784 129.441 776.2 Q126.385 771.594 126.385 762.867 Q126.385 754.117 129.441 749.534 Q132.519 744.927 138.33 744.927 Z\" fill=\"#000000\" fill-rule=\"nonzero\" fill-opacity=\"1\" /><path clip-path=\"url(#clip180)\" d=\"M63.9319 407.19 Q60.3208 407.19 58.4921 410.754 Q56.6865 414.296 56.6865 421.426 Q56.6865 428.532 58.4921 432.097 Q60.3208 435.638 63.9319 435.638 Q67.5661 435.638 69.3717 432.097 Q71.2004 428.532 71.2004 421.426 Q71.2004 414.296 69.3717 410.754 Q67.5661 407.19 63.9319 407.19 M63.9319 403.486 Q69.742 403.486 72.7976 408.092 Q75.8763 412.676 75.8763 421.426 Q75.8763 430.152 72.7976 434.759 Q69.742 439.342 63.9319 439.342 Q58.1217 439.342 55.043 434.759 Q51.9875 430.152 51.9875 421.426 Q51.9875 412.676 55.043 408.092 Q58.1217 403.486 63.9319 403.486 Z\" fill=\"#000000\" fill-rule=\"nonzero\" fill-opacity=\"1\" /><path clip-path=\"url(#clip180)\" d=\"M84.0938 432.791 L88.978 432.791 L88.978 438.671 L84.0938 438.671 L84.0938 432.791 Z\" fill=\"#000000\" fill-rule=\"nonzero\" fill-opacity=\"1\" /><path clip-path=\"url(#clip180)\" d=\"M97.9826 404.111 L120.205 404.111 L120.205 406.102 L107.658 438.671 L102.774 438.671 L114.58 408.046 L97.9826 408.046 L97.9826 404.111 Z\" fill=\"#000000\" fill-rule=\"nonzero\" fill-opacity=\"1\" /><path clip-path=\"url(#clip180)\" d=\"M129.371 404.111 L147.728 404.111 L147.728 408.046 L133.654 408.046 L133.654 416.518 Q134.672 416.171 135.691 416.009 Q136.709 415.824 137.728 415.824 Q143.515 415.824 146.894 418.995 Q150.274 422.166 150.274 427.583 Q150.274 433.162 146.802 436.263 Q143.33 439.342 137.01 439.342 Q134.834 439.342 132.566 438.972 Q130.32 438.601 127.913 437.861 L127.913 433.162 Q129.996 434.296 132.219 434.851 Q134.441 435.407 136.918 435.407 Q140.922 435.407 143.26 433.3 Q145.598 431.194 145.598 427.583 Q145.598 423.972 143.26 421.865 Q140.922 419.759 136.918 419.759 Q135.043 419.759 133.168 420.176 Q131.316 420.592 129.371 421.472 L129.371 404.111 Z\" fill=\"#000000\" fill-rule=\"nonzero\" fill-opacity=\"1\" /><path clip-path=\"url(#clip180)\" d=\"M53.7467 93.294 L61.3856 93.294 L61.3856 66.9284 L53.0754 68.5951 L53.0754 64.3359 L61.3393 62.6692 L66.0152 62.6692 L66.0152 93.294 L73.654 93.294 L73.654 97.2292 L53.7467 97.2292 L53.7467 93.294 Z\" fill=\"#000000\" fill-rule=\"nonzero\" fill-opacity=\"1\" /><path clip-path=\"url(#clip180)\" d=\"M83.0984 91.3496 L87.9827 91.3496 L87.9827 97.2292 L83.0984 97.2292 L83.0984 91.3496 Z\" fill=\"#000000\" fill-rule=\"nonzero\" fill-opacity=\"1\" /><path clip-path=\"url(#clip180)\" d=\"M108.168 65.7479 Q104.557 65.7479 102.728 69.3127 Q100.922 72.8543 100.922 79.9839 Q100.922 87.0904 102.728 90.6552 Q104.557 94.1968 108.168 94.1968 Q111.802 94.1968 113.608 90.6552 Q115.436 87.0904 115.436 79.9839 Q115.436 72.8543 113.608 69.3127 Q111.802 65.7479 108.168 65.7479 M108.168 62.0442 Q113.978 62.0442 117.033 66.6507 Q120.112 71.234 120.112 79.9839 Q120.112 88.7107 117.033 93.3172 Q113.978 97.9005 108.168 97.9005 Q102.358 97.9005 99.2789 93.3172 Q96.2234 88.7107 96.2234 79.9839 Q96.2234 71.234 99.2789 66.6507 Q102.358 62.0442 108.168 62.0442 Z\" fill=\"#000000\" fill-rule=\"nonzero\" fill-opacity=\"1\" /><path clip-path=\"url(#clip180)\" d=\"M138.33 65.7479 Q134.719 65.7479 132.89 69.3127 Q131.084 72.8543 131.084 79.9839 Q131.084 87.0904 132.89 90.6552 Q134.719 94.1968 138.33 94.1968 Q141.964 94.1968 143.769 90.6552 Q145.598 87.0904 145.598 79.9839 Q145.598 72.8543 143.769 69.3127 Q141.964 65.7479 138.33 65.7479 M138.33 62.0442 Q144.14 62.0442 147.195 66.6507 Q150.274 71.234 150.274 79.9839 Q150.274 88.7107 147.195 93.3172 Q144.14 97.9005 138.33 97.9005 Q132.519 97.9005 129.441 93.3172 Q126.385 88.7107 126.385 79.9839 Q126.385 71.234 129.441 66.6507 Q132.519 62.0442 138.33 62.0442 Z\" fill=\"#000000\" fill-rule=\"nonzero\" fill-opacity=\"1\" /><polyline clip-path=\"url(#clip182)\" style=\"stroke:#009af9; stroke-linecap:round; stroke-linejoin:round; stroke-width:4; stroke-opacity:1; fill:none\" points=\"247.59,1445.72 282.231,1441.97 316.873,1434.51 351.514,1423.38 386.156,1408.65 420.797,1390.45 455.439,1368.91 490.08,1344.19 524.722,1316.48 559.363,1285.99 594.005,1252.95 628.646,1217.6 663.288,1180.2 697.93,1141.01 732.571,1100.31 767.213,1058.38 801.854,1015.49 836.496,971.916 871.137,927.928 905.779,883.787 940.42,839.741 975.062,796.027 1009.7,752.866 1044.34,710.463 1078.99,669.005 1113.63,628.658 1148.27,589.572 1182.91,551.874 1217.55,515.672 1252.19,481.053 1286.84,448.085 1321.48,416.819 1356.12,387.285 1390.76,359.499 1425.4,333.458 1460.04,309.149 1494.68,286.543 1529.33,265.601 1563.97,246.273 1598.61,228.501 1633.25,212.221 1667.89,197.364 1702.53,183.853 1737.18,171.612 1771.82,160.562 1806.46,150.624 1841.1,141.717 1875.74,133.763 1910.38,126.686 1945.02,120.412 1979.67,114.869 2014.31,109.99 2048.95,105.71 2083.59,101.97 2118.23,98.7117 2152.87,95.8845 2187.52,93.4396 2222.16,91.3329 2256.8,89.524 2291.44,87.9763 \"/>\n",
       "<path clip-path=\"url(#clip180)\" d=\"M258.49 198.898 L527.569 198.898 L527.569 95.2176 L258.49 95.2176  Z\" fill=\"#ffffff\" fill-rule=\"evenodd\" fill-opacity=\"1\"/>\n",
       "<polyline clip-path=\"url(#clip180)\" style=\"stroke:#000000; stroke-linecap:round; stroke-linejoin:round; stroke-width:4; stroke-opacity:1; fill:none\" points=\"258.49,198.898 527.569,198.898 527.569,95.2176 258.49,95.2176 258.49,198.898 \"/>\n",
       "<polyline clip-path=\"url(#clip180)\" style=\"stroke:#009af9; stroke-linecap:round; stroke-linejoin:round; stroke-width:4; stroke-opacity:1; fill:none\" points=\"282.562,147.058 426.994,147.058 \"/>\n",
       "<path clip-path=\"url(#clip180)\" d=\"M464.909 166.745 Q463.103 171.375 461.39 172.787 Q459.677 174.199 456.807 174.199 L453.404 174.199 L453.404 170.634 L455.904 170.634 Q457.663 170.634 458.636 169.8 Q459.608 168.967 460.788 165.865 L461.552 163.921 L451.066 138.412 L455.58 138.412 L463.682 158.689 L471.784 138.412 L476.298 138.412 L464.909 166.745 Z\" fill=\"#000000\" fill-rule=\"nonzero\" fill-opacity=\"1\" /><path clip-path=\"url(#clip180)\" d=\"M483.589 160.402 L491.228 160.402 L491.228 134.037 L482.918 135.703 L482.918 131.444 L491.182 129.778 L495.858 129.778 L495.858 160.402 L503.497 160.402 L503.497 164.338 L483.589 164.338 L483.589 160.402 Z\" fill=\"#000000\" fill-rule=\"nonzero\" fill-opacity=\"1\" /></svg>\n"
      ],
      "text/html": [
       "<?xml version=\"1.0\" encoding=\"utf-8\"?>\n",
       "<svg xmlns=\"http://www.w3.org/2000/svg\" xmlns:xlink=\"http://www.w3.org/1999/xlink\" width=\"600\" height=\"400\" viewBox=\"0 0 2400 1600\">\n",
       "<defs>\n",
       "  <clipPath id=\"clip230\">\n",
       "    <rect x=\"0\" y=\"0\" width=\"2400\" height=\"1600\"/>\n",
       "  </clipPath>\n",
       "</defs>\n",
       "<path clip-path=\"url(#clip230)\" d=\"M0 1600 L2400 1600 L2400 0 L0 0  Z\" fill=\"#ffffff\" fill-rule=\"evenodd\" fill-opacity=\"1\"/>\n",
       "<defs>\n",
       "  <clipPath id=\"clip231\">\n",
       "    <rect x=\"480\" y=\"0\" width=\"1681\" height=\"1600\"/>\n",
       "  </clipPath>\n",
       "</defs>\n",
       "<path clip-path=\"url(#clip230)\" d=\"M186.274 1486.45 L2352.76 1486.45 L2352.76 47.2441 L186.274 47.2441  Z\" fill=\"#ffffff\" fill-rule=\"evenodd\" fill-opacity=\"1\"/>\n",
       "<defs>\n",
       "  <clipPath id=\"clip232\">\n",
       "    <rect x=\"186\" y=\"47\" width=\"2167\" height=\"1440\"/>\n",
       "  </clipPath>\n",
       "</defs>\n",
       "<polyline clip-path=\"url(#clip232)\" style=\"stroke:#000000; stroke-linecap:round; stroke-linejoin:round; stroke-width:2; stroke-opacity:0.1; fill:none\" points=\"212.948,1486.45 212.948,47.2441 \"/>\n",
       "<polyline clip-path=\"url(#clip232)\" style=\"stroke:#000000; stroke-linecap:round; stroke-linejoin:round; stroke-width:2; stroke-opacity:0.1; fill:none\" points=\"559.363,1486.45 559.363,47.2441 \"/>\n",
       "<polyline clip-path=\"url(#clip232)\" style=\"stroke:#000000; stroke-linecap:round; stroke-linejoin:round; stroke-width:2; stroke-opacity:0.1; fill:none\" points=\"905.779,1486.45 905.779,47.2441 \"/>\n",
       "<polyline clip-path=\"url(#clip232)\" style=\"stroke:#000000; stroke-linecap:round; stroke-linejoin:round; stroke-width:2; stroke-opacity:0.1; fill:none\" points=\"1252.19,1486.45 1252.19,47.2441 \"/>\n",
       "<polyline clip-path=\"url(#clip232)\" style=\"stroke:#000000; stroke-linecap:round; stroke-linejoin:round; stroke-width:2; stroke-opacity:0.1; fill:none\" points=\"1598.61,1486.45 1598.61,47.2441 \"/>\n",
       "<polyline clip-path=\"url(#clip232)\" style=\"stroke:#000000; stroke-linecap:round; stroke-linejoin:round; stroke-width:2; stroke-opacity:0.1; fill:none\" points=\"1945.02,1486.45 1945.02,47.2441 \"/>\n",
       "<polyline clip-path=\"url(#clip232)\" style=\"stroke:#000000; stroke-linecap:round; stroke-linejoin:round; stroke-width:2; stroke-opacity:0.1; fill:none\" points=\"2291.44,1486.45 2291.44,47.2441 \"/>\n",
       "<polyline clip-path=\"url(#clip230)\" style=\"stroke:#000000; stroke-linecap:round; stroke-linejoin:round; stroke-width:4; stroke-opacity:1; fill:none\" points=\"186.274,1486.45 2352.76,1486.45 \"/>\n",
       "<polyline clip-path=\"url(#clip230)\" style=\"stroke:#000000; stroke-linecap:round; stroke-linejoin:round; stroke-width:4; stroke-opacity:1; fill:none\" points=\"212.948,1486.45 212.948,1467.55 \"/>\n",
       "<polyline clip-path=\"url(#clip230)\" style=\"stroke:#000000; stroke-linecap:round; stroke-linejoin:round; stroke-width:4; stroke-opacity:1; fill:none\" points=\"559.363,1486.45 559.363,1467.55 \"/>\n",
       "<polyline clip-path=\"url(#clip230)\" style=\"stroke:#000000; stroke-linecap:round; stroke-linejoin:round; stroke-width:4; stroke-opacity:1; fill:none\" points=\"905.779,1486.45 905.779,1467.55 \"/>\n",
       "<polyline clip-path=\"url(#clip230)\" style=\"stroke:#000000; stroke-linecap:round; stroke-linejoin:round; stroke-width:4; stroke-opacity:1; fill:none\" points=\"1252.19,1486.45 1252.19,1467.55 \"/>\n",
       "<polyline clip-path=\"url(#clip230)\" style=\"stroke:#000000; stroke-linecap:round; stroke-linejoin:round; stroke-width:4; stroke-opacity:1; fill:none\" points=\"1598.61,1486.45 1598.61,1467.55 \"/>\n",
       "<polyline clip-path=\"url(#clip230)\" style=\"stroke:#000000; stroke-linecap:round; stroke-linejoin:round; stroke-width:4; stroke-opacity:1; fill:none\" points=\"1945.02,1486.45 1945.02,1467.55 \"/>\n",
       "<polyline clip-path=\"url(#clip230)\" style=\"stroke:#000000; stroke-linecap:round; stroke-linejoin:round; stroke-width:4; stroke-opacity:1; fill:none\" points=\"2291.44,1486.45 2291.44,1467.55 \"/>\n",
       "<path clip-path=\"url(#clip230)\" d=\"M212.948 1517.37 Q209.337 1517.37 207.508 1520.93 Q205.703 1524.47 205.703 1531.6 Q205.703 1538.71 207.508 1542.27 Q209.337 1545.82 212.948 1545.82 Q216.582 1545.82 218.388 1542.27 Q220.216 1538.71 220.216 1531.6 Q220.216 1524.47 218.388 1520.93 Q216.582 1517.37 212.948 1517.37 M212.948 1513.66 Q218.758 1513.66 221.814 1518.27 Q224.892 1522.85 224.892 1531.6 Q224.892 1540.33 221.814 1544.94 Q218.758 1549.52 212.948 1549.52 Q207.138 1549.52 204.059 1544.94 Q201.004 1540.33 201.004 1531.6 Q201.004 1522.85 204.059 1518.27 Q207.138 1513.66 212.948 1513.66 Z\" fill=\"#000000\" fill-rule=\"nonzero\" fill-opacity=\"1\" /><path clip-path=\"url(#clip230)\" d=\"M534.051 1544.91 L541.69 1544.91 L541.69 1518.55 L533.38 1520.21 L533.38 1515.95 L541.644 1514.29 L546.319 1514.29 L546.319 1544.91 L553.958 1544.91 L553.958 1548.85 L534.051 1548.85 L534.051 1544.91 Z\" fill=\"#000000\" fill-rule=\"nonzero\" fill-opacity=\"1\" /><path clip-path=\"url(#clip230)\" d=\"M573.403 1517.37 Q569.792 1517.37 567.963 1520.93 Q566.157 1524.47 566.157 1531.6 Q566.157 1538.71 567.963 1542.27 Q569.792 1545.82 573.403 1545.82 Q577.037 1545.82 578.842 1542.27 Q580.671 1538.71 580.671 1531.6 Q580.671 1524.47 578.842 1520.93 Q577.037 1517.37 573.403 1517.37 M573.403 1513.66 Q579.213 1513.66 582.268 1518.27 Q585.347 1522.85 585.347 1531.6 Q585.347 1540.33 582.268 1544.94 Q579.213 1549.52 573.403 1549.52 Q567.593 1549.52 564.514 1544.94 Q561.458 1540.33 561.458 1531.6 Q561.458 1522.85 564.514 1518.27 Q567.593 1513.66 573.403 1513.66 Z\" fill=\"#000000\" fill-rule=\"nonzero\" fill-opacity=\"1\" /><path clip-path=\"url(#clip230)\" d=\"M884.552 1544.91 L900.871 1544.91 L900.871 1548.85 L878.927 1548.85 L878.927 1544.91 Q881.589 1542.16 886.172 1537.53 Q890.779 1532.88 891.959 1531.53 Q894.205 1529.01 895.084 1527.27 Q895.987 1525.51 895.987 1523.82 Q895.987 1521.07 894.043 1519.33 Q892.121 1517.6 889.02 1517.6 Q886.821 1517.6 884.367 1518.36 Q881.936 1519.13 879.159 1520.68 L879.159 1515.95 Q881.983 1514.82 884.436 1514.24 Q886.89 1513.66 888.927 1513.66 Q894.297 1513.66 897.492 1516.35 Q900.686 1519.03 900.686 1523.52 Q900.686 1525.65 899.876 1527.57 Q899.089 1529.47 896.983 1532.07 Q896.404 1532.74 893.302 1535.95 Q890.2 1539.15 884.552 1544.91 Z\" fill=\"#000000\" fill-rule=\"nonzero\" fill-opacity=\"1\" /><path clip-path=\"url(#clip230)\" d=\"M920.686 1517.37 Q917.075 1517.37 915.246 1520.93 Q913.441 1524.47 913.441 1531.6 Q913.441 1538.71 915.246 1542.27 Q917.075 1545.82 920.686 1545.82 Q924.32 1545.82 926.126 1542.27 Q927.955 1538.71 927.955 1531.6 Q927.955 1524.47 926.126 1520.93 Q924.32 1517.37 920.686 1517.37 M920.686 1513.66 Q926.496 1513.66 929.552 1518.27 Q932.63 1522.85 932.63 1531.6 Q932.63 1540.33 929.552 1544.94 Q926.496 1549.52 920.686 1549.52 Q914.876 1549.52 911.797 1544.94 Q908.742 1540.33 908.742 1531.6 Q908.742 1522.85 911.797 1518.27 Q914.876 1513.66 920.686 1513.66 Z\" fill=\"#000000\" fill-rule=\"nonzero\" fill-opacity=\"1\" /><path clip-path=\"url(#clip230)\" d=\"M1241.04 1530.21 Q1244.39 1530.93 1246.27 1533.2 Q1248.17 1535.47 1248.17 1538.8 Q1248.17 1543.92 1244.65 1546.72 Q1241.13 1549.52 1234.65 1549.52 Q1232.47 1549.52 1230.16 1549.08 Q1227.87 1548.66 1225.41 1547.81 L1225.41 1543.29 Q1227.36 1544.43 1229.67 1545.01 Q1231.99 1545.58 1234.51 1545.58 Q1238.91 1545.58 1241.2 1543.85 Q1243.51 1542.11 1243.51 1538.8 Q1243.51 1535.75 1241.36 1534.03 Q1239.23 1532.3 1235.41 1532.3 L1231.38 1532.3 L1231.38 1528.45 L1235.6 1528.45 Q1239.05 1528.45 1240.87 1527.09 Q1242.7 1525.7 1242.7 1523.11 Q1242.7 1520.45 1240.81 1519.03 Q1238.93 1517.6 1235.41 1517.6 Q1233.49 1517.6 1231.29 1518.01 Q1229.09 1518.43 1226.45 1519.31 L1226.45 1515.14 Q1229.12 1514.4 1231.43 1514.03 Q1233.77 1513.66 1235.83 1513.66 Q1241.15 1513.66 1244.25 1516.09 Q1247.36 1518.5 1247.36 1522.62 Q1247.36 1525.49 1245.71 1527.48 Q1244.07 1529.45 1241.04 1530.21 Z\" fill=\"#000000\" fill-rule=\"nonzero\" fill-opacity=\"1\" /><path clip-path=\"url(#clip230)\" d=\"M1267.03 1517.37 Q1263.42 1517.37 1261.59 1520.93 Q1259.79 1524.47 1259.79 1531.6 Q1259.79 1538.71 1261.59 1542.27 Q1263.42 1545.82 1267.03 1545.82 Q1270.67 1545.82 1272.47 1542.27 Q1274.3 1538.71 1274.3 1531.6 Q1274.3 1524.47 1272.47 1520.93 Q1270.67 1517.37 1267.03 1517.37 M1267.03 1513.66 Q1272.84 1513.66 1275.9 1518.27 Q1278.98 1522.85 1278.98 1531.6 Q1278.98 1540.33 1275.9 1544.94 Q1272.84 1549.52 1267.03 1549.52 Q1261.22 1549.52 1258.14 1544.94 Q1255.09 1540.33 1255.09 1531.6 Q1255.09 1522.85 1258.14 1518.27 Q1261.22 1513.66 1267.03 1513.66 Z\" fill=\"#000000\" fill-rule=\"nonzero\" fill-opacity=\"1\" /><path clip-path=\"url(#clip230)\" d=\"M1586.78 1518.36 L1574.98 1536.81 L1586.78 1536.81 L1586.78 1518.36 M1585.55 1514.29 L1591.43 1514.29 L1591.43 1536.81 L1596.36 1536.81 L1596.36 1540.7 L1591.43 1540.7 L1591.43 1548.85 L1586.78 1548.85 L1586.78 1540.7 L1571.18 1540.7 L1571.18 1536.19 L1585.55 1514.29 Z\" fill=\"#000000\" fill-rule=\"nonzero\" fill-opacity=\"1\" /><path clip-path=\"url(#clip230)\" d=\"M1614.1 1517.37 Q1610.48 1517.37 1608.66 1520.93 Q1606.85 1524.47 1606.85 1531.6 Q1606.85 1538.71 1608.66 1542.27 Q1610.48 1545.82 1614.1 1545.82 Q1617.73 1545.82 1619.54 1542.27 Q1621.36 1538.71 1621.36 1531.6 Q1621.36 1524.47 1619.54 1520.93 Q1617.73 1517.37 1614.1 1517.37 M1614.1 1513.66 Q1619.91 1513.66 1622.96 1518.27 Q1626.04 1522.85 1626.04 1531.6 Q1626.04 1540.33 1622.96 1544.94 Q1619.91 1549.52 1614.1 1549.52 Q1608.29 1549.52 1605.21 1544.94 Q1602.15 1540.33 1602.15 1531.6 Q1602.15 1522.85 1605.21 1518.27 Q1608.29 1513.66 1614.1 1513.66 Z\" fill=\"#000000\" fill-rule=\"nonzero\" fill-opacity=\"1\" /><path clip-path=\"url(#clip230)\" d=\"M1919.72 1514.29 L1938.08 1514.29 L1938.08 1518.22 L1924.01 1518.22 L1924.01 1526.7 Q1925.03 1526.35 1926.04 1526.19 Q1927.06 1526 1928.08 1526 Q1933.87 1526 1937.25 1529.17 Q1940.63 1532.34 1940.63 1537.76 Q1940.63 1543.34 1937.15 1546.44 Q1933.68 1549.52 1927.36 1549.52 Q1925.19 1549.52 1922.92 1549.15 Q1920.67 1548.78 1918.27 1548.04 L1918.27 1543.34 Q1920.35 1544.47 1922.57 1545.03 Q1924.79 1545.58 1927.27 1545.58 Q1931.28 1545.58 1933.61 1543.48 Q1935.95 1541.37 1935.95 1537.76 Q1935.95 1534.15 1933.61 1532.04 Q1931.28 1529.94 1927.27 1529.94 Q1925.4 1529.94 1923.52 1530.35 Q1921.67 1530.77 1919.72 1531.65 L1919.72 1514.29 Z\" fill=\"#000000\" fill-rule=\"nonzero\" fill-opacity=\"1\" /><path clip-path=\"url(#clip230)\" d=\"M1959.84 1517.37 Q1956.23 1517.37 1954.4 1520.93 Q1952.59 1524.47 1952.59 1531.6 Q1952.59 1538.71 1954.4 1542.27 Q1956.23 1545.82 1959.84 1545.82 Q1963.47 1545.82 1965.28 1542.27 Q1967.11 1538.71 1967.11 1531.6 Q1967.11 1524.47 1965.28 1520.93 Q1963.47 1517.37 1959.84 1517.37 M1959.84 1513.66 Q1965.65 1513.66 1968.71 1518.27 Q1971.78 1522.85 1971.78 1531.6 Q1971.78 1540.33 1968.71 1544.94 Q1965.65 1549.52 1959.84 1549.52 Q1954.03 1549.52 1950.95 1544.94 Q1947.9 1540.33 1947.9 1531.6 Q1947.9 1522.85 1950.95 1518.27 Q1954.03 1513.66 1959.84 1513.66 Z\" fill=\"#000000\" fill-rule=\"nonzero\" fill-opacity=\"1\" /><path clip-path=\"url(#clip230)\" d=\"M2276.85 1529.7 Q2273.7 1529.7 2271.85 1531.86 Q2270.02 1534.01 2270.02 1537.76 Q2270.02 1541.49 2271.85 1543.66 Q2273.7 1545.82 2276.85 1545.82 Q2279.99 1545.82 2281.82 1543.66 Q2283.67 1541.49 2283.67 1537.76 Q2283.67 1534.01 2281.82 1531.86 Q2279.99 1529.7 2276.85 1529.7 M2286.13 1515.05 L2286.13 1519.31 Q2284.37 1518.48 2282.56 1518.04 Q2280.78 1517.6 2279.02 1517.6 Q2274.39 1517.6 2271.94 1520.72 Q2269.51 1523.85 2269.16 1530.17 Q2270.53 1528.15 2272.59 1527.09 Q2274.65 1526 2277.12 1526 Q2282.33 1526 2285.34 1529.17 Q2288.37 1532.32 2288.37 1537.76 Q2288.37 1543.08 2285.23 1546.3 Q2282.08 1549.52 2276.85 1549.52 Q2270.85 1549.52 2267.68 1544.94 Q2264.51 1540.33 2264.51 1531.6 Q2264.51 1523.41 2268.4 1518.55 Q2272.29 1513.66 2278.84 1513.66 Q2280.6 1513.66 2282.38 1514.01 Q2284.18 1514.36 2286.13 1515.05 Z\" fill=\"#000000\" fill-rule=\"nonzero\" fill-opacity=\"1\" /><path clip-path=\"url(#clip230)\" d=\"M2306.43 1517.37 Q2302.82 1517.37 2300.99 1520.93 Q2299.18 1524.47 2299.18 1531.6 Q2299.18 1538.71 2300.99 1542.27 Q2302.82 1545.82 2306.43 1545.82 Q2310.06 1545.82 2311.87 1542.27 Q2313.7 1538.71 2313.7 1531.6 Q2313.7 1524.47 2311.87 1520.93 Q2310.06 1517.37 2306.43 1517.37 M2306.43 1513.66 Q2312.24 1513.66 2315.29 1518.27 Q2318.37 1522.85 2318.37 1531.6 Q2318.37 1540.33 2315.29 1544.94 Q2312.24 1549.52 2306.43 1549.52 Q2300.62 1549.52 2297.54 1544.94 Q2294.48 1540.33 2294.48 1531.6 Q2294.48 1522.85 2297.54 1518.27 Q2300.62 1513.66 2306.43 1513.66 Z\" fill=\"#000000\" fill-rule=\"nonzero\" fill-opacity=\"1\" /><polyline clip-path=\"url(#clip232)\" style=\"stroke:#000000; stroke-linecap:round; stroke-linejoin:round; stroke-width:2; stroke-opacity:0.1; fill:none\" points=\"186.274,1445.72 2352.76,1445.72 \"/>\n",
       "<polyline clip-path=\"url(#clip232)\" style=\"stroke:#000000; stroke-linecap:round; stroke-linejoin:round; stroke-width:2; stroke-opacity:0.1; fill:none\" points=\"186.274,1104.27 2352.76,1104.27 \"/>\n",
       "<polyline clip-path=\"url(#clip232)\" style=\"stroke:#000000; stroke-linecap:round; stroke-linejoin:round; stroke-width:2; stroke-opacity:0.1; fill:none\" points=\"186.274,762.832 2352.76,762.832 \"/>\n",
       "<polyline clip-path=\"url(#clip232)\" style=\"stroke:#000000; stroke-linecap:round; stroke-linejoin:round; stroke-width:2; stroke-opacity:0.1; fill:none\" points=\"186.274,421.391 2352.76,421.391 \"/>\n",
       "<polyline clip-path=\"url(#clip232)\" style=\"stroke:#000000; stroke-linecap:round; stroke-linejoin:round; stroke-width:2; stroke-opacity:0.1; fill:none\" points=\"186.274,79.9492 2352.76,79.9492 \"/>\n",
       "<polyline clip-path=\"url(#clip230)\" style=\"stroke:#000000; stroke-linecap:round; stroke-linejoin:round; stroke-width:4; stroke-opacity:1; fill:none\" points=\"186.274,1486.45 186.274,47.2441 \"/>\n",
       "<polyline clip-path=\"url(#clip230)\" style=\"stroke:#000000; stroke-linecap:round; stroke-linejoin:round; stroke-width:4; stroke-opacity:1; fill:none\" points=\"186.274,1445.72 205.172,1445.72 \"/>\n",
       "<polyline clip-path=\"url(#clip230)\" style=\"stroke:#000000; stroke-linecap:round; stroke-linejoin:round; stroke-width:4; stroke-opacity:1; fill:none\" points=\"186.274,1104.27 205.172,1104.27 \"/>\n",
       "<polyline clip-path=\"url(#clip230)\" style=\"stroke:#000000; stroke-linecap:round; stroke-linejoin:round; stroke-width:4; stroke-opacity:1; fill:none\" points=\"186.274,762.832 205.172,762.832 \"/>\n",
       "<polyline clip-path=\"url(#clip230)\" style=\"stroke:#000000; stroke-linecap:round; stroke-linejoin:round; stroke-width:4; stroke-opacity:1; fill:none\" points=\"186.274,421.391 205.172,421.391 \"/>\n",
       "<polyline clip-path=\"url(#clip230)\" style=\"stroke:#000000; stroke-linecap:round; stroke-linejoin:round; stroke-width:4; stroke-opacity:1; fill:none\" points=\"186.274,79.9492 205.172,79.9492 \"/>\n",
       "<path clip-path=\"url(#clip230)\" d=\"M62.9365 1431.51 Q59.3254 1431.51 57.4967 1435.08 Q55.6912 1438.62 55.6912 1445.75 Q55.6912 1452.86 57.4967 1456.42 Q59.3254 1459.96 62.9365 1459.96 Q66.5707 1459.96 68.3763 1456.42 Q70.205 1452.86 70.205 1445.75 Q70.205 1438.62 68.3763 1435.08 Q66.5707 1431.51 62.9365 1431.51 M62.9365 1427.81 Q68.7467 1427.81 71.8022 1432.42 Q74.8809 1437 74.8809 1445.75 Q74.8809 1454.48 71.8022 1459.08 Q68.7467 1463.67 62.9365 1463.67 Q57.1264 1463.67 54.0477 1459.08 Q50.9921 1454.48 50.9921 1445.75 Q50.9921 1437 54.0477 1432.42 Q57.1264 1427.81 62.9365 1427.81 Z\" fill=\"#000000\" fill-rule=\"nonzero\" fill-opacity=\"1\" /><path clip-path=\"url(#clip230)\" d=\"M83.0984 1457.12 L87.9827 1457.12 L87.9827 1463 L83.0984 1463 L83.0984 1457.12 Z\" fill=\"#000000\" fill-rule=\"nonzero\" fill-opacity=\"1\" /><path clip-path=\"url(#clip230)\" d=\"M108.168 1431.51 Q104.557 1431.51 102.728 1435.08 Q100.922 1438.62 100.922 1445.75 Q100.922 1452.86 102.728 1456.42 Q104.557 1459.96 108.168 1459.96 Q111.802 1459.96 113.608 1456.42 Q115.436 1452.86 115.436 1445.75 Q115.436 1438.62 113.608 1435.08 Q111.802 1431.51 108.168 1431.51 M108.168 1427.81 Q113.978 1427.81 117.033 1432.42 Q120.112 1437 120.112 1445.75 Q120.112 1454.48 117.033 1459.08 Q113.978 1463.67 108.168 1463.67 Q102.358 1463.67 99.2789 1459.08 Q96.2234 1454.48 96.2234 1445.75 Q96.2234 1437 99.2789 1432.42 Q102.358 1427.81 108.168 1427.81 Z\" fill=\"#000000\" fill-rule=\"nonzero\" fill-opacity=\"1\" /><path clip-path=\"url(#clip230)\" d=\"M138.33 1431.51 Q134.719 1431.51 132.89 1435.08 Q131.084 1438.62 131.084 1445.75 Q131.084 1452.86 132.89 1456.42 Q134.719 1459.96 138.33 1459.96 Q141.964 1459.96 143.769 1456.42 Q145.598 1452.86 145.598 1445.75 Q145.598 1438.62 143.769 1435.08 Q141.964 1431.51 138.33 1431.51 M138.33 1427.81 Q144.14 1427.81 147.195 1432.42 Q150.274 1437 150.274 1445.75 Q150.274 1454.48 147.195 1459.08 Q144.14 1463.67 138.33 1463.67 Q132.519 1463.67 129.441 1459.08 Q126.385 1454.48 126.385 1445.75 Q126.385 1437 129.441 1432.42 Q132.519 1427.81 138.33 1427.81 Z\" fill=\"#000000\" fill-rule=\"nonzero\" fill-opacity=\"1\" /><path clip-path=\"url(#clip230)\" d=\"M63.9319 1090.07 Q60.3208 1090.07 58.4921 1093.64 Q56.6865 1097.18 56.6865 1104.31 Q56.6865 1111.42 58.4921 1114.98 Q60.3208 1118.52 63.9319 1118.52 Q67.5661 1118.52 69.3717 1114.98 Q71.2004 1111.42 71.2004 1104.31 Q71.2004 1097.18 69.3717 1093.64 Q67.5661 1090.07 63.9319 1090.07 M63.9319 1086.37 Q69.742 1086.37 72.7976 1090.98 Q75.8763 1095.56 75.8763 1104.31 Q75.8763 1113.04 72.7976 1117.64 Q69.742 1122.23 63.9319 1122.23 Q58.1217 1122.23 55.043 1117.64 Q51.9875 1113.04 51.9875 1104.31 Q51.9875 1095.56 55.043 1090.98 Q58.1217 1086.37 63.9319 1086.37 Z\" fill=\"#000000\" fill-rule=\"nonzero\" fill-opacity=\"1\" /><path clip-path=\"url(#clip230)\" d=\"M84.0938 1115.67 L88.978 1115.67 L88.978 1121.55 L84.0938 1121.55 L84.0938 1115.67 Z\" fill=\"#000000\" fill-rule=\"nonzero\" fill-opacity=\"1\" /><path clip-path=\"url(#clip230)\" d=\"M103.191 1117.62 L119.51 1117.62 L119.51 1121.55 L97.566 1121.55 L97.566 1117.62 Q100.228 1114.86 104.811 1110.23 Q109.418 1105.58 110.598 1104.24 Q112.844 1101.72 113.723 1099.98 Q114.626 1098.22 114.626 1096.53 Q114.626 1093.78 112.682 1092.04 Q110.76 1090.3 107.658 1090.3 Q105.459 1090.3 103.006 1091.07 Q100.575 1091.83 97.7974 1093.38 L97.7974 1088.66 Q100.621 1087.53 103.075 1086.95 Q105.529 1086.37 107.566 1086.37 Q112.936 1086.37 116.131 1089.05 Q119.325 1091.74 119.325 1096.23 Q119.325 1098.36 118.515 1100.28 Q117.728 1102.18 115.621 1104.77 Q115.043 1105.44 111.941 1108.66 Q108.839 1111.86 103.191 1117.62 Z\" fill=\"#000000\" fill-rule=\"nonzero\" fill-opacity=\"1\" /><path clip-path=\"url(#clip230)\" d=\"M129.371 1086.99 L147.728 1086.99 L147.728 1090.93 L133.654 1090.93 L133.654 1099.4 Q134.672 1099.05 135.691 1098.89 Q136.709 1098.71 137.728 1098.71 Q143.515 1098.71 146.894 1101.88 Q150.274 1105.05 150.274 1110.47 Q150.274 1116.04 146.802 1119.15 Q143.33 1122.23 137.01 1122.23 Q134.834 1122.23 132.566 1121.85 Q130.32 1121.48 127.913 1120.74 L127.913 1116.04 Q129.996 1117.18 132.219 1117.73 Q134.441 1118.29 136.918 1118.29 Q140.922 1118.29 143.26 1116.18 Q145.598 1114.08 145.598 1110.47 Q145.598 1106.86 143.26 1104.75 Q140.922 1102.64 136.918 1102.64 Q135.043 1102.64 133.168 1103.06 Q131.316 1103.48 129.371 1104.36 L129.371 1086.99 Z\" fill=\"#000000\" fill-rule=\"nonzero\" fill-opacity=\"1\" /><path clip-path=\"url(#clip230)\" d=\"M62.9365 748.631 Q59.3254 748.631 57.4967 752.196 Q55.6912 755.738 55.6912 762.867 Q55.6912 769.974 57.4967 773.538 Q59.3254 777.08 62.9365 777.08 Q66.5707 777.08 68.3763 773.538 Q70.205 769.974 70.205 762.867 Q70.205 755.738 68.3763 752.196 Q66.5707 748.631 62.9365 748.631 M62.9365 744.927 Q68.7467 744.927 71.8022 749.534 Q74.8809 754.117 74.8809 762.867 Q74.8809 771.594 71.8022 776.2 Q68.7467 780.784 62.9365 780.784 Q57.1264 780.784 54.0477 776.2 Q50.9921 771.594 50.9921 762.867 Q50.9921 754.117 54.0477 749.534 Q57.1264 744.927 62.9365 744.927 Z\" fill=\"#000000\" fill-rule=\"nonzero\" fill-opacity=\"1\" /><path clip-path=\"url(#clip230)\" d=\"M83.0984 774.233 L87.9827 774.233 L87.9827 780.112 L83.0984 780.112 L83.0984 774.233 Z\" fill=\"#000000\" fill-rule=\"nonzero\" fill-opacity=\"1\" /><path clip-path=\"url(#clip230)\" d=\"M98.2141 745.552 L116.57 745.552 L116.57 749.488 L102.496 749.488 L102.496 757.96 Q103.515 757.613 104.534 757.451 Q105.552 757.265 106.571 757.265 Q112.358 757.265 115.737 760.437 Q119.117 763.608 119.117 769.025 Q119.117 774.603 115.645 777.705 Q112.172 780.784 105.853 780.784 Q103.677 780.784 101.409 780.413 Q99.1632 780.043 96.7558 779.302 L96.7558 774.603 Q98.8391 775.737 101.061 776.293 Q103.284 776.849 105.76 776.849 Q109.765 776.849 112.103 774.742 Q114.441 772.636 114.441 769.025 Q114.441 765.413 112.103 763.307 Q109.765 761.201 105.76 761.201 Q103.885 761.201 102.01 761.617 Q100.159 762.034 98.2141 762.913 L98.2141 745.552 Z\" fill=\"#000000\" fill-rule=\"nonzero\" fill-opacity=\"1\" /><path clip-path=\"url(#clip230)\" d=\"M138.33 748.631 Q134.719 748.631 132.89 752.196 Q131.084 755.738 131.084 762.867 Q131.084 769.974 132.89 773.538 Q134.719 777.08 138.33 777.08 Q141.964 777.08 143.769 773.538 Q145.598 769.974 145.598 762.867 Q145.598 755.738 143.769 752.196 Q141.964 748.631 138.33 748.631 M138.33 744.927 Q144.14 744.927 147.195 749.534 Q150.274 754.117 150.274 762.867 Q150.274 771.594 147.195 776.2 Q144.14 780.784 138.33 780.784 Q132.519 780.784 129.441 776.2 Q126.385 771.594 126.385 762.867 Q126.385 754.117 129.441 749.534 Q132.519 744.927 138.33 744.927 Z\" fill=\"#000000\" fill-rule=\"nonzero\" fill-opacity=\"1\" /><path clip-path=\"url(#clip230)\" d=\"M63.9319 407.19 Q60.3208 407.19 58.4921 410.754 Q56.6865 414.296 56.6865 421.426 Q56.6865 428.532 58.4921 432.097 Q60.3208 435.638 63.9319 435.638 Q67.5661 435.638 69.3717 432.097 Q71.2004 428.532 71.2004 421.426 Q71.2004 414.296 69.3717 410.754 Q67.5661 407.19 63.9319 407.19 M63.9319 403.486 Q69.742 403.486 72.7976 408.092 Q75.8763 412.676 75.8763 421.426 Q75.8763 430.152 72.7976 434.759 Q69.742 439.342 63.9319 439.342 Q58.1217 439.342 55.043 434.759 Q51.9875 430.152 51.9875 421.426 Q51.9875 412.676 55.043 408.092 Q58.1217 403.486 63.9319 403.486 Z\" fill=\"#000000\" fill-rule=\"nonzero\" fill-opacity=\"1\" /><path clip-path=\"url(#clip230)\" d=\"M84.0938 432.791 L88.978 432.791 L88.978 438.671 L84.0938 438.671 L84.0938 432.791 Z\" fill=\"#000000\" fill-rule=\"nonzero\" fill-opacity=\"1\" /><path clip-path=\"url(#clip230)\" d=\"M97.9826 404.111 L120.205 404.111 L120.205 406.102 L107.658 438.671 L102.774 438.671 L114.58 408.046 L97.9826 408.046 L97.9826 404.111 Z\" fill=\"#000000\" fill-rule=\"nonzero\" fill-opacity=\"1\" /><path clip-path=\"url(#clip230)\" d=\"M129.371 404.111 L147.728 404.111 L147.728 408.046 L133.654 408.046 L133.654 416.518 Q134.672 416.171 135.691 416.009 Q136.709 415.824 137.728 415.824 Q143.515 415.824 146.894 418.995 Q150.274 422.166 150.274 427.583 Q150.274 433.162 146.802 436.263 Q143.33 439.342 137.01 439.342 Q134.834 439.342 132.566 438.972 Q130.32 438.601 127.913 437.861 L127.913 433.162 Q129.996 434.296 132.219 434.851 Q134.441 435.407 136.918 435.407 Q140.922 435.407 143.26 433.3 Q145.598 431.194 145.598 427.583 Q145.598 423.972 143.26 421.865 Q140.922 419.759 136.918 419.759 Q135.043 419.759 133.168 420.176 Q131.316 420.592 129.371 421.472 L129.371 404.111 Z\" fill=\"#000000\" fill-rule=\"nonzero\" fill-opacity=\"1\" /><path clip-path=\"url(#clip230)\" d=\"M53.7467 93.294 L61.3856 93.294 L61.3856 66.9284 L53.0754 68.5951 L53.0754 64.3359 L61.3393 62.6692 L66.0152 62.6692 L66.0152 93.294 L73.654 93.294 L73.654 97.2292 L53.7467 97.2292 L53.7467 93.294 Z\" fill=\"#000000\" fill-rule=\"nonzero\" fill-opacity=\"1\" /><path clip-path=\"url(#clip230)\" d=\"M83.0984 91.3496 L87.9827 91.3496 L87.9827 97.2292 L83.0984 97.2292 L83.0984 91.3496 Z\" fill=\"#000000\" fill-rule=\"nonzero\" fill-opacity=\"1\" /><path clip-path=\"url(#clip230)\" d=\"M108.168 65.7479 Q104.557 65.7479 102.728 69.3127 Q100.922 72.8543 100.922 79.9839 Q100.922 87.0904 102.728 90.6552 Q104.557 94.1968 108.168 94.1968 Q111.802 94.1968 113.608 90.6552 Q115.436 87.0904 115.436 79.9839 Q115.436 72.8543 113.608 69.3127 Q111.802 65.7479 108.168 65.7479 M108.168 62.0442 Q113.978 62.0442 117.033 66.6507 Q120.112 71.234 120.112 79.9839 Q120.112 88.7107 117.033 93.3172 Q113.978 97.9005 108.168 97.9005 Q102.358 97.9005 99.2789 93.3172 Q96.2234 88.7107 96.2234 79.9839 Q96.2234 71.234 99.2789 66.6507 Q102.358 62.0442 108.168 62.0442 Z\" fill=\"#000000\" fill-rule=\"nonzero\" fill-opacity=\"1\" /><path clip-path=\"url(#clip230)\" d=\"M138.33 65.7479 Q134.719 65.7479 132.89 69.3127 Q131.084 72.8543 131.084 79.9839 Q131.084 87.0904 132.89 90.6552 Q134.719 94.1968 138.33 94.1968 Q141.964 94.1968 143.769 90.6552 Q145.598 87.0904 145.598 79.9839 Q145.598 72.8543 143.769 69.3127 Q141.964 65.7479 138.33 65.7479 M138.33 62.0442 Q144.14 62.0442 147.195 66.6507 Q150.274 71.234 150.274 79.9839 Q150.274 88.7107 147.195 93.3172 Q144.14 97.9005 138.33 97.9005 Q132.519 97.9005 129.441 93.3172 Q126.385 88.7107 126.385 79.9839 Q126.385 71.234 129.441 66.6507 Q132.519 62.0442 138.33 62.0442 Z\" fill=\"#000000\" fill-rule=\"nonzero\" fill-opacity=\"1\" /><polyline clip-path=\"url(#clip232)\" style=\"stroke:#009af9; stroke-linecap:round; stroke-linejoin:round; stroke-width:4; stroke-opacity:1; fill:none\" points=\"247.59,1445.72 282.231,1441.97 316.873,1434.51 351.514,1423.38 386.156,1408.65 420.797,1390.45 455.439,1368.91 490.08,1344.19 524.722,1316.48 559.363,1285.99 594.005,1252.95 628.646,1217.6 663.288,1180.2 697.93,1141.01 732.571,1100.31 767.213,1058.38 801.854,1015.49 836.496,971.916 871.137,927.928 905.779,883.787 940.42,839.741 975.062,796.027 1009.7,752.866 1044.34,710.463 1078.99,669.005 1113.63,628.658 1148.27,589.572 1182.91,551.874 1217.55,515.672 1252.19,481.053 1286.84,448.085 1321.48,416.819 1356.12,387.285 1390.76,359.499 1425.4,333.458 1460.04,309.149 1494.68,286.543 1529.33,265.601 1563.97,246.273 1598.61,228.501 1633.25,212.221 1667.89,197.364 1702.53,183.853 1737.18,171.612 1771.82,160.562 1806.46,150.624 1841.1,141.717 1875.74,133.763 1910.38,126.686 1945.02,120.412 1979.67,114.869 2014.31,109.99 2048.95,105.71 2083.59,101.97 2118.23,98.7117 2152.87,95.8845 2187.52,93.4396 2222.16,91.3329 2256.8,89.524 2291.44,87.9763 \"/>\n",
       "<path clip-path=\"url(#clip230)\" d=\"M258.49 198.898 L527.569 198.898 L527.569 95.2176 L258.49 95.2176  Z\" fill=\"#ffffff\" fill-rule=\"evenodd\" fill-opacity=\"1\"/>\n",
       "<polyline clip-path=\"url(#clip230)\" style=\"stroke:#000000; stroke-linecap:round; stroke-linejoin:round; stroke-width:4; stroke-opacity:1; fill:none\" points=\"258.49,198.898 527.569,198.898 527.569,95.2176 258.49,95.2176 258.49,198.898 \"/>\n",
       "<polyline clip-path=\"url(#clip230)\" style=\"stroke:#009af9; stroke-linecap:round; stroke-linejoin:round; stroke-width:4; stroke-opacity:1; fill:none\" points=\"282.562,147.058 426.994,147.058 \"/>\n",
       "<path clip-path=\"url(#clip230)\" d=\"M464.909 166.745 Q463.103 171.375 461.39 172.787 Q459.677 174.199 456.807 174.199 L453.404 174.199 L453.404 170.634 L455.904 170.634 Q457.663 170.634 458.636 169.8 Q459.608 168.967 460.788 165.865 L461.552 163.921 L451.066 138.412 L455.58 138.412 L463.682 158.689 L471.784 138.412 L476.298 138.412 L464.909 166.745 Z\" fill=\"#000000\" fill-rule=\"nonzero\" fill-opacity=\"1\" /><path clip-path=\"url(#clip230)\" d=\"M483.589 160.402 L491.228 160.402 L491.228 134.037 L482.918 135.703 L482.918 131.444 L491.182 129.778 L495.858 129.778 L495.858 160.402 L503.497 160.402 L503.497 164.338 L483.589 164.338 L483.589 160.402 Z\" fill=\"#000000\" fill-rule=\"nonzero\" fill-opacity=\"1\" /></svg>\n"
      ]
     },
     "metadata": {},
     "output_type": "display_data"
    }
   ],
   "source": [
    "map(exact_prob, 1:60) |> plot"
   ]
  },
  {
   "attachments": {},
   "cell_type": "markdown",
   "metadata": {},
   "source": [
    "RAFAEL IRIZARRY: In the examples we have seen,\n",
    "we have used 10,000 Monte Carlo experiments.\n",
    "It turns out that this provided very accurate estimates for the examples\n",
    "we looked at.\n",
    "In more complex calculations, 10,000 may not nearly be enough.\n",
    "Also for some calculations, 10,000 experiments\n",
    "might not be computationally feasible, and it might be more than we need.\n",
    "In practice, we won't know what the answer\n",
    "is, so we don't know if our Monte Carlo estimate is accurate.\n",
    "We know that the larger the number of experiments, we've\n",
    "been using the letter B to represent that, the better the approximation.\n",
    "But how big do we need it to be?\n",
    "This is actually a challenging question, and answering it often requires\n",
    "advanced theoretical statistics training.\n",
    "One practical approach we will describe here\n",
    "is to check for the stability of the estimate.\n",
    "Here's an example with the birthday problem.\n",
    "We're going to use n equals 22.\n",
    "There's 22 people.\n",
    "So we're going to run a simulation where we compute or estimate\n",
    "the probability of two people having a certain birthday using different sizes\n",
    "of the Monte Carlo simulations.\n",
    "So the value of b going to go from 10, to 20, to 40, to 100, et cetera.\n",
    "We compute the simulation, and now we look at the values\n",
    "that we get for each simulation.\n",
    "Remember, each simulation has a different b,\n",
    "a different number of experiments.\n",
    "When we see this graph, we can see that it's wiggling up and down.\n",
    "That's because the estimate is not stable yet.\n",
    "It's not such a great estimate.\n",
    "But as b gets bigger and bigger, eventually it starts to stabilize.\n",
    "And that's when we start getting a feeling for the fact\n",
    "that now perhaps we have a large enough number of experiments."
   ]
  },
  {
   "attachments": {
    "image.png": {
     "image/png": "[encoded data removed]"
    }
   },
   "cell_type": "markdown",
   "metadata": {},
   "source": [
    "![image.png](attachment:image.png)"
   ]
  },
  {
   "cell_type": "markdown",
   "metadata": {},
   "source": []
  },
  {
   "attachments": {},
   "cell_type": "markdown",
   "metadata": {},
   "source": [
    "# Continuous Probability"
   ]
  },
  {
   "attachments": {},
   "cell_type": "markdown",
   "metadata": {},
   "source": [
    "For a random variable that can take any value in a continuous set, it impossible to assign a positive probabilities to the infinite number of possible values. Here we describe how we mathematically define distributions for continuos random variables and useful approximations often used in data analysis."
   ]
  },
  {
   "attachments": {},
   "cell_type": "markdown",
   "metadata": {},
   "source": [
    "\n",
    "After completing Section 2, you will:\n",
    "\n",
    "understand the differences between calculating probabilities for discrete and continuous data.\n",
    "be able to use cumulative distribution functions to assign probabilities to intervals when dealing with continuous data.\n",
    "be able to use R to generate normally distributed outcomes for use in Monte Carlo simulations.\n",
    "know some of the useful theoretical continuous distributions in addition to the normal distribution, such as the student-t, chi-squared, exponential, gamma, beta, and beta-binomial distributions."
   ]
  },
  {
   "attachments": {},
   "cell_type": "markdown",
   "metadata": {},
   "source": [
    "it is much more practical to define a function that operates\n",
    "on intervals rather than single values.\n",
    "The standard way of doing this is using the cumulative distribution function."
   ]
  },
  {
   "attachments": {},
   "cell_type": "markdown",
   "metadata": {},
   "source": [
    "## Empirical Cumulative Distribution Function (ECDF)"
   ]
  },
  {
   "cell_type": "code",
   "execution_count": 40,
   "metadata": {},
   "outputs": [
    {
     "data": {
      "text/plain": [
       "247-element Vector{Int64}:\n",
       " 147\n",
       " 201\n",
       " 172\n",
       " 155\n",
       " 196\n",
       " 174\n",
       " 192\n",
       " 178\n",
       " 180\n",
       " 185\n",
       "   ⋮\n",
       " 180\n",
       " 185\n",
       " 161\n",
       " 164\n",
       " 195\n",
       " 206\n",
       " 200\n",
       " 176\n",
       " 177"
      ]
     },
     "metadata": {},
     "output_type": "display_data"
    }
   ],
   "source": [
    "# Generate a sample vector of 1000 values for height\n",
    "# download height data from a open source data set\n",
    "\n",
    "using CSV\n",
    "using DataFrames\n",
    "\n",
    "# sample heights vector in cm\n",
    "height = [147, 201, 172, 155, 196, 174, 192, 178, 180, 185,\n",
    "161, 164, 195, 206, 200, 176, 177, 198, 143, 149,\n",
    "164, 173, 163, 168, 192, 191, 153, 167, 144, 172,\n",
    "180, 189, 141, 169, 154, 160, 171, 179, 193, 198,\n",
    "187, 168, 182, 178, 171, 157, 175, 199, 162, 145,\n",
    "166, 161, 156, 150, 205, 146, 176, 209, 148, 155,\n",
    "207, 194, 203, 191, 202, 162, 144, 153, 165, 172,\n",
    "158, 202, 186, 164, 169, 182, 208, 193, 151, 181,\n",
    "142, 177, 170, 159, 184, 207, 162, 181, 170, 163,\n",
    "160, 193, 183, 200, 175, 159, 183, 154, 195, 189,\n",
    "167, 192, 152, 141, 190, 157, 162, 180, 179, 166,\n",
    "185, 198, 146, 175, 206, 147, 201, 172, 155, 196,\n",
    "174, 192, 178, 180, 185, 161, 164, 195, 206, 200,\n",
    "176, 177, 198, 143, 149, 164, 173, 163, 168, 192,\n",
    "191, 153, 167, 144, 172, 180, 189, 141, 169, 154,\n",
    "160, 171, 179, 193, 198, 187, 168, 182, 178, 171,\n",
    "157, 175, 199, 162, 145, 166, 161, 156, 150, 205,\n",
    "146, 176, 209, 148, 155, 207, 194, 203, 191, 202,\n",
    "162, 144, 153, 165, 172, 158, 202, 186, 164, 169,\n",
    "182, 208, 193, 151, 181, 142, 177, 170, 159, 184,\n",
    "207, 162, 181, 170, 163, 160, 193, 183, 200, 175,\n",
    "159, 183, 154, 195, 189, 167, 192, 152, 141, 190,\n",
    "157, 162, 180, 179, 166, 185, 198, 146, 175, 206,\n",
    "147, 201, 172, 155, 196, 174, 192, 178, 180, 185,\n",
    "161, 164, 195, 206, 200, 176, 177]\n",
    "\n",
    "\n"
   ]
  },
  {
   "attachments": {},
   "cell_type": "markdown",
   "metadata": {},
   "source": [
    "## Definition of empirical cumulative distribution function\n",
    "\n",
    "$$ F (a) = mean (x \\leq a) $$\n"
   ]
  },
  {
   "attachments": {},
   "cell_type": "markdown",
   "metadata": {},
   "source": [
    "which, for any value a, gives the proportion of values in the list x that are smaller or equal than a."
   ]
  },
  {
   "cell_type": "code",
   "execution_count": 41,
   "metadata": {},
   "outputs": [
    {
     "data": {
      "text/plain": [
       "F (generic function with 1 method)"
      ]
     },
     "metadata": {},
     "output_type": "display_data"
    }
   ],
   "source": [
    "F(a::Float64, v::Vector) = mean(v .≤ a)"
   ]
  },
  {
   "cell_type": "code",
   "execution_count": 42,
   "metadata": {},
   "outputs": [
    {
     "data": {
      "text/plain": [
       "0.4291497975708502"
      ]
     },
     "metadata": {},
     "output_type": "display_data"
    }
   ],
   "source": [
    "F(170.0, height)"
   ]
  },
  {
   "attachments": {},
   "cell_type": "markdown",
   "metadata": {},
   "source": [
    "Let’s connect the eCDF to probability by asking: if I pick one of the male students at random, what is the chance that he is taller than 170 cm? Because every student has the same chance of being picked, the answer to this is equivalent to the proportion of students that are taller than 170 cm. Using the eCDF we obtain an answer by typing:"
   ]
  },
  {
   "attachments": {},
   "cell_type": "markdown",
   "metadata": {},
   "source": [
    "$$ 1 - F(170.0, height) $$"
   ]
  },
  {
   "attachments": {},
   "cell_type": "markdown",
   "metadata": {},
   "source": [
    "The CDF is a version of the eCDF that assigns theoretical probabilities for each  \n",
    "a\n",
    "  rather than proportions computed from data. Although, as we just demonstrated, proportions computed from data can be used to define probabilities for a random variable. Specifically, the CDF for a random outcome  \n",
    "X\n",
    "  defines, for any number  \n",
    "a\n",
    " , the probability of observing a value larger than  \n",
    "a\n",
    " ."
   ]
  },
  {
   "attachments": {},
   "cell_type": "markdown",
   "metadata": {},
   "source": [
    "$$ F(a) = Pr(X ≤  a)"
   ]
  },
  {
   "attachments": {},
   "cell_type": "markdown",
   "metadata": {},
   "source": [
    "Once a CDF is defined, we can use it to compute the probability of any subset of values. For instance, the probability of a student being between height a and height b is:"
   ]
  },
  {
   "attachments": {},
   "cell_type": "markdown",
   "metadata": {},
   "source": [
    "$$ Pr(a < X ≤ b) = F(b) - F(a) $$"
   ]
  },
  {
   "attachments": {},
   "cell_type": "markdown",
   "metadata": {},
   "source": [
    "## Theorical Cumulative Distribution Function (CDF)"
   ]
  },
  {
   "attachments": {},
   "cell_type": "markdown",
   "metadata": {},
   "source": [
    "A mathematical result that is actually very useful in practice is that for most CDFs we can define a function, call it  f(x)\n",
    " , that permits us to construct the CDF using Calculus, like this:"
   ]
  },
  {
   "attachments": {},
   "cell_type": "markdown",
   "metadata": {},
   "source": [
    "$$ F(b) - F(a) = \\int_a^b f(x) dx $$"
   ]
  },
  {
   "attachments": {},
   "cell_type": "markdown",
   "metadata": {},
   "source": [
    "f(x)\n",
    "  is referred to as the probability density function. The intuition is that even for continuous outcomes we can define tiny intervals, that are almost as small as points, that have positive probabilities. If we think of the size of these intervals as the base of a rectangle,the probability density function \n",
    "f determines the height of the rectangle so that the summing up the area of these rectangles approximate the probability \n",
    "F(b)−F(a). This sum can be written as Reimann sum that is approximated by an integral:"
   ]
  },
  {
   "attachments": {
    "image.png": {
     "image/png": "[encoded data removed]"
    }
   },
   "cell_type": "markdown",
   "metadata": {},
   "source": [
    "![image.png](attachment:image.png)"
   ]
  },
  {
   "attachments": {},
   "cell_type": "markdown",
   "metadata": {},
   "source": [
    "An example of such a continuous distribution is the normal distribution. As we saw in 12.4, the probability density function is given by:"
   ]
  },
  {
   "attachments": {
    "image.png": {
     "image/png": "[encoded data removed]"
    }
   },
   "cell_type": "markdown",
   "metadata": {},
   "source": [
    "![image.png](attachment:image.png)"
   ]
  },
  {
   "attachments": {},
   "cell_type": "markdown",
   "metadata": {},
   "source": [
    "The cumulative distribution for the normal distribution is defined by a mathematical formula which in julia can be obtained with the function norm. We say that a random quantity is normally distributed with average m and standard deviation s if its probability distribution is defined by:"
   ]
  },
  {
   "cell_type": "code",
   "execution_count": 43,
   "metadata": {},
   "outputs": [],
   "source": [
    "using Distributions"
   ]
  },
  {
   "cell_type": "code",
   "execution_count": 44,
   "metadata": {},
   "outputs": [
    {
     "data": {
      "text/plain": [
       "F (generic function with 2 methods)"
      ]
     },
     "metadata": {},
     "output_type": "display_data"
    }
   ],
   "source": [
    "# create a normal distribution with mean m and standard deviation s\n",
    "\n",
    "m = mean(height)\n",
    "s = std(height)\n",
    "\n",
    "F(a) = cdf(Normal(m, s), a)"
   ]
  },
  {
   "cell_type": "code",
   "execution_count": 45,
   "metadata": {},
   "outputs": [
    {
     "data": {
      "text/plain": [
       "0.39767796609047"
      ]
     },
     "metadata": {},
     "output_type": "display_data"
    }
   ],
   "source": [
    "F(170.0)"
   ]
  },
  {
   "attachments": {},
   "cell_type": "markdown",
   "metadata": {},
   "source": [
    "## 13.10.3 Theoretical distributions as approximations\n"
   ]
  },
  {
   "attachments": {},
   "cell_type": "markdown",
   "metadata": {},
   "source": [
    "The normal distribution is derived mathematically: we do not need data to define it. For practicing data scientists, almost everything we do involves data. Data is always, technically speaking, discrete. For example, we could consider our height data categorical with each specific height a unique category. The probability distribution is defined by the proportion of students reporting each height. Here is a plot of that probability distribution"
   ]
  },
  {
   "attachments": {
    "image.png": {
     "image/png": "[encoded data removed]"
    }
   },
   "cell_type": "markdown",
   "metadata": {},
   "source": [
    "![image.png](attachment:image.png)"
   ]
  },
  {
   "attachments": {},
   "cell_type": "markdown",
   "metadata": {},
   "source": [
    "## Monte Carlos Simulations with Theoretical Distributions"
   ]
  },
  {
   "attachments": {},
   "cell_type": "markdown",
   "metadata": {},
   "source": [
    "## Generating normal distributed random numbers"
   ]
  },
  {
   "cell_type": "code",
   "execution_count": 46,
   "metadata": {},
   "outputs": [],
   "source": [
    "# create normal distribution with size n, mean m and standard deviation s\n",
    "m = 170\n",
    "s = 10\n",
    "N = 1000\n",
    "v = rand(Normal(m, s), N);"
   ]
  },
  {
   "cell_type": "markdown",
   "metadata": {},
   "source": [
    "Not surprisingly, the distribution of these outcomes\n",
    "looks normal because they were generated to look normal."
   ]
  },
  {
   "cell_type": "code",
   "execution_count": 47,
   "metadata": {},
   "outputs": [
    {
     "data": {
      "image/png": "[encoded data removed]",
      "image/svg+xml": [
       "<?xml version=\"1.0\" encoding=\"utf-8\"?>\n",
       "<svg xmlns=\"http://www.w3.org/2000/svg\" xmlns:xlink=\"http://www.w3.org/1999/xlink\" width=\"600\" height=\"400\" viewBox=\"0 0 2400 1600\">\n",
       "<defs>\n",
       "  <clipPath id=\"clip270\">\n",
       "    <rect x=\"0\" y=\"0\" width=\"2400\" height=\"1600\"/>\n",
       "  </clipPath>\n",
       "</defs>\n",
       "<path clip-path=\"url(#clip270)\" d=\"M0 1600 L2400 1600 L2400 0 L0 0  Z\" fill=\"#ffffff\" fill-rule=\"evenodd\" fill-opacity=\"1\"/>\n",
       "<defs>\n",
       "  <clipPath id=\"clip271\">\n",
       "    <rect x=\"480\" y=\"0\" width=\"1681\" height=\"1600\"/>\n",
       "  </clipPath>\n",
       "</defs>\n",
       "<path clip-path=\"url(#clip270)\" d=\"M169.121 1486.45 L2352.76 1486.45 L2352.76 47.2441 L169.121 47.2441  Z\" fill=\"#ffffff\" fill-rule=\"evenodd\" fill-opacity=\"1\"/>\n",
       "<defs>\n",
       "  <clipPath id=\"clip272\">\n",
       "    <rect x=\"169\" y=\"47\" width=\"2185\" height=\"1440\"/>\n",
       "  </clipPath>\n",
       "</defs>\n",
       "<polyline clip-path=\"url(#clip272)\" style=\"stroke:#000000; stroke-linecap:round; stroke-linejoin:round; stroke-width:2; stroke-opacity:0.1; fill:none\" points=\"289.225,1486.45 289.225,47.2441 \"/>\n",
       "<polyline clip-path=\"url(#clip272)\" style=\"stroke:#000000; stroke-linecap:round; stroke-linejoin:round; stroke-width:2; stroke-opacity:0.1; fill:none\" points=\"588.214,1486.45 588.214,47.2441 \"/>\n",
       "<polyline clip-path=\"url(#clip272)\" style=\"stroke:#000000; stroke-linecap:round; stroke-linejoin:round; stroke-width:2; stroke-opacity:0.1; fill:none\" points=\"887.203,1486.45 887.203,47.2441 \"/>\n",
       "<polyline clip-path=\"url(#clip272)\" style=\"stroke:#000000; stroke-linecap:round; stroke-linejoin:round; stroke-width:2; stroke-opacity:0.1; fill:none\" points=\"1186.19,1486.45 1186.19,47.2441 \"/>\n",
       "<polyline clip-path=\"url(#clip272)\" style=\"stroke:#000000; stroke-linecap:round; stroke-linejoin:round; stroke-width:2; stroke-opacity:0.1; fill:none\" points=\"1485.18,1486.45 1485.18,47.2441 \"/>\n",
       "<polyline clip-path=\"url(#clip272)\" style=\"stroke:#000000; stroke-linecap:round; stroke-linejoin:round; stroke-width:2; stroke-opacity:0.1; fill:none\" points=\"1784.17,1486.45 1784.17,47.2441 \"/>\n",
       "<polyline clip-path=\"url(#clip272)\" style=\"stroke:#000000; stroke-linecap:round; stroke-linejoin:round; stroke-width:2; stroke-opacity:0.1; fill:none\" points=\"2083.16,1486.45 2083.16,47.2441 \"/>\n",
       "<polyline clip-path=\"url(#clip270)\" style=\"stroke:#000000; stroke-linecap:round; stroke-linejoin:round; stroke-width:4; stroke-opacity:1; fill:none\" points=\"169.121,1486.45 2352.76,1486.45 \"/>\n",
       "<polyline clip-path=\"url(#clip270)\" style=\"stroke:#000000; stroke-linecap:round; stroke-linejoin:round; stroke-width:4; stroke-opacity:1; fill:none\" points=\"289.225,1486.45 289.225,1467.55 \"/>\n",
       "<polyline clip-path=\"url(#clip270)\" style=\"stroke:#000000; stroke-linecap:round; stroke-linejoin:round; stroke-width:4; stroke-opacity:1; fill:none\" points=\"588.214,1486.45 588.214,1467.55 \"/>\n",
       "<polyline clip-path=\"url(#clip270)\" style=\"stroke:#000000; stroke-linecap:round; stroke-linejoin:round; stroke-width:4; stroke-opacity:1; fill:none\" points=\"887.203,1486.45 887.203,1467.55 \"/>\n",
       "<polyline clip-path=\"url(#clip270)\" style=\"stroke:#000000; stroke-linecap:round; stroke-linejoin:round; stroke-width:4; stroke-opacity:1; fill:none\" points=\"1186.19,1486.45 1186.19,1467.55 \"/>\n",
       "<polyline clip-path=\"url(#clip270)\" style=\"stroke:#000000; stroke-linecap:round; stroke-linejoin:round; stroke-width:4; stroke-opacity:1; fill:none\" points=\"1485.18,1486.45 1485.18,1467.55 \"/>\n",
       "<polyline clip-path=\"url(#clip270)\" style=\"stroke:#000000; stroke-linecap:round; stroke-linejoin:round; stroke-width:4; stroke-opacity:1; fill:none\" points=\"1784.17,1486.45 1784.17,1467.55 \"/>\n",
       "<polyline clip-path=\"url(#clip270)\" style=\"stroke:#000000; stroke-linecap:round; stroke-linejoin:round; stroke-width:4; stroke-opacity:1; fill:none\" points=\"2083.16,1486.45 2083.16,1467.55 \"/>\n",
       "<path clip-path=\"url(#clip270)\" d=\"M248.832 1544.91 L256.471 1544.91 L256.471 1518.55 L248.161 1520.21 L248.161 1515.95 L256.424 1514.29 L261.1 1514.29 L261.1 1544.91 L268.739 1544.91 L268.739 1548.85 L248.832 1548.85 L248.832 1544.91 Z\" fill=\"#000000\" fill-rule=\"nonzero\" fill-opacity=\"1\" /><path clip-path=\"url(#clip270)\" d=\"M291.031 1518.36 L279.225 1536.81 L291.031 1536.81 L291.031 1518.36 M289.804 1514.29 L295.683 1514.29 L295.683 1536.81 L300.614 1536.81 L300.614 1540.7 L295.683 1540.7 L295.683 1548.85 L291.031 1548.85 L291.031 1540.7 L275.429 1540.7 L275.429 1536.19 L289.804 1514.29 Z\" fill=\"#000000\" fill-rule=\"nonzero\" fill-opacity=\"1\" /><path clip-path=\"url(#clip270)\" d=\"M318.345 1517.37 Q314.734 1517.37 312.906 1520.93 Q311.1 1524.47 311.1 1531.6 Q311.1 1538.71 312.906 1542.27 Q314.734 1545.82 318.345 1545.82 Q321.98 1545.82 323.785 1542.27 Q325.614 1538.71 325.614 1531.6 Q325.614 1524.47 323.785 1520.93 Q321.98 1517.37 318.345 1517.37 M318.345 1513.66 Q324.155 1513.66 327.211 1518.27 Q330.29 1522.85 330.29 1531.6 Q330.29 1540.33 327.211 1544.94 Q324.155 1549.52 318.345 1549.52 Q312.535 1549.52 309.456 1544.94 Q306.401 1540.33 306.401 1531.6 Q306.401 1522.85 309.456 1518.27 Q312.535 1513.66 318.345 1513.66 Z\" fill=\"#000000\" fill-rule=\"nonzero\" fill-opacity=\"1\" /><path clip-path=\"url(#clip270)\" d=\"M547.821 1544.91 L555.459 1544.91 L555.459 1518.55 L547.149 1520.21 L547.149 1515.95 L555.413 1514.29 L560.089 1514.29 L560.089 1544.91 L567.728 1544.91 L567.728 1548.85 L547.821 1548.85 L547.821 1544.91 Z\" fill=\"#000000\" fill-rule=\"nonzero\" fill-opacity=\"1\" /><path clip-path=\"url(#clip270)\" d=\"M577.219 1514.29 L595.575 1514.29 L595.575 1518.22 L581.501 1518.22 L581.501 1526.7 Q582.519 1526.35 583.538 1526.19 Q584.556 1526 585.575 1526 Q591.362 1526 594.742 1529.17 Q598.121 1532.34 598.121 1537.76 Q598.121 1543.34 594.649 1546.44 Q591.177 1549.52 584.857 1549.52 Q582.681 1549.52 580.413 1549.15 Q578.168 1548.78 575.76 1548.04 L575.76 1543.34 Q577.844 1544.47 580.066 1545.03 Q582.288 1545.58 584.765 1545.58 Q588.769 1545.58 591.107 1543.48 Q593.445 1541.37 593.445 1537.76 Q593.445 1534.15 591.107 1532.04 Q588.769 1529.94 584.765 1529.94 Q582.89 1529.94 581.015 1530.35 Q579.163 1530.77 577.219 1531.65 L577.219 1514.29 Z\" fill=\"#000000\" fill-rule=\"nonzero\" fill-opacity=\"1\" /><path clip-path=\"url(#clip270)\" d=\"M617.334 1517.37 Q613.723 1517.37 611.894 1520.93 Q610.089 1524.47 610.089 1531.6 Q610.089 1538.71 611.894 1542.27 Q613.723 1545.82 617.334 1545.82 Q620.968 1545.82 622.774 1542.27 Q624.603 1538.71 624.603 1531.6 Q624.603 1524.47 622.774 1520.93 Q620.968 1517.37 617.334 1517.37 M617.334 1513.66 Q623.144 1513.66 626.2 1518.27 Q629.278 1522.85 629.278 1531.6 Q629.278 1540.33 626.2 1544.94 Q623.144 1549.52 617.334 1549.52 Q611.524 1549.52 608.445 1544.94 Q605.39 1540.33 605.39 1531.6 Q605.39 1522.85 608.445 1518.27 Q611.524 1513.66 617.334 1513.66 Z\" fill=\"#000000\" fill-rule=\"nonzero\" fill-opacity=\"1\" /><path clip-path=\"url(#clip270)\" d=\"M846.809 1544.91 L854.448 1544.91 L854.448 1518.55 L846.138 1520.21 L846.138 1515.95 L854.402 1514.29 L859.078 1514.29 L859.078 1544.91 L866.717 1544.91 L866.717 1548.85 L846.809 1548.85 L846.809 1544.91 Z\" fill=\"#000000\" fill-rule=\"nonzero\" fill-opacity=\"1\" /><path clip-path=\"url(#clip270)\" d=\"M886.74 1529.7 Q883.592 1529.7 881.74 1531.86 Q879.911 1534.01 879.911 1537.76 Q879.911 1541.49 881.74 1543.66 Q883.592 1545.82 886.74 1545.82 Q889.888 1545.82 891.717 1543.66 Q893.568 1541.49 893.568 1537.76 Q893.568 1534.01 891.717 1531.86 Q889.888 1529.7 886.74 1529.7 M896.022 1515.05 L896.022 1519.31 Q894.263 1518.48 892.457 1518.04 Q890.675 1517.6 888.916 1517.6 Q884.286 1517.6 881.832 1520.72 Q879.402 1523.85 879.055 1530.17 Q880.42 1528.15 882.48 1527.09 Q884.541 1526 887.017 1526 Q892.226 1526 895.235 1529.17 Q898.267 1532.32 898.267 1537.76 Q898.267 1543.08 895.119 1546.3 Q891.971 1549.52 886.74 1549.52 Q880.744 1549.52 877.573 1544.94 Q874.402 1540.33 874.402 1531.6 Q874.402 1523.41 878.291 1518.55 Q882.18 1513.66 888.73 1513.66 Q890.49 1513.66 892.272 1514.01 Q894.078 1514.36 896.022 1515.05 Z\" fill=\"#000000\" fill-rule=\"nonzero\" fill-opacity=\"1\" /><path clip-path=\"url(#clip270)\" d=\"M916.323 1517.37 Q912.712 1517.37 910.883 1520.93 Q909.078 1524.47 909.078 1531.6 Q909.078 1538.71 910.883 1542.27 Q912.712 1545.82 916.323 1545.82 Q919.957 1545.82 921.763 1542.27 Q923.591 1538.71 923.591 1531.6 Q923.591 1524.47 921.763 1520.93 Q919.957 1517.37 916.323 1517.37 M916.323 1513.66 Q922.133 1513.66 925.189 1518.27 Q928.267 1522.85 928.267 1531.6 Q928.267 1540.33 925.189 1544.94 Q922.133 1549.52 916.323 1549.52 Q910.513 1549.52 907.434 1544.94 Q904.378 1540.33 904.378 1531.6 Q904.378 1522.85 907.434 1518.27 Q910.513 1513.66 916.323 1513.66 Z\" fill=\"#000000\" fill-rule=\"nonzero\" fill-opacity=\"1\" /><path clip-path=\"url(#clip270)\" d=\"M1145.8 1544.91 L1153.44 1544.91 L1153.44 1518.55 L1145.13 1520.21 L1145.13 1515.95 L1153.39 1514.29 L1158.07 1514.29 L1158.07 1544.91 L1165.71 1544.91 L1165.71 1548.85 L1145.8 1548.85 L1145.8 1544.91 Z\" fill=\"#000000\" fill-rule=\"nonzero\" fill-opacity=\"1\" /><path clip-path=\"url(#clip270)\" d=\"M1173.97 1514.29 L1196.19 1514.29 L1196.19 1516.28 L1183.65 1548.85 L1178.76 1548.85 L1190.57 1518.22 L1173.97 1518.22 L1173.97 1514.29 Z\" fill=\"#000000\" fill-rule=\"nonzero\" fill-opacity=\"1\" /><path clip-path=\"url(#clip270)\" d=\"M1215.31 1517.37 Q1211.7 1517.37 1209.87 1520.93 Q1208.07 1524.47 1208.07 1531.6 Q1208.07 1538.71 1209.87 1542.27 Q1211.7 1545.82 1215.31 1545.82 Q1218.95 1545.82 1220.75 1542.27 Q1222.58 1538.71 1222.58 1531.6 Q1222.58 1524.47 1220.75 1520.93 Q1218.95 1517.37 1215.31 1517.37 M1215.31 1513.66 Q1221.12 1513.66 1224.18 1518.27 Q1227.26 1522.85 1227.26 1531.6 Q1227.26 1540.33 1224.18 1544.94 Q1221.12 1549.52 1215.31 1549.52 Q1209.5 1549.52 1206.42 1544.94 Q1203.37 1540.33 1203.37 1531.6 Q1203.37 1522.85 1206.42 1518.27 Q1209.5 1513.66 1215.31 1513.66 Z\" fill=\"#000000\" fill-rule=\"nonzero\" fill-opacity=\"1\" /><path clip-path=\"url(#clip270)\" d=\"M1444.79 1544.91 L1452.43 1544.91 L1452.43 1518.55 L1444.12 1520.21 L1444.12 1515.95 L1452.38 1514.29 L1457.06 1514.29 L1457.06 1544.91 L1464.69 1544.91 L1464.69 1548.85 L1444.79 1548.85 L1444.79 1544.91 Z\" fill=\"#000000\" fill-rule=\"nonzero\" fill-opacity=\"1\" /><path clip-path=\"url(#clip270)\" d=\"M1484.14 1532.44 Q1480.81 1532.44 1478.88 1534.22 Q1476.99 1536 1476.99 1539.13 Q1476.99 1542.25 1478.88 1544.03 Q1480.81 1545.82 1484.14 1545.82 Q1487.47 1545.82 1489.39 1544.03 Q1491.31 1542.23 1491.31 1539.13 Q1491.31 1536 1489.39 1534.22 Q1487.49 1532.44 1484.14 1532.44 M1479.46 1530.45 Q1476.45 1529.7 1474.76 1527.64 Q1473.1 1525.58 1473.1 1522.62 Q1473.1 1518.48 1476.04 1516.07 Q1479 1513.66 1484.14 1513.66 Q1489.3 1513.66 1492.24 1516.07 Q1495.18 1518.48 1495.18 1522.62 Q1495.18 1525.58 1493.49 1527.64 Q1491.82 1529.7 1488.84 1530.45 Q1492.22 1531.23 1494.09 1533.52 Q1495.99 1535.82 1495.99 1539.13 Q1495.99 1544.15 1492.91 1546.83 Q1489.86 1549.52 1484.14 1549.52 Q1478.42 1549.52 1475.34 1546.83 Q1472.29 1544.15 1472.29 1539.13 Q1472.29 1535.82 1474.18 1533.52 Q1476.08 1531.23 1479.46 1530.45 M1477.75 1523.06 Q1477.75 1525.75 1479.42 1527.25 Q1481.11 1528.76 1484.14 1528.76 Q1487.15 1528.76 1488.84 1527.25 Q1490.55 1525.75 1490.55 1523.06 Q1490.55 1520.38 1488.84 1518.87 Q1487.15 1517.37 1484.14 1517.37 Q1481.11 1517.37 1479.42 1518.87 Q1477.75 1520.38 1477.75 1523.06 Z\" fill=\"#000000\" fill-rule=\"nonzero\" fill-opacity=\"1\" /><path clip-path=\"url(#clip270)\" d=\"M1514.3 1517.37 Q1510.69 1517.37 1508.86 1520.93 Q1507.06 1524.47 1507.06 1531.6 Q1507.06 1538.71 1508.86 1542.27 Q1510.69 1545.82 1514.3 1545.82 Q1517.93 1545.82 1519.74 1542.27 Q1521.57 1538.71 1521.57 1531.6 Q1521.57 1524.47 1519.74 1520.93 Q1517.93 1517.37 1514.3 1517.37 M1514.3 1513.66 Q1520.11 1513.66 1523.17 1518.27 Q1526.24 1522.85 1526.24 1531.6 Q1526.24 1540.33 1523.17 1544.94 Q1520.11 1549.52 1514.3 1549.52 Q1508.49 1549.52 1505.41 1544.94 Q1502.36 1540.33 1502.36 1531.6 Q1502.36 1522.85 1505.41 1518.27 Q1508.49 1513.66 1514.3 1513.66 Z\" fill=\"#000000\" fill-rule=\"nonzero\" fill-opacity=\"1\" /><path clip-path=\"url(#clip270)\" d=\"M1743.78 1544.91 L1751.41 1544.91 L1751.41 1518.55 L1743.1 1520.21 L1743.1 1515.95 L1751.37 1514.29 L1756.04 1514.29 L1756.04 1544.91 L1763.68 1544.91 L1763.68 1548.85 L1743.78 1548.85 L1743.78 1544.91 Z\" fill=\"#000000\" fill-rule=\"nonzero\" fill-opacity=\"1\" /><path clip-path=\"url(#clip270)\" d=\"M1773.27 1548.13 L1773.27 1543.87 Q1775.03 1544.7 1776.83 1545.14 Q1778.64 1545.58 1780.37 1545.58 Q1785 1545.58 1787.43 1542.48 Q1789.89 1539.36 1790.23 1533.01 Q1788.89 1535.01 1786.83 1536.07 Q1784.77 1537.13 1782.27 1537.13 Q1777.09 1537.13 1774.05 1534.01 Q1771.04 1530.86 1771.04 1525.42 Q1771.04 1520.1 1774.19 1516.88 Q1777.34 1513.66 1782.57 1513.66 Q1788.57 1513.66 1791.72 1518.27 Q1794.89 1522.85 1794.89 1531.6 Q1794.89 1539.77 1791 1544.66 Q1787.13 1549.52 1780.58 1549.52 Q1778.82 1549.52 1777.02 1549.17 Q1775.21 1548.82 1773.27 1548.13 M1782.57 1533.48 Q1785.72 1533.48 1787.55 1531.32 Q1789.4 1529.17 1789.4 1525.42 Q1789.4 1521.7 1787.55 1519.54 Q1785.72 1517.37 1782.57 1517.37 Q1779.42 1517.37 1777.57 1519.54 Q1775.74 1521.7 1775.74 1525.42 Q1775.74 1529.17 1777.57 1531.32 Q1779.42 1533.48 1782.57 1533.48 Z\" fill=\"#000000\" fill-rule=\"nonzero\" fill-opacity=\"1\" /><path clip-path=\"url(#clip270)\" d=\"M1813.29 1517.37 Q1809.68 1517.37 1807.85 1520.93 Q1806.04 1524.47 1806.04 1531.6 Q1806.04 1538.71 1807.85 1542.27 Q1809.68 1545.82 1813.29 1545.82 Q1816.92 1545.82 1818.73 1542.27 Q1820.56 1538.71 1820.56 1531.6 Q1820.56 1524.47 1818.73 1520.93 Q1816.92 1517.37 1813.29 1517.37 M1813.29 1513.66 Q1819.1 1513.66 1822.15 1518.27 Q1825.23 1522.85 1825.23 1531.6 Q1825.23 1540.33 1822.15 1544.94 Q1819.1 1549.52 1813.29 1549.52 Q1807.48 1549.52 1804.4 1544.94 Q1801.34 1540.33 1801.34 1531.6 Q1801.34 1522.85 1804.4 1518.27 Q1807.48 1513.66 1813.29 1513.66 Z\" fill=\"#000000\" fill-rule=\"nonzero\" fill-opacity=\"1\" /><path clip-path=\"url(#clip270)\" d=\"M2046.85 1544.91 L2063.17 1544.91 L2063.17 1548.85 L2041.23 1548.85 L2041.23 1544.91 Q2043.89 1542.16 2048.47 1537.53 Q2053.08 1532.88 2054.26 1531.53 Q2056.5 1529.01 2057.38 1527.27 Q2058.29 1525.51 2058.29 1523.82 Q2058.29 1521.07 2056.34 1519.33 Q2054.42 1517.6 2051.32 1517.6 Q2049.12 1517.6 2046.66 1518.36 Q2044.23 1519.13 2041.46 1520.68 L2041.46 1515.95 Q2044.28 1514.82 2046.73 1514.24 Q2049.19 1513.66 2051.23 1513.66 Q2056.6 1513.66 2059.79 1516.35 Q2062.98 1519.03 2062.98 1523.52 Q2062.98 1525.65 2062.17 1527.57 Q2061.39 1529.47 2059.28 1532.07 Q2058.7 1532.74 2055.6 1535.95 Q2052.5 1539.15 2046.85 1544.91 Z\" fill=\"#000000\" fill-rule=\"nonzero\" fill-opacity=\"1\" /><path clip-path=\"url(#clip270)\" d=\"M2082.98 1517.37 Q2079.37 1517.37 2077.54 1520.93 Q2075.74 1524.47 2075.74 1531.6 Q2075.74 1538.71 2077.54 1542.27 Q2079.37 1545.82 2082.98 1545.82 Q2086.62 1545.82 2088.42 1542.27 Q2090.25 1538.71 2090.25 1531.6 Q2090.25 1524.47 2088.42 1520.93 Q2086.62 1517.37 2082.98 1517.37 M2082.98 1513.66 Q2088.79 1513.66 2091.85 1518.27 Q2094.93 1522.85 2094.93 1531.6 Q2094.93 1540.33 2091.85 1544.94 Q2088.79 1549.52 2082.98 1549.52 Q2077.17 1549.52 2074.1 1544.94 Q2071.04 1540.33 2071.04 1531.6 Q2071.04 1522.85 2074.1 1518.27 Q2077.17 1513.66 2082.98 1513.66 Z\" fill=\"#000000\" fill-rule=\"nonzero\" fill-opacity=\"1\" /><path clip-path=\"url(#clip270)\" d=\"M2113.15 1517.37 Q2109.53 1517.37 2107.71 1520.93 Q2105.9 1524.47 2105.9 1531.6 Q2105.9 1538.71 2107.71 1542.27 Q2109.53 1545.82 2113.15 1545.82 Q2116.78 1545.82 2118.59 1542.27 Q2120.41 1538.71 2120.41 1531.6 Q2120.41 1524.47 2118.59 1520.93 Q2116.78 1517.37 2113.15 1517.37 M2113.15 1513.66 Q2118.96 1513.66 2122.01 1518.27 Q2125.09 1522.85 2125.09 1531.6 Q2125.09 1540.33 2122.01 1544.94 Q2118.96 1549.52 2113.15 1549.52 Q2107.34 1549.52 2104.26 1544.94 Q2101.2 1540.33 2101.2 1531.6 Q2101.2 1522.85 2104.26 1518.27 Q2107.34 1513.66 2113.15 1513.66 Z\" fill=\"#000000\" fill-rule=\"nonzero\" fill-opacity=\"1\" /><polyline clip-path=\"url(#clip272)\" style=\"stroke:#000000; stroke-linecap:round; stroke-linejoin:round; stroke-width:2; stroke-opacity:0.1; fill:none\" points=\"169.121,1445.72 2352.76,1445.72 \"/>\n",
       "<polyline clip-path=\"url(#clip272)\" style=\"stroke:#000000; stroke-linecap:round; stroke-linejoin:round; stroke-width:2; stroke-opacity:0.1; fill:none\" points=\"169.121,1082.68 2352.76,1082.68 \"/>\n",
       "<polyline clip-path=\"url(#clip272)\" style=\"stroke:#000000; stroke-linecap:round; stroke-linejoin:round; stroke-width:2; stroke-opacity:0.1; fill:none\" points=\"169.121,719.652 2352.76,719.652 \"/>\n",
       "<polyline clip-path=\"url(#clip272)\" style=\"stroke:#000000; stroke-linecap:round; stroke-linejoin:round; stroke-width:2; stroke-opacity:0.1; fill:none\" points=\"169.121,356.62 2352.76,356.62 \"/>\n",
       "<polyline clip-path=\"url(#clip270)\" style=\"stroke:#000000; stroke-linecap:round; stroke-linejoin:round; stroke-width:4; stroke-opacity:1; fill:none\" points=\"169.121,1486.45 169.121,47.2441 \"/>\n",
       "<polyline clip-path=\"url(#clip270)\" style=\"stroke:#000000; stroke-linecap:round; stroke-linejoin:round; stroke-width:4; stroke-opacity:1; fill:none\" points=\"169.121,1445.72 188.019,1445.72 \"/>\n",
       "<polyline clip-path=\"url(#clip270)\" style=\"stroke:#000000; stroke-linecap:round; stroke-linejoin:round; stroke-width:4; stroke-opacity:1; fill:none\" points=\"169.121,1082.68 188.019,1082.68 \"/>\n",
       "<polyline clip-path=\"url(#clip270)\" style=\"stroke:#000000; stroke-linecap:round; stroke-linejoin:round; stroke-width:4; stroke-opacity:1; fill:none\" points=\"169.121,719.652 188.019,719.652 \"/>\n",
       "<polyline clip-path=\"url(#clip270)\" style=\"stroke:#000000; stroke-linecap:round; stroke-linejoin:round; stroke-width:4; stroke-opacity:1; fill:none\" points=\"169.121,356.62 188.019,356.62 \"/>\n",
       "<path clip-path=\"url(#clip270)\" d=\"M121.177 1431.51 Q117.566 1431.51 115.737 1435.08 Q113.932 1438.62 113.932 1445.75 Q113.932 1452.86 115.737 1456.42 Q117.566 1459.96 121.177 1459.96 Q124.811 1459.96 126.617 1456.42 Q128.445 1452.86 128.445 1445.75 Q128.445 1438.62 126.617 1435.08 Q124.811 1431.51 121.177 1431.51 M121.177 1427.81 Q126.987 1427.81 130.043 1432.42 Q133.121 1437 133.121 1445.75 Q133.121 1454.48 130.043 1459.08 Q126.987 1463.67 121.177 1463.67 Q115.367 1463.67 112.288 1459.08 Q109.233 1454.48 109.233 1445.75 Q109.233 1437 112.288 1432.42 Q115.367 1427.81 121.177 1427.81 Z\" fill=\"#000000\" fill-rule=\"nonzero\" fill-opacity=\"1\" /><path clip-path=\"url(#clip270)\" d=\"M81.0614 1065.4 L99.4178 1065.4 L99.4178 1069.34 L85.3438 1069.34 L85.3438 1077.81 Q86.3623 1077.46 87.3808 1077.3 Q88.3993 1077.12 89.4178 1077.12 Q95.2049 1077.12 98.5845 1080.29 Q101.964 1083.46 101.964 1088.88 Q101.964 1094.45 98.4919 1097.56 Q95.0197 1100.64 88.7003 1100.64 Q86.5243 1100.64 84.2558 1100.26 Q82.0105 1099.89 79.6031 1099.15 L79.6031 1094.45 Q81.6864 1095.59 83.9086 1096.14 Q86.1308 1096.7 88.6077 1096.7 Q92.6123 1096.7 94.9502 1094.59 Q97.2882 1092.49 97.2882 1088.88 Q97.2882 1085.26 94.9502 1083.16 Q92.6123 1081.05 88.6077 1081.05 Q86.7327 1081.05 84.8577 1081.47 Q83.0058 1081.89 81.0614 1082.76 L81.0614 1065.4 Z\" fill=\"#000000\" fill-rule=\"nonzero\" fill-opacity=\"1\" /><path clip-path=\"url(#clip270)\" d=\"M121.177 1068.48 Q117.566 1068.48 115.737 1072.05 Q113.932 1075.59 113.932 1082.72 Q113.932 1089.82 115.737 1093.39 Q117.566 1096.93 121.177 1096.93 Q124.811 1096.93 126.617 1093.39 Q128.445 1089.82 128.445 1082.72 Q128.445 1075.59 126.617 1072.05 Q124.811 1068.48 121.177 1068.48 M121.177 1064.78 Q126.987 1064.78 130.043 1069.39 Q133.121 1073.97 133.121 1082.72 Q133.121 1091.45 130.043 1096.05 Q126.987 1100.64 121.177 1100.64 Q115.367 1100.64 112.288 1096.05 Q109.233 1091.45 109.233 1082.72 Q109.233 1073.97 112.288 1069.39 Q115.367 1064.78 121.177 1064.78 Z\" fill=\"#000000\" fill-rule=\"nonzero\" fill-opacity=\"1\" /><path clip-path=\"url(#clip270)\" d=\"M51.6634 732.997 L59.3023 732.997 L59.3023 706.631 L50.9921 708.298 L50.9921 704.038 L59.256 702.372 L63.9319 702.372 L63.9319 732.997 L71.5707 732.997 L71.5707 736.932 L51.6634 736.932 L51.6634 732.997 Z\" fill=\"#000000\" fill-rule=\"nonzero\" fill-opacity=\"1\" /><path clip-path=\"url(#clip270)\" d=\"M91.0151 705.451 Q87.404 705.451 85.5753 709.015 Q83.7697 712.557 83.7697 719.687 Q83.7697 726.793 85.5753 730.358 Q87.404 733.899 91.0151 733.899 Q94.6493 733.899 96.4548 730.358 Q98.2835 726.793 98.2835 719.687 Q98.2835 712.557 96.4548 709.015 Q94.6493 705.451 91.0151 705.451 M91.0151 701.747 Q96.8252 701.747 99.8808 706.353 Q102.959 710.937 102.959 719.687 Q102.959 728.413 99.8808 733.02 Q96.8252 737.603 91.0151 737.603 Q85.2049 737.603 82.1262 733.02 Q79.0707 728.413 79.0707 719.687 Q79.0707 710.937 82.1262 706.353 Q85.2049 701.747 91.0151 701.747 Z\" fill=\"#000000\" fill-rule=\"nonzero\" fill-opacity=\"1\" /><path clip-path=\"url(#clip270)\" d=\"M121.177 705.451 Q117.566 705.451 115.737 709.015 Q113.932 712.557 113.932 719.687 Q113.932 726.793 115.737 730.358 Q117.566 733.899 121.177 733.899 Q124.811 733.899 126.617 730.358 Q128.445 726.793 128.445 719.687 Q128.445 712.557 126.617 709.015 Q124.811 705.451 121.177 705.451 M121.177 701.747 Q126.987 701.747 130.043 706.353 Q133.121 710.937 133.121 719.687 Q133.121 728.413 130.043 733.02 Q126.987 737.603 121.177 737.603 Q115.367 737.603 112.288 733.02 Q109.233 728.413 109.233 719.687 Q109.233 710.937 112.288 706.353 Q115.367 701.747 121.177 701.747 Z\" fill=\"#000000\" fill-rule=\"nonzero\" fill-opacity=\"1\" /><path clip-path=\"url(#clip270)\" d=\"M51.6634 369.965 L59.3023 369.965 L59.3023 343.599 L50.9921 345.266 L50.9921 341.007 L59.256 339.34 L63.9319 339.34 L63.9319 369.965 L71.5707 369.965 L71.5707 373.9 L51.6634 373.9 L51.6634 369.965 Z\" fill=\"#000000\" fill-rule=\"nonzero\" fill-opacity=\"1\" /><path clip-path=\"url(#clip270)\" d=\"M81.0614 339.34 L99.4178 339.34 L99.4178 343.275 L85.3438 343.275 L85.3438 351.747 Q86.3623 351.4 87.3808 351.238 Q88.3993 351.053 89.4178 351.053 Q95.2049 351.053 98.5845 354.224 Q101.964 357.395 101.964 362.812 Q101.964 368.391 98.4919 371.493 Q95.0197 374.571 88.7003 374.571 Q86.5243 374.571 84.2558 374.201 Q82.0105 373.83 79.6031 373.09 L79.6031 368.391 Q81.6864 369.525 83.9086 370.08 Q86.1308 370.636 88.6077 370.636 Q92.6123 370.636 94.9502 368.53 Q97.2882 366.423 97.2882 362.812 Q97.2882 359.201 94.9502 357.094 Q92.6123 354.988 88.6077 354.988 Q86.7327 354.988 84.8577 355.405 Q83.0058 355.821 81.0614 356.701 L81.0614 339.34 Z\" fill=\"#000000\" fill-rule=\"nonzero\" fill-opacity=\"1\" /><path clip-path=\"url(#clip270)\" d=\"M121.177 342.419 Q117.566 342.419 115.737 345.983 Q113.932 349.525 113.932 356.655 Q113.932 363.761 115.737 367.326 Q117.566 370.868 121.177 370.868 Q124.811 370.868 126.617 367.326 Q128.445 363.761 128.445 356.655 Q128.445 349.525 126.617 345.983 Q124.811 342.419 121.177 342.419 M121.177 338.715 Q126.987 338.715 130.043 343.321 Q133.121 347.905 133.121 356.655 Q133.121 365.381 130.043 369.988 Q126.987 374.571 121.177 374.571 Q115.367 374.571 112.288 369.988 Q109.233 365.381 109.233 356.655 Q109.233 347.905 112.288 343.321 Q115.367 338.715 121.177 338.715 Z\" fill=\"#000000\" fill-rule=\"nonzero\" fill-opacity=\"1\" /><path clip-path=\"url(#clip272)\" d=\"M289.225 1387.63 L289.225 1445.72 L438.719 1445.72 L438.719 1387.63 L289.225 1387.63 L289.225 1387.63  Z\" fill=\"#009af9\" fill-rule=\"evenodd\" fill-opacity=\"1\"/>\n",
       "<polyline clip-path=\"url(#clip272)\" style=\"stroke:#000000; stroke-linecap:round; stroke-linejoin:round; stroke-width:4; stroke-opacity:1; fill:none\" points=\"289.225,1387.63 289.225,1445.72 438.719,1445.72 438.719,1387.63 289.225,1387.63 \"/>\n",
       "<path clip-path=\"url(#clip272)\" d=\"M438.719 1264.2 L438.719 1445.72 L588.214 1445.72 L588.214 1264.2 L438.719 1264.2 L438.719 1264.2  Z\" fill=\"#009af9\" fill-rule=\"evenodd\" fill-opacity=\"1\"/>\n",
       "<polyline clip-path=\"url(#clip272)\" style=\"stroke:#000000; stroke-linecap:round; stroke-linejoin:round; stroke-width:4; stroke-opacity:1; fill:none\" points=\"438.719,1264.2 438.719,1445.72 588.214,1445.72 588.214,1264.2 438.719,1264.2 \"/>\n",
       "<path clip-path=\"url(#clip272)\" d=\"M588.214 1148.03 L588.214 1445.72 L737.708 1445.72 L737.708 1148.03 L588.214 1148.03 L588.214 1148.03  Z\" fill=\"#009af9\" fill-rule=\"evenodd\" fill-opacity=\"1\"/>\n",
       "<polyline clip-path=\"url(#clip272)\" style=\"stroke:#000000; stroke-linecap:round; stroke-linejoin:round; stroke-width:4; stroke-opacity:1; fill:none\" points=\"588.214,1148.03 588.214,1445.72 737.708,1445.72 737.708,1148.03 588.214,1148.03 \"/>\n",
       "<path clip-path=\"url(#clip272)\" d=\"M737.708 712.391 L737.708 1445.72 L887.203 1445.72 L887.203 712.391 L737.708 712.391 L737.708 712.391  Z\" fill=\"#009af9\" fill-rule=\"evenodd\" fill-opacity=\"1\"/>\n",
       "<polyline clip-path=\"url(#clip272)\" style=\"stroke:#000000; stroke-linecap:round; stroke-linejoin:round; stroke-width:4; stroke-opacity:1; fill:none\" points=\"737.708,712.391 737.708,1445.72 887.203,1445.72 887.203,712.391 737.708,712.391 \"/>\n",
       "<path clip-path=\"url(#clip272)\" d=\"M887.203 240.45 L887.203 1445.72 L1036.7 1445.72 L1036.7 240.45 L887.203 240.45 L887.203 240.45  Z\" fill=\"#009af9\" fill-rule=\"evenodd\" fill-opacity=\"1\"/>\n",
       "<polyline clip-path=\"url(#clip272)\" style=\"stroke:#000000; stroke-linecap:round; stroke-linejoin:round; stroke-width:4; stroke-opacity:1; fill:none\" points=\"887.203,240.45 887.203,1445.72 1036.7,1445.72 1036.7,240.45 887.203,240.45 \"/>\n",
       "<path clip-path=\"url(#clip272)\" d=\"M1036.7 87.9763 L1036.7 1445.72 L1186.19 1445.72 L1186.19 87.9763 L1036.7 87.9763 L1036.7 87.9763  Z\" fill=\"#009af9\" fill-rule=\"evenodd\" fill-opacity=\"1\"/>\n",
       "<polyline clip-path=\"url(#clip272)\" style=\"stroke:#000000; stroke-linecap:round; stroke-linejoin:round; stroke-width:4; stroke-opacity:1; fill:none\" points=\"1036.7,87.9763 1036.7,1445.72 1186.19,1445.72 1186.19,87.9763 1036.7,87.9763 \"/>\n",
       "<path clip-path=\"url(#clip272)\" d=\"M1186.19 182.365 L1186.19 1445.72 L1335.69 1445.72 L1335.69 182.365 L1186.19 182.365 L1186.19 182.365  Z\" fill=\"#009af9\" fill-rule=\"evenodd\" fill-opacity=\"1\"/>\n",
       "<polyline clip-path=\"url(#clip272)\" style=\"stroke:#000000; stroke-linecap:round; stroke-linejoin:round; stroke-width:4; stroke-opacity:1; fill:none\" points=\"1186.19,182.365 1186.19,1445.72 1335.69,1445.72 1335.69,182.365 1186.19,182.365 \"/>\n",
       "<path clip-path=\"url(#clip272)\" d=\"M1335.69 356.62 L1335.69 1445.72 L1485.18 1445.72 L1485.18 356.62 L1335.69 356.62 L1335.69 356.62  Z\" fill=\"#009af9\" fill-rule=\"evenodd\" fill-opacity=\"1\"/>\n",
       "<polyline clip-path=\"url(#clip272)\" style=\"stroke:#000000; stroke-linecap:round; stroke-linejoin:round; stroke-width:4; stroke-opacity:1; fill:none\" points=\"1335.69,356.62 1335.69,1445.72 1485.18,1445.72 1485.18,356.62 1335.69,356.62 \"/>\n",
       "<path clip-path=\"url(#clip272)\" d=\"M1485.18 843.083 L1485.18 1445.72 L1634.67 1445.72 L1634.67 843.083 L1485.18 843.083 L1485.18 843.083  Z\" fill=\"#009af9\" fill-rule=\"evenodd\" fill-opacity=\"1\"/>\n",
       "<polyline clip-path=\"url(#clip272)\" style=\"stroke:#000000; stroke-linecap:round; stroke-linejoin:round; stroke-width:4; stroke-opacity:1; fill:none\" points=\"1485.18,843.083 1485.18,1445.72 1634.67,1445.72 1634.67,843.083 1485.18,843.083 \"/>\n",
       "<path clip-path=\"url(#clip272)\" d=\"M1634.67 1162.55 L1634.67 1445.72 L1784.17 1445.72 L1784.17 1162.55 L1634.67 1162.55 L1634.67 1162.55  Z\" fill=\"#009af9\" fill-rule=\"evenodd\" fill-opacity=\"1\"/>\n",
       "<polyline clip-path=\"url(#clip272)\" style=\"stroke:#000000; stroke-linecap:round; stroke-linejoin:round; stroke-width:4; stroke-opacity:1; fill:none\" points=\"1634.67,1162.55 1634.67,1445.72 1784.17,1445.72 1784.17,1162.55 1634.67,1162.55 \"/>\n",
       "<path clip-path=\"url(#clip272)\" d=\"M1784.17 1322.28 L1784.17 1445.72 L1933.66 1445.72 L1933.66 1322.28 L1784.17 1322.28 L1784.17 1322.28  Z\" fill=\"#009af9\" fill-rule=\"evenodd\" fill-opacity=\"1\"/>\n",
       "<polyline clip-path=\"url(#clip272)\" style=\"stroke:#000000; stroke-linecap:round; stroke-linejoin:round; stroke-width:4; stroke-opacity:1; fill:none\" points=\"1784.17,1322.28 1784.17,1445.72 1933.66,1445.72 1933.66,1322.28 1784.17,1322.28 \"/>\n",
       "<path clip-path=\"url(#clip272)\" d=\"M1933.66 1394.89 L1933.66 1445.72 L2083.16 1445.72 L2083.16 1394.89 L1933.66 1394.89 L1933.66 1394.89  Z\" fill=\"#009af9\" fill-rule=\"evenodd\" fill-opacity=\"1\"/>\n",
       "<polyline clip-path=\"url(#clip272)\" style=\"stroke:#000000; stroke-linecap:round; stroke-linejoin:round; stroke-width:4; stroke-opacity:1; fill:none\" points=\"1933.66,1394.89 1933.66,1445.72 2083.16,1445.72 2083.16,1394.89 1933.66,1394.89 \"/>\n",
       "<path clip-path=\"url(#clip272)\" d=\"M2083.16 1431.19 L2083.16 1445.72 L2232.65 1445.72 L2232.65 1431.19 L2083.16 1431.19 L2083.16 1431.19  Z\" fill=\"#009af9\" fill-rule=\"evenodd\" fill-opacity=\"1\"/>\n",
       "<polyline clip-path=\"url(#clip272)\" style=\"stroke:#000000; stroke-linecap:round; stroke-linejoin:round; stroke-width:4; stroke-opacity:1; fill:none\" points=\"2083.16,1431.19 2083.16,1445.72 2232.65,1445.72 2232.65,1431.19 2083.16,1431.19 \"/>\n",
       "<circle clip-path=\"url(#clip272)\" style=\"fill:#009af9; stroke:none; fill-opacity:0\" cx=\"363.972\" cy=\"1387.63\" r=\"2\"/>\n",
       "<circle clip-path=\"url(#clip272)\" style=\"fill:#009af9; stroke:none; fill-opacity:0\" cx=\"513.467\" cy=\"1264.2\" r=\"2\"/>\n",
       "<circle clip-path=\"url(#clip272)\" style=\"fill:#009af9; stroke:none; fill-opacity:0\" cx=\"662.961\" cy=\"1148.03\" r=\"2\"/>\n",
       "<circle clip-path=\"url(#clip272)\" style=\"fill:#009af9; stroke:none; fill-opacity:0\" cx=\"812.455\" cy=\"712.391\" r=\"2\"/>\n",
       "<circle clip-path=\"url(#clip272)\" style=\"fill:#009af9; stroke:none; fill-opacity:0\" cx=\"961.95\" cy=\"240.45\" r=\"2\"/>\n",
       "<circle clip-path=\"url(#clip272)\" style=\"fill:#009af9; stroke:none; fill-opacity:0\" cx=\"1111.44\" cy=\"87.9763\" r=\"2\"/>\n",
       "<circle clip-path=\"url(#clip272)\" style=\"fill:#009af9; stroke:none; fill-opacity:0\" cx=\"1260.94\" cy=\"182.365\" r=\"2\"/>\n",
       "<circle clip-path=\"url(#clip272)\" style=\"fill:#009af9; stroke:none; fill-opacity:0\" cx=\"1410.43\" cy=\"356.62\" r=\"2\"/>\n",
       "<circle clip-path=\"url(#clip272)\" style=\"fill:#009af9; stroke:none; fill-opacity:0\" cx=\"1559.93\" cy=\"843.083\" r=\"2\"/>\n",
       "<circle clip-path=\"url(#clip272)\" style=\"fill:#009af9; stroke:none; fill-opacity:0\" cx=\"1709.42\" cy=\"1162.55\" r=\"2\"/>\n",
       "<circle clip-path=\"url(#clip272)\" style=\"fill:#009af9; stroke:none; fill-opacity:0\" cx=\"1858.92\" cy=\"1322.28\" r=\"2\"/>\n",
       "<circle clip-path=\"url(#clip272)\" style=\"fill:#009af9; stroke:none; fill-opacity:0\" cx=\"2008.41\" cy=\"1394.89\" r=\"2\"/>\n",
       "<circle clip-path=\"url(#clip272)\" style=\"fill:#009af9; stroke:none; fill-opacity:0\" cx=\"2157.9\" cy=\"1431.19\" r=\"2\"/>\n",
       "<path clip-path=\"url(#clip270)\" d=\"M2009.17 198.898 L2279.97 198.898 L2279.97 95.2176 L2009.17 95.2176  Z\" fill=\"#ffffff\" fill-rule=\"evenodd\" fill-opacity=\"1\"/>\n",
       "<polyline clip-path=\"url(#clip270)\" style=\"stroke:#000000; stroke-linecap:round; stroke-linejoin:round; stroke-width:4; stroke-opacity:1; fill:none\" points=\"2009.17,198.898 2279.97,198.898 2279.97,95.2176 2009.17,95.2176 2009.17,198.898 \"/>\n",
       "<path clip-path=\"url(#clip270)\" d=\"M2033.44 167.794 L2179.01 167.794 L2179.01 126.322 L2033.44 126.322 L2033.44 167.794  Z\" fill=\"#009af9\" fill-rule=\"evenodd\" fill-opacity=\"1\"/>\n",
       "<polyline clip-path=\"url(#clip270)\" style=\"stroke:#000000; stroke-linecap:round; stroke-linejoin:round; stroke-width:4; stroke-opacity:1; fill:none\" points=\"2033.44,167.794 2179.01,167.794 2179.01,126.322 2033.44,126.322 2033.44,167.794 \"/>\n",
       "<path clip-path=\"url(#clip270)\" d=\"M2217.12 166.745 Q2215.31 171.375 2213.6 172.787 Q2211.89 174.199 2209.02 174.199 L2205.61 174.199 L2205.61 170.634 L2208.11 170.634 Q2209.87 170.634 2210.84 169.8 Q2211.82 168.967 2213 165.865 L2213.76 163.921 L2203.28 138.412 L2207.79 138.412 L2215.89 158.689 L2223.99 138.412 L2228.51 138.412 L2217.12 166.745 Z\" fill=\"#000000\" fill-rule=\"nonzero\" fill-opacity=\"1\" /><path clip-path=\"url(#clip270)\" d=\"M2235.8 160.402 L2243.44 160.402 L2243.44 134.037 L2235.13 135.703 L2235.13 131.444 L2243.39 129.778 L2248.07 129.778 L2248.07 160.402 L2255.71 160.402 L2255.71 164.338 L2235.8 164.338 L2235.8 160.402 Z\" fill=\"#000000\" fill-rule=\"nonzero\" fill-opacity=\"1\" /></svg>\n"
      ],
      "text/html": [
       "<?xml version=\"1.0\" encoding=\"utf-8\"?>\n",
       "<svg xmlns=\"http://www.w3.org/2000/svg\" xmlns:xlink=\"http://www.w3.org/1999/xlink\" width=\"600\" height=\"400\" viewBox=\"0 0 2400 1600\">\n",
       "<defs>\n",
       "  <clipPath id=\"clip320\">\n",
       "    <rect x=\"0\" y=\"0\" width=\"2400\" height=\"1600\"/>\n",
       "  </clipPath>\n",
       "</defs>\n",
       "<path clip-path=\"url(#clip320)\" d=\"M0 1600 L2400 1600 L2400 0 L0 0  Z\" fill=\"#ffffff\" fill-rule=\"evenodd\" fill-opacity=\"1\"/>\n",
       "<defs>\n",
       "  <clipPath id=\"clip321\">\n",
       "    <rect x=\"480\" y=\"0\" width=\"1681\" height=\"1600\"/>\n",
       "  </clipPath>\n",
       "</defs>\n",
       "<path clip-path=\"url(#clip320)\" d=\"M169.121 1486.45 L2352.76 1486.45 L2352.76 47.2441 L169.121 47.2441  Z\" fill=\"#ffffff\" fill-rule=\"evenodd\" fill-opacity=\"1\"/>\n",
       "<defs>\n",
       "  <clipPath id=\"clip322\">\n",
       "    <rect x=\"169\" y=\"47\" width=\"2185\" height=\"1440\"/>\n",
       "  </clipPath>\n",
       "</defs>\n",
       "<polyline clip-path=\"url(#clip322)\" style=\"stroke:#000000; stroke-linecap:round; stroke-linejoin:round; stroke-width:2; stroke-opacity:0.1; fill:none\" points=\"289.225,1486.45 289.225,47.2441 \"/>\n",
       "<polyline clip-path=\"url(#clip322)\" style=\"stroke:#000000; stroke-linecap:round; stroke-linejoin:round; stroke-width:2; stroke-opacity:0.1; fill:none\" points=\"588.214,1486.45 588.214,47.2441 \"/>\n",
       "<polyline clip-path=\"url(#clip322)\" style=\"stroke:#000000; stroke-linecap:round; stroke-linejoin:round; stroke-width:2; stroke-opacity:0.1; fill:none\" points=\"887.203,1486.45 887.203,47.2441 \"/>\n",
       "<polyline clip-path=\"url(#clip322)\" style=\"stroke:#000000; stroke-linecap:round; stroke-linejoin:round; stroke-width:2; stroke-opacity:0.1; fill:none\" points=\"1186.19,1486.45 1186.19,47.2441 \"/>\n",
       "<polyline clip-path=\"url(#clip322)\" style=\"stroke:#000000; stroke-linecap:round; stroke-linejoin:round; stroke-width:2; stroke-opacity:0.1; fill:none\" points=\"1485.18,1486.45 1485.18,47.2441 \"/>\n",
       "<polyline clip-path=\"url(#clip322)\" style=\"stroke:#000000; stroke-linecap:round; stroke-linejoin:round; stroke-width:2; stroke-opacity:0.1; fill:none\" points=\"1784.17,1486.45 1784.17,47.2441 \"/>\n",
       "<polyline clip-path=\"url(#clip322)\" style=\"stroke:#000000; stroke-linecap:round; stroke-linejoin:round; stroke-width:2; stroke-opacity:0.1; fill:none\" points=\"2083.16,1486.45 2083.16,47.2441 \"/>\n",
       "<polyline clip-path=\"url(#clip320)\" style=\"stroke:#000000; stroke-linecap:round; stroke-linejoin:round; stroke-width:4; stroke-opacity:1; fill:none\" points=\"169.121,1486.45 2352.76,1486.45 \"/>\n",
       "<polyline clip-path=\"url(#clip320)\" style=\"stroke:#000000; stroke-linecap:round; stroke-linejoin:round; stroke-width:4; stroke-opacity:1; fill:none\" points=\"289.225,1486.45 289.225,1467.55 \"/>\n",
       "<polyline clip-path=\"url(#clip320)\" style=\"stroke:#000000; stroke-linecap:round; stroke-linejoin:round; stroke-width:4; stroke-opacity:1; fill:none\" points=\"588.214,1486.45 588.214,1467.55 \"/>\n",
       "<polyline clip-path=\"url(#clip320)\" style=\"stroke:#000000; stroke-linecap:round; stroke-linejoin:round; stroke-width:4; stroke-opacity:1; fill:none\" points=\"887.203,1486.45 887.203,1467.55 \"/>\n",
       "<polyline clip-path=\"url(#clip320)\" style=\"stroke:#000000; stroke-linecap:round; stroke-linejoin:round; stroke-width:4; stroke-opacity:1; fill:none\" points=\"1186.19,1486.45 1186.19,1467.55 \"/>\n",
       "<polyline clip-path=\"url(#clip320)\" style=\"stroke:#000000; stroke-linecap:round; stroke-linejoin:round; stroke-width:4; stroke-opacity:1; fill:none\" points=\"1485.18,1486.45 1485.18,1467.55 \"/>\n",
       "<polyline clip-path=\"url(#clip320)\" style=\"stroke:#000000; stroke-linecap:round; stroke-linejoin:round; stroke-width:4; stroke-opacity:1; fill:none\" points=\"1784.17,1486.45 1784.17,1467.55 \"/>\n",
       "<polyline clip-path=\"url(#clip320)\" style=\"stroke:#000000; stroke-linecap:round; stroke-linejoin:round; stroke-width:4; stroke-opacity:1; fill:none\" points=\"2083.16,1486.45 2083.16,1467.55 \"/>\n",
       "<path clip-path=\"url(#clip320)\" d=\"M248.832 1544.91 L256.471 1544.91 L256.471 1518.55 L248.161 1520.21 L248.161 1515.95 L256.424 1514.29 L261.1 1514.29 L261.1 1544.91 L268.739 1544.91 L268.739 1548.85 L248.832 1548.85 L248.832 1544.91 Z\" fill=\"#000000\" fill-rule=\"nonzero\" fill-opacity=\"1\" /><path clip-path=\"url(#clip320)\" d=\"M291.031 1518.36 L279.225 1536.81 L291.031 1536.81 L291.031 1518.36 M289.804 1514.29 L295.683 1514.29 L295.683 1536.81 L300.614 1536.81 L300.614 1540.7 L295.683 1540.7 L295.683 1548.85 L291.031 1548.85 L291.031 1540.7 L275.429 1540.7 L275.429 1536.19 L289.804 1514.29 Z\" fill=\"#000000\" fill-rule=\"nonzero\" fill-opacity=\"1\" /><path clip-path=\"url(#clip320)\" d=\"M318.345 1517.37 Q314.734 1517.37 312.906 1520.93 Q311.1 1524.47 311.1 1531.6 Q311.1 1538.71 312.906 1542.27 Q314.734 1545.82 318.345 1545.82 Q321.98 1545.82 323.785 1542.27 Q325.614 1538.71 325.614 1531.6 Q325.614 1524.47 323.785 1520.93 Q321.98 1517.37 318.345 1517.37 M318.345 1513.66 Q324.155 1513.66 327.211 1518.27 Q330.29 1522.85 330.29 1531.6 Q330.29 1540.33 327.211 1544.94 Q324.155 1549.52 318.345 1549.52 Q312.535 1549.52 309.456 1544.94 Q306.401 1540.33 306.401 1531.6 Q306.401 1522.85 309.456 1518.27 Q312.535 1513.66 318.345 1513.66 Z\" fill=\"#000000\" fill-rule=\"nonzero\" fill-opacity=\"1\" /><path clip-path=\"url(#clip320)\" d=\"M547.821 1544.91 L555.459 1544.91 L555.459 1518.55 L547.149 1520.21 L547.149 1515.95 L555.413 1514.29 L560.089 1514.29 L560.089 1544.91 L567.728 1544.91 L567.728 1548.85 L547.821 1548.85 L547.821 1544.91 Z\" fill=\"#000000\" fill-rule=\"nonzero\" fill-opacity=\"1\" /><path clip-path=\"url(#clip320)\" d=\"M577.219 1514.29 L595.575 1514.29 L595.575 1518.22 L581.501 1518.22 L581.501 1526.7 Q582.519 1526.35 583.538 1526.19 Q584.556 1526 585.575 1526 Q591.362 1526 594.742 1529.17 Q598.121 1532.34 598.121 1537.76 Q598.121 1543.34 594.649 1546.44 Q591.177 1549.52 584.857 1549.52 Q582.681 1549.52 580.413 1549.15 Q578.168 1548.78 575.76 1548.04 L575.76 1543.34 Q577.844 1544.47 580.066 1545.03 Q582.288 1545.58 584.765 1545.58 Q588.769 1545.58 591.107 1543.48 Q593.445 1541.37 593.445 1537.76 Q593.445 1534.15 591.107 1532.04 Q588.769 1529.94 584.765 1529.94 Q582.89 1529.94 581.015 1530.35 Q579.163 1530.77 577.219 1531.65 L577.219 1514.29 Z\" fill=\"#000000\" fill-rule=\"nonzero\" fill-opacity=\"1\" /><path clip-path=\"url(#clip320)\" d=\"M617.334 1517.37 Q613.723 1517.37 611.894 1520.93 Q610.089 1524.47 610.089 1531.6 Q610.089 1538.71 611.894 1542.27 Q613.723 1545.82 617.334 1545.82 Q620.968 1545.82 622.774 1542.27 Q624.603 1538.71 624.603 1531.6 Q624.603 1524.47 622.774 1520.93 Q620.968 1517.37 617.334 1517.37 M617.334 1513.66 Q623.144 1513.66 626.2 1518.27 Q629.278 1522.85 629.278 1531.6 Q629.278 1540.33 626.2 1544.94 Q623.144 1549.52 617.334 1549.52 Q611.524 1549.52 608.445 1544.94 Q605.39 1540.33 605.39 1531.6 Q605.39 1522.85 608.445 1518.27 Q611.524 1513.66 617.334 1513.66 Z\" fill=\"#000000\" fill-rule=\"nonzero\" fill-opacity=\"1\" /><path clip-path=\"url(#clip320)\" d=\"M846.809 1544.91 L854.448 1544.91 L854.448 1518.55 L846.138 1520.21 L846.138 1515.95 L854.402 1514.29 L859.078 1514.29 L859.078 1544.91 L866.717 1544.91 L866.717 1548.85 L846.809 1548.85 L846.809 1544.91 Z\" fill=\"#000000\" fill-rule=\"nonzero\" fill-opacity=\"1\" /><path clip-path=\"url(#clip320)\" d=\"M886.74 1529.7 Q883.592 1529.7 881.74 1531.86 Q879.911 1534.01 879.911 1537.76 Q879.911 1541.49 881.74 1543.66 Q883.592 1545.82 886.74 1545.82 Q889.888 1545.82 891.717 1543.66 Q893.568 1541.49 893.568 1537.76 Q893.568 1534.01 891.717 1531.86 Q889.888 1529.7 886.74 1529.7 M896.022 1515.05 L896.022 1519.31 Q894.263 1518.48 892.457 1518.04 Q890.675 1517.6 888.916 1517.6 Q884.286 1517.6 881.832 1520.72 Q879.402 1523.85 879.055 1530.17 Q880.42 1528.15 882.48 1527.09 Q884.541 1526 887.017 1526 Q892.226 1526 895.235 1529.17 Q898.267 1532.32 898.267 1537.76 Q898.267 1543.08 895.119 1546.3 Q891.971 1549.52 886.74 1549.52 Q880.744 1549.52 877.573 1544.94 Q874.402 1540.33 874.402 1531.6 Q874.402 1523.41 878.291 1518.55 Q882.18 1513.66 888.73 1513.66 Q890.49 1513.66 892.272 1514.01 Q894.078 1514.36 896.022 1515.05 Z\" fill=\"#000000\" fill-rule=\"nonzero\" fill-opacity=\"1\" /><path clip-path=\"url(#clip320)\" d=\"M916.323 1517.37 Q912.712 1517.37 910.883 1520.93 Q909.078 1524.47 909.078 1531.6 Q909.078 1538.71 910.883 1542.27 Q912.712 1545.82 916.323 1545.82 Q919.957 1545.82 921.763 1542.27 Q923.591 1538.71 923.591 1531.6 Q923.591 1524.47 921.763 1520.93 Q919.957 1517.37 916.323 1517.37 M916.323 1513.66 Q922.133 1513.66 925.189 1518.27 Q928.267 1522.85 928.267 1531.6 Q928.267 1540.33 925.189 1544.94 Q922.133 1549.52 916.323 1549.52 Q910.513 1549.52 907.434 1544.94 Q904.378 1540.33 904.378 1531.6 Q904.378 1522.85 907.434 1518.27 Q910.513 1513.66 916.323 1513.66 Z\" fill=\"#000000\" fill-rule=\"nonzero\" fill-opacity=\"1\" /><path clip-path=\"url(#clip320)\" d=\"M1145.8 1544.91 L1153.44 1544.91 L1153.44 1518.55 L1145.13 1520.21 L1145.13 1515.95 L1153.39 1514.29 L1158.07 1514.29 L1158.07 1544.91 L1165.71 1544.91 L1165.71 1548.85 L1145.8 1548.85 L1145.8 1544.91 Z\" fill=\"#000000\" fill-rule=\"nonzero\" fill-opacity=\"1\" /><path clip-path=\"url(#clip320)\" d=\"M1173.97 1514.29 L1196.19 1514.29 L1196.19 1516.28 L1183.65 1548.85 L1178.76 1548.85 L1190.57 1518.22 L1173.97 1518.22 L1173.97 1514.29 Z\" fill=\"#000000\" fill-rule=\"nonzero\" fill-opacity=\"1\" /><path clip-path=\"url(#clip320)\" d=\"M1215.31 1517.37 Q1211.7 1517.37 1209.87 1520.93 Q1208.07 1524.47 1208.07 1531.6 Q1208.07 1538.71 1209.87 1542.27 Q1211.7 1545.82 1215.31 1545.82 Q1218.95 1545.82 1220.75 1542.27 Q1222.58 1538.71 1222.58 1531.6 Q1222.58 1524.47 1220.75 1520.93 Q1218.95 1517.37 1215.31 1517.37 M1215.31 1513.66 Q1221.12 1513.66 1224.18 1518.27 Q1227.26 1522.85 1227.26 1531.6 Q1227.26 1540.33 1224.18 1544.94 Q1221.12 1549.52 1215.31 1549.52 Q1209.5 1549.52 1206.42 1544.94 Q1203.37 1540.33 1203.37 1531.6 Q1203.37 1522.85 1206.42 1518.27 Q1209.5 1513.66 1215.31 1513.66 Z\" fill=\"#000000\" fill-rule=\"nonzero\" fill-opacity=\"1\" /><path clip-path=\"url(#clip320)\" d=\"M1444.79 1544.91 L1452.43 1544.91 L1452.43 1518.55 L1444.12 1520.21 L1444.12 1515.95 L1452.38 1514.29 L1457.06 1514.29 L1457.06 1544.91 L1464.69 1544.91 L1464.69 1548.85 L1444.79 1548.85 L1444.79 1544.91 Z\" fill=\"#000000\" fill-rule=\"nonzero\" fill-opacity=\"1\" /><path clip-path=\"url(#clip320)\" d=\"M1484.14 1532.44 Q1480.81 1532.44 1478.88 1534.22 Q1476.99 1536 1476.99 1539.13 Q1476.99 1542.25 1478.88 1544.03 Q1480.81 1545.82 1484.14 1545.82 Q1487.47 1545.82 1489.39 1544.03 Q1491.31 1542.23 1491.31 1539.13 Q1491.31 1536 1489.39 1534.22 Q1487.49 1532.44 1484.14 1532.44 M1479.46 1530.45 Q1476.45 1529.7 1474.76 1527.64 Q1473.1 1525.58 1473.1 1522.62 Q1473.1 1518.48 1476.04 1516.07 Q1479 1513.66 1484.14 1513.66 Q1489.3 1513.66 1492.24 1516.07 Q1495.18 1518.48 1495.18 1522.62 Q1495.18 1525.58 1493.49 1527.64 Q1491.82 1529.7 1488.84 1530.45 Q1492.22 1531.23 1494.09 1533.52 Q1495.99 1535.82 1495.99 1539.13 Q1495.99 1544.15 1492.91 1546.83 Q1489.86 1549.52 1484.14 1549.52 Q1478.42 1549.52 1475.34 1546.83 Q1472.29 1544.15 1472.29 1539.13 Q1472.29 1535.82 1474.18 1533.52 Q1476.08 1531.23 1479.46 1530.45 M1477.75 1523.06 Q1477.75 1525.75 1479.42 1527.25 Q1481.11 1528.76 1484.14 1528.76 Q1487.15 1528.76 1488.84 1527.25 Q1490.55 1525.75 1490.55 1523.06 Q1490.55 1520.38 1488.84 1518.87 Q1487.15 1517.37 1484.14 1517.37 Q1481.11 1517.37 1479.42 1518.87 Q1477.75 1520.38 1477.75 1523.06 Z\" fill=\"#000000\" fill-rule=\"nonzero\" fill-opacity=\"1\" /><path clip-path=\"url(#clip320)\" d=\"M1514.3 1517.37 Q1510.69 1517.37 1508.86 1520.93 Q1507.06 1524.47 1507.06 1531.6 Q1507.06 1538.71 1508.86 1542.27 Q1510.69 1545.82 1514.3 1545.82 Q1517.93 1545.82 1519.74 1542.27 Q1521.57 1538.71 1521.57 1531.6 Q1521.57 1524.47 1519.74 1520.93 Q1517.93 1517.37 1514.3 1517.37 M1514.3 1513.66 Q1520.11 1513.66 1523.17 1518.27 Q1526.24 1522.85 1526.24 1531.6 Q1526.24 1540.33 1523.17 1544.94 Q1520.11 1549.52 1514.3 1549.52 Q1508.49 1549.52 1505.41 1544.94 Q1502.36 1540.33 1502.36 1531.6 Q1502.36 1522.85 1505.41 1518.27 Q1508.49 1513.66 1514.3 1513.66 Z\" fill=\"#000000\" fill-rule=\"nonzero\" fill-opacity=\"1\" /><path clip-path=\"url(#clip320)\" d=\"M1743.78 1544.91 L1751.41 1544.91 L1751.41 1518.55 L1743.1 1520.21 L1743.1 1515.95 L1751.37 1514.29 L1756.04 1514.29 L1756.04 1544.91 L1763.68 1544.91 L1763.68 1548.85 L1743.78 1548.85 L1743.78 1544.91 Z\" fill=\"#000000\" fill-rule=\"nonzero\" fill-opacity=\"1\" /><path clip-path=\"url(#clip320)\" d=\"M1773.27 1548.13 L1773.27 1543.87 Q1775.03 1544.7 1776.83 1545.14 Q1778.64 1545.58 1780.37 1545.58 Q1785 1545.58 1787.43 1542.48 Q1789.89 1539.36 1790.23 1533.01 Q1788.89 1535.01 1786.83 1536.07 Q1784.77 1537.13 1782.27 1537.13 Q1777.09 1537.13 1774.05 1534.01 Q1771.04 1530.86 1771.04 1525.42 Q1771.04 1520.1 1774.19 1516.88 Q1777.34 1513.66 1782.57 1513.66 Q1788.57 1513.66 1791.72 1518.27 Q1794.89 1522.85 1794.89 1531.6 Q1794.89 1539.77 1791 1544.66 Q1787.13 1549.52 1780.58 1549.52 Q1778.82 1549.52 1777.02 1549.17 Q1775.21 1548.82 1773.27 1548.13 M1782.57 1533.48 Q1785.72 1533.48 1787.55 1531.32 Q1789.4 1529.17 1789.4 1525.42 Q1789.4 1521.7 1787.55 1519.54 Q1785.72 1517.37 1782.57 1517.37 Q1779.42 1517.37 1777.57 1519.54 Q1775.74 1521.7 1775.74 1525.42 Q1775.74 1529.17 1777.57 1531.32 Q1779.42 1533.48 1782.57 1533.48 Z\" fill=\"#000000\" fill-rule=\"nonzero\" fill-opacity=\"1\" /><path clip-path=\"url(#clip320)\" d=\"M1813.29 1517.37 Q1809.68 1517.37 1807.85 1520.93 Q1806.04 1524.47 1806.04 1531.6 Q1806.04 1538.71 1807.85 1542.27 Q1809.68 1545.82 1813.29 1545.82 Q1816.92 1545.82 1818.73 1542.27 Q1820.56 1538.71 1820.56 1531.6 Q1820.56 1524.47 1818.73 1520.93 Q1816.92 1517.37 1813.29 1517.37 M1813.29 1513.66 Q1819.1 1513.66 1822.15 1518.27 Q1825.23 1522.85 1825.23 1531.6 Q1825.23 1540.33 1822.15 1544.94 Q1819.1 1549.52 1813.29 1549.52 Q1807.48 1549.52 1804.4 1544.94 Q1801.34 1540.33 1801.34 1531.6 Q1801.34 1522.85 1804.4 1518.27 Q1807.48 1513.66 1813.29 1513.66 Z\" fill=\"#000000\" fill-rule=\"nonzero\" fill-opacity=\"1\" /><path clip-path=\"url(#clip320)\" d=\"M2046.85 1544.91 L2063.17 1544.91 L2063.17 1548.85 L2041.23 1548.85 L2041.23 1544.91 Q2043.89 1542.16 2048.47 1537.53 Q2053.08 1532.88 2054.26 1531.53 Q2056.5 1529.01 2057.38 1527.27 Q2058.29 1525.51 2058.29 1523.82 Q2058.29 1521.07 2056.34 1519.33 Q2054.42 1517.6 2051.32 1517.6 Q2049.12 1517.6 2046.66 1518.36 Q2044.23 1519.13 2041.46 1520.68 L2041.46 1515.95 Q2044.28 1514.82 2046.73 1514.24 Q2049.19 1513.66 2051.23 1513.66 Q2056.6 1513.66 2059.79 1516.35 Q2062.98 1519.03 2062.98 1523.52 Q2062.98 1525.65 2062.17 1527.57 Q2061.39 1529.47 2059.28 1532.07 Q2058.7 1532.74 2055.6 1535.95 Q2052.5 1539.15 2046.85 1544.91 Z\" fill=\"#000000\" fill-rule=\"nonzero\" fill-opacity=\"1\" /><path clip-path=\"url(#clip320)\" d=\"M2082.98 1517.37 Q2079.37 1517.37 2077.54 1520.93 Q2075.74 1524.47 2075.74 1531.6 Q2075.74 1538.71 2077.54 1542.27 Q2079.37 1545.82 2082.98 1545.82 Q2086.62 1545.82 2088.42 1542.27 Q2090.25 1538.71 2090.25 1531.6 Q2090.25 1524.47 2088.42 1520.93 Q2086.62 1517.37 2082.98 1517.37 M2082.98 1513.66 Q2088.79 1513.66 2091.85 1518.27 Q2094.93 1522.85 2094.93 1531.6 Q2094.93 1540.33 2091.85 1544.94 Q2088.79 1549.52 2082.98 1549.52 Q2077.17 1549.52 2074.1 1544.94 Q2071.04 1540.33 2071.04 1531.6 Q2071.04 1522.85 2074.1 1518.27 Q2077.17 1513.66 2082.98 1513.66 Z\" fill=\"#000000\" fill-rule=\"nonzero\" fill-opacity=\"1\" /><path clip-path=\"url(#clip320)\" d=\"M2113.15 1517.37 Q2109.53 1517.37 2107.71 1520.93 Q2105.9 1524.47 2105.9 1531.6 Q2105.9 1538.71 2107.71 1542.27 Q2109.53 1545.82 2113.15 1545.82 Q2116.78 1545.82 2118.59 1542.27 Q2120.41 1538.71 2120.41 1531.6 Q2120.41 1524.47 2118.59 1520.93 Q2116.78 1517.37 2113.15 1517.37 M2113.15 1513.66 Q2118.96 1513.66 2122.01 1518.27 Q2125.09 1522.85 2125.09 1531.6 Q2125.09 1540.33 2122.01 1544.94 Q2118.96 1549.52 2113.15 1549.52 Q2107.34 1549.52 2104.26 1544.94 Q2101.2 1540.33 2101.2 1531.6 Q2101.2 1522.85 2104.26 1518.27 Q2107.34 1513.66 2113.15 1513.66 Z\" fill=\"#000000\" fill-rule=\"nonzero\" fill-opacity=\"1\" /><polyline clip-path=\"url(#clip322)\" style=\"stroke:#000000; stroke-linecap:round; stroke-linejoin:round; stroke-width:2; stroke-opacity:0.1; fill:none\" points=\"169.121,1445.72 2352.76,1445.72 \"/>\n",
       "<polyline clip-path=\"url(#clip322)\" style=\"stroke:#000000; stroke-linecap:round; stroke-linejoin:round; stroke-width:2; stroke-opacity:0.1; fill:none\" points=\"169.121,1082.68 2352.76,1082.68 \"/>\n",
       "<polyline clip-path=\"url(#clip322)\" style=\"stroke:#000000; stroke-linecap:round; stroke-linejoin:round; stroke-width:2; stroke-opacity:0.1; fill:none\" points=\"169.121,719.652 2352.76,719.652 \"/>\n",
       "<polyline clip-path=\"url(#clip322)\" style=\"stroke:#000000; stroke-linecap:round; stroke-linejoin:round; stroke-width:2; stroke-opacity:0.1; fill:none\" points=\"169.121,356.62 2352.76,356.62 \"/>\n",
       "<polyline clip-path=\"url(#clip320)\" style=\"stroke:#000000; stroke-linecap:round; stroke-linejoin:round; stroke-width:4; stroke-opacity:1; fill:none\" points=\"169.121,1486.45 169.121,47.2441 \"/>\n",
       "<polyline clip-path=\"url(#clip320)\" style=\"stroke:#000000; stroke-linecap:round; stroke-linejoin:round; stroke-width:4; stroke-opacity:1; fill:none\" points=\"169.121,1445.72 188.019,1445.72 \"/>\n",
       "<polyline clip-path=\"url(#clip320)\" style=\"stroke:#000000; stroke-linecap:round; stroke-linejoin:round; stroke-width:4; stroke-opacity:1; fill:none\" points=\"169.121,1082.68 188.019,1082.68 \"/>\n",
       "<polyline clip-path=\"url(#clip320)\" style=\"stroke:#000000; stroke-linecap:round; stroke-linejoin:round; stroke-width:4; stroke-opacity:1; fill:none\" points=\"169.121,719.652 188.019,719.652 \"/>\n",
       "<polyline clip-path=\"url(#clip320)\" style=\"stroke:#000000; stroke-linecap:round; stroke-linejoin:round; stroke-width:4; stroke-opacity:1; fill:none\" points=\"169.121,356.62 188.019,356.62 \"/>\n",
       "<path clip-path=\"url(#clip320)\" d=\"M121.177 1431.51 Q117.566 1431.51 115.737 1435.08 Q113.932 1438.62 113.932 1445.75 Q113.932 1452.86 115.737 1456.42 Q117.566 1459.96 121.177 1459.96 Q124.811 1459.96 126.617 1456.42 Q128.445 1452.86 128.445 1445.75 Q128.445 1438.62 126.617 1435.08 Q124.811 1431.51 121.177 1431.51 M121.177 1427.81 Q126.987 1427.81 130.043 1432.42 Q133.121 1437 133.121 1445.75 Q133.121 1454.48 130.043 1459.08 Q126.987 1463.67 121.177 1463.67 Q115.367 1463.67 112.288 1459.08 Q109.233 1454.48 109.233 1445.75 Q109.233 1437 112.288 1432.42 Q115.367 1427.81 121.177 1427.81 Z\" fill=\"#000000\" fill-rule=\"nonzero\" fill-opacity=\"1\" /><path clip-path=\"url(#clip320)\" d=\"M81.0614 1065.4 L99.4178 1065.4 L99.4178 1069.34 L85.3438 1069.34 L85.3438 1077.81 Q86.3623 1077.46 87.3808 1077.3 Q88.3993 1077.12 89.4178 1077.12 Q95.2049 1077.12 98.5845 1080.29 Q101.964 1083.46 101.964 1088.88 Q101.964 1094.45 98.4919 1097.56 Q95.0197 1100.64 88.7003 1100.64 Q86.5243 1100.64 84.2558 1100.26 Q82.0105 1099.89 79.6031 1099.15 L79.6031 1094.45 Q81.6864 1095.59 83.9086 1096.14 Q86.1308 1096.7 88.6077 1096.7 Q92.6123 1096.7 94.9502 1094.59 Q97.2882 1092.49 97.2882 1088.88 Q97.2882 1085.26 94.9502 1083.16 Q92.6123 1081.05 88.6077 1081.05 Q86.7327 1081.05 84.8577 1081.47 Q83.0058 1081.89 81.0614 1082.76 L81.0614 1065.4 Z\" fill=\"#000000\" fill-rule=\"nonzero\" fill-opacity=\"1\" /><path clip-path=\"url(#clip320)\" d=\"M121.177 1068.48 Q117.566 1068.48 115.737 1072.05 Q113.932 1075.59 113.932 1082.72 Q113.932 1089.82 115.737 1093.39 Q117.566 1096.93 121.177 1096.93 Q124.811 1096.93 126.617 1093.39 Q128.445 1089.82 128.445 1082.72 Q128.445 1075.59 126.617 1072.05 Q124.811 1068.48 121.177 1068.48 M121.177 1064.78 Q126.987 1064.78 130.043 1069.39 Q133.121 1073.97 133.121 1082.72 Q133.121 1091.45 130.043 1096.05 Q126.987 1100.64 121.177 1100.64 Q115.367 1100.64 112.288 1096.05 Q109.233 1091.45 109.233 1082.72 Q109.233 1073.97 112.288 1069.39 Q115.367 1064.78 121.177 1064.78 Z\" fill=\"#000000\" fill-rule=\"nonzero\" fill-opacity=\"1\" /><path clip-path=\"url(#clip320)\" d=\"M51.6634 732.997 L59.3023 732.997 L59.3023 706.631 L50.9921 708.298 L50.9921 704.038 L59.256 702.372 L63.9319 702.372 L63.9319 732.997 L71.5707 732.997 L71.5707 736.932 L51.6634 736.932 L51.6634 732.997 Z\" fill=\"#000000\" fill-rule=\"nonzero\" fill-opacity=\"1\" /><path clip-path=\"url(#clip320)\" d=\"M91.0151 705.451 Q87.404 705.451 85.5753 709.015 Q83.7697 712.557 83.7697 719.687 Q83.7697 726.793 85.5753 730.358 Q87.404 733.899 91.0151 733.899 Q94.6493 733.899 96.4548 730.358 Q98.2835 726.793 98.2835 719.687 Q98.2835 712.557 96.4548 709.015 Q94.6493 705.451 91.0151 705.451 M91.0151 701.747 Q96.8252 701.747 99.8808 706.353 Q102.959 710.937 102.959 719.687 Q102.959 728.413 99.8808 733.02 Q96.8252 737.603 91.0151 737.603 Q85.2049 737.603 82.1262 733.02 Q79.0707 728.413 79.0707 719.687 Q79.0707 710.937 82.1262 706.353 Q85.2049 701.747 91.0151 701.747 Z\" fill=\"#000000\" fill-rule=\"nonzero\" fill-opacity=\"1\" /><path clip-path=\"url(#clip320)\" d=\"M121.177 705.451 Q117.566 705.451 115.737 709.015 Q113.932 712.557 113.932 719.687 Q113.932 726.793 115.737 730.358 Q117.566 733.899 121.177 733.899 Q124.811 733.899 126.617 730.358 Q128.445 726.793 128.445 719.687 Q128.445 712.557 126.617 709.015 Q124.811 705.451 121.177 705.451 M121.177 701.747 Q126.987 701.747 130.043 706.353 Q133.121 710.937 133.121 719.687 Q133.121 728.413 130.043 733.02 Q126.987 737.603 121.177 737.603 Q115.367 737.603 112.288 733.02 Q109.233 728.413 109.233 719.687 Q109.233 710.937 112.288 706.353 Q115.367 701.747 121.177 701.747 Z\" fill=\"#000000\" fill-rule=\"nonzero\" fill-opacity=\"1\" /><path clip-path=\"url(#clip320)\" d=\"M51.6634 369.965 L59.3023 369.965 L59.3023 343.599 L50.9921 345.266 L50.9921 341.007 L59.256 339.34 L63.9319 339.34 L63.9319 369.965 L71.5707 369.965 L71.5707 373.9 L51.6634 373.9 L51.6634 369.965 Z\" fill=\"#000000\" fill-rule=\"nonzero\" fill-opacity=\"1\" /><path clip-path=\"url(#clip320)\" d=\"M81.0614 339.34 L99.4178 339.34 L99.4178 343.275 L85.3438 343.275 L85.3438 351.747 Q86.3623 351.4 87.3808 351.238 Q88.3993 351.053 89.4178 351.053 Q95.2049 351.053 98.5845 354.224 Q101.964 357.395 101.964 362.812 Q101.964 368.391 98.4919 371.493 Q95.0197 374.571 88.7003 374.571 Q86.5243 374.571 84.2558 374.201 Q82.0105 373.83 79.6031 373.09 L79.6031 368.391 Q81.6864 369.525 83.9086 370.08 Q86.1308 370.636 88.6077 370.636 Q92.6123 370.636 94.9502 368.53 Q97.2882 366.423 97.2882 362.812 Q97.2882 359.201 94.9502 357.094 Q92.6123 354.988 88.6077 354.988 Q86.7327 354.988 84.8577 355.405 Q83.0058 355.821 81.0614 356.701 L81.0614 339.34 Z\" fill=\"#000000\" fill-rule=\"nonzero\" fill-opacity=\"1\" /><path clip-path=\"url(#clip320)\" d=\"M121.177 342.419 Q117.566 342.419 115.737 345.983 Q113.932 349.525 113.932 356.655 Q113.932 363.761 115.737 367.326 Q117.566 370.868 121.177 370.868 Q124.811 370.868 126.617 367.326 Q128.445 363.761 128.445 356.655 Q128.445 349.525 126.617 345.983 Q124.811 342.419 121.177 342.419 M121.177 338.715 Q126.987 338.715 130.043 343.321 Q133.121 347.905 133.121 356.655 Q133.121 365.381 130.043 369.988 Q126.987 374.571 121.177 374.571 Q115.367 374.571 112.288 369.988 Q109.233 365.381 109.233 356.655 Q109.233 347.905 112.288 343.321 Q115.367 338.715 121.177 338.715 Z\" fill=\"#000000\" fill-rule=\"nonzero\" fill-opacity=\"1\" /><path clip-path=\"url(#clip322)\" d=\"M289.225 1387.63 L289.225 1445.72 L438.719 1445.72 L438.719 1387.63 L289.225 1387.63 L289.225 1387.63  Z\" fill=\"#009af9\" fill-rule=\"evenodd\" fill-opacity=\"1\"/>\n",
       "<polyline clip-path=\"url(#clip322)\" style=\"stroke:#000000; stroke-linecap:round; stroke-linejoin:round; stroke-width:4; stroke-opacity:1; fill:none\" points=\"289.225,1387.63 289.225,1445.72 438.719,1445.72 438.719,1387.63 289.225,1387.63 \"/>\n",
       "<path clip-path=\"url(#clip322)\" d=\"M438.719 1264.2 L438.719 1445.72 L588.214 1445.72 L588.214 1264.2 L438.719 1264.2 L438.719 1264.2  Z\" fill=\"#009af9\" fill-rule=\"evenodd\" fill-opacity=\"1\"/>\n",
       "<polyline clip-path=\"url(#clip322)\" style=\"stroke:#000000; stroke-linecap:round; stroke-linejoin:round; stroke-width:4; stroke-opacity:1; fill:none\" points=\"438.719,1264.2 438.719,1445.72 588.214,1445.72 588.214,1264.2 438.719,1264.2 \"/>\n",
       "<path clip-path=\"url(#clip322)\" d=\"M588.214 1148.03 L588.214 1445.72 L737.708 1445.72 L737.708 1148.03 L588.214 1148.03 L588.214 1148.03  Z\" fill=\"#009af9\" fill-rule=\"evenodd\" fill-opacity=\"1\"/>\n",
       "<polyline clip-path=\"url(#clip322)\" style=\"stroke:#000000; stroke-linecap:round; stroke-linejoin:round; stroke-width:4; stroke-opacity:1; fill:none\" points=\"588.214,1148.03 588.214,1445.72 737.708,1445.72 737.708,1148.03 588.214,1148.03 \"/>\n",
       "<path clip-path=\"url(#clip322)\" d=\"M737.708 712.391 L737.708 1445.72 L887.203 1445.72 L887.203 712.391 L737.708 712.391 L737.708 712.391  Z\" fill=\"#009af9\" fill-rule=\"evenodd\" fill-opacity=\"1\"/>\n",
       "<polyline clip-path=\"url(#clip322)\" style=\"stroke:#000000; stroke-linecap:round; stroke-linejoin:round; stroke-width:4; stroke-opacity:1; fill:none\" points=\"737.708,712.391 737.708,1445.72 887.203,1445.72 887.203,712.391 737.708,712.391 \"/>\n",
       "<path clip-path=\"url(#clip322)\" d=\"M887.203 240.45 L887.203 1445.72 L1036.7 1445.72 L1036.7 240.45 L887.203 240.45 L887.203 240.45  Z\" fill=\"#009af9\" fill-rule=\"evenodd\" fill-opacity=\"1\"/>\n",
       "<polyline clip-path=\"url(#clip322)\" style=\"stroke:#000000; stroke-linecap:round; stroke-linejoin:round; stroke-width:4; stroke-opacity:1; fill:none\" points=\"887.203,240.45 887.203,1445.72 1036.7,1445.72 1036.7,240.45 887.203,240.45 \"/>\n",
       "<path clip-path=\"url(#clip322)\" d=\"M1036.7 87.9763 L1036.7 1445.72 L1186.19 1445.72 L1186.19 87.9763 L1036.7 87.9763 L1036.7 87.9763  Z\" fill=\"#009af9\" fill-rule=\"evenodd\" fill-opacity=\"1\"/>\n",
       "<polyline clip-path=\"url(#clip322)\" style=\"stroke:#000000; stroke-linecap:round; stroke-linejoin:round; stroke-width:4; stroke-opacity:1; fill:none\" points=\"1036.7,87.9763 1036.7,1445.72 1186.19,1445.72 1186.19,87.9763 1036.7,87.9763 \"/>\n",
       "<path clip-path=\"url(#clip322)\" d=\"M1186.19 182.365 L1186.19 1445.72 L1335.69 1445.72 L1335.69 182.365 L1186.19 182.365 L1186.19 182.365  Z\" fill=\"#009af9\" fill-rule=\"evenodd\" fill-opacity=\"1\"/>\n",
       "<polyline clip-path=\"url(#clip322)\" style=\"stroke:#000000; stroke-linecap:round; stroke-linejoin:round; stroke-width:4; stroke-opacity:1; fill:none\" points=\"1186.19,182.365 1186.19,1445.72 1335.69,1445.72 1335.69,182.365 1186.19,182.365 \"/>\n",
       "<path clip-path=\"url(#clip322)\" d=\"M1335.69 356.62 L1335.69 1445.72 L1485.18 1445.72 L1485.18 356.62 L1335.69 356.62 L1335.69 356.62  Z\" fill=\"#009af9\" fill-rule=\"evenodd\" fill-opacity=\"1\"/>\n",
       "<polyline clip-path=\"url(#clip322)\" style=\"stroke:#000000; stroke-linecap:round; stroke-linejoin:round; stroke-width:4; stroke-opacity:1; fill:none\" points=\"1335.69,356.62 1335.69,1445.72 1485.18,1445.72 1485.18,356.62 1335.69,356.62 \"/>\n",
       "<path clip-path=\"url(#clip322)\" d=\"M1485.18 843.083 L1485.18 1445.72 L1634.67 1445.72 L1634.67 843.083 L1485.18 843.083 L1485.18 843.083  Z\" fill=\"#009af9\" fill-rule=\"evenodd\" fill-opacity=\"1\"/>\n",
       "<polyline clip-path=\"url(#clip322)\" style=\"stroke:#000000; stroke-linecap:round; stroke-linejoin:round; stroke-width:4; stroke-opacity:1; fill:none\" points=\"1485.18,843.083 1485.18,1445.72 1634.67,1445.72 1634.67,843.083 1485.18,843.083 \"/>\n",
       "<path clip-path=\"url(#clip322)\" d=\"M1634.67 1162.55 L1634.67 1445.72 L1784.17 1445.72 L1784.17 1162.55 L1634.67 1162.55 L1634.67 1162.55  Z\" fill=\"#009af9\" fill-rule=\"evenodd\" fill-opacity=\"1\"/>\n",
       "<polyline clip-path=\"url(#clip322)\" style=\"stroke:#000000; stroke-linecap:round; stroke-linejoin:round; stroke-width:4; stroke-opacity:1; fill:none\" points=\"1634.67,1162.55 1634.67,1445.72 1784.17,1445.72 1784.17,1162.55 1634.67,1162.55 \"/>\n",
       "<path clip-path=\"url(#clip322)\" d=\"M1784.17 1322.28 L1784.17 1445.72 L1933.66 1445.72 L1933.66 1322.28 L1784.17 1322.28 L1784.17 1322.28  Z\" fill=\"#009af9\" fill-rule=\"evenodd\" fill-opacity=\"1\"/>\n",
       "<polyline clip-path=\"url(#clip322)\" style=\"stroke:#000000; stroke-linecap:round; stroke-linejoin:round; stroke-width:4; stroke-opacity:1; fill:none\" points=\"1784.17,1322.28 1784.17,1445.72 1933.66,1445.72 1933.66,1322.28 1784.17,1322.28 \"/>\n",
       "<path clip-path=\"url(#clip322)\" d=\"M1933.66 1394.89 L1933.66 1445.72 L2083.16 1445.72 L2083.16 1394.89 L1933.66 1394.89 L1933.66 1394.89  Z\" fill=\"#009af9\" fill-rule=\"evenodd\" fill-opacity=\"1\"/>\n",
       "<polyline clip-path=\"url(#clip322)\" style=\"stroke:#000000; stroke-linecap:round; stroke-linejoin:round; stroke-width:4; stroke-opacity:1; fill:none\" points=\"1933.66,1394.89 1933.66,1445.72 2083.16,1445.72 2083.16,1394.89 1933.66,1394.89 \"/>\n",
       "<path clip-path=\"url(#clip322)\" d=\"M2083.16 1431.19 L2083.16 1445.72 L2232.65 1445.72 L2232.65 1431.19 L2083.16 1431.19 L2083.16 1431.19  Z\" fill=\"#009af9\" fill-rule=\"evenodd\" fill-opacity=\"1\"/>\n",
       "<polyline clip-path=\"url(#clip322)\" style=\"stroke:#000000; stroke-linecap:round; stroke-linejoin:round; stroke-width:4; stroke-opacity:1; fill:none\" points=\"2083.16,1431.19 2083.16,1445.72 2232.65,1445.72 2232.65,1431.19 2083.16,1431.19 \"/>\n",
       "<circle clip-path=\"url(#clip322)\" style=\"fill:#009af9; stroke:none; fill-opacity:0\" cx=\"363.972\" cy=\"1387.63\" r=\"2\"/>\n",
       "<circle clip-path=\"url(#clip322)\" style=\"fill:#009af9; stroke:none; fill-opacity:0\" cx=\"513.467\" cy=\"1264.2\" r=\"2\"/>\n",
       "<circle clip-path=\"url(#clip322)\" style=\"fill:#009af9; stroke:none; fill-opacity:0\" cx=\"662.961\" cy=\"1148.03\" r=\"2\"/>\n",
       "<circle clip-path=\"url(#clip322)\" style=\"fill:#009af9; stroke:none; fill-opacity:0\" cx=\"812.455\" cy=\"712.391\" r=\"2\"/>\n",
       "<circle clip-path=\"url(#clip322)\" style=\"fill:#009af9; stroke:none; fill-opacity:0\" cx=\"961.95\" cy=\"240.45\" r=\"2\"/>\n",
       "<circle clip-path=\"url(#clip322)\" style=\"fill:#009af9; stroke:none; fill-opacity:0\" cx=\"1111.44\" cy=\"87.9763\" r=\"2\"/>\n",
       "<circle clip-path=\"url(#clip322)\" style=\"fill:#009af9; stroke:none; fill-opacity:0\" cx=\"1260.94\" cy=\"182.365\" r=\"2\"/>\n",
       "<circle clip-path=\"url(#clip322)\" style=\"fill:#009af9; stroke:none; fill-opacity:0\" cx=\"1410.43\" cy=\"356.62\" r=\"2\"/>\n",
       "<circle clip-path=\"url(#clip322)\" style=\"fill:#009af9; stroke:none; fill-opacity:0\" cx=\"1559.93\" cy=\"843.083\" r=\"2\"/>\n",
       "<circle clip-path=\"url(#clip322)\" style=\"fill:#009af9; stroke:none; fill-opacity:0\" cx=\"1709.42\" cy=\"1162.55\" r=\"2\"/>\n",
       "<circle clip-path=\"url(#clip322)\" style=\"fill:#009af9; stroke:none; fill-opacity:0\" cx=\"1858.92\" cy=\"1322.28\" r=\"2\"/>\n",
       "<circle clip-path=\"url(#clip322)\" style=\"fill:#009af9; stroke:none; fill-opacity:0\" cx=\"2008.41\" cy=\"1394.89\" r=\"2\"/>\n",
       "<circle clip-path=\"url(#clip322)\" style=\"fill:#009af9; stroke:none; fill-opacity:0\" cx=\"2157.9\" cy=\"1431.19\" r=\"2\"/>\n",
       "<path clip-path=\"url(#clip320)\" d=\"M2009.17 198.898 L2279.97 198.898 L2279.97 95.2176 L2009.17 95.2176  Z\" fill=\"#ffffff\" fill-rule=\"evenodd\" fill-opacity=\"1\"/>\n",
       "<polyline clip-path=\"url(#clip320)\" style=\"stroke:#000000; stroke-linecap:round; stroke-linejoin:round; stroke-width:4; stroke-opacity:1; fill:none\" points=\"2009.17,198.898 2279.97,198.898 2279.97,95.2176 2009.17,95.2176 2009.17,198.898 \"/>\n",
       "<path clip-path=\"url(#clip320)\" d=\"M2033.44 167.794 L2179.01 167.794 L2179.01 126.322 L2033.44 126.322 L2033.44 167.794  Z\" fill=\"#009af9\" fill-rule=\"evenodd\" fill-opacity=\"1\"/>\n",
       "<polyline clip-path=\"url(#clip320)\" style=\"stroke:#000000; stroke-linecap:round; stroke-linejoin:round; stroke-width:4; stroke-opacity:1; fill:none\" points=\"2033.44,167.794 2179.01,167.794 2179.01,126.322 2033.44,126.322 2033.44,167.794 \"/>\n",
       "<path clip-path=\"url(#clip320)\" d=\"M2217.12 166.745 Q2215.31 171.375 2213.6 172.787 Q2211.89 174.199 2209.02 174.199 L2205.61 174.199 L2205.61 170.634 L2208.11 170.634 Q2209.87 170.634 2210.84 169.8 Q2211.82 168.967 2213 165.865 L2213.76 163.921 L2203.28 138.412 L2207.79 138.412 L2215.89 158.689 L2223.99 138.412 L2228.51 138.412 L2217.12 166.745 Z\" fill=\"#000000\" fill-rule=\"nonzero\" fill-opacity=\"1\" /><path clip-path=\"url(#clip320)\" d=\"M2235.8 160.402 L2243.44 160.402 L2243.44 134.037 L2235.13 135.703 L2235.13 131.444 L2243.39 129.778 L2248.07 129.778 L2248.07 160.402 L2255.71 160.402 L2255.71 164.338 L2235.8 164.338 L2235.8 160.402 Z\" fill=\"#000000\" fill-rule=\"nonzero\" fill-opacity=\"1\" /></svg>\n"
      ]
     },
     "metadata": {},
     "output_type": "display_data"
    }
   ],
   "source": [
    "histogram(v, bins = 20)"
   ]
  },
  {
   "attachments": {},
   "cell_type": "markdown",
   "metadata": {},
   "source": [
    "as it will permit us to generate data that mimics naturally occurring events,\n",
    "and it'll let us answer questions related\n",
    "to what could happen by chance by running Monte Carlo simulations.\n",
    "For example, if we pick 800 males at random,\n",
    "what is the distribution of the tallest person?\n",
    "Specifically, we could ask, how rare is that the tallest person is a seven\n",
    "footer?"
   ]
  },
  {
   "attachments": {},
   "cell_type": "markdown",
   "metadata": {},
   "source": [
    "We can use the following Monte Carlo simulation to answer this question.\n",
    "We're going to run 10,000 simulations, and for each one,\n",
    "we're going to generate 800 normally distributed values,\n",
    "pick the tallest one, and return that.\n",
    "The tallest variable will have these values.\n",
    "So now we can ask, what proportion of these simulations\n",
    "return a seven footer as the tallest person?\n",
    "And we can see that it's a very small number."
   ]
  },
  {
   "cell_type": "code",
   "execution_count": 48,
   "metadata": {},
   "outputs": [
    {
     "data": {
      "text/plain": [
       "sim (generic function with 1 method)"
      ]
     },
     "metadata": {},
     "output_type": "display_data"
    }
   ],
   "source": [
    "m = 69.31 # mean of heights in inches\n",
    "s = 3.611024 # standard deviation of heights in inches\n",
    "n = 812 # number of students in the sample\n",
    "\n",
    "sim(n) = rand(Normal(m, s), n) \n",
    "\n"
   ]
  },
  {
   "cell_type": "code",
   "execution_count": 49,
   "metadata": {},
   "outputs": [],
   "source": [
    "# monte carlos simulation\n",
    "# We're going to run 10,000 simulations, and for each one,\n",
    "# we're going to generate 800 normally distributed values,\n",
    "# pick the tallest one, and return that.\n",
    "# The tallest variable will have these values.\n",
    "# So now we can ask, what proportion of these simulations\n",
    "# return a seven footer as the tallest person?\n",
    "\n",
    "# create empty vector to store results\n",
    "\n",
    "\n",
    "tallest = []\n",
    "[push!(tallest, sim(800) |> maximum) for i in 1:10000]; # run simulation 20000 times\n"
   ]
  },
  {
   "cell_type": "code",
   "execution_count": 52,
   "metadata": {},
   "outputs": [
    {
     "data": {
      "text/plain": [
       "0.0211"
      ]
     },
     "metadata": {},
     "output_type": "display_data"
    }
   ],
   "source": [
    "# calculate the proportion of 7 footers\n",
    "\n",
    "mean(tallest .≥ 7.0 * 12.0) # 7 feet in inches "
   ]
  },
  {
   "cell_type": "markdown",
   "metadata": {},
   "source": [
    "We can see, this is indeed a very small number"
   ]
  },
  {
   "cell_type": "markdown",
   "metadata": {},
   "source": []
  }
 ],
 "metadata": {
  "kernelspec": {
   "display_name": "Julia 1.8.5",
   "language": "julia",
   "name": "julia-1.8"
  },
  "language_info": {
   "file_extension": ".jl",
   "mimetype": "application/julia",
   "name": "julia",
   "version": "1.8.5"
  },
  "orig_nbformat": 4
 },
 "nbformat": 4,
 "nbformat_minor": 2
}
