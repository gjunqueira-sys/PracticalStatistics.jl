{
 "cells": [
  {
   "cell_type": "code",
   "execution_count": 13,
   "metadata": {},
   "outputs": [],
   "source": [
    "using StatsBase\n",
    "using Tables"
   ]
  },
  {
   "attachments": {},
   "cell_type": "markdown",
   "metadata": {},
   "source": [
    "# Section 1 Overview\n",
    "\n",
    "Section 1 introduces you to Discrete Probability. Section 1 is divided into three parts:\n",
    "\n",
    "Introduction to Discrete Probability\n",
    "Combinations and Permutations\n",
    "Addition Rule and Monty Hall\n",
    "After completing Section 1, you will be able to:\n",
    "\n",
    "apply basic probability theory to categorical data.\n",
    "perform a Monte Carlo simulation to approximate the results of repeating an experiment over and over, including simulating the outcomes in the Monty Hall problem.\n",
    "distinguish between: sampling with and without replacement, events that are and are not independent, and combinations and permutations.\n",
    "apply the multiplication and addition rules, as appropriate, to calculate the probably of multiple events occurring.\n",
    "use sapply() instead of a for loop to perform element-wise operations on a function.\n",
    "There are 3 assignments that use the DataCamp platform for you to practice your coding skills. There are also some quick probability calculations for you to perform directly on the edX platform as well, and there is a longer set of problems at the end of section 1.\n",
    "\n",
    "This section corresponds to the following section of the course textbook.\n",
    "\n",
    "We encourage you to use R to interactively test out your answers and further your learning.\n",
    "\n"
   ]
  },
  {
   "attachments": {},
   "cell_type": "markdown",
   "metadata": {},
   "source": [
    "# Discrete Probability\n",
    "\n",
    "\n",
    "RAFAEL IRIZARRY: We start by covering some basic principles related to categorical data.\n",
    "\n",
    "This subset of probability is referred to as discrete probability.\n",
    "\n",
    "It will help us understand the probability theory we will later introduce for numeric and continuous data, which is more common in data science applications.\n",
    "Discrete probability is more useful in card games and we use these as examples.\n",
    "The word probability is used in everyday language.\n",
    "For example, Google's auto complete of, what are the chances of,gives us getting pregnant, having twins, and rain tomorrow.\n",
    "Answering questions about probability is often hard, if not impossible.\n",
    "Here, we discuss a mathematical definition of probability that does permit us to give precise answers to certain questions.\n",
    "For example, if I have two red beads and three blue beads inside an urn and I pick one at random, what is the probability of picking a red one?\n",
    "Our intuition tells us that the answer is 2/5, or 40%.\n",
    "A precise definition can be given by noting that there are five possible outcomes of which two satisfy\n",
    "the condition necessary for the event \"pick a red bead.\"\n",
    "Because each of the five outcomes has the same chance of occurring, we conclude that the probability is 0.4 for red and 0.6 for blue.\n",
    "A more tangible way to think about the probability of an event is as a proportion of times the event occurs when we repeat the experiment over and over independently and under the same\n",
    "conditions.\n",
    "Before we continue, let's introduce some notation. We use the notation probability of A to denote the probability of an event A happening.\n",
    "We use the very general term event to refer to things that can happen when something happens by chance.\n",
    "For example, in our previous example, the event was picking a red bead.\n",
    "In a political poll, in which we call 100 likely voters at random, an example of an event is calling 48 Democrats and 52 Republicans.\n",
    "In data science applications, we will often deal with continuous variables.\n",
    "In these cases, events will often be things like, is this person taller than 6 feet?\n",
    "In this case, we write events in a more mathematical form.\n",
    "For example, x greater than 6.\n",
    "We'll see more of these examples later.\n",
    "Here, we focus on categorical data and discrete probability.\n"
   ]
  },
  {
   "attachments": {},
   "cell_type": "markdown",
   "metadata": {},
   "source": [
    "The probability of an event is the proportion of times the event occurs when we repeat the experiment independently under the same conditions.\n",
    "\n",
    "$$P(A) = \\text{probability of event A}$$\n",
    "\n",
    "An event is defined as an outcome that can occur when when something happens by chance.\n",
    "We can determine probabilities related to discrete variables (picking a red bead, choosing 48 Democrats and 52 Republicans from 100 likely voters) and continuous variables (height over 6 feet).\n",
    "\n"
   ]
  },
  {
   "attachments": {},
   "cell_type": "markdown",
   "metadata": {},
   "source": [
    "Sure, I can help you with that. Here is the text with line breaks:\n",
    "\n",
    "RAFAEL IRIZARRY: Computers provide a way to actually perform\n",
    "the simple random experiments, such as the one we did before.\n",
    "Pick a bead at random from a bag or an urn with 3 blue beads and 2 red ones.\n",
    "Random number generators permit us to mimic the process of picking at random.\n",
    "An example in R is the sample function.\n",
    "We demonstrate its use showing you some code.\n",
    "First, use the rep function to generate the urn.\n",
    "We create an urn with 2 red and 3 blues.\n",
    "You can see when we type beads we see this.\n",
    "Now, we can use a sample function to pick one at random.\n",
    "If we type sample beads comma 1, in this case, we get a blue.\n",
    "This line of code produces one random outcome.\n",
    "Now, we want to repeat this experiment over and over.\n",
    "However, it is, of course, impossible to repeat forever.\n",
    "Instead, we repeat the experiment a large enough number of times\n",
    "to make the results practically equivalent to doing it\n",
    "over and over forever.\n",
    "This is an example of a Monte Carlo simulation.\n",
    "Note that much of what mathematical and theoretical statisticians study--\n",
    "something we do not cover in this course--\n",
    "relates to providing rigorous definitions of practically equivalent,\n",
    "as well as studying how close a large number of experiment\n",
    "gets us to what happens in the limit, the limit meaning if we did it forever.\n",
    "Later in this module, we provide a practical approach\n",
    "to deciding what is large enough.\n",
    "To perform our first Monte Carlo simulation,\n",
    "we use the replicate function.\n",
    "This permits us to repeat the same task any number of times we want.\n",
    "Here, we repeat the random event 10,000 times.\n",
    "We set B to be 10,000, then we use the replicate function\n",
    "to sample from the beads 10,000 times.\n",
    "We can now see if, in fact, our definition\n",
    "is in agreement with this Monte Carlo simulation approximation.\n",
    "We can use table, for example, to see the distribution.\n",
    "And then we can use prop.table to give us the proportions.\n",
    "And we see that, in fact, the Monte Carlo simulation\n",
    "gives a very good approximation with 0.5962 for blue and 0.4038 for red.\n",
    "\n",
    "Is there anything else I can help you with?\n"
   ]
  },
  {
   "attachments": {},
   "cell_type": "markdown",
   "metadata": {},
   "source": [
    "Monte Carlo simulations model the probability of different outcomes by repeating a random process a large enough number of times that the results are similar to what would be observed if the process were repeated forever.\n",
    "\n",
    "The sample() function draws random outcomes from a set of options.\n",
    "\n",
    "The replicate() function repeats lines of code a set number of times. It is used with sample() and similar functions to run Monte Carlo simulations."
   ]
  },
  {
   "cell_type": "code",
   "execution_count": 2,
   "metadata": {},
   "outputs": [
    {
     "data": {
      "text/plain": [
       "5-element Vector{String}:\n",
       " \"red\"\n",
       " \"red\"\n",
       " \"blue\"\n",
       " \"blue\"\n",
       " \"blue\""
      ]
     },
     "metadata": {},
     "output_type": "display_data"
    }
   ],
   "source": [
    "# create an urn with 2 red, 3 blue balls\n",
    "beads = [\"red\", \"red\", \"blue\", \"blue\", \"blue\"]\n"
   ]
  },
  {
   "cell_type": "code",
   "execution_count": 8,
   "metadata": {},
   "outputs": [
    {
     "data": {
      "text/plain": [
       "1-element Vector{String}:\n",
       " \"blue\""
      ]
     },
     "metadata": {},
     "output_type": "display_data"
    }
   ],
   "source": [
    "# sample 1 bead from urn at random\n",
    "sample(beads, 1)\n"
   ]
  },
  {
   "attachments": {},
   "cell_type": "markdown",
   "metadata": {},
   "source": [
    "This line of code produces one random outcome. We want to repeat this experiment an infinite number of times, but it is impossible to repeat forever. Instead, we repeat the experiment a large enough number of times to make the results practically equivalent to repeating forever. This is an example of a Monte Carlo simulation.\n",
    "\n",
    "Much of what mathematical and theoretical statisticians study, which we do not cover in this book, relates to providing rigorous definitions of “practically equivalent” as well as studying how close a large number of experiments gets us to what happens in the limit. Later in this section, we provide a practical approach to deciding what is “large enough”.\n",
    "\n",
    "To perform our first Monte Carlo simulation, we use the replicate function, which permits us to repeat the same task any number of times. Here, we repeat the random event  $$B =   10,000 \\text{ times}$$"
   ]
  },
  {
   "cell_type": "code",
   "execution_count": 11,
   "metadata": {},
   "outputs": [],
   "source": [
    "# create monte carlo simulation to sample 1 bead 10000 times\n",
    "# the bead will be sampled with replacement\n",
    "# the result will be a vector of 10000 beads\n",
    "\n",
    "# create empty vector to store results\n",
    "results = []\n",
    "\n",
    "[push!(results, sample(beads, 1)) for i in 1:10000];"
   ]
  },
  {
   "cell_type": "code",
   "execution_count": 18,
   "metadata": {},
   "outputs": [
    {
     "data": {
      "text/plain": [
       "Dict{Any, Int64} with 2 entries:\n",
       "  [\"blue\"] => 5994\n",
       "  [\"red\"]  => 4006"
      ]
     },
     "metadata": {},
     "output_type": "display_data"
    }
   ],
   "source": [
    "countmap(results) # count the number of times each color was sampled"
   ]
  },
  {
   "cell_type": "code",
   "execution_count": 19,
   "metadata": {},
   "outputs": [
    {
     "data": {
      "text/plain": [
       "Dict{Any, Float64} with 2 entries:\n",
       "  [\"blue\"] => 0.5994\n",
       "  [\"red\"]  => 0.4006"
      ]
     },
     "metadata": {},
     "output_type": "display_data"
    }
   ],
   "source": [
    "proportionmap(results) # calculate the proportion of each color sampled"
   ]
  },
  {
   "cell_type": "code",
   "execution_count": null,
   "metadata": {},
   "outputs": [],
   "source": []
  },
  {
   "attachments": {},
   "cell_type": "markdown",
   "metadata": {},
   "source": [
    "# An important application of the mean() function\n",
    "In R, applying the mean() function to a logical vector returns the proportion of elements that are TRUE. It is very common to use the mean() function in this way to calculate probabilities and we will do so throughout the course.\n",
    "\n",
    "Suppose you have the vector beads from a previous video:\n",
    "\n",
    "beads <- rep(c(\"red\", \"blue\"), times = c(2,3))\n",
    "beads\n",
    "[1] \"red\" \"red\" \"blue\" \"blue\" \"blue\"\n",
    "To find the probability of drawing a blue bead at random, you can run:\n",
    "\n",
    "mean(beads == \"blue\")\n",
    "[1] 0.6\n",
    "This code is broken down into steps inside R. First, R evaluates the logical statement beads == \"blue\", which generates the vector:\n",
    "\n",
    "FALSE FALSE TRUE TRUE TRUE\n",
    "When the mean function is applied, R coerces the logical values to numeric values, changing TRUE to 1 and FALSE to 0:\n",
    "\n",
    "0 0 1 1 1\n",
    "The mean of the zeros and ones thus gives the proportion of TRUE values. As we have learned and will continue to see, probabilities are directly related to the proportion of events that satisfy a requirement."
   ]
  },
  {
   "cell_type": "code",
   "execution_count": 20,
   "metadata": {},
   "outputs": [
    {
     "data": {
      "text/plain": [
       "5-element Vector{String}:\n",
       " \"red\"\n",
       " \"red\"\n",
       " \"blue\"\n",
       " \"blue\"\n",
       " \"blue\""
      ]
     },
     "metadata": {},
     "output_type": "display_data"
    }
   ],
   "source": [
    "beads = [\"red\", \"red\", \"blue\", \"blue\", \"blue\"]\n"
   ]
  },
  {
   "cell_type": "code",
   "execution_count": 24,
   "metadata": {},
   "outputs": [
    {
     "data": {
      "text/plain": [
       "0.6"
      ]
     },
     "metadata": {},
     "output_type": "display_data"
    }
   ],
   "source": [
    "mean(beads .== \"blue\")"
   ]
  },
  {
   "cell_type": "code",
   "execution_count": 25,
   "metadata": {},
   "outputs": [
    {
     "data": {
      "text/plain": [
       "5-element BitVector:\n",
       " 0\n",
       " 0\n",
       " 1\n",
       " 1\n",
       " 1"
      ]
     },
     "metadata": {},
     "output_type": "display_data"
    }
   ],
   "source": [
    "beads .== \"blue\""
   ]
  },
  {
   "cell_type": "markdown",
   "metadata": {},
   "source": [
    "Key points\n",
    "The probability distribution for a variable describes the probability of observing each possible outcome.\n",
    "For discrete categorical variables, the probability distribution is defined by the proportions for each group."
   ]
  },
  {
   "attachments": {},
   "cell_type": "markdown",
   "metadata": {},
   "source": [
    "# Independance\n",
    "\n",
    "Key points\n",
    "Conditional probabilities compute the probability that an event occurs given information about dependent events. For example, the probability of drawing a second king given that the first draw is a king is:"
   ]
  },
  {
   "attachments": {},
   "cell_type": "markdown",
   "metadata": {},
   "source": [
    "$$Pr(\\text{Card 2 is a King} \\text{ | } \\text{Card 1 is a King}) = \\frac{3}{51}$$"
   ]
  },
  {
   "attachments": {},
   "cell_type": "markdown",
   "metadata": {},
   "source": [
    "- if two events A and B are independance then:\n",
    "$$Pr(A \\text{ | } B) = Pr(A) $$"
   ]
  },
  {
   "attachments": {},
   "cell_type": "markdown",
   "metadata": {},
   "source": [
    "To determine the probability of multiple events occurring, we use the multiplication rule."
   ]
  },
  {
   "cell_type": "markdown",
   "metadata": {},
   "source": []
  }
 ],
 "metadata": {
  "kernelspec": {
   "display_name": "Julia 1.8.5",
   "language": "julia",
   "name": "julia-1.8"
  },
  "language_info": {
   "file_extension": ".jl",
   "mimetype": "application/julia",
   "name": "julia",
   "version": "1.8.5"
  },
  "orig_nbformat": 4
 },
 "nbformat": 4,
 "nbformat_minor": 2
}
