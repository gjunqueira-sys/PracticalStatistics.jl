{
 "cells": [
  {
   "cell_type": "code",
   "execution_count": 1,
   "metadata": {},
   "outputs": [
    {
     "data": {
      "text/plain": [
       "fib (generic function with 1 method)"
      ]
     },
     "metadata": {},
     "output_type": "display_data"
    }
   ],
   "source": [
    "using StatsBase\n",
    "using Tables\n",
    "\n",
    "# fibonnaci sequence\n",
    "function fib(n)\n",
    "    if n < 2\n",
    "        return n\n",
    "    else\n",
    "        return fib(n-1) + fib(n-2)\n",
    "    end\n",
    "end\n",
    "\n",
    "# generate a random number from a fibonnaci sequence\n",
    "\n",
    "\n"
   ]
  },
  {
   "cell_type": "code",
   "execution_count": 2,
   "metadata": {},
   "outputs": [],
   "source": [
    "using Plots"
   ]
  },
  {
   "attachments": {},
   "cell_type": "markdown",
   "metadata": {},
   "source": [
    "# Section 1 Overview\n",
    "\n",
    "Section 1 introduces you to Discrete Probability. Section 1 is divided into three parts:\n",
    "\n",
    "Introduction to Discrete Probability\n",
    "Combinations and Permutations\n",
    "Addition Rule and Monty Hall\n",
    "After completing Section 1, you will be able to:\n",
    "\n",
    "apply basic probability theory to categorical data.\n",
    "perform a Monte Carlo simulation to approximate the results of repeating an experiment over and over, including simulating the outcomes in the Monty Hall problem.\n",
    "distinguish between: sampling with and without replacement, events that are and are not independent, and combinations and permutations.\n",
    "apply the multiplication and addition rules, as appropriate, to calculate the probably of multiple events occurring.\n",
    "use sapply() instead of a for loop to perform element-wise operations on a function.\n",
    "There are 3 assignments that use the DataCamp platform for you to practice your coding skills. There are also some quick probability calculations for you to perform directly on the edX platform as well, and there is a longer set of problems at the end of section 1.\n",
    "\n",
    "This section corresponds to the following section of the course textbook.\n",
    "\n",
    "We encourage you to use R to interactively test out your answers and further your learning.\n",
    "\n"
   ]
  },
  {
   "attachments": {},
   "cell_type": "markdown",
   "metadata": {},
   "source": [
    "# Discrete Probability\n",
    "\n",
    "\n",
    "RAFAEL IRIZARRY: We start by covering some basic principles related to categorical data.\n",
    "\n",
    "This subset of probability is referred to as discrete probability.\n",
    "\n",
    "It will help us understand the probability theory we will later introduce for numeric and continuous data, which is more common in data science applications.\n",
    "Discrete probability is more useful in card games and we use these as examples.\n",
    "The word probability is used in everyday language.\n",
    "For example, Google's auto complete of, what are the chances of,gives us getting pregnant, having twins, and rain tomorrow.\n",
    "Answering questions about probability is often hard, if not impossible.\n",
    "Here, we discuss a mathematical definition of probability that does permit us to give precise answers to certain questions.\n",
    "For example, if I have two red beads and three blue beads inside an urn and I pick one at random, what is the probability of picking a red one?\n",
    "Our intuition tells us that the answer is 2/5, or 40%.\n",
    "A precise definition can be given by noting that there are five possible outcomes of which two satisfy\n",
    "the condition necessary for the event \"pick a red bead.\"\n",
    "Because each of the five outcomes has the same chance of occurring, we conclude that the probability is 0.4 for red and 0.6 for blue.\n",
    "A more tangible way to think about the probability of an event is as a proportion of times the event occurs when we repeat the experiment over and over independently and under the same\n",
    "conditions.\n",
    "Before we continue, let's introduce some notation. We use the notation probability of A to denote the probability of an event A happening.\n",
    "We use the very general term event to refer to things that can happen when something happens by chance.\n",
    "For example, in our previous example, the event was picking a red bead.\n",
    "In a political poll, in which we call 100 likely voters at random, an example of an event is calling 48 Democrats and 52 Republicans.\n",
    "In data science applications, we will often deal with continuous variables.\n",
    "In these cases, events will often be things like, is this person taller than 6 feet?\n",
    "In this case, we write events in a more mathematical form.\n",
    "For example, x greater than 6.\n",
    "We'll see more of these examples later.\n",
    "Here, we focus on categorical data and discrete probability.\n"
   ]
  },
  {
   "attachments": {},
   "cell_type": "markdown",
   "metadata": {},
   "source": [
    "The probability of an event is the proportion of times the event occurs when we repeat the experiment independently under the same conditions.\n",
    "\n",
    "$$P(A) = \\text{probability of event A}$$\n",
    "\n",
    "An event is defined as an outcome that can occur when when something happens by chance.\n",
    "We can determine probabilities related to discrete variables (picking a red bead, choosing 48 Democrats and 52 Republicans from 100 likely voters) and continuous variables (height over 6 feet).\n",
    "\n"
   ]
  },
  {
   "attachments": {},
   "cell_type": "markdown",
   "metadata": {},
   "source": [
    "Sure, I can help you with that. Here is the text with line breaks:\n",
    "\n",
    "RAFAEL IRIZARRY: Computers provide a way to actually perform\n",
    "the simple random experiments, such as the one we did before.\n",
    "Pick a bead at random from a bag or an urn with 3 blue beads and 2 red ones.\n",
    "Random number generators permit us to mimic the process of picking at random.\n",
    "An example in R is the sample function.\n",
    "We demonstrate its use showing you some code.\n",
    "First, use the rep function to generate the urn.\n",
    "We create an urn with 2 red and 3 blues.\n",
    "You can see when we type beads we see this.\n",
    "Now, we can use a sample function to pick one at random.\n",
    "If we type sample beads comma 1, in this case, we get a blue.\n",
    "This line of code produces one random outcome.\n",
    "Now, we want to repeat this experiment over and over.\n",
    "However, it is, of course, impossible to repeat forever.\n",
    "Instead, we repeat the experiment a large enough number of times\n",
    "to make the results practically equivalent to doing it\n",
    "over and over forever.\n",
    "This is an example of a Monte Carlo simulation.\n",
    "Note that much of what mathematical and theoretical statisticians study--\n",
    "something we do not cover in this course--\n",
    "relates to providing rigorous definitions of practically equivalent,\n",
    "as well as studying how close a large number of experiment\n",
    "gets us to what happens in the limit, the limit meaning if we did it forever.\n",
    "Later in this module, we provide a practical approach\n",
    "to deciding what is large enough.\n",
    "To perform our first Monte Carlo simulation,\n",
    "we use the replicate function.\n",
    "This permits us to repeat the same task any number of times we want.\n",
    "Here, we repeat the random event 10,000 times.\n",
    "We set B to be 10,000, then we use the replicate function\n",
    "to sample from the beads 10,000 times.\n",
    "We can now see if, in fact, our definition\n",
    "is in agreement with this Monte Carlo simulation approximation.\n",
    "We can use table, for example, to see the distribution.\n",
    "And then we can use prop.table to give us the proportions.\n",
    "And we see that, in fact, the Monte Carlo simulation\n",
    "gives a very good approximation with 0.5962 for blue and 0.4038 for red.\n",
    "\n",
    "Is there anything else I can help you with?\n"
   ]
  },
  {
   "attachments": {},
   "cell_type": "markdown",
   "metadata": {},
   "source": [
    "Monte Carlo simulations model the probability of different outcomes by repeating a random process a large enough number of times that the results are similar to what would be observed if the process were repeated forever.\n",
    "\n",
    "The sample() function draws random outcomes from a set of options.\n",
    "\n",
    "The replicate() function repeats lines of code a set number of times. It is used with sample() and similar functions to run Monte Carlo simulations."
   ]
  },
  {
   "cell_type": "code",
   "execution_count": 3,
   "metadata": {},
   "outputs": [
    {
     "data": {
      "text/plain": [
       "5-element Vector{String}:\n",
       " \"red\"\n",
       " \"red\"\n",
       " \"blue\"\n",
       " \"blue\"\n",
       " \"blue\""
      ]
     },
     "metadata": {},
     "output_type": "display_data"
    }
   ],
   "source": [
    "# create an urn with 2 red, 3 blue balls\n",
    "beads = [\"red\", \"red\", \"blue\", \"blue\", \"blue\"]\n"
   ]
  },
  {
   "cell_type": "code",
   "execution_count": 4,
   "metadata": {},
   "outputs": [
    {
     "data": {
      "text/plain": [
       "1-element Vector{String}:\n",
       " \"blue\""
      ]
     },
     "metadata": {},
     "output_type": "display_data"
    }
   ],
   "source": [
    "# sample 1 bead from urn at random\n",
    "sample(beads, 1, replace = true)\n"
   ]
  },
  {
   "attachments": {},
   "cell_type": "markdown",
   "metadata": {},
   "source": [
    "This line of code produces one random outcome. We want to repeat this experiment an infinite number of times, but it is impossible to repeat forever. Instead, we repeat the experiment a large enough number of times to make the results practically equivalent to repeating forever. This is an example of a Monte Carlo simulation.\n",
    "\n",
    "Much of what mathematical and theoretical statisticians study, which we do not cover in this book, relates to providing rigorous definitions of “practically equivalent” as well as studying how close a large number of experiments gets us to what happens in the limit. Later in this section, we provide a practical approach to deciding what is “large enough”.\n",
    "\n",
    "To perform our first Monte Carlo simulation, we use the replicate function, which permits us to repeat the same task any number of times. Here, we repeat the random event  $$B =   10,000 \\text{ times}$$"
   ]
  },
  {
   "cell_type": "code",
   "execution_count": 5,
   "metadata": {},
   "outputs": [],
   "source": [
    "# create monte carlo simulation to sample 1 bead 10000 times\n",
    "# the bead will be sampled with replacement\n",
    "# the result will be a vector of 10000 beads\n",
    "\n",
    "# create empty vector to store results\n",
    "results = []\n",
    "\n",
    "[push!(results, sample(beads, 1, replace = true)) for i in 1:10000];"
   ]
  },
  {
   "cell_type": "code",
   "execution_count": 6,
   "metadata": {},
   "outputs": [
    {
     "data": {
      "text/plain": [
       "Dict{Any, Int64} with 2 entries:\n",
       "  [\"blue\"] => 5956\n",
       "  [\"red\"]  => 4044"
      ]
     },
     "metadata": {},
     "output_type": "display_data"
    }
   ],
   "source": [
    "countmap(results) # count the number of times each color was sampled"
   ]
  },
  {
   "cell_type": "code",
   "execution_count": 7,
   "metadata": {},
   "outputs": [
    {
     "data": {
      "text/plain": [
       "Dict{Any, Float64} with 2 entries:\n",
       "  [\"blue\"] => 0.5956\n",
       "  [\"red\"]  => 0.4044"
      ]
     },
     "metadata": {},
     "output_type": "display_data"
    }
   ],
   "source": [
    "proportionmap(results) # calculate the proportion of each color sampled"
   ]
  },
  {
   "cell_type": "code",
   "execution_count": 8,
   "metadata": {},
   "outputs": [],
   "source": []
  },
  {
   "attachments": {},
   "cell_type": "markdown",
   "metadata": {},
   "source": [
    "# An important application of the mean() function\n",
    "In R, applying the mean() function to a logical vector returns the proportion of elements that are TRUE. It is very common to use the mean() function in this way to calculate probabilities and we will do so throughout the course.\n",
    "\n",
    "Suppose you have the vector beads from a previous video:\n",
    "\n",
    "beads <- rep(c(\"red\", \"blue\"), times = c(2,3))\n",
    "beads\n",
    "[1] \"red\" \"red\" \"blue\" \"blue\" \"blue\"\n",
    "To find the probability of drawing a blue bead at random, you can run:\n",
    "\n",
    "mean(beads == \"blue\")\n",
    "[1] 0.6\n",
    "This code is broken down into steps inside R. First, R evaluates the logical statement beads == \"blue\", which generates the vector:\n",
    "\n",
    "FALSE FALSE TRUE TRUE TRUE\n",
    "When the mean function is applied, R coerces the logical values to numeric values, changing TRUE to 1 and FALSE to 0:\n",
    "\n",
    "0 0 1 1 1\n",
    "The mean of the zeros and ones thus gives the proportion of TRUE values. As we have learned and will continue to see, probabilities are directly related to the proportion of events that satisfy a requirement."
   ]
  },
  {
   "cell_type": "code",
   "execution_count": 9,
   "metadata": {},
   "outputs": [
    {
     "data": {
      "text/plain": [
       "5-element Vector{String}:\n",
       " \"red\"\n",
       " \"red\"\n",
       " \"blue\"\n",
       " \"blue\"\n",
       " \"blue\""
      ]
     },
     "metadata": {},
     "output_type": "display_data"
    }
   ],
   "source": [
    "beads = [\"red\", \"red\", \"blue\", \"blue\", \"blue\"]\n"
   ]
  },
  {
   "cell_type": "code",
   "execution_count": 10,
   "metadata": {},
   "outputs": [],
   "source": []
  },
  {
   "cell_type": "code",
   "execution_count": 11,
   "metadata": {},
   "outputs": [
    {
     "data": {
      "text/plain": [
       "0.6"
      ]
     },
     "metadata": {},
     "output_type": "display_data"
    }
   ],
   "source": [
    "mean(beads .== \"blue\")"
   ]
  },
  {
   "cell_type": "code",
   "execution_count": 12,
   "metadata": {},
   "outputs": [
    {
     "data": {
      "text/plain": [
       "5-element BitVector:\n",
       " 0\n",
       " 0\n",
       " 1\n",
       " 1\n",
       " 1"
      ]
     },
     "metadata": {},
     "output_type": "display_data"
    }
   ],
   "source": [
    "beads .== \"blue\""
   ]
  },
  {
   "cell_type": "markdown",
   "metadata": {},
   "source": [
    "Key points\n",
    "The probability distribution for a variable describes the probability of observing each possible outcome.\n",
    "For discrete categorical variables, the probability distribution is defined by the proportions for each group."
   ]
  },
  {
   "attachments": {},
   "cell_type": "markdown",
   "metadata": {},
   "source": [
    "# Independance\n",
    "\n",
    "Key points\n",
    "Conditional probabilities compute the probability that an event occurs given information about dependent events. For example, the probability of drawing a second king given that the first draw is a king is:"
   ]
  },
  {
   "attachments": {},
   "cell_type": "markdown",
   "metadata": {},
   "source": [
    "$$Pr(\\text{Card 2 is a King} \\text{ | } \\text{Card 1 is a King}) = \\frac{3}{51}$$"
   ]
  },
  {
   "attachments": {},
   "cell_type": "markdown",
   "metadata": {},
   "source": [
    "- if two events A and B are independance then:\n",
    "$$Pr(A \\text{ | } B) = Pr(A) $$"
   ]
  },
  {
   "attachments": {},
   "cell_type": "markdown",
   "metadata": {},
   "source": [
    "To determine the probability of multiple events occurring, we use the multiplication rule."
   ]
  },
  {
   "attachments": {},
   "cell_type": "markdown",
   "metadata": {},
   "source": [
    "# Multiplication Rule\n",
    "\n",
    "All right now, if we want to know the probability of two events, say A and B,\n",
    "occurring, we can use the multiplication rule.\n",
    "So the probability of A and B is equal to the probability of A multiplied\n",
    "by the probability of B, given that A already happened."
   ]
  },
  {
   "attachments": {},
   "cell_type": "markdown",
   "metadata": {},
   "source": [
    "$$Pr(A \\text{ and  } B) = Pr(A)Pr(B \\text{ | } A) $$"
   ]
  },
  {
   "attachments": {},
   "cell_type": "markdown",
   "metadata": {},
   "source": [
    "So the probability of A and B is equal to the probability of A multiplied\n",
    "by the probability of B, given that A already happened."
   ]
  },
  {
   "attachments": {},
   "cell_type": "markdown",
   "metadata": {},
   "source": [
    "When we have independent events, the multiplication rule becomes simpler.\n",
    "We simply multiply of  probabilities.\n",
    "But we have to be very careful when we use this rule.\n",
    "the multiplicative rule in practice.\n",
    "We're assuming independence."
   ]
  },
  {
   "attachments": {},
   "cell_type": "markdown",
   "metadata": {},
   "source": [
    "The multiplication rule also applies to more than two events. We can use induction to expand for more events:\n",
    "\n"
   ]
  },
  {
   "attachments": {},
   "cell_type": "markdown",
   "metadata": {},
   "source": [
    "$$Pr(A \\text{ and  } B \\text{ and } C) = Pr(A)Pr(B \\text{ | } A)Pr(C \\text{ | A and B }) $$"
   ]
  },
  {
   "attachments": {},
   "cell_type": "markdown",
   "metadata": {},
   "source": [
    "## The multiplication rule also gives us a general formula for computing conditional probabilities:\n",
    "\n",
    "$$Pr(B \\text{ | } A) = \\frac{Pr(\\text{A and B})}{Pr(A)} $$"
   ]
  },
  {
   "attachments": {},
   "cell_type": "markdown",
   "metadata": {},
   "source": [
    "## Addition Rule"
   ]
  },
  {
   "attachments": {},
   "cell_type": "markdown",
   "metadata": {},
   "source": [
    "The addition rule tells us that:\n",
    "\n",
    "$$Pr(A \\ or \\ B) = Pr(A) + Pr(B) - Pr(A \\ and \\ B)$$"
   ]
  },
  {
   "attachments": {},
   "cell_type": "markdown",
   "metadata": {},
   "source": [
    "This rule is intuitive: think of a Venn diagram. If we simply add the probabilities, we count the intersection twice so we need to substract one instance."
   ]
  },
  {
   "attachments": {
    "image.png": {
     "image/png": "[encoded data removed]"
    }
   },
   "cell_type": "markdown",
   "metadata": {},
   "source": [
    "![image.png](attachment:image.png)"
   ]
  },
  {
   "cell_type": "markdown",
   "metadata": {},
   "source": [
    "# Combinations and Permutations"
   ]
  },
  {
   "cell_type": "code",
   "execution_count": 13,
   "metadata": {},
   "outputs": [
    {
     "data": {
      "text/plain": [
       "13-element Vector{String}:\n",
       " \"A\"\n",
       " \"2\"\n",
       " \"3\"\n",
       " \"4\"\n",
       " \"5\"\n",
       " \"6\"\n",
       " \"7\"\n",
       " \"8\"\n",
       " \"9\"\n",
       " \"10\"\n",
       " \"J\"\n",
       " \"Q\"\n",
       " \"K\""
      ]
     },
     "metadata": {},
     "output_type": "display_data"
    }
   ],
   "source": [
    "# create a deck   of cards\n",
    "\n",
    "suits = [\"♠\", \"♥\", \"♦\", \"♣\"] \n",
    "ranks = [\"A\", \"2\", \"3\", \"4\", \"5\", \"6\", \"7\", \"8\", \"9\", \"10\", \"J\", \"Q\", \"K\"]  #  13 cards\n",
    "\n",
    "# create a deck of cards\n",
    "# we will use a outer product to create a deck of cards\n",
    "# the outer product will create a 13x4 matrix with all possible combinations of ranks and suits\n"
   ]
  },
  {
   "cell_type": "code",
   "execution_count": 14,
   "metadata": {},
   "outputs": [
    {
     "data": {
      "text/plain": [
       "13×1 Matrix{String}:\n",
       " \"A\"\n",
       " \"2\"\n",
       " \"3\"\n",
       " \"4\"\n",
       " \"5\"\n",
       " \"6\"\n",
       " \"7\"\n",
       " \"8\"\n",
       " \"9\"\n",
       " \"10\"\n",
       " \"J\"\n",
       " \"Q\"\n",
       " \"K\""
      ]
     },
     "metadata": {},
     "output_type": "display_data"
    }
   ],
   "source": [
    "suits = reshape(suits, 1, 4) # reshape the suits vector to a 4x1 matrix\n",
    "ranks = reshape(ranks, 13, 1) # reshape the ranks vector to a 1x13 matrix"
   ]
  },
  {
   "cell_type": "code",
   "execution_count": 15,
   "metadata": {},
   "outputs": [
    {
     "data": {
      "text/plain": [
       "13×4 Matrix{String}:\n",
       " \"♠A\"   \"♥A\"   \"♦A\"   \"♣A\"\n",
       " \"♠2\"   \"♥2\"   \"♦2\"   \"♣2\"\n",
       " \"♠3\"   \"♥3\"   \"♦3\"   \"♣3\"\n",
       " \"♠4\"   \"♥4\"   \"♦4\"   \"♣4\"\n",
       " \"♠5\"   \"♥5\"   \"♦5\"   \"♣5\"\n",
       " \"♠6\"   \"♥6\"   \"♦6\"   \"♣6\"\n",
       " \"♠7\"   \"♥7\"   \"♦7\"   \"♣7\"\n",
       " \"♠8\"   \"♥8\"   \"♦8\"   \"♣8\"\n",
       " \"♠9\"   \"♥9\"   \"♦9\"   \"♣9\"\n",
       " \"♠10\"  \"♥10\"  \"♦10\"  \"♣10\"\n",
       " \"♠J\"   \"♥J\"   \"♦J\"   \"♣J\"\n",
       " \"♠Q\"   \"♥Q\"   \"♦Q\"   \"♣Q\"\n",
       " \"♠K\"   \"♥K\"   \"♦K\"   \"♣K\""
      ]
     },
     "metadata": {},
     "output_type": "display_data"
    }
   ],
   "source": [
    "deck = suits .* ranks  # create a deck of cards using the outer product"
   ]
  },
  {
   "cell_type": "code",
   "execution_count": 16,
   "metadata": {},
   "outputs": [
    {
     "data": {
      "text/plain": [
       "52-element Vector{String}:\n",
       " \"♠A\"\n",
       " \"♠2\"\n",
       " \"♠3\"\n",
       " \"♠4\"\n",
       " \"♠5\"\n",
       " \"♠6\"\n",
       " \"♠7\"\n",
       " \"♠8\"\n",
       " \"♠9\"\n",
       " \"♠10\"\n",
       " ⋮\n",
       " \"♣5\"\n",
       " \"♣6\"\n",
       " \"♣7\"\n",
       " \"♣8\"\n",
       " \"♣9\"\n",
       " \"♣10\"\n",
       " \"♣J\"\n",
       " \"♣Q\"\n",
       " \"♣K\""
      ]
     },
     "metadata": {},
     "output_type": "display_data"
    }
   ],
   "source": [
    "# flatten the deck of cards back into a vector\n",
    "deck = deck |> vec\n"
   ]
  },
  {
   "attachments": {},
   "cell_type": "markdown",
   "metadata": {},
   "source": [
    "## Double check that the probability of a King on the first draw is 4/52 (or 1/13)"
   ]
  },
  {
   "attachments": {},
   "cell_type": "markdown",
   "metadata": {},
   "source": [
    "We simply compute the proportion of possible outcomes\n",
    "that satisfy our condition.\n",
    "So we create a vector that contains the four ways we can get a king.\n",
    "That's going to be the kings variable.\n",
    "\n",
    "And then we simply check what proportion of the deck is one of these cards\n",
    "and we get the answer that we expect-"
   ]
  },
  {
   "cell_type": "code",
   "execution_count": 17,
   "metadata": {},
   "outputs": [
    {
     "data": {
      "text/plain": [
       "4-element Vector{String}:\n",
       " \"♠K\"\n",
       " \"♥K\"\n",
       " \"♦K\"\n",
       " \"♣K\""
      ]
     },
     "metadata": {},
     "output_type": "display_data"
    }
   ],
   "source": [
    "Kings = [ \"♠K\" ,  \"♥K\" ,  \"♦K\"  , \"♣K\"]"
   ]
  },
  {
   "cell_type": "code",
   "execution_count": 18,
   "metadata": {},
   "outputs": [
    {
     "data": {
      "text/plain": [
       "0.07692307692307693"
      ]
     },
     "metadata": {},
     "output_type": "display_data"
    }
   ],
   "source": [
    "mean(map(x -> x ∈ Kings, deck)) # calculate the probability of drawing a king, which is 1/13"
   ]
  },
  {
   "attachments": {},
   "cell_type": "markdown",
   "metadata": {},
   "source": [
    "Now, how about the conditional probability of the second card being a king,\n",
    "given that the first was a king?\n",
    "Earlier we deduced that if 1 king is already out, then there's 51 left.\n",
    "\n",
    "So the probability is 3 in 51.\n",
    "\n",
    "And we can check that."
   ]
  },
  {
   "attachments": {},
   "cell_type": "markdown",
   "metadata": {},
   "source": [
    "$$Pr(\\text{Card 2 is a King} \\text{ | } \\text{Card 1 is a King}) = \\frac{3}{51}$$"
   ]
  },
  {
   "cell_type": "code",
   "execution_count": 19,
   "metadata": {},
   "outputs": [],
   "source": [
    "using Combinatorics"
   ]
  },
  {
   "attachments": {},
   "cell_type": "markdown",
   "metadata": {},
   "source": [
    "So here's an example--\n",
    "here all the ways we can choose 2 numbers from the list 1, 2, 3, 4, 5.\n",
    "Notice that the order matters."
   ]
  },
  {
   "cell_type": "code",
   "execution_count": 20,
   "metadata": {},
   "outputs": [
    {
     "data": {
      "text/plain": [
       "2"
      ]
     },
     "metadata": {},
     "output_type": "display_data"
    }
   ],
   "source": [
    "elements = 1:5\n",
    "n=2\n",
    "\n"
   ]
  },
  {
   "cell_type": "code",
   "execution_count": 21,
   "metadata": {},
   "outputs": [
    {
     "data": {
      "text/plain": [
       "20-element Vector{Vector{Int64}}:\n",
       " [1, 2]\n",
       " [1, 3]\n",
       " [1, 4]\n",
       " [1, 5]\n",
       " [2, 1]\n",
       " [2, 3]\n",
       " [2, 4]\n",
       " [2, 5]\n",
       " [3, 1]\n",
       " [3, 2]\n",
       " [3, 4]\n",
       " [3, 5]\n",
       " [4, 1]\n",
       " [4, 2]\n",
       " [4, 3]\n",
       " [4, 5]\n",
       " [5, 1]\n",
       " [5, 2]\n",
       " [5, 3]\n",
       " [5, 4]"
      ]
     },
     "metadata": {},
     "output_type": "display_data"
    }
   ],
   "source": [
    "perms = collect(permutations(elements, n)) # create all possible permutations of 2 elements from 1:5"
   ]
  },
  {
   "cell_type": "markdown",
   "metadata": {},
   "source": [
    "So 3, 1 is different than 1, 3, So it appears in our permutations.\n",
    "Also notice that 1, 1; 2, 2; and 3, 3 don't\n",
    "appear, because once we pick a number, it can't appear again."
   ]
  },
  {
   "cell_type": "markdown",
   "metadata": {},
   "source": [
    "To compute all possible ways that we can choose 2 cards when the order matters,\n",
    "we simply type the following piece of code.\n",
    "Here we use permutations.\n",
    "There's 52 cards, we're going to choose 2,\n",
    "and we're going to select them out of the vector that includes our card\n",
    "names, which we called deck earlier."
   ]
  },
  {
   "cell_type": "code",
   "execution_count": 22,
   "metadata": {},
   "outputs": [
    {
     "data": {
      "text/plain": [
       "2652-element Vector{Vector{String}}:\n",
       " [\"♠A\", \"♠2\"]\n",
       " [\"♠A\", \"♠3\"]\n",
       " [\"♠A\", \"♠4\"]\n",
       " [\"♠A\", \"♠5\"]\n",
       " [\"♠A\", \"♠6\"]\n",
       " [\"♠A\", \"♠7\"]\n",
       " [\"♠A\", \"♠8\"]\n",
       " [\"♠A\", \"♠9\"]\n",
       " [\"♠A\", \"♠10\"]\n",
       " [\"♠A\", \"♠J\"]\n",
       " ⋮\n",
       " [\"♣K\", \"♣4\"]\n",
       " [\"♣K\", \"♣5\"]\n",
       " [\"♣K\", \"♣6\"]\n",
       " [\"♣K\", \"♣7\"]\n",
       " [\"♣K\", \"♣8\"]\n",
       " [\"♣K\", \"♣9\"]\n",
       " [\"♣K\", \"♣10\"]\n",
       " [\"♣K\", \"♣J\"]\n",
       " [\"♣K\", \"♣Q\"]"
      ]
     },
     "metadata": {},
     "output_type": "display_data"
    }
   ],
   "source": [
    "hands = collect(permutations(deck, 2)) # create all possible permutations of 2 elements from a deck of cards"
   ]
  },
  {
   "cell_type": "code",
   "execution_count": 23,
   "metadata": {},
   "outputs": [
    {
     "data": {
      "text/plain": [
       "(2652,)"
      ]
     },
     "metadata": {},
     "output_type": "display_data"
    }
   ],
   "source": [
    "size(hands)"
   ]
  },
  {
   "cell_type": "code",
   "execution_count": 24,
   "metadata": {},
   "outputs": [
    {
     "data": {
      "text/plain": [
       "2652×2 Matrix{String}:\n",
       " \"♠A\"  \"♠2\"\n",
       " \"♠A\"  \"♠3\"\n",
       " \"♠A\"  \"♠4\"\n",
       " \"♠A\"  \"♠5\"\n",
       " \"♠A\"  \"♠6\"\n",
       " \"♠A\"  \"♠7\"\n",
       " \"♠A\"  \"♠8\"\n",
       " \"♠A\"  \"♠9\"\n",
       " \"♠A\"  \"♠10\"\n",
       " \"♠A\"  \"♠J\"\n",
       " ⋮     \n",
       " \"♣K\"  \"♣4\"\n",
       " \"♣K\"  \"♣5\"\n",
       " \"♣K\"  \"♣6\"\n",
       " \"♣K\"  \"♣7\"\n",
       " \"♣K\"  \"♣8\"\n",
       " \"♣K\"  \"♣9\"\n",
       " \"♣K\"  \"♣10\"\n",
       " \"♣K\"  \"♣J\"\n",
       " \"♣K\"  \"♣Q\""
      ]
     },
     "metadata": {},
     "output_type": "display_data"
    }
   ],
   "source": [
    "# convert vector of vectors to matrix of 2652 x 2\n",
    "# Convert card_permutations to a 2652x2 matrix\n",
    "hands_matrix = [perm[i] for perm in hands, i in 1:2]"
   ]
  },
  {
   "cell_type": "code",
   "execution_count": 25,
   "metadata": {},
   "outputs": [
    {
     "data": {
      "text/plain": [
       "2652-element Vector{String}:\n",
       " \"♠A\"\n",
       " \"♠A\"\n",
       " \"♠A\"\n",
       " \"♠A\"\n",
       " \"♠A\"\n",
       " \"♠A\"\n",
       " \"♠A\"\n",
       " \"♠A\"\n",
       " \"♠A\"\n",
       " \"♠A\"\n",
       " ⋮\n",
       " \"♣K\"\n",
       " \"♣K\"\n",
       " \"♣K\"\n",
       " \"♣K\"\n",
       " \"♣K\"\n",
       " \"♣K\"\n",
       " \"♣K\"\n",
       " \"♣K\"\n",
       " \"♣K\""
      ]
     },
     "metadata": {},
     "output_type": "display_data"
    }
   ],
   "source": [
    "# grab first and second cards (columns) from hands matrix\n",
    "first_card = hands_matrix[:,1]\n"
   ]
  },
  {
   "cell_type": "code",
   "execution_count": 26,
   "metadata": {},
   "outputs": [
    {
     "data": {
      "text/plain": [
       "2652-element Vector{String}:\n",
       " \"♠2\"\n",
       " \"♠3\"\n",
       " \"♠4\"\n",
       " \"♠5\"\n",
       " \"♠6\"\n",
       " \"♠7\"\n",
       " \"♠8\"\n",
       " \"♠9\"\n",
       " \"♠10\"\n",
       " \"♠J\"\n",
       " ⋮\n",
       " \"♣4\"\n",
       " \"♣5\"\n",
       " \"♣6\"\n",
       " \"♣7\"\n",
       " \"♣8\"\n",
       " \"♣9\"\n",
       " \"♣10\"\n",
       " \"♣J\"\n",
       " \"♣Q\""
      ]
     },
     "metadata": {},
     "output_type": "display_data"
    }
   ],
   "source": [
    "second_card = hands_matrix[:,2]"
   ]
  },
  {
   "attachments": {},
   "cell_type": "markdown",
   "metadata": {},
   "source": [
    "And now we can, for example, check how many cases\n",
    "have a first card that is a king--\n",
    "that's 204.\n",
    "And now to find the conditional probability,\n",
    "we ask what fraction of these 204 have also a king in the second card.\n",
    "So this case we type the following piece of code.\n",
    "We add all the cases that have king in the first, king in the second,\n",
    "and divide by the cases that have a king in the first."
   ]
  },
  {
   "cell_type": "code",
   "execution_count": 27,
   "metadata": {},
   "outputs": [
    {
     "data": {
      "text/plain": [
       "0.058823529411764705"
      ]
     },
     "metadata": {},
     "output_type": "display_data"
    }
   ],
   "source": [
    "\n",
    "\n",
    "sum(map(x -> x ∈ Kings, first_card) .& map(x -> x ∈ Kings, second_card)) / sum(map(x -> x ∈ Kings, first_card))"
   ]
  },
  {
   "attachments": {},
   "cell_type": "markdown",
   "metadata": {},
   "source": [
    "And now we get the answer 0.058 , which is exactly 3 out of 51,\n",
    "which we had already deduced."
   ]
  },
  {
   "attachments": {},
   "cell_type": "markdown",
   "metadata": {},
   "source": [
    "# The Birthsday Problem\n",
    "\n",
    " Suppose you're in a classroom with 50 people.\n",
    "If we assume this is a randomly selected group,\n",
    "what is the chance that at least two people have the same birthday?\n",
    "Although it is somewhat advanced, we can actually deduce this mathematically,\n",
    "and we do this later, but now, we're going to use Monte Carlo simulations.\n",
    "For simplicity, we assumed that nobody was born on February 29th.\n",
    "This actually doesn't change the answer much."
   ]
  },
  {
   "attachments": {},
   "cell_type": "markdown",
   "metadata": {},
   "source": [
    "All right, first, note that birthdays can be represented\n",
    "as numbers between 1 and 365.\n",
    "So a sample of 50 random birthdays can be obtained simply\n",
    "using the sample function, like this."
   ]
  },
  {
   "attachments": {},
   "cell_type": "markdown",
   "metadata": {},
   "source": [
    "$$sample(1:365, 50, replace = true)$$"
   ]
  },
  {
   "cell_type": "code",
   "execution_count": 28,
   "metadata": {},
   "outputs": [
    {
     "data": {
      "text/plain": [
       "50-element Vector{Int64}:\n",
       " 331\n",
       " 273\n",
       " 217\n",
       " 353\n",
       "  99\n",
       " 165\n",
       " 178\n",
       "  19\n",
       " 261\n",
       " 232\n",
       "   ⋮\n",
       "  37\n",
       " 260\n",
       " 327\n",
       "  33\n",
       " 283\n",
       " 168\n",
       "  56\n",
       "   2\n",
       " 109"
      ]
     },
     "metadata": {},
     "output_type": "display_data"
    }
   ],
   "source": [
    "b = sample(1:365, 50, replace  = true) # sample of birthsdays"
   ]
  },
  {
   "cell_type": "code",
   "execution_count": 29,
   "metadata": {},
   "outputs": [
    {
     "data": {
      "text/plain": [
       "duplicated"
      ]
     },
     "metadata": {},
     "output_type": "display_data"
    }
   ],
   "source": [
    "\n",
    "\"\"\"\n",
    "duplicated(v::Vector)\n",
    "\n",
    "Return a boolean array indicating which elements of the input vector `v` are duplicates.\n",
    "Duplicate elements are marked as `true`, including the first occurrence.\n",
    "\n",
    "# Arguments\n",
    "- `v::Vector`: Input vector to check for duplicates.\n",
    "\n",
    "# Returns\n",
    "- A boolean array of the same length as `v` indicating which elements are duplicates.\n",
    "\"\"\"\n",
    "function duplicated(v::Vector)\n",
    "    unique_values = unique(v)\n",
    "    is_duplicate = falses(length(v))\n",
    "    for x in unique_values\n",
    "        indices = findall(x .== v)\n",
    "        if length(indices) > 1\n",
    "            is_duplicate[indices] .= true\n",
    "        end\n",
    "    end\n",
    "    return is_duplicate\n",
    "end\n",
    "\n"
   ]
  },
  {
   "cell_type": "code",
   "execution_count": 30,
   "metadata": {},
   "outputs": [
    {
     "data": {
      "text/plain": [
       "true"
      ]
     },
     "metadata": {},
     "output_type": "display_data"
    }
   ],
   "source": [
    "any(duplicated(b)) # test weather any birthdays are duplicated"
   ]
  },
  {
   "cell_type": "markdown",
   "metadata": {},
   "source": [
    "Now, to estimate the probability, we're going to repeat this experiment.\n",
    "We're going to run a Monte Carlo simulation over and over again.\n",
    "So what we do is we do it 10,000 times."
   ]
  },
  {
   "cell_type": "code",
   "execution_count": 31,
   "metadata": {},
   "outputs": [],
   "source": [
    "# create monte carlo simulation to calculate probability of  bdays being duplicated\n",
    "# the bday will be sampled with replacement 10000 times\n",
    "\n",
    "# create empty vector to store results\n",
    "results = []\n",
    "\n",
    "[push!(results, sample(1:365, 50, replace  = true) |> duplicated |> any) for i in 1:10000];"
   ]
  },
  {
   "cell_type": "code",
   "execution_count": 32,
   "metadata": {},
   "outputs": [
    {
     "data": {
      "text/plain": [
       "0.969"
      ]
     },
     "metadata": {},
     "output_type": "display_data"
    }
   ],
   "source": [
    "mean(results) # calculate the probability of 50 bdays being duplicated"
   ]
  },
  {
   "cell_type": "markdown",
   "metadata": {},
   "source": [
    "So the probability that at least two people in a room of 50 have the same birthday is about 98%"
   ]
  },
  {
   "attachments": {},
   "cell_type": "markdown",
   "metadata": {},
   "source": [
    " Say you want to use what you've just\n",
    "learned about the birthday problem to bet\n",
    "with friends about two people having the same birthday in a group of people.\n",
    "When are the chances larger than 50%?\n",
    "Larger than 75%?\n",
    "Let's create a lookup table.\n",
    "We can quickly create a function to compute this for any group.\n",
    "We write the function like this.\n",
    "We'll call it compute prob, and we'll basically\n",
    "make the calculations for the probability\n",
    "of two people having the same birthday.\n",
    "We will use a small Monte Carlo simulation to do it."
   ]
  },
  {
   "cell_type": "code",
   "execution_count": 33,
   "metadata": {},
   "outputs": [
    {
     "data": {
      "text/plain": [
       "compute_prob (generic function with 1 method)"
      ]
     },
     "metadata": {},
     "output_type": "display_data"
    }
   ],
   "source": [
    "function compute_prob(n; B=10000)\n",
    "    results = []\n",
    "    [push!(results, sample(1:365, n, replace  = true) |> duplicated |> any) for i in 1:B];\n",
    "    return mean(results)\n",
    "end"
   ]
  },
  {
   "cell_type": "markdown",
   "metadata": {},
   "source": [
    "Now that we've done this, we want to compute this function,\n",
    "we want to apply this function to several values of n,\n",
    "let's say from 1 to 60."
   ]
  },
  {
   "cell_type": "code",
   "execution_count": 34,
   "metadata": {},
   "outputs": [
    {
     "data": {
      "image/png": "[encoded data removed]",
      "image/svg+xml": [
       "<?xml version=\"1.0\" encoding=\"utf-8\"?>\n",
       "<svg xmlns=\"http://www.w3.org/2000/svg\" xmlns:xlink=\"http://www.w3.org/1999/xlink\" width=\"600\" height=\"400\" viewBox=\"0 0 2400 1600\">\n",
       "<defs>\n",
       "  <clipPath id=\"clip330\">\n",
       "    <rect x=\"0\" y=\"0\" width=\"2400\" height=\"1600\"/>\n",
       "  </clipPath>\n",
       "</defs>\n",
       "<path clip-path=\"url(#clip330)\" d=\"M0 1600 L2400 1600 L2400 0 L0 0  Z\" fill=\"#ffffff\" fill-rule=\"evenodd\" fill-opacity=\"1\"/>\n",
       "<defs>\n",
       "  <clipPath id=\"clip331\">\n",
       "    <rect x=\"480\" y=\"0\" width=\"1681\" height=\"1600\"/>\n",
       "  </clipPath>\n",
       "</defs>\n",
       "<path clip-path=\"url(#clip330)\" d=\"M186.274 1486.45 L2352.76 1486.45 L2352.76 47.2441 L186.274 47.2441  Z\" fill=\"#ffffff\" fill-rule=\"evenodd\" fill-opacity=\"1\"/>\n",
       "<defs>\n",
       "  <clipPath id=\"clip332\">\n",
       "    <rect x=\"186\" y=\"47\" width=\"2167\" height=\"1440\"/>\n",
       "  </clipPath>\n",
       "</defs>\n",
       "<polyline clip-path=\"url(#clip332)\" style=\"stroke:#000000; stroke-linecap:round; stroke-linejoin:round; stroke-width:2; stroke-opacity:0.1; fill:none\" points=\"212.948,1486.45 212.948,47.2441 \"/>\n",
       "<polyline clip-path=\"url(#clip332)\" style=\"stroke:#000000; stroke-linecap:round; stroke-linejoin:round; stroke-width:2; stroke-opacity:0.1; fill:none\" points=\"559.363,1486.45 559.363,47.2441 \"/>\n",
       "<polyline clip-path=\"url(#clip332)\" style=\"stroke:#000000; stroke-linecap:round; stroke-linejoin:round; stroke-width:2; stroke-opacity:0.1; fill:none\" points=\"905.779,1486.45 905.779,47.2441 \"/>\n",
       "<polyline clip-path=\"url(#clip332)\" style=\"stroke:#000000; stroke-linecap:round; stroke-linejoin:round; stroke-width:2; stroke-opacity:0.1; fill:none\" points=\"1252.19,1486.45 1252.19,47.2441 \"/>\n",
       "<polyline clip-path=\"url(#clip332)\" style=\"stroke:#000000; stroke-linecap:round; stroke-linejoin:round; stroke-width:2; stroke-opacity:0.1; fill:none\" points=\"1598.61,1486.45 1598.61,47.2441 \"/>\n",
       "<polyline clip-path=\"url(#clip332)\" style=\"stroke:#000000; stroke-linecap:round; stroke-linejoin:round; stroke-width:2; stroke-opacity:0.1; fill:none\" points=\"1945.02,1486.45 1945.02,47.2441 \"/>\n",
       "<polyline clip-path=\"url(#clip332)\" style=\"stroke:#000000; stroke-linecap:round; stroke-linejoin:round; stroke-width:2; stroke-opacity:0.1; fill:none\" points=\"2291.44,1486.45 2291.44,47.2441 \"/>\n",
       "<polyline clip-path=\"url(#clip330)\" style=\"stroke:#000000; stroke-linecap:round; stroke-linejoin:round; stroke-width:4; stroke-opacity:1; fill:none\" points=\"186.274,1486.45 2352.76,1486.45 \"/>\n",
       "<polyline clip-path=\"url(#clip330)\" style=\"stroke:#000000; stroke-linecap:round; stroke-linejoin:round; stroke-width:4; stroke-opacity:1; fill:none\" points=\"212.948,1486.45 212.948,1467.55 \"/>\n",
       "<polyline clip-path=\"url(#clip330)\" style=\"stroke:#000000; stroke-linecap:round; stroke-linejoin:round; stroke-width:4; stroke-opacity:1; fill:none\" points=\"559.363,1486.45 559.363,1467.55 \"/>\n",
       "<polyline clip-path=\"url(#clip330)\" style=\"stroke:#000000; stroke-linecap:round; stroke-linejoin:round; stroke-width:4; stroke-opacity:1; fill:none\" points=\"905.779,1486.45 905.779,1467.55 \"/>\n",
       "<polyline clip-path=\"url(#clip330)\" style=\"stroke:#000000; stroke-linecap:round; stroke-linejoin:round; stroke-width:4; stroke-opacity:1; fill:none\" points=\"1252.19,1486.45 1252.19,1467.55 \"/>\n",
       "<polyline clip-path=\"url(#clip330)\" style=\"stroke:#000000; stroke-linecap:round; stroke-linejoin:round; stroke-width:4; stroke-opacity:1; fill:none\" points=\"1598.61,1486.45 1598.61,1467.55 \"/>\n",
       "<polyline clip-path=\"url(#clip330)\" style=\"stroke:#000000; stroke-linecap:round; stroke-linejoin:round; stroke-width:4; stroke-opacity:1; fill:none\" points=\"1945.02,1486.45 1945.02,1467.55 \"/>\n",
       "<polyline clip-path=\"url(#clip330)\" style=\"stroke:#000000; stroke-linecap:round; stroke-linejoin:round; stroke-width:4; stroke-opacity:1; fill:none\" points=\"2291.44,1486.45 2291.44,1467.55 \"/>\n",
       "<path clip-path=\"url(#clip330)\" d=\"M212.948 1517.37 Q209.337 1517.37 207.508 1520.93 Q205.703 1524.47 205.703 1531.6 Q205.703 1538.71 207.508 1542.27 Q209.337 1545.82 212.948 1545.82 Q216.582 1545.82 218.388 1542.27 Q220.216 1538.71 220.216 1531.6 Q220.216 1524.47 218.388 1520.93 Q216.582 1517.37 212.948 1517.37 M212.948 1513.66 Q218.758 1513.66 221.814 1518.27 Q224.892 1522.85 224.892 1531.6 Q224.892 1540.33 221.814 1544.94 Q218.758 1549.52 212.948 1549.52 Q207.138 1549.52 204.059 1544.94 Q201.004 1540.33 201.004 1531.6 Q201.004 1522.85 204.059 1518.27 Q207.138 1513.66 212.948 1513.66 Z\" fill=\"#000000\" fill-rule=\"nonzero\" fill-opacity=\"1\" /><path clip-path=\"url(#clip330)\" d=\"M534.051 1544.91 L541.69 1544.91 L541.69 1518.55 L533.38 1520.21 L533.38 1515.95 L541.644 1514.29 L546.319 1514.29 L546.319 1544.91 L553.958 1544.91 L553.958 1548.85 L534.051 1548.85 L534.051 1544.91 Z\" fill=\"#000000\" fill-rule=\"nonzero\" fill-opacity=\"1\" /><path clip-path=\"url(#clip330)\" d=\"M573.403 1517.37 Q569.792 1517.37 567.963 1520.93 Q566.157 1524.47 566.157 1531.6 Q566.157 1538.71 567.963 1542.27 Q569.792 1545.82 573.403 1545.82 Q577.037 1545.82 578.842 1542.27 Q580.671 1538.71 580.671 1531.6 Q580.671 1524.47 578.842 1520.93 Q577.037 1517.37 573.403 1517.37 M573.403 1513.66 Q579.213 1513.66 582.268 1518.27 Q585.347 1522.85 585.347 1531.6 Q585.347 1540.33 582.268 1544.94 Q579.213 1549.52 573.403 1549.52 Q567.593 1549.52 564.514 1544.94 Q561.458 1540.33 561.458 1531.6 Q561.458 1522.85 564.514 1518.27 Q567.593 1513.66 573.403 1513.66 Z\" fill=\"#000000\" fill-rule=\"nonzero\" fill-opacity=\"1\" /><path clip-path=\"url(#clip330)\" d=\"M884.552 1544.91 L900.871 1544.91 L900.871 1548.85 L878.927 1548.85 L878.927 1544.91 Q881.589 1542.16 886.172 1537.53 Q890.779 1532.88 891.959 1531.53 Q894.205 1529.01 895.084 1527.27 Q895.987 1525.51 895.987 1523.82 Q895.987 1521.07 894.043 1519.33 Q892.121 1517.6 889.02 1517.6 Q886.821 1517.6 884.367 1518.36 Q881.936 1519.13 879.159 1520.68 L879.159 1515.95 Q881.983 1514.82 884.436 1514.24 Q886.89 1513.66 888.927 1513.66 Q894.297 1513.66 897.492 1516.35 Q900.686 1519.03 900.686 1523.52 Q900.686 1525.65 899.876 1527.57 Q899.089 1529.47 896.983 1532.07 Q896.404 1532.74 893.302 1535.95 Q890.2 1539.15 884.552 1544.91 Z\" fill=\"#000000\" fill-rule=\"nonzero\" fill-opacity=\"1\" /><path clip-path=\"url(#clip330)\" d=\"M920.686 1517.37 Q917.075 1517.37 915.246 1520.93 Q913.441 1524.47 913.441 1531.6 Q913.441 1538.71 915.246 1542.27 Q917.075 1545.82 920.686 1545.82 Q924.32 1545.82 926.126 1542.27 Q927.955 1538.71 927.955 1531.6 Q927.955 1524.47 926.126 1520.93 Q924.32 1517.37 920.686 1517.37 M920.686 1513.66 Q926.496 1513.66 929.552 1518.27 Q932.63 1522.85 932.63 1531.6 Q932.63 1540.33 929.552 1544.94 Q926.496 1549.52 920.686 1549.52 Q914.876 1549.52 911.797 1544.94 Q908.742 1540.33 908.742 1531.6 Q908.742 1522.85 911.797 1518.27 Q914.876 1513.66 920.686 1513.66 Z\" fill=\"#000000\" fill-rule=\"nonzero\" fill-opacity=\"1\" /><path clip-path=\"url(#clip330)\" d=\"M1241.04 1530.21 Q1244.39 1530.93 1246.27 1533.2 Q1248.17 1535.47 1248.17 1538.8 Q1248.17 1543.92 1244.65 1546.72 Q1241.13 1549.52 1234.65 1549.52 Q1232.47 1549.52 1230.16 1549.08 Q1227.87 1548.66 1225.41 1547.81 L1225.41 1543.29 Q1227.36 1544.43 1229.67 1545.01 Q1231.99 1545.58 1234.51 1545.58 Q1238.91 1545.58 1241.2 1543.85 Q1243.51 1542.11 1243.51 1538.8 Q1243.51 1535.75 1241.36 1534.03 Q1239.23 1532.3 1235.41 1532.3 L1231.38 1532.3 L1231.38 1528.45 L1235.6 1528.45 Q1239.05 1528.45 1240.87 1527.09 Q1242.7 1525.7 1242.7 1523.11 Q1242.7 1520.45 1240.81 1519.03 Q1238.93 1517.6 1235.41 1517.6 Q1233.49 1517.6 1231.29 1518.01 Q1229.09 1518.43 1226.45 1519.31 L1226.45 1515.14 Q1229.12 1514.4 1231.43 1514.03 Q1233.77 1513.66 1235.83 1513.66 Q1241.15 1513.66 1244.25 1516.09 Q1247.36 1518.5 1247.36 1522.62 Q1247.36 1525.49 1245.71 1527.48 Q1244.07 1529.45 1241.04 1530.21 Z\" fill=\"#000000\" fill-rule=\"nonzero\" fill-opacity=\"1\" /><path clip-path=\"url(#clip330)\" d=\"M1267.03 1517.37 Q1263.42 1517.37 1261.59 1520.93 Q1259.79 1524.47 1259.79 1531.6 Q1259.79 1538.71 1261.59 1542.27 Q1263.42 1545.82 1267.03 1545.82 Q1270.67 1545.82 1272.47 1542.27 Q1274.3 1538.71 1274.3 1531.6 Q1274.3 1524.47 1272.47 1520.93 Q1270.67 1517.37 1267.03 1517.37 M1267.03 1513.66 Q1272.84 1513.66 1275.9 1518.27 Q1278.98 1522.85 1278.98 1531.6 Q1278.98 1540.33 1275.9 1544.94 Q1272.84 1549.52 1267.03 1549.52 Q1261.22 1549.52 1258.14 1544.94 Q1255.09 1540.33 1255.09 1531.6 Q1255.09 1522.85 1258.14 1518.27 Q1261.22 1513.66 1267.03 1513.66 Z\" fill=\"#000000\" fill-rule=\"nonzero\" fill-opacity=\"1\" /><path clip-path=\"url(#clip330)\" d=\"M1586.78 1518.36 L1574.98 1536.81 L1586.78 1536.81 L1586.78 1518.36 M1585.55 1514.29 L1591.43 1514.29 L1591.43 1536.81 L1596.36 1536.81 L1596.36 1540.7 L1591.43 1540.7 L1591.43 1548.85 L1586.78 1548.85 L1586.78 1540.7 L1571.18 1540.7 L1571.18 1536.19 L1585.55 1514.29 Z\" fill=\"#000000\" fill-rule=\"nonzero\" fill-opacity=\"1\" /><path clip-path=\"url(#clip330)\" d=\"M1614.1 1517.37 Q1610.48 1517.37 1608.66 1520.93 Q1606.85 1524.47 1606.85 1531.6 Q1606.85 1538.71 1608.66 1542.27 Q1610.48 1545.82 1614.1 1545.82 Q1617.73 1545.82 1619.54 1542.27 Q1621.36 1538.71 1621.36 1531.6 Q1621.36 1524.47 1619.54 1520.93 Q1617.73 1517.37 1614.1 1517.37 M1614.1 1513.66 Q1619.91 1513.66 1622.96 1518.27 Q1626.04 1522.85 1626.04 1531.6 Q1626.04 1540.33 1622.96 1544.94 Q1619.91 1549.52 1614.1 1549.52 Q1608.29 1549.52 1605.21 1544.94 Q1602.15 1540.33 1602.15 1531.6 Q1602.15 1522.85 1605.21 1518.27 Q1608.29 1513.66 1614.1 1513.66 Z\" fill=\"#000000\" fill-rule=\"nonzero\" fill-opacity=\"1\" /><path clip-path=\"url(#clip330)\" d=\"M1919.72 1514.29 L1938.08 1514.29 L1938.08 1518.22 L1924.01 1518.22 L1924.01 1526.7 Q1925.03 1526.35 1926.04 1526.19 Q1927.06 1526 1928.08 1526 Q1933.87 1526 1937.25 1529.17 Q1940.63 1532.34 1940.63 1537.76 Q1940.63 1543.34 1937.15 1546.44 Q1933.68 1549.52 1927.36 1549.52 Q1925.19 1549.52 1922.92 1549.15 Q1920.67 1548.78 1918.27 1548.04 L1918.27 1543.34 Q1920.35 1544.47 1922.57 1545.03 Q1924.79 1545.58 1927.27 1545.58 Q1931.28 1545.58 1933.61 1543.48 Q1935.95 1541.37 1935.95 1537.76 Q1935.95 1534.15 1933.61 1532.04 Q1931.28 1529.94 1927.27 1529.94 Q1925.4 1529.94 1923.52 1530.35 Q1921.67 1530.77 1919.72 1531.65 L1919.72 1514.29 Z\" fill=\"#000000\" fill-rule=\"nonzero\" fill-opacity=\"1\" /><path clip-path=\"url(#clip330)\" d=\"M1959.84 1517.37 Q1956.23 1517.37 1954.4 1520.93 Q1952.59 1524.47 1952.59 1531.6 Q1952.59 1538.71 1954.4 1542.27 Q1956.23 1545.82 1959.84 1545.82 Q1963.47 1545.82 1965.28 1542.27 Q1967.11 1538.71 1967.11 1531.6 Q1967.11 1524.47 1965.28 1520.93 Q1963.47 1517.37 1959.84 1517.37 M1959.84 1513.66 Q1965.65 1513.66 1968.71 1518.27 Q1971.78 1522.85 1971.78 1531.6 Q1971.78 1540.33 1968.71 1544.94 Q1965.65 1549.52 1959.84 1549.52 Q1954.03 1549.52 1950.95 1544.94 Q1947.9 1540.33 1947.9 1531.6 Q1947.9 1522.85 1950.95 1518.27 Q1954.03 1513.66 1959.84 1513.66 Z\" fill=\"#000000\" fill-rule=\"nonzero\" fill-opacity=\"1\" /><path clip-path=\"url(#clip330)\" d=\"M2276.85 1529.7 Q2273.7 1529.7 2271.85 1531.86 Q2270.02 1534.01 2270.02 1537.76 Q2270.02 1541.49 2271.85 1543.66 Q2273.7 1545.82 2276.85 1545.82 Q2279.99 1545.82 2281.82 1543.66 Q2283.67 1541.49 2283.67 1537.76 Q2283.67 1534.01 2281.82 1531.86 Q2279.99 1529.7 2276.85 1529.7 M2286.13 1515.05 L2286.13 1519.31 Q2284.37 1518.48 2282.56 1518.04 Q2280.78 1517.6 2279.02 1517.6 Q2274.39 1517.6 2271.94 1520.72 Q2269.51 1523.85 2269.16 1530.17 Q2270.53 1528.15 2272.59 1527.09 Q2274.65 1526 2277.12 1526 Q2282.33 1526 2285.34 1529.17 Q2288.37 1532.32 2288.37 1537.76 Q2288.37 1543.08 2285.23 1546.3 Q2282.08 1549.52 2276.85 1549.52 Q2270.85 1549.52 2267.68 1544.94 Q2264.51 1540.33 2264.51 1531.6 Q2264.51 1523.41 2268.4 1518.55 Q2272.29 1513.66 2278.84 1513.66 Q2280.6 1513.66 2282.38 1514.01 Q2284.18 1514.36 2286.13 1515.05 Z\" fill=\"#000000\" fill-rule=\"nonzero\" fill-opacity=\"1\" /><path clip-path=\"url(#clip330)\" d=\"M2306.43 1517.37 Q2302.82 1517.37 2300.99 1520.93 Q2299.18 1524.47 2299.18 1531.6 Q2299.18 1538.71 2300.99 1542.27 Q2302.82 1545.82 2306.43 1545.82 Q2310.06 1545.82 2311.87 1542.27 Q2313.7 1538.71 2313.7 1531.6 Q2313.7 1524.47 2311.87 1520.93 Q2310.06 1517.37 2306.43 1517.37 M2306.43 1513.66 Q2312.24 1513.66 2315.29 1518.27 Q2318.37 1522.85 2318.37 1531.6 Q2318.37 1540.33 2315.29 1544.94 Q2312.24 1549.52 2306.43 1549.52 Q2300.62 1549.52 2297.54 1544.94 Q2294.48 1540.33 2294.48 1531.6 Q2294.48 1522.85 2297.54 1518.27 Q2300.62 1513.66 2306.43 1513.66 Z\" fill=\"#000000\" fill-rule=\"nonzero\" fill-opacity=\"1\" /><polyline clip-path=\"url(#clip332)\" style=\"stroke:#000000; stroke-linecap:round; stroke-linejoin:round; stroke-width:2; stroke-opacity:0.1; fill:none\" points=\"186.274,1445.72 2352.76,1445.72 \"/>\n",
       "<polyline clip-path=\"url(#clip332)\" style=\"stroke:#000000; stroke-linecap:round; stroke-linejoin:round; stroke-width:2; stroke-opacity:0.1; fill:none\" points=\"186.274,1104.2 2352.76,1104.2 \"/>\n",
       "<polyline clip-path=\"url(#clip332)\" style=\"stroke:#000000; stroke-linecap:round; stroke-linejoin:round; stroke-width:2; stroke-opacity:0.1; fill:none\" points=\"186.274,762.679 2352.76,762.679 \"/>\n",
       "<polyline clip-path=\"url(#clip332)\" style=\"stroke:#000000; stroke-linecap:round; stroke-linejoin:round; stroke-width:2; stroke-opacity:0.1; fill:none\" points=\"186.274,421.161 2352.76,421.161 \"/>\n",
       "<polyline clip-path=\"url(#clip332)\" style=\"stroke:#000000; stroke-linecap:round; stroke-linejoin:round; stroke-width:2; stroke-opacity:0.1; fill:none\" points=\"186.274,79.6432 2352.76,79.6432 \"/>\n",
       "<polyline clip-path=\"url(#clip330)\" style=\"stroke:#000000; stroke-linecap:round; stroke-linejoin:round; stroke-width:4; stroke-opacity:1; fill:none\" points=\"186.274,1486.45 186.274,47.2441 \"/>\n",
       "<polyline clip-path=\"url(#clip330)\" style=\"stroke:#000000; stroke-linecap:round; stroke-linejoin:round; stroke-width:4; stroke-opacity:1; fill:none\" points=\"186.274,1445.72 205.172,1445.72 \"/>\n",
       "<polyline clip-path=\"url(#clip330)\" style=\"stroke:#000000; stroke-linecap:round; stroke-linejoin:round; stroke-width:4; stroke-opacity:1; fill:none\" points=\"186.274,1104.2 205.172,1104.2 \"/>\n",
       "<polyline clip-path=\"url(#clip330)\" style=\"stroke:#000000; stroke-linecap:round; stroke-linejoin:round; stroke-width:4; stroke-opacity:1; fill:none\" points=\"186.274,762.679 205.172,762.679 \"/>\n",
       "<polyline clip-path=\"url(#clip330)\" style=\"stroke:#000000; stroke-linecap:round; stroke-linejoin:round; stroke-width:4; stroke-opacity:1; fill:none\" points=\"186.274,421.161 205.172,421.161 \"/>\n",
       "<polyline clip-path=\"url(#clip330)\" style=\"stroke:#000000; stroke-linecap:round; stroke-linejoin:round; stroke-width:4; stroke-opacity:1; fill:none\" points=\"186.274,79.6432 205.172,79.6432 \"/>\n",
       "<path clip-path=\"url(#clip330)\" d=\"M62.9365 1431.51 Q59.3254 1431.51 57.4967 1435.08 Q55.6912 1438.62 55.6912 1445.75 Q55.6912 1452.86 57.4967 1456.42 Q59.3254 1459.96 62.9365 1459.96 Q66.5707 1459.96 68.3763 1456.42 Q70.205 1452.86 70.205 1445.75 Q70.205 1438.62 68.3763 1435.08 Q66.5707 1431.51 62.9365 1431.51 M62.9365 1427.81 Q68.7467 1427.81 71.8022 1432.42 Q74.8809 1437 74.8809 1445.75 Q74.8809 1454.48 71.8022 1459.08 Q68.7467 1463.67 62.9365 1463.67 Q57.1264 1463.67 54.0477 1459.08 Q50.9921 1454.48 50.9921 1445.75 Q50.9921 1437 54.0477 1432.42 Q57.1264 1427.81 62.9365 1427.81 Z\" fill=\"#000000\" fill-rule=\"nonzero\" fill-opacity=\"1\" /><path clip-path=\"url(#clip330)\" d=\"M83.0984 1457.12 L87.9827 1457.12 L87.9827 1463 L83.0984 1463 L83.0984 1457.12 Z\" fill=\"#000000\" fill-rule=\"nonzero\" fill-opacity=\"1\" /><path clip-path=\"url(#clip330)\" d=\"M108.168 1431.51 Q104.557 1431.51 102.728 1435.08 Q100.922 1438.62 100.922 1445.75 Q100.922 1452.86 102.728 1456.42 Q104.557 1459.96 108.168 1459.96 Q111.802 1459.96 113.608 1456.42 Q115.436 1452.86 115.436 1445.75 Q115.436 1438.62 113.608 1435.08 Q111.802 1431.51 108.168 1431.51 M108.168 1427.81 Q113.978 1427.81 117.033 1432.42 Q120.112 1437 120.112 1445.75 Q120.112 1454.48 117.033 1459.08 Q113.978 1463.67 108.168 1463.67 Q102.358 1463.67 99.2789 1459.08 Q96.2234 1454.48 96.2234 1445.75 Q96.2234 1437 99.2789 1432.42 Q102.358 1427.81 108.168 1427.81 Z\" fill=\"#000000\" fill-rule=\"nonzero\" fill-opacity=\"1\" /><path clip-path=\"url(#clip330)\" d=\"M138.33 1431.51 Q134.719 1431.51 132.89 1435.08 Q131.084 1438.62 131.084 1445.75 Q131.084 1452.86 132.89 1456.42 Q134.719 1459.96 138.33 1459.96 Q141.964 1459.96 143.769 1456.42 Q145.598 1452.86 145.598 1445.75 Q145.598 1438.62 143.769 1435.08 Q141.964 1431.51 138.33 1431.51 M138.33 1427.81 Q144.14 1427.81 147.195 1432.42 Q150.274 1437 150.274 1445.75 Q150.274 1454.48 147.195 1459.08 Q144.14 1463.67 138.33 1463.67 Q132.519 1463.67 129.441 1459.08 Q126.385 1454.48 126.385 1445.75 Q126.385 1437 129.441 1432.42 Q132.519 1427.81 138.33 1427.81 Z\" fill=\"#000000\" fill-rule=\"nonzero\" fill-opacity=\"1\" /><path clip-path=\"url(#clip330)\" d=\"M63.9319 1090 Q60.3208 1090 58.4921 1093.56 Q56.6865 1097.1 56.6865 1104.23 Q56.6865 1111.34 58.4921 1114.9 Q60.3208 1118.45 63.9319 1118.45 Q67.5661 1118.45 69.3717 1114.9 Q71.2004 1111.34 71.2004 1104.23 Q71.2004 1097.1 69.3717 1093.56 Q67.5661 1090 63.9319 1090 M63.9319 1086.29 Q69.742 1086.29 72.7976 1090.9 Q75.8763 1095.48 75.8763 1104.23 Q75.8763 1112.96 72.7976 1117.57 Q69.742 1122.15 63.9319 1122.15 Q58.1217 1122.15 55.043 1117.57 Q51.9875 1112.96 51.9875 1104.23 Q51.9875 1095.48 55.043 1090.9 Q58.1217 1086.29 63.9319 1086.29 Z\" fill=\"#000000\" fill-rule=\"nonzero\" fill-opacity=\"1\" /><path clip-path=\"url(#clip330)\" d=\"M84.0938 1115.6 L88.978 1115.6 L88.978 1121.48 L84.0938 1121.48 L84.0938 1115.6 Z\" fill=\"#000000\" fill-rule=\"nonzero\" fill-opacity=\"1\" /><path clip-path=\"url(#clip330)\" d=\"M103.191 1117.54 L119.51 1117.54 L119.51 1121.48 L97.566 1121.48 L97.566 1117.54 Q100.228 1114.79 104.811 1110.16 Q109.418 1105.51 110.598 1104.16 Q112.844 1101.64 113.723 1099.9 Q114.626 1098.14 114.626 1096.45 Q114.626 1093.7 112.682 1091.96 Q110.76 1090.23 107.658 1090.23 Q105.459 1090.23 103.006 1090.99 Q100.575 1091.76 97.7974 1093.31 L97.7974 1088.58 Q100.621 1087.45 103.075 1086.87 Q105.529 1086.29 107.566 1086.29 Q112.936 1086.29 116.131 1088.98 Q119.325 1091.66 119.325 1096.15 Q119.325 1098.28 118.515 1100.2 Q117.728 1102.1 115.621 1104.7 Q115.043 1105.37 111.941 1108.58 Q108.839 1111.78 103.191 1117.54 Z\" fill=\"#000000\" fill-rule=\"nonzero\" fill-opacity=\"1\" /><path clip-path=\"url(#clip330)\" d=\"M129.371 1086.92 L147.728 1086.92 L147.728 1090.85 L133.654 1090.85 L133.654 1099.32 Q134.672 1098.98 135.691 1098.82 Q136.709 1098.63 137.728 1098.63 Q143.515 1098.63 146.894 1101.8 Q150.274 1104.97 150.274 1110.39 Q150.274 1115.97 146.802 1119.07 Q143.33 1122.15 137.01 1122.15 Q134.834 1122.15 132.566 1121.78 Q130.32 1121.41 127.913 1120.67 L127.913 1115.97 Q129.996 1117.1 132.219 1117.66 Q134.441 1118.21 136.918 1118.21 Q140.922 1118.21 143.26 1116.11 Q145.598 1114 145.598 1110.39 Q145.598 1106.78 143.26 1104.67 Q140.922 1102.57 136.918 1102.57 Q135.043 1102.57 133.168 1102.98 Q131.316 1103.4 129.371 1104.28 L129.371 1086.92 Z\" fill=\"#000000\" fill-rule=\"nonzero\" fill-opacity=\"1\" /><path clip-path=\"url(#clip330)\" d=\"M62.9365 748.478 Q59.3254 748.478 57.4967 752.043 Q55.6912 755.585 55.6912 762.714 Q55.6912 769.821 57.4967 773.385 Q59.3254 776.927 62.9365 776.927 Q66.5707 776.927 68.3763 773.385 Q70.205 769.821 70.205 762.714 Q70.205 755.585 68.3763 752.043 Q66.5707 748.478 62.9365 748.478 M62.9365 744.774 Q68.7467 744.774 71.8022 749.381 Q74.8809 753.964 74.8809 762.714 Q74.8809 771.441 71.8022 776.047 Q68.7467 780.631 62.9365 780.631 Q57.1264 780.631 54.0477 776.047 Q50.9921 771.441 50.9921 762.714 Q50.9921 753.964 54.0477 749.381 Q57.1264 744.774 62.9365 744.774 Z\" fill=\"#000000\" fill-rule=\"nonzero\" fill-opacity=\"1\" /><path clip-path=\"url(#clip330)\" d=\"M83.0984 774.08 L87.9827 774.08 L87.9827 779.959 L83.0984 779.959 L83.0984 774.08 Z\" fill=\"#000000\" fill-rule=\"nonzero\" fill-opacity=\"1\" /><path clip-path=\"url(#clip330)\" d=\"M98.2141 745.399 L116.57 745.399 L116.57 749.335 L102.496 749.335 L102.496 757.807 Q103.515 757.46 104.534 757.298 Q105.552 757.112 106.571 757.112 Q112.358 757.112 115.737 760.284 Q119.117 763.455 119.117 768.872 Q119.117 774.45 115.645 777.552 Q112.172 780.631 105.853 780.631 Q103.677 780.631 101.409 780.26 Q99.1632 779.89 96.7558 779.149 L96.7558 774.45 Q98.8391 775.584 101.061 776.14 Q103.284 776.696 105.76 776.696 Q109.765 776.696 112.103 774.589 Q114.441 772.483 114.441 768.872 Q114.441 765.26 112.103 763.154 Q109.765 761.048 105.76 761.048 Q103.885 761.048 102.01 761.464 Q100.159 761.881 98.2141 762.76 L98.2141 745.399 Z\" fill=\"#000000\" fill-rule=\"nonzero\" fill-opacity=\"1\" /><path clip-path=\"url(#clip330)\" d=\"M138.33 748.478 Q134.719 748.478 132.89 752.043 Q131.084 755.585 131.084 762.714 Q131.084 769.821 132.89 773.385 Q134.719 776.927 138.33 776.927 Q141.964 776.927 143.769 773.385 Q145.598 769.821 145.598 762.714 Q145.598 755.585 143.769 752.043 Q141.964 748.478 138.33 748.478 M138.33 744.774 Q144.14 744.774 147.195 749.381 Q150.274 753.964 150.274 762.714 Q150.274 771.441 147.195 776.047 Q144.14 780.631 138.33 780.631 Q132.519 780.631 129.441 776.047 Q126.385 771.441 126.385 762.714 Q126.385 753.964 129.441 749.381 Q132.519 744.774 138.33 744.774 Z\" fill=\"#000000\" fill-rule=\"nonzero\" fill-opacity=\"1\" /><path clip-path=\"url(#clip330)\" d=\"M63.9319 406.96 Q60.3208 406.96 58.4921 410.525 Q56.6865 414.066 56.6865 421.196 Q56.6865 428.303 58.4921 431.867 Q60.3208 435.409 63.9319 435.409 Q67.5661 435.409 69.3717 431.867 Q71.2004 428.303 71.2004 421.196 Q71.2004 414.066 69.3717 410.525 Q67.5661 406.96 63.9319 406.96 M63.9319 403.256 Q69.742 403.256 72.7976 407.863 Q75.8763 412.446 75.8763 421.196 Q75.8763 429.923 72.7976 434.529 Q69.742 439.113 63.9319 439.113 Q58.1217 439.113 55.043 434.529 Q51.9875 429.923 51.9875 421.196 Q51.9875 412.446 55.043 407.863 Q58.1217 403.256 63.9319 403.256 Z\" fill=\"#000000\" fill-rule=\"nonzero\" fill-opacity=\"1\" /><path clip-path=\"url(#clip330)\" d=\"M84.0938 432.562 L88.978 432.562 L88.978 438.441 L84.0938 438.441 L84.0938 432.562 Z\" fill=\"#000000\" fill-rule=\"nonzero\" fill-opacity=\"1\" /><path clip-path=\"url(#clip330)\" d=\"M97.9826 403.881 L120.205 403.881 L120.205 405.872 L107.658 438.441 L102.774 438.441 L114.58 407.817 L97.9826 407.817 L97.9826 403.881 Z\" fill=\"#000000\" fill-rule=\"nonzero\" fill-opacity=\"1\" /><path clip-path=\"url(#clip330)\" d=\"M129.371 403.881 L147.728 403.881 L147.728 407.817 L133.654 407.817 L133.654 416.289 Q134.672 415.941 135.691 415.779 Q136.709 415.594 137.728 415.594 Q143.515 415.594 146.894 418.766 Q150.274 421.937 150.274 427.353 Q150.274 432.932 146.802 436.034 Q143.33 439.113 137.01 439.113 Q134.834 439.113 132.566 438.742 Q130.32 438.372 127.913 437.631 L127.913 432.932 Q129.996 434.066 132.219 434.622 Q134.441 435.177 136.918 435.177 Q140.922 435.177 143.26 433.071 Q145.598 430.965 145.598 427.353 Q145.598 423.742 143.26 421.636 Q140.922 419.529 136.918 419.529 Q135.043 419.529 133.168 419.946 Q131.316 420.363 129.371 421.242 L129.371 403.881 Z\" fill=\"#000000\" fill-rule=\"nonzero\" fill-opacity=\"1\" /><path clip-path=\"url(#clip330)\" d=\"M53.7467 92.9881 L61.3856 92.9881 L61.3856 66.6225 L53.0754 68.2891 L53.0754 64.0299 L61.3393 62.3632 L66.0152 62.3632 L66.0152 92.9881 L73.654 92.9881 L73.654 96.9232 L53.7467 96.9232 L53.7467 92.9881 Z\" fill=\"#000000\" fill-rule=\"nonzero\" fill-opacity=\"1\" /><path clip-path=\"url(#clip330)\" d=\"M83.0984 91.0436 L87.9827 91.0436 L87.9827 96.9232 L83.0984 96.9232 L83.0984 91.0436 Z\" fill=\"#000000\" fill-rule=\"nonzero\" fill-opacity=\"1\" /><path clip-path=\"url(#clip330)\" d=\"M108.168 65.4419 Q104.557 65.4419 102.728 69.0067 Q100.922 72.5484 100.922 79.678 Q100.922 86.7844 102.728 90.3492 Q104.557 93.8908 108.168 93.8908 Q111.802 93.8908 113.608 90.3492 Q115.436 86.7844 115.436 79.678 Q115.436 72.5484 113.608 69.0067 Q111.802 65.4419 108.168 65.4419 M108.168 61.7382 Q113.978 61.7382 117.033 66.3447 Q120.112 70.928 120.112 79.678 Q120.112 88.4048 117.033 93.0112 Q113.978 97.5945 108.168 97.5945 Q102.358 97.5945 99.2789 93.0112 Q96.2234 88.4048 96.2234 79.678 Q96.2234 70.928 99.2789 66.3447 Q102.358 61.7382 108.168 61.7382 Z\" fill=\"#000000\" fill-rule=\"nonzero\" fill-opacity=\"1\" /><path clip-path=\"url(#clip330)\" d=\"M138.33 65.4419 Q134.719 65.4419 132.89 69.0067 Q131.084 72.5484 131.084 79.678 Q131.084 86.7844 132.89 90.3492 Q134.719 93.8908 138.33 93.8908 Q141.964 93.8908 143.769 90.3492 Q145.598 86.7844 145.598 79.678 Q145.598 72.5484 143.769 69.0067 Q141.964 65.4419 138.33 65.4419 M138.33 61.7382 Q144.14 61.7382 147.195 66.3447 Q150.274 70.928 150.274 79.678 Q150.274 88.4048 147.195 93.0112 Q144.14 97.5945 138.33 97.5945 Q132.519 97.5945 129.441 93.0112 Q126.385 88.4048 126.385 79.678 Q126.385 70.928 129.441 66.3447 Q132.519 61.7382 138.33 61.7382 Z\" fill=\"#000000\" fill-rule=\"nonzero\" fill-opacity=\"1\" /><polyline clip-path=\"url(#clip332)\" style=\"stroke:#009af9; stroke-linecap:round; stroke-linejoin:round; stroke-width:4; stroke-opacity:1; fill:none\" points=\"247.59,1445.72 282.231,1442.85 316.873,1433.69 351.514,1421.81 386.156,1406.24 420.797,1394.49 455.439,1371.26 490.08,1342.85 524.722,1318.94 559.363,1281.92 594.005,1257.88 628.646,1222.77 663.288,1187.66 697.93,1143.54 732.571,1097.5 767.213,1053.52 801.854,1023.74 836.496,967.317 871.137,921.554 905.779,878.249 940.42,845.737 975.062,803.798 1009.7,749.565 1044.34,713.228 1078.99,663.093 1113.63,629.897 1148.27,575.801 1182.91,553.67 1217.55,531.95 1252.19,477.99 1286.84,451.625 1321.48,413.921 1356.12,395.889 1390.76,366.109 1425.4,326.493 1460.04,308.051 1494.68,284.144 1529.33,262.424 1563.97,243.026 1598.61,229.501 1633.25,209.83 1667.89,196.716 1702.53,182.372 1737.18,173.219 1771.82,157.373 1806.46,146.991 1841.1,139.75 1875.74,131.144 1910.38,127.456 1945.02,121.172 1979.67,112.839 2014.31,111.473 2048.95,104.506 2083.59,100.408 2118.23,96.5825 2152.87,94.2602 2187.52,94.2602 2222.16,90.845 2256.8,91.1182 2291.44,87.9763 \"/>\n",
       "<path clip-path=\"url(#clip330)\" d=\"M258.49 198.898 L527.569 198.898 L527.569 95.2176 L258.49 95.2176  Z\" fill=\"#ffffff\" fill-rule=\"evenodd\" fill-opacity=\"1\"/>\n",
       "<polyline clip-path=\"url(#clip330)\" style=\"stroke:#000000; stroke-linecap:round; stroke-linejoin:round; stroke-width:4; stroke-opacity:1; fill:none\" points=\"258.49,198.898 527.569,198.898 527.569,95.2176 258.49,95.2176 258.49,198.898 \"/>\n",
       "<polyline clip-path=\"url(#clip330)\" style=\"stroke:#009af9; stroke-linecap:round; stroke-linejoin:round; stroke-width:4; stroke-opacity:1; fill:none\" points=\"282.562,147.058 426.994,147.058 \"/>\n",
       "<path clip-path=\"url(#clip330)\" d=\"M464.909 166.745 Q463.103 171.375 461.39 172.787 Q459.677 174.199 456.807 174.199 L453.404 174.199 L453.404 170.634 L455.904 170.634 Q457.663 170.634 458.636 169.8 Q459.608 168.967 460.788 165.865 L461.552 163.921 L451.066 138.412 L455.58 138.412 L463.682 158.689 L471.784 138.412 L476.298 138.412 L464.909 166.745 Z\" fill=\"#000000\" fill-rule=\"nonzero\" fill-opacity=\"1\" /><path clip-path=\"url(#clip330)\" d=\"M483.589 160.402 L491.228 160.402 L491.228 134.037 L482.918 135.703 L482.918 131.444 L491.182 129.778 L495.858 129.778 L495.858 160.402 L503.497 160.402 L503.497 164.338 L483.589 164.338 L483.589 160.402 Z\" fill=\"#000000\" fill-rule=\"nonzero\" fill-opacity=\"1\" /></svg>\n"
      ],
      "text/html": [
       "<?xml version=\"1.0\" encoding=\"utf-8\"?>\n",
       "<svg xmlns=\"http://www.w3.org/2000/svg\" xmlns:xlink=\"http://www.w3.org/1999/xlink\" width=\"600\" height=\"400\" viewBox=\"0 0 2400 1600\">\n",
       "<defs>\n",
       "  <clipPath id=\"clip380\">\n",
       "    <rect x=\"0\" y=\"0\" width=\"2400\" height=\"1600\"/>\n",
       "  </clipPath>\n",
       "</defs>\n",
       "<path clip-path=\"url(#clip380)\" d=\"M0 1600 L2400 1600 L2400 0 L0 0  Z\" fill=\"#ffffff\" fill-rule=\"evenodd\" fill-opacity=\"1\"/>\n",
       "<defs>\n",
       "  <clipPath id=\"clip381\">\n",
       "    <rect x=\"480\" y=\"0\" width=\"1681\" height=\"1600\"/>\n",
       "  </clipPath>\n",
       "</defs>\n",
       "<path clip-path=\"url(#clip380)\" d=\"M186.274 1486.45 L2352.76 1486.45 L2352.76 47.2441 L186.274 47.2441  Z\" fill=\"#ffffff\" fill-rule=\"evenodd\" fill-opacity=\"1\"/>\n",
       "<defs>\n",
       "  <clipPath id=\"clip382\">\n",
       "    <rect x=\"186\" y=\"47\" width=\"2167\" height=\"1440\"/>\n",
       "  </clipPath>\n",
       "</defs>\n",
       "<polyline clip-path=\"url(#clip382)\" style=\"stroke:#000000; stroke-linecap:round; stroke-linejoin:round; stroke-width:2; stroke-opacity:0.1; fill:none\" points=\"212.948,1486.45 212.948,47.2441 \"/>\n",
       "<polyline clip-path=\"url(#clip382)\" style=\"stroke:#000000; stroke-linecap:round; stroke-linejoin:round; stroke-width:2; stroke-opacity:0.1; fill:none\" points=\"559.363,1486.45 559.363,47.2441 \"/>\n",
       "<polyline clip-path=\"url(#clip382)\" style=\"stroke:#000000; stroke-linecap:round; stroke-linejoin:round; stroke-width:2; stroke-opacity:0.1; fill:none\" points=\"905.779,1486.45 905.779,47.2441 \"/>\n",
       "<polyline clip-path=\"url(#clip382)\" style=\"stroke:#000000; stroke-linecap:round; stroke-linejoin:round; stroke-width:2; stroke-opacity:0.1; fill:none\" points=\"1252.19,1486.45 1252.19,47.2441 \"/>\n",
       "<polyline clip-path=\"url(#clip382)\" style=\"stroke:#000000; stroke-linecap:round; stroke-linejoin:round; stroke-width:2; stroke-opacity:0.1; fill:none\" points=\"1598.61,1486.45 1598.61,47.2441 \"/>\n",
       "<polyline clip-path=\"url(#clip382)\" style=\"stroke:#000000; stroke-linecap:round; stroke-linejoin:round; stroke-width:2; stroke-opacity:0.1; fill:none\" points=\"1945.02,1486.45 1945.02,47.2441 \"/>\n",
       "<polyline clip-path=\"url(#clip382)\" style=\"stroke:#000000; stroke-linecap:round; stroke-linejoin:round; stroke-width:2; stroke-opacity:0.1; fill:none\" points=\"2291.44,1486.45 2291.44,47.2441 \"/>\n",
       "<polyline clip-path=\"url(#clip380)\" style=\"stroke:#000000; stroke-linecap:round; stroke-linejoin:round; stroke-width:4; stroke-opacity:1; fill:none\" points=\"186.274,1486.45 2352.76,1486.45 \"/>\n",
       "<polyline clip-path=\"url(#clip380)\" style=\"stroke:#000000; stroke-linecap:round; stroke-linejoin:round; stroke-width:4; stroke-opacity:1; fill:none\" points=\"212.948,1486.45 212.948,1467.55 \"/>\n",
       "<polyline clip-path=\"url(#clip380)\" style=\"stroke:#000000; stroke-linecap:round; stroke-linejoin:round; stroke-width:4; stroke-opacity:1; fill:none\" points=\"559.363,1486.45 559.363,1467.55 \"/>\n",
       "<polyline clip-path=\"url(#clip380)\" style=\"stroke:#000000; stroke-linecap:round; stroke-linejoin:round; stroke-width:4; stroke-opacity:1; fill:none\" points=\"905.779,1486.45 905.779,1467.55 \"/>\n",
       "<polyline clip-path=\"url(#clip380)\" style=\"stroke:#000000; stroke-linecap:round; stroke-linejoin:round; stroke-width:4; stroke-opacity:1; fill:none\" points=\"1252.19,1486.45 1252.19,1467.55 \"/>\n",
       "<polyline clip-path=\"url(#clip380)\" style=\"stroke:#000000; stroke-linecap:round; stroke-linejoin:round; stroke-width:4; stroke-opacity:1; fill:none\" points=\"1598.61,1486.45 1598.61,1467.55 \"/>\n",
       "<polyline clip-path=\"url(#clip380)\" style=\"stroke:#000000; stroke-linecap:round; stroke-linejoin:round; stroke-width:4; stroke-opacity:1; fill:none\" points=\"1945.02,1486.45 1945.02,1467.55 \"/>\n",
       "<polyline clip-path=\"url(#clip380)\" style=\"stroke:#000000; stroke-linecap:round; stroke-linejoin:round; stroke-width:4; stroke-opacity:1; fill:none\" points=\"2291.44,1486.45 2291.44,1467.55 \"/>\n",
       "<path clip-path=\"url(#clip380)\" d=\"M212.948 1517.37 Q209.337 1517.37 207.508 1520.93 Q205.703 1524.47 205.703 1531.6 Q205.703 1538.71 207.508 1542.27 Q209.337 1545.82 212.948 1545.82 Q216.582 1545.82 218.388 1542.27 Q220.216 1538.71 220.216 1531.6 Q220.216 1524.47 218.388 1520.93 Q216.582 1517.37 212.948 1517.37 M212.948 1513.66 Q218.758 1513.66 221.814 1518.27 Q224.892 1522.85 224.892 1531.6 Q224.892 1540.33 221.814 1544.94 Q218.758 1549.52 212.948 1549.52 Q207.138 1549.52 204.059 1544.94 Q201.004 1540.33 201.004 1531.6 Q201.004 1522.85 204.059 1518.27 Q207.138 1513.66 212.948 1513.66 Z\" fill=\"#000000\" fill-rule=\"nonzero\" fill-opacity=\"1\" /><path clip-path=\"url(#clip380)\" d=\"M534.051 1544.91 L541.69 1544.91 L541.69 1518.55 L533.38 1520.21 L533.38 1515.95 L541.644 1514.29 L546.319 1514.29 L546.319 1544.91 L553.958 1544.91 L553.958 1548.85 L534.051 1548.85 L534.051 1544.91 Z\" fill=\"#000000\" fill-rule=\"nonzero\" fill-opacity=\"1\" /><path clip-path=\"url(#clip380)\" d=\"M573.403 1517.37 Q569.792 1517.37 567.963 1520.93 Q566.157 1524.47 566.157 1531.6 Q566.157 1538.71 567.963 1542.27 Q569.792 1545.82 573.403 1545.82 Q577.037 1545.82 578.842 1542.27 Q580.671 1538.71 580.671 1531.6 Q580.671 1524.47 578.842 1520.93 Q577.037 1517.37 573.403 1517.37 M573.403 1513.66 Q579.213 1513.66 582.268 1518.27 Q585.347 1522.85 585.347 1531.6 Q585.347 1540.33 582.268 1544.94 Q579.213 1549.52 573.403 1549.52 Q567.593 1549.52 564.514 1544.94 Q561.458 1540.33 561.458 1531.6 Q561.458 1522.85 564.514 1518.27 Q567.593 1513.66 573.403 1513.66 Z\" fill=\"#000000\" fill-rule=\"nonzero\" fill-opacity=\"1\" /><path clip-path=\"url(#clip380)\" d=\"M884.552 1544.91 L900.871 1544.91 L900.871 1548.85 L878.927 1548.85 L878.927 1544.91 Q881.589 1542.16 886.172 1537.53 Q890.779 1532.88 891.959 1531.53 Q894.205 1529.01 895.084 1527.27 Q895.987 1525.51 895.987 1523.82 Q895.987 1521.07 894.043 1519.33 Q892.121 1517.6 889.02 1517.6 Q886.821 1517.6 884.367 1518.36 Q881.936 1519.13 879.159 1520.68 L879.159 1515.95 Q881.983 1514.82 884.436 1514.24 Q886.89 1513.66 888.927 1513.66 Q894.297 1513.66 897.492 1516.35 Q900.686 1519.03 900.686 1523.52 Q900.686 1525.65 899.876 1527.57 Q899.089 1529.47 896.983 1532.07 Q896.404 1532.74 893.302 1535.95 Q890.2 1539.15 884.552 1544.91 Z\" fill=\"#000000\" fill-rule=\"nonzero\" fill-opacity=\"1\" /><path clip-path=\"url(#clip380)\" d=\"M920.686 1517.37 Q917.075 1517.37 915.246 1520.93 Q913.441 1524.47 913.441 1531.6 Q913.441 1538.71 915.246 1542.27 Q917.075 1545.82 920.686 1545.82 Q924.32 1545.82 926.126 1542.27 Q927.955 1538.71 927.955 1531.6 Q927.955 1524.47 926.126 1520.93 Q924.32 1517.37 920.686 1517.37 M920.686 1513.66 Q926.496 1513.66 929.552 1518.27 Q932.63 1522.85 932.63 1531.6 Q932.63 1540.33 929.552 1544.94 Q926.496 1549.52 920.686 1549.52 Q914.876 1549.52 911.797 1544.94 Q908.742 1540.33 908.742 1531.6 Q908.742 1522.85 911.797 1518.27 Q914.876 1513.66 920.686 1513.66 Z\" fill=\"#000000\" fill-rule=\"nonzero\" fill-opacity=\"1\" /><path clip-path=\"url(#clip380)\" d=\"M1241.04 1530.21 Q1244.39 1530.93 1246.27 1533.2 Q1248.17 1535.47 1248.17 1538.8 Q1248.17 1543.92 1244.65 1546.72 Q1241.13 1549.52 1234.65 1549.52 Q1232.47 1549.52 1230.16 1549.08 Q1227.87 1548.66 1225.41 1547.81 L1225.41 1543.29 Q1227.36 1544.43 1229.67 1545.01 Q1231.99 1545.58 1234.51 1545.58 Q1238.91 1545.58 1241.2 1543.85 Q1243.51 1542.11 1243.51 1538.8 Q1243.51 1535.75 1241.36 1534.03 Q1239.23 1532.3 1235.41 1532.3 L1231.38 1532.3 L1231.38 1528.45 L1235.6 1528.45 Q1239.05 1528.45 1240.87 1527.09 Q1242.7 1525.7 1242.7 1523.11 Q1242.7 1520.45 1240.81 1519.03 Q1238.93 1517.6 1235.41 1517.6 Q1233.49 1517.6 1231.29 1518.01 Q1229.09 1518.43 1226.45 1519.31 L1226.45 1515.14 Q1229.12 1514.4 1231.43 1514.03 Q1233.77 1513.66 1235.83 1513.66 Q1241.15 1513.66 1244.25 1516.09 Q1247.36 1518.5 1247.36 1522.62 Q1247.36 1525.49 1245.71 1527.48 Q1244.07 1529.45 1241.04 1530.21 Z\" fill=\"#000000\" fill-rule=\"nonzero\" fill-opacity=\"1\" /><path clip-path=\"url(#clip380)\" d=\"M1267.03 1517.37 Q1263.42 1517.37 1261.59 1520.93 Q1259.79 1524.47 1259.79 1531.6 Q1259.79 1538.71 1261.59 1542.27 Q1263.42 1545.82 1267.03 1545.82 Q1270.67 1545.82 1272.47 1542.27 Q1274.3 1538.71 1274.3 1531.6 Q1274.3 1524.47 1272.47 1520.93 Q1270.67 1517.37 1267.03 1517.37 M1267.03 1513.66 Q1272.84 1513.66 1275.9 1518.27 Q1278.98 1522.85 1278.98 1531.6 Q1278.98 1540.33 1275.9 1544.94 Q1272.84 1549.52 1267.03 1549.52 Q1261.22 1549.52 1258.14 1544.94 Q1255.09 1540.33 1255.09 1531.6 Q1255.09 1522.85 1258.14 1518.27 Q1261.22 1513.66 1267.03 1513.66 Z\" fill=\"#000000\" fill-rule=\"nonzero\" fill-opacity=\"1\" /><path clip-path=\"url(#clip380)\" d=\"M1586.78 1518.36 L1574.98 1536.81 L1586.78 1536.81 L1586.78 1518.36 M1585.55 1514.29 L1591.43 1514.29 L1591.43 1536.81 L1596.36 1536.81 L1596.36 1540.7 L1591.43 1540.7 L1591.43 1548.85 L1586.78 1548.85 L1586.78 1540.7 L1571.18 1540.7 L1571.18 1536.19 L1585.55 1514.29 Z\" fill=\"#000000\" fill-rule=\"nonzero\" fill-opacity=\"1\" /><path clip-path=\"url(#clip380)\" d=\"M1614.1 1517.37 Q1610.48 1517.37 1608.66 1520.93 Q1606.85 1524.47 1606.85 1531.6 Q1606.85 1538.71 1608.66 1542.27 Q1610.48 1545.82 1614.1 1545.82 Q1617.73 1545.82 1619.54 1542.27 Q1621.36 1538.71 1621.36 1531.6 Q1621.36 1524.47 1619.54 1520.93 Q1617.73 1517.37 1614.1 1517.37 M1614.1 1513.66 Q1619.91 1513.66 1622.96 1518.27 Q1626.04 1522.85 1626.04 1531.6 Q1626.04 1540.33 1622.96 1544.94 Q1619.91 1549.52 1614.1 1549.52 Q1608.29 1549.52 1605.21 1544.94 Q1602.15 1540.33 1602.15 1531.6 Q1602.15 1522.85 1605.21 1518.27 Q1608.29 1513.66 1614.1 1513.66 Z\" fill=\"#000000\" fill-rule=\"nonzero\" fill-opacity=\"1\" /><path clip-path=\"url(#clip380)\" d=\"M1919.72 1514.29 L1938.08 1514.29 L1938.08 1518.22 L1924.01 1518.22 L1924.01 1526.7 Q1925.03 1526.35 1926.04 1526.19 Q1927.06 1526 1928.08 1526 Q1933.87 1526 1937.25 1529.17 Q1940.63 1532.34 1940.63 1537.76 Q1940.63 1543.34 1937.15 1546.44 Q1933.68 1549.52 1927.36 1549.52 Q1925.19 1549.52 1922.92 1549.15 Q1920.67 1548.78 1918.27 1548.04 L1918.27 1543.34 Q1920.35 1544.47 1922.57 1545.03 Q1924.79 1545.58 1927.27 1545.58 Q1931.28 1545.58 1933.61 1543.48 Q1935.95 1541.37 1935.95 1537.76 Q1935.95 1534.15 1933.61 1532.04 Q1931.28 1529.94 1927.27 1529.94 Q1925.4 1529.94 1923.52 1530.35 Q1921.67 1530.77 1919.72 1531.65 L1919.72 1514.29 Z\" fill=\"#000000\" fill-rule=\"nonzero\" fill-opacity=\"1\" /><path clip-path=\"url(#clip380)\" d=\"M1959.84 1517.37 Q1956.23 1517.37 1954.4 1520.93 Q1952.59 1524.47 1952.59 1531.6 Q1952.59 1538.71 1954.4 1542.27 Q1956.23 1545.82 1959.84 1545.82 Q1963.47 1545.82 1965.28 1542.27 Q1967.11 1538.71 1967.11 1531.6 Q1967.11 1524.47 1965.28 1520.93 Q1963.47 1517.37 1959.84 1517.37 M1959.84 1513.66 Q1965.65 1513.66 1968.71 1518.27 Q1971.78 1522.85 1971.78 1531.6 Q1971.78 1540.33 1968.71 1544.94 Q1965.65 1549.52 1959.84 1549.52 Q1954.03 1549.52 1950.95 1544.94 Q1947.9 1540.33 1947.9 1531.6 Q1947.9 1522.85 1950.95 1518.27 Q1954.03 1513.66 1959.84 1513.66 Z\" fill=\"#000000\" fill-rule=\"nonzero\" fill-opacity=\"1\" /><path clip-path=\"url(#clip380)\" d=\"M2276.85 1529.7 Q2273.7 1529.7 2271.85 1531.86 Q2270.02 1534.01 2270.02 1537.76 Q2270.02 1541.49 2271.85 1543.66 Q2273.7 1545.82 2276.85 1545.82 Q2279.99 1545.82 2281.82 1543.66 Q2283.67 1541.49 2283.67 1537.76 Q2283.67 1534.01 2281.82 1531.86 Q2279.99 1529.7 2276.85 1529.7 M2286.13 1515.05 L2286.13 1519.31 Q2284.37 1518.48 2282.56 1518.04 Q2280.78 1517.6 2279.02 1517.6 Q2274.39 1517.6 2271.94 1520.72 Q2269.51 1523.85 2269.16 1530.17 Q2270.53 1528.15 2272.59 1527.09 Q2274.65 1526 2277.12 1526 Q2282.33 1526 2285.34 1529.17 Q2288.37 1532.32 2288.37 1537.76 Q2288.37 1543.08 2285.23 1546.3 Q2282.08 1549.52 2276.85 1549.52 Q2270.85 1549.52 2267.68 1544.94 Q2264.51 1540.33 2264.51 1531.6 Q2264.51 1523.41 2268.4 1518.55 Q2272.29 1513.66 2278.84 1513.66 Q2280.6 1513.66 2282.38 1514.01 Q2284.18 1514.36 2286.13 1515.05 Z\" fill=\"#000000\" fill-rule=\"nonzero\" fill-opacity=\"1\" /><path clip-path=\"url(#clip380)\" d=\"M2306.43 1517.37 Q2302.82 1517.37 2300.99 1520.93 Q2299.18 1524.47 2299.18 1531.6 Q2299.18 1538.71 2300.99 1542.27 Q2302.82 1545.82 2306.43 1545.82 Q2310.06 1545.82 2311.87 1542.27 Q2313.7 1538.71 2313.7 1531.6 Q2313.7 1524.47 2311.87 1520.93 Q2310.06 1517.37 2306.43 1517.37 M2306.43 1513.66 Q2312.24 1513.66 2315.29 1518.27 Q2318.37 1522.85 2318.37 1531.6 Q2318.37 1540.33 2315.29 1544.94 Q2312.24 1549.52 2306.43 1549.52 Q2300.62 1549.52 2297.54 1544.94 Q2294.48 1540.33 2294.48 1531.6 Q2294.48 1522.85 2297.54 1518.27 Q2300.62 1513.66 2306.43 1513.66 Z\" fill=\"#000000\" fill-rule=\"nonzero\" fill-opacity=\"1\" /><polyline clip-path=\"url(#clip382)\" style=\"stroke:#000000; stroke-linecap:round; stroke-linejoin:round; stroke-width:2; stroke-opacity:0.1; fill:none\" points=\"186.274,1445.72 2352.76,1445.72 \"/>\n",
       "<polyline clip-path=\"url(#clip382)\" style=\"stroke:#000000; stroke-linecap:round; stroke-linejoin:round; stroke-width:2; stroke-opacity:0.1; fill:none\" points=\"186.274,1104.2 2352.76,1104.2 \"/>\n",
       "<polyline clip-path=\"url(#clip382)\" style=\"stroke:#000000; stroke-linecap:round; stroke-linejoin:round; stroke-width:2; stroke-opacity:0.1; fill:none\" points=\"186.274,762.679 2352.76,762.679 \"/>\n",
       "<polyline clip-path=\"url(#clip382)\" style=\"stroke:#000000; stroke-linecap:round; stroke-linejoin:round; stroke-width:2; stroke-opacity:0.1; fill:none\" points=\"186.274,421.161 2352.76,421.161 \"/>\n",
       "<polyline clip-path=\"url(#clip382)\" style=\"stroke:#000000; stroke-linecap:round; stroke-linejoin:round; stroke-width:2; stroke-opacity:0.1; fill:none\" points=\"186.274,79.6432 2352.76,79.6432 \"/>\n",
       "<polyline clip-path=\"url(#clip380)\" style=\"stroke:#000000; stroke-linecap:round; stroke-linejoin:round; stroke-width:4; stroke-opacity:1; fill:none\" points=\"186.274,1486.45 186.274,47.2441 \"/>\n",
       "<polyline clip-path=\"url(#clip380)\" style=\"stroke:#000000; stroke-linecap:round; stroke-linejoin:round; stroke-width:4; stroke-opacity:1; fill:none\" points=\"186.274,1445.72 205.172,1445.72 \"/>\n",
       "<polyline clip-path=\"url(#clip380)\" style=\"stroke:#000000; stroke-linecap:round; stroke-linejoin:round; stroke-width:4; stroke-opacity:1; fill:none\" points=\"186.274,1104.2 205.172,1104.2 \"/>\n",
       "<polyline clip-path=\"url(#clip380)\" style=\"stroke:#000000; stroke-linecap:round; stroke-linejoin:round; stroke-width:4; stroke-opacity:1; fill:none\" points=\"186.274,762.679 205.172,762.679 \"/>\n",
       "<polyline clip-path=\"url(#clip380)\" style=\"stroke:#000000; stroke-linecap:round; stroke-linejoin:round; stroke-width:4; stroke-opacity:1; fill:none\" points=\"186.274,421.161 205.172,421.161 \"/>\n",
       "<polyline clip-path=\"url(#clip380)\" style=\"stroke:#000000; stroke-linecap:round; stroke-linejoin:round; stroke-width:4; stroke-opacity:1; fill:none\" points=\"186.274,79.6432 205.172,79.6432 \"/>\n",
       "<path clip-path=\"url(#clip380)\" d=\"M62.9365 1431.51 Q59.3254 1431.51 57.4967 1435.08 Q55.6912 1438.62 55.6912 1445.75 Q55.6912 1452.86 57.4967 1456.42 Q59.3254 1459.96 62.9365 1459.96 Q66.5707 1459.96 68.3763 1456.42 Q70.205 1452.86 70.205 1445.75 Q70.205 1438.62 68.3763 1435.08 Q66.5707 1431.51 62.9365 1431.51 M62.9365 1427.81 Q68.7467 1427.81 71.8022 1432.42 Q74.8809 1437 74.8809 1445.75 Q74.8809 1454.48 71.8022 1459.08 Q68.7467 1463.67 62.9365 1463.67 Q57.1264 1463.67 54.0477 1459.08 Q50.9921 1454.48 50.9921 1445.75 Q50.9921 1437 54.0477 1432.42 Q57.1264 1427.81 62.9365 1427.81 Z\" fill=\"#000000\" fill-rule=\"nonzero\" fill-opacity=\"1\" /><path clip-path=\"url(#clip380)\" d=\"M83.0984 1457.12 L87.9827 1457.12 L87.9827 1463 L83.0984 1463 L83.0984 1457.12 Z\" fill=\"#000000\" fill-rule=\"nonzero\" fill-opacity=\"1\" /><path clip-path=\"url(#clip380)\" d=\"M108.168 1431.51 Q104.557 1431.51 102.728 1435.08 Q100.922 1438.62 100.922 1445.75 Q100.922 1452.86 102.728 1456.42 Q104.557 1459.96 108.168 1459.96 Q111.802 1459.96 113.608 1456.42 Q115.436 1452.86 115.436 1445.75 Q115.436 1438.62 113.608 1435.08 Q111.802 1431.51 108.168 1431.51 M108.168 1427.81 Q113.978 1427.81 117.033 1432.42 Q120.112 1437 120.112 1445.75 Q120.112 1454.48 117.033 1459.08 Q113.978 1463.67 108.168 1463.67 Q102.358 1463.67 99.2789 1459.08 Q96.2234 1454.48 96.2234 1445.75 Q96.2234 1437 99.2789 1432.42 Q102.358 1427.81 108.168 1427.81 Z\" fill=\"#000000\" fill-rule=\"nonzero\" fill-opacity=\"1\" /><path clip-path=\"url(#clip380)\" d=\"M138.33 1431.51 Q134.719 1431.51 132.89 1435.08 Q131.084 1438.62 131.084 1445.75 Q131.084 1452.86 132.89 1456.42 Q134.719 1459.96 138.33 1459.96 Q141.964 1459.96 143.769 1456.42 Q145.598 1452.86 145.598 1445.75 Q145.598 1438.62 143.769 1435.08 Q141.964 1431.51 138.33 1431.51 M138.33 1427.81 Q144.14 1427.81 147.195 1432.42 Q150.274 1437 150.274 1445.75 Q150.274 1454.48 147.195 1459.08 Q144.14 1463.67 138.33 1463.67 Q132.519 1463.67 129.441 1459.08 Q126.385 1454.48 126.385 1445.75 Q126.385 1437 129.441 1432.42 Q132.519 1427.81 138.33 1427.81 Z\" fill=\"#000000\" fill-rule=\"nonzero\" fill-opacity=\"1\" /><path clip-path=\"url(#clip380)\" d=\"M63.9319 1090 Q60.3208 1090 58.4921 1093.56 Q56.6865 1097.1 56.6865 1104.23 Q56.6865 1111.34 58.4921 1114.9 Q60.3208 1118.45 63.9319 1118.45 Q67.5661 1118.45 69.3717 1114.9 Q71.2004 1111.34 71.2004 1104.23 Q71.2004 1097.1 69.3717 1093.56 Q67.5661 1090 63.9319 1090 M63.9319 1086.29 Q69.742 1086.29 72.7976 1090.9 Q75.8763 1095.48 75.8763 1104.23 Q75.8763 1112.96 72.7976 1117.57 Q69.742 1122.15 63.9319 1122.15 Q58.1217 1122.15 55.043 1117.57 Q51.9875 1112.96 51.9875 1104.23 Q51.9875 1095.48 55.043 1090.9 Q58.1217 1086.29 63.9319 1086.29 Z\" fill=\"#000000\" fill-rule=\"nonzero\" fill-opacity=\"1\" /><path clip-path=\"url(#clip380)\" d=\"M84.0938 1115.6 L88.978 1115.6 L88.978 1121.48 L84.0938 1121.48 L84.0938 1115.6 Z\" fill=\"#000000\" fill-rule=\"nonzero\" fill-opacity=\"1\" /><path clip-path=\"url(#clip380)\" d=\"M103.191 1117.54 L119.51 1117.54 L119.51 1121.48 L97.566 1121.48 L97.566 1117.54 Q100.228 1114.79 104.811 1110.16 Q109.418 1105.51 110.598 1104.16 Q112.844 1101.64 113.723 1099.9 Q114.626 1098.14 114.626 1096.45 Q114.626 1093.7 112.682 1091.96 Q110.76 1090.23 107.658 1090.23 Q105.459 1090.23 103.006 1090.99 Q100.575 1091.76 97.7974 1093.31 L97.7974 1088.58 Q100.621 1087.45 103.075 1086.87 Q105.529 1086.29 107.566 1086.29 Q112.936 1086.29 116.131 1088.98 Q119.325 1091.66 119.325 1096.15 Q119.325 1098.28 118.515 1100.2 Q117.728 1102.1 115.621 1104.7 Q115.043 1105.37 111.941 1108.58 Q108.839 1111.78 103.191 1117.54 Z\" fill=\"#000000\" fill-rule=\"nonzero\" fill-opacity=\"1\" /><path clip-path=\"url(#clip380)\" d=\"M129.371 1086.92 L147.728 1086.92 L147.728 1090.85 L133.654 1090.85 L133.654 1099.32 Q134.672 1098.98 135.691 1098.82 Q136.709 1098.63 137.728 1098.63 Q143.515 1098.63 146.894 1101.8 Q150.274 1104.97 150.274 1110.39 Q150.274 1115.97 146.802 1119.07 Q143.33 1122.15 137.01 1122.15 Q134.834 1122.15 132.566 1121.78 Q130.32 1121.41 127.913 1120.67 L127.913 1115.97 Q129.996 1117.1 132.219 1117.66 Q134.441 1118.21 136.918 1118.21 Q140.922 1118.21 143.26 1116.11 Q145.598 1114 145.598 1110.39 Q145.598 1106.78 143.26 1104.67 Q140.922 1102.57 136.918 1102.57 Q135.043 1102.57 133.168 1102.98 Q131.316 1103.4 129.371 1104.28 L129.371 1086.92 Z\" fill=\"#000000\" fill-rule=\"nonzero\" fill-opacity=\"1\" /><path clip-path=\"url(#clip380)\" d=\"M62.9365 748.478 Q59.3254 748.478 57.4967 752.043 Q55.6912 755.585 55.6912 762.714 Q55.6912 769.821 57.4967 773.385 Q59.3254 776.927 62.9365 776.927 Q66.5707 776.927 68.3763 773.385 Q70.205 769.821 70.205 762.714 Q70.205 755.585 68.3763 752.043 Q66.5707 748.478 62.9365 748.478 M62.9365 744.774 Q68.7467 744.774 71.8022 749.381 Q74.8809 753.964 74.8809 762.714 Q74.8809 771.441 71.8022 776.047 Q68.7467 780.631 62.9365 780.631 Q57.1264 780.631 54.0477 776.047 Q50.9921 771.441 50.9921 762.714 Q50.9921 753.964 54.0477 749.381 Q57.1264 744.774 62.9365 744.774 Z\" fill=\"#000000\" fill-rule=\"nonzero\" fill-opacity=\"1\" /><path clip-path=\"url(#clip380)\" d=\"M83.0984 774.08 L87.9827 774.08 L87.9827 779.959 L83.0984 779.959 L83.0984 774.08 Z\" fill=\"#000000\" fill-rule=\"nonzero\" fill-opacity=\"1\" /><path clip-path=\"url(#clip380)\" d=\"M98.2141 745.399 L116.57 745.399 L116.57 749.335 L102.496 749.335 L102.496 757.807 Q103.515 757.46 104.534 757.298 Q105.552 757.112 106.571 757.112 Q112.358 757.112 115.737 760.284 Q119.117 763.455 119.117 768.872 Q119.117 774.45 115.645 777.552 Q112.172 780.631 105.853 780.631 Q103.677 780.631 101.409 780.26 Q99.1632 779.89 96.7558 779.149 L96.7558 774.45 Q98.8391 775.584 101.061 776.14 Q103.284 776.696 105.76 776.696 Q109.765 776.696 112.103 774.589 Q114.441 772.483 114.441 768.872 Q114.441 765.26 112.103 763.154 Q109.765 761.048 105.76 761.048 Q103.885 761.048 102.01 761.464 Q100.159 761.881 98.2141 762.76 L98.2141 745.399 Z\" fill=\"#000000\" fill-rule=\"nonzero\" fill-opacity=\"1\" /><path clip-path=\"url(#clip380)\" d=\"M138.33 748.478 Q134.719 748.478 132.89 752.043 Q131.084 755.585 131.084 762.714 Q131.084 769.821 132.89 773.385 Q134.719 776.927 138.33 776.927 Q141.964 776.927 143.769 773.385 Q145.598 769.821 145.598 762.714 Q145.598 755.585 143.769 752.043 Q141.964 748.478 138.33 748.478 M138.33 744.774 Q144.14 744.774 147.195 749.381 Q150.274 753.964 150.274 762.714 Q150.274 771.441 147.195 776.047 Q144.14 780.631 138.33 780.631 Q132.519 780.631 129.441 776.047 Q126.385 771.441 126.385 762.714 Q126.385 753.964 129.441 749.381 Q132.519 744.774 138.33 744.774 Z\" fill=\"#000000\" fill-rule=\"nonzero\" fill-opacity=\"1\" /><path clip-path=\"url(#clip380)\" d=\"M63.9319 406.96 Q60.3208 406.96 58.4921 410.525 Q56.6865 414.066 56.6865 421.196 Q56.6865 428.303 58.4921 431.867 Q60.3208 435.409 63.9319 435.409 Q67.5661 435.409 69.3717 431.867 Q71.2004 428.303 71.2004 421.196 Q71.2004 414.066 69.3717 410.525 Q67.5661 406.96 63.9319 406.96 M63.9319 403.256 Q69.742 403.256 72.7976 407.863 Q75.8763 412.446 75.8763 421.196 Q75.8763 429.923 72.7976 434.529 Q69.742 439.113 63.9319 439.113 Q58.1217 439.113 55.043 434.529 Q51.9875 429.923 51.9875 421.196 Q51.9875 412.446 55.043 407.863 Q58.1217 403.256 63.9319 403.256 Z\" fill=\"#000000\" fill-rule=\"nonzero\" fill-opacity=\"1\" /><path clip-path=\"url(#clip380)\" d=\"M84.0938 432.562 L88.978 432.562 L88.978 438.441 L84.0938 438.441 L84.0938 432.562 Z\" fill=\"#000000\" fill-rule=\"nonzero\" fill-opacity=\"1\" /><path clip-path=\"url(#clip380)\" d=\"M97.9826 403.881 L120.205 403.881 L120.205 405.872 L107.658 438.441 L102.774 438.441 L114.58 407.817 L97.9826 407.817 L97.9826 403.881 Z\" fill=\"#000000\" fill-rule=\"nonzero\" fill-opacity=\"1\" /><path clip-path=\"url(#clip380)\" d=\"M129.371 403.881 L147.728 403.881 L147.728 407.817 L133.654 407.817 L133.654 416.289 Q134.672 415.941 135.691 415.779 Q136.709 415.594 137.728 415.594 Q143.515 415.594 146.894 418.766 Q150.274 421.937 150.274 427.353 Q150.274 432.932 146.802 436.034 Q143.33 439.113 137.01 439.113 Q134.834 439.113 132.566 438.742 Q130.32 438.372 127.913 437.631 L127.913 432.932 Q129.996 434.066 132.219 434.622 Q134.441 435.177 136.918 435.177 Q140.922 435.177 143.26 433.071 Q145.598 430.965 145.598 427.353 Q145.598 423.742 143.26 421.636 Q140.922 419.529 136.918 419.529 Q135.043 419.529 133.168 419.946 Q131.316 420.363 129.371 421.242 L129.371 403.881 Z\" fill=\"#000000\" fill-rule=\"nonzero\" fill-opacity=\"1\" /><path clip-path=\"url(#clip380)\" d=\"M53.7467 92.9881 L61.3856 92.9881 L61.3856 66.6225 L53.0754 68.2891 L53.0754 64.0299 L61.3393 62.3632 L66.0152 62.3632 L66.0152 92.9881 L73.654 92.9881 L73.654 96.9232 L53.7467 96.9232 L53.7467 92.9881 Z\" fill=\"#000000\" fill-rule=\"nonzero\" fill-opacity=\"1\" /><path clip-path=\"url(#clip380)\" d=\"M83.0984 91.0436 L87.9827 91.0436 L87.9827 96.9232 L83.0984 96.9232 L83.0984 91.0436 Z\" fill=\"#000000\" fill-rule=\"nonzero\" fill-opacity=\"1\" /><path clip-path=\"url(#clip380)\" d=\"M108.168 65.4419 Q104.557 65.4419 102.728 69.0067 Q100.922 72.5484 100.922 79.678 Q100.922 86.7844 102.728 90.3492 Q104.557 93.8908 108.168 93.8908 Q111.802 93.8908 113.608 90.3492 Q115.436 86.7844 115.436 79.678 Q115.436 72.5484 113.608 69.0067 Q111.802 65.4419 108.168 65.4419 M108.168 61.7382 Q113.978 61.7382 117.033 66.3447 Q120.112 70.928 120.112 79.678 Q120.112 88.4048 117.033 93.0112 Q113.978 97.5945 108.168 97.5945 Q102.358 97.5945 99.2789 93.0112 Q96.2234 88.4048 96.2234 79.678 Q96.2234 70.928 99.2789 66.3447 Q102.358 61.7382 108.168 61.7382 Z\" fill=\"#000000\" fill-rule=\"nonzero\" fill-opacity=\"1\" /><path clip-path=\"url(#clip380)\" d=\"M138.33 65.4419 Q134.719 65.4419 132.89 69.0067 Q131.084 72.5484 131.084 79.678 Q131.084 86.7844 132.89 90.3492 Q134.719 93.8908 138.33 93.8908 Q141.964 93.8908 143.769 90.3492 Q145.598 86.7844 145.598 79.678 Q145.598 72.5484 143.769 69.0067 Q141.964 65.4419 138.33 65.4419 M138.33 61.7382 Q144.14 61.7382 147.195 66.3447 Q150.274 70.928 150.274 79.678 Q150.274 88.4048 147.195 93.0112 Q144.14 97.5945 138.33 97.5945 Q132.519 97.5945 129.441 93.0112 Q126.385 88.4048 126.385 79.678 Q126.385 70.928 129.441 66.3447 Q132.519 61.7382 138.33 61.7382 Z\" fill=\"#000000\" fill-rule=\"nonzero\" fill-opacity=\"1\" /><polyline clip-path=\"url(#clip382)\" style=\"stroke:#009af9; stroke-linecap:round; stroke-linejoin:round; stroke-width:4; stroke-opacity:1; fill:none\" points=\"247.59,1445.72 282.231,1442.85 316.873,1433.69 351.514,1421.81 386.156,1406.24 420.797,1394.49 455.439,1371.26 490.08,1342.85 524.722,1318.94 559.363,1281.92 594.005,1257.88 628.646,1222.77 663.288,1187.66 697.93,1143.54 732.571,1097.5 767.213,1053.52 801.854,1023.74 836.496,967.317 871.137,921.554 905.779,878.249 940.42,845.737 975.062,803.798 1009.7,749.565 1044.34,713.228 1078.99,663.093 1113.63,629.897 1148.27,575.801 1182.91,553.67 1217.55,531.95 1252.19,477.99 1286.84,451.625 1321.48,413.921 1356.12,395.889 1390.76,366.109 1425.4,326.493 1460.04,308.051 1494.68,284.144 1529.33,262.424 1563.97,243.026 1598.61,229.501 1633.25,209.83 1667.89,196.716 1702.53,182.372 1737.18,173.219 1771.82,157.373 1806.46,146.991 1841.1,139.75 1875.74,131.144 1910.38,127.456 1945.02,121.172 1979.67,112.839 2014.31,111.473 2048.95,104.506 2083.59,100.408 2118.23,96.5825 2152.87,94.2602 2187.52,94.2602 2222.16,90.845 2256.8,91.1182 2291.44,87.9763 \"/>\n",
       "<path clip-path=\"url(#clip380)\" d=\"M258.49 198.898 L527.569 198.898 L527.569 95.2176 L258.49 95.2176  Z\" fill=\"#ffffff\" fill-rule=\"evenodd\" fill-opacity=\"1\"/>\n",
       "<polyline clip-path=\"url(#clip380)\" style=\"stroke:#000000; stroke-linecap:round; stroke-linejoin:round; stroke-width:4; stroke-opacity:1; fill:none\" points=\"258.49,198.898 527.569,198.898 527.569,95.2176 258.49,95.2176 258.49,198.898 \"/>\n",
       "<polyline clip-path=\"url(#clip380)\" style=\"stroke:#009af9; stroke-linecap:round; stroke-linejoin:round; stroke-width:4; stroke-opacity:1; fill:none\" points=\"282.562,147.058 426.994,147.058 \"/>\n",
       "<path clip-path=\"url(#clip380)\" d=\"M464.909 166.745 Q463.103 171.375 461.39 172.787 Q459.677 174.199 456.807 174.199 L453.404 174.199 L453.404 170.634 L455.904 170.634 Q457.663 170.634 458.636 169.8 Q459.608 168.967 460.788 165.865 L461.552 163.921 L451.066 138.412 L455.58 138.412 L463.682 158.689 L471.784 138.412 L476.298 138.412 L464.909 166.745 Z\" fill=\"#000000\" fill-rule=\"nonzero\" fill-opacity=\"1\" /><path clip-path=\"url(#clip380)\" d=\"M483.589 160.402 L491.228 160.402 L491.228 134.037 L482.918 135.703 L482.918 131.444 L491.182 129.778 L495.858 129.778 L495.858 160.402 L503.497 160.402 L503.497 164.338 L483.589 164.338 L483.589 160.402 Z\" fill=\"#000000\" fill-rule=\"nonzero\" fill-opacity=\"1\" /></svg>\n"
      ]
     },
     "metadata": {},
     "output_type": "display_data"
    }
   ],
   "source": [
    "map(compute_prob, 1:60) |> plot"
   ]
  },
  {
   "attachments": {},
   "cell_type": "markdown",
   "metadata": {},
   "source": [
    "The function we just defined uses a Monte Carlo simulation,\n",
    "but we can use what we've learned about probability theory\n",
    "to compute the exact value.\n",
    "Not only do we get the exact answer using math,\n",
    "but the computations are much faster since we\n",
    "don't have to generate experiments.\n",
    "We simply get a number.\n",
    "To make the math simpler for this particular problem,\n",
    "instead of computing the probability of it happening,\n",
    "we'll compute the probability of it not happening,\n",
    "and then we can use the multiplication rule.\n",
    "Let's start with the first person.\n",
    "The probability that person 1 has a unique birthday is 1, of course.\n",
    "All right.\n",
    "Now let's move on to the second one.\n",
    "The probability that the second person has\n",
    "a unique birthday given that person 1 already took one of the days\n",
    "is 364 divided by 365.\n",
    "Then for a person 3, given that the first two people already\n",
    "have unique birthdays, that leaves 363.\n",
    "So now that probability is 363 divided by 365.\n",
    "If we continue this way and find the chances of all,\n",
    "say, 50 people having unique birthdays, we would multiply 1 times 364 divided\n",
    "by 365, times 363 divided by 365, dot dot\n",
    "dot, all the way to the 50th element."
   ]
  },
  {
   "attachments": {},
   "cell_type": "markdown",
   "metadata": {},
   "source": [
    "$$Pr(\\text{person 1 has a unique birthday}) = 1$$\n",
    "\n",
    "$$Pr(\\text{person 2 has a unique birthday} \\text{ | } \\text{person 1 has a unique birthday}) = \\frac{364}{365}$$\n",
    "\n",
    "$$Pr(\\text{person 3 has a unique birthday} \\text{ | } \\text{person 1 has a unique birthday} \\text{ and } \\text{person 2 has a unique birthday}) = \\frac{363}{365}$$\n"
   ]
  },
  {
   "attachments": {},
   "cell_type": "markdown",
   "metadata": {},
   "source": [
    "Now, we can easily write a function that does this.\n",
    "This time we'll call it exact prob.\n",
    "It takes n as a argument, and it computes\n",
    "this probability using this simple code."
   ]
  },
  {
   "cell_type": "code",
   "execution_count": 35,
   "metadata": {},
   "outputs": [
    {
     "data": {
      "text/plain": [
       "exact_prob (generic function with 1 method)"
      ]
     },
     "metadata": {},
     "output_type": "display_data"
    }
   ],
   "source": [
    "\n",
    "\n",
    "function exact_prob(n::Int)\n",
    "    prob_unique = [(365 - i) / 365 for i in 0:(n-1)]\n",
    "    return 1 - prod(prob_unique)\n",
    "end\n",
    "  \n",
    "\n",
    " \n"
   ]
  },
  {
   "cell_type": "code",
   "execution_count": 36,
   "metadata": {},
   "outputs": [
    {
     "data": {
      "text/plain": [
       "0.9703735795779884"
      ]
     },
     "metadata": {},
     "output_type": "display_data"
    }
   ],
   "source": [
    "exact_prob(50)"
   ]
  },
  {
   "cell_type": "code",
   "execution_count": 37,
   "metadata": {},
   "outputs": [
    {
     "data": {
      "image/png": "[encoded data removed]",
      "image/svg+xml": [
       "<?xml version=\"1.0\" encoding=\"utf-8\"?>\n",
       "<svg xmlns=\"http://www.w3.org/2000/svg\" xmlns:xlink=\"http://www.w3.org/1999/xlink\" width=\"600\" height=\"400\" viewBox=\"0 0 2400 1600\">\n",
       "<defs>\n",
       "  <clipPath id=\"clip420\">\n",
       "    <rect x=\"0\" y=\"0\" width=\"2400\" height=\"1600\"/>\n",
       "  </clipPath>\n",
       "</defs>\n",
       "<path clip-path=\"url(#clip420)\" d=\"M0 1600 L2400 1600 L2400 0 L0 0  Z\" fill=\"#ffffff\" fill-rule=\"evenodd\" fill-opacity=\"1\"/>\n",
       "<defs>\n",
       "  <clipPath id=\"clip421\">\n",
       "    <rect x=\"480\" y=\"0\" width=\"1681\" height=\"1600\"/>\n",
       "  </clipPath>\n",
       "</defs>\n",
       "<path clip-path=\"url(#clip420)\" d=\"M186.274 1486.45 L2352.76 1486.45 L2352.76 47.2441 L186.274 47.2441  Z\" fill=\"#ffffff\" fill-rule=\"evenodd\" fill-opacity=\"1\"/>\n",
       "<defs>\n",
       "  <clipPath id=\"clip422\">\n",
       "    <rect x=\"186\" y=\"47\" width=\"2167\" height=\"1440\"/>\n",
       "  </clipPath>\n",
       "</defs>\n",
       "<polyline clip-path=\"url(#clip422)\" style=\"stroke:#000000; stroke-linecap:round; stroke-linejoin:round; stroke-width:2; stroke-opacity:0.1; fill:none\" points=\"212.948,1486.45 212.948,47.2441 \"/>\n",
       "<polyline clip-path=\"url(#clip422)\" style=\"stroke:#000000; stroke-linecap:round; stroke-linejoin:round; stroke-width:2; stroke-opacity:0.1; fill:none\" points=\"559.363,1486.45 559.363,47.2441 \"/>\n",
       "<polyline clip-path=\"url(#clip422)\" style=\"stroke:#000000; stroke-linecap:round; stroke-linejoin:round; stroke-width:2; stroke-opacity:0.1; fill:none\" points=\"905.779,1486.45 905.779,47.2441 \"/>\n",
       "<polyline clip-path=\"url(#clip422)\" style=\"stroke:#000000; stroke-linecap:round; stroke-linejoin:round; stroke-width:2; stroke-opacity:0.1; fill:none\" points=\"1252.19,1486.45 1252.19,47.2441 \"/>\n",
       "<polyline clip-path=\"url(#clip422)\" style=\"stroke:#000000; stroke-linecap:round; stroke-linejoin:round; stroke-width:2; stroke-opacity:0.1; fill:none\" points=\"1598.61,1486.45 1598.61,47.2441 \"/>\n",
       "<polyline clip-path=\"url(#clip422)\" style=\"stroke:#000000; stroke-linecap:round; stroke-linejoin:round; stroke-width:2; stroke-opacity:0.1; fill:none\" points=\"1945.02,1486.45 1945.02,47.2441 \"/>\n",
       "<polyline clip-path=\"url(#clip422)\" style=\"stroke:#000000; stroke-linecap:round; stroke-linejoin:round; stroke-width:2; stroke-opacity:0.1; fill:none\" points=\"2291.44,1486.45 2291.44,47.2441 \"/>\n",
       "<polyline clip-path=\"url(#clip420)\" style=\"stroke:#000000; stroke-linecap:round; stroke-linejoin:round; stroke-width:4; stroke-opacity:1; fill:none\" points=\"186.274,1486.45 2352.76,1486.45 \"/>\n",
       "<polyline clip-path=\"url(#clip420)\" style=\"stroke:#000000; stroke-linecap:round; stroke-linejoin:round; stroke-width:4; stroke-opacity:1; fill:none\" points=\"212.948,1486.45 212.948,1467.55 \"/>\n",
       "<polyline clip-path=\"url(#clip420)\" style=\"stroke:#000000; stroke-linecap:round; stroke-linejoin:round; stroke-width:4; stroke-opacity:1; fill:none\" points=\"559.363,1486.45 559.363,1467.55 \"/>\n",
       "<polyline clip-path=\"url(#clip420)\" style=\"stroke:#000000; stroke-linecap:round; stroke-linejoin:round; stroke-width:4; stroke-opacity:1; fill:none\" points=\"905.779,1486.45 905.779,1467.55 \"/>\n",
       "<polyline clip-path=\"url(#clip420)\" style=\"stroke:#000000; stroke-linecap:round; stroke-linejoin:round; stroke-width:4; stroke-opacity:1; fill:none\" points=\"1252.19,1486.45 1252.19,1467.55 \"/>\n",
       "<polyline clip-path=\"url(#clip420)\" style=\"stroke:#000000; stroke-linecap:round; stroke-linejoin:round; stroke-width:4; stroke-opacity:1; fill:none\" points=\"1598.61,1486.45 1598.61,1467.55 \"/>\n",
       "<polyline clip-path=\"url(#clip420)\" style=\"stroke:#000000; stroke-linecap:round; stroke-linejoin:round; stroke-width:4; stroke-opacity:1; fill:none\" points=\"1945.02,1486.45 1945.02,1467.55 \"/>\n",
       "<polyline clip-path=\"url(#clip420)\" style=\"stroke:#000000; stroke-linecap:round; stroke-linejoin:round; stroke-width:4; stroke-opacity:1; fill:none\" points=\"2291.44,1486.45 2291.44,1467.55 \"/>\n",
       "<path clip-path=\"url(#clip420)\" d=\"M212.948 1517.37 Q209.337 1517.37 207.508 1520.93 Q205.703 1524.47 205.703 1531.6 Q205.703 1538.71 207.508 1542.27 Q209.337 1545.82 212.948 1545.82 Q216.582 1545.82 218.388 1542.27 Q220.216 1538.71 220.216 1531.6 Q220.216 1524.47 218.388 1520.93 Q216.582 1517.37 212.948 1517.37 M212.948 1513.66 Q218.758 1513.66 221.814 1518.27 Q224.892 1522.85 224.892 1531.6 Q224.892 1540.33 221.814 1544.94 Q218.758 1549.52 212.948 1549.52 Q207.138 1549.52 204.059 1544.94 Q201.004 1540.33 201.004 1531.6 Q201.004 1522.85 204.059 1518.27 Q207.138 1513.66 212.948 1513.66 Z\" fill=\"#000000\" fill-rule=\"nonzero\" fill-opacity=\"1\" /><path clip-path=\"url(#clip420)\" d=\"M534.051 1544.91 L541.69 1544.91 L541.69 1518.55 L533.38 1520.21 L533.38 1515.95 L541.644 1514.29 L546.319 1514.29 L546.319 1544.91 L553.958 1544.91 L553.958 1548.85 L534.051 1548.85 L534.051 1544.91 Z\" fill=\"#000000\" fill-rule=\"nonzero\" fill-opacity=\"1\" /><path clip-path=\"url(#clip420)\" d=\"M573.403 1517.37 Q569.792 1517.37 567.963 1520.93 Q566.157 1524.47 566.157 1531.6 Q566.157 1538.71 567.963 1542.27 Q569.792 1545.82 573.403 1545.82 Q577.037 1545.82 578.842 1542.27 Q580.671 1538.71 580.671 1531.6 Q580.671 1524.47 578.842 1520.93 Q577.037 1517.37 573.403 1517.37 M573.403 1513.66 Q579.213 1513.66 582.268 1518.27 Q585.347 1522.85 585.347 1531.6 Q585.347 1540.33 582.268 1544.94 Q579.213 1549.52 573.403 1549.52 Q567.593 1549.52 564.514 1544.94 Q561.458 1540.33 561.458 1531.6 Q561.458 1522.85 564.514 1518.27 Q567.593 1513.66 573.403 1513.66 Z\" fill=\"#000000\" fill-rule=\"nonzero\" fill-opacity=\"1\" /><path clip-path=\"url(#clip420)\" d=\"M884.552 1544.91 L900.871 1544.91 L900.871 1548.85 L878.927 1548.85 L878.927 1544.91 Q881.589 1542.16 886.172 1537.53 Q890.779 1532.88 891.959 1531.53 Q894.205 1529.01 895.084 1527.27 Q895.987 1525.51 895.987 1523.82 Q895.987 1521.07 894.043 1519.33 Q892.121 1517.6 889.02 1517.6 Q886.821 1517.6 884.367 1518.36 Q881.936 1519.13 879.159 1520.68 L879.159 1515.95 Q881.983 1514.82 884.436 1514.24 Q886.89 1513.66 888.927 1513.66 Q894.297 1513.66 897.492 1516.35 Q900.686 1519.03 900.686 1523.52 Q900.686 1525.65 899.876 1527.57 Q899.089 1529.47 896.983 1532.07 Q896.404 1532.74 893.302 1535.95 Q890.2 1539.15 884.552 1544.91 Z\" fill=\"#000000\" fill-rule=\"nonzero\" fill-opacity=\"1\" /><path clip-path=\"url(#clip420)\" d=\"M920.686 1517.37 Q917.075 1517.37 915.246 1520.93 Q913.441 1524.47 913.441 1531.6 Q913.441 1538.71 915.246 1542.27 Q917.075 1545.82 920.686 1545.82 Q924.32 1545.82 926.126 1542.27 Q927.955 1538.71 927.955 1531.6 Q927.955 1524.47 926.126 1520.93 Q924.32 1517.37 920.686 1517.37 M920.686 1513.66 Q926.496 1513.66 929.552 1518.27 Q932.63 1522.85 932.63 1531.6 Q932.63 1540.33 929.552 1544.94 Q926.496 1549.52 920.686 1549.52 Q914.876 1549.52 911.797 1544.94 Q908.742 1540.33 908.742 1531.6 Q908.742 1522.85 911.797 1518.27 Q914.876 1513.66 920.686 1513.66 Z\" fill=\"#000000\" fill-rule=\"nonzero\" fill-opacity=\"1\" /><path clip-path=\"url(#clip420)\" d=\"M1241.04 1530.21 Q1244.39 1530.93 1246.27 1533.2 Q1248.17 1535.47 1248.17 1538.8 Q1248.17 1543.92 1244.65 1546.72 Q1241.13 1549.52 1234.65 1549.52 Q1232.47 1549.52 1230.16 1549.08 Q1227.87 1548.66 1225.41 1547.81 L1225.41 1543.29 Q1227.36 1544.43 1229.67 1545.01 Q1231.99 1545.58 1234.51 1545.58 Q1238.91 1545.58 1241.2 1543.85 Q1243.51 1542.11 1243.51 1538.8 Q1243.51 1535.75 1241.36 1534.03 Q1239.23 1532.3 1235.41 1532.3 L1231.38 1532.3 L1231.38 1528.45 L1235.6 1528.45 Q1239.05 1528.45 1240.87 1527.09 Q1242.7 1525.7 1242.7 1523.11 Q1242.7 1520.45 1240.81 1519.03 Q1238.93 1517.6 1235.41 1517.6 Q1233.49 1517.6 1231.29 1518.01 Q1229.09 1518.43 1226.45 1519.31 L1226.45 1515.14 Q1229.12 1514.4 1231.43 1514.03 Q1233.77 1513.66 1235.83 1513.66 Q1241.15 1513.66 1244.25 1516.09 Q1247.36 1518.5 1247.36 1522.62 Q1247.36 1525.49 1245.71 1527.48 Q1244.07 1529.45 1241.04 1530.21 Z\" fill=\"#000000\" fill-rule=\"nonzero\" fill-opacity=\"1\" /><path clip-path=\"url(#clip420)\" d=\"M1267.03 1517.37 Q1263.42 1517.37 1261.59 1520.93 Q1259.79 1524.47 1259.79 1531.6 Q1259.79 1538.71 1261.59 1542.27 Q1263.42 1545.82 1267.03 1545.82 Q1270.67 1545.82 1272.47 1542.27 Q1274.3 1538.71 1274.3 1531.6 Q1274.3 1524.47 1272.47 1520.93 Q1270.67 1517.37 1267.03 1517.37 M1267.03 1513.66 Q1272.84 1513.66 1275.9 1518.27 Q1278.98 1522.85 1278.98 1531.6 Q1278.98 1540.33 1275.9 1544.94 Q1272.84 1549.52 1267.03 1549.52 Q1261.22 1549.52 1258.14 1544.94 Q1255.09 1540.33 1255.09 1531.6 Q1255.09 1522.85 1258.14 1518.27 Q1261.22 1513.66 1267.03 1513.66 Z\" fill=\"#000000\" fill-rule=\"nonzero\" fill-opacity=\"1\" /><path clip-path=\"url(#clip420)\" d=\"M1586.78 1518.36 L1574.98 1536.81 L1586.78 1536.81 L1586.78 1518.36 M1585.55 1514.29 L1591.43 1514.29 L1591.43 1536.81 L1596.36 1536.81 L1596.36 1540.7 L1591.43 1540.7 L1591.43 1548.85 L1586.78 1548.85 L1586.78 1540.7 L1571.18 1540.7 L1571.18 1536.19 L1585.55 1514.29 Z\" fill=\"#000000\" fill-rule=\"nonzero\" fill-opacity=\"1\" /><path clip-path=\"url(#clip420)\" d=\"M1614.1 1517.37 Q1610.48 1517.37 1608.66 1520.93 Q1606.85 1524.47 1606.85 1531.6 Q1606.85 1538.71 1608.66 1542.27 Q1610.48 1545.82 1614.1 1545.82 Q1617.73 1545.82 1619.54 1542.27 Q1621.36 1538.71 1621.36 1531.6 Q1621.36 1524.47 1619.54 1520.93 Q1617.73 1517.37 1614.1 1517.37 M1614.1 1513.66 Q1619.91 1513.66 1622.96 1518.27 Q1626.04 1522.85 1626.04 1531.6 Q1626.04 1540.33 1622.96 1544.94 Q1619.91 1549.52 1614.1 1549.52 Q1608.29 1549.52 1605.21 1544.94 Q1602.15 1540.33 1602.15 1531.6 Q1602.15 1522.85 1605.21 1518.27 Q1608.29 1513.66 1614.1 1513.66 Z\" fill=\"#000000\" fill-rule=\"nonzero\" fill-opacity=\"1\" /><path clip-path=\"url(#clip420)\" d=\"M1919.72 1514.29 L1938.08 1514.29 L1938.08 1518.22 L1924.01 1518.22 L1924.01 1526.7 Q1925.03 1526.35 1926.04 1526.19 Q1927.06 1526 1928.08 1526 Q1933.87 1526 1937.25 1529.17 Q1940.63 1532.34 1940.63 1537.76 Q1940.63 1543.34 1937.15 1546.44 Q1933.68 1549.52 1927.36 1549.52 Q1925.19 1549.52 1922.92 1549.15 Q1920.67 1548.78 1918.27 1548.04 L1918.27 1543.34 Q1920.35 1544.47 1922.57 1545.03 Q1924.79 1545.58 1927.27 1545.58 Q1931.28 1545.58 1933.61 1543.48 Q1935.95 1541.37 1935.95 1537.76 Q1935.95 1534.15 1933.61 1532.04 Q1931.28 1529.94 1927.27 1529.94 Q1925.4 1529.94 1923.52 1530.35 Q1921.67 1530.77 1919.72 1531.65 L1919.72 1514.29 Z\" fill=\"#000000\" fill-rule=\"nonzero\" fill-opacity=\"1\" /><path clip-path=\"url(#clip420)\" d=\"M1959.84 1517.37 Q1956.23 1517.37 1954.4 1520.93 Q1952.59 1524.47 1952.59 1531.6 Q1952.59 1538.71 1954.4 1542.27 Q1956.23 1545.82 1959.84 1545.82 Q1963.47 1545.82 1965.28 1542.27 Q1967.11 1538.71 1967.11 1531.6 Q1967.11 1524.47 1965.28 1520.93 Q1963.47 1517.37 1959.84 1517.37 M1959.84 1513.66 Q1965.65 1513.66 1968.71 1518.27 Q1971.78 1522.85 1971.78 1531.6 Q1971.78 1540.33 1968.71 1544.94 Q1965.65 1549.52 1959.84 1549.52 Q1954.03 1549.52 1950.95 1544.94 Q1947.9 1540.33 1947.9 1531.6 Q1947.9 1522.85 1950.95 1518.27 Q1954.03 1513.66 1959.84 1513.66 Z\" fill=\"#000000\" fill-rule=\"nonzero\" fill-opacity=\"1\" /><path clip-path=\"url(#clip420)\" d=\"M2276.85 1529.7 Q2273.7 1529.7 2271.85 1531.86 Q2270.02 1534.01 2270.02 1537.76 Q2270.02 1541.49 2271.85 1543.66 Q2273.7 1545.82 2276.85 1545.82 Q2279.99 1545.82 2281.82 1543.66 Q2283.67 1541.49 2283.67 1537.76 Q2283.67 1534.01 2281.82 1531.86 Q2279.99 1529.7 2276.85 1529.7 M2286.13 1515.05 L2286.13 1519.31 Q2284.37 1518.48 2282.56 1518.04 Q2280.78 1517.6 2279.02 1517.6 Q2274.39 1517.6 2271.94 1520.72 Q2269.51 1523.85 2269.16 1530.17 Q2270.53 1528.15 2272.59 1527.09 Q2274.65 1526 2277.12 1526 Q2282.33 1526 2285.34 1529.17 Q2288.37 1532.32 2288.37 1537.76 Q2288.37 1543.08 2285.23 1546.3 Q2282.08 1549.52 2276.85 1549.52 Q2270.85 1549.52 2267.68 1544.94 Q2264.51 1540.33 2264.51 1531.6 Q2264.51 1523.41 2268.4 1518.55 Q2272.29 1513.66 2278.84 1513.66 Q2280.6 1513.66 2282.38 1514.01 Q2284.18 1514.36 2286.13 1515.05 Z\" fill=\"#000000\" fill-rule=\"nonzero\" fill-opacity=\"1\" /><path clip-path=\"url(#clip420)\" d=\"M2306.43 1517.37 Q2302.82 1517.37 2300.99 1520.93 Q2299.18 1524.47 2299.18 1531.6 Q2299.18 1538.71 2300.99 1542.27 Q2302.82 1545.82 2306.43 1545.82 Q2310.06 1545.82 2311.87 1542.27 Q2313.7 1538.71 2313.7 1531.6 Q2313.7 1524.47 2311.87 1520.93 Q2310.06 1517.37 2306.43 1517.37 M2306.43 1513.66 Q2312.24 1513.66 2315.29 1518.27 Q2318.37 1522.85 2318.37 1531.6 Q2318.37 1540.33 2315.29 1544.94 Q2312.24 1549.52 2306.43 1549.52 Q2300.62 1549.52 2297.54 1544.94 Q2294.48 1540.33 2294.48 1531.6 Q2294.48 1522.85 2297.54 1518.27 Q2300.62 1513.66 2306.43 1513.66 Z\" fill=\"#000000\" fill-rule=\"nonzero\" fill-opacity=\"1\" /><polyline clip-path=\"url(#clip422)\" style=\"stroke:#000000; stroke-linecap:round; stroke-linejoin:round; stroke-width:2; stroke-opacity:0.1; fill:none\" points=\"186.274,1445.72 2352.76,1445.72 \"/>\n",
       "<polyline clip-path=\"url(#clip422)\" style=\"stroke:#000000; stroke-linecap:round; stroke-linejoin:round; stroke-width:2; stroke-opacity:0.1; fill:none\" points=\"186.274,1104.27 2352.76,1104.27 \"/>\n",
       "<polyline clip-path=\"url(#clip422)\" style=\"stroke:#000000; stroke-linecap:round; stroke-linejoin:round; stroke-width:2; stroke-opacity:0.1; fill:none\" points=\"186.274,762.832 2352.76,762.832 \"/>\n",
       "<polyline clip-path=\"url(#clip422)\" style=\"stroke:#000000; stroke-linecap:round; stroke-linejoin:round; stroke-width:2; stroke-opacity:0.1; fill:none\" points=\"186.274,421.391 2352.76,421.391 \"/>\n",
       "<polyline clip-path=\"url(#clip422)\" style=\"stroke:#000000; stroke-linecap:round; stroke-linejoin:round; stroke-width:2; stroke-opacity:0.1; fill:none\" points=\"186.274,79.9492 2352.76,79.9492 \"/>\n",
       "<polyline clip-path=\"url(#clip420)\" style=\"stroke:#000000; stroke-linecap:round; stroke-linejoin:round; stroke-width:4; stroke-opacity:1; fill:none\" points=\"186.274,1486.45 186.274,47.2441 \"/>\n",
       "<polyline clip-path=\"url(#clip420)\" style=\"stroke:#000000; stroke-linecap:round; stroke-linejoin:round; stroke-width:4; stroke-opacity:1; fill:none\" points=\"186.274,1445.72 205.172,1445.72 \"/>\n",
       "<polyline clip-path=\"url(#clip420)\" style=\"stroke:#000000; stroke-linecap:round; stroke-linejoin:round; stroke-width:4; stroke-opacity:1; fill:none\" points=\"186.274,1104.27 205.172,1104.27 \"/>\n",
       "<polyline clip-path=\"url(#clip420)\" style=\"stroke:#000000; stroke-linecap:round; stroke-linejoin:round; stroke-width:4; stroke-opacity:1; fill:none\" points=\"186.274,762.832 205.172,762.832 \"/>\n",
       "<polyline clip-path=\"url(#clip420)\" style=\"stroke:#000000; stroke-linecap:round; stroke-linejoin:round; stroke-width:4; stroke-opacity:1; fill:none\" points=\"186.274,421.391 205.172,421.391 \"/>\n",
       "<polyline clip-path=\"url(#clip420)\" style=\"stroke:#000000; stroke-linecap:round; stroke-linejoin:round; stroke-width:4; stroke-opacity:1; fill:none\" points=\"186.274,79.9492 205.172,79.9492 \"/>\n",
       "<path clip-path=\"url(#clip420)\" d=\"M62.9365 1431.51 Q59.3254 1431.51 57.4967 1435.08 Q55.6912 1438.62 55.6912 1445.75 Q55.6912 1452.86 57.4967 1456.42 Q59.3254 1459.96 62.9365 1459.96 Q66.5707 1459.96 68.3763 1456.42 Q70.205 1452.86 70.205 1445.75 Q70.205 1438.62 68.3763 1435.08 Q66.5707 1431.51 62.9365 1431.51 M62.9365 1427.81 Q68.7467 1427.81 71.8022 1432.42 Q74.8809 1437 74.8809 1445.75 Q74.8809 1454.48 71.8022 1459.08 Q68.7467 1463.67 62.9365 1463.67 Q57.1264 1463.67 54.0477 1459.08 Q50.9921 1454.48 50.9921 1445.75 Q50.9921 1437 54.0477 1432.42 Q57.1264 1427.81 62.9365 1427.81 Z\" fill=\"#000000\" fill-rule=\"nonzero\" fill-opacity=\"1\" /><path clip-path=\"url(#clip420)\" d=\"M83.0984 1457.12 L87.9827 1457.12 L87.9827 1463 L83.0984 1463 L83.0984 1457.12 Z\" fill=\"#000000\" fill-rule=\"nonzero\" fill-opacity=\"1\" /><path clip-path=\"url(#clip420)\" d=\"M108.168 1431.51 Q104.557 1431.51 102.728 1435.08 Q100.922 1438.62 100.922 1445.75 Q100.922 1452.86 102.728 1456.42 Q104.557 1459.96 108.168 1459.96 Q111.802 1459.96 113.608 1456.42 Q115.436 1452.86 115.436 1445.75 Q115.436 1438.62 113.608 1435.08 Q111.802 1431.51 108.168 1431.51 M108.168 1427.81 Q113.978 1427.81 117.033 1432.42 Q120.112 1437 120.112 1445.75 Q120.112 1454.48 117.033 1459.08 Q113.978 1463.67 108.168 1463.67 Q102.358 1463.67 99.2789 1459.08 Q96.2234 1454.48 96.2234 1445.75 Q96.2234 1437 99.2789 1432.42 Q102.358 1427.81 108.168 1427.81 Z\" fill=\"#000000\" fill-rule=\"nonzero\" fill-opacity=\"1\" /><path clip-path=\"url(#clip420)\" d=\"M138.33 1431.51 Q134.719 1431.51 132.89 1435.08 Q131.084 1438.62 131.084 1445.75 Q131.084 1452.86 132.89 1456.42 Q134.719 1459.96 138.33 1459.96 Q141.964 1459.96 143.769 1456.42 Q145.598 1452.86 145.598 1445.75 Q145.598 1438.62 143.769 1435.08 Q141.964 1431.51 138.33 1431.51 M138.33 1427.81 Q144.14 1427.81 147.195 1432.42 Q150.274 1437 150.274 1445.75 Q150.274 1454.48 147.195 1459.08 Q144.14 1463.67 138.33 1463.67 Q132.519 1463.67 129.441 1459.08 Q126.385 1454.48 126.385 1445.75 Q126.385 1437 129.441 1432.42 Q132.519 1427.81 138.33 1427.81 Z\" fill=\"#000000\" fill-rule=\"nonzero\" fill-opacity=\"1\" /><path clip-path=\"url(#clip420)\" d=\"M63.9319 1090.07 Q60.3208 1090.07 58.4921 1093.64 Q56.6865 1097.18 56.6865 1104.31 Q56.6865 1111.42 58.4921 1114.98 Q60.3208 1118.52 63.9319 1118.52 Q67.5661 1118.52 69.3717 1114.98 Q71.2004 1111.42 71.2004 1104.31 Q71.2004 1097.18 69.3717 1093.64 Q67.5661 1090.07 63.9319 1090.07 M63.9319 1086.37 Q69.742 1086.37 72.7976 1090.98 Q75.8763 1095.56 75.8763 1104.31 Q75.8763 1113.04 72.7976 1117.64 Q69.742 1122.23 63.9319 1122.23 Q58.1217 1122.23 55.043 1117.64 Q51.9875 1113.04 51.9875 1104.31 Q51.9875 1095.56 55.043 1090.98 Q58.1217 1086.37 63.9319 1086.37 Z\" fill=\"#000000\" fill-rule=\"nonzero\" fill-opacity=\"1\" /><path clip-path=\"url(#clip420)\" d=\"M84.0938 1115.67 L88.978 1115.67 L88.978 1121.55 L84.0938 1121.55 L84.0938 1115.67 Z\" fill=\"#000000\" fill-rule=\"nonzero\" fill-opacity=\"1\" /><path clip-path=\"url(#clip420)\" d=\"M103.191 1117.62 L119.51 1117.62 L119.51 1121.55 L97.566 1121.55 L97.566 1117.62 Q100.228 1114.86 104.811 1110.23 Q109.418 1105.58 110.598 1104.24 Q112.844 1101.72 113.723 1099.98 Q114.626 1098.22 114.626 1096.53 Q114.626 1093.78 112.682 1092.04 Q110.76 1090.3 107.658 1090.3 Q105.459 1090.3 103.006 1091.07 Q100.575 1091.83 97.7974 1093.38 L97.7974 1088.66 Q100.621 1087.53 103.075 1086.95 Q105.529 1086.37 107.566 1086.37 Q112.936 1086.37 116.131 1089.05 Q119.325 1091.74 119.325 1096.23 Q119.325 1098.36 118.515 1100.28 Q117.728 1102.18 115.621 1104.77 Q115.043 1105.44 111.941 1108.66 Q108.839 1111.86 103.191 1117.62 Z\" fill=\"#000000\" fill-rule=\"nonzero\" fill-opacity=\"1\" /><path clip-path=\"url(#clip420)\" d=\"M129.371 1086.99 L147.728 1086.99 L147.728 1090.93 L133.654 1090.93 L133.654 1099.4 Q134.672 1099.05 135.691 1098.89 Q136.709 1098.71 137.728 1098.71 Q143.515 1098.71 146.894 1101.88 Q150.274 1105.05 150.274 1110.47 Q150.274 1116.04 146.802 1119.15 Q143.33 1122.23 137.01 1122.23 Q134.834 1122.23 132.566 1121.85 Q130.32 1121.48 127.913 1120.74 L127.913 1116.04 Q129.996 1117.18 132.219 1117.73 Q134.441 1118.29 136.918 1118.29 Q140.922 1118.29 143.26 1116.18 Q145.598 1114.08 145.598 1110.47 Q145.598 1106.86 143.26 1104.75 Q140.922 1102.64 136.918 1102.64 Q135.043 1102.64 133.168 1103.06 Q131.316 1103.48 129.371 1104.36 L129.371 1086.99 Z\" fill=\"#000000\" fill-rule=\"nonzero\" fill-opacity=\"1\" /><path clip-path=\"url(#clip420)\" d=\"M62.9365 748.631 Q59.3254 748.631 57.4967 752.196 Q55.6912 755.738 55.6912 762.867 Q55.6912 769.974 57.4967 773.538 Q59.3254 777.08 62.9365 777.08 Q66.5707 777.08 68.3763 773.538 Q70.205 769.974 70.205 762.867 Q70.205 755.738 68.3763 752.196 Q66.5707 748.631 62.9365 748.631 M62.9365 744.927 Q68.7467 744.927 71.8022 749.534 Q74.8809 754.117 74.8809 762.867 Q74.8809 771.594 71.8022 776.2 Q68.7467 780.784 62.9365 780.784 Q57.1264 780.784 54.0477 776.2 Q50.9921 771.594 50.9921 762.867 Q50.9921 754.117 54.0477 749.534 Q57.1264 744.927 62.9365 744.927 Z\" fill=\"#000000\" fill-rule=\"nonzero\" fill-opacity=\"1\" /><path clip-path=\"url(#clip420)\" d=\"M83.0984 774.233 L87.9827 774.233 L87.9827 780.112 L83.0984 780.112 L83.0984 774.233 Z\" fill=\"#000000\" fill-rule=\"nonzero\" fill-opacity=\"1\" /><path clip-path=\"url(#clip420)\" d=\"M98.2141 745.552 L116.57 745.552 L116.57 749.488 L102.496 749.488 L102.496 757.96 Q103.515 757.613 104.534 757.451 Q105.552 757.265 106.571 757.265 Q112.358 757.265 115.737 760.437 Q119.117 763.608 119.117 769.025 Q119.117 774.603 115.645 777.705 Q112.172 780.784 105.853 780.784 Q103.677 780.784 101.409 780.413 Q99.1632 780.043 96.7558 779.302 L96.7558 774.603 Q98.8391 775.737 101.061 776.293 Q103.284 776.849 105.76 776.849 Q109.765 776.849 112.103 774.742 Q114.441 772.636 114.441 769.025 Q114.441 765.413 112.103 763.307 Q109.765 761.201 105.76 761.201 Q103.885 761.201 102.01 761.617 Q100.159 762.034 98.2141 762.913 L98.2141 745.552 Z\" fill=\"#000000\" fill-rule=\"nonzero\" fill-opacity=\"1\" /><path clip-path=\"url(#clip420)\" d=\"M138.33 748.631 Q134.719 748.631 132.89 752.196 Q131.084 755.738 131.084 762.867 Q131.084 769.974 132.89 773.538 Q134.719 777.08 138.33 777.08 Q141.964 777.08 143.769 773.538 Q145.598 769.974 145.598 762.867 Q145.598 755.738 143.769 752.196 Q141.964 748.631 138.33 748.631 M138.33 744.927 Q144.14 744.927 147.195 749.534 Q150.274 754.117 150.274 762.867 Q150.274 771.594 147.195 776.2 Q144.14 780.784 138.33 780.784 Q132.519 780.784 129.441 776.2 Q126.385 771.594 126.385 762.867 Q126.385 754.117 129.441 749.534 Q132.519 744.927 138.33 744.927 Z\" fill=\"#000000\" fill-rule=\"nonzero\" fill-opacity=\"1\" /><path clip-path=\"url(#clip420)\" d=\"M63.9319 407.19 Q60.3208 407.19 58.4921 410.754 Q56.6865 414.296 56.6865 421.426 Q56.6865 428.532 58.4921 432.097 Q60.3208 435.638 63.9319 435.638 Q67.5661 435.638 69.3717 432.097 Q71.2004 428.532 71.2004 421.426 Q71.2004 414.296 69.3717 410.754 Q67.5661 407.19 63.9319 407.19 M63.9319 403.486 Q69.742 403.486 72.7976 408.092 Q75.8763 412.676 75.8763 421.426 Q75.8763 430.152 72.7976 434.759 Q69.742 439.342 63.9319 439.342 Q58.1217 439.342 55.043 434.759 Q51.9875 430.152 51.9875 421.426 Q51.9875 412.676 55.043 408.092 Q58.1217 403.486 63.9319 403.486 Z\" fill=\"#000000\" fill-rule=\"nonzero\" fill-opacity=\"1\" /><path clip-path=\"url(#clip420)\" d=\"M84.0938 432.791 L88.978 432.791 L88.978 438.671 L84.0938 438.671 L84.0938 432.791 Z\" fill=\"#000000\" fill-rule=\"nonzero\" fill-opacity=\"1\" /><path clip-path=\"url(#clip420)\" d=\"M97.9826 404.111 L120.205 404.111 L120.205 406.102 L107.658 438.671 L102.774 438.671 L114.58 408.046 L97.9826 408.046 L97.9826 404.111 Z\" fill=\"#000000\" fill-rule=\"nonzero\" fill-opacity=\"1\" /><path clip-path=\"url(#clip420)\" d=\"M129.371 404.111 L147.728 404.111 L147.728 408.046 L133.654 408.046 L133.654 416.518 Q134.672 416.171 135.691 416.009 Q136.709 415.824 137.728 415.824 Q143.515 415.824 146.894 418.995 Q150.274 422.166 150.274 427.583 Q150.274 433.162 146.802 436.263 Q143.33 439.342 137.01 439.342 Q134.834 439.342 132.566 438.972 Q130.32 438.601 127.913 437.861 L127.913 433.162 Q129.996 434.296 132.219 434.851 Q134.441 435.407 136.918 435.407 Q140.922 435.407 143.26 433.3 Q145.598 431.194 145.598 427.583 Q145.598 423.972 143.26 421.865 Q140.922 419.759 136.918 419.759 Q135.043 419.759 133.168 420.176 Q131.316 420.592 129.371 421.472 L129.371 404.111 Z\" fill=\"#000000\" fill-rule=\"nonzero\" fill-opacity=\"1\" /><path clip-path=\"url(#clip420)\" d=\"M53.7467 93.294 L61.3856 93.294 L61.3856 66.9284 L53.0754 68.5951 L53.0754 64.3359 L61.3393 62.6692 L66.0152 62.6692 L66.0152 93.294 L73.654 93.294 L73.654 97.2292 L53.7467 97.2292 L53.7467 93.294 Z\" fill=\"#000000\" fill-rule=\"nonzero\" fill-opacity=\"1\" /><path clip-path=\"url(#clip420)\" d=\"M83.0984 91.3496 L87.9827 91.3496 L87.9827 97.2292 L83.0984 97.2292 L83.0984 91.3496 Z\" fill=\"#000000\" fill-rule=\"nonzero\" fill-opacity=\"1\" /><path clip-path=\"url(#clip420)\" d=\"M108.168 65.7479 Q104.557 65.7479 102.728 69.3127 Q100.922 72.8543 100.922 79.9839 Q100.922 87.0904 102.728 90.6552 Q104.557 94.1968 108.168 94.1968 Q111.802 94.1968 113.608 90.6552 Q115.436 87.0904 115.436 79.9839 Q115.436 72.8543 113.608 69.3127 Q111.802 65.7479 108.168 65.7479 M108.168 62.0442 Q113.978 62.0442 117.033 66.6507 Q120.112 71.234 120.112 79.9839 Q120.112 88.7107 117.033 93.3172 Q113.978 97.9005 108.168 97.9005 Q102.358 97.9005 99.2789 93.3172 Q96.2234 88.7107 96.2234 79.9839 Q96.2234 71.234 99.2789 66.6507 Q102.358 62.0442 108.168 62.0442 Z\" fill=\"#000000\" fill-rule=\"nonzero\" fill-opacity=\"1\" /><path clip-path=\"url(#clip420)\" d=\"M138.33 65.7479 Q134.719 65.7479 132.89 69.3127 Q131.084 72.8543 131.084 79.9839 Q131.084 87.0904 132.89 90.6552 Q134.719 94.1968 138.33 94.1968 Q141.964 94.1968 143.769 90.6552 Q145.598 87.0904 145.598 79.9839 Q145.598 72.8543 143.769 69.3127 Q141.964 65.7479 138.33 65.7479 M138.33 62.0442 Q144.14 62.0442 147.195 66.6507 Q150.274 71.234 150.274 79.9839 Q150.274 88.7107 147.195 93.3172 Q144.14 97.9005 138.33 97.9005 Q132.519 97.9005 129.441 93.3172 Q126.385 88.7107 126.385 79.9839 Q126.385 71.234 129.441 66.6507 Q132.519 62.0442 138.33 62.0442 Z\" fill=\"#000000\" fill-rule=\"nonzero\" fill-opacity=\"1\" /><polyline clip-path=\"url(#clip422)\" style=\"stroke:#009af9; stroke-linecap:round; stroke-linejoin:round; stroke-width:4; stroke-opacity:1; fill:none\" points=\"247.59,1445.72 282.231,1441.97 316.873,1434.51 351.514,1423.38 386.156,1408.65 420.797,1390.45 455.439,1368.91 490.08,1344.19 524.722,1316.48 559.363,1285.99 594.005,1252.95 628.646,1217.6 663.288,1180.2 697.93,1141.01 732.571,1100.31 767.213,1058.38 801.854,1015.49 836.496,971.916 871.137,927.928 905.779,883.787 940.42,839.741 975.062,796.027 1009.7,752.866 1044.34,710.463 1078.99,669.005 1113.63,628.658 1148.27,589.572 1182.91,551.874 1217.55,515.672 1252.19,481.053 1286.84,448.085 1321.48,416.819 1356.12,387.285 1390.76,359.499 1425.4,333.458 1460.04,309.149 1494.68,286.543 1529.33,265.601 1563.97,246.273 1598.61,228.501 1633.25,212.221 1667.89,197.364 1702.53,183.853 1737.18,171.612 1771.82,160.562 1806.46,150.624 1841.1,141.717 1875.74,133.763 1910.38,126.686 1945.02,120.412 1979.67,114.869 2014.31,109.99 2048.95,105.71 2083.59,101.97 2118.23,98.7117 2152.87,95.8845 2187.52,93.4396 2222.16,91.3329 2256.8,89.524 2291.44,87.9763 \"/>\n",
       "<path clip-path=\"url(#clip420)\" d=\"M258.49 198.898 L527.569 198.898 L527.569 95.2176 L258.49 95.2176  Z\" fill=\"#ffffff\" fill-rule=\"evenodd\" fill-opacity=\"1\"/>\n",
       "<polyline clip-path=\"url(#clip420)\" style=\"stroke:#000000; stroke-linecap:round; stroke-linejoin:round; stroke-width:4; stroke-opacity:1; fill:none\" points=\"258.49,198.898 527.569,198.898 527.569,95.2176 258.49,95.2176 258.49,198.898 \"/>\n",
       "<polyline clip-path=\"url(#clip420)\" style=\"stroke:#009af9; stroke-linecap:round; stroke-linejoin:round; stroke-width:4; stroke-opacity:1; fill:none\" points=\"282.562,147.058 426.994,147.058 \"/>\n",
       "<path clip-path=\"url(#clip420)\" d=\"M464.909 166.745 Q463.103 171.375 461.39 172.787 Q459.677 174.199 456.807 174.199 L453.404 174.199 L453.404 170.634 L455.904 170.634 Q457.663 170.634 458.636 169.8 Q459.608 168.967 460.788 165.865 L461.552 163.921 L451.066 138.412 L455.58 138.412 L463.682 158.689 L471.784 138.412 L476.298 138.412 L464.909 166.745 Z\" fill=\"#000000\" fill-rule=\"nonzero\" fill-opacity=\"1\" /><path clip-path=\"url(#clip420)\" d=\"M483.589 160.402 L491.228 160.402 L491.228 134.037 L482.918 135.703 L482.918 131.444 L491.182 129.778 L495.858 129.778 L495.858 160.402 L503.497 160.402 L503.497 164.338 L483.589 164.338 L483.589 160.402 Z\" fill=\"#000000\" fill-rule=\"nonzero\" fill-opacity=\"1\" /></svg>\n"
      ],
      "text/html": [
       "<?xml version=\"1.0\" encoding=\"utf-8\"?>\n",
       "<svg xmlns=\"http://www.w3.org/2000/svg\" xmlns:xlink=\"http://www.w3.org/1999/xlink\" width=\"600\" height=\"400\" viewBox=\"0 0 2400 1600\">\n",
       "<defs>\n",
       "  <clipPath id=\"clip470\">\n",
       "    <rect x=\"0\" y=\"0\" width=\"2400\" height=\"1600\"/>\n",
       "  </clipPath>\n",
       "</defs>\n",
       "<path clip-path=\"url(#clip470)\" d=\"M0 1600 L2400 1600 L2400 0 L0 0  Z\" fill=\"#ffffff\" fill-rule=\"evenodd\" fill-opacity=\"1\"/>\n",
       "<defs>\n",
       "  <clipPath id=\"clip471\">\n",
       "    <rect x=\"480\" y=\"0\" width=\"1681\" height=\"1600\"/>\n",
       "  </clipPath>\n",
       "</defs>\n",
       "<path clip-path=\"url(#clip470)\" d=\"M186.274 1486.45 L2352.76 1486.45 L2352.76 47.2441 L186.274 47.2441  Z\" fill=\"#ffffff\" fill-rule=\"evenodd\" fill-opacity=\"1\"/>\n",
       "<defs>\n",
       "  <clipPath id=\"clip472\">\n",
       "    <rect x=\"186\" y=\"47\" width=\"2167\" height=\"1440\"/>\n",
       "  </clipPath>\n",
       "</defs>\n",
       "<polyline clip-path=\"url(#clip472)\" style=\"stroke:#000000; stroke-linecap:round; stroke-linejoin:round; stroke-width:2; stroke-opacity:0.1; fill:none\" points=\"212.948,1486.45 212.948,47.2441 \"/>\n",
       "<polyline clip-path=\"url(#clip472)\" style=\"stroke:#000000; stroke-linecap:round; stroke-linejoin:round; stroke-width:2; stroke-opacity:0.1; fill:none\" points=\"559.363,1486.45 559.363,47.2441 \"/>\n",
       "<polyline clip-path=\"url(#clip472)\" style=\"stroke:#000000; stroke-linecap:round; stroke-linejoin:round; stroke-width:2; stroke-opacity:0.1; fill:none\" points=\"905.779,1486.45 905.779,47.2441 \"/>\n",
       "<polyline clip-path=\"url(#clip472)\" style=\"stroke:#000000; stroke-linecap:round; stroke-linejoin:round; stroke-width:2; stroke-opacity:0.1; fill:none\" points=\"1252.19,1486.45 1252.19,47.2441 \"/>\n",
       "<polyline clip-path=\"url(#clip472)\" style=\"stroke:#000000; stroke-linecap:round; stroke-linejoin:round; stroke-width:2; stroke-opacity:0.1; fill:none\" points=\"1598.61,1486.45 1598.61,47.2441 \"/>\n",
       "<polyline clip-path=\"url(#clip472)\" style=\"stroke:#000000; stroke-linecap:round; stroke-linejoin:round; stroke-width:2; stroke-opacity:0.1; fill:none\" points=\"1945.02,1486.45 1945.02,47.2441 \"/>\n",
       "<polyline clip-path=\"url(#clip472)\" style=\"stroke:#000000; stroke-linecap:round; stroke-linejoin:round; stroke-width:2; stroke-opacity:0.1; fill:none\" points=\"2291.44,1486.45 2291.44,47.2441 \"/>\n",
       "<polyline clip-path=\"url(#clip470)\" style=\"stroke:#000000; stroke-linecap:round; stroke-linejoin:round; stroke-width:4; stroke-opacity:1; fill:none\" points=\"186.274,1486.45 2352.76,1486.45 \"/>\n",
       "<polyline clip-path=\"url(#clip470)\" style=\"stroke:#000000; stroke-linecap:round; stroke-linejoin:round; stroke-width:4; stroke-opacity:1; fill:none\" points=\"212.948,1486.45 212.948,1467.55 \"/>\n",
       "<polyline clip-path=\"url(#clip470)\" style=\"stroke:#000000; stroke-linecap:round; stroke-linejoin:round; stroke-width:4; stroke-opacity:1; fill:none\" points=\"559.363,1486.45 559.363,1467.55 \"/>\n",
       "<polyline clip-path=\"url(#clip470)\" style=\"stroke:#000000; stroke-linecap:round; stroke-linejoin:round; stroke-width:4; stroke-opacity:1; fill:none\" points=\"905.779,1486.45 905.779,1467.55 \"/>\n",
       "<polyline clip-path=\"url(#clip470)\" style=\"stroke:#000000; stroke-linecap:round; stroke-linejoin:round; stroke-width:4; stroke-opacity:1; fill:none\" points=\"1252.19,1486.45 1252.19,1467.55 \"/>\n",
       "<polyline clip-path=\"url(#clip470)\" style=\"stroke:#000000; stroke-linecap:round; stroke-linejoin:round; stroke-width:4; stroke-opacity:1; fill:none\" points=\"1598.61,1486.45 1598.61,1467.55 \"/>\n",
       "<polyline clip-path=\"url(#clip470)\" style=\"stroke:#000000; stroke-linecap:round; stroke-linejoin:round; stroke-width:4; stroke-opacity:1; fill:none\" points=\"1945.02,1486.45 1945.02,1467.55 \"/>\n",
       "<polyline clip-path=\"url(#clip470)\" style=\"stroke:#000000; stroke-linecap:round; stroke-linejoin:round; stroke-width:4; stroke-opacity:1; fill:none\" points=\"2291.44,1486.45 2291.44,1467.55 \"/>\n",
       "<path clip-path=\"url(#clip470)\" d=\"M212.948 1517.37 Q209.337 1517.37 207.508 1520.93 Q205.703 1524.47 205.703 1531.6 Q205.703 1538.71 207.508 1542.27 Q209.337 1545.82 212.948 1545.82 Q216.582 1545.82 218.388 1542.27 Q220.216 1538.71 220.216 1531.6 Q220.216 1524.47 218.388 1520.93 Q216.582 1517.37 212.948 1517.37 M212.948 1513.66 Q218.758 1513.66 221.814 1518.27 Q224.892 1522.85 224.892 1531.6 Q224.892 1540.33 221.814 1544.94 Q218.758 1549.52 212.948 1549.52 Q207.138 1549.52 204.059 1544.94 Q201.004 1540.33 201.004 1531.6 Q201.004 1522.85 204.059 1518.27 Q207.138 1513.66 212.948 1513.66 Z\" fill=\"#000000\" fill-rule=\"nonzero\" fill-opacity=\"1\" /><path clip-path=\"url(#clip470)\" d=\"M534.051 1544.91 L541.69 1544.91 L541.69 1518.55 L533.38 1520.21 L533.38 1515.95 L541.644 1514.29 L546.319 1514.29 L546.319 1544.91 L553.958 1544.91 L553.958 1548.85 L534.051 1548.85 L534.051 1544.91 Z\" fill=\"#000000\" fill-rule=\"nonzero\" fill-opacity=\"1\" /><path clip-path=\"url(#clip470)\" d=\"M573.403 1517.37 Q569.792 1517.37 567.963 1520.93 Q566.157 1524.47 566.157 1531.6 Q566.157 1538.71 567.963 1542.27 Q569.792 1545.82 573.403 1545.82 Q577.037 1545.82 578.842 1542.27 Q580.671 1538.71 580.671 1531.6 Q580.671 1524.47 578.842 1520.93 Q577.037 1517.37 573.403 1517.37 M573.403 1513.66 Q579.213 1513.66 582.268 1518.27 Q585.347 1522.85 585.347 1531.6 Q585.347 1540.33 582.268 1544.94 Q579.213 1549.52 573.403 1549.52 Q567.593 1549.52 564.514 1544.94 Q561.458 1540.33 561.458 1531.6 Q561.458 1522.85 564.514 1518.27 Q567.593 1513.66 573.403 1513.66 Z\" fill=\"#000000\" fill-rule=\"nonzero\" fill-opacity=\"1\" /><path clip-path=\"url(#clip470)\" d=\"M884.552 1544.91 L900.871 1544.91 L900.871 1548.85 L878.927 1548.85 L878.927 1544.91 Q881.589 1542.16 886.172 1537.53 Q890.779 1532.88 891.959 1531.53 Q894.205 1529.01 895.084 1527.27 Q895.987 1525.51 895.987 1523.82 Q895.987 1521.07 894.043 1519.33 Q892.121 1517.6 889.02 1517.6 Q886.821 1517.6 884.367 1518.36 Q881.936 1519.13 879.159 1520.68 L879.159 1515.95 Q881.983 1514.82 884.436 1514.24 Q886.89 1513.66 888.927 1513.66 Q894.297 1513.66 897.492 1516.35 Q900.686 1519.03 900.686 1523.52 Q900.686 1525.65 899.876 1527.57 Q899.089 1529.47 896.983 1532.07 Q896.404 1532.74 893.302 1535.95 Q890.2 1539.15 884.552 1544.91 Z\" fill=\"#000000\" fill-rule=\"nonzero\" fill-opacity=\"1\" /><path clip-path=\"url(#clip470)\" d=\"M920.686 1517.37 Q917.075 1517.37 915.246 1520.93 Q913.441 1524.47 913.441 1531.6 Q913.441 1538.71 915.246 1542.27 Q917.075 1545.82 920.686 1545.82 Q924.32 1545.82 926.126 1542.27 Q927.955 1538.71 927.955 1531.6 Q927.955 1524.47 926.126 1520.93 Q924.32 1517.37 920.686 1517.37 M920.686 1513.66 Q926.496 1513.66 929.552 1518.27 Q932.63 1522.85 932.63 1531.6 Q932.63 1540.33 929.552 1544.94 Q926.496 1549.52 920.686 1549.52 Q914.876 1549.52 911.797 1544.94 Q908.742 1540.33 908.742 1531.6 Q908.742 1522.85 911.797 1518.27 Q914.876 1513.66 920.686 1513.66 Z\" fill=\"#000000\" fill-rule=\"nonzero\" fill-opacity=\"1\" /><path clip-path=\"url(#clip470)\" d=\"M1241.04 1530.21 Q1244.39 1530.93 1246.27 1533.2 Q1248.17 1535.47 1248.17 1538.8 Q1248.17 1543.92 1244.65 1546.72 Q1241.13 1549.52 1234.65 1549.52 Q1232.47 1549.52 1230.16 1549.08 Q1227.87 1548.66 1225.41 1547.81 L1225.41 1543.29 Q1227.36 1544.43 1229.67 1545.01 Q1231.99 1545.58 1234.51 1545.58 Q1238.91 1545.58 1241.2 1543.85 Q1243.51 1542.11 1243.51 1538.8 Q1243.51 1535.75 1241.36 1534.03 Q1239.23 1532.3 1235.41 1532.3 L1231.38 1532.3 L1231.38 1528.45 L1235.6 1528.45 Q1239.05 1528.45 1240.87 1527.09 Q1242.7 1525.7 1242.7 1523.11 Q1242.7 1520.45 1240.81 1519.03 Q1238.93 1517.6 1235.41 1517.6 Q1233.49 1517.6 1231.29 1518.01 Q1229.09 1518.43 1226.45 1519.31 L1226.45 1515.14 Q1229.12 1514.4 1231.43 1514.03 Q1233.77 1513.66 1235.83 1513.66 Q1241.15 1513.66 1244.25 1516.09 Q1247.36 1518.5 1247.36 1522.62 Q1247.36 1525.49 1245.71 1527.48 Q1244.07 1529.45 1241.04 1530.21 Z\" fill=\"#000000\" fill-rule=\"nonzero\" fill-opacity=\"1\" /><path clip-path=\"url(#clip470)\" d=\"M1267.03 1517.37 Q1263.42 1517.37 1261.59 1520.93 Q1259.79 1524.47 1259.79 1531.6 Q1259.79 1538.71 1261.59 1542.27 Q1263.42 1545.82 1267.03 1545.82 Q1270.67 1545.82 1272.47 1542.27 Q1274.3 1538.71 1274.3 1531.6 Q1274.3 1524.47 1272.47 1520.93 Q1270.67 1517.37 1267.03 1517.37 M1267.03 1513.66 Q1272.84 1513.66 1275.9 1518.27 Q1278.98 1522.85 1278.98 1531.6 Q1278.98 1540.33 1275.9 1544.94 Q1272.84 1549.52 1267.03 1549.52 Q1261.22 1549.52 1258.14 1544.94 Q1255.09 1540.33 1255.09 1531.6 Q1255.09 1522.85 1258.14 1518.27 Q1261.22 1513.66 1267.03 1513.66 Z\" fill=\"#000000\" fill-rule=\"nonzero\" fill-opacity=\"1\" /><path clip-path=\"url(#clip470)\" d=\"M1586.78 1518.36 L1574.98 1536.81 L1586.78 1536.81 L1586.78 1518.36 M1585.55 1514.29 L1591.43 1514.29 L1591.43 1536.81 L1596.36 1536.81 L1596.36 1540.7 L1591.43 1540.7 L1591.43 1548.85 L1586.78 1548.85 L1586.78 1540.7 L1571.18 1540.7 L1571.18 1536.19 L1585.55 1514.29 Z\" fill=\"#000000\" fill-rule=\"nonzero\" fill-opacity=\"1\" /><path clip-path=\"url(#clip470)\" d=\"M1614.1 1517.37 Q1610.48 1517.37 1608.66 1520.93 Q1606.85 1524.47 1606.85 1531.6 Q1606.85 1538.71 1608.66 1542.27 Q1610.48 1545.82 1614.1 1545.82 Q1617.73 1545.82 1619.54 1542.27 Q1621.36 1538.71 1621.36 1531.6 Q1621.36 1524.47 1619.54 1520.93 Q1617.73 1517.37 1614.1 1517.37 M1614.1 1513.66 Q1619.91 1513.66 1622.96 1518.27 Q1626.04 1522.85 1626.04 1531.6 Q1626.04 1540.33 1622.96 1544.94 Q1619.91 1549.52 1614.1 1549.52 Q1608.29 1549.52 1605.21 1544.94 Q1602.15 1540.33 1602.15 1531.6 Q1602.15 1522.85 1605.21 1518.27 Q1608.29 1513.66 1614.1 1513.66 Z\" fill=\"#000000\" fill-rule=\"nonzero\" fill-opacity=\"1\" /><path clip-path=\"url(#clip470)\" d=\"M1919.72 1514.29 L1938.08 1514.29 L1938.08 1518.22 L1924.01 1518.22 L1924.01 1526.7 Q1925.03 1526.35 1926.04 1526.19 Q1927.06 1526 1928.08 1526 Q1933.87 1526 1937.25 1529.17 Q1940.63 1532.34 1940.63 1537.76 Q1940.63 1543.34 1937.15 1546.44 Q1933.68 1549.52 1927.36 1549.52 Q1925.19 1549.52 1922.92 1549.15 Q1920.67 1548.78 1918.27 1548.04 L1918.27 1543.34 Q1920.35 1544.47 1922.57 1545.03 Q1924.79 1545.58 1927.27 1545.58 Q1931.28 1545.58 1933.61 1543.48 Q1935.95 1541.37 1935.95 1537.76 Q1935.95 1534.15 1933.61 1532.04 Q1931.28 1529.94 1927.27 1529.94 Q1925.4 1529.94 1923.52 1530.35 Q1921.67 1530.77 1919.72 1531.65 L1919.72 1514.29 Z\" fill=\"#000000\" fill-rule=\"nonzero\" fill-opacity=\"1\" /><path clip-path=\"url(#clip470)\" d=\"M1959.84 1517.37 Q1956.23 1517.37 1954.4 1520.93 Q1952.59 1524.47 1952.59 1531.6 Q1952.59 1538.71 1954.4 1542.27 Q1956.23 1545.82 1959.84 1545.82 Q1963.47 1545.82 1965.28 1542.27 Q1967.11 1538.71 1967.11 1531.6 Q1967.11 1524.47 1965.28 1520.93 Q1963.47 1517.37 1959.84 1517.37 M1959.84 1513.66 Q1965.65 1513.66 1968.71 1518.27 Q1971.78 1522.85 1971.78 1531.6 Q1971.78 1540.33 1968.71 1544.94 Q1965.65 1549.52 1959.84 1549.52 Q1954.03 1549.52 1950.95 1544.94 Q1947.9 1540.33 1947.9 1531.6 Q1947.9 1522.85 1950.95 1518.27 Q1954.03 1513.66 1959.84 1513.66 Z\" fill=\"#000000\" fill-rule=\"nonzero\" fill-opacity=\"1\" /><path clip-path=\"url(#clip470)\" d=\"M2276.85 1529.7 Q2273.7 1529.7 2271.85 1531.86 Q2270.02 1534.01 2270.02 1537.76 Q2270.02 1541.49 2271.85 1543.66 Q2273.7 1545.82 2276.85 1545.82 Q2279.99 1545.82 2281.82 1543.66 Q2283.67 1541.49 2283.67 1537.76 Q2283.67 1534.01 2281.82 1531.86 Q2279.99 1529.7 2276.85 1529.7 M2286.13 1515.05 L2286.13 1519.31 Q2284.37 1518.48 2282.56 1518.04 Q2280.78 1517.6 2279.02 1517.6 Q2274.39 1517.6 2271.94 1520.72 Q2269.51 1523.85 2269.16 1530.17 Q2270.53 1528.15 2272.59 1527.09 Q2274.65 1526 2277.12 1526 Q2282.33 1526 2285.34 1529.17 Q2288.37 1532.32 2288.37 1537.76 Q2288.37 1543.08 2285.23 1546.3 Q2282.08 1549.52 2276.85 1549.52 Q2270.85 1549.52 2267.68 1544.94 Q2264.51 1540.33 2264.51 1531.6 Q2264.51 1523.41 2268.4 1518.55 Q2272.29 1513.66 2278.84 1513.66 Q2280.6 1513.66 2282.38 1514.01 Q2284.18 1514.36 2286.13 1515.05 Z\" fill=\"#000000\" fill-rule=\"nonzero\" fill-opacity=\"1\" /><path clip-path=\"url(#clip470)\" d=\"M2306.43 1517.37 Q2302.82 1517.37 2300.99 1520.93 Q2299.18 1524.47 2299.18 1531.6 Q2299.18 1538.71 2300.99 1542.27 Q2302.82 1545.82 2306.43 1545.82 Q2310.06 1545.82 2311.87 1542.27 Q2313.7 1538.71 2313.7 1531.6 Q2313.7 1524.47 2311.87 1520.93 Q2310.06 1517.37 2306.43 1517.37 M2306.43 1513.66 Q2312.24 1513.66 2315.29 1518.27 Q2318.37 1522.85 2318.37 1531.6 Q2318.37 1540.33 2315.29 1544.94 Q2312.24 1549.52 2306.43 1549.52 Q2300.62 1549.52 2297.54 1544.94 Q2294.48 1540.33 2294.48 1531.6 Q2294.48 1522.85 2297.54 1518.27 Q2300.62 1513.66 2306.43 1513.66 Z\" fill=\"#000000\" fill-rule=\"nonzero\" fill-opacity=\"1\" /><polyline clip-path=\"url(#clip472)\" style=\"stroke:#000000; stroke-linecap:round; stroke-linejoin:round; stroke-width:2; stroke-opacity:0.1; fill:none\" points=\"186.274,1445.72 2352.76,1445.72 \"/>\n",
       "<polyline clip-path=\"url(#clip472)\" style=\"stroke:#000000; stroke-linecap:round; stroke-linejoin:round; stroke-width:2; stroke-opacity:0.1; fill:none\" points=\"186.274,1104.27 2352.76,1104.27 \"/>\n",
       "<polyline clip-path=\"url(#clip472)\" style=\"stroke:#000000; stroke-linecap:round; stroke-linejoin:round; stroke-width:2; stroke-opacity:0.1; fill:none\" points=\"186.274,762.832 2352.76,762.832 \"/>\n",
       "<polyline clip-path=\"url(#clip472)\" style=\"stroke:#000000; stroke-linecap:round; stroke-linejoin:round; stroke-width:2; stroke-opacity:0.1; fill:none\" points=\"186.274,421.391 2352.76,421.391 \"/>\n",
       "<polyline clip-path=\"url(#clip472)\" style=\"stroke:#000000; stroke-linecap:round; stroke-linejoin:round; stroke-width:2; stroke-opacity:0.1; fill:none\" points=\"186.274,79.9492 2352.76,79.9492 \"/>\n",
       "<polyline clip-path=\"url(#clip470)\" style=\"stroke:#000000; stroke-linecap:round; stroke-linejoin:round; stroke-width:4; stroke-opacity:1; fill:none\" points=\"186.274,1486.45 186.274,47.2441 \"/>\n",
       "<polyline clip-path=\"url(#clip470)\" style=\"stroke:#000000; stroke-linecap:round; stroke-linejoin:round; stroke-width:4; stroke-opacity:1; fill:none\" points=\"186.274,1445.72 205.172,1445.72 \"/>\n",
       "<polyline clip-path=\"url(#clip470)\" style=\"stroke:#000000; stroke-linecap:round; stroke-linejoin:round; stroke-width:4; stroke-opacity:1; fill:none\" points=\"186.274,1104.27 205.172,1104.27 \"/>\n",
       "<polyline clip-path=\"url(#clip470)\" style=\"stroke:#000000; stroke-linecap:round; stroke-linejoin:round; stroke-width:4; stroke-opacity:1; fill:none\" points=\"186.274,762.832 205.172,762.832 \"/>\n",
       "<polyline clip-path=\"url(#clip470)\" style=\"stroke:#000000; stroke-linecap:round; stroke-linejoin:round; stroke-width:4; stroke-opacity:1; fill:none\" points=\"186.274,421.391 205.172,421.391 \"/>\n",
       "<polyline clip-path=\"url(#clip470)\" style=\"stroke:#000000; stroke-linecap:round; stroke-linejoin:round; stroke-width:4; stroke-opacity:1; fill:none\" points=\"186.274,79.9492 205.172,79.9492 \"/>\n",
       "<path clip-path=\"url(#clip470)\" d=\"M62.9365 1431.51 Q59.3254 1431.51 57.4967 1435.08 Q55.6912 1438.62 55.6912 1445.75 Q55.6912 1452.86 57.4967 1456.42 Q59.3254 1459.96 62.9365 1459.96 Q66.5707 1459.96 68.3763 1456.42 Q70.205 1452.86 70.205 1445.75 Q70.205 1438.62 68.3763 1435.08 Q66.5707 1431.51 62.9365 1431.51 M62.9365 1427.81 Q68.7467 1427.81 71.8022 1432.42 Q74.8809 1437 74.8809 1445.75 Q74.8809 1454.48 71.8022 1459.08 Q68.7467 1463.67 62.9365 1463.67 Q57.1264 1463.67 54.0477 1459.08 Q50.9921 1454.48 50.9921 1445.75 Q50.9921 1437 54.0477 1432.42 Q57.1264 1427.81 62.9365 1427.81 Z\" fill=\"#000000\" fill-rule=\"nonzero\" fill-opacity=\"1\" /><path clip-path=\"url(#clip470)\" d=\"M83.0984 1457.12 L87.9827 1457.12 L87.9827 1463 L83.0984 1463 L83.0984 1457.12 Z\" fill=\"#000000\" fill-rule=\"nonzero\" fill-opacity=\"1\" /><path clip-path=\"url(#clip470)\" d=\"M108.168 1431.51 Q104.557 1431.51 102.728 1435.08 Q100.922 1438.62 100.922 1445.75 Q100.922 1452.86 102.728 1456.42 Q104.557 1459.96 108.168 1459.96 Q111.802 1459.96 113.608 1456.42 Q115.436 1452.86 115.436 1445.75 Q115.436 1438.62 113.608 1435.08 Q111.802 1431.51 108.168 1431.51 M108.168 1427.81 Q113.978 1427.81 117.033 1432.42 Q120.112 1437 120.112 1445.75 Q120.112 1454.48 117.033 1459.08 Q113.978 1463.67 108.168 1463.67 Q102.358 1463.67 99.2789 1459.08 Q96.2234 1454.48 96.2234 1445.75 Q96.2234 1437 99.2789 1432.42 Q102.358 1427.81 108.168 1427.81 Z\" fill=\"#000000\" fill-rule=\"nonzero\" fill-opacity=\"1\" /><path clip-path=\"url(#clip470)\" d=\"M138.33 1431.51 Q134.719 1431.51 132.89 1435.08 Q131.084 1438.62 131.084 1445.75 Q131.084 1452.86 132.89 1456.42 Q134.719 1459.96 138.33 1459.96 Q141.964 1459.96 143.769 1456.42 Q145.598 1452.86 145.598 1445.75 Q145.598 1438.62 143.769 1435.08 Q141.964 1431.51 138.33 1431.51 M138.33 1427.81 Q144.14 1427.81 147.195 1432.42 Q150.274 1437 150.274 1445.75 Q150.274 1454.48 147.195 1459.08 Q144.14 1463.67 138.33 1463.67 Q132.519 1463.67 129.441 1459.08 Q126.385 1454.48 126.385 1445.75 Q126.385 1437 129.441 1432.42 Q132.519 1427.81 138.33 1427.81 Z\" fill=\"#000000\" fill-rule=\"nonzero\" fill-opacity=\"1\" /><path clip-path=\"url(#clip470)\" d=\"M63.9319 1090.07 Q60.3208 1090.07 58.4921 1093.64 Q56.6865 1097.18 56.6865 1104.31 Q56.6865 1111.42 58.4921 1114.98 Q60.3208 1118.52 63.9319 1118.52 Q67.5661 1118.52 69.3717 1114.98 Q71.2004 1111.42 71.2004 1104.31 Q71.2004 1097.18 69.3717 1093.64 Q67.5661 1090.07 63.9319 1090.07 M63.9319 1086.37 Q69.742 1086.37 72.7976 1090.98 Q75.8763 1095.56 75.8763 1104.31 Q75.8763 1113.04 72.7976 1117.64 Q69.742 1122.23 63.9319 1122.23 Q58.1217 1122.23 55.043 1117.64 Q51.9875 1113.04 51.9875 1104.31 Q51.9875 1095.56 55.043 1090.98 Q58.1217 1086.37 63.9319 1086.37 Z\" fill=\"#000000\" fill-rule=\"nonzero\" fill-opacity=\"1\" /><path clip-path=\"url(#clip470)\" d=\"M84.0938 1115.67 L88.978 1115.67 L88.978 1121.55 L84.0938 1121.55 L84.0938 1115.67 Z\" fill=\"#000000\" fill-rule=\"nonzero\" fill-opacity=\"1\" /><path clip-path=\"url(#clip470)\" d=\"M103.191 1117.62 L119.51 1117.62 L119.51 1121.55 L97.566 1121.55 L97.566 1117.62 Q100.228 1114.86 104.811 1110.23 Q109.418 1105.58 110.598 1104.24 Q112.844 1101.72 113.723 1099.98 Q114.626 1098.22 114.626 1096.53 Q114.626 1093.78 112.682 1092.04 Q110.76 1090.3 107.658 1090.3 Q105.459 1090.3 103.006 1091.07 Q100.575 1091.83 97.7974 1093.38 L97.7974 1088.66 Q100.621 1087.53 103.075 1086.95 Q105.529 1086.37 107.566 1086.37 Q112.936 1086.37 116.131 1089.05 Q119.325 1091.74 119.325 1096.23 Q119.325 1098.36 118.515 1100.28 Q117.728 1102.18 115.621 1104.77 Q115.043 1105.44 111.941 1108.66 Q108.839 1111.86 103.191 1117.62 Z\" fill=\"#000000\" fill-rule=\"nonzero\" fill-opacity=\"1\" /><path clip-path=\"url(#clip470)\" d=\"M129.371 1086.99 L147.728 1086.99 L147.728 1090.93 L133.654 1090.93 L133.654 1099.4 Q134.672 1099.05 135.691 1098.89 Q136.709 1098.71 137.728 1098.71 Q143.515 1098.71 146.894 1101.88 Q150.274 1105.05 150.274 1110.47 Q150.274 1116.04 146.802 1119.15 Q143.33 1122.23 137.01 1122.23 Q134.834 1122.23 132.566 1121.85 Q130.32 1121.48 127.913 1120.74 L127.913 1116.04 Q129.996 1117.18 132.219 1117.73 Q134.441 1118.29 136.918 1118.29 Q140.922 1118.29 143.26 1116.18 Q145.598 1114.08 145.598 1110.47 Q145.598 1106.86 143.26 1104.75 Q140.922 1102.64 136.918 1102.64 Q135.043 1102.64 133.168 1103.06 Q131.316 1103.48 129.371 1104.36 L129.371 1086.99 Z\" fill=\"#000000\" fill-rule=\"nonzero\" fill-opacity=\"1\" /><path clip-path=\"url(#clip470)\" d=\"M62.9365 748.631 Q59.3254 748.631 57.4967 752.196 Q55.6912 755.738 55.6912 762.867 Q55.6912 769.974 57.4967 773.538 Q59.3254 777.08 62.9365 777.08 Q66.5707 777.08 68.3763 773.538 Q70.205 769.974 70.205 762.867 Q70.205 755.738 68.3763 752.196 Q66.5707 748.631 62.9365 748.631 M62.9365 744.927 Q68.7467 744.927 71.8022 749.534 Q74.8809 754.117 74.8809 762.867 Q74.8809 771.594 71.8022 776.2 Q68.7467 780.784 62.9365 780.784 Q57.1264 780.784 54.0477 776.2 Q50.9921 771.594 50.9921 762.867 Q50.9921 754.117 54.0477 749.534 Q57.1264 744.927 62.9365 744.927 Z\" fill=\"#000000\" fill-rule=\"nonzero\" fill-opacity=\"1\" /><path clip-path=\"url(#clip470)\" d=\"M83.0984 774.233 L87.9827 774.233 L87.9827 780.112 L83.0984 780.112 L83.0984 774.233 Z\" fill=\"#000000\" fill-rule=\"nonzero\" fill-opacity=\"1\" /><path clip-path=\"url(#clip470)\" d=\"M98.2141 745.552 L116.57 745.552 L116.57 749.488 L102.496 749.488 L102.496 757.96 Q103.515 757.613 104.534 757.451 Q105.552 757.265 106.571 757.265 Q112.358 757.265 115.737 760.437 Q119.117 763.608 119.117 769.025 Q119.117 774.603 115.645 777.705 Q112.172 780.784 105.853 780.784 Q103.677 780.784 101.409 780.413 Q99.1632 780.043 96.7558 779.302 L96.7558 774.603 Q98.8391 775.737 101.061 776.293 Q103.284 776.849 105.76 776.849 Q109.765 776.849 112.103 774.742 Q114.441 772.636 114.441 769.025 Q114.441 765.413 112.103 763.307 Q109.765 761.201 105.76 761.201 Q103.885 761.201 102.01 761.617 Q100.159 762.034 98.2141 762.913 L98.2141 745.552 Z\" fill=\"#000000\" fill-rule=\"nonzero\" fill-opacity=\"1\" /><path clip-path=\"url(#clip470)\" d=\"M138.33 748.631 Q134.719 748.631 132.89 752.196 Q131.084 755.738 131.084 762.867 Q131.084 769.974 132.89 773.538 Q134.719 777.08 138.33 777.08 Q141.964 777.08 143.769 773.538 Q145.598 769.974 145.598 762.867 Q145.598 755.738 143.769 752.196 Q141.964 748.631 138.33 748.631 M138.33 744.927 Q144.14 744.927 147.195 749.534 Q150.274 754.117 150.274 762.867 Q150.274 771.594 147.195 776.2 Q144.14 780.784 138.33 780.784 Q132.519 780.784 129.441 776.2 Q126.385 771.594 126.385 762.867 Q126.385 754.117 129.441 749.534 Q132.519 744.927 138.33 744.927 Z\" fill=\"#000000\" fill-rule=\"nonzero\" fill-opacity=\"1\" /><path clip-path=\"url(#clip470)\" d=\"M63.9319 407.19 Q60.3208 407.19 58.4921 410.754 Q56.6865 414.296 56.6865 421.426 Q56.6865 428.532 58.4921 432.097 Q60.3208 435.638 63.9319 435.638 Q67.5661 435.638 69.3717 432.097 Q71.2004 428.532 71.2004 421.426 Q71.2004 414.296 69.3717 410.754 Q67.5661 407.19 63.9319 407.19 M63.9319 403.486 Q69.742 403.486 72.7976 408.092 Q75.8763 412.676 75.8763 421.426 Q75.8763 430.152 72.7976 434.759 Q69.742 439.342 63.9319 439.342 Q58.1217 439.342 55.043 434.759 Q51.9875 430.152 51.9875 421.426 Q51.9875 412.676 55.043 408.092 Q58.1217 403.486 63.9319 403.486 Z\" fill=\"#000000\" fill-rule=\"nonzero\" fill-opacity=\"1\" /><path clip-path=\"url(#clip470)\" d=\"M84.0938 432.791 L88.978 432.791 L88.978 438.671 L84.0938 438.671 L84.0938 432.791 Z\" fill=\"#000000\" fill-rule=\"nonzero\" fill-opacity=\"1\" /><path clip-path=\"url(#clip470)\" d=\"M97.9826 404.111 L120.205 404.111 L120.205 406.102 L107.658 438.671 L102.774 438.671 L114.58 408.046 L97.9826 408.046 L97.9826 404.111 Z\" fill=\"#000000\" fill-rule=\"nonzero\" fill-opacity=\"1\" /><path clip-path=\"url(#clip470)\" d=\"M129.371 404.111 L147.728 404.111 L147.728 408.046 L133.654 408.046 L133.654 416.518 Q134.672 416.171 135.691 416.009 Q136.709 415.824 137.728 415.824 Q143.515 415.824 146.894 418.995 Q150.274 422.166 150.274 427.583 Q150.274 433.162 146.802 436.263 Q143.33 439.342 137.01 439.342 Q134.834 439.342 132.566 438.972 Q130.32 438.601 127.913 437.861 L127.913 433.162 Q129.996 434.296 132.219 434.851 Q134.441 435.407 136.918 435.407 Q140.922 435.407 143.26 433.3 Q145.598 431.194 145.598 427.583 Q145.598 423.972 143.26 421.865 Q140.922 419.759 136.918 419.759 Q135.043 419.759 133.168 420.176 Q131.316 420.592 129.371 421.472 L129.371 404.111 Z\" fill=\"#000000\" fill-rule=\"nonzero\" fill-opacity=\"1\" /><path clip-path=\"url(#clip470)\" d=\"M53.7467 93.294 L61.3856 93.294 L61.3856 66.9284 L53.0754 68.5951 L53.0754 64.3359 L61.3393 62.6692 L66.0152 62.6692 L66.0152 93.294 L73.654 93.294 L73.654 97.2292 L53.7467 97.2292 L53.7467 93.294 Z\" fill=\"#000000\" fill-rule=\"nonzero\" fill-opacity=\"1\" /><path clip-path=\"url(#clip470)\" d=\"M83.0984 91.3496 L87.9827 91.3496 L87.9827 97.2292 L83.0984 97.2292 L83.0984 91.3496 Z\" fill=\"#000000\" fill-rule=\"nonzero\" fill-opacity=\"1\" /><path clip-path=\"url(#clip470)\" d=\"M108.168 65.7479 Q104.557 65.7479 102.728 69.3127 Q100.922 72.8543 100.922 79.9839 Q100.922 87.0904 102.728 90.6552 Q104.557 94.1968 108.168 94.1968 Q111.802 94.1968 113.608 90.6552 Q115.436 87.0904 115.436 79.9839 Q115.436 72.8543 113.608 69.3127 Q111.802 65.7479 108.168 65.7479 M108.168 62.0442 Q113.978 62.0442 117.033 66.6507 Q120.112 71.234 120.112 79.9839 Q120.112 88.7107 117.033 93.3172 Q113.978 97.9005 108.168 97.9005 Q102.358 97.9005 99.2789 93.3172 Q96.2234 88.7107 96.2234 79.9839 Q96.2234 71.234 99.2789 66.6507 Q102.358 62.0442 108.168 62.0442 Z\" fill=\"#000000\" fill-rule=\"nonzero\" fill-opacity=\"1\" /><path clip-path=\"url(#clip470)\" d=\"M138.33 65.7479 Q134.719 65.7479 132.89 69.3127 Q131.084 72.8543 131.084 79.9839 Q131.084 87.0904 132.89 90.6552 Q134.719 94.1968 138.33 94.1968 Q141.964 94.1968 143.769 90.6552 Q145.598 87.0904 145.598 79.9839 Q145.598 72.8543 143.769 69.3127 Q141.964 65.7479 138.33 65.7479 M138.33 62.0442 Q144.14 62.0442 147.195 66.6507 Q150.274 71.234 150.274 79.9839 Q150.274 88.7107 147.195 93.3172 Q144.14 97.9005 138.33 97.9005 Q132.519 97.9005 129.441 93.3172 Q126.385 88.7107 126.385 79.9839 Q126.385 71.234 129.441 66.6507 Q132.519 62.0442 138.33 62.0442 Z\" fill=\"#000000\" fill-rule=\"nonzero\" fill-opacity=\"1\" /><polyline clip-path=\"url(#clip472)\" style=\"stroke:#009af9; stroke-linecap:round; stroke-linejoin:round; stroke-width:4; stroke-opacity:1; fill:none\" points=\"247.59,1445.72 282.231,1441.97 316.873,1434.51 351.514,1423.38 386.156,1408.65 420.797,1390.45 455.439,1368.91 490.08,1344.19 524.722,1316.48 559.363,1285.99 594.005,1252.95 628.646,1217.6 663.288,1180.2 697.93,1141.01 732.571,1100.31 767.213,1058.38 801.854,1015.49 836.496,971.916 871.137,927.928 905.779,883.787 940.42,839.741 975.062,796.027 1009.7,752.866 1044.34,710.463 1078.99,669.005 1113.63,628.658 1148.27,589.572 1182.91,551.874 1217.55,515.672 1252.19,481.053 1286.84,448.085 1321.48,416.819 1356.12,387.285 1390.76,359.499 1425.4,333.458 1460.04,309.149 1494.68,286.543 1529.33,265.601 1563.97,246.273 1598.61,228.501 1633.25,212.221 1667.89,197.364 1702.53,183.853 1737.18,171.612 1771.82,160.562 1806.46,150.624 1841.1,141.717 1875.74,133.763 1910.38,126.686 1945.02,120.412 1979.67,114.869 2014.31,109.99 2048.95,105.71 2083.59,101.97 2118.23,98.7117 2152.87,95.8845 2187.52,93.4396 2222.16,91.3329 2256.8,89.524 2291.44,87.9763 \"/>\n",
       "<path clip-path=\"url(#clip470)\" d=\"M258.49 198.898 L527.569 198.898 L527.569 95.2176 L258.49 95.2176  Z\" fill=\"#ffffff\" fill-rule=\"evenodd\" fill-opacity=\"1\"/>\n",
       "<polyline clip-path=\"url(#clip470)\" style=\"stroke:#000000; stroke-linecap:round; stroke-linejoin:round; stroke-width:4; stroke-opacity:1; fill:none\" points=\"258.49,198.898 527.569,198.898 527.569,95.2176 258.49,95.2176 258.49,198.898 \"/>\n",
       "<polyline clip-path=\"url(#clip470)\" style=\"stroke:#009af9; stroke-linecap:round; stroke-linejoin:round; stroke-width:4; stroke-opacity:1; fill:none\" points=\"282.562,147.058 426.994,147.058 \"/>\n",
       "<path clip-path=\"url(#clip470)\" d=\"M464.909 166.745 Q463.103 171.375 461.39 172.787 Q459.677 174.199 456.807 174.199 L453.404 174.199 L453.404 170.634 L455.904 170.634 Q457.663 170.634 458.636 169.8 Q459.608 168.967 460.788 165.865 L461.552 163.921 L451.066 138.412 L455.58 138.412 L463.682 158.689 L471.784 138.412 L476.298 138.412 L464.909 166.745 Z\" fill=\"#000000\" fill-rule=\"nonzero\" fill-opacity=\"1\" /><path clip-path=\"url(#clip470)\" d=\"M483.589 160.402 L491.228 160.402 L491.228 134.037 L482.918 135.703 L482.918 131.444 L491.182 129.778 L495.858 129.778 L495.858 160.402 L503.497 160.402 L503.497 164.338 L483.589 164.338 L483.589 160.402 Z\" fill=\"#000000\" fill-rule=\"nonzero\" fill-opacity=\"1\" /></svg>\n"
      ]
     },
     "metadata": {},
     "output_type": "display_data"
    }
   ],
   "source": [
    "map(exact_prob, 1:60) |> plot"
   ]
  },
  {
   "attachments": {},
   "cell_type": "markdown",
   "metadata": {},
   "source": [
    "RAFAEL IRIZARRY: In the examples we have seen,\n",
    "we have used 10,000 Monte Carlo experiments.\n",
    "It turns out that this provided very accurate estimates for the examples\n",
    "we looked at.\n",
    "In more complex calculations, 10,000 may not nearly be enough.\n",
    "Also for some calculations, 10,000 experiments\n",
    "might not be computationally feasible, and it might be more than we need.\n",
    "In practice, we won't know what the answer\n",
    "is, so we don't know if our Monte Carlo estimate is accurate.\n",
    "We know that the larger the number of experiments, we've\n",
    "been using the letter B to represent that, the better the approximation.\n",
    "But how big do we need it to be?\n",
    "This is actually a challenging question, and answering it often requires\n",
    "advanced theoretical statistics training.\n",
    "One practical approach we will describe here\n",
    "is to check for the stability of the estimate.\n",
    "Here's an example with the birthday problem.\n",
    "We're going to use n equals 22.\n",
    "There's 22 people.\n",
    "So we're going to run a simulation where we compute or estimate\n",
    "the probability of two people having a certain birthday using different sizes\n",
    "of the Monte Carlo simulations.\n",
    "So the value of b going to go from 10, to 20, to 40, to 100, et cetera.\n",
    "We compute the simulation, and now we look at the values\n",
    "that we get for each simulation.\n",
    "Remember, each simulation has a different b,\n",
    "a different number of experiments.\n",
    "When we see this graph, we can see that it's wiggling up and down.\n",
    "That's because the estimate is not stable yet.\n",
    "It's not such a great estimate.\n",
    "But as b gets bigger and bigger, eventually it starts to stabilize.\n",
    "And that's when we start getting a feeling for the fact\n",
    "that now perhaps we have a large enough number of experiments."
   ]
  },
  {
   "attachments": {
    "image.png": {
     "image/png": "[encoded data removed]"
    }
   },
   "cell_type": "markdown",
   "metadata": {},
   "source": [
    "![image.png](attachment:image.png)"
   ]
  },
  {
   "cell_type": "markdown",
   "metadata": {},
   "source": []
  },
  {
   "attachments": {},
   "cell_type": "markdown",
   "metadata": {},
   "source": [
    "# Continuous Probability"
   ]
  },
  {
   "attachments": {},
   "cell_type": "markdown",
   "metadata": {},
   "source": [
    "For a random variable that can take any value in a continuous set, it impossible to assign a positive probabilities to the infinite number of possible values. Here we describe how we mathematically define distributions for continuos random variables and useful approximations often used in data analysis."
   ]
  },
  {
   "attachments": {},
   "cell_type": "markdown",
   "metadata": {},
   "source": [
    "\n",
    "After completing Section 2, you will:\n",
    "\n",
    "understand the differences between calculating probabilities for discrete and continuous data.\n",
    "be able to use cumulative distribution functions to assign probabilities to intervals when dealing with continuous data.\n",
    "be able to use R to generate normally distributed outcomes for use in Monte Carlo simulations.\n",
    "know some of the useful theoretical continuous distributions in addition to the normal distribution, such as the student-t, chi-squared, exponential, gamma, beta, and beta-binomial distributions."
   ]
  },
  {
   "attachments": {},
   "cell_type": "markdown",
   "metadata": {},
   "source": [
    "it is much more practical to define a function that operates\n",
    "on intervals rather than single values.\n",
    "The standard way of doing this is using the cumulative distribution function."
   ]
  },
  {
   "attachments": {},
   "cell_type": "markdown",
   "metadata": {},
   "source": [
    "## Empirical Cumulative Distribution Function (ECDF)"
   ]
  },
  {
   "cell_type": "code",
   "execution_count": 38,
   "metadata": {},
   "outputs": [
    {
     "data": {
      "text/plain": [
       "247-element Vector{Int64}:\n",
       " 147\n",
       " 201\n",
       " 172\n",
       " 155\n",
       " 196\n",
       " 174\n",
       " 192\n",
       " 178\n",
       " 180\n",
       " 185\n",
       "   ⋮\n",
       " 180\n",
       " 185\n",
       " 161\n",
       " 164\n",
       " 195\n",
       " 206\n",
       " 200\n",
       " 176\n",
       " 177"
      ]
     },
     "metadata": {},
     "output_type": "display_data"
    }
   ],
   "source": [
    "# Generate a sample vector of 1000 values for height\n",
    "# download height data from a open source data set\n",
    "\n",
    "using CSV\n",
    "using DataFrames\n",
    "\n",
    "# sample heights vector in cm\n",
    "height = [147, 201, 172, 155, 196, 174, 192, 178, 180, 185,\n",
    "161, 164, 195, 206, 200, 176, 177, 198, 143, 149,\n",
    "164, 173, 163, 168, 192, 191, 153, 167, 144, 172,\n",
    "180, 189, 141, 169, 154, 160, 171, 179, 193, 198,\n",
    "187, 168, 182, 178, 171, 157, 175, 199, 162, 145,\n",
    "166, 161, 156, 150, 205, 146, 176, 209, 148, 155,\n",
    "207, 194, 203, 191, 202, 162, 144, 153, 165, 172,\n",
    "158, 202, 186, 164, 169, 182, 208, 193, 151, 181,\n",
    "142, 177, 170, 159, 184, 207, 162, 181, 170, 163,\n",
    "160, 193, 183, 200, 175, 159, 183, 154, 195, 189,\n",
    "167, 192, 152, 141, 190, 157, 162, 180, 179, 166,\n",
    "185, 198, 146, 175, 206, 147, 201, 172, 155, 196,\n",
    "174, 192, 178, 180, 185, 161, 164, 195, 206, 200,\n",
    "176, 177, 198, 143, 149, 164, 173, 163, 168, 192,\n",
    "191, 153, 167, 144, 172, 180, 189, 141, 169, 154,\n",
    "160, 171, 179, 193, 198, 187, 168, 182, 178, 171,\n",
    "157, 175, 199, 162, 145, 166, 161, 156, 150, 205,\n",
    "146, 176, 209, 148, 155, 207, 194, 203, 191, 202,\n",
    "162, 144, 153, 165, 172, 158, 202, 186, 164, 169,\n",
    "182, 208, 193, 151, 181, 142, 177, 170, 159, 184,\n",
    "207, 162, 181, 170, 163, 160, 193, 183, 200, 175,\n",
    "159, 183, 154, 195, 189, 167, 192, 152, 141, 190,\n",
    "157, 162, 180, 179, 166, 185, 198, 146, 175, 206,\n",
    "147, 201, 172, 155, 196, 174, 192, 178, 180, 185,\n",
    "161, 164, 195, 206, 200, 176, 177]\n",
    "\n",
    "\n"
   ]
  },
  {
   "attachments": {},
   "cell_type": "markdown",
   "metadata": {},
   "source": [
    "## Definition of empirical cumulative distribution function\n",
    "\n",
    "$$ F (a) = mean (x \\leq a) $$\n"
   ]
  },
  {
   "attachments": {},
   "cell_type": "markdown",
   "metadata": {},
   "source": [
    "which, for any value a, gives the proportion of values in the list x that are smaller or equal than a."
   ]
  },
  {
   "cell_type": "code",
   "execution_count": 39,
   "metadata": {},
   "outputs": [
    {
     "data": {
      "text/plain": [
       "F (generic function with 1 method)"
      ]
     },
     "metadata": {},
     "output_type": "display_data"
    }
   ],
   "source": [
    "F(a::Float64, v::Vector) = mean(v .≤ a)"
   ]
  },
  {
   "cell_type": "code",
   "execution_count": 40,
   "metadata": {},
   "outputs": [
    {
     "data": {
      "text/plain": [
       "0.4291497975708502"
      ]
     },
     "metadata": {},
     "output_type": "display_data"
    }
   ],
   "source": [
    "F(170.0, height)"
   ]
  },
  {
   "attachments": {},
   "cell_type": "markdown",
   "metadata": {},
   "source": [
    "Let’s connect the eCDF to probability by asking: if I pick one of the male students at random, what is the chance that he is taller than 170 cm? Because every student has the same chance of being picked, the answer to this is equivalent to the proportion of students that are taller than 170 cm. Using the eCDF we obtain an answer by typing:"
   ]
  },
  {
   "attachments": {},
   "cell_type": "markdown",
   "metadata": {},
   "source": [
    "$$ 1 - F(170.0, height) $$"
   ]
  },
  {
   "attachments": {},
   "cell_type": "markdown",
   "metadata": {},
   "source": [
    "The CDF is a version of the eCDF that assigns theoretical probabilities for each  \n",
    "a\n",
    "  rather than proportions computed from data. Although, as we just demonstrated, proportions computed from data can be used to define probabilities for a random variable. Specifically, the CDF for a random outcome  \n",
    "X\n",
    "  defines, for any number  \n",
    "a\n",
    " , the probability of observing a value larger than  \n",
    "a\n",
    " ."
   ]
  },
  {
   "attachments": {},
   "cell_type": "markdown",
   "metadata": {},
   "source": [
    "$$ F(a) = Pr(X ≤  a)"
   ]
  },
  {
   "attachments": {},
   "cell_type": "markdown",
   "metadata": {},
   "source": [
    "Once a CDF is defined, we can use it to compute the probability of any subset of values. For instance, the probability of a student being between height a and height b is:"
   ]
  },
  {
   "attachments": {},
   "cell_type": "markdown",
   "metadata": {},
   "source": [
    "$$ Pr(a < X ≤ b) = F(b) - F(a) $$"
   ]
  },
  {
   "attachments": {},
   "cell_type": "markdown",
   "metadata": {},
   "source": [
    "## Theorical Cumulative Distribution Function (CDF)"
   ]
  },
  {
   "attachments": {},
   "cell_type": "markdown",
   "metadata": {},
   "source": [
    "A mathematical result that is actually very useful in practice is that for most CDFs we can define a function, call it  f(x)\n",
    " , that permits us to construct the CDF using Calculus, like this:"
   ]
  },
  {
   "attachments": {},
   "cell_type": "markdown",
   "metadata": {},
   "source": [
    "$$ F(b) - F(a) = \\int_a^b f(x) dx $$"
   ]
  },
  {
   "attachments": {},
   "cell_type": "markdown",
   "metadata": {},
   "source": [
    "f(x)\n",
    "  is referred to as the probability density function. The intuition is that even for continuous outcomes we can define tiny intervals, that are almost as small as points, that have positive probabilities. If we think of the size of these intervals as the base of a rectangle,the probability density function \n",
    "f determines the height of the rectangle so that the summing up the area of these rectangles approximate the probability \n",
    "F(b)−F(a). This sum can be written as Reimann sum that is approximated by an integral:"
   ]
  },
  {
   "attachments": {
    "image.png": {
     "image/png": "[encoded data removed]"
    }
   },
   "cell_type": "markdown",
   "metadata": {},
   "source": [
    "![image.png](attachment:image.png)"
   ]
  },
  {
   "attachments": {},
   "cell_type": "markdown",
   "metadata": {},
   "source": [
    "An example of such a continuous distribution is the normal distribution. As we saw in 12.4, the probability density function is given by:"
   ]
  },
  {
   "attachments": {
    "image.png": {
     "image/png": "[encoded data removed]"
    }
   },
   "cell_type": "markdown",
   "metadata": {},
   "source": [
    "![image.png](attachment:image.png)"
   ]
  },
  {
   "attachments": {},
   "cell_type": "markdown",
   "metadata": {},
   "source": [
    "The cumulative distribution for the normal distribution is defined by a mathematical formula which in julia can be obtained with the function norm. We say that a random quantity is normally distributed with average m and standard deviation s if its probability distribution is defined by:"
   ]
  },
  {
   "cell_type": "code",
   "execution_count": 41,
   "metadata": {},
   "outputs": [],
   "source": [
    "using Distributions"
   ]
  },
  {
   "cell_type": "code",
   "execution_count": 42,
   "metadata": {},
   "outputs": [
    {
     "data": {
      "text/plain": [
       "F (generic function with 2 methods)"
      ]
     },
     "metadata": {},
     "output_type": "display_data"
    }
   ],
   "source": [
    "# create a normal distribution with mean m and standard deviation s\n",
    "\n",
    "m = mean(height)\n",
    "s = std(height)\n",
    "\n",
    "F(a) = cdf(Normal(m, s), a)"
   ]
  },
  {
   "cell_type": "code",
   "execution_count": 43,
   "metadata": {},
   "outputs": [
    {
     "data": {
      "text/plain": [
       "0.39767796609047"
      ]
     },
     "metadata": {},
     "output_type": "display_data"
    }
   ],
   "source": [
    "F(170.0)"
   ]
  },
  {
   "attachments": {},
   "cell_type": "markdown",
   "metadata": {},
   "source": [
    "## 13.10.3 Theoretical distributions as approximations\n"
   ]
  },
  {
   "attachments": {},
   "cell_type": "markdown",
   "metadata": {},
   "source": [
    "The normal distribution is derived mathematically: we do not need data to define it. For practicing data scientists, almost everything we do involves data. Data is always, technically speaking, discrete. For example, we could consider our height data categorical with each specific height a unique category. The probability distribution is defined by the proportion of students reporting each height. Here is a plot of that probability distribution"
   ]
  },
  {
   "attachments": {
    "image.png": {
     "image/png": "[encoded data removed]"
    }
   },
   "cell_type": "markdown",
   "metadata": {},
   "source": [
    "![image.png](attachment:image.png)"
   ]
  },
  {
   "attachments": {},
   "cell_type": "markdown",
   "metadata": {},
   "source": [
    "## Monte Carlos Simulations with Theoretical Distributions"
   ]
  },
  {
   "attachments": {},
   "cell_type": "markdown",
   "metadata": {},
   "source": [
    "## Generating normal distributed random numbers"
   ]
  },
  {
   "cell_type": "code",
   "execution_count": 46,
   "metadata": {},
   "outputs": [],
   "source": [
    "# create normal distribution with size n, mean m and standard deviation s\n",
    "m = 170\n",
    "s = 10\n",
    "N = 1000\n",
    "v = rand(Normal(m, s), N);"
   ]
  },
  {
   "cell_type": "markdown",
   "metadata": {},
   "source": [
    "Not surprisingly, the distribution of these outcomes\n",
    "looks normal because they were generated to look normal."
   ]
  },
  {
   "cell_type": "code",
   "execution_count": 47,
   "metadata": {},
   "outputs": [
    {
     "data": {
      "image/png": "[encoded data removed]",
      "image/svg+xml": [
       "<?xml version=\"1.0\" encoding=\"utf-8\"?>\n",
       "<svg xmlns=\"http://www.w3.org/2000/svg\" xmlns:xlink=\"http://www.w3.org/1999/xlink\" width=\"600\" height=\"400\" viewBox=\"0 0 2400 1600\">\n",
       "<defs>\n",
       "  <clipPath id=\"clip510\">\n",
       "    <rect x=\"0\" y=\"0\" width=\"2400\" height=\"1600\"/>\n",
       "  </clipPath>\n",
       "</defs>\n",
       "<path clip-path=\"url(#clip510)\" d=\"M0 1600 L2400 1600 L2400 0 L0 0  Z\" fill=\"#ffffff\" fill-rule=\"evenodd\" fill-opacity=\"1\"/>\n",
       "<defs>\n",
       "  <clipPath id=\"clip511\">\n",
       "    <rect x=\"480\" y=\"0\" width=\"1681\" height=\"1600\"/>\n",
       "  </clipPath>\n",
       "</defs>\n",
       "<path clip-path=\"url(#clip510)\" d=\"M170.857 1486.45 L2352.76 1486.45 L2352.76 47.2441 L170.857 47.2441  Z\" fill=\"#ffffff\" fill-rule=\"evenodd\" fill-opacity=\"1\"/>\n",
       "<defs>\n",
       "  <clipPath id=\"clip512\">\n",
       "    <rect x=\"170\" y=\"47\" width=\"2183\" height=\"1440\"/>\n",
       "  </clipPath>\n",
       "</defs>\n",
       "<polyline clip-path=\"url(#clip512)\" style=\"stroke:#000000; stroke-linecap:round; stroke-linejoin:round; stroke-width:2; stroke-opacity:0.1; fill:none\" points=\"440.241,1486.45 440.241,47.2441 \"/>\n",
       "<polyline clip-path=\"url(#clip512)\" style=\"stroke:#000000; stroke-linecap:round; stroke-linejoin:round; stroke-width:2; stroke-opacity:0.1; fill:none\" points=\"738.992,1486.45 738.992,47.2441 \"/>\n",
       "<polyline clip-path=\"url(#clip512)\" style=\"stroke:#000000; stroke-linecap:round; stroke-linejoin:round; stroke-width:2; stroke-opacity:0.1; fill:none\" points=\"1037.74,1486.45 1037.74,47.2441 \"/>\n",
       "<polyline clip-path=\"url(#clip512)\" style=\"stroke:#000000; stroke-linecap:round; stroke-linejoin:round; stroke-width:2; stroke-opacity:0.1; fill:none\" points=\"1336.49,1486.45 1336.49,47.2441 \"/>\n",
       "<polyline clip-path=\"url(#clip512)\" style=\"stroke:#000000; stroke-linecap:round; stroke-linejoin:round; stroke-width:2; stroke-opacity:0.1; fill:none\" points=\"1635.25,1486.45 1635.25,47.2441 \"/>\n",
       "<polyline clip-path=\"url(#clip512)\" style=\"stroke:#000000; stroke-linecap:round; stroke-linejoin:round; stroke-width:2; stroke-opacity:0.1; fill:none\" points=\"1934,1486.45 1934,47.2441 \"/>\n",
       "<polyline clip-path=\"url(#clip512)\" style=\"stroke:#000000; stroke-linecap:round; stroke-linejoin:round; stroke-width:2; stroke-opacity:0.1; fill:none\" points=\"2232.75,1486.45 2232.75,47.2441 \"/>\n",
       "<polyline clip-path=\"url(#clip510)\" style=\"stroke:#000000; stroke-linecap:round; stroke-linejoin:round; stroke-width:4; stroke-opacity:1; fill:none\" points=\"170.857,1486.45 2352.76,1486.45 \"/>\n",
       "<polyline clip-path=\"url(#clip510)\" style=\"stroke:#000000; stroke-linecap:round; stroke-linejoin:round; stroke-width:4; stroke-opacity:1; fill:none\" points=\"440.241,1486.45 440.241,1467.55 \"/>\n",
       "<polyline clip-path=\"url(#clip510)\" style=\"stroke:#000000; stroke-linecap:round; stroke-linejoin:round; stroke-width:4; stroke-opacity:1; fill:none\" points=\"738.992,1486.45 738.992,1467.55 \"/>\n",
       "<polyline clip-path=\"url(#clip510)\" style=\"stroke:#000000; stroke-linecap:round; stroke-linejoin:round; stroke-width:4; stroke-opacity:1; fill:none\" points=\"1037.74,1486.45 1037.74,1467.55 \"/>\n",
       "<polyline clip-path=\"url(#clip510)\" style=\"stroke:#000000; stroke-linecap:round; stroke-linejoin:round; stroke-width:4; stroke-opacity:1; fill:none\" points=\"1336.49,1486.45 1336.49,1467.55 \"/>\n",
       "<polyline clip-path=\"url(#clip510)\" style=\"stroke:#000000; stroke-linecap:round; stroke-linejoin:round; stroke-width:4; stroke-opacity:1; fill:none\" points=\"1635.25,1486.45 1635.25,1467.55 \"/>\n",
       "<polyline clip-path=\"url(#clip510)\" style=\"stroke:#000000; stroke-linecap:round; stroke-linejoin:round; stroke-width:4; stroke-opacity:1; fill:none\" points=\"1934,1486.45 1934,1467.55 \"/>\n",
       "<polyline clip-path=\"url(#clip510)\" style=\"stroke:#000000; stroke-linecap:round; stroke-linejoin:round; stroke-width:4; stroke-opacity:1; fill:none\" points=\"2232.75,1486.45 2232.75,1467.55 \"/>\n",
       "<path clip-path=\"url(#clip510)\" d=\"M399.848 1544.91 L407.487 1544.91 L407.487 1518.55 L399.177 1520.21 L399.177 1515.95 L407.44 1514.29 L412.116 1514.29 L412.116 1544.91 L419.755 1544.91 L419.755 1548.85 L399.848 1548.85 L399.848 1544.91 Z\" fill=\"#000000\" fill-rule=\"nonzero\" fill-opacity=\"1\" /><path clip-path=\"url(#clip510)\" d=\"M442.047 1518.36 L430.241 1536.81 L442.047 1536.81 L442.047 1518.36 M440.82 1514.29 L446.7 1514.29 L446.7 1536.81 L451.63 1536.81 L451.63 1540.7 L446.7 1540.7 L446.7 1548.85 L442.047 1548.85 L442.047 1540.7 L426.445 1540.7 L426.445 1536.19 L440.82 1514.29 Z\" fill=\"#000000\" fill-rule=\"nonzero\" fill-opacity=\"1\" /><path clip-path=\"url(#clip510)\" d=\"M469.361 1517.37 Q465.75 1517.37 463.922 1520.93 Q462.116 1524.47 462.116 1531.6 Q462.116 1538.71 463.922 1542.27 Q465.75 1545.82 469.361 1545.82 Q472.996 1545.82 474.801 1542.27 Q476.63 1538.71 476.63 1531.6 Q476.63 1524.47 474.801 1520.93 Q472.996 1517.37 469.361 1517.37 M469.361 1513.66 Q475.172 1513.66 478.227 1518.27 Q481.306 1522.85 481.306 1531.6 Q481.306 1540.33 478.227 1544.94 Q475.172 1549.52 469.361 1549.52 Q463.551 1549.52 460.473 1544.94 Q457.417 1540.33 457.417 1531.6 Q457.417 1522.85 460.473 1518.27 Q463.551 1513.66 469.361 1513.66 Z\" fill=\"#000000\" fill-rule=\"nonzero\" fill-opacity=\"1\" /><path clip-path=\"url(#clip510)\" d=\"M698.599 1544.91 L706.238 1544.91 L706.238 1518.55 L697.928 1520.21 L697.928 1515.95 L706.192 1514.29 L710.867 1514.29 L710.867 1544.91 L718.506 1544.91 L718.506 1548.85 L698.599 1548.85 L698.599 1544.91 Z\" fill=\"#000000\" fill-rule=\"nonzero\" fill-opacity=\"1\" /><path clip-path=\"url(#clip510)\" d=\"M727.997 1514.29 L746.353 1514.29 L746.353 1518.22 L732.279 1518.22 L732.279 1526.7 Q733.298 1526.35 734.316 1526.19 Q735.335 1526 736.353 1526 Q742.14 1526 745.52 1529.17 Q748.9 1532.34 748.9 1537.76 Q748.9 1543.34 745.427 1546.44 Q741.955 1549.52 735.636 1549.52 Q733.46 1549.52 731.191 1549.15 Q728.946 1548.78 726.539 1548.04 L726.539 1543.34 Q728.622 1544.47 730.844 1545.03 Q733.066 1545.58 735.543 1545.58 Q739.548 1545.58 741.886 1543.48 Q744.224 1541.37 744.224 1537.76 Q744.224 1534.15 741.886 1532.04 Q739.548 1529.94 735.543 1529.94 Q733.668 1529.94 731.793 1530.35 Q729.941 1530.77 727.997 1531.65 L727.997 1514.29 Z\" fill=\"#000000\" fill-rule=\"nonzero\" fill-opacity=\"1\" /><path clip-path=\"url(#clip510)\" d=\"M768.113 1517.37 Q764.501 1517.37 762.673 1520.93 Q760.867 1524.47 760.867 1531.6 Q760.867 1538.71 762.673 1542.27 Q764.501 1545.82 768.113 1545.82 Q771.747 1545.82 773.552 1542.27 Q775.381 1538.71 775.381 1531.6 Q775.381 1524.47 773.552 1520.93 Q771.747 1517.37 768.113 1517.37 M768.113 1513.66 Q773.923 1513.66 776.978 1518.27 Q780.057 1522.85 780.057 1531.6 Q780.057 1540.33 776.978 1544.94 Q773.923 1549.52 768.113 1549.52 Q762.302 1549.52 759.224 1544.94 Q756.168 1540.33 756.168 1531.6 Q756.168 1522.85 759.224 1518.27 Q762.302 1513.66 768.113 1513.66 Z\" fill=\"#000000\" fill-rule=\"nonzero\" fill-opacity=\"1\" /><path clip-path=\"url(#clip510)\" d=\"M997.35 1544.91 L1004.99 1544.91 L1004.99 1518.55 L996.679 1520.21 L996.679 1515.95 L1004.94 1514.29 L1009.62 1514.29 L1009.62 1544.91 L1017.26 1544.91 L1017.26 1548.85 L997.35 1548.85 L997.35 1544.91 Z\" fill=\"#000000\" fill-rule=\"nonzero\" fill-opacity=\"1\" /><path clip-path=\"url(#clip510)\" d=\"M1037.28 1529.7 Q1034.13 1529.7 1032.28 1531.86 Q1030.45 1534.01 1030.45 1537.76 Q1030.45 1541.49 1032.28 1543.66 Q1034.13 1545.82 1037.28 1545.82 Q1040.43 1545.82 1042.26 1543.66 Q1044.11 1541.49 1044.11 1537.76 Q1044.11 1534.01 1042.26 1531.86 Q1040.43 1529.7 1037.28 1529.7 M1046.56 1515.05 L1046.56 1519.31 Q1044.8 1518.48 1043 1518.04 Q1041.22 1517.6 1039.46 1517.6 Q1034.83 1517.6 1032.37 1520.72 Q1029.94 1523.85 1029.6 1530.17 Q1030.96 1528.15 1033.02 1527.09 Q1035.08 1526 1037.56 1526 Q1042.77 1526 1045.78 1529.17 Q1048.81 1532.32 1048.81 1537.76 Q1048.81 1543.08 1045.66 1546.3 Q1042.51 1549.52 1037.28 1549.52 Q1031.29 1549.52 1028.11 1544.94 Q1024.94 1540.33 1024.94 1531.6 Q1024.94 1523.41 1028.83 1518.55 Q1032.72 1513.66 1039.27 1513.66 Q1041.03 1513.66 1042.81 1514.01 Q1044.62 1514.36 1046.56 1515.05 Z\" fill=\"#000000\" fill-rule=\"nonzero\" fill-opacity=\"1\" /><path clip-path=\"url(#clip510)\" d=\"M1066.86 1517.37 Q1063.25 1517.37 1061.42 1520.93 Q1059.62 1524.47 1059.62 1531.6 Q1059.62 1538.71 1061.42 1542.27 Q1063.25 1545.82 1066.86 1545.82 Q1070.5 1545.82 1072.3 1542.27 Q1074.13 1538.71 1074.13 1531.6 Q1074.13 1524.47 1072.3 1520.93 Q1070.5 1517.37 1066.86 1517.37 M1066.86 1513.66 Q1072.67 1513.66 1075.73 1518.27 Q1078.81 1522.85 1078.81 1531.6 Q1078.81 1540.33 1075.73 1544.94 Q1072.67 1549.52 1066.86 1549.52 Q1061.05 1549.52 1057.97 1544.94 Q1054.92 1540.33 1054.92 1531.6 Q1054.92 1522.85 1057.97 1518.27 Q1061.05 1513.66 1066.86 1513.66 Z\" fill=\"#000000\" fill-rule=\"nonzero\" fill-opacity=\"1\" /><path clip-path=\"url(#clip510)\" d=\"M1296.1 1544.91 L1303.74 1544.91 L1303.74 1518.55 L1295.43 1520.21 L1295.43 1515.95 L1303.69 1514.29 L1308.37 1514.29 L1308.37 1544.91 L1316.01 1544.91 L1316.01 1548.85 L1296.1 1548.85 L1296.1 1544.91 Z\" fill=\"#000000\" fill-rule=\"nonzero\" fill-opacity=\"1\" /><path clip-path=\"url(#clip510)\" d=\"M1324.27 1514.29 L1346.49 1514.29 L1346.49 1516.28 L1333.95 1548.85 L1329.06 1548.85 L1340.87 1518.22 L1324.27 1518.22 L1324.27 1514.29 Z\" fill=\"#000000\" fill-rule=\"nonzero\" fill-opacity=\"1\" /><path clip-path=\"url(#clip510)\" d=\"M1365.61 1517.37 Q1362 1517.37 1360.17 1520.93 Q1358.37 1524.47 1358.37 1531.6 Q1358.37 1538.71 1360.17 1542.27 Q1362 1545.82 1365.61 1545.82 Q1369.25 1545.82 1371.05 1542.27 Q1372.88 1538.71 1372.88 1531.6 Q1372.88 1524.47 1371.05 1520.93 Q1369.25 1517.37 1365.61 1517.37 M1365.61 1513.66 Q1371.42 1513.66 1374.48 1518.27 Q1377.56 1522.85 1377.56 1531.6 Q1377.56 1540.33 1374.48 1544.94 Q1371.42 1549.52 1365.61 1549.52 Q1359.8 1549.52 1356.73 1544.94 Q1353.67 1540.33 1353.67 1531.6 Q1353.67 1522.85 1356.73 1518.27 Q1359.8 1513.66 1365.61 1513.66 Z\" fill=\"#000000\" fill-rule=\"nonzero\" fill-opacity=\"1\" /><path clip-path=\"url(#clip510)\" d=\"M1594.85 1544.91 L1602.49 1544.91 L1602.49 1518.55 L1594.18 1520.21 L1594.18 1515.95 L1602.44 1514.29 L1607.12 1514.29 L1607.12 1544.91 L1614.76 1544.91 L1614.76 1548.85 L1594.85 1548.85 L1594.85 1544.91 Z\" fill=\"#000000\" fill-rule=\"nonzero\" fill-opacity=\"1\" /><path clip-path=\"url(#clip510)\" d=\"M1634.2 1532.44 Q1630.87 1532.44 1628.95 1534.22 Q1627.05 1536 1627.05 1539.13 Q1627.05 1542.25 1628.95 1544.03 Q1630.87 1545.82 1634.2 1545.82 Q1637.54 1545.82 1639.46 1544.03 Q1641.38 1542.23 1641.38 1539.13 Q1641.38 1536 1639.46 1534.22 Q1637.56 1532.44 1634.2 1532.44 M1629.53 1530.45 Q1626.52 1529.7 1624.83 1527.64 Q1623.16 1525.58 1623.16 1522.62 Q1623.16 1518.48 1626.1 1516.07 Q1629.06 1513.66 1634.2 1513.66 Q1639.37 1513.66 1642.31 1516.07 Q1645.25 1518.48 1645.25 1522.62 Q1645.25 1525.58 1643.56 1527.64 Q1641.89 1529.7 1638.9 1530.45 Q1642.28 1531.23 1644.16 1533.52 Q1646.06 1535.82 1646.06 1539.13 Q1646.06 1544.15 1642.98 1546.83 Q1639.92 1549.52 1634.2 1549.52 Q1628.49 1549.52 1625.41 1546.83 Q1622.35 1544.15 1622.35 1539.13 Q1622.35 1535.82 1624.25 1533.52 Q1626.15 1531.23 1629.53 1530.45 M1627.81 1523.06 Q1627.81 1525.75 1629.48 1527.25 Q1631.17 1528.76 1634.2 1528.76 Q1637.21 1528.76 1638.9 1527.25 Q1640.62 1525.75 1640.62 1523.06 Q1640.62 1520.38 1638.9 1518.87 Q1637.21 1517.37 1634.2 1517.37 Q1631.17 1517.37 1629.48 1518.87 Q1627.81 1520.38 1627.81 1523.06 Z\" fill=\"#000000\" fill-rule=\"nonzero\" fill-opacity=\"1\" /><path clip-path=\"url(#clip510)\" d=\"M1664.37 1517.37 Q1660.75 1517.37 1658.93 1520.93 Q1657.12 1524.47 1657.12 1531.6 Q1657.12 1538.71 1658.93 1542.27 Q1660.75 1545.82 1664.37 1545.82 Q1668 1545.82 1669.81 1542.27 Q1671.63 1538.71 1671.63 1531.6 Q1671.63 1524.47 1669.81 1520.93 Q1668 1517.37 1664.37 1517.37 M1664.37 1513.66 Q1670.18 1513.66 1673.23 1518.27 Q1676.31 1522.85 1676.31 1531.6 Q1676.31 1540.33 1673.23 1544.94 Q1670.18 1549.52 1664.37 1549.52 Q1658.56 1549.52 1655.48 1544.94 Q1652.42 1540.33 1652.42 1531.6 Q1652.42 1522.85 1655.48 1518.27 Q1658.56 1513.66 1664.37 1513.66 Z\" fill=\"#000000\" fill-rule=\"nonzero\" fill-opacity=\"1\" /><path clip-path=\"url(#clip510)\" d=\"M1893.6 1544.91 L1901.24 1544.91 L1901.24 1518.55 L1892.93 1520.21 L1892.93 1515.95 L1901.2 1514.29 L1905.87 1514.29 L1905.87 1544.91 L1913.51 1544.91 L1913.51 1548.85 L1893.6 1548.85 L1893.6 1544.91 Z\" fill=\"#000000\" fill-rule=\"nonzero\" fill-opacity=\"1\" /><path clip-path=\"url(#clip510)\" d=\"M1923.09 1548.13 L1923.09 1543.87 Q1924.85 1544.7 1926.66 1545.14 Q1928.46 1545.58 1930.2 1545.58 Q1934.83 1545.58 1937.26 1542.48 Q1939.71 1539.36 1940.06 1533.01 Q1938.72 1535.01 1936.66 1536.07 Q1934.6 1537.13 1932.1 1537.13 Q1926.91 1537.13 1923.88 1534.01 Q1920.87 1530.86 1920.87 1525.42 Q1920.87 1520.1 1924.02 1516.88 Q1927.17 1513.66 1932.4 1513.66 Q1938.39 1513.66 1941.54 1518.27 Q1944.71 1522.85 1944.71 1531.6 Q1944.71 1539.77 1940.83 1544.66 Q1936.96 1549.52 1930.41 1549.52 Q1928.65 1549.52 1926.84 1549.17 Q1925.04 1548.82 1923.09 1548.13 M1932.4 1533.48 Q1935.55 1533.48 1937.38 1531.32 Q1939.23 1529.17 1939.23 1525.42 Q1939.23 1521.7 1937.38 1519.54 Q1935.55 1517.37 1932.4 1517.37 Q1929.25 1517.37 1927.4 1519.54 Q1925.57 1521.7 1925.57 1525.42 Q1925.57 1529.17 1927.4 1531.32 Q1929.25 1533.48 1932.4 1533.48 Z\" fill=\"#000000\" fill-rule=\"nonzero\" fill-opacity=\"1\" /><path clip-path=\"url(#clip510)\" d=\"M1963.12 1517.37 Q1959.51 1517.37 1957.68 1520.93 Q1955.87 1524.47 1955.87 1531.6 Q1955.87 1538.71 1957.68 1542.27 Q1959.51 1545.82 1963.12 1545.82 Q1966.75 1545.82 1968.56 1542.27 Q1970.39 1538.71 1970.39 1531.6 Q1970.39 1524.47 1968.56 1520.93 Q1966.75 1517.37 1963.12 1517.37 M1963.12 1513.66 Q1968.93 1513.66 1971.98 1518.27 Q1975.06 1522.85 1975.06 1531.6 Q1975.06 1540.33 1971.98 1544.94 Q1968.93 1549.52 1963.12 1549.52 Q1957.31 1549.52 1954.23 1544.94 Q1951.17 1540.33 1951.17 1531.6 Q1951.17 1522.85 1954.23 1518.27 Q1957.31 1513.66 1963.12 1513.66 Z\" fill=\"#000000\" fill-rule=\"nonzero\" fill-opacity=\"1\" /><path clip-path=\"url(#clip510)\" d=\"M2196.44 1544.91 L2212.76 1544.91 L2212.76 1548.85 L2190.81 1548.85 L2190.81 1544.91 Q2193.48 1542.16 2198.06 1537.53 Q2202.67 1532.88 2203.85 1531.53 Q2206.09 1529.01 2206.97 1527.27 Q2207.88 1525.51 2207.88 1523.82 Q2207.88 1521.07 2205.93 1519.33 Q2204.01 1517.6 2200.91 1517.6 Q2198.71 1517.6 2196.25 1518.36 Q2193.82 1519.13 2191.05 1520.68 L2191.05 1515.95 Q2193.87 1514.82 2196.32 1514.24 Q2198.78 1513.66 2200.81 1513.66 Q2206.19 1513.66 2209.38 1516.35 Q2212.57 1519.03 2212.57 1523.52 Q2212.57 1525.65 2211.76 1527.57 Q2210.98 1529.47 2208.87 1532.07 Q2208.29 1532.74 2205.19 1535.95 Q2202.09 1539.15 2196.44 1544.91 Z\" fill=\"#000000\" fill-rule=\"nonzero\" fill-opacity=\"1\" /><path clip-path=\"url(#clip510)\" d=\"M2232.57 1517.37 Q2228.96 1517.37 2227.13 1520.93 Q2225.33 1524.47 2225.33 1531.6 Q2225.33 1538.71 2227.13 1542.27 Q2228.96 1545.82 2232.57 1545.82 Q2236.21 1545.82 2238.01 1542.27 Q2239.84 1538.71 2239.84 1531.6 Q2239.84 1524.47 2238.01 1520.93 Q2236.21 1517.37 2232.57 1517.37 M2232.57 1513.66 Q2238.38 1513.66 2241.44 1518.27 Q2244.52 1522.85 2244.52 1531.6 Q2244.52 1540.33 2241.44 1544.94 Q2238.38 1549.52 2232.57 1549.52 Q2226.76 1549.52 2223.69 1544.94 Q2220.63 1540.33 2220.63 1531.6 Q2220.63 1522.85 2223.69 1518.27 Q2226.76 1513.66 2232.57 1513.66 Z\" fill=\"#000000\" fill-rule=\"nonzero\" fill-opacity=\"1\" /><path clip-path=\"url(#clip510)\" d=\"M2262.74 1517.37 Q2259.12 1517.37 2257.3 1520.93 Q2255.49 1524.47 2255.49 1531.6 Q2255.49 1538.71 2257.3 1542.27 Q2259.12 1545.82 2262.74 1545.82 Q2266.37 1545.82 2268.18 1542.27 Q2270 1538.71 2270 1531.6 Q2270 1524.47 2268.18 1520.93 Q2266.37 1517.37 2262.74 1517.37 M2262.74 1513.66 Q2268.55 1513.66 2271.6 1518.27 Q2274.68 1522.85 2274.68 1531.6 Q2274.68 1540.33 2271.6 1544.94 Q2268.55 1549.52 2262.74 1549.52 Q2256.93 1549.52 2253.85 1544.94 Q2250.79 1540.33 2250.79 1531.6 Q2250.79 1522.85 2253.85 1518.27 Q2256.93 1513.66 2262.74 1513.66 Z\" fill=\"#000000\" fill-rule=\"nonzero\" fill-opacity=\"1\" /><polyline clip-path=\"url(#clip512)\" style=\"stroke:#000000; stroke-linecap:round; stroke-linejoin:round; stroke-width:2; stroke-opacity:0.1; fill:none\" points=\"170.857,1445.72 2352.76,1445.72 \"/>\n",
       "<polyline clip-path=\"url(#clip512)\" style=\"stroke:#000000; stroke-linecap:round; stroke-linejoin:round; stroke-width:2; stroke-opacity:0.1; fill:none\" points=\"170.857,1123.98 2352.76,1123.98 \"/>\n",
       "<polyline clip-path=\"url(#clip512)\" style=\"stroke:#000000; stroke-linecap:round; stroke-linejoin:round; stroke-width:2; stroke-opacity:0.1; fill:none\" points=\"170.857,802.237 2352.76,802.237 \"/>\n",
       "<polyline clip-path=\"url(#clip512)\" style=\"stroke:#000000; stroke-linecap:round; stroke-linejoin:round; stroke-width:2; stroke-opacity:0.1; fill:none\" points=\"170.857,480.498 2352.76,480.498 \"/>\n",
       "<polyline clip-path=\"url(#clip512)\" style=\"stroke:#000000; stroke-linecap:round; stroke-linejoin:round; stroke-width:2; stroke-opacity:0.1; fill:none\" points=\"170.857,158.759 2352.76,158.759 \"/>\n",
       "<polyline clip-path=\"url(#clip510)\" style=\"stroke:#000000; stroke-linecap:round; stroke-linejoin:round; stroke-width:4; stroke-opacity:1; fill:none\" points=\"170.857,1486.45 170.857,47.2441 \"/>\n",
       "<polyline clip-path=\"url(#clip510)\" style=\"stroke:#000000; stroke-linecap:round; stroke-linejoin:round; stroke-width:4; stroke-opacity:1; fill:none\" points=\"170.857,1445.72 189.755,1445.72 \"/>\n",
       "<polyline clip-path=\"url(#clip510)\" style=\"stroke:#000000; stroke-linecap:round; stroke-linejoin:round; stroke-width:4; stroke-opacity:1; fill:none\" points=\"170.857,1123.98 189.755,1123.98 \"/>\n",
       "<polyline clip-path=\"url(#clip510)\" style=\"stroke:#000000; stroke-linecap:round; stroke-linejoin:round; stroke-width:4; stroke-opacity:1; fill:none\" points=\"170.857,802.237 189.755,802.237 \"/>\n",
       "<polyline clip-path=\"url(#clip510)\" style=\"stroke:#000000; stroke-linecap:round; stroke-linejoin:round; stroke-width:4; stroke-opacity:1; fill:none\" points=\"170.857,480.498 189.755,480.498 \"/>\n",
       "<polyline clip-path=\"url(#clip510)\" style=\"stroke:#000000; stroke-linecap:round; stroke-linejoin:round; stroke-width:4; stroke-opacity:1; fill:none\" points=\"170.857,158.759 189.755,158.759 \"/>\n",
       "<path clip-path=\"url(#clip510)\" d=\"M122.913 1431.51 Q119.302 1431.51 117.473 1435.08 Q115.668 1438.62 115.668 1445.75 Q115.668 1452.86 117.473 1456.42 Q119.302 1459.96 122.913 1459.96 Q126.547 1459.96 128.353 1456.42 Q130.182 1452.86 130.182 1445.75 Q130.182 1438.62 128.353 1435.08 Q126.547 1431.51 122.913 1431.51 M122.913 1427.81 Q128.723 1427.81 131.779 1432.42 Q134.857 1437 134.857 1445.75 Q134.857 1454.48 131.779 1459.08 Q128.723 1463.67 122.913 1463.67 Q117.103 1463.67 114.024 1459.08 Q110.969 1454.48 110.969 1445.75 Q110.969 1437 114.024 1432.42 Q117.103 1427.81 122.913 1427.81 Z\" fill=\"#000000\" fill-rule=\"nonzero\" fill-opacity=\"1\" /><path clip-path=\"url(#clip510)\" d=\"M82.7975 1106.7 L101.154 1106.7 L101.154 1110.63 L87.0799 1110.63 L87.0799 1119.1 Q88.0984 1118.76 89.1169 1118.59 Q90.1354 1118.41 91.1539 1118.41 Q96.941 1118.41 100.321 1121.58 Q103.7 1124.75 103.7 1130.17 Q103.7 1135.75 100.228 1138.85 Q96.7558 1141.93 90.4364 1141.93 Q88.2604 1141.93 85.9919 1141.56 Q83.7466 1141.19 81.3392 1140.45 L81.3392 1135.75 Q83.4225 1136.88 85.6447 1137.44 Q87.8669 1137.99 90.3438 1137.99 Q94.3484 1137.99 96.6863 1135.89 Q99.0243 1133.78 99.0243 1130.17 Q99.0243 1126.56 96.6863 1124.45 Q94.3484 1122.34 90.3438 1122.34 Q88.4688 1122.34 86.5938 1122.76 Q84.7419 1123.18 82.7975 1124.06 L82.7975 1106.7 Z\" fill=\"#000000\" fill-rule=\"nonzero\" fill-opacity=\"1\" /><path clip-path=\"url(#clip510)\" d=\"M122.913 1109.78 Q119.302 1109.78 117.473 1113.34 Q115.668 1116.88 115.668 1124.01 Q115.668 1131.12 117.473 1134.68 Q119.302 1138.22 122.913 1138.22 Q126.547 1138.22 128.353 1134.68 Q130.182 1131.12 130.182 1124.01 Q130.182 1116.88 128.353 1113.34 Q126.547 1109.78 122.913 1109.78 M122.913 1106.07 Q128.723 1106.07 131.779 1110.68 Q134.857 1115.26 134.857 1124.01 Q134.857 1132.74 131.779 1137.34 Q128.723 1141.93 122.913 1141.93 Q117.103 1141.93 114.024 1137.34 Q110.969 1132.74 110.969 1124.01 Q110.969 1115.26 114.024 1110.68 Q117.103 1106.07 122.913 1106.07 Z\" fill=\"#000000\" fill-rule=\"nonzero\" fill-opacity=\"1\" /><path clip-path=\"url(#clip510)\" d=\"M53.3995 815.582 L61.0384 815.582 L61.0384 789.217 L52.7282 790.883 L52.7282 786.624 L60.9921 784.957 L65.668 784.957 L65.668 815.582 L73.3068 815.582 L73.3068 819.517 L53.3995 819.517 L53.3995 815.582 Z\" fill=\"#000000\" fill-rule=\"nonzero\" fill-opacity=\"1\" /><path clip-path=\"url(#clip510)\" d=\"M92.7512 788.036 Q89.1401 788.036 87.3114 791.601 Q85.5058 795.142 85.5058 802.272 Q85.5058 809.378 87.3114 812.943 Q89.1401 816.485 92.7512 816.485 Q96.3854 816.485 98.1909 812.943 Q100.02 809.378 100.02 802.272 Q100.02 795.142 98.1909 791.601 Q96.3854 788.036 92.7512 788.036 M92.7512 784.332 Q98.5613 784.332 101.617 788.939 Q104.696 793.522 104.696 802.272 Q104.696 810.999 101.617 815.605 Q98.5613 820.189 92.7512 820.189 Q86.941 820.189 83.8623 815.605 Q80.8068 810.999 80.8068 802.272 Q80.8068 793.522 83.8623 788.939 Q86.941 784.332 92.7512 784.332 Z\" fill=\"#000000\" fill-rule=\"nonzero\" fill-opacity=\"1\" /><path clip-path=\"url(#clip510)\" d=\"M122.913 788.036 Q119.302 788.036 117.473 791.601 Q115.668 795.142 115.668 802.272 Q115.668 809.378 117.473 812.943 Q119.302 816.485 122.913 816.485 Q126.547 816.485 128.353 812.943 Q130.182 809.378 130.182 802.272 Q130.182 795.142 128.353 791.601 Q126.547 788.036 122.913 788.036 M122.913 784.332 Q128.723 784.332 131.779 788.939 Q134.857 793.522 134.857 802.272 Q134.857 810.999 131.779 815.605 Q128.723 820.189 122.913 820.189 Q117.103 820.189 114.024 815.605 Q110.969 810.999 110.969 802.272 Q110.969 793.522 114.024 788.939 Q117.103 784.332 122.913 784.332 Z\" fill=\"#000000\" fill-rule=\"nonzero\" fill-opacity=\"1\" /><path clip-path=\"url(#clip510)\" d=\"M53.3995 493.843 L61.0384 493.843 L61.0384 467.477 L52.7282 469.144 L52.7282 464.885 L60.9921 463.218 L65.668 463.218 L65.668 493.843 L73.3068 493.843 L73.3068 497.778 L53.3995 497.778 L53.3995 493.843 Z\" fill=\"#000000\" fill-rule=\"nonzero\" fill-opacity=\"1\" /><path clip-path=\"url(#clip510)\" d=\"M82.7975 463.218 L101.154 463.218 L101.154 467.153 L87.0799 467.153 L87.0799 475.625 Q88.0984 475.278 89.1169 475.116 Q90.1354 474.931 91.1539 474.931 Q96.941 474.931 100.321 478.102 Q103.7 481.274 103.7 486.69 Q103.7 492.269 100.228 495.371 Q96.7558 498.449 90.4364 498.449 Q88.2604 498.449 85.9919 498.079 Q83.7466 497.709 81.3392 496.968 L81.3392 492.269 Q83.4225 493.403 85.6447 493.959 Q87.8669 494.514 90.3438 494.514 Q94.3484 494.514 96.6863 492.408 Q99.0243 490.301 99.0243 486.69 Q99.0243 483.079 96.6863 480.973 Q94.3484 478.866 90.3438 478.866 Q88.4688 478.866 86.5938 479.283 Q84.7419 479.699 82.7975 480.579 L82.7975 463.218 Z\" fill=\"#000000\" fill-rule=\"nonzero\" fill-opacity=\"1\" /><path clip-path=\"url(#clip510)\" d=\"M122.913 466.297 Q119.302 466.297 117.473 469.862 Q115.668 473.403 115.668 480.533 Q115.668 487.639 117.473 491.204 Q119.302 494.746 122.913 494.746 Q126.547 494.746 128.353 491.204 Q130.182 487.639 130.182 480.533 Q130.182 473.403 128.353 469.862 Q126.547 466.297 122.913 466.297 M122.913 462.593 Q128.723 462.593 131.779 467.2 Q134.857 471.783 134.857 480.533 Q134.857 489.26 131.779 493.866 Q128.723 498.449 122.913 498.449 Q117.103 498.449 114.024 493.866 Q110.969 489.26 110.969 480.533 Q110.969 471.783 114.024 467.2 Q117.103 462.593 122.913 462.593 Z\" fill=\"#000000\" fill-rule=\"nonzero\" fill-opacity=\"1\" /><path clip-path=\"url(#clip510)\" d=\"M56.6171 172.104 L72.9365 172.104 L72.9365 176.039 L50.9921 176.039 L50.9921 172.104 Q53.6541 169.349 58.2375 164.72 Q62.8439 160.067 64.0245 158.724 Q66.2698 156.201 67.1494 154.465 Q68.0522 152.706 68.0522 151.016 Q68.0522 148.261 66.1078 146.525 Q64.1865 144.789 61.0847 144.789 Q58.8856 144.789 56.4319 145.553 Q54.0014 146.317 51.2236 147.868 L51.2236 143.146 Q54.0477 142.011 56.5014 141.433 Q58.955 140.854 60.9921 140.854 Q66.3624 140.854 69.5568 143.539 Q72.7513 146.224 72.7513 150.715 Q72.7513 152.845 71.9411 154.766 Q71.1541 156.664 69.0476 159.257 Q68.4689 159.928 65.367 163.145 Q62.2652 166.34 56.6171 172.104 Z\" fill=\"#000000\" fill-rule=\"nonzero\" fill-opacity=\"1\" /><path clip-path=\"url(#clip510)\" d=\"M92.7512 144.558 Q89.1401 144.558 87.3114 148.122 Q85.5058 151.664 85.5058 158.794 Q85.5058 165.9 87.3114 169.465 Q89.1401 173.007 92.7512 173.007 Q96.3854 173.007 98.1909 169.465 Q100.02 165.9 100.02 158.794 Q100.02 151.664 98.1909 148.122 Q96.3854 144.558 92.7512 144.558 M92.7512 140.854 Q98.5613 140.854 101.617 145.46 Q104.696 150.044 104.696 158.794 Q104.696 167.52 101.617 172.127 Q98.5613 176.71 92.7512 176.71 Q86.941 176.71 83.8623 172.127 Q80.8068 167.52 80.8068 158.794 Q80.8068 150.044 83.8623 145.46 Q86.941 140.854 92.7512 140.854 Z\" fill=\"#000000\" fill-rule=\"nonzero\" fill-opacity=\"1\" /><path clip-path=\"url(#clip510)\" d=\"M122.913 144.558 Q119.302 144.558 117.473 148.122 Q115.668 151.664 115.668 158.794 Q115.668 165.9 117.473 169.465 Q119.302 173.007 122.913 173.007 Q126.547 173.007 128.353 169.465 Q130.182 165.9 130.182 158.794 Q130.182 151.664 128.353 148.122 Q126.547 144.558 122.913 144.558 M122.913 140.854 Q128.723 140.854 131.779 145.46 Q134.857 150.044 134.857 158.794 Q134.857 167.52 131.779 172.127 Q128.723 176.71 122.913 176.71 Q117.103 176.71 114.024 172.127 Q110.969 167.52 110.969 158.794 Q110.969 150.044 114.024 145.46 Q117.103 140.854 122.913 140.854 Z\" fill=\"#000000\" fill-rule=\"nonzero\" fill-opacity=\"1\" /><path clip-path=\"url(#clip512)\" d=\"M290.866 1439.28 L290.866 1445.72 L440.241 1445.72 L440.241 1439.28 L290.866 1439.28 L290.866 1439.28  Z\" fill=\"#009af9\" fill-rule=\"evenodd\" fill-opacity=\"1\"/>\n",
       "<polyline clip-path=\"url(#clip512)\" style=\"stroke:#000000; stroke-linecap:round; stroke-linejoin:round; stroke-width:4; stroke-opacity:1; fill:none\" points=\"290.866,1439.28 290.866,1445.72 440.241,1445.72 440.241,1439.28 290.866,1439.28 \"/>\n",
       "<path clip-path=\"url(#clip512)\" d=\"M440.241 1400.67 L440.241 1445.72 L589.617 1445.72 L589.617 1400.67 L440.241 1400.67 L440.241 1400.67  Z\" fill=\"#009af9\" fill-rule=\"evenodd\" fill-opacity=\"1\"/>\n",
       "<polyline clip-path=\"url(#clip512)\" style=\"stroke:#000000; stroke-linecap:round; stroke-linejoin:round; stroke-width:4; stroke-opacity:1; fill:none\" points=\"440.241,1400.67 440.241,1445.72 589.617,1445.72 589.617,1400.67 440.241,1400.67 \"/>\n",
       "<path clip-path=\"url(#clip512)\" d=\"M589.617 1304.15 L589.617 1445.72 L738.992 1445.72 L738.992 1304.15 L589.617 1304.15 L589.617 1304.15  Z\" fill=\"#009af9\" fill-rule=\"evenodd\" fill-opacity=\"1\"/>\n",
       "<polyline clip-path=\"url(#clip512)\" style=\"stroke:#000000; stroke-linecap:round; stroke-linejoin:round; stroke-width:4; stroke-opacity:1; fill:none\" points=\"589.617,1304.15 589.617,1445.72 738.992,1445.72 738.992,1304.15 589.617,1304.15 \"/>\n",
       "<path clip-path=\"url(#clip512)\" d=\"M738.992 1169.02 L738.992 1445.72 L888.368 1445.72 L888.368 1169.02 L738.992 1169.02 L738.992 1169.02  Z\" fill=\"#009af9\" fill-rule=\"evenodd\" fill-opacity=\"1\"/>\n",
       "<polyline clip-path=\"url(#clip512)\" style=\"stroke:#000000; stroke-linecap:round; stroke-linejoin:round; stroke-width:4; stroke-opacity:1; fill:none\" points=\"738.992,1169.02 738.992,1445.72 888.368,1445.72 888.368,1169.02 738.992,1169.02 \"/>\n",
       "<path clip-path=\"url(#clip512)\" d=\"M888.368 892.324 L888.368 1445.72 L1037.74 1445.72 L1037.74 892.324 L888.368 892.324 L888.368 892.324  Z\" fill=\"#009af9\" fill-rule=\"evenodd\" fill-opacity=\"1\"/>\n",
       "<polyline clip-path=\"url(#clip512)\" style=\"stroke:#000000; stroke-linecap:round; stroke-linejoin:round; stroke-width:4; stroke-opacity:1; fill:none\" points=\"888.368,892.324 888.368,1445.72 1037.74,1445.72 1037.74,892.324 888.368,892.324 \"/>\n",
       "<path clip-path=\"url(#clip512)\" d=\"M1037.74 583.455 L1037.74 1445.72 L1187.12 1445.72 L1187.12 583.455 L1037.74 583.455 L1037.74 583.455  Z\" fill=\"#009af9\" fill-rule=\"evenodd\" fill-opacity=\"1\"/>\n",
       "<polyline clip-path=\"url(#clip512)\" style=\"stroke:#000000; stroke-linecap:round; stroke-linejoin:round; stroke-width:4; stroke-opacity:1; fill:none\" points=\"1037.74,583.455 1037.74,1445.72 1187.12,1445.72 1187.12,583.455 1037.74,583.455 \"/>\n",
       "<path clip-path=\"url(#clip512)\" d=\"M1187.12 145.889 L1187.12 1445.72 L1336.49 1445.72 L1336.49 145.889 L1187.12 145.889 L1187.12 145.889  Z\" fill=\"#009af9\" fill-rule=\"evenodd\" fill-opacity=\"1\"/>\n",
       "<polyline clip-path=\"url(#clip512)\" style=\"stroke:#000000; stroke-linecap:round; stroke-linejoin:round; stroke-width:4; stroke-opacity:1; fill:none\" points=\"1187.12,145.889 1187.12,1445.72 1336.49,1445.72 1336.49,145.889 1187.12,145.889 \"/>\n",
       "<path clip-path=\"url(#clip512)\" d=\"M1336.49 87.9763 L1336.49 1445.72 L1485.87 1445.72 L1485.87 87.9763 L1336.49 87.9763 L1336.49 87.9763  Z\" fill=\"#009af9\" fill-rule=\"evenodd\" fill-opacity=\"1\"/>\n",
       "<polyline clip-path=\"url(#clip512)\" style=\"stroke:#000000; stroke-linecap:round; stroke-linejoin:round; stroke-width:4; stroke-opacity:1; fill:none\" points=\"1336.49,87.9763 1336.49,1445.72 1485.87,1445.72 1485.87,87.9763 1336.49,87.9763 \"/>\n",
       "<path clip-path=\"url(#clip512)\" d=\"M1485.87 538.411 L1485.87 1445.72 L1635.25 1445.72 L1635.25 538.411 L1485.87 538.411 L1485.87 538.411  Z\" fill=\"#009af9\" fill-rule=\"evenodd\" fill-opacity=\"1\"/>\n",
       "<polyline clip-path=\"url(#clip512)\" style=\"stroke:#000000; stroke-linecap:round; stroke-linejoin:round; stroke-width:4; stroke-opacity:1; fill:none\" points=\"1485.87,538.411 1485.87,1445.72 1635.25,1445.72 1635.25,538.411 1485.87,538.411 \"/>\n",
       "<path clip-path=\"url(#clip512)\" d=\"M1635.25 873.02 L1635.25 1445.72 L1784.62 1445.72 L1784.62 873.02 L1635.25 873.02 L1635.25 873.02  Z\" fill=\"#009af9\" fill-rule=\"evenodd\" fill-opacity=\"1\"/>\n",
       "<polyline clip-path=\"url(#clip512)\" style=\"stroke:#000000; stroke-linecap:round; stroke-linejoin:round; stroke-width:4; stroke-opacity:1; fill:none\" points=\"1635.25,873.02 1635.25,1445.72 1784.62,1445.72 1784.62,873.02 1635.25,873.02 \"/>\n",
       "<path clip-path=\"url(#clip512)\" d=\"M1784.62 1143.28 L1784.62 1445.72 L1934 1445.72 L1934 1143.28 L1784.62 1143.28 L1784.62 1143.28  Z\" fill=\"#009af9\" fill-rule=\"evenodd\" fill-opacity=\"1\"/>\n",
       "<polyline clip-path=\"url(#clip512)\" style=\"stroke:#000000; stroke-linecap:round; stroke-linejoin:round; stroke-width:4; stroke-opacity:1; fill:none\" points=\"1784.62,1143.28 1784.62,1445.72 1934,1445.72 1934,1143.28 1784.62,1143.28 \"/>\n",
       "<path clip-path=\"url(#clip512)\" d=\"M1934 1355.63 L1934 1445.72 L2083.37 1445.72 L2083.37 1355.63 L1934 1355.63 L1934 1355.63  Z\" fill=\"#009af9\" fill-rule=\"evenodd\" fill-opacity=\"1\"/>\n",
       "<polyline clip-path=\"url(#clip512)\" style=\"stroke:#000000; stroke-linecap:round; stroke-linejoin:round; stroke-width:4; stroke-opacity:1; fill:none\" points=\"1934,1355.63 1934,1445.72 2083.37,1445.72 2083.37,1355.63 1934,1355.63 \"/>\n",
       "<path clip-path=\"url(#clip512)\" d=\"M2083.37 1426.41 L2083.37 1445.72 L2232.75 1445.72 L2232.75 1426.41 L2083.37 1426.41 L2083.37 1426.41  Z\" fill=\"#009af9\" fill-rule=\"evenodd\" fill-opacity=\"1\"/>\n",
       "<polyline clip-path=\"url(#clip512)\" style=\"stroke:#000000; stroke-linecap:round; stroke-linejoin:round; stroke-width:4; stroke-opacity:1; fill:none\" points=\"2083.37,1426.41 2083.37,1445.72 2232.75,1445.72 2232.75,1426.41 2083.37,1426.41 \"/>\n",
       "<circle clip-path=\"url(#clip512)\" style=\"fill:#009af9; stroke:none; fill-opacity:0\" cx=\"365.553\" cy=\"1439.28\" r=\"2\"/>\n",
       "<circle clip-path=\"url(#clip512)\" style=\"fill:#009af9; stroke:none; fill-opacity:0\" cx=\"514.929\" cy=\"1400.67\" r=\"2\"/>\n",
       "<circle clip-path=\"url(#clip512)\" style=\"fill:#009af9; stroke:none; fill-opacity:0\" cx=\"664.305\" cy=\"1304.15\" r=\"2\"/>\n",
       "<circle clip-path=\"url(#clip512)\" style=\"fill:#009af9; stroke:none; fill-opacity:0\" cx=\"813.68\" cy=\"1169.02\" r=\"2\"/>\n",
       "<circle clip-path=\"url(#clip512)\" style=\"fill:#009af9; stroke:none; fill-opacity:0\" cx=\"963.056\" cy=\"892.324\" r=\"2\"/>\n",
       "<circle clip-path=\"url(#clip512)\" style=\"fill:#009af9; stroke:none; fill-opacity:0\" cx=\"1112.43\" cy=\"583.455\" r=\"2\"/>\n",
       "<circle clip-path=\"url(#clip512)\" style=\"fill:#009af9; stroke:none; fill-opacity:0\" cx=\"1261.81\" cy=\"145.889\" r=\"2\"/>\n",
       "<circle clip-path=\"url(#clip512)\" style=\"fill:#009af9; stroke:none; fill-opacity:0\" cx=\"1411.18\" cy=\"87.9763\" r=\"2\"/>\n",
       "<circle clip-path=\"url(#clip512)\" style=\"fill:#009af9; stroke:none; fill-opacity:0\" cx=\"1560.56\" cy=\"538.411\" r=\"2\"/>\n",
       "<circle clip-path=\"url(#clip512)\" style=\"fill:#009af9; stroke:none; fill-opacity:0\" cx=\"1709.93\" cy=\"873.02\" r=\"2\"/>\n",
       "<circle clip-path=\"url(#clip512)\" style=\"fill:#009af9; stroke:none; fill-opacity:0\" cx=\"1859.31\" cy=\"1143.28\" r=\"2\"/>\n",
       "<circle clip-path=\"url(#clip512)\" style=\"fill:#009af9; stroke:none; fill-opacity:0\" cx=\"2008.68\" cy=\"1355.63\" r=\"2\"/>\n",
       "<circle clip-path=\"url(#clip512)\" style=\"fill:#009af9; stroke:none; fill-opacity:0\" cx=\"2158.06\" cy=\"1426.41\" r=\"2\"/>\n",
       "<path clip-path=\"url(#clip510)\" d=\"M2009.41 198.898 L2280.03 198.898 L2280.03 95.2176 L2009.41 95.2176  Z\" fill=\"#ffffff\" fill-rule=\"evenodd\" fill-opacity=\"1\"/>\n",
       "<polyline clip-path=\"url(#clip510)\" style=\"stroke:#000000; stroke-linecap:round; stroke-linejoin:round; stroke-width:4; stroke-opacity:1; fill:none\" points=\"2009.41,198.898 2280.03,198.898 2280.03,95.2176 2009.41,95.2176 2009.41,198.898 \"/>\n",
       "<path clip-path=\"url(#clip510)\" d=\"M2033.65 167.794 L2179.11 167.794 L2179.11 126.322 L2033.65 126.322 L2033.65 167.794  Z\" fill=\"#009af9\" fill-rule=\"evenodd\" fill-opacity=\"1\"/>\n",
       "<polyline clip-path=\"url(#clip510)\" style=\"stroke:#000000; stroke-linecap:round; stroke-linejoin:round; stroke-width:4; stroke-opacity:1; fill:none\" points=\"2033.65,167.794 2179.11,167.794 2179.11,126.322 2033.65,126.322 2033.65,167.794 \"/>\n",
       "<path clip-path=\"url(#clip510)\" d=\"M2217.19 166.745 Q2215.39 171.375 2213.68 172.787 Q2211.96 174.199 2209.09 174.199 L2205.69 174.199 L2205.69 170.634 L2208.19 170.634 Q2209.95 170.634 2210.92 169.8 Q2211.89 168.967 2213.07 165.865 L2213.84 163.921 L2203.35 138.412 L2207.87 138.412 L2215.97 158.689 L2224.07 138.412 L2228.58 138.412 L2217.19 166.745 Z\" fill=\"#000000\" fill-rule=\"nonzero\" fill-opacity=\"1\" /><path clip-path=\"url(#clip510)\" d=\"M2235.88 160.402 L2243.51 160.402 L2243.51 134.037 L2235.2 135.703 L2235.2 131.444 L2243.47 129.778 L2248.14 129.778 L2248.14 160.402 L2255.78 160.402 L2255.78 164.338 L2235.88 164.338 L2235.88 160.402 Z\" fill=\"#000000\" fill-rule=\"nonzero\" fill-opacity=\"1\" /></svg>\n"
      ],
      "text/html": [
       "<?xml version=\"1.0\" encoding=\"utf-8\"?>\n",
       "<svg xmlns=\"http://www.w3.org/2000/svg\" xmlns:xlink=\"http://www.w3.org/1999/xlink\" width=\"600\" height=\"400\" viewBox=\"0 0 2400 1600\">\n",
       "<defs>\n",
       "  <clipPath id=\"clip560\">\n",
       "    <rect x=\"0\" y=\"0\" width=\"2400\" height=\"1600\"/>\n",
       "  </clipPath>\n",
       "</defs>\n",
       "<path clip-path=\"url(#clip560)\" d=\"M0 1600 L2400 1600 L2400 0 L0 0  Z\" fill=\"#ffffff\" fill-rule=\"evenodd\" fill-opacity=\"1\"/>\n",
       "<defs>\n",
       "  <clipPath id=\"clip561\">\n",
       "    <rect x=\"480\" y=\"0\" width=\"1681\" height=\"1600\"/>\n",
       "  </clipPath>\n",
       "</defs>\n",
       "<path clip-path=\"url(#clip560)\" d=\"M170.857 1486.45 L2352.76 1486.45 L2352.76 47.2441 L170.857 47.2441  Z\" fill=\"#ffffff\" fill-rule=\"evenodd\" fill-opacity=\"1\"/>\n",
       "<defs>\n",
       "  <clipPath id=\"clip562\">\n",
       "    <rect x=\"170\" y=\"47\" width=\"2183\" height=\"1440\"/>\n",
       "  </clipPath>\n",
       "</defs>\n",
       "<polyline clip-path=\"url(#clip562)\" style=\"stroke:#000000; stroke-linecap:round; stroke-linejoin:round; stroke-width:2; stroke-opacity:0.1; fill:none\" points=\"440.241,1486.45 440.241,47.2441 \"/>\n",
       "<polyline clip-path=\"url(#clip562)\" style=\"stroke:#000000; stroke-linecap:round; stroke-linejoin:round; stroke-width:2; stroke-opacity:0.1; fill:none\" points=\"738.992,1486.45 738.992,47.2441 \"/>\n",
       "<polyline clip-path=\"url(#clip562)\" style=\"stroke:#000000; stroke-linecap:round; stroke-linejoin:round; stroke-width:2; stroke-opacity:0.1; fill:none\" points=\"1037.74,1486.45 1037.74,47.2441 \"/>\n",
       "<polyline clip-path=\"url(#clip562)\" style=\"stroke:#000000; stroke-linecap:round; stroke-linejoin:round; stroke-width:2; stroke-opacity:0.1; fill:none\" points=\"1336.49,1486.45 1336.49,47.2441 \"/>\n",
       "<polyline clip-path=\"url(#clip562)\" style=\"stroke:#000000; stroke-linecap:round; stroke-linejoin:round; stroke-width:2; stroke-opacity:0.1; fill:none\" points=\"1635.25,1486.45 1635.25,47.2441 \"/>\n",
       "<polyline clip-path=\"url(#clip562)\" style=\"stroke:#000000; stroke-linecap:round; stroke-linejoin:round; stroke-width:2; stroke-opacity:0.1; fill:none\" points=\"1934,1486.45 1934,47.2441 \"/>\n",
       "<polyline clip-path=\"url(#clip562)\" style=\"stroke:#000000; stroke-linecap:round; stroke-linejoin:round; stroke-width:2; stroke-opacity:0.1; fill:none\" points=\"2232.75,1486.45 2232.75,47.2441 \"/>\n",
       "<polyline clip-path=\"url(#clip560)\" style=\"stroke:#000000; stroke-linecap:round; stroke-linejoin:round; stroke-width:4; stroke-opacity:1; fill:none\" points=\"170.857,1486.45 2352.76,1486.45 \"/>\n",
       "<polyline clip-path=\"url(#clip560)\" style=\"stroke:#000000; stroke-linecap:round; stroke-linejoin:round; stroke-width:4; stroke-opacity:1; fill:none\" points=\"440.241,1486.45 440.241,1467.55 \"/>\n",
       "<polyline clip-path=\"url(#clip560)\" style=\"stroke:#000000; stroke-linecap:round; stroke-linejoin:round; stroke-width:4; stroke-opacity:1; fill:none\" points=\"738.992,1486.45 738.992,1467.55 \"/>\n",
       "<polyline clip-path=\"url(#clip560)\" style=\"stroke:#000000; stroke-linecap:round; stroke-linejoin:round; stroke-width:4; stroke-opacity:1; fill:none\" points=\"1037.74,1486.45 1037.74,1467.55 \"/>\n",
       "<polyline clip-path=\"url(#clip560)\" style=\"stroke:#000000; stroke-linecap:round; stroke-linejoin:round; stroke-width:4; stroke-opacity:1; fill:none\" points=\"1336.49,1486.45 1336.49,1467.55 \"/>\n",
       "<polyline clip-path=\"url(#clip560)\" style=\"stroke:#000000; stroke-linecap:round; stroke-linejoin:round; stroke-width:4; stroke-opacity:1; fill:none\" points=\"1635.25,1486.45 1635.25,1467.55 \"/>\n",
       "<polyline clip-path=\"url(#clip560)\" style=\"stroke:#000000; stroke-linecap:round; stroke-linejoin:round; stroke-width:4; stroke-opacity:1; fill:none\" points=\"1934,1486.45 1934,1467.55 \"/>\n",
       "<polyline clip-path=\"url(#clip560)\" style=\"stroke:#000000; stroke-linecap:round; stroke-linejoin:round; stroke-width:4; stroke-opacity:1; fill:none\" points=\"2232.75,1486.45 2232.75,1467.55 \"/>\n",
       "<path clip-path=\"url(#clip560)\" d=\"M399.848 1544.91 L407.487 1544.91 L407.487 1518.55 L399.177 1520.21 L399.177 1515.95 L407.44 1514.29 L412.116 1514.29 L412.116 1544.91 L419.755 1544.91 L419.755 1548.85 L399.848 1548.85 L399.848 1544.91 Z\" fill=\"#000000\" fill-rule=\"nonzero\" fill-opacity=\"1\" /><path clip-path=\"url(#clip560)\" d=\"M442.047 1518.36 L430.241 1536.81 L442.047 1536.81 L442.047 1518.36 M440.82 1514.29 L446.7 1514.29 L446.7 1536.81 L451.63 1536.81 L451.63 1540.7 L446.7 1540.7 L446.7 1548.85 L442.047 1548.85 L442.047 1540.7 L426.445 1540.7 L426.445 1536.19 L440.82 1514.29 Z\" fill=\"#000000\" fill-rule=\"nonzero\" fill-opacity=\"1\" /><path clip-path=\"url(#clip560)\" d=\"M469.361 1517.37 Q465.75 1517.37 463.922 1520.93 Q462.116 1524.47 462.116 1531.6 Q462.116 1538.71 463.922 1542.27 Q465.75 1545.82 469.361 1545.82 Q472.996 1545.82 474.801 1542.27 Q476.63 1538.71 476.63 1531.6 Q476.63 1524.47 474.801 1520.93 Q472.996 1517.37 469.361 1517.37 M469.361 1513.66 Q475.172 1513.66 478.227 1518.27 Q481.306 1522.85 481.306 1531.6 Q481.306 1540.33 478.227 1544.94 Q475.172 1549.52 469.361 1549.52 Q463.551 1549.52 460.473 1544.94 Q457.417 1540.33 457.417 1531.6 Q457.417 1522.85 460.473 1518.27 Q463.551 1513.66 469.361 1513.66 Z\" fill=\"#000000\" fill-rule=\"nonzero\" fill-opacity=\"1\" /><path clip-path=\"url(#clip560)\" d=\"M698.599 1544.91 L706.238 1544.91 L706.238 1518.55 L697.928 1520.21 L697.928 1515.95 L706.192 1514.29 L710.867 1514.29 L710.867 1544.91 L718.506 1544.91 L718.506 1548.85 L698.599 1548.85 L698.599 1544.91 Z\" fill=\"#000000\" fill-rule=\"nonzero\" fill-opacity=\"1\" /><path clip-path=\"url(#clip560)\" d=\"M727.997 1514.29 L746.353 1514.29 L746.353 1518.22 L732.279 1518.22 L732.279 1526.7 Q733.298 1526.35 734.316 1526.19 Q735.335 1526 736.353 1526 Q742.14 1526 745.52 1529.17 Q748.9 1532.34 748.9 1537.76 Q748.9 1543.34 745.427 1546.44 Q741.955 1549.52 735.636 1549.52 Q733.46 1549.52 731.191 1549.15 Q728.946 1548.78 726.539 1548.04 L726.539 1543.34 Q728.622 1544.47 730.844 1545.03 Q733.066 1545.58 735.543 1545.58 Q739.548 1545.58 741.886 1543.48 Q744.224 1541.37 744.224 1537.76 Q744.224 1534.15 741.886 1532.04 Q739.548 1529.94 735.543 1529.94 Q733.668 1529.94 731.793 1530.35 Q729.941 1530.77 727.997 1531.65 L727.997 1514.29 Z\" fill=\"#000000\" fill-rule=\"nonzero\" fill-opacity=\"1\" /><path clip-path=\"url(#clip560)\" d=\"M768.113 1517.37 Q764.501 1517.37 762.673 1520.93 Q760.867 1524.47 760.867 1531.6 Q760.867 1538.71 762.673 1542.27 Q764.501 1545.82 768.113 1545.82 Q771.747 1545.82 773.552 1542.27 Q775.381 1538.71 775.381 1531.6 Q775.381 1524.47 773.552 1520.93 Q771.747 1517.37 768.113 1517.37 M768.113 1513.66 Q773.923 1513.66 776.978 1518.27 Q780.057 1522.85 780.057 1531.6 Q780.057 1540.33 776.978 1544.94 Q773.923 1549.52 768.113 1549.52 Q762.302 1549.52 759.224 1544.94 Q756.168 1540.33 756.168 1531.6 Q756.168 1522.85 759.224 1518.27 Q762.302 1513.66 768.113 1513.66 Z\" fill=\"#000000\" fill-rule=\"nonzero\" fill-opacity=\"1\" /><path clip-path=\"url(#clip560)\" d=\"M997.35 1544.91 L1004.99 1544.91 L1004.99 1518.55 L996.679 1520.21 L996.679 1515.95 L1004.94 1514.29 L1009.62 1514.29 L1009.62 1544.91 L1017.26 1544.91 L1017.26 1548.85 L997.35 1548.85 L997.35 1544.91 Z\" fill=\"#000000\" fill-rule=\"nonzero\" fill-opacity=\"1\" /><path clip-path=\"url(#clip560)\" d=\"M1037.28 1529.7 Q1034.13 1529.7 1032.28 1531.86 Q1030.45 1534.01 1030.45 1537.76 Q1030.45 1541.49 1032.28 1543.66 Q1034.13 1545.82 1037.28 1545.82 Q1040.43 1545.82 1042.26 1543.66 Q1044.11 1541.49 1044.11 1537.76 Q1044.11 1534.01 1042.26 1531.86 Q1040.43 1529.7 1037.28 1529.7 M1046.56 1515.05 L1046.56 1519.31 Q1044.8 1518.48 1043 1518.04 Q1041.22 1517.6 1039.46 1517.6 Q1034.83 1517.6 1032.37 1520.72 Q1029.94 1523.85 1029.6 1530.17 Q1030.96 1528.15 1033.02 1527.09 Q1035.08 1526 1037.56 1526 Q1042.77 1526 1045.78 1529.17 Q1048.81 1532.32 1048.81 1537.76 Q1048.81 1543.08 1045.66 1546.3 Q1042.51 1549.52 1037.28 1549.52 Q1031.29 1549.52 1028.11 1544.94 Q1024.94 1540.33 1024.94 1531.6 Q1024.94 1523.41 1028.83 1518.55 Q1032.72 1513.66 1039.27 1513.66 Q1041.03 1513.66 1042.81 1514.01 Q1044.62 1514.36 1046.56 1515.05 Z\" fill=\"#000000\" fill-rule=\"nonzero\" fill-opacity=\"1\" /><path clip-path=\"url(#clip560)\" d=\"M1066.86 1517.37 Q1063.25 1517.37 1061.42 1520.93 Q1059.62 1524.47 1059.62 1531.6 Q1059.62 1538.71 1061.42 1542.27 Q1063.25 1545.82 1066.86 1545.82 Q1070.5 1545.82 1072.3 1542.27 Q1074.13 1538.71 1074.13 1531.6 Q1074.13 1524.47 1072.3 1520.93 Q1070.5 1517.37 1066.86 1517.37 M1066.86 1513.66 Q1072.67 1513.66 1075.73 1518.27 Q1078.81 1522.85 1078.81 1531.6 Q1078.81 1540.33 1075.73 1544.94 Q1072.67 1549.52 1066.86 1549.52 Q1061.05 1549.52 1057.97 1544.94 Q1054.92 1540.33 1054.92 1531.6 Q1054.92 1522.85 1057.97 1518.27 Q1061.05 1513.66 1066.86 1513.66 Z\" fill=\"#000000\" fill-rule=\"nonzero\" fill-opacity=\"1\" /><path clip-path=\"url(#clip560)\" d=\"M1296.1 1544.91 L1303.74 1544.91 L1303.74 1518.55 L1295.43 1520.21 L1295.43 1515.95 L1303.69 1514.29 L1308.37 1514.29 L1308.37 1544.91 L1316.01 1544.91 L1316.01 1548.85 L1296.1 1548.85 L1296.1 1544.91 Z\" fill=\"#000000\" fill-rule=\"nonzero\" fill-opacity=\"1\" /><path clip-path=\"url(#clip560)\" d=\"M1324.27 1514.29 L1346.49 1514.29 L1346.49 1516.28 L1333.95 1548.85 L1329.06 1548.85 L1340.87 1518.22 L1324.27 1518.22 L1324.27 1514.29 Z\" fill=\"#000000\" fill-rule=\"nonzero\" fill-opacity=\"1\" /><path clip-path=\"url(#clip560)\" d=\"M1365.61 1517.37 Q1362 1517.37 1360.17 1520.93 Q1358.37 1524.47 1358.37 1531.6 Q1358.37 1538.71 1360.17 1542.27 Q1362 1545.82 1365.61 1545.82 Q1369.25 1545.82 1371.05 1542.27 Q1372.88 1538.71 1372.88 1531.6 Q1372.88 1524.47 1371.05 1520.93 Q1369.25 1517.37 1365.61 1517.37 M1365.61 1513.66 Q1371.42 1513.66 1374.48 1518.27 Q1377.56 1522.85 1377.56 1531.6 Q1377.56 1540.33 1374.48 1544.94 Q1371.42 1549.52 1365.61 1549.52 Q1359.8 1549.52 1356.73 1544.94 Q1353.67 1540.33 1353.67 1531.6 Q1353.67 1522.85 1356.73 1518.27 Q1359.8 1513.66 1365.61 1513.66 Z\" fill=\"#000000\" fill-rule=\"nonzero\" fill-opacity=\"1\" /><path clip-path=\"url(#clip560)\" d=\"M1594.85 1544.91 L1602.49 1544.91 L1602.49 1518.55 L1594.18 1520.21 L1594.18 1515.95 L1602.44 1514.29 L1607.12 1514.29 L1607.12 1544.91 L1614.76 1544.91 L1614.76 1548.85 L1594.85 1548.85 L1594.85 1544.91 Z\" fill=\"#000000\" fill-rule=\"nonzero\" fill-opacity=\"1\" /><path clip-path=\"url(#clip560)\" d=\"M1634.2 1532.44 Q1630.87 1532.44 1628.95 1534.22 Q1627.05 1536 1627.05 1539.13 Q1627.05 1542.25 1628.95 1544.03 Q1630.87 1545.82 1634.2 1545.82 Q1637.54 1545.82 1639.46 1544.03 Q1641.38 1542.23 1641.38 1539.13 Q1641.38 1536 1639.46 1534.22 Q1637.56 1532.44 1634.2 1532.44 M1629.53 1530.45 Q1626.52 1529.7 1624.83 1527.64 Q1623.16 1525.58 1623.16 1522.62 Q1623.16 1518.48 1626.1 1516.07 Q1629.06 1513.66 1634.2 1513.66 Q1639.37 1513.66 1642.31 1516.07 Q1645.25 1518.48 1645.25 1522.62 Q1645.25 1525.58 1643.56 1527.64 Q1641.89 1529.7 1638.9 1530.45 Q1642.28 1531.23 1644.16 1533.52 Q1646.06 1535.82 1646.06 1539.13 Q1646.06 1544.15 1642.98 1546.83 Q1639.92 1549.52 1634.2 1549.52 Q1628.49 1549.52 1625.41 1546.83 Q1622.35 1544.15 1622.35 1539.13 Q1622.35 1535.82 1624.25 1533.52 Q1626.15 1531.23 1629.53 1530.45 M1627.81 1523.06 Q1627.81 1525.75 1629.48 1527.25 Q1631.17 1528.76 1634.2 1528.76 Q1637.21 1528.76 1638.9 1527.25 Q1640.62 1525.75 1640.62 1523.06 Q1640.62 1520.38 1638.9 1518.87 Q1637.21 1517.37 1634.2 1517.37 Q1631.17 1517.37 1629.48 1518.87 Q1627.81 1520.38 1627.81 1523.06 Z\" fill=\"#000000\" fill-rule=\"nonzero\" fill-opacity=\"1\" /><path clip-path=\"url(#clip560)\" d=\"M1664.37 1517.37 Q1660.75 1517.37 1658.93 1520.93 Q1657.12 1524.47 1657.12 1531.6 Q1657.12 1538.71 1658.93 1542.27 Q1660.75 1545.82 1664.37 1545.82 Q1668 1545.82 1669.81 1542.27 Q1671.63 1538.71 1671.63 1531.6 Q1671.63 1524.47 1669.81 1520.93 Q1668 1517.37 1664.37 1517.37 M1664.37 1513.66 Q1670.18 1513.66 1673.23 1518.27 Q1676.31 1522.85 1676.31 1531.6 Q1676.31 1540.33 1673.23 1544.94 Q1670.18 1549.52 1664.37 1549.52 Q1658.56 1549.52 1655.48 1544.94 Q1652.42 1540.33 1652.42 1531.6 Q1652.42 1522.85 1655.48 1518.27 Q1658.56 1513.66 1664.37 1513.66 Z\" fill=\"#000000\" fill-rule=\"nonzero\" fill-opacity=\"1\" /><path clip-path=\"url(#clip560)\" d=\"M1893.6 1544.91 L1901.24 1544.91 L1901.24 1518.55 L1892.93 1520.21 L1892.93 1515.95 L1901.2 1514.29 L1905.87 1514.29 L1905.87 1544.91 L1913.51 1544.91 L1913.51 1548.85 L1893.6 1548.85 L1893.6 1544.91 Z\" fill=\"#000000\" fill-rule=\"nonzero\" fill-opacity=\"1\" /><path clip-path=\"url(#clip560)\" d=\"M1923.09 1548.13 L1923.09 1543.87 Q1924.85 1544.7 1926.66 1545.14 Q1928.46 1545.58 1930.2 1545.58 Q1934.83 1545.58 1937.26 1542.48 Q1939.71 1539.36 1940.06 1533.01 Q1938.72 1535.01 1936.66 1536.07 Q1934.6 1537.13 1932.1 1537.13 Q1926.91 1537.13 1923.88 1534.01 Q1920.87 1530.86 1920.87 1525.42 Q1920.87 1520.1 1924.02 1516.88 Q1927.17 1513.66 1932.4 1513.66 Q1938.39 1513.66 1941.54 1518.27 Q1944.71 1522.85 1944.71 1531.6 Q1944.71 1539.77 1940.83 1544.66 Q1936.96 1549.52 1930.41 1549.52 Q1928.65 1549.52 1926.84 1549.17 Q1925.04 1548.82 1923.09 1548.13 M1932.4 1533.48 Q1935.55 1533.48 1937.38 1531.32 Q1939.23 1529.17 1939.23 1525.42 Q1939.23 1521.7 1937.38 1519.54 Q1935.55 1517.37 1932.4 1517.37 Q1929.25 1517.37 1927.4 1519.54 Q1925.57 1521.7 1925.57 1525.42 Q1925.57 1529.17 1927.4 1531.32 Q1929.25 1533.48 1932.4 1533.48 Z\" fill=\"#000000\" fill-rule=\"nonzero\" fill-opacity=\"1\" /><path clip-path=\"url(#clip560)\" d=\"M1963.12 1517.37 Q1959.51 1517.37 1957.68 1520.93 Q1955.87 1524.47 1955.87 1531.6 Q1955.87 1538.71 1957.68 1542.27 Q1959.51 1545.82 1963.12 1545.82 Q1966.75 1545.82 1968.56 1542.27 Q1970.39 1538.71 1970.39 1531.6 Q1970.39 1524.47 1968.56 1520.93 Q1966.75 1517.37 1963.12 1517.37 M1963.12 1513.66 Q1968.93 1513.66 1971.98 1518.27 Q1975.06 1522.85 1975.06 1531.6 Q1975.06 1540.33 1971.98 1544.94 Q1968.93 1549.52 1963.12 1549.52 Q1957.31 1549.52 1954.23 1544.94 Q1951.17 1540.33 1951.17 1531.6 Q1951.17 1522.85 1954.23 1518.27 Q1957.31 1513.66 1963.12 1513.66 Z\" fill=\"#000000\" fill-rule=\"nonzero\" fill-opacity=\"1\" /><path clip-path=\"url(#clip560)\" d=\"M2196.44 1544.91 L2212.76 1544.91 L2212.76 1548.85 L2190.81 1548.85 L2190.81 1544.91 Q2193.48 1542.16 2198.06 1537.53 Q2202.67 1532.88 2203.85 1531.53 Q2206.09 1529.01 2206.97 1527.27 Q2207.88 1525.51 2207.88 1523.82 Q2207.88 1521.07 2205.93 1519.33 Q2204.01 1517.6 2200.91 1517.6 Q2198.71 1517.6 2196.25 1518.36 Q2193.82 1519.13 2191.05 1520.68 L2191.05 1515.95 Q2193.87 1514.82 2196.32 1514.24 Q2198.78 1513.66 2200.81 1513.66 Q2206.19 1513.66 2209.38 1516.35 Q2212.57 1519.03 2212.57 1523.52 Q2212.57 1525.65 2211.76 1527.57 Q2210.98 1529.47 2208.87 1532.07 Q2208.29 1532.74 2205.19 1535.95 Q2202.09 1539.15 2196.44 1544.91 Z\" fill=\"#000000\" fill-rule=\"nonzero\" fill-opacity=\"1\" /><path clip-path=\"url(#clip560)\" d=\"M2232.57 1517.37 Q2228.96 1517.37 2227.13 1520.93 Q2225.33 1524.47 2225.33 1531.6 Q2225.33 1538.71 2227.13 1542.27 Q2228.96 1545.82 2232.57 1545.82 Q2236.21 1545.82 2238.01 1542.27 Q2239.84 1538.71 2239.84 1531.6 Q2239.84 1524.47 2238.01 1520.93 Q2236.21 1517.37 2232.57 1517.37 M2232.57 1513.66 Q2238.38 1513.66 2241.44 1518.27 Q2244.52 1522.85 2244.52 1531.6 Q2244.52 1540.33 2241.44 1544.94 Q2238.38 1549.52 2232.57 1549.52 Q2226.76 1549.52 2223.69 1544.94 Q2220.63 1540.33 2220.63 1531.6 Q2220.63 1522.85 2223.69 1518.27 Q2226.76 1513.66 2232.57 1513.66 Z\" fill=\"#000000\" fill-rule=\"nonzero\" fill-opacity=\"1\" /><path clip-path=\"url(#clip560)\" d=\"M2262.74 1517.37 Q2259.12 1517.37 2257.3 1520.93 Q2255.49 1524.47 2255.49 1531.6 Q2255.49 1538.71 2257.3 1542.27 Q2259.12 1545.82 2262.74 1545.82 Q2266.37 1545.82 2268.18 1542.27 Q2270 1538.71 2270 1531.6 Q2270 1524.47 2268.18 1520.93 Q2266.37 1517.37 2262.74 1517.37 M2262.74 1513.66 Q2268.55 1513.66 2271.6 1518.27 Q2274.68 1522.85 2274.68 1531.6 Q2274.68 1540.33 2271.6 1544.94 Q2268.55 1549.52 2262.74 1549.52 Q2256.93 1549.52 2253.85 1544.94 Q2250.79 1540.33 2250.79 1531.6 Q2250.79 1522.85 2253.85 1518.27 Q2256.93 1513.66 2262.74 1513.66 Z\" fill=\"#000000\" fill-rule=\"nonzero\" fill-opacity=\"1\" /><polyline clip-path=\"url(#clip562)\" style=\"stroke:#000000; stroke-linecap:round; stroke-linejoin:round; stroke-width:2; stroke-opacity:0.1; fill:none\" points=\"170.857,1445.72 2352.76,1445.72 \"/>\n",
       "<polyline clip-path=\"url(#clip562)\" style=\"stroke:#000000; stroke-linecap:round; stroke-linejoin:round; stroke-width:2; stroke-opacity:0.1; fill:none\" points=\"170.857,1123.98 2352.76,1123.98 \"/>\n",
       "<polyline clip-path=\"url(#clip562)\" style=\"stroke:#000000; stroke-linecap:round; stroke-linejoin:round; stroke-width:2; stroke-opacity:0.1; fill:none\" points=\"170.857,802.237 2352.76,802.237 \"/>\n",
       "<polyline clip-path=\"url(#clip562)\" style=\"stroke:#000000; stroke-linecap:round; stroke-linejoin:round; stroke-width:2; stroke-opacity:0.1; fill:none\" points=\"170.857,480.498 2352.76,480.498 \"/>\n",
       "<polyline clip-path=\"url(#clip562)\" style=\"stroke:#000000; stroke-linecap:round; stroke-linejoin:round; stroke-width:2; stroke-opacity:0.1; fill:none\" points=\"170.857,158.759 2352.76,158.759 \"/>\n",
       "<polyline clip-path=\"url(#clip560)\" style=\"stroke:#000000; stroke-linecap:round; stroke-linejoin:round; stroke-width:4; stroke-opacity:1; fill:none\" points=\"170.857,1486.45 170.857,47.2441 \"/>\n",
       "<polyline clip-path=\"url(#clip560)\" style=\"stroke:#000000; stroke-linecap:round; stroke-linejoin:round; stroke-width:4; stroke-opacity:1; fill:none\" points=\"170.857,1445.72 189.755,1445.72 \"/>\n",
       "<polyline clip-path=\"url(#clip560)\" style=\"stroke:#000000; stroke-linecap:round; stroke-linejoin:round; stroke-width:4; stroke-opacity:1; fill:none\" points=\"170.857,1123.98 189.755,1123.98 \"/>\n",
       "<polyline clip-path=\"url(#clip560)\" style=\"stroke:#000000; stroke-linecap:round; stroke-linejoin:round; stroke-width:4; stroke-opacity:1; fill:none\" points=\"170.857,802.237 189.755,802.237 \"/>\n",
       "<polyline clip-path=\"url(#clip560)\" style=\"stroke:#000000; stroke-linecap:round; stroke-linejoin:round; stroke-width:4; stroke-opacity:1; fill:none\" points=\"170.857,480.498 189.755,480.498 \"/>\n",
       "<polyline clip-path=\"url(#clip560)\" style=\"stroke:#000000; stroke-linecap:round; stroke-linejoin:round; stroke-width:4; stroke-opacity:1; fill:none\" points=\"170.857,158.759 189.755,158.759 \"/>\n",
       "<path clip-path=\"url(#clip560)\" d=\"M122.913 1431.51 Q119.302 1431.51 117.473 1435.08 Q115.668 1438.62 115.668 1445.75 Q115.668 1452.86 117.473 1456.42 Q119.302 1459.96 122.913 1459.96 Q126.547 1459.96 128.353 1456.42 Q130.182 1452.86 130.182 1445.75 Q130.182 1438.62 128.353 1435.08 Q126.547 1431.51 122.913 1431.51 M122.913 1427.81 Q128.723 1427.81 131.779 1432.42 Q134.857 1437 134.857 1445.75 Q134.857 1454.48 131.779 1459.08 Q128.723 1463.67 122.913 1463.67 Q117.103 1463.67 114.024 1459.08 Q110.969 1454.48 110.969 1445.75 Q110.969 1437 114.024 1432.42 Q117.103 1427.81 122.913 1427.81 Z\" fill=\"#000000\" fill-rule=\"nonzero\" fill-opacity=\"1\" /><path clip-path=\"url(#clip560)\" d=\"M82.7975 1106.7 L101.154 1106.7 L101.154 1110.63 L87.0799 1110.63 L87.0799 1119.1 Q88.0984 1118.76 89.1169 1118.59 Q90.1354 1118.41 91.1539 1118.41 Q96.941 1118.41 100.321 1121.58 Q103.7 1124.75 103.7 1130.17 Q103.7 1135.75 100.228 1138.85 Q96.7558 1141.93 90.4364 1141.93 Q88.2604 1141.93 85.9919 1141.56 Q83.7466 1141.19 81.3392 1140.45 L81.3392 1135.75 Q83.4225 1136.88 85.6447 1137.44 Q87.8669 1137.99 90.3438 1137.99 Q94.3484 1137.99 96.6863 1135.89 Q99.0243 1133.78 99.0243 1130.17 Q99.0243 1126.56 96.6863 1124.45 Q94.3484 1122.34 90.3438 1122.34 Q88.4688 1122.34 86.5938 1122.76 Q84.7419 1123.18 82.7975 1124.06 L82.7975 1106.7 Z\" fill=\"#000000\" fill-rule=\"nonzero\" fill-opacity=\"1\" /><path clip-path=\"url(#clip560)\" d=\"M122.913 1109.78 Q119.302 1109.78 117.473 1113.34 Q115.668 1116.88 115.668 1124.01 Q115.668 1131.12 117.473 1134.68 Q119.302 1138.22 122.913 1138.22 Q126.547 1138.22 128.353 1134.68 Q130.182 1131.12 130.182 1124.01 Q130.182 1116.88 128.353 1113.34 Q126.547 1109.78 122.913 1109.78 M122.913 1106.07 Q128.723 1106.07 131.779 1110.68 Q134.857 1115.26 134.857 1124.01 Q134.857 1132.74 131.779 1137.34 Q128.723 1141.93 122.913 1141.93 Q117.103 1141.93 114.024 1137.34 Q110.969 1132.74 110.969 1124.01 Q110.969 1115.26 114.024 1110.68 Q117.103 1106.07 122.913 1106.07 Z\" fill=\"#000000\" fill-rule=\"nonzero\" fill-opacity=\"1\" /><path clip-path=\"url(#clip560)\" d=\"M53.3995 815.582 L61.0384 815.582 L61.0384 789.217 L52.7282 790.883 L52.7282 786.624 L60.9921 784.957 L65.668 784.957 L65.668 815.582 L73.3068 815.582 L73.3068 819.517 L53.3995 819.517 L53.3995 815.582 Z\" fill=\"#000000\" fill-rule=\"nonzero\" fill-opacity=\"1\" /><path clip-path=\"url(#clip560)\" d=\"M92.7512 788.036 Q89.1401 788.036 87.3114 791.601 Q85.5058 795.142 85.5058 802.272 Q85.5058 809.378 87.3114 812.943 Q89.1401 816.485 92.7512 816.485 Q96.3854 816.485 98.1909 812.943 Q100.02 809.378 100.02 802.272 Q100.02 795.142 98.1909 791.601 Q96.3854 788.036 92.7512 788.036 M92.7512 784.332 Q98.5613 784.332 101.617 788.939 Q104.696 793.522 104.696 802.272 Q104.696 810.999 101.617 815.605 Q98.5613 820.189 92.7512 820.189 Q86.941 820.189 83.8623 815.605 Q80.8068 810.999 80.8068 802.272 Q80.8068 793.522 83.8623 788.939 Q86.941 784.332 92.7512 784.332 Z\" fill=\"#000000\" fill-rule=\"nonzero\" fill-opacity=\"1\" /><path clip-path=\"url(#clip560)\" d=\"M122.913 788.036 Q119.302 788.036 117.473 791.601 Q115.668 795.142 115.668 802.272 Q115.668 809.378 117.473 812.943 Q119.302 816.485 122.913 816.485 Q126.547 816.485 128.353 812.943 Q130.182 809.378 130.182 802.272 Q130.182 795.142 128.353 791.601 Q126.547 788.036 122.913 788.036 M122.913 784.332 Q128.723 784.332 131.779 788.939 Q134.857 793.522 134.857 802.272 Q134.857 810.999 131.779 815.605 Q128.723 820.189 122.913 820.189 Q117.103 820.189 114.024 815.605 Q110.969 810.999 110.969 802.272 Q110.969 793.522 114.024 788.939 Q117.103 784.332 122.913 784.332 Z\" fill=\"#000000\" fill-rule=\"nonzero\" fill-opacity=\"1\" /><path clip-path=\"url(#clip560)\" d=\"M53.3995 493.843 L61.0384 493.843 L61.0384 467.477 L52.7282 469.144 L52.7282 464.885 L60.9921 463.218 L65.668 463.218 L65.668 493.843 L73.3068 493.843 L73.3068 497.778 L53.3995 497.778 L53.3995 493.843 Z\" fill=\"#000000\" fill-rule=\"nonzero\" fill-opacity=\"1\" /><path clip-path=\"url(#clip560)\" d=\"M82.7975 463.218 L101.154 463.218 L101.154 467.153 L87.0799 467.153 L87.0799 475.625 Q88.0984 475.278 89.1169 475.116 Q90.1354 474.931 91.1539 474.931 Q96.941 474.931 100.321 478.102 Q103.7 481.274 103.7 486.69 Q103.7 492.269 100.228 495.371 Q96.7558 498.449 90.4364 498.449 Q88.2604 498.449 85.9919 498.079 Q83.7466 497.709 81.3392 496.968 L81.3392 492.269 Q83.4225 493.403 85.6447 493.959 Q87.8669 494.514 90.3438 494.514 Q94.3484 494.514 96.6863 492.408 Q99.0243 490.301 99.0243 486.69 Q99.0243 483.079 96.6863 480.973 Q94.3484 478.866 90.3438 478.866 Q88.4688 478.866 86.5938 479.283 Q84.7419 479.699 82.7975 480.579 L82.7975 463.218 Z\" fill=\"#000000\" fill-rule=\"nonzero\" fill-opacity=\"1\" /><path clip-path=\"url(#clip560)\" d=\"M122.913 466.297 Q119.302 466.297 117.473 469.862 Q115.668 473.403 115.668 480.533 Q115.668 487.639 117.473 491.204 Q119.302 494.746 122.913 494.746 Q126.547 494.746 128.353 491.204 Q130.182 487.639 130.182 480.533 Q130.182 473.403 128.353 469.862 Q126.547 466.297 122.913 466.297 M122.913 462.593 Q128.723 462.593 131.779 467.2 Q134.857 471.783 134.857 480.533 Q134.857 489.26 131.779 493.866 Q128.723 498.449 122.913 498.449 Q117.103 498.449 114.024 493.866 Q110.969 489.26 110.969 480.533 Q110.969 471.783 114.024 467.2 Q117.103 462.593 122.913 462.593 Z\" fill=\"#000000\" fill-rule=\"nonzero\" fill-opacity=\"1\" /><path clip-path=\"url(#clip560)\" d=\"M56.6171 172.104 L72.9365 172.104 L72.9365 176.039 L50.9921 176.039 L50.9921 172.104 Q53.6541 169.349 58.2375 164.72 Q62.8439 160.067 64.0245 158.724 Q66.2698 156.201 67.1494 154.465 Q68.0522 152.706 68.0522 151.016 Q68.0522 148.261 66.1078 146.525 Q64.1865 144.789 61.0847 144.789 Q58.8856 144.789 56.4319 145.553 Q54.0014 146.317 51.2236 147.868 L51.2236 143.146 Q54.0477 142.011 56.5014 141.433 Q58.955 140.854 60.9921 140.854 Q66.3624 140.854 69.5568 143.539 Q72.7513 146.224 72.7513 150.715 Q72.7513 152.845 71.9411 154.766 Q71.1541 156.664 69.0476 159.257 Q68.4689 159.928 65.367 163.145 Q62.2652 166.34 56.6171 172.104 Z\" fill=\"#000000\" fill-rule=\"nonzero\" fill-opacity=\"1\" /><path clip-path=\"url(#clip560)\" d=\"M92.7512 144.558 Q89.1401 144.558 87.3114 148.122 Q85.5058 151.664 85.5058 158.794 Q85.5058 165.9 87.3114 169.465 Q89.1401 173.007 92.7512 173.007 Q96.3854 173.007 98.1909 169.465 Q100.02 165.9 100.02 158.794 Q100.02 151.664 98.1909 148.122 Q96.3854 144.558 92.7512 144.558 M92.7512 140.854 Q98.5613 140.854 101.617 145.46 Q104.696 150.044 104.696 158.794 Q104.696 167.52 101.617 172.127 Q98.5613 176.71 92.7512 176.71 Q86.941 176.71 83.8623 172.127 Q80.8068 167.52 80.8068 158.794 Q80.8068 150.044 83.8623 145.46 Q86.941 140.854 92.7512 140.854 Z\" fill=\"#000000\" fill-rule=\"nonzero\" fill-opacity=\"1\" /><path clip-path=\"url(#clip560)\" d=\"M122.913 144.558 Q119.302 144.558 117.473 148.122 Q115.668 151.664 115.668 158.794 Q115.668 165.9 117.473 169.465 Q119.302 173.007 122.913 173.007 Q126.547 173.007 128.353 169.465 Q130.182 165.9 130.182 158.794 Q130.182 151.664 128.353 148.122 Q126.547 144.558 122.913 144.558 M122.913 140.854 Q128.723 140.854 131.779 145.46 Q134.857 150.044 134.857 158.794 Q134.857 167.52 131.779 172.127 Q128.723 176.71 122.913 176.71 Q117.103 176.71 114.024 172.127 Q110.969 167.52 110.969 158.794 Q110.969 150.044 114.024 145.46 Q117.103 140.854 122.913 140.854 Z\" fill=\"#000000\" fill-rule=\"nonzero\" fill-opacity=\"1\" /><path clip-path=\"url(#clip562)\" d=\"M290.866 1439.28 L290.866 1445.72 L440.241 1445.72 L440.241 1439.28 L290.866 1439.28 L290.866 1439.28  Z\" fill=\"#009af9\" fill-rule=\"evenodd\" fill-opacity=\"1\"/>\n",
       "<polyline clip-path=\"url(#clip562)\" style=\"stroke:#000000; stroke-linecap:round; stroke-linejoin:round; stroke-width:4; stroke-opacity:1; fill:none\" points=\"290.866,1439.28 290.866,1445.72 440.241,1445.72 440.241,1439.28 290.866,1439.28 \"/>\n",
       "<path clip-path=\"url(#clip562)\" d=\"M440.241 1400.67 L440.241 1445.72 L589.617 1445.72 L589.617 1400.67 L440.241 1400.67 L440.241 1400.67  Z\" fill=\"#009af9\" fill-rule=\"evenodd\" fill-opacity=\"1\"/>\n",
       "<polyline clip-path=\"url(#clip562)\" style=\"stroke:#000000; stroke-linecap:round; stroke-linejoin:round; stroke-width:4; stroke-opacity:1; fill:none\" points=\"440.241,1400.67 440.241,1445.72 589.617,1445.72 589.617,1400.67 440.241,1400.67 \"/>\n",
       "<path clip-path=\"url(#clip562)\" d=\"M589.617 1304.15 L589.617 1445.72 L738.992 1445.72 L738.992 1304.15 L589.617 1304.15 L589.617 1304.15  Z\" fill=\"#009af9\" fill-rule=\"evenodd\" fill-opacity=\"1\"/>\n",
       "<polyline clip-path=\"url(#clip562)\" style=\"stroke:#000000; stroke-linecap:round; stroke-linejoin:round; stroke-width:4; stroke-opacity:1; fill:none\" points=\"589.617,1304.15 589.617,1445.72 738.992,1445.72 738.992,1304.15 589.617,1304.15 \"/>\n",
       "<path clip-path=\"url(#clip562)\" d=\"M738.992 1169.02 L738.992 1445.72 L888.368 1445.72 L888.368 1169.02 L738.992 1169.02 L738.992 1169.02  Z\" fill=\"#009af9\" fill-rule=\"evenodd\" fill-opacity=\"1\"/>\n",
       "<polyline clip-path=\"url(#clip562)\" style=\"stroke:#000000; stroke-linecap:round; stroke-linejoin:round; stroke-width:4; stroke-opacity:1; fill:none\" points=\"738.992,1169.02 738.992,1445.72 888.368,1445.72 888.368,1169.02 738.992,1169.02 \"/>\n",
       "<path clip-path=\"url(#clip562)\" d=\"M888.368 892.324 L888.368 1445.72 L1037.74 1445.72 L1037.74 892.324 L888.368 892.324 L888.368 892.324  Z\" fill=\"#009af9\" fill-rule=\"evenodd\" fill-opacity=\"1\"/>\n",
       "<polyline clip-path=\"url(#clip562)\" style=\"stroke:#000000; stroke-linecap:round; stroke-linejoin:round; stroke-width:4; stroke-opacity:1; fill:none\" points=\"888.368,892.324 888.368,1445.72 1037.74,1445.72 1037.74,892.324 888.368,892.324 \"/>\n",
       "<path clip-path=\"url(#clip562)\" d=\"M1037.74 583.455 L1037.74 1445.72 L1187.12 1445.72 L1187.12 583.455 L1037.74 583.455 L1037.74 583.455  Z\" fill=\"#009af9\" fill-rule=\"evenodd\" fill-opacity=\"1\"/>\n",
       "<polyline clip-path=\"url(#clip562)\" style=\"stroke:#000000; stroke-linecap:round; stroke-linejoin:round; stroke-width:4; stroke-opacity:1; fill:none\" points=\"1037.74,583.455 1037.74,1445.72 1187.12,1445.72 1187.12,583.455 1037.74,583.455 \"/>\n",
       "<path clip-path=\"url(#clip562)\" d=\"M1187.12 145.889 L1187.12 1445.72 L1336.49 1445.72 L1336.49 145.889 L1187.12 145.889 L1187.12 145.889  Z\" fill=\"#009af9\" fill-rule=\"evenodd\" fill-opacity=\"1\"/>\n",
       "<polyline clip-path=\"url(#clip562)\" style=\"stroke:#000000; stroke-linecap:round; stroke-linejoin:round; stroke-width:4; stroke-opacity:1; fill:none\" points=\"1187.12,145.889 1187.12,1445.72 1336.49,1445.72 1336.49,145.889 1187.12,145.889 \"/>\n",
       "<path clip-path=\"url(#clip562)\" d=\"M1336.49 87.9763 L1336.49 1445.72 L1485.87 1445.72 L1485.87 87.9763 L1336.49 87.9763 L1336.49 87.9763  Z\" fill=\"#009af9\" fill-rule=\"evenodd\" fill-opacity=\"1\"/>\n",
       "<polyline clip-path=\"url(#clip562)\" style=\"stroke:#000000; stroke-linecap:round; stroke-linejoin:round; stroke-width:4; stroke-opacity:1; fill:none\" points=\"1336.49,87.9763 1336.49,1445.72 1485.87,1445.72 1485.87,87.9763 1336.49,87.9763 \"/>\n",
       "<path clip-path=\"url(#clip562)\" d=\"M1485.87 538.411 L1485.87 1445.72 L1635.25 1445.72 L1635.25 538.411 L1485.87 538.411 L1485.87 538.411  Z\" fill=\"#009af9\" fill-rule=\"evenodd\" fill-opacity=\"1\"/>\n",
       "<polyline clip-path=\"url(#clip562)\" style=\"stroke:#000000; stroke-linecap:round; stroke-linejoin:round; stroke-width:4; stroke-opacity:1; fill:none\" points=\"1485.87,538.411 1485.87,1445.72 1635.25,1445.72 1635.25,538.411 1485.87,538.411 \"/>\n",
       "<path clip-path=\"url(#clip562)\" d=\"M1635.25 873.02 L1635.25 1445.72 L1784.62 1445.72 L1784.62 873.02 L1635.25 873.02 L1635.25 873.02  Z\" fill=\"#009af9\" fill-rule=\"evenodd\" fill-opacity=\"1\"/>\n",
       "<polyline clip-path=\"url(#clip562)\" style=\"stroke:#000000; stroke-linecap:round; stroke-linejoin:round; stroke-width:4; stroke-opacity:1; fill:none\" points=\"1635.25,873.02 1635.25,1445.72 1784.62,1445.72 1784.62,873.02 1635.25,873.02 \"/>\n",
       "<path clip-path=\"url(#clip562)\" d=\"M1784.62 1143.28 L1784.62 1445.72 L1934 1445.72 L1934 1143.28 L1784.62 1143.28 L1784.62 1143.28  Z\" fill=\"#009af9\" fill-rule=\"evenodd\" fill-opacity=\"1\"/>\n",
       "<polyline clip-path=\"url(#clip562)\" style=\"stroke:#000000; stroke-linecap:round; stroke-linejoin:round; stroke-width:4; stroke-opacity:1; fill:none\" points=\"1784.62,1143.28 1784.62,1445.72 1934,1445.72 1934,1143.28 1784.62,1143.28 \"/>\n",
       "<path clip-path=\"url(#clip562)\" d=\"M1934 1355.63 L1934 1445.72 L2083.37 1445.72 L2083.37 1355.63 L1934 1355.63 L1934 1355.63  Z\" fill=\"#009af9\" fill-rule=\"evenodd\" fill-opacity=\"1\"/>\n",
       "<polyline clip-path=\"url(#clip562)\" style=\"stroke:#000000; stroke-linecap:round; stroke-linejoin:round; stroke-width:4; stroke-opacity:1; fill:none\" points=\"1934,1355.63 1934,1445.72 2083.37,1445.72 2083.37,1355.63 1934,1355.63 \"/>\n",
       "<path clip-path=\"url(#clip562)\" d=\"M2083.37 1426.41 L2083.37 1445.72 L2232.75 1445.72 L2232.75 1426.41 L2083.37 1426.41 L2083.37 1426.41  Z\" fill=\"#009af9\" fill-rule=\"evenodd\" fill-opacity=\"1\"/>\n",
       "<polyline clip-path=\"url(#clip562)\" style=\"stroke:#000000; stroke-linecap:round; stroke-linejoin:round; stroke-width:4; stroke-opacity:1; fill:none\" points=\"2083.37,1426.41 2083.37,1445.72 2232.75,1445.72 2232.75,1426.41 2083.37,1426.41 \"/>\n",
       "<circle clip-path=\"url(#clip562)\" style=\"fill:#009af9; stroke:none; fill-opacity:0\" cx=\"365.553\" cy=\"1439.28\" r=\"2\"/>\n",
       "<circle clip-path=\"url(#clip562)\" style=\"fill:#009af9; stroke:none; fill-opacity:0\" cx=\"514.929\" cy=\"1400.67\" r=\"2\"/>\n",
       "<circle clip-path=\"url(#clip562)\" style=\"fill:#009af9; stroke:none; fill-opacity:0\" cx=\"664.305\" cy=\"1304.15\" r=\"2\"/>\n",
       "<circle clip-path=\"url(#clip562)\" style=\"fill:#009af9; stroke:none; fill-opacity:0\" cx=\"813.68\" cy=\"1169.02\" r=\"2\"/>\n",
       "<circle clip-path=\"url(#clip562)\" style=\"fill:#009af9; stroke:none; fill-opacity:0\" cx=\"963.056\" cy=\"892.324\" r=\"2\"/>\n",
       "<circle clip-path=\"url(#clip562)\" style=\"fill:#009af9; stroke:none; fill-opacity:0\" cx=\"1112.43\" cy=\"583.455\" r=\"2\"/>\n",
       "<circle clip-path=\"url(#clip562)\" style=\"fill:#009af9; stroke:none; fill-opacity:0\" cx=\"1261.81\" cy=\"145.889\" r=\"2\"/>\n",
       "<circle clip-path=\"url(#clip562)\" style=\"fill:#009af9; stroke:none; fill-opacity:0\" cx=\"1411.18\" cy=\"87.9763\" r=\"2\"/>\n",
       "<circle clip-path=\"url(#clip562)\" style=\"fill:#009af9; stroke:none; fill-opacity:0\" cx=\"1560.56\" cy=\"538.411\" r=\"2\"/>\n",
       "<circle clip-path=\"url(#clip562)\" style=\"fill:#009af9; stroke:none; fill-opacity:0\" cx=\"1709.93\" cy=\"873.02\" r=\"2\"/>\n",
       "<circle clip-path=\"url(#clip562)\" style=\"fill:#009af9; stroke:none; fill-opacity:0\" cx=\"1859.31\" cy=\"1143.28\" r=\"2\"/>\n",
       "<circle clip-path=\"url(#clip562)\" style=\"fill:#009af9; stroke:none; fill-opacity:0\" cx=\"2008.68\" cy=\"1355.63\" r=\"2\"/>\n",
       "<circle clip-path=\"url(#clip562)\" style=\"fill:#009af9; stroke:none; fill-opacity:0\" cx=\"2158.06\" cy=\"1426.41\" r=\"2\"/>\n",
       "<path clip-path=\"url(#clip560)\" d=\"M2009.41 198.898 L2280.03 198.898 L2280.03 95.2176 L2009.41 95.2176  Z\" fill=\"#ffffff\" fill-rule=\"evenodd\" fill-opacity=\"1\"/>\n",
       "<polyline clip-path=\"url(#clip560)\" style=\"stroke:#000000; stroke-linecap:round; stroke-linejoin:round; stroke-width:4; stroke-opacity:1; fill:none\" points=\"2009.41,198.898 2280.03,198.898 2280.03,95.2176 2009.41,95.2176 2009.41,198.898 \"/>\n",
       "<path clip-path=\"url(#clip560)\" d=\"M2033.65 167.794 L2179.11 167.794 L2179.11 126.322 L2033.65 126.322 L2033.65 167.794  Z\" fill=\"#009af9\" fill-rule=\"evenodd\" fill-opacity=\"1\"/>\n",
       "<polyline clip-path=\"url(#clip560)\" style=\"stroke:#000000; stroke-linecap:round; stroke-linejoin:round; stroke-width:4; stroke-opacity:1; fill:none\" points=\"2033.65,167.794 2179.11,167.794 2179.11,126.322 2033.65,126.322 2033.65,167.794 \"/>\n",
       "<path clip-path=\"url(#clip560)\" d=\"M2217.19 166.745 Q2215.39 171.375 2213.68 172.787 Q2211.96 174.199 2209.09 174.199 L2205.69 174.199 L2205.69 170.634 L2208.19 170.634 Q2209.95 170.634 2210.92 169.8 Q2211.89 168.967 2213.07 165.865 L2213.84 163.921 L2203.35 138.412 L2207.87 138.412 L2215.97 158.689 L2224.07 138.412 L2228.58 138.412 L2217.19 166.745 Z\" fill=\"#000000\" fill-rule=\"nonzero\" fill-opacity=\"1\" /><path clip-path=\"url(#clip560)\" d=\"M2235.88 160.402 L2243.51 160.402 L2243.51 134.037 L2235.2 135.703 L2235.2 131.444 L2243.47 129.778 L2248.14 129.778 L2248.14 160.402 L2255.78 160.402 L2255.78 164.338 L2235.88 164.338 L2235.88 160.402 Z\" fill=\"#000000\" fill-rule=\"nonzero\" fill-opacity=\"1\" /></svg>\n"
      ]
     },
     "metadata": {},
     "output_type": "display_data"
    }
   ],
   "source": [
    "histogram(v, bins = 20)"
   ]
  },
  {
   "attachments": {},
   "cell_type": "markdown",
   "metadata": {},
   "source": [
    "as it will permit us to generate data that mimics naturally occurring events,\n",
    "and it'll let us answer questions related\n",
    "to what could happen by chance by running Monte Carlo simulations.\n",
    "For example, if we pick 800 males at random,\n",
    "what is the distribution of the tallest person?\n",
    "Specifically, we could ask, how rare is that the tallest person is a seven\n",
    "footer?"
   ]
  },
  {
   "attachments": {},
   "cell_type": "markdown",
   "metadata": {},
   "source": [
    "We can use the following Monte Carlo simulation to answer this question.\n",
    "We're going to run 10,000 simulations, and for each one,\n",
    "we're going to generate 800 normally distributed values,\n",
    "pick the tallest one, and return that.\n",
    "The tallest variable will have these values.\n",
    "So now we can ask, what proportion of these simulations\n",
    "return a seven footer as the tallest person?\n",
    "And we can see that it's a very small number."
   ]
  },
  {
   "cell_type": "code",
   "execution_count": 58,
   "metadata": {},
   "outputs": [
    {
     "data": {
      "text/plain": [
       "sim (generic function with 1 method)"
      ]
     },
     "metadata": {},
     "output_type": "display_data"
    }
   ],
   "source": [
    "m = 175.26\n",
    "s = 7.11\n",
    "\n",
    "sim(n) = rand(Normal(m, s), n) \n",
    "\n"
   ]
  },
  {
   "cell_type": "code",
   "execution_count": 64,
   "metadata": {},
   "outputs": [],
   "source": [
    "# monte carlos simulation\n",
    "# We're going to run 10,000 simulations, and for each one,\n",
    "# we're going to generate 800 normally distributed values,\n",
    "# pick the tallest one, and return that.\n",
    "# The tallest variable will have these values.\n",
    "# So now we can ask, what proportion of these simulations\n",
    "# return a seven footer as the tallest person?\n",
    "\n",
    "# create empty vector to store results\n",
    "\n",
    "\n",
    "tallest = []\n",
    "[push!(tallest, sim(800) |> maximum) for i in 1:20000]; # run simulation 20000 times\n"
   ]
  },
  {
   "cell_type": "code",
   "execution_count": 65,
   "metadata": {},
   "outputs": [
    {
     "data": {
      "text/plain": [
       "0.0"
      ]
     },
     "metadata": {},
     "output_type": "display_data"
    }
   ],
   "source": [
    "# calculate the proportion of 7 footers\n",
    "\n",
    "mean(tallest .≥ 213.36) # 7 feet in cm"
   ]
  },
  {
   "cell_type": "code",
   "execution_count": 66,
   "metadata": {},
   "outputs": [
    {
     "data": {
      "text/plain": [
       "211.3825697798321"
      ]
     },
     "metadata": {},
     "output_type": "display_data"
    }
   ],
   "source": [
    "tallest |> maximum"
   ]
  },
  {
   "cell_type": "markdown",
   "metadata": {},
   "source": []
  }
 ],
 "metadata": {
  "kernelspec": {
   "display_name": "Julia 1.8.5",
   "language": "julia",
   "name": "julia-1.8"
  },
  "language_info": {
   "file_extension": ".jl",
   "mimetype": "application/julia",
   "name": "julia",
   "version": "1.8.5"
  },
  "orig_nbformat": 4
 },
 "nbformat": 4,
 "nbformat_minor": 2
}
