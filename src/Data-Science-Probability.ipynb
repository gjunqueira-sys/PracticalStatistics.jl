{
 "cells": [
  {
   "cell_type": "code",
   "execution_count": 1,
   "metadata": {},
   "outputs": [
    {
     "data": {
      "text/plain": [
       "fib (generic function with 1 method)"
      ]
     },
     "metadata": {},
     "output_type": "display_data"
    }
   ],
   "source": [
    "using StatsBase\n",
    "using Tables\n",
    "\n",
    "# fibonnaci sequence\n",
    "function fib(n)\n",
    "    if n < 2\n",
    "        return n\n",
    "    else\n",
    "        return fib(n-1) + fib(n-2)\n",
    "    end\n",
    "end\n",
    "\n",
    "# generate a random number from a fibonnaci sequence\n",
    "\n",
    "\n"
   ]
  },
  {
   "cell_type": "code",
   "execution_count": 36,
   "metadata": {},
   "outputs": [],
   "source": [
    "using Plots"
   ]
  },
  {
   "attachments": {},
   "cell_type": "markdown",
   "metadata": {},
   "source": [
    "# Section 1 Overview\n",
    "\n",
    "Section 1 introduces you to Discrete Probability. Section 1 is divided into three parts:\n",
    "\n",
    "Introduction to Discrete Probability\n",
    "Combinations and Permutations\n",
    "Addition Rule and Monty Hall\n",
    "After completing Section 1, you will be able to:\n",
    "\n",
    "apply basic probability theory to categorical data.\n",
    "perform a Monte Carlo simulation to approximate the results of repeating an experiment over and over, including simulating the outcomes in the Monty Hall problem.\n",
    "distinguish between: sampling with and without replacement, events that are and are not independent, and combinations and permutations.\n",
    "apply the multiplication and addition rules, as appropriate, to calculate the probably of multiple events occurring.\n",
    "use sapply() instead of a for loop to perform element-wise operations on a function.\n",
    "There are 3 assignments that use the DataCamp platform for you to practice your coding skills. There are also some quick probability calculations for you to perform directly on the edX platform as well, and there is a longer set of problems at the end of section 1.\n",
    "\n",
    "This section corresponds to the following section of the course textbook.\n",
    "\n",
    "We encourage you to use R to interactively test out your answers and further your learning.\n",
    "\n"
   ]
  },
  {
   "attachments": {},
   "cell_type": "markdown",
   "metadata": {},
   "source": [
    "# Discrete Probability\n",
    "\n",
    "\n",
    "RAFAEL IRIZARRY: We start by covering some basic principles related to categorical data.\n",
    "\n",
    "This subset of probability is referred to as discrete probability.\n",
    "\n",
    "It will help us understand the probability theory we will later introduce for numeric and continuous data, which is more common in data science applications.\n",
    "Discrete probability is more useful in card games and we use these as examples.\n",
    "The word probability is used in everyday language.\n",
    "For example, Google's auto complete of, what are the chances of,gives us getting pregnant, having twins, and rain tomorrow.\n",
    "Answering questions about probability is often hard, if not impossible.\n",
    "Here, we discuss a mathematical definition of probability that does permit us to give precise answers to certain questions.\n",
    "For example, if I have two red beads and three blue beads inside an urn and I pick one at random, what is the probability of picking a red one?\n",
    "Our intuition tells us that the answer is 2/5, or 40%.\n",
    "A precise definition can be given by noting that there are five possible outcomes of which two satisfy\n",
    "the condition necessary for the event \"pick a red bead.\"\n",
    "Because each of the five outcomes has the same chance of occurring, we conclude that the probability is 0.4 for red and 0.6 for blue.\n",
    "A more tangible way to think about the probability of an event is as a proportion of times the event occurs when we repeat the experiment over and over independently and under the same\n",
    "conditions.\n",
    "Before we continue, let's introduce some notation. We use the notation probability of A to denote the probability of an event A happening.\n",
    "We use the very general term event to refer to things that can happen when something happens by chance.\n",
    "For example, in our previous example, the event was picking a red bead.\n",
    "In a political poll, in which we call 100 likely voters at random, an example of an event is calling 48 Democrats and 52 Republicans.\n",
    "In data science applications, we will often deal with continuous variables.\n",
    "In these cases, events will often be things like, is this person taller than 6 feet?\n",
    "In this case, we write events in a more mathematical form.\n",
    "For example, x greater than 6.\n",
    "We'll see more of these examples later.\n",
    "Here, we focus on categorical data and discrete probability.\n"
   ]
  },
  {
   "attachments": {},
   "cell_type": "markdown",
   "metadata": {},
   "source": [
    "The probability of an event is the proportion of times the event occurs when we repeat the experiment independently under the same conditions.\n",
    "\n",
    "$$P(A) = \\text{probability of event A}$$\n",
    "\n",
    "An event is defined as an outcome that can occur when when something happens by chance.\n",
    "We can determine probabilities related to discrete variables (picking a red bead, choosing 48 Democrats and 52 Republicans from 100 likely voters) and continuous variables (height over 6 feet).\n",
    "\n"
   ]
  },
  {
   "attachments": {},
   "cell_type": "markdown",
   "metadata": {},
   "source": [
    "Sure, I can help you with that. Here is the text with line breaks:\n",
    "\n",
    "RAFAEL IRIZARRY: Computers provide a way to actually perform\n",
    "the simple random experiments, such as the one we did before.\n",
    "Pick a bead at random from a bag or an urn with 3 blue beads and 2 red ones.\n",
    "Random number generators permit us to mimic the process of picking at random.\n",
    "An example in R is the sample function.\n",
    "We demonstrate its use showing you some code.\n",
    "First, use the rep function to generate the urn.\n",
    "We create an urn with 2 red and 3 blues.\n",
    "You can see when we type beads we see this.\n",
    "Now, we can use a sample function to pick one at random.\n",
    "If we type sample beads comma 1, in this case, we get a blue.\n",
    "This line of code produces one random outcome.\n",
    "Now, we want to repeat this experiment over and over.\n",
    "However, it is, of course, impossible to repeat forever.\n",
    "Instead, we repeat the experiment a large enough number of times\n",
    "to make the results practically equivalent to doing it\n",
    "over and over forever.\n",
    "This is an example of a Monte Carlo simulation.\n",
    "Note that much of what mathematical and theoretical statisticians study--\n",
    "something we do not cover in this course--\n",
    "relates to providing rigorous definitions of practically equivalent,\n",
    "as well as studying how close a large number of experiment\n",
    "gets us to what happens in the limit, the limit meaning if we did it forever.\n",
    "Later in this module, we provide a practical approach\n",
    "to deciding what is large enough.\n",
    "To perform our first Monte Carlo simulation,\n",
    "we use the replicate function.\n",
    "This permits us to repeat the same task any number of times we want.\n",
    "Here, we repeat the random event 10,000 times.\n",
    "We set B to be 10,000, then we use the replicate function\n",
    "to sample from the beads 10,000 times.\n",
    "We can now see if, in fact, our definition\n",
    "is in agreement with this Monte Carlo simulation approximation.\n",
    "We can use table, for example, to see the distribution.\n",
    "And then we can use prop.table to give us the proportions.\n",
    "And we see that, in fact, the Monte Carlo simulation\n",
    "gives a very good approximation with 0.5962 for blue and 0.4038 for red.\n",
    "\n",
    "Is there anything else I can help you with?\n"
   ]
  },
  {
   "attachments": {},
   "cell_type": "markdown",
   "metadata": {},
   "source": [
    "Monte Carlo simulations model the probability of different outcomes by repeating a random process a large enough number of times that the results are similar to what would be observed if the process were repeated forever.\n",
    "\n",
    "The sample() function draws random outcomes from a set of options.\n",
    "\n",
    "The replicate() function repeats lines of code a set number of times. It is used with sample() and similar functions to run Monte Carlo simulations."
   ]
  },
  {
   "cell_type": "code",
   "execution_count": 2,
   "metadata": {},
   "outputs": [
    {
     "data": {
      "text/plain": [
       "5-element Vector{String}:\n",
       " \"red\"\n",
       " \"red\"\n",
       " \"blue\"\n",
       " \"blue\"\n",
       " \"blue\""
      ]
     },
     "metadata": {},
     "output_type": "display_data"
    }
   ],
   "source": [
    "# create an urn with 2 red, 3 blue balls\n",
    "beads = [\"red\", \"red\", \"blue\", \"blue\", \"blue\"]\n"
   ]
  },
  {
   "cell_type": "code",
   "execution_count": 3,
   "metadata": {},
   "outputs": [
    {
     "data": {
      "text/plain": [
       "1-element Vector{String}:\n",
       " \"blue\""
      ]
     },
     "metadata": {},
     "output_type": "display_data"
    }
   ],
   "source": [
    "# sample 1 bead from urn at random\n",
    "sample(beads, 1, replace = true)\n"
   ]
  },
  {
   "attachments": {},
   "cell_type": "markdown",
   "metadata": {},
   "source": [
    "This line of code produces one random outcome. We want to repeat this experiment an infinite number of times, but it is impossible to repeat forever. Instead, we repeat the experiment a large enough number of times to make the results practically equivalent to repeating forever. This is an example of a Monte Carlo simulation.\n",
    "\n",
    "Much of what mathematical and theoretical statisticians study, which we do not cover in this book, relates to providing rigorous definitions of “practically equivalent” as well as studying how close a large number of experiments gets us to what happens in the limit. Later in this section, we provide a practical approach to deciding what is “large enough”.\n",
    "\n",
    "To perform our first Monte Carlo simulation, we use the replicate function, which permits us to repeat the same task any number of times. Here, we repeat the random event  $$B =   10,000 \\text{ times}$$"
   ]
  },
  {
   "cell_type": "code",
   "execution_count": 4,
   "metadata": {},
   "outputs": [],
   "source": [
    "# create monte carlo simulation to sample 1 bead 10000 times\n",
    "# the bead will be sampled with replacement\n",
    "# the result will be a vector of 10000 beads\n",
    "\n",
    "# create empty vector to store results\n",
    "results = []\n",
    "\n",
    "[push!(results, sample(beads, 1, replace = true)) for i in 1:10000];"
   ]
  },
  {
   "cell_type": "code",
   "execution_count": 5,
   "metadata": {},
   "outputs": [
    {
     "data": {
      "text/plain": [
       "Dict{Any, Int64} with 2 entries:\n",
       "  [\"blue\"] => 6021\n",
       "  [\"red\"]  => 3979"
      ]
     },
     "metadata": {},
     "output_type": "display_data"
    }
   ],
   "source": [
    "countmap(results) # count the number of times each color was sampled"
   ]
  },
  {
   "cell_type": "code",
   "execution_count": 6,
   "metadata": {},
   "outputs": [
    {
     "data": {
      "text/plain": [
       "Dict{Any, Float64} with 2 entries:\n",
       "  [\"blue\"] => 0.6021\n",
       "  [\"red\"]  => 0.3979"
      ]
     },
     "metadata": {},
     "output_type": "display_data"
    }
   ],
   "source": [
    "proportionmap(results) # calculate the proportion of each color sampled"
   ]
  },
  {
   "cell_type": "code",
   "execution_count": 7,
   "metadata": {},
   "outputs": [],
   "source": []
  },
  {
   "attachments": {},
   "cell_type": "markdown",
   "metadata": {},
   "source": [
    "# An important application of the mean() function\n",
    "In R, applying the mean() function to a logical vector returns the proportion of elements that are TRUE. It is very common to use the mean() function in this way to calculate probabilities and we will do so throughout the course.\n",
    "\n",
    "Suppose you have the vector beads from a previous video:\n",
    "\n",
    "beads <- rep(c(\"red\", \"blue\"), times = c(2,3))\n",
    "beads\n",
    "[1] \"red\" \"red\" \"blue\" \"blue\" \"blue\"\n",
    "To find the probability of drawing a blue bead at random, you can run:\n",
    "\n",
    "mean(beads == \"blue\")\n",
    "[1] 0.6\n",
    "This code is broken down into steps inside R. First, R evaluates the logical statement beads == \"blue\", which generates the vector:\n",
    "\n",
    "FALSE FALSE TRUE TRUE TRUE\n",
    "When the mean function is applied, R coerces the logical values to numeric values, changing TRUE to 1 and FALSE to 0:\n",
    "\n",
    "0 0 1 1 1\n",
    "The mean of the zeros and ones thus gives the proportion of TRUE values. As we have learned and will continue to see, probabilities are directly related to the proportion of events that satisfy a requirement."
   ]
  },
  {
   "cell_type": "code",
   "execution_count": 8,
   "metadata": {},
   "outputs": [
    {
     "data": {
      "text/plain": [
       "5-element Vector{String}:\n",
       " \"red\"\n",
       " \"red\"\n",
       " \"blue\"\n",
       " \"blue\"\n",
       " \"blue\""
      ]
     },
     "metadata": {},
     "output_type": "display_data"
    }
   ],
   "source": [
    "beads = [\"red\", \"red\", \"blue\", \"blue\", \"blue\"]\n"
   ]
  },
  {
   "cell_type": "code",
   "execution_count": 9,
   "metadata": {},
   "outputs": [],
   "source": []
  },
  {
   "cell_type": "code",
   "execution_count": 10,
   "metadata": {},
   "outputs": [
    {
     "data": {
      "text/plain": [
       "0.6"
      ]
     },
     "metadata": {},
     "output_type": "display_data"
    }
   ],
   "source": [
    "mean(beads .== \"blue\")"
   ]
  },
  {
   "cell_type": "code",
   "execution_count": 11,
   "metadata": {},
   "outputs": [
    {
     "data": {
      "text/plain": [
       "5-element BitVector:\n",
       " 0\n",
       " 0\n",
       " 1\n",
       " 1\n",
       " 1"
      ]
     },
     "metadata": {},
     "output_type": "display_data"
    }
   ],
   "source": [
    "beads .== \"blue\""
   ]
  },
  {
   "cell_type": "markdown",
   "metadata": {},
   "source": [
    "Key points\n",
    "The probability distribution for a variable describes the probability of observing each possible outcome.\n",
    "For discrete categorical variables, the probability distribution is defined by the proportions for each group."
   ]
  },
  {
   "attachments": {},
   "cell_type": "markdown",
   "metadata": {},
   "source": [
    "# Independance\n",
    "\n",
    "Key points\n",
    "Conditional probabilities compute the probability that an event occurs given information about dependent events. For example, the probability of drawing a second king given that the first draw is a king is:"
   ]
  },
  {
   "attachments": {},
   "cell_type": "markdown",
   "metadata": {},
   "source": [
    "$$Pr(\\text{Card 2 is a King} \\text{ | } \\text{Card 1 is a King}) = \\frac{3}{51}$$"
   ]
  },
  {
   "attachments": {},
   "cell_type": "markdown",
   "metadata": {},
   "source": [
    "- if two events A and B are independance then:\n",
    "$$Pr(A \\text{ | } B) = Pr(A) $$"
   ]
  },
  {
   "attachments": {},
   "cell_type": "markdown",
   "metadata": {},
   "source": [
    "To determine the probability of multiple events occurring, we use the multiplication rule."
   ]
  },
  {
   "attachments": {},
   "cell_type": "markdown",
   "metadata": {},
   "source": [
    "# Multiplication Rule\n",
    "\n",
    "All right now, if we want to know the probability of two events, say A and B,\n",
    "occurring, we can use the multiplication rule.\n",
    "So the probability of A and B is equal to the probability of A multiplied\n",
    "by the probability of B, given that A already happened."
   ]
  },
  {
   "cell_type": "markdown",
   "metadata": {},
   "source": []
  },
  {
   "attachments": {},
   "cell_type": "markdown",
   "metadata": {},
   "source": [
    "$$Pr(A \\text{ and  } B) = Pr(A)Pr(B \\text{ | } A) $$"
   ]
  },
  {
   "attachments": {},
   "cell_type": "markdown",
   "metadata": {},
   "source": [
    "So the probability of A and B is equal to the probability of A multiplied\n",
    "by the probability of B, given that A already happened."
   ]
  },
  {
   "attachments": {},
   "cell_type": "markdown",
   "metadata": {},
   "source": [
    "When we have independent events, the multiplication rule becomes simpler.\n",
    "We simply multiply of  probabilities.\n",
    "But we have to be very careful when we use this rule.\n",
    "the multiplicative rule in practice.\n",
    "We're assuming independence."
   ]
  },
  {
   "cell_type": "markdown",
   "metadata": {},
   "source": []
  },
  {
   "cell_type": "markdown",
   "metadata": {},
   "source": [
    "# Combinations and Permutations"
   ]
  },
  {
   "cell_type": "code",
   "execution_count": 12,
   "metadata": {},
   "outputs": [
    {
     "data": {
      "text/plain": [
       "13-element Vector{String}:\n",
       " \"A\"\n",
       " \"2\"\n",
       " \"3\"\n",
       " \"4\"\n",
       " \"5\"\n",
       " \"6\"\n",
       " \"7\"\n",
       " \"8\"\n",
       " \"9\"\n",
       " \"10\"\n",
       " \"J\"\n",
       " \"Q\"\n",
       " \"K\""
      ]
     },
     "metadata": {},
     "output_type": "display_data"
    }
   ],
   "source": [
    "# create a deck   of cards\n",
    "\n",
    "suits = [\"♠\", \"♥\", \"♦\", \"♣\"] \n",
    "ranks = [\"A\", \"2\", \"3\", \"4\", \"5\", \"6\", \"7\", \"8\", \"9\", \"10\", \"J\", \"Q\", \"K\"]  #  13 cards\n",
    "\n",
    "# create a deck of cards\n",
    "# we will use a outer product to create a deck of cards\n",
    "# the outer product will create a 13x4 matrix with all possible combinations of ranks and suits\n"
   ]
  },
  {
   "cell_type": "code",
   "execution_count": 13,
   "metadata": {},
   "outputs": [
    {
     "data": {
      "text/plain": [
       "13×1 Matrix{String}:\n",
       " \"A\"\n",
       " \"2\"\n",
       " \"3\"\n",
       " \"4\"\n",
       " \"5\"\n",
       " \"6\"\n",
       " \"7\"\n",
       " \"8\"\n",
       " \"9\"\n",
       " \"10\"\n",
       " \"J\"\n",
       " \"Q\"\n",
       " \"K\""
      ]
     },
     "metadata": {},
     "output_type": "display_data"
    }
   ],
   "source": [
    "suits = reshape(suits, 1, 4) # reshape the suits vector to a 4x1 matrix\n",
    "ranks = reshape(ranks, 13, 1) # reshape the ranks vector to a 1x13 matrix"
   ]
  },
  {
   "cell_type": "code",
   "execution_count": 14,
   "metadata": {},
   "outputs": [
    {
     "data": {
      "text/plain": [
       "13×4 Matrix{String}:\n",
       " \"♠A\"   \"♥A\"   \"♦A\"   \"♣A\"\n",
       " \"♠2\"   \"♥2\"   \"♦2\"   \"♣2\"\n",
       " \"♠3\"   \"♥3\"   \"♦3\"   \"♣3\"\n",
       " \"♠4\"   \"♥4\"   \"♦4\"   \"♣4\"\n",
       " \"♠5\"   \"♥5\"   \"♦5\"   \"♣5\"\n",
       " \"♠6\"   \"♥6\"   \"♦6\"   \"♣6\"\n",
       " \"♠7\"   \"♥7\"   \"♦7\"   \"♣7\"\n",
       " \"♠8\"   \"♥8\"   \"♦8\"   \"♣8\"\n",
       " \"♠9\"   \"♥9\"   \"♦9\"   \"♣9\"\n",
       " \"♠10\"  \"♥10\"  \"♦10\"  \"♣10\"\n",
       " \"♠J\"   \"♥J\"   \"♦J\"   \"♣J\"\n",
       " \"♠Q\"   \"♥Q\"   \"♦Q\"   \"♣Q\"\n",
       " \"♠K\"   \"♥K\"   \"♦K\"   \"♣K\""
      ]
     },
     "metadata": {},
     "output_type": "display_data"
    }
   ],
   "source": [
    "deck = suits .* ranks  # create a deck of cards using the outer product"
   ]
  },
  {
   "cell_type": "code",
   "execution_count": 15,
   "metadata": {},
   "outputs": [
    {
     "data": {
      "text/plain": [
       "52-element Vector{String}:\n",
       " \"♠A\"\n",
       " \"♠2\"\n",
       " \"♠3\"\n",
       " \"♠4\"\n",
       " \"♠5\"\n",
       " \"♠6\"\n",
       " \"♠7\"\n",
       " \"♠8\"\n",
       " \"♠9\"\n",
       " \"♠10\"\n",
       " ⋮\n",
       " \"♣5\"\n",
       " \"♣6\"\n",
       " \"♣7\"\n",
       " \"♣8\"\n",
       " \"♣9\"\n",
       " \"♣10\"\n",
       " \"♣J\"\n",
       " \"♣Q\"\n",
       " \"♣K\""
      ]
     },
     "metadata": {},
     "output_type": "display_data"
    }
   ],
   "source": [
    "# flatten the deck of cards back into a vector\n",
    "deck = deck |> vec\n"
   ]
  },
  {
   "attachments": {},
   "cell_type": "markdown",
   "metadata": {},
   "source": [
    "## Double check that the probability of a King on the first draw is 4/52 (or 1/13)"
   ]
  },
  {
   "attachments": {},
   "cell_type": "markdown",
   "metadata": {},
   "source": [
    "We simply compute the proportion of possible outcomes\n",
    "that satisfy our condition.\n",
    "So we create a vector that contains the four ways we can get a king.\n",
    "That's going to be the kings variable.\n",
    "\n",
    "And then we simply check what proportion of the deck is one of these cards\n",
    "and we get the answer that we expect-"
   ]
  },
  {
   "cell_type": "code",
   "execution_count": 16,
   "metadata": {},
   "outputs": [
    {
     "data": {
      "text/plain": [
       "4-element Vector{String}:\n",
       " \"♠K\"\n",
       " \"♥K\"\n",
       " \"♦K\"\n",
       " \"♣K\""
      ]
     },
     "metadata": {},
     "output_type": "display_data"
    }
   ],
   "source": [
    "Kings = [ \"♠K\" ,  \"♥K\" ,  \"♦K\"  , \"♣K\"]"
   ]
  },
  {
   "cell_type": "code",
   "execution_count": 17,
   "metadata": {},
   "outputs": [
    {
     "data": {
      "text/plain": [
       "0.07692307692307693"
      ]
     },
     "metadata": {},
     "output_type": "display_data"
    }
   ],
   "source": [
    "mean(map(x -> x ∈ Kings, deck)) # calculate the probability of drawing a king, which is 1/13"
   ]
  },
  {
   "attachments": {},
   "cell_type": "markdown",
   "metadata": {},
   "source": [
    "Now, how about the conditional probability of the second card being a king,\n",
    "given that the first was a king?\n",
    "Earlier we deduced that if 1 king is already out, then there's 51 left.\n",
    "\n",
    "So the probability is 3 in 51.\n",
    "\n",
    "And we can check that."
   ]
  },
  {
   "attachments": {},
   "cell_type": "markdown",
   "metadata": {},
   "source": [
    "$$Pr(\\text{Card 2 is a King} \\text{ | } \\text{Card 1 is a King}) = \\frac{3}{51}$$"
   ]
  },
  {
   "cell_type": "code",
   "execution_count": 18,
   "metadata": {},
   "outputs": [],
   "source": [
    "using Combinatorics"
   ]
  },
  {
   "attachments": {},
   "cell_type": "markdown",
   "metadata": {},
   "source": [
    "So here's an example--\n",
    "here all the ways we can choose 2 numbers from the list 1, 2, 3, 4, 5.\n",
    "Notice that the order matters."
   ]
  },
  {
   "cell_type": "code",
   "execution_count": 19,
   "metadata": {},
   "outputs": [
    {
     "data": {
      "text/plain": [
       "2"
      ]
     },
     "metadata": {},
     "output_type": "display_data"
    }
   ],
   "source": [
    "elements = 1:5\n",
    "n=2\n",
    "\n"
   ]
  },
  {
   "cell_type": "code",
   "execution_count": 20,
   "metadata": {},
   "outputs": [
    {
     "data": {
      "text/plain": [
       "20-element Vector{Vector{Int64}}:\n",
       " [1, 2]\n",
       " [1, 3]\n",
       " [1, 4]\n",
       " [1, 5]\n",
       " [2, 1]\n",
       " [2, 3]\n",
       " [2, 4]\n",
       " [2, 5]\n",
       " [3, 1]\n",
       " [3, 2]\n",
       " [3, 4]\n",
       " [3, 5]\n",
       " [4, 1]\n",
       " [4, 2]\n",
       " [4, 3]\n",
       " [4, 5]\n",
       " [5, 1]\n",
       " [5, 2]\n",
       " [5, 3]\n",
       " [5, 4]"
      ]
     },
     "metadata": {},
     "output_type": "display_data"
    }
   ],
   "source": [
    "perms = collect(permutations(elements, n)) # create all possible permutations of 2 elements from 1:5"
   ]
  },
  {
   "cell_type": "markdown",
   "metadata": {},
   "source": [
    "So 3, 1 is different than 1, 3, So it appears in our permutations.\n",
    "Also notice that 1, 1; 2, 2; and 3, 3 don't\n",
    "appear, because once we pick a number, it can't appear again."
   ]
  },
  {
   "cell_type": "markdown",
   "metadata": {},
   "source": [
    "To compute all possible ways that we can choose 2 cards when the order matters,\n",
    "we simply type the following piece of code.\n",
    "Here we use permutations.\n",
    "There's 52 cards, we're going to choose 2,\n",
    "and we're going to select them out of the vector that includes our card\n",
    "names, which we called deck earlier."
   ]
  },
  {
   "cell_type": "code",
   "execution_count": 21,
   "metadata": {},
   "outputs": [
    {
     "data": {
      "text/plain": [
       "2652-element Vector{Vector{String}}:\n",
       " [\"♠A\", \"♠2\"]\n",
       " [\"♠A\", \"♠3\"]\n",
       " [\"♠A\", \"♠4\"]\n",
       " [\"♠A\", \"♠5\"]\n",
       " [\"♠A\", \"♠6\"]\n",
       " [\"♠A\", \"♠7\"]\n",
       " [\"♠A\", \"♠8\"]\n",
       " [\"♠A\", \"♠9\"]\n",
       " [\"♠A\", \"♠10\"]\n",
       " [\"♠A\", \"♠J\"]\n",
       " ⋮\n",
       " [\"♣K\", \"♣4\"]\n",
       " [\"♣K\", \"♣5\"]\n",
       " [\"♣K\", \"♣6\"]\n",
       " [\"♣K\", \"♣7\"]\n",
       " [\"♣K\", \"♣8\"]\n",
       " [\"♣K\", \"♣9\"]\n",
       " [\"♣K\", \"♣10\"]\n",
       " [\"♣K\", \"♣J\"]\n",
       " [\"♣K\", \"♣Q\"]"
      ]
     },
     "metadata": {},
     "output_type": "display_data"
    }
   ],
   "source": [
    "hands = collect(permutations(deck, 2)) # create all possible permutations of 2 elements from a deck of cards"
   ]
  },
  {
   "cell_type": "code",
   "execution_count": 22,
   "metadata": {},
   "outputs": [
    {
     "data": {
      "text/plain": [
       "(2652,)"
      ]
     },
     "metadata": {},
     "output_type": "display_data"
    }
   ],
   "source": [
    "size(hands)"
   ]
  },
  {
   "cell_type": "code",
   "execution_count": 23,
   "metadata": {},
   "outputs": [
    {
     "data": {
      "text/plain": [
       "2652×2 Matrix{String}:\n",
       " \"♠A\"  \"♠2\"\n",
       " \"♠A\"  \"♠3\"\n",
       " \"♠A\"  \"♠4\"\n",
       " \"♠A\"  \"♠5\"\n",
       " \"♠A\"  \"♠6\"\n",
       " \"♠A\"  \"♠7\"\n",
       " \"♠A\"  \"♠8\"\n",
       " \"♠A\"  \"♠9\"\n",
       " \"♠A\"  \"♠10\"\n",
       " \"♠A\"  \"♠J\"\n",
       " ⋮     \n",
       " \"♣K\"  \"♣4\"\n",
       " \"♣K\"  \"♣5\"\n",
       " \"♣K\"  \"♣6\"\n",
       " \"♣K\"  \"♣7\"\n",
       " \"♣K\"  \"♣8\"\n",
       " \"♣K\"  \"♣9\"\n",
       " \"♣K\"  \"♣10\"\n",
       " \"♣K\"  \"♣J\"\n",
       " \"♣K\"  \"♣Q\""
      ]
     },
     "metadata": {},
     "output_type": "display_data"
    }
   ],
   "source": [
    "# convert vector of vectors to matrix of 2652 x 2\n",
    "# Convert card_permutations to a 2652x2 matrix\n",
    "hands_matrix = [perm[i] for perm in hands, i in 1:2]"
   ]
  },
  {
   "cell_type": "code",
   "execution_count": 24,
   "metadata": {},
   "outputs": [
    {
     "data": {
      "text/plain": [
       "2652-element Vector{String}:\n",
       " \"♠A\"\n",
       " \"♠A\"\n",
       " \"♠A\"\n",
       " \"♠A\"\n",
       " \"♠A\"\n",
       " \"♠A\"\n",
       " \"♠A\"\n",
       " \"♠A\"\n",
       " \"♠A\"\n",
       " \"♠A\"\n",
       " ⋮\n",
       " \"♣K\"\n",
       " \"♣K\"\n",
       " \"♣K\"\n",
       " \"♣K\"\n",
       " \"♣K\"\n",
       " \"♣K\"\n",
       " \"♣K\"\n",
       " \"♣K\"\n",
       " \"♣K\""
      ]
     },
     "metadata": {},
     "output_type": "display_data"
    }
   ],
   "source": [
    "# grab first and second cards (columns) from hands matrix\n",
    "first_card = hands_matrix[:,1]\n"
   ]
  },
  {
   "cell_type": "code",
   "execution_count": 25,
   "metadata": {},
   "outputs": [
    {
     "data": {
      "text/plain": [
       "2652-element Vector{String}:\n",
       " \"♠2\"\n",
       " \"♠3\"\n",
       " \"♠4\"\n",
       " \"♠5\"\n",
       " \"♠6\"\n",
       " \"♠7\"\n",
       " \"♠8\"\n",
       " \"♠9\"\n",
       " \"♠10\"\n",
       " \"♠J\"\n",
       " ⋮\n",
       " \"♣4\"\n",
       " \"♣5\"\n",
       " \"♣6\"\n",
       " \"♣7\"\n",
       " \"♣8\"\n",
       " \"♣9\"\n",
       " \"♣10\"\n",
       " \"♣J\"\n",
       " \"♣Q\""
      ]
     },
     "metadata": {},
     "output_type": "display_data"
    }
   ],
   "source": [
    "second_card = hands_matrix[:,2]"
   ]
  },
  {
   "attachments": {},
   "cell_type": "markdown",
   "metadata": {},
   "source": [
    "And now we can, for example, check how many cases\n",
    "have a first card that is a king--\n",
    "that's 204.\n",
    "And now to find the conditional probability,\n",
    "we ask what fraction of these 204 have also a king in the second card.\n",
    "So this case we type the following piece of code.\n",
    "We add all the cases that have king in the first, king in the second,\n",
    "and divide by the cases that have a king in the first."
   ]
  },
  {
   "cell_type": "code",
   "execution_count": 26,
   "metadata": {},
   "outputs": [
    {
     "data": {
      "text/plain": [
       "0.058823529411764705"
      ]
     },
     "metadata": {},
     "output_type": "display_data"
    }
   ],
   "source": [
    "\n",
    "\n",
    "sum(map(x -> x ∈ Kings, first_card) .& map(x -> x ∈ Kings, second_card)) / sum(map(x -> x ∈ Kings, first_card))"
   ]
  },
  {
   "attachments": {},
   "cell_type": "markdown",
   "metadata": {},
   "source": [
    "And now we get the answer 0.058 , which is exactly 3 out of 51,\n",
    "which we had already deduced."
   ]
  },
  {
   "attachments": {},
   "cell_type": "markdown",
   "metadata": {},
   "source": [
    "# The Birthsday Problem\n",
    "\n",
    " Suppose you're in a classroom with 50 people.\n",
    "If we assume this is a randomly selected group,\n",
    "what is the chance that at least two people have the same birthday?\n",
    "Although it is somewhat advanced, we can actually deduce this mathematically,\n",
    "and we do this later, but now, we're going to use Monte Carlo simulations.\n",
    "For simplicity, we assumed that nobody was born on February 29th.\n",
    "This actually doesn't change the answer much."
   ]
  },
  {
   "attachments": {},
   "cell_type": "markdown",
   "metadata": {},
   "source": [
    "All right, first, note that birthdays can be represented\n",
    "as numbers between 1 and 365.\n",
    "So a sample of 50 random birthdays can be obtained simply\n",
    "using the sample function, like this."
   ]
  },
  {
   "attachments": {},
   "cell_type": "markdown",
   "metadata": {},
   "source": [
    "$$sample(1:365, 50, replace = true)$$"
   ]
  },
  {
   "cell_type": "code",
   "execution_count": 27,
   "metadata": {},
   "outputs": [
    {
     "data": {
      "text/plain": [
       "50-element Vector{Int64}:\n",
       "  11\n",
       " 287\n",
       " 237\n",
       " 318\n",
       " 286\n",
       " 171\n",
       " 274\n",
       " 283\n",
       "  66\n",
       " 223\n",
       "   ⋮\n",
       "  36\n",
       " 277\n",
       "  72\n",
       " 363\n",
       " 126\n",
       " 304\n",
       " 260\n",
       " 268\n",
       " 289"
      ]
     },
     "metadata": {},
     "output_type": "display_data"
    }
   ],
   "source": [
    "b = sample(1:365, 50, replace  = true) # sample of birthsdays"
   ]
  },
  {
   "cell_type": "code",
   "execution_count": 28,
   "metadata": {},
   "outputs": [
    {
     "data": {
      "text/plain": [
       "duplicated"
      ]
     },
     "metadata": {},
     "output_type": "display_data"
    }
   ],
   "source": [
    "\n",
    "\"\"\"\n",
    "duplicated(v::Vector)\n",
    "\n",
    "Return a boolean array indicating which elements of the input vector `v` are duplicates.\n",
    "Duplicate elements are marked as `true`, including the first occurrence.\n",
    "\n",
    "# Arguments\n",
    "- `v::Vector`: Input vector to check for duplicates.\n",
    "\n",
    "# Returns\n",
    "- A boolean array of the same length as `v` indicating which elements are duplicates.\n",
    "\"\"\"\n",
    "function duplicated(v::Vector)\n",
    "    unique_values = unique(v)\n",
    "    is_duplicate = falses(length(v))\n",
    "    for x in unique_values\n",
    "        indices = findall(x .== v)\n",
    "        if length(indices) > 1\n",
    "            is_duplicate[indices] .= true\n",
    "        end\n",
    "    end\n",
    "    return is_duplicate\n",
    "end\n",
    "\n"
   ]
  },
  {
   "cell_type": "code",
   "execution_count": 29,
   "metadata": {},
   "outputs": [
    {
     "data": {
      "text/plain": [
       "true"
      ]
     },
     "metadata": {},
     "output_type": "display_data"
    }
   ],
   "source": [
    "any(duplicated(b)) # test weather any birthdays are duplicated"
   ]
  },
  {
   "cell_type": "markdown",
   "metadata": {},
   "source": [
    "Now, to estimate the probability, we're going to repeat this experiment.\n",
    "We're going to run a Monte Carlo simulation over and over again.\n",
    "So what we do is we do it 10,000 times."
   ]
  },
  {
   "cell_type": "code",
   "execution_count": 30,
   "metadata": {},
   "outputs": [],
   "source": [
    "# create monte carlo simulation to calculate probability of  bdays being duplicated\n",
    "# the bday will be sampled with replacement 10000 times\n",
    "\n",
    "# create empty vector to store results\n",
    "results = []\n",
    "\n",
    "[push!(results, sample(1:365, 50, replace  = true) |> duplicated |> any) for i in 1:10000];"
   ]
  },
  {
   "cell_type": "code",
   "execution_count": 31,
   "metadata": {},
   "outputs": [
    {
     "data": {
      "text/plain": [
       "0.9707"
      ]
     },
     "metadata": {},
     "output_type": "display_data"
    }
   ],
   "source": [
    "mean(results) # calculate the probability of 50 bdays being duplicated"
   ]
  },
  {
   "cell_type": "markdown",
   "metadata": {},
   "source": [
    "So the probability that at least two people in a room of 50 have the same birthday is about 98%"
   ]
  },
  {
   "attachments": {},
   "cell_type": "markdown",
   "metadata": {},
   "source": [
    " Say you want to use what you've just\n",
    "learned about the birthday problem to bet\n",
    "with friends about two people having the same birthday in a group of people.\n",
    "When are the chances larger than 50%?\n",
    "Larger than 75%?\n",
    "Let's create a lookup table.\n",
    "We can quickly create a function to compute this for any group.\n",
    "We write the function like this.\n",
    "We'll call it compute prob, and we'll basically\n",
    "make the calculations for the probability\n",
    "of two people having the same birthday.\n",
    "We will use a small Monte Carlo simulation to do it."
   ]
  },
  {
   "cell_type": "code",
   "execution_count": 33,
   "metadata": {},
   "outputs": [
    {
     "data": {
      "text/plain": [
       "compute_prob (generic function with 1 method)"
      ]
     },
     "metadata": {},
     "output_type": "display_data"
    }
   ],
   "source": [
    "function compute_prob(n; B=10000)\n",
    "    results = []\n",
    "    [push!(results, sample(1:365, n, replace  = true) |> duplicated |> any) for i in 1:B];\n",
    "    return mean(results)\n",
    "end"
   ]
  },
  {
   "cell_type": "markdown",
   "metadata": {},
   "source": [
    "Now that we've done this, we want to compute this function,\n",
    "we want to apply this function to several values of n,\n",
    "let's say from 1 to 60."
   ]
  },
  {
   "cell_type": "code",
   "execution_count": 37,
   "metadata": {},
   "outputs": [
    {
     "data": {
      "image/png": "[encoded data removed]",
      "image/svg+xml": [
       "<?xml version=\"1.0\" encoding=\"utf-8\"?>\n",
       "<svg xmlns=\"http://www.w3.org/2000/svg\" xmlns:xlink=\"http://www.w3.org/1999/xlink\" width=\"600\" height=\"400\" viewBox=\"0 0 2400 1600\">\n",
       "<defs>\n",
       "  <clipPath id=\"clip120\">\n",
       "    <rect x=\"0\" y=\"0\" width=\"2400\" height=\"1600\"/>\n",
       "  </clipPath>\n",
       "</defs>\n",
       "<path clip-path=\"url(#clip120)\" d=\"M0 1600 L2400 1600 L2400 0 L0 0  Z\" fill=\"#ffffff\" fill-rule=\"evenodd\" fill-opacity=\"1\"/>\n",
       "<defs>\n",
       "  <clipPath id=\"clip121\">\n",
       "    <rect x=\"480\" y=\"0\" width=\"1681\" height=\"1600\"/>\n",
       "  </clipPath>\n",
       "</defs>\n",
       "<path clip-path=\"url(#clip120)\" d=\"M186.274 1486.45 L2352.76 1486.45 L2352.76 47.2441 L186.274 47.2441  Z\" fill=\"#ffffff\" fill-rule=\"evenodd\" fill-opacity=\"1\"/>\n",
       "<defs>\n",
       "  <clipPath id=\"clip122\">\n",
       "    <rect x=\"186\" y=\"47\" width=\"2167\" height=\"1440\"/>\n",
       "  </clipPath>\n",
       "</defs>\n",
       "<polyline clip-path=\"url(#clip122)\" style=\"stroke:#000000; stroke-linecap:round; stroke-linejoin:round; stroke-width:2; stroke-opacity:0.1; fill:none\" points=\"212.948,1486.45 212.948,47.2441 \"/>\n",
       "<polyline clip-path=\"url(#clip122)\" style=\"stroke:#000000; stroke-linecap:round; stroke-linejoin:round; stroke-width:2; stroke-opacity:0.1; fill:none\" points=\"559.363,1486.45 559.363,47.2441 \"/>\n",
       "<polyline clip-path=\"url(#clip122)\" style=\"stroke:#000000; stroke-linecap:round; stroke-linejoin:round; stroke-width:2; stroke-opacity:0.1; fill:none\" points=\"905.779,1486.45 905.779,47.2441 \"/>\n",
       "<polyline clip-path=\"url(#clip122)\" style=\"stroke:#000000; stroke-linecap:round; stroke-linejoin:round; stroke-width:2; stroke-opacity:0.1; fill:none\" points=\"1252.19,1486.45 1252.19,47.2441 \"/>\n",
       "<polyline clip-path=\"url(#clip122)\" style=\"stroke:#000000; stroke-linecap:round; stroke-linejoin:round; stroke-width:2; stroke-opacity:0.1; fill:none\" points=\"1598.61,1486.45 1598.61,47.2441 \"/>\n",
       "<polyline clip-path=\"url(#clip122)\" style=\"stroke:#000000; stroke-linecap:round; stroke-linejoin:round; stroke-width:2; stroke-opacity:0.1; fill:none\" points=\"1945.02,1486.45 1945.02,47.2441 \"/>\n",
       "<polyline clip-path=\"url(#clip122)\" style=\"stroke:#000000; stroke-linecap:round; stroke-linejoin:round; stroke-width:2; stroke-opacity:0.1; fill:none\" points=\"2291.44,1486.45 2291.44,47.2441 \"/>\n",
       "<polyline clip-path=\"url(#clip120)\" style=\"stroke:#000000; stroke-linecap:round; stroke-linejoin:round; stroke-width:4; stroke-opacity:1; fill:none\" points=\"186.274,1486.45 2352.76,1486.45 \"/>\n",
       "<polyline clip-path=\"url(#clip120)\" style=\"stroke:#000000; stroke-linecap:round; stroke-linejoin:round; stroke-width:4; stroke-opacity:1; fill:none\" points=\"212.948,1486.45 212.948,1467.55 \"/>\n",
       "<polyline clip-path=\"url(#clip120)\" style=\"stroke:#000000; stroke-linecap:round; stroke-linejoin:round; stroke-width:4; stroke-opacity:1; fill:none\" points=\"559.363,1486.45 559.363,1467.55 \"/>\n",
       "<polyline clip-path=\"url(#clip120)\" style=\"stroke:#000000; stroke-linecap:round; stroke-linejoin:round; stroke-width:4; stroke-opacity:1; fill:none\" points=\"905.779,1486.45 905.779,1467.55 \"/>\n",
       "<polyline clip-path=\"url(#clip120)\" style=\"stroke:#000000; stroke-linecap:round; stroke-linejoin:round; stroke-width:4; stroke-opacity:1; fill:none\" points=\"1252.19,1486.45 1252.19,1467.55 \"/>\n",
       "<polyline clip-path=\"url(#clip120)\" style=\"stroke:#000000; stroke-linecap:round; stroke-linejoin:round; stroke-width:4; stroke-opacity:1; fill:none\" points=\"1598.61,1486.45 1598.61,1467.55 \"/>\n",
       "<polyline clip-path=\"url(#clip120)\" style=\"stroke:#000000; stroke-linecap:round; stroke-linejoin:round; stroke-width:4; stroke-opacity:1; fill:none\" points=\"1945.02,1486.45 1945.02,1467.55 \"/>\n",
       "<polyline clip-path=\"url(#clip120)\" style=\"stroke:#000000; stroke-linecap:round; stroke-linejoin:round; stroke-width:4; stroke-opacity:1; fill:none\" points=\"2291.44,1486.45 2291.44,1467.55 \"/>\n",
       "<path clip-path=\"url(#clip120)\" d=\"M212.948 1517.37 Q209.337 1517.37 207.508 1520.93 Q205.703 1524.47 205.703 1531.6 Q205.703 1538.71 207.508 1542.27 Q209.337 1545.82 212.948 1545.82 Q216.582 1545.82 218.388 1542.27 Q220.216 1538.71 220.216 1531.6 Q220.216 1524.47 218.388 1520.93 Q216.582 1517.37 212.948 1517.37 M212.948 1513.66 Q218.758 1513.66 221.814 1518.27 Q224.892 1522.85 224.892 1531.6 Q224.892 1540.33 221.814 1544.94 Q218.758 1549.52 212.948 1549.52 Q207.138 1549.52 204.059 1544.94 Q201.004 1540.33 201.004 1531.6 Q201.004 1522.85 204.059 1518.27 Q207.138 1513.66 212.948 1513.66 Z\" fill=\"#000000\" fill-rule=\"nonzero\" fill-opacity=\"1\" /><path clip-path=\"url(#clip120)\" d=\"M534.051 1544.91 L541.69 1544.91 L541.69 1518.55 L533.38 1520.21 L533.38 1515.95 L541.644 1514.29 L546.319 1514.29 L546.319 1544.91 L553.958 1544.91 L553.958 1548.85 L534.051 1548.85 L534.051 1544.91 Z\" fill=\"#000000\" fill-rule=\"nonzero\" fill-opacity=\"1\" /><path clip-path=\"url(#clip120)\" d=\"M573.403 1517.37 Q569.792 1517.37 567.963 1520.93 Q566.157 1524.47 566.157 1531.6 Q566.157 1538.71 567.963 1542.27 Q569.792 1545.82 573.403 1545.82 Q577.037 1545.82 578.842 1542.27 Q580.671 1538.71 580.671 1531.6 Q580.671 1524.47 578.842 1520.93 Q577.037 1517.37 573.403 1517.37 M573.403 1513.66 Q579.213 1513.66 582.268 1518.27 Q585.347 1522.85 585.347 1531.6 Q585.347 1540.33 582.268 1544.94 Q579.213 1549.52 573.403 1549.52 Q567.593 1549.52 564.514 1544.94 Q561.458 1540.33 561.458 1531.6 Q561.458 1522.85 564.514 1518.27 Q567.593 1513.66 573.403 1513.66 Z\" fill=\"#000000\" fill-rule=\"nonzero\" fill-opacity=\"1\" /><path clip-path=\"url(#clip120)\" d=\"M884.552 1544.91 L900.871 1544.91 L900.871 1548.85 L878.927 1548.85 L878.927 1544.91 Q881.589 1542.16 886.172 1537.53 Q890.779 1532.88 891.959 1531.53 Q894.205 1529.01 895.084 1527.27 Q895.987 1525.51 895.987 1523.82 Q895.987 1521.07 894.043 1519.33 Q892.121 1517.6 889.02 1517.6 Q886.821 1517.6 884.367 1518.36 Q881.936 1519.13 879.159 1520.68 L879.159 1515.95 Q881.983 1514.82 884.436 1514.24 Q886.89 1513.66 888.927 1513.66 Q894.297 1513.66 897.492 1516.35 Q900.686 1519.03 900.686 1523.52 Q900.686 1525.65 899.876 1527.57 Q899.089 1529.47 896.983 1532.07 Q896.404 1532.74 893.302 1535.95 Q890.2 1539.15 884.552 1544.91 Z\" fill=\"#000000\" fill-rule=\"nonzero\" fill-opacity=\"1\" /><path clip-path=\"url(#clip120)\" d=\"M920.686 1517.37 Q917.075 1517.37 915.246 1520.93 Q913.441 1524.47 913.441 1531.6 Q913.441 1538.71 915.246 1542.27 Q917.075 1545.82 920.686 1545.82 Q924.32 1545.82 926.126 1542.27 Q927.955 1538.71 927.955 1531.6 Q927.955 1524.47 926.126 1520.93 Q924.32 1517.37 920.686 1517.37 M920.686 1513.66 Q926.496 1513.66 929.552 1518.27 Q932.63 1522.85 932.63 1531.6 Q932.63 1540.33 929.552 1544.94 Q926.496 1549.52 920.686 1549.52 Q914.876 1549.52 911.797 1544.94 Q908.742 1540.33 908.742 1531.6 Q908.742 1522.85 911.797 1518.27 Q914.876 1513.66 920.686 1513.66 Z\" fill=\"#000000\" fill-rule=\"nonzero\" fill-opacity=\"1\" /><path clip-path=\"url(#clip120)\" d=\"M1241.04 1530.21 Q1244.39 1530.93 1246.27 1533.2 Q1248.17 1535.47 1248.17 1538.8 Q1248.17 1543.92 1244.65 1546.72 Q1241.13 1549.52 1234.65 1549.52 Q1232.47 1549.52 1230.16 1549.08 Q1227.87 1548.66 1225.41 1547.81 L1225.41 1543.29 Q1227.36 1544.43 1229.67 1545.01 Q1231.99 1545.58 1234.51 1545.58 Q1238.91 1545.58 1241.2 1543.85 Q1243.51 1542.11 1243.51 1538.8 Q1243.51 1535.75 1241.36 1534.03 Q1239.23 1532.3 1235.41 1532.3 L1231.38 1532.3 L1231.38 1528.45 L1235.6 1528.45 Q1239.05 1528.45 1240.87 1527.09 Q1242.7 1525.7 1242.7 1523.11 Q1242.7 1520.45 1240.81 1519.03 Q1238.93 1517.6 1235.41 1517.6 Q1233.49 1517.6 1231.29 1518.01 Q1229.09 1518.43 1226.45 1519.31 L1226.45 1515.14 Q1229.12 1514.4 1231.43 1514.03 Q1233.77 1513.66 1235.83 1513.66 Q1241.15 1513.66 1244.25 1516.09 Q1247.36 1518.5 1247.36 1522.62 Q1247.36 1525.49 1245.71 1527.48 Q1244.07 1529.45 1241.04 1530.21 Z\" fill=\"#000000\" fill-rule=\"nonzero\" fill-opacity=\"1\" /><path clip-path=\"url(#clip120)\" d=\"M1267.03 1517.37 Q1263.42 1517.37 1261.59 1520.93 Q1259.79 1524.47 1259.79 1531.6 Q1259.79 1538.71 1261.59 1542.27 Q1263.42 1545.82 1267.03 1545.82 Q1270.67 1545.82 1272.47 1542.27 Q1274.3 1538.71 1274.3 1531.6 Q1274.3 1524.47 1272.47 1520.93 Q1270.67 1517.37 1267.03 1517.37 M1267.03 1513.66 Q1272.84 1513.66 1275.9 1518.27 Q1278.98 1522.85 1278.98 1531.6 Q1278.98 1540.33 1275.9 1544.94 Q1272.84 1549.52 1267.03 1549.52 Q1261.22 1549.52 1258.14 1544.94 Q1255.09 1540.33 1255.09 1531.6 Q1255.09 1522.85 1258.14 1518.27 Q1261.22 1513.66 1267.03 1513.66 Z\" fill=\"#000000\" fill-rule=\"nonzero\" fill-opacity=\"1\" /><path clip-path=\"url(#clip120)\" d=\"M1586.78 1518.36 L1574.98 1536.81 L1586.78 1536.81 L1586.78 1518.36 M1585.55 1514.29 L1591.43 1514.29 L1591.43 1536.81 L1596.36 1536.81 L1596.36 1540.7 L1591.43 1540.7 L1591.43 1548.85 L1586.78 1548.85 L1586.78 1540.7 L1571.18 1540.7 L1571.18 1536.19 L1585.55 1514.29 Z\" fill=\"#000000\" fill-rule=\"nonzero\" fill-opacity=\"1\" /><path clip-path=\"url(#clip120)\" d=\"M1614.1 1517.37 Q1610.48 1517.37 1608.66 1520.93 Q1606.85 1524.47 1606.85 1531.6 Q1606.85 1538.71 1608.66 1542.27 Q1610.48 1545.82 1614.1 1545.82 Q1617.73 1545.82 1619.54 1542.27 Q1621.36 1538.71 1621.36 1531.6 Q1621.36 1524.47 1619.54 1520.93 Q1617.73 1517.37 1614.1 1517.37 M1614.1 1513.66 Q1619.91 1513.66 1622.96 1518.27 Q1626.04 1522.85 1626.04 1531.6 Q1626.04 1540.33 1622.96 1544.94 Q1619.91 1549.52 1614.1 1549.52 Q1608.29 1549.52 1605.21 1544.94 Q1602.15 1540.33 1602.15 1531.6 Q1602.15 1522.85 1605.21 1518.27 Q1608.29 1513.66 1614.1 1513.66 Z\" fill=\"#000000\" fill-rule=\"nonzero\" fill-opacity=\"1\" /><path clip-path=\"url(#clip120)\" d=\"M1919.72 1514.29 L1938.08 1514.29 L1938.08 1518.22 L1924.01 1518.22 L1924.01 1526.7 Q1925.03 1526.35 1926.04 1526.19 Q1927.06 1526 1928.08 1526 Q1933.87 1526 1937.25 1529.17 Q1940.63 1532.34 1940.63 1537.76 Q1940.63 1543.34 1937.15 1546.44 Q1933.68 1549.52 1927.36 1549.52 Q1925.19 1549.52 1922.92 1549.15 Q1920.67 1548.78 1918.27 1548.04 L1918.27 1543.34 Q1920.35 1544.47 1922.57 1545.03 Q1924.79 1545.58 1927.27 1545.58 Q1931.28 1545.58 1933.61 1543.48 Q1935.95 1541.37 1935.95 1537.76 Q1935.95 1534.15 1933.61 1532.04 Q1931.28 1529.94 1927.27 1529.94 Q1925.4 1529.94 1923.52 1530.35 Q1921.67 1530.77 1919.72 1531.65 L1919.72 1514.29 Z\" fill=\"#000000\" fill-rule=\"nonzero\" fill-opacity=\"1\" /><path clip-path=\"url(#clip120)\" d=\"M1959.84 1517.37 Q1956.23 1517.37 1954.4 1520.93 Q1952.59 1524.47 1952.59 1531.6 Q1952.59 1538.71 1954.4 1542.27 Q1956.23 1545.82 1959.84 1545.82 Q1963.47 1545.82 1965.28 1542.27 Q1967.11 1538.71 1967.11 1531.6 Q1967.11 1524.47 1965.28 1520.93 Q1963.47 1517.37 1959.84 1517.37 M1959.84 1513.66 Q1965.65 1513.66 1968.71 1518.27 Q1971.78 1522.85 1971.78 1531.6 Q1971.78 1540.33 1968.71 1544.94 Q1965.65 1549.52 1959.84 1549.52 Q1954.03 1549.52 1950.95 1544.94 Q1947.9 1540.33 1947.9 1531.6 Q1947.9 1522.85 1950.95 1518.27 Q1954.03 1513.66 1959.84 1513.66 Z\" fill=\"#000000\" fill-rule=\"nonzero\" fill-opacity=\"1\" /><path clip-path=\"url(#clip120)\" d=\"M2276.85 1529.7 Q2273.7 1529.7 2271.85 1531.86 Q2270.02 1534.01 2270.02 1537.76 Q2270.02 1541.49 2271.85 1543.66 Q2273.7 1545.82 2276.85 1545.82 Q2279.99 1545.82 2281.82 1543.66 Q2283.67 1541.49 2283.67 1537.76 Q2283.67 1534.01 2281.82 1531.86 Q2279.99 1529.7 2276.85 1529.7 M2286.13 1515.05 L2286.13 1519.31 Q2284.37 1518.48 2282.56 1518.04 Q2280.78 1517.6 2279.02 1517.6 Q2274.39 1517.6 2271.94 1520.72 Q2269.51 1523.85 2269.16 1530.17 Q2270.53 1528.15 2272.59 1527.09 Q2274.65 1526 2277.12 1526 Q2282.33 1526 2285.34 1529.17 Q2288.37 1532.32 2288.37 1537.76 Q2288.37 1543.08 2285.23 1546.3 Q2282.08 1549.52 2276.85 1549.52 Q2270.85 1549.52 2267.68 1544.94 Q2264.51 1540.33 2264.51 1531.6 Q2264.51 1523.41 2268.4 1518.55 Q2272.29 1513.66 2278.84 1513.66 Q2280.6 1513.66 2282.38 1514.01 Q2284.18 1514.36 2286.13 1515.05 Z\" fill=\"#000000\" fill-rule=\"nonzero\" fill-opacity=\"1\" /><path clip-path=\"url(#clip120)\" d=\"M2306.43 1517.37 Q2302.82 1517.37 2300.99 1520.93 Q2299.18 1524.47 2299.18 1531.6 Q2299.18 1538.71 2300.99 1542.27 Q2302.82 1545.82 2306.43 1545.82 Q2310.06 1545.82 2311.87 1542.27 Q2313.7 1538.71 2313.7 1531.6 Q2313.7 1524.47 2311.87 1520.93 Q2310.06 1517.37 2306.43 1517.37 M2306.43 1513.66 Q2312.24 1513.66 2315.29 1518.27 Q2318.37 1522.85 2318.37 1531.6 Q2318.37 1540.33 2315.29 1544.94 Q2312.24 1549.52 2306.43 1549.52 Q2300.62 1549.52 2297.54 1544.94 Q2294.48 1540.33 2294.48 1531.6 Q2294.48 1522.85 2297.54 1518.27 Q2300.62 1513.66 2306.43 1513.66 Z\" fill=\"#000000\" fill-rule=\"nonzero\" fill-opacity=\"1\" /><polyline clip-path=\"url(#clip122)\" style=\"stroke:#000000; stroke-linecap:round; stroke-linejoin:round; stroke-width:2; stroke-opacity:0.1; fill:none\" points=\"186.274,1445.72 2352.76,1445.72 \"/>\n",
       "<polyline clip-path=\"url(#clip122)\" style=\"stroke:#000000; stroke-linecap:round; stroke-linejoin:round; stroke-width:2; stroke-opacity:0.1; fill:none\" points=\"186.274,1103.78 2352.76,1103.78 \"/>\n",
       "<polyline clip-path=\"url(#clip122)\" style=\"stroke:#000000; stroke-linecap:round; stroke-linejoin:round; stroke-width:2; stroke-opacity:0.1; fill:none\" points=\"186.274,761.854 2352.76,761.854 \"/>\n",
       "<polyline clip-path=\"url(#clip122)\" style=\"stroke:#000000; stroke-linecap:round; stroke-linejoin:round; stroke-width:2; stroke-opacity:0.1; fill:none\" points=\"186.274,419.923 2352.76,419.923 \"/>\n",
       "<polyline clip-path=\"url(#clip122)\" style=\"stroke:#000000; stroke-linecap:round; stroke-linejoin:round; stroke-width:2; stroke-opacity:0.1; fill:none\" points=\"186.274,77.9919 2352.76,77.9919 \"/>\n",
       "<polyline clip-path=\"url(#clip120)\" style=\"stroke:#000000; stroke-linecap:round; stroke-linejoin:round; stroke-width:4; stroke-opacity:1; fill:none\" points=\"186.274,1486.45 186.274,47.2441 \"/>\n",
       "<polyline clip-path=\"url(#clip120)\" style=\"stroke:#000000; stroke-linecap:round; stroke-linejoin:round; stroke-width:4; stroke-opacity:1; fill:none\" points=\"186.274,1445.72 205.172,1445.72 \"/>\n",
       "<polyline clip-path=\"url(#clip120)\" style=\"stroke:#000000; stroke-linecap:round; stroke-linejoin:round; stroke-width:4; stroke-opacity:1; fill:none\" points=\"186.274,1103.78 205.172,1103.78 \"/>\n",
       "<polyline clip-path=\"url(#clip120)\" style=\"stroke:#000000; stroke-linecap:round; stroke-linejoin:round; stroke-width:4; stroke-opacity:1; fill:none\" points=\"186.274,761.854 205.172,761.854 \"/>\n",
       "<polyline clip-path=\"url(#clip120)\" style=\"stroke:#000000; stroke-linecap:round; stroke-linejoin:round; stroke-width:4; stroke-opacity:1; fill:none\" points=\"186.274,419.923 205.172,419.923 \"/>\n",
       "<polyline clip-path=\"url(#clip120)\" style=\"stroke:#000000; stroke-linecap:round; stroke-linejoin:round; stroke-width:4; stroke-opacity:1; fill:none\" points=\"186.274,77.9919 205.172,77.9919 \"/>\n",
       "<path clip-path=\"url(#clip120)\" d=\"M62.9365 1431.51 Q59.3254 1431.51 57.4967 1435.08 Q55.6912 1438.62 55.6912 1445.75 Q55.6912 1452.86 57.4967 1456.42 Q59.3254 1459.96 62.9365 1459.96 Q66.5707 1459.96 68.3763 1456.42 Q70.205 1452.86 70.205 1445.75 Q70.205 1438.62 68.3763 1435.08 Q66.5707 1431.51 62.9365 1431.51 M62.9365 1427.81 Q68.7467 1427.81 71.8022 1432.42 Q74.8809 1437 74.8809 1445.75 Q74.8809 1454.48 71.8022 1459.08 Q68.7467 1463.67 62.9365 1463.67 Q57.1264 1463.67 54.0477 1459.08 Q50.9921 1454.48 50.9921 1445.75 Q50.9921 1437 54.0477 1432.42 Q57.1264 1427.81 62.9365 1427.81 Z\" fill=\"#000000\" fill-rule=\"nonzero\" fill-opacity=\"1\" /><path clip-path=\"url(#clip120)\" d=\"M83.0984 1457.12 L87.9827 1457.12 L87.9827 1463 L83.0984 1463 L83.0984 1457.12 Z\" fill=\"#000000\" fill-rule=\"nonzero\" fill-opacity=\"1\" /><path clip-path=\"url(#clip120)\" d=\"M108.168 1431.51 Q104.557 1431.51 102.728 1435.08 Q100.922 1438.62 100.922 1445.75 Q100.922 1452.86 102.728 1456.42 Q104.557 1459.96 108.168 1459.96 Q111.802 1459.96 113.608 1456.42 Q115.436 1452.86 115.436 1445.75 Q115.436 1438.62 113.608 1435.08 Q111.802 1431.51 108.168 1431.51 M108.168 1427.81 Q113.978 1427.81 117.033 1432.42 Q120.112 1437 120.112 1445.75 Q120.112 1454.48 117.033 1459.08 Q113.978 1463.67 108.168 1463.67 Q102.358 1463.67 99.2789 1459.08 Q96.2234 1454.48 96.2234 1445.75 Q96.2234 1437 99.2789 1432.42 Q102.358 1427.81 108.168 1427.81 Z\" fill=\"#000000\" fill-rule=\"nonzero\" fill-opacity=\"1\" /><path clip-path=\"url(#clip120)\" d=\"M138.33 1431.51 Q134.719 1431.51 132.89 1435.08 Q131.084 1438.62 131.084 1445.75 Q131.084 1452.86 132.89 1456.42 Q134.719 1459.96 138.33 1459.96 Q141.964 1459.96 143.769 1456.42 Q145.598 1452.86 145.598 1445.75 Q145.598 1438.62 143.769 1435.08 Q141.964 1431.51 138.33 1431.51 M138.33 1427.81 Q144.14 1427.81 147.195 1432.42 Q150.274 1437 150.274 1445.75 Q150.274 1454.48 147.195 1459.08 Q144.14 1463.67 138.33 1463.67 Q132.519 1463.67 129.441 1459.08 Q126.385 1454.48 126.385 1445.75 Q126.385 1437 129.441 1432.42 Q132.519 1427.81 138.33 1427.81 Z\" fill=\"#000000\" fill-rule=\"nonzero\" fill-opacity=\"1\" /><path clip-path=\"url(#clip120)\" d=\"M63.9319 1089.58 Q60.3208 1089.58 58.4921 1093.15 Q56.6865 1096.69 56.6865 1103.82 Q56.6865 1110.93 58.4921 1114.49 Q60.3208 1118.03 63.9319 1118.03 Q67.5661 1118.03 69.3717 1114.49 Q71.2004 1110.93 71.2004 1103.82 Q71.2004 1096.69 69.3717 1093.15 Q67.5661 1089.58 63.9319 1089.58 M63.9319 1085.88 Q69.742 1085.88 72.7976 1090.49 Q75.8763 1095.07 75.8763 1103.82 Q75.8763 1112.55 72.7976 1117.15 Q69.742 1121.74 63.9319 1121.74 Q58.1217 1121.74 55.043 1117.15 Q51.9875 1112.55 51.9875 1103.82 Q51.9875 1095.07 55.043 1090.49 Q58.1217 1085.88 63.9319 1085.88 Z\" fill=\"#000000\" fill-rule=\"nonzero\" fill-opacity=\"1\" /><path clip-path=\"url(#clip120)\" d=\"M84.0938 1115.19 L88.978 1115.19 L88.978 1121.06 L84.0938 1121.06 L84.0938 1115.19 Z\" fill=\"#000000\" fill-rule=\"nonzero\" fill-opacity=\"1\" /><path clip-path=\"url(#clip120)\" d=\"M103.191 1117.13 L119.51 1117.13 L119.51 1121.06 L97.566 1121.06 L97.566 1117.13 Q100.228 1114.37 104.811 1109.75 Q109.418 1105.09 110.598 1103.75 Q112.844 1101.23 113.723 1099.49 Q114.626 1097.73 114.626 1096.04 Q114.626 1093.29 112.682 1091.55 Q110.76 1089.81 107.658 1089.81 Q105.459 1089.81 103.006 1090.58 Q100.575 1091.34 97.7974 1092.89 L97.7974 1088.17 Q100.621 1087.04 103.075 1086.46 Q105.529 1085.88 107.566 1085.88 Q112.936 1085.88 116.131 1088.56 Q119.325 1091.25 119.325 1095.74 Q119.325 1097.87 118.515 1099.79 Q117.728 1101.69 115.621 1104.28 Q115.043 1104.95 111.941 1108.17 Q108.839 1111.37 103.191 1117.13 Z\" fill=\"#000000\" fill-rule=\"nonzero\" fill-opacity=\"1\" /><path clip-path=\"url(#clip120)\" d=\"M129.371 1086.5 L147.728 1086.5 L147.728 1090.44 L133.654 1090.44 L133.654 1098.91 Q134.672 1098.56 135.691 1098.4 Q136.709 1098.22 137.728 1098.22 Q143.515 1098.22 146.894 1101.39 Q150.274 1104.56 150.274 1109.98 Q150.274 1115.56 146.802 1118.66 Q143.33 1121.74 137.01 1121.74 Q134.834 1121.74 132.566 1121.37 Q130.32 1121 127.913 1120.25 L127.913 1115.56 Q129.996 1116.69 132.219 1117.25 Q134.441 1117.8 136.918 1117.8 Q140.922 1117.8 143.26 1115.69 Q145.598 1113.59 145.598 1109.98 Q145.598 1106.37 143.26 1104.26 Q140.922 1102.15 136.918 1102.15 Q135.043 1102.15 133.168 1102.57 Q131.316 1102.99 129.371 1103.87 L129.371 1086.5 Z\" fill=\"#000000\" fill-rule=\"nonzero\" fill-opacity=\"1\" /><path clip-path=\"url(#clip120)\" d=\"M62.9365 747.652 Q59.3254 747.652 57.4967 751.217 Q55.6912 754.759 55.6912 761.889 Q55.6912 768.995 57.4967 772.56 Q59.3254 776.101 62.9365 776.101 Q66.5707 776.101 68.3763 772.56 Q70.205 768.995 70.205 761.889 Q70.205 754.759 68.3763 751.217 Q66.5707 747.652 62.9365 747.652 M62.9365 743.949 Q68.7467 743.949 71.8022 748.555 Q74.8809 753.139 74.8809 761.889 Q74.8809 770.615 71.8022 775.222 Q68.7467 779.805 62.9365 779.805 Q57.1264 779.805 54.0477 775.222 Q50.9921 770.615 50.9921 761.889 Q50.9921 753.139 54.0477 748.555 Q57.1264 743.949 62.9365 743.949 Z\" fill=\"#000000\" fill-rule=\"nonzero\" fill-opacity=\"1\" /><path clip-path=\"url(#clip120)\" d=\"M83.0984 773.254 L87.9827 773.254 L87.9827 779.134 L83.0984 779.134 L83.0984 773.254 Z\" fill=\"#000000\" fill-rule=\"nonzero\" fill-opacity=\"1\" /><path clip-path=\"url(#clip120)\" d=\"M98.2141 744.574 L116.57 744.574 L116.57 748.509 L102.496 748.509 L102.496 756.981 Q103.515 756.634 104.534 756.472 Q105.552 756.287 106.571 756.287 Q112.358 756.287 115.737 759.458 Q119.117 762.629 119.117 768.046 Q119.117 773.625 115.645 776.726 Q112.172 779.805 105.853 779.805 Q103.677 779.805 101.409 779.435 Q99.1632 779.064 96.7558 778.324 L96.7558 773.625 Q98.8391 774.759 101.061 775.314 Q103.284 775.87 105.76 775.87 Q109.765 775.87 112.103 773.763 Q114.441 771.657 114.441 768.046 Q114.441 764.435 112.103 762.328 Q109.765 760.222 105.76 760.222 Q103.885 760.222 102.01 760.639 Q100.159 761.055 98.2141 761.935 L98.2141 744.574 Z\" fill=\"#000000\" fill-rule=\"nonzero\" fill-opacity=\"1\" /><path clip-path=\"url(#clip120)\" d=\"M138.33 747.652 Q134.719 747.652 132.89 751.217 Q131.084 754.759 131.084 761.889 Q131.084 768.995 132.89 772.56 Q134.719 776.101 138.33 776.101 Q141.964 776.101 143.769 772.56 Q145.598 768.995 145.598 761.889 Q145.598 754.759 143.769 751.217 Q141.964 747.652 138.33 747.652 M138.33 743.949 Q144.14 743.949 147.195 748.555 Q150.274 753.139 150.274 761.889 Q150.274 770.615 147.195 775.222 Q144.14 779.805 138.33 779.805 Q132.519 779.805 129.441 775.222 Q126.385 770.615 126.385 761.889 Q126.385 753.139 129.441 748.555 Q132.519 743.949 138.33 743.949 Z\" fill=\"#000000\" fill-rule=\"nonzero\" fill-opacity=\"1\" /><path clip-path=\"url(#clip120)\" d=\"M63.9319 405.722 Q60.3208 405.722 58.4921 409.286 Q56.6865 412.828 56.6865 419.958 Q56.6865 427.064 58.4921 430.629 Q60.3208 434.17 63.9319 434.17 Q67.5661 434.17 69.3717 430.629 Q71.2004 427.064 71.2004 419.958 Q71.2004 412.828 69.3717 409.286 Q67.5661 405.722 63.9319 405.722 M63.9319 402.018 Q69.742 402.018 72.7976 406.624 Q75.8763 411.208 75.8763 419.958 Q75.8763 428.684 72.7976 433.291 Q69.742 437.874 63.9319 437.874 Q58.1217 437.874 55.043 433.291 Q51.9875 428.684 51.9875 419.958 Q51.9875 411.208 55.043 406.624 Q58.1217 402.018 63.9319 402.018 Z\" fill=\"#000000\" fill-rule=\"nonzero\" fill-opacity=\"1\" /><path clip-path=\"url(#clip120)\" d=\"M84.0938 431.323 L88.978 431.323 L88.978 437.203 L84.0938 437.203 L84.0938 431.323 Z\" fill=\"#000000\" fill-rule=\"nonzero\" fill-opacity=\"1\" /><path clip-path=\"url(#clip120)\" d=\"M97.9826 402.643 L120.205 402.643 L120.205 404.634 L107.658 437.203 L102.774 437.203 L114.58 406.578 L97.9826 406.578 L97.9826 402.643 Z\" fill=\"#000000\" fill-rule=\"nonzero\" fill-opacity=\"1\" /><path clip-path=\"url(#clip120)\" d=\"M129.371 402.643 L147.728 402.643 L147.728 406.578 L133.654 406.578 L133.654 415.05 Q134.672 414.703 135.691 414.541 Q136.709 414.356 137.728 414.356 Q143.515 414.356 146.894 417.527 Q150.274 420.698 150.274 426.115 Q150.274 431.694 146.802 434.795 Q143.33 437.874 137.01 437.874 Q134.834 437.874 132.566 437.504 Q130.32 437.133 127.913 436.393 L127.913 431.694 Q129.996 432.828 132.219 433.383 Q134.441 433.939 136.918 433.939 Q140.922 433.939 143.26 431.833 Q145.598 429.726 145.598 426.115 Q145.598 422.504 143.26 420.397 Q140.922 418.291 136.918 418.291 Q135.043 418.291 133.168 418.708 Q131.316 419.124 129.371 420.004 L129.371 402.643 Z\" fill=\"#000000\" fill-rule=\"nonzero\" fill-opacity=\"1\" /><path clip-path=\"url(#clip120)\" d=\"M53.7467 91.3367 L61.3856 91.3367 L61.3856 64.9711 L53.0754 66.6378 L53.0754 62.3786 L61.3393 60.7119 L66.0152 60.7119 L66.0152 91.3367 L73.654 91.3367 L73.654 95.2719 L53.7467 95.2719 L53.7467 91.3367 Z\" fill=\"#000000\" fill-rule=\"nonzero\" fill-opacity=\"1\" /><path clip-path=\"url(#clip120)\" d=\"M83.0984 89.3923 L87.9827 89.3923 L87.9827 95.2719 L83.0984 95.2719 L83.0984 89.3923 Z\" fill=\"#000000\" fill-rule=\"nonzero\" fill-opacity=\"1\" /><path clip-path=\"url(#clip120)\" d=\"M108.168 63.7906 Q104.557 63.7906 102.728 67.3554 Q100.922 70.897 100.922 78.0266 Q100.922 85.1331 102.728 88.6979 Q104.557 92.2395 108.168 92.2395 Q111.802 92.2395 113.608 88.6979 Q115.436 85.1331 115.436 78.0266 Q115.436 70.897 113.608 67.3554 Q111.802 63.7906 108.168 63.7906 M108.168 60.0869 Q113.978 60.0869 117.033 64.6934 Q120.112 69.2767 120.112 78.0266 Q120.112 86.7534 117.033 91.3599 Q113.978 95.9432 108.168 95.9432 Q102.358 95.9432 99.2789 91.3599 Q96.2234 86.7534 96.2234 78.0266 Q96.2234 69.2767 99.2789 64.6934 Q102.358 60.0869 108.168 60.0869 Z\" fill=\"#000000\" fill-rule=\"nonzero\" fill-opacity=\"1\" /><path clip-path=\"url(#clip120)\" d=\"M138.33 63.7906 Q134.719 63.7906 132.89 67.3554 Q131.084 70.897 131.084 78.0266 Q131.084 85.1331 132.89 88.6979 Q134.719 92.2395 138.33 92.2395 Q141.964 92.2395 143.769 88.6979 Q145.598 85.1331 145.598 78.0266 Q145.598 70.897 143.769 67.3554 Q141.964 63.7906 138.33 63.7906 M138.33 60.0869 Q144.14 60.0869 147.195 64.6934 Q150.274 69.2767 150.274 78.0266 Q150.274 86.7534 147.195 91.3599 Q144.14 95.9432 138.33 95.9432 Q132.519 95.9432 129.441 91.3599 Q126.385 86.7534 126.385 78.0266 Q126.385 69.2767 129.441 64.6934 Q132.519 60.0869 138.33 60.0869 Z\" fill=\"#000000\" fill-rule=\"nonzero\" fill-opacity=\"1\" /><polyline clip-path=\"url(#clip122)\" style=\"stroke:#009af9; stroke-linecap:round; stroke-linejoin:round; stroke-width:4; stroke-opacity:1; fill:none\" points=\"247.59,1445.72 282.231,1442.43 316.873,1436.83 351.514,1423.97 386.156,1410.29 420.797,1388.96 455.439,1372.95 490.08,1346.28 524.722,1310.31 559.363,1281.45 594.005,1250.82 628.646,1219.08 663.288,1179.15 697.93,1135.11 732.571,1102.83 767.213,1060.84 801.854,1023.36 836.496,983.562 871.137,928.169 905.779,897.532 940.42,829.283 975.062,795.91 1009.7,750.228 1044.34,704.136 1078.99,666.113 1113.63,626.312 1148.27,580.904 1182.91,545.343 1217.55,511.56 1252.19,480.65 1286.84,445.636 1321.48,419.649 1356.12,389.97 1390.76,366.582 1425.4,337.996 1460.04,301.068 1494.68,280.825 1529.33,254.975 1563.97,247.316 1598.61,226.937 1633.25,208.883 1667.89,193.701 1702.53,182.076 1737.18,170.176 1771.82,153.764 1806.46,144.737 1841.1,138.582 1875.74,132.974 1910.38,123.4 1945.02,120.802 1979.67,111.091 2014.31,107.945 2048.95,103.568 2083.59,99.8755 2118.23,97.2768 2152.87,92.7633 2187.52,92.6265 2222.16,88.9337 2256.8,87.9763 2291.44,88.2498 \"/>\n",
       "<path clip-path=\"url(#clip120)\" d=\"M258.49 198.898 L527.569 198.898 L527.569 95.2176 L258.49 95.2176  Z\" fill=\"#ffffff\" fill-rule=\"evenodd\" fill-opacity=\"1\"/>\n",
       "<polyline clip-path=\"url(#clip120)\" style=\"stroke:#000000; stroke-linecap:round; stroke-linejoin:round; stroke-width:4; stroke-opacity:1; fill:none\" points=\"258.49,198.898 527.569,198.898 527.569,95.2176 258.49,95.2176 258.49,198.898 \"/>\n",
       "<polyline clip-path=\"url(#clip120)\" style=\"stroke:#009af9; stroke-linecap:round; stroke-linejoin:round; stroke-width:4; stroke-opacity:1; fill:none\" points=\"282.562,147.058 426.994,147.058 \"/>\n",
       "<path clip-path=\"url(#clip120)\" d=\"M464.909 166.745 Q463.103 171.375 461.39 172.787 Q459.677 174.199 456.807 174.199 L453.404 174.199 L453.404 170.634 L455.904 170.634 Q457.663 170.634 458.636 169.8 Q459.608 168.967 460.788 165.865 L461.552 163.921 L451.066 138.412 L455.58 138.412 L463.682 158.689 L471.784 138.412 L476.298 138.412 L464.909 166.745 Z\" fill=\"#000000\" fill-rule=\"nonzero\" fill-opacity=\"1\" /><path clip-path=\"url(#clip120)\" d=\"M483.589 160.402 L491.228 160.402 L491.228 134.037 L482.918 135.703 L482.918 131.444 L491.182 129.778 L495.858 129.778 L495.858 160.402 L503.497 160.402 L503.497 164.338 L483.589 164.338 L483.589 160.402 Z\" fill=\"#000000\" fill-rule=\"nonzero\" fill-opacity=\"1\" /></svg>\n"
      ],
      "text/html": [
       "<?xml version=\"1.0\" encoding=\"utf-8\"?>\n",
       "<svg xmlns=\"http://www.w3.org/2000/svg\" xmlns:xlink=\"http://www.w3.org/1999/xlink\" width=\"600\" height=\"400\" viewBox=\"0 0 2400 1600\">\n",
       "<defs>\n",
       "  <clipPath id=\"clip170\">\n",
       "    <rect x=\"0\" y=\"0\" width=\"2400\" height=\"1600\"/>\n",
       "  </clipPath>\n",
       "</defs>\n",
       "<path clip-path=\"url(#clip170)\" d=\"M0 1600 L2400 1600 L2400 0 L0 0  Z\" fill=\"#ffffff\" fill-rule=\"evenodd\" fill-opacity=\"1\"/>\n",
       "<defs>\n",
       "  <clipPath id=\"clip171\">\n",
       "    <rect x=\"480\" y=\"0\" width=\"1681\" height=\"1600\"/>\n",
       "  </clipPath>\n",
       "</defs>\n",
       "<path clip-path=\"url(#clip170)\" d=\"M186.274 1486.45 L2352.76 1486.45 L2352.76 47.2441 L186.274 47.2441  Z\" fill=\"#ffffff\" fill-rule=\"evenodd\" fill-opacity=\"1\"/>\n",
       "<defs>\n",
       "  <clipPath id=\"clip172\">\n",
       "    <rect x=\"186\" y=\"47\" width=\"2167\" height=\"1440\"/>\n",
       "  </clipPath>\n",
       "</defs>\n",
       "<polyline clip-path=\"url(#clip172)\" style=\"stroke:#000000; stroke-linecap:round; stroke-linejoin:round; stroke-width:2; stroke-opacity:0.1; fill:none\" points=\"212.948,1486.45 212.948,47.2441 \"/>\n",
       "<polyline clip-path=\"url(#clip172)\" style=\"stroke:#000000; stroke-linecap:round; stroke-linejoin:round; stroke-width:2; stroke-opacity:0.1; fill:none\" points=\"559.363,1486.45 559.363,47.2441 \"/>\n",
       "<polyline clip-path=\"url(#clip172)\" style=\"stroke:#000000; stroke-linecap:round; stroke-linejoin:round; stroke-width:2; stroke-opacity:0.1; fill:none\" points=\"905.779,1486.45 905.779,47.2441 \"/>\n",
       "<polyline clip-path=\"url(#clip172)\" style=\"stroke:#000000; stroke-linecap:round; stroke-linejoin:round; stroke-width:2; stroke-opacity:0.1; fill:none\" points=\"1252.19,1486.45 1252.19,47.2441 \"/>\n",
       "<polyline clip-path=\"url(#clip172)\" style=\"stroke:#000000; stroke-linecap:round; stroke-linejoin:round; stroke-width:2; stroke-opacity:0.1; fill:none\" points=\"1598.61,1486.45 1598.61,47.2441 \"/>\n",
       "<polyline clip-path=\"url(#clip172)\" style=\"stroke:#000000; stroke-linecap:round; stroke-linejoin:round; stroke-width:2; stroke-opacity:0.1; fill:none\" points=\"1945.02,1486.45 1945.02,47.2441 \"/>\n",
       "<polyline clip-path=\"url(#clip172)\" style=\"stroke:#000000; stroke-linecap:round; stroke-linejoin:round; stroke-width:2; stroke-opacity:0.1; fill:none\" points=\"2291.44,1486.45 2291.44,47.2441 \"/>\n",
       "<polyline clip-path=\"url(#clip170)\" style=\"stroke:#000000; stroke-linecap:round; stroke-linejoin:round; stroke-width:4; stroke-opacity:1; fill:none\" points=\"186.274,1486.45 2352.76,1486.45 \"/>\n",
       "<polyline clip-path=\"url(#clip170)\" style=\"stroke:#000000; stroke-linecap:round; stroke-linejoin:round; stroke-width:4; stroke-opacity:1; fill:none\" points=\"212.948,1486.45 212.948,1467.55 \"/>\n",
       "<polyline clip-path=\"url(#clip170)\" style=\"stroke:#000000; stroke-linecap:round; stroke-linejoin:round; stroke-width:4; stroke-opacity:1; fill:none\" points=\"559.363,1486.45 559.363,1467.55 \"/>\n",
       "<polyline clip-path=\"url(#clip170)\" style=\"stroke:#000000; stroke-linecap:round; stroke-linejoin:round; stroke-width:4; stroke-opacity:1; fill:none\" points=\"905.779,1486.45 905.779,1467.55 \"/>\n",
       "<polyline clip-path=\"url(#clip170)\" style=\"stroke:#000000; stroke-linecap:round; stroke-linejoin:round; stroke-width:4; stroke-opacity:1; fill:none\" points=\"1252.19,1486.45 1252.19,1467.55 \"/>\n",
       "<polyline clip-path=\"url(#clip170)\" style=\"stroke:#000000; stroke-linecap:round; stroke-linejoin:round; stroke-width:4; stroke-opacity:1; fill:none\" points=\"1598.61,1486.45 1598.61,1467.55 \"/>\n",
       "<polyline clip-path=\"url(#clip170)\" style=\"stroke:#000000; stroke-linecap:round; stroke-linejoin:round; stroke-width:4; stroke-opacity:1; fill:none\" points=\"1945.02,1486.45 1945.02,1467.55 \"/>\n",
       "<polyline clip-path=\"url(#clip170)\" style=\"stroke:#000000; stroke-linecap:round; stroke-linejoin:round; stroke-width:4; stroke-opacity:1; fill:none\" points=\"2291.44,1486.45 2291.44,1467.55 \"/>\n",
       "<path clip-path=\"url(#clip170)\" d=\"M212.948 1517.37 Q209.337 1517.37 207.508 1520.93 Q205.703 1524.47 205.703 1531.6 Q205.703 1538.71 207.508 1542.27 Q209.337 1545.82 212.948 1545.82 Q216.582 1545.82 218.388 1542.27 Q220.216 1538.71 220.216 1531.6 Q220.216 1524.47 218.388 1520.93 Q216.582 1517.37 212.948 1517.37 M212.948 1513.66 Q218.758 1513.66 221.814 1518.27 Q224.892 1522.85 224.892 1531.6 Q224.892 1540.33 221.814 1544.94 Q218.758 1549.52 212.948 1549.52 Q207.138 1549.52 204.059 1544.94 Q201.004 1540.33 201.004 1531.6 Q201.004 1522.85 204.059 1518.27 Q207.138 1513.66 212.948 1513.66 Z\" fill=\"#000000\" fill-rule=\"nonzero\" fill-opacity=\"1\" /><path clip-path=\"url(#clip170)\" d=\"M534.051 1544.91 L541.69 1544.91 L541.69 1518.55 L533.38 1520.21 L533.38 1515.95 L541.644 1514.29 L546.319 1514.29 L546.319 1544.91 L553.958 1544.91 L553.958 1548.85 L534.051 1548.85 L534.051 1544.91 Z\" fill=\"#000000\" fill-rule=\"nonzero\" fill-opacity=\"1\" /><path clip-path=\"url(#clip170)\" d=\"M573.403 1517.37 Q569.792 1517.37 567.963 1520.93 Q566.157 1524.47 566.157 1531.6 Q566.157 1538.71 567.963 1542.27 Q569.792 1545.82 573.403 1545.82 Q577.037 1545.82 578.842 1542.27 Q580.671 1538.71 580.671 1531.6 Q580.671 1524.47 578.842 1520.93 Q577.037 1517.37 573.403 1517.37 M573.403 1513.66 Q579.213 1513.66 582.268 1518.27 Q585.347 1522.85 585.347 1531.6 Q585.347 1540.33 582.268 1544.94 Q579.213 1549.52 573.403 1549.52 Q567.593 1549.52 564.514 1544.94 Q561.458 1540.33 561.458 1531.6 Q561.458 1522.85 564.514 1518.27 Q567.593 1513.66 573.403 1513.66 Z\" fill=\"#000000\" fill-rule=\"nonzero\" fill-opacity=\"1\" /><path clip-path=\"url(#clip170)\" d=\"M884.552 1544.91 L900.871 1544.91 L900.871 1548.85 L878.927 1548.85 L878.927 1544.91 Q881.589 1542.16 886.172 1537.53 Q890.779 1532.88 891.959 1531.53 Q894.205 1529.01 895.084 1527.27 Q895.987 1525.51 895.987 1523.82 Q895.987 1521.07 894.043 1519.33 Q892.121 1517.6 889.02 1517.6 Q886.821 1517.6 884.367 1518.36 Q881.936 1519.13 879.159 1520.68 L879.159 1515.95 Q881.983 1514.82 884.436 1514.24 Q886.89 1513.66 888.927 1513.66 Q894.297 1513.66 897.492 1516.35 Q900.686 1519.03 900.686 1523.52 Q900.686 1525.65 899.876 1527.57 Q899.089 1529.47 896.983 1532.07 Q896.404 1532.74 893.302 1535.95 Q890.2 1539.15 884.552 1544.91 Z\" fill=\"#000000\" fill-rule=\"nonzero\" fill-opacity=\"1\" /><path clip-path=\"url(#clip170)\" d=\"M920.686 1517.37 Q917.075 1517.37 915.246 1520.93 Q913.441 1524.47 913.441 1531.6 Q913.441 1538.71 915.246 1542.27 Q917.075 1545.82 920.686 1545.82 Q924.32 1545.82 926.126 1542.27 Q927.955 1538.71 927.955 1531.6 Q927.955 1524.47 926.126 1520.93 Q924.32 1517.37 920.686 1517.37 M920.686 1513.66 Q926.496 1513.66 929.552 1518.27 Q932.63 1522.85 932.63 1531.6 Q932.63 1540.33 929.552 1544.94 Q926.496 1549.52 920.686 1549.52 Q914.876 1549.52 911.797 1544.94 Q908.742 1540.33 908.742 1531.6 Q908.742 1522.85 911.797 1518.27 Q914.876 1513.66 920.686 1513.66 Z\" fill=\"#000000\" fill-rule=\"nonzero\" fill-opacity=\"1\" /><path clip-path=\"url(#clip170)\" d=\"M1241.04 1530.21 Q1244.39 1530.93 1246.27 1533.2 Q1248.17 1535.47 1248.17 1538.8 Q1248.17 1543.92 1244.65 1546.72 Q1241.13 1549.52 1234.65 1549.52 Q1232.47 1549.52 1230.16 1549.08 Q1227.87 1548.66 1225.41 1547.81 L1225.41 1543.29 Q1227.36 1544.43 1229.67 1545.01 Q1231.99 1545.58 1234.51 1545.58 Q1238.91 1545.58 1241.2 1543.85 Q1243.51 1542.11 1243.51 1538.8 Q1243.51 1535.75 1241.36 1534.03 Q1239.23 1532.3 1235.41 1532.3 L1231.38 1532.3 L1231.38 1528.45 L1235.6 1528.45 Q1239.05 1528.45 1240.87 1527.09 Q1242.7 1525.7 1242.7 1523.11 Q1242.7 1520.45 1240.81 1519.03 Q1238.93 1517.6 1235.41 1517.6 Q1233.49 1517.6 1231.29 1518.01 Q1229.09 1518.43 1226.45 1519.31 L1226.45 1515.14 Q1229.12 1514.4 1231.43 1514.03 Q1233.77 1513.66 1235.83 1513.66 Q1241.15 1513.66 1244.25 1516.09 Q1247.36 1518.5 1247.36 1522.62 Q1247.36 1525.49 1245.71 1527.48 Q1244.07 1529.45 1241.04 1530.21 Z\" fill=\"#000000\" fill-rule=\"nonzero\" fill-opacity=\"1\" /><path clip-path=\"url(#clip170)\" d=\"M1267.03 1517.37 Q1263.42 1517.37 1261.59 1520.93 Q1259.79 1524.47 1259.79 1531.6 Q1259.79 1538.71 1261.59 1542.27 Q1263.42 1545.82 1267.03 1545.82 Q1270.67 1545.82 1272.47 1542.27 Q1274.3 1538.71 1274.3 1531.6 Q1274.3 1524.47 1272.47 1520.93 Q1270.67 1517.37 1267.03 1517.37 M1267.03 1513.66 Q1272.84 1513.66 1275.9 1518.27 Q1278.98 1522.85 1278.98 1531.6 Q1278.98 1540.33 1275.9 1544.94 Q1272.84 1549.52 1267.03 1549.52 Q1261.22 1549.52 1258.14 1544.94 Q1255.09 1540.33 1255.09 1531.6 Q1255.09 1522.85 1258.14 1518.27 Q1261.22 1513.66 1267.03 1513.66 Z\" fill=\"#000000\" fill-rule=\"nonzero\" fill-opacity=\"1\" /><path clip-path=\"url(#clip170)\" d=\"M1586.78 1518.36 L1574.98 1536.81 L1586.78 1536.81 L1586.78 1518.36 M1585.55 1514.29 L1591.43 1514.29 L1591.43 1536.81 L1596.36 1536.81 L1596.36 1540.7 L1591.43 1540.7 L1591.43 1548.85 L1586.78 1548.85 L1586.78 1540.7 L1571.18 1540.7 L1571.18 1536.19 L1585.55 1514.29 Z\" fill=\"#000000\" fill-rule=\"nonzero\" fill-opacity=\"1\" /><path clip-path=\"url(#clip170)\" d=\"M1614.1 1517.37 Q1610.48 1517.37 1608.66 1520.93 Q1606.85 1524.47 1606.85 1531.6 Q1606.85 1538.71 1608.66 1542.27 Q1610.48 1545.82 1614.1 1545.82 Q1617.73 1545.82 1619.54 1542.27 Q1621.36 1538.71 1621.36 1531.6 Q1621.36 1524.47 1619.54 1520.93 Q1617.73 1517.37 1614.1 1517.37 M1614.1 1513.66 Q1619.91 1513.66 1622.96 1518.27 Q1626.04 1522.85 1626.04 1531.6 Q1626.04 1540.33 1622.96 1544.94 Q1619.91 1549.52 1614.1 1549.52 Q1608.29 1549.52 1605.21 1544.94 Q1602.15 1540.33 1602.15 1531.6 Q1602.15 1522.85 1605.21 1518.27 Q1608.29 1513.66 1614.1 1513.66 Z\" fill=\"#000000\" fill-rule=\"nonzero\" fill-opacity=\"1\" /><path clip-path=\"url(#clip170)\" d=\"M1919.72 1514.29 L1938.08 1514.29 L1938.08 1518.22 L1924.01 1518.22 L1924.01 1526.7 Q1925.03 1526.35 1926.04 1526.19 Q1927.06 1526 1928.08 1526 Q1933.87 1526 1937.25 1529.17 Q1940.63 1532.34 1940.63 1537.76 Q1940.63 1543.34 1937.15 1546.44 Q1933.68 1549.52 1927.36 1549.52 Q1925.19 1549.52 1922.92 1549.15 Q1920.67 1548.78 1918.27 1548.04 L1918.27 1543.34 Q1920.35 1544.47 1922.57 1545.03 Q1924.79 1545.58 1927.27 1545.58 Q1931.28 1545.58 1933.61 1543.48 Q1935.95 1541.37 1935.95 1537.76 Q1935.95 1534.15 1933.61 1532.04 Q1931.28 1529.94 1927.27 1529.94 Q1925.4 1529.94 1923.52 1530.35 Q1921.67 1530.77 1919.72 1531.65 L1919.72 1514.29 Z\" fill=\"#000000\" fill-rule=\"nonzero\" fill-opacity=\"1\" /><path clip-path=\"url(#clip170)\" d=\"M1959.84 1517.37 Q1956.23 1517.37 1954.4 1520.93 Q1952.59 1524.47 1952.59 1531.6 Q1952.59 1538.71 1954.4 1542.27 Q1956.23 1545.82 1959.84 1545.82 Q1963.47 1545.82 1965.28 1542.27 Q1967.11 1538.71 1967.11 1531.6 Q1967.11 1524.47 1965.28 1520.93 Q1963.47 1517.37 1959.84 1517.37 M1959.84 1513.66 Q1965.65 1513.66 1968.71 1518.27 Q1971.78 1522.85 1971.78 1531.6 Q1971.78 1540.33 1968.71 1544.94 Q1965.65 1549.52 1959.84 1549.52 Q1954.03 1549.52 1950.95 1544.94 Q1947.9 1540.33 1947.9 1531.6 Q1947.9 1522.85 1950.95 1518.27 Q1954.03 1513.66 1959.84 1513.66 Z\" fill=\"#000000\" fill-rule=\"nonzero\" fill-opacity=\"1\" /><path clip-path=\"url(#clip170)\" d=\"M2276.85 1529.7 Q2273.7 1529.7 2271.85 1531.86 Q2270.02 1534.01 2270.02 1537.76 Q2270.02 1541.49 2271.85 1543.66 Q2273.7 1545.82 2276.85 1545.82 Q2279.99 1545.82 2281.82 1543.66 Q2283.67 1541.49 2283.67 1537.76 Q2283.67 1534.01 2281.82 1531.86 Q2279.99 1529.7 2276.85 1529.7 M2286.13 1515.05 L2286.13 1519.31 Q2284.37 1518.48 2282.56 1518.04 Q2280.78 1517.6 2279.02 1517.6 Q2274.39 1517.6 2271.94 1520.72 Q2269.51 1523.85 2269.16 1530.17 Q2270.53 1528.15 2272.59 1527.09 Q2274.65 1526 2277.12 1526 Q2282.33 1526 2285.34 1529.17 Q2288.37 1532.32 2288.37 1537.76 Q2288.37 1543.08 2285.23 1546.3 Q2282.08 1549.52 2276.85 1549.52 Q2270.85 1549.52 2267.68 1544.94 Q2264.51 1540.33 2264.51 1531.6 Q2264.51 1523.41 2268.4 1518.55 Q2272.29 1513.66 2278.84 1513.66 Q2280.6 1513.66 2282.38 1514.01 Q2284.18 1514.36 2286.13 1515.05 Z\" fill=\"#000000\" fill-rule=\"nonzero\" fill-opacity=\"1\" /><path clip-path=\"url(#clip170)\" d=\"M2306.43 1517.37 Q2302.82 1517.37 2300.99 1520.93 Q2299.18 1524.47 2299.18 1531.6 Q2299.18 1538.71 2300.99 1542.27 Q2302.82 1545.82 2306.43 1545.82 Q2310.06 1545.82 2311.87 1542.27 Q2313.7 1538.71 2313.7 1531.6 Q2313.7 1524.47 2311.87 1520.93 Q2310.06 1517.37 2306.43 1517.37 M2306.43 1513.66 Q2312.24 1513.66 2315.29 1518.27 Q2318.37 1522.85 2318.37 1531.6 Q2318.37 1540.33 2315.29 1544.94 Q2312.24 1549.52 2306.43 1549.52 Q2300.62 1549.52 2297.54 1544.94 Q2294.48 1540.33 2294.48 1531.6 Q2294.48 1522.85 2297.54 1518.27 Q2300.62 1513.66 2306.43 1513.66 Z\" fill=\"#000000\" fill-rule=\"nonzero\" fill-opacity=\"1\" /><polyline clip-path=\"url(#clip172)\" style=\"stroke:#000000; stroke-linecap:round; stroke-linejoin:round; stroke-width:2; stroke-opacity:0.1; fill:none\" points=\"186.274,1445.72 2352.76,1445.72 \"/>\n",
       "<polyline clip-path=\"url(#clip172)\" style=\"stroke:#000000; stroke-linecap:round; stroke-linejoin:round; stroke-width:2; stroke-opacity:0.1; fill:none\" points=\"186.274,1103.78 2352.76,1103.78 \"/>\n",
       "<polyline clip-path=\"url(#clip172)\" style=\"stroke:#000000; stroke-linecap:round; stroke-linejoin:round; stroke-width:2; stroke-opacity:0.1; fill:none\" points=\"186.274,761.854 2352.76,761.854 \"/>\n",
       "<polyline clip-path=\"url(#clip172)\" style=\"stroke:#000000; stroke-linecap:round; stroke-linejoin:round; stroke-width:2; stroke-opacity:0.1; fill:none\" points=\"186.274,419.923 2352.76,419.923 \"/>\n",
       "<polyline clip-path=\"url(#clip172)\" style=\"stroke:#000000; stroke-linecap:round; stroke-linejoin:round; stroke-width:2; stroke-opacity:0.1; fill:none\" points=\"186.274,77.9919 2352.76,77.9919 \"/>\n",
       "<polyline clip-path=\"url(#clip170)\" style=\"stroke:#000000; stroke-linecap:round; stroke-linejoin:round; stroke-width:4; stroke-opacity:1; fill:none\" points=\"186.274,1486.45 186.274,47.2441 \"/>\n",
       "<polyline clip-path=\"url(#clip170)\" style=\"stroke:#000000; stroke-linecap:round; stroke-linejoin:round; stroke-width:4; stroke-opacity:1; fill:none\" points=\"186.274,1445.72 205.172,1445.72 \"/>\n",
       "<polyline clip-path=\"url(#clip170)\" style=\"stroke:#000000; stroke-linecap:round; stroke-linejoin:round; stroke-width:4; stroke-opacity:1; fill:none\" points=\"186.274,1103.78 205.172,1103.78 \"/>\n",
       "<polyline clip-path=\"url(#clip170)\" style=\"stroke:#000000; stroke-linecap:round; stroke-linejoin:round; stroke-width:4; stroke-opacity:1; fill:none\" points=\"186.274,761.854 205.172,761.854 \"/>\n",
       "<polyline clip-path=\"url(#clip170)\" style=\"stroke:#000000; stroke-linecap:round; stroke-linejoin:round; stroke-width:4; stroke-opacity:1; fill:none\" points=\"186.274,419.923 205.172,419.923 \"/>\n",
       "<polyline clip-path=\"url(#clip170)\" style=\"stroke:#000000; stroke-linecap:round; stroke-linejoin:round; stroke-width:4; stroke-opacity:1; fill:none\" points=\"186.274,77.9919 205.172,77.9919 \"/>\n",
       "<path clip-path=\"url(#clip170)\" d=\"M62.9365 1431.51 Q59.3254 1431.51 57.4967 1435.08 Q55.6912 1438.62 55.6912 1445.75 Q55.6912 1452.86 57.4967 1456.42 Q59.3254 1459.96 62.9365 1459.96 Q66.5707 1459.96 68.3763 1456.42 Q70.205 1452.86 70.205 1445.75 Q70.205 1438.62 68.3763 1435.08 Q66.5707 1431.51 62.9365 1431.51 M62.9365 1427.81 Q68.7467 1427.81 71.8022 1432.42 Q74.8809 1437 74.8809 1445.75 Q74.8809 1454.48 71.8022 1459.08 Q68.7467 1463.67 62.9365 1463.67 Q57.1264 1463.67 54.0477 1459.08 Q50.9921 1454.48 50.9921 1445.75 Q50.9921 1437 54.0477 1432.42 Q57.1264 1427.81 62.9365 1427.81 Z\" fill=\"#000000\" fill-rule=\"nonzero\" fill-opacity=\"1\" /><path clip-path=\"url(#clip170)\" d=\"M83.0984 1457.12 L87.9827 1457.12 L87.9827 1463 L83.0984 1463 L83.0984 1457.12 Z\" fill=\"#000000\" fill-rule=\"nonzero\" fill-opacity=\"1\" /><path clip-path=\"url(#clip170)\" d=\"M108.168 1431.51 Q104.557 1431.51 102.728 1435.08 Q100.922 1438.62 100.922 1445.75 Q100.922 1452.86 102.728 1456.42 Q104.557 1459.96 108.168 1459.96 Q111.802 1459.96 113.608 1456.42 Q115.436 1452.86 115.436 1445.75 Q115.436 1438.62 113.608 1435.08 Q111.802 1431.51 108.168 1431.51 M108.168 1427.81 Q113.978 1427.81 117.033 1432.42 Q120.112 1437 120.112 1445.75 Q120.112 1454.48 117.033 1459.08 Q113.978 1463.67 108.168 1463.67 Q102.358 1463.67 99.2789 1459.08 Q96.2234 1454.48 96.2234 1445.75 Q96.2234 1437 99.2789 1432.42 Q102.358 1427.81 108.168 1427.81 Z\" fill=\"#000000\" fill-rule=\"nonzero\" fill-opacity=\"1\" /><path clip-path=\"url(#clip170)\" d=\"M138.33 1431.51 Q134.719 1431.51 132.89 1435.08 Q131.084 1438.62 131.084 1445.75 Q131.084 1452.86 132.89 1456.42 Q134.719 1459.96 138.33 1459.96 Q141.964 1459.96 143.769 1456.42 Q145.598 1452.86 145.598 1445.75 Q145.598 1438.62 143.769 1435.08 Q141.964 1431.51 138.33 1431.51 M138.33 1427.81 Q144.14 1427.81 147.195 1432.42 Q150.274 1437 150.274 1445.75 Q150.274 1454.48 147.195 1459.08 Q144.14 1463.67 138.33 1463.67 Q132.519 1463.67 129.441 1459.08 Q126.385 1454.48 126.385 1445.75 Q126.385 1437 129.441 1432.42 Q132.519 1427.81 138.33 1427.81 Z\" fill=\"#000000\" fill-rule=\"nonzero\" fill-opacity=\"1\" /><path clip-path=\"url(#clip170)\" d=\"M63.9319 1089.58 Q60.3208 1089.58 58.4921 1093.15 Q56.6865 1096.69 56.6865 1103.82 Q56.6865 1110.93 58.4921 1114.49 Q60.3208 1118.03 63.9319 1118.03 Q67.5661 1118.03 69.3717 1114.49 Q71.2004 1110.93 71.2004 1103.82 Q71.2004 1096.69 69.3717 1093.15 Q67.5661 1089.58 63.9319 1089.58 M63.9319 1085.88 Q69.742 1085.88 72.7976 1090.49 Q75.8763 1095.07 75.8763 1103.82 Q75.8763 1112.55 72.7976 1117.15 Q69.742 1121.74 63.9319 1121.74 Q58.1217 1121.74 55.043 1117.15 Q51.9875 1112.55 51.9875 1103.82 Q51.9875 1095.07 55.043 1090.49 Q58.1217 1085.88 63.9319 1085.88 Z\" fill=\"#000000\" fill-rule=\"nonzero\" fill-opacity=\"1\" /><path clip-path=\"url(#clip170)\" d=\"M84.0938 1115.19 L88.978 1115.19 L88.978 1121.06 L84.0938 1121.06 L84.0938 1115.19 Z\" fill=\"#000000\" fill-rule=\"nonzero\" fill-opacity=\"1\" /><path clip-path=\"url(#clip170)\" d=\"M103.191 1117.13 L119.51 1117.13 L119.51 1121.06 L97.566 1121.06 L97.566 1117.13 Q100.228 1114.37 104.811 1109.75 Q109.418 1105.09 110.598 1103.75 Q112.844 1101.23 113.723 1099.49 Q114.626 1097.73 114.626 1096.04 Q114.626 1093.29 112.682 1091.55 Q110.76 1089.81 107.658 1089.81 Q105.459 1089.81 103.006 1090.58 Q100.575 1091.34 97.7974 1092.89 L97.7974 1088.17 Q100.621 1087.04 103.075 1086.46 Q105.529 1085.88 107.566 1085.88 Q112.936 1085.88 116.131 1088.56 Q119.325 1091.25 119.325 1095.74 Q119.325 1097.87 118.515 1099.79 Q117.728 1101.69 115.621 1104.28 Q115.043 1104.95 111.941 1108.17 Q108.839 1111.37 103.191 1117.13 Z\" fill=\"#000000\" fill-rule=\"nonzero\" fill-opacity=\"1\" /><path clip-path=\"url(#clip170)\" d=\"M129.371 1086.5 L147.728 1086.5 L147.728 1090.44 L133.654 1090.44 L133.654 1098.91 Q134.672 1098.56 135.691 1098.4 Q136.709 1098.22 137.728 1098.22 Q143.515 1098.22 146.894 1101.39 Q150.274 1104.56 150.274 1109.98 Q150.274 1115.56 146.802 1118.66 Q143.33 1121.74 137.01 1121.74 Q134.834 1121.74 132.566 1121.37 Q130.32 1121 127.913 1120.25 L127.913 1115.56 Q129.996 1116.69 132.219 1117.25 Q134.441 1117.8 136.918 1117.8 Q140.922 1117.8 143.26 1115.69 Q145.598 1113.59 145.598 1109.98 Q145.598 1106.37 143.26 1104.26 Q140.922 1102.15 136.918 1102.15 Q135.043 1102.15 133.168 1102.57 Q131.316 1102.99 129.371 1103.87 L129.371 1086.5 Z\" fill=\"#000000\" fill-rule=\"nonzero\" fill-opacity=\"1\" /><path clip-path=\"url(#clip170)\" d=\"M62.9365 747.652 Q59.3254 747.652 57.4967 751.217 Q55.6912 754.759 55.6912 761.889 Q55.6912 768.995 57.4967 772.56 Q59.3254 776.101 62.9365 776.101 Q66.5707 776.101 68.3763 772.56 Q70.205 768.995 70.205 761.889 Q70.205 754.759 68.3763 751.217 Q66.5707 747.652 62.9365 747.652 M62.9365 743.949 Q68.7467 743.949 71.8022 748.555 Q74.8809 753.139 74.8809 761.889 Q74.8809 770.615 71.8022 775.222 Q68.7467 779.805 62.9365 779.805 Q57.1264 779.805 54.0477 775.222 Q50.9921 770.615 50.9921 761.889 Q50.9921 753.139 54.0477 748.555 Q57.1264 743.949 62.9365 743.949 Z\" fill=\"#000000\" fill-rule=\"nonzero\" fill-opacity=\"1\" /><path clip-path=\"url(#clip170)\" d=\"M83.0984 773.254 L87.9827 773.254 L87.9827 779.134 L83.0984 779.134 L83.0984 773.254 Z\" fill=\"#000000\" fill-rule=\"nonzero\" fill-opacity=\"1\" /><path clip-path=\"url(#clip170)\" d=\"M98.2141 744.574 L116.57 744.574 L116.57 748.509 L102.496 748.509 L102.496 756.981 Q103.515 756.634 104.534 756.472 Q105.552 756.287 106.571 756.287 Q112.358 756.287 115.737 759.458 Q119.117 762.629 119.117 768.046 Q119.117 773.625 115.645 776.726 Q112.172 779.805 105.853 779.805 Q103.677 779.805 101.409 779.435 Q99.1632 779.064 96.7558 778.324 L96.7558 773.625 Q98.8391 774.759 101.061 775.314 Q103.284 775.87 105.76 775.87 Q109.765 775.87 112.103 773.763 Q114.441 771.657 114.441 768.046 Q114.441 764.435 112.103 762.328 Q109.765 760.222 105.76 760.222 Q103.885 760.222 102.01 760.639 Q100.159 761.055 98.2141 761.935 L98.2141 744.574 Z\" fill=\"#000000\" fill-rule=\"nonzero\" fill-opacity=\"1\" /><path clip-path=\"url(#clip170)\" d=\"M138.33 747.652 Q134.719 747.652 132.89 751.217 Q131.084 754.759 131.084 761.889 Q131.084 768.995 132.89 772.56 Q134.719 776.101 138.33 776.101 Q141.964 776.101 143.769 772.56 Q145.598 768.995 145.598 761.889 Q145.598 754.759 143.769 751.217 Q141.964 747.652 138.33 747.652 M138.33 743.949 Q144.14 743.949 147.195 748.555 Q150.274 753.139 150.274 761.889 Q150.274 770.615 147.195 775.222 Q144.14 779.805 138.33 779.805 Q132.519 779.805 129.441 775.222 Q126.385 770.615 126.385 761.889 Q126.385 753.139 129.441 748.555 Q132.519 743.949 138.33 743.949 Z\" fill=\"#000000\" fill-rule=\"nonzero\" fill-opacity=\"1\" /><path clip-path=\"url(#clip170)\" d=\"M63.9319 405.722 Q60.3208 405.722 58.4921 409.286 Q56.6865 412.828 56.6865 419.958 Q56.6865 427.064 58.4921 430.629 Q60.3208 434.17 63.9319 434.17 Q67.5661 434.17 69.3717 430.629 Q71.2004 427.064 71.2004 419.958 Q71.2004 412.828 69.3717 409.286 Q67.5661 405.722 63.9319 405.722 M63.9319 402.018 Q69.742 402.018 72.7976 406.624 Q75.8763 411.208 75.8763 419.958 Q75.8763 428.684 72.7976 433.291 Q69.742 437.874 63.9319 437.874 Q58.1217 437.874 55.043 433.291 Q51.9875 428.684 51.9875 419.958 Q51.9875 411.208 55.043 406.624 Q58.1217 402.018 63.9319 402.018 Z\" fill=\"#000000\" fill-rule=\"nonzero\" fill-opacity=\"1\" /><path clip-path=\"url(#clip170)\" d=\"M84.0938 431.323 L88.978 431.323 L88.978 437.203 L84.0938 437.203 L84.0938 431.323 Z\" fill=\"#000000\" fill-rule=\"nonzero\" fill-opacity=\"1\" /><path clip-path=\"url(#clip170)\" d=\"M97.9826 402.643 L120.205 402.643 L120.205 404.634 L107.658 437.203 L102.774 437.203 L114.58 406.578 L97.9826 406.578 L97.9826 402.643 Z\" fill=\"#000000\" fill-rule=\"nonzero\" fill-opacity=\"1\" /><path clip-path=\"url(#clip170)\" d=\"M129.371 402.643 L147.728 402.643 L147.728 406.578 L133.654 406.578 L133.654 415.05 Q134.672 414.703 135.691 414.541 Q136.709 414.356 137.728 414.356 Q143.515 414.356 146.894 417.527 Q150.274 420.698 150.274 426.115 Q150.274 431.694 146.802 434.795 Q143.33 437.874 137.01 437.874 Q134.834 437.874 132.566 437.504 Q130.32 437.133 127.913 436.393 L127.913 431.694 Q129.996 432.828 132.219 433.383 Q134.441 433.939 136.918 433.939 Q140.922 433.939 143.26 431.833 Q145.598 429.726 145.598 426.115 Q145.598 422.504 143.26 420.397 Q140.922 418.291 136.918 418.291 Q135.043 418.291 133.168 418.708 Q131.316 419.124 129.371 420.004 L129.371 402.643 Z\" fill=\"#000000\" fill-rule=\"nonzero\" fill-opacity=\"1\" /><path clip-path=\"url(#clip170)\" d=\"M53.7467 91.3367 L61.3856 91.3367 L61.3856 64.9711 L53.0754 66.6378 L53.0754 62.3786 L61.3393 60.7119 L66.0152 60.7119 L66.0152 91.3367 L73.654 91.3367 L73.654 95.2719 L53.7467 95.2719 L53.7467 91.3367 Z\" fill=\"#000000\" fill-rule=\"nonzero\" fill-opacity=\"1\" /><path clip-path=\"url(#clip170)\" d=\"M83.0984 89.3923 L87.9827 89.3923 L87.9827 95.2719 L83.0984 95.2719 L83.0984 89.3923 Z\" fill=\"#000000\" fill-rule=\"nonzero\" fill-opacity=\"1\" /><path clip-path=\"url(#clip170)\" d=\"M108.168 63.7906 Q104.557 63.7906 102.728 67.3554 Q100.922 70.897 100.922 78.0266 Q100.922 85.1331 102.728 88.6979 Q104.557 92.2395 108.168 92.2395 Q111.802 92.2395 113.608 88.6979 Q115.436 85.1331 115.436 78.0266 Q115.436 70.897 113.608 67.3554 Q111.802 63.7906 108.168 63.7906 M108.168 60.0869 Q113.978 60.0869 117.033 64.6934 Q120.112 69.2767 120.112 78.0266 Q120.112 86.7534 117.033 91.3599 Q113.978 95.9432 108.168 95.9432 Q102.358 95.9432 99.2789 91.3599 Q96.2234 86.7534 96.2234 78.0266 Q96.2234 69.2767 99.2789 64.6934 Q102.358 60.0869 108.168 60.0869 Z\" fill=\"#000000\" fill-rule=\"nonzero\" fill-opacity=\"1\" /><path clip-path=\"url(#clip170)\" d=\"M138.33 63.7906 Q134.719 63.7906 132.89 67.3554 Q131.084 70.897 131.084 78.0266 Q131.084 85.1331 132.89 88.6979 Q134.719 92.2395 138.33 92.2395 Q141.964 92.2395 143.769 88.6979 Q145.598 85.1331 145.598 78.0266 Q145.598 70.897 143.769 67.3554 Q141.964 63.7906 138.33 63.7906 M138.33 60.0869 Q144.14 60.0869 147.195 64.6934 Q150.274 69.2767 150.274 78.0266 Q150.274 86.7534 147.195 91.3599 Q144.14 95.9432 138.33 95.9432 Q132.519 95.9432 129.441 91.3599 Q126.385 86.7534 126.385 78.0266 Q126.385 69.2767 129.441 64.6934 Q132.519 60.0869 138.33 60.0869 Z\" fill=\"#000000\" fill-rule=\"nonzero\" fill-opacity=\"1\" /><polyline clip-path=\"url(#clip172)\" style=\"stroke:#009af9; stroke-linecap:round; stroke-linejoin:round; stroke-width:4; stroke-opacity:1; fill:none\" points=\"247.59,1445.72 282.231,1442.43 316.873,1436.83 351.514,1423.97 386.156,1410.29 420.797,1388.96 455.439,1372.95 490.08,1346.28 524.722,1310.31 559.363,1281.45 594.005,1250.82 628.646,1219.08 663.288,1179.15 697.93,1135.11 732.571,1102.83 767.213,1060.84 801.854,1023.36 836.496,983.562 871.137,928.169 905.779,897.532 940.42,829.283 975.062,795.91 1009.7,750.228 1044.34,704.136 1078.99,666.113 1113.63,626.312 1148.27,580.904 1182.91,545.343 1217.55,511.56 1252.19,480.65 1286.84,445.636 1321.48,419.649 1356.12,389.97 1390.76,366.582 1425.4,337.996 1460.04,301.068 1494.68,280.825 1529.33,254.975 1563.97,247.316 1598.61,226.937 1633.25,208.883 1667.89,193.701 1702.53,182.076 1737.18,170.176 1771.82,153.764 1806.46,144.737 1841.1,138.582 1875.74,132.974 1910.38,123.4 1945.02,120.802 1979.67,111.091 2014.31,107.945 2048.95,103.568 2083.59,99.8755 2118.23,97.2768 2152.87,92.7633 2187.52,92.6265 2222.16,88.9337 2256.8,87.9763 2291.44,88.2498 \"/>\n",
       "<path clip-path=\"url(#clip170)\" d=\"M258.49 198.898 L527.569 198.898 L527.569 95.2176 L258.49 95.2176  Z\" fill=\"#ffffff\" fill-rule=\"evenodd\" fill-opacity=\"1\"/>\n",
       "<polyline clip-path=\"url(#clip170)\" style=\"stroke:#000000; stroke-linecap:round; stroke-linejoin:round; stroke-width:4; stroke-opacity:1; fill:none\" points=\"258.49,198.898 527.569,198.898 527.569,95.2176 258.49,95.2176 258.49,198.898 \"/>\n",
       "<polyline clip-path=\"url(#clip170)\" style=\"stroke:#009af9; stroke-linecap:round; stroke-linejoin:round; stroke-width:4; stroke-opacity:1; fill:none\" points=\"282.562,147.058 426.994,147.058 \"/>\n",
       "<path clip-path=\"url(#clip170)\" d=\"M464.909 166.745 Q463.103 171.375 461.39 172.787 Q459.677 174.199 456.807 174.199 L453.404 174.199 L453.404 170.634 L455.904 170.634 Q457.663 170.634 458.636 169.8 Q459.608 168.967 460.788 165.865 L461.552 163.921 L451.066 138.412 L455.58 138.412 L463.682 158.689 L471.784 138.412 L476.298 138.412 L464.909 166.745 Z\" fill=\"#000000\" fill-rule=\"nonzero\" fill-opacity=\"1\" /><path clip-path=\"url(#clip170)\" d=\"M483.589 160.402 L491.228 160.402 L491.228 134.037 L482.918 135.703 L482.918 131.444 L491.182 129.778 L495.858 129.778 L495.858 160.402 L503.497 160.402 L503.497 164.338 L483.589 164.338 L483.589 160.402 Z\" fill=\"#000000\" fill-rule=\"nonzero\" fill-opacity=\"1\" /></svg>\n"
      ]
     },
     "metadata": {},
     "output_type": "display_data"
    }
   ],
   "source": [
    "map(compute_prob, 1:60) |> plot"
   ]
  },
  {
   "cell_type": "code",
   "execution_count": null,
   "metadata": {},
   "outputs": [],
   "source": []
  }
 ],
 "metadata": {
  "kernelspec": {
   "display_name": "Julia 1.8.5",
   "language": "julia",
   "name": "julia-1.8"
  },
  "language_info": {
   "file_extension": ".jl",
   "mimetype": "application/julia",
   "name": "julia",
   "version": "1.8.5"
  },
  "orig_nbformat": 4
 },
 "nbformat": 4,
 "nbformat_minor": 2
}
