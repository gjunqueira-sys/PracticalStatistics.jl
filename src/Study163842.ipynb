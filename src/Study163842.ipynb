{
 "cells": [
  {
   "cell_type": "code",
   "execution_count": 69,
   "metadata": {},
   "outputs": [],
   "source": [
    "using DataFrames\n",
    "using CSV\n",
    "using Plots\n",
    "using TextAnalysis\n",
    "using Dates"
   ]
  },
  {
   "cell_type": "code",
   "execution_count": 70,
   "metadata": {},
   "outputs": [],
   "source": [
    "ENV[\"COLUMNS\"] = 1000;\n",
    "ENV[\"LINES\"] = 300;"
   ]
  },
  {
   "cell_type": "code",
   "execution_count": 71,
   "metadata": {},
   "outputs": [],
   "source": [
    "# load data\n",
    "df = CSV.read(\"p1361761_raw.csv\", DataFrame);"
   ]
  },
  {
   "cell_type": "code",
   "execution_count": 72,
   "metadata": {},
   "outputs": [],
   "source": [
    "\n",
    "rem_special_chars(str::String) = replace(str, \" \" => \"_\", \"/\" => \"\", \"@\" => \"\", \"*\" => \"\", \".\" => \"_\")\n",
    "\n",
    "\n",
    "nams = StringDocument.(names(df)) \n",
    "prepare!.(nams, strip_punctuation)\n",
    "\n",
    "\n",
    "names_text = TextAnalysis.text.(nams)\n",
    "names_text = rem_special_chars.(names_text)\n",
    "\n",
    "rename!(df, names(df) .=> names_text); #rename column names"
   ]
  },
  {
   "cell_type": "code",
   "execution_count": 73,
   "metadata": {},
   "outputs": [
    {
     "data": {
      "text/plain": [
       "57-element Vector{String}:\n",
       " \"Document_Date\"\n",
       " \"Object_type\"\n",
       " \"Object\"\n",
       " \"Cost_Element\"\n",
       " \"Document_Number\"\n",
       " \"ValCOArea_Crcy\"\n",
       " \"CO_area_currency\"\n",
       " \"Value_TranCurr\"\n",
       " \"Transaction_Currency\"\n",
       " \"Purchasing_Document\"\n",
       " \"Purchase_order_text\"\n",
       " \"Project_Definition\"\n",
       " \"WBS_Element\"\n",
       " \"Partner_object\"\n",
       " \"Partner_object_type\"\n",
       " \"Posting_Date\"\n",
       " \"Created_on\"\n",
       " \"User_Name\"\n",
       " \"Reversal_document\"\n",
       " \"Refdocument_type\"\n",
       " \"Ref_Document_Number\"\n",
       " \"Document_type\"\n",
       " \"Value_Type\"\n",
       " \"Name\"\n",
       " \"Trading_Partner\"\n",
       " \"Functional_Area\"\n",
       " \"CO_object_name\"\n",
       " \"Object_type1\"\n",
       " \"Partner_object_type1\"\n",
       " \"Cost_element_name\"\n",
       " \"Cost_element_descr\"\n",
       " \"Offsetting_acct_no\"\n",
       " \"Offsetting_account_type\"\n",
       " \"Total_Quantity\"\n",
       " \"Total_quantity\"\n",
       " \"Personnel_Number\"\n",
       " \"Name_of_employee_or_applicant\"\n",
       " \"Description\"\n",
       " \"Business_Transaction\"\n",
       " \"Document_Header_Text\"\n",
       " \"Ref_company_code\"\n",
       " \"Original_bus_trans\"\n",
       " \"Item\"\n",
       " \"Business_Area\"\n",
       " \"Company_Code\"\n",
       " \"Partner_Object_Class\"\n",
       " \"FI_Posting_Item\"\n",
       " \"CO_partner_object_name\"\n",
       " \"PartnerCCtr\"\n",
       " \"Source_Object\"\n",
       " \"Source_object_name\"\n",
       " \"Originobj_type\"\n",
       " \"Source_object_type\"\n",
       " \"Name_of_offsetting_account\"\n",
       " \"Name_of_offsetting_account1\"\n",
       " \"Material_Description\"\n",
       " \"Material\""
      ]
     },
     "metadata": {},
     "output_type": "display_data"
    }
   ],
   "source": [
    "df |> names"
   ]
  },
  {
   "cell_type": "code",
   "execution_count": 74,
   "metadata": {},
   "outputs": [
    {
     "data": {
      "text/plain": [
       "grpCombApply (generic function with 1 method)"
      ]
     },
     "metadata": {},
     "output_type": "display_data"
    }
   ],
   "source": [
    "## generic groupby, combine, apply\n",
    "# grpCombApply(df, grp::String, comb::String, f::Function)\n",
    "#\t\tArgs:\n",
    "#\t\t\t`df:: dataframe`\n",
    "#\t\t\t`grp:: String`: Column name to group by\n",
    "# \t\t\t`comb:: String`: Column name to combine\n",
    "#\t\t\t`f:: Function`: Function to apply to the combined column\n",
    "function grpCombApply(df, grp::String, comb::String, f::Function)\n",
    "    dfg = groupby(df, grp);\n",
    "    combine(dfg, comb => f);\n",
    "end"
   ]
  },
  {
   "cell_type": "code",
   "execution_count": 75,
   "metadata": {},
   "outputs": [
    {
     "data": {
      "text/html": [
       "<div><div style = \"float: left;\"><span>96×4 DataFrame</span></div><div style = \"float: right;\"><span style = \"font-style: italic;\">71 rows omitted</span></div><div style = \"clear: both;\"></div></div><div class = \"data-frame\" style = \"overflow-x: scroll;\"><table class = \"data-frame\" style = \"margin-bottom: 6px;\"><thead><tr class = \"header\"><th class = \"rowNumber\" style = \"font-weight: bold; text-align: right;\">Row</th><th style = \"text-align: left;\">CO_object_name</th><th style = \"text-align: left;\">CO_partner_object_name</th><th style = \"text-align: left;\">Source_object_name</th><th style = \"text-align: left;\">Total_Quantity_sum</th></tr><tr class = \"subheader headerLastRow\"><th class = \"rowNumber\" style = \"font-weight: bold; text-align: right;\"></th><th title = \"String\" style = \"text-align: left;\">String</th><th title = \"Union{Missing, String}\" style = \"text-align: left;\">String?</th><th title = \"Union{Missing, String31}\" style = \"text-align: left;\">String31?</th><th title = \"Float64\" style = \"text-align: left;\">Float64</th></tr></thead><tbody><tr><td class = \"rowNumber\" style = \"font-weight: bold; text-align: right;\">1</td><td style = \"text-align: left;\">Controls PS Engineering Labor General</td><td style = \"text-align: left;\">CS - Tech Supp Desk / Labor DI</td><td style = \"text-align: left;\">CS - Tech Supp Desk / Labor DI</td><td style = \"text-align: right;\">12.0</td></tr><tr><td class = \"rowNumber\" style = \"font-weight: bold; text-align: right;\">2</td><td style = \"text-align: left;\">PS Project Warranty</td><td style = \"font-style: italic; text-align: left;\">missing</td><td style = \"font-style: italic; text-align: left;\">missing</td><td style = \"text-align: right;\">0.0</td></tr><tr><td class = \"rowNumber\" style = \"font-weight: bold; text-align: right;\">3</td><td style = \"text-align: left;\">Integrated (WCS)</td><td style = \"text-align: left;\">CS - Tech Supp Desk / Labor DI</td><td style = \"text-align: left;\">CS - Tech Supp Desk / Labor DI</td><td style = \"text-align: right;\">7.0</td></tr><tr><td class = \"rowNumber\" style = \"font-weight: bold; text-align: right;\">4</td><td style = \"text-align: left;\">Mechanical Installation Labor PERM</td><td style = \"text-align: left;\">CS - Tech Supp Desk / Labor DI</td><td style = \"text-align: left;\">CS - Tech Supp Desk / Labor DI</td><td style = \"text-align: right;\">31.45</td></tr><tr><td class = \"rowNumber\" style = \"font-weight: bold; text-align: right;\">5</td><td style = \"text-align: left;\">PS Special Cost</td><td style = \"font-style: italic; text-align: left;\">missing</td><td style = \"font-style: italic; text-align: left;\">missing</td><td style = \"text-align: right;\">0.0</td></tr><tr><td class = \"rowNumber\" style = \"font-weight: bold; text-align: right;\">6</td><td style = \"text-align: left;\">Mechanical Engineering Labor General</td><td style = \"text-align: left;\">CS-Parts Spares Supp / Labor DI</td><td style = \"text-align: left;\">CS-Parts Spares Supp / Labor DI</td><td style = \"text-align: right;\">1.0</td></tr><tr><td class = \"rowNumber\" style = \"font-weight: bold; text-align: right;\">7</td><td style = \"text-align: left;\">Third Party Material - PS Mechanical</td><td style = \"text-align: left;\">REPAIR:50mm PWR RLR 388.7mm SHL 0-GRV SI</td><td style = \"font-style: italic; text-align: left;\">missing</td><td style = \"text-align: right;\">0.0</td></tr><tr><td class = \"rowNumber\" style = \"font-weight: bold; text-align: right;\">8</td><td style = \"text-align: left;\">Third Party Material - PS Mechanical</td><td style = \"text-align: left;\">50MM CPLD PWR RLR 388.7MM SHL 0-GRV SGL</td><td style = \"font-style: italic; text-align: left;\">missing</td><td style = \"text-align: right;\">0.0</td></tr><tr><td class = \"rowNumber\" style = \"font-weight: bold; text-align: right;\">9</td><td style = \"text-align: left;\">PS Project</td><td style = \"font-style: italic; text-align: left;\">missing</td><td style = \"font-style: italic; text-align: left;\">missing</td><td style = \"text-align: right;\">0.0</td></tr><tr><td class = \"rowNumber\" style = \"font-weight: bold; text-align: right;\">10</td><td style = \"text-align: left;\">Equipment Management System</td><td style = \"text-align: left;\">CS - Tech Supp Desk / Labor DI</td><td style = \"text-align: left;\">CS - Tech Supp Desk / Labor DI</td><td style = \"text-align: right;\">0.5</td></tr><tr><td class = \"rowNumber\" style = \"font-weight: bold; text-align: right;\">11</td><td style = \"text-align: left;\">Implementation / Coordination</td><td style = \"text-align: left;\">ENG - Mechanical / Labor DI</td><td style = \"text-align: left;\">ENG - Mechanical / Labor DI</td><td style = \"text-align: right;\">380.0</td></tr><tr><td class = \"rowNumber\" style = \"font-weight: bold; text-align: right;\">12</td><td style = \"text-align: left;\">General: Management</td><td style = \"text-align: left;\">ENG - Controls / Labor DI</td><td style = \"text-align: left;\">ENG - Controls / Labor DI</td><td style = \"text-align: right;\">126.0</td></tr><tr><td class = \"rowNumber\" style = \"font-weight: bold; text-align: right;\">13</td><td style = \"text-align: left;\">Post Standby Support</td><td style = \"text-align: left;\">ENG - Controls / Labor DI</td><td style = \"text-align: left;\">ENG - Controls / Labor DI</td><td style = \"text-align: right;\">104.0</td></tr><tr><td style = \"text-align: right;\">&vellip;</td><td style = \"text-align: right;\">&vellip;</td><td style = \"text-align: right;\">&vellip;</td><td style = \"text-align: right;\">&vellip;</td><td style = \"text-align: right;\">&vellip;</td></tr><tr><td class = \"rowNumber\" style = \"font-weight: bold; text-align: right;\">85</td><td style = \"text-align: left;\">Quotation Controls Costing Labor Firm</td><td style = \"text-align: left;\">ENG - Controls / Labor DI</td><td style = \"text-align: left;\">ENG - Controls / Labor DI</td><td style = \"text-align: right;\">18.0</td></tr><tr><td class = \"rowNumber\" style = \"font-weight: bold; text-align: right;\">86</td><td style = \"text-align: left;\">Quotation Mechanical Costing Labor Firm</td><td style = \"text-align: left;\">ENG - Mechanical / Labor DI</td><td style = \"text-align: left;\">ENG - Mechanical / Labor DI</td><td style = \"text-align: right;\">36.0</td></tr><tr><td class = \"rowNumber\" style = \"font-weight: bold; text-align: right;\">87</td><td style = \"text-align: left;\">Quotation Mechanical Costing Labor Propo</td><td style = \"font-style: italic; text-align: left;\">ENG - Mechanical / Labor DI</td><td style = \"font-style: italic; text-align: left;\">ENG - Mechanical / Labor DI</td><td style = \"text-align: right;\">28.0</td></tr><tr><td class = \"rowNumber\" style = \"font-weight: bold; text-align: right;\">88</td><td style = \"text-align: left;\">Sales  Layout Drawings - Mechanical</td><td style = \"text-align: left;\">ENG - Mechanical / Labor DI</td><td style = \"text-align: left;\">ENG - Mechanical / Labor DI</td><td style = \"text-align: right;\">72.0</td></tr><tr><td class = \"rowNumber\" style = \"font-weight: bold; text-align: right;\">89</td><td style = \"text-align: left;\">Quotation CAD Labor Firm</td><td style = \"text-align: left;\">ENG - Controls / Labor DI</td><td style = \"text-align: left;\">ENG - Controls / Labor DI</td><td style = \"text-align: right;\">24.0</td></tr><tr><td class = \"rowNumber\" style = \"font-weight: bold; text-align: right;\">90</td><td style = \"text-align: left;\">Sales Equipment List - Mechanical</td><td style = \"font-style: italic; text-align: left;\">ENG - Mechanical / Labor DI</td><td style = \"font-style: italic; text-align: left;\">ENG - Mechanical / Labor DI</td><td style = \"text-align: right;\">10.0</td></tr><tr><td class = \"rowNumber\" style = \"font-weight: bold; text-align: right;\">91</td><td style = \"text-align: left;\">Sales Customer Meeting - Mechanical</td><td style = \"font-style: italic; text-align: left;\">SDG - Sales Quote DW</td><td style = \"font-style: italic; text-align: left;\">missing</td><td style = \"text-align: right;\">0.0</td></tr><tr><td class = \"rowNumber\" style = \"font-weight: bold; text-align: right;\">92</td><td style = \"text-align: left;\">Sales Support WBS</td><td style = \"text-align: left;\">Sales Customer Meeting - Mechanical</td><td style = \"text-align: left;\">missing</td><td style = \"text-align: right;\">0.0</td></tr><tr><td class = \"rowNumber\" style = \"font-weight: bold; text-align: right;\">93</td><td style = \"text-align: left;\">Sales Customer Meeting - Mechanical</td><td style = \"font-style: italic; text-align: left;\">ENG - Mechanical / Labor DI</td><td style = \"font-style: italic; text-align: left;\">ENG - Mechanical / Labor DI</td><td style = \"text-align: right;\">6.0</td></tr><tr><td class = \"rowNumber\" style = \"font-weight: bold; text-align: right;\">94</td><td style = \"text-align: left;\">Sales Other Support - Mechanical</td><td style = \"font-style: italic; text-align: left;\">SDG - Sales Quote DW</td><td style = \"font-style: italic; text-align: left;\">missing</td><td style = \"text-align: right;\">0.0</td></tr><tr><td class = \"rowNumber\" style = \"font-weight: bold; text-align: right;\">95</td><td style = \"text-align: left;\">Sales Support WBS</td><td style = \"text-align: left;\">Sales Other Support - Mechanical</td><td style = \"text-align: left;\">missing</td><td style = \"text-align: right;\">0.0</td></tr><tr><td class = \"rowNumber\" style = \"font-weight: bold; text-align: right;\">96</td><td style = \"text-align: left;\">Sales Other Support - Mechanical</td><td style = \"text-align: left;\">ENG - Mechanical / Labor DI</td><td style = \"text-align: left;\">ENG - Mechanical / Labor DI</td><td style = \"text-align: right;\">18.0</td></tr></tbody></table></div>"
      ],
      "text/latex": [
       "\\begin{tabular}{r|cccc}\n",
       "\t& CO\\_object\\_name & CO\\_partner\\_object\\_name & Source\\_object\\_name & Total\\_Quantity\\_sum\\\\\n",
       "\t\\hline\n",
       "\t& String & String? & String31? & Float64\\\\\n",
       "\t\\hline\n",
       "\t1 & Controls PS Engineering Labor General & CS - Tech Supp Desk / Labor DI & CS - Tech Supp Desk / Labor DI & 12.0 \\\\\n",
       "\t2 & PS Project Warranty & \\emph{missing} & \\emph{missing} & 0.0 \\\\\n",
       "\t3 & Integrated (WCS) & CS - Tech Supp Desk / Labor DI & CS - Tech Supp Desk / Labor DI & 7.0 \\\\\n",
       "\t4 & Mechanical Installation Labor PERM & CS - Tech Supp Desk / Labor DI & CS - Tech Supp Desk / Labor DI & 31.45 \\\\\n",
       "\t5 & PS Special Cost & \\emph{missing} & \\emph{missing} & 0.0 \\\\\n",
       "\t6 & Mechanical Engineering Labor General & CS-Parts Spares Supp / Labor DI & CS-Parts Spares Supp / Labor DI & 1.0 \\\\\n",
       "\t7 & Third Party Material - PS Mechanical & REPAIR:50mm PWR RLR 388.7mm SHL 0-GRV SI & \\emph{missing} & 0.0 \\\\\n",
       "\t8 & Third Party Material - PS Mechanical & 50MM CPLD PWR RLR 388.7MM SHL 0-GRV SGL & \\emph{missing} & 0.0 \\\\\n",
       "\t9 & PS Project & \\emph{missing} & \\emph{missing} & 0.0 \\\\\n",
       "\t10 & Equipment Management System & CS - Tech Supp Desk / Labor DI & CS - Tech Supp Desk / Labor DI & 0.5 \\\\\n",
       "\t11 & Implementation / Coordination & ENG - Mechanical / Labor DI & ENG - Mechanical / Labor DI & 380.0 \\\\\n",
       "\t12 & General: Management & ENG - Controls / Labor DI & ENG - Controls / Labor DI & 126.0 \\\\\n",
       "\t13 & Post Standby Support & ENG - Controls / Labor DI & ENG - Controls / Labor DI & 104.0 \\\\\n",
       "\t14 & Controls PS Engineering Labor General & ENG - Controls / Labor DI & ENG - Controls / Labor DI & 24.0 \\\\\n",
       "\t15 & Implementation / Coordination & ENG - Controls / Labor DI & ENG - Controls / Labor DI & 51.0 \\\\\n",
       "\t16 & Third Party Material - PS Controls & \\emph{missing} & \\emph{missing} & 0.0 \\\\\n",
       "\t17 & Controls IS Engineering Labor General & ENG - Controls / Labor DI & ENG - Controls / Labor DI & 3.0 \\\\\n",
       "\t18 & Convey/Sort Project Manuals & ENG - Tech Comm / Labor SS & ENG - Tech Comm / Labor SS & 36.0 \\\\\n",
       "\t19 & PS Mechanical Engineering & \\emph{missing} & \\emph{missing} & 0.0 \\\\\n",
       "\t20 & Resale Controls - Non-Priority Misc & \\emph{missing} & \\emph{missing} & 633.0 \\\\\n",
       "\t21 & Layout / Design & ENG - Controls / Labor DI & ENG - Controls / Labor DI & 6.0 \\\\\n",
       "\t22 & PS Controls Engineering & \\emph{missing} & \\emph{missing} & 0.0 \\\\\n",
       "\t23 & Electrical Installation Admin & \\emph{missing} & \\emph{missing} & 0.0 \\\\\n",
       "\t24 & Commissioning & ENG - Controls / Labor DI & ENG - Controls / Labor DI & 232.0 \\\\\n",
       "\t25 & Initiating the Project & CS - Tech Supp Desk / Labor DI & CS - Tech Supp Desk / Labor DI & 1.5 \\\\\n",
       "\t26 & General: Project Admin & ENG - Controls / Labor DI & ENG - Controls / Labor DI & 16.0 \\\\\n",
       "\t27 & Order Entry & ENG - Controls / Labor DI & ENG - Controls / Labor DI & 8.0 \\\\\n",
       "\t28 & Closing the Project & ENG - Tech Comm / Labor SS & ENG - Tech Comm / Labor SS & 2.0 \\\\\n",
       "\t29 & Commissioning & ENG - Mechanical / Labor DI & ENG - Mechanical / Labor DI & 210.0 \\\\\n",
       "\t30 & Continuous Loop Core Line & \\emph{missing} & \\emph{missing} & 0.0 \\\\\n",
       "\t31 & Electrical Installation Temporary BEN & Electrical Install / Labor DI & Electrical Install / Labor DI & 592.0 \\\\\n",
       "\t32 & PS Electrical Installation & \\emph{missing} & \\emph{missing} & 0.0 \\\\\n",
       "\t33 & Manufacturing Material - PS Mechanical & MFG - MHB North Ops & MFG - MHB North Ops & 0.0 \\\\\n",
       "\t34 & Standby Support & ENG - Mechanical / Labor DI & ENG - Mechanical / Labor DI & 45.75 \\\\\n",
       "\t35 & Mechanical Installation Admin & \\emph{missing} & \\emph{missing} & 0.0 \\\\\n",
       "\t36 & Outbound & \\emph{missing} & \\emph{missing} & 9565.0 \\\\\n",
       "\t37 & Manufacturing Material - PS Mechanical & \\emph{missing} & \\emph{missing} & 12623.0 \\\\\n",
       "\t38 & Travel Hours & Electrical Install / Labor DI & Electrical Install / Labor DI & 46.0 \\\\\n",
       "\t39 & Controls PS Engineering Labor General & Mech Comm Eng / Labor DI & Mech Comm Eng / Labor DI & 156.0 \\\\\n",
       "\t40 & Order Entry & ENG - Mechanical / Labor DI & ENG - Mechanical / Labor DI & 5.5 \\\\\n",
       "\t41 & Standby Support & ENG - Controls / Labor DI & ENG - Controls / Labor DI & 17.5 \\\\\n",
       "\t42 & Electrical Installation Labor PERM & Continuous Improveme / Labor DI & Continuous Improveme / Labor DI & 478.0 \\\\\n",
       "\t43 & Third Party Material - PS Mechanical & MFG - MHB North Ops & MFG - MHB North Ops & 0.0 \\\\\n",
       "\t44 & Third Party Material - PS Mechanical & \\emph{missing} & \\emph{missing} & 129204.0 \\\\\n",
       "\t45 & Level\\#3 & \\emph{missing} & \\emph{missing} & 11809.0 \\\\\n",
       "\t46 & PS Mechanical Installation & \\emph{missing} & \\emph{missing} & 0.0 \\\\\n",
       "\t47 & Manufacturing Material - PS Controls & MFG - MHB North Ops & MFG - MHB North Ops & 0.0 \\\\\n",
       "\t48 & SW Design & ENG - Controls / Labor DI & ENG - Controls / Labor DI & 217.0 \\\\\n",
       "\t49 & Manufacturing Material - PS Controls & \\emph{missing} & \\emph{missing} & 10.0 \\\\\n",
       "\t50 & Electrical Installation Admin & Instal Admin / Labor DI & Instal Admin / Labor DI & 32.0 \\\\\n",
       "\t51 & Pick Module \\#3 - Hazmat & \\emph{missing} & \\emph{missing} & 2.0 \\\\\n",
       "\t52 & Third Party to R\\&D - Mechanical & \\emph{missing} & \\emph{missing} & 360.0 \\\\\n",
       "\t53 & Header Steel & ENG - Mechanical / Labor DI & ENG - Mechanical / Labor DI & 17.0 \\\\\n",
       "\t54 & Standby Support & SAE - Software Engin / Labor DI & SAE - Software Engin / Labor DI & 0.25 \\\\\n",
       "\t55 & Travel Hours & Continuous Improveme / Labor DI & Continuous Improveme / Labor DI & 24.0 \\\\\n",
       "\t56 & Returns Loop & \\emph{missing} & \\emph{missing} & 50.0 \\\\\n",
       "\t57 & Spirals & \\emph{missing} & \\emph{missing} & 0.0 \\\\\n",
       "\t58 & Mechanical Installation Labor PERM & \\emph{missing} & \\emph{missing} & 0.0 \\\\\n",
       "\t59 & Order Entry / Detail Engineering & ENG - Mechanical / Labor DI & ENG - Mechanical / Labor DI & 166.0 \\\\\n",
       "\t60 & HW Design & ENG - Controls / Labor DI & ENG - Controls / Labor DI & 154.0 \\\\\n",
       "\t61 & Layout / Design & ENG - Mechanical / Labor DI & ENG - Mechanical / Labor DI & 68.0 \\\\\n",
       "\t62 & Layout Design & ENG - Controls / Labor DI & ENG - Controls / Labor DI & 33.0 \\\\\n",
       "\t63 & Header Steel & ENG-Remote Mechanica / Labor DI & ENG-Remote Mechanica / Labor DI & 29.0 \\\\\n",
       "\t64 & Description of Operations & ENG - Controls / Labor DI & ENG - Controls / Labor DI & 16.0 \\\\\n",
       "\t65 & Mechanical Engineering Labor General & ENG - Mechanical / Labor DI & ENG - Mechanical / Labor DI & 90.0 \\\\\n",
       "\t66 & PS Project Management & \\emph{missing} & \\emph{missing} & 0.0 \\\\\n",
       "\t67 & Sales Concept Meeting - Controls & SDG - Sales Quote DW & \\emph{missing} & 0.0 \\\\\n",
       "\t68 & Sales Support WBS & Sales Concept Meeting - Controls & \\emph{missing} & 0.0 \\\\\n",
       "\t69 & Sales Concept Meeting - Controls & ENG - Controls / Labor DI & ENG - Controls / Labor DI & 2.0 \\\\\n",
       "\t70 & Quotation CAD Labor Concept & SDG - Sales Quote DW & \\emph{missing} & 0.0 \\\\\n",
       "\t71 & Quote WBS-element & Quotation CAD Labor Concept & \\emph{missing} & 0.0 \\\\\n",
       "\t72 & Quotation CAD Labor Concept & ENG - Mechanical / Labor DI & ENG - Mechanical / Labor DI & 26.0 \\\\\n",
       "\t73 & Quotation CAD Labor Firm & SDG - Sales Quote DW & \\emph{missing} & 0.0 \\\\\n",
       "\t74 & Quotation Controls Costing Labor Firm & SDG - Sales Quote DW & \\emph{missing} & 0.0 \\\\\n",
       "\t75 & Quotation Mechanical Costing Labor Firm & SDG - Sales Quote DW & \\emph{missing} & 0.0 \\\\\n",
       "\t76 & Quotation Mechanical Costing Labor Propo & SDG - Sales Quote DW & \\emph{missing} & 0.0 \\\\\n",
       "\t77 & Quote WBS-element & Quotation Mechanical Costing Labor Firm & \\emph{missing} & 0.0 \\\\\n",
       "\t78 & Quote WBS-element & Quotation Mechanical Costing Labor Propo & \\emph{missing} & 0.0 \\\\\n",
       "\t79 & Quote WBS-element & Quotation Controls Costing Labor Firm & \\emph{missing} & 0.0 \\\\\n",
       "\t80 & Quote WBS-element & Quotation CAD Labor Firm & \\emph{missing} & 0.0 \\\\\n",
       "\t81 & Sales  Layout Drawings - Mechanical & SDG - Sales Quote DW & \\emph{missing} & 0.0 \\\\\n",
       "\t82 & Sales Equipment List - Mechanical & SDG - Sales Quote DW & \\emph{missing} & 0.0 \\\\\n",
       "\t83 & Sales Support WBS & Sales  Layout Drawings - Mechanical & \\emph{missing} & 0.0 \\\\\n",
       "\t84 & Sales Support WBS & Sales Equipment List - Mechanical & \\emph{missing} & 0.0 \\\\\n",
       "\t85 & Quotation Controls Costing Labor Firm & ENG - Controls / Labor DI & ENG - Controls / Labor DI & 18.0 \\\\\n",
       "\t86 & Quotation Mechanical Costing Labor Firm & ENG - Mechanical / Labor DI & ENG - Mechanical / Labor DI & 36.0 \\\\\n",
       "\t87 & Quotation Mechanical Costing Labor Propo & ENG - Mechanical / Labor DI & ENG - Mechanical / Labor DI & 28.0 \\\\\n",
       "\t88 & Sales  Layout Drawings - Mechanical & ENG - Mechanical / Labor DI & ENG - Mechanical / Labor DI & 72.0 \\\\\n",
       "\t89 & Quotation CAD Labor Firm & ENG - Controls / Labor DI & ENG - Controls / Labor DI & 24.0 \\\\\n",
       "\t90 & Sales Equipment List - Mechanical & ENG - Mechanical / Labor DI & ENG - Mechanical / Labor DI & 10.0 \\\\\n",
       "\t91 & Sales Customer Meeting - Mechanical & SDG - Sales Quote DW & \\emph{missing} & 0.0 \\\\\n",
       "\t92 & Sales Support WBS & Sales Customer Meeting - Mechanical & \\emph{missing} & 0.0 \\\\\n",
       "\t93 & Sales Customer Meeting - Mechanical & ENG - Mechanical / Labor DI & ENG - Mechanical / Labor DI & 6.0 \\\\\n",
       "\t94 & Sales Other Support - Mechanical & SDG - Sales Quote DW & \\emph{missing} & 0.0 \\\\\n",
       "\t95 & Sales Support WBS & Sales Other Support - Mechanical & \\emph{missing} & 0.0 \\\\\n",
       "\t96 & Sales Other Support - Mechanical & ENG - Mechanical / Labor DI & ENG - Mechanical / Labor DI & 18.0 \\\\\n",
       "\\end{tabular}\n"
      ],
      "text/plain": [
       "\u001b[1m96×4 DataFrame\u001b[0m\n",
       "\u001b[1m Row \u001b[0m│\u001b[1m CO_object_name                    \u001b[0m\u001b[1m CO_partner_object_name            \u001b[0m\u001b[1m Source_object_name              \u001b[0m\u001b[1m Total_Quantity_sum \u001b[0m\n",
       "     │\u001b[90m String                            \u001b[0m\u001b[90m Union{Missing, String}            \u001b[0m\u001b[90m String31?                       \u001b[0m\u001b[90m Float64            \u001b[0m\n",
       "─────┼───────────────────────────────────────────────────────────────────────────────────────────────────────────────────────────\n",
       "   1 │ Controls PS Engineering Labor Ge…  CS - Tech Supp Desk / Labor DI     CS - Tech Supp Desk / Labor DI                12.0\n",
       "   2 │ PS Project Warranty               \u001b[90m missing                           \u001b[0m\u001b[90m missing                         \u001b[0m               0.0\n",
       "   3 │ Integrated (WCS)                   CS - Tech Supp Desk / Labor DI     CS - Tech Supp Desk / Labor DI                 7.0\n",
       "   4 │ Mechanical Installation Labor PE…  CS - Tech Supp Desk / Labor DI     CS - Tech Supp Desk / Labor DI                31.45\n",
       "   5 │ PS Special Cost                   \u001b[90m missing                           \u001b[0m\u001b[90m missing                         \u001b[0m               0.0\n",
       "   6 │ Mechanical Engineering Labor Gen…  CS-Parts Spares Supp / Labor DI    CS-Parts Spares Supp / Labor DI                1.0\n",
       "   7 │ Third Party Material - PS Mechan…  REPAIR:50mm PWR RLR 388.7mm SHL … \u001b[90m missing                         \u001b[0m               0.0\n",
       "   8 │ Third Party Material - PS Mechan…  50MM CPLD PWR RLR 388.7MM SHL 0-… \u001b[90m missing                         \u001b[0m               0.0\n",
       "   9 │ PS Project                        \u001b[90m missing                           \u001b[0m\u001b[90m missing                         \u001b[0m               0.0\n",
       "  10 │ Equipment Management System        CS - Tech Supp Desk / Labor DI     CS - Tech Supp Desk / Labor DI                 0.5\n",
       "  11 │ Implementation / Coordination      ENG - Mechanical / Labor DI        ENG - Mechanical / Labor DI                  380.0\n",
       "  12 │ General: Management                ENG - Controls / Labor DI          ENG - Controls / Labor DI                    126.0\n",
       "  13 │ Post Standby Support               ENG - Controls / Labor DI          ENG - Controls / Labor DI                    104.0\n",
       "  14 │ Controls PS Engineering Labor Ge…  ENG - Controls / Labor DI          ENG - Controls / Labor DI                     24.0\n",
       "  15 │ Implementation / Coordination      ENG - Controls / Labor DI          ENG - Controls / Labor DI                     51.0\n",
       "  16 │ Third Party Material - PS Contro… \u001b[90m missing                           \u001b[0m\u001b[90m missing                         \u001b[0m               0.0\n",
       "  17 │ Controls IS Engineering Labor Ge…  ENG - Controls / Labor DI          ENG - Controls / Labor DI                      3.0\n",
       "  18 │ Convey/Sort Project Manuals        ENG - Tech Comm / Labor SS         ENG - Tech Comm / Labor SS                    36.0\n",
       "  19 │ PS Mechanical Engineering         \u001b[90m missing                           \u001b[0m\u001b[90m missing                         \u001b[0m               0.0\n",
       "  20 │ Resale Controls - Non-Priority M… \u001b[90m missing                           \u001b[0m\u001b[90m missing                         \u001b[0m             633.0\n",
       "  21 │ Layout / Design                    ENG - Controls / Labor DI          ENG - Controls / Labor DI                      6.0\n",
       "  22 │ PS Controls Engineering           \u001b[90m missing                           \u001b[0m\u001b[90m missing                         \u001b[0m               0.0\n",
       "  23 │ Electrical Installation Admin     \u001b[90m missing                           \u001b[0m\u001b[90m missing                         \u001b[0m               0.0\n",
       "  24 │ Commissioning                      ENG - Controls / Labor DI          ENG - Controls / Labor DI                    232.0\n",
       "  25 │ Initiating the Project             CS - Tech Supp Desk / Labor DI     CS - Tech Supp Desk / Labor DI                 1.5\n",
       "  26 │ General: Project Admin             ENG - Controls / Labor DI          ENG - Controls / Labor DI                     16.0\n",
       "  27 │ Order Entry                        ENG - Controls / Labor DI          ENG - Controls / Labor DI                      8.0\n",
       "  28 │ Closing the Project                ENG - Tech Comm / Labor SS         ENG - Tech Comm / Labor SS                     2.0\n",
       "  29 │ Commissioning                      ENG - Mechanical / Labor DI        ENG - Mechanical / Labor DI                  210.0\n",
       "  30 │ Continuous Loop Core Line         \u001b[90m missing                           \u001b[0m\u001b[90m missing                         \u001b[0m               0.0\n",
       "  31 │ Electrical Installation Temporar…  Electrical Install / Labor DI      Electrical Install / Labor DI                592.0\n",
       "  32 │ PS Electrical Installation        \u001b[90m missing                           \u001b[0m\u001b[90m missing                         \u001b[0m               0.0\n",
       "  33 │ Manufacturing Material - PS Mech…  MFG - MHB North Ops                MFG - MHB North Ops                            0.0\n",
       "  34 │ Standby Support                    ENG - Mechanical / Labor DI        ENG - Mechanical / Labor DI                   45.75\n",
       "  35 │ Mechanical Installation Admin     \u001b[90m missing                           \u001b[0m\u001b[90m missing                         \u001b[0m               0.0\n",
       "  36 │ Outbound                          \u001b[90m missing                           \u001b[0m\u001b[90m missing                         \u001b[0m            9565.0\n",
       "  37 │ Manufacturing Material - PS Mech… \u001b[90m missing                           \u001b[0m\u001b[90m missing                         \u001b[0m           12623.0\n",
       "  38 │ Travel Hours                       Electrical Install / Labor DI      Electrical Install / Labor DI                 46.0\n",
       "  39 │ Controls PS Engineering Labor Ge…  Mech Comm Eng / Labor DI           Mech Comm Eng / Labor DI                     156.0\n",
       "  40 │ Order Entry                        ENG - Mechanical / Labor DI        ENG - Mechanical / Labor DI                    5.5\n",
       "  41 │ Standby Support                    ENG - Controls / Labor DI          ENG - Controls / Labor DI                     17.5\n",
       "  42 │ Electrical Installation Labor PE…  Continuous Improveme / Labor DI    Continuous Improveme / Labor DI              478.0\n",
       "  43 │ Third Party Material - PS Mechan…  MFG - MHB North Ops                MFG - MHB North Ops                            0.0\n",
       "  44 │ Third Party Material - PS Mechan… \u001b[90m missing                           \u001b[0m\u001b[90m missing                         \u001b[0m          129204.0\n",
       "  45 │ Level#3                           \u001b[90m missing                           \u001b[0m\u001b[90m missing                         \u001b[0m           11809.0\n",
       "  46 │ PS Mechanical Installation        \u001b[90m missing                           \u001b[0m\u001b[90m missing                         \u001b[0m               0.0\n",
       "  47 │ Manufacturing Material - PS Cont…  MFG - MHB North Ops                MFG - MHB North Ops                            0.0\n",
       "  48 │ SW Design                          ENG - Controls / Labor DI          ENG - Controls / Labor DI                    217.0\n",
       "  49 │ Manufacturing Material - PS Cont… \u001b[90m missing                           \u001b[0m\u001b[90m missing                         \u001b[0m              10.0\n",
       "  50 │ Electrical Installation Admin      Instal Admin / Labor DI            Instal Admin / Labor DI                       32.0\n",
       "  51 │ Pick Module #3 - Hazmat           \u001b[90m missing                           \u001b[0m\u001b[90m missing                         \u001b[0m               2.0\n",
       "  52 │ Third Party to R&D - Mechanical   \u001b[90m missing                           \u001b[0m\u001b[90m missing                         \u001b[0m             360.0\n",
       "  53 │ Header Steel                       ENG - Mechanical / Labor DI        ENG - Mechanical / Labor DI                   17.0\n",
       "  54 │ Standby Support                    SAE - Software Engin / Labor DI    SAE - Software Engin / Labor DI                0.25\n",
       "  55 │ Travel Hours                       Continuous Improveme / Labor DI    Continuous Improveme / Labor DI               24.0\n",
       "  56 │ Returns Loop                      \u001b[90m missing                           \u001b[0m\u001b[90m missing                         \u001b[0m              50.0\n",
       "  57 │ Spirals                           \u001b[90m missing                           \u001b[0m\u001b[90m missing                         \u001b[0m               0.0\n",
       "  58 │ Mechanical Installation Labor PE… \u001b[90m missing                           \u001b[0m\u001b[90m missing                         \u001b[0m               0.0\n",
       "  59 │ Order Entry / Detail Engineering   ENG - Mechanical / Labor DI        ENG - Mechanical / Labor DI                  166.0\n",
       "  60 │ HW Design                          ENG - Controls / Labor DI          ENG - Controls / Labor DI                    154.0\n",
       "  61 │ Layout / Design                    ENG - Mechanical / Labor DI        ENG - Mechanical / Labor DI                   68.0\n",
       "  62 │ Layout Design                      ENG - Controls / Labor DI          ENG - Controls / Labor DI                     33.0\n",
       "  63 │ Header Steel                       ENG-Remote Mechanica / Labor DI    ENG-Remote Mechanica / Labor DI               29.0\n",
       "  64 │ Description of Operations          ENG - Controls / Labor DI          ENG - Controls / Labor DI                     16.0\n",
       "  65 │ Mechanical Engineering Labor Gen…  ENG - Mechanical / Labor DI        ENG - Mechanical / Labor DI                   90.0\n",
       "  66 │ PS Project Management             \u001b[90m missing                           \u001b[0m\u001b[90m missing                         \u001b[0m               0.0\n",
       "  67 │ Sales Concept Meeting - Controls   SDG - Sales Quote DW              \u001b[90m missing                         \u001b[0m               0.0\n",
       "  68 │ Sales Support WBS                  Sales Concept Meeting - Controls  \u001b[90m missing                         \u001b[0m               0.0\n",
       "  69 │ Sales Concept Meeting - Controls   ENG - Controls / Labor DI          ENG - Controls / Labor DI                      2.0\n",
       "  70 │ Quotation CAD Labor Concept        SDG - Sales Quote DW              \u001b[90m missing                         \u001b[0m               0.0\n",
       "  71 │ Quote WBS-element                  Quotation CAD Labor Concept       \u001b[90m missing                         \u001b[0m               0.0\n",
       "  72 │ Quotation CAD Labor Concept        ENG - Mechanical / Labor DI        ENG - Mechanical / Labor DI                   26.0\n",
       "  73 │ Quotation CAD Labor Firm           SDG - Sales Quote DW              \u001b[90m missing                         \u001b[0m               0.0\n",
       "  74 │ Quotation Controls Costing Labor…  SDG - Sales Quote DW              \u001b[90m missing                         \u001b[0m               0.0\n",
       "  75 │ Quotation Mechanical Costing Lab…  SDG - Sales Quote DW              \u001b[90m missing                         \u001b[0m               0.0\n",
       "  76 │ Quotation Mechanical Costing Lab…  SDG - Sales Quote DW              \u001b[90m missing                         \u001b[0m               0.0\n",
       "  77 │ Quote WBS-element                  Quotation Mechanical Costing Lab… \u001b[90m missing                         \u001b[0m               0.0\n",
       "  78 │ Quote WBS-element                  Quotation Mechanical Costing Lab… \u001b[90m missing                         \u001b[0m               0.0\n",
       "  79 │ Quote WBS-element                  Quotation Controls Costing Labor… \u001b[90m missing                         \u001b[0m               0.0\n",
       "  80 │ Quote WBS-element                  Quotation CAD Labor Firm          \u001b[90m missing                         \u001b[0m               0.0\n",
       "  81 │ Sales  Layout Drawings - Mechani…  SDG - Sales Quote DW              \u001b[90m missing                         \u001b[0m               0.0\n",
       "  82 │ Sales Equipment List - Mechanical  SDG - Sales Quote DW              \u001b[90m missing                         \u001b[0m               0.0\n",
       "  83 │ Sales Support WBS                  Sales  Layout Drawings - Mechani… \u001b[90m missing                         \u001b[0m               0.0\n",
       "  84 │ Sales Support WBS                  Sales Equipment List - Mechanical \u001b[90m missing                         \u001b[0m               0.0\n",
       "  85 │ Quotation Controls Costing Labor…  ENG - Controls / Labor DI          ENG - Controls / Labor DI                     18.0\n",
       "  86 │ Quotation Mechanical Costing Lab…  ENG - Mechanical / Labor DI        ENG - Mechanical / Labor DI                   36.0\n",
       "  87 │ Quotation Mechanical Costing Lab…  ENG - Mechanical / Labor DI        ENG - Mechanical / Labor DI                   28.0\n",
       "  88 │ Sales  Layout Drawings - Mechani…  ENG - Mechanical / Labor DI        ENG - Mechanical / Labor DI                   72.0\n",
       "  89 │ Quotation CAD Labor Firm           ENG - Controls / Labor DI          ENG - Controls / Labor DI                     24.0\n",
       "  90 │ Sales Equipment List - Mechanical  ENG - Mechanical / Labor DI        ENG - Mechanical / Labor DI                   10.0\n",
       "  91 │ Sales Customer Meeting - Mechani…  SDG - Sales Quote DW              \u001b[90m missing                         \u001b[0m               0.0\n",
       "  92 │ Sales Support WBS                  Sales Customer Meeting - Mechani… \u001b[90m missing                         \u001b[0m               0.0\n",
       "  93 │ Sales Customer Meeting - Mechani…  ENG - Mechanical / Labor DI        ENG - Mechanical / Labor DI                    6.0\n",
       "  94 │ Sales Other Support - Mechanical   SDG - Sales Quote DW              \u001b[90m missing                         \u001b[0m               0.0\n",
       "  95 │ Sales Support WBS                  Sales Other Support - Mechanical  \u001b[90m missing                         \u001b[0m               0.0\n",
       "  96 │ Sales Other Support - Mechanical   ENG - Mechanical / Labor DI        ENG - Mechanical / Labor DI                   18.0"
      ]
     },
     "metadata": {},
     "output_type": "display_data"
    }
   ],
   "source": [
    "#groupby columns \"CO_object_name\" and \"CO_partner_object_name\"\n",
    "\n",
    "dfg = groupby(df, [:CO_object_name, :CO_partner_object_name, :Source_object_name])\n",
    "\n",
    "#combine sum of :Total_Quantity\n",
    "dfg_sum = combine(dfg, :Total_Quantity => sum)"
   ]
  },
  {
   "cell_type": "code",
   "execution_count": 76,
   "metadata": {},
   "outputs": [],
   "source": [
    "CSV.write(\"dfg_sum$(Dates.today()).csv\", dfg_sum);"
   ]
  },
  {
   "cell_type": "code",
   "execution_count": 77,
   "metadata": {},
   "outputs": [],
   "source": []
  },
  {
   "cell_type": "code",
   "execution_count": 81,
   "metadata": {},
   "outputs": [
    {
     "data": {
      "text/plain": [
       "103605.0"
      ]
     },
     "metadata": {},
     "output_type": "display_data"
    }
   ],
   "source": [
    "c = 24024.00 + 60816.00 + 18765"
   ]
  },
  {
   "cell_type": "code",
   "execution_count": 82,
   "metadata": {},
   "outputs": [
    {
     "data": {
      "text/plain": [
       "18.11909758656873"
      ]
     },
     "metadata": {},
     "output_type": "display_data"
    }
   ],
   "source": [
    "c_per_ft_conv = c / 5718.00"
   ]
  },
  {
   "cell_type": "code",
   "execution_count": 83,
   "metadata": {},
   "outputs": [
    {
     "data": {
      "text/plain": [
       "125728.41815320043"
      ]
     },
     "metadata": {},
     "output_type": "display_data"
    }
   ],
   "source": [
    "new_c = c_per_ft_conv * 6939.0"
   ]
  },
  {
   "cell_type": "code",
   "execution_count": 84,
   "metadata": {},
   "outputs": [
    {
     "data": {
      "text/plain": [
       "100582.73452256035"
      ]
     },
     "metadata": {},
     "output_type": "display_data"
    }
   ],
   "source": [
    "# take 20% off the above cost\n",
    "\n",
    "new_c * 0.8"
   ]
  },
  {
   "cell_type": "code",
   "execution_count": 85,
   "metadata": {},
   "outputs": [
    {
     "data": {
      "text/plain": [
       "1496.7668827761956"
      ]
     },
     "metadata": {},
     "output_type": "display_data"
    }
   ],
   "source": [
    "#convert above to effort\n",
    "rate = 84.0\n",
    "effort = new_c / rate"
   ]
  },
  {
   "cell_type": "code",
   "execution_count": null,
   "metadata": {},
   "outputs": [
    {
     "data": {
      "text/plain": [
       "1496.7668827761956"
      ]
     },
     "metadata": {},
     "output_type": "display_data"
    }
   ],
   "source": [
    "#convert above to effort\n",
    "rate = 84.0\n",
    "effort = new_c / rate"
   ]
  },
  {
   "cell_type": "code",
   "execution_count": null,
   "metadata": {},
   "outputs": [
    {
     "data": {
      "text/plain": [
       "1496.7668827761956"
      ]
     },
     "metadata": {},
     "output_type": "display_data"
    }
   ],
   "source": [
    "#convert above to effort\n",
    "rate = 84.0\n",
    "effort = new_c / rate"
   ]
  },
  {
   "cell_type": "code",
   "execution_count": null,
   "metadata": {},
   "outputs": [],
   "source": []
  }
 ],
 "metadata": {
  "kernelspec": {
   "display_name": "Julia 1.8.5",
   "language": "julia",
   "name": "julia-1.8"
  },
  "language_info": {
   "file_extension": ".jl",
   "mimetype": "application/julia",
   "name": "julia",
   "version": "1.8.5"
  },
  "orig_nbformat": 4
 },
 "nbformat": 4,
 "nbformat_minor": 2
}
