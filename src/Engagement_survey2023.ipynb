{
 "cells": [
  {
   "cell_type": "markdown",
   "metadata": {},
   "source": [
    "# 2022"
   ]
  },
  {
   "cell_type": "code",
   "execution_count": 19,
   "metadata": {},
   "outputs": [],
   "source": [
    "topics = [\"Respondends\", \"Engagement\", \"Equal Opportunity\", \"Culture\", \"Purpose\", \"Respectful Treatment\", \"Diverse Perspectives\",\n",
    "    \"Manager\", \"Prospects\", \"Growth\", \"Communication\", \"Career\", \"Feedback\", \"Role Clarity\", \"Customer Focus\", \"Recognition\",\n",
    "        \"Work Life Balance\", \"Collaboration\", \"Innovation\", \"Leadership\", \"Resources\", \"Emporwerment\", \"Action Taking\", \"Initiative\"];"
   ]
  },
  {
   "cell_type": "code",
   "execution_count": 20,
   "metadata": {},
   "outputs": [],
   "source": [
    "scores2022 = [11, 81, 91, 86, 86, 86, 84, 84,84, 82, 80, 77, 77, 77, 75, 75, 75, 70, 70, 70, 68, 64, 61, 59];"
   ]
  },
  {
   "cell_type": "code",
   "execution_count": 21,
   "metadata": {},
   "outputs": [],
   "source": [
    "pairs2022 = topics .=> scores2022;"
   ]
  },
  {
   "cell_type": "code",
   "execution_count": 22,
   "metadata": {},
   "outputs": [
    {
     "data": {
      "text/plain": [
       "24"
      ]
     },
     "metadata": {},
     "output_type": "display_data"
    }
   ],
   "source": [
    "topics |> length"
   ]
  },
  {
   "cell_type": "code",
   "execution_count": 23,
   "metadata": {},
   "outputs": [
    {
     "data": {
      "text/plain": [
       "24"
      ]
     },
     "metadata": {},
     "output_type": "display_data"
    }
   ],
   "source": [
    "scores2022 |> length"
   ]
  },
  {
   "cell_type": "code",
   "execution_count": 24,
   "metadata": {},
   "outputs": [
    {
     "data": {
      "text/plain": [
       "24-element Vector{Pair{String, Int64}}:\n",
       "          \"Respondends\" => 11\n",
       "           \"Engagement\" => 81\n",
       "    \"Equal Opportunity\" => 91\n",
       "              \"Culture\" => 86\n",
       "              \"Purpose\" => 86\n",
       " \"Respectful Treatment\" => 86\n",
       " \"Diverse Perspectives\" => 84\n",
       "              \"Manager\" => 84\n",
       "            \"Prospects\" => 84\n",
       "               \"Growth\" => 82\n",
       "                        ⋮\n",
       "          \"Recognition\" => 75\n",
       "    \"Work Life Balance\" => 75\n",
       "        \"Collaboration\" => 70\n",
       "           \"Innovation\" => 70\n",
       "           \"Leadership\" => 70\n",
       "            \"Resources\" => 68\n",
       "         \"Emporwerment\" => 64\n",
       "        \"Action Taking\" => 61\n",
       "           \"Initiative\" => 59"
      ]
     },
     "metadata": {},
     "output_type": "display_data"
    }
   ],
   "source": [
    "pairs2022"
   ]
  },
  {
   "cell_type": "code",
   "execution_count": 25,
   "metadata": {},
   "outputs": [],
   "source": [
    "favorableranges = [80,81, 82,83,84, 85,86,87,88,89, 90, 91];\n",
    "neutralranges = [74,75,76,77, 78, 79];\n",
    "unfavorableranges = [59,60,61, 62,63,64,65,66,67, 68,69,70,71,72, 73];"
   ]
  },
  {
   "cell_type": "code",
   "execution_count": 26,
   "metadata": {},
   "outputs": [],
   "source": [
    "# findout which ones are in the favorable range:\n",
    "favorablepairs_index_2022 = pairs2022 .|> x -> last.(x) ∈ favorableranges;"
   ]
  },
  {
   "cell_type": "code",
   "execution_count": 27,
   "metadata": {},
   "outputs": [],
   "source": [
    "# find out which ones are in the neutral range:\n",
    "neutralpairs_index_2022 = pairs2022 .|> x -> last.(x) ∈ neutralranges;"
   ]
  },
  {
   "cell_type": "code",
   "execution_count": 28,
   "metadata": {},
   "outputs": [],
   "source": [
    "# find out which ones are in the unfavorable range:\n",
    "unfavorablepairs_index_2022 = pairs2022 .|> x -> last.(x) ∈ unfavorableranges;"
   ]
  },
  {
   "cell_type": "code",
   "execution_count": 29,
   "metadata": {},
   "outputs": [],
   "source": [
    "favorablepairs_index_2022 = collect(favorablepairs_index_2022);"
   ]
  },
  {
   "cell_type": "code",
   "execution_count": 30,
   "metadata": {},
   "outputs": [
    {
     "data": {
      "text/plain": [
       "10-element Vector{Pair{String, Int64}}:\n",
       "           \"Engagement\" => 81\n",
       "    \"Equal Opportunity\" => 91\n",
       "              \"Culture\" => 86\n",
       "              \"Purpose\" => 86\n",
       " \"Respectful Treatment\" => 86\n",
       " \"Diverse Perspectives\" => 84\n",
       "              \"Manager\" => 84\n",
       "            \"Prospects\" => 84\n",
       "               \"Growth\" => 82\n",
       "        \"Communication\" => 80"
      ]
     },
     "metadata": {},
     "output_type": "display_data"
    }
   ],
   "source": [
    "pairs2022[favorablepairs_index_2022]"
   ]
  },
  {
   "cell_type": "code",
   "execution_count": 31,
   "metadata": {},
   "outputs": [
    {
     "data": {
      "text/plain": [
       "6-element Vector{Pair{String, Int64}}:\n",
       "            \"Career\" => 77\n",
       "          \"Feedback\" => 77\n",
       "      \"Role Clarity\" => 77\n",
       "    \"Customer Focus\" => 75\n",
       "       \"Recognition\" => 75\n",
       " \"Work Life Balance\" => 75"
      ]
     },
     "metadata": {},
     "output_type": "display_data"
    }
   ],
   "source": [
    "pairs2022[neutralpairs_index_2022]"
   ]
  },
  {
   "cell_type": "code",
   "execution_count": 32,
   "metadata": {},
   "outputs": [
    {
     "data": {
      "text/plain": [
       "7-element Vector{Pair{String, Int64}}:\n",
       " \"Collaboration\" => 70\n",
       "    \"Innovation\" => 70\n",
       "    \"Leadership\" => 70\n",
       "     \"Resources\" => 68\n",
       "  \"Emporwerment\" => 64\n",
       " \"Action Taking\" => 61\n",
       "    \"Initiative\" => 59"
      ]
     },
     "metadata": {},
     "output_type": "display_data"
    }
   ],
   "source": [
    "pairs2022[unfavorablepairs_index_2022]"
   ]
  },
  {
   "cell_type": "code",
   "execution_count": 33,
   "metadata": {},
   "outputs": [],
   "source": [
    "# topics = [\"Respondends\", \"Engagement\", \"Equal Opportunity\", \"Culture\", \"Purpose\", \"Respectful Treatment\", \"Diverse Perspectives\",\n",
    "#     \"Manager\", \"Prospects\", \"Growth\", \"Communication\", \"Career\", \"Feedback\", \"Role Clarity\", \"Customer Focus\", \"Recognition\",\n",
    "#         \"Work Life Balance\", \"Collaboration\", \"Innovation\", \"Leadership\", \"Resources\", \"Emporwerment\", \"Action Taking\", \"Initiative\"];"
   ]
  },
  {
   "cell_type": "code",
   "execution_count": 34,
   "metadata": {},
   "outputs": [
    {
     "data": {
      "text/plain": [
       "24-element Vector{Int64}:\n",
       " 10\n",
       " 69\n",
       " 80\n",
       " 77\n",
       " 65\n",
       " 85\n",
       " 77\n",
       " 90\n",
       " 55\n",
       " 70\n",
       "  ⋮\n",
       " 80\n",
       " 75\n",
       " 70\n",
       " 68\n",
       " 55\n",
       " 70\n",
       " 75\n",
       " 38\n",
       " 68"
      ]
     },
     "metadata": {},
     "output_type": "display_data"
    }
   ],
   "source": [
    "scores2023 = [10,\n",
    "69,\n",
    "80,\n",
    "77,\n",
    "65,\n",
    "85,\n",
    "77,\n",
    "90,\n",
    "55,\n",
    "70,\n",
    "60,\n",
    "60,\n",
    "93,\n",
    "80,\n",
    "70,\n",
    "80,\n",
    "75,\n",
    "70,\n",
    "68,\n",
    "55,\n",
    "70,\n",
    "75,\n",
    "38,\n",
    "68\n",
    "]"
   ]
  },
  {
   "cell_type": "code",
   "execution_count": 35,
   "metadata": {},
   "outputs": [],
   "source": [
    "pairs2023 = topics .=> scores2023;"
   ]
  }
 ],
 "metadata": {
  "kernelspec": {
   "display_name": "Julia 1.8.4",
   "language": "julia",
   "name": "julia-1.8"
  },
  "language_info": {
   "file_extension": ".jl",
   "mimetype": "application/julia",
   "name": "julia",
   "version": "1.8.4"
  },
  "orig_nbformat": 4
 },
 "nbformat": 4,
 "nbformat_minor": 2
}
