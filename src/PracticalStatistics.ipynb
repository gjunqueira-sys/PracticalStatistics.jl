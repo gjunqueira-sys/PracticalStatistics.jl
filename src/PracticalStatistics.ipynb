{
 "cells": [
  {
   "cell_type": "markdown",
   "metadata": {},
   "source": [
    "# Estimates of Location"
   ]
  },
  {
   "cell_type": "markdown",
   "metadata": {},
   "source": [
    "\n",
    "## Chapter 1. Exploratory Data Analysis\n",
    "This chapter focuses on the first step in any data science project: exploring the data.\n",
    "\n",
    "Classical statistics focused almost exclusively on inference, a sometimes complex set of procedures for drawing conclusions about large populations based on small samples. In 1962, John W. Tukey (Figure 1-1) called for a reformation of statistics in his seminal paper “The Future of Data Analysis” [Tukey-1962]. He proposed a new scientific discipline called data analysis that included statistical inference as just one component. Tukey forged links to the engineering and computer science communities (he coined the terms bit, short for binary digit, and software), and his original tenets are surprisingly durable and form part of the foundation for data science. The field of exploratory data analysis was established with Tukey’s 1977 now-classic book Exploratory Data Analysis [Tukey-1977]. Tukey presented simple plots (e.g., boxplots, scatterplots) that, along with summary statistics (mean, median, quantiles, etc.), help paint a picture of a data set.\n",
    "\n",
    "With the ready availability of computing power and expressive data analysis software, exploratory data analysis has evolved well beyond its original scope. Key drivers of this discipline have been the rapid development of new technology, access to more and bigger data, and the greater use of quantitative analysis in a variety of disciplines. David Donoho, professor of statistics at Stanford University and former undergraduate student of Tukey’s, authored an excellent article based on his presentation at the Tukey Centennial workshop in Princeton, New Jersey [Donoho-2015]. Donoho traces the genesis of data science back to Tukey’s pioneering work in data analysis.\n",
    "\n",
    "John Tukey, the eminent statistician, whose ideas developed over fifty years ago form the foundation of data science.\n",
    "Figure 1-1. John Tukey, the eminent statistician whose ideas developed over 50 years ago form the foundation of data science\n",
    "Elements of Structured Data\n",
    "Data comes from many sources: sensor measurements, events, text, images, and videos. The Internet of Things (IoT) is spewing out streams of information. Much of this data is unstructured: images are a collection of pixels, with each pixel containing RGB (red, green, blue) color information. Texts are sequences of words and nonword characters, often organized by sections, subsections, and so on. Clickstreams are sequences of actions by a user interacting with an app or a web page. In fact, a major challenge of data science is to harness this torrent of raw data into actionable information. To apply the statistical concepts covered in this book, unstructured raw data must be processed and manipulated into a structured form. One of the commonest forms of structured data is a table with rows and columns—as data might emerge from a relational database or be collected for a study.\n",
    "\n",
    "There are two basic types of structured data: numeric and categorical. Numeric data comes in two forms: continuous, such as wind speed or time duration, and discrete, such as the count of the occurrence of an event. Categorical data takes only a fixed set of values, such as a type of TV screen (plasma, LCD, LED, etc.) or a state name (Alabama, Alaska, etc.). Binary data is an important special case of categorical data that takes on only one of two values, such as 0/1, yes/no, or true/false. Another useful type of categorical data is ordinal data in which the categories are ordered; an example of this is a numerical rating (1, 2, 3, 4, or 5).\n",
    "\n",
    "Why do we bother with a taxonomy of data types? It turns out that for the purposes of data analysis and predictive modeling, the data type is important to help determine the type of visual display, data analysis, or statistical model. In fact, data science software, such as R and Python, uses these data types to improve computational performance. More important, the data type for a variable determines how software will handle computations for that variable.\n",
    "\n",
    "KEY TERMS FOR DATA TYPES\n",
    "__Numeric__\n",
    "Data that are expressed on a numeric scale.\n",
    "\n",
    "Continuous\n",
    "Data that can take on any value in an interval. (Synonyms: interval, float, numeric)\n",
    "\n",
    "Discrete\n",
    "Data that can take on only integer values, such as counts. (Synonyms: integer, count)\n",
    "\n",
    "Categorical\n",
    "Data that can take on only a specific set of values representing a set of possible categories. (Synonyms: enums, enumerated, factors, nominal)\n",
    "\n",
    "Binary\n",
    "A special case of categorical data with just two categories of values, e.g., 0/1, true/false. (Synonyms: dichotomous, logical, indicator, boolean)\n",
    "\n",
    "Ordinal\n",
    "Categorical data that has an explicit ordering. (Synonym: ordered factor)\n",
    "\n",
    "Software engineers and database programmers may wonder why we even need the notion of categorical and ordinal data for analytics. After all, categories are merely a collection of text (or numeric) values, and the underlying database automatically handles the internal representation. However, explicit identification of data as categorical, as distinct from text, does offer some advantages:\n",
    "\n",
    "Knowing that data is categorical can act as a signal telling software how statistical procedures, such as producing a chart or fitting a model, should behave. In particular, ordinal data can be represented as an ordered.factor in R, preserving a user-specified ordering in charts, tables, and models. In Python, scikit-learn supports ordinal data with the sklearn.preprocessing.OrdinalEncoder.\n",
    "\n",
    "Storage and indexing can be optimized (as in a relational database).\n",
    "\n",
    "The possible values a given categorical variable can take are enforced in the software (like an enum).\n",
    "\n",
    "The third “benefit” can lead to unintended or unexpected behavior: the default behavior of data import functions in R (e.g., read.csv) is to automatically convert a text column into a factor. Subsequent operations on that column will assume that the only allowable values for that column are the ones originally imported, and assigning a new text value will introduce a warning and produce an NA (missing value). The pandas package in Python will not make such a conversion automatically. However, you can specify a column as categorical explicitly in the read_csv function.\n",
    "\n",
    "KEY IDEAS\n",
    "Data is typically classified in software by type.\n",
    "\n",
    "Data types include numeric (continuous, discrete) and categorical (binary, ordinal).\n",
    "\n",
    "Data typing in software acts as a signal to the software on how to process the data.\n",
    "\n",
    "Further Reading\n",
    "The pandas documentation describes the different data types and how they can be manipulated in Python.\n",
    "\n",
    "Data types can be confusing, since types may overlap, and the taxonomy in one software may differ from that in another. The R Tutorial website covers the taxonomy for R.\n",
    "\n",
    "Databases are more detailed in their classification of data types, incorporating considerations of precision levels, fixed- or variable-length fields, and more; see the W3Schools guide to SQL.\n",
    "\n",
    "Rectangular Data\n",
    "The typical frame of reference for an analysis in data science is a rectangular data object, like a spreadsheet or database table.\n",
    "\n",
    "Rectangular data is the general term for a two-dimensional matrix with rows indicating records (cases) and columns indicating features (variables); data frame is the specific format in R and Python. The data doesn’t always start in this form: unstructured data (e.g., text) must be processed and manipulated so that it can be represented as a set of features in the rectangular data (see “Elements of Structured Data”). Data in relational databases must be extracted and put into a single table for most data analysis and modeling tasks.\n",
    "\n",
    "KEY TERMS FOR RECTANGULAR DATA\n",
    "Data frame\n",
    "Rectangular data (like a spreadsheet) is the basic data structure for statistical and machine learning models.\n",
    "\n",
    "Feature\n",
    "A column within a table is commonly referred to as a feature.\n",
    "\n",
    "Synonyms\n",
    "attribute, input, predictor, variable\n",
    "\n",
    "Outcome\n",
    "Many data science projects involve predicting an outcome—often a yes/no outcome (in Table 1-1, it is “auction was competitive or not”). The features are sometimes used to predict the outcome in an experiment or a study.\n",
    "\n",
    "Synonyms\n",
    "dependent variable, response, target, output\n",
    "\n",
    "Records\n",
    "A row within a table is commonly referred to as a record.\n",
    "\n",
    "Synonyms\n",
    "case, example, instance, observation, pattern, sample\n",
    "\n",
    "Table 1-1. A typical data frame format\n",
    "Category\tcurrency\tsellerRating\tDuration\tendDay\tClosePrice\tOpenPrice\tCompetitive?\n",
    "Music/Movie/Game\n",
    "\n",
    "US\n",
    "\n",
    "3249\n",
    "\n",
    "5\n",
    "\n",
    "Mon\n",
    "\n",
    "0.01\n",
    "\n",
    "0.01\n",
    "\n",
    "0\n",
    "\n",
    "Music/Movie/Game\n",
    "\n",
    "US\n",
    "\n",
    "3249\n",
    "\n",
    "5\n",
    "\n",
    "Mon\n",
    "\n",
    "0.01\n",
    "\n",
    "0.01\n",
    "\n",
    "0\n",
    "\n",
    "Automotive\n",
    "\n",
    "US\n",
    "\n",
    "3115\n",
    "\n",
    "7\n",
    "\n",
    "Tue\n",
    "\n",
    "0.01\n",
    "\n",
    "0.01\n",
    "\n",
    "0\n",
    "\n",
    "Automotive\n",
    "\n",
    "US\n",
    "\n",
    "3115\n",
    "\n",
    "7\n",
    "\n",
    "Tue\n",
    "\n",
    "0.01\n",
    "\n",
    "0.01\n",
    "\n",
    "0\n",
    "\n",
    "Automotive\n",
    "\n",
    "US\n",
    "\n",
    "3115\n",
    "\n",
    "7\n",
    "\n",
    "Tue\n",
    "\n",
    "0.01\n",
    "\n",
    "0.01\n",
    "\n",
    "0\n",
    "\n",
    "Automotive\n",
    "\n",
    "US\n",
    "\n",
    "3115\n",
    "\n",
    "7\n",
    "\n",
    "Tue\n",
    "\n",
    "0.01\n",
    "\n",
    "0.01\n",
    "\n",
    "0\n",
    "\n",
    "Automotive\n",
    "\n",
    "US\n",
    "\n",
    "3115\n",
    "\n",
    "7\n",
    "\n",
    "Tue\n",
    "\n",
    "0.01\n",
    "\n",
    "0.01\n",
    "\n",
    "1\n",
    "\n",
    "Automotive\n",
    "\n",
    "US\n",
    "\n",
    "3115\n",
    "\n",
    "7\n",
    "\n",
    "Tue\n",
    "\n",
    "0.01\n",
    "\n",
    "0.01\n",
    "\n",
    "1\n",
    "\n",
    "In Table 1-1, there is a mix of measured or counted data (e.g., duration and price) and categorical data (e.g., category and currency). As mentioned earlier, a special form of categorical variable is a binary (yes/no or 0/1) variable, seen in the rightmost column in Table 1-1—an indicator variable showing whether an auction was competitive (had multiple bidders) or not. This indicator variable also happens to be an outcome variable, when the scenario is to predict whether an auction is competitive or not.\n",
    "\n",
    "Data Frames and Indexes\n",
    "Traditional database tables have one or more columns designated as an index, essentially a row number. This can vastly improve the efficiency of certain database queries. In Python, with the pandas library, the basic rectangular data structure is a DataFrame object. By default, an automatic integer index is created for a DataFrame based on the order of the rows. In pandas, it is also possible to set multilevel/hierarchical indexes to improve the efficiency of certain operations.\n",
    "\n",
    "In R, the basic rectangular data structure is a data.frame object. A data.frame also has an implicit integer index based on the row order. The native R data.frame does not support user-specified or multilevel indexes, though a custom key can be created through the row.names attribute. To overcome this deficiency, two new packages are gaining widespread use: data.table and dplyr. Both support multilevel indexes and offer significant speedups in working with a data.frame.\n",
    "\n",
    "TERMINOLOGY DIFFERENCES\n",
    "Terminology for rectangular data can be confusing. Statisticians and data scientists use different terms for the same thing. For a statistician, predictor variables are used in a model to predict a response or dependent variable. For a data scientist, features are used to predict a target. One synonym is particularly confusing: computer scientists will use the term sample for a single row; a sample to a statistician means a collection of rows.\n",
    "\n",
    "Nonrectangular Data Structures\n",
    "There are other data structures besides rectangular data.\n",
    "\n",
    "Time series data records successive measurements of the same variable. It is the raw material for statistical forecasting methods, and it is also a key component of the data produced by devices—the Internet of Things.\n",
    "\n",
    "Spatial data structures, which are used in mapping and location analytics, are more complex and varied than rectangular data structures. In the object representation, the focus of the data is an object (e.g., a house) and its spatial coordinates. The field view, by contrast, focuses on small units of space and the value of a relevant metric (pixel brightness, for example).\n",
    "\n",
    "Graph (or network) data structures are used to represent physical, social, and abstract relationships. For example, a graph of a social network, such as Facebook or LinkedIn, may represent connections between people on the network. Distribution hubs connected by roads are an example of a physical network. Graph structures are useful for certain types of problems, such as network optimization and recommender systems.\n",
    "\n",
    "Each of these data types has its specialized methodology in data science. The focus of this book is on rectangular data, the fundamental building block of predictive modeling.\n",
    "\n",
    "GRAPHS IN STATISTICS\n",
    "In computer science and information technology, the term graph typically refers to a depiction of the connections among entities, and to the underlying data structure. In statistics, graph is used to refer to a variety of plots and visualizations, not just of connections among entities, and the term applies only to the visualization, not to the data structure.\n",
    "\n",
    "KEY IDEAS\n",
    "The basic data structure in data science is a rectangular matrix in which rows are records and columns are variables (features).\n",
    "\n",
    "Terminology can be confusing; there are a variety of synonyms arising from the different disciplines that contribute to data science (statistics, computer science, and information technology).\n",
    "\n",
    "Further Reading\n",
    "Documentation on data frames in R\n",
    "\n",
    "Documentation on data frames in Python\n",
    "\n"
   ]
  },
  {
   "cell_type": "markdown",
   "metadata": {},
   "source": [
    "# Estimates of Location\n",
    "Variables with measured or count data might have thousands of distinct values. \n",
    "A basic step in exploring your data is getting a “typical value” for each feature (variable): an estimate of where most of the data is located (i.e., its central tendency).\n",
    "\n",
    "## KEY TERMS FOR ESTIMATES OF LOCATION\n",
    "__Mean__\n",
    "The sum of all values divided by the number of values.\n",
    "\n",
    "Synonym\n",
    "_average_\n",
    "\n",
    "__Weighted mean__\n",
    "The sum of all values times a weight divided by the sum of the weights.\n",
    "\n",
    "Synonym\n",
    "_weighted average_\n",
    "\n",
    "_Median_\n",
    "The value such that one-half of the data lies above and below.\n",
    "\n",
    "Synonym\n",
    "_50th percentile_\n",
    "\n",
    "__Percentile__\n",
    "The value such that P percent of the data lies below.\n",
    "\n",
    "Synonym\n",
    "_quantile_\n",
    "\n",
    "_Weighted median_\n",
    "The value such that one-half of the sum of the weights lies above and below the sorted data.\n",
    "\n",
    "__Trimmed mean__\n",
    "The average of all values after dropping a fixed number of extreme values.\n",
    "\n",
    "Synonym\n",
    "_truncated mean_\n",
    "\n",
    "Robust\n",
    "Not sensitive to extreme values.\n",
    "\n",
    "Synonym\n",
    "resistant\n",
    "\n",
    "Outlier\n",
    "A data value that is very different from most of the data.\n",
    "\n",
    "Synonym\n",
    "extreme value"
   ]
  },
  {
   "cell_type": "markdown",
   "metadata": {},
   "source": [
    "## Mean\n",
    "The most basic estimate of location is the mean, or average value. The mean is the sum of all values divided by the number of values. Consider the following set of numbers: {3 5 1 2}. The mean is (3 + 5 + 1 + 2) / 4 = 11 / 4 = 2.75. You will encounter the symbol  (pronounced “x-bar”) being used to represent the mean of a sample from a population. The formula to compute the mean for a set of n values  is:\n",
    "\n",
    "NOTE\n",
    "N (or n) refers to the total number of records or observations. In statistics it is capitalized if it is referring to a population, and lowercase if it refers to a sample from a population. In data science, that distinction is not vital, so you may see it both ways\n",
    "\n",
    "A variation of the mean is a __trimmed mean__, which you calculate by dropping a fixed number of sorted values at each end and then taking an average of the remaining values. Representing the sorted values by x(1),x(2),...,x(n) where x(1) is the smallest value and x(n) the largest, the formula to compute the trimmed mean with p smallest and largest values omitted is:\n",
    "\n",
    "Trimmedmean=x¯=∑i=p+1n-px(i)n-2p\n",
    "A trimmed mean eliminates the influence of extreme values. For example, in international diving the top score and bottom score from five judges are dropped, and the final score is the average of the scores from the three remaining judges. This makes it difficult for a single judge to manipulate the score, perhaps to favor their country’s contestant. Trimmed means are widely used, and in many cases are preferable to using the ordinary mean—see “Median and Robust Estimates” for further discussion.\n",
    "\n",
    "Another type of mean is a __weighted mean__, which you calculate by multiplying each data value xi by a user-specified weight wi and dividing their sum by the sum of the weights. The formula for a weighted mean is:\n",
    "\n",
    "Weightedmean=x¯w=∑i=1nwixi∑i=1nwi\n",
    "There are two main motivations for using a weighted mean:\n",
    "\n",
    "Some values are intrinsically more variable than others, and highly variable observations are given a lower weight. For example, if we are taking the average from multiple sensors and one of the sensors is less accurate, then we might downweight the data from that sensor.\n",
    "\n",
    "The data collected does not equally represent the different groups that we are interested in measuring. For example, because of the way an online experiment was conducted, we may not have a set of data that accurately reflects all groups in the user base. To correct that, we can give a higher weight to the values from the groups that were underrepresented."
   ]
  },
  {
   "cell_type": "markdown",
   "metadata": {},
   "source": [
    "## Median and Robust Estimates\n",
    "\n",
    "The __median__ is the middle number on a sorted list of the data. If there is an even number of data values, the middle value is one that is not actually in the data set, but rather the average of the two values that divide the sorted data into upper and lower halves. Compared to the mean, which uses all observations, the median depends only on the values in the center of the sorted data. While this might seem to be a disadvantage, since the mean is much more sensitive to the data, there are many instances in which the median is a better metric for location. Let’s say we want to look at typical household incomes in neighborhoods around Lake Washington in Seattle. In comparing the Medina neighborhood to the Windermere neighborhood, using the mean would produce very different results because Bill Gates lives in Medina. If we use the median, it won’t matter how rich Bill Gates is—the position of the middle observation will remain the same.\n",
    "\n",
    "For the same reasons that one uses a weighted mean, it is also possible to compute a weighted median. As with the median, we first sort the data, although each data value has an associated weight. Instead of the middle number, the weighted median is a value such that the sum of the weights is equal for the lower and upper halves of the sorted list. Like the median, the weighted median is robust to outliers."
   ]
  },
  {
   "cell_type": "markdown",
   "metadata": {},
   "source": [
    "## Outliers\n",
    "The median is referred to as a robust estimate of location since it is not influenced by outliers (extreme cases) that could skew the results. An outlier is any value that is very distant from the other values in a data set. The exact definition of an outlier is somewhat subjective, although certain conventions are used in various data summaries and plots (see “Percentiles and Boxplots”). Being an outlier in itself does not make a data value invalid or erroneous (as in the previous example with Bill Gates). Still, outliers are often the result of data errors such as mixing data of different units (kilometers versus meters) or bad readings from a sensor. When outliers are the result of bad data, the mean will result in a poor estimate of location, while the median will still be valid. In any case, outliers should be identified and are usually worthy of further investigation."
   ]
  },
  {
   "cell_type": "markdown",
   "metadata": {},
   "source": [
    "# Example: Location Estimates of Population and Murder Rates"
   ]
  },
  {
   "cell_type": "code",
   "execution_count": 81,
   "metadata": {},
   "outputs": [
    {
     "name": "stderr",
     "output_type": "stream",
     "text": [
      "┌ Warning: seriestype boxplot has been moved to StatsPlots.  To use: `Pkg.add(\"StatsPlots\"); using StatsPlots`\n",
      "└ @ Plots C:\\Users\\gilju\\.julia\\packages\\Plots\\1KWPG\\src\\args.jl:1595\n",
      "┌ Warning: seriestype boxplot has been moved to StatsPlots.  To use: `Pkg.add(\"StatsPlots\"); using StatsPlots`\n",
      "└ @ Plots C:\\Users\\gilju\\.julia\\packages\\Plots\\1KWPG\\src\\args.jl:1595\n"
     ]
    }
   ],
   "source": [
    "using CSV\n",
    "using Statistics\n",
    "using DataFrames\n",
    "using Plots\n",
    "using StatsBase\n",
    "using Printf\n",
    "using StatsPlots"
   ]
  },
  {
   "cell_type": "code",
   "execution_count": 50,
   "metadata": {},
   "outputs": [
    {
     "data": {
      "text/plain": [
       "display (generic function with 33 methods)"
      ]
     },
     "metadata": {},
     "output_type": "display_data"
    }
   ],
   "source": [
    "# overirdes default scientific notation of display\n",
    "import Base.display\n",
    "\n",
    "# overrides display method to get rid of scientific notation\n",
    "function display(x::Float64)\n",
    "    @printf  \"%.3f\" x\n",
    "\n",
    "end\n"
   ]
  },
  {
   "cell_type": "code",
   "execution_count": 51,
   "metadata": {},
   "outputs": [],
   "source": [
    "df_states = CSV.read(\"state.csv\", DataFrame);"
   ]
  },
  {
   "cell_type": "code",
   "execution_count": 52,
   "metadata": {},
   "outputs": [
    {
     "data": {
      "text/html": [
       "<div class=\"data-frame\"><p>10 rows × 4 columns</p><table class=\"data-frame\"><thead><tr><th></th><th>State</th><th>Population</th><th>Murder.Rate</th><th>Abbreviation</th></tr><tr><th></th><th title=\"String15\">String15</th><th title=\"Int64\">Int64</th><th title=\"Float64\">Float64</th><th title=\"String3\">String3</th></tr></thead><tbody><tr><th>1</th><td>Alabama</td><td>4779736</td><td>5.7</td><td>AL</td></tr><tr><th>2</th><td>Alaska</td><td>710231</td><td>5.6</td><td>AK</td></tr><tr><th>3</th><td>Arizona</td><td>6392017</td><td>4.7</td><td>AZ</td></tr><tr><th>4</th><td>Arkansas</td><td>2915918</td><td>5.6</td><td>AR</td></tr><tr><th>5</th><td>California</td><td>37253956</td><td>4.4</td><td>CA</td></tr><tr><th>6</th><td>Colorado</td><td>5029196</td><td>2.8</td><td>CO</td></tr><tr><th>7</th><td>Connecticut</td><td>3574097</td><td>2.4</td><td>CT</td></tr><tr><th>8</th><td>Delaware</td><td>897934</td><td>5.8</td><td>DE</td></tr><tr><th>9</th><td>Florida</td><td>18801310</td><td>5.8</td><td>FL</td></tr><tr><th>10</th><td>Georgia</td><td>9687653</td><td>5.7</td><td>GA</td></tr></tbody></table></div>"
      ],
      "text/latex": [
       "\\begin{tabular}{r|cccc}\n",
       "\t& State & Population & Murder.Rate & Abbreviation\\\\\n",
       "\t\\hline\n",
       "\t& String15 & Int64 & Float64 & String3\\\\\n",
       "\t\\hline\n",
       "\t1 & Alabama & 4779736 & 5.7 & AL \\\\\n",
       "\t2 & Alaska & 710231 & 5.6 & AK \\\\\n",
       "\t3 & Arizona & 6392017 & 4.7 & AZ \\\\\n",
       "\t4 & Arkansas & 2915918 & 5.6 & AR \\\\\n",
       "\t5 & California & 37253956 & 4.4 & CA \\\\\n",
       "\t6 & Colorado & 5029196 & 2.8 & CO \\\\\n",
       "\t7 & Connecticut & 3574097 & 2.4 & CT \\\\\n",
       "\t8 & Delaware & 897934 & 5.8 & DE \\\\\n",
       "\t9 & Florida & 18801310 & 5.8 & FL \\\\\n",
       "\t10 & Georgia & 9687653 & 5.7 & GA \\\\\n",
       "\\end{tabular}\n"
      ],
      "text/plain": [
       "\u001b[1m10×4 DataFrame\u001b[0m\n",
       "\u001b[1m Row \u001b[0m│\u001b[1m State       \u001b[0m\u001b[1m Population \u001b[0m\u001b[1m Murder.Rate \u001b[0m\u001b[1m Abbreviation \u001b[0m\n",
       "\u001b[1m     \u001b[0m│\u001b[90m String15    \u001b[0m\u001b[90m Int64      \u001b[0m\u001b[90m Float64     \u001b[0m\u001b[90m String3      \u001b[0m\n",
       "─────┼────────────────────────────────────────────────────\n",
       "   1 │ Alabama         4779736          5.7  AL\n",
       "   2 │ Alaska           710231          5.6  AK\n",
       "   3 │ Arizona         6392017          4.7  AZ\n",
       "   4 │ Arkansas        2915918          5.6  AR\n",
       "   5 │ California     37253956          4.4  CA\n",
       "   6 │ Colorado        5029196          2.8  CO\n",
       "   7 │ Connecticut     3574097          2.4  CT\n",
       "   8 │ Delaware         897934          5.8  DE\n",
       "   9 │ Florida        18801310          5.8  FL\n",
       "  10 │ Georgia         9687653          5.7  GA"
      ]
     },
     "metadata": {},
     "output_type": "display_data"
    }
   ],
   "source": [
    "first(df_states, 10)"
   ]
  },
  {
   "cell_type": "markdown",
   "metadata": {},
   "source": [
    "# Mean"
   ]
  },
  {
   "cell_type": "code",
   "execution_count": 53,
   "metadata": {},
   "outputs": [
    {
     "name": "stdout",
     "output_type": "stream",
     "text": [
      "6162876.300"
     ]
    }
   ],
   "source": [
    "a = mean(df_states[!,\"Population\"])"
   ]
  },
  {
   "cell_type": "markdown",
   "metadata": {},
   "source": [
    "# Trimmed Mean"
   ]
  },
  {
   "cell_type": "code",
   "execution_count": 54,
   "metadata": {},
   "outputs": [],
   "source": [
    "# trim largest and smallest values.\n",
    "# drops 10% of the data on each end.\n",
    "\n",
    "mean(StatsBase.trim(df_states[!,\"Population\"], prop=0.1))"
   ]
  },
  {
   "cell_type": "markdown",
   "metadata": {},
   "source": [
    "# median"
   ]
  },
  {
   "cell_type": "code",
   "execution_count": 55,
   "metadata": {},
   "outputs": [
    {
     "name": "stdout",
     "output_type": "stream",
     "text": [
      "4783697.125"
     ]
    },
    {
     "name": "stdout",
     "output_type": "stream",
     "text": [
      "4436369.500"
     ]
    }
   ],
   "source": [
    "median(df_states[!,\"Population\"])"
   ]
  },
  {
   "cell_type": "markdown",
   "metadata": {},
   "source": [
    "## Weighted Mean"
   ]
  },
  {
   "cell_type": "code",
   "execution_count": 67,
   "metadata": {},
   "outputs": [
    {
     "name": "stdout",
     "output_type": "stream",
     "text": [
      "4.446"
     ]
    }
   ],
   "source": [
    "mean(df_states[!,\"Murder.Rate\"], weights(df_states[!, \"Population\"]))"
   ]
  },
  {
   "cell_type": "markdown",
   "metadata": {},
   "source": [
    "# Weighted Median"
   ]
  },
  {
   "cell_type": "code",
   "execution_count": 68,
   "metadata": {},
   "outputs": [
    {
     "name": "stdout",
     "output_type": "stream",
     "text": [
      "4.400"
     ]
    }
   ],
   "source": [
    "median(df_states[!,\"Murder.Rate\"], weights(df_states[!, \"Population\"]))"
   ]
  },
  {
   "cell_type": "markdown",
   "metadata": {},
   "source": [
    "# Estimates of Variability"
   ]
  },
  {
   "cell_type": "markdown",
   "metadata": {},
   "source": [
    "Location is just one dimension in summarizing a feature. A second dimension, variability, also referred to as dispersion, measures whether the data values are tightly clustered or spread out. At the heart of statistics lies variability: measuring it, reducing it, distinguishing random from real variability, identifying the various sources of real variability, and making decisions in the presence of it."
   ]
  },
  {
   "cell_type": "markdown",
   "metadata": {},
   "source": [
    "__Deviations__\n",
    "The difference between the observed values and the estimate of location.\n",
    "\n",
    "Synonyms\n",
    "errors, residuals\n",
    "\n",
    "__Variance__\n",
    "The sum of squared deviations from the mean divided by n – 1 where n is the number of data values.\n",
    "\n",
    "Synonym\n",
    "mean-squared-error\n",
    "\n",
    "__Standard deviation__\n",
    "The square root of the variance."
   ]
  },
  {
   "cell_type": "markdown",
   "metadata": {},
   "source": [
    "__Mean absolute deviation__\n",
    "The mean of the absolute values of the deviations from the mean.\n",
    "\n",
    "Synonyms\n",
    "l1-norm, Manhattan norm\n",
    "\n",
    "__Median absolute deviation from the median__\n",
    "The median of the absolute values of the deviations from the median.\n",
    "\n",
    "__Range__\n",
    "The difference between the largest and the smallest value in a data set.\n",
    "\n",
    "__Order statistics__\n",
    "Metrics based on the data values sorted from smallest to biggest.\n",
    "\n",
    "Synonym\n",
    "ranks"
   ]
  },
  {
   "cell_type": "markdown",
   "metadata": {},
   "source": [
    "__Percentile__\n",
    "The value such that P percent of the values take on this value or less and (100–P) percent take on this value or more.\n",
    "\n",
    "Synonym\n",
    "quantile\n",
    "\n",
    "__Interquartile range__\n",
    "The difference between the 75th percentile and the 25th percentile.\n",
    "\n",
    "Synonym\n",
    "IQR"
   ]
  },
  {
   "cell_type": "markdown",
   "metadata": {},
   "source": [
    "Just as there are different ways to measure location (mean, median, etc.), there are also different ways to measure variability."
   ]
  },
  {
   "cell_type": "markdown",
   "metadata": {},
   "source": [
    "# Standard Deviation and Related Estimates"
   ]
  },
  {
   "cell_type": "markdown",
   "metadata": {},
   "source": [
    "The most widely used estimates of variation are based on the differences, or deviations, between the estimate of location and the observed data. For a set of data {1, 4, 4}, the mean is 3 and the median is 4. The deviations from the mean are the differences: 1 – 3 = –2, 4 – 3 = 1, 4 – 3 = 1. These deviations tell us how dispersed the data is around the central value."
   ]
  },
  {
   "cell_type": "markdown",
   "metadata": {},
   "source": [
    "One way to measure variability is to estimate a typical value for these deviations. Averaging the deviations themselves would not tell us much—the negative deviations offset the positive ones. In fact, the sum of the deviations from the mean is precisely zero. Instead, a simple approach is to take the average of the absolute values of the deviations from the mean. In the preceding example, the absolute value of the deviations is {2 1 1}, and their average is (2 + 1 + 1) / 3 = 1.33"
   ]
  },
  {
   "cell_type": "markdown",
   "metadata": {},
   "source": [
    "The best-known estimates of variability are the variance and the standard deviation, which are based on squared deviations. The variance is an average of the squared deviations, and the standard deviation is the square root of the variance:\n",
    "\n",
    "Variance=s2=∑i=1n(xi−x¯)2n−1Standard deviation=s=Variance\n",
    "The standard deviation is much easier to interpret than the variance since it is on the same scale as the original data. Still, with its more complicated and less intuitive formula, it might seem peculiar that the standard deviation is preferred in statistics over the mean absolute deviation. It owes its preeminence to statistical theory: mathematically, working with squared values is much more convenient than absolute values, especially for statistical models."
   ]
  },
  {
   "cell_type": "code",
   "execution_count": 71,
   "metadata": {},
   "outputs": [
    {
     "name": "stdout",
     "output_type": "stream",
     "text": [
      "6848235.347"
     ]
    }
   ],
   "source": [
    "Statistics.std(df_states[!, \"Population\"])"
   ]
  },
  {
   "cell_type": "markdown",
   "metadata": {},
   "source": [
    "# Estimates Based on Percentiles"
   ]
  },
  {
   "cell_type": "markdown",
   "metadata": {},
   "source": [
    "A different approach to estimating dispersion is based on looking at the spread of the sorted data. Statistics based on sorted (ranked) data are referred to as order statistics. The most basic measure is the range: the difference between the largest and smallest numbers. The minimum and maximum values themselves are useful to know and are helpful in identifying outliers, but the range is extremely sensitive to outliers and not very useful as a general measure of dispersion in the data.\n",
    "\n",
    "To avoid the sensitivity to outliers, we can look at the range of the data after dropping values from each end. Formally, these types of estimates are based on differences between percentiles. In a data set, the Pth percentile is a value such that at least P percent of the values take on this value or less and at least (100 – P) percent of the values take on this value or more. For example, to find the 80th percentile, sort the data. Then, starting with the smallest value, proceed 80 percent of the way to the largest value. Note that the median is the same thing as the 50th percentile. The percentile is essentially the same as a quantile, with quantiles indexed by fractions (so the .8 quantile is the same as the 80th percentile).\n",
    "\n",
    "A common measurement of variability is the difference between the 25th percentile and the 75th percentile, called the interquartile range (or IQR). Here is a simple example: {3,1,5,3,6,7,2,9}. We sort these to get {1,2,3,3,5,6,7,9}. The 25th percentile is at 2.5, and the 75th percentile is at 6.5, so the interquartile range is 6.5 – 2.5 = 4. Software can have slightly differing approaches that yield different answers (see the following tip); typically, these differences are smaller.\n",
    "\n",
    "For very large data sets, calculating exact percentiles can be computationally very expensive since it requires sorting all the data values. Machine learning and statistical software use special algorithms, such as [Zhang-Wang-2007], to get an approximate percentile that can be calculated very quickly and is guaranteed to have a certain accuracy."
   ]
  },
  {
   "cell_type": "code",
   "execution_count": 74,
   "metadata": {},
   "outputs": [
    {
     "name": "stdout",
     "output_type": "stream",
     "text": [
      "4847308.000"
     ]
    }
   ],
   "source": [
    "StatsBase.iqr(df_states[!, \"Population\"])"
   ]
  },
  {
   "cell_type": "markdown",
   "metadata": {},
   "source": [
    "# Median Absolute Deviation from the Median"
   ]
  },
  {
   "cell_type": "code",
   "execution_count": 75,
   "metadata": {},
   "outputs": [
    {
     "name": "stdout",
     "output_type": "stream",
     "text": [
      "3849876.146"
     ]
    }
   ],
   "source": [
    "StatsBase.mad(df_states[!, \"Population\"])"
   ]
  },
  {
   "cell_type": "markdown",
   "metadata": {},
   "source": [
    "# Exploring the Data Distribution"
   ]
  },
  {
   "cell_type": "markdown",
   "metadata": {},
   "source": [
    "Each of the estimates we’ve covered sums up the data in a single number to describe the location or variability of the data. It is also useful to explore how the data is distributed overall.\n"
   ]
  },
  {
   "cell_type": "markdown",
   "metadata": {},
   "source": [
    "## Boxplot\n",
    "A plot introduced by Tukey as a quick way to visualize the distribution of data.\n",
    "\n",
    "Synonym\n",
    "box and whiskers plot"
   ]
  },
  {
   "cell_type": "markdown",
   "metadata": {},
   "source": [
    "## Frequency table\n",
    "A tally of the count of numeric data values that fall into a set of intervals (bins)."
   ]
  },
  {
   "cell_type": "markdown",
   "metadata": {},
   "source": [
    "## Histogram\n",
    "A plot of the frequency table with the bins on the x-axis and the count (or proportion) on the y-axis. While visually similar, bar charts should not be confused with histograms. See “Exploring Binary and Categorical Data” for a discussion of the difference."
   ]
  },
  {
   "cell_type": "markdown",
   "metadata": {},
   "source": [
    "## Density plot\n",
    "A smoothed version of the histogram, often based on a kernel density estimate"
   ]
  },
  {
   "cell_type": "markdown",
   "metadata": {},
   "source": [
    "## Percentiles and Boxplots"
   ]
  },
  {
   "cell_type": "markdown",
   "metadata": {},
   "source": [
    "In “Estimates Based on Percentiles”, we explored how percentiles can be used to measure the spread of the data. Percentiles are also valuable for summarizing the entire distribution. It is common to report the quartiles (25th, 50th, and 75th percentiles) and the deciles (the 10th, 20th, …, 90th percentiles). Percentiles are especially valuable for summarizing the tails (the outer range) of the distribution. Popular culture has coined the term one-percenters to refer to the people in the top 99th percentile of wealth.\n",
    "\n",
    "Table 1-4 displays some percentiles of the murder rate by state. In R, this would be produced by the quantile function"
   ]
  },
  {
   "cell_type": "code",
   "execution_count": 79,
   "metadata": {},
   "outputs": [
    {
     "data": {
      "text/plain": [
       "5-element Vector{Float64}:\n",
       " 1.6\n",
       " 2.425\n",
       " 4.0\n",
       " 5.55\n",
       " 6.51"
      ]
     },
     "metadata": {},
     "output_type": "display_data"
    }
   ],
   "source": [
    "Statistics.quantile(df_states[!, \"Murder.Rate\"], [0.05, 0.25, 0.5, 0.75, 0.95])"
   ]
  },
  {
   "cell_type": "markdown",
   "metadata": {},
   "source": [
    "Boxplots, introduced by Tukey [Tukey-1977], are based on percentiles and give a quick way to visualize the distribution of data. \n",
    "\n",
    "Figure 1-2 shows a boxplot of the population by state produced by R:"
   ]
  },
  {
   "cell_type": "code",
   "execution_count": 82,
   "metadata": {},
   "outputs": [
    {
     "data": {
      "image/png": "[encoded data removed]",
      "image/svg+xml": "<?xml version=\"1.0\" encoding=\"utf-8\"?>\n<svg xmlns=\"http://www.w3.org/2000/svg\" xmlns:xlink=\"http://www.w3.org/1999/xlink\" width=\"600\" height=\"400\" viewBox=\"0 0 2400 1600\">\n<defs>\n  <clipPath id=\"clip020\">\n    <rect x=\"0\" y=\"0\" width=\"2400\" height=\"1600\"/>\n  </clipPath>\n</defs>\n<path clip-path=\"url(#clip020)\" d=\"\nM0 1600 L2400 1600 L2400 0 L0 0  Z\n  \" fill=\"#ffffff\" fill-rule=\"evenodd\" fill-opacity=\"1\"/>\n<defs>\n  <clipPath id=\"clip021\">\n    <rect x=\"480\" y=\"0\" width=\"1681\" height=\"1600\"/>\n  </clipPath>\n</defs>\n<path clip-path=\"url(#clip020)\" d=\"\nM140.696 1486.45 L2352.76 1486.45 L2352.76 47.2441 L140.696 47.2441  Z\n  \" fill=\"#ffffff\" fill-rule=\"evenodd\" fill-opacity=\"1\"/>\n<defs>\n  <clipPath id=\"clip022\">\n    <rect x=\"140\" y=\"47\" width=\"2213\" height=\"1440\"/>\n  </clipPath>\n</defs>\n<polyline clip-path=\"url(#clip022)\" style=\"stroke:#000000; stroke-linecap:butt; stroke-linejoin:round; stroke-width:2; stroke-opacity:0.1; fill:none\" points=\"\n  203.301,1486.45 203.301,47.2441 \n  \"/>\n<polyline clip-path=\"url(#clip022)\" style=\"stroke:#000000; stroke-linecap:butt; stroke-linejoin:round; stroke-width:2; stroke-opacity:0.1; fill:none\" points=\"\n  725.013,1486.45 725.013,47.2441 \n  \"/>\n<polyline clip-path=\"url(#clip022)\" style=\"stroke:#000000; stroke-linecap:butt; stroke-linejoin:round; stroke-width:2; stroke-opacity:0.1; fill:none\" points=\"\n  1246.73,1486.45 1246.73,47.2441 \n  \"/>\n<polyline clip-path=\"url(#clip022)\" style=\"stroke:#000000; stroke-linecap:butt; stroke-linejoin:round; stroke-width:2; stroke-opacity:0.1; fill:none\" points=\"\n  1768.44,1486.45 1768.44,47.2441 \n  \"/>\n<polyline clip-path=\"url(#clip022)\" style=\"stroke:#000000; stroke-linecap:butt; stroke-linejoin:round; stroke-width:2; stroke-opacity:0.1; fill:none\" points=\"\n  2290.15,1486.45 2290.15,47.2441 \n  \"/>\n<polyline clip-path=\"url(#clip020)\" style=\"stroke:#000000; stroke-linecap:butt; stroke-linejoin:round; stroke-width:4; stroke-opacity:1; fill:none\" points=\"\n  140.696,1486.45 2352.76,1486.45 \n  \"/>\n<polyline clip-path=\"url(#clip020)\" style=\"stroke:#000000; stroke-linecap:butt; stroke-linejoin:round; stroke-width:4; stroke-opacity:1; fill:none\" points=\"\n  203.301,1486.45 203.301,1467.55 \n  \"/>\n<polyline clip-path=\"url(#clip020)\" style=\"stroke:#000000; stroke-linecap:butt; stroke-linejoin:round; stroke-width:4; stroke-opacity:1; fill:none\" points=\"\n  725.013,1486.45 725.013,1467.55 \n  \"/>\n<polyline clip-path=\"url(#clip020)\" style=\"stroke:#000000; stroke-linecap:butt; stroke-linejoin:round; stroke-width:4; stroke-opacity:1; fill:none\" points=\"\n  1246.73,1486.45 1246.73,1467.55 \n  \"/>\n<polyline clip-path=\"url(#clip020)\" style=\"stroke:#000000; stroke-linecap:butt; stroke-linejoin:round; stroke-width:4; stroke-opacity:1; fill:none\" points=\"\n  1768.44,1486.45 1768.44,1467.55 \n  \"/>\n<polyline clip-path=\"url(#clip020)\" style=\"stroke:#000000; stroke-linecap:butt; stroke-linejoin:round; stroke-width:4; stroke-opacity:1; fill:none\" points=\"\n  2290.15,1486.45 2290.15,1467.55 \n  \"/>\n<path clip-path=\"url(#clip020)\" d=\"M180.604 1517.37 Q176.993 1517.37 175.165 1520.93 Q173.359 1524.47 173.359 1531.6 Q173.359 1538.71 175.165 1542.27 Q176.993 1545.82 180.604 1545.82 Q184.239 1545.82 186.044 1542.27 Q187.873 1538.71 187.873 1531.6 Q187.873 1524.47 186.044 1520.93 Q184.239 1517.37 180.604 1517.37 M180.604 1513.66 Q186.415 1513.66 189.47 1518.27 Q192.549 1522.85 192.549 1531.6 Q192.549 1540.33 189.47 1544.94 Q186.415 1549.52 180.604 1549.52 Q174.794 1549.52 171.716 1544.94 Q168.66 1540.33 168.66 1531.6 Q168.66 1522.85 171.716 1518.27 Q174.794 1513.66 180.604 1513.66 Z\" fill=\"#000000\" fill-rule=\"evenodd\" fill-opacity=\"1\" /><path clip-path=\"url(#clip020)\" d=\"M200.766 1542.97 L205.651 1542.97 L205.651 1548.85 L200.766 1548.85 L200.766 1542.97 Z\" fill=\"#000000\" fill-rule=\"evenodd\" fill-opacity=\"1\" /><path clip-path=\"url(#clip020)\" d=\"M226.414 1529.7 Q223.266 1529.7 221.414 1531.86 Q219.586 1534.01 219.586 1537.76 Q219.586 1541.49 221.414 1543.66 Q223.266 1545.82 226.414 1545.82 Q229.562 1545.82 231.391 1543.66 Q233.243 1541.49 233.243 1537.76 Q233.243 1534.01 231.391 1531.86 Q229.562 1529.7 226.414 1529.7 M235.697 1515.05 L235.697 1519.31 Q233.937 1518.48 232.132 1518.04 Q230.349 1517.6 228.59 1517.6 Q223.961 1517.6 221.507 1520.72 Q219.076 1523.85 218.729 1530.17 Q220.095 1528.15 222.155 1527.09 Q224.215 1526 226.692 1526 Q231.9 1526 234.91 1529.17 Q237.942 1532.32 237.942 1537.76 Q237.942 1543.08 234.794 1546.3 Q231.646 1549.52 226.414 1549.52 Q220.419 1549.52 217.248 1544.94 Q214.076 1540.33 214.076 1531.6 Q214.076 1523.41 217.965 1518.55 Q221.854 1513.66 228.405 1513.66 Q230.164 1513.66 231.947 1514.01 Q233.752 1514.36 235.697 1515.05 Z\" fill=\"#000000\" fill-rule=\"evenodd\" fill-opacity=\"1\" /><path clip-path=\"url(#clip020)\" d=\"M702.444 1517.37 Q698.833 1517.37 697.004 1520.93 Q695.199 1524.47 695.199 1531.6 Q695.199 1538.71 697.004 1542.27 Q698.833 1545.82 702.444 1545.82 Q706.078 1545.82 707.884 1542.27 Q709.713 1538.71 709.713 1531.6 Q709.713 1524.47 707.884 1520.93 Q706.078 1517.37 702.444 1517.37 M702.444 1513.66 Q708.254 1513.66 711.31 1518.27 Q714.388 1522.85 714.388 1531.6 Q714.388 1540.33 711.31 1544.94 Q708.254 1549.52 702.444 1549.52 Q696.634 1549.52 693.555 1544.94 Q690.5 1540.33 690.5 1531.6 Q690.5 1522.85 693.555 1518.27 Q696.634 1513.66 702.444 1513.66 Z\" fill=\"#000000\" fill-rule=\"evenodd\" fill-opacity=\"1\" /><path clip-path=\"url(#clip020)\" d=\"M722.606 1542.97 L727.49 1542.97 L727.49 1548.85 L722.606 1548.85 L722.606 1542.97 Z\" fill=\"#000000\" fill-rule=\"evenodd\" fill-opacity=\"1\" /><path clip-path=\"url(#clip020)\" d=\"M747.675 1532.44 Q744.342 1532.44 742.421 1534.22 Q740.523 1536 740.523 1539.13 Q740.523 1542.25 742.421 1544.03 Q744.342 1545.82 747.675 1545.82 Q751.009 1545.82 752.93 1544.03 Q754.851 1542.23 754.851 1539.13 Q754.851 1536 752.93 1534.22 Q751.032 1532.44 747.675 1532.44 M742.999 1530.45 Q739.99 1529.7 738.3 1527.64 Q736.634 1525.58 736.634 1522.62 Q736.634 1518.48 739.573 1516.07 Q742.536 1513.66 747.675 1513.66 Q752.837 1513.66 755.777 1516.07 Q758.717 1518.48 758.717 1522.62 Q758.717 1525.58 757.027 1527.64 Q755.36 1529.7 752.374 1530.45 Q755.754 1531.23 757.629 1533.52 Q759.527 1535.82 759.527 1539.13 Q759.527 1544.15 756.448 1546.83 Q753.393 1549.52 747.675 1549.52 Q741.958 1549.52 738.879 1546.83 Q735.824 1544.15 735.824 1539.13 Q735.824 1535.82 737.722 1533.52 Q739.62 1531.23 742.999 1530.45 M741.286 1523.06 Q741.286 1525.75 742.953 1527.25 Q744.643 1528.76 747.675 1528.76 Q750.685 1528.76 752.374 1527.25 Q754.087 1525.75 754.087 1523.06 Q754.087 1520.38 752.374 1518.87 Q750.685 1517.37 747.675 1517.37 Q744.643 1517.37 742.953 1518.87 Q741.286 1520.38 741.286 1523.06 Z\" fill=\"#000000\" fill-rule=\"evenodd\" fill-opacity=\"1\" /><path clip-path=\"url(#clip020)\" d=\"M1213.88 1544.91 L1221.52 1544.91 L1221.52 1518.55 L1213.21 1520.21 L1213.21 1515.95 L1221.47 1514.29 L1226.15 1514.29 L1226.15 1544.91 L1233.79 1544.91 L1233.79 1548.85 L1213.88 1548.85 L1213.88 1544.91 Z\" fill=\"#000000\" fill-rule=\"evenodd\" fill-opacity=\"1\" /><path clip-path=\"url(#clip020)\" d=\"M1243.23 1542.97 L1248.11 1542.97 L1248.11 1548.85 L1243.23 1548.85 L1243.23 1542.97 Z\" fill=\"#000000\" fill-rule=\"evenodd\" fill-opacity=\"1\" /><path clip-path=\"url(#clip020)\" d=\"M1268.3 1517.37 Q1264.69 1517.37 1262.86 1520.93 Q1261.05 1524.47 1261.05 1531.6 Q1261.05 1538.71 1262.86 1542.27 Q1264.69 1545.82 1268.3 1545.82 Q1271.93 1545.82 1273.74 1542.27 Q1275.57 1538.71 1275.57 1531.6 Q1275.57 1524.47 1273.74 1520.93 Q1271.93 1517.37 1268.3 1517.37 M1268.3 1513.66 Q1274.11 1513.66 1277.17 1518.27 Q1280.24 1522.85 1280.24 1531.6 Q1280.24 1540.33 1277.17 1544.94 Q1274.11 1549.52 1268.3 1549.52 Q1262.49 1549.52 1259.41 1544.94 Q1256.36 1540.33 1256.36 1531.6 Q1256.36 1522.85 1259.41 1518.27 Q1262.49 1513.66 1268.3 1513.66 Z\" fill=\"#000000\" fill-rule=\"evenodd\" fill-opacity=\"1\" /><path clip-path=\"url(#clip020)\" d=\"M1736.39 1544.91 L1744.03 1544.91 L1744.03 1518.55 L1735.72 1520.21 L1735.72 1515.95 L1743.98 1514.29 L1748.66 1514.29 L1748.66 1544.91 L1756.3 1544.91 L1756.3 1548.85 L1736.39 1548.85 L1736.39 1544.91 Z\" fill=\"#000000\" fill-rule=\"evenodd\" fill-opacity=\"1\" /><path clip-path=\"url(#clip020)\" d=\"M1765.74 1542.97 L1770.63 1542.97 L1770.63 1548.85 L1765.74 1548.85 L1765.74 1542.97 Z\" fill=\"#000000\" fill-rule=\"evenodd\" fill-opacity=\"1\" /><path clip-path=\"url(#clip020)\" d=\"M1784.84 1544.91 L1801.16 1544.91 L1801.16 1548.85 L1779.21 1548.85 L1779.21 1544.91 Q1781.88 1542.16 1786.46 1537.53 Q1791.07 1532.88 1792.25 1531.53 Q1794.49 1529.01 1795.37 1527.27 Q1796.27 1525.51 1796.27 1523.82 Q1796.27 1521.07 1794.33 1519.33 Q1792.41 1517.6 1789.31 1517.6 Q1787.11 1517.6 1784.65 1518.36 Q1782.22 1519.13 1779.44 1520.68 L1779.44 1515.95 Q1782.27 1514.82 1784.72 1514.24 Q1787.18 1513.66 1789.21 1513.66 Q1794.58 1513.66 1797.78 1516.35 Q1800.97 1519.03 1800.97 1523.52 Q1800.97 1525.65 1800.16 1527.57 Q1799.38 1529.47 1797.27 1532.07 Q1796.69 1532.74 1793.59 1535.95 Q1790.49 1539.15 1784.84 1544.91 Z\" fill=\"#000000\" fill-rule=\"evenodd\" fill-opacity=\"1\" /><path clip-path=\"url(#clip020)\" d=\"M2257.06 1544.91 L2264.7 1544.91 L2264.7 1518.55 L2256.39 1520.21 L2256.39 1515.95 L2264.65 1514.29 L2269.33 1514.29 L2269.33 1544.91 L2276.97 1544.91 L2276.97 1548.85 L2257.06 1548.85 L2257.06 1544.91 Z\" fill=\"#000000\" fill-rule=\"evenodd\" fill-opacity=\"1\" /><path clip-path=\"url(#clip020)\" d=\"M2286.41 1542.97 L2291.3 1542.97 L2291.3 1548.85 L2286.41 1548.85 L2286.41 1542.97 Z\" fill=\"#000000\" fill-rule=\"evenodd\" fill-opacity=\"1\" /><path clip-path=\"url(#clip020)\" d=\"M2314.33 1518.36 L2302.52 1536.81 L2314.33 1536.81 L2314.33 1518.36 M2313.1 1514.29 L2318.98 1514.29 L2318.98 1536.81 L2323.91 1536.81 L2323.91 1540.7 L2318.98 1540.7 L2318.98 1548.85 L2314.33 1548.85 L2314.33 1540.7 L2298.73 1540.7 L2298.73 1536.19 L2313.1 1514.29 Z\" fill=\"#000000\" fill-rule=\"evenodd\" fill-opacity=\"1\" /><polyline clip-path=\"url(#clip022)\" style=\"stroke:#000000; stroke-linecap:butt; stroke-linejoin:round; stroke-width:2; stroke-opacity:0.1; fill:none\" points=\"\n  140.696,1466.57 2352.76,1466.57 \n  \"/>\n<polyline clip-path=\"url(#clip022)\" style=\"stroke:#000000; stroke-linecap:butt; stroke-linejoin:round; stroke-width:2; stroke-opacity:0.1; fill:none\" points=\"\n  140.696,1096.52 2352.76,1096.52 \n  \"/>\n<polyline clip-path=\"url(#clip022)\" style=\"stroke:#000000; stroke-linecap:butt; stroke-linejoin:round; stroke-width:2; stroke-opacity:0.1; fill:none\" points=\"\n  140.696,726.465 2352.76,726.465 \n  \"/>\n<polyline clip-path=\"url(#clip022)\" style=\"stroke:#000000; stroke-linecap:butt; stroke-linejoin:round; stroke-width:2; stroke-opacity:0.1; fill:none\" points=\"\n  140.696,356.412 2352.76,356.412 \n  \"/>\n<polyline clip-path=\"url(#clip020)\" style=\"stroke:#000000; stroke-linecap:butt; stroke-linejoin:round; stroke-width:4; stroke-opacity:1; fill:none\" points=\"\n  140.696,1486.45 140.696,47.2441 \n  \"/>\n<polyline clip-path=\"url(#clip020)\" style=\"stroke:#000000; stroke-linecap:butt; stroke-linejoin:round; stroke-width:4; stroke-opacity:1; fill:none\" points=\"\n  140.696,1466.57 159.593,1466.57 \n  \"/>\n<polyline clip-path=\"url(#clip020)\" style=\"stroke:#000000; stroke-linecap:butt; stroke-linejoin:round; stroke-width:4; stroke-opacity:1; fill:none\" points=\"\n  140.696,1096.52 159.593,1096.52 \n  \"/>\n<polyline clip-path=\"url(#clip020)\" style=\"stroke:#000000; stroke-linecap:butt; stroke-linejoin:round; stroke-width:4; stroke-opacity:1; fill:none\" points=\"\n  140.696,726.465 159.593,726.465 \n  \"/>\n<polyline clip-path=\"url(#clip020)\" style=\"stroke:#000000; stroke-linecap:butt; stroke-linejoin:round; stroke-width:4; stroke-opacity:1; fill:none\" points=\"\n  140.696,356.412 159.593,356.412 \n  \"/>\n<path clip-path=\"url(#clip020)\" d=\"M92.7512 1452.37 Q89.1401 1452.37 87.3114 1455.94 Q85.5058 1459.48 85.5058 1466.61 Q85.5058 1473.71 87.3114 1477.28 Q89.1401 1480.82 92.7512 1480.82 Q96.3854 1480.82 98.1909 1477.28 Q100.02 1473.71 100.02 1466.61 Q100.02 1459.48 98.1909 1455.94 Q96.3854 1452.37 92.7512 1452.37 M92.7512 1448.67 Q98.5613 1448.67 101.617 1453.27 Q104.696 1457.86 104.696 1466.61 Q104.696 1475.33 101.617 1479.94 Q98.5613 1484.52 92.7512 1484.52 Q86.941 1484.52 83.8623 1479.94 Q80.8068 1475.33 80.8068 1466.61 Q80.8068 1457.86 83.8623 1453.27 Q86.941 1448.67 92.7512 1448.67 Z\" fill=\"#000000\" fill-rule=\"evenodd\" fill-opacity=\"1\" /><path clip-path=\"url(#clip020)\" d=\"M53.3995 1109.86 L61.0384 1109.86 L61.0384 1083.5 L52.7282 1085.17 L52.7282 1080.91 L60.9921 1079.24 L65.668 1079.24 L65.668 1109.86 L73.3068 1109.86 L73.3068 1113.8 L53.3995 1113.8 L53.3995 1109.86 Z\" fill=\"#000000\" fill-rule=\"evenodd\" fill-opacity=\"1\" /><path clip-path=\"url(#clip020)\" d=\"M92.7512 1082.32 Q89.1401 1082.32 87.3114 1085.88 Q85.5058 1089.42 85.5058 1096.55 Q85.5058 1103.66 87.3114 1107.23 Q89.1401 1110.77 92.7512 1110.77 Q96.3854 1110.77 98.1909 1107.23 Q100.02 1103.66 100.02 1096.55 Q100.02 1089.42 98.1909 1085.88 Q96.3854 1082.32 92.7512 1082.32 M92.7512 1078.61 Q98.5613 1078.61 101.617 1083.22 Q104.696 1087.8 104.696 1096.55 Q104.696 1105.28 101.617 1109.89 Q98.5613 1114.47 92.7512 1114.47 Q86.941 1114.47 83.8623 1109.89 Q80.8068 1105.28 80.8068 1096.55 Q80.8068 1087.8 83.8623 1083.22 Q86.941 1078.61 92.7512 1078.61 Z\" fill=\"#000000\" fill-rule=\"evenodd\" fill-opacity=\"1\" /><path clip-path=\"url(#clip020)\" d=\"M56.6171 739.81 L72.9365 739.81 L72.9365 743.745 L50.9921 743.745 L50.9921 739.81 Q53.6541 737.056 58.2375 732.426 Q62.8439 727.773 64.0245 726.431 Q66.2698 723.908 67.1494 722.171 Q68.0522 720.412 68.0522 718.722 Q68.0522 715.968 66.1078 714.232 Q64.1865 712.496 61.0847 712.496 Q58.8856 712.496 56.4319 713.259 Q54.0014 714.023 51.2236 715.574 L51.2236 710.852 Q54.0477 709.718 56.5014 709.139 Q58.955 708.56 60.9921 708.56 Q66.3624 708.56 69.5568 711.246 Q72.7513 713.931 72.7513 718.421 Q72.7513 720.551 71.9411 722.472 Q71.1541 724.37 69.0476 726.963 Q68.4689 727.634 65.367 730.852 Q62.2652 734.046 56.6171 739.81 Z\" fill=\"#000000\" fill-rule=\"evenodd\" fill-opacity=\"1\" /><path clip-path=\"url(#clip020)\" d=\"M92.7512 712.264 Q89.1401 712.264 87.3114 715.829 Q85.5058 719.371 85.5058 726.5 Q85.5058 733.607 87.3114 737.171 Q89.1401 740.713 92.7512 740.713 Q96.3854 740.713 98.1909 737.171 Q100.02 733.607 100.02 726.5 Q100.02 719.371 98.1909 715.829 Q96.3854 712.264 92.7512 712.264 M92.7512 708.56 Q98.5613 708.56 101.617 713.167 Q104.696 717.75 104.696 726.5 Q104.696 735.227 101.617 739.833 Q98.5613 744.417 92.7512 744.417 Q86.941 744.417 83.8623 739.833 Q80.8068 735.227 80.8068 726.5 Q80.8068 717.75 83.8623 713.167 Q86.941 708.56 92.7512 708.56 Z\" fill=\"#000000\" fill-rule=\"evenodd\" fill-opacity=\"1\" /><path clip-path=\"url(#clip020)\" d=\"M66.7559 355.057 Q70.1124 355.775 71.9874 358.044 Q73.8855 360.312 73.8855 363.645 Q73.8855 368.761 70.367 371.562 Q66.8485 374.363 60.3671 374.363 Q58.1912 374.363 55.8764 373.923 Q53.5847 373.506 51.131 372.65 L51.131 368.136 Q53.0754 369.27 55.3903 369.849 Q57.7051 370.428 60.2282 370.428 Q64.6263 370.428 66.918 368.692 Q69.2328 366.956 69.2328 363.645 Q69.2328 360.59 67.08 358.877 Q64.9504 357.141 61.131 357.141 L57.1032 357.141 L57.1032 353.298 L61.3161 353.298 Q64.7652 353.298 66.5939 351.932 Q68.4226 350.544 68.4226 347.951 Q68.4226 345.289 66.5245 343.877 Q64.6495 342.442 61.131 342.442 Q59.2097 342.442 57.0106 342.858 Q54.8115 343.275 52.1727 344.155 L52.1727 339.988 Q54.8347 339.247 57.1495 338.877 Q59.4875 338.507 61.5476 338.507 Q66.8717 338.507 69.9735 340.937 Q73.0753 343.345 73.0753 347.465 Q73.0753 350.335 71.4318 352.326 Q69.7883 354.294 66.7559 355.057 Z\" fill=\"#000000\" fill-rule=\"evenodd\" fill-opacity=\"1\" /><path clip-path=\"url(#clip020)\" d=\"M92.7512 342.21 Q89.1401 342.21 87.3114 345.775 Q85.5058 349.317 85.5058 356.446 Q85.5058 363.553 87.3114 367.118 Q89.1401 370.659 92.7512 370.659 Q96.3854 370.659 98.1909 367.118 Q100.02 363.553 100.02 356.446 Q100.02 349.317 98.1909 345.775 Q96.3854 342.21 92.7512 342.21 M92.7512 338.507 Q98.5613 338.507 101.617 343.113 Q104.696 347.696 104.696 356.446 Q104.696 365.173 101.617 369.78 Q98.5613 374.363 92.7512 374.363 Q86.941 374.363 83.8623 369.78 Q80.8068 365.173 80.8068 356.446 Q80.8068 347.696 83.8623 343.113 Q86.941 338.507 92.7512 338.507 Z\" fill=\"#000000\" fill-rule=\"evenodd\" fill-opacity=\"1\" /><path clip-path=\"url(#clip022)\" d=\"\nM1246.73 1445.72 L725.013 1445.72 L1768.44 1445.72 L1246.73 1445.72 L1246.73 1398.74 L1246.73 1445.72  Z\n  \" fill=\"#009af9\" fill-rule=\"evenodd\" fill-opacity=\"1\"/>\n<polyline clip-path=\"url(#clip022)\" style=\"stroke:#000000; stroke-linecap:butt; stroke-linejoin:round; stroke-width:4; stroke-opacity:1; fill:none\" points=\"\n  1246.73,1445.72 725.013,1445.72 1768.44,1445.72 1246.73,1445.72 1246.73,1398.74 1246.73,1445.72 \n  \"/>\n<path clip-path=\"url(#clip022)\" d=\"\nM2290.15 1398.74 L2290.15 1302.4 L203.301 1302.4 L203.301 1398.74 L2290.15 1398.74 L2290.15 1302.4 L2290.15 1398.74  Z\n  \" fill=\"#009af9\" fill-rule=\"evenodd\" fill-opacity=\"1\"/>\n<polyline clip-path=\"url(#clip022)\" style=\"stroke:#000000; stroke-linecap:butt; stroke-linejoin:round; stroke-width:4; stroke-opacity:1; fill:none\" points=\"\n  2290.15,1398.74 2290.15,1302.4 203.301,1302.4 203.301,1398.74 2290.15,1398.74 2290.15,1302.4 2290.15,1398.74 \n  \"/>\n<path clip-path=\"url(#clip022)\" d=\"\nM2290.15 1219.37 L203.301 1219.37 L203.301 1302.4 L2290.15 1302.4 L2290.15 1219.37 L1246.73 1219.37 L2290.15 1219.37  Z\n  \" fill=\"#009af9\" fill-rule=\"evenodd\" fill-opacity=\"1\"/>\n<polyline clip-path=\"url(#clip022)\" style=\"stroke:#000000; stroke-linecap:butt; stroke-linejoin:round; stroke-width:4; stroke-opacity:1; fill:none\" points=\"\n  2290.15,1219.37 203.301,1219.37 203.301,1302.4 2290.15,1302.4 2290.15,1219.37 1246.73,1219.37 2290.15,1219.37 \n  \"/>\n<path clip-path=\"url(#clip022)\" d=\"\nM1246.73 991.771 L725.013 991.771 L1768.44 991.771 L1246.73 991.771 L1246.73 1219.37 L1246.73 991.771  Z\n  \" fill=\"#009af9\" fill-rule=\"evenodd\" fill-opacity=\"1\"/>\n<polyline clip-path=\"url(#clip022)\" style=\"stroke:#000000; stroke-linecap:butt; stroke-linejoin:round; stroke-width:4; stroke-opacity:1; fill:none\" points=\"\n  1246.73,991.771 725.013,991.771 1768.44,991.771 1246.73,991.771 1246.73,1219.37 1246.73,991.771 \n  \"/>\n<circle clip-path=\"url(#clip022)\" cx=\"1246.73\" cy=\"87.9763\" r=\"14\" fill=\"#009af9\" fill-rule=\"evenodd\" fill-opacity=\"1\" stroke=\"#000000\" stroke-opacity=\"1\" stroke-width=\"3.2\"/>\n<circle clip-path=\"url(#clip022)\" cx=\"1246.73\" cy=\"770.823\" r=\"14\" fill=\"#009af9\" fill-rule=\"evenodd\" fill-opacity=\"1\" stroke=\"#000000\" stroke-opacity=\"1\" stroke-width=\"3.2\"/>\n<circle clip-path=\"url(#clip022)\" cx=\"1246.73\" cy=\"749.479\" r=\"14\" fill=\"#009af9\" fill-rule=\"evenodd\" fill-opacity=\"1\" stroke=\"#000000\" stroke-opacity=\"1\" stroke-width=\"3.2\"/>\n<circle clip-path=\"url(#clip022)\" cx=\"1246.73\" cy=\"536.052\" r=\"14\" fill=\"#009af9\" fill-rule=\"evenodd\" fill-opacity=\"1\" stroke=\"#000000\" stroke-opacity=\"1\" stroke-width=\"3.2\"/>\n<polyline clip-path=\"url(#clip022)\" style=\"stroke:#009af9; stroke-linecap:butt; stroke-linejoin:round; stroke-width:0; stroke-opacity:1; fill:none\" points=\"\n  1246.73,1445.72 725.013,1445.72 1768.44,1445.72 1246.73,1445.72 1246.73,1398.74 \n  \"/>\n<polyline clip-path=\"url(#clip022)\" style=\"stroke:#009af9; stroke-linecap:butt; stroke-linejoin:round; stroke-width:0; stroke-opacity:1; fill:none\" points=\"\n  2290.15,1398.74 2290.15,1302.4 203.301,1302.4 203.301,1398.74 2290.15,1398.74 2290.15,1302.4 \n  \"/>\n<polyline clip-path=\"url(#clip022)\" style=\"stroke:#009af9; stroke-linecap:butt; stroke-linejoin:round; stroke-width:0; stroke-opacity:1; fill:none\" points=\"\n  2290.15,1219.37 203.301,1219.37 203.301,1302.4 2290.15,1302.4 2290.15,1219.37 1246.73,1219.37 \n  \"/>\n<polyline clip-path=\"url(#clip022)\" style=\"stroke:#009af9; stroke-linecap:butt; stroke-linejoin:round; stroke-width:0; stroke-opacity:1; fill:none\" points=\"\n  1246.73,991.771 725.013,991.771 1768.44,991.771 1246.73,991.771 1246.73,1219.37 \n  \"/>\n<path clip-path=\"url(#clip020)\" d=\"\nM1980.81 198.898 L2279.02 198.898 L2279.02 95.2176 L1980.81 95.2176  Z\n  \" fill=\"#ffffff\" fill-rule=\"evenodd\" fill-opacity=\"1\"/>\n<polyline clip-path=\"url(#clip020)\" style=\"stroke:#000000; stroke-linecap:butt; stroke-linejoin:round; stroke-width:4; stroke-opacity:1; fill:none\" points=\"\n  1980.81,198.898 2279.02,198.898 2279.02,95.2176 1980.81,95.2176 1980.81,198.898 \n  \"/>\n<path clip-path=\"url(#clip020)\" d=\"\nM2005.38 167.794 L2152.85 167.794 L2152.85 126.322 L2005.38 126.322 L2005.38 167.794  Z\n  \" fill=\"#009af9\" fill-rule=\"evenodd\" fill-opacity=\"1\"/>\n<polyline clip-path=\"url(#clip020)\" style=\"stroke:#000000; stroke-linecap:butt; stroke-linejoin:round; stroke-width:4; stroke-opacity:1; fill:none\" points=\"\n  2005.38,167.794 2152.85,167.794 2152.85,126.322 2005.38,126.322 2005.38,167.794 \n  \"/>\n<path clip-path=\"url(#clip020)\" d=\"M2191.28 166.745 Q2189.47 171.375 2187.76 172.787 Q2186.04 174.199 2183.17 174.199 L2179.77 174.199 L2179.77 170.634 L2182.27 170.634 Q2184.03 170.634 2185 169.8 Q2185.98 168.967 2187.16 165.865 L2187.92 163.921 L2177.43 138.412 L2181.95 138.412 L2190.05 158.689 L2198.15 138.412 L2202.66 138.412 L2191.28 166.745 Z\" fill=\"#000000\" fill-rule=\"evenodd\" fill-opacity=\"1\" /><path clip-path=\"url(#clip020)\" d=\"M2209.96 160.402 L2217.6 160.402 L2217.6 134.037 L2209.29 135.703 L2209.29 131.444 L2217.55 129.778 L2222.22 129.778 L2222.22 160.402 L2229.86 160.402 L2229.86 164.338 L2209.96 164.338 L2209.96 160.402 Z\" fill=\"#000000\" fill-rule=\"evenodd\" fill-opacity=\"1\" /></svg>\n",
      "text/html": [
       "<?xml version=\"1.0\" encoding=\"utf-8\"?>\n",
       "<svg xmlns=\"http://www.w3.org/2000/svg\" xmlns:xlink=\"http://www.w3.org/1999/xlink\" width=\"600\" height=\"400\" viewBox=\"0 0 2400 1600\">\n",
       "<defs>\n",
       "  <clipPath id=\"clip070\">\n",
       "    <rect x=\"0\" y=\"0\" width=\"2400\" height=\"1600\"/>\n",
       "  </clipPath>\n",
       "</defs>\n",
       "<path clip-path=\"url(#clip070)\" d=\"\n",
       "M0 1600 L2400 1600 L2400 0 L0 0  Z\n",
       "  \" fill=\"#ffffff\" fill-rule=\"evenodd\" fill-opacity=\"1\"/>\n",
       "<defs>\n",
       "  <clipPath id=\"clip071\">\n",
       "    <rect x=\"480\" y=\"0\" width=\"1681\" height=\"1600\"/>\n",
       "  </clipPath>\n",
       "</defs>\n",
       "<path clip-path=\"url(#clip070)\" d=\"\n",
       "M140.696 1486.45 L2352.76 1486.45 L2352.76 47.2441 L140.696 47.2441  Z\n",
       "  \" fill=\"#ffffff\" fill-rule=\"evenodd\" fill-opacity=\"1\"/>\n",
       "<defs>\n",
       "  <clipPath id=\"clip072\">\n",
       "    <rect x=\"140\" y=\"47\" width=\"2213\" height=\"1440\"/>\n",
       "  </clipPath>\n",
       "</defs>\n",
       "<polyline clip-path=\"url(#clip072)\" style=\"stroke:#000000; stroke-linecap:butt; stroke-linejoin:round; stroke-width:2; stroke-opacity:0.1; fill:none\" points=\"\n",
       "  203.301,1486.45 203.301,47.2441 \n",
       "  \"/>\n",
       "<polyline clip-path=\"url(#clip072)\" style=\"stroke:#000000; stroke-linecap:butt; stroke-linejoin:round; stroke-width:2; stroke-opacity:0.1; fill:none\" points=\"\n",
       "  725.013,1486.45 725.013,47.2441 \n",
       "  \"/>\n",
       "<polyline clip-path=\"url(#clip072)\" style=\"stroke:#000000; stroke-linecap:butt; stroke-linejoin:round; stroke-width:2; stroke-opacity:0.1; fill:none\" points=\"\n",
       "  1246.73,1486.45 1246.73,47.2441 \n",
       "  \"/>\n",
       "<polyline clip-path=\"url(#clip072)\" style=\"stroke:#000000; stroke-linecap:butt; stroke-linejoin:round; stroke-width:2; stroke-opacity:0.1; fill:none\" points=\"\n",
       "  1768.44,1486.45 1768.44,47.2441 \n",
       "  \"/>\n",
       "<polyline clip-path=\"url(#clip072)\" style=\"stroke:#000000; stroke-linecap:butt; stroke-linejoin:round; stroke-width:2; stroke-opacity:0.1; fill:none\" points=\"\n",
       "  2290.15,1486.45 2290.15,47.2441 \n",
       "  \"/>\n",
       "<polyline clip-path=\"url(#clip070)\" style=\"stroke:#000000; stroke-linecap:butt; stroke-linejoin:round; stroke-width:4; stroke-opacity:1; fill:none\" points=\"\n",
       "  140.696,1486.45 2352.76,1486.45 \n",
       "  \"/>\n",
       "<polyline clip-path=\"url(#clip070)\" style=\"stroke:#000000; stroke-linecap:butt; stroke-linejoin:round; stroke-width:4; stroke-opacity:1; fill:none\" points=\"\n",
       "  203.301,1486.45 203.301,1467.55 \n",
       "  \"/>\n",
       "<polyline clip-path=\"url(#clip070)\" style=\"stroke:#000000; stroke-linecap:butt; stroke-linejoin:round; stroke-width:4; stroke-opacity:1; fill:none\" points=\"\n",
       "  725.013,1486.45 725.013,1467.55 \n",
       "  \"/>\n",
       "<polyline clip-path=\"url(#clip070)\" style=\"stroke:#000000; stroke-linecap:butt; stroke-linejoin:round; stroke-width:4; stroke-opacity:1; fill:none\" points=\"\n",
       "  1246.73,1486.45 1246.73,1467.55 \n",
       "  \"/>\n",
       "<polyline clip-path=\"url(#clip070)\" style=\"stroke:#000000; stroke-linecap:butt; stroke-linejoin:round; stroke-width:4; stroke-opacity:1; fill:none\" points=\"\n",
       "  1768.44,1486.45 1768.44,1467.55 \n",
       "  \"/>\n",
       "<polyline clip-path=\"url(#clip070)\" style=\"stroke:#000000; stroke-linecap:butt; stroke-linejoin:round; stroke-width:4; stroke-opacity:1; fill:none\" points=\"\n",
       "  2290.15,1486.45 2290.15,1467.55 \n",
       "  \"/>\n",
       "<path clip-path=\"url(#clip070)\" d=\"M180.604 1517.37 Q176.993 1517.37 175.165 1520.93 Q173.359 1524.47 173.359 1531.6 Q173.359 1538.71 175.165 1542.27 Q176.993 1545.82 180.604 1545.82 Q184.239 1545.82 186.044 1542.27 Q187.873 1538.71 187.873 1531.6 Q187.873 1524.47 186.044 1520.93 Q184.239 1517.37 180.604 1517.37 M180.604 1513.66 Q186.415 1513.66 189.47 1518.27 Q192.549 1522.85 192.549 1531.6 Q192.549 1540.33 189.47 1544.94 Q186.415 1549.52 180.604 1549.52 Q174.794 1549.52 171.716 1544.94 Q168.66 1540.33 168.66 1531.6 Q168.66 1522.85 171.716 1518.27 Q174.794 1513.66 180.604 1513.66 Z\" fill=\"#000000\" fill-rule=\"evenodd\" fill-opacity=\"1\" /><path clip-path=\"url(#clip070)\" d=\"M200.766 1542.97 L205.651 1542.97 L205.651 1548.85 L200.766 1548.85 L200.766 1542.97 Z\" fill=\"#000000\" fill-rule=\"evenodd\" fill-opacity=\"1\" /><path clip-path=\"url(#clip070)\" d=\"M226.414 1529.7 Q223.266 1529.7 221.414 1531.86 Q219.586 1534.01 219.586 1537.76 Q219.586 1541.49 221.414 1543.66 Q223.266 1545.82 226.414 1545.82 Q229.562 1545.82 231.391 1543.66 Q233.243 1541.49 233.243 1537.76 Q233.243 1534.01 231.391 1531.86 Q229.562 1529.7 226.414 1529.7 M235.697 1515.05 L235.697 1519.31 Q233.937 1518.48 232.132 1518.04 Q230.349 1517.6 228.59 1517.6 Q223.961 1517.6 221.507 1520.72 Q219.076 1523.85 218.729 1530.17 Q220.095 1528.15 222.155 1527.09 Q224.215 1526 226.692 1526 Q231.9 1526 234.91 1529.17 Q237.942 1532.32 237.942 1537.76 Q237.942 1543.08 234.794 1546.3 Q231.646 1549.52 226.414 1549.52 Q220.419 1549.52 217.248 1544.94 Q214.076 1540.33 214.076 1531.6 Q214.076 1523.41 217.965 1518.55 Q221.854 1513.66 228.405 1513.66 Q230.164 1513.66 231.947 1514.01 Q233.752 1514.36 235.697 1515.05 Z\" fill=\"#000000\" fill-rule=\"evenodd\" fill-opacity=\"1\" /><path clip-path=\"url(#clip070)\" d=\"M702.444 1517.37 Q698.833 1517.37 697.004 1520.93 Q695.199 1524.47 695.199 1531.6 Q695.199 1538.71 697.004 1542.27 Q698.833 1545.82 702.444 1545.82 Q706.078 1545.82 707.884 1542.27 Q709.713 1538.71 709.713 1531.6 Q709.713 1524.47 707.884 1520.93 Q706.078 1517.37 702.444 1517.37 M702.444 1513.66 Q708.254 1513.66 711.31 1518.27 Q714.388 1522.85 714.388 1531.6 Q714.388 1540.33 711.31 1544.94 Q708.254 1549.52 702.444 1549.52 Q696.634 1549.52 693.555 1544.94 Q690.5 1540.33 690.5 1531.6 Q690.5 1522.85 693.555 1518.27 Q696.634 1513.66 702.444 1513.66 Z\" fill=\"#000000\" fill-rule=\"evenodd\" fill-opacity=\"1\" /><path clip-path=\"url(#clip070)\" d=\"M722.606 1542.97 L727.49 1542.97 L727.49 1548.85 L722.606 1548.85 L722.606 1542.97 Z\" fill=\"#000000\" fill-rule=\"evenodd\" fill-opacity=\"1\" /><path clip-path=\"url(#clip070)\" d=\"M747.675 1532.44 Q744.342 1532.44 742.421 1534.22 Q740.523 1536 740.523 1539.13 Q740.523 1542.25 742.421 1544.03 Q744.342 1545.82 747.675 1545.82 Q751.009 1545.82 752.93 1544.03 Q754.851 1542.23 754.851 1539.13 Q754.851 1536 752.93 1534.22 Q751.032 1532.44 747.675 1532.44 M742.999 1530.45 Q739.99 1529.7 738.3 1527.64 Q736.634 1525.58 736.634 1522.62 Q736.634 1518.48 739.573 1516.07 Q742.536 1513.66 747.675 1513.66 Q752.837 1513.66 755.777 1516.07 Q758.717 1518.48 758.717 1522.62 Q758.717 1525.58 757.027 1527.64 Q755.36 1529.7 752.374 1530.45 Q755.754 1531.23 757.629 1533.52 Q759.527 1535.82 759.527 1539.13 Q759.527 1544.15 756.448 1546.83 Q753.393 1549.52 747.675 1549.52 Q741.958 1549.52 738.879 1546.83 Q735.824 1544.15 735.824 1539.13 Q735.824 1535.82 737.722 1533.52 Q739.62 1531.23 742.999 1530.45 M741.286 1523.06 Q741.286 1525.75 742.953 1527.25 Q744.643 1528.76 747.675 1528.76 Q750.685 1528.76 752.374 1527.25 Q754.087 1525.75 754.087 1523.06 Q754.087 1520.38 752.374 1518.87 Q750.685 1517.37 747.675 1517.37 Q744.643 1517.37 742.953 1518.87 Q741.286 1520.38 741.286 1523.06 Z\" fill=\"#000000\" fill-rule=\"evenodd\" fill-opacity=\"1\" /><path clip-path=\"url(#clip070)\" d=\"M1213.88 1544.91 L1221.52 1544.91 L1221.52 1518.55 L1213.21 1520.21 L1213.21 1515.95 L1221.47 1514.29 L1226.15 1514.29 L1226.15 1544.91 L1233.79 1544.91 L1233.79 1548.85 L1213.88 1548.85 L1213.88 1544.91 Z\" fill=\"#000000\" fill-rule=\"evenodd\" fill-opacity=\"1\" /><path clip-path=\"url(#clip070)\" d=\"M1243.23 1542.97 L1248.11 1542.97 L1248.11 1548.85 L1243.23 1548.85 L1243.23 1542.97 Z\" fill=\"#000000\" fill-rule=\"evenodd\" fill-opacity=\"1\" /><path clip-path=\"url(#clip070)\" d=\"M1268.3 1517.37 Q1264.69 1517.37 1262.86 1520.93 Q1261.05 1524.47 1261.05 1531.6 Q1261.05 1538.71 1262.86 1542.27 Q1264.69 1545.82 1268.3 1545.82 Q1271.93 1545.82 1273.74 1542.27 Q1275.57 1538.71 1275.57 1531.6 Q1275.57 1524.47 1273.74 1520.93 Q1271.93 1517.37 1268.3 1517.37 M1268.3 1513.66 Q1274.11 1513.66 1277.17 1518.27 Q1280.24 1522.85 1280.24 1531.6 Q1280.24 1540.33 1277.17 1544.94 Q1274.11 1549.52 1268.3 1549.52 Q1262.49 1549.52 1259.41 1544.94 Q1256.36 1540.33 1256.36 1531.6 Q1256.36 1522.85 1259.41 1518.27 Q1262.49 1513.66 1268.3 1513.66 Z\" fill=\"#000000\" fill-rule=\"evenodd\" fill-opacity=\"1\" /><path clip-path=\"url(#clip070)\" d=\"M1736.39 1544.91 L1744.03 1544.91 L1744.03 1518.55 L1735.72 1520.21 L1735.72 1515.95 L1743.98 1514.29 L1748.66 1514.29 L1748.66 1544.91 L1756.3 1544.91 L1756.3 1548.85 L1736.39 1548.85 L1736.39 1544.91 Z\" fill=\"#000000\" fill-rule=\"evenodd\" fill-opacity=\"1\" /><path clip-path=\"url(#clip070)\" d=\"M1765.74 1542.97 L1770.63 1542.97 L1770.63 1548.85 L1765.74 1548.85 L1765.74 1542.97 Z\" fill=\"#000000\" fill-rule=\"evenodd\" fill-opacity=\"1\" /><path clip-path=\"url(#clip070)\" d=\"M1784.84 1544.91 L1801.16 1544.91 L1801.16 1548.85 L1779.21 1548.85 L1779.21 1544.91 Q1781.88 1542.16 1786.46 1537.53 Q1791.07 1532.88 1792.25 1531.53 Q1794.49 1529.01 1795.37 1527.27 Q1796.27 1525.51 1796.27 1523.82 Q1796.27 1521.07 1794.33 1519.33 Q1792.41 1517.6 1789.31 1517.6 Q1787.11 1517.6 1784.65 1518.36 Q1782.22 1519.13 1779.44 1520.68 L1779.44 1515.95 Q1782.27 1514.82 1784.72 1514.24 Q1787.18 1513.66 1789.21 1513.66 Q1794.58 1513.66 1797.78 1516.35 Q1800.97 1519.03 1800.97 1523.52 Q1800.97 1525.65 1800.16 1527.57 Q1799.38 1529.47 1797.27 1532.07 Q1796.69 1532.74 1793.59 1535.95 Q1790.49 1539.15 1784.84 1544.91 Z\" fill=\"#000000\" fill-rule=\"evenodd\" fill-opacity=\"1\" /><path clip-path=\"url(#clip070)\" d=\"M2257.06 1544.91 L2264.7 1544.91 L2264.7 1518.55 L2256.39 1520.21 L2256.39 1515.95 L2264.65 1514.29 L2269.33 1514.29 L2269.33 1544.91 L2276.97 1544.91 L2276.97 1548.85 L2257.06 1548.85 L2257.06 1544.91 Z\" fill=\"#000000\" fill-rule=\"evenodd\" fill-opacity=\"1\" /><path clip-path=\"url(#clip070)\" d=\"M2286.41 1542.97 L2291.3 1542.97 L2291.3 1548.85 L2286.41 1548.85 L2286.41 1542.97 Z\" fill=\"#000000\" fill-rule=\"evenodd\" fill-opacity=\"1\" /><path clip-path=\"url(#clip070)\" d=\"M2314.33 1518.36 L2302.52 1536.81 L2314.33 1536.81 L2314.33 1518.36 M2313.1 1514.29 L2318.98 1514.29 L2318.98 1536.81 L2323.91 1536.81 L2323.91 1540.7 L2318.98 1540.7 L2318.98 1548.85 L2314.33 1548.85 L2314.33 1540.7 L2298.73 1540.7 L2298.73 1536.19 L2313.1 1514.29 Z\" fill=\"#000000\" fill-rule=\"evenodd\" fill-opacity=\"1\" /><polyline clip-path=\"url(#clip072)\" style=\"stroke:#000000; stroke-linecap:butt; stroke-linejoin:round; stroke-width:2; stroke-opacity:0.1; fill:none\" points=\"\n",
       "  140.696,1466.57 2352.76,1466.57 \n",
       "  \"/>\n",
       "<polyline clip-path=\"url(#clip072)\" style=\"stroke:#000000; stroke-linecap:butt; stroke-linejoin:round; stroke-width:2; stroke-opacity:0.1; fill:none\" points=\"\n",
       "  140.696,1096.52 2352.76,1096.52 \n",
       "  \"/>\n",
       "<polyline clip-path=\"url(#clip072)\" style=\"stroke:#000000; stroke-linecap:butt; stroke-linejoin:round; stroke-width:2; stroke-opacity:0.1; fill:none\" points=\"\n",
       "  140.696,726.465 2352.76,726.465 \n",
       "  \"/>\n",
       "<polyline clip-path=\"url(#clip072)\" style=\"stroke:#000000; stroke-linecap:butt; stroke-linejoin:round; stroke-width:2; stroke-opacity:0.1; fill:none\" points=\"\n",
       "  140.696,356.412 2352.76,356.412 \n",
       "  \"/>\n",
       "<polyline clip-path=\"url(#clip070)\" style=\"stroke:#000000; stroke-linecap:butt; stroke-linejoin:round; stroke-width:4; stroke-opacity:1; fill:none\" points=\"\n",
       "  140.696,1486.45 140.696,47.2441 \n",
       "  \"/>\n",
       "<polyline clip-path=\"url(#clip070)\" style=\"stroke:#000000; stroke-linecap:butt; stroke-linejoin:round; stroke-width:4; stroke-opacity:1; fill:none\" points=\"\n",
       "  140.696,1466.57 159.593,1466.57 \n",
       "  \"/>\n",
       "<polyline clip-path=\"url(#clip070)\" style=\"stroke:#000000; stroke-linecap:butt; stroke-linejoin:round; stroke-width:4; stroke-opacity:1; fill:none\" points=\"\n",
       "  140.696,1096.52 159.593,1096.52 \n",
       "  \"/>\n",
       "<polyline clip-path=\"url(#clip070)\" style=\"stroke:#000000; stroke-linecap:butt; stroke-linejoin:round; stroke-width:4; stroke-opacity:1; fill:none\" points=\"\n",
       "  140.696,726.465 159.593,726.465 \n",
       "  \"/>\n",
       "<polyline clip-path=\"url(#clip070)\" style=\"stroke:#000000; stroke-linecap:butt; stroke-linejoin:round; stroke-width:4; stroke-opacity:1; fill:none\" points=\"\n",
       "  140.696,356.412 159.593,356.412 \n",
       "  \"/>\n",
       "<path clip-path=\"url(#clip070)\" d=\"M92.7512 1452.37 Q89.1401 1452.37 87.3114 1455.94 Q85.5058 1459.48 85.5058 1466.61 Q85.5058 1473.71 87.3114 1477.28 Q89.1401 1480.82 92.7512 1480.82 Q96.3854 1480.82 98.1909 1477.28 Q100.02 1473.71 100.02 1466.61 Q100.02 1459.48 98.1909 1455.94 Q96.3854 1452.37 92.7512 1452.37 M92.7512 1448.67 Q98.5613 1448.67 101.617 1453.27 Q104.696 1457.86 104.696 1466.61 Q104.696 1475.33 101.617 1479.94 Q98.5613 1484.52 92.7512 1484.52 Q86.941 1484.52 83.8623 1479.94 Q80.8068 1475.33 80.8068 1466.61 Q80.8068 1457.86 83.8623 1453.27 Q86.941 1448.67 92.7512 1448.67 Z\" fill=\"#000000\" fill-rule=\"evenodd\" fill-opacity=\"1\" /><path clip-path=\"url(#clip070)\" d=\"M53.3995 1109.86 L61.0384 1109.86 L61.0384 1083.5 L52.7282 1085.17 L52.7282 1080.91 L60.9921 1079.24 L65.668 1079.24 L65.668 1109.86 L73.3068 1109.86 L73.3068 1113.8 L53.3995 1113.8 L53.3995 1109.86 Z\" fill=\"#000000\" fill-rule=\"evenodd\" fill-opacity=\"1\" /><path clip-path=\"url(#clip070)\" d=\"M92.7512 1082.32 Q89.1401 1082.32 87.3114 1085.88 Q85.5058 1089.42 85.5058 1096.55 Q85.5058 1103.66 87.3114 1107.23 Q89.1401 1110.77 92.7512 1110.77 Q96.3854 1110.77 98.1909 1107.23 Q100.02 1103.66 100.02 1096.55 Q100.02 1089.42 98.1909 1085.88 Q96.3854 1082.32 92.7512 1082.32 M92.7512 1078.61 Q98.5613 1078.61 101.617 1083.22 Q104.696 1087.8 104.696 1096.55 Q104.696 1105.28 101.617 1109.89 Q98.5613 1114.47 92.7512 1114.47 Q86.941 1114.47 83.8623 1109.89 Q80.8068 1105.28 80.8068 1096.55 Q80.8068 1087.8 83.8623 1083.22 Q86.941 1078.61 92.7512 1078.61 Z\" fill=\"#000000\" fill-rule=\"evenodd\" fill-opacity=\"1\" /><path clip-path=\"url(#clip070)\" d=\"M56.6171 739.81 L72.9365 739.81 L72.9365 743.745 L50.9921 743.745 L50.9921 739.81 Q53.6541 737.056 58.2375 732.426 Q62.8439 727.773 64.0245 726.431 Q66.2698 723.908 67.1494 722.171 Q68.0522 720.412 68.0522 718.722 Q68.0522 715.968 66.1078 714.232 Q64.1865 712.496 61.0847 712.496 Q58.8856 712.496 56.4319 713.259 Q54.0014 714.023 51.2236 715.574 L51.2236 710.852 Q54.0477 709.718 56.5014 709.139 Q58.955 708.56 60.9921 708.56 Q66.3624 708.56 69.5568 711.246 Q72.7513 713.931 72.7513 718.421 Q72.7513 720.551 71.9411 722.472 Q71.1541 724.37 69.0476 726.963 Q68.4689 727.634 65.367 730.852 Q62.2652 734.046 56.6171 739.81 Z\" fill=\"#000000\" fill-rule=\"evenodd\" fill-opacity=\"1\" /><path clip-path=\"url(#clip070)\" d=\"M92.7512 712.264 Q89.1401 712.264 87.3114 715.829 Q85.5058 719.371 85.5058 726.5 Q85.5058 733.607 87.3114 737.171 Q89.1401 740.713 92.7512 740.713 Q96.3854 740.713 98.1909 737.171 Q100.02 733.607 100.02 726.5 Q100.02 719.371 98.1909 715.829 Q96.3854 712.264 92.7512 712.264 M92.7512 708.56 Q98.5613 708.56 101.617 713.167 Q104.696 717.75 104.696 726.5 Q104.696 735.227 101.617 739.833 Q98.5613 744.417 92.7512 744.417 Q86.941 744.417 83.8623 739.833 Q80.8068 735.227 80.8068 726.5 Q80.8068 717.75 83.8623 713.167 Q86.941 708.56 92.7512 708.56 Z\" fill=\"#000000\" fill-rule=\"evenodd\" fill-opacity=\"1\" /><path clip-path=\"url(#clip070)\" d=\"M66.7559 355.057 Q70.1124 355.775 71.9874 358.044 Q73.8855 360.312 73.8855 363.645 Q73.8855 368.761 70.367 371.562 Q66.8485 374.363 60.3671 374.363 Q58.1912 374.363 55.8764 373.923 Q53.5847 373.506 51.131 372.65 L51.131 368.136 Q53.0754 369.27 55.3903 369.849 Q57.7051 370.428 60.2282 370.428 Q64.6263 370.428 66.918 368.692 Q69.2328 366.956 69.2328 363.645 Q69.2328 360.59 67.08 358.877 Q64.9504 357.141 61.131 357.141 L57.1032 357.141 L57.1032 353.298 L61.3161 353.298 Q64.7652 353.298 66.5939 351.932 Q68.4226 350.544 68.4226 347.951 Q68.4226 345.289 66.5245 343.877 Q64.6495 342.442 61.131 342.442 Q59.2097 342.442 57.0106 342.858 Q54.8115 343.275 52.1727 344.155 L52.1727 339.988 Q54.8347 339.247 57.1495 338.877 Q59.4875 338.507 61.5476 338.507 Q66.8717 338.507 69.9735 340.937 Q73.0753 343.345 73.0753 347.465 Q73.0753 350.335 71.4318 352.326 Q69.7883 354.294 66.7559 355.057 Z\" fill=\"#000000\" fill-rule=\"evenodd\" fill-opacity=\"1\" /><path clip-path=\"url(#clip070)\" d=\"M92.7512 342.21 Q89.1401 342.21 87.3114 345.775 Q85.5058 349.317 85.5058 356.446 Q85.5058 363.553 87.3114 367.118 Q89.1401 370.659 92.7512 370.659 Q96.3854 370.659 98.1909 367.118 Q100.02 363.553 100.02 356.446 Q100.02 349.317 98.1909 345.775 Q96.3854 342.21 92.7512 342.21 M92.7512 338.507 Q98.5613 338.507 101.617 343.113 Q104.696 347.696 104.696 356.446 Q104.696 365.173 101.617 369.78 Q98.5613 374.363 92.7512 374.363 Q86.941 374.363 83.8623 369.78 Q80.8068 365.173 80.8068 356.446 Q80.8068 347.696 83.8623 343.113 Q86.941 338.507 92.7512 338.507 Z\" fill=\"#000000\" fill-rule=\"evenodd\" fill-opacity=\"1\" /><path clip-path=\"url(#clip072)\" d=\"\n",
       "M1246.73 1445.72 L725.013 1445.72 L1768.44 1445.72 L1246.73 1445.72 L1246.73 1398.74 L1246.73 1445.72  Z\n",
       "  \" fill=\"#009af9\" fill-rule=\"evenodd\" fill-opacity=\"1\"/>\n",
       "<polyline clip-path=\"url(#clip072)\" style=\"stroke:#000000; stroke-linecap:butt; stroke-linejoin:round; stroke-width:4; stroke-opacity:1; fill:none\" points=\"\n",
       "  1246.73,1445.72 725.013,1445.72 1768.44,1445.72 1246.73,1445.72 1246.73,1398.74 1246.73,1445.72 \n",
       "  \"/>\n",
       "<path clip-path=\"url(#clip072)\" d=\"\n",
       "M2290.15 1398.74 L2290.15 1302.4 L203.301 1302.4 L203.301 1398.74 L2290.15 1398.74 L2290.15 1302.4 L2290.15 1398.74  Z\n",
       "  \" fill=\"#009af9\" fill-rule=\"evenodd\" fill-opacity=\"1\"/>\n",
       "<polyline clip-path=\"url(#clip072)\" style=\"stroke:#000000; stroke-linecap:butt; stroke-linejoin:round; stroke-width:4; stroke-opacity:1; fill:none\" points=\"\n",
       "  2290.15,1398.74 2290.15,1302.4 203.301,1302.4 203.301,1398.74 2290.15,1398.74 2290.15,1302.4 2290.15,1398.74 \n",
       "  \"/>\n",
       "<path clip-path=\"url(#clip072)\" d=\"\n",
       "M2290.15 1219.37 L203.301 1219.37 L203.301 1302.4 L2290.15 1302.4 L2290.15 1219.37 L1246.73 1219.37 L2290.15 1219.37  Z\n",
       "  \" fill=\"#009af9\" fill-rule=\"evenodd\" fill-opacity=\"1\"/>\n",
       "<polyline clip-path=\"url(#clip072)\" style=\"stroke:#000000; stroke-linecap:butt; stroke-linejoin:round; stroke-width:4; stroke-opacity:1; fill:none\" points=\"\n",
       "  2290.15,1219.37 203.301,1219.37 203.301,1302.4 2290.15,1302.4 2290.15,1219.37 1246.73,1219.37 2290.15,1219.37 \n",
       "  \"/>\n",
       "<path clip-path=\"url(#clip072)\" d=\"\n",
       "M1246.73 991.771 L725.013 991.771 L1768.44 991.771 L1246.73 991.771 L1246.73 1219.37 L1246.73 991.771  Z\n",
       "  \" fill=\"#009af9\" fill-rule=\"evenodd\" fill-opacity=\"1\"/>\n",
       "<polyline clip-path=\"url(#clip072)\" style=\"stroke:#000000; stroke-linecap:butt; stroke-linejoin:round; stroke-width:4; stroke-opacity:1; fill:none\" points=\"\n",
       "  1246.73,991.771 725.013,991.771 1768.44,991.771 1246.73,991.771 1246.73,1219.37 1246.73,991.771 \n",
       "  \"/>\n",
       "<circle clip-path=\"url(#clip072)\" cx=\"1246.73\" cy=\"87.9763\" r=\"14\" fill=\"#009af9\" fill-rule=\"evenodd\" fill-opacity=\"1\" stroke=\"#000000\" stroke-opacity=\"1\" stroke-width=\"3.2\"/>\n",
       "<circle clip-path=\"url(#clip072)\" cx=\"1246.73\" cy=\"770.823\" r=\"14\" fill=\"#009af9\" fill-rule=\"evenodd\" fill-opacity=\"1\" stroke=\"#000000\" stroke-opacity=\"1\" stroke-width=\"3.2\"/>\n",
       "<circle clip-path=\"url(#clip072)\" cx=\"1246.73\" cy=\"749.479\" r=\"14\" fill=\"#009af9\" fill-rule=\"evenodd\" fill-opacity=\"1\" stroke=\"#000000\" stroke-opacity=\"1\" stroke-width=\"3.2\"/>\n",
       "<circle clip-path=\"url(#clip072)\" cx=\"1246.73\" cy=\"536.052\" r=\"14\" fill=\"#009af9\" fill-rule=\"evenodd\" fill-opacity=\"1\" stroke=\"#000000\" stroke-opacity=\"1\" stroke-width=\"3.2\"/>\n",
       "<polyline clip-path=\"url(#clip072)\" style=\"stroke:#009af9; stroke-linecap:butt; stroke-linejoin:round; stroke-width:0; stroke-opacity:1; fill:none\" points=\"\n",
       "  1246.73,1445.72 725.013,1445.72 1768.44,1445.72 1246.73,1445.72 1246.73,1398.74 \n",
       "  \"/>\n",
       "<polyline clip-path=\"url(#clip072)\" style=\"stroke:#009af9; stroke-linecap:butt; stroke-linejoin:round; stroke-width:0; stroke-opacity:1; fill:none\" points=\"\n",
       "  2290.15,1398.74 2290.15,1302.4 203.301,1302.4 203.301,1398.74 2290.15,1398.74 2290.15,1302.4 \n",
       "  \"/>\n",
       "<polyline clip-path=\"url(#clip072)\" style=\"stroke:#009af9; stroke-linecap:butt; stroke-linejoin:round; stroke-width:0; stroke-opacity:1; fill:none\" points=\"\n",
       "  2290.15,1219.37 203.301,1219.37 203.301,1302.4 2290.15,1302.4 2290.15,1219.37 1246.73,1219.37 \n",
       "  \"/>\n",
       "<polyline clip-path=\"url(#clip072)\" style=\"stroke:#009af9; stroke-linecap:butt; stroke-linejoin:round; stroke-width:0; stroke-opacity:1; fill:none\" points=\"\n",
       "  1246.73,991.771 725.013,991.771 1768.44,991.771 1246.73,991.771 1246.73,1219.37 \n",
       "  \"/>\n",
       "<path clip-path=\"url(#clip070)\" d=\"\n",
       "M1980.81 198.898 L2279.02 198.898 L2279.02 95.2176 L1980.81 95.2176  Z\n",
       "  \" fill=\"#ffffff\" fill-rule=\"evenodd\" fill-opacity=\"1\"/>\n",
       "<polyline clip-path=\"url(#clip070)\" style=\"stroke:#000000; stroke-linecap:butt; stroke-linejoin:round; stroke-width:4; stroke-opacity:1; fill:none\" points=\"\n",
       "  1980.81,198.898 2279.02,198.898 2279.02,95.2176 1980.81,95.2176 1980.81,198.898 \n",
       "  \"/>\n",
       "<path clip-path=\"url(#clip070)\" d=\"\n",
       "M2005.38 167.794 L2152.85 167.794 L2152.85 126.322 L2005.38 126.322 L2005.38 167.794  Z\n",
       "  \" fill=\"#009af9\" fill-rule=\"evenodd\" fill-opacity=\"1\"/>\n",
       "<polyline clip-path=\"url(#clip070)\" style=\"stroke:#000000; stroke-linecap:butt; stroke-linejoin:round; stroke-width:4; stroke-opacity:1; fill:none\" points=\"\n",
       "  2005.38,167.794 2152.85,167.794 2152.85,126.322 2005.38,126.322 2005.38,167.794 \n",
       "  \"/>\n",
       "<path clip-path=\"url(#clip070)\" d=\"M2191.28 166.745 Q2189.47 171.375 2187.76 172.787 Q2186.04 174.199 2183.17 174.199 L2179.77 174.199 L2179.77 170.634 L2182.27 170.634 Q2184.03 170.634 2185 169.8 Q2185.98 168.967 2187.16 165.865 L2187.92 163.921 L2177.43 138.412 L2181.95 138.412 L2190.05 158.689 L2198.15 138.412 L2202.66 138.412 L2191.28 166.745 Z\" fill=\"#000000\" fill-rule=\"evenodd\" fill-opacity=\"1\" /><path clip-path=\"url(#clip070)\" d=\"M2209.96 160.402 L2217.6 160.402 L2217.6 134.037 L2209.29 135.703 L2209.29 131.444 L2217.55 129.778 L2222.22 129.778 L2222.22 160.402 L2229.86 160.402 L2229.86 164.338 L2209.96 164.338 L2209.96 160.402 Z\" fill=\"#000000\" fill-rule=\"evenodd\" fill-opacity=\"1\" /></svg>\n"
      ]
     },
     "metadata": {},
     "output_type": "display_data"
    }
   ],
   "source": [
    "boxplot(df_states[!, \"Population\"] ./ 1000000)"
   ]
  },
  {
   "cell_type": "markdown",
   "metadata": {},
   "source": [
    "From this boxplot we can immediately see that the median state population is about 5 million, half the states fall between about 2 million and about 7 million, and there are some high population outliers. \n",
    "\n",
    "The top and bottom of the box are the 75th and 25th percentiles, respectively. \n",
    "\n",
    "The median is shown by the horizontal line in the box. \n",
    "\n",
    "The dashed lines, referred to as whiskers, extend from the top and bottom of the box to indicate the range for the bulk of the data. There are many variations of a boxplot; see, for example, the documentation for the R function boxplot [R-base-2015]. \n",
    "\n",
    "By default, the R function extends the whiskers to the furthest point beyond the box, except that it will not go beyond 1.5 times the IQR. Matplotlib uses the same implementation; other software may use a different rule.\n",
    "\n",
    "Any data outside of the whiskers is plotted as single points or circles (often considered outliers)."
   ]
  },
  {
   "cell_type": "markdown",
   "metadata": {},
   "source": [
    "# Frequency Tables and Histograms"
   ]
  },
  {
   "cell_type": "markdown",
   "metadata": {},
   "source": [
    "A frequency table of a variable divides up the variable range into equally spaced segments and tells us how many values fall within each segment. Table 1-5 shows a frequency table of the population by state computed in R:"
   ]
  },
  {
   "cell_type": "markdown",
   "metadata": {},
   "source": [
    "BinNumber\tBinRange\tCount\tStates\n",
    "1\n",
    "\n",
    "563,626–4,232,658\n",
    "\n",
    "24\n",
    "\n",
    "WY,VT,ND,AK,SD,DE,MT,RI,NH,ME,HI,ID,NE,WV,NM,NV,UT,KS,AR,MS,IA,CT,OK,OR\n",
    "\n",
    "2\n",
    "\n",
    "4,232,659–7,901,691\n",
    "\n",
    "14\n",
    "\n",
    "KY,LA,SC,AL,CO,MN,WI,MD,MO,TN,AZ,IN,MA,WA\n",
    "\n",
    "3\n",
    "\n",
    "7,901,692–11,570,724\n",
    "\n",
    "6\n",
    "\n",
    "VA,NJ,NC,GA,MI,OH\n",
    "\n",
    "4\n",
    "\n",
    "11,570,725–15,239,757\n",
    "\n",
    "2\n",
    "\n",
    "PA,IL\n",
    "\n",
    "5\n",
    "\n",
    "15,239,758–18,908,790\n",
    "\n",
    "1\n",
    "\n",
    "FL\n",
    "\n",
    "6\n",
    "\n",
    "18,908,791–22,577,823\n",
    "\n",
    "1\n",
    "\n",
    "NY\n",
    "\n",
    "7\n",
    "\n",
    "22,577,824–26,246,856\n",
    "\n",
    "1\n",
    "\n",
    "TX\n",
    "\n",
    "8\n",
    "\n",
    "26,246,857–29,915,889\n",
    "\n",
    "0\n",
    "\n",
    "9\n",
    "\n",
    "29,915,890–33,584,922\n",
    "\n",
    "0\n",
    "\n",
    "10\n",
    "\n",
    "33,584,923–37,253,956\n",
    "\n",
    "1\n",
    "\n",
    "CA"
   ]
  },
  {
   "cell_type": "markdown",
   "metadata": {},
   "source": [
    "The least populous state is Wyoming, with 563,626 people, and the most populous is California, with 37,253,956 people. This gives us a range of 37,253,956 – 563,626 = 36,690,330, which we must divide up into equal size bins—let’s say 10 bins. \n",
    "\n",
    "With 10 equal size bins, each bin will have a width of 3,669,033, so the first bin will span from 563,626 to 4,232,658. By contrast, the top bin, 33,584,923 to 37,253,956, has only one state: California. \n",
    "\n",
    "The two bins immediately below California are empty, until we reach Texas. It is important to include the empty bins; the fact that there are no values in those bins is useful information. It can also be useful to experiment with different bin sizes. If they are too large, important features of the distribution can be obscured. If they are too small, the result is too granular, and the ability to see the bigger picture is lost.\n",
    "\n"
   ]
  },
  {
   "cell_type": "code",
   "execution_count": 93,
   "metadata": {},
   "outputs": [],
   "source": [
    "using CategoricalArrays"
   ]
  },
  {
   "cell_type": "code",
   "execution_count": 111,
   "metadata": {},
   "outputs": [
    {
     "data": {
      "text/plain": [
       "50-element CategoricalArray{String,1,UInt32}:\n",
       " \"Q6: [4.4363695e6, 5.457149399999999e6)\"\n",
       " \"Q1: [563626.0, 889558.6000000001)\"\n",
       " \"Q7: [5.457149399999999e6, 6.4195525e6)\"\n",
       " \"Q4: [2.5081393999999994e6, 3.0147318000000003e6)\"\n",
       " \"Q10: [1.27152043e7, 3.7253956e7]\"\n",
       " \"Q6: [4.4363695e6, 5.457149399999999e6)\"\n",
       " \"Q5: [3.0147318000000003e6, 4.4363695e6)\"\n",
       " \"Q2: [889558.6000000001, 1.353913e6)\"\n",
       " \"Q10: [1.27152043e7, 3.7253956e7]\"\n",
       " \"Q9: [8.940611800000003e6, 1.27152043e7)\"\n",
       " ⋮\n",
       " \"Q7: [5.457149399999999e6, 6.4195525e6)\"\n",
       " \"Q10: [1.27152043e7, 3.7253956e7]\"\n",
       " \"Q4: [2.5081393999999994e6, 3.0147318000000003e6)\"\n",
       " \"Q1: [563626.0, 889558.6000000001)\"\n",
       " \"Q8: [6.4195525e6, 8.940611800000003e6)\"\n",
       " \"Q8: [6.4195525e6, 8.940611800000003e6)\"\n",
       " \"Q3: [1.353913e6, 2.5081393999999994e6)\"\n",
       " \"Q7: [5.457149399999999e6, 6.4195525e6)\"\n",
       " \"Q1: [563626.0, 889558.6000000001)\""
      ]
     },
     "metadata": {},
     "output_type": "display_data"
    }
   ],
   "source": [
    "groups = cut(df_states[!, \"Population\"], 10)"
   ]
  },
  {
   "cell_type": "code",
   "execution_count": 106,
   "metadata": {},
   "outputs": [
    {
     "name": "stdout",
     "output_type": "stream",
     "text": [
      "Alabama --> Q6: [4.4363695e6, 5.457149399999999e6)\n",
      "Alaska --> Q1: [563626.0, 889558.6000000001)\n",
      "Arizona --> Q7: [5.457149399999999e6, 6.4195525e6)\n",
      "Arkansas --> Q4: [2.5081393999999994e6, 3.0147318000000003e6)\n",
      "California --> Q10: [1.27152043e7, 3.7253956e7]\n",
      "Colorado --> Q6: [4.4363695e6, 5.457149399999999e6)\n",
      "Connecticut --> Q5: [3.0147318000000003e6, 4.4363695e6)\n",
      "Delaware --> Q2: [889558.6000000001, 1.353913e6)\n",
      "Florida --> Q10: [1.27152043e7, 3.7253956e7]\n",
      "Georgia --> Q9: [8.940611800000003e6, 1.27152043e7)\n",
      "Hawaii --> Q3: [1.353913e6, 2.5081393999999994e6)\n",
      "Idaho --> Q3: [1.353913e6, 2.5081393999999994e6)\n",
      "Illinois --> Q10: [1.27152043e7, 3.7253956e7]\n",
      "Indiana --> Q8: [6.4195525e6, 8.940611800000003e6)\n",
      "Iowa --> Q5: [3.0147318000000003e6, 4.4363695e6)\n",
      "Kansas --> Q4: [2.5081393999999994e6, 3.0147318000000003e6)\n",
      "Kentucky --> Q5: [3.0147318000000003e6, 4.4363695e6)\n",
      "Louisiana --> Q6: [4.4363695e6, 5.457149399999999e6)\n",
      "Maine --> Q2: [889558.6000000001, 1.353913e6)\n",
      "Maryland --> Q7: [5.457149399999999e6, 6.4195525e6)\n",
      "Massachusetts --> Q8: [6.4195525e6, 8.940611800000003e6)\n",
      "Michigan --> Q9: [8.940611800000003e6, 1.27152043e7)\n",
      "Minnesota --> Q6: [4.4363695e6, 5.457149399999999e6)\n",
      "Mississippi --> Q4: [2.5081393999999994e6, 3.0147318000000003e6)\n",
      "Missouri --> Q7: [5.457149399999999e6, 6.4195525e6)\n",
      "Montana --> Q2: [889558.6000000001, 1.353913e6)\n",
      "Nebraska --> Q3: [1.353913e6, 2.5081393999999994e6)\n",
      "Nevada --> Q4: [2.5081393999999994e6, 3.0147318000000003e6)\n",
      "New Hampshire --> Q2: [889558.6000000001, 1.353913e6)\n",
      "New Jersey --> Q8: [6.4195525e6, 8.940611800000003e6)\n",
      "New Mexico --> Q3: [1.353913e6, 2.5081393999999994e6)\n",
      "New York --> Q10: [1.27152043e7, 3.7253956e7]\n",
      "North Carolina --> Q9: [8.940611800000003e6, 1.27152043e7)\n",
      "North Dakota --> Q1: [563626.0, 889558.6000000001)\n",
      "Ohio --> Q9: [8.940611800000003e6, 1.27152043e7)\n",
      "Oklahoma --> Q5: [3.0147318000000003e6, 4.4363695e6)\n",
      "Oregon --> Q5: [3.0147318000000003e6, 4.4363695e6)\n",
      "Pennsylvania --> Q9: [8.940611800000003e6, 1.27152043e7)\n",
      "Rhode Island --> Q2: [889558.6000000001, 1.353913e6)\n",
      "South Carolina --> Q6: [4.4363695e6, 5.457149399999999e6)\n",
      "South Dakota --> Q1: [563626.0, 889558.6000000001)\n",
      "Tennessee --> Q7: [5.457149399999999e6, 6.4195525e6)\n",
      "Texas --> Q10: [1.27152043e7, 3.7253956e7]\n",
      "Utah --> Q4: [2.5081393999999994e6, 3.0147318000000003e6)\n",
      "Vermont --> Q1: [563626.0, 889558.6000000001)\n",
      "Virginia --> Q8: [6.4195525e6, 8.940611800000003e6)\n",
      "Washington --> Q8: [6.4195525e6, 8.940611800000003e6)\n",
      "West Virginia --> Q3: [1.353913e6, 2.5081393999999994e6)\n",
      "Wisconsin --> Q7: [5.457149399999999e6, 6.4195525e6)\n",
      "Wyoming --> Q1: [563626.0, 889558.6000000001)\n"
     ]
    },
    {
     "data": {
      "text/plain": [
       "50-element Vector{Nothing}:\n",
       " nothing\n",
       " nothing\n",
       " nothing\n",
       " nothing\n",
       " nothing\n",
       " nothing\n",
       " nothing\n",
       " nothing\n",
       " nothing\n",
       " nothing\n",
       " ⋮\n",
       " nothing\n",
       " nothing\n",
       " nothing\n",
       " nothing\n",
       " nothing\n",
       " nothing\n",
       " nothing\n",
       " nothing\n",
       " nothing"
      ]
     },
     "metadata": {},
     "output_type": "display_data"
    }
   ],
   "source": [
    "[println(\"$(df_states[i, \"State\"]) --> $(groups[i])\") for i in 1:50]"
   ]
  },
  {
   "cell_type": "markdown",
   "metadata": {},
   "source": [
    "A __histogram__ is a way to visualize a frequency table, with bins on the x-axis and the data count on the y-axis. \n",
    "\n",
    "In Figure 1-3, for example, the bin centered at 10 million (1e+07) runs from roughly 8 million to 12 million, and there are six states in that bin. To create a histogram corresponding to Table 1-5 in R, use the hist function with the breaks argument:"
   ]
  },
  {
   "cell_type": "code",
   "execution_count": 159,
   "metadata": {},
   "outputs": [
    {
     "data": {
      "image/png": "[encoded data removed]",
      "image/svg+xml": "<?xml version=\"1.0\" encoding=\"utf-8\"?>\n<svg xmlns=\"http://www.w3.org/2000/svg\" xmlns:xlink=\"http://www.w3.org/1999/xlink\" width=\"600\" height=\"400\" viewBox=\"0 0 2400 1600\">\n<defs>\n  <clipPath id=\"clip710\">\n    <rect x=\"0\" y=\"0\" width=\"2400\" height=\"1600\"/>\n  </clipPath>\n</defs>\n<path clip-path=\"url(#clip710)\" d=\"\nM0 1600 L2400 1600 L2400 0 L0 0  Z\n  \" fill=\"#ffffff\" fill-rule=\"evenodd\" fill-opacity=\"1\"/>\n<defs>\n  <clipPath id=\"clip711\">\n    <rect x=\"480\" y=\"0\" width=\"1681\" height=\"1600\"/>\n  </clipPath>\n</defs>\n<path clip-path=\"url(#clip710)\" d=\"\nM140.696 1486.45 L2352.76 1486.45 L2352.76 47.2441 L140.696 47.2441  Z\n  \" fill=\"#ffffff\" fill-rule=\"evenodd\" fill-opacity=\"1\"/>\n<defs>\n  <clipPath id=\"clip712\">\n    <rect x=\"140\" y=\"47\" width=\"2213\" height=\"1440\"/>\n  </clipPath>\n</defs>\n<polyline clip-path=\"url(#clip712)\" style=\"stroke:#000000; stroke-linecap:butt; stroke-linejoin:round; stroke-width:2; stroke-opacity:0.1; fill:none\" points=\"\n  262.363,1486.45 262.363,47.2441 \n  \"/>\n<polyline clip-path=\"url(#clip712)\" style=\"stroke:#000000; stroke-linecap:butt; stroke-linejoin:round; stroke-width:2; stroke-opacity:0.1; fill:none\" points=\"\n  590.484,1486.45 590.484,47.2441 \n  \"/>\n<polyline clip-path=\"url(#clip712)\" style=\"stroke:#000000; stroke-linecap:butt; stroke-linejoin:round; stroke-width:2; stroke-opacity:0.1; fill:none\" points=\"\n  918.605,1486.45 918.605,47.2441 \n  \"/>\n<polyline clip-path=\"url(#clip712)\" style=\"stroke:#000000; stroke-linecap:butt; stroke-linejoin:round; stroke-width:2; stroke-opacity:0.1; fill:none\" points=\"\n  1246.73,1486.45 1246.73,47.2441 \n  \"/>\n<polyline clip-path=\"url(#clip712)\" style=\"stroke:#000000; stroke-linecap:butt; stroke-linejoin:round; stroke-width:2; stroke-opacity:0.1; fill:none\" points=\"\n  1574.85,1486.45 1574.85,47.2441 \n  \"/>\n<polyline clip-path=\"url(#clip712)\" style=\"stroke:#000000; stroke-linecap:butt; stroke-linejoin:round; stroke-width:2; stroke-opacity:0.1; fill:none\" points=\"\n  1902.97,1486.45 1902.97,47.2441 \n  \"/>\n<polyline clip-path=\"url(#clip712)\" style=\"stroke:#000000; stroke-linecap:butt; stroke-linejoin:round; stroke-width:2; stroke-opacity:0.1; fill:none\" points=\"\n  2231.09,1486.45 2231.09,47.2441 \n  \"/>\n<polyline clip-path=\"url(#clip710)\" style=\"stroke:#000000; stroke-linecap:butt; stroke-linejoin:round; stroke-width:4; stroke-opacity:1; fill:none\" points=\"\n  140.696,1486.45 2352.76,1486.45 \n  \"/>\n<polyline clip-path=\"url(#clip710)\" style=\"stroke:#000000; stroke-linecap:butt; stroke-linejoin:round; stroke-width:4; stroke-opacity:1; fill:none\" points=\"\n  262.363,1486.45 262.363,1467.55 \n  \"/>\n<polyline clip-path=\"url(#clip710)\" style=\"stroke:#000000; stroke-linecap:butt; stroke-linejoin:round; stroke-width:4; stroke-opacity:1; fill:none\" points=\"\n  590.484,1486.45 590.484,1467.55 \n  \"/>\n<polyline clip-path=\"url(#clip710)\" style=\"stroke:#000000; stroke-linecap:butt; stroke-linejoin:round; stroke-width:4; stroke-opacity:1; fill:none\" points=\"\n  918.605,1486.45 918.605,1467.55 \n  \"/>\n<polyline clip-path=\"url(#clip710)\" style=\"stroke:#000000; stroke-linecap:butt; stroke-linejoin:round; stroke-width:4; stroke-opacity:1; fill:none\" points=\"\n  1246.73,1486.45 1246.73,1467.55 \n  \"/>\n<polyline clip-path=\"url(#clip710)\" style=\"stroke:#000000; stroke-linecap:butt; stroke-linejoin:round; stroke-width:4; stroke-opacity:1; fill:none\" points=\"\n  1574.85,1486.45 1574.85,1467.55 \n  \"/>\n<polyline clip-path=\"url(#clip710)\" style=\"stroke:#000000; stroke-linecap:butt; stroke-linejoin:round; stroke-width:4; stroke-opacity:1; fill:none\" points=\"\n  1902.97,1486.45 1902.97,1467.55 \n  \"/>\n<polyline clip-path=\"url(#clip710)\" style=\"stroke:#000000; stroke-linecap:butt; stroke-linejoin:round; stroke-width:4; stroke-opacity:1; fill:none\" points=\"\n  2231.09,1486.45 2231.09,1467.55 \n  \"/>\n<path clip-path=\"url(#clip710)\" d=\"M262.363 1517.37 Q258.752 1517.37 256.923 1520.93 Q255.117 1524.47 255.117 1531.6 Q255.117 1538.71 256.923 1542.27 Q258.752 1545.82 262.363 1545.82 Q265.997 1545.82 267.803 1542.27 Q269.631 1538.71 269.631 1531.6 Q269.631 1524.47 267.803 1520.93 Q265.997 1517.37 262.363 1517.37 M262.363 1513.66 Q268.173 1513.66 271.228 1518.27 Q274.307 1522.85 274.307 1531.6 Q274.307 1540.33 271.228 1544.94 Q268.173 1549.52 262.363 1549.52 Q256.553 1549.52 253.474 1544.94 Q250.418 1540.33 250.418 1531.6 Q250.418 1522.85 253.474 1518.27 Q256.553 1513.66 262.363 1513.66 Z\" fill=\"#000000\" fill-rule=\"evenodd\" fill-opacity=\"1\" /><path clip-path=\"url(#clip710)\" d=\"M585.137 1544.91 L601.456 1544.91 L601.456 1548.85 L579.512 1548.85 L579.512 1544.91 Q582.174 1542.16 586.757 1537.53 Q591.363 1532.88 592.544 1531.53 Q594.789 1529.01 595.669 1527.27 Q596.572 1525.51 596.572 1523.82 Q596.572 1521.07 594.627 1519.33 Q592.706 1517.6 589.604 1517.6 Q587.405 1517.6 584.951 1518.36 Q582.521 1519.13 579.743 1520.68 L579.743 1515.95 Q582.567 1514.82 585.021 1514.24 Q587.475 1513.66 589.512 1513.66 Q594.882 1513.66 598.076 1516.35 Q601.271 1519.03 601.271 1523.52 Q601.271 1525.65 600.461 1527.57 Q599.674 1529.47 597.567 1532.07 Q596.988 1532.74 593.887 1535.95 Q590.785 1539.15 585.137 1544.91 Z\" fill=\"#000000\" fill-rule=\"evenodd\" fill-opacity=\"1\" /><path clip-path=\"url(#clip710)\" d=\"M921.614 1518.36 L909.808 1536.81 L921.614 1536.81 L921.614 1518.36 M920.387 1514.29 L926.267 1514.29 L926.267 1536.81 L931.197 1536.81 L931.197 1540.7 L926.267 1540.7 L926.267 1548.85 L921.614 1548.85 L921.614 1540.7 L906.012 1540.7 L906.012 1536.19 L920.387 1514.29 Z\" fill=\"#000000\" fill-rule=\"evenodd\" fill-opacity=\"1\" /><path clip-path=\"url(#clip710)\" d=\"M1247.13 1529.7 Q1243.98 1529.7 1242.13 1531.86 Q1240.3 1534.01 1240.3 1537.76 Q1240.3 1541.49 1242.13 1543.66 Q1243.98 1545.82 1247.13 1545.82 Q1250.28 1545.82 1252.11 1543.66 Q1253.96 1541.49 1253.96 1537.76 Q1253.96 1534.01 1252.11 1531.86 Q1250.28 1529.7 1247.13 1529.7 M1256.41 1515.05 L1256.41 1519.31 Q1254.65 1518.48 1252.85 1518.04 Q1251.07 1517.6 1249.31 1517.6 Q1244.68 1517.6 1242.22 1520.72 Q1239.79 1523.85 1239.45 1530.17 Q1240.81 1528.15 1242.87 1527.09 Q1244.93 1526 1247.41 1526 Q1252.62 1526 1255.63 1529.17 Q1258.66 1532.32 1258.66 1537.76 Q1258.66 1543.08 1255.51 1546.3 Q1252.36 1549.52 1247.13 1549.52 Q1241.14 1549.52 1237.96 1544.94 Q1234.79 1540.33 1234.79 1531.6 Q1234.79 1523.41 1238.68 1518.55 Q1242.57 1513.66 1249.12 1513.66 Q1250.88 1513.66 1252.66 1514.01 Q1254.47 1514.36 1256.41 1515.05 Z\" fill=\"#000000\" fill-rule=\"evenodd\" fill-opacity=\"1\" /><path clip-path=\"url(#clip710)\" d=\"M1574.85 1532.44 Q1571.51 1532.44 1569.59 1534.22 Q1567.69 1536 1567.69 1539.13 Q1567.69 1542.25 1569.59 1544.03 Q1571.51 1545.82 1574.85 1545.82 Q1578.18 1545.82 1580.1 1544.03 Q1582.02 1542.23 1582.02 1539.13 Q1582.02 1536 1580.1 1534.22 Q1578.2 1532.44 1574.85 1532.44 M1570.17 1530.45 Q1567.16 1529.7 1565.47 1527.64 Q1563.81 1525.58 1563.81 1522.62 Q1563.81 1518.48 1566.74 1516.07 Q1569.71 1513.66 1574.85 1513.66 Q1580.01 1513.66 1582.95 1516.07 Q1585.89 1518.48 1585.89 1522.62 Q1585.89 1525.58 1584.2 1527.64 Q1582.53 1529.7 1579.55 1530.45 Q1582.93 1531.23 1584.8 1533.52 Q1586.7 1535.82 1586.7 1539.13 Q1586.7 1544.15 1583.62 1546.83 Q1580.56 1549.52 1574.85 1549.52 Q1569.13 1549.52 1566.05 1546.83 Q1562.99 1544.15 1562.99 1539.13 Q1562.99 1535.82 1564.89 1533.52 Q1566.79 1531.23 1570.17 1530.45 M1568.46 1523.06 Q1568.46 1525.75 1570.12 1527.25 Q1571.81 1528.76 1574.85 1528.76 Q1577.86 1528.76 1579.55 1527.25 Q1581.26 1525.75 1581.26 1523.06 Q1581.26 1520.38 1579.55 1518.87 Q1577.86 1517.37 1574.85 1517.37 Q1571.81 1517.37 1570.12 1518.87 Q1568.46 1520.38 1568.46 1523.06 Z\" fill=\"#000000\" fill-rule=\"evenodd\" fill-opacity=\"1\" /><path clip-path=\"url(#clip710)\" d=\"M1877.66 1544.91 L1885.29 1544.91 L1885.29 1518.55 L1876.98 1520.21 L1876.98 1515.95 L1885.25 1514.29 L1889.92 1514.29 L1889.92 1544.91 L1897.56 1544.91 L1897.56 1548.85 L1877.66 1548.85 L1877.66 1544.91 Z\" fill=\"#000000\" fill-rule=\"evenodd\" fill-opacity=\"1\" /><path clip-path=\"url(#clip710)\" d=\"M1917.01 1517.37 Q1913.4 1517.37 1911.57 1520.93 Q1909.76 1524.47 1909.76 1531.6 Q1909.76 1538.71 1911.57 1542.27 Q1913.4 1545.82 1917.01 1545.82 Q1920.64 1545.82 1922.45 1542.27 Q1924.28 1538.71 1924.28 1531.6 Q1924.28 1524.47 1922.45 1520.93 Q1920.64 1517.37 1917.01 1517.37 M1917.01 1513.66 Q1922.82 1513.66 1925.87 1518.27 Q1928.95 1522.85 1928.95 1531.6 Q1928.95 1540.33 1925.87 1544.94 Q1922.82 1549.52 1917.01 1549.52 Q1911.2 1549.52 1908.12 1544.94 Q1905.06 1540.33 1905.06 1531.6 Q1905.06 1522.85 1908.12 1518.27 Q1911.2 1513.66 1917.01 1513.66 Z\" fill=\"#000000\" fill-rule=\"evenodd\" fill-opacity=\"1\" /><path clip-path=\"url(#clip710)\" d=\"M2206.57 1544.91 L2214.21 1544.91 L2214.21 1518.55 L2205.9 1520.21 L2205.9 1515.95 L2214.17 1514.29 L2218.84 1514.29 L2218.84 1544.91 L2226.48 1544.91 L2226.48 1548.85 L2206.57 1548.85 L2206.57 1544.91 Z\" fill=\"#000000\" fill-rule=\"evenodd\" fill-opacity=\"1\" /><path clip-path=\"url(#clip710)\" d=\"M2239.95 1544.91 L2256.27 1544.91 L2256.27 1548.85 L2234.33 1548.85 L2234.33 1544.91 Q2236.99 1542.16 2241.57 1537.53 Q2246.18 1532.88 2247.36 1531.53 Q2249.61 1529.01 2250.49 1527.27 Q2251.39 1525.51 2251.39 1523.82 Q2251.39 1521.07 2249.45 1519.33 Q2247.52 1517.6 2244.42 1517.6 Q2242.22 1517.6 2239.77 1518.36 Q2237.34 1519.13 2234.56 1520.68 L2234.56 1515.95 Q2237.38 1514.82 2239.84 1514.24 Q2242.29 1513.66 2244.33 1513.66 Q2249.7 1513.66 2252.89 1516.35 Q2256.09 1519.03 2256.09 1523.52 Q2256.09 1525.65 2255.28 1527.57 Q2254.49 1529.47 2252.38 1532.07 Q2251.81 1532.74 2248.7 1535.95 Q2245.6 1539.15 2239.95 1544.91 Z\" fill=\"#000000\" fill-rule=\"evenodd\" fill-opacity=\"1\" /><polyline clip-path=\"url(#clip712)\" style=\"stroke:#000000; stroke-linecap:butt; stroke-linejoin:round; stroke-width:2; stroke-opacity:0.1; fill:none\" points=\"\n  140.696,1445.72 2352.76,1445.72 \n  \"/>\n<polyline clip-path=\"url(#clip712)\" style=\"stroke:#000000; stroke-linecap:butt; stroke-linejoin:round; stroke-width:2; stroke-opacity:0.1; fill:none\" points=\"\n  140.696,1106.28 2352.76,1106.28 \n  \"/>\n<polyline clip-path=\"url(#clip712)\" style=\"stroke:#000000; stroke-linecap:butt; stroke-linejoin:round; stroke-width:2; stroke-opacity:0.1; fill:none\" points=\"\n  140.696,766.846 2352.76,766.846 \n  \"/>\n<polyline clip-path=\"url(#clip712)\" style=\"stroke:#000000; stroke-linecap:butt; stroke-linejoin:round; stroke-width:2; stroke-opacity:0.1; fill:none\" points=\"\n  140.696,427.411 2352.76,427.411 \n  \"/>\n<polyline clip-path=\"url(#clip712)\" style=\"stroke:#000000; stroke-linecap:butt; stroke-linejoin:round; stroke-width:2; stroke-opacity:0.1; fill:none\" points=\"\n  140.696,87.9763 2352.76,87.9763 \n  \"/>\n<polyline clip-path=\"url(#clip710)\" style=\"stroke:#000000; stroke-linecap:butt; stroke-linejoin:round; stroke-width:4; stroke-opacity:1; fill:none\" points=\"\n  140.696,1486.45 140.696,47.2441 \n  \"/>\n<polyline clip-path=\"url(#clip710)\" style=\"stroke:#000000; stroke-linecap:butt; stroke-linejoin:round; stroke-width:4; stroke-opacity:1; fill:none\" points=\"\n  140.696,1445.72 159.593,1445.72 \n  \"/>\n<polyline clip-path=\"url(#clip710)\" style=\"stroke:#000000; stroke-linecap:butt; stroke-linejoin:round; stroke-width:4; stroke-opacity:1; fill:none\" points=\"\n  140.696,1106.28 159.593,1106.28 \n  \"/>\n<polyline clip-path=\"url(#clip710)\" style=\"stroke:#000000; stroke-linecap:butt; stroke-linejoin:round; stroke-width:4; stroke-opacity:1; fill:none\" points=\"\n  140.696,766.846 159.593,766.846 \n  \"/>\n<polyline clip-path=\"url(#clip710)\" style=\"stroke:#000000; stroke-linecap:butt; stroke-linejoin:round; stroke-width:4; stroke-opacity:1; fill:none\" points=\"\n  140.696,427.411 159.593,427.411 \n  \"/>\n<polyline clip-path=\"url(#clip710)\" style=\"stroke:#000000; stroke-linecap:butt; stroke-linejoin:round; stroke-width:4; stroke-opacity:1; fill:none\" points=\"\n  140.696,87.9763 159.593,87.9763 \n  \"/>\n<path clip-path=\"url(#clip710)\" d=\"M92.7512 1431.51 Q89.1401 1431.51 87.3114 1435.08 Q85.5058 1438.62 85.5058 1445.75 Q85.5058 1452.86 87.3114 1456.42 Q89.1401 1459.96 92.7512 1459.96 Q96.3854 1459.96 98.1909 1456.42 Q100.02 1452.86 100.02 1445.75 Q100.02 1438.62 98.1909 1435.08 Q96.3854 1431.51 92.7512 1431.51 M92.7512 1427.81 Q98.5613 1427.81 101.617 1432.42 Q104.696 1437 104.696 1445.75 Q104.696 1454.48 101.617 1459.08 Q98.5613 1463.67 92.7512 1463.67 Q86.941 1463.67 83.8623 1459.08 Q80.8068 1454.48 80.8068 1445.75 Q80.8068 1437 83.8623 1432.42 Q86.941 1427.81 92.7512 1427.81 Z\" fill=\"#000000\" fill-rule=\"evenodd\" fill-opacity=\"1\" /><path clip-path=\"url(#clip710)\" d=\"M83.7929 1089 L102.149 1089 L102.149 1092.94 L88.0753 1092.94 L88.0753 1101.41 Q89.0938 1101.06 90.1123 1100.9 Q91.1308 1100.71 92.1493 1100.71 Q97.9363 1100.71 101.316 1103.89 Q104.696 1107.06 104.696 1112.47 Q104.696 1118.05 101.223 1121.15 Q97.7511 1124.23 91.4317 1124.23 Q89.2558 1124.23 86.9873 1123.86 Q84.7419 1123.49 82.3346 1122.75 L82.3346 1118.05 Q84.4179 1119.19 86.6401 1119.74 Q88.8623 1120.3 91.3391 1120.3 Q95.3437 1120.3 97.6817 1118.19 Q100.02 1116.08 100.02 1112.47 Q100.02 1108.86 97.6817 1106.76 Q95.3437 1104.65 91.3391 1104.65 Q89.4641 1104.65 87.5892 1105.07 Q85.7373 1105.48 83.7929 1106.36 L83.7929 1089 Z\" fill=\"#000000\" fill-rule=\"evenodd\" fill-opacity=\"1\" /><path clip-path=\"url(#clip710)\" d=\"M53.3995 780.191 L61.0384 780.191 L61.0384 753.825 L52.7282 755.492 L52.7282 751.233 L60.9921 749.566 L65.668 749.566 L65.668 780.191 L73.3068 780.191 L73.3068 784.126 L53.3995 784.126 L53.3995 780.191 Z\" fill=\"#000000\" fill-rule=\"evenodd\" fill-opacity=\"1\" /><path clip-path=\"url(#clip710)\" d=\"M92.7512 752.645 Q89.1401 752.645 87.3114 756.209 Q85.5058 759.751 85.5058 766.881 Q85.5058 773.987 87.3114 777.552 Q89.1401 781.094 92.7512 781.094 Q96.3854 781.094 98.1909 777.552 Q100.02 773.987 100.02 766.881 Q100.02 759.751 98.1909 756.209 Q96.3854 752.645 92.7512 752.645 M92.7512 748.941 Q98.5613 748.941 101.617 753.547 Q104.696 758.131 104.696 766.881 Q104.696 775.608 101.617 780.214 Q98.5613 784.797 92.7512 784.797 Q86.941 784.797 83.8623 780.214 Q80.8068 775.608 80.8068 766.881 Q80.8068 758.131 83.8623 753.547 Q86.941 748.941 92.7512 748.941 Z\" fill=\"#000000\" fill-rule=\"evenodd\" fill-opacity=\"1\" /><path clip-path=\"url(#clip710)\" d=\"M54.3949 440.756 L62.0337 440.756 L62.0337 414.39 L53.7236 416.057 L53.7236 411.798 L61.9874 410.131 L66.6633 410.131 L66.6633 440.756 L74.3022 440.756 L74.3022 444.691 L54.3949 444.691 L54.3949 440.756 Z\" fill=\"#000000\" fill-rule=\"evenodd\" fill-opacity=\"1\" /><path clip-path=\"url(#clip710)\" d=\"M83.7929 410.131 L102.149 410.131 L102.149 414.066 L88.0753 414.066 L88.0753 422.538 Q89.0938 422.191 90.1123 422.029 Q91.1308 421.844 92.1493 421.844 Q97.9363 421.844 101.316 425.015 Q104.696 428.187 104.696 433.603 Q104.696 439.182 101.223 442.284 Q97.7511 445.362 91.4317 445.362 Q89.2558 445.362 86.9873 444.992 Q84.7419 444.622 82.3346 443.881 L82.3346 439.182 Q84.4179 440.316 86.6401 440.872 Q88.8623 441.427 91.3391 441.427 Q95.3437 441.427 97.6817 439.321 Q100.02 437.214 100.02 433.603 Q100.02 429.992 97.6817 427.886 Q95.3437 425.779 91.3391 425.779 Q89.4641 425.779 87.5892 426.196 Q85.7373 426.613 83.7929 427.492 L83.7929 410.131 Z\" fill=\"#000000\" fill-rule=\"evenodd\" fill-opacity=\"1\" /><path clip-path=\"url(#clip710)\" d=\"M56.6171 101.321 L72.9365 101.321 L72.9365 105.256 L50.9921 105.256 L50.9921 101.321 Q53.6541 98.5665 58.2375 93.9369 Q62.8439 89.2841 64.0245 87.9416 Q66.2698 85.4184 67.1494 83.6823 Q68.0522 81.9231 68.0522 80.2333 Q68.0522 77.4786 66.1078 75.7425 Q64.1865 74.0064 61.0847 74.0064 Q58.8856 74.0064 56.4319 74.7703 Q54.0014 75.5342 51.2236 77.0851 L51.2236 72.3629 Q54.0477 71.2287 56.5014 70.65 Q58.955 70.0713 60.9921 70.0713 Q66.3624 70.0713 69.5568 72.7565 Q72.7513 75.4416 72.7513 79.9323 Q72.7513 82.062 71.9411 83.9832 Q71.1541 85.8814 69.0476 88.474 Q68.4689 89.1453 65.367 92.3628 Q62.2652 95.5573 56.6171 101.321 Z\" fill=\"#000000\" fill-rule=\"evenodd\" fill-opacity=\"1\" /><path clip-path=\"url(#clip710)\" d=\"M92.7512 73.775 Q89.1401 73.775 87.3114 77.3398 Q85.5058 80.8814 85.5058 88.011 Q85.5058 95.1174 87.3114 98.6822 Q89.1401 102.224 92.7512 102.224 Q96.3854 102.224 98.1909 98.6822 Q100.02 95.1174 100.02 88.011 Q100.02 80.8814 98.1909 77.3398 Q96.3854 73.775 92.7512 73.775 M92.7512 70.0713 Q98.5613 70.0713 101.617 74.6777 Q104.696 79.261 104.696 88.011 Q104.696 96.7378 101.617 101.344 Q98.5613 105.928 92.7512 105.928 Q86.941 105.928 83.8623 101.344 Q80.8068 96.7378 80.8068 88.011 Q80.8068 79.261 83.8623 74.6777 Q86.941 70.0713 92.7512 70.0713 Z\" fill=\"#000000\" fill-rule=\"evenodd\" fill-opacity=\"1\" /><path clip-path=\"url(#clip712)\" d=\"\nM262.363 1038.39 L262.363 1445.72 L590.484 1445.72 L590.484 1038.39 L262.363 1038.39 L262.363 1038.39  Z\n  \" fill=\"#009af9\" fill-rule=\"evenodd\" fill-opacity=\"1\"/>\n<polyline clip-path=\"url(#clip712)\" style=\"stroke:#000000; stroke-linecap:butt; stroke-linejoin:round; stroke-width:4; stroke-opacity:1; fill:none\" points=\"\n  262.363,1038.39 262.363,1445.72 590.484,1445.72 590.484,1038.39 262.363,1038.39 \n  \"/>\n<path clip-path=\"url(#clip712)\" d=\"\nM590.484 223.75 L590.484 1445.72 L918.605 1445.72 L918.605 223.75 L590.484 223.75 L590.484 223.75  Z\n  \" fill=\"#009af9\" fill-rule=\"evenodd\" fill-opacity=\"1\"/>\n<polyline clip-path=\"url(#clip712)\" style=\"stroke:#000000; stroke-linecap:butt; stroke-linejoin:round; stroke-width:4; stroke-opacity:1; fill:none\" points=\"\n  590.484,223.75 590.484,1445.72 918.605,1445.72 918.605,223.75 590.484,223.75 \n  \"/>\n<path clip-path=\"url(#clip712)\" d=\"\nM918.605 87.9763 L918.605 1445.72 L1246.73 1445.72 L1246.73 87.9763 L918.605 87.9763 L918.605 87.9763  Z\n  \" fill=\"#009af9\" fill-rule=\"evenodd\" fill-opacity=\"1\"/>\n<polyline clip-path=\"url(#clip712)\" style=\"stroke:#000000; stroke-linecap:butt; stroke-linejoin:round; stroke-width:4; stroke-opacity:1; fill:none\" points=\"\n  918.605,87.9763 918.605,1445.72 1246.73,1445.72 1246.73,87.9763 918.605,87.9763 \n  \"/>\n<path clip-path=\"url(#clip712)\" d=\"\nM1246.73 1174.17 L1246.73 1445.72 L1574.85 1445.72 L1574.85 1174.17 L1246.73 1174.17 L1246.73 1174.17  Z\n  \" fill=\"#009af9\" fill-rule=\"evenodd\" fill-opacity=\"1\"/>\n<polyline clip-path=\"url(#clip712)\" style=\"stroke:#000000; stroke-linecap:butt; stroke-linejoin:round; stroke-width:4; stroke-opacity:1; fill:none\" points=\"\n  1246.73,1174.17 1246.73,1445.72 1574.85,1445.72 1574.85,1174.17 1246.73,1174.17 \n  \"/>\n<path clip-path=\"url(#clip712)\" d=\"\nM1574.85 1377.83 L1574.85 1445.72 L1902.97 1445.72 L1902.97 1377.83 L1574.85 1377.83 L1574.85 1377.83  Z\n  \" fill=\"#009af9\" fill-rule=\"evenodd\" fill-opacity=\"1\"/>\n<polyline clip-path=\"url(#clip712)\" style=\"stroke:#000000; stroke-linecap:butt; stroke-linejoin:round; stroke-width:4; stroke-opacity:1; fill:none\" points=\"\n  1574.85,1377.83 1574.85,1445.72 1902.97,1445.72 1902.97,1377.83 1574.85,1377.83 \n  \"/>\n<path clip-path=\"url(#clip712)\" d=\"\nM1902.97 1377.83 L1902.97 1445.72 L2231.09 1445.72 L2231.09 1377.83 L1902.97 1377.83 L1902.97 1377.83  Z\n  \" fill=\"#009af9\" fill-rule=\"evenodd\" fill-opacity=\"1\"/>\n<polyline clip-path=\"url(#clip712)\" style=\"stroke:#000000; stroke-linecap:butt; stroke-linejoin:round; stroke-width:4; stroke-opacity:1; fill:none\" points=\"\n  1902.97,1377.83 1902.97,1445.72 2231.09,1445.72 2231.09,1377.83 1902.97,1377.83 \n  \"/>\n<circle clip-path=\"url(#clip712)\" style=\"fill:#009af9; stroke:none; fill-opacity:0\" cx=\"426.423\" cy=\"1038.39\" r=\"2\"/>\n<circle clip-path=\"url(#clip712)\" style=\"fill:#009af9; stroke:none; fill-opacity:0\" cx=\"754.544\" cy=\"223.75\" r=\"2\"/>\n<circle clip-path=\"url(#clip712)\" style=\"fill:#009af9; stroke:none; fill-opacity:0\" cx=\"1082.67\" cy=\"87.9763\" r=\"2\"/>\n<circle clip-path=\"url(#clip712)\" style=\"fill:#009af9; stroke:none; fill-opacity:0\" cx=\"1410.79\" cy=\"1174.17\" r=\"2\"/>\n<circle clip-path=\"url(#clip712)\" style=\"fill:#009af9; stroke:none; fill-opacity:0\" cx=\"1738.91\" cy=\"1377.83\" r=\"2\"/>\n<circle clip-path=\"url(#clip712)\" style=\"fill:#009af9; stroke:none; fill-opacity:0\" cx=\"2067.03\" cy=\"1377.83\" r=\"2\"/>\n<path clip-path=\"url(#clip710)\" d=\"\nM1980.81 198.898 L2279.02 198.898 L2279.02 95.2176 L1980.81 95.2176  Z\n  \" fill=\"#ffffff\" fill-rule=\"evenodd\" fill-opacity=\"1\"/>\n<polyline clip-path=\"url(#clip710)\" style=\"stroke:#000000; stroke-linecap:butt; stroke-linejoin:round; stroke-width:4; stroke-opacity:1; fill:none\" points=\"\n  1980.81,198.898 2279.02,198.898 2279.02,95.2176 1980.81,95.2176 1980.81,198.898 \n  \"/>\n<path clip-path=\"url(#clip710)\" d=\"\nM2005.38 167.794 L2152.85 167.794 L2152.85 126.322 L2005.38 126.322 L2005.38 167.794  Z\n  \" fill=\"#009af9\" fill-rule=\"evenodd\" fill-opacity=\"1\"/>\n<polyline clip-path=\"url(#clip710)\" style=\"stroke:#000000; stroke-linecap:butt; stroke-linejoin:round; stroke-width:4; stroke-opacity:1; fill:none\" points=\"\n  2005.38,167.794 2152.85,167.794 2152.85,126.322 2005.38,126.322 2005.38,167.794 \n  \"/>\n<path clip-path=\"url(#clip710)\" d=\"M2191.28 166.745 Q2189.47 171.375 2187.76 172.787 Q2186.04 174.199 2183.17 174.199 L2179.77 174.199 L2179.77 170.634 L2182.27 170.634 Q2184.03 170.634 2185 169.8 Q2185.98 168.967 2187.16 165.865 L2187.92 163.921 L2177.43 138.412 L2181.95 138.412 L2190.05 158.689 L2198.15 138.412 L2202.66 138.412 L2191.28 166.745 Z\" fill=\"#000000\" fill-rule=\"evenodd\" fill-opacity=\"1\" /><path clip-path=\"url(#clip710)\" d=\"M2209.96 160.402 L2217.6 160.402 L2217.6 134.037 L2209.29 135.703 L2209.29 131.444 L2217.55 129.778 L2222.22 129.778 L2222.22 160.402 L2229.86 160.402 L2229.86 164.338 L2209.96 164.338 L2209.96 160.402 Z\" fill=\"#000000\" fill-rule=\"evenodd\" fill-opacity=\"1\" /></svg>\n",
      "text/html": [
       "<?xml version=\"1.0\" encoding=\"utf-8\"?>\n",
       "<svg xmlns=\"http://www.w3.org/2000/svg\" xmlns:xlink=\"http://www.w3.org/1999/xlink\" width=\"600\" height=\"400\" viewBox=\"0 0 2400 1600\">\n",
       "<defs>\n",
       "  <clipPath id=\"clip760\">\n",
       "    <rect x=\"0\" y=\"0\" width=\"2400\" height=\"1600\"/>\n",
       "  </clipPath>\n",
       "</defs>\n",
       "<path clip-path=\"url(#clip760)\" d=\"\n",
       "M0 1600 L2400 1600 L2400 0 L0 0  Z\n",
       "  \" fill=\"#ffffff\" fill-rule=\"evenodd\" fill-opacity=\"1\"/>\n",
       "<defs>\n",
       "  <clipPath id=\"clip761\">\n",
       "    <rect x=\"480\" y=\"0\" width=\"1681\" height=\"1600\"/>\n",
       "  </clipPath>\n",
       "</defs>\n",
       "<path clip-path=\"url(#clip760)\" d=\"\n",
       "M140.696 1486.45 L2352.76 1486.45 L2352.76 47.2441 L140.696 47.2441  Z\n",
       "  \" fill=\"#ffffff\" fill-rule=\"evenodd\" fill-opacity=\"1\"/>\n",
       "<defs>\n",
       "  <clipPath id=\"clip762\">\n",
       "    <rect x=\"140\" y=\"47\" width=\"2213\" height=\"1440\"/>\n",
       "  </clipPath>\n",
       "</defs>\n",
       "<polyline clip-path=\"url(#clip762)\" style=\"stroke:#000000; stroke-linecap:butt; stroke-linejoin:round; stroke-width:2; stroke-opacity:0.1; fill:none\" points=\"\n",
       "  262.363,1486.45 262.363,47.2441 \n",
       "  \"/>\n",
       "<polyline clip-path=\"url(#clip762)\" style=\"stroke:#000000; stroke-linecap:butt; stroke-linejoin:round; stroke-width:2; stroke-opacity:0.1; fill:none\" points=\"\n",
       "  590.484,1486.45 590.484,47.2441 \n",
       "  \"/>\n",
       "<polyline clip-path=\"url(#clip762)\" style=\"stroke:#000000; stroke-linecap:butt; stroke-linejoin:round; stroke-width:2; stroke-opacity:0.1; fill:none\" points=\"\n",
       "  918.605,1486.45 918.605,47.2441 \n",
       "  \"/>\n",
       "<polyline clip-path=\"url(#clip762)\" style=\"stroke:#000000; stroke-linecap:butt; stroke-linejoin:round; stroke-width:2; stroke-opacity:0.1; fill:none\" points=\"\n",
       "  1246.73,1486.45 1246.73,47.2441 \n",
       "  \"/>\n",
       "<polyline clip-path=\"url(#clip762)\" style=\"stroke:#000000; stroke-linecap:butt; stroke-linejoin:round; stroke-width:2; stroke-opacity:0.1; fill:none\" points=\"\n",
       "  1574.85,1486.45 1574.85,47.2441 \n",
       "  \"/>\n",
       "<polyline clip-path=\"url(#clip762)\" style=\"stroke:#000000; stroke-linecap:butt; stroke-linejoin:round; stroke-width:2; stroke-opacity:0.1; fill:none\" points=\"\n",
       "  1902.97,1486.45 1902.97,47.2441 \n",
       "  \"/>\n",
       "<polyline clip-path=\"url(#clip762)\" style=\"stroke:#000000; stroke-linecap:butt; stroke-linejoin:round; stroke-width:2; stroke-opacity:0.1; fill:none\" points=\"\n",
       "  2231.09,1486.45 2231.09,47.2441 \n",
       "  \"/>\n",
       "<polyline clip-path=\"url(#clip760)\" style=\"stroke:#000000; stroke-linecap:butt; stroke-linejoin:round; stroke-width:4; stroke-opacity:1; fill:none\" points=\"\n",
       "  140.696,1486.45 2352.76,1486.45 \n",
       "  \"/>\n",
       "<polyline clip-path=\"url(#clip760)\" style=\"stroke:#000000; stroke-linecap:butt; stroke-linejoin:round; stroke-width:4; stroke-opacity:1; fill:none\" points=\"\n",
       "  262.363,1486.45 262.363,1467.55 \n",
       "  \"/>\n",
       "<polyline clip-path=\"url(#clip760)\" style=\"stroke:#000000; stroke-linecap:butt; stroke-linejoin:round; stroke-width:4; stroke-opacity:1; fill:none\" points=\"\n",
       "  590.484,1486.45 590.484,1467.55 \n",
       "  \"/>\n",
       "<polyline clip-path=\"url(#clip760)\" style=\"stroke:#000000; stroke-linecap:butt; stroke-linejoin:round; stroke-width:4; stroke-opacity:1; fill:none\" points=\"\n",
       "  918.605,1486.45 918.605,1467.55 \n",
       "  \"/>\n",
       "<polyline clip-path=\"url(#clip760)\" style=\"stroke:#000000; stroke-linecap:butt; stroke-linejoin:round; stroke-width:4; stroke-opacity:1; fill:none\" points=\"\n",
       "  1246.73,1486.45 1246.73,1467.55 \n",
       "  \"/>\n",
       "<polyline clip-path=\"url(#clip760)\" style=\"stroke:#000000; stroke-linecap:butt; stroke-linejoin:round; stroke-width:4; stroke-opacity:1; fill:none\" points=\"\n",
       "  1574.85,1486.45 1574.85,1467.55 \n",
       "  \"/>\n",
       "<polyline clip-path=\"url(#clip760)\" style=\"stroke:#000000; stroke-linecap:butt; stroke-linejoin:round; stroke-width:4; stroke-opacity:1; fill:none\" points=\"\n",
       "  1902.97,1486.45 1902.97,1467.55 \n",
       "  \"/>\n",
       "<polyline clip-path=\"url(#clip760)\" style=\"stroke:#000000; stroke-linecap:butt; stroke-linejoin:round; stroke-width:4; stroke-opacity:1; fill:none\" points=\"\n",
       "  2231.09,1486.45 2231.09,1467.55 \n",
       "  \"/>\n",
       "<path clip-path=\"url(#clip760)\" d=\"M262.363 1517.37 Q258.752 1517.37 256.923 1520.93 Q255.117 1524.47 255.117 1531.6 Q255.117 1538.71 256.923 1542.27 Q258.752 1545.82 262.363 1545.82 Q265.997 1545.82 267.803 1542.27 Q269.631 1538.71 269.631 1531.6 Q269.631 1524.47 267.803 1520.93 Q265.997 1517.37 262.363 1517.37 M262.363 1513.66 Q268.173 1513.66 271.228 1518.27 Q274.307 1522.85 274.307 1531.6 Q274.307 1540.33 271.228 1544.94 Q268.173 1549.52 262.363 1549.52 Q256.553 1549.52 253.474 1544.94 Q250.418 1540.33 250.418 1531.6 Q250.418 1522.85 253.474 1518.27 Q256.553 1513.66 262.363 1513.66 Z\" fill=\"#000000\" fill-rule=\"evenodd\" fill-opacity=\"1\" /><path clip-path=\"url(#clip760)\" d=\"M585.137 1544.91 L601.456 1544.91 L601.456 1548.85 L579.512 1548.85 L579.512 1544.91 Q582.174 1542.16 586.757 1537.53 Q591.363 1532.88 592.544 1531.53 Q594.789 1529.01 595.669 1527.27 Q596.572 1525.51 596.572 1523.82 Q596.572 1521.07 594.627 1519.33 Q592.706 1517.6 589.604 1517.6 Q587.405 1517.6 584.951 1518.36 Q582.521 1519.13 579.743 1520.68 L579.743 1515.95 Q582.567 1514.82 585.021 1514.24 Q587.475 1513.66 589.512 1513.66 Q594.882 1513.66 598.076 1516.35 Q601.271 1519.03 601.271 1523.52 Q601.271 1525.65 600.461 1527.57 Q599.674 1529.47 597.567 1532.07 Q596.988 1532.74 593.887 1535.95 Q590.785 1539.15 585.137 1544.91 Z\" fill=\"#000000\" fill-rule=\"evenodd\" fill-opacity=\"1\" /><path clip-path=\"url(#clip760)\" d=\"M921.614 1518.36 L909.808 1536.81 L921.614 1536.81 L921.614 1518.36 M920.387 1514.29 L926.267 1514.29 L926.267 1536.81 L931.197 1536.81 L931.197 1540.7 L926.267 1540.7 L926.267 1548.85 L921.614 1548.85 L921.614 1540.7 L906.012 1540.7 L906.012 1536.19 L920.387 1514.29 Z\" fill=\"#000000\" fill-rule=\"evenodd\" fill-opacity=\"1\" /><path clip-path=\"url(#clip760)\" d=\"M1247.13 1529.7 Q1243.98 1529.7 1242.13 1531.86 Q1240.3 1534.01 1240.3 1537.76 Q1240.3 1541.49 1242.13 1543.66 Q1243.98 1545.82 1247.13 1545.82 Q1250.28 1545.82 1252.11 1543.66 Q1253.96 1541.49 1253.96 1537.76 Q1253.96 1534.01 1252.11 1531.86 Q1250.28 1529.7 1247.13 1529.7 M1256.41 1515.05 L1256.41 1519.31 Q1254.65 1518.48 1252.85 1518.04 Q1251.07 1517.6 1249.31 1517.6 Q1244.68 1517.6 1242.22 1520.72 Q1239.79 1523.85 1239.45 1530.17 Q1240.81 1528.15 1242.87 1527.09 Q1244.93 1526 1247.41 1526 Q1252.62 1526 1255.63 1529.17 Q1258.66 1532.32 1258.66 1537.76 Q1258.66 1543.08 1255.51 1546.3 Q1252.36 1549.52 1247.13 1549.52 Q1241.14 1549.52 1237.96 1544.94 Q1234.79 1540.33 1234.79 1531.6 Q1234.79 1523.41 1238.68 1518.55 Q1242.57 1513.66 1249.12 1513.66 Q1250.88 1513.66 1252.66 1514.01 Q1254.47 1514.36 1256.41 1515.05 Z\" fill=\"#000000\" fill-rule=\"evenodd\" fill-opacity=\"1\" /><path clip-path=\"url(#clip760)\" d=\"M1574.85 1532.44 Q1571.51 1532.44 1569.59 1534.22 Q1567.69 1536 1567.69 1539.13 Q1567.69 1542.25 1569.59 1544.03 Q1571.51 1545.82 1574.85 1545.82 Q1578.18 1545.82 1580.1 1544.03 Q1582.02 1542.23 1582.02 1539.13 Q1582.02 1536 1580.1 1534.22 Q1578.2 1532.44 1574.85 1532.44 M1570.17 1530.45 Q1567.16 1529.7 1565.47 1527.64 Q1563.81 1525.58 1563.81 1522.62 Q1563.81 1518.48 1566.74 1516.07 Q1569.71 1513.66 1574.85 1513.66 Q1580.01 1513.66 1582.95 1516.07 Q1585.89 1518.48 1585.89 1522.62 Q1585.89 1525.58 1584.2 1527.64 Q1582.53 1529.7 1579.55 1530.45 Q1582.93 1531.23 1584.8 1533.52 Q1586.7 1535.82 1586.7 1539.13 Q1586.7 1544.15 1583.62 1546.83 Q1580.56 1549.52 1574.85 1549.52 Q1569.13 1549.52 1566.05 1546.83 Q1562.99 1544.15 1562.99 1539.13 Q1562.99 1535.82 1564.89 1533.52 Q1566.79 1531.23 1570.17 1530.45 M1568.46 1523.06 Q1568.46 1525.75 1570.12 1527.25 Q1571.81 1528.76 1574.85 1528.76 Q1577.86 1528.76 1579.55 1527.25 Q1581.26 1525.75 1581.26 1523.06 Q1581.26 1520.38 1579.55 1518.87 Q1577.86 1517.37 1574.85 1517.37 Q1571.81 1517.37 1570.12 1518.87 Q1568.46 1520.38 1568.46 1523.06 Z\" fill=\"#000000\" fill-rule=\"evenodd\" fill-opacity=\"1\" /><path clip-path=\"url(#clip760)\" d=\"M1877.66 1544.91 L1885.29 1544.91 L1885.29 1518.55 L1876.98 1520.21 L1876.98 1515.95 L1885.25 1514.29 L1889.92 1514.29 L1889.92 1544.91 L1897.56 1544.91 L1897.56 1548.85 L1877.66 1548.85 L1877.66 1544.91 Z\" fill=\"#000000\" fill-rule=\"evenodd\" fill-opacity=\"1\" /><path clip-path=\"url(#clip760)\" d=\"M1917.01 1517.37 Q1913.4 1517.37 1911.57 1520.93 Q1909.76 1524.47 1909.76 1531.6 Q1909.76 1538.71 1911.57 1542.27 Q1913.4 1545.82 1917.01 1545.82 Q1920.64 1545.82 1922.45 1542.27 Q1924.28 1538.71 1924.28 1531.6 Q1924.28 1524.47 1922.45 1520.93 Q1920.64 1517.37 1917.01 1517.37 M1917.01 1513.66 Q1922.82 1513.66 1925.87 1518.27 Q1928.95 1522.85 1928.95 1531.6 Q1928.95 1540.33 1925.87 1544.94 Q1922.82 1549.52 1917.01 1549.52 Q1911.2 1549.52 1908.12 1544.94 Q1905.06 1540.33 1905.06 1531.6 Q1905.06 1522.85 1908.12 1518.27 Q1911.2 1513.66 1917.01 1513.66 Z\" fill=\"#000000\" fill-rule=\"evenodd\" fill-opacity=\"1\" /><path clip-path=\"url(#clip760)\" d=\"M2206.57 1544.91 L2214.21 1544.91 L2214.21 1518.55 L2205.9 1520.21 L2205.9 1515.95 L2214.17 1514.29 L2218.84 1514.29 L2218.84 1544.91 L2226.48 1544.91 L2226.48 1548.85 L2206.57 1548.85 L2206.57 1544.91 Z\" fill=\"#000000\" fill-rule=\"evenodd\" fill-opacity=\"1\" /><path clip-path=\"url(#clip760)\" d=\"M2239.95 1544.91 L2256.27 1544.91 L2256.27 1548.85 L2234.33 1548.85 L2234.33 1544.91 Q2236.99 1542.16 2241.57 1537.53 Q2246.18 1532.88 2247.36 1531.53 Q2249.61 1529.01 2250.49 1527.27 Q2251.39 1525.51 2251.39 1523.82 Q2251.39 1521.07 2249.45 1519.33 Q2247.52 1517.6 2244.42 1517.6 Q2242.22 1517.6 2239.77 1518.36 Q2237.34 1519.13 2234.56 1520.68 L2234.56 1515.95 Q2237.38 1514.82 2239.84 1514.24 Q2242.29 1513.66 2244.33 1513.66 Q2249.7 1513.66 2252.89 1516.35 Q2256.09 1519.03 2256.09 1523.52 Q2256.09 1525.65 2255.28 1527.57 Q2254.49 1529.47 2252.38 1532.07 Q2251.81 1532.74 2248.7 1535.95 Q2245.6 1539.15 2239.95 1544.91 Z\" fill=\"#000000\" fill-rule=\"evenodd\" fill-opacity=\"1\" /><polyline clip-path=\"url(#clip762)\" style=\"stroke:#000000; stroke-linecap:butt; stroke-linejoin:round; stroke-width:2; stroke-opacity:0.1; fill:none\" points=\"\n",
       "  140.696,1445.72 2352.76,1445.72 \n",
       "  \"/>\n",
       "<polyline clip-path=\"url(#clip762)\" style=\"stroke:#000000; stroke-linecap:butt; stroke-linejoin:round; stroke-width:2; stroke-opacity:0.1; fill:none\" points=\"\n",
       "  140.696,1106.28 2352.76,1106.28 \n",
       "  \"/>\n",
       "<polyline clip-path=\"url(#clip762)\" style=\"stroke:#000000; stroke-linecap:butt; stroke-linejoin:round; stroke-width:2; stroke-opacity:0.1; fill:none\" points=\"\n",
       "  140.696,766.846 2352.76,766.846 \n",
       "  \"/>\n",
       "<polyline clip-path=\"url(#clip762)\" style=\"stroke:#000000; stroke-linecap:butt; stroke-linejoin:round; stroke-width:2; stroke-opacity:0.1; fill:none\" points=\"\n",
       "  140.696,427.411 2352.76,427.411 \n",
       "  \"/>\n",
       "<polyline clip-path=\"url(#clip762)\" style=\"stroke:#000000; stroke-linecap:butt; stroke-linejoin:round; stroke-width:2; stroke-opacity:0.1; fill:none\" points=\"\n",
       "  140.696,87.9763 2352.76,87.9763 \n",
       "  \"/>\n",
       "<polyline clip-path=\"url(#clip760)\" style=\"stroke:#000000; stroke-linecap:butt; stroke-linejoin:round; stroke-width:4; stroke-opacity:1; fill:none\" points=\"\n",
       "  140.696,1486.45 140.696,47.2441 \n",
       "  \"/>\n",
       "<polyline clip-path=\"url(#clip760)\" style=\"stroke:#000000; stroke-linecap:butt; stroke-linejoin:round; stroke-width:4; stroke-opacity:1; fill:none\" points=\"\n",
       "  140.696,1445.72 159.593,1445.72 \n",
       "  \"/>\n",
       "<polyline clip-path=\"url(#clip760)\" style=\"stroke:#000000; stroke-linecap:butt; stroke-linejoin:round; stroke-width:4; stroke-opacity:1; fill:none\" points=\"\n",
       "  140.696,1106.28 159.593,1106.28 \n",
       "  \"/>\n",
       "<polyline clip-path=\"url(#clip760)\" style=\"stroke:#000000; stroke-linecap:butt; stroke-linejoin:round; stroke-width:4; stroke-opacity:1; fill:none\" points=\"\n",
       "  140.696,766.846 159.593,766.846 \n",
       "  \"/>\n",
       "<polyline clip-path=\"url(#clip760)\" style=\"stroke:#000000; stroke-linecap:butt; stroke-linejoin:round; stroke-width:4; stroke-opacity:1; fill:none\" points=\"\n",
       "  140.696,427.411 159.593,427.411 \n",
       "  \"/>\n",
       "<polyline clip-path=\"url(#clip760)\" style=\"stroke:#000000; stroke-linecap:butt; stroke-linejoin:round; stroke-width:4; stroke-opacity:1; fill:none\" points=\"\n",
       "  140.696,87.9763 159.593,87.9763 \n",
       "  \"/>\n",
       "<path clip-path=\"url(#clip760)\" d=\"M92.7512 1431.51 Q89.1401 1431.51 87.3114 1435.08 Q85.5058 1438.62 85.5058 1445.75 Q85.5058 1452.86 87.3114 1456.42 Q89.1401 1459.96 92.7512 1459.96 Q96.3854 1459.96 98.1909 1456.42 Q100.02 1452.86 100.02 1445.75 Q100.02 1438.62 98.1909 1435.08 Q96.3854 1431.51 92.7512 1431.51 M92.7512 1427.81 Q98.5613 1427.81 101.617 1432.42 Q104.696 1437 104.696 1445.75 Q104.696 1454.48 101.617 1459.08 Q98.5613 1463.67 92.7512 1463.67 Q86.941 1463.67 83.8623 1459.08 Q80.8068 1454.48 80.8068 1445.75 Q80.8068 1437 83.8623 1432.42 Q86.941 1427.81 92.7512 1427.81 Z\" fill=\"#000000\" fill-rule=\"evenodd\" fill-opacity=\"1\" /><path clip-path=\"url(#clip760)\" d=\"M83.7929 1089 L102.149 1089 L102.149 1092.94 L88.0753 1092.94 L88.0753 1101.41 Q89.0938 1101.06 90.1123 1100.9 Q91.1308 1100.71 92.1493 1100.71 Q97.9363 1100.71 101.316 1103.89 Q104.696 1107.06 104.696 1112.47 Q104.696 1118.05 101.223 1121.15 Q97.7511 1124.23 91.4317 1124.23 Q89.2558 1124.23 86.9873 1123.86 Q84.7419 1123.49 82.3346 1122.75 L82.3346 1118.05 Q84.4179 1119.19 86.6401 1119.74 Q88.8623 1120.3 91.3391 1120.3 Q95.3437 1120.3 97.6817 1118.19 Q100.02 1116.08 100.02 1112.47 Q100.02 1108.86 97.6817 1106.76 Q95.3437 1104.65 91.3391 1104.65 Q89.4641 1104.65 87.5892 1105.07 Q85.7373 1105.48 83.7929 1106.36 L83.7929 1089 Z\" fill=\"#000000\" fill-rule=\"evenodd\" fill-opacity=\"1\" /><path clip-path=\"url(#clip760)\" d=\"M53.3995 780.191 L61.0384 780.191 L61.0384 753.825 L52.7282 755.492 L52.7282 751.233 L60.9921 749.566 L65.668 749.566 L65.668 780.191 L73.3068 780.191 L73.3068 784.126 L53.3995 784.126 L53.3995 780.191 Z\" fill=\"#000000\" fill-rule=\"evenodd\" fill-opacity=\"1\" /><path clip-path=\"url(#clip760)\" d=\"M92.7512 752.645 Q89.1401 752.645 87.3114 756.209 Q85.5058 759.751 85.5058 766.881 Q85.5058 773.987 87.3114 777.552 Q89.1401 781.094 92.7512 781.094 Q96.3854 781.094 98.1909 777.552 Q100.02 773.987 100.02 766.881 Q100.02 759.751 98.1909 756.209 Q96.3854 752.645 92.7512 752.645 M92.7512 748.941 Q98.5613 748.941 101.617 753.547 Q104.696 758.131 104.696 766.881 Q104.696 775.608 101.617 780.214 Q98.5613 784.797 92.7512 784.797 Q86.941 784.797 83.8623 780.214 Q80.8068 775.608 80.8068 766.881 Q80.8068 758.131 83.8623 753.547 Q86.941 748.941 92.7512 748.941 Z\" fill=\"#000000\" fill-rule=\"evenodd\" fill-opacity=\"1\" /><path clip-path=\"url(#clip760)\" d=\"M54.3949 440.756 L62.0337 440.756 L62.0337 414.39 L53.7236 416.057 L53.7236 411.798 L61.9874 410.131 L66.6633 410.131 L66.6633 440.756 L74.3022 440.756 L74.3022 444.691 L54.3949 444.691 L54.3949 440.756 Z\" fill=\"#000000\" fill-rule=\"evenodd\" fill-opacity=\"1\" /><path clip-path=\"url(#clip760)\" d=\"M83.7929 410.131 L102.149 410.131 L102.149 414.066 L88.0753 414.066 L88.0753 422.538 Q89.0938 422.191 90.1123 422.029 Q91.1308 421.844 92.1493 421.844 Q97.9363 421.844 101.316 425.015 Q104.696 428.187 104.696 433.603 Q104.696 439.182 101.223 442.284 Q97.7511 445.362 91.4317 445.362 Q89.2558 445.362 86.9873 444.992 Q84.7419 444.622 82.3346 443.881 L82.3346 439.182 Q84.4179 440.316 86.6401 440.872 Q88.8623 441.427 91.3391 441.427 Q95.3437 441.427 97.6817 439.321 Q100.02 437.214 100.02 433.603 Q100.02 429.992 97.6817 427.886 Q95.3437 425.779 91.3391 425.779 Q89.4641 425.779 87.5892 426.196 Q85.7373 426.613 83.7929 427.492 L83.7929 410.131 Z\" fill=\"#000000\" fill-rule=\"evenodd\" fill-opacity=\"1\" /><path clip-path=\"url(#clip760)\" d=\"M56.6171 101.321 L72.9365 101.321 L72.9365 105.256 L50.9921 105.256 L50.9921 101.321 Q53.6541 98.5665 58.2375 93.9369 Q62.8439 89.2841 64.0245 87.9416 Q66.2698 85.4184 67.1494 83.6823 Q68.0522 81.9231 68.0522 80.2333 Q68.0522 77.4786 66.1078 75.7425 Q64.1865 74.0064 61.0847 74.0064 Q58.8856 74.0064 56.4319 74.7703 Q54.0014 75.5342 51.2236 77.0851 L51.2236 72.3629 Q54.0477 71.2287 56.5014 70.65 Q58.955 70.0713 60.9921 70.0713 Q66.3624 70.0713 69.5568 72.7565 Q72.7513 75.4416 72.7513 79.9323 Q72.7513 82.062 71.9411 83.9832 Q71.1541 85.8814 69.0476 88.474 Q68.4689 89.1453 65.367 92.3628 Q62.2652 95.5573 56.6171 101.321 Z\" fill=\"#000000\" fill-rule=\"evenodd\" fill-opacity=\"1\" /><path clip-path=\"url(#clip760)\" d=\"M92.7512 73.775 Q89.1401 73.775 87.3114 77.3398 Q85.5058 80.8814 85.5058 88.011 Q85.5058 95.1174 87.3114 98.6822 Q89.1401 102.224 92.7512 102.224 Q96.3854 102.224 98.1909 98.6822 Q100.02 95.1174 100.02 88.011 Q100.02 80.8814 98.1909 77.3398 Q96.3854 73.775 92.7512 73.775 M92.7512 70.0713 Q98.5613 70.0713 101.617 74.6777 Q104.696 79.261 104.696 88.011 Q104.696 96.7378 101.617 101.344 Q98.5613 105.928 92.7512 105.928 Q86.941 105.928 83.8623 101.344 Q80.8068 96.7378 80.8068 88.011 Q80.8068 79.261 83.8623 74.6777 Q86.941 70.0713 92.7512 70.0713 Z\" fill=\"#000000\" fill-rule=\"evenodd\" fill-opacity=\"1\" /><path clip-path=\"url(#clip762)\" d=\"\n",
       "M262.363 1038.39 L262.363 1445.72 L590.484 1445.72 L590.484 1038.39 L262.363 1038.39 L262.363 1038.39  Z\n",
       "  \" fill=\"#009af9\" fill-rule=\"evenodd\" fill-opacity=\"1\"/>\n",
       "<polyline clip-path=\"url(#clip762)\" style=\"stroke:#000000; stroke-linecap:butt; stroke-linejoin:round; stroke-width:4; stroke-opacity:1; fill:none\" points=\"\n",
       "  262.363,1038.39 262.363,1445.72 590.484,1445.72 590.484,1038.39 262.363,1038.39 \n",
       "  \"/>\n",
       "<path clip-path=\"url(#clip762)\" d=\"\n",
       "M590.484 223.75 L590.484 1445.72 L918.605 1445.72 L918.605 223.75 L590.484 223.75 L590.484 223.75  Z\n",
       "  \" fill=\"#009af9\" fill-rule=\"evenodd\" fill-opacity=\"1\"/>\n",
       "<polyline clip-path=\"url(#clip762)\" style=\"stroke:#000000; stroke-linecap:butt; stroke-linejoin:round; stroke-width:4; stroke-opacity:1; fill:none\" points=\"\n",
       "  590.484,223.75 590.484,1445.72 918.605,1445.72 918.605,223.75 590.484,223.75 \n",
       "  \"/>\n",
       "<path clip-path=\"url(#clip762)\" d=\"\n",
       "M918.605 87.9763 L918.605 1445.72 L1246.73 1445.72 L1246.73 87.9763 L918.605 87.9763 L918.605 87.9763  Z\n",
       "  \" fill=\"#009af9\" fill-rule=\"evenodd\" fill-opacity=\"1\"/>\n",
       "<polyline clip-path=\"url(#clip762)\" style=\"stroke:#000000; stroke-linecap:butt; stroke-linejoin:round; stroke-width:4; stroke-opacity:1; fill:none\" points=\"\n",
       "  918.605,87.9763 918.605,1445.72 1246.73,1445.72 1246.73,87.9763 918.605,87.9763 \n",
       "  \"/>\n",
       "<path clip-path=\"url(#clip762)\" d=\"\n",
       "M1246.73 1174.17 L1246.73 1445.72 L1574.85 1445.72 L1574.85 1174.17 L1246.73 1174.17 L1246.73 1174.17  Z\n",
       "  \" fill=\"#009af9\" fill-rule=\"evenodd\" fill-opacity=\"1\"/>\n",
       "<polyline clip-path=\"url(#clip762)\" style=\"stroke:#000000; stroke-linecap:butt; stroke-linejoin:round; stroke-width:4; stroke-opacity:1; fill:none\" points=\"\n",
       "  1246.73,1174.17 1246.73,1445.72 1574.85,1445.72 1574.85,1174.17 1246.73,1174.17 \n",
       "  \"/>\n",
       "<path clip-path=\"url(#clip762)\" d=\"\n",
       "M1574.85 1377.83 L1574.85 1445.72 L1902.97 1445.72 L1902.97 1377.83 L1574.85 1377.83 L1574.85 1377.83  Z\n",
       "  \" fill=\"#009af9\" fill-rule=\"evenodd\" fill-opacity=\"1\"/>\n",
       "<polyline clip-path=\"url(#clip762)\" style=\"stroke:#000000; stroke-linecap:butt; stroke-linejoin:round; stroke-width:4; stroke-opacity:1; fill:none\" points=\"\n",
       "  1574.85,1377.83 1574.85,1445.72 1902.97,1445.72 1902.97,1377.83 1574.85,1377.83 \n",
       "  \"/>\n",
       "<path clip-path=\"url(#clip762)\" d=\"\n",
       "M1902.97 1377.83 L1902.97 1445.72 L2231.09 1445.72 L2231.09 1377.83 L1902.97 1377.83 L1902.97 1377.83  Z\n",
       "  \" fill=\"#009af9\" fill-rule=\"evenodd\" fill-opacity=\"1\"/>\n",
       "<polyline clip-path=\"url(#clip762)\" style=\"stroke:#000000; stroke-linecap:butt; stroke-linejoin:round; stroke-width:4; stroke-opacity:1; fill:none\" points=\"\n",
       "  1902.97,1377.83 1902.97,1445.72 2231.09,1445.72 2231.09,1377.83 1902.97,1377.83 \n",
       "  \"/>\n",
       "<circle clip-path=\"url(#clip762)\" style=\"fill:#009af9; stroke:none; fill-opacity:0\" cx=\"426.423\" cy=\"1038.39\" r=\"2\"/>\n",
       "<circle clip-path=\"url(#clip762)\" style=\"fill:#009af9; stroke:none; fill-opacity:0\" cx=\"754.544\" cy=\"223.75\" r=\"2\"/>\n",
       "<circle clip-path=\"url(#clip762)\" style=\"fill:#009af9; stroke:none; fill-opacity:0\" cx=\"1082.67\" cy=\"87.9763\" r=\"2\"/>\n",
       "<circle clip-path=\"url(#clip762)\" style=\"fill:#009af9; stroke:none; fill-opacity:0\" cx=\"1410.79\" cy=\"1174.17\" r=\"2\"/>\n",
       "<circle clip-path=\"url(#clip762)\" style=\"fill:#009af9; stroke:none; fill-opacity:0\" cx=\"1738.91\" cy=\"1377.83\" r=\"2\"/>\n",
       "<circle clip-path=\"url(#clip762)\" style=\"fill:#009af9; stroke:none; fill-opacity:0\" cx=\"2067.03\" cy=\"1377.83\" r=\"2\"/>\n",
       "<path clip-path=\"url(#clip760)\" d=\"\n",
       "M1980.81 198.898 L2279.02 198.898 L2279.02 95.2176 L1980.81 95.2176  Z\n",
       "  \" fill=\"#ffffff\" fill-rule=\"evenodd\" fill-opacity=\"1\"/>\n",
       "<polyline clip-path=\"url(#clip760)\" style=\"stroke:#000000; stroke-linecap:butt; stroke-linejoin:round; stroke-width:4; stroke-opacity:1; fill:none\" points=\"\n",
       "  1980.81,198.898 2279.02,198.898 2279.02,95.2176 1980.81,95.2176 1980.81,198.898 \n",
       "  \"/>\n",
       "<path clip-path=\"url(#clip760)\" d=\"\n",
       "M2005.38 167.794 L2152.85 167.794 L2152.85 126.322 L2005.38 126.322 L2005.38 167.794  Z\n",
       "  \" fill=\"#009af9\" fill-rule=\"evenodd\" fill-opacity=\"1\"/>\n",
       "<polyline clip-path=\"url(#clip760)\" style=\"stroke:#000000; stroke-linecap:butt; stroke-linejoin:round; stroke-width:4; stroke-opacity:1; fill:none\" points=\"\n",
       "  2005.38,167.794 2152.85,167.794 2152.85,126.322 2005.38,126.322 2005.38,167.794 \n",
       "  \"/>\n",
       "<path clip-path=\"url(#clip760)\" d=\"M2191.28 166.745 Q2189.47 171.375 2187.76 172.787 Q2186.04 174.199 2183.17 174.199 L2179.77 174.199 L2179.77 170.634 L2182.27 170.634 Q2184.03 170.634 2185 169.8 Q2185.98 168.967 2187.16 165.865 L2187.92 163.921 L2177.43 138.412 L2181.95 138.412 L2190.05 158.689 L2198.15 138.412 L2202.66 138.412 L2191.28 166.745 Z\" fill=\"#000000\" fill-rule=\"evenodd\" fill-opacity=\"1\" /><path clip-path=\"url(#clip760)\" d=\"M2209.96 160.402 L2217.6 160.402 L2217.6 134.037 L2209.29 135.703 L2209.29 131.444 L2217.55 129.778 L2222.22 129.778 L2222.22 160.402 L2229.86 160.402 L2229.86 164.338 L2209.96 164.338 L2209.96 160.402 Z\" fill=\"#000000\" fill-rule=\"evenodd\" fill-opacity=\"1\" /></svg>\n"
      ]
     },
     "metadata": {},
     "output_type": "display_data"
    }
   ],
   "source": [
    "histogram(df_states[!, \"Murder.Rate\"])"
   ]
  },
  {
   "cell_type": "markdown",
   "metadata": {},
   "source": [
    "In statistical theory, location and variability are referred to as the first and second moments of a distribution. The third and fourth moments are called skewness and kurtosis. Skewness refers to whether the data is skewed to larger or smaller values, and kurtosis indicates the propensity of the data to have extreme values. Generally, metrics are not used to measure skewness and kurtosis; instead, these are discovered through visual displays such as Figures 1-2 and 1-3."
   ]
  },
  {
   "cell_type": "markdown",
   "metadata": {},
   "source": [
    "# Density Plots and Estimates"
   ]
  },
  {
   "cell_type": "markdown",
   "metadata": {},
   "source": [
    "Related to the histogram is a density plot, which shows the distribution of data values as a continuous line. \n",
    "\n",
    "A __density__ plot can be thought of as a smoothed histogram, although it is typically computed directly from the data through a kernel density estimate (see [Duong-2001] for a short tutorial). Figure 1-4 displays a density estimate superposed on a histogram. In R, you can compute a density estimate using the density function:"
   ]
  },
  {
   "cell_type": "code",
   "execution_count": 180,
   "metadata": {},
   "outputs": [
    {
     "data": {
      "image/png": "[encoded data removed]",
      "image/svg+xml": "<?xml version=\"1.0\" encoding=\"utf-8\"?>\n<svg xmlns=\"http://www.w3.org/2000/svg\" xmlns:xlink=\"http://www.w3.org/1999/xlink\" width=\"600\" height=\"400\" viewBox=\"0 0 2400 1600\">\n<defs>\n  <clipPath id=\"clip880\">\n    <rect x=\"0\" y=\"0\" width=\"2400\" height=\"1600\"/>\n  </clipPath>\n</defs>\n<path clip-path=\"url(#clip880)\" d=\"\nM0 1600 L2400 1600 L2400 0 L0 0  Z\n  \" fill=\"#ffffff\" fill-rule=\"evenodd\" fill-opacity=\"1\"/>\n<defs>\n  <clipPath id=\"clip881\">\n    <rect x=\"480\" y=\"0\" width=\"1681\" height=\"1600\"/>\n  </clipPath>\n</defs>\n<path clip-path=\"url(#clip880)\" d=\"\nM186.274 1486.45 L2352.76 1486.45 L2352.76 47.2441 L186.274 47.2441  Z\n  \" fill=\"#ffffff\" fill-rule=\"evenodd\" fill-opacity=\"1\"/>\n<defs>\n  <clipPath id=\"clip882\">\n    <rect x=\"186\" y=\"47\" width=\"2167\" height=\"1440\"/>\n  </clipPath>\n</defs>\n<polyline clip-path=\"url(#clip882)\" style=\"stroke:#000000; stroke-linecap:butt; stroke-linejoin:round; stroke-width:2; stroke-opacity:0.1; fill:none\" points=\"\n  540.858,1486.45 540.858,47.2441 \n  \"/>\n<polyline clip-path=\"url(#clip882)\" style=\"stroke:#000000; stroke-linecap:butt; stroke-linejoin:round; stroke-width:2; stroke-opacity:0.1; fill:none\" points=\"\n  931.21,1486.45 931.21,47.2441 \n  \"/>\n<polyline clip-path=\"url(#clip882)\" style=\"stroke:#000000; stroke-linecap:butt; stroke-linejoin:round; stroke-width:2; stroke-opacity:0.1; fill:none\" points=\"\n  1321.56,1486.45 1321.56,47.2441 \n  \"/>\n<polyline clip-path=\"url(#clip882)\" style=\"stroke:#000000; stroke-linecap:butt; stroke-linejoin:round; stroke-width:2; stroke-opacity:0.1; fill:none\" points=\"\n  1711.91,1486.45 1711.91,47.2441 \n  \"/>\n<polyline clip-path=\"url(#clip882)\" style=\"stroke:#000000; stroke-linecap:butt; stroke-linejoin:round; stroke-width:2; stroke-opacity:0.1; fill:none\" points=\"\n  2102.27,1486.45 2102.27,47.2441 \n  \"/>\n<polyline clip-path=\"url(#clip880)\" style=\"stroke:#000000; stroke-linecap:butt; stroke-linejoin:round; stroke-width:4; stroke-opacity:1; fill:none\" points=\"\n  186.274,1486.45 2352.76,1486.45 \n  \"/>\n<polyline clip-path=\"url(#clip880)\" style=\"stroke:#000000; stroke-linecap:butt; stroke-linejoin:round; stroke-width:4; stroke-opacity:1; fill:none\" points=\"\n  540.858,1486.45 540.858,1467.55 \n  \"/>\n<polyline clip-path=\"url(#clip880)\" style=\"stroke:#000000; stroke-linecap:butt; stroke-linejoin:round; stroke-width:4; stroke-opacity:1; fill:none\" points=\"\n  931.21,1486.45 931.21,1467.55 \n  \"/>\n<polyline clip-path=\"url(#clip880)\" style=\"stroke:#000000; stroke-linecap:butt; stroke-linejoin:round; stroke-width:4; stroke-opacity:1; fill:none\" points=\"\n  1321.56,1486.45 1321.56,1467.55 \n  \"/>\n<polyline clip-path=\"url(#clip880)\" style=\"stroke:#000000; stroke-linecap:butt; stroke-linejoin:round; stroke-width:4; stroke-opacity:1; fill:none\" points=\"\n  1711.91,1486.45 1711.91,1467.55 \n  \"/>\n<polyline clip-path=\"url(#clip880)\" style=\"stroke:#000000; stroke-linecap:butt; stroke-linejoin:round; stroke-width:4; stroke-opacity:1; fill:none\" points=\"\n  2102.27,1486.45 2102.27,1467.55 \n  \"/>\n<path clip-path=\"url(#clip880)\" d=\"M540.858 1517.37 Q537.246 1517.37 535.418 1520.93 Q533.612 1524.47 533.612 1531.6 Q533.612 1538.71 535.418 1542.27 Q537.246 1545.82 540.858 1545.82 Q544.492 1545.82 546.297 1542.27 Q548.126 1538.71 548.126 1531.6 Q548.126 1524.47 546.297 1520.93 Q544.492 1517.37 540.858 1517.37 M540.858 1513.66 Q546.668 1513.66 549.723 1518.27 Q552.802 1522.85 552.802 1531.6 Q552.802 1540.33 549.723 1544.94 Q546.668 1549.52 540.858 1549.52 Q535.047 1549.52 531.969 1544.94 Q528.913 1540.33 528.913 1531.6 Q528.913 1522.85 531.969 1518.27 Q535.047 1513.66 540.858 1513.66 Z\" fill=\"#000000\" fill-rule=\"evenodd\" fill-opacity=\"1\" /><path clip-path=\"url(#clip880)\" d=\"M935.457 1530.21 Q938.814 1530.93 940.689 1533.2 Q942.587 1535.47 942.587 1538.8 Q942.587 1543.92 939.068 1546.72 Q935.55 1549.52 929.069 1549.52 Q926.893 1549.52 924.578 1549.08 Q922.286 1548.66 919.832 1547.81 L919.832 1543.29 Q921.777 1544.43 924.092 1545.01 Q926.407 1545.58 928.93 1545.58 Q933.328 1545.58 935.619 1543.85 Q937.934 1542.11 937.934 1538.8 Q937.934 1535.75 935.781 1534.03 Q933.652 1532.3 929.832 1532.3 L925.805 1532.3 L925.805 1528.45 L930.018 1528.45 Q933.467 1528.45 935.295 1527.09 Q937.124 1525.7 937.124 1523.11 Q937.124 1520.45 935.226 1519.03 Q933.351 1517.6 929.832 1517.6 Q927.911 1517.6 925.712 1518.01 Q923.513 1518.43 920.874 1519.31 L920.874 1515.14 Q923.536 1514.4 925.851 1514.03 Q928.189 1513.66 930.249 1513.66 Q935.573 1513.66 938.675 1516.09 Q941.777 1518.5 941.777 1522.62 Q941.777 1525.49 940.133 1527.48 Q938.49 1529.45 935.457 1530.21 Z\" fill=\"#000000\" fill-rule=\"evenodd\" fill-opacity=\"1\" /><path clip-path=\"url(#clip880)\" d=\"M1321.97 1529.7 Q1318.82 1529.7 1316.97 1531.86 Q1315.14 1534.01 1315.14 1537.76 Q1315.14 1541.49 1316.97 1543.66 Q1318.82 1545.82 1321.97 1545.82 Q1325.12 1545.82 1326.94 1543.66 Q1328.8 1541.49 1328.8 1537.76 Q1328.8 1534.01 1326.94 1531.86 Q1325.12 1529.7 1321.97 1529.7 M1331.25 1515.05 L1331.25 1519.31 Q1329.49 1518.48 1327.68 1518.04 Q1325.9 1517.6 1324.14 1517.6 Q1319.51 1517.6 1317.06 1520.72 Q1314.63 1523.85 1314.28 1530.17 Q1315.65 1528.15 1317.71 1527.09 Q1319.77 1526 1322.24 1526 Q1327.45 1526 1330.46 1529.17 Q1333.49 1532.32 1333.49 1537.76 Q1333.49 1543.08 1330.35 1546.3 Q1327.2 1549.52 1321.97 1549.52 Q1315.97 1549.52 1312.8 1544.94 Q1309.63 1540.33 1309.63 1531.6 Q1309.63 1523.41 1313.52 1518.55 Q1317.41 1513.66 1323.96 1513.66 Q1325.72 1513.66 1327.5 1514.01 Q1329.3 1514.36 1331.25 1515.05 Z\" fill=\"#000000\" fill-rule=\"evenodd\" fill-opacity=\"1\" /><path clip-path=\"url(#clip880)\" d=\"M1702.22 1548.13 L1702.22 1543.87 Q1703.97 1544.7 1705.78 1545.14 Q1707.59 1545.58 1709.32 1545.58 Q1713.95 1545.58 1716.38 1542.48 Q1718.84 1539.36 1719.18 1533.01 Q1717.84 1535.01 1715.78 1536.07 Q1713.72 1537.13 1711.22 1537.13 Q1706.03 1537.13 1703 1534.01 Q1699.99 1530.86 1699.99 1525.42 Q1699.99 1520.1 1703.14 1516.88 Q1706.29 1513.66 1711.52 1513.66 Q1717.52 1513.66 1720.66 1518.27 Q1723.84 1522.85 1723.84 1531.6 Q1723.84 1539.77 1719.95 1544.66 Q1716.08 1549.52 1709.53 1549.52 Q1707.77 1549.52 1705.97 1549.17 Q1704.16 1548.82 1702.22 1548.13 M1711.52 1533.48 Q1714.67 1533.48 1716.5 1531.32 Q1718.35 1529.17 1718.35 1525.42 Q1718.35 1521.7 1716.5 1519.54 Q1714.67 1517.37 1711.52 1517.37 Q1708.37 1517.37 1706.52 1519.54 Q1704.69 1521.7 1704.69 1525.42 Q1704.69 1529.17 1706.52 1531.32 Q1708.37 1533.48 1711.52 1533.48 Z\" fill=\"#000000\" fill-rule=\"evenodd\" fill-opacity=\"1\" /><path clip-path=\"url(#clip880)\" d=\"M2077.75 1544.91 L2085.39 1544.91 L2085.39 1518.55 L2077.08 1520.21 L2077.08 1515.95 L2085.35 1514.29 L2090.02 1514.29 L2090.02 1544.91 L2097.66 1544.91 L2097.66 1548.85 L2077.75 1548.85 L2077.75 1544.91 Z\" fill=\"#000000\" fill-rule=\"evenodd\" fill-opacity=\"1\" /><path clip-path=\"url(#clip880)\" d=\"M2111.13 1544.91 L2127.45 1544.91 L2127.45 1548.85 L2105.51 1548.85 L2105.51 1544.91 Q2108.17 1542.16 2112.75 1537.53 Q2117.36 1532.88 2118.54 1531.53 Q2120.78 1529.01 2121.66 1527.27 Q2122.57 1525.51 2122.57 1523.82 Q2122.57 1521.07 2120.62 1519.33 Q2118.7 1517.6 2115.6 1517.6 Q2113.4 1517.6 2110.95 1518.36 Q2108.52 1519.13 2105.74 1520.68 L2105.74 1515.95 Q2108.56 1514.82 2111.02 1514.24 Q2113.47 1513.66 2115.51 1513.66 Q2120.88 1513.66 2124.07 1516.35 Q2127.27 1519.03 2127.27 1523.52 Q2127.27 1525.65 2126.46 1527.57 Q2125.67 1529.47 2123.56 1532.07 Q2122.98 1532.74 2119.88 1535.95 Q2116.78 1539.15 2111.13 1544.91 Z\" fill=\"#000000\" fill-rule=\"evenodd\" fill-opacity=\"1\" /><polyline clip-path=\"url(#clip882)\" style=\"stroke:#000000; stroke-linecap:butt; stroke-linejoin:round; stroke-width:2; stroke-opacity:0.1; fill:none\" points=\"\n  186.274,1445.72 2352.76,1445.72 \n  \"/>\n<polyline clip-path=\"url(#clip882)\" style=\"stroke:#000000; stroke-linecap:butt; stroke-linejoin:round; stroke-width:2; stroke-opacity:0.1; fill:none\" points=\"\n  186.274,1106.28 2352.76,1106.28 \n  \"/>\n<polyline clip-path=\"url(#clip882)\" style=\"stroke:#000000; stroke-linecap:butt; stroke-linejoin:round; stroke-width:2; stroke-opacity:0.1; fill:none\" points=\"\n  186.274,766.846 2352.76,766.846 \n  \"/>\n<polyline clip-path=\"url(#clip882)\" style=\"stroke:#000000; stroke-linecap:butt; stroke-linejoin:round; stroke-width:2; stroke-opacity:0.1; fill:none\" points=\"\n  186.274,427.411 2352.76,427.411 \n  \"/>\n<polyline clip-path=\"url(#clip882)\" style=\"stroke:#000000; stroke-linecap:butt; stroke-linejoin:round; stroke-width:2; stroke-opacity:0.1; fill:none\" points=\"\n  186.274,87.9763 2352.76,87.9763 \n  \"/>\n<polyline clip-path=\"url(#clip880)\" style=\"stroke:#000000; stroke-linecap:butt; stroke-linejoin:round; stroke-width:4; stroke-opacity:1; fill:none\" points=\"\n  186.274,1486.45 186.274,47.2441 \n  \"/>\n<polyline clip-path=\"url(#clip880)\" style=\"stroke:#000000; stroke-linecap:butt; stroke-linejoin:round; stroke-width:4; stroke-opacity:1; fill:none\" points=\"\n  186.274,1445.72 205.172,1445.72 \n  \"/>\n<polyline clip-path=\"url(#clip880)\" style=\"stroke:#000000; stroke-linecap:butt; stroke-linejoin:round; stroke-width:4; stroke-opacity:1; fill:none\" points=\"\n  186.274,1106.28 205.172,1106.28 \n  \"/>\n<polyline clip-path=\"url(#clip880)\" style=\"stroke:#000000; stroke-linecap:butt; stroke-linejoin:round; stroke-width:4; stroke-opacity:1; fill:none\" points=\"\n  186.274,766.846 205.172,766.846 \n  \"/>\n<polyline clip-path=\"url(#clip880)\" style=\"stroke:#000000; stroke-linecap:butt; stroke-linejoin:round; stroke-width:4; stroke-opacity:1; fill:none\" points=\"\n  186.274,427.411 205.172,427.411 \n  \"/>\n<polyline clip-path=\"url(#clip880)\" style=\"stroke:#000000; stroke-linecap:butt; stroke-linejoin:round; stroke-width:4; stroke-opacity:1; fill:none\" points=\"\n  186.274,87.9763 205.172,87.9763 \n  \"/>\n<path clip-path=\"url(#clip880)\" d=\"M62.9365 1431.51 Q59.3254 1431.51 57.4967 1435.08 Q55.6912 1438.62 55.6912 1445.75 Q55.6912 1452.86 57.4967 1456.42 Q59.3254 1459.96 62.9365 1459.96 Q66.5707 1459.96 68.3763 1456.42 Q70.205 1452.86 70.205 1445.75 Q70.205 1438.62 68.3763 1435.08 Q66.5707 1431.51 62.9365 1431.51 M62.9365 1427.81 Q68.7467 1427.81 71.8022 1432.42 Q74.8809 1437 74.8809 1445.75 Q74.8809 1454.48 71.8022 1459.08 Q68.7467 1463.67 62.9365 1463.67 Q57.1264 1463.67 54.0477 1459.08 Q50.9921 1454.48 50.9921 1445.75 Q50.9921 1437 54.0477 1432.42 Q57.1264 1427.81 62.9365 1427.81 Z\" fill=\"#000000\" fill-rule=\"evenodd\" fill-opacity=\"1\" /><path clip-path=\"url(#clip880)\" d=\"M83.0984 1457.12 L87.9827 1457.12 L87.9827 1463 L83.0984 1463 L83.0984 1457.12 Z\" fill=\"#000000\" fill-rule=\"evenodd\" fill-opacity=\"1\" /><path clip-path=\"url(#clip880)\" d=\"M108.168 1431.51 Q104.557 1431.51 102.728 1435.08 Q100.922 1438.62 100.922 1445.75 Q100.922 1452.86 102.728 1456.42 Q104.557 1459.96 108.168 1459.96 Q111.802 1459.96 113.608 1456.42 Q115.436 1452.86 115.436 1445.75 Q115.436 1438.62 113.608 1435.08 Q111.802 1431.51 108.168 1431.51 M108.168 1427.81 Q113.978 1427.81 117.033 1432.42 Q120.112 1437 120.112 1445.75 Q120.112 1454.48 117.033 1459.08 Q113.978 1463.67 108.168 1463.67 Q102.358 1463.67 99.2789 1459.08 Q96.2234 1454.48 96.2234 1445.75 Q96.2234 1437 99.2789 1432.42 Q102.358 1427.81 108.168 1427.81 Z\" fill=\"#000000\" fill-rule=\"evenodd\" fill-opacity=\"1\" /><path clip-path=\"url(#clip880)\" d=\"M138.33 1431.51 Q134.719 1431.51 132.89 1435.08 Q131.084 1438.62 131.084 1445.75 Q131.084 1452.86 132.89 1456.42 Q134.719 1459.96 138.33 1459.96 Q141.964 1459.96 143.769 1456.42 Q145.598 1452.86 145.598 1445.75 Q145.598 1438.62 143.769 1435.08 Q141.964 1431.51 138.33 1431.51 M138.33 1427.81 Q144.14 1427.81 147.195 1432.42 Q150.274 1437 150.274 1445.75 Q150.274 1454.48 147.195 1459.08 Q144.14 1463.67 138.33 1463.67 Q132.519 1463.67 129.441 1459.08 Q126.385 1454.48 126.385 1445.75 Q126.385 1437 129.441 1432.42 Q132.519 1427.81 138.33 1427.81 Z\" fill=\"#000000\" fill-rule=\"evenodd\" fill-opacity=\"1\" /><path clip-path=\"url(#clip880)\" d=\"M63.9319 1092.08 Q60.3208 1092.08 58.4921 1095.64 Q56.6865 1099.19 56.6865 1106.32 Q56.6865 1113.42 58.4921 1116.99 Q60.3208 1120.53 63.9319 1120.53 Q67.5661 1120.53 69.3717 1116.99 Q71.2004 1113.42 71.2004 1106.32 Q71.2004 1099.19 69.3717 1095.64 Q67.5661 1092.08 63.9319 1092.08 M63.9319 1088.38 Q69.742 1088.38 72.7976 1092.98 Q75.8763 1097.57 75.8763 1106.32 Q75.8763 1115.04 72.7976 1119.65 Q69.742 1124.23 63.9319 1124.23 Q58.1217 1124.23 55.043 1119.65 Q51.9875 1115.04 51.9875 1106.32 Q51.9875 1097.57 55.043 1092.98 Q58.1217 1088.38 63.9319 1088.38 Z\" fill=\"#000000\" fill-rule=\"evenodd\" fill-opacity=\"1\" /><path clip-path=\"url(#clip880)\" d=\"M84.0938 1117.68 L88.978 1117.68 L88.978 1123.56 L84.0938 1123.56 L84.0938 1117.68 Z\" fill=\"#000000\" fill-rule=\"evenodd\" fill-opacity=\"1\" /><path clip-path=\"url(#clip880)\" d=\"M109.163 1092.08 Q105.552 1092.08 103.723 1095.64 Q101.918 1099.19 101.918 1106.32 Q101.918 1113.42 103.723 1116.99 Q105.552 1120.53 109.163 1120.53 Q112.797 1120.53 114.603 1116.99 Q116.432 1113.42 116.432 1106.32 Q116.432 1099.19 114.603 1095.64 Q112.797 1092.08 109.163 1092.08 M109.163 1088.38 Q114.973 1088.38 118.029 1092.98 Q121.107 1097.57 121.107 1106.32 Q121.107 1115.04 118.029 1119.65 Q114.973 1124.23 109.163 1124.23 Q103.353 1124.23 100.274 1119.65 Q97.2187 1115.04 97.2187 1106.32 Q97.2187 1097.57 100.274 1092.98 Q103.353 1088.38 109.163 1088.38 Z\" fill=\"#000000\" fill-rule=\"evenodd\" fill-opacity=\"1\" /><path clip-path=\"url(#clip880)\" d=\"M129.371 1089 L147.728 1089 L147.728 1092.94 L133.654 1092.94 L133.654 1101.41 Q134.672 1101.06 135.691 1100.9 Q136.709 1100.71 137.728 1100.71 Q143.515 1100.71 146.894 1103.89 Q150.274 1107.06 150.274 1112.47 Q150.274 1118.05 146.802 1121.15 Q143.33 1124.23 137.01 1124.23 Q134.834 1124.23 132.566 1123.86 Q130.32 1123.49 127.913 1122.75 L127.913 1118.05 Q129.996 1119.19 132.219 1119.74 Q134.441 1120.3 136.918 1120.3 Q140.922 1120.3 143.26 1118.19 Q145.598 1116.08 145.598 1112.47 Q145.598 1108.86 143.26 1106.76 Q140.922 1104.65 136.918 1104.65 Q135.043 1104.65 133.168 1105.07 Q131.316 1105.48 129.371 1106.36 L129.371 1089 Z\" fill=\"#000000\" fill-rule=\"evenodd\" fill-opacity=\"1\" /><path clip-path=\"url(#clip880)\" d=\"M62.9365 752.645 Q59.3254 752.645 57.4967 756.209 Q55.6912 759.751 55.6912 766.881 Q55.6912 773.987 57.4967 777.552 Q59.3254 781.094 62.9365 781.094 Q66.5707 781.094 68.3763 777.552 Q70.205 773.987 70.205 766.881 Q70.205 759.751 68.3763 756.209 Q66.5707 752.645 62.9365 752.645 M62.9365 748.941 Q68.7467 748.941 71.8022 753.547 Q74.8809 758.131 74.8809 766.881 Q74.8809 775.608 71.8022 780.214 Q68.7467 784.797 62.9365 784.797 Q57.1264 784.797 54.0477 780.214 Q50.9921 775.608 50.9921 766.881 Q50.9921 758.131 54.0477 753.547 Q57.1264 748.941 62.9365 748.941 Z\" fill=\"#000000\" fill-rule=\"evenodd\" fill-opacity=\"1\" /><path clip-path=\"url(#clip880)\" d=\"M83.0984 778.246 L87.9827 778.246 L87.9827 784.126 L83.0984 784.126 L83.0984 778.246 Z\" fill=\"#000000\" fill-rule=\"evenodd\" fill-opacity=\"1\" /><path clip-path=\"url(#clip880)\" d=\"M98.978 780.191 L106.617 780.191 L106.617 753.825 L98.3067 755.492 L98.3067 751.233 L106.571 749.566 L111.246 749.566 L111.246 780.191 L118.885 780.191 L118.885 784.126 L98.978 784.126 L98.978 780.191 Z\" fill=\"#000000\" fill-rule=\"evenodd\" fill-opacity=\"1\" /><path clip-path=\"url(#clip880)\" d=\"M138.33 752.645 Q134.719 752.645 132.89 756.209 Q131.084 759.751 131.084 766.881 Q131.084 773.987 132.89 777.552 Q134.719 781.094 138.33 781.094 Q141.964 781.094 143.769 777.552 Q145.598 773.987 145.598 766.881 Q145.598 759.751 143.769 756.209 Q141.964 752.645 138.33 752.645 M138.33 748.941 Q144.14 748.941 147.195 753.547 Q150.274 758.131 150.274 766.881 Q150.274 775.608 147.195 780.214 Q144.14 784.797 138.33 784.797 Q132.519 784.797 129.441 780.214 Q126.385 775.608 126.385 766.881 Q126.385 758.131 129.441 753.547 Q132.519 748.941 138.33 748.941 Z\" fill=\"#000000\" fill-rule=\"evenodd\" fill-opacity=\"1\" /><path clip-path=\"url(#clip880)\" d=\"M63.9319 413.21 Q60.3208 413.21 58.4921 416.775 Q56.6865 420.316 56.6865 427.446 Q56.6865 434.552 58.4921 438.117 Q60.3208 441.659 63.9319 441.659 Q67.5661 441.659 69.3717 438.117 Q71.2004 434.552 71.2004 427.446 Q71.2004 420.316 69.3717 416.775 Q67.5661 413.21 63.9319 413.21 M63.9319 409.506 Q69.742 409.506 72.7976 414.113 Q75.8763 418.696 75.8763 427.446 Q75.8763 436.173 72.7976 440.779 Q69.742 445.362 63.9319 445.362 Q58.1217 445.362 55.043 440.779 Q51.9875 436.173 51.9875 427.446 Q51.9875 418.696 55.043 414.113 Q58.1217 409.506 63.9319 409.506 Z\" fill=\"#000000\" fill-rule=\"evenodd\" fill-opacity=\"1\" /><path clip-path=\"url(#clip880)\" d=\"M84.0938 438.812 L88.978 438.812 L88.978 444.691 L84.0938 444.691 L84.0938 438.812 Z\" fill=\"#000000\" fill-rule=\"evenodd\" fill-opacity=\"1\" /><path clip-path=\"url(#clip880)\" d=\"M99.9733 440.756 L107.612 440.756 L107.612 414.39 L99.3021 416.057 L99.3021 411.798 L107.566 410.131 L112.242 410.131 L112.242 440.756 L119.881 440.756 L119.881 444.691 L99.9733 444.691 L99.9733 440.756 Z\" fill=\"#000000\" fill-rule=\"evenodd\" fill-opacity=\"1\" /><path clip-path=\"url(#clip880)\" d=\"M129.371 410.131 L147.728 410.131 L147.728 414.066 L133.654 414.066 L133.654 422.538 Q134.672 422.191 135.691 422.029 Q136.709 421.844 137.728 421.844 Q143.515 421.844 146.894 425.015 Q150.274 428.187 150.274 433.603 Q150.274 439.182 146.802 442.284 Q143.33 445.362 137.01 445.362 Q134.834 445.362 132.566 444.992 Q130.32 444.622 127.913 443.881 L127.913 439.182 Q129.996 440.316 132.219 440.872 Q134.441 441.427 136.918 441.427 Q140.922 441.427 143.26 439.321 Q145.598 437.214 145.598 433.603 Q145.598 429.992 143.26 427.886 Q140.922 425.779 136.918 425.779 Q135.043 425.779 133.168 426.196 Q131.316 426.613 129.371 427.492 L129.371 410.131 Z\" fill=\"#000000\" fill-rule=\"evenodd\" fill-opacity=\"1\" /><path clip-path=\"url(#clip880)\" d=\"M62.9365 73.775 Q59.3254 73.775 57.4967 77.3398 Q55.6912 80.8814 55.6912 88.011 Q55.6912 95.1174 57.4967 98.6822 Q59.3254 102.224 62.9365 102.224 Q66.5707 102.224 68.3763 98.6822 Q70.205 95.1174 70.205 88.011 Q70.205 80.8814 68.3763 77.3398 Q66.5707 73.775 62.9365 73.775 M62.9365 70.0713 Q68.7467 70.0713 71.8022 74.6777 Q74.8809 79.261 74.8809 88.011 Q74.8809 96.7378 71.8022 101.344 Q68.7467 105.928 62.9365 105.928 Q57.1264 105.928 54.0477 101.344 Q50.9921 96.7378 50.9921 88.011 Q50.9921 79.261 54.0477 74.6777 Q57.1264 70.0713 62.9365 70.0713 Z\" fill=\"#000000\" fill-rule=\"evenodd\" fill-opacity=\"1\" /><path clip-path=\"url(#clip880)\" d=\"M83.0984 99.3767 L87.9827 99.3767 L87.9827 105.256 L83.0984 105.256 L83.0984 99.3767 Z\" fill=\"#000000\" fill-rule=\"evenodd\" fill-opacity=\"1\" /><path clip-path=\"url(#clip880)\" d=\"M102.196 101.321 L118.515 101.321 L118.515 105.256 L96.5706 105.256 L96.5706 101.321 Q99.2326 98.5665 103.816 93.9369 Q108.422 89.2841 109.603 87.9416 Q111.848 85.4184 112.728 83.6823 Q113.631 81.9231 113.631 80.2333 Q113.631 77.4786 111.686 75.7425 Q109.765 74.0064 106.663 74.0064 Q104.464 74.0064 102.01 74.7703 Q99.5798 75.5342 96.8021 77.0851 L96.8021 72.3629 Q99.6261 71.2287 102.08 70.65 Q104.534 70.0713 106.571 70.0713 Q111.941 70.0713 115.135 72.7565 Q118.33 75.4416 118.33 79.9323 Q118.33 82.062 117.52 83.9832 Q116.733 85.8814 114.626 88.474 Q114.047 89.1453 110.946 92.3628 Q107.844 95.5573 102.196 101.321 Z\" fill=\"#000000\" fill-rule=\"evenodd\" fill-opacity=\"1\" /><path clip-path=\"url(#clip880)\" d=\"M138.33 73.775 Q134.719 73.775 132.89 77.3398 Q131.084 80.8814 131.084 88.011 Q131.084 95.1174 132.89 98.6822 Q134.719 102.224 138.33 102.224 Q141.964 102.224 143.769 98.6822 Q145.598 95.1174 145.598 88.011 Q145.598 80.8814 143.769 77.3398 Q141.964 73.775 138.33 73.775 M138.33 70.0713 Q144.14 70.0713 147.195 74.6777 Q150.274 79.261 150.274 88.011 Q150.274 96.7378 147.195 101.344 Q144.14 105.928 138.33 105.928 Q132.519 105.928 129.441 101.344 Q126.385 96.7378 126.385 88.011 Q126.385 79.261 129.441 74.6777 Q132.519 70.0713 138.33 70.0713 Z\" fill=\"#000000\" fill-rule=\"evenodd\" fill-opacity=\"1\" /><path clip-path=\"url(#clip882)\" d=\"\nM540.858 1038.39 L540.858 1445.72 L801.092 1445.72 L801.092 1038.39 L540.858 1038.39 L540.858 1038.39  Z\n  \" fill=\"#009af9\" fill-rule=\"evenodd\" fill-opacity=\"1\"/>\n<polyline clip-path=\"url(#clip882)\" style=\"stroke:#000000; stroke-linecap:butt; stroke-linejoin:round; stroke-width:4; stroke-opacity:1; fill:none\" points=\"\n  540.858,1038.39 540.858,1445.72 801.092,1445.72 801.092,1038.39 540.858,1038.39 \n  \"/>\n<path clip-path=\"url(#clip882)\" d=\"\nM801.092 223.75 L801.092 1445.72 L1061.33 1445.72 L1061.33 223.75 L801.092 223.75 L801.092 223.75  Z\n  \" fill=\"#009af9\" fill-rule=\"evenodd\" fill-opacity=\"1\"/>\n<polyline clip-path=\"url(#clip882)\" style=\"stroke:#000000; stroke-linecap:butt; stroke-linejoin:round; stroke-width:4; stroke-opacity:1; fill:none\" points=\"\n  801.092,223.75 801.092,1445.72 1061.33,1445.72 1061.33,223.75 801.092,223.75 \n  \"/>\n<path clip-path=\"url(#clip882)\" d=\"\nM1061.33 87.9763 L1061.33 1445.72 L1321.56 1445.72 L1321.56 87.9763 L1061.33 87.9763 L1061.33 87.9763  Z\n  \" fill=\"#009af9\" fill-rule=\"evenodd\" fill-opacity=\"1\"/>\n<polyline clip-path=\"url(#clip882)\" style=\"stroke:#000000; stroke-linecap:butt; stroke-linejoin:round; stroke-width:4; stroke-opacity:1; fill:none\" points=\"\n  1061.33,87.9763 1061.33,1445.72 1321.56,1445.72 1321.56,87.9763 1061.33,87.9763 \n  \"/>\n<path clip-path=\"url(#clip882)\" d=\"\nM1321.56 1174.17 L1321.56 1445.72 L1581.8 1445.72 L1581.8 1174.17 L1321.56 1174.17 L1321.56 1174.17  Z\n  \" fill=\"#009af9\" fill-rule=\"evenodd\" fill-opacity=\"1\"/>\n<polyline clip-path=\"url(#clip882)\" style=\"stroke:#000000; stroke-linecap:butt; stroke-linejoin:round; stroke-width:4; stroke-opacity:1; fill:none\" points=\"\n  1321.56,1174.17 1321.56,1445.72 1581.8,1445.72 1581.8,1174.17 1321.56,1174.17 \n  \"/>\n<path clip-path=\"url(#clip882)\" d=\"\nM1581.8 1377.83 L1581.8 1445.72 L1842.03 1445.72 L1842.03 1377.83 L1581.8 1377.83 L1581.8 1377.83  Z\n  \" fill=\"#009af9\" fill-rule=\"evenodd\" fill-opacity=\"1\"/>\n<polyline clip-path=\"url(#clip882)\" style=\"stroke:#000000; stroke-linecap:butt; stroke-linejoin:round; stroke-width:4; stroke-opacity:1; fill:none\" points=\"\n  1581.8,1377.83 1581.8,1445.72 1842.03,1445.72 1842.03,1377.83 1581.8,1377.83 \n  \"/>\n<path clip-path=\"url(#clip882)\" d=\"\nM1842.03 1377.83 L1842.03 1445.72 L2102.27 1445.72 L2102.27 1377.83 L1842.03 1377.83 L1842.03 1377.83  Z\n  \" fill=\"#009af9\" fill-rule=\"evenodd\" fill-opacity=\"1\"/>\n<polyline clip-path=\"url(#clip882)\" style=\"stroke:#000000; stroke-linecap:butt; stroke-linejoin:round; stroke-width:4; stroke-opacity:1; fill:none\" points=\"\n  1842.03,1377.83 1842.03,1445.72 2102.27,1445.72 2102.27,1377.83 1842.03,1377.83 \n  \"/>\n<circle clip-path=\"url(#clip882)\" style=\"fill:#009af9; stroke:none; fill-opacity:0\" cx=\"670.975\" cy=\"1038.39\" r=\"2\"/>\n<circle clip-path=\"url(#clip882)\" style=\"fill:#009af9; stroke:none; fill-opacity:0\" cx=\"931.21\" cy=\"223.75\" r=\"2\"/>\n<circle clip-path=\"url(#clip882)\" style=\"fill:#009af9; stroke:none; fill-opacity:0\" cx=\"1191.44\" cy=\"87.9763\" r=\"2\"/>\n<circle clip-path=\"url(#clip882)\" style=\"fill:#009af9; stroke:none; fill-opacity:0\" cx=\"1451.68\" cy=\"1174.17\" r=\"2\"/>\n<circle clip-path=\"url(#clip882)\" style=\"fill:#009af9; stroke:none; fill-opacity:0\" cx=\"1711.91\" cy=\"1377.83\" r=\"2\"/>\n<circle clip-path=\"url(#clip882)\" style=\"fill:#009af9; stroke:none; fill-opacity:0\" cx=\"1972.15\" cy=\"1377.83\" r=\"2\"/>\n<polyline clip-path=\"url(#clip882)\" style=\"stroke:#e26f46; stroke-linecap:butt; stroke-linejoin:round; stroke-width:4; stroke-opacity:1; fill:none\" points=\"\n  247.59,1445.68 257.86,1445.67 268.131,1445.65 278.401,1445.63 288.672,1445.6 298.943,1445.55 309.213,1445.47 319.484,1445.37 329.754,1445.24 340.025,1445.05 \n  350.296,1444.8 360.566,1444.47 370.837,1444.03 381.107,1443.45 391.378,1442.69 401.649,1441.72 411.919,1440.48 422.19,1438.91 432.46,1436.94 442.731,1434.48 \n  453.002,1431.43 463.272,1427.69 473.543,1423.14 483.813,1417.62 494.084,1411 504.355,1403.11 514.625,1393.77 524.896,1382.79 535.167,1369.98 545.437,1355.14 \n  555.708,1338.06 565.978,1318.54 576.249,1296.41 586.52,1271.48 596.79,1243.63 607.061,1212.72 617.331,1178.71 627.602,1141.56 637.873,1101.31 648.143,1058.07 \n  658.414,1012.01 668.684,963.384 678.955,912.502 689.226,859.765 699.496,805.635 709.767,750.639 720.037,695.352 730.308,640.39 740.579,586.39 750.849,533.997 \n  761.12,483.845 771.39,436.536 781.661,392.627 791.932,352.61 802.202,316.901 812.473,285.822 822.744,259.598 833.014,238.345 843.285,222.074 853.555,210.685 \n  863.826,203.975 874.097,201.643 884.367,203.304 894.638,208.498 904.908,216.705 915.179,227.365 925.45,239.891 935.72,253.691 945.991,268.18 956.261,282.803 \n  966.532,297.043 976.803,310.44 987.073,322.595 997.344,333.183 1007.61,341.952 1017.89,348.725 1028.16,353.401 1038.43,355.949 1048.7,356.401 1058.97,354.844 \n  1069.24,351.416 1079.51,346.294 1089.78,339.688 1100.05,331.837 1110.32,323.004 1120.59,313.47 1130.86,303.538 1141.13,293.528 1151.4,283.78 1161.67,274.654 \n  1171.94,266.526 1182.21,259.793 1192.49,254.861 1202.76,252.147 1213.03,252.063 1223.3,255.009 1233.57,261.362 1243.84,271.458 1254.11,285.577 1264.38,303.934 \n  1274.65,326.66 1284.92,353.795 1295.19,385.282 1305.46,420.957 1315.73,460.559 1326,503.728 1336.27,550.016 1346.54,598.901 1356.82,649.802 1367.09,702.098 \n  1377.36,755.145 1387.63,808.297 1397.9,860.924 1408.17,912.43 1418.44,962.266 1428.71,1009.94 1438.98,1055.05 1449.25,1097.23 1459.52,1136.23 1469.79,1171.87 \n  1480.06,1204.04 1490.33,1232.72 1500.6,1257.93 1510.87,1279.79 1521.14,1298.44 1531.42,1314.08 1541.69,1326.97 1551.96,1337.35 1562.23,1345.51 1572.5,1351.75 \n  1582.77,1356.36 1593.04,1359.63 1603.31,1361.83 1613.58,1363.22 1623.85,1364.02 1634.12,1364.45 1644.39,1364.65 1654.66,1364.76 1664.93,1364.88 1675.2,1365.07 \n  1685.47,1365.36 1695.75,1365.75 1706.02,1366.23 1716.29,1366.75 1726.56,1367.29 1736.83,1367.79 1747.1,1368.21 1757.37,1368.52 1767.64,1368.68 1777.91,1368.7 \n  1788.18,1368.59 1798.45,1368.37 1808.72,1368.1 1818.99,1367.82 1829.26,1367.62 1839.53,1367.56 1849.8,1367.72 1860.07,1368.18 1870.35,1369 1880.62,1370.21 \n  1890.89,1371.87 1901.16,1373.99 1911.43,1376.55 1921.7,1379.55 1931.97,1382.93 1942.24,1386.65 1952.51,1390.63 1962.78,1394.81 1973.05,1399.1 1983.32,1403.43 \n  1993.59,1407.72 2003.86,1411.9 2014.13,1415.91 2024.4,1419.7 2034.68,1423.23 2044.95,1426.47 2055.22,1429.4 2065.49,1432.03 2075.76,1434.34 2086.03,1436.36 \n  2096.3,1438.09 2106.57,1439.57 2116.84,1440.81 2127.11,1441.84 2137.38,1442.68 2147.65,1443.36 2157.92,1443.91 2168.19,1444.35 2178.46,1444.69 2188.73,1444.95 \n  2199,1445.15 2209.28,1445.3 2219.55,1445.42 2229.82,1445.5 2240.09,1445.56 2250.36,1445.61 2260.63,1445.64 2270.9,1445.66 2281.17,1445.67 2291.44,1445.68 \n  \n  \"/>\n<path clip-path=\"url(#clip880)\" d=\"\nM1987.39 250.738 L2280.54 250.738 L2280.54 95.2176 L1987.39 95.2176  Z\n  \" fill=\"#ffffff\" fill-rule=\"evenodd\" fill-opacity=\"1\"/>\n<polyline clip-path=\"url(#clip880)\" style=\"stroke:#000000; stroke-linecap:butt; stroke-linejoin:round; stroke-width:4; stroke-opacity:1; fill:none\" points=\"\n  1987.39,250.738 2280.54,250.738 2280.54,95.2176 1987.39,95.2176 1987.39,250.738 \n  \"/>\n<path clip-path=\"url(#clip880)\" d=\"\nM2011.46 167.794 L2155.89 167.794 L2155.89 126.322 L2011.46 126.322 L2011.46 167.794  Z\n  \" fill=\"#009af9\" fill-rule=\"evenodd\" fill-opacity=\"1\"/>\n<polyline clip-path=\"url(#clip880)\" style=\"stroke:#000000; stroke-linecap:butt; stroke-linejoin:round; stroke-width:4; stroke-opacity:1; fill:none\" points=\"\n  2011.46,167.794 2155.89,167.794 2155.89,126.322 2011.46,126.322 2011.46,167.794 \n  \"/>\n<path clip-path=\"url(#clip880)\" d=\"M2193.81 166.745 Q2192 171.375 2190.29 172.787 Q2188.58 174.199 2185.71 174.199 L2182.3 174.199 L2182.3 170.634 L2184.8 170.634 Q2186.56 170.634 2187.53 169.8 Q2188.51 168.967 2189.69 165.865 L2190.45 163.921 L2179.97 138.412 L2184.48 138.412 L2192.58 158.689 L2200.68 138.412 L2205.2 138.412 L2193.81 166.745 Z\" fill=\"#000000\" fill-rule=\"evenodd\" fill-opacity=\"1\" /><path clip-path=\"url(#clip880)\" d=\"M2212.49 160.402 L2220.13 160.402 L2220.13 134.037 L2211.82 135.703 L2211.82 131.444 L2220.08 129.778 L2224.76 129.778 L2224.76 160.402 L2232.4 160.402 L2232.4 164.338 L2212.49 164.338 L2212.49 160.402 Z\" fill=\"#000000\" fill-rule=\"evenodd\" fill-opacity=\"1\" /><polyline clip-path=\"url(#clip880)\" style=\"stroke:#e26f46; stroke-linecap:butt; stroke-linejoin:round; stroke-width:4; stroke-opacity:1; fill:none\" points=\"\n  2011.46,198.898 2155.89,198.898 \n  \"/>\n<path clip-path=\"url(#clip880)\" d=\"M2193.81 218.585 Q2192 223.215 2190.29 224.627 Q2188.58 226.039 2185.71 226.039 L2182.3 226.039 L2182.3 222.474 L2184.8 222.474 Q2186.56 222.474 2187.53 221.64 Q2188.51 220.807 2189.69 217.705 L2190.45 215.761 L2179.97 190.252 L2184.48 190.252 L2192.58 210.529 L2200.68 190.252 L2205.2 190.252 L2193.81 218.585 Z\" fill=\"#000000\" fill-rule=\"evenodd\" fill-opacity=\"1\" /><path clip-path=\"url(#clip880)\" d=\"M2215.71 212.242 L2232.03 212.242 L2232.03 216.178 L2210.08 216.178 L2210.08 212.242 Q2212.74 209.488 2217.33 204.858 Q2221.93 200.205 2223.11 198.863 Q2225.36 196.34 2226.24 194.604 Q2227.14 192.844 2227.14 191.155 Q2227.14 188.4 2225.2 186.664 Q2223.28 184.928 2220.17 184.928 Q2217.97 184.928 2215.52 185.692 Q2213.09 186.455 2210.31 188.006 L2210.31 183.284 Q2213.14 182.15 2215.59 181.571 Q2218.04 180.993 2220.08 180.993 Q2225.45 180.993 2228.65 183.678 Q2231.84 186.363 2231.84 190.854 Q2231.84 192.983 2231.03 194.905 Q2230.24 196.803 2228.14 199.395 Q2227.56 200.067 2224.46 203.284 Q2221.35 206.479 2215.71 212.242 Z\" fill=\"#000000\" fill-rule=\"evenodd\" fill-opacity=\"1\" /></svg>\n",
      "text/html": [
       "<?xml version=\"1.0\" encoding=\"utf-8\"?>\n",
       "<svg xmlns=\"http://www.w3.org/2000/svg\" xmlns:xlink=\"http://www.w3.org/1999/xlink\" width=\"600\" height=\"400\" viewBox=\"0 0 2400 1600\">\n",
       "<defs>\n",
       "  <clipPath id=\"clip930\">\n",
       "    <rect x=\"0\" y=\"0\" width=\"2400\" height=\"1600\"/>\n",
       "  </clipPath>\n",
       "</defs>\n",
       "<path clip-path=\"url(#clip930)\" d=\"\n",
       "M0 1600 L2400 1600 L2400 0 L0 0  Z\n",
       "  \" fill=\"#ffffff\" fill-rule=\"evenodd\" fill-opacity=\"1\"/>\n",
       "<defs>\n",
       "  <clipPath id=\"clip931\">\n",
       "    <rect x=\"480\" y=\"0\" width=\"1681\" height=\"1600\"/>\n",
       "  </clipPath>\n",
       "</defs>\n",
       "<path clip-path=\"url(#clip930)\" d=\"\n",
       "M186.274 1486.45 L2352.76 1486.45 L2352.76 47.2441 L186.274 47.2441  Z\n",
       "  \" fill=\"#ffffff\" fill-rule=\"evenodd\" fill-opacity=\"1\"/>\n",
       "<defs>\n",
       "  <clipPath id=\"clip932\">\n",
       "    <rect x=\"186\" y=\"47\" width=\"2167\" height=\"1440\"/>\n",
       "  </clipPath>\n",
       "</defs>\n",
       "<polyline clip-path=\"url(#clip932)\" style=\"stroke:#000000; stroke-linecap:butt; stroke-linejoin:round; stroke-width:2; stroke-opacity:0.1; fill:none\" points=\"\n",
       "  540.858,1486.45 540.858,47.2441 \n",
       "  \"/>\n",
       "<polyline clip-path=\"url(#clip932)\" style=\"stroke:#000000; stroke-linecap:butt; stroke-linejoin:round; stroke-width:2; stroke-opacity:0.1; fill:none\" points=\"\n",
       "  931.21,1486.45 931.21,47.2441 \n",
       "  \"/>\n",
       "<polyline clip-path=\"url(#clip932)\" style=\"stroke:#000000; stroke-linecap:butt; stroke-linejoin:round; stroke-width:2; stroke-opacity:0.1; fill:none\" points=\"\n",
       "  1321.56,1486.45 1321.56,47.2441 \n",
       "  \"/>\n",
       "<polyline clip-path=\"url(#clip932)\" style=\"stroke:#000000; stroke-linecap:butt; stroke-linejoin:round; stroke-width:2; stroke-opacity:0.1; fill:none\" points=\"\n",
       "  1711.91,1486.45 1711.91,47.2441 \n",
       "  \"/>\n",
       "<polyline clip-path=\"url(#clip932)\" style=\"stroke:#000000; stroke-linecap:butt; stroke-linejoin:round; stroke-width:2; stroke-opacity:0.1; fill:none\" points=\"\n",
       "  2102.27,1486.45 2102.27,47.2441 \n",
       "  \"/>\n",
       "<polyline clip-path=\"url(#clip930)\" style=\"stroke:#000000; stroke-linecap:butt; stroke-linejoin:round; stroke-width:4; stroke-opacity:1; fill:none\" points=\"\n",
       "  186.274,1486.45 2352.76,1486.45 \n",
       "  \"/>\n",
       "<polyline clip-path=\"url(#clip930)\" style=\"stroke:#000000; stroke-linecap:butt; stroke-linejoin:round; stroke-width:4; stroke-opacity:1; fill:none\" points=\"\n",
       "  540.858,1486.45 540.858,1467.55 \n",
       "  \"/>\n",
       "<polyline clip-path=\"url(#clip930)\" style=\"stroke:#000000; stroke-linecap:butt; stroke-linejoin:round; stroke-width:4; stroke-opacity:1; fill:none\" points=\"\n",
       "  931.21,1486.45 931.21,1467.55 \n",
       "  \"/>\n",
       "<polyline clip-path=\"url(#clip930)\" style=\"stroke:#000000; stroke-linecap:butt; stroke-linejoin:round; stroke-width:4; stroke-opacity:1; fill:none\" points=\"\n",
       "  1321.56,1486.45 1321.56,1467.55 \n",
       "  \"/>\n",
       "<polyline clip-path=\"url(#clip930)\" style=\"stroke:#000000; stroke-linecap:butt; stroke-linejoin:round; stroke-width:4; stroke-opacity:1; fill:none\" points=\"\n",
       "  1711.91,1486.45 1711.91,1467.55 \n",
       "  \"/>\n",
       "<polyline clip-path=\"url(#clip930)\" style=\"stroke:#000000; stroke-linecap:butt; stroke-linejoin:round; stroke-width:4; stroke-opacity:1; fill:none\" points=\"\n",
       "  2102.27,1486.45 2102.27,1467.55 \n",
       "  \"/>\n",
       "<path clip-path=\"url(#clip930)\" d=\"M540.858 1517.37 Q537.246 1517.37 535.418 1520.93 Q533.612 1524.47 533.612 1531.6 Q533.612 1538.71 535.418 1542.27 Q537.246 1545.82 540.858 1545.82 Q544.492 1545.82 546.297 1542.27 Q548.126 1538.71 548.126 1531.6 Q548.126 1524.47 546.297 1520.93 Q544.492 1517.37 540.858 1517.37 M540.858 1513.66 Q546.668 1513.66 549.723 1518.27 Q552.802 1522.85 552.802 1531.6 Q552.802 1540.33 549.723 1544.94 Q546.668 1549.52 540.858 1549.52 Q535.047 1549.52 531.969 1544.94 Q528.913 1540.33 528.913 1531.6 Q528.913 1522.85 531.969 1518.27 Q535.047 1513.66 540.858 1513.66 Z\" fill=\"#000000\" fill-rule=\"evenodd\" fill-opacity=\"1\" /><path clip-path=\"url(#clip930)\" d=\"M935.457 1530.21 Q938.814 1530.93 940.689 1533.2 Q942.587 1535.47 942.587 1538.8 Q942.587 1543.92 939.068 1546.72 Q935.55 1549.52 929.069 1549.52 Q926.893 1549.52 924.578 1549.08 Q922.286 1548.66 919.832 1547.81 L919.832 1543.29 Q921.777 1544.43 924.092 1545.01 Q926.407 1545.58 928.93 1545.58 Q933.328 1545.58 935.619 1543.85 Q937.934 1542.11 937.934 1538.8 Q937.934 1535.75 935.781 1534.03 Q933.652 1532.3 929.832 1532.3 L925.805 1532.3 L925.805 1528.45 L930.018 1528.45 Q933.467 1528.45 935.295 1527.09 Q937.124 1525.7 937.124 1523.11 Q937.124 1520.45 935.226 1519.03 Q933.351 1517.6 929.832 1517.6 Q927.911 1517.6 925.712 1518.01 Q923.513 1518.43 920.874 1519.31 L920.874 1515.14 Q923.536 1514.4 925.851 1514.03 Q928.189 1513.66 930.249 1513.66 Q935.573 1513.66 938.675 1516.09 Q941.777 1518.5 941.777 1522.62 Q941.777 1525.49 940.133 1527.48 Q938.49 1529.45 935.457 1530.21 Z\" fill=\"#000000\" fill-rule=\"evenodd\" fill-opacity=\"1\" /><path clip-path=\"url(#clip930)\" d=\"M1321.97 1529.7 Q1318.82 1529.7 1316.97 1531.86 Q1315.14 1534.01 1315.14 1537.76 Q1315.14 1541.49 1316.97 1543.66 Q1318.82 1545.82 1321.97 1545.82 Q1325.12 1545.82 1326.94 1543.66 Q1328.8 1541.49 1328.8 1537.76 Q1328.8 1534.01 1326.94 1531.86 Q1325.12 1529.7 1321.97 1529.7 M1331.25 1515.05 L1331.25 1519.31 Q1329.49 1518.48 1327.68 1518.04 Q1325.9 1517.6 1324.14 1517.6 Q1319.51 1517.6 1317.06 1520.72 Q1314.63 1523.85 1314.28 1530.17 Q1315.65 1528.15 1317.71 1527.09 Q1319.77 1526 1322.24 1526 Q1327.45 1526 1330.46 1529.17 Q1333.49 1532.32 1333.49 1537.76 Q1333.49 1543.08 1330.35 1546.3 Q1327.2 1549.52 1321.97 1549.52 Q1315.97 1549.52 1312.8 1544.94 Q1309.63 1540.33 1309.63 1531.6 Q1309.63 1523.41 1313.52 1518.55 Q1317.41 1513.66 1323.96 1513.66 Q1325.72 1513.66 1327.5 1514.01 Q1329.3 1514.36 1331.25 1515.05 Z\" fill=\"#000000\" fill-rule=\"evenodd\" fill-opacity=\"1\" /><path clip-path=\"url(#clip930)\" d=\"M1702.22 1548.13 L1702.22 1543.87 Q1703.97 1544.7 1705.78 1545.14 Q1707.59 1545.58 1709.32 1545.58 Q1713.95 1545.58 1716.38 1542.48 Q1718.84 1539.36 1719.18 1533.01 Q1717.84 1535.01 1715.78 1536.07 Q1713.72 1537.13 1711.22 1537.13 Q1706.03 1537.13 1703 1534.01 Q1699.99 1530.86 1699.99 1525.42 Q1699.99 1520.1 1703.14 1516.88 Q1706.29 1513.66 1711.52 1513.66 Q1717.52 1513.66 1720.66 1518.27 Q1723.84 1522.85 1723.84 1531.6 Q1723.84 1539.77 1719.95 1544.66 Q1716.08 1549.52 1709.53 1549.52 Q1707.77 1549.52 1705.97 1549.17 Q1704.16 1548.82 1702.22 1548.13 M1711.52 1533.48 Q1714.67 1533.48 1716.5 1531.32 Q1718.35 1529.17 1718.35 1525.42 Q1718.35 1521.7 1716.5 1519.54 Q1714.67 1517.37 1711.52 1517.37 Q1708.37 1517.37 1706.52 1519.54 Q1704.69 1521.7 1704.69 1525.42 Q1704.69 1529.17 1706.52 1531.32 Q1708.37 1533.48 1711.52 1533.48 Z\" fill=\"#000000\" fill-rule=\"evenodd\" fill-opacity=\"1\" /><path clip-path=\"url(#clip930)\" d=\"M2077.75 1544.91 L2085.39 1544.91 L2085.39 1518.55 L2077.08 1520.21 L2077.08 1515.95 L2085.35 1514.29 L2090.02 1514.29 L2090.02 1544.91 L2097.66 1544.91 L2097.66 1548.85 L2077.75 1548.85 L2077.75 1544.91 Z\" fill=\"#000000\" fill-rule=\"evenodd\" fill-opacity=\"1\" /><path clip-path=\"url(#clip930)\" d=\"M2111.13 1544.91 L2127.45 1544.91 L2127.45 1548.85 L2105.51 1548.85 L2105.51 1544.91 Q2108.17 1542.16 2112.75 1537.53 Q2117.36 1532.88 2118.54 1531.53 Q2120.78 1529.01 2121.66 1527.27 Q2122.57 1525.51 2122.57 1523.82 Q2122.57 1521.07 2120.62 1519.33 Q2118.7 1517.6 2115.6 1517.6 Q2113.4 1517.6 2110.95 1518.36 Q2108.52 1519.13 2105.74 1520.68 L2105.74 1515.95 Q2108.56 1514.82 2111.02 1514.24 Q2113.47 1513.66 2115.51 1513.66 Q2120.88 1513.66 2124.07 1516.35 Q2127.27 1519.03 2127.27 1523.52 Q2127.27 1525.65 2126.46 1527.57 Q2125.67 1529.47 2123.56 1532.07 Q2122.98 1532.74 2119.88 1535.95 Q2116.78 1539.15 2111.13 1544.91 Z\" fill=\"#000000\" fill-rule=\"evenodd\" fill-opacity=\"1\" /><polyline clip-path=\"url(#clip932)\" style=\"stroke:#000000; stroke-linecap:butt; stroke-linejoin:round; stroke-width:2; stroke-opacity:0.1; fill:none\" points=\"\n",
       "  186.274,1445.72 2352.76,1445.72 \n",
       "  \"/>\n",
       "<polyline clip-path=\"url(#clip932)\" style=\"stroke:#000000; stroke-linecap:butt; stroke-linejoin:round; stroke-width:2; stroke-opacity:0.1; fill:none\" points=\"\n",
       "  186.274,1106.28 2352.76,1106.28 \n",
       "  \"/>\n",
       "<polyline clip-path=\"url(#clip932)\" style=\"stroke:#000000; stroke-linecap:butt; stroke-linejoin:round; stroke-width:2; stroke-opacity:0.1; fill:none\" points=\"\n",
       "  186.274,766.846 2352.76,766.846 \n",
       "  \"/>\n",
       "<polyline clip-path=\"url(#clip932)\" style=\"stroke:#000000; stroke-linecap:butt; stroke-linejoin:round; stroke-width:2; stroke-opacity:0.1; fill:none\" points=\"\n",
       "  186.274,427.411 2352.76,427.411 \n",
       "  \"/>\n",
       "<polyline clip-path=\"url(#clip932)\" style=\"stroke:#000000; stroke-linecap:butt; stroke-linejoin:round; stroke-width:2; stroke-opacity:0.1; fill:none\" points=\"\n",
       "  186.274,87.9763 2352.76,87.9763 \n",
       "  \"/>\n",
       "<polyline clip-path=\"url(#clip930)\" style=\"stroke:#000000; stroke-linecap:butt; stroke-linejoin:round; stroke-width:4; stroke-opacity:1; fill:none\" points=\"\n",
       "  186.274,1486.45 186.274,47.2441 \n",
       "  \"/>\n",
       "<polyline clip-path=\"url(#clip930)\" style=\"stroke:#000000; stroke-linecap:butt; stroke-linejoin:round; stroke-width:4; stroke-opacity:1; fill:none\" points=\"\n",
       "  186.274,1445.72 205.172,1445.72 \n",
       "  \"/>\n",
       "<polyline clip-path=\"url(#clip930)\" style=\"stroke:#000000; stroke-linecap:butt; stroke-linejoin:round; stroke-width:4; stroke-opacity:1; fill:none\" points=\"\n",
       "  186.274,1106.28 205.172,1106.28 \n",
       "  \"/>\n",
       "<polyline clip-path=\"url(#clip930)\" style=\"stroke:#000000; stroke-linecap:butt; stroke-linejoin:round; stroke-width:4; stroke-opacity:1; fill:none\" points=\"\n",
       "  186.274,766.846 205.172,766.846 \n",
       "  \"/>\n",
       "<polyline clip-path=\"url(#clip930)\" style=\"stroke:#000000; stroke-linecap:butt; stroke-linejoin:round; stroke-width:4; stroke-opacity:1; fill:none\" points=\"\n",
       "  186.274,427.411 205.172,427.411 \n",
       "  \"/>\n",
       "<polyline clip-path=\"url(#clip930)\" style=\"stroke:#000000; stroke-linecap:butt; stroke-linejoin:round; stroke-width:4; stroke-opacity:1; fill:none\" points=\"\n",
       "  186.274,87.9763 205.172,87.9763 \n",
       "  \"/>\n",
       "<path clip-path=\"url(#clip930)\" d=\"M62.9365 1431.51 Q59.3254 1431.51 57.4967 1435.08 Q55.6912 1438.62 55.6912 1445.75 Q55.6912 1452.86 57.4967 1456.42 Q59.3254 1459.96 62.9365 1459.96 Q66.5707 1459.96 68.3763 1456.42 Q70.205 1452.86 70.205 1445.75 Q70.205 1438.62 68.3763 1435.08 Q66.5707 1431.51 62.9365 1431.51 M62.9365 1427.81 Q68.7467 1427.81 71.8022 1432.42 Q74.8809 1437 74.8809 1445.75 Q74.8809 1454.48 71.8022 1459.08 Q68.7467 1463.67 62.9365 1463.67 Q57.1264 1463.67 54.0477 1459.08 Q50.9921 1454.48 50.9921 1445.75 Q50.9921 1437 54.0477 1432.42 Q57.1264 1427.81 62.9365 1427.81 Z\" fill=\"#000000\" fill-rule=\"evenodd\" fill-opacity=\"1\" /><path clip-path=\"url(#clip930)\" d=\"M83.0984 1457.12 L87.9827 1457.12 L87.9827 1463 L83.0984 1463 L83.0984 1457.12 Z\" fill=\"#000000\" fill-rule=\"evenodd\" fill-opacity=\"1\" /><path clip-path=\"url(#clip930)\" d=\"M108.168 1431.51 Q104.557 1431.51 102.728 1435.08 Q100.922 1438.62 100.922 1445.75 Q100.922 1452.86 102.728 1456.42 Q104.557 1459.96 108.168 1459.96 Q111.802 1459.96 113.608 1456.42 Q115.436 1452.86 115.436 1445.75 Q115.436 1438.62 113.608 1435.08 Q111.802 1431.51 108.168 1431.51 M108.168 1427.81 Q113.978 1427.81 117.033 1432.42 Q120.112 1437 120.112 1445.75 Q120.112 1454.48 117.033 1459.08 Q113.978 1463.67 108.168 1463.67 Q102.358 1463.67 99.2789 1459.08 Q96.2234 1454.48 96.2234 1445.75 Q96.2234 1437 99.2789 1432.42 Q102.358 1427.81 108.168 1427.81 Z\" fill=\"#000000\" fill-rule=\"evenodd\" fill-opacity=\"1\" /><path clip-path=\"url(#clip930)\" d=\"M138.33 1431.51 Q134.719 1431.51 132.89 1435.08 Q131.084 1438.62 131.084 1445.75 Q131.084 1452.86 132.89 1456.42 Q134.719 1459.96 138.33 1459.96 Q141.964 1459.96 143.769 1456.42 Q145.598 1452.86 145.598 1445.75 Q145.598 1438.62 143.769 1435.08 Q141.964 1431.51 138.33 1431.51 M138.33 1427.81 Q144.14 1427.81 147.195 1432.42 Q150.274 1437 150.274 1445.75 Q150.274 1454.48 147.195 1459.08 Q144.14 1463.67 138.33 1463.67 Q132.519 1463.67 129.441 1459.08 Q126.385 1454.48 126.385 1445.75 Q126.385 1437 129.441 1432.42 Q132.519 1427.81 138.33 1427.81 Z\" fill=\"#000000\" fill-rule=\"evenodd\" fill-opacity=\"1\" /><path clip-path=\"url(#clip930)\" d=\"M63.9319 1092.08 Q60.3208 1092.08 58.4921 1095.64 Q56.6865 1099.19 56.6865 1106.32 Q56.6865 1113.42 58.4921 1116.99 Q60.3208 1120.53 63.9319 1120.53 Q67.5661 1120.53 69.3717 1116.99 Q71.2004 1113.42 71.2004 1106.32 Q71.2004 1099.19 69.3717 1095.64 Q67.5661 1092.08 63.9319 1092.08 M63.9319 1088.38 Q69.742 1088.38 72.7976 1092.98 Q75.8763 1097.57 75.8763 1106.32 Q75.8763 1115.04 72.7976 1119.65 Q69.742 1124.23 63.9319 1124.23 Q58.1217 1124.23 55.043 1119.65 Q51.9875 1115.04 51.9875 1106.32 Q51.9875 1097.57 55.043 1092.98 Q58.1217 1088.38 63.9319 1088.38 Z\" fill=\"#000000\" fill-rule=\"evenodd\" fill-opacity=\"1\" /><path clip-path=\"url(#clip930)\" d=\"M84.0938 1117.68 L88.978 1117.68 L88.978 1123.56 L84.0938 1123.56 L84.0938 1117.68 Z\" fill=\"#000000\" fill-rule=\"evenodd\" fill-opacity=\"1\" /><path clip-path=\"url(#clip930)\" d=\"M109.163 1092.08 Q105.552 1092.08 103.723 1095.64 Q101.918 1099.19 101.918 1106.32 Q101.918 1113.42 103.723 1116.99 Q105.552 1120.53 109.163 1120.53 Q112.797 1120.53 114.603 1116.99 Q116.432 1113.42 116.432 1106.32 Q116.432 1099.19 114.603 1095.64 Q112.797 1092.08 109.163 1092.08 M109.163 1088.38 Q114.973 1088.38 118.029 1092.98 Q121.107 1097.57 121.107 1106.32 Q121.107 1115.04 118.029 1119.65 Q114.973 1124.23 109.163 1124.23 Q103.353 1124.23 100.274 1119.65 Q97.2187 1115.04 97.2187 1106.32 Q97.2187 1097.57 100.274 1092.98 Q103.353 1088.38 109.163 1088.38 Z\" fill=\"#000000\" fill-rule=\"evenodd\" fill-opacity=\"1\" /><path clip-path=\"url(#clip930)\" d=\"M129.371 1089 L147.728 1089 L147.728 1092.94 L133.654 1092.94 L133.654 1101.41 Q134.672 1101.06 135.691 1100.9 Q136.709 1100.71 137.728 1100.71 Q143.515 1100.71 146.894 1103.89 Q150.274 1107.06 150.274 1112.47 Q150.274 1118.05 146.802 1121.15 Q143.33 1124.23 137.01 1124.23 Q134.834 1124.23 132.566 1123.86 Q130.32 1123.49 127.913 1122.75 L127.913 1118.05 Q129.996 1119.19 132.219 1119.74 Q134.441 1120.3 136.918 1120.3 Q140.922 1120.3 143.26 1118.19 Q145.598 1116.08 145.598 1112.47 Q145.598 1108.86 143.26 1106.76 Q140.922 1104.65 136.918 1104.65 Q135.043 1104.65 133.168 1105.07 Q131.316 1105.48 129.371 1106.36 L129.371 1089 Z\" fill=\"#000000\" fill-rule=\"evenodd\" fill-opacity=\"1\" /><path clip-path=\"url(#clip930)\" d=\"M62.9365 752.645 Q59.3254 752.645 57.4967 756.209 Q55.6912 759.751 55.6912 766.881 Q55.6912 773.987 57.4967 777.552 Q59.3254 781.094 62.9365 781.094 Q66.5707 781.094 68.3763 777.552 Q70.205 773.987 70.205 766.881 Q70.205 759.751 68.3763 756.209 Q66.5707 752.645 62.9365 752.645 M62.9365 748.941 Q68.7467 748.941 71.8022 753.547 Q74.8809 758.131 74.8809 766.881 Q74.8809 775.608 71.8022 780.214 Q68.7467 784.797 62.9365 784.797 Q57.1264 784.797 54.0477 780.214 Q50.9921 775.608 50.9921 766.881 Q50.9921 758.131 54.0477 753.547 Q57.1264 748.941 62.9365 748.941 Z\" fill=\"#000000\" fill-rule=\"evenodd\" fill-opacity=\"1\" /><path clip-path=\"url(#clip930)\" d=\"M83.0984 778.246 L87.9827 778.246 L87.9827 784.126 L83.0984 784.126 L83.0984 778.246 Z\" fill=\"#000000\" fill-rule=\"evenodd\" fill-opacity=\"1\" /><path clip-path=\"url(#clip930)\" d=\"M98.978 780.191 L106.617 780.191 L106.617 753.825 L98.3067 755.492 L98.3067 751.233 L106.571 749.566 L111.246 749.566 L111.246 780.191 L118.885 780.191 L118.885 784.126 L98.978 784.126 L98.978 780.191 Z\" fill=\"#000000\" fill-rule=\"evenodd\" fill-opacity=\"1\" /><path clip-path=\"url(#clip930)\" d=\"M138.33 752.645 Q134.719 752.645 132.89 756.209 Q131.084 759.751 131.084 766.881 Q131.084 773.987 132.89 777.552 Q134.719 781.094 138.33 781.094 Q141.964 781.094 143.769 777.552 Q145.598 773.987 145.598 766.881 Q145.598 759.751 143.769 756.209 Q141.964 752.645 138.33 752.645 M138.33 748.941 Q144.14 748.941 147.195 753.547 Q150.274 758.131 150.274 766.881 Q150.274 775.608 147.195 780.214 Q144.14 784.797 138.33 784.797 Q132.519 784.797 129.441 780.214 Q126.385 775.608 126.385 766.881 Q126.385 758.131 129.441 753.547 Q132.519 748.941 138.33 748.941 Z\" fill=\"#000000\" fill-rule=\"evenodd\" fill-opacity=\"1\" /><path clip-path=\"url(#clip930)\" d=\"M63.9319 413.21 Q60.3208 413.21 58.4921 416.775 Q56.6865 420.316 56.6865 427.446 Q56.6865 434.552 58.4921 438.117 Q60.3208 441.659 63.9319 441.659 Q67.5661 441.659 69.3717 438.117 Q71.2004 434.552 71.2004 427.446 Q71.2004 420.316 69.3717 416.775 Q67.5661 413.21 63.9319 413.21 M63.9319 409.506 Q69.742 409.506 72.7976 414.113 Q75.8763 418.696 75.8763 427.446 Q75.8763 436.173 72.7976 440.779 Q69.742 445.362 63.9319 445.362 Q58.1217 445.362 55.043 440.779 Q51.9875 436.173 51.9875 427.446 Q51.9875 418.696 55.043 414.113 Q58.1217 409.506 63.9319 409.506 Z\" fill=\"#000000\" fill-rule=\"evenodd\" fill-opacity=\"1\" /><path clip-path=\"url(#clip930)\" d=\"M84.0938 438.812 L88.978 438.812 L88.978 444.691 L84.0938 444.691 L84.0938 438.812 Z\" fill=\"#000000\" fill-rule=\"evenodd\" fill-opacity=\"1\" /><path clip-path=\"url(#clip930)\" d=\"M99.9733 440.756 L107.612 440.756 L107.612 414.39 L99.3021 416.057 L99.3021 411.798 L107.566 410.131 L112.242 410.131 L112.242 440.756 L119.881 440.756 L119.881 444.691 L99.9733 444.691 L99.9733 440.756 Z\" fill=\"#000000\" fill-rule=\"evenodd\" fill-opacity=\"1\" /><path clip-path=\"url(#clip930)\" d=\"M129.371 410.131 L147.728 410.131 L147.728 414.066 L133.654 414.066 L133.654 422.538 Q134.672 422.191 135.691 422.029 Q136.709 421.844 137.728 421.844 Q143.515 421.844 146.894 425.015 Q150.274 428.187 150.274 433.603 Q150.274 439.182 146.802 442.284 Q143.33 445.362 137.01 445.362 Q134.834 445.362 132.566 444.992 Q130.32 444.622 127.913 443.881 L127.913 439.182 Q129.996 440.316 132.219 440.872 Q134.441 441.427 136.918 441.427 Q140.922 441.427 143.26 439.321 Q145.598 437.214 145.598 433.603 Q145.598 429.992 143.26 427.886 Q140.922 425.779 136.918 425.779 Q135.043 425.779 133.168 426.196 Q131.316 426.613 129.371 427.492 L129.371 410.131 Z\" fill=\"#000000\" fill-rule=\"evenodd\" fill-opacity=\"1\" /><path clip-path=\"url(#clip930)\" d=\"M62.9365 73.775 Q59.3254 73.775 57.4967 77.3398 Q55.6912 80.8814 55.6912 88.011 Q55.6912 95.1174 57.4967 98.6822 Q59.3254 102.224 62.9365 102.224 Q66.5707 102.224 68.3763 98.6822 Q70.205 95.1174 70.205 88.011 Q70.205 80.8814 68.3763 77.3398 Q66.5707 73.775 62.9365 73.775 M62.9365 70.0713 Q68.7467 70.0713 71.8022 74.6777 Q74.8809 79.261 74.8809 88.011 Q74.8809 96.7378 71.8022 101.344 Q68.7467 105.928 62.9365 105.928 Q57.1264 105.928 54.0477 101.344 Q50.9921 96.7378 50.9921 88.011 Q50.9921 79.261 54.0477 74.6777 Q57.1264 70.0713 62.9365 70.0713 Z\" fill=\"#000000\" fill-rule=\"evenodd\" fill-opacity=\"1\" /><path clip-path=\"url(#clip930)\" d=\"M83.0984 99.3767 L87.9827 99.3767 L87.9827 105.256 L83.0984 105.256 L83.0984 99.3767 Z\" fill=\"#000000\" fill-rule=\"evenodd\" fill-opacity=\"1\" /><path clip-path=\"url(#clip930)\" d=\"M102.196 101.321 L118.515 101.321 L118.515 105.256 L96.5706 105.256 L96.5706 101.321 Q99.2326 98.5665 103.816 93.9369 Q108.422 89.2841 109.603 87.9416 Q111.848 85.4184 112.728 83.6823 Q113.631 81.9231 113.631 80.2333 Q113.631 77.4786 111.686 75.7425 Q109.765 74.0064 106.663 74.0064 Q104.464 74.0064 102.01 74.7703 Q99.5798 75.5342 96.8021 77.0851 L96.8021 72.3629 Q99.6261 71.2287 102.08 70.65 Q104.534 70.0713 106.571 70.0713 Q111.941 70.0713 115.135 72.7565 Q118.33 75.4416 118.33 79.9323 Q118.33 82.062 117.52 83.9832 Q116.733 85.8814 114.626 88.474 Q114.047 89.1453 110.946 92.3628 Q107.844 95.5573 102.196 101.321 Z\" fill=\"#000000\" fill-rule=\"evenodd\" fill-opacity=\"1\" /><path clip-path=\"url(#clip930)\" d=\"M138.33 73.775 Q134.719 73.775 132.89 77.3398 Q131.084 80.8814 131.084 88.011 Q131.084 95.1174 132.89 98.6822 Q134.719 102.224 138.33 102.224 Q141.964 102.224 143.769 98.6822 Q145.598 95.1174 145.598 88.011 Q145.598 80.8814 143.769 77.3398 Q141.964 73.775 138.33 73.775 M138.33 70.0713 Q144.14 70.0713 147.195 74.6777 Q150.274 79.261 150.274 88.011 Q150.274 96.7378 147.195 101.344 Q144.14 105.928 138.33 105.928 Q132.519 105.928 129.441 101.344 Q126.385 96.7378 126.385 88.011 Q126.385 79.261 129.441 74.6777 Q132.519 70.0713 138.33 70.0713 Z\" fill=\"#000000\" fill-rule=\"evenodd\" fill-opacity=\"1\" /><path clip-path=\"url(#clip932)\" d=\"\n",
       "M540.858 1038.39 L540.858 1445.72 L801.092 1445.72 L801.092 1038.39 L540.858 1038.39 L540.858 1038.39  Z\n",
       "  \" fill=\"#009af9\" fill-rule=\"evenodd\" fill-opacity=\"1\"/>\n",
       "<polyline clip-path=\"url(#clip932)\" style=\"stroke:#000000; stroke-linecap:butt; stroke-linejoin:round; stroke-width:4; stroke-opacity:1; fill:none\" points=\"\n",
       "  540.858,1038.39 540.858,1445.72 801.092,1445.72 801.092,1038.39 540.858,1038.39 \n",
       "  \"/>\n",
       "<path clip-path=\"url(#clip932)\" d=\"\n",
       "M801.092 223.75 L801.092 1445.72 L1061.33 1445.72 L1061.33 223.75 L801.092 223.75 L801.092 223.75  Z\n",
       "  \" fill=\"#009af9\" fill-rule=\"evenodd\" fill-opacity=\"1\"/>\n",
       "<polyline clip-path=\"url(#clip932)\" style=\"stroke:#000000; stroke-linecap:butt; stroke-linejoin:round; stroke-width:4; stroke-opacity:1; fill:none\" points=\"\n",
       "  801.092,223.75 801.092,1445.72 1061.33,1445.72 1061.33,223.75 801.092,223.75 \n",
       "  \"/>\n",
       "<path clip-path=\"url(#clip932)\" d=\"\n",
       "M1061.33 87.9763 L1061.33 1445.72 L1321.56 1445.72 L1321.56 87.9763 L1061.33 87.9763 L1061.33 87.9763  Z\n",
       "  \" fill=\"#009af9\" fill-rule=\"evenodd\" fill-opacity=\"1\"/>\n",
       "<polyline clip-path=\"url(#clip932)\" style=\"stroke:#000000; stroke-linecap:butt; stroke-linejoin:round; stroke-width:4; stroke-opacity:1; fill:none\" points=\"\n",
       "  1061.33,87.9763 1061.33,1445.72 1321.56,1445.72 1321.56,87.9763 1061.33,87.9763 \n",
       "  \"/>\n",
       "<path clip-path=\"url(#clip932)\" d=\"\n",
       "M1321.56 1174.17 L1321.56 1445.72 L1581.8 1445.72 L1581.8 1174.17 L1321.56 1174.17 L1321.56 1174.17  Z\n",
       "  \" fill=\"#009af9\" fill-rule=\"evenodd\" fill-opacity=\"1\"/>\n",
       "<polyline clip-path=\"url(#clip932)\" style=\"stroke:#000000; stroke-linecap:butt; stroke-linejoin:round; stroke-width:4; stroke-opacity:1; fill:none\" points=\"\n",
       "  1321.56,1174.17 1321.56,1445.72 1581.8,1445.72 1581.8,1174.17 1321.56,1174.17 \n",
       "  \"/>\n",
       "<path clip-path=\"url(#clip932)\" d=\"\n",
       "M1581.8 1377.83 L1581.8 1445.72 L1842.03 1445.72 L1842.03 1377.83 L1581.8 1377.83 L1581.8 1377.83  Z\n",
       "  \" fill=\"#009af9\" fill-rule=\"evenodd\" fill-opacity=\"1\"/>\n",
       "<polyline clip-path=\"url(#clip932)\" style=\"stroke:#000000; stroke-linecap:butt; stroke-linejoin:round; stroke-width:4; stroke-opacity:1; fill:none\" points=\"\n",
       "  1581.8,1377.83 1581.8,1445.72 1842.03,1445.72 1842.03,1377.83 1581.8,1377.83 \n",
       "  \"/>\n",
       "<path clip-path=\"url(#clip932)\" d=\"\n",
       "M1842.03 1377.83 L1842.03 1445.72 L2102.27 1445.72 L2102.27 1377.83 L1842.03 1377.83 L1842.03 1377.83  Z\n",
       "  \" fill=\"#009af9\" fill-rule=\"evenodd\" fill-opacity=\"1\"/>\n",
       "<polyline clip-path=\"url(#clip932)\" style=\"stroke:#000000; stroke-linecap:butt; stroke-linejoin:round; stroke-width:4; stroke-opacity:1; fill:none\" points=\"\n",
       "  1842.03,1377.83 1842.03,1445.72 2102.27,1445.72 2102.27,1377.83 1842.03,1377.83 \n",
       "  \"/>\n",
       "<circle clip-path=\"url(#clip932)\" style=\"fill:#009af9; stroke:none; fill-opacity:0\" cx=\"670.975\" cy=\"1038.39\" r=\"2\"/>\n",
       "<circle clip-path=\"url(#clip932)\" style=\"fill:#009af9; stroke:none; fill-opacity:0\" cx=\"931.21\" cy=\"223.75\" r=\"2\"/>\n",
       "<circle clip-path=\"url(#clip932)\" style=\"fill:#009af9; stroke:none; fill-opacity:0\" cx=\"1191.44\" cy=\"87.9763\" r=\"2\"/>\n",
       "<circle clip-path=\"url(#clip932)\" style=\"fill:#009af9; stroke:none; fill-opacity:0\" cx=\"1451.68\" cy=\"1174.17\" r=\"2\"/>\n",
       "<circle clip-path=\"url(#clip932)\" style=\"fill:#009af9; stroke:none; fill-opacity:0\" cx=\"1711.91\" cy=\"1377.83\" r=\"2\"/>\n",
       "<circle clip-path=\"url(#clip932)\" style=\"fill:#009af9; stroke:none; fill-opacity:0\" cx=\"1972.15\" cy=\"1377.83\" r=\"2\"/>\n",
       "<polyline clip-path=\"url(#clip932)\" style=\"stroke:#e26f46; stroke-linecap:butt; stroke-linejoin:round; stroke-width:4; stroke-opacity:1; fill:none\" points=\"\n",
       "  247.59,1445.68 257.86,1445.67 268.131,1445.65 278.401,1445.63 288.672,1445.6 298.943,1445.55 309.213,1445.47 319.484,1445.37 329.754,1445.24 340.025,1445.05 \n",
       "  350.296,1444.8 360.566,1444.47 370.837,1444.03 381.107,1443.45 391.378,1442.69 401.649,1441.72 411.919,1440.48 422.19,1438.91 432.46,1436.94 442.731,1434.48 \n",
       "  453.002,1431.43 463.272,1427.69 473.543,1423.14 483.813,1417.62 494.084,1411 504.355,1403.11 514.625,1393.77 524.896,1382.79 535.167,1369.98 545.437,1355.14 \n",
       "  555.708,1338.06 565.978,1318.54 576.249,1296.41 586.52,1271.48 596.79,1243.63 607.061,1212.72 617.331,1178.71 627.602,1141.56 637.873,1101.31 648.143,1058.07 \n",
       "  658.414,1012.01 668.684,963.384 678.955,912.502 689.226,859.765 699.496,805.635 709.767,750.639 720.037,695.352 730.308,640.39 740.579,586.39 750.849,533.997 \n",
       "  761.12,483.845 771.39,436.536 781.661,392.627 791.932,352.61 802.202,316.901 812.473,285.822 822.744,259.598 833.014,238.345 843.285,222.074 853.555,210.685 \n",
       "  863.826,203.975 874.097,201.643 884.367,203.304 894.638,208.498 904.908,216.705 915.179,227.365 925.45,239.891 935.72,253.691 945.991,268.18 956.261,282.803 \n",
       "  966.532,297.043 976.803,310.44 987.073,322.595 997.344,333.183 1007.61,341.952 1017.89,348.725 1028.16,353.401 1038.43,355.949 1048.7,356.401 1058.97,354.844 \n",
       "  1069.24,351.416 1079.51,346.294 1089.78,339.688 1100.05,331.837 1110.32,323.004 1120.59,313.47 1130.86,303.538 1141.13,293.528 1151.4,283.78 1161.67,274.654 \n",
       "  1171.94,266.526 1182.21,259.793 1192.49,254.861 1202.76,252.147 1213.03,252.063 1223.3,255.009 1233.57,261.362 1243.84,271.458 1254.11,285.577 1264.38,303.934 \n",
       "  1274.65,326.66 1284.92,353.795 1295.19,385.282 1305.46,420.957 1315.73,460.559 1326,503.728 1336.27,550.016 1346.54,598.901 1356.82,649.802 1367.09,702.098 \n",
       "  1377.36,755.145 1387.63,808.297 1397.9,860.924 1408.17,912.43 1418.44,962.266 1428.71,1009.94 1438.98,1055.05 1449.25,1097.23 1459.52,1136.23 1469.79,1171.87 \n",
       "  1480.06,1204.04 1490.33,1232.72 1500.6,1257.93 1510.87,1279.79 1521.14,1298.44 1531.42,1314.08 1541.69,1326.97 1551.96,1337.35 1562.23,1345.51 1572.5,1351.75 \n",
       "  1582.77,1356.36 1593.04,1359.63 1603.31,1361.83 1613.58,1363.22 1623.85,1364.02 1634.12,1364.45 1644.39,1364.65 1654.66,1364.76 1664.93,1364.88 1675.2,1365.07 \n",
       "  1685.47,1365.36 1695.75,1365.75 1706.02,1366.23 1716.29,1366.75 1726.56,1367.29 1736.83,1367.79 1747.1,1368.21 1757.37,1368.52 1767.64,1368.68 1777.91,1368.7 \n",
       "  1788.18,1368.59 1798.45,1368.37 1808.72,1368.1 1818.99,1367.82 1829.26,1367.62 1839.53,1367.56 1849.8,1367.72 1860.07,1368.18 1870.35,1369 1880.62,1370.21 \n",
       "  1890.89,1371.87 1901.16,1373.99 1911.43,1376.55 1921.7,1379.55 1931.97,1382.93 1942.24,1386.65 1952.51,1390.63 1962.78,1394.81 1973.05,1399.1 1983.32,1403.43 \n",
       "  1993.59,1407.72 2003.86,1411.9 2014.13,1415.91 2024.4,1419.7 2034.68,1423.23 2044.95,1426.47 2055.22,1429.4 2065.49,1432.03 2075.76,1434.34 2086.03,1436.36 \n",
       "  2096.3,1438.09 2106.57,1439.57 2116.84,1440.81 2127.11,1441.84 2137.38,1442.68 2147.65,1443.36 2157.92,1443.91 2168.19,1444.35 2178.46,1444.69 2188.73,1444.95 \n",
       "  2199,1445.15 2209.28,1445.3 2219.55,1445.42 2229.82,1445.5 2240.09,1445.56 2250.36,1445.61 2260.63,1445.64 2270.9,1445.66 2281.17,1445.67 2291.44,1445.68 \n",
       "  \n",
       "  \"/>\n",
       "<path clip-path=\"url(#clip930)\" d=\"\n",
       "M1987.39 250.738 L2280.54 250.738 L2280.54 95.2176 L1987.39 95.2176  Z\n",
       "  \" fill=\"#ffffff\" fill-rule=\"evenodd\" fill-opacity=\"1\"/>\n",
       "<polyline clip-path=\"url(#clip930)\" style=\"stroke:#000000; stroke-linecap:butt; stroke-linejoin:round; stroke-width:4; stroke-opacity:1; fill:none\" points=\"\n",
       "  1987.39,250.738 2280.54,250.738 2280.54,95.2176 1987.39,95.2176 1987.39,250.738 \n",
       "  \"/>\n",
       "<path clip-path=\"url(#clip930)\" d=\"\n",
       "M2011.46 167.794 L2155.89 167.794 L2155.89 126.322 L2011.46 126.322 L2011.46 167.794  Z\n",
       "  \" fill=\"#009af9\" fill-rule=\"evenodd\" fill-opacity=\"1\"/>\n",
       "<polyline clip-path=\"url(#clip930)\" style=\"stroke:#000000; stroke-linecap:butt; stroke-linejoin:round; stroke-width:4; stroke-opacity:1; fill:none\" points=\"\n",
       "  2011.46,167.794 2155.89,167.794 2155.89,126.322 2011.46,126.322 2011.46,167.794 \n",
       "  \"/>\n",
       "<path clip-path=\"url(#clip930)\" d=\"M2193.81 166.745 Q2192 171.375 2190.29 172.787 Q2188.58 174.199 2185.71 174.199 L2182.3 174.199 L2182.3 170.634 L2184.8 170.634 Q2186.56 170.634 2187.53 169.8 Q2188.51 168.967 2189.69 165.865 L2190.45 163.921 L2179.97 138.412 L2184.48 138.412 L2192.58 158.689 L2200.68 138.412 L2205.2 138.412 L2193.81 166.745 Z\" fill=\"#000000\" fill-rule=\"evenodd\" fill-opacity=\"1\" /><path clip-path=\"url(#clip930)\" d=\"M2212.49 160.402 L2220.13 160.402 L2220.13 134.037 L2211.82 135.703 L2211.82 131.444 L2220.08 129.778 L2224.76 129.778 L2224.76 160.402 L2232.4 160.402 L2232.4 164.338 L2212.49 164.338 L2212.49 160.402 Z\" fill=\"#000000\" fill-rule=\"evenodd\" fill-opacity=\"1\" /><polyline clip-path=\"url(#clip930)\" style=\"stroke:#e26f46; stroke-linecap:butt; stroke-linejoin:round; stroke-width:4; stroke-opacity:1; fill:none\" points=\"\n",
       "  2011.46,198.898 2155.89,198.898 \n",
       "  \"/>\n",
       "<path clip-path=\"url(#clip930)\" d=\"M2193.81 218.585 Q2192 223.215 2190.29 224.627 Q2188.58 226.039 2185.71 226.039 L2182.3 226.039 L2182.3 222.474 L2184.8 222.474 Q2186.56 222.474 2187.53 221.64 Q2188.51 220.807 2189.69 217.705 L2190.45 215.761 L2179.97 190.252 L2184.48 190.252 L2192.58 210.529 L2200.68 190.252 L2205.2 190.252 L2193.81 218.585 Z\" fill=\"#000000\" fill-rule=\"evenodd\" fill-opacity=\"1\" /><path clip-path=\"url(#clip930)\" d=\"M2215.71 212.242 L2232.03 212.242 L2232.03 216.178 L2210.08 216.178 L2210.08 212.242 Q2212.74 209.488 2217.33 204.858 Q2221.93 200.205 2223.11 198.863 Q2225.36 196.34 2226.24 194.604 Q2227.14 192.844 2227.14 191.155 Q2227.14 188.4 2225.2 186.664 Q2223.28 184.928 2220.17 184.928 Q2217.97 184.928 2215.52 185.692 Q2213.09 186.455 2210.31 188.006 L2210.31 183.284 Q2213.14 182.15 2215.59 181.571 Q2218.04 180.993 2220.08 180.993 Q2225.45 180.993 2228.65 183.678 Q2231.84 186.363 2231.84 190.854 Q2231.84 192.983 2231.03 194.905 Q2230.24 196.803 2228.14 199.395 Q2227.56 200.067 2224.46 203.284 Q2221.35 206.479 2215.71 212.242 Z\" fill=\"#000000\" fill-rule=\"evenodd\" fill-opacity=\"1\" /></svg>\n"
      ]
     },
     "metadata": {},
     "output_type": "display_data"
    }
   ],
   "source": [
    "# had to normalize histogram to be on same scale as density. See explanation below\n",
    " \n",
    "histogram(df_states[!, \"Murder.Rate\"], normalize = true )\n",
    "density!(df_states[!, \"Murder.Rate\"] )\n",
    "\n"
   ]
  },
  {
   "cell_type": "markdown",
   "metadata": {},
   "source": [
    "A key distinction from the histogram plotted in Figure 1-3 is the scale of the y-axis: a density plot corresponds to plotting the histogram as a proportion rather than counts (you specify this in R using the argument freq=FALSE). Note that the total area under the density curve = 1, and instead of counts in bins you calculate areas under the curve between any two points on the x-axis, which correspond to the proportion of the distribution lying between those two points."
   ]
  },
  {
   "cell_type": "markdown",
   "metadata": {},
   "source": [
    "## KEY IDEAS\n",
    "A __frequency histogram__ plots frequency counts on the y-axis and variable values on the x-axis; it gives a sense of the distribution of the data at a glance.\n",
    "\n",
    "A __frequency table__ is a tabular version of the frequency counts found in a histogram.\n",
    "\n",
    "A __boxplot__—with the top and bottom of the box at the 75th and 25th percentiles, respectively—also gives a quick sense of the distribution of the data; it is often used in side-by-side displays to compare distributions.\n",
    "\n",
    "A __density plot__ is a smoothed version of a histogram; it requires a function to estimate a plot based on the data (multiple estimates are possible, of course)."
   ]
  },
  {
   "cell_type": "markdown",
   "metadata": {},
   "source": []
  },
  {
   "cell_type": "markdown",
   "metadata": {},
   "source": [
    "# Exploring Binary and Categorical Data"
   ]
  },
  {
   "cell_type": "markdown",
   "metadata": {},
   "source": [
    "For categorical data, simple proportions or percentages tell the story of the data."
   ]
  },
  {
   "cell_type": "markdown",
   "metadata": {},
   "source": [
    "__Mode__\n",
    "The most commonly occurring category or value in a data set.\n",
    "\n",
    "__Expected value__\n",
    "When the categories can be associated with a numeric value, this gives an average value based on a category’s probability of occurrence.\n",
    "\n",
    "__Bar charts__\n",
    "The frequency or proportion for each category plotted as bars.\n",
    "\n",
    "__Pie charts__\n",
    "The frequency or proportion for each category plotted as wedges in a pie."
   ]
  },
  {
   "cell_type": "markdown",
   "metadata": {},
   "source": [
    "Getting a summary of a binary variable or a categorical variable with a few categories is a fairly easy matter: we just figure out the proportion of 1s, or the proportions of the important categories. For example, Table 1-6 shows the percentage of delayed flights by the cause of delay at Dallas/Fort Worth Airport in 2010. Delays are categorized as being due to factors under carrier control, air traffic control (ATC) system delays, weather, security, or a late inbound aircraft."
   ]
  },
  {
   "cell_type": "code",
   "execution_count": 184,
   "metadata": {},
   "outputs": [],
   "source": [
    "dfw = CSV.read(\"dfw_airline.csv\", DataFrame);"
   ]
  },
  {
   "cell_type": "code",
   "execution_count": 185,
   "metadata": {},
   "outputs": [
    {
     "data": {
      "text/html": [
       "<div class=\"data-frame\"><p>1 rows × 5 columns</p><table class=\"data-frame\"><thead><tr><th></th><th>Carrier</th><th>ATC</th><th>Weather</th><th>Security</th><th>Inbound</th></tr><tr><th></th><th title=\"Float64\">Float64</th><th title=\"Float64\">Float64</th><th title=\"Float64\">Float64</th><th title=\"Float64\">Float64</th><th title=\"Float64\">Float64</th></tr></thead><tbody><tr><th>1</th><td>64263.2</td><td>84856.5</td><td>11235.4</td><td>343.15</td><td>1.18428e5</td></tr></tbody></table></div>"
      ],
      "text/latex": [
       "\\begin{tabular}{r|ccccc}\n",
       "\t& Carrier & ATC & Weather & Security & Inbound\\\\\n",
       "\t\\hline\n",
       "\t& Float64 & Float64 & Float64 & Float64 & Float64\\\\\n",
       "\t\\hline\n",
       "\t1 & 64263.2 & 84856.5 & 11235.4 & 343.15 & 1.18428e5 \\\\\n",
       "\\end{tabular}\n"
      ],
      "text/plain": [
       "\u001b[1m1×5 DataFrame\u001b[0m\n",
       "\u001b[1m Row \u001b[0m│\u001b[1m Carrier \u001b[0m\u001b[1m ATC     \u001b[0m\u001b[1m Weather \u001b[0m\u001b[1m Security \u001b[0m\u001b[1m Inbound   \u001b[0m\n",
       "\u001b[1m     \u001b[0m│\u001b[90m Float64 \u001b[0m\u001b[90m Float64 \u001b[0m\u001b[90m Float64 \u001b[0m\u001b[90m Float64  \u001b[0m\u001b[90m Float64   \u001b[0m\n",
       "─────┼────────────────────────────────────────────────\n",
       "   1 │ 64263.2  84856.5  11235.4    343.15  1.18428e5"
      ]
     },
     "metadata": {},
     "output_type": "display_data"
    }
   ],
   "source": [
    "first(dfw,10)"
   ]
  },
  {
   "cell_type": "code",
   "execution_count": 196,
   "metadata": {},
   "outputs": [
    {
     "data": {
      "image/png": "[encoded data removed]",
      "image/svg+xml": "<?xml version=\"1.0\" encoding=\"utf-8\"?>\n<svg xmlns=\"http://www.w3.org/2000/svg\" xmlns:xlink=\"http://www.w3.org/1999/xlink\" width=\"600\" height=\"400\" viewBox=\"0 0 2400 1600\">\n<defs>\n  <clipPath id=\"clip150\">\n    <rect x=\"0\" y=\"0\" width=\"2400\" height=\"1600\"/>\n  </clipPath>\n</defs>\n<path clip-path=\"url(#clip150)\" d=\"\nM0 1600 L2400 1600 L2400 0 L0 0  Z\n  \" fill=\"#ffffff\" fill-rule=\"evenodd\" fill-opacity=\"1\"/>\n<defs>\n  <clipPath id=\"clip151\">\n    <rect x=\"480\" y=\"0\" width=\"1681\" height=\"1600\"/>\n  </clipPath>\n</defs>\n<path clip-path=\"url(#clip150)\" d=\"\nM306.435 1486.45 L2352.76 1486.45 L2352.76 47.2441 L306.435 47.2441  Z\n  \" fill=\"#ffffff\" fill-rule=\"evenodd\" fill-opacity=\"1\"/>\n<defs>\n  <clipPath id=\"clip152\">\n    <rect x=\"306\" y=\"47\" width=\"2047\" height=\"1440\"/>\n  </clipPath>\n</defs>\n<polyline clip-path=\"url(#clip152)\" style=\"stroke:#000000; stroke-linecap:butt; stroke-linejoin:round; stroke-width:2; stroke-opacity:0.1; fill:none\" points=\"\n  570.755,1486.45 570.755,47.2441 \n  \"/>\n<polyline clip-path=\"url(#clip152)\" style=\"stroke:#000000; stroke-linecap:butt; stroke-linejoin:round; stroke-width:2; stroke-opacity:0.1; fill:none\" points=\"\n  950.175,1486.45 950.175,47.2441 \n  \"/>\n<polyline clip-path=\"url(#clip152)\" style=\"stroke:#000000; stroke-linecap:butt; stroke-linejoin:round; stroke-width:2; stroke-opacity:0.1; fill:none\" points=\"\n  1329.6,1486.45 1329.6,47.2441 \n  \"/>\n<polyline clip-path=\"url(#clip152)\" style=\"stroke:#000000; stroke-linecap:butt; stroke-linejoin:round; stroke-width:2; stroke-opacity:0.1; fill:none\" points=\"\n  1709.02,1486.45 1709.02,47.2441 \n  \"/>\n<polyline clip-path=\"url(#clip152)\" style=\"stroke:#000000; stroke-linecap:butt; stroke-linejoin:round; stroke-width:2; stroke-opacity:0.1; fill:none\" points=\"\n  2088.44,1486.45 2088.44,47.2441 \n  \"/>\n<polyline clip-path=\"url(#clip150)\" style=\"stroke:#000000; stroke-linecap:butt; stroke-linejoin:round; stroke-width:4; stroke-opacity:1; fill:none\" points=\"\n  306.435,1486.45 2352.76,1486.45 \n  \"/>\n<polyline clip-path=\"url(#clip150)\" style=\"stroke:#000000; stroke-linecap:butt; stroke-linejoin:round; stroke-width:4; stroke-opacity:1; fill:none\" points=\"\n  570.755,1486.45 570.755,1467.55 \n  \"/>\n<polyline clip-path=\"url(#clip150)\" style=\"stroke:#000000; stroke-linecap:butt; stroke-linejoin:round; stroke-width:4; stroke-opacity:1; fill:none\" points=\"\n  950.175,1486.45 950.175,1467.55 \n  \"/>\n<polyline clip-path=\"url(#clip150)\" style=\"stroke:#000000; stroke-linecap:butt; stroke-linejoin:round; stroke-width:4; stroke-opacity:1; fill:none\" points=\"\n  1329.6,1486.45 1329.6,1467.55 \n  \"/>\n<polyline clip-path=\"url(#clip150)\" style=\"stroke:#000000; stroke-linecap:butt; stroke-linejoin:round; stroke-width:4; stroke-opacity:1; fill:none\" points=\"\n  1709.02,1486.45 1709.02,1467.55 \n  \"/>\n<polyline clip-path=\"url(#clip150)\" style=\"stroke:#000000; stroke-linecap:butt; stroke-linejoin:round; stroke-width:4; stroke-opacity:1; fill:none\" points=\"\n  2088.44,1486.45 2088.44,1467.55 \n  \"/>\n<path clip-path=\"url(#clip150)\" d=\"M518.892 1516.95 L518.892 1521.88 Q516.531 1519.68 513.845 1518.59 Q511.183 1517.51 508.174 1517.51 Q502.248 1517.51 499.1 1521.14 Q495.952 1524.75 495.952 1531.6 Q495.952 1538.43 499.1 1542.07 Q502.248 1545.68 508.174 1545.68 Q511.183 1545.68 513.845 1544.59 Q516.531 1543.5 518.892 1541.3 L518.892 1546.19 Q516.438 1547.85 513.683 1548.69 Q510.952 1549.52 507.896 1549.52 Q500.049 1549.52 495.535 1544.73 Q491.021 1539.91 491.021 1531.6 Q491.021 1523.27 495.535 1518.48 Q500.049 1513.66 507.896 1513.66 Q510.998 1513.66 513.73 1514.5 Q516.484 1515.31 518.892 1516.95 Z\" fill=\"#000000\" fill-rule=\"evenodd\" fill-opacity=\"1\" /><path clip-path=\"url(#clip150)\" d=\"M537.711 1535.82 Q532.549 1535.82 530.558 1537 Q528.568 1538.18 528.568 1541.02 Q528.568 1543.29 530.049 1544.63 Q531.554 1545.95 534.123 1545.95 Q537.665 1545.95 539.794 1543.45 Q541.947 1540.93 541.947 1536.76 L541.947 1535.82 L537.711 1535.82 M546.206 1534.06 L546.206 1548.85 L541.947 1548.85 L541.947 1544.91 Q540.489 1547.27 538.313 1548.41 Q536.137 1549.52 532.989 1549.52 Q529.007 1549.52 526.646 1547.3 Q524.308 1545.05 524.308 1541.3 Q524.308 1536.93 527.225 1534.7 Q530.165 1532.48 535.975 1532.48 L541.947 1532.48 L541.947 1532.07 Q541.947 1529.13 540.003 1527.53 Q538.081 1525.91 534.586 1525.91 Q532.364 1525.91 530.257 1526.44 Q528.151 1526.97 526.206 1528.04 L526.206 1524.1 Q528.544 1523.2 530.743 1522.76 Q532.943 1522.3 535.026 1522.3 Q540.651 1522.3 543.429 1525.21 Q546.206 1528.13 546.206 1534.06 Z\" fill=\"#000000\" fill-rule=\"evenodd\" fill-opacity=\"1\" /><path clip-path=\"url(#clip150)\" d=\"M570.003 1526.9 Q569.285 1526.49 568.428 1526.3 Q567.595 1526.09 566.577 1526.09 Q562.966 1526.09 561.021 1528.45 Q559.1 1530.79 559.1 1535.19 L559.1 1548.85 L554.817 1548.85 L554.817 1522.92 L559.1 1522.92 L559.1 1526.95 Q560.442 1524.59 562.595 1523.45 Q564.748 1522.3 567.827 1522.3 Q568.266 1522.3 568.799 1522.37 Q569.331 1522.41 569.979 1522.53 L570.003 1526.9 Z\" fill=\"#000000\" fill-rule=\"evenodd\" fill-opacity=\"1\" /><path clip-path=\"url(#clip150)\" d=\"M588.66 1526.9 Q587.942 1526.49 587.086 1526.3 Q586.252 1526.09 585.234 1526.09 Q581.623 1526.09 579.678 1528.45 Q577.757 1530.79 577.757 1535.19 L577.757 1548.85 L573.475 1548.85 L573.475 1522.92 L577.757 1522.92 L577.757 1526.95 Q579.1 1524.59 581.252 1523.45 Q583.405 1522.3 586.484 1522.3 Q586.924 1522.3 587.456 1522.37 Q587.989 1522.41 588.637 1522.53 L588.66 1526.9 Z\" fill=\"#000000\" fill-rule=\"evenodd\" fill-opacity=\"1\" /><path clip-path=\"url(#clip150)\" d=\"M593.127 1522.92 L597.387 1522.92 L597.387 1548.85 L593.127 1548.85 L593.127 1522.92 M593.127 1512.83 L597.387 1512.83 L597.387 1518.22 L593.127 1518.22 L593.127 1512.83 Z\" fill=\"#000000\" fill-rule=\"evenodd\" fill-opacity=\"1\" /><path clip-path=\"url(#clip150)\" d=\"M628.474 1534.82 L628.474 1536.9 L608.891 1536.9 Q609.169 1541.3 611.53 1543.62 Q613.914 1545.91 618.15 1545.91 Q620.604 1545.91 622.896 1545.31 Q625.211 1544.7 627.479 1543.5 L627.479 1547.53 Q625.187 1548.5 622.78 1549.01 Q620.373 1549.52 617.896 1549.52 Q611.692 1549.52 608.058 1545.91 Q604.447 1542.3 604.447 1536.14 Q604.447 1529.77 607.873 1526.05 Q611.322 1522.3 617.155 1522.3 Q622.386 1522.3 625.419 1525.68 Q628.474 1529.03 628.474 1534.82 M624.215 1533.57 Q624.169 1530.07 622.248 1527.99 Q620.349 1525.91 617.201 1525.91 Q613.637 1525.91 611.484 1527.92 Q609.354 1529.94 609.03 1533.59 L624.215 1533.57 Z\" fill=\"#000000\" fill-rule=\"evenodd\" fill-opacity=\"1\" /><path clip-path=\"url(#clip150)\" d=\"M650.488 1526.9 Q649.771 1526.49 648.914 1526.3 Q648.081 1526.09 647.062 1526.09 Q643.451 1526.09 641.507 1528.45 Q639.585 1530.79 639.585 1535.19 L639.585 1548.85 L635.303 1548.85 L635.303 1522.92 L639.585 1522.92 L639.585 1526.95 Q640.928 1524.59 643.081 1523.45 Q645.234 1522.3 648.312 1522.3 Q648.752 1522.3 649.285 1522.37 Q649.817 1522.41 650.465 1522.53 L650.488 1526.9 Z\" fill=\"#000000\" fill-rule=\"evenodd\" fill-opacity=\"1\" /><path clip-path=\"url(#clip150)\" d=\"M923.462 1518.89 L917.12 1536.09 L929.828 1536.09 L923.462 1518.89 M920.824 1514.29 L926.124 1514.29 L939.296 1548.85 L934.435 1548.85 L931.286 1539.98 L915.708 1539.98 L912.56 1548.85 L907.629 1548.85 L920.824 1514.29 Z\" fill=\"#000000\" fill-rule=\"evenodd\" fill-opacity=\"1\" /><path clip-path=\"url(#clip150)\" d=\"M935.87 1514.29 L965.106 1514.29 L965.106 1518.22 L952.837 1518.22 L952.837 1548.85 L948.138 1548.85 L948.138 1518.22 L935.87 1518.22 L935.87 1514.29 Z\" fill=\"#000000\" fill-rule=\"evenodd\" fill-opacity=\"1\" /><path clip-path=\"url(#clip150)\" d=\"M992.721 1516.95 L992.721 1521.88 Q990.36 1519.68 987.675 1518.59 Q985.013 1517.51 982.004 1517.51 Q976.078 1517.51 972.93 1521.14 Q969.782 1524.75 969.782 1531.6 Q969.782 1538.43 972.93 1542.07 Q976.078 1545.68 982.004 1545.68 Q985.013 1545.68 987.675 1544.59 Q990.36 1543.5 992.721 1541.3 L992.721 1546.19 Q990.268 1547.85 987.513 1548.69 Q984.782 1549.52 981.726 1549.52 Q973.879 1549.52 969.365 1544.73 Q964.851 1539.91 964.851 1531.6 Q964.851 1523.27 969.365 1518.48 Q973.879 1513.66 981.726 1513.66 Q984.828 1513.66 987.559 1514.5 Q990.314 1515.31 992.721 1516.95 Z\" fill=\"#000000\" fill-rule=\"evenodd\" fill-opacity=\"1\" /><path clip-path=\"url(#clip150)\" d=\"M1230.58 1514.29 L1235.3 1514.29 L1242.57 1543.5 L1249.82 1514.29 L1255.07 1514.29 L1262.34 1543.5 L1269.58 1514.29 L1274.33 1514.29 L1265.65 1548.85 L1259.77 1548.85 L1252.48 1518.85 L1245.12 1548.85 L1239.24 1548.85 L1230.58 1514.29 Z\" fill=\"#000000\" fill-rule=\"evenodd\" fill-opacity=\"1\" /><path clip-path=\"url(#clip150)\" d=\"M1299.75 1534.82 L1299.75 1536.9 L1280.16 1536.9 Q1280.44 1541.3 1282.8 1543.62 Q1285.19 1545.91 1289.42 1545.91 Q1291.88 1545.91 1294.17 1545.31 Q1296.48 1544.7 1298.75 1543.5 L1298.75 1547.53 Q1296.46 1548.5 1294.05 1549.01 Q1291.64 1549.52 1289.17 1549.52 Q1282.96 1549.52 1279.33 1545.91 Q1275.72 1542.3 1275.72 1536.14 Q1275.72 1529.77 1279.14 1526.05 Q1282.59 1522.3 1288.43 1522.3 Q1293.66 1522.3 1296.69 1525.68 Q1299.75 1529.03 1299.75 1534.82 M1295.49 1533.57 Q1295.44 1530.07 1293.52 1527.99 Q1291.62 1525.91 1288.47 1525.91 Q1284.91 1525.91 1282.76 1527.92 Q1280.63 1529.94 1280.3 1533.59 L1295.49 1533.57 Z\" fill=\"#000000\" fill-rule=\"evenodd\" fill-opacity=\"1\" /><path clip-path=\"url(#clip150)\" d=\"M1318.52 1535.82 Q1313.36 1535.82 1311.37 1537 Q1309.38 1538.18 1309.38 1541.02 Q1309.38 1543.29 1310.86 1544.63 Q1312.36 1545.95 1314.93 1545.95 Q1318.47 1545.95 1320.6 1543.45 Q1322.76 1540.93 1322.76 1536.76 L1322.76 1535.82 L1318.52 1535.82 M1327.01 1534.06 L1327.01 1548.85 L1322.76 1548.85 L1322.76 1544.91 Q1321.3 1547.27 1319.12 1548.41 Q1316.95 1549.52 1313.8 1549.52 Q1309.82 1549.52 1307.45 1547.3 Q1305.12 1545.05 1305.12 1541.3 Q1305.12 1536.93 1308.03 1534.7 Q1310.97 1532.48 1316.78 1532.48 L1322.76 1532.48 L1322.76 1532.07 Q1322.76 1529.13 1320.81 1527.53 Q1318.89 1525.91 1315.39 1525.91 Q1313.17 1525.91 1311.07 1526.44 Q1308.96 1526.97 1307.01 1528.04 L1307.01 1524.1 Q1309.35 1523.2 1311.55 1522.76 Q1313.75 1522.3 1315.83 1522.3 Q1321.46 1522.3 1324.24 1525.21 Q1327.01 1528.13 1327.01 1534.06 Z\" fill=\"#000000\" fill-rule=\"evenodd\" fill-opacity=\"1\" /><path clip-path=\"url(#clip150)\" d=\"M1340 1515.56 L1340 1522.92 L1348.77 1522.92 L1348.77 1526.23 L1340 1526.23 L1340 1540.31 Q1340 1543.48 1340.86 1544.38 Q1341.74 1545.28 1344.4 1545.28 L1348.77 1545.28 L1348.77 1548.85 L1344.4 1548.85 Q1339.47 1548.85 1337.59 1547.02 Q1335.72 1545.17 1335.72 1540.31 L1335.72 1526.23 L1332.59 1526.23 L1332.59 1522.92 L1335.72 1522.92 L1335.72 1515.56 L1340 1515.56 Z\" fill=\"#000000\" fill-rule=\"evenodd\" fill-opacity=\"1\" /><path clip-path=\"url(#clip150)\" d=\"M1375.93 1533.2 L1375.93 1548.85 L1371.67 1548.85 L1371.67 1533.34 Q1371.67 1529.66 1370.23 1527.83 Q1368.8 1526 1365.93 1526 Q1362.48 1526 1360.49 1528.2 Q1358.5 1530.4 1358.5 1534.2 L1358.5 1548.85 L1354.21 1548.85 L1354.21 1512.83 L1358.5 1512.83 L1358.5 1526.95 Q1360.02 1524.61 1362.08 1523.45 Q1364.17 1522.3 1366.88 1522.3 Q1371.34 1522.3 1373.63 1525.07 Q1375.93 1527.83 1375.93 1533.2 Z\" fill=\"#000000\" fill-rule=\"evenodd\" fill-opacity=\"1\" /><path clip-path=\"url(#clip150)\" d=\"M1406.6 1534.82 L1406.6 1536.9 L1387.01 1536.9 Q1387.29 1541.3 1389.65 1543.62 Q1392.04 1545.91 1396.27 1545.91 Q1398.73 1545.91 1401.02 1545.31 Q1403.33 1544.7 1405.6 1543.5 L1405.6 1547.53 Q1403.31 1548.5 1400.9 1549.01 Q1398.5 1549.52 1396.02 1549.52 Q1389.82 1549.52 1386.18 1545.91 Q1382.57 1542.3 1382.57 1536.14 Q1382.57 1529.77 1386 1526.05 Q1389.44 1522.3 1395.28 1522.3 Q1400.51 1522.3 1403.54 1525.68 Q1406.6 1529.03 1406.6 1534.82 M1402.34 1533.57 Q1402.29 1530.07 1400.37 1527.99 Q1398.47 1525.91 1395.32 1525.91 Q1391.76 1525.91 1389.61 1527.92 Q1387.48 1529.94 1387.15 1533.59 L1402.34 1533.57 Z\" fill=\"#000000\" fill-rule=\"evenodd\" fill-opacity=\"1\" /><path clip-path=\"url(#clip150)\" d=\"M1428.61 1526.9 Q1427.89 1526.49 1427.04 1526.3 Q1426.2 1526.09 1425.19 1526.09 Q1421.57 1526.09 1419.63 1528.45 Q1417.71 1530.79 1417.71 1535.19 L1417.71 1548.85 L1413.43 1548.85 L1413.43 1522.92 L1417.71 1522.92 L1417.71 1526.95 Q1419.05 1524.59 1421.2 1523.45 Q1423.36 1522.3 1426.44 1522.3 Q1426.88 1522.3 1427.41 1522.37 Q1427.94 1522.41 1428.59 1522.53 L1428.61 1526.9 Z\" fill=\"#000000\" fill-rule=\"evenodd\" fill-opacity=\"1\" /><path clip-path=\"url(#clip150)\" d=\"M1636.19 1515.42 L1636.19 1519.98 Q1633.53 1518.71 1631.17 1518.08 Q1628.81 1517.46 1626.61 1517.46 Q1622.79 1517.46 1620.71 1518.94 Q1618.65 1520.42 1618.65 1523.15 Q1618.65 1525.45 1620.01 1526.63 Q1621.4 1527.78 1625.24 1528.5 L1628.07 1529.08 Q1633.3 1530.07 1635.78 1532.6 Q1638.28 1535.1 1638.28 1539.31 Q1638.28 1544.33 1634.9 1546.93 Q1631.54 1549.52 1625.04 1549.52 Q1622.58 1549.52 1619.8 1548.96 Q1617.05 1548.41 1614.09 1547.32 L1614.09 1542.51 Q1616.93 1544.1 1619.66 1544.91 Q1622.4 1545.72 1625.04 1545.72 Q1629.04 1545.72 1631.22 1544.15 Q1633.39 1542.57 1633.39 1539.66 Q1633.39 1537.11 1631.82 1535.68 Q1630.27 1534.24 1626.7 1533.52 L1623.85 1532.97 Q1618.62 1531.93 1616.29 1529.7 Q1613.95 1527.48 1613.95 1523.52 Q1613.95 1518.94 1617.16 1516.3 Q1620.41 1513.66 1626.08 1513.66 Q1628.51 1513.66 1631.03 1514.1 Q1633.55 1514.54 1636.19 1515.42 Z\" fill=\"#000000\" fill-rule=\"evenodd\" fill-opacity=\"1\" /><path clip-path=\"url(#clip150)\" d=\"M1667.56 1534.82 L1667.56 1536.9 L1647.97 1536.9 Q1648.25 1541.3 1650.61 1543.62 Q1653 1545.91 1657.23 1545.91 Q1659.69 1545.91 1661.98 1545.31 Q1664.29 1544.7 1666.56 1543.5 L1666.56 1547.53 Q1664.27 1548.5 1661.86 1549.01 Q1659.46 1549.52 1656.98 1549.52 Q1650.78 1549.52 1647.14 1545.91 Q1643.53 1542.3 1643.53 1536.14 Q1643.53 1529.77 1646.96 1526.05 Q1650.41 1522.3 1656.24 1522.3 Q1661.47 1522.3 1664.5 1525.68 Q1667.56 1529.03 1667.56 1534.82 M1663.3 1533.57 Q1663.25 1530.07 1661.33 1527.99 Q1659.43 1525.91 1656.28 1525.91 Q1652.72 1525.91 1650.57 1527.92 Q1648.44 1529.94 1648.11 1533.59 L1663.3 1533.57 Z\" fill=\"#000000\" fill-rule=\"evenodd\" fill-opacity=\"1\" /><path clip-path=\"url(#clip150)\" d=\"M1693.21 1523.92 L1693.21 1527.9 Q1691.4 1526.9 1689.57 1526.42 Q1687.77 1525.91 1685.91 1525.91 Q1681.77 1525.91 1679.48 1528.55 Q1677.19 1531.16 1677.19 1535.91 Q1677.19 1540.65 1679.48 1543.29 Q1681.77 1545.91 1685.91 1545.91 Q1687.77 1545.91 1689.57 1545.42 Q1691.4 1544.91 1693.21 1543.92 L1693.21 1547.85 Q1691.42 1548.69 1689.5 1549.1 Q1687.6 1549.52 1685.45 1549.52 Q1679.59 1549.52 1676.15 1545.84 Q1672.7 1542.16 1672.7 1535.91 Q1672.7 1529.57 1676.17 1525.93 Q1679.66 1522.3 1685.73 1522.3 Q1687.7 1522.3 1689.57 1522.71 Q1691.45 1523.11 1693.21 1523.92 Z\" fill=\"#000000\" fill-rule=\"evenodd\" fill-opacity=\"1\" /><path clip-path=\"url(#clip150)\" d=\"M1700.17 1538.62 L1700.17 1522.92 L1704.43 1522.92 L1704.43 1538.45 Q1704.43 1542.13 1705.87 1543.99 Q1707.3 1545.82 1710.17 1545.82 Q1713.62 1545.82 1715.61 1543.62 Q1717.63 1541.42 1717.63 1537.62 L1717.63 1522.92 L1721.89 1522.92 L1721.89 1548.85 L1717.63 1548.85 L1717.63 1544.87 Q1716.08 1547.23 1714.02 1548.38 Q1711.98 1549.52 1709.27 1549.52 Q1704.8 1549.52 1702.49 1546.74 Q1700.17 1543.96 1700.17 1538.62 M1710.89 1522.3 L1710.89 1522.3 Z\" fill=\"#000000\" fill-rule=\"evenodd\" fill-opacity=\"1\" /><path clip-path=\"url(#clip150)\" d=\"M1745.68 1526.9 Q1744.96 1526.49 1744.11 1526.3 Q1743.28 1526.09 1742.26 1526.09 Q1738.65 1526.09 1736.7 1528.45 Q1734.78 1530.79 1734.78 1535.19 L1734.78 1548.85 L1730.5 1548.85 L1730.5 1522.92 L1734.78 1522.92 L1734.78 1526.95 Q1736.12 1524.59 1738.28 1523.45 Q1740.43 1522.3 1743.51 1522.3 Q1743.95 1522.3 1744.48 1522.37 Q1745.01 1522.41 1745.66 1522.53 L1745.68 1526.9 Z\" fill=\"#000000\" fill-rule=\"evenodd\" fill-opacity=\"1\" /><path clip-path=\"url(#clip150)\" d=\"M1750.15 1522.92 L1754.41 1522.92 L1754.41 1548.85 L1750.15 1548.85 L1750.15 1522.92 M1750.15 1512.83 L1754.41 1512.83 L1754.41 1518.22 L1750.15 1518.22 L1750.15 1512.83 Z\" fill=\"#000000\" fill-rule=\"evenodd\" fill-opacity=\"1\" /><path clip-path=\"url(#clip150)\" d=\"M1767.53 1515.56 L1767.53 1522.92 L1776.31 1522.92 L1776.31 1526.23 L1767.53 1526.23 L1767.53 1540.31 Q1767.53 1543.48 1768.39 1544.38 Q1769.27 1545.28 1771.93 1545.28 L1776.31 1545.28 L1776.31 1548.85 L1771.93 1548.85 Q1767 1548.85 1765.13 1547.02 Q1763.25 1545.17 1763.25 1540.31 L1763.25 1526.23 L1760.13 1526.23 L1760.13 1522.92 L1763.25 1522.92 L1763.25 1515.56 L1767.53 1515.56 Z\" fill=\"#000000\" fill-rule=\"evenodd\" fill-opacity=\"1\" /><path clip-path=\"url(#clip150)\" d=\"M1792.7 1551.26 Q1790.89 1555.88 1789.18 1557.3 Q1787.46 1558.71 1784.59 1558.71 L1781.19 1558.71 L1781.19 1555.14 L1783.69 1555.14 Q1785.45 1555.14 1786.42 1554.31 Q1787.4 1553.48 1788.58 1550.38 L1789.34 1548.43 L1778.85 1522.92 L1783.37 1522.92 L1791.47 1543.2 L1799.57 1522.92 L1804.08 1522.92 L1792.7 1551.26 Z\" fill=\"#000000\" fill-rule=\"evenodd\" fill-opacity=\"1\" /><path clip-path=\"url(#clip150)\" d=\"M1996.26 1514.29 L2000.94 1514.29 L2000.94 1548.85 L1996.26 1548.85 L1996.26 1514.29 Z\" fill=\"#000000\" fill-rule=\"evenodd\" fill-opacity=\"1\" /><path clip-path=\"url(#clip150)\" d=\"M2031.61 1533.2 L2031.61 1548.85 L2027.35 1548.85 L2027.35 1533.34 Q2027.35 1529.66 2025.91 1527.83 Q2024.48 1526 2021.61 1526 Q2018.16 1526 2016.17 1528.2 Q2014.18 1530.4 2014.18 1534.2 L2014.18 1548.85 L2009.9 1548.85 L2009.9 1522.92 L2014.18 1522.92 L2014.18 1526.95 Q2015.71 1524.61 2017.77 1523.45 Q2019.85 1522.3 2022.56 1522.3 Q2027.02 1522.3 2029.32 1525.07 Q2031.61 1527.83 2031.61 1533.2 Z\" fill=\"#000000\" fill-rule=\"evenodd\" fill-opacity=\"1\" /><path clip-path=\"url(#clip150)\" d=\"M2058.71 1535.91 Q2058.71 1531.21 2056.77 1528.55 Q2054.85 1525.86 2051.47 1525.86 Q2048.09 1525.86 2046.15 1528.55 Q2044.22 1531.21 2044.22 1535.91 Q2044.22 1540.61 2046.15 1543.29 Q2048.09 1545.95 2051.47 1545.95 Q2054.85 1545.95 2056.77 1543.29 Q2058.71 1540.61 2058.71 1535.91 M2044.22 1526.86 Q2045.57 1524.54 2047.6 1523.43 Q2049.66 1522.3 2052.51 1522.3 Q2057.23 1522.3 2060.17 1526.05 Q2063.14 1529.8 2063.14 1535.91 Q2063.14 1542.02 2060.17 1545.77 Q2057.23 1549.52 2052.51 1549.52 Q2049.66 1549.52 2047.6 1548.41 Q2045.57 1547.27 2044.22 1544.96 L2044.22 1548.85 L2039.94 1548.85 L2039.94 1512.83 L2044.22 1512.83 L2044.22 1526.86 Z\" fill=\"#000000\" fill-rule=\"evenodd\" fill-opacity=\"1\" /><path clip-path=\"url(#clip150)\" d=\"M2080.24 1525.91 Q2076.82 1525.91 2074.83 1528.59 Q2072.83 1531.26 2072.83 1535.91 Q2072.83 1540.56 2074.8 1543.25 Q2076.79 1545.91 2080.24 1545.91 Q2083.64 1545.91 2085.64 1543.22 Q2087.63 1540.54 2087.63 1535.91 Q2087.63 1531.3 2085.64 1528.62 Q2083.64 1525.91 2080.24 1525.91 M2080.24 1522.3 Q2085.8 1522.3 2088.97 1525.91 Q2092.14 1529.52 2092.14 1535.91 Q2092.14 1542.27 2088.97 1545.91 Q2085.8 1549.52 2080.24 1549.52 Q2074.66 1549.52 2071.49 1545.91 Q2068.34 1542.27 2068.34 1535.91 Q2068.34 1529.52 2071.49 1525.91 Q2074.66 1522.3 2080.24 1522.3 Z\" fill=\"#000000\" fill-rule=\"evenodd\" fill-opacity=\"1\" /><path clip-path=\"url(#clip150)\" d=\"M2098.76 1538.62 L2098.76 1522.92 L2103.02 1522.92 L2103.02 1538.45 Q2103.02 1542.13 2104.45 1543.99 Q2105.89 1545.82 2108.76 1545.82 Q2112.21 1545.82 2114.2 1543.62 Q2116.21 1541.42 2116.21 1537.62 L2116.21 1522.92 L2120.47 1522.92 L2120.47 1548.85 L2116.21 1548.85 L2116.21 1544.87 Q2114.66 1547.23 2112.6 1548.38 Q2110.57 1549.52 2107.86 1549.52 Q2103.39 1549.52 2101.08 1546.74 Q2098.76 1543.96 2098.76 1538.62 M2109.48 1522.3 L2109.48 1522.3 Z\" fill=\"#000000\" fill-rule=\"evenodd\" fill-opacity=\"1\" /><path clip-path=\"url(#clip150)\" d=\"M2150.8 1533.2 L2150.8 1548.85 L2146.54 1548.85 L2146.54 1533.34 Q2146.54 1529.66 2145.1 1527.83 Q2143.67 1526 2140.8 1526 Q2137.35 1526 2135.36 1528.2 Q2133.37 1530.4 2133.37 1534.2 L2133.37 1548.85 L2129.08 1548.85 L2129.08 1522.92 L2133.37 1522.92 L2133.37 1526.95 Q2134.89 1524.61 2136.95 1523.45 Q2139.04 1522.3 2141.75 1522.3 Q2146.21 1522.3 2148.51 1525.07 Q2150.8 1527.83 2150.8 1533.2 Z\" fill=\"#000000\" fill-rule=\"evenodd\" fill-opacity=\"1\" /><path clip-path=\"url(#clip150)\" d=\"M2176.35 1526.86 L2176.35 1512.83 L2180.61 1512.83 L2180.61 1548.85 L2176.35 1548.85 L2176.35 1544.96 Q2175.01 1547.27 2172.95 1548.41 Q2170.91 1549.52 2168.04 1549.52 Q2163.34 1549.52 2160.38 1545.77 Q2157.44 1542.02 2157.44 1535.91 Q2157.44 1529.8 2160.38 1526.05 Q2163.34 1522.3 2168.04 1522.3 Q2170.91 1522.3 2172.95 1523.43 Q2175.01 1524.54 2176.35 1526.86 M2161.84 1535.91 Q2161.84 1540.61 2163.76 1543.29 Q2165.7 1545.95 2169.08 1545.95 Q2172.46 1545.95 2174.41 1543.29 Q2176.35 1540.61 2176.35 1535.91 Q2176.35 1531.21 2174.41 1528.55 Q2172.46 1525.86 2169.08 1525.86 Q2165.7 1525.86 2163.76 1528.55 Q2161.84 1531.21 2161.84 1535.91 Z\" fill=\"#000000\" fill-rule=\"evenodd\" fill-opacity=\"1\" /><polyline clip-path=\"url(#clip152)\" style=\"stroke:#000000; stroke-linecap:butt; stroke-linejoin:round; stroke-width:2; stroke-opacity:0.1; fill:none\" points=\"\n  306.435,1445.72 2352.76,1445.72 \n  \"/>\n<polyline clip-path=\"url(#clip152)\" style=\"stroke:#000000; stroke-linecap:butt; stroke-linejoin:round; stroke-width:2; stroke-opacity:0.1; fill:none\" points=\"\n  306.435,1159.1 2352.76,1159.1 \n  \"/>\n<polyline clip-path=\"url(#clip152)\" style=\"stroke:#000000; stroke-linecap:butt; stroke-linejoin:round; stroke-width:2; stroke-opacity:0.1; fill:none\" points=\"\n  306.435,872.481 2352.76,872.481 \n  \"/>\n<polyline clip-path=\"url(#clip152)\" style=\"stroke:#000000; stroke-linecap:butt; stroke-linejoin:round; stroke-width:2; stroke-opacity:0.1; fill:none\" points=\"\n  306.435,585.863 2352.76,585.863 \n  \"/>\n<polyline clip-path=\"url(#clip152)\" style=\"stroke:#000000; stroke-linecap:butt; stroke-linejoin:round; stroke-width:2; stroke-opacity:0.1; fill:none\" points=\"\n  306.435,299.246 2352.76,299.246 \n  \"/>\n<polyline clip-path=\"url(#clip150)\" style=\"stroke:#000000; stroke-linecap:butt; stroke-linejoin:round; stroke-width:4; stroke-opacity:1; fill:none\" points=\"\n  306.435,1486.45 306.435,47.2441 \n  \"/>\n<polyline clip-path=\"url(#clip150)\" style=\"stroke:#000000; stroke-linecap:butt; stroke-linejoin:round; stroke-width:4; stroke-opacity:1; fill:none\" points=\"\n  306.435,1445.72 325.333,1445.72 \n  \"/>\n<polyline clip-path=\"url(#clip150)\" style=\"stroke:#000000; stroke-linecap:butt; stroke-linejoin:round; stroke-width:4; stroke-opacity:1; fill:none\" points=\"\n  306.435,1159.1 325.333,1159.1 \n  \"/>\n<polyline clip-path=\"url(#clip150)\" style=\"stroke:#000000; stroke-linecap:butt; stroke-linejoin:round; stroke-width:4; stroke-opacity:1; fill:none\" points=\"\n  306.435,872.481 325.333,872.481 \n  \"/>\n<polyline clip-path=\"url(#clip150)\" style=\"stroke:#000000; stroke-linecap:butt; stroke-linejoin:round; stroke-width:4; stroke-opacity:1; fill:none\" points=\"\n  306.435,585.863 325.333,585.863 \n  \"/>\n<polyline clip-path=\"url(#clip150)\" style=\"stroke:#000000; stroke-linecap:butt; stroke-linejoin:round; stroke-width:4; stroke-opacity:1; fill:none\" points=\"\n  306.435,299.246 325.333,299.246 \n  \"/>\n<path clip-path=\"url(#clip150)\" d=\"M258.491 1431.51 Q254.88 1431.51 253.051 1435.08 Q251.246 1438.62 251.246 1445.75 Q251.246 1452.86 253.051 1456.42 Q254.88 1459.96 258.491 1459.96 Q262.125 1459.96 263.931 1456.42 Q265.759 1452.86 265.759 1445.75 Q265.759 1438.62 263.931 1435.08 Q262.125 1431.51 258.491 1431.51 M258.491 1427.81 Q264.301 1427.81 267.357 1432.42 Q270.435 1437 270.435 1445.75 Q270.435 1454.48 267.357 1459.08 Q264.301 1463.67 258.491 1463.67 Q252.681 1463.67 249.602 1459.08 Q246.547 1454.48 246.547 1445.75 Q246.547 1437 249.602 1432.42 Q252.681 1427.81 258.491 1427.81 Z\" fill=\"#000000\" fill-rule=\"evenodd\" fill-opacity=\"1\" /><path clip-path=\"url(#clip150)\" d=\"M56.6171 1178.89 L72.9365 1178.89 L72.9365 1182.83 L50.9921 1182.83 L50.9921 1178.89 Q53.6541 1176.14 58.2375 1171.51 Q62.8439 1166.85 64.0245 1165.51 Q66.2698 1162.99 67.1494 1161.25 Q68.0522 1159.49 68.0522 1157.8 Q68.0522 1155.05 66.1078 1153.31 Q64.1865 1151.58 61.0847 1151.58 Q58.8856 1151.58 56.4319 1152.34 Q54.0014 1153.1 51.2236 1154.65 L51.2236 1149.93 Q54.0477 1148.8 56.5014 1148.22 Q58.955 1147.64 60.9921 1147.64 Q66.3624 1147.64 69.5568 1150.33 Q72.7513 1153.01 72.7513 1157.5 Q72.7513 1159.63 71.9411 1161.55 Q71.1541 1163.45 69.0476 1166.04 Q68.4689 1166.71 65.367 1169.93 Q62.2652 1173.13 56.6171 1178.89 Z\" fill=\"#000000\" fill-rule=\"evenodd\" fill-opacity=\"1\" /><path clip-path=\"url(#clip150)\" d=\"M82.7512 1176.95 L87.6354 1176.95 L87.6354 1182.83 L82.7512 1182.83 L82.7512 1176.95 Z\" fill=\"#000000\" fill-rule=\"evenodd\" fill-opacity=\"1\" /><path clip-path=\"url(#clip150)\" d=\"M97.8669 1148.27 L116.223 1148.27 L116.223 1152.2 L102.149 1152.2 L102.149 1160.67 Q103.168 1160.33 104.186 1160.16 Q105.205 1159.98 106.223 1159.98 Q112.01 1159.98 115.39 1163.15 Q118.77 1166.32 118.77 1171.74 Q118.77 1177.32 115.297 1180.42 Q111.825 1183.5 105.506 1183.5 Q103.33 1183.5 101.061 1183.13 Q98.8159 1182.76 96.4085 1182.02 L96.4085 1177.32 Q98.4919 1178.45 100.714 1179.01 Q102.936 1179.56 105.413 1179.56 Q109.418 1179.56 111.756 1177.46 Q114.094 1175.35 114.094 1171.74 Q114.094 1168.13 111.756 1166.02 Q109.418 1163.91 105.413 1163.91 Q103.538 1163.91 101.663 1164.33 Q99.8113 1164.75 97.8669 1165.63 L97.8669 1148.27 Z\" fill=\"#000000\" fill-rule=\"evenodd\" fill-opacity=\"1\" /><path clip-path=\"url(#clip150)\" d=\"M137.982 1151.34 Q134.371 1151.34 132.543 1154.91 Q130.737 1158.45 130.737 1165.58 Q130.737 1172.69 132.543 1176.25 Q134.371 1179.79 137.982 1179.79 Q141.617 1179.79 143.422 1176.25 Q145.251 1172.69 145.251 1165.58 Q145.251 1158.45 143.422 1154.91 Q141.617 1151.34 137.982 1151.34 M137.982 1147.64 Q143.793 1147.64 146.848 1152.25 Q149.927 1156.83 149.927 1165.58 Q149.927 1174.31 146.848 1178.91 Q143.793 1183.5 137.982 1183.5 Q132.172 1183.5 129.094 1178.91 Q126.038 1174.31 126.038 1165.58 Q126.038 1156.83 129.094 1152.25 Q132.172 1147.64 137.982 1147.64 Z\" fill=\"#000000\" fill-rule=\"evenodd\" fill-opacity=\"1\" /><path clip-path=\"url(#clip150)\" d=\"M186.315 1157.36 L175.737 1167.99 L186.315 1178.57 L183.561 1181.37 L172.936 1170.74 L162.311 1181.37 L159.58 1178.57 L170.135 1167.99 L159.58 1157.36 L162.311 1154.56 L172.936 1165.19 L183.561 1154.56 L186.315 1157.36 Z\" fill=\"#000000\" fill-rule=\"evenodd\" fill-opacity=\"1\" /><path clip-path=\"url(#clip150)\" d=\"M198.677 1178.89 L206.315 1178.89 L206.315 1152.53 L198.005 1154.19 L198.005 1149.93 L206.269 1148.27 L210.945 1148.27 L210.945 1178.89 L218.584 1178.89 L218.584 1182.83 L198.677 1182.83 L198.677 1178.89 Z\" fill=\"#000000\" fill-rule=\"evenodd\" fill-opacity=\"1\" /><path clip-path=\"url(#clip150)\" d=\"M238.028 1151.34 Q234.417 1151.34 232.588 1154.91 Q230.783 1158.45 230.783 1165.58 Q230.783 1172.69 232.588 1176.25 Q234.417 1179.79 238.028 1179.79 Q241.662 1179.79 243.468 1176.25 Q245.297 1172.69 245.297 1165.58 Q245.297 1158.45 243.468 1154.91 Q241.662 1151.34 238.028 1151.34 M238.028 1147.64 Q243.838 1147.64 246.894 1152.25 Q249.973 1156.83 249.973 1165.58 Q249.973 1174.31 246.894 1178.91 Q243.838 1183.5 238.028 1183.5 Q232.218 1183.5 229.139 1178.91 Q226.084 1174.31 226.084 1165.58 Q226.084 1156.83 229.139 1152.25 Q232.218 1147.64 238.028 1147.64 Z\" fill=\"#000000\" fill-rule=\"evenodd\" fill-opacity=\"1\" /><path clip-path=\"url(#clip150)\" d=\"M262.649 1130.65 L253.057 1145.64 L262.649 1145.64 L262.649 1130.65 M261.652 1127.34 L266.429 1127.34 L266.429 1145.64 L270.435 1145.64 L270.435 1148.8 L266.429 1148.8 L266.429 1155.42 L262.649 1155.42 L262.649 1148.8 L249.973 1148.8 L249.973 1145.13 L261.652 1127.34 Z\" fill=\"#000000\" fill-rule=\"evenodd\" fill-opacity=\"1\" /><path clip-path=\"url(#clip150)\" d=\"M52.6356 861.648 L70.992 861.648 L70.992 865.583 L56.918 865.583 L56.918 874.056 Q57.9365 873.708 58.955 873.546 Q59.9736 873.361 60.9921 873.361 Q66.7791 873.361 70.1587 876.532 Q73.5383 879.704 73.5383 885.12 Q73.5383 890.699 70.0661 893.801 Q66.5939 896.88 60.2745 896.88 Q58.0986 896.88 55.8301 896.509 Q53.5847 896.139 51.1773 895.398 L51.1773 890.699 Q53.2606 891.833 55.4828 892.389 Q57.7051 892.944 60.1819 892.944 Q64.1865 892.944 66.5245 890.838 Q68.8624 888.731 68.8624 885.12 Q68.8624 881.509 66.5245 879.403 Q64.1865 877.296 60.1819 877.296 Q58.3069 877.296 56.4319 877.713 Q54.5801 878.13 52.6356 879.009 L52.6356 861.648 Z\" fill=\"#000000\" fill-rule=\"evenodd\" fill-opacity=\"1\" /><path clip-path=\"url(#clip150)\" d=\"M82.7512 890.329 L87.6354 890.329 L87.6354 896.208 L82.7512 896.208 L82.7512 890.329 Z\" fill=\"#000000\" fill-rule=\"evenodd\" fill-opacity=\"1\" /><path clip-path=\"url(#clip150)\" d=\"M107.821 864.727 Q104.209 864.727 102.381 868.292 Q100.575 871.833 100.575 878.963 Q100.575 886.069 102.381 889.634 Q104.209 893.176 107.821 893.176 Q111.455 893.176 113.26 889.634 Q115.089 886.069 115.089 878.963 Q115.089 871.833 113.26 868.292 Q111.455 864.727 107.821 864.727 M107.821 861.023 Q113.631 861.023 116.686 865.63 Q119.765 870.213 119.765 878.963 Q119.765 887.69 116.686 892.296 Q113.631 896.88 107.821 896.88 Q102.01 896.88 98.9317 892.296 Q95.8761 887.69 95.8761 878.963 Q95.8761 870.213 98.9317 865.63 Q102.01 861.023 107.821 861.023 Z\" fill=\"#000000\" fill-rule=\"evenodd\" fill-opacity=\"1\" /><path clip-path=\"url(#clip150)\" d=\"M137.982 864.727 Q134.371 864.727 132.543 868.292 Q130.737 871.833 130.737 878.963 Q130.737 886.069 132.543 889.634 Q134.371 893.176 137.982 893.176 Q141.617 893.176 143.422 889.634 Q145.251 886.069 145.251 878.963 Q145.251 871.833 143.422 868.292 Q141.617 864.727 137.982 864.727 M137.982 861.023 Q143.793 861.023 146.848 865.63 Q149.927 870.213 149.927 878.963 Q149.927 887.69 146.848 892.296 Q143.793 896.88 137.982 896.88 Q132.172 896.88 129.094 892.296 Q126.038 887.69 126.038 878.963 Q126.038 870.213 129.094 865.63 Q132.172 861.023 137.982 861.023 Z\" fill=\"#000000\" fill-rule=\"evenodd\" fill-opacity=\"1\" /><path clip-path=\"url(#clip150)\" d=\"M186.315 870.745 L175.737 881.37 L186.315 891.949 L183.561 894.75 L172.936 884.125 L162.311 894.75 L159.58 891.949 L170.135 881.37 L159.58 870.745 L162.311 867.945 L172.936 878.57 L183.561 867.945 L186.315 870.745 Z\" fill=\"#000000\" fill-rule=\"evenodd\" fill-opacity=\"1\" /><path clip-path=\"url(#clip150)\" d=\"M198.677 892.273 L206.315 892.273 L206.315 865.908 L198.005 867.574 L198.005 863.315 L206.269 861.648 L210.945 861.648 L210.945 892.273 L218.584 892.273 L218.584 896.208 L198.677 896.208 L198.677 892.273 Z\" fill=\"#000000\" fill-rule=\"evenodd\" fill-opacity=\"1\" /><path clip-path=\"url(#clip150)\" d=\"M238.028 864.727 Q234.417 864.727 232.588 868.292 Q230.783 871.833 230.783 878.963 Q230.783 886.069 232.588 889.634 Q234.417 893.176 238.028 893.176 Q241.662 893.176 243.468 889.634 Q245.297 886.069 245.297 878.963 Q245.297 871.833 243.468 868.292 Q241.662 864.727 238.028 864.727 M238.028 861.023 Q243.838 861.023 246.894 865.63 Q249.973 870.213 249.973 878.963 Q249.973 887.69 246.894 892.296 Q243.838 896.88 238.028 896.88 Q232.218 896.88 229.139 892.296 Q226.084 887.69 226.084 878.963 Q226.084 870.213 229.139 865.63 Q232.218 861.023 238.028 861.023 Z\" fill=\"#000000\" fill-rule=\"evenodd\" fill-opacity=\"1\" /><path clip-path=\"url(#clip150)\" d=\"M262.649 844.028 L253.057 859.018 L262.649 859.018 L262.649 844.028 M261.652 840.718 L266.429 840.718 L266.429 859.018 L270.435 859.018 L270.435 862.178 L266.429 862.178 L266.429 868.798 L262.649 868.798 L262.649 862.178 L249.973 862.178 L249.973 858.51 L261.652 840.718 Z\" fill=\"#000000\" fill-rule=\"evenodd\" fill-opacity=\"1\" /><path clip-path=\"url(#clip150)\" d=\"M51.4088 575.031 L73.6309 575.031 L73.6309 577.022 L61.0847 609.591 L56.2004 609.591 L68.0059 578.966 L51.4088 578.966 L51.4088 575.031 Z\" fill=\"#000000\" fill-rule=\"evenodd\" fill-opacity=\"1\" /><path clip-path=\"url(#clip150)\" d=\"M82.7512 603.711 L87.6354 603.711 L87.6354 609.591 L82.7512 609.591 L82.7512 603.711 Z\" fill=\"#000000\" fill-rule=\"evenodd\" fill-opacity=\"1\" /><path clip-path=\"url(#clip150)\" d=\"M97.8669 575.031 L116.223 575.031 L116.223 578.966 L102.149 578.966 L102.149 587.438 Q103.168 587.091 104.186 586.929 Q105.205 586.744 106.223 586.744 Q112.01 586.744 115.39 589.915 Q118.77 593.086 118.77 598.503 Q118.77 604.082 115.297 607.183 Q111.825 610.262 105.506 610.262 Q103.33 610.262 101.061 609.892 Q98.8159 609.521 96.4085 608.781 L96.4085 604.082 Q98.4919 605.216 100.714 605.771 Q102.936 606.327 105.413 606.327 Q109.418 606.327 111.756 604.22 Q114.094 602.114 114.094 598.503 Q114.094 594.892 111.756 592.785 Q109.418 590.679 105.413 590.679 Q103.538 590.679 101.663 591.096 Q99.8113 591.512 97.8669 592.392 L97.8669 575.031 Z\" fill=\"#000000\" fill-rule=\"evenodd\" fill-opacity=\"1\" /><path clip-path=\"url(#clip150)\" d=\"M137.982 578.109 Q134.371 578.109 132.543 581.674 Q130.737 585.216 130.737 592.346 Q130.737 599.452 132.543 603.017 Q134.371 606.558 137.982 606.558 Q141.617 606.558 143.422 603.017 Q145.251 599.452 145.251 592.346 Q145.251 585.216 143.422 581.674 Q141.617 578.109 137.982 578.109 M137.982 574.406 Q143.793 574.406 146.848 579.012 Q149.927 583.596 149.927 592.346 Q149.927 601.072 146.848 605.679 Q143.793 610.262 137.982 610.262 Q132.172 610.262 129.094 605.679 Q126.038 601.072 126.038 592.346 Q126.038 583.596 129.094 579.012 Q132.172 574.406 137.982 574.406 Z\" fill=\"#000000\" fill-rule=\"evenodd\" fill-opacity=\"1\" /><path clip-path=\"url(#clip150)\" d=\"M186.315 584.128 L175.737 594.753 L186.315 605.332 L183.561 608.132 L172.936 597.508 L162.311 608.132 L159.58 605.332 L170.135 594.753 L159.58 584.128 L162.311 581.327 L172.936 591.952 L183.561 581.327 L186.315 584.128 Z\" fill=\"#000000\" fill-rule=\"evenodd\" fill-opacity=\"1\" /><path clip-path=\"url(#clip150)\" d=\"M198.677 605.656 L206.315 605.656 L206.315 579.29 L198.005 580.957 L198.005 576.697 L206.269 575.031 L210.945 575.031 L210.945 605.656 L218.584 605.656 L218.584 609.591 L198.677 609.591 L198.677 605.656 Z\" fill=\"#000000\" fill-rule=\"evenodd\" fill-opacity=\"1\" /><path clip-path=\"url(#clip150)\" d=\"M238.028 578.109 Q234.417 578.109 232.588 581.674 Q230.783 585.216 230.783 592.346 Q230.783 599.452 232.588 603.017 Q234.417 606.558 238.028 606.558 Q241.662 606.558 243.468 603.017 Q245.297 599.452 245.297 592.346 Q245.297 585.216 243.468 581.674 Q241.662 578.109 238.028 578.109 M238.028 574.406 Q243.838 574.406 246.894 579.012 Q249.973 583.596 249.973 592.346 Q249.973 601.072 246.894 605.679 Q243.838 610.262 238.028 610.262 Q232.218 610.262 229.139 605.679 Q226.084 601.072 226.084 592.346 Q226.084 583.596 229.139 579.012 Q232.218 574.406 238.028 574.406 Z\" fill=\"#000000\" fill-rule=\"evenodd\" fill-opacity=\"1\" /><path clip-path=\"url(#clip150)\" d=\"M262.649 557.411 L253.057 572.4 L262.649 572.4 L262.649 557.411 M261.652 554.1 L266.429 554.1 L266.429 572.4 L270.435 572.4 L270.435 575.56 L266.429 575.56 L266.429 582.18 L262.649 582.18 L262.649 575.56 L249.973 575.56 L249.973 571.893 L261.652 554.1 Z\" fill=\"#000000\" fill-rule=\"evenodd\" fill-opacity=\"1\" /><path clip-path=\"url(#clip150)\" d=\"M55.6941 319.038 L63.3329 319.038 L63.3329 292.673 L55.0228 294.339 L55.0228 290.08 L63.2866 288.413 L67.9625 288.413 L67.9625 319.038 L75.6014 319.038 L75.6014 322.973 L55.6941 322.973 L55.6941 319.038 Z\" fill=\"#000000\" fill-rule=\"evenodd\" fill-opacity=\"1\" /><path clip-path=\"url(#clip150)\" d=\"M85.0458 317.094 L89.93 317.094 L89.93 322.973 L85.0458 322.973 L85.0458 317.094 Z\" fill=\"#000000\" fill-rule=\"evenodd\" fill-opacity=\"1\" /><path clip-path=\"url(#clip150)\" d=\"M110.115 291.492 Q106.504 291.492 104.675 295.057 Q102.87 298.598 102.87 305.728 Q102.87 312.834 104.675 316.399 Q106.504 319.941 110.115 319.941 Q113.749 319.941 115.555 316.399 Q117.384 312.834 117.384 305.728 Q117.384 298.598 115.555 295.057 Q113.749 291.492 110.115 291.492 M110.115 287.788 Q115.925 287.788 118.981 292.395 Q122.059 296.978 122.059 305.728 Q122.059 314.455 118.981 319.061 Q115.925 323.645 110.115 323.645 Q104.305 323.645 101.226 319.061 Q98.1707 314.455 98.1707 305.728 Q98.1707 296.978 101.226 292.395 Q104.305 287.788 110.115 287.788 Z\" fill=\"#000000\" fill-rule=\"evenodd\" fill-opacity=\"1\" /><path clip-path=\"url(#clip150)\" d=\"M140.277 291.492 Q136.666 291.492 134.837 295.057 Q133.032 298.598 133.032 305.728 Q133.032 312.834 134.837 316.399 Q136.666 319.941 140.277 319.941 Q143.911 319.941 145.717 316.399 Q147.545 312.834 147.545 305.728 Q147.545 298.598 145.717 295.057 Q143.911 291.492 140.277 291.492 M140.277 287.788 Q146.087 287.788 149.143 292.395 Q152.221 296.978 152.221 305.728 Q152.221 314.455 149.143 319.061 Q146.087 323.645 140.277 323.645 Q134.467 323.645 131.388 319.061 Q128.333 314.455 128.333 305.728 Q128.333 296.978 131.388 292.395 Q134.467 287.788 140.277 287.788 Z\" fill=\"#000000\" fill-rule=\"evenodd\" fill-opacity=\"1\" /><path clip-path=\"url(#clip150)\" d=\"M188.61 297.51 L178.031 308.135 L188.61 318.714 L185.855 321.515 L175.23 310.89 L164.606 321.515 L161.874 318.714 L172.43 308.135 L161.874 297.51 L164.606 294.71 L175.23 305.335 L185.855 294.71 L188.61 297.51 Z\" fill=\"#000000\" fill-rule=\"evenodd\" fill-opacity=\"1\" /><path clip-path=\"url(#clip150)\" d=\"M200.971 319.038 L208.61 319.038 L208.61 292.673 L200.3 294.339 L200.3 290.08 L208.564 288.413 L213.24 288.413 L213.24 319.038 L220.878 319.038 L220.878 322.973 L200.971 322.973 L200.971 319.038 Z\" fill=\"#000000\" fill-rule=\"evenodd\" fill-opacity=\"1\" /><path clip-path=\"url(#clip150)\" d=\"M240.323 291.492 Q236.712 291.492 234.883 295.057 Q233.077 298.598 233.077 305.728 Q233.077 312.834 234.883 316.399 Q236.712 319.941 240.323 319.941 Q243.957 319.941 245.762 316.399 Q247.591 312.834 247.591 305.728 Q247.591 298.598 245.762 295.057 Q243.957 291.492 240.323 291.492 M240.323 287.788 Q246.133 287.788 249.188 292.395 Q252.267 296.978 252.267 305.728 Q252.267 314.455 249.188 319.061 Q246.133 323.645 240.323 323.645 Q234.513 323.645 231.434 319.061 Q228.378 314.455 228.378 305.728 Q228.378 296.978 231.434 292.395 Q234.513 287.788 240.323 287.788 Z\" fill=\"#000000\" fill-rule=\"evenodd\" fill-opacity=\"1\" /><path clip-path=\"url(#clip150)\" d=\"M253.452 267.483 L268.367 267.483 L268.367 270.68 L256.931 270.68 L256.931 277.564 Q257.759 277.282 258.586 277.15 Q259.414 277 260.242 277 Q264.944 277 267.689 279.576 Q270.435 282.153 270.435 286.554 Q270.435 291.087 267.614 293.607 Q264.793 296.108 259.659 296.108 Q257.891 296.108 256.047 295.807 Q254.223 295.506 252.267 294.905 L252.267 291.087 Q253.96 292.008 255.765 292.46 Q257.571 292.911 259.583 292.911 Q262.837 292.911 264.737 291.2 Q266.636 289.488 266.636 286.554 Q266.636 283.62 264.737 281.908 Q262.837 280.197 259.583 280.197 Q258.06 280.197 256.536 280.535 Q255.032 280.874 253.452 281.589 L253.452 267.483 Z\" fill=\"#000000\" fill-rule=\"evenodd\" fill-opacity=\"1\" /><path clip-path=\"url(#clip152)\" d=\"\nM418.987 708.958 L418.987 1445.72 L722.523 1445.72 L722.523 708.958 L418.987 708.958 L418.987 708.958  Z\n  \" fill=\"#009af9\" fill-rule=\"evenodd\" fill-opacity=\"1\"/>\n<polyline clip-path=\"url(#clip152)\" style=\"stroke:#000000; stroke-linecap:butt; stroke-linejoin:round; stroke-width:4; stroke-opacity:1; fill:none\" points=\"\n  418.987,708.958 418.987,1445.72 722.523,1445.72 722.523,708.958 418.987,708.958 \n  \"/>\n<path clip-path=\"url(#clip152)\" d=\"\nM798.407 472.861 L798.407 1445.72 L1101.94 1445.72 L1101.94 472.861 L798.407 472.861 L798.407 472.861  Z\n  \" fill=\"#009af9\" fill-rule=\"evenodd\" fill-opacity=\"1\"/>\n<polyline clip-path=\"url(#clip152)\" style=\"stroke:#000000; stroke-linecap:butt; stroke-linejoin:round; stroke-width:4; stroke-opacity:1; fill:none\" points=\"\n  798.407,472.861 798.407,1445.72 1101.94,1445.72 1101.94,472.861 798.407,472.861 \n  \"/>\n<path clip-path=\"url(#clip152)\" d=\"\nM1177.83 1316.9 L1177.83 1445.72 L1481.36 1445.72 L1481.36 1316.9 L1177.83 1316.9 L1177.83 1316.9  Z\n  \" fill=\"#009af9\" fill-rule=\"evenodd\" fill-opacity=\"1\"/>\n<polyline clip-path=\"url(#clip152)\" style=\"stroke:#000000; stroke-linecap:butt; stroke-linejoin:round; stroke-width:4; stroke-opacity:1; fill:none\" points=\"\n  1177.83,1316.9 1177.83,1445.72 1481.36,1445.72 1481.36,1316.9 1177.83,1316.9 \n  \"/>\n<path clip-path=\"url(#clip152)\" d=\"\nM1557.25 1441.78 L1557.25 1445.72 L1860.78 1445.72 L1860.78 1441.78 L1557.25 1441.78 L1557.25 1441.78  Z\n  \" fill=\"#009af9\" fill-rule=\"evenodd\" fill-opacity=\"1\"/>\n<polyline clip-path=\"url(#clip152)\" style=\"stroke:#000000; stroke-linecap:butt; stroke-linejoin:round; stroke-width:4; stroke-opacity:1; fill:none\" points=\"\n  1557.25,1441.78 1557.25,1445.72 1860.78,1445.72 1860.78,1441.78 1557.25,1441.78 \n  \"/>\n<path clip-path=\"url(#clip152)\" d=\"\nM1936.67 87.9763 L1936.67 1445.72 L2240.2 1445.72 L2240.2 87.9763 L1936.67 87.9763 L1936.67 87.9763  Z\n  \" fill=\"#009af9\" fill-rule=\"evenodd\" fill-opacity=\"1\"/>\n<polyline clip-path=\"url(#clip152)\" style=\"stroke:#000000; stroke-linecap:butt; stroke-linejoin:round; stroke-width:4; stroke-opacity:1; fill:none\" points=\"\n  1936.67,87.9763 1936.67,1445.72 2240.2,1445.72 2240.2,87.9763 1936.67,87.9763 \n  \"/>\n<circle clip-path=\"url(#clip152)\" style=\"fill:#009af9; stroke:none; fill-opacity:0\" cx=\"570.755\" cy=\"708.958\" r=\"2\"/>\n<circle clip-path=\"url(#clip152)\" style=\"fill:#009af9; stroke:none; fill-opacity:0\" cx=\"950.175\" cy=\"472.861\" r=\"2\"/>\n<circle clip-path=\"url(#clip152)\" style=\"fill:#009af9; stroke:none; fill-opacity:0\" cx=\"1329.6\" cy=\"1316.9\" r=\"2\"/>\n<circle clip-path=\"url(#clip152)\" style=\"fill:#009af9; stroke:none; fill-opacity:0\" cx=\"1709.02\" cy=\"1441.78\" r=\"2\"/>\n<circle clip-path=\"url(#clip152)\" style=\"fill:#009af9; stroke:none; fill-opacity:0\" cx=\"2088.44\" cy=\"87.9763\" r=\"2\"/>\n<path clip-path=\"url(#clip150)\" d=\"\nM2004.75 198.898 L2284.55 198.898 L2284.55 95.2176 L2004.75 95.2176  Z\n  \" fill=\"#ffffff\" fill-rule=\"evenodd\" fill-opacity=\"1\"/>\n<polyline clip-path=\"url(#clip150)\" style=\"stroke:#000000; stroke-linecap:butt; stroke-linejoin:round; stroke-width:4; stroke-opacity:1; fill:none\" points=\"\n  2004.75,198.898 2284.55,198.898 2284.55,95.2176 2004.75,95.2176 2004.75,198.898 \n  \"/>\n<path clip-path=\"url(#clip150)\" d=\"\nM2027.48 167.794 L2163.9 167.794 L2163.9 126.322 L2027.48 126.322 L2027.48 167.794  Z\n  \" fill=\"#009af9\" fill-rule=\"evenodd\" fill-opacity=\"1\"/>\n<polyline clip-path=\"url(#clip150)\" style=\"stroke:#000000; stroke-linecap:butt; stroke-linejoin:round; stroke-width:4; stroke-opacity:1; fill:none\" points=\"\n  2027.48,167.794 2163.9,167.794 2163.9,126.322 2027.48,126.322 2027.48,167.794 \n  \"/>\n<path clip-path=\"url(#clip150)\" d=\"M2200.48 166.745 Q2198.68 171.375 2196.97 172.787 Q2195.25 174.199 2192.38 174.199 L2188.98 174.199 L2188.98 170.634 L2191.48 170.634 Q2193.24 170.634 2194.21 169.8 Q2195.18 168.967 2196.36 165.865 L2197.13 163.921 L2186.64 138.412 L2191.16 138.412 L2199.26 158.689 L2207.36 138.412 L2211.87 138.412 L2200.48 166.745 Z\" fill=\"#000000\" fill-rule=\"evenodd\" fill-opacity=\"1\" /><path clip-path=\"url(#clip150)\" d=\"M2219.16 160.402 L2226.8 160.402 L2226.8 134.037 L2218.49 135.703 L2218.49 131.444 L2226.76 129.778 L2231.43 129.778 L2231.43 160.402 L2239.07 160.402 L2239.07 164.338 L2219.16 164.338 L2219.16 160.402 Z\" fill=\"#000000\" fill-rule=\"evenodd\" fill-opacity=\"1\" /></svg>\n",
      "text/html": [
       "<?xml version=\"1.0\" encoding=\"utf-8\"?>\n",
       "<svg xmlns=\"http://www.w3.org/2000/svg\" xmlns:xlink=\"http://www.w3.org/1999/xlink\" width=\"600\" height=\"400\" viewBox=\"0 0 2400 1600\">\n",
       "<defs>\n",
       "  <clipPath id=\"clip200\">\n",
       "    <rect x=\"0\" y=\"0\" width=\"2400\" height=\"1600\"/>\n",
       "  </clipPath>\n",
       "</defs>\n",
       "<path clip-path=\"url(#clip200)\" d=\"\n",
       "M0 1600 L2400 1600 L2400 0 L0 0  Z\n",
       "  \" fill=\"#ffffff\" fill-rule=\"evenodd\" fill-opacity=\"1\"/>\n",
       "<defs>\n",
       "  <clipPath id=\"clip201\">\n",
       "    <rect x=\"480\" y=\"0\" width=\"1681\" height=\"1600\"/>\n",
       "  </clipPath>\n",
       "</defs>\n",
       "<path clip-path=\"url(#clip200)\" d=\"\n",
       "M306.435 1486.45 L2352.76 1486.45 L2352.76 47.2441 L306.435 47.2441  Z\n",
       "  \" fill=\"#ffffff\" fill-rule=\"evenodd\" fill-opacity=\"1\"/>\n",
       "<defs>\n",
       "  <clipPath id=\"clip202\">\n",
       "    <rect x=\"306\" y=\"47\" width=\"2047\" height=\"1440\"/>\n",
       "  </clipPath>\n",
       "</defs>\n",
       "<polyline clip-path=\"url(#clip202)\" style=\"stroke:#000000; stroke-linecap:butt; stroke-linejoin:round; stroke-width:2; stroke-opacity:0.1; fill:none\" points=\"\n",
       "  570.755,1486.45 570.755,47.2441 \n",
       "  \"/>\n",
       "<polyline clip-path=\"url(#clip202)\" style=\"stroke:#000000; stroke-linecap:butt; stroke-linejoin:round; stroke-width:2; stroke-opacity:0.1; fill:none\" points=\"\n",
       "  950.175,1486.45 950.175,47.2441 \n",
       "  \"/>\n",
       "<polyline clip-path=\"url(#clip202)\" style=\"stroke:#000000; stroke-linecap:butt; stroke-linejoin:round; stroke-width:2; stroke-opacity:0.1; fill:none\" points=\"\n",
       "  1329.6,1486.45 1329.6,47.2441 \n",
       "  \"/>\n",
       "<polyline clip-path=\"url(#clip202)\" style=\"stroke:#000000; stroke-linecap:butt; stroke-linejoin:round; stroke-width:2; stroke-opacity:0.1; fill:none\" points=\"\n",
       "  1709.02,1486.45 1709.02,47.2441 \n",
       "  \"/>\n",
       "<polyline clip-path=\"url(#clip202)\" style=\"stroke:#000000; stroke-linecap:butt; stroke-linejoin:round; stroke-width:2; stroke-opacity:0.1; fill:none\" points=\"\n",
       "  2088.44,1486.45 2088.44,47.2441 \n",
       "  \"/>\n",
       "<polyline clip-path=\"url(#clip200)\" style=\"stroke:#000000; stroke-linecap:butt; stroke-linejoin:round; stroke-width:4; stroke-opacity:1; fill:none\" points=\"\n",
       "  306.435,1486.45 2352.76,1486.45 \n",
       "  \"/>\n",
       "<polyline clip-path=\"url(#clip200)\" style=\"stroke:#000000; stroke-linecap:butt; stroke-linejoin:round; stroke-width:4; stroke-opacity:1; fill:none\" points=\"\n",
       "  570.755,1486.45 570.755,1467.55 \n",
       "  \"/>\n",
       "<polyline clip-path=\"url(#clip200)\" style=\"stroke:#000000; stroke-linecap:butt; stroke-linejoin:round; stroke-width:4; stroke-opacity:1; fill:none\" points=\"\n",
       "  950.175,1486.45 950.175,1467.55 \n",
       "  \"/>\n",
       "<polyline clip-path=\"url(#clip200)\" style=\"stroke:#000000; stroke-linecap:butt; stroke-linejoin:round; stroke-width:4; stroke-opacity:1; fill:none\" points=\"\n",
       "  1329.6,1486.45 1329.6,1467.55 \n",
       "  \"/>\n",
       "<polyline clip-path=\"url(#clip200)\" style=\"stroke:#000000; stroke-linecap:butt; stroke-linejoin:round; stroke-width:4; stroke-opacity:1; fill:none\" points=\"\n",
       "  1709.02,1486.45 1709.02,1467.55 \n",
       "  \"/>\n",
       "<polyline clip-path=\"url(#clip200)\" style=\"stroke:#000000; stroke-linecap:butt; stroke-linejoin:round; stroke-width:4; stroke-opacity:1; fill:none\" points=\"\n",
       "  2088.44,1486.45 2088.44,1467.55 \n",
       "  \"/>\n",
       "<path clip-path=\"url(#clip200)\" d=\"M518.892 1516.95 L518.892 1521.88 Q516.531 1519.68 513.845 1518.59 Q511.183 1517.51 508.174 1517.51 Q502.248 1517.51 499.1 1521.14 Q495.952 1524.75 495.952 1531.6 Q495.952 1538.43 499.1 1542.07 Q502.248 1545.68 508.174 1545.68 Q511.183 1545.68 513.845 1544.59 Q516.531 1543.5 518.892 1541.3 L518.892 1546.19 Q516.438 1547.85 513.683 1548.69 Q510.952 1549.52 507.896 1549.52 Q500.049 1549.52 495.535 1544.73 Q491.021 1539.91 491.021 1531.6 Q491.021 1523.27 495.535 1518.48 Q500.049 1513.66 507.896 1513.66 Q510.998 1513.66 513.73 1514.5 Q516.484 1515.31 518.892 1516.95 Z\" fill=\"#000000\" fill-rule=\"evenodd\" fill-opacity=\"1\" /><path clip-path=\"url(#clip200)\" d=\"M537.711 1535.82 Q532.549 1535.82 530.558 1537 Q528.568 1538.18 528.568 1541.02 Q528.568 1543.29 530.049 1544.63 Q531.554 1545.95 534.123 1545.95 Q537.665 1545.95 539.794 1543.45 Q541.947 1540.93 541.947 1536.76 L541.947 1535.82 L537.711 1535.82 M546.206 1534.06 L546.206 1548.85 L541.947 1548.85 L541.947 1544.91 Q540.489 1547.27 538.313 1548.41 Q536.137 1549.52 532.989 1549.52 Q529.007 1549.52 526.646 1547.3 Q524.308 1545.05 524.308 1541.3 Q524.308 1536.93 527.225 1534.7 Q530.165 1532.48 535.975 1532.48 L541.947 1532.48 L541.947 1532.07 Q541.947 1529.13 540.003 1527.53 Q538.081 1525.91 534.586 1525.91 Q532.364 1525.91 530.257 1526.44 Q528.151 1526.97 526.206 1528.04 L526.206 1524.1 Q528.544 1523.2 530.743 1522.76 Q532.943 1522.3 535.026 1522.3 Q540.651 1522.3 543.429 1525.21 Q546.206 1528.13 546.206 1534.06 Z\" fill=\"#000000\" fill-rule=\"evenodd\" fill-opacity=\"1\" /><path clip-path=\"url(#clip200)\" d=\"M570.003 1526.9 Q569.285 1526.49 568.428 1526.3 Q567.595 1526.09 566.577 1526.09 Q562.966 1526.09 561.021 1528.45 Q559.1 1530.79 559.1 1535.19 L559.1 1548.85 L554.817 1548.85 L554.817 1522.92 L559.1 1522.92 L559.1 1526.95 Q560.442 1524.59 562.595 1523.45 Q564.748 1522.3 567.827 1522.3 Q568.266 1522.3 568.799 1522.37 Q569.331 1522.41 569.979 1522.53 L570.003 1526.9 Z\" fill=\"#000000\" fill-rule=\"evenodd\" fill-opacity=\"1\" /><path clip-path=\"url(#clip200)\" d=\"M588.66 1526.9 Q587.942 1526.49 587.086 1526.3 Q586.252 1526.09 585.234 1526.09 Q581.623 1526.09 579.678 1528.45 Q577.757 1530.79 577.757 1535.19 L577.757 1548.85 L573.475 1548.85 L573.475 1522.92 L577.757 1522.92 L577.757 1526.95 Q579.1 1524.59 581.252 1523.45 Q583.405 1522.3 586.484 1522.3 Q586.924 1522.3 587.456 1522.37 Q587.989 1522.41 588.637 1522.53 L588.66 1526.9 Z\" fill=\"#000000\" fill-rule=\"evenodd\" fill-opacity=\"1\" /><path clip-path=\"url(#clip200)\" d=\"M593.127 1522.92 L597.387 1522.92 L597.387 1548.85 L593.127 1548.85 L593.127 1522.92 M593.127 1512.83 L597.387 1512.83 L597.387 1518.22 L593.127 1518.22 L593.127 1512.83 Z\" fill=\"#000000\" fill-rule=\"evenodd\" fill-opacity=\"1\" /><path clip-path=\"url(#clip200)\" d=\"M628.474 1534.82 L628.474 1536.9 L608.891 1536.9 Q609.169 1541.3 611.53 1543.62 Q613.914 1545.91 618.15 1545.91 Q620.604 1545.91 622.896 1545.31 Q625.211 1544.7 627.479 1543.5 L627.479 1547.53 Q625.187 1548.5 622.78 1549.01 Q620.373 1549.52 617.896 1549.52 Q611.692 1549.52 608.058 1545.91 Q604.447 1542.3 604.447 1536.14 Q604.447 1529.77 607.873 1526.05 Q611.322 1522.3 617.155 1522.3 Q622.386 1522.3 625.419 1525.68 Q628.474 1529.03 628.474 1534.82 M624.215 1533.57 Q624.169 1530.07 622.248 1527.99 Q620.349 1525.91 617.201 1525.91 Q613.637 1525.91 611.484 1527.92 Q609.354 1529.94 609.03 1533.59 L624.215 1533.57 Z\" fill=\"#000000\" fill-rule=\"evenodd\" fill-opacity=\"1\" /><path clip-path=\"url(#clip200)\" d=\"M650.488 1526.9 Q649.771 1526.49 648.914 1526.3 Q648.081 1526.09 647.062 1526.09 Q643.451 1526.09 641.507 1528.45 Q639.585 1530.79 639.585 1535.19 L639.585 1548.85 L635.303 1548.85 L635.303 1522.92 L639.585 1522.92 L639.585 1526.95 Q640.928 1524.59 643.081 1523.45 Q645.234 1522.3 648.312 1522.3 Q648.752 1522.3 649.285 1522.37 Q649.817 1522.41 650.465 1522.53 L650.488 1526.9 Z\" fill=\"#000000\" fill-rule=\"evenodd\" fill-opacity=\"1\" /><path clip-path=\"url(#clip200)\" d=\"M923.462 1518.89 L917.12 1536.09 L929.828 1536.09 L923.462 1518.89 M920.824 1514.29 L926.124 1514.29 L939.296 1548.85 L934.435 1548.85 L931.286 1539.98 L915.708 1539.98 L912.56 1548.85 L907.629 1548.85 L920.824 1514.29 Z\" fill=\"#000000\" fill-rule=\"evenodd\" fill-opacity=\"1\" /><path clip-path=\"url(#clip200)\" d=\"M935.87 1514.29 L965.106 1514.29 L965.106 1518.22 L952.837 1518.22 L952.837 1548.85 L948.138 1548.85 L948.138 1518.22 L935.87 1518.22 L935.87 1514.29 Z\" fill=\"#000000\" fill-rule=\"evenodd\" fill-opacity=\"1\" /><path clip-path=\"url(#clip200)\" d=\"M992.721 1516.95 L992.721 1521.88 Q990.36 1519.68 987.675 1518.59 Q985.013 1517.51 982.004 1517.51 Q976.078 1517.51 972.93 1521.14 Q969.782 1524.75 969.782 1531.6 Q969.782 1538.43 972.93 1542.07 Q976.078 1545.68 982.004 1545.68 Q985.013 1545.68 987.675 1544.59 Q990.36 1543.5 992.721 1541.3 L992.721 1546.19 Q990.268 1547.85 987.513 1548.69 Q984.782 1549.52 981.726 1549.52 Q973.879 1549.52 969.365 1544.73 Q964.851 1539.91 964.851 1531.6 Q964.851 1523.27 969.365 1518.48 Q973.879 1513.66 981.726 1513.66 Q984.828 1513.66 987.559 1514.5 Q990.314 1515.31 992.721 1516.95 Z\" fill=\"#000000\" fill-rule=\"evenodd\" fill-opacity=\"1\" /><path clip-path=\"url(#clip200)\" d=\"M1230.58 1514.29 L1235.3 1514.29 L1242.57 1543.5 L1249.82 1514.29 L1255.07 1514.29 L1262.34 1543.5 L1269.58 1514.29 L1274.33 1514.29 L1265.65 1548.85 L1259.77 1548.85 L1252.48 1518.85 L1245.12 1548.85 L1239.24 1548.85 L1230.58 1514.29 Z\" fill=\"#000000\" fill-rule=\"evenodd\" fill-opacity=\"1\" /><path clip-path=\"url(#clip200)\" d=\"M1299.75 1534.82 L1299.75 1536.9 L1280.16 1536.9 Q1280.44 1541.3 1282.8 1543.62 Q1285.19 1545.91 1289.42 1545.91 Q1291.88 1545.91 1294.17 1545.31 Q1296.48 1544.7 1298.75 1543.5 L1298.75 1547.53 Q1296.46 1548.5 1294.05 1549.01 Q1291.64 1549.52 1289.17 1549.52 Q1282.96 1549.52 1279.33 1545.91 Q1275.72 1542.3 1275.72 1536.14 Q1275.72 1529.77 1279.14 1526.05 Q1282.59 1522.3 1288.43 1522.3 Q1293.66 1522.3 1296.69 1525.68 Q1299.75 1529.03 1299.75 1534.82 M1295.49 1533.57 Q1295.44 1530.07 1293.52 1527.99 Q1291.62 1525.91 1288.47 1525.91 Q1284.91 1525.91 1282.76 1527.92 Q1280.63 1529.94 1280.3 1533.59 L1295.49 1533.57 Z\" fill=\"#000000\" fill-rule=\"evenodd\" fill-opacity=\"1\" /><path clip-path=\"url(#clip200)\" d=\"M1318.52 1535.82 Q1313.36 1535.82 1311.37 1537 Q1309.38 1538.18 1309.38 1541.02 Q1309.38 1543.29 1310.86 1544.63 Q1312.36 1545.95 1314.93 1545.95 Q1318.47 1545.95 1320.6 1543.45 Q1322.76 1540.93 1322.76 1536.76 L1322.76 1535.82 L1318.52 1535.82 M1327.01 1534.06 L1327.01 1548.85 L1322.76 1548.85 L1322.76 1544.91 Q1321.3 1547.27 1319.12 1548.41 Q1316.95 1549.52 1313.8 1549.52 Q1309.82 1549.52 1307.45 1547.3 Q1305.12 1545.05 1305.12 1541.3 Q1305.12 1536.93 1308.03 1534.7 Q1310.97 1532.48 1316.78 1532.48 L1322.76 1532.48 L1322.76 1532.07 Q1322.76 1529.13 1320.81 1527.53 Q1318.89 1525.91 1315.39 1525.91 Q1313.17 1525.91 1311.07 1526.44 Q1308.96 1526.97 1307.01 1528.04 L1307.01 1524.1 Q1309.35 1523.2 1311.55 1522.76 Q1313.75 1522.3 1315.83 1522.3 Q1321.46 1522.3 1324.24 1525.21 Q1327.01 1528.13 1327.01 1534.06 Z\" fill=\"#000000\" fill-rule=\"evenodd\" fill-opacity=\"1\" /><path clip-path=\"url(#clip200)\" d=\"M1340 1515.56 L1340 1522.92 L1348.77 1522.92 L1348.77 1526.23 L1340 1526.23 L1340 1540.31 Q1340 1543.48 1340.86 1544.38 Q1341.74 1545.28 1344.4 1545.28 L1348.77 1545.28 L1348.77 1548.85 L1344.4 1548.85 Q1339.47 1548.85 1337.59 1547.02 Q1335.72 1545.17 1335.72 1540.31 L1335.72 1526.23 L1332.59 1526.23 L1332.59 1522.92 L1335.72 1522.92 L1335.72 1515.56 L1340 1515.56 Z\" fill=\"#000000\" fill-rule=\"evenodd\" fill-opacity=\"1\" /><path clip-path=\"url(#clip200)\" d=\"M1375.93 1533.2 L1375.93 1548.85 L1371.67 1548.85 L1371.67 1533.34 Q1371.67 1529.66 1370.23 1527.83 Q1368.8 1526 1365.93 1526 Q1362.48 1526 1360.49 1528.2 Q1358.5 1530.4 1358.5 1534.2 L1358.5 1548.85 L1354.21 1548.85 L1354.21 1512.83 L1358.5 1512.83 L1358.5 1526.95 Q1360.02 1524.61 1362.08 1523.45 Q1364.17 1522.3 1366.88 1522.3 Q1371.34 1522.3 1373.63 1525.07 Q1375.93 1527.83 1375.93 1533.2 Z\" fill=\"#000000\" fill-rule=\"evenodd\" fill-opacity=\"1\" /><path clip-path=\"url(#clip200)\" d=\"M1406.6 1534.82 L1406.6 1536.9 L1387.01 1536.9 Q1387.29 1541.3 1389.65 1543.62 Q1392.04 1545.91 1396.27 1545.91 Q1398.73 1545.91 1401.02 1545.31 Q1403.33 1544.7 1405.6 1543.5 L1405.6 1547.53 Q1403.31 1548.5 1400.9 1549.01 Q1398.5 1549.52 1396.02 1549.52 Q1389.82 1549.52 1386.18 1545.91 Q1382.57 1542.3 1382.57 1536.14 Q1382.57 1529.77 1386 1526.05 Q1389.44 1522.3 1395.28 1522.3 Q1400.51 1522.3 1403.54 1525.68 Q1406.6 1529.03 1406.6 1534.82 M1402.34 1533.57 Q1402.29 1530.07 1400.37 1527.99 Q1398.47 1525.91 1395.32 1525.91 Q1391.76 1525.91 1389.61 1527.92 Q1387.48 1529.94 1387.15 1533.59 L1402.34 1533.57 Z\" fill=\"#000000\" fill-rule=\"evenodd\" fill-opacity=\"1\" /><path clip-path=\"url(#clip200)\" d=\"M1428.61 1526.9 Q1427.89 1526.49 1427.04 1526.3 Q1426.2 1526.09 1425.19 1526.09 Q1421.57 1526.09 1419.63 1528.45 Q1417.71 1530.79 1417.71 1535.19 L1417.71 1548.85 L1413.43 1548.85 L1413.43 1522.92 L1417.71 1522.92 L1417.71 1526.95 Q1419.05 1524.59 1421.2 1523.45 Q1423.36 1522.3 1426.44 1522.3 Q1426.88 1522.3 1427.41 1522.37 Q1427.94 1522.41 1428.59 1522.53 L1428.61 1526.9 Z\" fill=\"#000000\" fill-rule=\"evenodd\" fill-opacity=\"1\" /><path clip-path=\"url(#clip200)\" d=\"M1636.19 1515.42 L1636.19 1519.98 Q1633.53 1518.71 1631.17 1518.08 Q1628.81 1517.46 1626.61 1517.46 Q1622.79 1517.46 1620.71 1518.94 Q1618.65 1520.42 1618.65 1523.15 Q1618.65 1525.45 1620.01 1526.63 Q1621.4 1527.78 1625.24 1528.5 L1628.07 1529.08 Q1633.3 1530.07 1635.78 1532.6 Q1638.28 1535.1 1638.28 1539.31 Q1638.28 1544.33 1634.9 1546.93 Q1631.54 1549.52 1625.04 1549.52 Q1622.58 1549.52 1619.8 1548.96 Q1617.05 1548.41 1614.09 1547.32 L1614.09 1542.51 Q1616.93 1544.1 1619.66 1544.91 Q1622.4 1545.72 1625.04 1545.72 Q1629.04 1545.72 1631.22 1544.15 Q1633.39 1542.57 1633.39 1539.66 Q1633.39 1537.11 1631.82 1535.68 Q1630.27 1534.24 1626.7 1533.52 L1623.85 1532.97 Q1618.62 1531.93 1616.29 1529.7 Q1613.95 1527.48 1613.95 1523.52 Q1613.95 1518.94 1617.16 1516.3 Q1620.41 1513.66 1626.08 1513.66 Q1628.51 1513.66 1631.03 1514.1 Q1633.55 1514.54 1636.19 1515.42 Z\" fill=\"#000000\" fill-rule=\"evenodd\" fill-opacity=\"1\" /><path clip-path=\"url(#clip200)\" d=\"M1667.56 1534.82 L1667.56 1536.9 L1647.97 1536.9 Q1648.25 1541.3 1650.61 1543.62 Q1653 1545.91 1657.23 1545.91 Q1659.69 1545.91 1661.98 1545.31 Q1664.29 1544.7 1666.56 1543.5 L1666.56 1547.53 Q1664.27 1548.5 1661.86 1549.01 Q1659.46 1549.52 1656.98 1549.52 Q1650.78 1549.52 1647.14 1545.91 Q1643.53 1542.3 1643.53 1536.14 Q1643.53 1529.77 1646.96 1526.05 Q1650.41 1522.3 1656.24 1522.3 Q1661.47 1522.3 1664.5 1525.68 Q1667.56 1529.03 1667.56 1534.82 M1663.3 1533.57 Q1663.25 1530.07 1661.33 1527.99 Q1659.43 1525.91 1656.28 1525.91 Q1652.72 1525.91 1650.57 1527.92 Q1648.44 1529.94 1648.11 1533.59 L1663.3 1533.57 Z\" fill=\"#000000\" fill-rule=\"evenodd\" fill-opacity=\"1\" /><path clip-path=\"url(#clip200)\" d=\"M1693.21 1523.92 L1693.21 1527.9 Q1691.4 1526.9 1689.57 1526.42 Q1687.77 1525.91 1685.91 1525.91 Q1681.77 1525.91 1679.48 1528.55 Q1677.19 1531.16 1677.19 1535.91 Q1677.19 1540.65 1679.48 1543.29 Q1681.77 1545.91 1685.91 1545.91 Q1687.77 1545.91 1689.57 1545.42 Q1691.4 1544.91 1693.21 1543.92 L1693.21 1547.85 Q1691.42 1548.69 1689.5 1549.1 Q1687.6 1549.52 1685.45 1549.52 Q1679.59 1549.52 1676.15 1545.84 Q1672.7 1542.16 1672.7 1535.91 Q1672.7 1529.57 1676.17 1525.93 Q1679.66 1522.3 1685.73 1522.3 Q1687.7 1522.3 1689.57 1522.71 Q1691.45 1523.11 1693.21 1523.92 Z\" fill=\"#000000\" fill-rule=\"evenodd\" fill-opacity=\"1\" /><path clip-path=\"url(#clip200)\" d=\"M1700.17 1538.62 L1700.17 1522.92 L1704.43 1522.92 L1704.43 1538.45 Q1704.43 1542.13 1705.87 1543.99 Q1707.3 1545.82 1710.17 1545.82 Q1713.62 1545.82 1715.61 1543.62 Q1717.63 1541.42 1717.63 1537.62 L1717.63 1522.92 L1721.89 1522.92 L1721.89 1548.85 L1717.63 1548.85 L1717.63 1544.87 Q1716.08 1547.23 1714.02 1548.38 Q1711.98 1549.52 1709.27 1549.52 Q1704.8 1549.52 1702.49 1546.74 Q1700.17 1543.96 1700.17 1538.62 M1710.89 1522.3 L1710.89 1522.3 Z\" fill=\"#000000\" fill-rule=\"evenodd\" fill-opacity=\"1\" /><path clip-path=\"url(#clip200)\" d=\"M1745.68 1526.9 Q1744.96 1526.49 1744.11 1526.3 Q1743.28 1526.09 1742.26 1526.09 Q1738.65 1526.09 1736.7 1528.45 Q1734.78 1530.79 1734.78 1535.19 L1734.78 1548.85 L1730.5 1548.85 L1730.5 1522.92 L1734.78 1522.92 L1734.78 1526.95 Q1736.12 1524.59 1738.28 1523.45 Q1740.43 1522.3 1743.51 1522.3 Q1743.95 1522.3 1744.48 1522.37 Q1745.01 1522.41 1745.66 1522.53 L1745.68 1526.9 Z\" fill=\"#000000\" fill-rule=\"evenodd\" fill-opacity=\"1\" /><path clip-path=\"url(#clip200)\" d=\"M1750.15 1522.92 L1754.41 1522.92 L1754.41 1548.85 L1750.15 1548.85 L1750.15 1522.92 M1750.15 1512.83 L1754.41 1512.83 L1754.41 1518.22 L1750.15 1518.22 L1750.15 1512.83 Z\" fill=\"#000000\" fill-rule=\"evenodd\" fill-opacity=\"1\" /><path clip-path=\"url(#clip200)\" d=\"M1767.53 1515.56 L1767.53 1522.92 L1776.31 1522.92 L1776.31 1526.23 L1767.53 1526.23 L1767.53 1540.31 Q1767.53 1543.48 1768.39 1544.38 Q1769.27 1545.28 1771.93 1545.28 L1776.31 1545.28 L1776.31 1548.85 L1771.93 1548.85 Q1767 1548.85 1765.13 1547.02 Q1763.25 1545.17 1763.25 1540.31 L1763.25 1526.23 L1760.13 1526.23 L1760.13 1522.92 L1763.25 1522.92 L1763.25 1515.56 L1767.53 1515.56 Z\" fill=\"#000000\" fill-rule=\"evenodd\" fill-opacity=\"1\" /><path clip-path=\"url(#clip200)\" d=\"M1792.7 1551.26 Q1790.89 1555.88 1789.18 1557.3 Q1787.46 1558.71 1784.59 1558.71 L1781.19 1558.71 L1781.19 1555.14 L1783.69 1555.14 Q1785.45 1555.14 1786.42 1554.31 Q1787.4 1553.48 1788.58 1550.38 L1789.34 1548.43 L1778.85 1522.92 L1783.37 1522.92 L1791.47 1543.2 L1799.57 1522.92 L1804.08 1522.92 L1792.7 1551.26 Z\" fill=\"#000000\" fill-rule=\"evenodd\" fill-opacity=\"1\" /><path clip-path=\"url(#clip200)\" d=\"M1996.26 1514.29 L2000.94 1514.29 L2000.94 1548.85 L1996.26 1548.85 L1996.26 1514.29 Z\" fill=\"#000000\" fill-rule=\"evenodd\" fill-opacity=\"1\" /><path clip-path=\"url(#clip200)\" d=\"M2031.61 1533.2 L2031.61 1548.85 L2027.35 1548.85 L2027.35 1533.34 Q2027.35 1529.66 2025.91 1527.83 Q2024.48 1526 2021.61 1526 Q2018.16 1526 2016.17 1528.2 Q2014.18 1530.4 2014.18 1534.2 L2014.18 1548.85 L2009.9 1548.85 L2009.9 1522.92 L2014.18 1522.92 L2014.18 1526.95 Q2015.71 1524.61 2017.77 1523.45 Q2019.85 1522.3 2022.56 1522.3 Q2027.02 1522.3 2029.32 1525.07 Q2031.61 1527.83 2031.61 1533.2 Z\" fill=\"#000000\" fill-rule=\"evenodd\" fill-opacity=\"1\" /><path clip-path=\"url(#clip200)\" d=\"M2058.71 1535.91 Q2058.71 1531.21 2056.77 1528.55 Q2054.85 1525.86 2051.47 1525.86 Q2048.09 1525.86 2046.15 1528.55 Q2044.22 1531.21 2044.22 1535.91 Q2044.22 1540.61 2046.15 1543.29 Q2048.09 1545.95 2051.47 1545.95 Q2054.85 1545.95 2056.77 1543.29 Q2058.71 1540.61 2058.71 1535.91 M2044.22 1526.86 Q2045.57 1524.54 2047.6 1523.43 Q2049.66 1522.3 2052.51 1522.3 Q2057.23 1522.3 2060.17 1526.05 Q2063.14 1529.8 2063.14 1535.91 Q2063.14 1542.02 2060.17 1545.77 Q2057.23 1549.52 2052.51 1549.52 Q2049.66 1549.52 2047.6 1548.41 Q2045.57 1547.27 2044.22 1544.96 L2044.22 1548.85 L2039.94 1548.85 L2039.94 1512.83 L2044.22 1512.83 L2044.22 1526.86 Z\" fill=\"#000000\" fill-rule=\"evenodd\" fill-opacity=\"1\" /><path clip-path=\"url(#clip200)\" d=\"M2080.24 1525.91 Q2076.82 1525.91 2074.83 1528.59 Q2072.83 1531.26 2072.83 1535.91 Q2072.83 1540.56 2074.8 1543.25 Q2076.79 1545.91 2080.24 1545.91 Q2083.64 1545.91 2085.64 1543.22 Q2087.63 1540.54 2087.63 1535.91 Q2087.63 1531.3 2085.64 1528.62 Q2083.64 1525.91 2080.24 1525.91 M2080.24 1522.3 Q2085.8 1522.3 2088.97 1525.91 Q2092.14 1529.52 2092.14 1535.91 Q2092.14 1542.27 2088.97 1545.91 Q2085.8 1549.52 2080.24 1549.52 Q2074.66 1549.52 2071.49 1545.91 Q2068.34 1542.27 2068.34 1535.91 Q2068.34 1529.52 2071.49 1525.91 Q2074.66 1522.3 2080.24 1522.3 Z\" fill=\"#000000\" fill-rule=\"evenodd\" fill-opacity=\"1\" /><path clip-path=\"url(#clip200)\" d=\"M2098.76 1538.62 L2098.76 1522.92 L2103.02 1522.92 L2103.02 1538.45 Q2103.02 1542.13 2104.45 1543.99 Q2105.89 1545.82 2108.76 1545.82 Q2112.21 1545.82 2114.2 1543.62 Q2116.21 1541.42 2116.21 1537.62 L2116.21 1522.92 L2120.47 1522.92 L2120.47 1548.85 L2116.21 1548.85 L2116.21 1544.87 Q2114.66 1547.23 2112.6 1548.38 Q2110.57 1549.52 2107.86 1549.52 Q2103.39 1549.52 2101.08 1546.74 Q2098.76 1543.96 2098.76 1538.62 M2109.48 1522.3 L2109.48 1522.3 Z\" fill=\"#000000\" fill-rule=\"evenodd\" fill-opacity=\"1\" /><path clip-path=\"url(#clip200)\" d=\"M2150.8 1533.2 L2150.8 1548.85 L2146.54 1548.85 L2146.54 1533.34 Q2146.54 1529.66 2145.1 1527.83 Q2143.67 1526 2140.8 1526 Q2137.35 1526 2135.36 1528.2 Q2133.37 1530.4 2133.37 1534.2 L2133.37 1548.85 L2129.08 1548.85 L2129.08 1522.92 L2133.37 1522.92 L2133.37 1526.95 Q2134.89 1524.61 2136.95 1523.45 Q2139.04 1522.3 2141.75 1522.3 Q2146.21 1522.3 2148.51 1525.07 Q2150.8 1527.83 2150.8 1533.2 Z\" fill=\"#000000\" fill-rule=\"evenodd\" fill-opacity=\"1\" /><path clip-path=\"url(#clip200)\" d=\"M2176.35 1526.86 L2176.35 1512.83 L2180.61 1512.83 L2180.61 1548.85 L2176.35 1548.85 L2176.35 1544.96 Q2175.01 1547.27 2172.95 1548.41 Q2170.91 1549.52 2168.04 1549.52 Q2163.34 1549.52 2160.38 1545.77 Q2157.44 1542.02 2157.44 1535.91 Q2157.44 1529.8 2160.38 1526.05 Q2163.34 1522.3 2168.04 1522.3 Q2170.91 1522.3 2172.95 1523.43 Q2175.01 1524.54 2176.35 1526.86 M2161.84 1535.91 Q2161.84 1540.61 2163.76 1543.29 Q2165.7 1545.95 2169.08 1545.95 Q2172.46 1545.95 2174.41 1543.29 Q2176.35 1540.61 2176.35 1535.91 Q2176.35 1531.21 2174.41 1528.55 Q2172.46 1525.86 2169.08 1525.86 Q2165.7 1525.86 2163.76 1528.55 Q2161.84 1531.21 2161.84 1535.91 Z\" fill=\"#000000\" fill-rule=\"evenodd\" fill-opacity=\"1\" /><polyline clip-path=\"url(#clip202)\" style=\"stroke:#000000; stroke-linecap:butt; stroke-linejoin:round; stroke-width:2; stroke-opacity:0.1; fill:none\" points=\"\n",
       "  306.435,1445.72 2352.76,1445.72 \n",
       "  \"/>\n",
       "<polyline clip-path=\"url(#clip202)\" style=\"stroke:#000000; stroke-linecap:butt; stroke-linejoin:round; stroke-width:2; stroke-opacity:0.1; fill:none\" points=\"\n",
       "  306.435,1159.1 2352.76,1159.1 \n",
       "  \"/>\n",
       "<polyline clip-path=\"url(#clip202)\" style=\"stroke:#000000; stroke-linecap:butt; stroke-linejoin:round; stroke-width:2; stroke-opacity:0.1; fill:none\" points=\"\n",
       "  306.435,872.481 2352.76,872.481 \n",
       "  \"/>\n",
       "<polyline clip-path=\"url(#clip202)\" style=\"stroke:#000000; stroke-linecap:butt; stroke-linejoin:round; stroke-width:2; stroke-opacity:0.1; fill:none\" points=\"\n",
       "  306.435,585.863 2352.76,585.863 \n",
       "  \"/>\n",
       "<polyline clip-path=\"url(#clip202)\" style=\"stroke:#000000; stroke-linecap:butt; stroke-linejoin:round; stroke-width:2; stroke-opacity:0.1; fill:none\" points=\"\n",
       "  306.435,299.246 2352.76,299.246 \n",
       "  \"/>\n",
       "<polyline clip-path=\"url(#clip200)\" style=\"stroke:#000000; stroke-linecap:butt; stroke-linejoin:round; stroke-width:4; stroke-opacity:1; fill:none\" points=\"\n",
       "  306.435,1486.45 306.435,47.2441 \n",
       "  \"/>\n",
       "<polyline clip-path=\"url(#clip200)\" style=\"stroke:#000000; stroke-linecap:butt; stroke-linejoin:round; stroke-width:4; stroke-opacity:1; fill:none\" points=\"\n",
       "  306.435,1445.72 325.333,1445.72 \n",
       "  \"/>\n",
       "<polyline clip-path=\"url(#clip200)\" style=\"stroke:#000000; stroke-linecap:butt; stroke-linejoin:round; stroke-width:4; stroke-opacity:1; fill:none\" points=\"\n",
       "  306.435,1159.1 325.333,1159.1 \n",
       "  \"/>\n",
       "<polyline clip-path=\"url(#clip200)\" style=\"stroke:#000000; stroke-linecap:butt; stroke-linejoin:round; stroke-width:4; stroke-opacity:1; fill:none\" points=\"\n",
       "  306.435,872.481 325.333,872.481 \n",
       "  \"/>\n",
       "<polyline clip-path=\"url(#clip200)\" style=\"stroke:#000000; stroke-linecap:butt; stroke-linejoin:round; stroke-width:4; stroke-opacity:1; fill:none\" points=\"\n",
       "  306.435,585.863 325.333,585.863 \n",
       "  \"/>\n",
       "<polyline clip-path=\"url(#clip200)\" style=\"stroke:#000000; stroke-linecap:butt; stroke-linejoin:round; stroke-width:4; stroke-opacity:1; fill:none\" points=\"\n",
       "  306.435,299.246 325.333,299.246 \n",
       "  \"/>\n",
       "<path clip-path=\"url(#clip200)\" d=\"M258.491 1431.51 Q254.88 1431.51 253.051 1435.08 Q251.246 1438.62 251.246 1445.75 Q251.246 1452.86 253.051 1456.42 Q254.88 1459.96 258.491 1459.96 Q262.125 1459.96 263.931 1456.42 Q265.759 1452.86 265.759 1445.75 Q265.759 1438.62 263.931 1435.08 Q262.125 1431.51 258.491 1431.51 M258.491 1427.81 Q264.301 1427.81 267.357 1432.42 Q270.435 1437 270.435 1445.75 Q270.435 1454.48 267.357 1459.08 Q264.301 1463.67 258.491 1463.67 Q252.681 1463.67 249.602 1459.08 Q246.547 1454.48 246.547 1445.75 Q246.547 1437 249.602 1432.42 Q252.681 1427.81 258.491 1427.81 Z\" fill=\"#000000\" fill-rule=\"evenodd\" fill-opacity=\"1\" /><path clip-path=\"url(#clip200)\" d=\"M56.6171 1178.89 L72.9365 1178.89 L72.9365 1182.83 L50.9921 1182.83 L50.9921 1178.89 Q53.6541 1176.14 58.2375 1171.51 Q62.8439 1166.85 64.0245 1165.51 Q66.2698 1162.99 67.1494 1161.25 Q68.0522 1159.49 68.0522 1157.8 Q68.0522 1155.05 66.1078 1153.31 Q64.1865 1151.58 61.0847 1151.58 Q58.8856 1151.58 56.4319 1152.34 Q54.0014 1153.1 51.2236 1154.65 L51.2236 1149.93 Q54.0477 1148.8 56.5014 1148.22 Q58.955 1147.64 60.9921 1147.64 Q66.3624 1147.64 69.5568 1150.33 Q72.7513 1153.01 72.7513 1157.5 Q72.7513 1159.63 71.9411 1161.55 Q71.1541 1163.45 69.0476 1166.04 Q68.4689 1166.71 65.367 1169.93 Q62.2652 1173.13 56.6171 1178.89 Z\" fill=\"#000000\" fill-rule=\"evenodd\" fill-opacity=\"1\" /><path clip-path=\"url(#clip200)\" d=\"M82.7512 1176.95 L87.6354 1176.95 L87.6354 1182.83 L82.7512 1182.83 L82.7512 1176.95 Z\" fill=\"#000000\" fill-rule=\"evenodd\" fill-opacity=\"1\" /><path clip-path=\"url(#clip200)\" d=\"M97.8669 1148.27 L116.223 1148.27 L116.223 1152.2 L102.149 1152.2 L102.149 1160.67 Q103.168 1160.33 104.186 1160.16 Q105.205 1159.98 106.223 1159.98 Q112.01 1159.98 115.39 1163.15 Q118.77 1166.32 118.77 1171.74 Q118.77 1177.32 115.297 1180.42 Q111.825 1183.5 105.506 1183.5 Q103.33 1183.5 101.061 1183.13 Q98.8159 1182.76 96.4085 1182.02 L96.4085 1177.32 Q98.4919 1178.45 100.714 1179.01 Q102.936 1179.56 105.413 1179.56 Q109.418 1179.56 111.756 1177.46 Q114.094 1175.35 114.094 1171.74 Q114.094 1168.13 111.756 1166.02 Q109.418 1163.91 105.413 1163.91 Q103.538 1163.91 101.663 1164.33 Q99.8113 1164.75 97.8669 1165.63 L97.8669 1148.27 Z\" fill=\"#000000\" fill-rule=\"evenodd\" fill-opacity=\"1\" /><path clip-path=\"url(#clip200)\" d=\"M137.982 1151.34 Q134.371 1151.34 132.543 1154.91 Q130.737 1158.45 130.737 1165.58 Q130.737 1172.69 132.543 1176.25 Q134.371 1179.79 137.982 1179.79 Q141.617 1179.79 143.422 1176.25 Q145.251 1172.69 145.251 1165.58 Q145.251 1158.45 143.422 1154.91 Q141.617 1151.34 137.982 1151.34 M137.982 1147.64 Q143.793 1147.64 146.848 1152.25 Q149.927 1156.83 149.927 1165.58 Q149.927 1174.31 146.848 1178.91 Q143.793 1183.5 137.982 1183.5 Q132.172 1183.5 129.094 1178.91 Q126.038 1174.31 126.038 1165.58 Q126.038 1156.83 129.094 1152.25 Q132.172 1147.64 137.982 1147.64 Z\" fill=\"#000000\" fill-rule=\"evenodd\" fill-opacity=\"1\" /><path clip-path=\"url(#clip200)\" d=\"M186.315 1157.36 L175.737 1167.99 L186.315 1178.57 L183.561 1181.37 L172.936 1170.74 L162.311 1181.37 L159.58 1178.57 L170.135 1167.99 L159.58 1157.36 L162.311 1154.56 L172.936 1165.19 L183.561 1154.56 L186.315 1157.36 Z\" fill=\"#000000\" fill-rule=\"evenodd\" fill-opacity=\"1\" /><path clip-path=\"url(#clip200)\" d=\"M198.677 1178.89 L206.315 1178.89 L206.315 1152.53 L198.005 1154.19 L198.005 1149.93 L206.269 1148.27 L210.945 1148.27 L210.945 1178.89 L218.584 1178.89 L218.584 1182.83 L198.677 1182.83 L198.677 1178.89 Z\" fill=\"#000000\" fill-rule=\"evenodd\" fill-opacity=\"1\" /><path clip-path=\"url(#clip200)\" d=\"M238.028 1151.34 Q234.417 1151.34 232.588 1154.91 Q230.783 1158.45 230.783 1165.58 Q230.783 1172.69 232.588 1176.25 Q234.417 1179.79 238.028 1179.79 Q241.662 1179.79 243.468 1176.25 Q245.297 1172.69 245.297 1165.58 Q245.297 1158.45 243.468 1154.91 Q241.662 1151.34 238.028 1151.34 M238.028 1147.64 Q243.838 1147.64 246.894 1152.25 Q249.973 1156.83 249.973 1165.58 Q249.973 1174.31 246.894 1178.91 Q243.838 1183.5 238.028 1183.5 Q232.218 1183.5 229.139 1178.91 Q226.084 1174.31 226.084 1165.58 Q226.084 1156.83 229.139 1152.25 Q232.218 1147.64 238.028 1147.64 Z\" fill=\"#000000\" fill-rule=\"evenodd\" fill-opacity=\"1\" /><path clip-path=\"url(#clip200)\" d=\"M262.649 1130.65 L253.057 1145.64 L262.649 1145.64 L262.649 1130.65 M261.652 1127.34 L266.429 1127.34 L266.429 1145.64 L270.435 1145.64 L270.435 1148.8 L266.429 1148.8 L266.429 1155.42 L262.649 1155.42 L262.649 1148.8 L249.973 1148.8 L249.973 1145.13 L261.652 1127.34 Z\" fill=\"#000000\" fill-rule=\"evenodd\" fill-opacity=\"1\" /><path clip-path=\"url(#clip200)\" d=\"M52.6356 861.648 L70.992 861.648 L70.992 865.583 L56.918 865.583 L56.918 874.056 Q57.9365 873.708 58.955 873.546 Q59.9736 873.361 60.9921 873.361 Q66.7791 873.361 70.1587 876.532 Q73.5383 879.704 73.5383 885.12 Q73.5383 890.699 70.0661 893.801 Q66.5939 896.88 60.2745 896.88 Q58.0986 896.88 55.8301 896.509 Q53.5847 896.139 51.1773 895.398 L51.1773 890.699 Q53.2606 891.833 55.4828 892.389 Q57.7051 892.944 60.1819 892.944 Q64.1865 892.944 66.5245 890.838 Q68.8624 888.731 68.8624 885.12 Q68.8624 881.509 66.5245 879.403 Q64.1865 877.296 60.1819 877.296 Q58.3069 877.296 56.4319 877.713 Q54.5801 878.13 52.6356 879.009 L52.6356 861.648 Z\" fill=\"#000000\" fill-rule=\"evenodd\" fill-opacity=\"1\" /><path clip-path=\"url(#clip200)\" d=\"M82.7512 890.329 L87.6354 890.329 L87.6354 896.208 L82.7512 896.208 L82.7512 890.329 Z\" fill=\"#000000\" fill-rule=\"evenodd\" fill-opacity=\"1\" /><path clip-path=\"url(#clip200)\" d=\"M107.821 864.727 Q104.209 864.727 102.381 868.292 Q100.575 871.833 100.575 878.963 Q100.575 886.069 102.381 889.634 Q104.209 893.176 107.821 893.176 Q111.455 893.176 113.26 889.634 Q115.089 886.069 115.089 878.963 Q115.089 871.833 113.26 868.292 Q111.455 864.727 107.821 864.727 M107.821 861.023 Q113.631 861.023 116.686 865.63 Q119.765 870.213 119.765 878.963 Q119.765 887.69 116.686 892.296 Q113.631 896.88 107.821 896.88 Q102.01 896.88 98.9317 892.296 Q95.8761 887.69 95.8761 878.963 Q95.8761 870.213 98.9317 865.63 Q102.01 861.023 107.821 861.023 Z\" fill=\"#000000\" fill-rule=\"evenodd\" fill-opacity=\"1\" /><path clip-path=\"url(#clip200)\" d=\"M137.982 864.727 Q134.371 864.727 132.543 868.292 Q130.737 871.833 130.737 878.963 Q130.737 886.069 132.543 889.634 Q134.371 893.176 137.982 893.176 Q141.617 893.176 143.422 889.634 Q145.251 886.069 145.251 878.963 Q145.251 871.833 143.422 868.292 Q141.617 864.727 137.982 864.727 M137.982 861.023 Q143.793 861.023 146.848 865.63 Q149.927 870.213 149.927 878.963 Q149.927 887.69 146.848 892.296 Q143.793 896.88 137.982 896.88 Q132.172 896.88 129.094 892.296 Q126.038 887.69 126.038 878.963 Q126.038 870.213 129.094 865.63 Q132.172 861.023 137.982 861.023 Z\" fill=\"#000000\" fill-rule=\"evenodd\" fill-opacity=\"1\" /><path clip-path=\"url(#clip200)\" d=\"M186.315 870.745 L175.737 881.37 L186.315 891.949 L183.561 894.75 L172.936 884.125 L162.311 894.75 L159.58 891.949 L170.135 881.37 L159.58 870.745 L162.311 867.945 L172.936 878.57 L183.561 867.945 L186.315 870.745 Z\" fill=\"#000000\" fill-rule=\"evenodd\" fill-opacity=\"1\" /><path clip-path=\"url(#clip200)\" d=\"M198.677 892.273 L206.315 892.273 L206.315 865.908 L198.005 867.574 L198.005 863.315 L206.269 861.648 L210.945 861.648 L210.945 892.273 L218.584 892.273 L218.584 896.208 L198.677 896.208 L198.677 892.273 Z\" fill=\"#000000\" fill-rule=\"evenodd\" fill-opacity=\"1\" /><path clip-path=\"url(#clip200)\" d=\"M238.028 864.727 Q234.417 864.727 232.588 868.292 Q230.783 871.833 230.783 878.963 Q230.783 886.069 232.588 889.634 Q234.417 893.176 238.028 893.176 Q241.662 893.176 243.468 889.634 Q245.297 886.069 245.297 878.963 Q245.297 871.833 243.468 868.292 Q241.662 864.727 238.028 864.727 M238.028 861.023 Q243.838 861.023 246.894 865.63 Q249.973 870.213 249.973 878.963 Q249.973 887.69 246.894 892.296 Q243.838 896.88 238.028 896.88 Q232.218 896.88 229.139 892.296 Q226.084 887.69 226.084 878.963 Q226.084 870.213 229.139 865.63 Q232.218 861.023 238.028 861.023 Z\" fill=\"#000000\" fill-rule=\"evenodd\" fill-opacity=\"1\" /><path clip-path=\"url(#clip200)\" d=\"M262.649 844.028 L253.057 859.018 L262.649 859.018 L262.649 844.028 M261.652 840.718 L266.429 840.718 L266.429 859.018 L270.435 859.018 L270.435 862.178 L266.429 862.178 L266.429 868.798 L262.649 868.798 L262.649 862.178 L249.973 862.178 L249.973 858.51 L261.652 840.718 Z\" fill=\"#000000\" fill-rule=\"evenodd\" fill-opacity=\"1\" /><path clip-path=\"url(#clip200)\" d=\"M51.4088 575.031 L73.6309 575.031 L73.6309 577.022 L61.0847 609.591 L56.2004 609.591 L68.0059 578.966 L51.4088 578.966 L51.4088 575.031 Z\" fill=\"#000000\" fill-rule=\"evenodd\" fill-opacity=\"1\" /><path clip-path=\"url(#clip200)\" d=\"M82.7512 603.711 L87.6354 603.711 L87.6354 609.591 L82.7512 609.591 L82.7512 603.711 Z\" fill=\"#000000\" fill-rule=\"evenodd\" fill-opacity=\"1\" /><path clip-path=\"url(#clip200)\" d=\"M97.8669 575.031 L116.223 575.031 L116.223 578.966 L102.149 578.966 L102.149 587.438 Q103.168 587.091 104.186 586.929 Q105.205 586.744 106.223 586.744 Q112.01 586.744 115.39 589.915 Q118.77 593.086 118.77 598.503 Q118.77 604.082 115.297 607.183 Q111.825 610.262 105.506 610.262 Q103.33 610.262 101.061 609.892 Q98.8159 609.521 96.4085 608.781 L96.4085 604.082 Q98.4919 605.216 100.714 605.771 Q102.936 606.327 105.413 606.327 Q109.418 606.327 111.756 604.22 Q114.094 602.114 114.094 598.503 Q114.094 594.892 111.756 592.785 Q109.418 590.679 105.413 590.679 Q103.538 590.679 101.663 591.096 Q99.8113 591.512 97.8669 592.392 L97.8669 575.031 Z\" fill=\"#000000\" fill-rule=\"evenodd\" fill-opacity=\"1\" /><path clip-path=\"url(#clip200)\" d=\"M137.982 578.109 Q134.371 578.109 132.543 581.674 Q130.737 585.216 130.737 592.346 Q130.737 599.452 132.543 603.017 Q134.371 606.558 137.982 606.558 Q141.617 606.558 143.422 603.017 Q145.251 599.452 145.251 592.346 Q145.251 585.216 143.422 581.674 Q141.617 578.109 137.982 578.109 M137.982 574.406 Q143.793 574.406 146.848 579.012 Q149.927 583.596 149.927 592.346 Q149.927 601.072 146.848 605.679 Q143.793 610.262 137.982 610.262 Q132.172 610.262 129.094 605.679 Q126.038 601.072 126.038 592.346 Q126.038 583.596 129.094 579.012 Q132.172 574.406 137.982 574.406 Z\" fill=\"#000000\" fill-rule=\"evenodd\" fill-opacity=\"1\" /><path clip-path=\"url(#clip200)\" d=\"M186.315 584.128 L175.737 594.753 L186.315 605.332 L183.561 608.132 L172.936 597.508 L162.311 608.132 L159.58 605.332 L170.135 594.753 L159.58 584.128 L162.311 581.327 L172.936 591.952 L183.561 581.327 L186.315 584.128 Z\" fill=\"#000000\" fill-rule=\"evenodd\" fill-opacity=\"1\" /><path clip-path=\"url(#clip200)\" d=\"M198.677 605.656 L206.315 605.656 L206.315 579.29 L198.005 580.957 L198.005 576.697 L206.269 575.031 L210.945 575.031 L210.945 605.656 L218.584 605.656 L218.584 609.591 L198.677 609.591 L198.677 605.656 Z\" fill=\"#000000\" fill-rule=\"evenodd\" fill-opacity=\"1\" /><path clip-path=\"url(#clip200)\" d=\"M238.028 578.109 Q234.417 578.109 232.588 581.674 Q230.783 585.216 230.783 592.346 Q230.783 599.452 232.588 603.017 Q234.417 606.558 238.028 606.558 Q241.662 606.558 243.468 603.017 Q245.297 599.452 245.297 592.346 Q245.297 585.216 243.468 581.674 Q241.662 578.109 238.028 578.109 M238.028 574.406 Q243.838 574.406 246.894 579.012 Q249.973 583.596 249.973 592.346 Q249.973 601.072 246.894 605.679 Q243.838 610.262 238.028 610.262 Q232.218 610.262 229.139 605.679 Q226.084 601.072 226.084 592.346 Q226.084 583.596 229.139 579.012 Q232.218 574.406 238.028 574.406 Z\" fill=\"#000000\" fill-rule=\"evenodd\" fill-opacity=\"1\" /><path clip-path=\"url(#clip200)\" d=\"M262.649 557.411 L253.057 572.4 L262.649 572.4 L262.649 557.411 M261.652 554.1 L266.429 554.1 L266.429 572.4 L270.435 572.4 L270.435 575.56 L266.429 575.56 L266.429 582.18 L262.649 582.18 L262.649 575.56 L249.973 575.56 L249.973 571.893 L261.652 554.1 Z\" fill=\"#000000\" fill-rule=\"evenodd\" fill-opacity=\"1\" /><path clip-path=\"url(#clip200)\" d=\"M55.6941 319.038 L63.3329 319.038 L63.3329 292.673 L55.0228 294.339 L55.0228 290.08 L63.2866 288.413 L67.9625 288.413 L67.9625 319.038 L75.6014 319.038 L75.6014 322.973 L55.6941 322.973 L55.6941 319.038 Z\" fill=\"#000000\" fill-rule=\"evenodd\" fill-opacity=\"1\" /><path clip-path=\"url(#clip200)\" d=\"M85.0458 317.094 L89.93 317.094 L89.93 322.973 L85.0458 322.973 L85.0458 317.094 Z\" fill=\"#000000\" fill-rule=\"evenodd\" fill-opacity=\"1\" /><path clip-path=\"url(#clip200)\" d=\"M110.115 291.492 Q106.504 291.492 104.675 295.057 Q102.87 298.598 102.87 305.728 Q102.87 312.834 104.675 316.399 Q106.504 319.941 110.115 319.941 Q113.749 319.941 115.555 316.399 Q117.384 312.834 117.384 305.728 Q117.384 298.598 115.555 295.057 Q113.749 291.492 110.115 291.492 M110.115 287.788 Q115.925 287.788 118.981 292.395 Q122.059 296.978 122.059 305.728 Q122.059 314.455 118.981 319.061 Q115.925 323.645 110.115 323.645 Q104.305 323.645 101.226 319.061 Q98.1707 314.455 98.1707 305.728 Q98.1707 296.978 101.226 292.395 Q104.305 287.788 110.115 287.788 Z\" fill=\"#000000\" fill-rule=\"evenodd\" fill-opacity=\"1\" /><path clip-path=\"url(#clip200)\" d=\"M140.277 291.492 Q136.666 291.492 134.837 295.057 Q133.032 298.598 133.032 305.728 Q133.032 312.834 134.837 316.399 Q136.666 319.941 140.277 319.941 Q143.911 319.941 145.717 316.399 Q147.545 312.834 147.545 305.728 Q147.545 298.598 145.717 295.057 Q143.911 291.492 140.277 291.492 M140.277 287.788 Q146.087 287.788 149.143 292.395 Q152.221 296.978 152.221 305.728 Q152.221 314.455 149.143 319.061 Q146.087 323.645 140.277 323.645 Q134.467 323.645 131.388 319.061 Q128.333 314.455 128.333 305.728 Q128.333 296.978 131.388 292.395 Q134.467 287.788 140.277 287.788 Z\" fill=\"#000000\" fill-rule=\"evenodd\" fill-opacity=\"1\" /><path clip-path=\"url(#clip200)\" d=\"M188.61 297.51 L178.031 308.135 L188.61 318.714 L185.855 321.515 L175.23 310.89 L164.606 321.515 L161.874 318.714 L172.43 308.135 L161.874 297.51 L164.606 294.71 L175.23 305.335 L185.855 294.71 L188.61 297.51 Z\" fill=\"#000000\" fill-rule=\"evenodd\" fill-opacity=\"1\" /><path clip-path=\"url(#clip200)\" d=\"M200.971 319.038 L208.61 319.038 L208.61 292.673 L200.3 294.339 L200.3 290.08 L208.564 288.413 L213.24 288.413 L213.24 319.038 L220.878 319.038 L220.878 322.973 L200.971 322.973 L200.971 319.038 Z\" fill=\"#000000\" fill-rule=\"evenodd\" fill-opacity=\"1\" /><path clip-path=\"url(#clip200)\" d=\"M240.323 291.492 Q236.712 291.492 234.883 295.057 Q233.077 298.598 233.077 305.728 Q233.077 312.834 234.883 316.399 Q236.712 319.941 240.323 319.941 Q243.957 319.941 245.762 316.399 Q247.591 312.834 247.591 305.728 Q247.591 298.598 245.762 295.057 Q243.957 291.492 240.323 291.492 M240.323 287.788 Q246.133 287.788 249.188 292.395 Q252.267 296.978 252.267 305.728 Q252.267 314.455 249.188 319.061 Q246.133 323.645 240.323 323.645 Q234.513 323.645 231.434 319.061 Q228.378 314.455 228.378 305.728 Q228.378 296.978 231.434 292.395 Q234.513 287.788 240.323 287.788 Z\" fill=\"#000000\" fill-rule=\"evenodd\" fill-opacity=\"1\" /><path clip-path=\"url(#clip200)\" d=\"M253.452 267.483 L268.367 267.483 L268.367 270.68 L256.931 270.68 L256.931 277.564 Q257.759 277.282 258.586 277.15 Q259.414 277 260.242 277 Q264.944 277 267.689 279.576 Q270.435 282.153 270.435 286.554 Q270.435 291.087 267.614 293.607 Q264.793 296.108 259.659 296.108 Q257.891 296.108 256.047 295.807 Q254.223 295.506 252.267 294.905 L252.267 291.087 Q253.96 292.008 255.765 292.46 Q257.571 292.911 259.583 292.911 Q262.837 292.911 264.737 291.2 Q266.636 289.488 266.636 286.554 Q266.636 283.62 264.737 281.908 Q262.837 280.197 259.583 280.197 Q258.06 280.197 256.536 280.535 Q255.032 280.874 253.452 281.589 L253.452 267.483 Z\" fill=\"#000000\" fill-rule=\"evenodd\" fill-opacity=\"1\" /><path clip-path=\"url(#clip202)\" d=\"\n",
       "M418.987 708.958 L418.987 1445.72 L722.523 1445.72 L722.523 708.958 L418.987 708.958 L418.987 708.958  Z\n",
       "  \" fill=\"#009af9\" fill-rule=\"evenodd\" fill-opacity=\"1\"/>\n",
       "<polyline clip-path=\"url(#clip202)\" style=\"stroke:#000000; stroke-linecap:butt; stroke-linejoin:round; stroke-width:4; stroke-opacity:1; fill:none\" points=\"\n",
       "  418.987,708.958 418.987,1445.72 722.523,1445.72 722.523,708.958 418.987,708.958 \n",
       "  \"/>\n",
       "<path clip-path=\"url(#clip202)\" d=\"\n",
       "M798.407 472.861 L798.407 1445.72 L1101.94 1445.72 L1101.94 472.861 L798.407 472.861 L798.407 472.861  Z\n",
       "  \" fill=\"#009af9\" fill-rule=\"evenodd\" fill-opacity=\"1\"/>\n",
       "<polyline clip-path=\"url(#clip202)\" style=\"stroke:#000000; stroke-linecap:butt; stroke-linejoin:round; stroke-width:4; stroke-opacity:1; fill:none\" points=\"\n",
       "  798.407,472.861 798.407,1445.72 1101.94,1445.72 1101.94,472.861 798.407,472.861 \n",
       "  \"/>\n",
       "<path clip-path=\"url(#clip202)\" d=\"\n",
       "M1177.83 1316.9 L1177.83 1445.72 L1481.36 1445.72 L1481.36 1316.9 L1177.83 1316.9 L1177.83 1316.9  Z\n",
       "  \" fill=\"#009af9\" fill-rule=\"evenodd\" fill-opacity=\"1\"/>\n",
       "<polyline clip-path=\"url(#clip202)\" style=\"stroke:#000000; stroke-linecap:butt; stroke-linejoin:round; stroke-width:4; stroke-opacity:1; fill:none\" points=\"\n",
       "  1177.83,1316.9 1177.83,1445.72 1481.36,1445.72 1481.36,1316.9 1177.83,1316.9 \n",
       "  \"/>\n",
       "<path clip-path=\"url(#clip202)\" d=\"\n",
       "M1557.25 1441.78 L1557.25 1445.72 L1860.78 1445.72 L1860.78 1441.78 L1557.25 1441.78 L1557.25 1441.78  Z\n",
       "  \" fill=\"#009af9\" fill-rule=\"evenodd\" fill-opacity=\"1\"/>\n",
       "<polyline clip-path=\"url(#clip202)\" style=\"stroke:#000000; stroke-linecap:butt; stroke-linejoin:round; stroke-width:4; stroke-opacity:1; fill:none\" points=\"\n",
       "  1557.25,1441.78 1557.25,1445.72 1860.78,1445.72 1860.78,1441.78 1557.25,1441.78 \n",
       "  \"/>\n",
       "<path clip-path=\"url(#clip202)\" d=\"\n",
       "M1936.67 87.9763 L1936.67 1445.72 L2240.2 1445.72 L2240.2 87.9763 L1936.67 87.9763 L1936.67 87.9763  Z\n",
       "  \" fill=\"#009af9\" fill-rule=\"evenodd\" fill-opacity=\"1\"/>\n",
       "<polyline clip-path=\"url(#clip202)\" style=\"stroke:#000000; stroke-linecap:butt; stroke-linejoin:round; stroke-width:4; stroke-opacity:1; fill:none\" points=\"\n",
       "  1936.67,87.9763 1936.67,1445.72 2240.2,1445.72 2240.2,87.9763 1936.67,87.9763 \n",
       "  \"/>\n",
       "<circle clip-path=\"url(#clip202)\" style=\"fill:#009af9; stroke:none; fill-opacity:0\" cx=\"570.755\" cy=\"708.958\" r=\"2\"/>\n",
       "<circle clip-path=\"url(#clip202)\" style=\"fill:#009af9; stroke:none; fill-opacity:0\" cx=\"950.175\" cy=\"472.861\" r=\"2\"/>\n",
       "<circle clip-path=\"url(#clip202)\" style=\"fill:#009af9; stroke:none; fill-opacity:0\" cx=\"1329.6\" cy=\"1316.9\" r=\"2\"/>\n",
       "<circle clip-path=\"url(#clip202)\" style=\"fill:#009af9; stroke:none; fill-opacity:0\" cx=\"1709.02\" cy=\"1441.78\" r=\"2\"/>\n",
       "<circle clip-path=\"url(#clip202)\" style=\"fill:#009af9; stroke:none; fill-opacity:0\" cx=\"2088.44\" cy=\"87.9763\" r=\"2\"/>\n",
       "<path clip-path=\"url(#clip200)\" d=\"\n",
       "M2004.75 198.898 L2284.55 198.898 L2284.55 95.2176 L2004.75 95.2176  Z\n",
       "  \" fill=\"#ffffff\" fill-rule=\"evenodd\" fill-opacity=\"1\"/>\n",
       "<polyline clip-path=\"url(#clip200)\" style=\"stroke:#000000; stroke-linecap:butt; stroke-linejoin:round; stroke-width:4; stroke-opacity:1; fill:none\" points=\"\n",
       "  2004.75,198.898 2284.55,198.898 2284.55,95.2176 2004.75,95.2176 2004.75,198.898 \n",
       "  \"/>\n",
       "<path clip-path=\"url(#clip200)\" d=\"\n",
       "M2027.48 167.794 L2163.9 167.794 L2163.9 126.322 L2027.48 126.322 L2027.48 167.794  Z\n",
       "  \" fill=\"#009af9\" fill-rule=\"evenodd\" fill-opacity=\"1\"/>\n",
       "<polyline clip-path=\"url(#clip200)\" style=\"stroke:#000000; stroke-linecap:butt; stroke-linejoin:round; stroke-width:4; stroke-opacity:1; fill:none\" points=\"\n",
       "  2027.48,167.794 2163.9,167.794 2163.9,126.322 2027.48,126.322 2027.48,167.794 \n",
       "  \"/>\n",
       "<path clip-path=\"url(#clip200)\" d=\"M2200.48 166.745 Q2198.68 171.375 2196.97 172.787 Q2195.25 174.199 2192.38 174.199 L2188.98 174.199 L2188.98 170.634 L2191.48 170.634 Q2193.24 170.634 2194.21 169.8 Q2195.18 168.967 2196.36 165.865 L2197.13 163.921 L2186.64 138.412 L2191.16 138.412 L2199.26 158.689 L2207.36 138.412 L2211.87 138.412 L2200.48 166.745 Z\" fill=\"#000000\" fill-rule=\"evenodd\" fill-opacity=\"1\" /><path clip-path=\"url(#clip200)\" d=\"M2219.16 160.402 L2226.8 160.402 L2226.8 134.037 L2218.49 135.703 L2218.49 131.444 L2226.76 129.778 L2231.43 129.778 L2231.43 160.402 L2239.07 160.402 L2239.07 164.338 L2219.16 164.338 L2219.16 160.402 Z\" fill=\"#000000\" fill-rule=\"evenodd\" fill-opacity=\"1\" /></svg>\n"
      ]
     },
     "metadata": {},
     "output_type": "display_data"
    }
   ],
   "source": [
    "bar(names(dfw),collect(dfw[1,:]))"
   ]
  },
  {
   "cell_type": "markdown",
   "metadata": {},
   "source": [
    "Bar charts, seen often in the popular press, are a common visual tool for displaying a single categorical variable. \n",
    "\n",
    "Categories are listed on the x-axis, and frequencies or proportions on the y-axis. Figure 1-5 shows the airport delays per year by cause for Dallas/Fort Worth (DFW), and it is produced with the R function"
   ]
  },
  {
   "cell_type": "markdown",
   "metadata": {},
   "source": [
    "Note that a bar chart resembles a histogram; in a bar chart the x-axis represents different categories of a factor variable, while in a histogram the x-axis represents values of a single variable on a numeric scale. In a histogram, the bars are typically shown touching each other, with gaps indicating values that did not occur in the data. In a bar chart, the bars are shown separate from one another.\n",
    "\n",
    "Pie charts are an alternative to bar charts, although statisticians and data visualization experts generally eschew pie charts as less visually informative (see [Few-2007])."
   ]
  },
  {
   "cell_type": "markdown",
   "metadata": {},
   "source": [
    "## Mode\n",
    "The mode is the value—or values in case of a tie—that appears most often in the data. For example, the mode of the cause of delay at Dallas/Fort Worth airport is “Inbound.” As another example, in most parts of the United States, the mode for religious preference would be Christian. The mode is a simple summary statistic for categorical data, and it is generally not used for numeric data."
   ]
  },
  {
   "cell_type": "markdown",
   "metadata": {},
   "source": [
    "## Expected Value\n",
    "A special type of categorical data is data in which the categories represent or can be mapped to discrete values on the same scale. A marketer for a new cloud technology, for example, offers two levels of service, one priced at $300/month and another at $50/month. The marketer offers free webinars to generate leads, and the firm figures that 5% of the attendees will sign up for the $300 service, 15% will sign up for the $50 service, and 80% will not sign up for anything. This data can be summed up, for financial purposes, in a single “expected value,” which is a form of weighted mean, in which the weights are probabilities.\n",
    "\n",
    "The expected value is calculated as follows:\n",
    "\n",
    "Multiply each outcome by its probability of occurrence.\n",
    "\n",
    "Sum these values.\n",
    "\n",
    "In the cloud service example, the expected value of a webinar attendee is thus $22.50 per month, calculated as follows:\n",
    "\n",
    "The expected value is really a form of weighted mean: it adds the ideas of future expectations and probability weights, often based on subjective judgment. Expected value is a fundamental concept in business valuation and capital budgeting—for example, the expected value of five years of profits from a new acquisition, or the expected cost savings from new patient management software at a clinic."
   ]
  },
  {
   "cell_type": "markdown",
   "metadata": {},
   "source": [
    "## Probability\n",
    "We referred above to the probability of a value occurring. Most people have an intuitive understanding of probability, encountering the concept frequently in weather forecasts (the chance of rain) or sports analysis (the probability of winning). Sports and games are more often expressed as odds, which are readily convertible to probabilities (if the odds that a team will win are 2 to 1, its probability of winning is 2/(2+1) = 2/3). Surprisingly, though, the concept of probability can be the source of deep philosophical discussion when it comes to defining it. Fortunately, we do not need a formal mathematical or philosophical definition here. For our purposes, the probability that an event will happen is the proportion of times it will occur if the situation could be repeated over and over, countless times. Most often this is an imaginary construction, but it is an adequate operational understanding of probability."
   ]
  },
  {
   "cell_type": "markdown",
   "metadata": {},
   "source": [
    "## KEY IDEAS\n",
    "Categorical data is typically summed up in proportions and can be visualized in a bar chart.\n",
    "\n",
    "Categories might represent distinct things (apples and oranges, male and female), levels of a factor variable (low, medium, and high), or numeric data that has been binned.\n",
    "\n",
    "Expected value is the sum of values times their probability of occurrence, often used to sum up factor variable levels."
   ]
  },
  {
   "cell_type": "markdown",
   "metadata": {},
   "source": [
    "# Correlation\n",
    "Exploratory data analysis in many modeling projects (whether in data science or in research) involves examining correlation among predictors, and between predictors and a target variable. \n",
    "\n",
    "Variables X and Y (each with measured data) are said to be positively correlated if high values of X go with high values of Y, and low values of X go with low values of Y. If high values of X go with low values of Y, and vice versa, the variables are negatively correlated."
   ]
  },
  {
   "cell_type": "markdown",
   "metadata": {},
   "source": [
    "## KEY TERMS FOR CORRELATION\n",
    "__Correlation coefficient__\n",
    "A metric that measures the extent to which numeric variables are associated with one another (ranges from –1 to +1).\n",
    "\n",
    "__Correlation matrix__\n",
    "A table where the variables are shown on both rows and columns, and the cell values are the correlations between the variables.\n",
    "\n",
    "__Scatterplot__\n",
    "A plot in which the x-axis is the value of one variable, and the y-axis the value of another."
   ]
  },
  {
   "cell_type": "markdown",
   "metadata": {},
   "source": [
    "Consider these two variables, perfectly correlated in the sense that each goes from low to high:\n",
    "\n",
    "v1: {1, 2, 3}\n",
    "v2: {4, 5, 6}\n",
    "\n",
    "The vector sum of products is 1·4+2·5+3·6=32. Now try shuffling one of them and recalculating—the vector sum of products will never be higher than 32. So this sum of products could be used as a metric; that is, the observed sum of 32 could be compared to lots of random shufflings (in fact, this idea relates to a resampling-based estimate; see “Permutation Test”). Values produced by this metric, though, are not that meaningful, except by reference to the resampling distribution.\n",
    "\n",
    "More useful is a standardized variant: the correlation coefficient, which gives an estimate of the correlation between two variables that always lies on the same scale. To compute Pearson’s correlation coefficient, we multiply deviations from the mean for variable 1 times those for variable 2, and divide by the product of the standard deviations:\n",
    "\n",
    "r=∑i=1n(xi-x¯)(yi-y¯)(n-1)sxsy\n",
    "Note that we divide by n – 1 instead of n; see “Degrees of Freedom, and n or n – 1?” for more details. The correlation coefficient always lies between +1 (perfect positive correlation) and –1 (perfect negative correlation); 0 indicates no correlation.\n",
    "\n",
    "Variables can have an association that is not linear, in which case the correlation coefficient may not be a useful metric. The relationship between tax rates and revenue raised is an example: as tax rates increase from zero, the revenue raised also increases. However, once tax rates reach a high level and approach 100%, tax avoidance increases and tax revenue actually declines.\n",
    "\n",
    "Table 1-7, called a correlation matrix, shows the correlation between the daily returns for telecommunication stocks from July 2012 through June 2015. From the table, you can see that Verizon (VZ) and ATT (T) have the highest correlation. Level 3 (LVLT), which is an infrastructure company, has the lowest correlation with the others. Note the diagonal of 1s (the correlation of a stock with itself is 1) and the redundancy of the information above and below the diagonal."
   ]
  },
  {
   "cell_type": "markdown",
   "metadata": {},
   "source": [
    "A table of correlations like Table 1-7 is commonly plotted to visually display the relationship between multiple variables. Figure 1-6 shows the correlation between the daily returns for major exchange-traded funds (ETFs). In R, we can easily create this using the package corrplot:"
   ]
  },
  {
   "cell_type": "markdown",
   "metadata": {},
   "source": []
  }
 ],
 "metadata": {
  "kernelspec": {
   "display_name": "Julia 1.7.2",
   "language": "julia",
   "name": "julia-1.7"
  },
  "language_info": {
   "file_extension": ".jl",
   "mimetype": "application/julia",
   "name": "julia",
   "version": "1.7.2"
  },
  "orig_nbformat": 4
 },
 "nbformat": 4,
 "nbformat_minor": 2
}
