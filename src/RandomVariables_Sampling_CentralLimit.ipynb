{
 "cells": [
  {
   "attachments": {},
   "cell_type": "markdown",
   "metadata": {},
   "source": [
    "# Section 3 introduces you to Random Variables, Sampling Models, and the Central Limit Theorem.\n",
    "\n",
    "Section 3 is divided into two parts:\n",
    "\n",
    "Random Variables and Sampling Models\n",
    "The Central Limit Theorem.\n",
    "After completing Section 3, you will:\n",
    "\n",
    "understand what random variables are, how to generate them, and the correct mathematical notation to use with them.\n",
    "be able to use sampling models to estimate characteristics of a larger population.\n",
    "be able to explain the difference between a distribution and a probability distribution.\n",
    "understand the Central Limit Theorem and the law of large numbers."
   ]
  },
  {
   "cell_type": "code",
   "execution_count": 1,
   "metadata": {},
   "outputs": [],
   "source": [
    "using StatsBase\n",
    "using Plots\n",
    "using StatsPlots"
   ]
  },
  {
   "attachments": {},
   "cell_type": "markdown",
   "metadata": {},
   "source": [
    "Being able to quantify the uncertainty introduced by randomness\n",
    "is one of the most important jobs of a data scientist.\n"
   ]
  },
  {
   "attachments": {},
   "cell_type": "markdown",
   "metadata": {},
   "source": [
    " Many data-generation procedures,\n",
    "those that produce data that we study, can be modeled\n",
    "quite well as draws from an urn.\n",
    "For example, we can model the process of polling likely voters as drawing 0's--\n",
    "Republicans-- and 1's--\n",
    "Democrats-- from an urn containing the 0 and 1 code for all likely voters.\n",
    "We'll see that in more detail later.\n",
    "In epidemiological studies, we often assume that the subjects in our study\n",
    "are a random sample from the population of interest.\n",
    "The data related to a specific outcome can be modeled as a random sample\n",
    "from an urn containing the values for those outcomes\n",
    "for the entire population of interest.\n",
    "Similarly, in experimental research, we often assume that the individual\n",
    "organisms we are studying-- for example, worms, flies, or mice--\n",
    "are a random sample from a larger population.\n",
    "Randomized experiments can also be modeled by draws from urn,\n",
    "given the way individuals are assigned to groups.\n",
    "When getting assigned, you draw your group at random.\n",
    "Sampling models are therefore ubiquitous in data science.\n",
    "Casino games offer a plethora of examples of real-world situations\n",
    "in which sampling models are used to answer specific questions.\n",
    "We will therefore start with such examples.\n"
   ]
  },
  {
   "attachments": {},
   "cell_type": "markdown",
   "metadata": {},
   "source": [
    "## roulette wheel."
   ]
  },
  {
   "attachments": {},
   "cell_type": "markdown",
   "metadata": {},
   "source": [
    "OK, let's start with this.\n",
    "Suppose a very small casino hires you to consult on\n",
    "whether they should set up a roulette wheel.\n",
    "They want to know if they can make money off it, or if it's too risky\n",
    "and they might lose.\n",
    "To keep the example simple, we will assume that 1,000 people will play,\n",
    "and that the only game you can play is to bet on red or black.\n",
    "The casino wants to predict how much money they will make or lose.\n",
    "They want a range of values that are possible,\n",
    "and in particular, they want to know, what is the chance of losing money?\n",
    "If this probability is too high, they will\n",
    "pass on installing roulette wheels, since they\n",
    "can't take the risk, given that they need to pay their employees\n",
    "and keep the lights on.\n",
    "We're going to define a random variable, capital S, that will\n",
    "represent the casino's total winnings.\n",
    "Let's start by constructing the urn, the urn we use for our sampling model.\n",
    "A roulette wheel has 18 red pockets, 18 black pockets, and 2 green ones.\n",
    "So playing a color in one game of roulette\n",
    "is equivalent to drawing from this urn."
   ]
  },
  {
   "cell_type": "code",
   "execution_count": 2,
   "metadata": {},
   "outputs": [
    {
     "data": {
      "text/plain": [
       "38-element Vector{String}:\n",
       " \"red\"\n",
       " \"red\"\n",
       " \"red\"\n",
       " \"red\"\n",
       " \"red\"\n",
       " \"red\"\n",
       " \"red\"\n",
       " \"red\"\n",
       " \"red\"\n",
       " \"red\"\n",
       " ⋮\n",
       " \"black\"\n",
       " \"black\"\n",
       " \"black\"\n",
       " \"black\"\n",
       " \"black\"\n",
       " \"black\"\n",
       " \"black\"\n",
       " \"green\"\n",
       " \"green\""
      ]
     },
     "metadata": {},
     "output_type": "display_data"
    }
   ],
   "source": [
    "# construct an Urn corresponding to the colors in the wheel.\n",
    "# The urn will have 18 red balls, 18 black balls, 2 green balls\n",
    "# We will use a vector to represent the Urn\n",
    "\n",
    "red = fill(\"red\", 18) # 18 red balls\n",
    "black = fill(\"black\", 18) # 18 black balls\n",
    "green = fill(\"green\", 2) # 2 green balls\n",
    "urn = vcat(red, black, green) # concatenate the vectors"
   ]
  },
  {
   "cell_type": "code",
   "execution_count": 3,
   "metadata": {},
   "outputs": [
    {
     "data": {
      "text/plain": [
       "@rep"
      ]
     },
     "metadata": {},
     "output_type": "display_data"
    }
   ],
   "source": [
    "\"\"\"\n",
    "    rep(items:: Any, counts:: Any)\n",
    "\n",
    "Build a sample vector based on a specific pattern. This function repeats each item in the 'items' array \n",
    "according to the corresponding count in the 'counts' array.\n",
    "\n",
    "# Arguments\n",
    "- `items:: Any`: An array of items that need to be repeated.\n",
    "- `counts:: Any`: An array of counts specifying how many times each item in 'items' should be repeated.\n",
    "\n",
    "# Returns\n",
    "- `Array{Any, 1}`: An array that contains the repeated items according to the specified pattern.\n",
    "\n",
    "# Examples\n",
    "```julia-repl\n",
    "julia> rep([\"red\", \"black\", \"green\"], [18, 18, 2])\n",
    "```\n",
    "38-element Array{String,1}:\n",
    " \"red\"\n",
    " \"red\"\n",
    " ⋮\n",
    " \"green\"\n",
    " \"green\"\n",
    "\"\"\"\n",
    "function rep(items:: Any, counts)\n",
    "    vcat([fill(items[i], counts[i]) for i in 1:length(items)]...)\n",
    "end\n",
    "\n",
    "\n",
    "\"\"\"\n",
    "    @rep items counts\n",
    "\n",
    "A macro to call the `rep` function. This macro simplifies the syntax needed to call the `rep` function. \n",
    "\n",
    "# Arguments\n",
    "- `items`: An array of items that need to be repeated.\n",
    "- `counts`: An array of counts specifying how many times each item in 'items' should be repeated.\n",
    "\n",
    "# Returns\n",
    "- `Array{Any, 1}`: An array that contains the repeated items according to the specified pattern.\n",
    "\n",
    "# Examples\n",
    "```julia-repl\n",
    "julia> @rep [\"red\", \"black\", \"green\"] [18, 18, 2]\n",
    "38-element Array{String,1}:\n",
    " \"red\"\n",
    " \"red\"\n",
    " ⋮\n",
    " \"green\"\n",
    " \"green\"\n",
    " ```\n",
    "\"\"\"\n",
    "macro rep(items, counts)\n",
    "    quote\n",
    "        rep($items, $counts)\n",
    "    end\n",
    "end\n",
    "\n",
    "\n"
   ]
  },
  {
   "cell_type": "code",
   "execution_count": 4,
   "metadata": {},
   "outputs": [
    {
     "data": {
      "text/plain": [
       "38-element Vector{String}:\n",
       " \"red\"\n",
       " \"red\"\n",
       " \"red\"\n",
       " \"red\"\n",
       " \"red\"\n",
       " \"red\"\n",
       " \"red\"\n",
       " \"red\"\n",
       " \"red\"\n",
       " \"red\"\n",
       " ⋮\n",
       " \"black\"\n",
       " \"black\"\n",
       " \"black\"\n",
       " \"black\"\n",
       " \"black\"\n",
       " \"black\"\n",
       " \"black\"\n",
       " \"green\"\n",
       " \"green\""
      ]
     },
     "metadata": {},
     "output_type": "display_data"
    }
   ],
   "source": [
    "color = @rep [\"red\", \"black\", \"green\"] [18, 18, 2]"
   ]
  },
  {
   "attachments": {},
   "cell_type": "markdown",
   "metadata": {},
   "source": [
    "The 1,000 outcomes from 1,000 people playing\n",
    "are independent draws from this urn.\n",
    "If red comes up, the gambler wins, and the casino loses $1,\n",
    "so we draw a negative 1.\n",
    "Otherwise, the casino wins $1, and we draw a 1.\n",
    "We can code 1,000 independent draws using the following code."
   ]
  },
  {
   "cell_type": "code",
   "execution_count": 5,
   "metadata": {},
   "outputs": [
    {
     "data": {
      "text/plain": [
       "1000-element Vector{Int64}:\n",
       "  1\n",
       " -1\n",
       "  1\n",
       "  1\n",
       "  1\n",
       " -1\n",
       "  1\n",
       "  1\n",
       " -1\n",
       " -1\n",
       "  ⋮\n",
       " -1\n",
       "  1\n",
       " -1\n",
       "  1\n",
       "  1\n",
       "  1\n",
       " -1\n",
       " -1\n",
       "  1"
      ]
     },
     "metadata": {},
     "output_type": "display_data"
    }
   ],
   "source": [
    "# The 1,000 outcomes from 1,000 people playing\n",
    "# are independent draws from this urn.\n",
    "# If red comes up, the gambler wins, and the casino loses $1,\n",
    "# so we draw a negative 1.\n",
    "# Otherwise, the casino wins $1, and we draw a 1.\n",
    "# We can code 1,000 independent draws using the following code.\n",
    "\n",
    "# 1,000 draws from the color\n",
    "\n",
    "draws = rand(color, 1000);\n",
    "\n",
    "X = [draw == \"red\" ? -1 : 1 for draw in draws]"
   ]
  },
  {
   "cell_type": "code",
   "execution_count": 6,
   "metadata": {},
   "outputs": [
    {
     "data": {
      "text/plain": [
       "0.528"
      ]
     },
     "metadata": {},
     "output_type": "display_data"
    }
   ],
   "source": [
    "# Now we can compute the proportions cassino wins and loses\n",
    "\n",
    "mean(X .== 1) # cassino wins proportions\n"
   ]
  },
  {
   "cell_type": "code",
   "execution_count": 7,
   "metadata": {},
   "outputs": [
    {
     "data": {
      "text/plain": [
       "0.472"
      ]
     },
     "metadata": {},
     "output_type": "display_data"
    }
   ],
   "source": [
    "mean(X .== -1) # cassino loses proportions, this is around 9/19"
   ]
  },
  {
   "cell_type": "code",
   "execution_count": 8,
   "metadata": {},
   "outputs": [
    {
     "data": {
      "text/plain": [
       "1000-element Vector{Int64}:\n",
       " -1\n",
       "  1\n",
       " -1\n",
       "  1\n",
       " -1\n",
       "  1\n",
       "  1\n",
       "  1\n",
       "  1\n",
       "  1\n",
       "  ⋮\n",
       " -1\n",
       "  1\n",
       "  1\n",
       "  1\n",
       "  1\n",
       " -1\n",
       "  1\n",
       " -1\n",
       "  1"
      ]
     },
     "metadata": {},
     "output_type": "display_data"
    }
   ],
   "source": [
    "# Because we know the proportions of 1s and -1s, we can generate the draws with one line of\n",
    "# code, without defining color:\n",
    "\n",
    "X_draws = StatsBase.sample([-1, 1], Weights([9/19, 10/19]), 1000, replace = true)"
   ]
  },
  {
   "attachments": {},
   "cell_type": "markdown",
   "metadata": {},
   "source": [
    "This expression is calling the sample function from the StatsBase package. Here's what each of the arguments is doing:\n",
    "\n",
    "[-1, 1]: This is the collection that we're sampling from. It's an array with two elements: -1 and 1.\n",
    "\n",
    "Weights([9/19, 10/19]): This is specifying the probabilities (or weights) associated with each element in the collection. The Weights function is used to create a Weights object, which the sample function understands. The first element of the array (corresponding to -1) has a weight of 9/19, and the second element (corresponding to 1) has a weight of 10/19. This means that, on average, in a large number of samples, -1 would be chosen 9/19 of the time and 1 would be chosen 10/19 of the time.\n",
    "\n",
    "1000: This is the number of elements to sample. So the function will return an array of 1000 elements, each of which is either -1 or 1.\n",
    "\n",
    "replace = true: This is specifying that we're sampling with replacement. That means that after an element is chosen, it's put back into the collection and could be chosen again. In this case, it means that the same number (-1 or 1) could be chosen multiple times in the 1000 samples.\n",
    "\n",
    "So overall, this expression is generating an array of 1000 elements, where each element is either -1 or 1. The probability of -1 appearing is 9/19, and the probability of 1 appearing is 10/19. The same number could appear multiple times in a row, because we're sampling with replacement."
   ]
  },
  {
   "cell_type": "code",
   "execution_count": 9,
   "metadata": {},
   "outputs": [
    {
     "data": {
      "text/plain": [
       "0.528"
      ]
     },
     "metadata": {},
     "output_type": "display_data"
    }
   ],
   "source": [
    "mean(X_draws .== 1) # cassino wins proportions"
   ]
  },
  {
   "cell_type": "code",
   "execution_count": 10,
   "metadata": {},
   "outputs": [
    {
     "data": {
      "text/plain": [
       "0.472"
      ]
     },
     "metadata": {},
     "output_type": "display_data"
    }
   ],
   "source": [
    "mean(X_draws .== -1) # cassino loses proportions, this is around 9/19"
   ]
  },
  {
   "attachments": {},
   "cell_type": "markdown",
   "metadata": {},
   "source": [
    "We call this a **sampling model** since we are modeling the random behavior of roulette\n",
    "with the sampling of draws from an urn"
   ]
  },
  {
   "attachments": {},
   "cell_type": "markdown",
   "metadata": {},
   "source": [
    "## Probability Distribution of a Random Variable"
   ]
  },
  {
   "cell_type": "code",
   "execution_count": 11,
   "metadata": {},
   "outputs": [
    {
     "data": {
      "text/plain": [
       "56"
      ]
     },
     "metadata": {},
     "output_type": "display_data"
    }
   ],
   "source": [
    "S = sum(X_draws)"
   ]
  },
  {
   "attachments": {},
   "cell_type": "markdown",
   "metadata": {},
   "source": [
    "If you run the code above, you see that S changes every time. This is, of course, because\n",
    "S is a random variable. The probability distribution of a random variable tells us the\n",
    "probability of the observed value falling at any given interval. So, for example, if we want\n",
    "to know the probability that we lose money, we are asking the probability that S is in the\n",
    "interval S < 0.\n",
    "Note that if we can define a cumulative distribution function F(a) = Pr(S ≤ a), then we will\n",
    "be able to answer any question related to the probability of events defined by our random\n",
    "variable S, including the event S < 0. We call this F the random variable’s distribution\n",
    "function.\n",
    "We can estimate the distribution function for the random variable S by using a Monte Carlo\n",
    "simulation to generate many realizations of the random variable. With this code, we run\n",
    "the experiment of having 1,000 people play roulette, over and over, specifically B = 10, 000\n",
    "times:"
   ]
  },
  {
   "cell_type": "code",
   "execution_count": 12,
   "metadata": {},
   "outputs": [
    {
     "data": {
      "text/plain": [
       "30000"
      ]
     },
     "metadata": {},
     "output_type": "display_data"
    }
   ],
   "source": [
    "n = 1000\n",
    "B = 30000\n",
    "\n",
    "\n",
    "\n",
    "\n",
    "\n"
   ]
  },
  {
   "cell_type": "code",
   "execution_count": 13,
   "metadata": {},
   "outputs": [
    {
     "data": {
      "text/plain": [
       "roulette_winnings (generic function with 1 method)"
      ]
     },
     "metadata": {},
     "output_type": "display_data"
    }
   ],
   "source": [
    "roulette_winnings(n) = sum(StatsBase.sample([-1, 1], Weights([9/19, 10/19]), n, replace = true)) "
   ]
  },
  {
   "cell_type": "code",
   "execution_count": 14,
   "metadata": {},
   "outputs": [
    {
     "data": {
      "text/plain": [
       "30000-element Vector{Int64}:\n",
       "  10\n",
       "  54\n",
       "  34\n",
       "  32\n",
       "  80\n",
       "  68\n",
       " 106\n",
       "  48\n",
       "  12\n",
       "  76\n",
       "   ⋮\n",
       "  36\n",
       "  82\n",
       " 112\n",
       " -10\n",
       " -10\n",
       "  64\n",
       "  90\n",
       "  56\n",
       "  82"
      ]
     },
     "metadata": {},
     "output_type": "display_data"
    }
   ],
   "source": [
    "S = [roulette_winnings(n) for _ in 1:B]"
   ]
  },
  {
   "cell_type": "code",
   "execution_count": 15,
   "metadata": {},
   "outputs": [
    {
     "data": {
      "text/plain": [
       "2"
      ]
     },
     "metadata": {},
     "output_type": "display_data"
    }
   ],
   "source": [
    "roulette_winnings(100)"
   ]
  },
  {
   "cell_type": "code",
   "execution_count": 16,
   "metadata": {},
   "outputs": [
    {
     "data": {
      "text/plain": [
       "@replicate"
      ]
     },
     "metadata": {},
     "output_type": "display_data"
    }
   ],
   "source": [
    "\n",
    "\"\"\"\n",
    "    replicate(B, f, args...)\n",
    "\n",
    "Replicate the execution of a function `f` with provided arguments `args...` a specified number of times `B`, \n",
    "returning an array of the results. This is similar to the `replicate` function in R.\n",
    "\n",
    "# Arguments\n",
    "- `B`: The number of times to replicate the function.\n",
    "- `f`: The function to be replicated.\n",
    "- `args...`: The arguments to pass to the function `f`.\n",
    "\n",
    "# Returns\n",
    "- `Array`: An array containing the results of each function call.\n",
    "\n",
    "# Examples\n",
    "```jldoctest\n",
    "julia> replicate(5, rand, 1:6)\n",
    "5-element Array{Int64,1}:\n",
    " 3\n",
    " 6\n",
    " 4\n",
    " 5\n",
    " 2\n",
    " ```\n",
    "\"\"\"\n",
    "function replicate(B, f, args...)\n",
    "    return [f(args...) for _ in 1:B]\n",
    "end\n",
    "\n",
    "\n",
    "\n",
    "\"\"\"\n",
    "@replicate B f(args...)\n",
    "\n",
    "A macro to call the replicate function. This macro simplifies the syntax needed to call the replicate function.\n",
    "\n",
    "Arguments\n",
    "B: The number of times to replicate the function.\n",
    "f: The function to be replicated.\n",
    "args...: The arguments to pass to the function f.\n",
    "Returns\n",
    "Array: An array containing the results of each function call.\n",
    "Examples\n",
    "jldoctest\n",
    "Copy code\n",
    "julia> @replicate 5 rand(1:6)\n",
    "5-element Array{Int64,1}:\n",
    " 1\n",
    " 3\n",
    " 5\n",
    " 2\n",
    " 6\n",
    "\"\"\"\n",
    "macro replicate(B, f, args...)\n",
    "    quote\n",
    "        replicate($B, $f, $args...)\n",
    "    end\n",
    "end\n"
   ]
  },
  {
   "cell_type": "code",
   "execution_count": 17,
   "metadata": {},
   "outputs": [
    {
     "data": {
      "text/plain": [
       "30000-element Vector{Int64}:\n",
       "  50\n",
       " -10\n",
       " 114\n",
       "  68\n",
       "  94\n",
       "  42\n",
       "  54\n",
       "  60\n",
       "  54\n",
       "  88\n",
       "   ⋮\n",
       "  28\n",
       "   2\n",
       " 104\n",
       "  62\n",
       " 108\n",
       " 106\n",
       " -18\n",
       "  82\n",
       "  40"
      ]
     },
     "metadata": {},
     "output_type": "display_data"
    }
   ],
   "source": [
    "S = @replicate 30000 roulette_winnings 1000"
   ]
  },
  {
   "attachments": {},
   "cell_type": "markdown",
   "metadata": {},
   "source": [
    "Now we can ask the following: in our simulations, how often did we get sums less than or\n",
    "equal to a?\n",
    "mean(S <= a)"
   ]
  },
  {
   "attachments": {},
   "cell_type": "markdown",
   "metadata": {},
   "source": [
    "This will be a very good approximation of F(a) and we can easily answer the casino’s\n",
    "question: how likely is it that we will lose money? We can see it is quite low:"
   ]
  },
  {
   "cell_type": "code",
   "execution_count": 18,
   "metadata": {},
   "outputs": [
    {
     "data": {
      "text/plain": [
       "0.04423333333333333"
      ]
     },
     "metadata": {},
     "output_type": "display_data"
    }
   ],
   "source": [
    "mean(S .< 0.00)"
   ]
  },
  {
   "attachments": {},
   "cell_type": "markdown",
   "metadata": {},
   "source": [
    "We can visualize the distribution of S by creating a histogram showing the probability\n",
    "F(b) − F(a) for several intervals (a, b]:\n"
   ]
  },
  {
   "cell_type": "code",
   "execution_count": 19,
   "metadata": {},
   "outputs": [
    {
     "data": {
      "image/png": "[encoded data removed]",
      "image/svg+xml": [
       "<?xml version=\"1.0\" encoding=\"utf-8\"?>\n",
       "<svg xmlns=\"http://www.w3.org/2000/svg\" xmlns:xlink=\"http://www.w3.org/1999/xlink\" width=\"600\" height=\"400\" viewBox=\"0 0 2400 1600\">\n",
       "<defs>\n",
       "  <clipPath id=\"clip670\">\n",
       "    <rect x=\"0\" y=\"0\" width=\"2400\" height=\"1600\"/>\n",
       "  </clipPath>\n",
       "</defs>\n",
       "<path clip-path=\"url(#clip670)\" d=\"M0 1600 L2400 1600 L2400 0 L0 0  Z\" fill=\"#ffffff\" fill-rule=\"evenodd\" fill-opacity=\"1\"/>\n",
       "<defs>\n",
       "  <clipPath id=\"clip671\">\n",
       "    <rect x=\"480\" y=\"0\" width=\"1681\" height=\"1600\"/>\n",
       "  </clipPath>\n",
       "</defs>\n",
       "<path clip-path=\"url(#clip670)\" d=\"M201.019 1486.45 L2352.76 1486.45 L2352.76 47.2441 L201.019 47.2441  Z\" fill=\"#ffffff\" fill-rule=\"evenodd\" fill-opacity=\"1\"/>\n",
       "<defs>\n",
       "  <clipPath id=\"clip672\">\n",
       "    <rect x=\"201\" y=\"47\" width=\"2153\" height=\"1440\"/>\n",
       "  </clipPath>\n",
       "</defs>\n",
       "<polyline clip-path=\"url(#clip672)\" style=\"stroke:#000000; stroke-linecap:round; stroke-linejoin:round; stroke-width:2; stroke-opacity:0.1; fill:none\" points=\"439.059,1486.45 439.059,47.2441 \"/>\n",
       "<polyline clip-path=\"url(#clip672)\" style=\"stroke:#000000; stroke-linecap:round; stroke-linejoin:round; stroke-width:2; stroke-opacity:0.1; fill:none\" points=\"838.025,1486.45 838.025,47.2441 \"/>\n",
       "<polyline clip-path=\"url(#clip672)\" style=\"stroke:#000000; stroke-linecap:round; stroke-linejoin:round; stroke-width:2; stroke-opacity:0.1; fill:none\" points=\"1236.99,1486.45 1236.99,47.2441 \"/>\n",
       "<polyline clip-path=\"url(#clip672)\" style=\"stroke:#000000; stroke-linecap:round; stroke-linejoin:round; stroke-width:2; stroke-opacity:0.1; fill:none\" points=\"1635.96,1486.45 1635.96,47.2441 \"/>\n",
       "<polyline clip-path=\"url(#clip672)\" style=\"stroke:#000000; stroke-linecap:round; stroke-linejoin:round; stroke-width:2; stroke-opacity:0.1; fill:none\" points=\"2034.92,1486.45 2034.92,47.2441 \"/>\n",
       "<polyline clip-path=\"url(#clip670)\" style=\"stroke:#000000; stroke-linecap:round; stroke-linejoin:round; stroke-width:4; stroke-opacity:1; fill:none\" points=\"201.019,1486.45 2352.76,1486.45 \"/>\n",
       "<polyline clip-path=\"url(#clip670)\" style=\"stroke:#000000; stroke-linecap:round; stroke-linejoin:round; stroke-width:4; stroke-opacity:1; fill:none\" points=\"439.059,1486.45 439.059,1467.55 \"/>\n",
       "<polyline clip-path=\"url(#clip670)\" style=\"stroke:#000000; stroke-linecap:round; stroke-linejoin:round; stroke-width:4; stroke-opacity:1; fill:none\" points=\"838.025,1486.45 838.025,1467.55 \"/>\n",
       "<polyline clip-path=\"url(#clip670)\" style=\"stroke:#000000; stroke-linecap:round; stroke-linejoin:round; stroke-width:4; stroke-opacity:1; fill:none\" points=\"1236.99,1486.45 1236.99,1467.55 \"/>\n",
       "<polyline clip-path=\"url(#clip670)\" style=\"stroke:#000000; stroke-linecap:round; stroke-linejoin:round; stroke-width:4; stroke-opacity:1; fill:none\" points=\"1635.96,1486.45 1635.96,1467.55 \"/>\n",
       "<polyline clip-path=\"url(#clip670)\" style=\"stroke:#000000; stroke-linecap:round; stroke-linejoin:round; stroke-width:4; stroke-opacity:1; fill:none\" points=\"2034.92,1486.45 2034.92,1467.55 \"/>\n",
       "<path clip-path=\"url(#clip670)\" d=\"M393.121 1532.02 L422.797 1532.02 L422.797 1535.95 L393.121 1535.95 L393.121 1532.02 Z\" fill=\"#000000\" fill-rule=\"nonzero\" fill-opacity=\"1\" /><path clip-path=\"url(#clip670)\" d=\"M432.936 1514.29 L451.292 1514.29 L451.292 1518.22 L437.218 1518.22 L437.218 1526.7 Q438.237 1526.35 439.255 1526.19 Q440.274 1526 441.292 1526 Q447.079 1526 450.459 1529.17 Q453.839 1532.34 453.839 1537.76 Q453.839 1543.34 450.366 1546.44 Q446.894 1549.52 440.575 1549.52 Q438.399 1549.52 436.13 1549.15 Q433.885 1548.78 431.478 1548.04 L431.478 1543.34 Q433.561 1544.47 435.783 1545.03 Q438.005 1545.58 440.482 1545.58 Q444.487 1545.58 446.825 1543.48 Q449.163 1541.37 449.163 1537.76 Q449.163 1534.15 446.825 1532.04 Q444.487 1529.94 440.482 1529.94 Q438.607 1529.94 436.732 1530.35 Q434.88 1530.77 432.936 1531.65 L432.936 1514.29 Z\" fill=\"#000000\" fill-rule=\"nonzero\" fill-opacity=\"1\" /><path clip-path=\"url(#clip670)\" d=\"M473.051 1517.37 Q469.44 1517.37 467.612 1520.93 Q465.806 1524.47 465.806 1531.6 Q465.806 1538.71 467.612 1542.27 Q469.44 1545.82 473.051 1545.82 Q476.686 1545.82 478.491 1542.27 Q480.32 1538.71 480.32 1531.6 Q480.32 1524.47 478.491 1520.93 Q476.686 1517.37 473.051 1517.37 M473.051 1513.66 Q478.862 1513.66 481.917 1518.27 Q484.996 1522.85 484.996 1531.6 Q484.996 1540.33 481.917 1544.94 Q478.862 1549.52 473.051 1549.52 Q467.241 1549.52 464.163 1544.94 Q461.107 1540.33 461.107 1531.6 Q461.107 1522.85 464.163 1518.27 Q467.241 1513.66 473.051 1513.66 Z\" fill=\"#000000\" fill-rule=\"nonzero\" fill-opacity=\"1\" /><path clip-path=\"url(#clip670)\" d=\"M838.025 1517.37 Q834.414 1517.37 832.585 1520.93 Q830.779 1524.47 830.779 1531.6 Q830.779 1538.71 832.585 1542.27 Q834.414 1545.82 838.025 1545.82 Q841.659 1545.82 843.465 1542.27 Q845.293 1538.71 845.293 1531.6 Q845.293 1524.47 843.465 1520.93 Q841.659 1517.37 838.025 1517.37 M838.025 1513.66 Q843.835 1513.66 846.89 1518.27 Q849.969 1522.85 849.969 1531.6 Q849.969 1540.33 846.89 1544.94 Q843.835 1549.52 838.025 1549.52 Q832.215 1549.52 829.136 1544.94 Q826.08 1540.33 826.08 1531.6 Q826.08 1522.85 829.136 1518.27 Q832.215 1513.66 838.025 1513.66 Z\" fill=\"#000000\" fill-rule=\"nonzero\" fill-opacity=\"1\" /><path clip-path=\"url(#clip670)\" d=\"M1211.69 1514.29 L1230.05 1514.29 L1230.05 1518.22 L1215.97 1518.22 L1215.97 1526.7 Q1216.99 1526.35 1218.01 1526.19 Q1219.03 1526 1220.05 1526 Q1225.83 1526 1229.21 1529.17 Q1232.59 1532.34 1232.59 1537.76 Q1232.59 1543.34 1229.12 1546.44 Q1225.65 1549.52 1219.33 1549.52 Q1217.15 1549.52 1214.88 1549.15 Q1212.64 1548.78 1210.23 1548.04 L1210.23 1543.34 Q1212.32 1544.47 1214.54 1545.03 Q1216.76 1545.58 1219.24 1545.58 Q1223.24 1545.58 1225.58 1543.48 Q1227.92 1541.37 1227.92 1537.76 Q1227.92 1534.15 1225.58 1532.04 Q1223.24 1529.94 1219.24 1529.94 Q1217.36 1529.94 1215.49 1530.35 Q1213.63 1530.77 1211.69 1531.65 L1211.69 1514.29 Z\" fill=\"#000000\" fill-rule=\"nonzero\" fill-opacity=\"1\" /><path clip-path=\"url(#clip670)\" d=\"M1251.81 1517.37 Q1248.19 1517.37 1246.37 1520.93 Q1244.56 1524.47 1244.56 1531.6 Q1244.56 1538.71 1246.37 1542.27 Q1248.19 1545.82 1251.81 1545.82 Q1255.44 1545.82 1257.25 1542.27 Q1259.07 1538.71 1259.07 1531.6 Q1259.07 1524.47 1257.25 1520.93 Q1255.44 1517.37 1251.81 1517.37 M1251.81 1513.66 Q1257.62 1513.66 1260.67 1518.27 Q1263.75 1522.85 1263.75 1531.6 Q1263.75 1540.33 1260.67 1544.94 Q1257.62 1549.52 1251.81 1549.52 Q1246 1549.52 1242.92 1544.94 Q1239.86 1540.33 1239.86 1531.6 Q1239.86 1522.85 1242.92 1518.27 Q1246 1513.66 1251.81 1513.66 Z\" fill=\"#000000\" fill-rule=\"nonzero\" fill-opacity=\"1\" /><path clip-path=\"url(#clip670)\" d=\"M1595.56 1544.91 L1603.2 1544.91 L1603.2 1518.55 L1594.89 1520.21 L1594.89 1515.95 L1603.16 1514.29 L1607.83 1514.29 L1607.83 1544.91 L1615.47 1544.91 L1615.47 1548.85 L1595.56 1548.85 L1595.56 1544.91 Z\" fill=\"#000000\" fill-rule=\"nonzero\" fill-opacity=\"1\" /><path clip-path=\"url(#clip670)\" d=\"M1634.92 1517.37 Q1631.3 1517.37 1629.48 1520.93 Q1627.67 1524.47 1627.67 1531.6 Q1627.67 1538.71 1629.48 1542.27 Q1631.3 1545.82 1634.92 1545.82 Q1638.55 1545.82 1640.36 1542.27 Q1642.18 1538.71 1642.18 1531.6 Q1642.18 1524.47 1640.36 1520.93 Q1638.55 1517.37 1634.92 1517.37 M1634.92 1513.66 Q1640.73 1513.66 1643.78 1518.27 Q1646.86 1522.85 1646.86 1531.6 Q1646.86 1540.33 1643.78 1544.94 Q1640.73 1549.52 1634.92 1549.52 Q1629.11 1549.52 1626.03 1544.94 Q1622.97 1540.33 1622.97 1531.6 Q1622.97 1522.85 1626.03 1518.27 Q1629.11 1513.66 1634.92 1513.66 Z\" fill=\"#000000\" fill-rule=\"nonzero\" fill-opacity=\"1\" /><path clip-path=\"url(#clip670)\" d=\"M1665.08 1517.37 Q1661.47 1517.37 1659.64 1520.93 Q1657.83 1524.47 1657.83 1531.6 Q1657.83 1538.71 1659.64 1542.27 Q1661.47 1545.82 1665.08 1545.82 Q1668.71 1545.82 1670.52 1542.27 Q1672.35 1538.71 1672.35 1531.6 Q1672.35 1524.47 1670.52 1520.93 Q1668.71 1517.37 1665.08 1517.37 M1665.08 1513.66 Q1670.89 1513.66 1673.94 1518.27 Q1677.02 1522.85 1677.02 1531.6 Q1677.02 1540.33 1673.94 1544.94 Q1670.89 1549.52 1665.08 1549.52 Q1659.27 1549.52 1656.19 1544.94 Q1653.13 1540.33 1653.13 1531.6 Q1653.13 1522.85 1656.19 1518.27 Q1659.27 1513.66 1665.08 1513.66 Z\" fill=\"#000000\" fill-rule=\"nonzero\" fill-opacity=\"1\" /><path clip-path=\"url(#clip670)\" d=\"M1994.53 1544.91 L2002.17 1544.91 L2002.17 1518.55 L1993.86 1520.21 L1993.86 1515.95 L2002.12 1514.29 L2006.8 1514.29 L2006.8 1544.91 L2014.44 1544.91 L2014.44 1548.85 L1994.53 1548.85 L1994.53 1544.91 Z\" fill=\"#000000\" fill-rule=\"nonzero\" fill-opacity=\"1\" /><path clip-path=\"url(#clip670)\" d=\"M2023.93 1514.29 L2042.28 1514.29 L2042.28 1518.22 L2028.21 1518.22 L2028.21 1526.7 Q2029.23 1526.35 2030.25 1526.19 Q2031.27 1526 2032.28 1526 Q2038.07 1526 2041.45 1529.17 Q2044.83 1532.34 2044.83 1537.76 Q2044.83 1543.34 2041.36 1546.44 Q2037.89 1549.52 2031.57 1549.52 Q2029.39 1549.52 2027.12 1549.15 Q2024.88 1548.78 2022.47 1548.04 L2022.47 1543.34 Q2024.55 1544.47 2026.78 1545.03 Q2029 1545.58 2031.47 1545.58 Q2035.48 1545.58 2037.82 1543.48 Q2040.15 1541.37 2040.15 1537.76 Q2040.15 1534.15 2037.82 1532.04 Q2035.48 1529.94 2031.47 1529.94 Q2029.6 1529.94 2027.72 1530.35 Q2025.87 1530.77 2023.93 1531.65 L2023.93 1514.29 Z\" fill=\"#000000\" fill-rule=\"nonzero\" fill-opacity=\"1\" /><path clip-path=\"url(#clip670)\" d=\"M2064.04 1517.37 Q2060.43 1517.37 2058.6 1520.93 Q2056.8 1524.47 2056.8 1531.6 Q2056.8 1538.71 2058.6 1542.27 Q2060.43 1545.82 2064.04 1545.82 Q2067.68 1545.82 2069.48 1542.27 Q2071.31 1538.71 2071.31 1531.6 Q2071.31 1524.47 2069.48 1520.93 Q2067.68 1517.37 2064.04 1517.37 M2064.04 1513.66 Q2069.85 1513.66 2072.91 1518.27 Q2075.99 1522.85 2075.99 1531.6 Q2075.99 1540.33 2072.91 1544.94 Q2069.85 1549.52 2064.04 1549.52 Q2058.23 1549.52 2055.15 1544.94 Q2052.1 1540.33 2052.1 1531.6 Q2052.1 1522.85 2055.15 1518.27 Q2058.23 1513.66 2064.04 1513.66 Z\" fill=\"#000000\" fill-rule=\"nonzero\" fill-opacity=\"1\" /><polyline clip-path=\"url(#clip672)\" style=\"stroke:#000000; stroke-linecap:round; stroke-linejoin:round; stroke-width:2; stroke-opacity:0.1; fill:none\" points=\"201.019,1445.72 2352.76,1445.72 \"/>\n",
       "<polyline clip-path=\"url(#clip672)\" style=\"stroke:#000000; stroke-linecap:round; stroke-linejoin:round; stroke-width:2; stroke-opacity:0.1; fill:none\" points=\"201.019,1152.59 2352.76,1152.59 \"/>\n",
       "<polyline clip-path=\"url(#clip672)\" style=\"stroke:#000000; stroke-linecap:round; stroke-linejoin:round; stroke-width:2; stroke-opacity:0.1; fill:none\" points=\"201.019,859.472 2352.76,859.472 \"/>\n",
       "<polyline clip-path=\"url(#clip672)\" style=\"stroke:#000000; stroke-linecap:round; stroke-linejoin:round; stroke-width:2; stroke-opacity:0.1; fill:none\" points=\"201.019,566.351 2352.76,566.351 \"/>\n",
       "<polyline clip-path=\"url(#clip672)\" style=\"stroke:#000000; stroke-linecap:round; stroke-linejoin:round; stroke-width:2; stroke-opacity:0.1; fill:none\" points=\"201.019,273.229 2352.76,273.229 \"/>\n",
       "<polyline clip-path=\"url(#clip670)\" style=\"stroke:#000000; stroke-linecap:round; stroke-linejoin:round; stroke-width:4; stroke-opacity:1; fill:none\" points=\"201.019,1486.45 201.019,47.2441 \"/>\n",
       "<polyline clip-path=\"url(#clip670)\" style=\"stroke:#000000; stroke-linecap:round; stroke-linejoin:round; stroke-width:4; stroke-opacity:1; fill:none\" points=\"201.019,1445.72 219.917,1445.72 \"/>\n",
       "<polyline clip-path=\"url(#clip670)\" style=\"stroke:#000000; stroke-linecap:round; stroke-linejoin:round; stroke-width:4; stroke-opacity:1; fill:none\" points=\"201.019,1152.59 219.917,1152.59 \"/>\n",
       "<polyline clip-path=\"url(#clip670)\" style=\"stroke:#000000; stroke-linecap:round; stroke-linejoin:round; stroke-width:4; stroke-opacity:1; fill:none\" points=\"201.019,859.472 219.917,859.472 \"/>\n",
       "<polyline clip-path=\"url(#clip670)\" style=\"stroke:#000000; stroke-linecap:round; stroke-linejoin:round; stroke-width:4; stroke-opacity:1; fill:none\" points=\"201.019,566.351 219.917,566.351 \"/>\n",
       "<polyline clip-path=\"url(#clip670)\" style=\"stroke:#000000; stroke-linecap:round; stroke-linejoin:round; stroke-width:4; stroke-opacity:1; fill:none\" points=\"201.019,273.229 219.917,273.229 \"/>\n",
       "<path clip-path=\"url(#clip670)\" d=\"M153.075 1431.51 Q149.464 1431.51 147.635 1435.08 Q145.83 1438.62 145.83 1445.75 Q145.83 1452.86 147.635 1456.42 Q149.464 1459.96 153.075 1459.96 Q156.709 1459.96 158.515 1456.42 Q160.343 1452.86 160.343 1445.75 Q160.343 1438.62 158.515 1435.08 Q156.709 1431.51 153.075 1431.51 M153.075 1427.81 Q158.885 1427.81 161.941 1432.42 Q165.019 1437 165.019 1445.75 Q165.019 1454.48 161.941 1459.08 Q158.885 1463.67 153.075 1463.67 Q147.265 1463.67 144.186 1459.08 Q141.131 1454.48 141.131 1445.75 Q141.131 1437 144.186 1432.42 Q147.265 1427.81 153.075 1427.81 Z\" fill=\"#000000\" fill-rule=\"nonzero\" fill-opacity=\"1\" /><path clip-path=\"url(#clip670)\" d=\"M82.7975 1135.31 L101.154 1135.31 L101.154 1139.25 L87.0799 1139.25 L87.0799 1147.72 Q88.0984 1147.37 89.1169 1147.21 Q90.1354 1147.03 91.1539 1147.03 Q96.941 1147.03 100.321 1150.2 Q103.7 1153.37 103.7 1158.79 Q103.7 1164.36 100.228 1167.47 Q96.7558 1170.55 90.4364 1170.55 Q88.2604 1170.55 85.9919 1170.17 Q83.7466 1169.8 81.3392 1169.06 L81.3392 1164.36 Q83.4225 1165.5 85.6447 1166.05 Q87.8669 1166.61 90.3438 1166.61 Q94.3484 1166.61 96.6863 1164.5 Q99.0243 1162.4 99.0243 1158.79 Q99.0243 1155.18 96.6863 1153.07 Q94.3484 1150.96 90.3438 1150.96 Q88.4688 1150.96 86.5938 1151.38 Q84.7419 1151.8 82.7975 1152.68 L82.7975 1135.31 Z\" fill=\"#000000\" fill-rule=\"nonzero\" fill-opacity=\"1\" /><path clip-path=\"url(#clip670)\" d=\"M122.913 1138.39 Q119.302 1138.39 117.473 1141.96 Q115.668 1145.5 115.668 1152.63 Q115.668 1159.74 117.473 1163.3 Q119.302 1166.84 122.913 1166.84 Q126.547 1166.84 128.353 1163.3 Q130.182 1159.74 130.182 1152.63 Q130.182 1145.5 128.353 1141.96 Q126.547 1138.39 122.913 1138.39 M122.913 1134.69 Q128.723 1134.69 131.779 1139.3 Q134.857 1143.88 134.857 1152.63 Q134.857 1161.36 131.779 1165.96 Q128.723 1170.55 122.913 1170.55 Q117.103 1170.55 114.024 1165.96 Q110.969 1161.36 110.969 1152.63 Q110.969 1143.88 114.024 1139.3 Q117.103 1134.69 122.913 1134.69 Z\" fill=\"#000000\" fill-rule=\"nonzero\" fill-opacity=\"1\" /><path clip-path=\"url(#clip670)\" d=\"M153.075 1138.39 Q149.464 1138.39 147.635 1141.96 Q145.83 1145.5 145.83 1152.63 Q145.83 1159.74 147.635 1163.3 Q149.464 1166.84 153.075 1166.84 Q156.709 1166.84 158.515 1163.3 Q160.343 1159.74 160.343 1152.63 Q160.343 1145.5 158.515 1141.96 Q156.709 1138.39 153.075 1138.39 M153.075 1134.69 Q158.885 1134.69 161.941 1139.3 Q165.019 1143.88 165.019 1152.63 Q165.019 1161.36 161.941 1165.96 Q158.885 1170.55 153.075 1170.55 Q147.265 1170.55 144.186 1165.96 Q141.131 1161.36 141.131 1152.63 Q141.131 1143.88 144.186 1139.3 Q147.265 1134.69 153.075 1134.69 Z\" fill=\"#000000\" fill-rule=\"nonzero\" fill-opacity=\"1\" /><path clip-path=\"url(#clip670)\" d=\"M53.3995 872.817 L61.0384 872.817 L61.0384 846.452 L52.7282 848.118 L52.7282 843.859 L60.9921 842.192 L65.668 842.192 L65.668 872.817 L73.3068 872.817 L73.3068 876.752 L53.3995 876.752 L53.3995 872.817 Z\" fill=\"#000000\" fill-rule=\"nonzero\" fill-opacity=\"1\" /><path clip-path=\"url(#clip670)\" d=\"M92.7512 845.271 Q89.1401 845.271 87.3114 848.836 Q85.5058 852.378 85.5058 859.507 Q85.5058 866.614 87.3114 870.178 Q89.1401 873.72 92.7512 873.72 Q96.3854 873.72 98.1909 870.178 Q100.02 866.614 100.02 859.507 Q100.02 852.378 98.1909 848.836 Q96.3854 845.271 92.7512 845.271 M92.7512 841.567 Q98.5613 841.567 101.617 846.174 Q104.696 850.757 104.696 859.507 Q104.696 868.234 101.617 872.84 Q98.5613 877.424 92.7512 877.424 Q86.941 877.424 83.8623 872.84 Q80.8068 868.234 80.8068 859.507 Q80.8068 850.757 83.8623 846.174 Q86.941 841.567 92.7512 841.567 Z\" fill=\"#000000\" fill-rule=\"nonzero\" fill-opacity=\"1\" /><path clip-path=\"url(#clip670)\" d=\"M122.913 845.271 Q119.302 845.271 117.473 848.836 Q115.668 852.378 115.668 859.507 Q115.668 866.614 117.473 870.178 Q119.302 873.72 122.913 873.72 Q126.547 873.72 128.353 870.178 Q130.182 866.614 130.182 859.507 Q130.182 852.378 128.353 848.836 Q126.547 845.271 122.913 845.271 M122.913 841.567 Q128.723 841.567 131.779 846.174 Q134.857 850.757 134.857 859.507 Q134.857 868.234 131.779 872.84 Q128.723 877.424 122.913 877.424 Q117.103 877.424 114.024 872.84 Q110.969 868.234 110.969 859.507 Q110.969 850.757 114.024 846.174 Q117.103 841.567 122.913 841.567 Z\" fill=\"#000000\" fill-rule=\"nonzero\" fill-opacity=\"1\" /><path clip-path=\"url(#clip670)\" d=\"M153.075 845.271 Q149.464 845.271 147.635 848.836 Q145.83 852.378 145.83 859.507 Q145.83 866.614 147.635 870.178 Q149.464 873.72 153.075 873.72 Q156.709 873.72 158.515 870.178 Q160.343 866.614 160.343 859.507 Q160.343 852.378 158.515 848.836 Q156.709 845.271 153.075 845.271 M153.075 841.567 Q158.885 841.567 161.941 846.174 Q165.019 850.757 165.019 859.507 Q165.019 868.234 161.941 872.84 Q158.885 877.424 153.075 877.424 Q147.265 877.424 144.186 872.84 Q141.131 868.234 141.131 859.507 Q141.131 850.757 144.186 846.174 Q147.265 841.567 153.075 841.567 Z\" fill=\"#000000\" fill-rule=\"nonzero\" fill-opacity=\"1\" /><path clip-path=\"url(#clip670)\" d=\"M53.3995 579.696 L61.0384 579.696 L61.0384 553.33 L52.7282 554.997 L52.7282 550.737 L60.9921 549.071 L65.668 549.071 L65.668 579.696 L73.3068 579.696 L73.3068 583.631 L53.3995 583.631 L53.3995 579.696 Z\" fill=\"#000000\" fill-rule=\"nonzero\" fill-opacity=\"1\" /><path clip-path=\"url(#clip670)\" d=\"M82.7975 549.071 L101.154 549.071 L101.154 553.006 L87.0799 553.006 L87.0799 561.478 Q88.0984 561.131 89.1169 560.969 Q90.1354 560.784 91.1539 560.784 Q96.941 560.784 100.321 563.955 Q103.7 567.126 103.7 572.543 Q103.7 578.122 100.228 581.223 Q96.7558 584.302 90.4364 584.302 Q88.2604 584.302 85.9919 583.932 Q83.7466 583.561 81.3392 582.821 L81.3392 578.122 Q83.4225 579.256 85.6447 579.811 Q87.8669 580.367 90.3438 580.367 Q94.3484 580.367 96.6863 578.26 Q99.0243 576.154 99.0243 572.543 Q99.0243 568.932 96.6863 566.825 Q94.3484 564.719 90.3438 564.719 Q88.4688 564.719 86.5938 565.136 Q84.7419 565.552 82.7975 566.432 L82.7975 549.071 Z\" fill=\"#000000\" fill-rule=\"nonzero\" fill-opacity=\"1\" /><path clip-path=\"url(#clip670)\" d=\"M122.913 552.149 Q119.302 552.149 117.473 555.714 Q115.668 559.256 115.668 566.386 Q115.668 573.492 117.473 577.057 Q119.302 580.598 122.913 580.598 Q126.547 580.598 128.353 577.057 Q130.182 573.492 130.182 566.386 Q130.182 559.256 128.353 555.714 Q126.547 552.149 122.913 552.149 M122.913 548.446 Q128.723 548.446 131.779 553.052 Q134.857 557.636 134.857 566.386 Q134.857 575.112 131.779 579.719 Q128.723 584.302 122.913 584.302 Q117.103 584.302 114.024 579.719 Q110.969 575.112 110.969 566.386 Q110.969 557.636 114.024 553.052 Q117.103 548.446 122.913 548.446 Z\" fill=\"#000000\" fill-rule=\"nonzero\" fill-opacity=\"1\" /><path clip-path=\"url(#clip670)\" d=\"M153.075 552.149 Q149.464 552.149 147.635 555.714 Q145.83 559.256 145.83 566.386 Q145.83 573.492 147.635 577.057 Q149.464 580.598 153.075 580.598 Q156.709 580.598 158.515 577.057 Q160.343 573.492 160.343 566.386 Q160.343 559.256 158.515 555.714 Q156.709 552.149 153.075 552.149 M153.075 548.446 Q158.885 548.446 161.941 553.052 Q165.019 557.636 165.019 566.386 Q165.019 575.112 161.941 579.719 Q158.885 584.302 153.075 584.302 Q147.265 584.302 144.186 579.719 Q141.131 575.112 141.131 566.386 Q141.131 557.636 144.186 553.052 Q147.265 548.446 153.075 548.446 Z\" fill=\"#000000\" fill-rule=\"nonzero\" fill-opacity=\"1\" /><path clip-path=\"url(#clip670)\" d=\"M56.6171 286.574 L72.9365 286.574 L72.9365 290.509 L50.9921 290.509 L50.9921 286.574 Q53.6541 283.819 58.2375 279.19 Q62.8439 274.537 64.0245 273.194 Q66.2698 270.671 67.1494 268.935 Q68.0522 267.176 68.0522 265.486 Q68.0522 262.732 66.1078 260.995 Q64.1865 259.259 61.0847 259.259 Q58.8856 259.259 56.4319 260.023 Q54.0014 260.787 51.2236 262.338 L51.2236 257.616 Q54.0477 256.482 56.5014 255.903 Q58.955 255.324 60.9921 255.324 Q66.3624 255.324 69.5568 258.009 Q72.7513 260.694 72.7513 265.185 Q72.7513 267.315 71.9411 269.236 Q71.1541 271.134 69.0476 273.727 Q68.4689 274.398 65.367 277.616 Q62.2652 280.81 56.6171 286.574 Z\" fill=\"#000000\" fill-rule=\"nonzero\" fill-opacity=\"1\" /><path clip-path=\"url(#clip670)\" d=\"M92.7512 259.028 Q89.1401 259.028 87.3114 262.593 Q85.5058 266.134 85.5058 273.264 Q85.5058 280.37 87.3114 283.935 Q89.1401 287.477 92.7512 287.477 Q96.3854 287.477 98.1909 283.935 Q100.02 280.37 100.02 273.264 Q100.02 266.134 98.1909 262.593 Q96.3854 259.028 92.7512 259.028 M92.7512 255.324 Q98.5613 255.324 101.617 259.931 Q104.696 264.514 104.696 273.264 Q104.696 281.991 101.617 286.597 Q98.5613 291.18 92.7512 291.18 Q86.941 291.18 83.8623 286.597 Q80.8068 281.991 80.8068 273.264 Q80.8068 264.514 83.8623 259.931 Q86.941 255.324 92.7512 255.324 Z\" fill=\"#000000\" fill-rule=\"nonzero\" fill-opacity=\"1\" /><path clip-path=\"url(#clip670)\" d=\"M122.913 259.028 Q119.302 259.028 117.473 262.593 Q115.668 266.134 115.668 273.264 Q115.668 280.37 117.473 283.935 Q119.302 287.477 122.913 287.477 Q126.547 287.477 128.353 283.935 Q130.182 280.37 130.182 273.264 Q130.182 266.134 128.353 262.593 Q126.547 259.028 122.913 259.028 M122.913 255.324 Q128.723 255.324 131.779 259.931 Q134.857 264.514 134.857 273.264 Q134.857 281.991 131.779 286.597 Q128.723 291.18 122.913 291.18 Q117.103 291.18 114.024 286.597 Q110.969 281.991 110.969 273.264 Q110.969 264.514 114.024 259.931 Q117.103 255.324 122.913 255.324 Z\" fill=\"#000000\" fill-rule=\"nonzero\" fill-opacity=\"1\" /><path clip-path=\"url(#clip670)\" d=\"M153.075 259.028 Q149.464 259.028 147.635 262.593 Q145.83 266.134 145.83 273.264 Q145.83 280.37 147.635 283.935 Q149.464 287.477 153.075 287.477 Q156.709 287.477 158.515 283.935 Q160.343 280.37 160.343 273.264 Q160.343 266.134 158.515 262.593 Q156.709 259.028 153.075 259.028 M153.075 255.324 Q158.885 255.324 161.941 259.931 Q165.019 264.514 165.019 273.264 Q165.019 281.991 161.941 286.597 Q158.885 291.18 153.075 291.18 Q147.265 291.18 144.186 286.597 Q141.131 281.991 141.131 273.264 Q141.131 264.514 144.186 259.931 Q147.265 255.324 153.075 255.324 Z\" fill=\"#000000\" fill-rule=\"nonzero\" fill-opacity=\"1\" /><path clip-path=\"url(#clip672)\" d=\"M319.369 1443.37 L319.369 1445.72 L359.265 1445.72 L359.265 1443.37 L319.369 1443.37 L319.369 1443.37  Z\" fill=\"#009af9\" fill-rule=\"evenodd\" fill-opacity=\"1\"/>\n",
       "<polyline clip-path=\"url(#clip672)\" style=\"stroke:#000000; stroke-linecap:round; stroke-linejoin:round; stroke-width:4; stroke-opacity:1; fill:none\" points=\"319.369,1443.37 319.369,1445.72 359.265,1445.72 359.265,1443.37 319.369,1443.37 \"/>\n",
       "<path clip-path=\"url(#clip672)\" d=\"M359.265 1444.54 L359.265 1445.72 L399.162 1445.72 L399.162 1444.54 L359.265 1444.54 L359.265 1444.54  Z\" fill=\"#009af9\" fill-rule=\"evenodd\" fill-opacity=\"1\"/>\n",
       "<polyline clip-path=\"url(#clip672)\" style=\"stroke:#000000; stroke-linecap:round; stroke-linejoin:round; stroke-width:4; stroke-opacity:1; fill:none\" points=\"359.265,1444.54 359.265,1445.72 399.162,1445.72 399.162,1444.54 359.265,1444.54 \"/>\n",
       "<path clip-path=\"url(#clip672)\" d=\"M399.162 1444.54 L399.162 1445.72 L439.059 1445.72 L439.059 1444.54 L399.162 1444.54 L399.162 1444.54  Z\" fill=\"#009af9\" fill-rule=\"evenodd\" fill-opacity=\"1\"/>\n",
       "<polyline clip-path=\"url(#clip672)\" style=\"stroke:#000000; stroke-linecap:round; stroke-linejoin:round; stroke-width:4; stroke-opacity:1; fill:none\" points=\"399.162,1444.54 399.162,1445.72 439.059,1445.72 439.059,1444.54 399.162,1444.54 \"/>\n",
       "<path clip-path=\"url(#clip672)\" d=\"M439.059 1436.34 L439.059 1445.72 L478.955 1445.72 L478.955 1436.34 L439.059 1436.34 L439.059 1436.34  Z\" fill=\"#009af9\" fill-rule=\"evenodd\" fill-opacity=\"1\"/>\n",
       "<polyline clip-path=\"url(#clip672)\" style=\"stroke:#000000; stroke-linecap:round; stroke-linejoin:round; stroke-width:4; stroke-opacity:1; fill:none\" points=\"439.059,1436.34 439.059,1445.72 478.955,1445.72 478.955,1436.34 439.059,1436.34 \"/>\n",
       "<path clip-path=\"url(#clip672)\" d=\"M478.955 1438.09 L478.955 1445.72 L518.852 1445.72 L518.852 1438.09 L478.955 1438.09 L478.955 1438.09  Z\" fill=\"#009af9\" fill-rule=\"evenodd\" fill-opacity=\"1\"/>\n",
       "<polyline clip-path=\"url(#clip672)\" style=\"stroke:#000000; stroke-linecap:round; stroke-linejoin:round; stroke-width:4; stroke-opacity:1; fill:none\" points=\"478.955,1438.09 478.955,1445.72 518.852,1445.72 518.852,1438.09 478.955,1438.09 \"/>\n",
       "<path clip-path=\"url(#clip672)\" d=\"M518.852 1425.2 L518.852 1445.72 L558.748 1445.72 L558.748 1425.2 L518.852 1425.2 L518.852 1425.2  Z\" fill=\"#009af9\" fill-rule=\"evenodd\" fill-opacity=\"1\"/>\n",
       "<polyline clip-path=\"url(#clip672)\" style=\"stroke:#000000; stroke-linecap:round; stroke-linejoin:round; stroke-width:4; stroke-opacity:1; fill:none\" points=\"518.852,1425.2 518.852,1445.72 558.748,1445.72 558.748,1425.2 518.852,1425.2 \"/>\n",
       "<path clip-path=\"url(#clip672)\" d=\"M558.748 1415.23 L558.748 1445.72 L598.645 1445.72 L598.645 1415.23 L558.748 1415.23 L558.748 1415.23  Z\" fill=\"#009af9\" fill-rule=\"evenodd\" fill-opacity=\"1\"/>\n",
       "<polyline clip-path=\"url(#clip672)\" style=\"stroke:#000000; stroke-linecap:round; stroke-linejoin:round; stroke-width:4; stroke-opacity:1; fill:none\" points=\"558.748,1415.23 558.748,1445.72 598.645,1445.72 598.645,1415.23 558.748,1415.23 \"/>\n",
       "<path clip-path=\"url(#clip672)\" d=\"M598.645 1392.37 L598.645 1445.72 L638.542 1445.72 L638.542 1392.37 L598.645 1392.37 L598.645 1392.37  Z\" fill=\"#009af9\" fill-rule=\"evenodd\" fill-opacity=\"1\"/>\n",
       "<polyline clip-path=\"url(#clip672)\" style=\"stroke:#000000; stroke-linecap:round; stroke-linejoin:round; stroke-width:4; stroke-opacity:1; fill:none\" points=\"598.645,1392.37 598.645,1445.72 638.542,1445.72 638.542,1392.37 598.645,1392.37 \"/>\n",
       "<path clip-path=\"url(#clip672)\" d=\"M638.542 1398.82 L638.542 1445.72 L678.438 1445.72 L678.438 1398.82 L638.542 1398.82 L638.542 1398.82  Z\" fill=\"#009af9\" fill-rule=\"evenodd\" fill-opacity=\"1\"/>\n",
       "<polyline clip-path=\"url(#clip672)\" style=\"stroke:#000000; stroke-linecap:round; stroke-linejoin:round; stroke-width:4; stroke-opacity:1; fill:none\" points=\"638.542,1398.82 638.542,1445.72 678.438,1445.72 678.438,1398.82 638.542,1398.82 \"/>\n",
       "<path clip-path=\"url(#clip672)\" d=\"M678.438 1334.33 L678.438 1445.72 L718.335 1445.72 L718.335 1334.33 L678.438 1334.33 L678.438 1334.33  Z\" fill=\"#009af9\" fill-rule=\"evenodd\" fill-opacity=\"1\"/>\n",
       "<polyline clip-path=\"url(#clip672)\" style=\"stroke:#000000; stroke-linecap:round; stroke-linejoin:round; stroke-width:4; stroke-opacity:1; fill:none\" points=\"678.438,1334.33 678.438,1445.72 718.335,1445.72 718.335,1334.33 678.438,1334.33 \"/>\n",
       "<path clip-path=\"url(#clip672)\" d=\"M718.335 1338.43 L718.335 1445.72 L758.231 1445.72 L758.231 1338.43 L718.335 1338.43 L718.335 1338.43  Z\" fill=\"#009af9\" fill-rule=\"evenodd\" fill-opacity=\"1\"/>\n",
       "<polyline clip-path=\"url(#clip672)\" style=\"stroke:#000000; stroke-linecap:round; stroke-linejoin:round; stroke-width:4; stroke-opacity:1; fill:none\" points=\"718.335,1338.43 718.335,1445.72 758.231,1445.72 758.231,1338.43 718.335,1338.43 \"/>\n",
       "<path clip-path=\"url(#clip672)\" d=\"M758.231 1242.88 L758.231 1445.72 L798.128 1445.72 L798.128 1242.88 L758.231 1242.88 L758.231 1242.88  Z\" fill=\"#009af9\" fill-rule=\"evenodd\" fill-opacity=\"1\"/>\n",
       "<polyline clip-path=\"url(#clip672)\" style=\"stroke:#000000; stroke-linecap:round; stroke-linejoin:round; stroke-width:4; stroke-opacity:1; fill:none\" points=\"758.231,1242.88 758.231,1445.72 798.128,1445.72 798.128,1242.88 758.231,1242.88 \"/>\n",
       "<path clip-path=\"url(#clip672)\" d=\"M798.128 1262.22 L798.128 1445.72 L838.025 1445.72 L838.025 1262.22 L798.128 1262.22 L798.128 1262.22  Z\" fill=\"#009af9\" fill-rule=\"evenodd\" fill-opacity=\"1\"/>\n",
       "<polyline clip-path=\"url(#clip672)\" style=\"stroke:#000000; stroke-linecap:round; stroke-linejoin:round; stroke-width:4; stroke-opacity:1; fill:none\" points=\"798.128,1262.22 798.128,1445.72 838.025,1445.72 838.025,1262.22 798.128,1262.22 \"/>\n",
       "<path clip-path=\"url(#clip672)\" d=\"M838.025 1091.04 L838.025 1445.72 L877.921 1445.72 L877.921 1091.04 L838.025 1091.04 L838.025 1091.04  Z\" fill=\"#009af9\" fill-rule=\"evenodd\" fill-opacity=\"1\"/>\n",
       "<polyline clip-path=\"url(#clip672)\" style=\"stroke:#000000; stroke-linecap:round; stroke-linejoin:round; stroke-width:4; stroke-opacity:1; fill:none\" points=\"838.025,1091.04 838.025,1445.72 877.921,1445.72 877.921,1091.04 838.025,1091.04 \"/>\n",
       "<path clip-path=\"url(#clip672)\" d=\"M877.921 1129.14 L877.921 1445.72 L917.818 1445.72 L917.818 1129.14 L877.921 1129.14 L877.921 1129.14  Z\" fill=\"#009af9\" fill-rule=\"evenodd\" fill-opacity=\"1\"/>\n",
       "<polyline clip-path=\"url(#clip672)\" style=\"stroke:#000000; stroke-linecap:round; stroke-linejoin:round; stroke-width:4; stroke-opacity:1; fill:none\" points=\"877.921,1129.14 877.921,1445.72 917.818,1445.72 917.818,1129.14 877.921,1129.14 \"/>\n",
       "<path clip-path=\"url(#clip672)\" d=\"M917.818 900.509 L917.818 1445.72 L957.715 1445.72 L957.715 900.509 L917.818 900.509 L917.818 900.509  Z\" fill=\"#009af9\" fill-rule=\"evenodd\" fill-opacity=\"1\"/>\n",
       "<polyline clip-path=\"url(#clip672)\" style=\"stroke:#000000; stroke-linecap:round; stroke-linejoin:round; stroke-width:4; stroke-opacity:1; fill:none\" points=\"917.818,900.509 917.818,1445.72 957.715,1445.72 957.715,900.509 917.818,900.509 \"/>\n",
       "<path clip-path=\"url(#clip672)\" d=\"M957.715 993.722 L957.715 1445.72 L997.611 1445.72 L997.611 993.722 L957.715 993.722 L957.715 993.722  Z\" fill=\"#009af9\" fill-rule=\"evenodd\" fill-opacity=\"1\"/>\n",
       "<polyline clip-path=\"url(#clip672)\" style=\"stroke:#000000; stroke-linecap:round; stroke-linejoin:round; stroke-width:4; stroke-opacity:1; fill:none\" points=\"957.715,993.722 957.715,1445.72 997.611,1445.72 997.611,993.722 957.715,993.722 \"/>\n",
       "<path clip-path=\"url(#clip672)\" d=\"M997.611 596.249 L997.611 1445.72 L1037.51 1445.72 L1037.51 596.249 L997.611 596.249 L997.611 596.249  Z\" fill=\"#009af9\" fill-rule=\"evenodd\" fill-opacity=\"1\"/>\n",
       "<polyline clip-path=\"url(#clip672)\" style=\"stroke:#000000; stroke-linecap:round; stroke-linejoin:round; stroke-width:4; stroke-opacity:1; fill:none\" points=\"997.611,596.249 997.611,1445.72 1037.51,1445.72 1037.51,596.249 997.611,596.249 \"/>\n",
       "<path clip-path=\"url(#clip672)\" d=\"M1037.51 777.985 L1037.51 1445.72 L1077.4 1445.72 L1077.4 777.985 L1037.51 777.985 L1037.51 777.985  Z\" fill=\"#009af9\" fill-rule=\"evenodd\" fill-opacity=\"1\"/>\n",
       "<polyline clip-path=\"url(#clip672)\" style=\"stroke:#000000; stroke-linecap:round; stroke-linejoin:round; stroke-width:4; stroke-opacity:1; fill:none\" points=\"1037.51,777.985 1037.51,1445.72 1077.4,1445.72 1077.4,777.985 1037.51,777.985 \"/>\n",
       "<path clip-path=\"url(#clip672)\" d=\"M1077.4 367.614 L1077.4 1445.72 L1117.3 1445.72 L1117.3 367.614 L1077.4 367.614 L1077.4 367.614  Z\" fill=\"#009af9\" fill-rule=\"evenodd\" fill-opacity=\"1\"/>\n",
       "<polyline clip-path=\"url(#clip672)\" style=\"stroke:#000000; stroke-linecap:round; stroke-linejoin:round; stroke-width:4; stroke-opacity:1; fill:none\" points=\"1077.4,367.614 1077.4,1445.72 1117.3,1445.72 1117.3,367.614 1077.4,367.614 \"/>\n",
       "<path clip-path=\"url(#clip672)\" d=\"M1117.3 660.736 L1117.3 1445.72 L1157.2 1445.72 L1157.2 660.736 L1117.3 660.736 L1117.3 660.736  Z\" fill=\"#009af9\" fill-rule=\"evenodd\" fill-opacity=\"1\"/>\n",
       "<polyline clip-path=\"url(#clip672)\" style=\"stroke:#000000; stroke-linecap:round; stroke-linejoin:round; stroke-width:4; stroke-opacity:1; fill:none\" points=\"1117.3,660.736 1117.3,1445.72 1157.2,1445.72 1157.2,660.736 1117.3,660.736 \"/>\n",
       "<path clip-path=\"url(#clip672)\" d=\"M1157.2 200.535 L1157.2 1445.72 L1197.09 1445.72 L1197.09 200.535 L1157.2 200.535 L1157.2 200.535  Z\" fill=\"#009af9\" fill-rule=\"evenodd\" fill-opacity=\"1\"/>\n",
       "<polyline clip-path=\"url(#clip672)\" style=\"stroke:#000000; stroke-linecap:round; stroke-linejoin:round; stroke-width:4; stroke-opacity:1; fill:none\" points=\"1157.2,200.535 1157.2,1445.72 1197.09,1445.72 1197.09,200.535 1157.2,200.535 \"/>\n",
       "<path clip-path=\"url(#clip672)\" d=\"M1197.09 557.557 L1197.09 1445.72 L1236.99 1445.72 L1236.99 557.557 L1197.09 557.557 L1197.09 557.557  Z\" fill=\"#009af9\" fill-rule=\"evenodd\" fill-opacity=\"1\"/>\n",
       "<polyline clip-path=\"url(#clip672)\" style=\"stroke:#000000; stroke-linecap:round; stroke-linejoin:round; stroke-width:4; stroke-opacity:1; fill:none\" points=\"1197.09,557.557 1197.09,1445.72 1236.99,1445.72 1236.99,557.557 1197.09,557.557 \"/>\n",
       "<path clip-path=\"url(#clip672)\" d=\"M1236.99 87.9763 L1236.99 1445.72 L1276.89 1445.72 L1276.89 87.9763 L1236.99 87.9763 L1236.99 87.9763  Z\" fill=\"#009af9\" fill-rule=\"evenodd\" fill-opacity=\"1\"/>\n",
       "<polyline clip-path=\"url(#clip672)\" style=\"stroke:#000000; stroke-linecap:round; stroke-linejoin:round; stroke-width:4; stroke-opacity:1; fill:none\" points=\"1236.99,87.9763 1236.99,1445.72 1276.89,1445.72 1276.89,87.9763 1236.99,87.9763 \"/>\n",
       "<path clip-path=\"url(#clip672)\" d=\"M1276.89 533.521 L1276.89 1445.72 L1316.78 1445.72 L1316.78 533.521 L1276.89 533.521 L1276.89 533.521  Z\" fill=\"#009af9\" fill-rule=\"evenodd\" fill-opacity=\"1\"/>\n",
       "<polyline clip-path=\"url(#clip672)\" style=\"stroke:#000000; stroke-linecap:round; stroke-linejoin:round; stroke-width:4; stroke-opacity:1; fill:none\" points=\"1276.89,533.521 1276.89,1445.72 1316.78,1445.72 1316.78,533.521 1276.89,533.521 \"/>\n",
       "<path clip-path=\"url(#clip672)\" d=\"M1316.78 141.911 L1316.78 1445.72 L1356.68 1445.72 L1356.68 141.911 L1316.78 141.911 L1316.78 141.911  Z\" fill=\"#009af9\" fill-rule=\"evenodd\" fill-opacity=\"1\"/>\n",
       "<polyline clip-path=\"url(#clip672)\" style=\"stroke:#000000; stroke-linecap:round; stroke-linejoin:round; stroke-width:4; stroke-opacity:1; fill:none\" points=\"1316.78,141.911 1316.78,1445.72 1356.68,1445.72 1356.68,141.911 1316.78,141.911 \"/>\n",
       "<path clip-path=\"url(#clip672)\" d=\"M1356.68 646.08 L1356.68 1445.72 L1396.58 1445.72 L1396.58 646.08 L1356.68 646.08 L1356.68 646.08  Z\" fill=\"#009af9\" fill-rule=\"evenodd\" fill-opacity=\"1\"/>\n",
       "<polyline clip-path=\"url(#clip672)\" style=\"stroke:#000000; stroke-linecap:round; stroke-linejoin:round; stroke-width:4; stroke-opacity:1; fill:none\" points=\"1356.68,646.08 1356.68,1445.72 1396.58,1445.72 1396.58,646.08 1356.68,646.08 \"/>\n",
       "<path clip-path=\"url(#clip672)\" d=\"M1396.58 384.029 L1396.58 1445.72 L1436.47 1445.72 L1436.47 384.029 L1396.58 384.029 L1396.58 384.029  Z\" fill=\"#009af9\" fill-rule=\"evenodd\" fill-opacity=\"1\"/>\n",
       "<polyline clip-path=\"url(#clip672)\" style=\"stroke:#000000; stroke-linecap:round; stroke-linejoin:round; stroke-width:4; stroke-opacity:1; fill:none\" points=\"1396.58,384.029 1396.58,1445.72 1436.47,1445.72 1436.47,384.029 1396.58,384.029 \"/>\n",
       "<path clip-path=\"url(#clip672)\" d=\"M1436.47 785.02 L1436.47 1445.72 L1476.37 1445.72 L1476.37 785.02 L1436.47 785.02 L1436.47 785.02  Z\" fill=\"#009af9\" fill-rule=\"evenodd\" fill-opacity=\"1\"/>\n",
       "<polyline clip-path=\"url(#clip672)\" style=\"stroke:#000000; stroke-linecap:round; stroke-linejoin:round; stroke-width:4; stroke-opacity:1; fill:none\" points=\"1436.47,785.02 1436.47,1445.72 1476.37,1445.72 1476.37,785.02 1436.47,785.02 \"/>\n",
       "<path clip-path=\"url(#clip672)\" d=\"M1476.37 592.732 L1476.37 1445.72 L1516.27 1445.72 L1516.27 592.732 L1476.37 592.732 L1476.37 592.732  Z\" fill=\"#009af9\" fill-rule=\"evenodd\" fill-opacity=\"1\"/>\n",
       "<polyline clip-path=\"url(#clip672)\" style=\"stroke:#000000; stroke-linecap:round; stroke-linejoin:round; stroke-width:4; stroke-opacity:1; fill:none\" points=\"1476.37,592.732 1476.37,1445.72 1516.27,1445.72 1516.27,592.732 1476.37,592.732 \"/>\n",
       "<path clip-path=\"url(#clip672)\" d=\"M1516.27 958.548 L1516.27 1445.72 L1556.16 1445.72 L1556.16 958.548 L1516.27 958.548 L1516.27 958.548  Z\" fill=\"#009af9\" fill-rule=\"evenodd\" fill-opacity=\"1\"/>\n",
       "<polyline clip-path=\"url(#clip672)\" style=\"stroke:#000000; stroke-linecap:round; stroke-linejoin:round; stroke-width:4; stroke-opacity:1; fill:none\" points=\"1516.27,958.548 1516.27,1445.72 1556.16,1445.72 1556.16,958.548 1516.27,958.548 \"/>\n",
       "<path clip-path=\"url(#clip672)\" d=\"M1556.16 843.644 L1556.16 1445.72 L1596.06 1445.72 L1596.06 843.644 L1556.16 843.644 L1556.16 843.644  Z\" fill=\"#009af9\" fill-rule=\"evenodd\" fill-opacity=\"1\"/>\n",
       "<polyline clip-path=\"url(#clip672)\" style=\"stroke:#000000; stroke-linecap:round; stroke-linejoin:round; stroke-width:4; stroke-opacity:1; fill:none\" points=\"1556.16,843.644 1556.16,1445.72 1596.06,1445.72 1596.06,843.644 1556.16,843.644 \"/>\n",
       "<path clip-path=\"url(#clip672)\" d=\"M1596.06 1107.45 L1596.06 1445.72 L1635.96 1445.72 L1635.96 1107.45 L1596.06 1107.45 L1596.06 1107.45  Z\" fill=\"#009af9\" fill-rule=\"evenodd\" fill-opacity=\"1\"/>\n",
       "<polyline clip-path=\"url(#clip672)\" style=\"stroke:#000000; stroke-linecap:round; stroke-linejoin:round; stroke-width:4; stroke-opacity:1; fill:none\" points=\"1596.06,1107.45 1596.06,1445.72 1635.96,1445.72 1635.96,1107.45 1596.06,1107.45 \"/>\n",
       "<path clip-path=\"url(#clip672)\" d=\"M1635.96 1048.83 L1635.96 1445.72 L1675.85 1445.72 L1675.85 1048.83 L1635.96 1048.83 L1635.96 1048.83  Z\" fill=\"#009af9\" fill-rule=\"evenodd\" fill-opacity=\"1\"/>\n",
       "<polyline clip-path=\"url(#clip672)\" style=\"stroke:#000000; stroke-linecap:round; stroke-linejoin:round; stroke-width:4; stroke-opacity:1; fill:none\" points=\"1635.96,1048.83 1635.96,1445.72 1675.85,1445.72 1675.85,1048.83 1635.96,1048.83 \"/>\n",
       "<path clip-path=\"url(#clip672)\" d=\"M1675.85 1231.15 L1675.85 1445.72 L1715.75 1445.72 L1715.75 1231.15 L1675.85 1231.15 L1675.85 1231.15  Z\" fill=\"#009af9\" fill-rule=\"evenodd\" fill-opacity=\"1\"/>\n",
       "<polyline clip-path=\"url(#clip672)\" style=\"stroke:#000000; stroke-linecap:round; stroke-linejoin:round; stroke-width:4; stroke-opacity:1; fill:none\" points=\"1675.85,1231.15 1675.85,1445.72 1715.75,1445.72 1715.75,1231.15 1675.85,1231.15 \"/>\n",
       "<path clip-path=\"url(#clip672)\" d=\"M1715.75 1206.53 L1715.75 1445.72 L1755.65 1445.72 L1755.65 1206.53 L1715.75 1206.53 L1715.75 1206.53  Z\" fill=\"#009af9\" fill-rule=\"evenodd\" fill-opacity=\"1\"/>\n",
       "<polyline clip-path=\"url(#clip672)\" style=\"stroke:#000000; stroke-linecap:round; stroke-linejoin:round; stroke-width:4; stroke-opacity:1; fill:none\" points=\"1715.75,1206.53 1715.75,1445.72 1755.65,1445.72 1755.65,1206.53 1715.75,1206.53 \"/>\n",
       "<path clip-path=\"url(#clip672)\" d=\"M1755.65 1339.61 L1755.65 1445.72 L1795.54 1445.72 L1795.54 1339.61 L1755.65 1339.61 L1755.65 1339.61  Z\" fill=\"#009af9\" fill-rule=\"evenodd\" fill-opacity=\"1\"/>\n",
       "<polyline clip-path=\"url(#clip672)\" style=\"stroke:#000000; stroke-linecap:round; stroke-linejoin:round; stroke-width:4; stroke-opacity:1; fill:none\" points=\"1755.65,1339.61 1755.65,1445.72 1795.54,1445.72 1795.54,1339.61 1755.65,1339.61 \"/>\n",
       "<path clip-path=\"url(#clip672)\" d=\"M1795.54 1345.47 L1795.54 1445.72 L1835.44 1445.72 L1835.44 1345.47 L1795.54 1345.47 L1795.54 1345.47  Z\" fill=\"#009af9\" fill-rule=\"evenodd\" fill-opacity=\"1\"/>\n",
       "<polyline clip-path=\"url(#clip672)\" style=\"stroke:#000000; stroke-linecap:round; stroke-linejoin:round; stroke-width:4; stroke-opacity:1; fill:none\" points=\"1795.54,1345.47 1795.54,1445.72 1835.44,1445.72 1835.44,1345.47 1795.54,1345.47 \"/>\n",
       "<path clip-path=\"url(#clip672)\" d=\"M1835.44 1390.02 L1835.44 1445.72 L1875.34 1445.72 L1875.34 1390.02 L1835.44 1390.02 L1835.44 1390.02  Z\" fill=\"#009af9\" fill-rule=\"evenodd\" fill-opacity=\"1\"/>\n",
       "<polyline clip-path=\"url(#clip672)\" style=\"stroke:#000000; stroke-linecap:round; stroke-linejoin:round; stroke-width:4; stroke-opacity:1; fill:none\" points=\"1835.44,1390.02 1835.44,1445.72 1875.34,1445.72 1875.34,1390.02 1835.44,1390.02 \"/>\n",
       "<path clip-path=\"url(#clip672)\" d=\"M1875.34 1385.33 L1875.34 1445.72 L1915.23 1445.72 L1915.23 1385.33 L1875.34 1385.33 L1875.34 1385.33  Z\" fill=\"#009af9\" fill-rule=\"evenodd\" fill-opacity=\"1\"/>\n",
       "<polyline clip-path=\"url(#clip672)\" style=\"stroke:#000000; stroke-linecap:round; stroke-linejoin:round; stroke-width:4; stroke-opacity:1; fill:none\" points=\"1875.34,1385.33 1875.34,1445.72 1915.23,1445.72 1915.23,1385.33 1875.34,1385.33 \"/>\n",
       "<path clip-path=\"url(#clip672)\" d=\"M1915.23 1424.02 L1915.23 1445.72 L1955.13 1445.72 L1955.13 1424.02 L1915.23 1424.02 L1915.23 1424.02  Z\" fill=\"#009af9\" fill-rule=\"evenodd\" fill-opacity=\"1\"/>\n",
       "<polyline clip-path=\"url(#clip672)\" style=\"stroke:#000000; stroke-linecap:round; stroke-linejoin:round; stroke-width:4; stroke-opacity:1; fill:none\" points=\"1915.23,1424.02 1915.23,1445.72 1955.13,1445.72 1955.13,1424.02 1915.23,1424.02 \"/>\n",
       "<path clip-path=\"url(#clip672)\" d=\"M1955.13 1416.4 L1955.13 1445.72 L1995.03 1445.72 L1995.03 1416.4 L1955.13 1416.4 L1955.13 1416.4  Z\" fill=\"#009af9\" fill-rule=\"evenodd\" fill-opacity=\"1\"/>\n",
       "<polyline clip-path=\"url(#clip672)\" style=\"stroke:#000000; stroke-linecap:round; stroke-linejoin:round; stroke-width:4; stroke-opacity:1; fill:none\" points=\"1955.13,1416.4 1955.13,1445.72 1995.03,1445.72 1995.03,1416.4 1955.13,1416.4 \"/>\n",
       "<path clip-path=\"url(#clip672)\" d=\"M1995.03 1433.99 L1995.03 1445.72 L2034.92 1445.72 L2034.92 1433.99 L1995.03 1433.99 L1995.03 1433.99  Z\" fill=\"#009af9\" fill-rule=\"evenodd\" fill-opacity=\"1\"/>\n",
       "<polyline clip-path=\"url(#clip672)\" style=\"stroke:#000000; stroke-linecap:round; stroke-linejoin:round; stroke-width:4; stroke-opacity:1; fill:none\" points=\"1995.03,1433.99 1995.03,1445.72 2034.92,1445.72 2034.92,1433.99 1995.03,1433.99 \"/>\n",
       "<path clip-path=\"url(#clip672)\" d=\"M2034.92 1435.75 L2034.92 1445.72 L2074.82 1445.72 L2074.82 1435.75 L2034.92 1435.75 L2034.92 1435.75  Z\" fill=\"#009af9\" fill-rule=\"evenodd\" fill-opacity=\"1\"/>\n",
       "<polyline clip-path=\"url(#clip672)\" style=\"stroke:#000000; stroke-linecap:round; stroke-linejoin:round; stroke-width:4; stroke-opacity:1; fill:none\" points=\"2034.92,1435.75 2034.92,1445.72 2074.82,1445.72 2074.82,1435.75 2034.92,1435.75 \"/>\n",
       "<path clip-path=\"url(#clip672)\" d=\"M2074.82 1443.37 L2074.82 1445.72 L2114.72 1445.72 L2114.72 1443.37 L2074.82 1443.37 L2074.82 1443.37  Z\" fill=\"#009af9\" fill-rule=\"evenodd\" fill-opacity=\"1\"/>\n",
       "<polyline clip-path=\"url(#clip672)\" style=\"stroke:#000000; stroke-linecap:round; stroke-linejoin:round; stroke-width:4; stroke-opacity:1; fill:none\" points=\"2074.82,1443.37 2074.82,1445.72 2114.72,1445.72 2114.72,1443.37 2074.82,1443.37 \"/>\n",
       "<path clip-path=\"url(#clip672)\" d=\"M2114.72 1443.96 L2114.72 1445.72 L2154.61 1445.72 L2154.61 1443.96 L2114.72 1443.96 L2114.72 1443.96  Z\" fill=\"#009af9\" fill-rule=\"evenodd\" fill-opacity=\"1\"/>\n",
       "<polyline clip-path=\"url(#clip672)\" style=\"stroke:#000000; stroke-linecap:round; stroke-linejoin:round; stroke-width:4; stroke-opacity:1; fill:none\" points=\"2114.72,1443.96 2114.72,1445.72 2154.61,1445.72 2154.61,1443.96 2114.72,1443.96 \"/>\n",
       "<path clip-path=\"url(#clip672)\" d=\"M2154.61 1445.72 L2154.61 1445.72 L2194.51 1445.72 L2194.51 1445.72 L2154.61 1445.72 L2154.61 1445.72  Z\" fill=\"#009af9\" fill-rule=\"evenodd\" fill-opacity=\"1\"/>\n",
       "<polyline clip-path=\"url(#clip672)\" style=\"stroke:#000000; stroke-linecap:round; stroke-linejoin:round; stroke-width:4; stroke-opacity:1; fill:none\" points=\"2154.61,1445.72 2154.61,1445.72 2194.51,1445.72 2154.61,1445.72 \"/>\n",
       "<path clip-path=\"url(#clip672)\" d=\"M2194.51 1444.54 L2194.51 1445.72 L2234.41 1445.72 L2234.41 1444.54 L2194.51 1444.54 L2194.51 1444.54  Z\" fill=\"#009af9\" fill-rule=\"evenodd\" fill-opacity=\"1\"/>\n",
       "<polyline clip-path=\"url(#clip672)\" style=\"stroke:#000000; stroke-linecap:round; stroke-linejoin:round; stroke-width:4; stroke-opacity:1; fill:none\" points=\"2194.51,1444.54 2194.51,1445.72 2234.41,1445.72 2234.41,1444.54 2194.51,1444.54 \"/>\n",
       "<circle clip-path=\"url(#clip672)\" style=\"fill:#009af9; stroke:none; fill-opacity:0\" cx=\"339.317\" cy=\"1443.37\" r=\"2\"/>\n",
       "<circle clip-path=\"url(#clip672)\" style=\"fill:#009af9; stroke:none; fill-opacity:0\" cx=\"379.214\" cy=\"1444.54\" r=\"2\"/>\n",
       "<circle clip-path=\"url(#clip672)\" style=\"fill:#009af9; stroke:none; fill-opacity:0\" cx=\"419.11\" cy=\"1444.54\" r=\"2\"/>\n",
       "<circle clip-path=\"url(#clip672)\" style=\"fill:#009af9; stroke:none; fill-opacity:0\" cx=\"459.007\" cy=\"1436.34\" r=\"2\"/>\n",
       "<circle clip-path=\"url(#clip672)\" style=\"fill:#009af9; stroke:none; fill-opacity:0\" cx=\"498.903\" cy=\"1438.09\" r=\"2\"/>\n",
       "<circle clip-path=\"url(#clip672)\" style=\"fill:#009af9; stroke:none; fill-opacity:0\" cx=\"538.8\" cy=\"1425.2\" r=\"2\"/>\n",
       "<circle clip-path=\"url(#clip672)\" style=\"fill:#009af9; stroke:none; fill-opacity:0\" cx=\"578.697\" cy=\"1415.23\" r=\"2\"/>\n",
       "<circle clip-path=\"url(#clip672)\" style=\"fill:#009af9; stroke:none; fill-opacity:0\" cx=\"618.593\" cy=\"1392.37\" r=\"2\"/>\n",
       "<circle clip-path=\"url(#clip672)\" style=\"fill:#009af9; stroke:none; fill-opacity:0\" cx=\"658.49\" cy=\"1398.82\" r=\"2\"/>\n",
       "<circle clip-path=\"url(#clip672)\" style=\"fill:#009af9; stroke:none; fill-opacity:0\" cx=\"698.387\" cy=\"1334.33\" r=\"2\"/>\n",
       "<circle clip-path=\"url(#clip672)\" style=\"fill:#009af9; stroke:none; fill-opacity:0\" cx=\"738.283\" cy=\"1338.43\" r=\"2\"/>\n",
       "<circle clip-path=\"url(#clip672)\" style=\"fill:#009af9; stroke:none; fill-opacity:0\" cx=\"778.18\" cy=\"1242.88\" r=\"2\"/>\n",
       "<circle clip-path=\"url(#clip672)\" style=\"fill:#009af9; stroke:none; fill-opacity:0\" cx=\"818.076\" cy=\"1262.22\" r=\"2\"/>\n",
       "<circle clip-path=\"url(#clip672)\" style=\"fill:#009af9; stroke:none; fill-opacity:0\" cx=\"857.973\" cy=\"1091.04\" r=\"2\"/>\n",
       "<circle clip-path=\"url(#clip672)\" style=\"fill:#009af9; stroke:none; fill-opacity:0\" cx=\"897.87\" cy=\"1129.14\" r=\"2\"/>\n",
       "<circle clip-path=\"url(#clip672)\" style=\"fill:#009af9; stroke:none; fill-opacity:0\" cx=\"937.766\" cy=\"900.509\" r=\"2\"/>\n",
       "<circle clip-path=\"url(#clip672)\" style=\"fill:#009af9; stroke:none; fill-opacity:0\" cx=\"977.663\" cy=\"993.722\" r=\"2\"/>\n",
       "<circle clip-path=\"url(#clip672)\" style=\"fill:#009af9; stroke:none; fill-opacity:0\" cx=\"1017.56\" cy=\"596.249\" r=\"2\"/>\n",
       "<circle clip-path=\"url(#clip672)\" style=\"fill:#009af9; stroke:none; fill-opacity:0\" cx=\"1057.46\" cy=\"777.985\" r=\"2\"/>\n",
       "<circle clip-path=\"url(#clip672)\" style=\"fill:#009af9; stroke:none; fill-opacity:0\" cx=\"1097.35\" cy=\"367.614\" r=\"2\"/>\n",
       "<circle clip-path=\"url(#clip672)\" style=\"fill:#009af9; stroke:none; fill-opacity:0\" cx=\"1137.25\" cy=\"660.736\" r=\"2\"/>\n",
       "<circle clip-path=\"url(#clip672)\" style=\"fill:#009af9; stroke:none; fill-opacity:0\" cx=\"1177.15\" cy=\"200.535\" r=\"2\"/>\n",
       "<circle clip-path=\"url(#clip672)\" style=\"fill:#009af9; stroke:none; fill-opacity:0\" cx=\"1217.04\" cy=\"557.557\" r=\"2\"/>\n",
       "<circle clip-path=\"url(#clip672)\" style=\"fill:#009af9; stroke:none; fill-opacity:0\" cx=\"1256.94\" cy=\"87.9763\" r=\"2\"/>\n",
       "<circle clip-path=\"url(#clip672)\" style=\"fill:#009af9; stroke:none; fill-opacity:0\" cx=\"1296.84\" cy=\"533.521\" r=\"2\"/>\n",
       "<circle clip-path=\"url(#clip672)\" style=\"fill:#009af9; stroke:none; fill-opacity:0\" cx=\"1336.73\" cy=\"141.911\" r=\"2\"/>\n",
       "<circle clip-path=\"url(#clip672)\" style=\"fill:#009af9; stroke:none; fill-opacity:0\" cx=\"1376.63\" cy=\"646.08\" r=\"2\"/>\n",
       "<circle clip-path=\"url(#clip672)\" style=\"fill:#009af9; stroke:none; fill-opacity:0\" cx=\"1416.53\" cy=\"384.029\" r=\"2\"/>\n",
       "<circle clip-path=\"url(#clip672)\" style=\"fill:#009af9; stroke:none; fill-opacity:0\" cx=\"1456.42\" cy=\"785.02\" r=\"2\"/>\n",
       "<circle clip-path=\"url(#clip672)\" style=\"fill:#009af9; stroke:none; fill-opacity:0\" cx=\"1496.32\" cy=\"592.732\" r=\"2\"/>\n",
       "<circle clip-path=\"url(#clip672)\" style=\"fill:#009af9; stroke:none; fill-opacity:0\" cx=\"1536.22\" cy=\"958.548\" r=\"2\"/>\n",
       "<circle clip-path=\"url(#clip672)\" style=\"fill:#009af9; stroke:none; fill-opacity:0\" cx=\"1576.11\" cy=\"843.644\" r=\"2\"/>\n",
       "<circle clip-path=\"url(#clip672)\" style=\"fill:#009af9; stroke:none; fill-opacity:0\" cx=\"1616.01\" cy=\"1107.45\" r=\"2\"/>\n",
       "<circle clip-path=\"url(#clip672)\" style=\"fill:#009af9; stroke:none; fill-opacity:0\" cx=\"1655.91\" cy=\"1048.83\" r=\"2\"/>\n",
       "<circle clip-path=\"url(#clip672)\" style=\"fill:#009af9; stroke:none; fill-opacity:0\" cx=\"1695.8\" cy=\"1231.15\" r=\"2\"/>\n",
       "<circle clip-path=\"url(#clip672)\" style=\"fill:#009af9; stroke:none; fill-opacity:0\" cx=\"1735.7\" cy=\"1206.53\" r=\"2\"/>\n",
       "<circle clip-path=\"url(#clip672)\" style=\"fill:#009af9; stroke:none; fill-opacity:0\" cx=\"1775.6\" cy=\"1339.61\" r=\"2\"/>\n",
       "<circle clip-path=\"url(#clip672)\" style=\"fill:#009af9; stroke:none; fill-opacity:0\" cx=\"1815.49\" cy=\"1345.47\" r=\"2\"/>\n",
       "<circle clip-path=\"url(#clip672)\" style=\"fill:#009af9; stroke:none; fill-opacity:0\" cx=\"1855.39\" cy=\"1390.02\" r=\"2\"/>\n",
       "<circle clip-path=\"url(#clip672)\" style=\"fill:#009af9; stroke:none; fill-opacity:0\" cx=\"1895.29\" cy=\"1385.33\" r=\"2\"/>\n",
       "<circle clip-path=\"url(#clip672)\" style=\"fill:#009af9; stroke:none; fill-opacity:0\" cx=\"1935.18\" cy=\"1424.02\" r=\"2\"/>\n",
       "<circle clip-path=\"url(#clip672)\" style=\"fill:#009af9; stroke:none; fill-opacity:0\" cx=\"1975.08\" cy=\"1416.4\" r=\"2\"/>\n",
       "<circle clip-path=\"url(#clip672)\" style=\"fill:#009af9; stroke:none; fill-opacity:0\" cx=\"2014.98\" cy=\"1433.99\" r=\"2\"/>\n",
       "<circle clip-path=\"url(#clip672)\" style=\"fill:#009af9; stroke:none; fill-opacity:0\" cx=\"2054.87\" cy=\"1435.75\" r=\"2\"/>\n",
       "<circle clip-path=\"url(#clip672)\" style=\"fill:#009af9; stroke:none; fill-opacity:0\" cx=\"2094.77\" cy=\"1443.37\" r=\"2\"/>\n",
       "<circle clip-path=\"url(#clip672)\" style=\"fill:#009af9; stroke:none; fill-opacity:0\" cx=\"2134.67\" cy=\"1443.96\" r=\"2\"/>\n",
       "<circle clip-path=\"url(#clip672)\" style=\"fill:#009af9; stroke:none; fill-opacity:0\" cx=\"2174.56\" cy=\"1445.72\" r=\"2\"/>\n",
       "<circle clip-path=\"url(#clip672)\" style=\"fill:#009af9; stroke:none; fill-opacity:0\" cx=\"2214.46\" cy=\"1444.54\" r=\"2\"/>\n",
       "<path clip-path=\"url(#clip670)\" d=\"M2013.43 198.898 L2281.03 198.898 L2281.03 95.2176 L2013.43 95.2176  Z\" fill=\"#ffffff\" fill-rule=\"evenodd\" fill-opacity=\"1\"/>\n",
       "<polyline clip-path=\"url(#clip670)\" style=\"stroke:#000000; stroke-linecap:round; stroke-linejoin:round; stroke-width:4; stroke-opacity:1; fill:none\" points=\"2013.43,198.898 2281.03,198.898 2281.03,95.2176 2013.43,95.2176 2013.43,198.898 \"/>\n",
       "<path clip-path=\"url(#clip670)\" d=\"M2037.34 167.794 L2180.78 167.794 L2180.78 126.322 L2037.34 126.322 L2037.34 167.794  Z\" fill=\"#009af9\" fill-rule=\"evenodd\" fill-opacity=\"1\"/>\n",
       "<polyline clip-path=\"url(#clip670)\" style=\"stroke:#000000; stroke-linecap:round; stroke-linejoin:round; stroke-width:4; stroke-opacity:1; fill:none\" points=\"2037.34,167.794 2180.78,167.794 2180.78,126.322 2037.34,126.322 2037.34,167.794 \"/>\n",
       "<path clip-path=\"url(#clip670)\" d=\"M2218.54 166.745 Q2216.73 171.375 2215.02 172.787 Q2213.3 174.199 2210.43 174.199 L2207.03 174.199 L2207.03 170.634 L2209.53 170.634 Q2211.29 170.634 2212.26 169.8 Q2213.23 168.967 2214.42 165.865 L2215.18 163.921 L2204.69 138.412 L2209.21 138.412 L2217.31 158.689 L2225.41 138.412 L2229.92 138.412 L2218.54 166.745 Z\" fill=\"#000000\" fill-rule=\"nonzero\" fill-opacity=\"1\" /><path clip-path=\"url(#clip670)\" d=\"M2237.22 160.402 L2244.85 160.402 L2244.85 134.037 L2236.54 135.703 L2236.54 131.444 L2244.81 129.778 L2249.48 129.778 L2249.48 160.402 L2257.12 160.402 L2257.12 164.338 L2237.22 164.338 L2237.22 160.402 Z\" fill=\"#000000\" fill-rule=\"nonzero\" fill-opacity=\"1\" /></svg>\n"
      ],
      "text/html": [
       "<?xml version=\"1.0\" encoding=\"utf-8\"?>\n",
       "<svg xmlns=\"http://www.w3.org/2000/svg\" xmlns:xlink=\"http://www.w3.org/1999/xlink\" width=\"600\" height=\"400\" viewBox=\"0 0 2400 1600\">\n",
       "<defs>\n",
       "  <clipPath id=\"clip720\">\n",
       "    <rect x=\"0\" y=\"0\" width=\"2400\" height=\"1600\"/>\n",
       "  </clipPath>\n",
       "</defs>\n",
       "<path clip-path=\"url(#clip720)\" d=\"M0 1600 L2400 1600 L2400 0 L0 0  Z\" fill=\"#ffffff\" fill-rule=\"evenodd\" fill-opacity=\"1\"/>\n",
       "<defs>\n",
       "  <clipPath id=\"clip721\">\n",
       "    <rect x=\"480\" y=\"0\" width=\"1681\" height=\"1600\"/>\n",
       "  </clipPath>\n",
       "</defs>\n",
       "<path clip-path=\"url(#clip720)\" d=\"M201.019 1486.45 L2352.76 1486.45 L2352.76 47.2441 L201.019 47.2441  Z\" fill=\"#ffffff\" fill-rule=\"evenodd\" fill-opacity=\"1\"/>\n",
       "<defs>\n",
       "  <clipPath id=\"clip722\">\n",
       "    <rect x=\"201\" y=\"47\" width=\"2153\" height=\"1440\"/>\n",
       "  </clipPath>\n",
       "</defs>\n",
       "<polyline clip-path=\"url(#clip722)\" style=\"stroke:#000000; stroke-linecap:round; stroke-linejoin:round; stroke-width:2; stroke-opacity:0.1; fill:none\" points=\"439.059,1486.45 439.059,47.2441 \"/>\n",
       "<polyline clip-path=\"url(#clip722)\" style=\"stroke:#000000; stroke-linecap:round; stroke-linejoin:round; stroke-width:2; stroke-opacity:0.1; fill:none\" points=\"838.025,1486.45 838.025,47.2441 \"/>\n",
       "<polyline clip-path=\"url(#clip722)\" style=\"stroke:#000000; stroke-linecap:round; stroke-linejoin:round; stroke-width:2; stroke-opacity:0.1; fill:none\" points=\"1236.99,1486.45 1236.99,47.2441 \"/>\n",
       "<polyline clip-path=\"url(#clip722)\" style=\"stroke:#000000; stroke-linecap:round; stroke-linejoin:round; stroke-width:2; stroke-opacity:0.1; fill:none\" points=\"1635.96,1486.45 1635.96,47.2441 \"/>\n",
       "<polyline clip-path=\"url(#clip722)\" style=\"stroke:#000000; stroke-linecap:round; stroke-linejoin:round; stroke-width:2; stroke-opacity:0.1; fill:none\" points=\"2034.92,1486.45 2034.92,47.2441 \"/>\n",
       "<polyline clip-path=\"url(#clip720)\" style=\"stroke:#000000; stroke-linecap:round; stroke-linejoin:round; stroke-width:4; stroke-opacity:1; fill:none\" points=\"201.019,1486.45 2352.76,1486.45 \"/>\n",
       "<polyline clip-path=\"url(#clip720)\" style=\"stroke:#000000; stroke-linecap:round; stroke-linejoin:round; stroke-width:4; stroke-opacity:1; fill:none\" points=\"439.059,1486.45 439.059,1467.55 \"/>\n",
       "<polyline clip-path=\"url(#clip720)\" style=\"stroke:#000000; stroke-linecap:round; stroke-linejoin:round; stroke-width:4; stroke-opacity:1; fill:none\" points=\"838.025,1486.45 838.025,1467.55 \"/>\n",
       "<polyline clip-path=\"url(#clip720)\" style=\"stroke:#000000; stroke-linecap:round; stroke-linejoin:round; stroke-width:4; stroke-opacity:1; fill:none\" points=\"1236.99,1486.45 1236.99,1467.55 \"/>\n",
       "<polyline clip-path=\"url(#clip720)\" style=\"stroke:#000000; stroke-linecap:round; stroke-linejoin:round; stroke-width:4; stroke-opacity:1; fill:none\" points=\"1635.96,1486.45 1635.96,1467.55 \"/>\n",
       "<polyline clip-path=\"url(#clip720)\" style=\"stroke:#000000; stroke-linecap:round; stroke-linejoin:round; stroke-width:4; stroke-opacity:1; fill:none\" points=\"2034.92,1486.45 2034.92,1467.55 \"/>\n",
       "<path clip-path=\"url(#clip720)\" d=\"M393.121 1532.02 L422.797 1532.02 L422.797 1535.95 L393.121 1535.95 L393.121 1532.02 Z\" fill=\"#000000\" fill-rule=\"nonzero\" fill-opacity=\"1\" /><path clip-path=\"url(#clip720)\" d=\"M432.936 1514.29 L451.292 1514.29 L451.292 1518.22 L437.218 1518.22 L437.218 1526.7 Q438.237 1526.35 439.255 1526.19 Q440.274 1526 441.292 1526 Q447.079 1526 450.459 1529.17 Q453.839 1532.34 453.839 1537.76 Q453.839 1543.34 450.366 1546.44 Q446.894 1549.52 440.575 1549.52 Q438.399 1549.52 436.13 1549.15 Q433.885 1548.78 431.478 1548.04 L431.478 1543.34 Q433.561 1544.47 435.783 1545.03 Q438.005 1545.58 440.482 1545.58 Q444.487 1545.58 446.825 1543.48 Q449.163 1541.37 449.163 1537.76 Q449.163 1534.15 446.825 1532.04 Q444.487 1529.94 440.482 1529.94 Q438.607 1529.94 436.732 1530.35 Q434.88 1530.77 432.936 1531.65 L432.936 1514.29 Z\" fill=\"#000000\" fill-rule=\"nonzero\" fill-opacity=\"1\" /><path clip-path=\"url(#clip720)\" d=\"M473.051 1517.37 Q469.44 1517.37 467.612 1520.93 Q465.806 1524.47 465.806 1531.6 Q465.806 1538.71 467.612 1542.27 Q469.44 1545.82 473.051 1545.82 Q476.686 1545.82 478.491 1542.27 Q480.32 1538.71 480.32 1531.6 Q480.32 1524.47 478.491 1520.93 Q476.686 1517.37 473.051 1517.37 M473.051 1513.66 Q478.862 1513.66 481.917 1518.27 Q484.996 1522.85 484.996 1531.6 Q484.996 1540.33 481.917 1544.94 Q478.862 1549.52 473.051 1549.52 Q467.241 1549.52 464.163 1544.94 Q461.107 1540.33 461.107 1531.6 Q461.107 1522.85 464.163 1518.27 Q467.241 1513.66 473.051 1513.66 Z\" fill=\"#000000\" fill-rule=\"nonzero\" fill-opacity=\"1\" /><path clip-path=\"url(#clip720)\" d=\"M838.025 1517.37 Q834.414 1517.37 832.585 1520.93 Q830.779 1524.47 830.779 1531.6 Q830.779 1538.71 832.585 1542.27 Q834.414 1545.82 838.025 1545.82 Q841.659 1545.82 843.465 1542.27 Q845.293 1538.71 845.293 1531.6 Q845.293 1524.47 843.465 1520.93 Q841.659 1517.37 838.025 1517.37 M838.025 1513.66 Q843.835 1513.66 846.89 1518.27 Q849.969 1522.85 849.969 1531.6 Q849.969 1540.33 846.89 1544.94 Q843.835 1549.52 838.025 1549.52 Q832.215 1549.52 829.136 1544.94 Q826.08 1540.33 826.08 1531.6 Q826.08 1522.85 829.136 1518.27 Q832.215 1513.66 838.025 1513.66 Z\" fill=\"#000000\" fill-rule=\"nonzero\" fill-opacity=\"1\" /><path clip-path=\"url(#clip720)\" d=\"M1211.69 1514.29 L1230.05 1514.29 L1230.05 1518.22 L1215.97 1518.22 L1215.97 1526.7 Q1216.99 1526.35 1218.01 1526.19 Q1219.03 1526 1220.05 1526 Q1225.83 1526 1229.21 1529.17 Q1232.59 1532.34 1232.59 1537.76 Q1232.59 1543.34 1229.12 1546.44 Q1225.65 1549.52 1219.33 1549.52 Q1217.15 1549.52 1214.88 1549.15 Q1212.64 1548.78 1210.23 1548.04 L1210.23 1543.34 Q1212.32 1544.47 1214.54 1545.03 Q1216.76 1545.58 1219.24 1545.58 Q1223.24 1545.58 1225.58 1543.48 Q1227.92 1541.37 1227.92 1537.76 Q1227.92 1534.15 1225.58 1532.04 Q1223.24 1529.94 1219.24 1529.94 Q1217.36 1529.94 1215.49 1530.35 Q1213.63 1530.77 1211.69 1531.65 L1211.69 1514.29 Z\" fill=\"#000000\" fill-rule=\"nonzero\" fill-opacity=\"1\" /><path clip-path=\"url(#clip720)\" d=\"M1251.81 1517.37 Q1248.19 1517.37 1246.37 1520.93 Q1244.56 1524.47 1244.56 1531.6 Q1244.56 1538.71 1246.37 1542.27 Q1248.19 1545.82 1251.81 1545.82 Q1255.44 1545.82 1257.25 1542.27 Q1259.07 1538.71 1259.07 1531.6 Q1259.07 1524.47 1257.25 1520.93 Q1255.44 1517.37 1251.81 1517.37 M1251.81 1513.66 Q1257.62 1513.66 1260.67 1518.27 Q1263.75 1522.85 1263.75 1531.6 Q1263.75 1540.33 1260.67 1544.94 Q1257.62 1549.52 1251.81 1549.52 Q1246 1549.52 1242.92 1544.94 Q1239.86 1540.33 1239.86 1531.6 Q1239.86 1522.85 1242.92 1518.27 Q1246 1513.66 1251.81 1513.66 Z\" fill=\"#000000\" fill-rule=\"nonzero\" fill-opacity=\"1\" /><path clip-path=\"url(#clip720)\" d=\"M1595.56 1544.91 L1603.2 1544.91 L1603.2 1518.55 L1594.89 1520.21 L1594.89 1515.95 L1603.16 1514.29 L1607.83 1514.29 L1607.83 1544.91 L1615.47 1544.91 L1615.47 1548.85 L1595.56 1548.85 L1595.56 1544.91 Z\" fill=\"#000000\" fill-rule=\"nonzero\" fill-opacity=\"1\" /><path clip-path=\"url(#clip720)\" d=\"M1634.92 1517.37 Q1631.3 1517.37 1629.48 1520.93 Q1627.67 1524.47 1627.67 1531.6 Q1627.67 1538.71 1629.48 1542.27 Q1631.3 1545.82 1634.92 1545.82 Q1638.55 1545.82 1640.36 1542.27 Q1642.18 1538.71 1642.18 1531.6 Q1642.18 1524.47 1640.36 1520.93 Q1638.55 1517.37 1634.92 1517.37 M1634.92 1513.66 Q1640.73 1513.66 1643.78 1518.27 Q1646.86 1522.85 1646.86 1531.6 Q1646.86 1540.33 1643.78 1544.94 Q1640.73 1549.52 1634.92 1549.52 Q1629.11 1549.52 1626.03 1544.94 Q1622.97 1540.33 1622.97 1531.6 Q1622.97 1522.85 1626.03 1518.27 Q1629.11 1513.66 1634.92 1513.66 Z\" fill=\"#000000\" fill-rule=\"nonzero\" fill-opacity=\"1\" /><path clip-path=\"url(#clip720)\" d=\"M1665.08 1517.37 Q1661.47 1517.37 1659.64 1520.93 Q1657.83 1524.47 1657.83 1531.6 Q1657.83 1538.71 1659.64 1542.27 Q1661.47 1545.82 1665.08 1545.82 Q1668.71 1545.82 1670.52 1542.27 Q1672.35 1538.71 1672.35 1531.6 Q1672.35 1524.47 1670.52 1520.93 Q1668.71 1517.37 1665.08 1517.37 M1665.08 1513.66 Q1670.89 1513.66 1673.94 1518.27 Q1677.02 1522.85 1677.02 1531.6 Q1677.02 1540.33 1673.94 1544.94 Q1670.89 1549.52 1665.08 1549.52 Q1659.27 1549.52 1656.19 1544.94 Q1653.13 1540.33 1653.13 1531.6 Q1653.13 1522.85 1656.19 1518.27 Q1659.27 1513.66 1665.08 1513.66 Z\" fill=\"#000000\" fill-rule=\"nonzero\" fill-opacity=\"1\" /><path clip-path=\"url(#clip720)\" d=\"M1994.53 1544.91 L2002.17 1544.91 L2002.17 1518.55 L1993.86 1520.21 L1993.86 1515.95 L2002.12 1514.29 L2006.8 1514.29 L2006.8 1544.91 L2014.44 1544.91 L2014.44 1548.85 L1994.53 1548.85 L1994.53 1544.91 Z\" fill=\"#000000\" fill-rule=\"nonzero\" fill-opacity=\"1\" /><path clip-path=\"url(#clip720)\" d=\"M2023.93 1514.29 L2042.28 1514.29 L2042.28 1518.22 L2028.21 1518.22 L2028.21 1526.7 Q2029.23 1526.35 2030.25 1526.19 Q2031.27 1526 2032.28 1526 Q2038.07 1526 2041.45 1529.17 Q2044.83 1532.34 2044.83 1537.76 Q2044.83 1543.34 2041.36 1546.44 Q2037.89 1549.52 2031.57 1549.52 Q2029.39 1549.52 2027.12 1549.15 Q2024.88 1548.78 2022.47 1548.04 L2022.47 1543.34 Q2024.55 1544.47 2026.78 1545.03 Q2029 1545.58 2031.47 1545.58 Q2035.48 1545.58 2037.82 1543.48 Q2040.15 1541.37 2040.15 1537.76 Q2040.15 1534.15 2037.82 1532.04 Q2035.48 1529.94 2031.47 1529.94 Q2029.6 1529.94 2027.72 1530.35 Q2025.87 1530.77 2023.93 1531.65 L2023.93 1514.29 Z\" fill=\"#000000\" fill-rule=\"nonzero\" fill-opacity=\"1\" /><path clip-path=\"url(#clip720)\" d=\"M2064.04 1517.37 Q2060.43 1517.37 2058.6 1520.93 Q2056.8 1524.47 2056.8 1531.6 Q2056.8 1538.71 2058.6 1542.27 Q2060.43 1545.82 2064.04 1545.82 Q2067.68 1545.82 2069.48 1542.27 Q2071.31 1538.71 2071.31 1531.6 Q2071.31 1524.47 2069.48 1520.93 Q2067.68 1517.37 2064.04 1517.37 M2064.04 1513.66 Q2069.85 1513.66 2072.91 1518.27 Q2075.99 1522.85 2075.99 1531.6 Q2075.99 1540.33 2072.91 1544.94 Q2069.85 1549.52 2064.04 1549.52 Q2058.23 1549.52 2055.15 1544.94 Q2052.1 1540.33 2052.1 1531.6 Q2052.1 1522.85 2055.15 1518.27 Q2058.23 1513.66 2064.04 1513.66 Z\" fill=\"#000000\" fill-rule=\"nonzero\" fill-opacity=\"1\" /><polyline clip-path=\"url(#clip722)\" style=\"stroke:#000000; stroke-linecap:round; stroke-linejoin:round; stroke-width:2; stroke-opacity:0.1; fill:none\" points=\"201.019,1445.72 2352.76,1445.72 \"/>\n",
       "<polyline clip-path=\"url(#clip722)\" style=\"stroke:#000000; stroke-linecap:round; stroke-linejoin:round; stroke-width:2; stroke-opacity:0.1; fill:none\" points=\"201.019,1152.59 2352.76,1152.59 \"/>\n",
       "<polyline clip-path=\"url(#clip722)\" style=\"stroke:#000000; stroke-linecap:round; stroke-linejoin:round; stroke-width:2; stroke-opacity:0.1; fill:none\" points=\"201.019,859.472 2352.76,859.472 \"/>\n",
       "<polyline clip-path=\"url(#clip722)\" style=\"stroke:#000000; stroke-linecap:round; stroke-linejoin:round; stroke-width:2; stroke-opacity:0.1; fill:none\" points=\"201.019,566.351 2352.76,566.351 \"/>\n",
       "<polyline clip-path=\"url(#clip722)\" style=\"stroke:#000000; stroke-linecap:round; stroke-linejoin:round; stroke-width:2; stroke-opacity:0.1; fill:none\" points=\"201.019,273.229 2352.76,273.229 \"/>\n",
       "<polyline clip-path=\"url(#clip720)\" style=\"stroke:#000000; stroke-linecap:round; stroke-linejoin:round; stroke-width:4; stroke-opacity:1; fill:none\" points=\"201.019,1486.45 201.019,47.2441 \"/>\n",
       "<polyline clip-path=\"url(#clip720)\" style=\"stroke:#000000; stroke-linecap:round; stroke-linejoin:round; stroke-width:4; stroke-opacity:1; fill:none\" points=\"201.019,1445.72 219.917,1445.72 \"/>\n",
       "<polyline clip-path=\"url(#clip720)\" style=\"stroke:#000000; stroke-linecap:round; stroke-linejoin:round; stroke-width:4; stroke-opacity:1; fill:none\" points=\"201.019,1152.59 219.917,1152.59 \"/>\n",
       "<polyline clip-path=\"url(#clip720)\" style=\"stroke:#000000; stroke-linecap:round; stroke-linejoin:round; stroke-width:4; stroke-opacity:1; fill:none\" points=\"201.019,859.472 219.917,859.472 \"/>\n",
       "<polyline clip-path=\"url(#clip720)\" style=\"stroke:#000000; stroke-linecap:round; stroke-linejoin:round; stroke-width:4; stroke-opacity:1; fill:none\" points=\"201.019,566.351 219.917,566.351 \"/>\n",
       "<polyline clip-path=\"url(#clip720)\" style=\"stroke:#000000; stroke-linecap:round; stroke-linejoin:round; stroke-width:4; stroke-opacity:1; fill:none\" points=\"201.019,273.229 219.917,273.229 \"/>\n",
       "<path clip-path=\"url(#clip720)\" d=\"M153.075 1431.51 Q149.464 1431.51 147.635 1435.08 Q145.83 1438.62 145.83 1445.75 Q145.83 1452.86 147.635 1456.42 Q149.464 1459.96 153.075 1459.96 Q156.709 1459.96 158.515 1456.42 Q160.343 1452.86 160.343 1445.75 Q160.343 1438.62 158.515 1435.08 Q156.709 1431.51 153.075 1431.51 M153.075 1427.81 Q158.885 1427.81 161.941 1432.42 Q165.019 1437 165.019 1445.75 Q165.019 1454.48 161.941 1459.08 Q158.885 1463.67 153.075 1463.67 Q147.265 1463.67 144.186 1459.08 Q141.131 1454.48 141.131 1445.75 Q141.131 1437 144.186 1432.42 Q147.265 1427.81 153.075 1427.81 Z\" fill=\"#000000\" fill-rule=\"nonzero\" fill-opacity=\"1\" /><path clip-path=\"url(#clip720)\" d=\"M82.7975 1135.31 L101.154 1135.31 L101.154 1139.25 L87.0799 1139.25 L87.0799 1147.72 Q88.0984 1147.37 89.1169 1147.21 Q90.1354 1147.03 91.1539 1147.03 Q96.941 1147.03 100.321 1150.2 Q103.7 1153.37 103.7 1158.79 Q103.7 1164.36 100.228 1167.47 Q96.7558 1170.55 90.4364 1170.55 Q88.2604 1170.55 85.9919 1170.17 Q83.7466 1169.8 81.3392 1169.06 L81.3392 1164.36 Q83.4225 1165.5 85.6447 1166.05 Q87.8669 1166.61 90.3438 1166.61 Q94.3484 1166.61 96.6863 1164.5 Q99.0243 1162.4 99.0243 1158.79 Q99.0243 1155.18 96.6863 1153.07 Q94.3484 1150.96 90.3438 1150.96 Q88.4688 1150.96 86.5938 1151.38 Q84.7419 1151.8 82.7975 1152.68 L82.7975 1135.31 Z\" fill=\"#000000\" fill-rule=\"nonzero\" fill-opacity=\"1\" /><path clip-path=\"url(#clip720)\" d=\"M122.913 1138.39 Q119.302 1138.39 117.473 1141.96 Q115.668 1145.5 115.668 1152.63 Q115.668 1159.74 117.473 1163.3 Q119.302 1166.84 122.913 1166.84 Q126.547 1166.84 128.353 1163.3 Q130.182 1159.74 130.182 1152.63 Q130.182 1145.5 128.353 1141.96 Q126.547 1138.39 122.913 1138.39 M122.913 1134.69 Q128.723 1134.69 131.779 1139.3 Q134.857 1143.88 134.857 1152.63 Q134.857 1161.36 131.779 1165.96 Q128.723 1170.55 122.913 1170.55 Q117.103 1170.55 114.024 1165.96 Q110.969 1161.36 110.969 1152.63 Q110.969 1143.88 114.024 1139.3 Q117.103 1134.69 122.913 1134.69 Z\" fill=\"#000000\" fill-rule=\"nonzero\" fill-opacity=\"1\" /><path clip-path=\"url(#clip720)\" d=\"M153.075 1138.39 Q149.464 1138.39 147.635 1141.96 Q145.83 1145.5 145.83 1152.63 Q145.83 1159.74 147.635 1163.3 Q149.464 1166.84 153.075 1166.84 Q156.709 1166.84 158.515 1163.3 Q160.343 1159.74 160.343 1152.63 Q160.343 1145.5 158.515 1141.96 Q156.709 1138.39 153.075 1138.39 M153.075 1134.69 Q158.885 1134.69 161.941 1139.3 Q165.019 1143.88 165.019 1152.63 Q165.019 1161.36 161.941 1165.96 Q158.885 1170.55 153.075 1170.55 Q147.265 1170.55 144.186 1165.96 Q141.131 1161.36 141.131 1152.63 Q141.131 1143.88 144.186 1139.3 Q147.265 1134.69 153.075 1134.69 Z\" fill=\"#000000\" fill-rule=\"nonzero\" fill-opacity=\"1\" /><path clip-path=\"url(#clip720)\" d=\"M53.3995 872.817 L61.0384 872.817 L61.0384 846.452 L52.7282 848.118 L52.7282 843.859 L60.9921 842.192 L65.668 842.192 L65.668 872.817 L73.3068 872.817 L73.3068 876.752 L53.3995 876.752 L53.3995 872.817 Z\" fill=\"#000000\" fill-rule=\"nonzero\" fill-opacity=\"1\" /><path clip-path=\"url(#clip720)\" d=\"M92.7512 845.271 Q89.1401 845.271 87.3114 848.836 Q85.5058 852.378 85.5058 859.507 Q85.5058 866.614 87.3114 870.178 Q89.1401 873.72 92.7512 873.72 Q96.3854 873.72 98.1909 870.178 Q100.02 866.614 100.02 859.507 Q100.02 852.378 98.1909 848.836 Q96.3854 845.271 92.7512 845.271 M92.7512 841.567 Q98.5613 841.567 101.617 846.174 Q104.696 850.757 104.696 859.507 Q104.696 868.234 101.617 872.84 Q98.5613 877.424 92.7512 877.424 Q86.941 877.424 83.8623 872.84 Q80.8068 868.234 80.8068 859.507 Q80.8068 850.757 83.8623 846.174 Q86.941 841.567 92.7512 841.567 Z\" fill=\"#000000\" fill-rule=\"nonzero\" fill-opacity=\"1\" /><path clip-path=\"url(#clip720)\" d=\"M122.913 845.271 Q119.302 845.271 117.473 848.836 Q115.668 852.378 115.668 859.507 Q115.668 866.614 117.473 870.178 Q119.302 873.72 122.913 873.72 Q126.547 873.72 128.353 870.178 Q130.182 866.614 130.182 859.507 Q130.182 852.378 128.353 848.836 Q126.547 845.271 122.913 845.271 M122.913 841.567 Q128.723 841.567 131.779 846.174 Q134.857 850.757 134.857 859.507 Q134.857 868.234 131.779 872.84 Q128.723 877.424 122.913 877.424 Q117.103 877.424 114.024 872.84 Q110.969 868.234 110.969 859.507 Q110.969 850.757 114.024 846.174 Q117.103 841.567 122.913 841.567 Z\" fill=\"#000000\" fill-rule=\"nonzero\" fill-opacity=\"1\" /><path clip-path=\"url(#clip720)\" d=\"M153.075 845.271 Q149.464 845.271 147.635 848.836 Q145.83 852.378 145.83 859.507 Q145.83 866.614 147.635 870.178 Q149.464 873.72 153.075 873.72 Q156.709 873.72 158.515 870.178 Q160.343 866.614 160.343 859.507 Q160.343 852.378 158.515 848.836 Q156.709 845.271 153.075 845.271 M153.075 841.567 Q158.885 841.567 161.941 846.174 Q165.019 850.757 165.019 859.507 Q165.019 868.234 161.941 872.84 Q158.885 877.424 153.075 877.424 Q147.265 877.424 144.186 872.84 Q141.131 868.234 141.131 859.507 Q141.131 850.757 144.186 846.174 Q147.265 841.567 153.075 841.567 Z\" fill=\"#000000\" fill-rule=\"nonzero\" fill-opacity=\"1\" /><path clip-path=\"url(#clip720)\" d=\"M53.3995 579.696 L61.0384 579.696 L61.0384 553.33 L52.7282 554.997 L52.7282 550.737 L60.9921 549.071 L65.668 549.071 L65.668 579.696 L73.3068 579.696 L73.3068 583.631 L53.3995 583.631 L53.3995 579.696 Z\" fill=\"#000000\" fill-rule=\"nonzero\" fill-opacity=\"1\" /><path clip-path=\"url(#clip720)\" d=\"M82.7975 549.071 L101.154 549.071 L101.154 553.006 L87.0799 553.006 L87.0799 561.478 Q88.0984 561.131 89.1169 560.969 Q90.1354 560.784 91.1539 560.784 Q96.941 560.784 100.321 563.955 Q103.7 567.126 103.7 572.543 Q103.7 578.122 100.228 581.223 Q96.7558 584.302 90.4364 584.302 Q88.2604 584.302 85.9919 583.932 Q83.7466 583.561 81.3392 582.821 L81.3392 578.122 Q83.4225 579.256 85.6447 579.811 Q87.8669 580.367 90.3438 580.367 Q94.3484 580.367 96.6863 578.26 Q99.0243 576.154 99.0243 572.543 Q99.0243 568.932 96.6863 566.825 Q94.3484 564.719 90.3438 564.719 Q88.4688 564.719 86.5938 565.136 Q84.7419 565.552 82.7975 566.432 L82.7975 549.071 Z\" fill=\"#000000\" fill-rule=\"nonzero\" fill-opacity=\"1\" /><path clip-path=\"url(#clip720)\" d=\"M122.913 552.149 Q119.302 552.149 117.473 555.714 Q115.668 559.256 115.668 566.386 Q115.668 573.492 117.473 577.057 Q119.302 580.598 122.913 580.598 Q126.547 580.598 128.353 577.057 Q130.182 573.492 130.182 566.386 Q130.182 559.256 128.353 555.714 Q126.547 552.149 122.913 552.149 M122.913 548.446 Q128.723 548.446 131.779 553.052 Q134.857 557.636 134.857 566.386 Q134.857 575.112 131.779 579.719 Q128.723 584.302 122.913 584.302 Q117.103 584.302 114.024 579.719 Q110.969 575.112 110.969 566.386 Q110.969 557.636 114.024 553.052 Q117.103 548.446 122.913 548.446 Z\" fill=\"#000000\" fill-rule=\"nonzero\" fill-opacity=\"1\" /><path clip-path=\"url(#clip720)\" d=\"M153.075 552.149 Q149.464 552.149 147.635 555.714 Q145.83 559.256 145.83 566.386 Q145.83 573.492 147.635 577.057 Q149.464 580.598 153.075 580.598 Q156.709 580.598 158.515 577.057 Q160.343 573.492 160.343 566.386 Q160.343 559.256 158.515 555.714 Q156.709 552.149 153.075 552.149 M153.075 548.446 Q158.885 548.446 161.941 553.052 Q165.019 557.636 165.019 566.386 Q165.019 575.112 161.941 579.719 Q158.885 584.302 153.075 584.302 Q147.265 584.302 144.186 579.719 Q141.131 575.112 141.131 566.386 Q141.131 557.636 144.186 553.052 Q147.265 548.446 153.075 548.446 Z\" fill=\"#000000\" fill-rule=\"nonzero\" fill-opacity=\"1\" /><path clip-path=\"url(#clip720)\" d=\"M56.6171 286.574 L72.9365 286.574 L72.9365 290.509 L50.9921 290.509 L50.9921 286.574 Q53.6541 283.819 58.2375 279.19 Q62.8439 274.537 64.0245 273.194 Q66.2698 270.671 67.1494 268.935 Q68.0522 267.176 68.0522 265.486 Q68.0522 262.732 66.1078 260.995 Q64.1865 259.259 61.0847 259.259 Q58.8856 259.259 56.4319 260.023 Q54.0014 260.787 51.2236 262.338 L51.2236 257.616 Q54.0477 256.482 56.5014 255.903 Q58.955 255.324 60.9921 255.324 Q66.3624 255.324 69.5568 258.009 Q72.7513 260.694 72.7513 265.185 Q72.7513 267.315 71.9411 269.236 Q71.1541 271.134 69.0476 273.727 Q68.4689 274.398 65.367 277.616 Q62.2652 280.81 56.6171 286.574 Z\" fill=\"#000000\" fill-rule=\"nonzero\" fill-opacity=\"1\" /><path clip-path=\"url(#clip720)\" d=\"M92.7512 259.028 Q89.1401 259.028 87.3114 262.593 Q85.5058 266.134 85.5058 273.264 Q85.5058 280.37 87.3114 283.935 Q89.1401 287.477 92.7512 287.477 Q96.3854 287.477 98.1909 283.935 Q100.02 280.37 100.02 273.264 Q100.02 266.134 98.1909 262.593 Q96.3854 259.028 92.7512 259.028 M92.7512 255.324 Q98.5613 255.324 101.617 259.931 Q104.696 264.514 104.696 273.264 Q104.696 281.991 101.617 286.597 Q98.5613 291.18 92.7512 291.18 Q86.941 291.18 83.8623 286.597 Q80.8068 281.991 80.8068 273.264 Q80.8068 264.514 83.8623 259.931 Q86.941 255.324 92.7512 255.324 Z\" fill=\"#000000\" fill-rule=\"nonzero\" fill-opacity=\"1\" /><path clip-path=\"url(#clip720)\" d=\"M122.913 259.028 Q119.302 259.028 117.473 262.593 Q115.668 266.134 115.668 273.264 Q115.668 280.37 117.473 283.935 Q119.302 287.477 122.913 287.477 Q126.547 287.477 128.353 283.935 Q130.182 280.37 130.182 273.264 Q130.182 266.134 128.353 262.593 Q126.547 259.028 122.913 259.028 M122.913 255.324 Q128.723 255.324 131.779 259.931 Q134.857 264.514 134.857 273.264 Q134.857 281.991 131.779 286.597 Q128.723 291.18 122.913 291.18 Q117.103 291.18 114.024 286.597 Q110.969 281.991 110.969 273.264 Q110.969 264.514 114.024 259.931 Q117.103 255.324 122.913 255.324 Z\" fill=\"#000000\" fill-rule=\"nonzero\" fill-opacity=\"1\" /><path clip-path=\"url(#clip720)\" d=\"M153.075 259.028 Q149.464 259.028 147.635 262.593 Q145.83 266.134 145.83 273.264 Q145.83 280.37 147.635 283.935 Q149.464 287.477 153.075 287.477 Q156.709 287.477 158.515 283.935 Q160.343 280.37 160.343 273.264 Q160.343 266.134 158.515 262.593 Q156.709 259.028 153.075 259.028 M153.075 255.324 Q158.885 255.324 161.941 259.931 Q165.019 264.514 165.019 273.264 Q165.019 281.991 161.941 286.597 Q158.885 291.18 153.075 291.18 Q147.265 291.18 144.186 286.597 Q141.131 281.991 141.131 273.264 Q141.131 264.514 144.186 259.931 Q147.265 255.324 153.075 255.324 Z\" fill=\"#000000\" fill-rule=\"nonzero\" fill-opacity=\"1\" /><path clip-path=\"url(#clip722)\" d=\"M319.369 1443.37 L319.369 1445.72 L359.265 1445.72 L359.265 1443.37 L319.369 1443.37 L319.369 1443.37  Z\" fill=\"#009af9\" fill-rule=\"evenodd\" fill-opacity=\"1\"/>\n",
       "<polyline clip-path=\"url(#clip722)\" style=\"stroke:#000000; stroke-linecap:round; stroke-linejoin:round; stroke-width:4; stroke-opacity:1; fill:none\" points=\"319.369,1443.37 319.369,1445.72 359.265,1445.72 359.265,1443.37 319.369,1443.37 \"/>\n",
       "<path clip-path=\"url(#clip722)\" d=\"M359.265 1444.54 L359.265 1445.72 L399.162 1445.72 L399.162 1444.54 L359.265 1444.54 L359.265 1444.54  Z\" fill=\"#009af9\" fill-rule=\"evenodd\" fill-opacity=\"1\"/>\n",
       "<polyline clip-path=\"url(#clip722)\" style=\"stroke:#000000; stroke-linecap:round; stroke-linejoin:round; stroke-width:4; stroke-opacity:1; fill:none\" points=\"359.265,1444.54 359.265,1445.72 399.162,1445.72 399.162,1444.54 359.265,1444.54 \"/>\n",
       "<path clip-path=\"url(#clip722)\" d=\"M399.162 1444.54 L399.162 1445.72 L439.059 1445.72 L439.059 1444.54 L399.162 1444.54 L399.162 1444.54  Z\" fill=\"#009af9\" fill-rule=\"evenodd\" fill-opacity=\"1\"/>\n",
       "<polyline clip-path=\"url(#clip722)\" style=\"stroke:#000000; stroke-linecap:round; stroke-linejoin:round; stroke-width:4; stroke-opacity:1; fill:none\" points=\"399.162,1444.54 399.162,1445.72 439.059,1445.72 439.059,1444.54 399.162,1444.54 \"/>\n",
       "<path clip-path=\"url(#clip722)\" d=\"M439.059 1436.34 L439.059 1445.72 L478.955 1445.72 L478.955 1436.34 L439.059 1436.34 L439.059 1436.34  Z\" fill=\"#009af9\" fill-rule=\"evenodd\" fill-opacity=\"1\"/>\n",
       "<polyline clip-path=\"url(#clip722)\" style=\"stroke:#000000; stroke-linecap:round; stroke-linejoin:round; stroke-width:4; stroke-opacity:1; fill:none\" points=\"439.059,1436.34 439.059,1445.72 478.955,1445.72 478.955,1436.34 439.059,1436.34 \"/>\n",
       "<path clip-path=\"url(#clip722)\" d=\"M478.955 1438.09 L478.955 1445.72 L518.852 1445.72 L518.852 1438.09 L478.955 1438.09 L478.955 1438.09  Z\" fill=\"#009af9\" fill-rule=\"evenodd\" fill-opacity=\"1\"/>\n",
       "<polyline clip-path=\"url(#clip722)\" style=\"stroke:#000000; stroke-linecap:round; stroke-linejoin:round; stroke-width:4; stroke-opacity:1; fill:none\" points=\"478.955,1438.09 478.955,1445.72 518.852,1445.72 518.852,1438.09 478.955,1438.09 \"/>\n",
       "<path clip-path=\"url(#clip722)\" d=\"M518.852 1425.2 L518.852 1445.72 L558.748 1445.72 L558.748 1425.2 L518.852 1425.2 L518.852 1425.2  Z\" fill=\"#009af9\" fill-rule=\"evenodd\" fill-opacity=\"1\"/>\n",
       "<polyline clip-path=\"url(#clip722)\" style=\"stroke:#000000; stroke-linecap:round; stroke-linejoin:round; stroke-width:4; stroke-opacity:1; fill:none\" points=\"518.852,1425.2 518.852,1445.72 558.748,1445.72 558.748,1425.2 518.852,1425.2 \"/>\n",
       "<path clip-path=\"url(#clip722)\" d=\"M558.748 1415.23 L558.748 1445.72 L598.645 1445.72 L598.645 1415.23 L558.748 1415.23 L558.748 1415.23  Z\" fill=\"#009af9\" fill-rule=\"evenodd\" fill-opacity=\"1\"/>\n",
       "<polyline clip-path=\"url(#clip722)\" style=\"stroke:#000000; stroke-linecap:round; stroke-linejoin:round; stroke-width:4; stroke-opacity:1; fill:none\" points=\"558.748,1415.23 558.748,1445.72 598.645,1445.72 598.645,1415.23 558.748,1415.23 \"/>\n",
       "<path clip-path=\"url(#clip722)\" d=\"M598.645 1392.37 L598.645 1445.72 L638.542 1445.72 L638.542 1392.37 L598.645 1392.37 L598.645 1392.37  Z\" fill=\"#009af9\" fill-rule=\"evenodd\" fill-opacity=\"1\"/>\n",
       "<polyline clip-path=\"url(#clip722)\" style=\"stroke:#000000; stroke-linecap:round; stroke-linejoin:round; stroke-width:4; stroke-opacity:1; fill:none\" points=\"598.645,1392.37 598.645,1445.72 638.542,1445.72 638.542,1392.37 598.645,1392.37 \"/>\n",
       "<path clip-path=\"url(#clip722)\" d=\"M638.542 1398.82 L638.542 1445.72 L678.438 1445.72 L678.438 1398.82 L638.542 1398.82 L638.542 1398.82  Z\" fill=\"#009af9\" fill-rule=\"evenodd\" fill-opacity=\"1\"/>\n",
       "<polyline clip-path=\"url(#clip722)\" style=\"stroke:#000000; stroke-linecap:round; stroke-linejoin:round; stroke-width:4; stroke-opacity:1; fill:none\" points=\"638.542,1398.82 638.542,1445.72 678.438,1445.72 678.438,1398.82 638.542,1398.82 \"/>\n",
       "<path clip-path=\"url(#clip722)\" d=\"M678.438 1334.33 L678.438 1445.72 L718.335 1445.72 L718.335 1334.33 L678.438 1334.33 L678.438 1334.33  Z\" fill=\"#009af9\" fill-rule=\"evenodd\" fill-opacity=\"1\"/>\n",
       "<polyline clip-path=\"url(#clip722)\" style=\"stroke:#000000; stroke-linecap:round; stroke-linejoin:round; stroke-width:4; stroke-opacity:1; fill:none\" points=\"678.438,1334.33 678.438,1445.72 718.335,1445.72 718.335,1334.33 678.438,1334.33 \"/>\n",
       "<path clip-path=\"url(#clip722)\" d=\"M718.335 1338.43 L718.335 1445.72 L758.231 1445.72 L758.231 1338.43 L718.335 1338.43 L718.335 1338.43  Z\" fill=\"#009af9\" fill-rule=\"evenodd\" fill-opacity=\"1\"/>\n",
       "<polyline clip-path=\"url(#clip722)\" style=\"stroke:#000000; stroke-linecap:round; stroke-linejoin:round; stroke-width:4; stroke-opacity:1; fill:none\" points=\"718.335,1338.43 718.335,1445.72 758.231,1445.72 758.231,1338.43 718.335,1338.43 \"/>\n",
       "<path clip-path=\"url(#clip722)\" d=\"M758.231 1242.88 L758.231 1445.72 L798.128 1445.72 L798.128 1242.88 L758.231 1242.88 L758.231 1242.88  Z\" fill=\"#009af9\" fill-rule=\"evenodd\" fill-opacity=\"1\"/>\n",
       "<polyline clip-path=\"url(#clip722)\" style=\"stroke:#000000; stroke-linecap:round; stroke-linejoin:round; stroke-width:4; stroke-opacity:1; fill:none\" points=\"758.231,1242.88 758.231,1445.72 798.128,1445.72 798.128,1242.88 758.231,1242.88 \"/>\n",
       "<path clip-path=\"url(#clip722)\" d=\"M798.128 1262.22 L798.128 1445.72 L838.025 1445.72 L838.025 1262.22 L798.128 1262.22 L798.128 1262.22  Z\" fill=\"#009af9\" fill-rule=\"evenodd\" fill-opacity=\"1\"/>\n",
       "<polyline clip-path=\"url(#clip722)\" style=\"stroke:#000000; stroke-linecap:round; stroke-linejoin:round; stroke-width:4; stroke-opacity:1; fill:none\" points=\"798.128,1262.22 798.128,1445.72 838.025,1445.72 838.025,1262.22 798.128,1262.22 \"/>\n",
       "<path clip-path=\"url(#clip722)\" d=\"M838.025 1091.04 L838.025 1445.72 L877.921 1445.72 L877.921 1091.04 L838.025 1091.04 L838.025 1091.04  Z\" fill=\"#009af9\" fill-rule=\"evenodd\" fill-opacity=\"1\"/>\n",
       "<polyline clip-path=\"url(#clip722)\" style=\"stroke:#000000; stroke-linecap:round; stroke-linejoin:round; stroke-width:4; stroke-opacity:1; fill:none\" points=\"838.025,1091.04 838.025,1445.72 877.921,1445.72 877.921,1091.04 838.025,1091.04 \"/>\n",
       "<path clip-path=\"url(#clip722)\" d=\"M877.921 1129.14 L877.921 1445.72 L917.818 1445.72 L917.818 1129.14 L877.921 1129.14 L877.921 1129.14  Z\" fill=\"#009af9\" fill-rule=\"evenodd\" fill-opacity=\"1\"/>\n",
       "<polyline clip-path=\"url(#clip722)\" style=\"stroke:#000000; stroke-linecap:round; stroke-linejoin:round; stroke-width:4; stroke-opacity:1; fill:none\" points=\"877.921,1129.14 877.921,1445.72 917.818,1445.72 917.818,1129.14 877.921,1129.14 \"/>\n",
       "<path clip-path=\"url(#clip722)\" d=\"M917.818 900.509 L917.818 1445.72 L957.715 1445.72 L957.715 900.509 L917.818 900.509 L917.818 900.509  Z\" fill=\"#009af9\" fill-rule=\"evenodd\" fill-opacity=\"1\"/>\n",
       "<polyline clip-path=\"url(#clip722)\" style=\"stroke:#000000; stroke-linecap:round; stroke-linejoin:round; stroke-width:4; stroke-opacity:1; fill:none\" points=\"917.818,900.509 917.818,1445.72 957.715,1445.72 957.715,900.509 917.818,900.509 \"/>\n",
       "<path clip-path=\"url(#clip722)\" d=\"M957.715 993.722 L957.715 1445.72 L997.611 1445.72 L997.611 993.722 L957.715 993.722 L957.715 993.722  Z\" fill=\"#009af9\" fill-rule=\"evenodd\" fill-opacity=\"1\"/>\n",
       "<polyline clip-path=\"url(#clip722)\" style=\"stroke:#000000; stroke-linecap:round; stroke-linejoin:round; stroke-width:4; stroke-opacity:1; fill:none\" points=\"957.715,993.722 957.715,1445.72 997.611,1445.72 997.611,993.722 957.715,993.722 \"/>\n",
       "<path clip-path=\"url(#clip722)\" d=\"M997.611 596.249 L997.611 1445.72 L1037.51 1445.72 L1037.51 596.249 L997.611 596.249 L997.611 596.249  Z\" fill=\"#009af9\" fill-rule=\"evenodd\" fill-opacity=\"1\"/>\n",
       "<polyline clip-path=\"url(#clip722)\" style=\"stroke:#000000; stroke-linecap:round; stroke-linejoin:round; stroke-width:4; stroke-opacity:1; fill:none\" points=\"997.611,596.249 997.611,1445.72 1037.51,1445.72 1037.51,596.249 997.611,596.249 \"/>\n",
       "<path clip-path=\"url(#clip722)\" d=\"M1037.51 777.985 L1037.51 1445.72 L1077.4 1445.72 L1077.4 777.985 L1037.51 777.985 L1037.51 777.985  Z\" fill=\"#009af9\" fill-rule=\"evenodd\" fill-opacity=\"1\"/>\n",
       "<polyline clip-path=\"url(#clip722)\" style=\"stroke:#000000; stroke-linecap:round; stroke-linejoin:round; stroke-width:4; stroke-opacity:1; fill:none\" points=\"1037.51,777.985 1037.51,1445.72 1077.4,1445.72 1077.4,777.985 1037.51,777.985 \"/>\n",
       "<path clip-path=\"url(#clip722)\" d=\"M1077.4 367.614 L1077.4 1445.72 L1117.3 1445.72 L1117.3 367.614 L1077.4 367.614 L1077.4 367.614  Z\" fill=\"#009af9\" fill-rule=\"evenodd\" fill-opacity=\"1\"/>\n",
       "<polyline clip-path=\"url(#clip722)\" style=\"stroke:#000000; stroke-linecap:round; stroke-linejoin:round; stroke-width:4; stroke-opacity:1; fill:none\" points=\"1077.4,367.614 1077.4,1445.72 1117.3,1445.72 1117.3,367.614 1077.4,367.614 \"/>\n",
       "<path clip-path=\"url(#clip722)\" d=\"M1117.3 660.736 L1117.3 1445.72 L1157.2 1445.72 L1157.2 660.736 L1117.3 660.736 L1117.3 660.736  Z\" fill=\"#009af9\" fill-rule=\"evenodd\" fill-opacity=\"1\"/>\n",
       "<polyline clip-path=\"url(#clip722)\" style=\"stroke:#000000; stroke-linecap:round; stroke-linejoin:round; stroke-width:4; stroke-opacity:1; fill:none\" points=\"1117.3,660.736 1117.3,1445.72 1157.2,1445.72 1157.2,660.736 1117.3,660.736 \"/>\n",
       "<path clip-path=\"url(#clip722)\" d=\"M1157.2 200.535 L1157.2 1445.72 L1197.09 1445.72 L1197.09 200.535 L1157.2 200.535 L1157.2 200.535  Z\" fill=\"#009af9\" fill-rule=\"evenodd\" fill-opacity=\"1\"/>\n",
       "<polyline clip-path=\"url(#clip722)\" style=\"stroke:#000000; stroke-linecap:round; stroke-linejoin:round; stroke-width:4; stroke-opacity:1; fill:none\" points=\"1157.2,200.535 1157.2,1445.72 1197.09,1445.72 1197.09,200.535 1157.2,200.535 \"/>\n",
       "<path clip-path=\"url(#clip722)\" d=\"M1197.09 557.557 L1197.09 1445.72 L1236.99 1445.72 L1236.99 557.557 L1197.09 557.557 L1197.09 557.557  Z\" fill=\"#009af9\" fill-rule=\"evenodd\" fill-opacity=\"1\"/>\n",
       "<polyline clip-path=\"url(#clip722)\" style=\"stroke:#000000; stroke-linecap:round; stroke-linejoin:round; stroke-width:4; stroke-opacity:1; fill:none\" points=\"1197.09,557.557 1197.09,1445.72 1236.99,1445.72 1236.99,557.557 1197.09,557.557 \"/>\n",
       "<path clip-path=\"url(#clip722)\" d=\"M1236.99 87.9763 L1236.99 1445.72 L1276.89 1445.72 L1276.89 87.9763 L1236.99 87.9763 L1236.99 87.9763  Z\" fill=\"#009af9\" fill-rule=\"evenodd\" fill-opacity=\"1\"/>\n",
       "<polyline clip-path=\"url(#clip722)\" style=\"stroke:#000000; stroke-linecap:round; stroke-linejoin:round; stroke-width:4; stroke-opacity:1; fill:none\" points=\"1236.99,87.9763 1236.99,1445.72 1276.89,1445.72 1276.89,87.9763 1236.99,87.9763 \"/>\n",
       "<path clip-path=\"url(#clip722)\" d=\"M1276.89 533.521 L1276.89 1445.72 L1316.78 1445.72 L1316.78 533.521 L1276.89 533.521 L1276.89 533.521  Z\" fill=\"#009af9\" fill-rule=\"evenodd\" fill-opacity=\"1\"/>\n",
       "<polyline clip-path=\"url(#clip722)\" style=\"stroke:#000000; stroke-linecap:round; stroke-linejoin:round; stroke-width:4; stroke-opacity:1; fill:none\" points=\"1276.89,533.521 1276.89,1445.72 1316.78,1445.72 1316.78,533.521 1276.89,533.521 \"/>\n",
       "<path clip-path=\"url(#clip722)\" d=\"M1316.78 141.911 L1316.78 1445.72 L1356.68 1445.72 L1356.68 141.911 L1316.78 141.911 L1316.78 141.911  Z\" fill=\"#009af9\" fill-rule=\"evenodd\" fill-opacity=\"1\"/>\n",
       "<polyline clip-path=\"url(#clip722)\" style=\"stroke:#000000; stroke-linecap:round; stroke-linejoin:round; stroke-width:4; stroke-opacity:1; fill:none\" points=\"1316.78,141.911 1316.78,1445.72 1356.68,1445.72 1356.68,141.911 1316.78,141.911 \"/>\n",
       "<path clip-path=\"url(#clip722)\" d=\"M1356.68 646.08 L1356.68 1445.72 L1396.58 1445.72 L1396.58 646.08 L1356.68 646.08 L1356.68 646.08  Z\" fill=\"#009af9\" fill-rule=\"evenodd\" fill-opacity=\"1\"/>\n",
       "<polyline clip-path=\"url(#clip722)\" style=\"stroke:#000000; stroke-linecap:round; stroke-linejoin:round; stroke-width:4; stroke-opacity:1; fill:none\" points=\"1356.68,646.08 1356.68,1445.72 1396.58,1445.72 1396.58,646.08 1356.68,646.08 \"/>\n",
       "<path clip-path=\"url(#clip722)\" d=\"M1396.58 384.029 L1396.58 1445.72 L1436.47 1445.72 L1436.47 384.029 L1396.58 384.029 L1396.58 384.029  Z\" fill=\"#009af9\" fill-rule=\"evenodd\" fill-opacity=\"1\"/>\n",
       "<polyline clip-path=\"url(#clip722)\" style=\"stroke:#000000; stroke-linecap:round; stroke-linejoin:round; stroke-width:4; stroke-opacity:1; fill:none\" points=\"1396.58,384.029 1396.58,1445.72 1436.47,1445.72 1436.47,384.029 1396.58,384.029 \"/>\n",
       "<path clip-path=\"url(#clip722)\" d=\"M1436.47 785.02 L1436.47 1445.72 L1476.37 1445.72 L1476.37 785.02 L1436.47 785.02 L1436.47 785.02  Z\" fill=\"#009af9\" fill-rule=\"evenodd\" fill-opacity=\"1\"/>\n",
       "<polyline clip-path=\"url(#clip722)\" style=\"stroke:#000000; stroke-linecap:round; stroke-linejoin:round; stroke-width:4; stroke-opacity:1; fill:none\" points=\"1436.47,785.02 1436.47,1445.72 1476.37,1445.72 1476.37,785.02 1436.47,785.02 \"/>\n",
       "<path clip-path=\"url(#clip722)\" d=\"M1476.37 592.732 L1476.37 1445.72 L1516.27 1445.72 L1516.27 592.732 L1476.37 592.732 L1476.37 592.732  Z\" fill=\"#009af9\" fill-rule=\"evenodd\" fill-opacity=\"1\"/>\n",
       "<polyline clip-path=\"url(#clip722)\" style=\"stroke:#000000; stroke-linecap:round; stroke-linejoin:round; stroke-width:4; stroke-opacity:1; fill:none\" points=\"1476.37,592.732 1476.37,1445.72 1516.27,1445.72 1516.27,592.732 1476.37,592.732 \"/>\n",
       "<path clip-path=\"url(#clip722)\" d=\"M1516.27 958.548 L1516.27 1445.72 L1556.16 1445.72 L1556.16 958.548 L1516.27 958.548 L1516.27 958.548  Z\" fill=\"#009af9\" fill-rule=\"evenodd\" fill-opacity=\"1\"/>\n",
       "<polyline clip-path=\"url(#clip722)\" style=\"stroke:#000000; stroke-linecap:round; stroke-linejoin:round; stroke-width:4; stroke-opacity:1; fill:none\" points=\"1516.27,958.548 1516.27,1445.72 1556.16,1445.72 1556.16,958.548 1516.27,958.548 \"/>\n",
       "<path clip-path=\"url(#clip722)\" d=\"M1556.16 843.644 L1556.16 1445.72 L1596.06 1445.72 L1596.06 843.644 L1556.16 843.644 L1556.16 843.644  Z\" fill=\"#009af9\" fill-rule=\"evenodd\" fill-opacity=\"1\"/>\n",
       "<polyline clip-path=\"url(#clip722)\" style=\"stroke:#000000; stroke-linecap:round; stroke-linejoin:round; stroke-width:4; stroke-opacity:1; fill:none\" points=\"1556.16,843.644 1556.16,1445.72 1596.06,1445.72 1596.06,843.644 1556.16,843.644 \"/>\n",
       "<path clip-path=\"url(#clip722)\" d=\"M1596.06 1107.45 L1596.06 1445.72 L1635.96 1445.72 L1635.96 1107.45 L1596.06 1107.45 L1596.06 1107.45  Z\" fill=\"#009af9\" fill-rule=\"evenodd\" fill-opacity=\"1\"/>\n",
       "<polyline clip-path=\"url(#clip722)\" style=\"stroke:#000000; stroke-linecap:round; stroke-linejoin:round; stroke-width:4; stroke-opacity:1; fill:none\" points=\"1596.06,1107.45 1596.06,1445.72 1635.96,1445.72 1635.96,1107.45 1596.06,1107.45 \"/>\n",
       "<path clip-path=\"url(#clip722)\" d=\"M1635.96 1048.83 L1635.96 1445.72 L1675.85 1445.72 L1675.85 1048.83 L1635.96 1048.83 L1635.96 1048.83  Z\" fill=\"#009af9\" fill-rule=\"evenodd\" fill-opacity=\"1\"/>\n",
       "<polyline clip-path=\"url(#clip722)\" style=\"stroke:#000000; stroke-linecap:round; stroke-linejoin:round; stroke-width:4; stroke-opacity:1; fill:none\" points=\"1635.96,1048.83 1635.96,1445.72 1675.85,1445.72 1675.85,1048.83 1635.96,1048.83 \"/>\n",
       "<path clip-path=\"url(#clip722)\" d=\"M1675.85 1231.15 L1675.85 1445.72 L1715.75 1445.72 L1715.75 1231.15 L1675.85 1231.15 L1675.85 1231.15  Z\" fill=\"#009af9\" fill-rule=\"evenodd\" fill-opacity=\"1\"/>\n",
       "<polyline clip-path=\"url(#clip722)\" style=\"stroke:#000000; stroke-linecap:round; stroke-linejoin:round; stroke-width:4; stroke-opacity:1; fill:none\" points=\"1675.85,1231.15 1675.85,1445.72 1715.75,1445.72 1715.75,1231.15 1675.85,1231.15 \"/>\n",
       "<path clip-path=\"url(#clip722)\" d=\"M1715.75 1206.53 L1715.75 1445.72 L1755.65 1445.72 L1755.65 1206.53 L1715.75 1206.53 L1715.75 1206.53  Z\" fill=\"#009af9\" fill-rule=\"evenodd\" fill-opacity=\"1\"/>\n",
       "<polyline clip-path=\"url(#clip722)\" style=\"stroke:#000000; stroke-linecap:round; stroke-linejoin:round; stroke-width:4; stroke-opacity:1; fill:none\" points=\"1715.75,1206.53 1715.75,1445.72 1755.65,1445.72 1755.65,1206.53 1715.75,1206.53 \"/>\n",
       "<path clip-path=\"url(#clip722)\" d=\"M1755.65 1339.61 L1755.65 1445.72 L1795.54 1445.72 L1795.54 1339.61 L1755.65 1339.61 L1755.65 1339.61  Z\" fill=\"#009af9\" fill-rule=\"evenodd\" fill-opacity=\"1\"/>\n",
       "<polyline clip-path=\"url(#clip722)\" style=\"stroke:#000000; stroke-linecap:round; stroke-linejoin:round; stroke-width:4; stroke-opacity:1; fill:none\" points=\"1755.65,1339.61 1755.65,1445.72 1795.54,1445.72 1795.54,1339.61 1755.65,1339.61 \"/>\n",
       "<path clip-path=\"url(#clip722)\" d=\"M1795.54 1345.47 L1795.54 1445.72 L1835.44 1445.72 L1835.44 1345.47 L1795.54 1345.47 L1795.54 1345.47  Z\" fill=\"#009af9\" fill-rule=\"evenodd\" fill-opacity=\"1\"/>\n",
       "<polyline clip-path=\"url(#clip722)\" style=\"stroke:#000000; stroke-linecap:round; stroke-linejoin:round; stroke-width:4; stroke-opacity:1; fill:none\" points=\"1795.54,1345.47 1795.54,1445.72 1835.44,1445.72 1835.44,1345.47 1795.54,1345.47 \"/>\n",
       "<path clip-path=\"url(#clip722)\" d=\"M1835.44 1390.02 L1835.44 1445.72 L1875.34 1445.72 L1875.34 1390.02 L1835.44 1390.02 L1835.44 1390.02  Z\" fill=\"#009af9\" fill-rule=\"evenodd\" fill-opacity=\"1\"/>\n",
       "<polyline clip-path=\"url(#clip722)\" style=\"stroke:#000000; stroke-linecap:round; stroke-linejoin:round; stroke-width:4; stroke-opacity:1; fill:none\" points=\"1835.44,1390.02 1835.44,1445.72 1875.34,1445.72 1875.34,1390.02 1835.44,1390.02 \"/>\n",
       "<path clip-path=\"url(#clip722)\" d=\"M1875.34 1385.33 L1875.34 1445.72 L1915.23 1445.72 L1915.23 1385.33 L1875.34 1385.33 L1875.34 1385.33  Z\" fill=\"#009af9\" fill-rule=\"evenodd\" fill-opacity=\"1\"/>\n",
       "<polyline clip-path=\"url(#clip722)\" style=\"stroke:#000000; stroke-linecap:round; stroke-linejoin:round; stroke-width:4; stroke-opacity:1; fill:none\" points=\"1875.34,1385.33 1875.34,1445.72 1915.23,1445.72 1915.23,1385.33 1875.34,1385.33 \"/>\n",
       "<path clip-path=\"url(#clip722)\" d=\"M1915.23 1424.02 L1915.23 1445.72 L1955.13 1445.72 L1955.13 1424.02 L1915.23 1424.02 L1915.23 1424.02  Z\" fill=\"#009af9\" fill-rule=\"evenodd\" fill-opacity=\"1\"/>\n",
       "<polyline clip-path=\"url(#clip722)\" style=\"stroke:#000000; stroke-linecap:round; stroke-linejoin:round; stroke-width:4; stroke-opacity:1; fill:none\" points=\"1915.23,1424.02 1915.23,1445.72 1955.13,1445.72 1955.13,1424.02 1915.23,1424.02 \"/>\n",
       "<path clip-path=\"url(#clip722)\" d=\"M1955.13 1416.4 L1955.13 1445.72 L1995.03 1445.72 L1995.03 1416.4 L1955.13 1416.4 L1955.13 1416.4  Z\" fill=\"#009af9\" fill-rule=\"evenodd\" fill-opacity=\"1\"/>\n",
       "<polyline clip-path=\"url(#clip722)\" style=\"stroke:#000000; stroke-linecap:round; stroke-linejoin:round; stroke-width:4; stroke-opacity:1; fill:none\" points=\"1955.13,1416.4 1955.13,1445.72 1995.03,1445.72 1995.03,1416.4 1955.13,1416.4 \"/>\n",
       "<path clip-path=\"url(#clip722)\" d=\"M1995.03 1433.99 L1995.03 1445.72 L2034.92 1445.72 L2034.92 1433.99 L1995.03 1433.99 L1995.03 1433.99  Z\" fill=\"#009af9\" fill-rule=\"evenodd\" fill-opacity=\"1\"/>\n",
       "<polyline clip-path=\"url(#clip722)\" style=\"stroke:#000000; stroke-linecap:round; stroke-linejoin:round; stroke-width:4; stroke-opacity:1; fill:none\" points=\"1995.03,1433.99 1995.03,1445.72 2034.92,1445.72 2034.92,1433.99 1995.03,1433.99 \"/>\n",
       "<path clip-path=\"url(#clip722)\" d=\"M2034.92 1435.75 L2034.92 1445.72 L2074.82 1445.72 L2074.82 1435.75 L2034.92 1435.75 L2034.92 1435.75  Z\" fill=\"#009af9\" fill-rule=\"evenodd\" fill-opacity=\"1\"/>\n",
       "<polyline clip-path=\"url(#clip722)\" style=\"stroke:#000000; stroke-linecap:round; stroke-linejoin:round; stroke-width:4; stroke-opacity:1; fill:none\" points=\"2034.92,1435.75 2034.92,1445.72 2074.82,1445.72 2074.82,1435.75 2034.92,1435.75 \"/>\n",
       "<path clip-path=\"url(#clip722)\" d=\"M2074.82 1443.37 L2074.82 1445.72 L2114.72 1445.72 L2114.72 1443.37 L2074.82 1443.37 L2074.82 1443.37  Z\" fill=\"#009af9\" fill-rule=\"evenodd\" fill-opacity=\"1\"/>\n",
       "<polyline clip-path=\"url(#clip722)\" style=\"stroke:#000000; stroke-linecap:round; stroke-linejoin:round; stroke-width:4; stroke-opacity:1; fill:none\" points=\"2074.82,1443.37 2074.82,1445.72 2114.72,1445.72 2114.72,1443.37 2074.82,1443.37 \"/>\n",
       "<path clip-path=\"url(#clip722)\" d=\"M2114.72 1443.96 L2114.72 1445.72 L2154.61 1445.72 L2154.61 1443.96 L2114.72 1443.96 L2114.72 1443.96  Z\" fill=\"#009af9\" fill-rule=\"evenodd\" fill-opacity=\"1\"/>\n",
       "<polyline clip-path=\"url(#clip722)\" style=\"stroke:#000000; stroke-linecap:round; stroke-linejoin:round; stroke-width:4; stroke-opacity:1; fill:none\" points=\"2114.72,1443.96 2114.72,1445.72 2154.61,1445.72 2154.61,1443.96 2114.72,1443.96 \"/>\n",
       "<path clip-path=\"url(#clip722)\" d=\"M2154.61 1445.72 L2154.61 1445.72 L2194.51 1445.72 L2194.51 1445.72 L2154.61 1445.72 L2154.61 1445.72  Z\" fill=\"#009af9\" fill-rule=\"evenodd\" fill-opacity=\"1\"/>\n",
       "<polyline clip-path=\"url(#clip722)\" style=\"stroke:#000000; stroke-linecap:round; stroke-linejoin:round; stroke-width:4; stroke-opacity:1; fill:none\" points=\"2154.61,1445.72 2154.61,1445.72 2194.51,1445.72 2154.61,1445.72 \"/>\n",
       "<path clip-path=\"url(#clip722)\" d=\"M2194.51 1444.54 L2194.51 1445.72 L2234.41 1445.72 L2234.41 1444.54 L2194.51 1444.54 L2194.51 1444.54  Z\" fill=\"#009af9\" fill-rule=\"evenodd\" fill-opacity=\"1\"/>\n",
       "<polyline clip-path=\"url(#clip722)\" style=\"stroke:#000000; stroke-linecap:round; stroke-linejoin:round; stroke-width:4; stroke-opacity:1; fill:none\" points=\"2194.51,1444.54 2194.51,1445.72 2234.41,1445.72 2234.41,1444.54 2194.51,1444.54 \"/>\n",
       "<circle clip-path=\"url(#clip722)\" style=\"fill:#009af9; stroke:none; fill-opacity:0\" cx=\"339.317\" cy=\"1443.37\" r=\"2\"/>\n",
       "<circle clip-path=\"url(#clip722)\" style=\"fill:#009af9; stroke:none; fill-opacity:0\" cx=\"379.214\" cy=\"1444.54\" r=\"2\"/>\n",
       "<circle clip-path=\"url(#clip722)\" style=\"fill:#009af9; stroke:none; fill-opacity:0\" cx=\"419.11\" cy=\"1444.54\" r=\"2\"/>\n",
       "<circle clip-path=\"url(#clip722)\" style=\"fill:#009af9; stroke:none; fill-opacity:0\" cx=\"459.007\" cy=\"1436.34\" r=\"2\"/>\n",
       "<circle clip-path=\"url(#clip722)\" style=\"fill:#009af9; stroke:none; fill-opacity:0\" cx=\"498.903\" cy=\"1438.09\" r=\"2\"/>\n",
       "<circle clip-path=\"url(#clip722)\" style=\"fill:#009af9; stroke:none; fill-opacity:0\" cx=\"538.8\" cy=\"1425.2\" r=\"2\"/>\n",
       "<circle clip-path=\"url(#clip722)\" style=\"fill:#009af9; stroke:none; fill-opacity:0\" cx=\"578.697\" cy=\"1415.23\" r=\"2\"/>\n",
       "<circle clip-path=\"url(#clip722)\" style=\"fill:#009af9; stroke:none; fill-opacity:0\" cx=\"618.593\" cy=\"1392.37\" r=\"2\"/>\n",
       "<circle clip-path=\"url(#clip722)\" style=\"fill:#009af9; stroke:none; fill-opacity:0\" cx=\"658.49\" cy=\"1398.82\" r=\"2\"/>\n",
       "<circle clip-path=\"url(#clip722)\" style=\"fill:#009af9; stroke:none; fill-opacity:0\" cx=\"698.387\" cy=\"1334.33\" r=\"2\"/>\n",
       "<circle clip-path=\"url(#clip722)\" style=\"fill:#009af9; stroke:none; fill-opacity:0\" cx=\"738.283\" cy=\"1338.43\" r=\"2\"/>\n",
       "<circle clip-path=\"url(#clip722)\" style=\"fill:#009af9; stroke:none; fill-opacity:0\" cx=\"778.18\" cy=\"1242.88\" r=\"2\"/>\n",
       "<circle clip-path=\"url(#clip722)\" style=\"fill:#009af9; stroke:none; fill-opacity:0\" cx=\"818.076\" cy=\"1262.22\" r=\"2\"/>\n",
       "<circle clip-path=\"url(#clip722)\" style=\"fill:#009af9; stroke:none; fill-opacity:0\" cx=\"857.973\" cy=\"1091.04\" r=\"2\"/>\n",
       "<circle clip-path=\"url(#clip722)\" style=\"fill:#009af9; stroke:none; fill-opacity:0\" cx=\"897.87\" cy=\"1129.14\" r=\"2\"/>\n",
       "<circle clip-path=\"url(#clip722)\" style=\"fill:#009af9; stroke:none; fill-opacity:0\" cx=\"937.766\" cy=\"900.509\" r=\"2\"/>\n",
       "<circle clip-path=\"url(#clip722)\" style=\"fill:#009af9; stroke:none; fill-opacity:0\" cx=\"977.663\" cy=\"993.722\" r=\"2\"/>\n",
       "<circle clip-path=\"url(#clip722)\" style=\"fill:#009af9; stroke:none; fill-opacity:0\" cx=\"1017.56\" cy=\"596.249\" r=\"2\"/>\n",
       "<circle clip-path=\"url(#clip722)\" style=\"fill:#009af9; stroke:none; fill-opacity:0\" cx=\"1057.46\" cy=\"777.985\" r=\"2\"/>\n",
       "<circle clip-path=\"url(#clip722)\" style=\"fill:#009af9; stroke:none; fill-opacity:0\" cx=\"1097.35\" cy=\"367.614\" r=\"2\"/>\n",
       "<circle clip-path=\"url(#clip722)\" style=\"fill:#009af9; stroke:none; fill-opacity:0\" cx=\"1137.25\" cy=\"660.736\" r=\"2\"/>\n",
       "<circle clip-path=\"url(#clip722)\" style=\"fill:#009af9; stroke:none; fill-opacity:0\" cx=\"1177.15\" cy=\"200.535\" r=\"2\"/>\n",
       "<circle clip-path=\"url(#clip722)\" style=\"fill:#009af9; stroke:none; fill-opacity:0\" cx=\"1217.04\" cy=\"557.557\" r=\"2\"/>\n",
       "<circle clip-path=\"url(#clip722)\" style=\"fill:#009af9; stroke:none; fill-opacity:0\" cx=\"1256.94\" cy=\"87.9763\" r=\"2\"/>\n",
       "<circle clip-path=\"url(#clip722)\" style=\"fill:#009af9; stroke:none; fill-opacity:0\" cx=\"1296.84\" cy=\"533.521\" r=\"2\"/>\n",
       "<circle clip-path=\"url(#clip722)\" style=\"fill:#009af9; stroke:none; fill-opacity:0\" cx=\"1336.73\" cy=\"141.911\" r=\"2\"/>\n",
       "<circle clip-path=\"url(#clip722)\" style=\"fill:#009af9; stroke:none; fill-opacity:0\" cx=\"1376.63\" cy=\"646.08\" r=\"2\"/>\n",
       "<circle clip-path=\"url(#clip722)\" style=\"fill:#009af9; stroke:none; fill-opacity:0\" cx=\"1416.53\" cy=\"384.029\" r=\"2\"/>\n",
       "<circle clip-path=\"url(#clip722)\" style=\"fill:#009af9; stroke:none; fill-opacity:0\" cx=\"1456.42\" cy=\"785.02\" r=\"2\"/>\n",
       "<circle clip-path=\"url(#clip722)\" style=\"fill:#009af9; stroke:none; fill-opacity:0\" cx=\"1496.32\" cy=\"592.732\" r=\"2\"/>\n",
       "<circle clip-path=\"url(#clip722)\" style=\"fill:#009af9; stroke:none; fill-opacity:0\" cx=\"1536.22\" cy=\"958.548\" r=\"2\"/>\n",
       "<circle clip-path=\"url(#clip722)\" style=\"fill:#009af9; stroke:none; fill-opacity:0\" cx=\"1576.11\" cy=\"843.644\" r=\"2\"/>\n",
       "<circle clip-path=\"url(#clip722)\" style=\"fill:#009af9; stroke:none; fill-opacity:0\" cx=\"1616.01\" cy=\"1107.45\" r=\"2\"/>\n",
       "<circle clip-path=\"url(#clip722)\" style=\"fill:#009af9; stroke:none; fill-opacity:0\" cx=\"1655.91\" cy=\"1048.83\" r=\"2\"/>\n",
       "<circle clip-path=\"url(#clip722)\" style=\"fill:#009af9; stroke:none; fill-opacity:0\" cx=\"1695.8\" cy=\"1231.15\" r=\"2\"/>\n",
       "<circle clip-path=\"url(#clip722)\" style=\"fill:#009af9; stroke:none; fill-opacity:0\" cx=\"1735.7\" cy=\"1206.53\" r=\"2\"/>\n",
       "<circle clip-path=\"url(#clip722)\" style=\"fill:#009af9; stroke:none; fill-opacity:0\" cx=\"1775.6\" cy=\"1339.61\" r=\"2\"/>\n",
       "<circle clip-path=\"url(#clip722)\" style=\"fill:#009af9; stroke:none; fill-opacity:0\" cx=\"1815.49\" cy=\"1345.47\" r=\"2\"/>\n",
       "<circle clip-path=\"url(#clip722)\" style=\"fill:#009af9; stroke:none; fill-opacity:0\" cx=\"1855.39\" cy=\"1390.02\" r=\"2\"/>\n",
       "<circle clip-path=\"url(#clip722)\" style=\"fill:#009af9; stroke:none; fill-opacity:0\" cx=\"1895.29\" cy=\"1385.33\" r=\"2\"/>\n",
       "<circle clip-path=\"url(#clip722)\" style=\"fill:#009af9; stroke:none; fill-opacity:0\" cx=\"1935.18\" cy=\"1424.02\" r=\"2\"/>\n",
       "<circle clip-path=\"url(#clip722)\" style=\"fill:#009af9; stroke:none; fill-opacity:0\" cx=\"1975.08\" cy=\"1416.4\" r=\"2\"/>\n",
       "<circle clip-path=\"url(#clip722)\" style=\"fill:#009af9; stroke:none; fill-opacity:0\" cx=\"2014.98\" cy=\"1433.99\" r=\"2\"/>\n",
       "<circle clip-path=\"url(#clip722)\" style=\"fill:#009af9; stroke:none; fill-opacity:0\" cx=\"2054.87\" cy=\"1435.75\" r=\"2\"/>\n",
       "<circle clip-path=\"url(#clip722)\" style=\"fill:#009af9; stroke:none; fill-opacity:0\" cx=\"2094.77\" cy=\"1443.37\" r=\"2\"/>\n",
       "<circle clip-path=\"url(#clip722)\" style=\"fill:#009af9; stroke:none; fill-opacity:0\" cx=\"2134.67\" cy=\"1443.96\" r=\"2\"/>\n",
       "<circle clip-path=\"url(#clip722)\" style=\"fill:#009af9; stroke:none; fill-opacity:0\" cx=\"2174.56\" cy=\"1445.72\" r=\"2\"/>\n",
       "<circle clip-path=\"url(#clip722)\" style=\"fill:#009af9; stroke:none; fill-opacity:0\" cx=\"2214.46\" cy=\"1444.54\" r=\"2\"/>\n",
       "<path clip-path=\"url(#clip720)\" d=\"M2013.43 198.898 L2281.03 198.898 L2281.03 95.2176 L2013.43 95.2176  Z\" fill=\"#ffffff\" fill-rule=\"evenodd\" fill-opacity=\"1\"/>\n",
       "<polyline clip-path=\"url(#clip720)\" style=\"stroke:#000000; stroke-linecap:round; stroke-linejoin:round; stroke-width:4; stroke-opacity:1; fill:none\" points=\"2013.43,198.898 2281.03,198.898 2281.03,95.2176 2013.43,95.2176 2013.43,198.898 \"/>\n",
       "<path clip-path=\"url(#clip720)\" d=\"M2037.34 167.794 L2180.78 167.794 L2180.78 126.322 L2037.34 126.322 L2037.34 167.794  Z\" fill=\"#009af9\" fill-rule=\"evenodd\" fill-opacity=\"1\"/>\n",
       "<polyline clip-path=\"url(#clip720)\" style=\"stroke:#000000; stroke-linecap:round; stroke-linejoin:round; stroke-width:4; stroke-opacity:1; fill:none\" points=\"2037.34,167.794 2180.78,167.794 2180.78,126.322 2037.34,126.322 2037.34,167.794 \"/>\n",
       "<path clip-path=\"url(#clip720)\" d=\"M2218.54 166.745 Q2216.73 171.375 2215.02 172.787 Q2213.3 174.199 2210.43 174.199 L2207.03 174.199 L2207.03 170.634 L2209.53 170.634 Q2211.29 170.634 2212.26 169.8 Q2213.23 168.967 2214.42 165.865 L2215.18 163.921 L2204.69 138.412 L2209.21 138.412 L2217.31 158.689 L2225.41 138.412 L2229.92 138.412 L2218.54 166.745 Z\" fill=\"#000000\" fill-rule=\"nonzero\" fill-opacity=\"1\" /><path clip-path=\"url(#clip720)\" d=\"M2237.22 160.402 L2244.85 160.402 L2244.85 134.037 L2236.54 135.703 L2236.54 131.444 L2244.81 129.778 L2249.48 129.778 L2249.48 160.402 L2257.12 160.402 L2257.12 164.338 L2237.22 164.338 L2237.22 160.402 Z\" fill=\"#000000\" fill-rule=\"nonzero\" fill-opacity=\"1\" /></svg>\n"
      ]
     },
     "metadata": {},
     "output_type": "display_data"
    }
   ],
   "source": [
    "histogram(S)"
   ]
  },
  {
   "cell_type": "code",
   "execution_count": 20,
   "metadata": {},
   "outputs": [
    {
     "data": {
      "image/png": "[encoded data removed]",
      "image/svg+xml": [
       "<?xml version=\"1.0\" encoding=\"utf-8\"?>\n",
       "<svg xmlns=\"http://www.w3.org/2000/svg\" xmlns:xlink=\"http://www.w3.org/1999/xlink\" width=\"600\" height=\"400\" viewBox=\"0 0 2400 1600\">\n",
       "<defs>\n",
       "  <clipPath id=\"clip760\">\n",
       "    <rect x=\"0\" y=\"0\" width=\"2400\" height=\"1600\"/>\n",
       "  </clipPath>\n",
       "</defs>\n",
       "<path clip-path=\"url(#clip760)\" d=\"M0 1600 L2400 1600 L2400 0 L0 0  Z\" fill=\"#ffffff\" fill-rule=\"evenodd\" fill-opacity=\"1\"/>\n",
       "<defs>\n",
       "  <clipPath id=\"clip761\">\n",
       "    <rect x=\"480\" y=\"0\" width=\"1681\" height=\"1600\"/>\n",
       "  </clipPath>\n",
       "</defs>\n",
       "<path clip-path=\"url(#clip760)\" d=\"M279.704 1423.18 L2352.76 1423.18 L2352.76 47.2441 L279.704 47.2441  Z\" fill=\"#ffffff\" fill-rule=\"evenodd\" fill-opacity=\"1\"/>\n",
       "<defs>\n",
       "  <clipPath id=\"clip762\">\n",
       "    <rect x=\"279\" y=\"47\" width=\"2074\" height=\"1377\"/>\n",
       "  </clipPath>\n",
       "</defs>\n",
       "<polyline clip-path=\"url(#clip762)\" style=\"stroke:#000000; stroke-linecap:round; stroke-linejoin:round; stroke-width:2; stroke-opacity:0.1; fill:none\" points=\"509.039,1423.18 509.039,47.2441 \"/>\n",
       "<polyline clip-path=\"url(#clip762)\" style=\"stroke:#000000; stroke-linecap:round; stroke-linejoin:round; stroke-width:2; stroke-opacity:0.1; fill:none\" points=\"893.415,1423.18 893.415,47.2441 \"/>\n",
       "<polyline clip-path=\"url(#clip762)\" style=\"stroke:#000000; stroke-linecap:round; stroke-linejoin:round; stroke-width:2; stroke-opacity:0.1; fill:none\" points=\"1277.79,1423.18 1277.79,47.2441 \"/>\n",
       "<polyline clip-path=\"url(#clip762)\" style=\"stroke:#000000; stroke-linecap:round; stroke-linejoin:round; stroke-width:2; stroke-opacity:0.1; fill:none\" points=\"1662.17,1423.18 1662.17,47.2441 \"/>\n",
       "<polyline clip-path=\"url(#clip762)\" style=\"stroke:#000000; stroke-linecap:round; stroke-linejoin:round; stroke-width:2; stroke-opacity:0.1; fill:none\" points=\"2046.55,1423.18 2046.55,47.2441 \"/>\n",
       "<polyline clip-path=\"url(#clip760)\" style=\"stroke:#000000; stroke-linecap:round; stroke-linejoin:round; stroke-width:4; stroke-opacity:1; fill:none\" points=\"279.704,1423.18 2352.76,1423.18 \"/>\n",
       "<polyline clip-path=\"url(#clip760)\" style=\"stroke:#000000; stroke-linecap:round; stroke-linejoin:round; stroke-width:4; stroke-opacity:1; fill:none\" points=\"509.039,1423.18 509.039,1404.28 \"/>\n",
       "<polyline clip-path=\"url(#clip760)\" style=\"stroke:#000000; stroke-linecap:round; stroke-linejoin:round; stroke-width:4; stroke-opacity:1; fill:none\" points=\"893.415,1423.18 893.415,1404.28 \"/>\n",
       "<polyline clip-path=\"url(#clip760)\" style=\"stroke:#000000; stroke-linecap:round; stroke-linejoin:round; stroke-width:4; stroke-opacity:1; fill:none\" points=\"1277.79,1423.18 1277.79,1404.28 \"/>\n",
       "<polyline clip-path=\"url(#clip760)\" style=\"stroke:#000000; stroke-linecap:round; stroke-linejoin:round; stroke-width:4; stroke-opacity:1; fill:none\" points=\"1662.17,1423.18 1662.17,1404.28 \"/>\n",
       "<polyline clip-path=\"url(#clip760)\" style=\"stroke:#000000; stroke-linecap:round; stroke-linejoin:round; stroke-width:4; stroke-opacity:1; fill:none\" points=\"2046.55,1423.18 2046.55,1404.28 \"/>\n",
       "<path clip-path=\"url(#clip760)\" d=\"M463.101 1468.75 L492.777 1468.75 L492.777 1472.69 L463.101 1472.69 L463.101 1468.75 Z\" fill=\"#000000\" fill-rule=\"nonzero\" fill-opacity=\"1\" /><path clip-path=\"url(#clip760)\" d=\"M502.916 1451.02 L521.272 1451.02 L521.272 1454.96 L507.198 1454.96 L507.198 1463.43 Q508.217 1463.08 509.235 1462.92 Q510.254 1462.73 511.272 1462.73 Q517.059 1462.73 520.439 1465.9 Q523.819 1469.08 523.819 1474.49 Q523.819 1480.07 520.346 1483.17 Q516.874 1486.25 510.555 1486.25 Q508.379 1486.25 506.11 1485.88 Q503.865 1485.51 501.458 1484.77 L501.458 1480.07 Q503.541 1481.2 505.763 1481.76 Q507.985 1482.32 510.462 1482.32 Q514.467 1482.32 516.805 1480.21 Q519.143 1478.1 519.143 1474.49 Q519.143 1470.88 516.805 1468.77 Q514.467 1466.67 510.462 1466.67 Q508.587 1466.67 506.712 1467.08 Q504.86 1467.5 502.916 1468.38 L502.916 1451.02 Z\" fill=\"#000000\" fill-rule=\"nonzero\" fill-opacity=\"1\" /><path clip-path=\"url(#clip760)\" d=\"M543.031 1454.1 Q539.42 1454.1 537.592 1457.66 Q535.786 1461.2 535.786 1468.33 Q535.786 1475.44 537.592 1479.01 Q539.42 1482.55 543.031 1482.55 Q546.666 1482.55 548.471 1479.01 Q550.3 1475.44 550.3 1468.33 Q550.3 1461.2 548.471 1457.66 Q546.666 1454.1 543.031 1454.1 M543.031 1450.39 Q548.842 1450.39 551.897 1455 Q554.976 1459.58 554.976 1468.33 Q554.976 1477.06 551.897 1481.67 Q548.842 1486.25 543.031 1486.25 Q537.221 1486.25 534.143 1481.67 Q531.087 1477.06 531.087 1468.33 Q531.087 1459.58 534.143 1455 Q537.221 1450.39 543.031 1450.39 Z\" fill=\"#000000\" fill-rule=\"nonzero\" fill-opacity=\"1\" /><path clip-path=\"url(#clip760)\" d=\"M893.415 1454.1 Q889.804 1454.1 887.976 1457.66 Q886.17 1461.2 886.17 1468.33 Q886.17 1475.44 887.976 1479.01 Q889.804 1482.55 893.415 1482.55 Q897.05 1482.55 898.855 1479.01 Q900.684 1475.44 900.684 1468.33 Q900.684 1461.2 898.855 1457.66 Q897.05 1454.1 893.415 1454.1 M893.415 1450.39 Q899.226 1450.39 902.281 1455 Q905.36 1459.58 905.36 1468.33 Q905.36 1477.06 902.281 1481.67 Q899.226 1486.25 893.415 1486.25 Q887.605 1486.25 884.527 1481.67 Q881.471 1477.06 881.471 1468.33 Q881.471 1459.58 884.527 1455 Q887.605 1450.39 893.415 1450.39 Z\" fill=\"#000000\" fill-rule=\"nonzero\" fill-opacity=\"1\" /><path clip-path=\"url(#clip760)\" d=\"M1252.49 1451.02 L1270.85 1451.02 L1270.85 1454.96 L1256.77 1454.96 L1256.77 1463.43 Q1257.79 1463.08 1258.81 1462.92 Q1259.83 1462.73 1260.85 1462.73 Q1266.63 1462.73 1270.01 1465.9 Q1273.39 1469.08 1273.39 1474.49 Q1273.39 1480.07 1269.92 1483.17 Q1266.45 1486.25 1260.13 1486.25 Q1257.95 1486.25 1255.69 1485.88 Q1253.44 1485.51 1251.03 1484.77 L1251.03 1480.07 Q1253.12 1481.2 1255.34 1481.76 Q1257.56 1482.32 1260.04 1482.32 Q1264.04 1482.32 1266.38 1480.21 Q1268.72 1478.1 1268.72 1474.49 Q1268.72 1470.88 1266.38 1468.77 Q1264.04 1466.67 1260.04 1466.67 Q1258.16 1466.67 1256.29 1467.08 Q1254.44 1467.5 1252.49 1468.38 L1252.49 1451.02 Z\" fill=\"#000000\" fill-rule=\"nonzero\" fill-opacity=\"1\" /><path clip-path=\"url(#clip760)\" d=\"M1292.61 1454.1 Q1289 1454.1 1287.17 1457.66 Q1285.36 1461.2 1285.36 1468.33 Q1285.36 1475.44 1287.17 1479.01 Q1289 1482.55 1292.61 1482.55 Q1296.24 1482.55 1298.05 1479.01 Q1299.88 1475.44 1299.88 1468.33 Q1299.88 1461.2 1298.05 1457.66 Q1296.24 1454.1 1292.61 1454.1 M1292.61 1450.39 Q1298.42 1450.39 1301.47 1455 Q1304.55 1459.58 1304.55 1468.33 Q1304.55 1477.06 1301.47 1481.67 Q1298.42 1486.25 1292.61 1486.25 Q1286.8 1486.25 1283.72 1481.67 Q1280.66 1477.06 1280.66 1468.33 Q1280.66 1459.58 1283.72 1455 Q1286.8 1450.39 1292.61 1450.39 Z\" fill=\"#000000\" fill-rule=\"nonzero\" fill-opacity=\"1\" /><path clip-path=\"url(#clip760)\" d=\"M1621.78 1481.64 L1629.41 1481.64 L1629.41 1455.28 L1621.1 1456.95 L1621.1 1452.69 L1629.37 1451.02 L1634.04 1451.02 L1634.04 1481.64 L1641.68 1481.64 L1641.68 1485.58 L1621.78 1485.58 L1621.78 1481.64 Z\" fill=\"#000000\" fill-rule=\"nonzero\" fill-opacity=\"1\" /><path clip-path=\"url(#clip760)\" d=\"M1661.13 1454.1 Q1657.52 1454.1 1655.69 1457.66 Q1653.88 1461.2 1653.88 1468.33 Q1653.88 1475.44 1655.69 1479.01 Q1657.52 1482.55 1661.13 1482.55 Q1664.76 1482.55 1666.57 1479.01 Q1668.4 1475.44 1668.4 1468.33 Q1668.4 1461.2 1666.57 1457.66 Q1664.76 1454.1 1661.13 1454.1 M1661.13 1450.39 Q1666.94 1450.39 1669.99 1455 Q1673.07 1459.58 1673.07 1468.33 Q1673.07 1477.06 1669.99 1481.67 Q1666.94 1486.25 1661.13 1486.25 Q1655.32 1486.25 1652.24 1481.67 Q1649.18 1477.06 1649.18 1468.33 Q1649.18 1459.58 1652.24 1455 Q1655.32 1450.39 1661.13 1450.39 Z\" fill=\"#000000\" fill-rule=\"nonzero\" fill-opacity=\"1\" /><path clip-path=\"url(#clip760)\" d=\"M1691.29 1454.1 Q1687.68 1454.1 1685.85 1457.66 Q1684.04 1461.2 1684.04 1468.33 Q1684.04 1475.44 1685.85 1479.01 Q1687.68 1482.55 1691.29 1482.55 Q1694.92 1482.55 1696.73 1479.01 Q1698.56 1475.44 1698.56 1468.33 Q1698.56 1461.2 1696.73 1457.66 Q1694.92 1454.1 1691.29 1454.1 M1691.29 1450.39 Q1697.1 1450.39 1700.15 1455 Q1703.23 1459.58 1703.23 1468.33 Q1703.23 1477.06 1700.15 1481.67 Q1697.1 1486.25 1691.29 1486.25 Q1685.48 1486.25 1682.4 1481.67 Q1679.34 1477.06 1679.34 1468.33 Q1679.34 1459.58 1682.4 1455 Q1685.48 1450.39 1691.29 1450.39 Z\" fill=\"#000000\" fill-rule=\"nonzero\" fill-opacity=\"1\" /><path clip-path=\"url(#clip760)\" d=\"M2006.15 1481.64 L2013.79 1481.64 L2013.79 1455.28 L2005.48 1456.95 L2005.48 1452.69 L2013.75 1451.02 L2018.42 1451.02 L2018.42 1481.64 L2026.06 1481.64 L2026.06 1485.58 L2006.15 1485.58 L2006.15 1481.64 Z\" fill=\"#000000\" fill-rule=\"nonzero\" fill-opacity=\"1\" /><path clip-path=\"url(#clip760)\" d=\"M2035.55 1451.02 L2053.91 1451.02 L2053.91 1454.96 L2039.83 1454.96 L2039.83 1463.43 Q2040.85 1463.08 2041.87 1462.92 Q2042.89 1462.73 2043.91 1462.73 Q2049.69 1462.73 2053.07 1465.9 Q2056.45 1469.08 2056.45 1474.49 Q2056.45 1480.07 2052.98 1483.17 Q2049.51 1486.25 2043.19 1486.25 Q2041.01 1486.25 2038.75 1485.88 Q2036.5 1485.51 2034.09 1484.77 L2034.09 1480.07 Q2036.18 1481.2 2038.4 1481.76 Q2040.62 1482.32 2043.1 1482.32 Q2047.1 1482.32 2049.44 1480.21 Q2051.78 1478.1 2051.78 1474.49 Q2051.78 1470.88 2049.44 1468.77 Q2047.1 1466.67 2043.1 1466.67 Q2041.22 1466.67 2039.35 1467.08 Q2037.5 1467.5 2035.55 1468.38 L2035.55 1451.02 Z\" fill=\"#000000\" fill-rule=\"nonzero\" fill-opacity=\"1\" /><path clip-path=\"url(#clip760)\" d=\"M2075.67 1454.1 Q2072.06 1454.1 2070.23 1457.66 Q2068.42 1461.2 2068.42 1468.33 Q2068.42 1475.44 2070.23 1479.01 Q2072.06 1482.55 2075.67 1482.55 Q2079.3 1482.55 2081.11 1479.01 Q2082.93 1475.44 2082.93 1468.33 Q2082.93 1461.2 2081.11 1457.66 Q2079.3 1454.1 2075.67 1454.1 M2075.67 1450.39 Q2081.48 1450.39 2084.53 1455 Q2087.61 1459.58 2087.61 1468.33 Q2087.61 1477.06 2084.53 1481.67 Q2081.48 1486.25 2075.67 1486.25 Q2069.86 1486.25 2066.78 1481.67 Q2063.72 1477.06 2063.72 1468.33 Q2063.72 1459.58 2066.78 1455 Q2069.86 1450.39 2075.67 1450.39 Z\" fill=\"#000000\" fill-rule=\"nonzero\" fill-opacity=\"1\" /><path clip-path=\"url(#clip760)\" d=\"M1330.09 1522.08 L1330.09 1528.35 Q1326.43 1526.6 1323.18 1525.74 Q1319.94 1524.88 1316.91 1524.88 Q1311.66 1524.88 1308.8 1526.92 Q1305.97 1528.96 1305.97 1532.71 Q1305.97 1535.87 1307.84 1537.49 Q1309.75 1539.08 1315.04 1540.07 L1318.92 1540.86 Q1326.11 1542.23 1329.52 1545.7 Q1332.96 1549.14 1332.96 1554.93 Q1332.96 1561.84 1328.31 1565.4 Q1323.69 1568.97 1314.75 1568.97 Q1311.38 1568.97 1307.56 1568.2 Q1303.77 1567.44 1299.69 1565.94 L1299.69 1559.32 Q1303.61 1561.52 1307.37 1562.63 Q1311.12 1563.75 1314.75 1563.75 Q1320.26 1563.75 1323.25 1561.58 Q1326.24 1559.42 1326.24 1555.41 Q1326.24 1551.91 1324.08 1549.93 Q1321.94 1547.96 1317.04 1546.97 L1313.13 1546.21 Q1305.93 1544.78 1302.72 1541.72 Q1299.5 1538.67 1299.5 1533.22 Q1299.5 1526.92 1303.93 1523.29 Q1308.38 1519.66 1316.18 1519.66 Q1319.52 1519.66 1322.99 1520.27 Q1326.46 1520.87 1330.09 1522.08 Z\" fill=\"#000000\" fill-rule=\"nonzero\" fill-opacity=\"1\" /><polyline clip-path=\"url(#clip762)\" style=\"stroke:#000000; stroke-linecap:round; stroke-linejoin:round; stroke-width:2; stroke-opacity:0.1; fill:none\" points=\"279.704,1384.24 2352.76,1384.24 \"/>\n",
       "<polyline clip-path=\"url(#clip762)\" style=\"stroke:#000000; stroke-linecap:round; stroke-linejoin:round; stroke-width:2; stroke-opacity:0.1; fill:none\" points=\"279.704,963.884 2352.76,963.884 \"/>\n",
       "<polyline clip-path=\"url(#clip762)\" style=\"stroke:#000000; stroke-linecap:round; stroke-linejoin:round; stroke-width:2; stroke-opacity:0.1; fill:none\" points=\"279.704,543.531 2352.76,543.531 \"/>\n",
       "<polyline clip-path=\"url(#clip762)\" style=\"stroke:#000000; stroke-linecap:round; stroke-linejoin:round; stroke-width:2; stroke-opacity:0.1; fill:none\" points=\"279.704,123.177 2352.76,123.177 \"/>\n",
       "<polyline clip-path=\"url(#clip760)\" style=\"stroke:#000000; stroke-linecap:round; stroke-linejoin:round; stroke-width:4; stroke-opacity:1; fill:none\" points=\"279.704,1423.18 279.704,47.2441 \"/>\n",
       "<polyline clip-path=\"url(#clip760)\" style=\"stroke:#000000; stroke-linecap:round; stroke-linejoin:round; stroke-width:4; stroke-opacity:1; fill:none\" points=\"279.704,1384.24 298.602,1384.24 \"/>\n",
       "<polyline clip-path=\"url(#clip760)\" style=\"stroke:#000000; stroke-linecap:round; stroke-linejoin:round; stroke-width:4; stroke-opacity:1; fill:none\" points=\"279.704,963.884 298.602,963.884 \"/>\n",
       "<polyline clip-path=\"url(#clip760)\" style=\"stroke:#000000; stroke-linecap:round; stroke-linejoin:round; stroke-width:4; stroke-opacity:1; fill:none\" points=\"279.704,543.531 298.602,543.531 \"/>\n",
       "<polyline clip-path=\"url(#clip760)\" style=\"stroke:#000000; stroke-linecap:round; stroke-linejoin:round; stroke-width:4; stroke-opacity:1; fill:none\" points=\"279.704,123.177 298.602,123.177 \"/>\n",
       "<path clip-path=\"url(#clip760)\" d=\"M126.205 1370.04 Q122.593 1370.04 120.765 1373.6 Q118.959 1377.14 118.959 1384.27 Q118.959 1391.38 120.765 1394.94 Q122.593 1398.49 126.205 1398.49 Q129.839 1398.49 131.644 1394.94 Q133.473 1391.38 133.473 1384.27 Q133.473 1377.14 131.644 1373.6 Q129.839 1370.04 126.205 1370.04 M126.205 1366.33 Q132.015 1366.33 135.07 1370.94 Q138.149 1375.52 138.149 1384.27 Q138.149 1393 135.07 1397.61 Q132.015 1402.19 126.205 1402.19 Q120.394 1402.19 117.316 1397.61 Q114.26 1393 114.26 1384.27 Q114.26 1375.52 117.316 1370.94 Q120.394 1366.33 126.205 1366.33 Z\" fill=\"#000000\" fill-rule=\"nonzero\" fill-opacity=\"1\" /><path clip-path=\"url(#clip760)\" d=\"M146.366 1395.64 L151.251 1395.64 L151.251 1401.52 L146.366 1401.52 L146.366 1395.64 Z\" fill=\"#000000\" fill-rule=\"nonzero\" fill-opacity=\"1\" /><path clip-path=\"url(#clip760)\" d=\"M171.436 1370.04 Q167.825 1370.04 165.996 1373.6 Q164.19 1377.14 164.19 1384.27 Q164.19 1391.38 165.996 1394.94 Q167.825 1398.49 171.436 1398.49 Q175.07 1398.49 176.876 1394.94 Q178.704 1391.38 178.704 1384.27 Q178.704 1377.14 176.876 1373.6 Q175.07 1370.04 171.436 1370.04 M171.436 1366.33 Q177.246 1366.33 180.301 1370.94 Q183.38 1375.52 183.38 1384.27 Q183.38 1393 180.301 1397.61 Q177.246 1402.19 171.436 1402.19 Q165.626 1402.19 162.547 1397.61 Q159.491 1393 159.491 1384.27 Q159.491 1375.52 162.547 1370.94 Q165.626 1366.33 171.436 1366.33 Z\" fill=\"#000000\" fill-rule=\"nonzero\" fill-opacity=\"1\" /><path clip-path=\"url(#clip760)\" d=\"M201.598 1370.04 Q197.987 1370.04 196.158 1373.6 Q194.352 1377.14 194.352 1384.27 Q194.352 1391.38 196.158 1394.94 Q197.987 1398.49 201.598 1398.49 Q205.232 1398.49 207.037 1394.94 Q208.866 1391.38 208.866 1384.27 Q208.866 1377.14 207.037 1373.6 Q205.232 1370.04 201.598 1370.04 M201.598 1366.33 Q207.408 1366.33 210.463 1370.94 Q213.542 1375.52 213.542 1384.27 Q213.542 1393 210.463 1397.61 Q207.408 1402.19 201.598 1402.19 Q195.787 1402.19 192.709 1397.61 Q189.653 1393 189.653 1384.27 Q189.653 1375.52 192.709 1370.94 Q195.787 1366.33 201.598 1366.33 Z\" fill=\"#000000\" fill-rule=\"nonzero\" fill-opacity=\"1\" /><path clip-path=\"url(#clip760)\" d=\"M231.76 1370.04 Q228.148 1370.04 226.32 1373.6 Q224.514 1377.14 224.514 1384.27 Q224.514 1391.38 226.32 1394.94 Q228.148 1398.49 231.76 1398.49 Q235.394 1398.49 237.199 1394.94 Q239.028 1391.38 239.028 1384.27 Q239.028 1377.14 237.199 1373.6 Q235.394 1370.04 231.76 1370.04 M231.76 1366.33 Q237.57 1366.33 240.625 1370.94 Q243.704 1375.52 243.704 1384.27 Q243.704 1393 240.625 1397.61 Q237.57 1402.19 231.76 1402.19 Q225.949 1402.19 222.871 1397.61 Q219.815 1393 219.815 1384.27 Q219.815 1375.52 222.871 1370.94 Q225.949 1366.33 231.76 1366.33 Z\" fill=\"#000000\" fill-rule=\"nonzero\" fill-opacity=\"1\" /><path clip-path=\"url(#clip760)\" d=\"M127.2 949.683 Q123.589 949.683 121.76 953.248 Q119.955 956.79 119.955 963.919 Q119.955 971.026 121.76 974.59 Q123.589 978.132 127.2 978.132 Q130.834 978.132 132.64 974.59 Q134.468 971.026 134.468 963.919 Q134.468 956.79 132.64 953.248 Q130.834 949.683 127.2 949.683 M127.2 945.979 Q133.01 945.979 136.066 950.586 Q139.144 955.169 139.144 963.919 Q139.144 972.646 136.066 977.252 Q133.01 981.836 127.2 981.836 Q121.39 981.836 118.311 977.252 Q115.256 972.646 115.256 963.919 Q115.256 955.169 118.311 950.586 Q121.39 945.979 127.2 945.979 Z\" fill=\"#000000\" fill-rule=\"nonzero\" fill-opacity=\"1\" /><path clip-path=\"url(#clip760)\" d=\"M147.362 975.285 L152.246 975.285 L152.246 981.164 L147.362 981.164 L147.362 975.285 Z\" fill=\"#000000\" fill-rule=\"nonzero\" fill-opacity=\"1\" /><path clip-path=\"url(#clip760)\" d=\"M172.431 949.683 Q168.82 949.683 166.991 953.248 Q165.186 956.79 165.186 963.919 Q165.186 971.026 166.991 974.59 Q168.82 978.132 172.431 978.132 Q176.065 978.132 177.871 974.59 Q179.7 971.026 179.7 963.919 Q179.7 956.79 177.871 953.248 Q176.065 949.683 172.431 949.683 M172.431 945.979 Q178.241 945.979 181.297 950.586 Q184.376 955.169 184.376 963.919 Q184.376 972.646 181.297 977.252 Q178.241 981.836 172.431 981.836 Q166.621 981.836 163.542 977.252 Q160.487 972.646 160.487 963.919 Q160.487 955.169 163.542 950.586 Q166.621 945.979 172.431 945.979 Z\" fill=\"#000000\" fill-rule=\"nonzero\" fill-opacity=\"1\" /><path clip-path=\"url(#clip760)\" d=\"M202.593 949.683 Q198.982 949.683 197.153 953.248 Q195.348 956.79 195.348 963.919 Q195.348 971.026 197.153 974.59 Q198.982 978.132 202.593 978.132 Q206.227 978.132 208.033 974.59 Q209.861 971.026 209.861 963.919 Q209.861 956.79 208.033 953.248 Q206.227 949.683 202.593 949.683 M202.593 945.979 Q208.403 945.979 211.459 950.586 Q214.537 955.169 214.537 963.919 Q214.537 972.646 211.459 977.252 Q208.403 981.836 202.593 981.836 Q196.783 981.836 193.704 977.252 Q190.649 972.646 190.649 963.919 Q190.649 955.169 193.704 950.586 Q196.783 945.979 202.593 945.979 Z\" fill=\"#000000\" fill-rule=\"nonzero\" fill-opacity=\"1\" /><path clip-path=\"url(#clip760)\" d=\"M222.801 946.604 L241.158 946.604 L241.158 950.54 L227.084 950.54 L227.084 959.012 Q228.102 958.665 229.121 958.503 Q230.139 958.317 231.158 958.317 Q236.945 958.317 240.324 961.489 Q243.704 964.66 243.704 970.077 Q243.704 975.655 240.232 978.757 Q236.76 981.836 230.44 981.836 Q228.264 981.836 225.996 981.465 Q223.75 981.095 221.343 980.354 L221.343 975.655 Q223.426 976.789 225.648 977.345 Q227.871 977.901 230.347 977.901 Q234.352 977.901 236.69 975.794 Q239.028 973.688 239.028 970.077 Q239.028 966.465 236.69 964.359 Q234.352 962.253 230.347 962.253 Q228.473 962.253 226.598 962.669 Q224.746 963.086 222.801 963.965 L222.801 946.604 Z\" fill=\"#000000\" fill-rule=\"nonzero\" fill-opacity=\"1\" /><path clip-path=\"url(#clip760)\" d=\"M126.205 529.329 Q122.593 529.329 120.765 532.894 Q118.959 536.436 118.959 543.565 Q118.959 550.672 120.765 554.237 Q122.593 557.778 126.205 557.778 Q129.839 557.778 131.644 554.237 Q133.473 550.672 133.473 543.565 Q133.473 536.436 131.644 532.894 Q129.839 529.329 126.205 529.329 M126.205 525.626 Q132.015 525.626 135.07 530.232 Q138.149 534.815 138.149 543.565 Q138.149 552.292 135.07 556.899 Q132.015 561.482 126.205 561.482 Q120.394 561.482 117.316 556.899 Q114.26 552.292 114.26 543.565 Q114.26 534.815 117.316 530.232 Q120.394 525.626 126.205 525.626 Z\" fill=\"#000000\" fill-rule=\"nonzero\" fill-opacity=\"1\" /><path clip-path=\"url(#clip760)\" d=\"M146.366 554.931 L151.251 554.931 L151.251 560.811 L146.366 560.811 L146.366 554.931 Z\" fill=\"#000000\" fill-rule=\"nonzero\" fill-opacity=\"1\" /><path clip-path=\"url(#clip760)\" d=\"M171.436 529.329 Q167.825 529.329 165.996 532.894 Q164.19 536.436 164.19 543.565 Q164.19 550.672 165.996 554.237 Q167.825 557.778 171.436 557.778 Q175.07 557.778 176.876 554.237 Q178.704 550.672 178.704 543.565 Q178.704 536.436 176.876 532.894 Q175.07 529.329 171.436 529.329 M171.436 525.626 Q177.246 525.626 180.301 530.232 Q183.38 534.815 183.38 543.565 Q183.38 552.292 180.301 556.899 Q177.246 561.482 171.436 561.482 Q165.626 561.482 162.547 556.899 Q159.491 552.292 159.491 543.565 Q159.491 534.815 162.547 530.232 Q165.626 525.626 171.436 525.626 Z\" fill=\"#000000\" fill-rule=\"nonzero\" fill-opacity=\"1\" /><path clip-path=\"url(#clip760)\" d=\"M192.408 556.875 L200.047 556.875 L200.047 530.51 L191.737 532.177 L191.737 527.917 L200 526.251 L204.676 526.251 L204.676 556.875 L212.315 556.875 L212.315 560.811 L192.408 560.811 L192.408 556.875 Z\" fill=\"#000000\" fill-rule=\"nonzero\" fill-opacity=\"1\" /><path clip-path=\"url(#clip760)\" d=\"M231.76 529.329 Q228.148 529.329 226.32 532.894 Q224.514 536.436 224.514 543.565 Q224.514 550.672 226.32 554.237 Q228.148 557.778 231.76 557.778 Q235.394 557.778 237.199 554.237 Q239.028 550.672 239.028 543.565 Q239.028 536.436 237.199 532.894 Q235.394 529.329 231.76 529.329 M231.76 525.626 Q237.57 525.626 240.625 530.232 Q243.704 534.815 243.704 543.565 Q243.704 552.292 240.625 556.899 Q237.57 561.482 231.76 561.482 Q225.949 561.482 222.871 556.899 Q219.815 552.292 219.815 543.565 Q219.815 534.815 222.871 530.232 Q225.949 525.626 231.76 525.626 Z\" fill=\"#000000\" fill-rule=\"nonzero\" fill-opacity=\"1\" /><path clip-path=\"url(#clip760)\" d=\"M127.2 108.975 Q123.589 108.975 121.76 112.54 Q119.955 116.082 119.955 123.212 Q119.955 130.318 121.76 133.883 Q123.589 137.424 127.2 137.424 Q130.834 137.424 132.64 133.883 Q134.468 130.318 134.468 123.212 Q134.468 116.082 132.64 112.54 Q130.834 108.975 127.2 108.975 M127.2 105.272 Q133.01 105.272 136.066 109.878 Q139.144 114.462 139.144 123.212 Q139.144 131.938 136.066 136.545 Q133.01 141.128 127.2 141.128 Q121.39 141.128 118.311 136.545 Q115.256 131.938 115.256 123.212 Q115.256 114.462 118.311 109.878 Q121.39 105.272 127.2 105.272 Z\" fill=\"#000000\" fill-rule=\"nonzero\" fill-opacity=\"1\" /><path clip-path=\"url(#clip760)\" d=\"M147.362 134.577 L152.246 134.577 L152.246 140.457 L147.362 140.457 L147.362 134.577 Z\" fill=\"#000000\" fill-rule=\"nonzero\" fill-opacity=\"1\" /><path clip-path=\"url(#clip760)\" d=\"M172.431 108.975 Q168.82 108.975 166.991 112.54 Q165.186 116.082 165.186 123.212 Q165.186 130.318 166.991 133.883 Q168.82 137.424 172.431 137.424 Q176.065 137.424 177.871 133.883 Q179.7 130.318 179.7 123.212 Q179.7 116.082 177.871 112.54 Q176.065 108.975 172.431 108.975 M172.431 105.272 Q178.241 105.272 181.297 109.878 Q184.376 114.462 184.376 123.212 Q184.376 131.938 181.297 136.545 Q178.241 141.128 172.431 141.128 Q166.621 141.128 163.542 136.545 Q160.487 131.938 160.487 123.212 Q160.487 114.462 163.542 109.878 Q166.621 105.272 172.431 105.272 Z\" fill=\"#000000\" fill-rule=\"nonzero\" fill-opacity=\"1\" /><path clip-path=\"url(#clip760)\" d=\"M193.403 136.522 L201.042 136.522 L201.042 110.156 L192.732 111.823 L192.732 107.563 L200.996 105.897 L205.672 105.897 L205.672 136.522 L213.311 136.522 L213.311 140.457 L193.403 140.457 L193.403 136.522 Z\" fill=\"#000000\" fill-rule=\"nonzero\" fill-opacity=\"1\" /><path clip-path=\"url(#clip760)\" d=\"M222.801 105.897 L241.158 105.897 L241.158 109.832 L227.084 109.832 L227.084 118.304 Q228.102 117.957 229.121 117.795 Q230.139 117.61 231.158 117.61 Q236.945 117.61 240.324 120.781 Q243.704 123.952 243.704 129.369 Q243.704 134.948 240.232 138.049 Q236.76 141.128 230.44 141.128 Q228.264 141.128 225.996 140.758 Q223.75 140.387 221.343 139.647 L221.343 134.948 Q223.426 136.082 225.648 136.637 Q227.871 137.193 230.347 137.193 Q234.352 137.193 236.69 135.086 Q239.028 132.98 239.028 129.369 Q239.028 125.758 236.69 123.651 Q234.352 121.545 230.347 121.545 Q228.473 121.545 226.598 121.962 Q224.746 122.378 222.801 123.258 L222.801 105.897 Z\" fill=\"#000000\" fill-rule=\"nonzero\" fill-opacity=\"1\" /><path clip-path=\"url(#clip760)\" d=\"M21.7677 896.901 L39.6235 896.901 L39.6235 888.816 Q39.6235 884.329 37.3 881.878 Q34.9765 879.427 30.6797 879.427 Q26.4147 879.427 24.0912 881.878 Q21.7677 884.329 21.7677 888.816 L21.7677 896.901 M16.4842 903.33 L16.4842 888.816 Q16.4842 880.828 20.1126 876.753 Q23.7092 872.648 30.6797 872.648 Q37.7138 872.648 41.3104 876.753 Q44.907 880.828 44.907 888.816 L44.907 896.901 L64.0042 896.901 L64.0042 903.33 L16.4842 903.33 Z\" fill=\"#000000\" fill-rule=\"nonzero\" fill-opacity=\"1\" /><path clip-path=\"url(#clip760)\" d=\"M33.8307 844.766 Q33.2578 845.752 33.0032 846.93 Q32.7167 848.076 32.7167 849.476 Q32.7167 854.442 35.9632 857.115 Q39.1779 859.757 45.2253 859.757 L64.0042 859.757 L64.0042 865.645 L28.3562 865.645 L28.3562 859.757 L33.8944 859.757 Q30.6479 857.911 29.0883 854.951 Q27.4968 851.991 27.4968 847.758 Q27.4968 847.153 27.5923 846.421 Q27.656 845.689 27.8151 844.798 L33.8307 844.766 Z\" fill=\"#000000\" fill-rule=\"nonzero\" fill-opacity=\"1\" /><path clip-path=\"url(#clip760)\" d=\"M32.4621 826.242 Q32.4621 830.952 36.1542 833.689 Q39.8145 836.427 46.212 836.427 Q52.6095 836.427 56.3017 833.721 Q59.9619 830.984 59.9619 826.242 Q59.9619 821.563 56.2698 818.826 Q52.5777 816.088 46.212 816.088 Q39.8781 816.088 36.186 818.826 Q32.4621 821.563 32.4621 826.242 M27.4968 826.242 Q27.4968 818.603 32.4621 814.242 Q37.4273 809.882 46.212 809.882 Q54.9649 809.882 59.9619 814.242 Q64.9272 818.603 64.9272 826.242 Q64.9272 833.912 59.9619 838.273 Q54.9649 842.601 46.212 842.601 Q37.4273 842.601 32.4621 838.273 Q27.4968 833.912 27.4968 826.242 Z\" fill=\"#000000\" fill-rule=\"nonzero\" fill-opacity=\"1\" /><path clip-path=\"url(#clip760)\" d=\"M46.212 774.584 Q39.7508 774.584 36.0905 777.257 Q32.3984 779.899 32.3984 784.546 Q32.3984 789.193 36.0905 791.867 Q39.7508 794.509 46.212 794.509 Q52.6732 794.509 56.3653 791.867 Q60.0256 789.193 60.0256 784.546 Q60.0256 779.899 56.3653 777.257 Q52.6732 774.584 46.212 774.584 M33.7671 794.509 Q30.5842 792.662 29.0564 789.862 Q27.4968 787.029 27.4968 783.114 Q27.4968 776.621 32.6531 772.579 Q37.8093 768.505 46.212 768.505 Q54.6147 768.505 59.771 772.579 Q64.9272 776.621 64.9272 783.114 Q64.9272 787.029 63.3994 789.862 Q61.8398 792.662 58.657 794.509 L64.0042 794.509 L64.0042 800.397 L14.479 800.397 L14.479 794.509 L33.7671 794.509 Z\" fill=\"#000000\" fill-rule=\"nonzero\" fill-opacity=\"1\" /><path clip-path=\"url(#clip760)\" d=\"M46.0847 742.596 Q46.0847 749.694 47.7079 752.431 Q49.3312 755.168 53.2461 755.168 Q56.3653 755.168 58.2114 753.131 Q60.0256 751.063 60.0256 747.53 Q60.0256 742.66 56.5881 739.732 Q53.1188 736.772 47.3897 736.772 L46.0847 736.772 L46.0847 742.596 M43.6657 730.915 L64.0042 730.915 L64.0042 736.772 L58.5933 736.772 Q61.8398 738.777 63.3994 741.769 Q64.9272 744.761 64.9272 749.089 Q64.9272 754.564 61.8716 757.81 Q58.7843 761.025 53.6281 761.025 Q47.6125 761.025 44.5569 757.015 Q41.5014 752.972 41.5014 744.983 L41.5014 736.772 L40.9285 736.772 Q36.8862 736.772 34.6901 739.445 Q32.4621 742.087 32.4621 746.893 Q32.4621 749.949 33.1941 752.845 Q33.9262 755.741 35.3903 758.415 L29.9795 758.415 Q28.7381 755.2 28.1334 752.177 Q27.4968 749.153 27.4968 746.288 Q27.4968 738.554 31.5072 734.735 Q35.5176 730.915 43.6657 730.915 Z\" fill=\"#000000\" fill-rule=\"nonzero\" fill-opacity=\"1\" /><path clip-path=\"url(#clip760)\" d=\"M46.212 693.262 Q39.7508 693.262 36.0905 695.936 Q32.3984 698.577 32.3984 703.224 Q32.3984 707.871 36.0905 710.545 Q39.7508 713.187 46.212 713.187 Q52.6732 713.187 56.3653 710.545 Q60.0256 707.871 60.0256 703.224 Q60.0256 698.577 56.3653 695.936 Q52.6732 693.262 46.212 693.262 M33.7671 713.187 Q30.5842 711.341 29.0564 708.54 Q27.4968 705.707 27.4968 701.792 Q27.4968 695.299 32.6531 691.257 Q37.8093 687.183 46.212 687.183 Q54.6147 687.183 59.771 691.257 Q64.9272 695.299 64.9272 701.792 Q64.9272 705.707 63.3994 708.54 Q61.8398 711.341 58.657 713.187 L64.0042 713.187 L64.0042 719.075 L14.479 719.075 L14.479 713.187 L33.7671 713.187 Z\" fill=\"#000000\" fill-rule=\"nonzero\" fill-opacity=\"1\" /><path clip-path=\"url(#clip760)\" d=\"M28.3562 677.475 L28.3562 671.619 L64.0042 671.619 L64.0042 677.475 L28.3562 677.475 M14.479 677.475 L14.479 671.619 L21.895 671.619 L21.895 677.475 L14.479 677.475 Z\" fill=\"#000000\" fill-rule=\"nonzero\" fill-opacity=\"1\" /><path clip-path=\"url(#clip760)\" d=\"M14.479 659.365 L14.479 653.508 L64.0042 653.508 L64.0042 659.365 L14.479 659.365 Z\" fill=\"#000000\" fill-rule=\"nonzero\" fill-opacity=\"1\" /><path clip-path=\"url(#clip760)\" d=\"M28.3562 641.254 L28.3562 635.398 L64.0042 635.398 L64.0042 641.254 L28.3562 641.254 M14.479 641.254 L14.479 635.398 L21.895 635.398 L21.895 641.254 L14.479 641.254 Z\" fill=\"#000000\" fill-rule=\"nonzero\" fill-opacity=\"1\" /><path clip-path=\"url(#clip760)\" d=\"M18.2347 617.351 L28.3562 617.351 L28.3562 605.288 L32.9077 605.288 L32.9077 617.351 L52.2594 617.351 Q56.6199 617.351 57.8613 616.173 Q59.1026 614.964 59.1026 611.303 L59.1026 605.288 L64.0042 605.288 L64.0042 611.303 Q64.0042 618.083 61.4897 620.661 Q58.9434 623.239 52.2594 623.239 L32.9077 623.239 L32.9077 627.536 L28.3562 627.536 L28.3562 623.239 L18.2347 623.239 L18.2347 617.351 Z\" fill=\"#000000\" fill-rule=\"nonzero\" fill-opacity=\"1\" /><path clip-path=\"url(#clip760)\" d=\"M67.3143 582.753 Q73.68 585.236 75.6216 587.591 Q77.5631 589.947 77.5631 593.893 L77.5631 598.572 L72.6615 598.572 L72.6615 595.135 Q72.6615 592.716 71.5157 591.379 Q70.3699 590.042 66.1048 588.419 L63.4312 587.368 L28.3562 601.787 L28.3562 595.58 L56.238 584.44 L28.3562 573.3 L28.3562 567.094 L67.3143 582.753 Z\" fill=\"#000000\" fill-rule=\"nonzero\" fill-opacity=\"1\" /><path clip-path=\"url(#clip762)\" d=\"M393.725 1382 L393.725 1384.24 L432.163 1384.24 L432.163 1382 L393.725 1382 L393.725 1382  Z\" fill=\"#009af9\" fill-rule=\"evenodd\" fill-opacity=\"1\"/>\n",
       "<polyline clip-path=\"url(#clip762)\" style=\"stroke:#000000; stroke-linecap:round; stroke-linejoin:round; stroke-width:4; stroke-opacity:1; fill:none\" points=\"393.725,1382 393.725,1384.24 432.163,1384.24 432.163,1382 393.725,1382 \"/>\n",
       "<path clip-path=\"url(#clip762)\" d=\"M432.163 1383.12 L432.163 1384.24 L470.601 1384.24 L470.601 1383.12 L432.163 1383.12 L432.163 1383.12  Z\" fill=\"#009af9\" fill-rule=\"evenodd\" fill-opacity=\"1\"/>\n",
       "<polyline clip-path=\"url(#clip762)\" style=\"stroke:#000000; stroke-linecap:round; stroke-linejoin:round; stroke-width:4; stroke-opacity:1; fill:none\" points=\"432.163,1383.12 432.163,1384.24 470.601,1384.24 470.601,1383.12 432.163,1383.12 \"/>\n",
       "<path clip-path=\"url(#clip762)\" d=\"M470.601 1383.12 L470.601 1384.24 L509.039 1384.24 L509.039 1383.12 L470.601 1383.12 L470.601 1383.12  Z\" fill=\"#009af9\" fill-rule=\"evenodd\" fill-opacity=\"1\"/>\n",
       "<polyline clip-path=\"url(#clip762)\" style=\"stroke:#000000; stroke-linecap:round; stroke-linejoin:round; stroke-width:4; stroke-opacity:1; fill:none\" points=\"470.601,1383.12 470.601,1384.24 509.039,1384.24 509.039,1383.12 470.601,1383.12 \"/>\n",
       "<path clip-path=\"url(#clip762)\" d=\"M509.039 1375.27 L509.039 1384.24 L547.476 1384.24 L547.476 1375.27 L509.039 1375.27 L509.039 1375.27  Z\" fill=\"#009af9\" fill-rule=\"evenodd\" fill-opacity=\"1\"/>\n",
       "<polyline clip-path=\"url(#clip762)\" style=\"stroke:#000000; stroke-linecap:round; stroke-linejoin:round; stroke-width:4; stroke-opacity:1; fill:none\" points=\"509.039,1375.27 509.039,1384.24 547.476,1384.24 547.476,1375.27 509.039,1375.27 \"/>\n",
       "<path clip-path=\"url(#clip762)\" d=\"M547.476 1376.95 L547.476 1384.24 L585.914 1384.24 L585.914 1376.95 L547.476 1376.95 L547.476 1376.95  Z\" fill=\"#009af9\" fill-rule=\"evenodd\" fill-opacity=\"1\"/>\n",
       "<polyline clip-path=\"url(#clip762)\" style=\"stroke:#000000; stroke-linecap:round; stroke-linejoin:round; stroke-width:4; stroke-opacity:1; fill:none\" points=\"547.476,1376.95 547.476,1384.24 585.914,1384.24 585.914,1376.95 547.476,1376.95 \"/>\n",
       "<path clip-path=\"url(#clip762)\" d=\"M585.914 1364.62 L585.914 1384.24 L624.352 1384.24 L624.352 1364.62 L585.914 1364.62 L585.914 1364.62  Z\" fill=\"#009af9\" fill-rule=\"evenodd\" fill-opacity=\"1\"/>\n",
       "<polyline clip-path=\"url(#clip762)\" style=\"stroke:#000000; stroke-linecap:round; stroke-linejoin:round; stroke-width:4; stroke-opacity:1; fill:none\" points=\"585.914,1364.62 585.914,1384.24 624.352,1384.24 624.352,1364.62 585.914,1364.62 \"/>\n",
       "<path clip-path=\"url(#clip762)\" d=\"M624.352 1355.09 L624.352 1384.24 L662.789 1384.24 L662.789 1355.09 L624.352 1355.09 L624.352 1355.09  Z\" fill=\"#009af9\" fill-rule=\"evenodd\" fill-opacity=\"1\"/>\n",
       "<polyline clip-path=\"url(#clip762)\" style=\"stroke:#000000; stroke-linecap:round; stroke-linejoin:round; stroke-width:4; stroke-opacity:1; fill:none\" points=\"624.352,1355.09 624.352,1384.24 662.789,1384.24 662.789,1355.09 624.352,1355.09 \"/>\n",
       "<path clip-path=\"url(#clip762)\" d=\"M662.789 1333.24 L662.789 1384.24 L701.227 1384.24 L701.227 1333.24 L662.789 1333.24 L662.789 1333.24  Z\" fill=\"#009af9\" fill-rule=\"evenodd\" fill-opacity=\"1\"/>\n",
       "<polyline clip-path=\"url(#clip762)\" style=\"stroke:#000000; stroke-linecap:round; stroke-linejoin:round; stroke-width:4; stroke-opacity:1; fill:none\" points=\"662.789,1333.24 662.789,1384.24 701.227,1384.24 701.227,1333.24 662.789,1333.24 \"/>\n",
       "<path clip-path=\"url(#clip762)\" d=\"M701.227 1339.4 L701.227 1384.24 L739.665 1384.24 L739.665 1339.4 L701.227 1339.4 L701.227 1339.4  Z\" fill=\"#009af9\" fill-rule=\"evenodd\" fill-opacity=\"1\"/>\n",
       "<polyline clip-path=\"url(#clip762)\" style=\"stroke:#000000; stroke-linecap:round; stroke-linejoin:round; stroke-width:4; stroke-opacity:1; fill:none\" points=\"701.227,1339.4 701.227,1384.24 739.665,1384.24 739.665,1339.4 701.227,1339.4 \"/>\n",
       "<path clip-path=\"url(#clip762)\" d=\"M739.665 1277.75 L739.665 1384.24 L778.102 1384.24 L778.102 1277.75 L739.665 1277.75 L739.665 1277.75  Z\" fill=\"#009af9\" fill-rule=\"evenodd\" fill-opacity=\"1\"/>\n",
       "<polyline clip-path=\"url(#clip762)\" style=\"stroke:#000000; stroke-linecap:round; stroke-linejoin:round; stroke-width:4; stroke-opacity:1; fill:none\" points=\"739.665,1277.75 739.665,1384.24 778.102,1384.24 778.102,1277.75 739.665,1277.75 \"/>\n",
       "<path clip-path=\"url(#clip762)\" d=\"M778.102 1281.67 L778.102 1384.24 L816.54 1384.24 L816.54 1281.67 L778.102 1281.67 L778.102 1281.67  Z\" fill=\"#009af9\" fill-rule=\"evenodd\" fill-opacity=\"1\"/>\n",
       "<polyline clip-path=\"url(#clip762)\" style=\"stroke:#000000; stroke-linecap:round; stroke-linejoin:round; stroke-width:4; stroke-opacity:1; fill:none\" points=\"778.102,1281.67 778.102,1384.24 816.54,1384.24 816.54,1281.67 778.102,1281.67 \"/>\n",
       "<path clip-path=\"url(#clip762)\" d=\"M816.54 1190.32 L816.54 1384.24 L854.978 1384.24 L854.978 1190.32 L816.54 1190.32 L816.54 1190.32  Z\" fill=\"#009af9\" fill-rule=\"evenodd\" fill-opacity=\"1\"/>\n",
       "<polyline clip-path=\"url(#clip762)\" style=\"stroke:#000000; stroke-linecap:round; stroke-linejoin:round; stroke-width:4; stroke-opacity:1; fill:none\" points=\"816.54,1190.32 816.54,1384.24 854.978,1384.24 854.978,1190.32 816.54,1190.32 \"/>\n",
       "<path clip-path=\"url(#clip762)\" d=\"M854.978 1208.81 L854.978 1384.24 L893.415 1384.24 L893.415 1208.81 L854.978 1208.81 L854.978 1208.81  Z\" fill=\"#009af9\" fill-rule=\"evenodd\" fill-opacity=\"1\"/>\n",
       "<polyline clip-path=\"url(#clip762)\" style=\"stroke:#000000; stroke-linecap:round; stroke-linejoin:round; stroke-width:4; stroke-opacity:1; fill:none\" points=\"854.978,1208.81 854.978,1384.24 893.415,1384.24 893.415,1208.81 854.978,1208.81 \"/>\n",
       "<path clip-path=\"url(#clip762)\" d=\"M893.415 1045.15 L893.415 1384.24 L931.853 1384.24 L931.853 1045.15 L893.415 1045.15 L893.415 1045.15  Z\" fill=\"#009af9\" fill-rule=\"evenodd\" fill-opacity=\"1\"/>\n",
       "<polyline clip-path=\"url(#clip762)\" style=\"stroke:#000000; stroke-linecap:round; stroke-linejoin:round; stroke-width:4; stroke-opacity:1; fill:none\" points=\"893.415,1045.15 893.415,1384.24 931.853,1384.24 931.853,1045.15 893.415,1045.15 \"/>\n",
       "<path clip-path=\"url(#clip762)\" d=\"M931.853 1081.58 L931.853 1384.24 L970.291 1384.24 L970.291 1081.58 L931.853 1081.58 L931.853 1081.58  Z\" fill=\"#009af9\" fill-rule=\"evenodd\" fill-opacity=\"1\"/>\n",
       "<polyline clip-path=\"url(#clip762)\" style=\"stroke:#000000; stroke-linecap:round; stroke-linejoin:round; stroke-width:4; stroke-opacity:1; fill:none\" points=\"931.853,1081.58 931.853,1384.24 970.291,1384.24 970.291,1081.58 931.853,1081.58 \"/>\n",
       "<path clip-path=\"url(#clip762)\" d=\"M970.291 863 L970.291 1384.24 L1008.73 1384.24 L1008.73 863 L970.291 863 L970.291 863  Z\" fill=\"#009af9\" fill-rule=\"evenodd\" fill-opacity=\"1\"/>\n",
       "<polyline clip-path=\"url(#clip762)\" style=\"stroke:#000000; stroke-linecap:round; stroke-linejoin:round; stroke-width:4; stroke-opacity:1; fill:none\" points=\"970.291,863 970.291,1384.24 1008.73,1384.24 1008.73,863 970.291,863 \"/>\n",
       "<path clip-path=\"url(#clip762)\" d=\"M1008.73 952.115 L1008.73 1384.24 L1047.17 1384.24 L1047.17 952.115 L1008.73 952.115 L1008.73 952.115  Z\" fill=\"#009af9\" fill-rule=\"evenodd\" fill-opacity=\"1\"/>\n",
       "<polyline clip-path=\"url(#clip762)\" style=\"stroke:#000000; stroke-linecap:round; stroke-linejoin:round; stroke-width:4; stroke-opacity:1; fill:none\" points=\"1008.73,952.115 1008.73,1384.24 1047.17,1384.24 1047.17,952.115 1008.73,952.115 \"/>\n",
       "<path clip-path=\"url(#clip762)\" d=\"M1047.17 572.115 L1047.17 1384.24 L1085.6 1384.24 L1085.6 572.115 L1047.17 572.115 L1047.17 572.115  Z\" fill=\"#009af9\" fill-rule=\"evenodd\" fill-opacity=\"1\"/>\n",
       "<polyline clip-path=\"url(#clip762)\" style=\"stroke:#000000; stroke-linecap:round; stroke-linejoin:round; stroke-width:4; stroke-opacity:1; fill:none\" points=\"1047.17,572.115 1047.17,1384.24 1085.6,1384.24 1085.6,572.115 1047.17,572.115 \"/>\n",
       "<path clip-path=\"url(#clip762)\" d=\"M1085.6 745.861 L1085.6 1384.24 L1124.04 1384.24 L1124.04 745.861 L1085.6 745.861 L1085.6 745.861  Z\" fill=\"#009af9\" fill-rule=\"evenodd\" fill-opacity=\"1\"/>\n",
       "<polyline clip-path=\"url(#clip762)\" style=\"stroke:#000000; stroke-linecap:round; stroke-linejoin:round; stroke-width:4; stroke-opacity:1; fill:none\" points=\"1085.6,745.861 1085.6,1384.24 1124.04,1384.24 1124.04,745.861 1085.6,745.861 \"/>\n",
       "<path clip-path=\"url(#clip762)\" d=\"M1124.04 353.531 L1124.04 1384.24 L1162.48 1384.24 L1162.48 353.531 L1124.04 353.531 L1124.04 353.531  Z\" fill=\"#009af9\" fill-rule=\"evenodd\" fill-opacity=\"1\"/>\n",
       "<polyline clip-path=\"url(#clip762)\" style=\"stroke:#000000; stroke-linecap:round; stroke-linejoin:round; stroke-width:4; stroke-opacity:1; fill:none\" points=\"1124.04,353.531 1124.04,1384.24 1162.48,1384.24 1162.48,353.531 1124.04,353.531 \"/>\n",
       "<path clip-path=\"url(#clip762)\" d=\"M1162.48 633.767 L1162.48 1384.24 L1200.92 1384.24 L1200.92 633.767 L1162.48 633.767 L1162.48 633.767  Z\" fill=\"#009af9\" fill-rule=\"evenodd\" fill-opacity=\"1\"/>\n",
       "<polyline clip-path=\"url(#clip762)\" style=\"stroke:#000000; stroke-linecap:round; stroke-linejoin:round; stroke-width:4; stroke-opacity:1; fill:none\" points=\"1162.48,633.767 1162.48,1384.24 1200.92,1384.24 1200.92,633.767 1162.48,633.767 \"/>\n",
       "<path clip-path=\"url(#clip762)\" d=\"M1200.92 193.796 L1200.92 1384.24 L1239.35 1384.24 L1239.35 193.796 L1200.92 193.796 L1200.92 193.796  Z\" fill=\"#009af9\" fill-rule=\"evenodd\" fill-opacity=\"1\"/>\n",
       "<polyline clip-path=\"url(#clip762)\" style=\"stroke:#000000; stroke-linecap:round; stroke-linejoin:round; stroke-width:4; stroke-opacity:1; fill:none\" points=\"1200.92,193.796 1200.92,1384.24 1239.35,1384.24 1239.35,193.796 1200.92,193.796 \"/>\n",
       "<path clip-path=\"url(#clip762)\" d=\"M1239.35 535.124 L1239.35 1384.24 L1277.79 1384.24 L1277.79 535.124 L1239.35 535.124 L1239.35 535.124  Z\" fill=\"#009af9\" fill-rule=\"evenodd\" fill-opacity=\"1\"/>\n",
       "<polyline clip-path=\"url(#clip762)\" style=\"stroke:#000000; stroke-linecap:round; stroke-linejoin:round; stroke-width:4; stroke-opacity:1; fill:none\" points=\"1239.35,535.124 1239.35,1384.24 1277.79,1384.24 1277.79,535.124 1239.35,535.124 \"/>\n",
       "<path clip-path=\"url(#clip762)\" d=\"M1277.79 86.1857 L1277.79 1384.24 L1316.23 1384.24 L1316.23 86.1857 L1277.79 86.1857 L1277.79 86.1857  Z\" fill=\"#009af9\" fill-rule=\"evenodd\" fill-opacity=\"1\"/>\n",
       "<polyline clip-path=\"url(#clip762)\" style=\"stroke:#000000; stroke-linecap:round; stroke-linejoin:round; stroke-width:4; stroke-opacity:1; fill:none\" points=\"1277.79,86.1857 1277.79,1384.24 1316.23,1384.24 1316.23,86.1857 1277.79,86.1857 \"/>\n",
       "<path clip-path=\"url(#clip762)\" d=\"M1316.23 512.144 L1316.23 1384.24 L1354.67 1384.24 L1354.67 512.144 L1316.23 512.144 L1316.23 512.144  Z\" fill=\"#009af9\" fill-rule=\"evenodd\" fill-opacity=\"1\"/>\n",
       "<polyline clip-path=\"url(#clip762)\" style=\"stroke:#000000; stroke-linecap:round; stroke-linejoin:round; stroke-width:4; stroke-opacity:1; fill:none\" points=\"1316.23,512.144 1316.23,1384.24 1354.67,1384.24 1354.67,512.144 1316.23,512.144 \"/>\n",
       "<path clip-path=\"url(#clip762)\" d=\"M1354.67 137.749 L1354.67 1384.24 L1393.11 1384.24 L1393.11 137.749 L1354.67 137.749 L1354.67 137.749  Z\" fill=\"#009af9\" fill-rule=\"evenodd\" fill-opacity=\"1\"/>\n",
       "<polyline clip-path=\"url(#clip762)\" style=\"stroke:#000000; stroke-linecap:round; stroke-linejoin:round; stroke-width:4; stroke-opacity:1; fill:none\" points=\"1354.67,137.749 1354.67,1384.24 1393.11,1384.24 1393.11,137.749 1354.67,137.749 \"/>\n",
       "<path clip-path=\"url(#clip762)\" d=\"M1393.11 619.755 L1393.11 1384.24 L1431.54 1384.24 L1431.54 619.755 L1393.11 619.755 L1393.11 619.755  Z\" fill=\"#009af9\" fill-rule=\"evenodd\" fill-opacity=\"1\"/>\n",
       "<polyline clip-path=\"url(#clip762)\" style=\"stroke:#000000; stroke-linecap:round; stroke-linejoin:round; stroke-width:4; stroke-opacity:1; fill:none\" points=\"1393.11,619.755 1393.11,1384.24 1431.54,1384.24 1431.54,619.755 1393.11,619.755 \"/>\n",
       "<path clip-path=\"url(#clip762)\" d=\"M1431.54 369.224 L1431.54 1384.24 L1469.98 1384.24 L1469.98 369.224 L1431.54 369.224 L1431.54 369.224  Z\" fill=\"#009af9\" fill-rule=\"evenodd\" fill-opacity=\"1\"/>\n",
       "<polyline clip-path=\"url(#clip762)\" style=\"stroke:#000000; stroke-linecap:round; stroke-linejoin:round; stroke-width:4; stroke-opacity:1; fill:none\" points=\"1431.54,369.224 1431.54,1384.24 1469.98,1384.24 1469.98,369.224 1431.54,369.224 \"/>\n",
       "<path clip-path=\"url(#clip762)\" d=\"M1469.98 752.587 L1469.98 1384.24 L1508.42 1384.24 L1508.42 752.587 L1469.98 752.587 L1469.98 752.587  Z\" fill=\"#009af9\" fill-rule=\"evenodd\" fill-opacity=\"1\"/>\n",
       "<polyline clip-path=\"url(#clip762)\" style=\"stroke:#000000; stroke-linecap:round; stroke-linejoin:round; stroke-width:4; stroke-opacity:1; fill:none\" points=\"1469.98,752.587 1469.98,1384.24 1508.42,1384.24 1508.42,752.587 1469.98,752.587 \"/>\n",
       "<path clip-path=\"url(#clip762)\" d=\"M1508.42 568.752 L1508.42 1384.24 L1546.86 1384.24 L1546.86 568.752 L1508.42 568.752 L1508.42 568.752  Z\" fill=\"#009af9\" fill-rule=\"evenodd\" fill-opacity=\"1\"/>\n",
       "<polyline clip-path=\"url(#clip762)\" style=\"stroke:#000000; stroke-linecap:round; stroke-linejoin:round; stroke-width:4; stroke-opacity:1; fill:none\" points=\"1508.42,568.752 1508.42,1384.24 1546.86,1384.24 1546.86,568.752 1508.42,568.752 \"/>\n",
       "<path clip-path=\"url(#clip762)\" d=\"M1546.86 918.486 L1546.86 1384.24 L1585.29 1384.24 L1585.29 918.486 L1546.86 918.486 L1546.86 918.486  Z\" fill=\"#009af9\" fill-rule=\"evenodd\" fill-opacity=\"1\"/>\n",
       "<polyline clip-path=\"url(#clip762)\" style=\"stroke:#000000; stroke-linecap:round; stroke-linejoin:round; stroke-width:4; stroke-opacity:1; fill:none\" points=\"1546.86,918.486 1546.86,1384.24 1585.29,1384.24 1585.29,918.486 1546.86,918.486 \"/>\n",
       "<path clip-path=\"url(#clip762)\" d=\"M1585.29 808.634 L1585.29 1384.24 L1623.73 1384.24 L1623.73 808.634 L1585.29 808.634 L1585.29 808.634  Z\" fill=\"#009af9\" fill-rule=\"evenodd\" fill-opacity=\"1\"/>\n",
       "<polyline clip-path=\"url(#clip762)\" style=\"stroke:#000000; stroke-linecap:round; stroke-linejoin:round; stroke-width:4; stroke-opacity:1; fill:none\" points=\"1585.29,808.634 1585.29,1384.24 1623.73,1384.24 1623.73,808.634 1585.29,808.634 \"/>\n",
       "<path clip-path=\"url(#clip762)\" d=\"M1623.73 1060.85 L1623.73 1384.24 L1662.17 1384.24 L1662.17 1060.85 L1623.73 1060.85 L1623.73 1060.85  Z\" fill=\"#009af9\" fill-rule=\"evenodd\" fill-opacity=\"1\"/>\n",
       "<polyline clip-path=\"url(#clip762)\" style=\"stroke:#000000; stroke-linecap:round; stroke-linejoin:round; stroke-width:4; stroke-opacity:1; fill:none\" points=\"1623.73,1060.85 1623.73,1384.24 1662.17,1384.24 1662.17,1060.85 1623.73,1060.85 \"/>\n",
       "<path clip-path=\"url(#clip762)\" d=\"M1662.17 1004.8 L1662.17 1384.24 L1700.61 1384.24 L1700.61 1004.8 L1662.17 1004.8 L1662.17 1004.8  Z\" fill=\"#009af9\" fill-rule=\"evenodd\" fill-opacity=\"1\"/>\n",
       "<polyline clip-path=\"url(#clip762)\" style=\"stroke:#000000; stroke-linecap:round; stroke-linejoin:round; stroke-width:4; stroke-opacity:1; fill:none\" points=\"1662.17,1004.8 1662.17,1384.24 1700.61,1384.24 1700.61,1004.8 1662.17,1004.8 \"/>\n",
       "<path clip-path=\"url(#clip762)\" d=\"M1700.61 1179.11 L1700.61 1384.24 L1739.04 1384.24 L1739.04 1179.11 L1700.61 1179.11 L1700.61 1179.11  Z\" fill=\"#009af9\" fill-rule=\"evenodd\" fill-opacity=\"1\"/>\n",
       "<polyline clip-path=\"url(#clip762)\" style=\"stroke:#000000; stroke-linecap:round; stroke-linejoin:round; stroke-width:4; stroke-opacity:1; fill:none\" points=\"1700.61,1179.11 1700.61,1384.24 1739.04,1384.24 1739.04,1179.11 1700.61,1179.11 \"/>\n",
       "<path clip-path=\"url(#clip762)\" d=\"M1739.04 1155.57 L1739.04 1384.24 L1777.48 1384.24 L1777.48 1155.57 L1739.04 1155.57 L1739.04 1155.57  Z\" fill=\"#009af9\" fill-rule=\"evenodd\" fill-opacity=\"1\"/>\n",
       "<polyline clip-path=\"url(#clip762)\" style=\"stroke:#000000; stroke-linecap:round; stroke-linejoin:round; stroke-width:4; stroke-opacity:1; fill:none\" points=\"1739.04,1155.57 1739.04,1384.24 1777.48,1384.24 1777.48,1155.57 1739.04,1155.57 \"/>\n",
       "<path clip-path=\"url(#clip762)\" d=\"M1777.48 1282.79 L1777.48 1384.24 L1815.92 1384.24 L1815.92 1282.79 L1777.48 1282.79 L1777.48 1282.79  Z\" fill=\"#009af9\" fill-rule=\"evenodd\" fill-opacity=\"1\"/>\n",
       "<polyline clip-path=\"url(#clip762)\" style=\"stroke:#000000; stroke-linecap:round; stroke-linejoin:round; stroke-width:4; stroke-opacity:1; fill:none\" points=\"1777.48,1282.79 1777.48,1384.24 1815.92,1384.24 1815.92,1282.79 1777.48,1282.79 \"/>\n",
       "<path clip-path=\"url(#clip762)\" d=\"M1815.92 1288.4 L1815.92 1384.24 L1854.36 1384.24 L1854.36 1288.4 L1815.92 1288.4 L1815.92 1288.4  Z\" fill=\"#009af9\" fill-rule=\"evenodd\" fill-opacity=\"1\"/>\n",
       "<polyline clip-path=\"url(#clip762)\" style=\"stroke:#000000; stroke-linecap:round; stroke-linejoin:round; stroke-width:4; stroke-opacity:1; fill:none\" points=\"1815.92,1288.4 1815.92,1384.24 1854.36,1384.24 1854.36,1288.4 1815.92,1288.4 \"/>\n",
       "<path clip-path=\"url(#clip762)\" d=\"M1854.36 1330.99 L1854.36 1384.24 L1892.8 1384.24 L1892.8 1330.99 L1854.36 1330.99 L1854.36 1330.99  Z\" fill=\"#009af9\" fill-rule=\"evenodd\" fill-opacity=\"1\"/>\n",
       "<polyline clip-path=\"url(#clip762)\" style=\"stroke:#000000; stroke-linecap:round; stroke-linejoin:round; stroke-width:4; stroke-opacity:1; fill:none\" points=\"1854.36,1330.99 1854.36,1384.24 1892.8,1384.24 1892.8,1330.99 1854.36,1330.99 \"/>\n",
       "<path clip-path=\"url(#clip762)\" d=\"M1892.8 1326.51 L1892.8 1384.24 L1931.23 1384.24 L1931.23 1326.51 L1892.8 1326.51 L1892.8 1326.51  Z\" fill=\"#009af9\" fill-rule=\"evenodd\" fill-opacity=\"1\"/>\n",
       "<polyline clip-path=\"url(#clip762)\" style=\"stroke:#000000; stroke-linecap:round; stroke-linejoin:round; stroke-width:4; stroke-opacity:1; fill:none\" points=\"1892.8,1326.51 1892.8,1384.24 1931.23,1384.24 1931.23,1326.51 1892.8,1326.51 \"/>\n",
       "<path clip-path=\"url(#clip762)\" d=\"M1931.23 1363.5 L1931.23 1384.24 L1969.67 1384.24 L1969.67 1363.5 L1931.23 1363.5 L1931.23 1363.5  Z\" fill=\"#009af9\" fill-rule=\"evenodd\" fill-opacity=\"1\"/>\n",
       "<polyline clip-path=\"url(#clip762)\" style=\"stroke:#000000; stroke-linecap:round; stroke-linejoin:round; stroke-width:4; stroke-opacity:1; fill:none\" points=\"1931.23,1363.5 1931.23,1384.24 1969.67,1384.24 1969.67,1363.5 1931.23,1363.5 \"/>\n",
       "<path clip-path=\"url(#clip762)\" d=\"M1969.67 1356.21 L1969.67 1384.24 L2008.11 1384.24 L2008.11 1356.21 L1969.67 1356.21 L1969.67 1356.21  Z\" fill=\"#009af9\" fill-rule=\"evenodd\" fill-opacity=\"1\"/>\n",
       "<polyline clip-path=\"url(#clip762)\" style=\"stroke:#000000; stroke-linecap:round; stroke-linejoin:round; stroke-width:4; stroke-opacity:1; fill:none\" points=\"1969.67,1356.21 1969.67,1384.24 2008.11,1384.24 2008.11,1356.21 1969.67,1356.21 \"/>\n",
       "<path clip-path=\"url(#clip762)\" d=\"M2008.11 1373.03 L2008.11 1384.24 L2046.55 1384.24 L2046.55 1373.03 L2008.11 1373.03 L2008.11 1373.03  Z\" fill=\"#009af9\" fill-rule=\"evenodd\" fill-opacity=\"1\"/>\n",
       "<polyline clip-path=\"url(#clip762)\" style=\"stroke:#000000; stroke-linecap:round; stroke-linejoin:round; stroke-width:4; stroke-opacity:1; fill:none\" points=\"2008.11,1373.03 2008.11,1384.24 2046.55,1384.24 2046.55,1373.03 2008.11,1373.03 \"/>\n",
       "<path clip-path=\"url(#clip762)\" d=\"M2046.55 1374.71 L2046.55 1384.24 L2084.98 1384.24 L2084.98 1374.71 L2046.55 1374.71 L2046.55 1374.71  Z\" fill=\"#009af9\" fill-rule=\"evenodd\" fill-opacity=\"1\"/>\n",
       "<polyline clip-path=\"url(#clip762)\" style=\"stroke:#000000; stroke-linecap:round; stroke-linejoin:round; stroke-width:4; stroke-opacity:1; fill:none\" points=\"2046.55,1374.71 2046.55,1384.24 2084.98,1384.24 2084.98,1374.71 2046.55,1374.71 \"/>\n",
       "<path clip-path=\"url(#clip762)\" d=\"M2084.98 1382 L2084.98 1384.24 L2123.42 1384.24 L2123.42 1382 L2084.98 1382 L2084.98 1382  Z\" fill=\"#009af9\" fill-rule=\"evenodd\" fill-opacity=\"1\"/>\n",
       "<polyline clip-path=\"url(#clip762)\" style=\"stroke:#000000; stroke-linecap:round; stroke-linejoin:round; stroke-width:4; stroke-opacity:1; fill:none\" points=\"2084.98,1382 2084.98,1384.24 2123.42,1384.24 2123.42,1382 2084.98,1382 \"/>\n",
       "<path clip-path=\"url(#clip762)\" d=\"M2123.42 1382.56 L2123.42 1384.24 L2161.86 1384.24 L2161.86 1382.56 L2123.42 1382.56 L2123.42 1382.56  Z\" fill=\"#009af9\" fill-rule=\"evenodd\" fill-opacity=\"1\"/>\n",
       "<polyline clip-path=\"url(#clip762)\" style=\"stroke:#000000; stroke-linecap:round; stroke-linejoin:round; stroke-width:4; stroke-opacity:1; fill:none\" points=\"2123.42,1382.56 2123.42,1384.24 2161.86,1384.24 2161.86,1382.56 2123.42,1382.56 \"/>\n",
       "<path clip-path=\"url(#clip762)\" d=\"M2161.86 1384.24 L2161.86 1384.24 L2200.3 1384.24 L2200.3 1384.24 L2161.86 1384.24 L2161.86 1384.24  Z\" fill=\"#009af9\" fill-rule=\"evenodd\" fill-opacity=\"1\"/>\n",
       "<polyline clip-path=\"url(#clip762)\" style=\"stroke:#000000; stroke-linecap:round; stroke-linejoin:round; stroke-width:4; stroke-opacity:1; fill:none\" points=\"2161.86,1384.24 2161.86,1384.24 2200.3,1384.24 2161.86,1384.24 \"/>\n",
       "<path clip-path=\"url(#clip762)\" d=\"M2200.3 1383.12 L2200.3 1384.24 L2238.73 1384.24 L2238.73 1383.12 L2200.3 1383.12 L2200.3 1383.12  Z\" fill=\"#009af9\" fill-rule=\"evenodd\" fill-opacity=\"1\"/>\n",
       "<polyline clip-path=\"url(#clip762)\" style=\"stroke:#000000; stroke-linecap:round; stroke-linejoin:round; stroke-width:4; stroke-opacity:1; fill:none\" points=\"2200.3,1383.12 2200.3,1384.24 2238.73,1384.24 2238.73,1383.12 2200.3,1383.12 \"/>\n",
       "<circle clip-path=\"url(#clip762)\" style=\"fill:#009af9; stroke:none; fill-opacity:0\" cx=\"412.944\" cy=\"1382\" r=\"2\"/>\n",
       "<circle clip-path=\"url(#clip762)\" style=\"fill:#009af9; stroke:none; fill-opacity:0\" cx=\"451.382\" cy=\"1383.12\" r=\"2\"/>\n",
       "<circle clip-path=\"url(#clip762)\" style=\"fill:#009af9; stroke:none; fill-opacity:0\" cx=\"489.82\" cy=\"1383.12\" r=\"2\"/>\n",
       "<circle clip-path=\"url(#clip762)\" style=\"fill:#009af9; stroke:none; fill-opacity:0\" cx=\"528.257\" cy=\"1375.27\" r=\"2\"/>\n",
       "<circle clip-path=\"url(#clip762)\" style=\"fill:#009af9; stroke:none; fill-opacity:0\" cx=\"566.695\" cy=\"1376.95\" r=\"2\"/>\n",
       "<circle clip-path=\"url(#clip762)\" style=\"fill:#009af9; stroke:none; fill-opacity:0\" cx=\"605.133\" cy=\"1364.62\" r=\"2\"/>\n",
       "<circle clip-path=\"url(#clip762)\" style=\"fill:#009af9; stroke:none; fill-opacity:0\" cx=\"643.57\" cy=\"1355.09\" r=\"2\"/>\n",
       "<circle clip-path=\"url(#clip762)\" style=\"fill:#009af9; stroke:none; fill-opacity:0\" cx=\"682.008\" cy=\"1333.24\" r=\"2\"/>\n",
       "<circle clip-path=\"url(#clip762)\" style=\"fill:#009af9; stroke:none; fill-opacity:0\" cx=\"720.446\" cy=\"1339.4\" r=\"2\"/>\n",
       "<circle clip-path=\"url(#clip762)\" style=\"fill:#009af9; stroke:none; fill-opacity:0\" cx=\"758.883\" cy=\"1277.75\" r=\"2\"/>\n",
       "<circle clip-path=\"url(#clip762)\" style=\"fill:#009af9; stroke:none; fill-opacity:0\" cx=\"797.321\" cy=\"1281.67\" r=\"2\"/>\n",
       "<circle clip-path=\"url(#clip762)\" style=\"fill:#009af9; stroke:none; fill-opacity:0\" cx=\"835.759\" cy=\"1190.32\" r=\"2\"/>\n",
       "<circle clip-path=\"url(#clip762)\" style=\"fill:#009af9; stroke:none; fill-opacity:0\" cx=\"874.197\" cy=\"1208.81\" r=\"2\"/>\n",
       "<circle clip-path=\"url(#clip762)\" style=\"fill:#009af9; stroke:none; fill-opacity:0\" cx=\"912.634\" cy=\"1045.15\" r=\"2\"/>\n",
       "<circle clip-path=\"url(#clip762)\" style=\"fill:#009af9; stroke:none; fill-opacity:0\" cx=\"951.072\" cy=\"1081.58\" r=\"2\"/>\n",
       "<circle clip-path=\"url(#clip762)\" style=\"fill:#009af9; stroke:none; fill-opacity:0\" cx=\"989.51\" cy=\"863\" r=\"2\"/>\n",
       "<circle clip-path=\"url(#clip762)\" style=\"fill:#009af9; stroke:none; fill-opacity:0\" cx=\"1027.95\" cy=\"952.115\" r=\"2\"/>\n",
       "<circle clip-path=\"url(#clip762)\" style=\"fill:#009af9; stroke:none; fill-opacity:0\" cx=\"1066.38\" cy=\"572.115\" r=\"2\"/>\n",
       "<circle clip-path=\"url(#clip762)\" style=\"fill:#009af9; stroke:none; fill-opacity:0\" cx=\"1104.82\" cy=\"745.861\" r=\"2\"/>\n",
       "<circle clip-path=\"url(#clip762)\" style=\"fill:#009af9; stroke:none; fill-opacity:0\" cx=\"1143.26\" cy=\"353.531\" r=\"2\"/>\n",
       "<circle clip-path=\"url(#clip762)\" style=\"fill:#009af9; stroke:none; fill-opacity:0\" cx=\"1181.7\" cy=\"633.767\" r=\"2\"/>\n",
       "<circle clip-path=\"url(#clip762)\" style=\"fill:#009af9; stroke:none; fill-opacity:0\" cx=\"1220.14\" cy=\"193.796\" r=\"2\"/>\n",
       "<circle clip-path=\"url(#clip762)\" style=\"fill:#009af9; stroke:none; fill-opacity:0\" cx=\"1258.57\" cy=\"535.124\" r=\"2\"/>\n",
       "<circle clip-path=\"url(#clip762)\" style=\"fill:#009af9; stroke:none; fill-opacity:0\" cx=\"1297.01\" cy=\"86.1857\" r=\"2\"/>\n",
       "<circle clip-path=\"url(#clip762)\" style=\"fill:#009af9; stroke:none; fill-opacity:0\" cx=\"1335.45\" cy=\"512.144\" r=\"2\"/>\n",
       "<circle clip-path=\"url(#clip762)\" style=\"fill:#009af9; stroke:none; fill-opacity:0\" cx=\"1373.89\" cy=\"137.749\" r=\"2\"/>\n",
       "<circle clip-path=\"url(#clip762)\" style=\"fill:#009af9; stroke:none; fill-opacity:0\" cx=\"1412.32\" cy=\"619.755\" r=\"2\"/>\n",
       "<circle clip-path=\"url(#clip762)\" style=\"fill:#009af9; stroke:none; fill-opacity:0\" cx=\"1450.76\" cy=\"369.224\" r=\"2\"/>\n",
       "<circle clip-path=\"url(#clip762)\" style=\"fill:#009af9; stroke:none; fill-opacity:0\" cx=\"1489.2\" cy=\"752.587\" r=\"2\"/>\n",
       "<circle clip-path=\"url(#clip762)\" style=\"fill:#009af9; stroke:none; fill-opacity:0\" cx=\"1527.64\" cy=\"568.752\" r=\"2\"/>\n",
       "<circle clip-path=\"url(#clip762)\" style=\"fill:#009af9; stroke:none; fill-opacity:0\" cx=\"1566.07\" cy=\"918.486\" r=\"2\"/>\n",
       "<circle clip-path=\"url(#clip762)\" style=\"fill:#009af9; stroke:none; fill-opacity:0\" cx=\"1604.51\" cy=\"808.634\" r=\"2\"/>\n",
       "<circle clip-path=\"url(#clip762)\" style=\"fill:#009af9; stroke:none; fill-opacity:0\" cx=\"1642.95\" cy=\"1060.85\" r=\"2\"/>\n",
       "<circle clip-path=\"url(#clip762)\" style=\"fill:#009af9; stroke:none; fill-opacity:0\" cx=\"1681.39\" cy=\"1004.8\" r=\"2\"/>\n",
       "<circle clip-path=\"url(#clip762)\" style=\"fill:#009af9; stroke:none; fill-opacity:0\" cx=\"1719.83\" cy=\"1179.11\" r=\"2\"/>\n",
       "<circle clip-path=\"url(#clip762)\" style=\"fill:#009af9; stroke:none; fill-opacity:0\" cx=\"1758.26\" cy=\"1155.57\" r=\"2\"/>\n",
       "<circle clip-path=\"url(#clip762)\" style=\"fill:#009af9; stroke:none; fill-opacity:0\" cx=\"1796.7\" cy=\"1282.79\" r=\"2\"/>\n",
       "<circle clip-path=\"url(#clip762)\" style=\"fill:#009af9; stroke:none; fill-opacity:0\" cx=\"1835.14\" cy=\"1288.4\" r=\"2\"/>\n",
       "<circle clip-path=\"url(#clip762)\" style=\"fill:#009af9; stroke:none; fill-opacity:0\" cx=\"1873.58\" cy=\"1330.99\" r=\"2\"/>\n",
       "<circle clip-path=\"url(#clip762)\" style=\"fill:#009af9; stroke:none; fill-opacity:0\" cx=\"1912.01\" cy=\"1326.51\" r=\"2\"/>\n",
       "<circle clip-path=\"url(#clip762)\" style=\"fill:#009af9; stroke:none; fill-opacity:0\" cx=\"1950.45\" cy=\"1363.5\" r=\"2\"/>\n",
       "<circle clip-path=\"url(#clip762)\" style=\"fill:#009af9; stroke:none; fill-opacity:0\" cx=\"1988.89\" cy=\"1356.21\" r=\"2\"/>\n",
       "<circle clip-path=\"url(#clip762)\" style=\"fill:#009af9; stroke:none; fill-opacity:0\" cx=\"2027.33\" cy=\"1373.03\" r=\"2\"/>\n",
       "<circle clip-path=\"url(#clip762)\" style=\"fill:#009af9; stroke:none; fill-opacity:0\" cx=\"2065.76\" cy=\"1374.71\" r=\"2\"/>\n",
       "<circle clip-path=\"url(#clip762)\" style=\"fill:#009af9; stroke:none; fill-opacity:0\" cx=\"2104.2\" cy=\"1382\" r=\"2\"/>\n",
       "<circle clip-path=\"url(#clip762)\" style=\"fill:#009af9; stroke:none; fill-opacity:0\" cx=\"2142.64\" cy=\"1382.56\" r=\"2\"/>\n",
       "<circle clip-path=\"url(#clip762)\" style=\"fill:#009af9; stroke:none; fill-opacity:0\" cx=\"2181.08\" cy=\"1384.24\" r=\"2\"/>\n",
       "<circle clip-path=\"url(#clip762)\" style=\"fill:#009af9; stroke:none; fill-opacity:0\" cx=\"2219.52\" cy=\"1383.12\" r=\"2\"/>\n",
       "<path clip-path=\"url(#clip760)\" d=\"M348.806 196.789 L580.439 196.789 L580.439 93.1086 L348.806 93.1086  Z\" fill=\"#ffffff\" fill-rule=\"evenodd\" fill-opacity=\"1\"/>\n",
       "<polyline clip-path=\"url(#clip760)\" style=\"stroke:#000000; stroke-linecap:round; stroke-linejoin:round; stroke-width:4; stroke-opacity:1; fill:none\" points=\"348.806,196.789 580.439,196.789 580.439,93.1086 348.806,93.1086 348.806,196.789 \"/>\n",
       "<path clip-path=\"url(#clip760)\" d=\"M371.84 165.685 L510.043 165.685 L510.043 124.213 L371.84 124.213 L371.84 165.685  Z\" fill=\"#009af9\" fill-rule=\"evenodd\" fill-opacity=\"1\"/>\n",
       "<polyline clip-path=\"url(#clip760)\" style=\"stroke:#000000; stroke-linecap:round; stroke-linejoin:round; stroke-width:4; stroke-opacity:1; fill:none\" points=\"371.84,165.685 510.043,165.685 510.043,124.213 371.84,124.213 371.84,165.685 \"/>\n",
       "<path clip-path=\"url(#clip760)\" d=\"M555.322 128.803 L555.322 133.363 Q552.66 132.09 550.299 131.465 Q547.938 130.84 545.739 130.84 Q541.919 130.84 539.836 132.321 Q537.776 133.803 537.776 136.534 Q537.776 138.826 539.142 140.007 Q540.531 141.164 544.373 141.882 L547.197 142.46 Q552.429 143.456 554.906 145.979 Q557.406 148.479 557.406 152.692 Q557.406 157.715 554.026 160.307 Q550.669 162.9 544.165 162.9 Q541.711 162.9 538.933 162.344 Q536.179 161.789 533.216 160.701 L533.216 155.886 Q536.063 157.483 538.794 158.293 Q541.526 159.104 544.165 159.104 Q548.169 159.104 550.345 157.53 Q552.521 155.956 552.521 153.039 Q552.521 150.493 550.947 149.057 Q549.396 147.622 545.831 146.905 L542.984 146.349 Q537.753 145.307 535.415 143.085 Q533.077 140.863 533.077 136.905 Q533.077 132.321 536.295 129.682 Q539.535 127.044 545.206 127.044 Q547.637 127.044 550.16 127.483 Q552.683 127.923 555.322 128.803 Z\" fill=\"#000000\" fill-rule=\"nonzero\" fill-opacity=\"1\" /></svg>\n"
      ],
      "text/html": [
       "<?xml version=\"1.0\" encoding=\"utf-8\"?>\n",
       "<svg xmlns=\"http://www.w3.org/2000/svg\" xmlns:xlink=\"http://www.w3.org/1999/xlink\" width=\"600\" height=\"400\" viewBox=\"0 0 2400 1600\">\n",
       "<defs>\n",
       "  <clipPath id=\"clip810\">\n",
       "    <rect x=\"0\" y=\"0\" width=\"2400\" height=\"1600\"/>\n",
       "  </clipPath>\n",
       "</defs>\n",
       "<path clip-path=\"url(#clip810)\" d=\"M0 1600 L2400 1600 L2400 0 L0 0  Z\" fill=\"#ffffff\" fill-rule=\"evenodd\" fill-opacity=\"1\"/>\n",
       "<defs>\n",
       "  <clipPath id=\"clip811\">\n",
       "    <rect x=\"480\" y=\"0\" width=\"1681\" height=\"1600\"/>\n",
       "  </clipPath>\n",
       "</defs>\n",
       "<path clip-path=\"url(#clip810)\" d=\"M279.704 1423.18 L2352.76 1423.18 L2352.76 47.2441 L279.704 47.2441  Z\" fill=\"#ffffff\" fill-rule=\"evenodd\" fill-opacity=\"1\"/>\n",
       "<defs>\n",
       "  <clipPath id=\"clip812\">\n",
       "    <rect x=\"279\" y=\"47\" width=\"2074\" height=\"1377\"/>\n",
       "  </clipPath>\n",
       "</defs>\n",
       "<polyline clip-path=\"url(#clip812)\" style=\"stroke:#000000; stroke-linecap:round; stroke-linejoin:round; stroke-width:2; stroke-opacity:0.1; fill:none\" points=\"509.039,1423.18 509.039,47.2441 \"/>\n",
       "<polyline clip-path=\"url(#clip812)\" style=\"stroke:#000000; stroke-linecap:round; stroke-linejoin:round; stroke-width:2; stroke-opacity:0.1; fill:none\" points=\"893.415,1423.18 893.415,47.2441 \"/>\n",
       "<polyline clip-path=\"url(#clip812)\" style=\"stroke:#000000; stroke-linecap:round; stroke-linejoin:round; stroke-width:2; stroke-opacity:0.1; fill:none\" points=\"1277.79,1423.18 1277.79,47.2441 \"/>\n",
       "<polyline clip-path=\"url(#clip812)\" style=\"stroke:#000000; stroke-linecap:round; stroke-linejoin:round; stroke-width:2; stroke-opacity:0.1; fill:none\" points=\"1662.17,1423.18 1662.17,47.2441 \"/>\n",
       "<polyline clip-path=\"url(#clip812)\" style=\"stroke:#000000; stroke-linecap:round; stroke-linejoin:round; stroke-width:2; stroke-opacity:0.1; fill:none\" points=\"2046.55,1423.18 2046.55,47.2441 \"/>\n",
       "<polyline clip-path=\"url(#clip810)\" style=\"stroke:#000000; stroke-linecap:round; stroke-linejoin:round; stroke-width:4; stroke-opacity:1; fill:none\" points=\"279.704,1423.18 2352.76,1423.18 \"/>\n",
       "<polyline clip-path=\"url(#clip810)\" style=\"stroke:#000000; stroke-linecap:round; stroke-linejoin:round; stroke-width:4; stroke-opacity:1; fill:none\" points=\"509.039,1423.18 509.039,1404.28 \"/>\n",
       "<polyline clip-path=\"url(#clip810)\" style=\"stroke:#000000; stroke-linecap:round; stroke-linejoin:round; stroke-width:4; stroke-opacity:1; fill:none\" points=\"893.415,1423.18 893.415,1404.28 \"/>\n",
       "<polyline clip-path=\"url(#clip810)\" style=\"stroke:#000000; stroke-linecap:round; stroke-linejoin:round; stroke-width:4; stroke-opacity:1; fill:none\" points=\"1277.79,1423.18 1277.79,1404.28 \"/>\n",
       "<polyline clip-path=\"url(#clip810)\" style=\"stroke:#000000; stroke-linecap:round; stroke-linejoin:round; stroke-width:4; stroke-opacity:1; fill:none\" points=\"1662.17,1423.18 1662.17,1404.28 \"/>\n",
       "<polyline clip-path=\"url(#clip810)\" style=\"stroke:#000000; stroke-linecap:round; stroke-linejoin:round; stroke-width:4; stroke-opacity:1; fill:none\" points=\"2046.55,1423.18 2046.55,1404.28 \"/>\n",
       "<path clip-path=\"url(#clip810)\" d=\"M463.101 1468.75 L492.777 1468.75 L492.777 1472.69 L463.101 1472.69 L463.101 1468.75 Z\" fill=\"#000000\" fill-rule=\"nonzero\" fill-opacity=\"1\" /><path clip-path=\"url(#clip810)\" d=\"M502.916 1451.02 L521.272 1451.02 L521.272 1454.96 L507.198 1454.96 L507.198 1463.43 Q508.217 1463.08 509.235 1462.92 Q510.254 1462.73 511.272 1462.73 Q517.059 1462.73 520.439 1465.9 Q523.819 1469.08 523.819 1474.49 Q523.819 1480.07 520.346 1483.17 Q516.874 1486.25 510.555 1486.25 Q508.379 1486.25 506.11 1485.88 Q503.865 1485.51 501.458 1484.77 L501.458 1480.07 Q503.541 1481.2 505.763 1481.76 Q507.985 1482.32 510.462 1482.32 Q514.467 1482.32 516.805 1480.21 Q519.143 1478.1 519.143 1474.49 Q519.143 1470.88 516.805 1468.77 Q514.467 1466.67 510.462 1466.67 Q508.587 1466.67 506.712 1467.08 Q504.86 1467.5 502.916 1468.38 L502.916 1451.02 Z\" fill=\"#000000\" fill-rule=\"nonzero\" fill-opacity=\"1\" /><path clip-path=\"url(#clip810)\" d=\"M543.031 1454.1 Q539.42 1454.1 537.592 1457.66 Q535.786 1461.2 535.786 1468.33 Q535.786 1475.44 537.592 1479.01 Q539.42 1482.55 543.031 1482.55 Q546.666 1482.55 548.471 1479.01 Q550.3 1475.44 550.3 1468.33 Q550.3 1461.2 548.471 1457.66 Q546.666 1454.1 543.031 1454.1 M543.031 1450.39 Q548.842 1450.39 551.897 1455 Q554.976 1459.58 554.976 1468.33 Q554.976 1477.06 551.897 1481.67 Q548.842 1486.25 543.031 1486.25 Q537.221 1486.25 534.143 1481.67 Q531.087 1477.06 531.087 1468.33 Q531.087 1459.58 534.143 1455 Q537.221 1450.39 543.031 1450.39 Z\" fill=\"#000000\" fill-rule=\"nonzero\" fill-opacity=\"1\" /><path clip-path=\"url(#clip810)\" d=\"M893.415 1454.1 Q889.804 1454.1 887.976 1457.66 Q886.17 1461.2 886.17 1468.33 Q886.17 1475.44 887.976 1479.01 Q889.804 1482.55 893.415 1482.55 Q897.05 1482.55 898.855 1479.01 Q900.684 1475.44 900.684 1468.33 Q900.684 1461.2 898.855 1457.66 Q897.05 1454.1 893.415 1454.1 M893.415 1450.39 Q899.226 1450.39 902.281 1455 Q905.36 1459.58 905.36 1468.33 Q905.36 1477.06 902.281 1481.67 Q899.226 1486.25 893.415 1486.25 Q887.605 1486.25 884.527 1481.67 Q881.471 1477.06 881.471 1468.33 Q881.471 1459.58 884.527 1455 Q887.605 1450.39 893.415 1450.39 Z\" fill=\"#000000\" fill-rule=\"nonzero\" fill-opacity=\"1\" /><path clip-path=\"url(#clip810)\" d=\"M1252.49 1451.02 L1270.85 1451.02 L1270.85 1454.96 L1256.77 1454.96 L1256.77 1463.43 Q1257.79 1463.08 1258.81 1462.92 Q1259.83 1462.73 1260.85 1462.73 Q1266.63 1462.73 1270.01 1465.9 Q1273.39 1469.08 1273.39 1474.49 Q1273.39 1480.07 1269.92 1483.17 Q1266.45 1486.25 1260.13 1486.25 Q1257.95 1486.25 1255.69 1485.88 Q1253.44 1485.51 1251.03 1484.77 L1251.03 1480.07 Q1253.12 1481.2 1255.34 1481.76 Q1257.56 1482.32 1260.04 1482.32 Q1264.04 1482.32 1266.38 1480.21 Q1268.72 1478.1 1268.72 1474.49 Q1268.72 1470.88 1266.38 1468.77 Q1264.04 1466.67 1260.04 1466.67 Q1258.16 1466.67 1256.29 1467.08 Q1254.44 1467.5 1252.49 1468.38 L1252.49 1451.02 Z\" fill=\"#000000\" fill-rule=\"nonzero\" fill-opacity=\"1\" /><path clip-path=\"url(#clip810)\" d=\"M1292.61 1454.1 Q1289 1454.1 1287.17 1457.66 Q1285.36 1461.2 1285.36 1468.33 Q1285.36 1475.44 1287.17 1479.01 Q1289 1482.55 1292.61 1482.55 Q1296.24 1482.55 1298.05 1479.01 Q1299.88 1475.44 1299.88 1468.33 Q1299.88 1461.2 1298.05 1457.66 Q1296.24 1454.1 1292.61 1454.1 M1292.61 1450.39 Q1298.42 1450.39 1301.47 1455 Q1304.55 1459.58 1304.55 1468.33 Q1304.55 1477.06 1301.47 1481.67 Q1298.42 1486.25 1292.61 1486.25 Q1286.8 1486.25 1283.72 1481.67 Q1280.66 1477.06 1280.66 1468.33 Q1280.66 1459.58 1283.72 1455 Q1286.8 1450.39 1292.61 1450.39 Z\" fill=\"#000000\" fill-rule=\"nonzero\" fill-opacity=\"1\" /><path clip-path=\"url(#clip810)\" d=\"M1621.78 1481.64 L1629.41 1481.64 L1629.41 1455.28 L1621.1 1456.95 L1621.1 1452.69 L1629.37 1451.02 L1634.04 1451.02 L1634.04 1481.64 L1641.68 1481.64 L1641.68 1485.58 L1621.78 1485.58 L1621.78 1481.64 Z\" fill=\"#000000\" fill-rule=\"nonzero\" fill-opacity=\"1\" /><path clip-path=\"url(#clip810)\" d=\"M1661.13 1454.1 Q1657.52 1454.1 1655.69 1457.66 Q1653.88 1461.2 1653.88 1468.33 Q1653.88 1475.44 1655.69 1479.01 Q1657.52 1482.55 1661.13 1482.55 Q1664.76 1482.55 1666.57 1479.01 Q1668.4 1475.44 1668.4 1468.33 Q1668.4 1461.2 1666.57 1457.66 Q1664.76 1454.1 1661.13 1454.1 M1661.13 1450.39 Q1666.94 1450.39 1669.99 1455 Q1673.07 1459.58 1673.07 1468.33 Q1673.07 1477.06 1669.99 1481.67 Q1666.94 1486.25 1661.13 1486.25 Q1655.32 1486.25 1652.24 1481.67 Q1649.18 1477.06 1649.18 1468.33 Q1649.18 1459.58 1652.24 1455 Q1655.32 1450.39 1661.13 1450.39 Z\" fill=\"#000000\" fill-rule=\"nonzero\" fill-opacity=\"1\" /><path clip-path=\"url(#clip810)\" d=\"M1691.29 1454.1 Q1687.68 1454.1 1685.85 1457.66 Q1684.04 1461.2 1684.04 1468.33 Q1684.04 1475.44 1685.85 1479.01 Q1687.68 1482.55 1691.29 1482.55 Q1694.92 1482.55 1696.73 1479.01 Q1698.56 1475.44 1698.56 1468.33 Q1698.56 1461.2 1696.73 1457.66 Q1694.92 1454.1 1691.29 1454.1 M1691.29 1450.39 Q1697.1 1450.39 1700.15 1455 Q1703.23 1459.58 1703.23 1468.33 Q1703.23 1477.06 1700.15 1481.67 Q1697.1 1486.25 1691.29 1486.25 Q1685.48 1486.25 1682.4 1481.67 Q1679.34 1477.06 1679.34 1468.33 Q1679.34 1459.58 1682.4 1455 Q1685.48 1450.39 1691.29 1450.39 Z\" fill=\"#000000\" fill-rule=\"nonzero\" fill-opacity=\"1\" /><path clip-path=\"url(#clip810)\" d=\"M2006.15 1481.64 L2013.79 1481.64 L2013.79 1455.28 L2005.48 1456.95 L2005.48 1452.69 L2013.75 1451.02 L2018.42 1451.02 L2018.42 1481.64 L2026.06 1481.64 L2026.06 1485.58 L2006.15 1485.58 L2006.15 1481.64 Z\" fill=\"#000000\" fill-rule=\"nonzero\" fill-opacity=\"1\" /><path clip-path=\"url(#clip810)\" d=\"M2035.55 1451.02 L2053.91 1451.02 L2053.91 1454.96 L2039.83 1454.96 L2039.83 1463.43 Q2040.85 1463.08 2041.87 1462.92 Q2042.89 1462.73 2043.91 1462.73 Q2049.69 1462.73 2053.07 1465.9 Q2056.45 1469.08 2056.45 1474.49 Q2056.45 1480.07 2052.98 1483.17 Q2049.51 1486.25 2043.19 1486.25 Q2041.01 1486.25 2038.75 1485.88 Q2036.5 1485.51 2034.09 1484.77 L2034.09 1480.07 Q2036.18 1481.2 2038.4 1481.76 Q2040.62 1482.32 2043.1 1482.32 Q2047.1 1482.32 2049.44 1480.21 Q2051.78 1478.1 2051.78 1474.49 Q2051.78 1470.88 2049.44 1468.77 Q2047.1 1466.67 2043.1 1466.67 Q2041.22 1466.67 2039.35 1467.08 Q2037.5 1467.5 2035.55 1468.38 L2035.55 1451.02 Z\" fill=\"#000000\" fill-rule=\"nonzero\" fill-opacity=\"1\" /><path clip-path=\"url(#clip810)\" d=\"M2075.67 1454.1 Q2072.06 1454.1 2070.23 1457.66 Q2068.42 1461.2 2068.42 1468.33 Q2068.42 1475.44 2070.23 1479.01 Q2072.06 1482.55 2075.67 1482.55 Q2079.3 1482.55 2081.11 1479.01 Q2082.93 1475.44 2082.93 1468.33 Q2082.93 1461.2 2081.11 1457.66 Q2079.3 1454.1 2075.67 1454.1 M2075.67 1450.39 Q2081.48 1450.39 2084.53 1455 Q2087.61 1459.58 2087.61 1468.33 Q2087.61 1477.06 2084.53 1481.67 Q2081.48 1486.25 2075.67 1486.25 Q2069.86 1486.25 2066.78 1481.67 Q2063.72 1477.06 2063.72 1468.33 Q2063.72 1459.58 2066.78 1455 Q2069.86 1450.39 2075.67 1450.39 Z\" fill=\"#000000\" fill-rule=\"nonzero\" fill-opacity=\"1\" /><path clip-path=\"url(#clip810)\" d=\"M1330.09 1522.08 L1330.09 1528.35 Q1326.43 1526.6 1323.18 1525.74 Q1319.94 1524.88 1316.91 1524.88 Q1311.66 1524.88 1308.8 1526.92 Q1305.97 1528.96 1305.97 1532.71 Q1305.97 1535.87 1307.84 1537.49 Q1309.75 1539.08 1315.04 1540.07 L1318.92 1540.86 Q1326.11 1542.23 1329.52 1545.7 Q1332.96 1549.14 1332.96 1554.93 Q1332.96 1561.84 1328.31 1565.4 Q1323.69 1568.97 1314.75 1568.97 Q1311.38 1568.97 1307.56 1568.2 Q1303.77 1567.44 1299.69 1565.94 L1299.69 1559.32 Q1303.61 1561.52 1307.37 1562.63 Q1311.12 1563.75 1314.75 1563.75 Q1320.26 1563.75 1323.25 1561.58 Q1326.24 1559.42 1326.24 1555.41 Q1326.24 1551.91 1324.08 1549.93 Q1321.94 1547.96 1317.04 1546.97 L1313.13 1546.21 Q1305.93 1544.78 1302.72 1541.72 Q1299.5 1538.67 1299.5 1533.22 Q1299.5 1526.92 1303.93 1523.29 Q1308.38 1519.66 1316.18 1519.66 Q1319.52 1519.66 1322.99 1520.27 Q1326.46 1520.87 1330.09 1522.08 Z\" fill=\"#000000\" fill-rule=\"nonzero\" fill-opacity=\"1\" /><polyline clip-path=\"url(#clip812)\" style=\"stroke:#000000; stroke-linecap:round; stroke-linejoin:round; stroke-width:2; stroke-opacity:0.1; fill:none\" points=\"279.704,1384.24 2352.76,1384.24 \"/>\n",
       "<polyline clip-path=\"url(#clip812)\" style=\"stroke:#000000; stroke-linecap:round; stroke-linejoin:round; stroke-width:2; stroke-opacity:0.1; fill:none\" points=\"279.704,963.884 2352.76,963.884 \"/>\n",
       "<polyline clip-path=\"url(#clip812)\" style=\"stroke:#000000; stroke-linecap:round; stroke-linejoin:round; stroke-width:2; stroke-opacity:0.1; fill:none\" points=\"279.704,543.531 2352.76,543.531 \"/>\n",
       "<polyline clip-path=\"url(#clip812)\" style=\"stroke:#000000; stroke-linecap:round; stroke-linejoin:round; stroke-width:2; stroke-opacity:0.1; fill:none\" points=\"279.704,123.177 2352.76,123.177 \"/>\n",
       "<polyline clip-path=\"url(#clip810)\" style=\"stroke:#000000; stroke-linecap:round; stroke-linejoin:round; stroke-width:4; stroke-opacity:1; fill:none\" points=\"279.704,1423.18 279.704,47.2441 \"/>\n",
       "<polyline clip-path=\"url(#clip810)\" style=\"stroke:#000000; stroke-linecap:round; stroke-linejoin:round; stroke-width:4; stroke-opacity:1; fill:none\" points=\"279.704,1384.24 298.602,1384.24 \"/>\n",
       "<polyline clip-path=\"url(#clip810)\" style=\"stroke:#000000; stroke-linecap:round; stroke-linejoin:round; stroke-width:4; stroke-opacity:1; fill:none\" points=\"279.704,963.884 298.602,963.884 \"/>\n",
       "<polyline clip-path=\"url(#clip810)\" style=\"stroke:#000000; stroke-linecap:round; stroke-linejoin:round; stroke-width:4; stroke-opacity:1; fill:none\" points=\"279.704,543.531 298.602,543.531 \"/>\n",
       "<polyline clip-path=\"url(#clip810)\" style=\"stroke:#000000; stroke-linecap:round; stroke-linejoin:round; stroke-width:4; stroke-opacity:1; fill:none\" points=\"279.704,123.177 298.602,123.177 \"/>\n",
       "<path clip-path=\"url(#clip810)\" d=\"M126.205 1370.04 Q122.593 1370.04 120.765 1373.6 Q118.959 1377.14 118.959 1384.27 Q118.959 1391.38 120.765 1394.94 Q122.593 1398.49 126.205 1398.49 Q129.839 1398.49 131.644 1394.94 Q133.473 1391.38 133.473 1384.27 Q133.473 1377.14 131.644 1373.6 Q129.839 1370.04 126.205 1370.04 M126.205 1366.33 Q132.015 1366.33 135.07 1370.94 Q138.149 1375.52 138.149 1384.27 Q138.149 1393 135.07 1397.61 Q132.015 1402.19 126.205 1402.19 Q120.394 1402.19 117.316 1397.61 Q114.26 1393 114.26 1384.27 Q114.26 1375.52 117.316 1370.94 Q120.394 1366.33 126.205 1366.33 Z\" fill=\"#000000\" fill-rule=\"nonzero\" fill-opacity=\"1\" /><path clip-path=\"url(#clip810)\" d=\"M146.366 1395.64 L151.251 1395.64 L151.251 1401.52 L146.366 1401.52 L146.366 1395.64 Z\" fill=\"#000000\" fill-rule=\"nonzero\" fill-opacity=\"1\" /><path clip-path=\"url(#clip810)\" d=\"M171.436 1370.04 Q167.825 1370.04 165.996 1373.6 Q164.19 1377.14 164.19 1384.27 Q164.19 1391.38 165.996 1394.94 Q167.825 1398.49 171.436 1398.49 Q175.07 1398.49 176.876 1394.94 Q178.704 1391.38 178.704 1384.27 Q178.704 1377.14 176.876 1373.6 Q175.07 1370.04 171.436 1370.04 M171.436 1366.33 Q177.246 1366.33 180.301 1370.94 Q183.38 1375.52 183.38 1384.27 Q183.38 1393 180.301 1397.61 Q177.246 1402.19 171.436 1402.19 Q165.626 1402.19 162.547 1397.61 Q159.491 1393 159.491 1384.27 Q159.491 1375.52 162.547 1370.94 Q165.626 1366.33 171.436 1366.33 Z\" fill=\"#000000\" fill-rule=\"nonzero\" fill-opacity=\"1\" /><path clip-path=\"url(#clip810)\" d=\"M201.598 1370.04 Q197.987 1370.04 196.158 1373.6 Q194.352 1377.14 194.352 1384.27 Q194.352 1391.38 196.158 1394.94 Q197.987 1398.49 201.598 1398.49 Q205.232 1398.49 207.037 1394.94 Q208.866 1391.38 208.866 1384.27 Q208.866 1377.14 207.037 1373.6 Q205.232 1370.04 201.598 1370.04 M201.598 1366.33 Q207.408 1366.33 210.463 1370.94 Q213.542 1375.52 213.542 1384.27 Q213.542 1393 210.463 1397.61 Q207.408 1402.19 201.598 1402.19 Q195.787 1402.19 192.709 1397.61 Q189.653 1393 189.653 1384.27 Q189.653 1375.52 192.709 1370.94 Q195.787 1366.33 201.598 1366.33 Z\" fill=\"#000000\" fill-rule=\"nonzero\" fill-opacity=\"1\" /><path clip-path=\"url(#clip810)\" d=\"M231.76 1370.04 Q228.148 1370.04 226.32 1373.6 Q224.514 1377.14 224.514 1384.27 Q224.514 1391.38 226.32 1394.94 Q228.148 1398.49 231.76 1398.49 Q235.394 1398.49 237.199 1394.94 Q239.028 1391.38 239.028 1384.27 Q239.028 1377.14 237.199 1373.6 Q235.394 1370.04 231.76 1370.04 M231.76 1366.33 Q237.57 1366.33 240.625 1370.94 Q243.704 1375.52 243.704 1384.27 Q243.704 1393 240.625 1397.61 Q237.57 1402.19 231.76 1402.19 Q225.949 1402.19 222.871 1397.61 Q219.815 1393 219.815 1384.27 Q219.815 1375.52 222.871 1370.94 Q225.949 1366.33 231.76 1366.33 Z\" fill=\"#000000\" fill-rule=\"nonzero\" fill-opacity=\"1\" /><path clip-path=\"url(#clip810)\" d=\"M127.2 949.683 Q123.589 949.683 121.76 953.248 Q119.955 956.79 119.955 963.919 Q119.955 971.026 121.76 974.59 Q123.589 978.132 127.2 978.132 Q130.834 978.132 132.64 974.59 Q134.468 971.026 134.468 963.919 Q134.468 956.79 132.64 953.248 Q130.834 949.683 127.2 949.683 M127.2 945.979 Q133.01 945.979 136.066 950.586 Q139.144 955.169 139.144 963.919 Q139.144 972.646 136.066 977.252 Q133.01 981.836 127.2 981.836 Q121.39 981.836 118.311 977.252 Q115.256 972.646 115.256 963.919 Q115.256 955.169 118.311 950.586 Q121.39 945.979 127.2 945.979 Z\" fill=\"#000000\" fill-rule=\"nonzero\" fill-opacity=\"1\" /><path clip-path=\"url(#clip810)\" d=\"M147.362 975.285 L152.246 975.285 L152.246 981.164 L147.362 981.164 L147.362 975.285 Z\" fill=\"#000000\" fill-rule=\"nonzero\" fill-opacity=\"1\" /><path clip-path=\"url(#clip810)\" d=\"M172.431 949.683 Q168.82 949.683 166.991 953.248 Q165.186 956.79 165.186 963.919 Q165.186 971.026 166.991 974.59 Q168.82 978.132 172.431 978.132 Q176.065 978.132 177.871 974.59 Q179.7 971.026 179.7 963.919 Q179.7 956.79 177.871 953.248 Q176.065 949.683 172.431 949.683 M172.431 945.979 Q178.241 945.979 181.297 950.586 Q184.376 955.169 184.376 963.919 Q184.376 972.646 181.297 977.252 Q178.241 981.836 172.431 981.836 Q166.621 981.836 163.542 977.252 Q160.487 972.646 160.487 963.919 Q160.487 955.169 163.542 950.586 Q166.621 945.979 172.431 945.979 Z\" fill=\"#000000\" fill-rule=\"nonzero\" fill-opacity=\"1\" /><path clip-path=\"url(#clip810)\" d=\"M202.593 949.683 Q198.982 949.683 197.153 953.248 Q195.348 956.79 195.348 963.919 Q195.348 971.026 197.153 974.59 Q198.982 978.132 202.593 978.132 Q206.227 978.132 208.033 974.59 Q209.861 971.026 209.861 963.919 Q209.861 956.79 208.033 953.248 Q206.227 949.683 202.593 949.683 M202.593 945.979 Q208.403 945.979 211.459 950.586 Q214.537 955.169 214.537 963.919 Q214.537 972.646 211.459 977.252 Q208.403 981.836 202.593 981.836 Q196.783 981.836 193.704 977.252 Q190.649 972.646 190.649 963.919 Q190.649 955.169 193.704 950.586 Q196.783 945.979 202.593 945.979 Z\" fill=\"#000000\" fill-rule=\"nonzero\" fill-opacity=\"1\" /><path clip-path=\"url(#clip810)\" d=\"M222.801 946.604 L241.158 946.604 L241.158 950.54 L227.084 950.54 L227.084 959.012 Q228.102 958.665 229.121 958.503 Q230.139 958.317 231.158 958.317 Q236.945 958.317 240.324 961.489 Q243.704 964.66 243.704 970.077 Q243.704 975.655 240.232 978.757 Q236.76 981.836 230.44 981.836 Q228.264 981.836 225.996 981.465 Q223.75 981.095 221.343 980.354 L221.343 975.655 Q223.426 976.789 225.648 977.345 Q227.871 977.901 230.347 977.901 Q234.352 977.901 236.69 975.794 Q239.028 973.688 239.028 970.077 Q239.028 966.465 236.69 964.359 Q234.352 962.253 230.347 962.253 Q228.473 962.253 226.598 962.669 Q224.746 963.086 222.801 963.965 L222.801 946.604 Z\" fill=\"#000000\" fill-rule=\"nonzero\" fill-opacity=\"1\" /><path clip-path=\"url(#clip810)\" d=\"M126.205 529.329 Q122.593 529.329 120.765 532.894 Q118.959 536.436 118.959 543.565 Q118.959 550.672 120.765 554.237 Q122.593 557.778 126.205 557.778 Q129.839 557.778 131.644 554.237 Q133.473 550.672 133.473 543.565 Q133.473 536.436 131.644 532.894 Q129.839 529.329 126.205 529.329 M126.205 525.626 Q132.015 525.626 135.07 530.232 Q138.149 534.815 138.149 543.565 Q138.149 552.292 135.07 556.899 Q132.015 561.482 126.205 561.482 Q120.394 561.482 117.316 556.899 Q114.26 552.292 114.26 543.565 Q114.26 534.815 117.316 530.232 Q120.394 525.626 126.205 525.626 Z\" fill=\"#000000\" fill-rule=\"nonzero\" fill-opacity=\"1\" /><path clip-path=\"url(#clip810)\" d=\"M146.366 554.931 L151.251 554.931 L151.251 560.811 L146.366 560.811 L146.366 554.931 Z\" fill=\"#000000\" fill-rule=\"nonzero\" fill-opacity=\"1\" /><path clip-path=\"url(#clip810)\" d=\"M171.436 529.329 Q167.825 529.329 165.996 532.894 Q164.19 536.436 164.19 543.565 Q164.19 550.672 165.996 554.237 Q167.825 557.778 171.436 557.778 Q175.07 557.778 176.876 554.237 Q178.704 550.672 178.704 543.565 Q178.704 536.436 176.876 532.894 Q175.07 529.329 171.436 529.329 M171.436 525.626 Q177.246 525.626 180.301 530.232 Q183.38 534.815 183.38 543.565 Q183.38 552.292 180.301 556.899 Q177.246 561.482 171.436 561.482 Q165.626 561.482 162.547 556.899 Q159.491 552.292 159.491 543.565 Q159.491 534.815 162.547 530.232 Q165.626 525.626 171.436 525.626 Z\" fill=\"#000000\" fill-rule=\"nonzero\" fill-opacity=\"1\" /><path clip-path=\"url(#clip810)\" d=\"M192.408 556.875 L200.047 556.875 L200.047 530.51 L191.737 532.177 L191.737 527.917 L200 526.251 L204.676 526.251 L204.676 556.875 L212.315 556.875 L212.315 560.811 L192.408 560.811 L192.408 556.875 Z\" fill=\"#000000\" fill-rule=\"nonzero\" fill-opacity=\"1\" /><path clip-path=\"url(#clip810)\" d=\"M231.76 529.329 Q228.148 529.329 226.32 532.894 Q224.514 536.436 224.514 543.565 Q224.514 550.672 226.32 554.237 Q228.148 557.778 231.76 557.778 Q235.394 557.778 237.199 554.237 Q239.028 550.672 239.028 543.565 Q239.028 536.436 237.199 532.894 Q235.394 529.329 231.76 529.329 M231.76 525.626 Q237.57 525.626 240.625 530.232 Q243.704 534.815 243.704 543.565 Q243.704 552.292 240.625 556.899 Q237.57 561.482 231.76 561.482 Q225.949 561.482 222.871 556.899 Q219.815 552.292 219.815 543.565 Q219.815 534.815 222.871 530.232 Q225.949 525.626 231.76 525.626 Z\" fill=\"#000000\" fill-rule=\"nonzero\" fill-opacity=\"1\" /><path clip-path=\"url(#clip810)\" d=\"M127.2 108.975 Q123.589 108.975 121.76 112.54 Q119.955 116.082 119.955 123.212 Q119.955 130.318 121.76 133.883 Q123.589 137.424 127.2 137.424 Q130.834 137.424 132.64 133.883 Q134.468 130.318 134.468 123.212 Q134.468 116.082 132.64 112.54 Q130.834 108.975 127.2 108.975 M127.2 105.272 Q133.01 105.272 136.066 109.878 Q139.144 114.462 139.144 123.212 Q139.144 131.938 136.066 136.545 Q133.01 141.128 127.2 141.128 Q121.39 141.128 118.311 136.545 Q115.256 131.938 115.256 123.212 Q115.256 114.462 118.311 109.878 Q121.39 105.272 127.2 105.272 Z\" fill=\"#000000\" fill-rule=\"nonzero\" fill-opacity=\"1\" /><path clip-path=\"url(#clip810)\" d=\"M147.362 134.577 L152.246 134.577 L152.246 140.457 L147.362 140.457 L147.362 134.577 Z\" fill=\"#000000\" fill-rule=\"nonzero\" fill-opacity=\"1\" /><path clip-path=\"url(#clip810)\" d=\"M172.431 108.975 Q168.82 108.975 166.991 112.54 Q165.186 116.082 165.186 123.212 Q165.186 130.318 166.991 133.883 Q168.82 137.424 172.431 137.424 Q176.065 137.424 177.871 133.883 Q179.7 130.318 179.7 123.212 Q179.7 116.082 177.871 112.54 Q176.065 108.975 172.431 108.975 M172.431 105.272 Q178.241 105.272 181.297 109.878 Q184.376 114.462 184.376 123.212 Q184.376 131.938 181.297 136.545 Q178.241 141.128 172.431 141.128 Q166.621 141.128 163.542 136.545 Q160.487 131.938 160.487 123.212 Q160.487 114.462 163.542 109.878 Q166.621 105.272 172.431 105.272 Z\" fill=\"#000000\" fill-rule=\"nonzero\" fill-opacity=\"1\" /><path clip-path=\"url(#clip810)\" d=\"M193.403 136.522 L201.042 136.522 L201.042 110.156 L192.732 111.823 L192.732 107.563 L200.996 105.897 L205.672 105.897 L205.672 136.522 L213.311 136.522 L213.311 140.457 L193.403 140.457 L193.403 136.522 Z\" fill=\"#000000\" fill-rule=\"nonzero\" fill-opacity=\"1\" /><path clip-path=\"url(#clip810)\" d=\"M222.801 105.897 L241.158 105.897 L241.158 109.832 L227.084 109.832 L227.084 118.304 Q228.102 117.957 229.121 117.795 Q230.139 117.61 231.158 117.61 Q236.945 117.61 240.324 120.781 Q243.704 123.952 243.704 129.369 Q243.704 134.948 240.232 138.049 Q236.76 141.128 230.44 141.128 Q228.264 141.128 225.996 140.758 Q223.75 140.387 221.343 139.647 L221.343 134.948 Q223.426 136.082 225.648 136.637 Q227.871 137.193 230.347 137.193 Q234.352 137.193 236.69 135.086 Q239.028 132.98 239.028 129.369 Q239.028 125.758 236.69 123.651 Q234.352 121.545 230.347 121.545 Q228.473 121.545 226.598 121.962 Q224.746 122.378 222.801 123.258 L222.801 105.897 Z\" fill=\"#000000\" fill-rule=\"nonzero\" fill-opacity=\"1\" /><path clip-path=\"url(#clip810)\" d=\"M21.7677 896.901 L39.6235 896.901 L39.6235 888.816 Q39.6235 884.329 37.3 881.878 Q34.9765 879.427 30.6797 879.427 Q26.4147 879.427 24.0912 881.878 Q21.7677 884.329 21.7677 888.816 L21.7677 896.901 M16.4842 903.33 L16.4842 888.816 Q16.4842 880.828 20.1126 876.753 Q23.7092 872.648 30.6797 872.648 Q37.7138 872.648 41.3104 876.753 Q44.907 880.828 44.907 888.816 L44.907 896.901 L64.0042 896.901 L64.0042 903.33 L16.4842 903.33 Z\" fill=\"#000000\" fill-rule=\"nonzero\" fill-opacity=\"1\" /><path clip-path=\"url(#clip810)\" d=\"M33.8307 844.766 Q33.2578 845.752 33.0032 846.93 Q32.7167 848.076 32.7167 849.476 Q32.7167 854.442 35.9632 857.115 Q39.1779 859.757 45.2253 859.757 L64.0042 859.757 L64.0042 865.645 L28.3562 865.645 L28.3562 859.757 L33.8944 859.757 Q30.6479 857.911 29.0883 854.951 Q27.4968 851.991 27.4968 847.758 Q27.4968 847.153 27.5923 846.421 Q27.656 845.689 27.8151 844.798 L33.8307 844.766 Z\" fill=\"#000000\" fill-rule=\"nonzero\" fill-opacity=\"1\" /><path clip-path=\"url(#clip810)\" d=\"M32.4621 826.242 Q32.4621 830.952 36.1542 833.689 Q39.8145 836.427 46.212 836.427 Q52.6095 836.427 56.3017 833.721 Q59.9619 830.984 59.9619 826.242 Q59.9619 821.563 56.2698 818.826 Q52.5777 816.088 46.212 816.088 Q39.8781 816.088 36.186 818.826 Q32.4621 821.563 32.4621 826.242 M27.4968 826.242 Q27.4968 818.603 32.4621 814.242 Q37.4273 809.882 46.212 809.882 Q54.9649 809.882 59.9619 814.242 Q64.9272 818.603 64.9272 826.242 Q64.9272 833.912 59.9619 838.273 Q54.9649 842.601 46.212 842.601 Q37.4273 842.601 32.4621 838.273 Q27.4968 833.912 27.4968 826.242 Z\" fill=\"#000000\" fill-rule=\"nonzero\" fill-opacity=\"1\" /><path clip-path=\"url(#clip810)\" d=\"M46.212 774.584 Q39.7508 774.584 36.0905 777.257 Q32.3984 779.899 32.3984 784.546 Q32.3984 789.193 36.0905 791.867 Q39.7508 794.509 46.212 794.509 Q52.6732 794.509 56.3653 791.867 Q60.0256 789.193 60.0256 784.546 Q60.0256 779.899 56.3653 777.257 Q52.6732 774.584 46.212 774.584 M33.7671 794.509 Q30.5842 792.662 29.0564 789.862 Q27.4968 787.029 27.4968 783.114 Q27.4968 776.621 32.6531 772.579 Q37.8093 768.505 46.212 768.505 Q54.6147 768.505 59.771 772.579 Q64.9272 776.621 64.9272 783.114 Q64.9272 787.029 63.3994 789.862 Q61.8398 792.662 58.657 794.509 L64.0042 794.509 L64.0042 800.397 L14.479 800.397 L14.479 794.509 L33.7671 794.509 Z\" fill=\"#000000\" fill-rule=\"nonzero\" fill-opacity=\"1\" /><path clip-path=\"url(#clip810)\" d=\"M46.0847 742.596 Q46.0847 749.694 47.7079 752.431 Q49.3312 755.168 53.2461 755.168 Q56.3653 755.168 58.2114 753.131 Q60.0256 751.063 60.0256 747.53 Q60.0256 742.66 56.5881 739.732 Q53.1188 736.772 47.3897 736.772 L46.0847 736.772 L46.0847 742.596 M43.6657 730.915 L64.0042 730.915 L64.0042 736.772 L58.5933 736.772 Q61.8398 738.777 63.3994 741.769 Q64.9272 744.761 64.9272 749.089 Q64.9272 754.564 61.8716 757.81 Q58.7843 761.025 53.6281 761.025 Q47.6125 761.025 44.5569 757.015 Q41.5014 752.972 41.5014 744.983 L41.5014 736.772 L40.9285 736.772 Q36.8862 736.772 34.6901 739.445 Q32.4621 742.087 32.4621 746.893 Q32.4621 749.949 33.1941 752.845 Q33.9262 755.741 35.3903 758.415 L29.9795 758.415 Q28.7381 755.2 28.1334 752.177 Q27.4968 749.153 27.4968 746.288 Q27.4968 738.554 31.5072 734.735 Q35.5176 730.915 43.6657 730.915 Z\" fill=\"#000000\" fill-rule=\"nonzero\" fill-opacity=\"1\" /><path clip-path=\"url(#clip810)\" d=\"M46.212 693.262 Q39.7508 693.262 36.0905 695.936 Q32.3984 698.577 32.3984 703.224 Q32.3984 707.871 36.0905 710.545 Q39.7508 713.187 46.212 713.187 Q52.6732 713.187 56.3653 710.545 Q60.0256 707.871 60.0256 703.224 Q60.0256 698.577 56.3653 695.936 Q52.6732 693.262 46.212 693.262 M33.7671 713.187 Q30.5842 711.341 29.0564 708.54 Q27.4968 705.707 27.4968 701.792 Q27.4968 695.299 32.6531 691.257 Q37.8093 687.183 46.212 687.183 Q54.6147 687.183 59.771 691.257 Q64.9272 695.299 64.9272 701.792 Q64.9272 705.707 63.3994 708.54 Q61.8398 711.341 58.657 713.187 L64.0042 713.187 L64.0042 719.075 L14.479 719.075 L14.479 713.187 L33.7671 713.187 Z\" fill=\"#000000\" fill-rule=\"nonzero\" fill-opacity=\"1\" /><path clip-path=\"url(#clip810)\" d=\"M28.3562 677.475 L28.3562 671.619 L64.0042 671.619 L64.0042 677.475 L28.3562 677.475 M14.479 677.475 L14.479 671.619 L21.895 671.619 L21.895 677.475 L14.479 677.475 Z\" fill=\"#000000\" fill-rule=\"nonzero\" fill-opacity=\"1\" /><path clip-path=\"url(#clip810)\" d=\"M14.479 659.365 L14.479 653.508 L64.0042 653.508 L64.0042 659.365 L14.479 659.365 Z\" fill=\"#000000\" fill-rule=\"nonzero\" fill-opacity=\"1\" /><path clip-path=\"url(#clip810)\" d=\"M28.3562 641.254 L28.3562 635.398 L64.0042 635.398 L64.0042 641.254 L28.3562 641.254 M14.479 641.254 L14.479 635.398 L21.895 635.398 L21.895 641.254 L14.479 641.254 Z\" fill=\"#000000\" fill-rule=\"nonzero\" fill-opacity=\"1\" /><path clip-path=\"url(#clip810)\" d=\"M18.2347 617.351 L28.3562 617.351 L28.3562 605.288 L32.9077 605.288 L32.9077 617.351 L52.2594 617.351 Q56.6199 617.351 57.8613 616.173 Q59.1026 614.964 59.1026 611.303 L59.1026 605.288 L64.0042 605.288 L64.0042 611.303 Q64.0042 618.083 61.4897 620.661 Q58.9434 623.239 52.2594 623.239 L32.9077 623.239 L32.9077 627.536 L28.3562 627.536 L28.3562 623.239 L18.2347 623.239 L18.2347 617.351 Z\" fill=\"#000000\" fill-rule=\"nonzero\" fill-opacity=\"1\" /><path clip-path=\"url(#clip810)\" d=\"M67.3143 582.753 Q73.68 585.236 75.6216 587.591 Q77.5631 589.947 77.5631 593.893 L77.5631 598.572 L72.6615 598.572 L72.6615 595.135 Q72.6615 592.716 71.5157 591.379 Q70.3699 590.042 66.1048 588.419 L63.4312 587.368 L28.3562 601.787 L28.3562 595.58 L56.238 584.44 L28.3562 573.3 L28.3562 567.094 L67.3143 582.753 Z\" fill=\"#000000\" fill-rule=\"nonzero\" fill-opacity=\"1\" /><path clip-path=\"url(#clip812)\" d=\"M393.725 1382 L393.725 1384.24 L432.163 1384.24 L432.163 1382 L393.725 1382 L393.725 1382  Z\" fill=\"#009af9\" fill-rule=\"evenodd\" fill-opacity=\"1\"/>\n",
       "<polyline clip-path=\"url(#clip812)\" style=\"stroke:#000000; stroke-linecap:round; stroke-linejoin:round; stroke-width:4; stroke-opacity:1; fill:none\" points=\"393.725,1382 393.725,1384.24 432.163,1384.24 432.163,1382 393.725,1382 \"/>\n",
       "<path clip-path=\"url(#clip812)\" d=\"M432.163 1383.12 L432.163 1384.24 L470.601 1384.24 L470.601 1383.12 L432.163 1383.12 L432.163 1383.12  Z\" fill=\"#009af9\" fill-rule=\"evenodd\" fill-opacity=\"1\"/>\n",
       "<polyline clip-path=\"url(#clip812)\" style=\"stroke:#000000; stroke-linecap:round; stroke-linejoin:round; stroke-width:4; stroke-opacity:1; fill:none\" points=\"432.163,1383.12 432.163,1384.24 470.601,1384.24 470.601,1383.12 432.163,1383.12 \"/>\n",
       "<path clip-path=\"url(#clip812)\" d=\"M470.601 1383.12 L470.601 1384.24 L509.039 1384.24 L509.039 1383.12 L470.601 1383.12 L470.601 1383.12  Z\" fill=\"#009af9\" fill-rule=\"evenodd\" fill-opacity=\"1\"/>\n",
       "<polyline clip-path=\"url(#clip812)\" style=\"stroke:#000000; stroke-linecap:round; stroke-linejoin:round; stroke-width:4; stroke-opacity:1; fill:none\" points=\"470.601,1383.12 470.601,1384.24 509.039,1384.24 509.039,1383.12 470.601,1383.12 \"/>\n",
       "<path clip-path=\"url(#clip812)\" d=\"M509.039 1375.27 L509.039 1384.24 L547.476 1384.24 L547.476 1375.27 L509.039 1375.27 L509.039 1375.27  Z\" fill=\"#009af9\" fill-rule=\"evenodd\" fill-opacity=\"1\"/>\n",
       "<polyline clip-path=\"url(#clip812)\" style=\"stroke:#000000; stroke-linecap:round; stroke-linejoin:round; stroke-width:4; stroke-opacity:1; fill:none\" points=\"509.039,1375.27 509.039,1384.24 547.476,1384.24 547.476,1375.27 509.039,1375.27 \"/>\n",
       "<path clip-path=\"url(#clip812)\" d=\"M547.476 1376.95 L547.476 1384.24 L585.914 1384.24 L585.914 1376.95 L547.476 1376.95 L547.476 1376.95  Z\" fill=\"#009af9\" fill-rule=\"evenodd\" fill-opacity=\"1\"/>\n",
       "<polyline clip-path=\"url(#clip812)\" style=\"stroke:#000000; stroke-linecap:round; stroke-linejoin:round; stroke-width:4; stroke-opacity:1; fill:none\" points=\"547.476,1376.95 547.476,1384.24 585.914,1384.24 585.914,1376.95 547.476,1376.95 \"/>\n",
       "<path clip-path=\"url(#clip812)\" d=\"M585.914 1364.62 L585.914 1384.24 L624.352 1384.24 L624.352 1364.62 L585.914 1364.62 L585.914 1364.62  Z\" fill=\"#009af9\" fill-rule=\"evenodd\" fill-opacity=\"1\"/>\n",
       "<polyline clip-path=\"url(#clip812)\" style=\"stroke:#000000; stroke-linecap:round; stroke-linejoin:round; stroke-width:4; stroke-opacity:1; fill:none\" points=\"585.914,1364.62 585.914,1384.24 624.352,1384.24 624.352,1364.62 585.914,1364.62 \"/>\n",
       "<path clip-path=\"url(#clip812)\" d=\"M624.352 1355.09 L624.352 1384.24 L662.789 1384.24 L662.789 1355.09 L624.352 1355.09 L624.352 1355.09  Z\" fill=\"#009af9\" fill-rule=\"evenodd\" fill-opacity=\"1\"/>\n",
       "<polyline clip-path=\"url(#clip812)\" style=\"stroke:#000000; stroke-linecap:round; stroke-linejoin:round; stroke-width:4; stroke-opacity:1; fill:none\" points=\"624.352,1355.09 624.352,1384.24 662.789,1384.24 662.789,1355.09 624.352,1355.09 \"/>\n",
       "<path clip-path=\"url(#clip812)\" d=\"M662.789 1333.24 L662.789 1384.24 L701.227 1384.24 L701.227 1333.24 L662.789 1333.24 L662.789 1333.24  Z\" fill=\"#009af9\" fill-rule=\"evenodd\" fill-opacity=\"1\"/>\n",
       "<polyline clip-path=\"url(#clip812)\" style=\"stroke:#000000; stroke-linecap:round; stroke-linejoin:round; stroke-width:4; stroke-opacity:1; fill:none\" points=\"662.789,1333.24 662.789,1384.24 701.227,1384.24 701.227,1333.24 662.789,1333.24 \"/>\n",
       "<path clip-path=\"url(#clip812)\" d=\"M701.227 1339.4 L701.227 1384.24 L739.665 1384.24 L739.665 1339.4 L701.227 1339.4 L701.227 1339.4  Z\" fill=\"#009af9\" fill-rule=\"evenodd\" fill-opacity=\"1\"/>\n",
       "<polyline clip-path=\"url(#clip812)\" style=\"stroke:#000000; stroke-linecap:round; stroke-linejoin:round; stroke-width:4; stroke-opacity:1; fill:none\" points=\"701.227,1339.4 701.227,1384.24 739.665,1384.24 739.665,1339.4 701.227,1339.4 \"/>\n",
       "<path clip-path=\"url(#clip812)\" d=\"M739.665 1277.75 L739.665 1384.24 L778.102 1384.24 L778.102 1277.75 L739.665 1277.75 L739.665 1277.75  Z\" fill=\"#009af9\" fill-rule=\"evenodd\" fill-opacity=\"1\"/>\n",
       "<polyline clip-path=\"url(#clip812)\" style=\"stroke:#000000; stroke-linecap:round; stroke-linejoin:round; stroke-width:4; stroke-opacity:1; fill:none\" points=\"739.665,1277.75 739.665,1384.24 778.102,1384.24 778.102,1277.75 739.665,1277.75 \"/>\n",
       "<path clip-path=\"url(#clip812)\" d=\"M778.102 1281.67 L778.102 1384.24 L816.54 1384.24 L816.54 1281.67 L778.102 1281.67 L778.102 1281.67  Z\" fill=\"#009af9\" fill-rule=\"evenodd\" fill-opacity=\"1\"/>\n",
       "<polyline clip-path=\"url(#clip812)\" style=\"stroke:#000000; stroke-linecap:round; stroke-linejoin:round; stroke-width:4; stroke-opacity:1; fill:none\" points=\"778.102,1281.67 778.102,1384.24 816.54,1384.24 816.54,1281.67 778.102,1281.67 \"/>\n",
       "<path clip-path=\"url(#clip812)\" d=\"M816.54 1190.32 L816.54 1384.24 L854.978 1384.24 L854.978 1190.32 L816.54 1190.32 L816.54 1190.32  Z\" fill=\"#009af9\" fill-rule=\"evenodd\" fill-opacity=\"1\"/>\n",
       "<polyline clip-path=\"url(#clip812)\" style=\"stroke:#000000; stroke-linecap:round; stroke-linejoin:round; stroke-width:4; stroke-opacity:1; fill:none\" points=\"816.54,1190.32 816.54,1384.24 854.978,1384.24 854.978,1190.32 816.54,1190.32 \"/>\n",
       "<path clip-path=\"url(#clip812)\" d=\"M854.978 1208.81 L854.978 1384.24 L893.415 1384.24 L893.415 1208.81 L854.978 1208.81 L854.978 1208.81  Z\" fill=\"#009af9\" fill-rule=\"evenodd\" fill-opacity=\"1\"/>\n",
       "<polyline clip-path=\"url(#clip812)\" style=\"stroke:#000000; stroke-linecap:round; stroke-linejoin:round; stroke-width:4; stroke-opacity:1; fill:none\" points=\"854.978,1208.81 854.978,1384.24 893.415,1384.24 893.415,1208.81 854.978,1208.81 \"/>\n",
       "<path clip-path=\"url(#clip812)\" d=\"M893.415 1045.15 L893.415 1384.24 L931.853 1384.24 L931.853 1045.15 L893.415 1045.15 L893.415 1045.15  Z\" fill=\"#009af9\" fill-rule=\"evenodd\" fill-opacity=\"1\"/>\n",
       "<polyline clip-path=\"url(#clip812)\" style=\"stroke:#000000; stroke-linecap:round; stroke-linejoin:round; stroke-width:4; stroke-opacity:1; fill:none\" points=\"893.415,1045.15 893.415,1384.24 931.853,1384.24 931.853,1045.15 893.415,1045.15 \"/>\n",
       "<path clip-path=\"url(#clip812)\" d=\"M931.853 1081.58 L931.853 1384.24 L970.291 1384.24 L970.291 1081.58 L931.853 1081.58 L931.853 1081.58  Z\" fill=\"#009af9\" fill-rule=\"evenodd\" fill-opacity=\"1\"/>\n",
       "<polyline clip-path=\"url(#clip812)\" style=\"stroke:#000000; stroke-linecap:round; stroke-linejoin:round; stroke-width:4; stroke-opacity:1; fill:none\" points=\"931.853,1081.58 931.853,1384.24 970.291,1384.24 970.291,1081.58 931.853,1081.58 \"/>\n",
       "<path clip-path=\"url(#clip812)\" d=\"M970.291 863 L970.291 1384.24 L1008.73 1384.24 L1008.73 863 L970.291 863 L970.291 863  Z\" fill=\"#009af9\" fill-rule=\"evenodd\" fill-opacity=\"1\"/>\n",
       "<polyline clip-path=\"url(#clip812)\" style=\"stroke:#000000; stroke-linecap:round; stroke-linejoin:round; stroke-width:4; stroke-opacity:1; fill:none\" points=\"970.291,863 970.291,1384.24 1008.73,1384.24 1008.73,863 970.291,863 \"/>\n",
       "<path clip-path=\"url(#clip812)\" d=\"M1008.73 952.115 L1008.73 1384.24 L1047.17 1384.24 L1047.17 952.115 L1008.73 952.115 L1008.73 952.115  Z\" fill=\"#009af9\" fill-rule=\"evenodd\" fill-opacity=\"1\"/>\n",
       "<polyline clip-path=\"url(#clip812)\" style=\"stroke:#000000; stroke-linecap:round; stroke-linejoin:round; stroke-width:4; stroke-opacity:1; fill:none\" points=\"1008.73,952.115 1008.73,1384.24 1047.17,1384.24 1047.17,952.115 1008.73,952.115 \"/>\n",
       "<path clip-path=\"url(#clip812)\" d=\"M1047.17 572.115 L1047.17 1384.24 L1085.6 1384.24 L1085.6 572.115 L1047.17 572.115 L1047.17 572.115  Z\" fill=\"#009af9\" fill-rule=\"evenodd\" fill-opacity=\"1\"/>\n",
       "<polyline clip-path=\"url(#clip812)\" style=\"stroke:#000000; stroke-linecap:round; stroke-linejoin:round; stroke-width:4; stroke-opacity:1; fill:none\" points=\"1047.17,572.115 1047.17,1384.24 1085.6,1384.24 1085.6,572.115 1047.17,572.115 \"/>\n",
       "<path clip-path=\"url(#clip812)\" d=\"M1085.6 745.861 L1085.6 1384.24 L1124.04 1384.24 L1124.04 745.861 L1085.6 745.861 L1085.6 745.861  Z\" fill=\"#009af9\" fill-rule=\"evenodd\" fill-opacity=\"1\"/>\n",
       "<polyline clip-path=\"url(#clip812)\" style=\"stroke:#000000; stroke-linecap:round; stroke-linejoin:round; stroke-width:4; stroke-opacity:1; fill:none\" points=\"1085.6,745.861 1085.6,1384.24 1124.04,1384.24 1124.04,745.861 1085.6,745.861 \"/>\n",
       "<path clip-path=\"url(#clip812)\" d=\"M1124.04 353.531 L1124.04 1384.24 L1162.48 1384.24 L1162.48 353.531 L1124.04 353.531 L1124.04 353.531  Z\" fill=\"#009af9\" fill-rule=\"evenodd\" fill-opacity=\"1\"/>\n",
       "<polyline clip-path=\"url(#clip812)\" style=\"stroke:#000000; stroke-linecap:round; stroke-linejoin:round; stroke-width:4; stroke-opacity:1; fill:none\" points=\"1124.04,353.531 1124.04,1384.24 1162.48,1384.24 1162.48,353.531 1124.04,353.531 \"/>\n",
       "<path clip-path=\"url(#clip812)\" d=\"M1162.48 633.767 L1162.48 1384.24 L1200.92 1384.24 L1200.92 633.767 L1162.48 633.767 L1162.48 633.767  Z\" fill=\"#009af9\" fill-rule=\"evenodd\" fill-opacity=\"1\"/>\n",
       "<polyline clip-path=\"url(#clip812)\" style=\"stroke:#000000; stroke-linecap:round; stroke-linejoin:round; stroke-width:4; stroke-opacity:1; fill:none\" points=\"1162.48,633.767 1162.48,1384.24 1200.92,1384.24 1200.92,633.767 1162.48,633.767 \"/>\n",
       "<path clip-path=\"url(#clip812)\" d=\"M1200.92 193.796 L1200.92 1384.24 L1239.35 1384.24 L1239.35 193.796 L1200.92 193.796 L1200.92 193.796  Z\" fill=\"#009af9\" fill-rule=\"evenodd\" fill-opacity=\"1\"/>\n",
       "<polyline clip-path=\"url(#clip812)\" style=\"stroke:#000000; stroke-linecap:round; stroke-linejoin:round; stroke-width:4; stroke-opacity:1; fill:none\" points=\"1200.92,193.796 1200.92,1384.24 1239.35,1384.24 1239.35,193.796 1200.92,193.796 \"/>\n",
       "<path clip-path=\"url(#clip812)\" d=\"M1239.35 535.124 L1239.35 1384.24 L1277.79 1384.24 L1277.79 535.124 L1239.35 535.124 L1239.35 535.124  Z\" fill=\"#009af9\" fill-rule=\"evenodd\" fill-opacity=\"1\"/>\n",
       "<polyline clip-path=\"url(#clip812)\" style=\"stroke:#000000; stroke-linecap:round; stroke-linejoin:round; stroke-width:4; stroke-opacity:1; fill:none\" points=\"1239.35,535.124 1239.35,1384.24 1277.79,1384.24 1277.79,535.124 1239.35,535.124 \"/>\n",
       "<path clip-path=\"url(#clip812)\" d=\"M1277.79 86.1857 L1277.79 1384.24 L1316.23 1384.24 L1316.23 86.1857 L1277.79 86.1857 L1277.79 86.1857  Z\" fill=\"#009af9\" fill-rule=\"evenodd\" fill-opacity=\"1\"/>\n",
       "<polyline clip-path=\"url(#clip812)\" style=\"stroke:#000000; stroke-linecap:round; stroke-linejoin:round; stroke-width:4; stroke-opacity:1; fill:none\" points=\"1277.79,86.1857 1277.79,1384.24 1316.23,1384.24 1316.23,86.1857 1277.79,86.1857 \"/>\n",
       "<path clip-path=\"url(#clip812)\" d=\"M1316.23 512.144 L1316.23 1384.24 L1354.67 1384.24 L1354.67 512.144 L1316.23 512.144 L1316.23 512.144  Z\" fill=\"#009af9\" fill-rule=\"evenodd\" fill-opacity=\"1\"/>\n",
       "<polyline clip-path=\"url(#clip812)\" style=\"stroke:#000000; stroke-linecap:round; stroke-linejoin:round; stroke-width:4; stroke-opacity:1; fill:none\" points=\"1316.23,512.144 1316.23,1384.24 1354.67,1384.24 1354.67,512.144 1316.23,512.144 \"/>\n",
       "<path clip-path=\"url(#clip812)\" d=\"M1354.67 137.749 L1354.67 1384.24 L1393.11 1384.24 L1393.11 137.749 L1354.67 137.749 L1354.67 137.749  Z\" fill=\"#009af9\" fill-rule=\"evenodd\" fill-opacity=\"1\"/>\n",
       "<polyline clip-path=\"url(#clip812)\" style=\"stroke:#000000; stroke-linecap:round; stroke-linejoin:round; stroke-width:4; stroke-opacity:1; fill:none\" points=\"1354.67,137.749 1354.67,1384.24 1393.11,1384.24 1393.11,137.749 1354.67,137.749 \"/>\n",
       "<path clip-path=\"url(#clip812)\" d=\"M1393.11 619.755 L1393.11 1384.24 L1431.54 1384.24 L1431.54 619.755 L1393.11 619.755 L1393.11 619.755  Z\" fill=\"#009af9\" fill-rule=\"evenodd\" fill-opacity=\"1\"/>\n",
       "<polyline clip-path=\"url(#clip812)\" style=\"stroke:#000000; stroke-linecap:round; stroke-linejoin:round; stroke-width:4; stroke-opacity:1; fill:none\" points=\"1393.11,619.755 1393.11,1384.24 1431.54,1384.24 1431.54,619.755 1393.11,619.755 \"/>\n",
       "<path clip-path=\"url(#clip812)\" d=\"M1431.54 369.224 L1431.54 1384.24 L1469.98 1384.24 L1469.98 369.224 L1431.54 369.224 L1431.54 369.224  Z\" fill=\"#009af9\" fill-rule=\"evenodd\" fill-opacity=\"1\"/>\n",
       "<polyline clip-path=\"url(#clip812)\" style=\"stroke:#000000; stroke-linecap:round; stroke-linejoin:round; stroke-width:4; stroke-opacity:1; fill:none\" points=\"1431.54,369.224 1431.54,1384.24 1469.98,1384.24 1469.98,369.224 1431.54,369.224 \"/>\n",
       "<path clip-path=\"url(#clip812)\" d=\"M1469.98 752.587 L1469.98 1384.24 L1508.42 1384.24 L1508.42 752.587 L1469.98 752.587 L1469.98 752.587  Z\" fill=\"#009af9\" fill-rule=\"evenodd\" fill-opacity=\"1\"/>\n",
       "<polyline clip-path=\"url(#clip812)\" style=\"stroke:#000000; stroke-linecap:round; stroke-linejoin:round; stroke-width:4; stroke-opacity:1; fill:none\" points=\"1469.98,752.587 1469.98,1384.24 1508.42,1384.24 1508.42,752.587 1469.98,752.587 \"/>\n",
       "<path clip-path=\"url(#clip812)\" d=\"M1508.42 568.752 L1508.42 1384.24 L1546.86 1384.24 L1546.86 568.752 L1508.42 568.752 L1508.42 568.752  Z\" fill=\"#009af9\" fill-rule=\"evenodd\" fill-opacity=\"1\"/>\n",
       "<polyline clip-path=\"url(#clip812)\" style=\"stroke:#000000; stroke-linecap:round; stroke-linejoin:round; stroke-width:4; stroke-opacity:1; fill:none\" points=\"1508.42,568.752 1508.42,1384.24 1546.86,1384.24 1546.86,568.752 1508.42,568.752 \"/>\n",
       "<path clip-path=\"url(#clip812)\" d=\"M1546.86 918.486 L1546.86 1384.24 L1585.29 1384.24 L1585.29 918.486 L1546.86 918.486 L1546.86 918.486  Z\" fill=\"#009af9\" fill-rule=\"evenodd\" fill-opacity=\"1\"/>\n",
       "<polyline clip-path=\"url(#clip812)\" style=\"stroke:#000000; stroke-linecap:round; stroke-linejoin:round; stroke-width:4; stroke-opacity:1; fill:none\" points=\"1546.86,918.486 1546.86,1384.24 1585.29,1384.24 1585.29,918.486 1546.86,918.486 \"/>\n",
       "<path clip-path=\"url(#clip812)\" d=\"M1585.29 808.634 L1585.29 1384.24 L1623.73 1384.24 L1623.73 808.634 L1585.29 808.634 L1585.29 808.634  Z\" fill=\"#009af9\" fill-rule=\"evenodd\" fill-opacity=\"1\"/>\n",
       "<polyline clip-path=\"url(#clip812)\" style=\"stroke:#000000; stroke-linecap:round; stroke-linejoin:round; stroke-width:4; stroke-opacity:1; fill:none\" points=\"1585.29,808.634 1585.29,1384.24 1623.73,1384.24 1623.73,808.634 1585.29,808.634 \"/>\n",
       "<path clip-path=\"url(#clip812)\" d=\"M1623.73 1060.85 L1623.73 1384.24 L1662.17 1384.24 L1662.17 1060.85 L1623.73 1060.85 L1623.73 1060.85  Z\" fill=\"#009af9\" fill-rule=\"evenodd\" fill-opacity=\"1\"/>\n",
       "<polyline clip-path=\"url(#clip812)\" style=\"stroke:#000000; stroke-linecap:round; stroke-linejoin:round; stroke-width:4; stroke-opacity:1; fill:none\" points=\"1623.73,1060.85 1623.73,1384.24 1662.17,1384.24 1662.17,1060.85 1623.73,1060.85 \"/>\n",
       "<path clip-path=\"url(#clip812)\" d=\"M1662.17 1004.8 L1662.17 1384.24 L1700.61 1384.24 L1700.61 1004.8 L1662.17 1004.8 L1662.17 1004.8  Z\" fill=\"#009af9\" fill-rule=\"evenodd\" fill-opacity=\"1\"/>\n",
       "<polyline clip-path=\"url(#clip812)\" style=\"stroke:#000000; stroke-linecap:round; stroke-linejoin:round; stroke-width:4; stroke-opacity:1; fill:none\" points=\"1662.17,1004.8 1662.17,1384.24 1700.61,1384.24 1700.61,1004.8 1662.17,1004.8 \"/>\n",
       "<path clip-path=\"url(#clip812)\" d=\"M1700.61 1179.11 L1700.61 1384.24 L1739.04 1384.24 L1739.04 1179.11 L1700.61 1179.11 L1700.61 1179.11  Z\" fill=\"#009af9\" fill-rule=\"evenodd\" fill-opacity=\"1\"/>\n",
       "<polyline clip-path=\"url(#clip812)\" style=\"stroke:#000000; stroke-linecap:round; stroke-linejoin:round; stroke-width:4; stroke-opacity:1; fill:none\" points=\"1700.61,1179.11 1700.61,1384.24 1739.04,1384.24 1739.04,1179.11 1700.61,1179.11 \"/>\n",
       "<path clip-path=\"url(#clip812)\" d=\"M1739.04 1155.57 L1739.04 1384.24 L1777.48 1384.24 L1777.48 1155.57 L1739.04 1155.57 L1739.04 1155.57  Z\" fill=\"#009af9\" fill-rule=\"evenodd\" fill-opacity=\"1\"/>\n",
       "<polyline clip-path=\"url(#clip812)\" style=\"stroke:#000000; stroke-linecap:round; stroke-linejoin:round; stroke-width:4; stroke-opacity:1; fill:none\" points=\"1739.04,1155.57 1739.04,1384.24 1777.48,1384.24 1777.48,1155.57 1739.04,1155.57 \"/>\n",
       "<path clip-path=\"url(#clip812)\" d=\"M1777.48 1282.79 L1777.48 1384.24 L1815.92 1384.24 L1815.92 1282.79 L1777.48 1282.79 L1777.48 1282.79  Z\" fill=\"#009af9\" fill-rule=\"evenodd\" fill-opacity=\"1\"/>\n",
       "<polyline clip-path=\"url(#clip812)\" style=\"stroke:#000000; stroke-linecap:round; stroke-linejoin:round; stroke-width:4; stroke-opacity:1; fill:none\" points=\"1777.48,1282.79 1777.48,1384.24 1815.92,1384.24 1815.92,1282.79 1777.48,1282.79 \"/>\n",
       "<path clip-path=\"url(#clip812)\" d=\"M1815.92 1288.4 L1815.92 1384.24 L1854.36 1384.24 L1854.36 1288.4 L1815.92 1288.4 L1815.92 1288.4  Z\" fill=\"#009af9\" fill-rule=\"evenodd\" fill-opacity=\"1\"/>\n",
       "<polyline clip-path=\"url(#clip812)\" style=\"stroke:#000000; stroke-linecap:round; stroke-linejoin:round; stroke-width:4; stroke-opacity:1; fill:none\" points=\"1815.92,1288.4 1815.92,1384.24 1854.36,1384.24 1854.36,1288.4 1815.92,1288.4 \"/>\n",
       "<path clip-path=\"url(#clip812)\" d=\"M1854.36 1330.99 L1854.36 1384.24 L1892.8 1384.24 L1892.8 1330.99 L1854.36 1330.99 L1854.36 1330.99  Z\" fill=\"#009af9\" fill-rule=\"evenodd\" fill-opacity=\"1\"/>\n",
       "<polyline clip-path=\"url(#clip812)\" style=\"stroke:#000000; stroke-linecap:round; stroke-linejoin:round; stroke-width:4; stroke-opacity:1; fill:none\" points=\"1854.36,1330.99 1854.36,1384.24 1892.8,1384.24 1892.8,1330.99 1854.36,1330.99 \"/>\n",
       "<path clip-path=\"url(#clip812)\" d=\"M1892.8 1326.51 L1892.8 1384.24 L1931.23 1384.24 L1931.23 1326.51 L1892.8 1326.51 L1892.8 1326.51  Z\" fill=\"#009af9\" fill-rule=\"evenodd\" fill-opacity=\"1\"/>\n",
       "<polyline clip-path=\"url(#clip812)\" style=\"stroke:#000000; stroke-linecap:round; stroke-linejoin:round; stroke-width:4; stroke-opacity:1; fill:none\" points=\"1892.8,1326.51 1892.8,1384.24 1931.23,1384.24 1931.23,1326.51 1892.8,1326.51 \"/>\n",
       "<path clip-path=\"url(#clip812)\" d=\"M1931.23 1363.5 L1931.23 1384.24 L1969.67 1384.24 L1969.67 1363.5 L1931.23 1363.5 L1931.23 1363.5  Z\" fill=\"#009af9\" fill-rule=\"evenodd\" fill-opacity=\"1\"/>\n",
       "<polyline clip-path=\"url(#clip812)\" style=\"stroke:#000000; stroke-linecap:round; stroke-linejoin:round; stroke-width:4; stroke-opacity:1; fill:none\" points=\"1931.23,1363.5 1931.23,1384.24 1969.67,1384.24 1969.67,1363.5 1931.23,1363.5 \"/>\n",
       "<path clip-path=\"url(#clip812)\" d=\"M1969.67 1356.21 L1969.67 1384.24 L2008.11 1384.24 L2008.11 1356.21 L1969.67 1356.21 L1969.67 1356.21  Z\" fill=\"#009af9\" fill-rule=\"evenodd\" fill-opacity=\"1\"/>\n",
       "<polyline clip-path=\"url(#clip812)\" style=\"stroke:#000000; stroke-linecap:round; stroke-linejoin:round; stroke-width:4; stroke-opacity:1; fill:none\" points=\"1969.67,1356.21 1969.67,1384.24 2008.11,1384.24 2008.11,1356.21 1969.67,1356.21 \"/>\n",
       "<path clip-path=\"url(#clip812)\" d=\"M2008.11 1373.03 L2008.11 1384.24 L2046.55 1384.24 L2046.55 1373.03 L2008.11 1373.03 L2008.11 1373.03  Z\" fill=\"#009af9\" fill-rule=\"evenodd\" fill-opacity=\"1\"/>\n",
       "<polyline clip-path=\"url(#clip812)\" style=\"stroke:#000000; stroke-linecap:round; stroke-linejoin:round; stroke-width:4; stroke-opacity:1; fill:none\" points=\"2008.11,1373.03 2008.11,1384.24 2046.55,1384.24 2046.55,1373.03 2008.11,1373.03 \"/>\n",
       "<path clip-path=\"url(#clip812)\" d=\"M2046.55 1374.71 L2046.55 1384.24 L2084.98 1384.24 L2084.98 1374.71 L2046.55 1374.71 L2046.55 1374.71  Z\" fill=\"#009af9\" fill-rule=\"evenodd\" fill-opacity=\"1\"/>\n",
       "<polyline clip-path=\"url(#clip812)\" style=\"stroke:#000000; stroke-linecap:round; stroke-linejoin:round; stroke-width:4; stroke-opacity:1; fill:none\" points=\"2046.55,1374.71 2046.55,1384.24 2084.98,1384.24 2084.98,1374.71 2046.55,1374.71 \"/>\n",
       "<path clip-path=\"url(#clip812)\" d=\"M2084.98 1382 L2084.98 1384.24 L2123.42 1384.24 L2123.42 1382 L2084.98 1382 L2084.98 1382  Z\" fill=\"#009af9\" fill-rule=\"evenodd\" fill-opacity=\"1\"/>\n",
       "<polyline clip-path=\"url(#clip812)\" style=\"stroke:#000000; stroke-linecap:round; stroke-linejoin:round; stroke-width:4; stroke-opacity:1; fill:none\" points=\"2084.98,1382 2084.98,1384.24 2123.42,1384.24 2123.42,1382 2084.98,1382 \"/>\n",
       "<path clip-path=\"url(#clip812)\" d=\"M2123.42 1382.56 L2123.42 1384.24 L2161.86 1384.24 L2161.86 1382.56 L2123.42 1382.56 L2123.42 1382.56  Z\" fill=\"#009af9\" fill-rule=\"evenodd\" fill-opacity=\"1\"/>\n",
       "<polyline clip-path=\"url(#clip812)\" style=\"stroke:#000000; stroke-linecap:round; stroke-linejoin:round; stroke-width:4; stroke-opacity:1; fill:none\" points=\"2123.42,1382.56 2123.42,1384.24 2161.86,1384.24 2161.86,1382.56 2123.42,1382.56 \"/>\n",
       "<path clip-path=\"url(#clip812)\" d=\"M2161.86 1384.24 L2161.86 1384.24 L2200.3 1384.24 L2200.3 1384.24 L2161.86 1384.24 L2161.86 1384.24  Z\" fill=\"#009af9\" fill-rule=\"evenodd\" fill-opacity=\"1\"/>\n",
       "<polyline clip-path=\"url(#clip812)\" style=\"stroke:#000000; stroke-linecap:round; stroke-linejoin:round; stroke-width:4; stroke-opacity:1; fill:none\" points=\"2161.86,1384.24 2161.86,1384.24 2200.3,1384.24 2161.86,1384.24 \"/>\n",
       "<path clip-path=\"url(#clip812)\" d=\"M2200.3 1383.12 L2200.3 1384.24 L2238.73 1384.24 L2238.73 1383.12 L2200.3 1383.12 L2200.3 1383.12  Z\" fill=\"#009af9\" fill-rule=\"evenodd\" fill-opacity=\"1\"/>\n",
       "<polyline clip-path=\"url(#clip812)\" style=\"stroke:#000000; stroke-linecap:round; stroke-linejoin:round; stroke-width:4; stroke-opacity:1; fill:none\" points=\"2200.3,1383.12 2200.3,1384.24 2238.73,1384.24 2238.73,1383.12 2200.3,1383.12 \"/>\n",
       "<circle clip-path=\"url(#clip812)\" style=\"fill:#009af9; stroke:none; fill-opacity:0\" cx=\"412.944\" cy=\"1382\" r=\"2\"/>\n",
       "<circle clip-path=\"url(#clip812)\" style=\"fill:#009af9; stroke:none; fill-opacity:0\" cx=\"451.382\" cy=\"1383.12\" r=\"2\"/>\n",
       "<circle clip-path=\"url(#clip812)\" style=\"fill:#009af9; stroke:none; fill-opacity:0\" cx=\"489.82\" cy=\"1383.12\" r=\"2\"/>\n",
       "<circle clip-path=\"url(#clip812)\" style=\"fill:#009af9; stroke:none; fill-opacity:0\" cx=\"528.257\" cy=\"1375.27\" r=\"2\"/>\n",
       "<circle clip-path=\"url(#clip812)\" style=\"fill:#009af9; stroke:none; fill-opacity:0\" cx=\"566.695\" cy=\"1376.95\" r=\"2\"/>\n",
       "<circle clip-path=\"url(#clip812)\" style=\"fill:#009af9; stroke:none; fill-opacity:0\" cx=\"605.133\" cy=\"1364.62\" r=\"2\"/>\n",
       "<circle clip-path=\"url(#clip812)\" style=\"fill:#009af9; stroke:none; fill-opacity:0\" cx=\"643.57\" cy=\"1355.09\" r=\"2\"/>\n",
       "<circle clip-path=\"url(#clip812)\" style=\"fill:#009af9; stroke:none; fill-opacity:0\" cx=\"682.008\" cy=\"1333.24\" r=\"2\"/>\n",
       "<circle clip-path=\"url(#clip812)\" style=\"fill:#009af9; stroke:none; fill-opacity:0\" cx=\"720.446\" cy=\"1339.4\" r=\"2\"/>\n",
       "<circle clip-path=\"url(#clip812)\" style=\"fill:#009af9; stroke:none; fill-opacity:0\" cx=\"758.883\" cy=\"1277.75\" r=\"2\"/>\n",
       "<circle clip-path=\"url(#clip812)\" style=\"fill:#009af9; stroke:none; fill-opacity:0\" cx=\"797.321\" cy=\"1281.67\" r=\"2\"/>\n",
       "<circle clip-path=\"url(#clip812)\" style=\"fill:#009af9; stroke:none; fill-opacity:0\" cx=\"835.759\" cy=\"1190.32\" r=\"2\"/>\n",
       "<circle clip-path=\"url(#clip812)\" style=\"fill:#009af9; stroke:none; fill-opacity:0\" cx=\"874.197\" cy=\"1208.81\" r=\"2\"/>\n",
       "<circle clip-path=\"url(#clip812)\" style=\"fill:#009af9; stroke:none; fill-opacity:0\" cx=\"912.634\" cy=\"1045.15\" r=\"2\"/>\n",
       "<circle clip-path=\"url(#clip812)\" style=\"fill:#009af9; stroke:none; fill-opacity:0\" cx=\"951.072\" cy=\"1081.58\" r=\"2\"/>\n",
       "<circle clip-path=\"url(#clip812)\" style=\"fill:#009af9; stroke:none; fill-opacity:0\" cx=\"989.51\" cy=\"863\" r=\"2\"/>\n",
       "<circle clip-path=\"url(#clip812)\" style=\"fill:#009af9; stroke:none; fill-opacity:0\" cx=\"1027.95\" cy=\"952.115\" r=\"2\"/>\n",
       "<circle clip-path=\"url(#clip812)\" style=\"fill:#009af9; stroke:none; fill-opacity:0\" cx=\"1066.38\" cy=\"572.115\" r=\"2\"/>\n",
       "<circle clip-path=\"url(#clip812)\" style=\"fill:#009af9; stroke:none; fill-opacity:0\" cx=\"1104.82\" cy=\"745.861\" r=\"2\"/>\n",
       "<circle clip-path=\"url(#clip812)\" style=\"fill:#009af9; stroke:none; fill-opacity:0\" cx=\"1143.26\" cy=\"353.531\" r=\"2\"/>\n",
       "<circle clip-path=\"url(#clip812)\" style=\"fill:#009af9; stroke:none; fill-opacity:0\" cx=\"1181.7\" cy=\"633.767\" r=\"2\"/>\n",
       "<circle clip-path=\"url(#clip812)\" style=\"fill:#009af9; stroke:none; fill-opacity:0\" cx=\"1220.14\" cy=\"193.796\" r=\"2\"/>\n",
       "<circle clip-path=\"url(#clip812)\" style=\"fill:#009af9; stroke:none; fill-opacity:0\" cx=\"1258.57\" cy=\"535.124\" r=\"2\"/>\n",
       "<circle clip-path=\"url(#clip812)\" style=\"fill:#009af9; stroke:none; fill-opacity:0\" cx=\"1297.01\" cy=\"86.1857\" r=\"2\"/>\n",
       "<circle clip-path=\"url(#clip812)\" style=\"fill:#009af9; stroke:none; fill-opacity:0\" cx=\"1335.45\" cy=\"512.144\" r=\"2\"/>\n",
       "<circle clip-path=\"url(#clip812)\" style=\"fill:#009af9; stroke:none; fill-opacity:0\" cx=\"1373.89\" cy=\"137.749\" r=\"2\"/>\n",
       "<circle clip-path=\"url(#clip812)\" style=\"fill:#009af9; stroke:none; fill-opacity:0\" cx=\"1412.32\" cy=\"619.755\" r=\"2\"/>\n",
       "<circle clip-path=\"url(#clip812)\" style=\"fill:#009af9; stroke:none; fill-opacity:0\" cx=\"1450.76\" cy=\"369.224\" r=\"2\"/>\n",
       "<circle clip-path=\"url(#clip812)\" style=\"fill:#009af9; stroke:none; fill-opacity:0\" cx=\"1489.2\" cy=\"752.587\" r=\"2\"/>\n",
       "<circle clip-path=\"url(#clip812)\" style=\"fill:#009af9; stroke:none; fill-opacity:0\" cx=\"1527.64\" cy=\"568.752\" r=\"2\"/>\n",
       "<circle clip-path=\"url(#clip812)\" style=\"fill:#009af9; stroke:none; fill-opacity:0\" cx=\"1566.07\" cy=\"918.486\" r=\"2\"/>\n",
       "<circle clip-path=\"url(#clip812)\" style=\"fill:#009af9; stroke:none; fill-opacity:0\" cx=\"1604.51\" cy=\"808.634\" r=\"2\"/>\n",
       "<circle clip-path=\"url(#clip812)\" style=\"fill:#009af9; stroke:none; fill-opacity:0\" cx=\"1642.95\" cy=\"1060.85\" r=\"2\"/>\n",
       "<circle clip-path=\"url(#clip812)\" style=\"fill:#009af9; stroke:none; fill-opacity:0\" cx=\"1681.39\" cy=\"1004.8\" r=\"2\"/>\n",
       "<circle clip-path=\"url(#clip812)\" style=\"fill:#009af9; stroke:none; fill-opacity:0\" cx=\"1719.83\" cy=\"1179.11\" r=\"2\"/>\n",
       "<circle clip-path=\"url(#clip812)\" style=\"fill:#009af9; stroke:none; fill-opacity:0\" cx=\"1758.26\" cy=\"1155.57\" r=\"2\"/>\n",
       "<circle clip-path=\"url(#clip812)\" style=\"fill:#009af9; stroke:none; fill-opacity:0\" cx=\"1796.7\" cy=\"1282.79\" r=\"2\"/>\n",
       "<circle clip-path=\"url(#clip812)\" style=\"fill:#009af9; stroke:none; fill-opacity:0\" cx=\"1835.14\" cy=\"1288.4\" r=\"2\"/>\n",
       "<circle clip-path=\"url(#clip812)\" style=\"fill:#009af9; stroke:none; fill-opacity:0\" cx=\"1873.58\" cy=\"1330.99\" r=\"2\"/>\n",
       "<circle clip-path=\"url(#clip812)\" style=\"fill:#009af9; stroke:none; fill-opacity:0\" cx=\"1912.01\" cy=\"1326.51\" r=\"2\"/>\n",
       "<circle clip-path=\"url(#clip812)\" style=\"fill:#009af9; stroke:none; fill-opacity:0\" cx=\"1950.45\" cy=\"1363.5\" r=\"2\"/>\n",
       "<circle clip-path=\"url(#clip812)\" style=\"fill:#009af9; stroke:none; fill-opacity:0\" cx=\"1988.89\" cy=\"1356.21\" r=\"2\"/>\n",
       "<circle clip-path=\"url(#clip812)\" style=\"fill:#009af9; stroke:none; fill-opacity:0\" cx=\"2027.33\" cy=\"1373.03\" r=\"2\"/>\n",
       "<circle clip-path=\"url(#clip812)\" style=\"fill:#009af9; stroke:none; fill-opacity:0\" cx=\"2065.76\" cy=\"1374.71\" r=\"2\"/>\n",
       "<circle clip-path=\"url(#clip812)\" style=\"fill:#009af9; stroke:none; fill-opacity:0\" cx=\"2104.2\" cy=\"1382\" r=\"2\"/>\n",
       "<circle clip-path=\"url(#clip812)\" style=\"fill:#009af9; stroke:none; fill-opacity:0\" cx=\"2142.64\" cy=\"1382.56\" r=\"2\"/>\n",
       "<circle clip-path=\"url(#clip812)\" style=\"fill:#009af9; stroke:none; fill-opacity:0\" cx=\"2181.08\" cy=\"1384.24\" r=\"2\"/>\n",
       "<circle clip-path=\"url(#clip812)\" style=\"fill:#009af9; stroke:none; fill-opacity:0\" cx=\"2219.52\" cy=\"1383.12\" r=\"2\"/>\n",
       "<path clip-path=\"url(#clip810)\" d=\"M348.806 196.789 L580.439 196.789 L580.439 93.1086 L348.806 93.1086  Z\" fill=\"#ffffff\" fill-rule=\"evenodd\" fill-opacity=\"1\"/>\n",
       "<polyline clip-path=\"url(#clip810)\" style=\"stroke:#000000; stroke-linecap:round; stroke-linejoin:round; stroke-width:4; stroke-opacity:1; fill:none\" points=\"348.806,196.789 580.439,196.789 580.439,93.1086 348.806,93.1086 348.806,196.789 \"/>\n",
       "<path clip-path=\"url(#clip810)\" d=\"M371.84 165.685 L510.043 165.685 L510.043 124.213 L371.84 124.213 L371.84 165.685  Z\" fill=\"#009af9\" fill-rule=\"evenodd\" fill-opacity=\"1\"/>\n",
       "<polyline clip-path=\"url(#clip810)\" style=\"stroke:#000000; stroke-linecap:round; stroke-linejoin:round; stroke-width:4; stroke-opacity:1; fill:none\" points=\"371.84,165.685 510.043,165.685 510.043,124.213 371.84,124.213 371.84,165.685 \"/>\n",
       "<path clip-path=\"url(#clip810)\" d=\"M555.322 128.803 L555.322 133.363 Q552.66 132.09 550.299 131.465 Q547.938 130.84 545.739 130.84 Q541.919 130.84 539.836 132.321 Q537.776 133.803 537.776 136.534 Q537.776 138.826 539.142 140.007 Q540.531 141.164 544.373 141.882 L547.197 142.46 Q552.429 143.456 554.906 145.979 Q557.406 148.479 557.406 152.692 Q557.406 157.715 554.026 160.307 Q550.669 162.9 544.165 162.9 Q541.711 162.9 538.933 162.344 Q536.179 161.789 533.216 160.701 L533.216 155.886 Q536.063 157.483 538.794 158.293 Q541.526 159.104 544.165 159.104 Q548.169 159.104 550.345 157.53 Q552.521 155.956 552.521 153.039 Q552.521 150.493 550.947 149.057 Q549.396 147.622 545.831 146.905 L542.984 146.349 Q537.753 145.307 535.415 143.085 Q533.077 140.863 533.077 136.905 Q533.077 132.321 536.295 129.682 Q539.535 127.044 545.206 127.044 Q547.637 127.044 550.16 127.483 Q552.683 127.923 555.322 128.803 Z\" fill=\"#000000\" fill-rule=\"nonzero\" fill-opacity=\"1\" /></svg>\n"
      ]
     },
     "metadata": {},
     "output_type": "display_data"
    }
   ],
   "source": [
    "# plot of probability distribution of S\n",
    "histogram(S, normalize = :pdf, label = \"S\", legend = :topleft, xlabel = \"S\", ylabel = \"Probability\")\n",
    "\n"
   ]
  },
  {
   "attachments": {},
   "cell_type": "markdown",
   "metadata": {},
   "source": [
    "We see that the distribution appears to be approximately normal. A qq-plot will confirm\n",
    "that the normal approximation is close to a perfect approximation for this distribution. If,\n",
    "in fact, the distribution is normal, then all we need to define the distribution is the average\n",
    "and the standard deviation. Because we have the original values from which the distribution\n",
    "is created, we can easily compute these with mean(S) and sd(S). The blue curve you see\n",
    "added to the histogram above is a normal density with this average and standard deviation.\n",
    "This average and this standard deviation have special names. They are referred to as the\n",
    "expected value and standard error of the random variable S. We will say more about these\n",
    "in the next section."
   ]
  },
  {
   "attachments": {},
   "cell_type": "markdown",
   "metadata": {},
   "source": [
    "Let's break it down:\n",
    "\n",
    "\"Statistical theory provides a way to derive the distribution of random variables defined as independent random draws from an urn.\"\n",
    "\n",
    "This is saying that if you're drawing random variables independently (i.e., the result of one draw doesn't affect the others), there's a well-defined way to describe the distribution of these variables. This is analogous to drawing balls from an urn with replacement.\n",
    "\n",
    "\"Specifically, in our example above, we can show that (S + n)/2 follows a binomial distribution.\"\n",
    "\n",
    "In the context of the roulette simulation you ran earlier, S is the sum of all the roulette results (each of which is -1 or 1), and n is the total number of bets. The expression (S + n)/2 essentially counts the number of wins (results of 1) in the game. This count follows a binomial distribution, which describes the number of successes in a fixed number of independent Bernoulli trials (with the same probability of success).\n",
    "\n",
    "\"We therefore do not need to run Monte Carlo simulations to know the probability distribution of S. We did this for illustrative purposes.\"\n",
    "\n"
   ]
  },
  {
   "attachments": {},
   "cell_type": "markdown",
   "metadata": {},
   "source": [
    "$$ \\Pr(S < 0) = \\Pr\\left(\\frac{S + n}{2} < \\frac{0 + n}{2}\\right) $$"
   ]
  },
  {
   "attachments": {},
   "cell_type": "markdown",
   "metadata": {},
   "source": [
    "Monte Carlo simulations are a way to estimate probabilities by running many trials and seeing what fraction of them result in a given outcome. However, in this case, because we know the exact distribution that (S + n)/2 follows (a binomial distribution), we don't need to run simulations to know the probabilities -- we can calculate them directly.\n",
    "\n",
    "\"We can use the function dbinom and pbinom to compute the probabilities exactly.\"\n",
    "\n",
    "dbinom and pbinom are functions in R for computing probabilities related to the binomial distribution. dbinom gives the probability mass function (the probability of a specific outcome), and pbinom gives the cumulative distribution function (the probability of an outcome less than or equal to a given value).\n",
    "\n",
    "\"For example, to compute Pr(S < 0) we note that: Pr(S < 0) = Pr((S + n)/2 < (0 + n)/2) and we can use the pbinom to compute Pr(S ≤ 0)\"\n",
    "\n",
    "This is showing how to translate a probability involving S into a probability involving (S + n)/2, which follows a binomial distribution. The inequality (S + n)/2 < (0 + n)/2 simplifies to (S + n)/2 < n/2, which is the condition for having less than n/2 wins in the game. The probability of this can be calculated with pbinom.\n",
    "\n",
    "So, overall, this passage is explaining that because the number of wins in the game follows a binomial distribution, we can calculate probabilities directly rather than needing to estimate them with simulations."
   ]
  },
  {
   "attachments": {},
   "cell_type": "markdown",
   "metadata": {},
   "source": [
    "The binomial distribution and the normal distribution are different types of probability distributions, and they aren't interchangeable. However, they are related in a specific way: the normal distribution can be used as an approximation of the binomial distribution under certain conditions.\n",
    "\n",
    "A binomial distribution is discrete and is used when you have a fixed number of independent trials each with a constant probability of success. The binomial distribution's parameters are n (the number of trials) and p (the probability of success on each trial).\n",
    "\n",
    "On the other hand, the normal distribution is a continuous distribution and is often used as an approximation for the binomial distribution when n is large and/or when np and n(1-p) are both large.\n",
    "\n",
    "In these cases, a binomial distribution with parameters n and p can be approximated by a normal distribution with mean μ = np and variance σ² = np(1-p). This is a consequence of the Central Limit Theorem, which states that the sum of a large number of independent and identically distributed random variables will be approximately normally distributed.\n",
    "\n",
    "So, when you say that the histogram of S follows a \"normal\" distribution, it suggests that the conditions are being met to approximate the binomial distribution with a normal distribution.\n",
    "\n",
    "It's important to remember though that the normal approximation is just that - an approximation. The actual underlying distribution is still binomial, and the approximation will not be perfect, especially for values near the tails or when the conditions for the approximation aren't well-met"
   ]
  },
  {
   "attachments": {},
   "cell_type": "markdown",
   "metadata": {},
   "source": [
    "We can use the equivalent to the pbinom in Julia to compute: $$ \\Pr(S \\leq 0) $$"
   ]
  },
  {
   "cell_type": "code",
   "execution_count": 21,
   "metadata": {},
   "outputs": [
    {
     "data": {
      "text/plain": [
       "0.05109794346909982"
      ]
     },
     "metadata": {},
     "output_type": "display_data"
    }
   ],
   "source": [
    "using Distributions\n",
    "\n",
    "n = 1000\n",
    "BinomialDist = Binomial(n, 10/19)\n",
    "cdf(BinomialDist, n/2)\n",
    "\n",
    "\n"
   ]
  },
  {
   "attachments": {},
   "cell_type": "markdown",
   "metadata": {},
   "source": [
    "Because this is a discrete probability function, to get Pr(S < 0) rather than Pr(S ≤ 0), we\n",
    "    write"
   ]
  },
  {
   "cell_type": "code",
   "execution_count": 22,
   "metadata": {},
   "outputs": [
    {
     "data": {
      "text/plain": [
       "0.044795906903590074"
      ]
     },
     "metadata": {},
     "output_type": "display_data"
    }
   ],
   "source": [
    "BinomialDist = Binomial(n, 10/19)\n",
    "cdf(BinomialDist, n/2 - 1)"
   ]
  },
  {
   "attachments": {},
   "cell_type": "markdown",
   "metadata": {},
   "source": [
    "For the details of the binomial distribution, you can consult any basic probability book or\n",
    "even Wikipedia3\n",
    ".\n",
    "Here we do not cover these details. Instead, we will discuss an incredibly useful approxima\u0002tion provided by mathematical theory that applies generally to sums and averages of draws\n",
    "from any urn: the Central Limit Theorem (CLT)."
   ]
  },
  {
   "attachments": {},
   "cell_type": "markdown",
   "metadata": {},
   "source": [
    "## Distribution versus Probability Distribution"
   ]
  },
  {
   "attachments": {},
   "cell_type": "markdown",
   "metadata": {},
   "source": [
    "Before we continue, let’s make an important distinction and connection between the dis\u0002tribution of a list of numbers and a probability distribution. In the visualization chapter,\n",
    "we described how any list of numbers x1, . . . , xn has a distribution. The definition is quite\n",
    "straightforward. We define F(a) as the function that tells us what **proportion** of the list\n",
    "is less than or equal to a. Because they are useful summaries when the distribution is ap\u0002proximately normal, we define the average and standard deviation. These are defined with\n",
    "a straightforward operation of the vector containing the list of numbers x:"
   ]
  },
  {
   "attachments": {},
   "cell_type": "markdown",
   "metadata": {},
   "source": [
    "```R\n",
    "m <- sum(x)/length(x)\n",
    "s <- sqrt(sum((x - m)^2) / length(x))\n",
    "```"
   ]
  },
  {
   "attachments": {},
   "cell_type": "markdown",
   "metadata": {},
   "source": [
    "A random variable **X** has a distribution function. To define this, we do not need a list of\n",
    "numbers. It is a theoretical concept. In this case, we define the distribution as the F(a) that\n",
    "answers the question: what is the **probability** that X is less than or equal to a? There is no\n",
    "list of numbers."
   ]
  },
  {
   "attachments": {},
   "cell_type": "markdown",
   "metadata": {},
   "source": [
    "However, if **X** is defined by drawing from an urn with numbers in it, then there is a list: the\n",
    "list of numbers inside the urn. In this case, the distribution of that list is the probability\n",
    "distribution of X and the average and standard deviation of that list are the expected value\n",
    "and standard error of the random variable."
   ]
  },
  {
   "attachments": {},
   "cell_type": "markdown",
   "metadata": {},
   "source": [
    "Another way to think about it that does not involve an urn is to run a Monte Carlo simulation\n",
    "and generate a very large list of outcomes of X. These outcomes are a list of numbers. The\n",
    "distribution of this list will be a very good approximation of the probability distribution of\n",
    "X. The longer the list, the better the approximation. The average and standard deviation\n",
    "of this list will approximate the expected value and standard error of the random variable."
   ]
  },
  {
   "attachments": {},
   "cell_type": "markdown",
   "metadata": {},
   "source": [
    "## Notation for Random Variables"
   ]
  },
  {
   "attachments": {},
   "cell_type": "markdown",
   "metadata": {},
   "source": [
    "In statistical textbooks, upper case letters are used to denote random variables and we\n",
    "follow this convention here. Lower case letters are used for observed values. You will see\n",
    "some notation that includes both. For example, you will see events defined as $$X ≤ x$$ Here\n",
    "X is a random variable, making it a random event, and x is an arbitrary value and not random. So, for example, X might represent the number on a die roll and x will represent\n",
    "an actual value we see 1, 2, 3, 4, 5, or 6. So in this case, the probability of X = x is 1/6\n",
    "regardless of the observed value x. This notation is a bit strange because, when we ask\n",
    "questions about probability, X is not an observed quantity. Instead, it’s a random quantity\n",
    "that we will see in the future. We can talk about what we expect it to be, what values are\n",
    "probable, but not what it is. But once we have data, we do see a realization of X. So data\n",
    "scientists talk of what could have been after we see what actually happened\n"
   ]
  },
  {
   "attachments": {},
   "cell_type": "markdown",
   "metadata": {},
   "source": [
    "## Central Limit Theorem (CLT)"
   ]
  },
  {
   "attachments": {},
   "cell_type": "markdown",
   "metadata": {},
   "source": [
    " The Central Limit Theorem--\n",
    "or the CLT for short tells us that when the number of independent draws--\n",
    "also called sample size--\n",
    "is large, the probability distribution of the sum of these draws\n",
    "is approximately normal.\n",
    "Because sampling models are used for so many data generation processes,\n",
    "the CLT is considered one of the most important mathematical insights\n",
    "in history.\n",
    "Previously, we discussed that if we know that the distribution\n",
    "of a list of numbers is approximated by the normal distribution,\n",
    "all we need to describe the list are the average and the standard deviation.\n",
    "We also know that the same applies to probability distributions.\n",
    "If a random variable has a probability distribution that\n",
    "is approximated with the normal distribution,\n",
    "then all we need to describe that probability distribution are\n",
    "the average and the standard deviation.\n",
    "Referred to as the **expected value and the standard error**.\n",
    "We have described sampling models for draws.\n",
    "We will now go over the mathematical theory\n",
    "that lets us approximate the probability distribution for the sum of draws.\n",
    "Once we do this, we will be able to help the Casino predict\n",
    "how much money they will make.\n",
    "The same approach we use for sum of the draws\n",
    "will be useful for describing the distribution of averages\n",
    "and proportions, which we will need to understand, for example, how\n",
    "polls work."
   ]
  },
  {
   "attachments": {},
   "cell_type": "markdown",
   "metadata": {},
   "source": [
    "## Expected Value"
   ]
  },
  {
   "attachments": {},
   "cell_type": "markdown",
   "metadata": {},
   "source": [
    "$$ E[X] = \\mu   $$"
   ]
  },
  {
   "attachments": {},
   "cell_type": "markdown",
   "metadata": {},
   "source": [
    "The first important concept to learn is the expected value.\n",
    "In statistics books, it is common to use the letter capital E, like this, E of X\n",
    "equals mu, to denote that the expected value of the random variable X is mu.\n",
    "Mu is a Greek letter for M, which is the first letter in the word mean, which\n",
    "is a synonym with average.\n",
    "A random variable will vary around an expected value in a way\n",
    "that if you take the average of many, many draws, the average of the draws\n",
    "will approximate the expected value."
   ]
  },
  {
   "attachments": {},
   "cell_type": "markdown",
   "metadata": {},
   "source": [
    "A useful formula is that the expected value\n",
    "of the random variables defined by one draw\n",
    "is the average of the numbers in the urn.\n",
    "For example, in our urn used to model betting on red on roulette,\n",
    "we have twenty 1's and 18 negative 1's.\n",
    "So the expected value is E of X equals 20 plus negative 18 divided by 38.\n",
    "Which is about $0.05."
   ]
  },
  {
   "cell_type": "code",
   "execution_count": 23,
   "metadata": {},
   "outputs": [
    {
     "data": {
      "text/plain": [
       "38-element Vector{Int64}:\n",
       "  1\n",
       "  1\n",
       "  1\n",
       "  1\n",
       "  1\n",
       "  1\n",
       "  1\n",
       "  1\n",
       "  1\n",
       "  1\n",
       "  ⋮\n",
       " -1\n",
       " -1\n",
       " -1\n",
       " -1\n",
       " -1\n",
       " -1\n",
       " -1\n",
       " -1\n",
       " -1"
      ]
     },
     "metadata": {},
     "output_type": "display_data"
    }
   ],
   "source": [
    "Urn = @rep([1, -1], [20, 18])"
   ]
  },
  {
   "cell_type": "code",
   "execution_count": 24,
   "metadata": {},
   "outputs": [
    {
     "data": {
      "text/plain": [
       "0.05263157894736842"
      ]
     },
     "metadata": {},
     "output_type": "display_data"
    }
   ],
   "source": [
    "#Expected value of the Urn\n",
    "Urn |> mean"
   ]
  },
  {
   "attachments": {},
   "cell_type": "markdown",
   "metadata": {},
   "source": [
    "It is a bit counterintuitive to say that X\n",
    "varies around 0.05 when the only values it takes is 1 and minus 1.\n",
    "An intuitive way to think about the expected value\n",
    "is that if we play the game over and over,\n",
    "the Casino wins, on average, $0.05 per game.\n",
    "Our Monte Carlo Simulation confirms this.\n",
    "Here we run a million games and we see that the mean of X, which is\n",
    "a bunch of 0s and 1s, is about $0.05.\n",
    "In general, if the urn has just two possible outcomes-- say, a and b,\n",
    "with proportions p and 1 minus p respectively,\n",
    "the average is a times p plus b times 1 minus p.\n",
    "To see this, notice that if there are nb's in the urn,\n",
    "then we have npa's and n times 1 minus is pb's.\n",
    "And because the average is the sum, we have n times a times p plus n times\n",
    "b times 1 minus p divided by the total, which is n.\n",
    "And we get the formula that we just saw.\n",
    "Now, the reason we define the expected value\n",
    "is because this mathematical definition turns out\n",
    "to be useful for approximating the probability distribution of sums,\n",
    "which in turn, is useful to describe the distribution of averages\n",
    "and proportions.\n",
    "The first useful fact is that the expected value of the sum of draws\n",
    "is the number of draws times the average of the numbers in the urn.\n",
    "So if 1,000 people play roulette, the Casino expects to win,\n",
    "on average, 1,000 times $0.05, which is $50."
   ]
  },
  {
   "attachments": {},
   "cell_type": "markdown",
   "metadata": {},
   "source": [
    "## Standard Error"
   ]
  },
  {
   "attachments": {},
   "cell_type": "markdown",
   "metadata": {},
   "source": [
    "How different can one observation be from the expected value ?\n",
    "The Casino really wants to know this.\n",
    "What is the range of possibilities?\n",
    "If negative numbers are too likely, we may not install the roulette wheels.\n",
    "Statistical theory, once again, answers this question.\n",
    "The standard error, or SE for short, gives us\n",
    "an idea of the size of the variation around the expected value.\n",
    "In statistics books, it is common to use SE of X\n",
    "to know the standard error of the random variable\n",
    "X If our draws are independent--\n",
    "That's an important assumption-- then the standard error of the sum\n",
    "is given by the equation, the square root of the number of draws,\n",
    "times the standard deviation of the numbers in the urn.\n",
    "Using the definition of standard deviation,\n",
    "we can derive with a bit of math, that if an urn contains two values--\n",
    "a and b, with proportions p and 1 minus p, respectively--\n",
    "the standard deviation is the absolute value of b minus a times\n",
    "the square root of p times 1 minus p."
   ]
  },
  {
   "attachments": {},
   "cell_type": "markdown",
   "metadata": {},
   "source": [
    "$$ SE[X] = \\sqrt{draws} * \\sigma $$"
   ]
  },
  {
   "cell_type": "code",
   "execution_count": 25,
   "metadata": {},
   "outputs": [
    {
     "data": {
      "text/plain": [
       "31.57894736842105"
      ]
     },
     "metadata": {},
     "output_type": "display_data"
    }
   ],
   "source": [
    "n = 1000;\n",
    "μ = n * (20-18)/38\n",
    "se = sqrt(n) * 2 * sqrt(90)/19\n",
    "\n"
   ]
  },
  {
   "attachments": {},
   "cell_type": "markdown",
   "metadata": {},
   "source": [
    "```R\n",
    "# R code\n",
    "mu <- n * (20-18)/38\n",
    "se <- sqrt(n) * 2 * sqrt(90) / 19\n",
    "pnorm(0, mu, se)\n",
    "```"
   ]
  },
  {
   "cell_type": "code",
   "execution_count": 26,
   "metadata": {},
   "outputs": [],
   "source": [
    "using Distributions"
   ]
  },
  {
   "cell_type": "code",
   "execution_count": 27,
   "metadata": {},
   "outputs": [
    {
     "data": {
      "text/plain": [
       "Normal{Float64}(μ=52.63157894736842, σ=31.57894736842105)"
      ]
     },
     "metadata": {},
     "output_type": "display_data"
    }
   ],
   "source": [
    "NormalDist = Normal(μ, se)"
   ]
  },
  {
   "cell_type": "code",
   "execution_count": 28,
   "metadata": {},
   "outputs": [
    {
     "data": {
      "text/plain": [
       "0.0477903522728147"
      ]
     },
     "metadata": {},
     "output_type": "display_data"
    }
   ],
   "source": [
    "result = cdf(NormalDist, 0)"
   ]
  },
  {
   "attachments": {},
   "cell_type": "markdown",
   "metadata": {},
   "source": [
    "So when 1,000 people bet on red, the Casino\n",
    "is expected to win $50 with a standard error of $32.\n",
    "So it seems like a safe bet.\n",
    "But we still really can't answer the question--\n",
    "How likely is the Casino to lose money?\n",
    "Here The Central Limit Theorem will help.\n",
    "The central limit theorem tells us that the distribution of the sum of S\n",
    "is approximated by a normal distribution.\n",
    "Using the formula, we know that the expected value and standard errors\n",
    "are $52 and $32, respectively.\n",
    "Note that the theoretical values match those obtained with the Monte Carlo\n",
    "simulation we ran earlier.\n",
    "Using the Central Limit Theorem, we can skip the Monte Carlo simulation\n",
    "and instead, compute the probability of the Casino losing\n",
    "money using the approximation.\n",
    "We write the simple code using the pnorm function and we get the answer.\n",
    "It's about 5%.\n",
    "Which, is in very good agreement-- with the Monte Carlo simulation we ran."
   ]
  },
  {
   "cell_type": "code",
   "execution_count": 29,
   "metadata": {},
   "outputs": [],
   "source": []
  },
  {
   "attachments": {},
   "cell_type": "markdown",
   "metadata": {},
   "source": [
    "## Averages and Proportions\n",
    "\n",
    "There are some useful mathematical results, some of which\n",
    "we used previously, that are often used when working with data.\n",
    "We're going to list them here. \n",
    "\n",
    "### 1st Property\n",
    "The first, is that the expected value of a sum of random variables\n",
    "is the sum of the expected values of the individual random variables.\n",
    "We can write it like this, using mathematical notation.\n",
    "If the x are drawn from the same urn, then they all\n",
    "have the same expected value.\n",
    "\n",
    "We call it mu here.\n",
    "And therefore, the expected value of the sum\n",
    "is n times mu, which is another way of writing the result of the sum of draws.\n",
    "\n",
    "### 2nd Property\n",
    "A second property is that the expected value\n",
    "of random variables times a non-random constant\n",
    "is the expected value times that non-random constant.\n",
    "This is easier to explain with mathematical symbols, which\n",
    "we show here.\n",
    "\n",
    "To see why this is intuitive, think of a change of units.\n",
    "If we change the units of the random variable, say from dollars to cents,\n",
    "the expectation should change in the same way.\n",
    "A consequence of these two facts that we described\n",
    "is that the expected value of the average of draws from the same urn\n",
    "is the expected value of the urn, call it mu again.\n",
    "Here is that result written out in mathematical formula.\n",
    "So the expected value of the average is mu,\n",
    "the average of the values in the urn.\n",
    "\n",
    "### 3rd Property\n",
    "A third property is that the square of the standard error\n",
    "of the sum of independent random variables\n",
    "is the sum of the square of the standard error of each random variable.\n",
    "This one is easier to understand in its math form.\n",
    "The standard error of the sum of x is the square root\n",
    "of the sum of the standard error squared, as you can see here.\n",
    "Note that the square of the standard error\n",
    "is referred to as a variance in statistical textbooks.\n",
    "\n",
    "### 4th Property\n",
    "A fourth property is that the standard error\n",
    "of random variables times a non-random constant\n",
    "is the standard error times a non-random constant.\n",
    "As with the expectation, we have the following formula.\n",
    "To see why this is intuitive, again, think of change of units.\n",
    "A consequence of these previous two properties\n",
    "is that the standard error of the average of independent draws\n",
    "from the same urn is the standard deviation\n",
    "of the urn-- let's call it sigma, this is the Greek letter for s.\n",
    "--divided by the square root of n.\n",
    "Here it is in the mathematical form.\n",
    "And here we are using the properties we just described to derive that result.\n",
    "\n",
    "### 5th Property\n",
    "The last property that we're going to talk about\n",
    "is that if x is a normally distributed random variable, then\n",
    "if a and b are non-random constants, then a times X plus b is also\n",
    "a normally distributed random variable.\n",
    "Note that we are doing is changing the units of the random variable\n",
    "by multiplying by a and then shifting the center by adding b."
   ]
  },
  {
   "attachments": {},
   "cell_type": "markdown",
   "metadata": {},
   "source": [
    "Key points\n",
    "Random variable times a constant\n",
    "The expected value of a random variable multiplied by a constant is that constant times its original expected value:\n",
    "\n",
    "The standard error of a random variable multiplied by a constant is that constant times its original standard error:\n",
    "\n",
    "Average of multiple draws of a random variable\n",
    "The expected value of the average of multiple draws from an urn is the expected value of the urn ().\n",
    "\n",
    "The standard deviation of the average of multiple draws from an urn is the standard deviation of the urn divided by the square root of the number of draws ().\n",
    "\n",
    "The sum of multiple draws of a random variable\n",
    "The expected value of the sum of  draws of a random variable is  times its original expected value:\n",
    "\n",
    "The standard error of the sum of  draws of random variable is  times its original standard error:\n",
    "\n",
    "\n",
    "The sum of multiple different random variables\n",
    "The expected value of the sum of different random variables is the sum of the individual expected values for each random variable:\n",
    "\n",
    "The standard error of the sum of different random variables is the square root of the sum of squares of the individual standard errors:\n",
    "\n",
    "Transformation of random variables\n",
    "If  is a normally distributed random variable and  and  are non-random constants, then  is also a normally distributed random variable."
   ]
  },
  {
   "attachments": {},
   "cell_type": "markdown",
   "metadata": {},
   "source": [
    "## Key Points"
   ]
  },
  {
   "attachments": {},
   "cell_type": "markdown",
   "metadata": {},
   "source": [
    "- Random variable times a constant\n",
    "\n",
    "> The expected value of a random variable multiplied by a constant is that constant times its original expected value:"
   ]
  },
  {
   "attachments": {},
   "cell_type": "markdown",
   "metadata": {},
   "source": [
    "<math xmlns=\"http://www.w3.org/1998/Math/MathML\" data-semantic-type=\"punctuated\" data-semantic-role=\"text\" data-semantic-id=\"15\" data-semantic-children=\"0,13\" data-semantic-collapsed=\"(15 (c 14) 0 13)\" data-semantic-complexity=\"5\">\n",
    "  <mstyle displaystyle=\"false\" scriptlevel=\"0\" data-semantic-complexity=\"1\">\n",
    "    <mtext data-semantic-type=\"text\" data-semantic-role=\"latinletter\" data-semantic-font=\"normal\" data-semantic-id=\"0\" data-semantic-parent=\"15\" data-semantic-complexity=\"1\">E</mtext>\n",
    "  </mstyle>\n",
    "  <maction id=\"MJX-Collapse-3\" actiontype=\"toggle\" selection=\"2\" data-semantic-complexity=\"2\">\n",
    "    <mtext data-semantic-complexity=\"2\">&#x25C2;=&#x25B8;</mtext>\n",
    "    <mrow data-semantic-type=\"relseq\" data-semantic-role=\"equality\" data-semantic-id=\"13\" data-semantic-children=\"10,12\" data-semantic-content=\"5\" data-semantic-parent=\"15\" data-semantic-complexity=\"21\">\n",
    "      <mrow data-semantic-type=\"fenced\" data-semantic-role=\"leftright\" data-semantic-id=\"10\" data-semantic-children=\"9\" data-semantic-content=\"1,4\" data-semantic-parent=\"13\" data-semantic-complexity=\"11\">\n",
    "        <mo stretchy=\"false\" data-semantic-type=\"fence\" data-semantic-role=\"open\" data-semantic-id=\"1\" data-semantic-parent=\"10\" data-semantic-operator=\"fenced\" data-semantic-complexity=\"1\">[</mo>\n",
    "        <mrow data-semantic-type=\"infixop\" data-semantic-role=\"implicit\" data-semantic-id=\"9\" data-semantic-children=\"2,3\" data-semantic-content=\"8\" data-semantic-parent=\"10\" data-semantic-complexity=\"6\">\n",
    "          <mi data-semantic-type=\"identifier\" data-semantic-role=\"latinletter\" data-semantic-font=\"italic\" data-semantic-id=\"2\" data-semantic-parent=\"9\" data-semantic-complexity=\"1\">a</mi>\n",
    "          <mo data-semantic-type=\"operator\" data-semantic-role=\"multiplication\" data-semantic-id=\"8\" data-semantic-parent=\"9\" data-semantic-added=\"true\" data-semantic-operator=\"infixop,&#x2062;\" data-semantic-complexity=\"1\">&#x2062;</mo>\n",
    "          <mi data-semantic-type=\"identifier\" data-semantic-role=\"latinletter\" data-semantic-font=\"italic\" data-semantic-id=\"3\" data-semantic-parent=\"9\" data-semantic-complexity=\"1\">X</mi>\n",
    "        </mrow>\n",
    "        <mo stretchy=\"false\" data-semantic-type=\"fence\" data-semantic-role=\"close\" data-semantic-id=\"4\" data-semantic-parent=\"10\" data-semantic-operator=\"fenced\" data-semantic-complexity=\"1\">]</mo>\n",
    "      </mrow>\n",
    "      <mo data-semantic-type=\"relation\" data-semantic-role=\"equality\" data-semantic-id=\"5\" data-semantic-parent=\"13\" data-semantic-operator=\"relseq,=\" data-semantic-complexity=\"1\">=</mo>\n",
    "      <mrow data-semantic-type=\"infixop\" data-semantic-role=\"implicit\" data-semantic-id=\"12\" data-semantic-children=\"6,7\" data-semantic-content=\"11\" data-semantic-parent=\"13\" data-semantic-complexity=\"6\">\n",
    "        <mi data-semantic-type=\"identifier\" data-semantic-role=\"latinletter\" data-semantic-font=\"italic\" data-semantic-id=\"6\" data-semantic-parent=\"12\" data-semantic-complexity=\"1\">a</mi>\n",
    "        <mo data-semantic-type=\"operator\" data-semantic-role=\"multiplication\" data-semantic-id=\"11\" data-semantic-parent=\"12\" data-semantic-added=\"true\" data-semantic-operator=\"infixop,&#x2062;\" data-semantic-complexity=\"1\">&#x2062;</mo>\n",
    "        <mi mathvariant=\"italic\" data-semantic-type=\"identifier\" data-semantic-role=\"greekletter\" data-semantic-font=\"italic\" data-semantic-id=\"7\" data-semantic-parent=\"12\" data-semantic-complexity=\"1\">&#x3BC;</mi>\n",
    "      </mrow>\n",
    "    </mrow>\n",
    "  </maction>\n",
    "</math>"
   ]
  },
  {
   "attachments": {},
   "cell_type": "markdown",
   "metadata": {},
   "source": [
    "- The standard error of a random variable multiplied by a constant is that constant times its original standard error:"
   ]
  },
  {
   "attachments": {},
   "cell_type": "markdown",
   "metadata": {},
   "source": [
    "<math xmlns=\"http://www.w3.org/1998/Math/MathML\" data-semantic-type=\"punctuated\" data-semantic-role=\"text\" data-semantic-id=\"15\" data-semantic-children=\"0,13\" data-semantic-collapsed=\"(15 (c 14) 0 13)\" data-semantic-complexity=\"5.5\">\n",
    "  <mstyle displaystyle=\"false\" scriptlevel=\"0\" data-semantic-complexity=\"1.5\">\n",
    "    <mtext data-semantic-type=\"text\" data-semantic-role=\"unknown\" data-semantic-font=\"normal\" data-semantic-id=\"0\" data-semantic-parent=\"15\" data-semantic-complexity=\"1.5\">SE</mtext>\n",
    "  </mstyle>\n",
    "  <maction id=\"MJX-Collapse-4\" actiontype=\"toggle\" selection=\"2\" data-semantic-complexity=\"2\">\n",
    "    <mtext data-semantic-complexity=\"2\">&#x25C2;=&#x25B8;</mtext>\n",
    "    <mrow data-semantic-type=\"relseq\" data-semantic-role=\"equality\" data-semantic-id=\"13\" data-semantic-children=\"10,12\" data-semantic-content=\"5\" data-semantic-parent=\"15\" data-semantic-complexity=\"21\">\n",
    "      <mrow data-semantic-type=\"fenced\" data-semantic-role=\"leftright\" data-semantic-id=\"10\" data-semantic-children=\"9\" data-semantic-content=\"1,4\" data-semantic-parent=\"13\" data-semantic-complexity=\"11\">\n",
    "        <mo stretchy=\"false\" data-semantic-type=\"fence\" data-semantic-role=\"open\" data-semantic-id=\"1\" data-semantic-parent=\"10\" data-semantic-operator=\"fenced\" data-semantic-complexity=\"1\">[</mo>\n",
    "        <mrow data-semantic-type=\"infixop\" data-semantic-role=\"implicit\" data-semantic-id=\"9\" data-semantic-children=\"2,3\" data-semantic-content=\"8\" data-semantic-parent=\"10\" data-semantic-complexity=\"6\">\n",
    "          <mi data-semantic-type=\"identifier\" data-semantic-role=\"latinletter\" data-semantic-font=\"italic\" data-semantic-id=\"2\" data-semantic-parent=\"9\" data-semantic-complexity=\"1\">a</mi>\n",
    "          <mo data-semantic-type=\"operator\" data-semantic-role=\"multiplication\" data-semantic-id=\"8\" data-semantic-parent=\"9\" data-semantic-added=\"true\" data-semantic-operator=\"infixop,&#x2062;\" data-semantic-complexity=\"1\">&#x2062;</mo>\n",
    "          <mi data-semantic-type=\"identifier\" data-semantic-role=\"latinletter\" data-semantic-font=\"italic\" data-semantic-id=\"3\" data-semantic-parent=\"9\" data-semantic-complexity=\"1\">X</mi>\n",
    "        </mrow>\n",
    "        <mo stretchy=\"false\" data-semantic-type=\"fence\" data-semantic-role=\"close\" data-semantic-id=\"4\" data-semantic-parent=\"10\" data-semantic-operator=\"fenced\" data-semantic-complexity=\"1\">]</mo>\n",
    "      </mrow>\n",
    "      <mo data-semantic-type=\"relation\" data-semantic-role=\"equality\" data-semantic-id=\"5\" data-semantic-parent=\"13\" data-semantic-operator=\"relseq,=\" data-semantic-complexity=\"1\">=</mo>\n",
    "      <mrow data-semantic-type=\"infixop\" data-semantic-role=\"implicit\" data-semantic-id=\"12\" data-semantic-children=\"6,7\" data-semantic-content=\"11\" data-semantic-parent=\"13\" data-semantic-complexity=\"6\">\n",
    "        <mi data-semantic-type=\"identifier\" data-semantic-role=\"latinletter\" data-semantic-font=\"italic\" data-semantic-id=\"6\" data-semantic-parent=\"12\" data-semantic-complexity=\"1\">a</mi>\n",
    "        <mo data-semantic-type=\"operator\" data-semantic-role=\"multiplication\" data-semantic-id=\"11\" data-semantic-parent=\"12\" data-semantic-added=\"true\" data-semantic-operator=\"infixop,&#x2062;\" data-semantic-complexity=\"1\">&#x2062;</mo>\n",
    "        <mi mathvariant=\"italic\" data-semantic-type=\"identifier\" data-semantic-role=\"greekletter\" data-semantic-font=\"italic\" data-semantic-id=\"7\" data-semantic-parent=\"12\" data-semantic-complexity=\"1\">&#x3C3;</mi>\n",
    "      </mrow>\n",
    "    </mrow>\n",
    "  </maction>\n",
    "</math>"
   ]
  },
  {
   "attachments": {},
   "cell_type": "markdown",
   "metadata": {},
   "source": [
    "- Average of multiple draws of a random variable\n",
    "The expected value of the average of multiple draws from an urn is the expected value of the urn ().\n",
    "\n",
    "The standard deviation of the average of multiple draws from an urn is the standard deviation of the urn divided by the square root of the number of draws (<math xmlns=\"http://www.w3.org/1998/Math/MathML\" data-semantic-type=\"infixop\" data-semantic-role=\"division\" data-semantic-id=\"4\" data-semantic-children=\"0,3\" data-semantic-content=\"1\" data-semantic-complexity=\"8\">\n",
    "  <mi mathvariant=\"italic\" data-semantic-type=\"identifier\" data-semantic-role=\"greekletter\" data-semantic-font=\"italic\" data-semantic-id=\"0\" data-semantic-parent=\"4\" data-semantic-complexity=\"1\">&#x3C3;</mi>\n",
    "  <mrow class=\"MJX-TeXAtom-ORD\" data-semantic-complexity=\"1\">\n",
    "    <mo data-semantic-type=\"operator\" data-semantic-role=\"division\" data-semantic-id=\"1\" data-semantic-parent=\"4\" data-semantic-operator=\"infixop,/\" data-semantic-complexity=\"1\">/</mo>\n",
    "  </mrow>\n",
    "  <msqrt data-semantic-type=\"sqrt\" data-semantic-role=\"unknown\" data-semantic-id=\"3\" data-semantic-children=\"2\" data-semantic-parent=\"4\" data-semantic-complexity=\"3\">\n",
    "    <mi data-semantic-type=\"identifier\" data-semantic-role=\"latinletter\" data-semantic-font=\"italic\" data-semantic-id=\"2\" data-semantic-parent=\"3\" data-semantic-complexity=\"1\">n</mi>\n",
    "  </msqrt>\n",
    "</math>)."
   ]
  },
  {
   "attachments": {},
   "cell_type": "markdown",
   "metadata": {},
   "source": []
  },
  {
   "attachments": {},
   "cell_type": "markdown",
   "metadata": {},
   "source": [
    "- The sum of multiple draws of a random variable\n",
    "The expected value of the sum of  draws of a random variable is n times its original expected value:"
   ]
  },
  {
   "attachments": {},
   "cell_type": "markdown",
   "metadata": {},
   "source": [
    "<math xmlns=\"http://www.w3.org/1998/Math/MathML\" data-semantic-type=\"punctuated\" data-semantic-role=\"text\" data-semantic-id=\"15\" data-semantic-children=\"0,13\" data-semantic-collapsed=\"(15 (c 14) 0 13)\" data-semantic-complexity=\"5\">\n",
    "  <mstyle displaystyle=\"false\" scriptlevel=\"0\" data-semantic-complexity=\"1\">\n",
    "    <mtext data-semantic-type=\"text\" data-semantic-role=\"latinletter\" data-semantic-font=\"normal\" data-semantic-id=\"0\" data-semantic-parent=\"15\" data-semantic-complexity=\"1\">E</mtext>\n",
    "  </mstyle>\n",
    "  <maction id=\"MJX-Collapse-5\" actiontype=\"toggle\" selection=\"2\" data-semantic-complexity=\"2\">\n",
    "    <mtext data-semantic-complexity=\"2\">&#x25C2;=&#x25B8;</mtext>\n",
    "    <mrow data-semantic-type=\"relseq\" data-semantic-role=\"equality\" data-semantic-id=\"13\" data-semantic-children=\"10,12\" data-semantic-content=\"5\" data-semantic-parent=\"15\" data-semantic-complexity=\"21\">\n",
    "      <mrow data-semantic-type=\"fenced\" data-semantic-role=\"leftright\" data-semantic-id=\"10\" data-semantic-children=\"9\" data-semantic-content=\"1,4\" data-semantic-parent=\"13\" data-semantic-complexity=\"11\">\n",
    "        <mo stretchy=\"false\" data-semantic-type=\"fence\" data-semantic-role=\"open\" data-semantic-id=\"1\" data-semantic-parent=\"10\" data-semantic-operator=\"fenced\" data-semantic-complexity=\"1\">[</mo>\n",
    "        <mrow data-semantic-type=\"infixop\" data-semantic-role=\"implicit\" data-semantic-id=\"9\" data-semantic-children=\"2,3\" data-semantic-content=\"8\" data-semantic-parent=\"10\" data-semantic-complexity=\"6\">\n",
    "          <mi data-semantic-type=\"identifier\" data-semantic-role=\"latinletter\" data-semantic-font=\"italic\" data-semantic-id=\"2\" data-semantic-parent=\"9\" data-semantic-complexity=\"1\">n</mi>\n",
    "          <mo data-semantic-type=\"operator\" data-semantic-role=\"multiplication\" data-semantic-id=\"8\" data-semantic-parent=\"9\" data-semantic-added=\"true\" data-semantic-operator=\"infixop,&#x2062;\" data-semantic-complexity=\"1\">&#x2062;</mo>\n",
    "          <mi data-semantic-type=\"identifier\" data-semantic-role=\"latinletter\" data-semantic-font=\"italic\" data-semantic-id=\"3\" data-semantic-parent=\"9\" data-semantic-complexity=\"1\">X</mi>\n",
    "        </mrow>\n",
    "        <mo stretchy=\"false\" data-semantic-type=\"fence\" data-semantic-role=\"close\" data-semantic-id=\"4\" data-semantic-parent=\"10\" data-semantic-operator=\"fenced\" data-semantic-complexity=\"1\">]</mo>\n",
    "      </mrow>\n",
    "      <mo data-semantic-type=\"relation\" data-semantic-role=\"equality\" data-semantic-id=\"5\" data-semantic-parent=\"13\" data-semantic-operator=\"relseq,=\" data-semantic-complexity=\"1\">=</mo>\n",
    "      <mrow data-semantic-type=\"infixop\" data-semantic-role=\"implicit\" data-semantic-id=\"12\" data-semantic-children=\"6,7\" data-semantic-content=\"11\" data-semantic-parent=\"13\" data-semantic-complexity=\"6\">\n",
    "        <mi data-semantic-type=\"identifier\" data-semantic-role=\"latinletter\" data-semantic-font=\"italic\" data-semantic-id=\"6\" data-semantic-parent=\"12\" data-semantic-complexity=\"1\">n</mi>\n",
    "        <mo data-semantic-type=\"operator\" data-semantic-role=\"multiplication\" data-semantic-id=\"11\" data-semantic-parent=\"12\" data-semantic-added=\"true\" data-semantic-operator=\"infixop,&#x2062;\" data-semantic-complexity=\"1\">&#x2062;</mo>\n",
    "        <mi mathvariant=\"italic\" data-semantic-type=\"identifier\" data-semantic-role=\"greekletter\" data-semantic-font=\"italic\" data-semantic-id=\"7\" data-semantic-parent=\"12\" data-semantic-complexity=\"1\">&#x3BC;</mi>\n",
    "      </mrow>\n",
    "    </mrow>\n",
    "  </maction>\n",
    "</math>"
   ]
  },
  {
   "attachments": {},
   "cell_type": "markdown",
   "metadata": {},
   "source": [
    "The standard error of the sum of n draws of random variable is sqrt(n) times its original standard error:"
   ]
  },
  {
   "attachments": {},
   "cell_type": "markdown",
   "metadata": {},
   "source": [
    "<math xmlns=\"http://www.w3.org/1998/Math/MathML\" data-semantic-type=\"punctuated\" data-semantic-role=\"text\" data-semantic-id=\"16\" data-semantic-children=\"0,14\" data-semantic-collapsed=\"(16 (c 15) 0 14)\" data-semantic-complexity=\"5.5\">\n",
    "  <mstyle displaystyle=\"false\" scriptlevel=\"0\" data-semantic-complexity=\"1.5\">\n",
    "    <mtext data-semantic-type=\"text\" data-semantic-role=\"unknown\" data-semantic-font=\"normal\" data-semantic-id=\"0\" data-semantic-parent=\"16\" data-semantic-complexity=\"1.5\">SE</mtext>\n",
    "  </mstyle>\n",
    "  <maction id=\"MJX-Collapse-6\" actiontype=\"toggle\" selection=\"2\" data-semantic-complexity=\"2\">\n",
    "    <mtext data-semantic-complexity=\"2\">&#x25C2;=&#x25B8;</mtext>\n",
    "    <mrow data-semantic-type=\"relseq\" data-semantic-role=\"equality\" data-semantic-id=\"14\" data-semantic-children=\"11,13\" data-semantic-content=\"5\" data-semantic-parent=\"16\" data-semantic-complexity=\"23\">\n",
    "      <mrow data-semantic-type=\"fenced\" data-semantic-role=\"leftright\" data-semantic-id=\"11\" data-semantic-children=\"10\" data-semantic-content=\"1,4\" data-semantic-parent=\"14\" data-semantic-complexity=\"11\">\n",
    "        <mo stretchy=\"false\" data-semantic-type=\"fence\" data-semantic-role=\"open\" data-semantic-id=\"1\" data-semantic-parent=\"11\" data-semantic-operator=\"fenced\" data-semantic-complexity=\"1\">[</mo>\n",
    "        <mrow data-semantic-type=\"infixop\" data-semantic-role=\"implicit\" data-semantic-id=\"10\" data-semantic-children=\"2,3\" data-semantic-content=\"9\" data-semantic-parent=\"11\" data-semantic-complexity=\"6\">\n",
    "          <mi data-semantic-type=\"identifier\" data-semantic-role=\"latinletter\" data-semantic-font=\"italic\" data-semantic-id=\"2\" data-semantic-parent=\"10\" data-semantic-complexity=\"1\">n</mi>\n",
    "          <mo data-semantic-type=\"operator\" data-semantic-role=\"multiplication\" data-semantic-id=\"9\" data-semantic-parent=\"10\" data-semantic-added=\"true\" data-semantic-operator=\"infixop,&#x2062;\" data-semantic-complexity=\"1\">&#x2062;</mo>\n",
    "          <mi data-semantic-type=\"identifier\" data-semantic-role=\"latinletter\" data-semantic-font=\"italic\" data-semantic-id=\"3\" data-semantic-parent=\"10\" data-semantic-complexity=\"1\">X</mi>\n",
    "        </mrow>\n",
    "        <mo stretchy=\"false\" data-semantic-type=\"fence\" data-semantic-role=\"close\" data-semantic-id=\"4\" data-semantic-parent=\"11\" data-semantic-operator=\"fenced\" data-semantic-complexity=\"1\">]</mo>\n",
    "      </mrow>\n",
    "      <mo data-semantic-type=\"relation\" data-semantic-role=\"equality\" data-semantic-id=\"5\" data-semantic-parent=\"14\" data-semantic-operator=\"relseq,=\" data-semantic-complexity=\"1\">=</mo>\n",
    "      <mrow data-semantic-type=\"infixop\" data-semantic-role=\"implicit\" data-semantic-id=\"13\" data-semantic-children=\"7,8\" data-semantic-content=\"12\" data-semantic-parent=\"14\" data-semantic-complexity=\"8\">\n",
    "        <msqrt data-semantic-type=\"sqrt\" data-semantic-role=\"unknown\" data-semantic-id=\"7\" data-semantic-children=\"6\" data-semantic-parent=\"13\" data-semantic-complexity=\"3\">\n",
    "          <mi data-semantic-type=\"identifier\" data-semantic-role=\"latinletter\" data-semantic-font=\"italic\" data-semantic-id=\"6\" data-semantic-parent=\"7\" data-semantic-complexity=\"1\">n</mi>\n",
    "        </msqrt>\n",
    "        <mo data-semantic-type=\"operator\" data-semantic-role=\"multiplication\" data-semantic-id=\"12\" data-semantic-parent=\"13\" data-semantic-added=\"true\" data-semantic-operator=\"infixop,&#x2062;\" data-semantic-complexity=\"1\">&#x2062;</mo>\n",
    "        <mi mathvariant=\"italic\" data-semantic-type=\"identifier\" data-semantic-role=\"greekletter\" data-semantic-font=\"italic\" data-semantic-id=\"8\" data-semantic-parent=\"13\" data-semantic-complexity=\"1\">&#x3C3;</mi>\n",
    "      </mrow>\n",
    "    </mrow>\n",
    "  </maction>\n",
    "</math>"
   ]
  },
  {
   "attachments": {},
   "cell_type": "markdown",
   "metadata": {},
   "source": [
    "- The sum of multiple different random variables The expected value of the sum of different random variables is the sum of the individual expected values for each random variable:"
   ]
  },
  {
   "attachments": {},
   "cell_type": "markdown",
   "metadata": {},
   "source": [
    "<math xmlns=\"http://www.w3.org/1998/Math/MathML\" display=\"block\">\n",
    "  <maction id=\"MJX-Collapse-10\" actiontype=\"toggle\" selection=\"2\" data-semantic-complexity=\"3\">\n",
    "    <mtext data-semantic-complexity=\"3\">&#x25C2;...&#x25B8;</mtext>\n",
    "    <mrow data-semantic-complexity=\"16\" data-semantic-collapsed=\"(35 (c 34) 0 33)\" data-semantic-children=\"0,33\" data-semantic-id=\"35\" data-semantic-role=\"text\" data-semantic-type=\"punctuated\">\n",
    "      <mrow>\n",
    "        <mstyle displaystyle=\"false\" scriptlevel=\"0\" data-semantic-complexity=\"1\">\n",
    "          <mtext data-semantic-type=\"text\" data-semantic-role=\"latinletter\" data-semantic-font=\"normal\" data-semantic-id=\"0\" data-semantic-parent=\"35\" data-semantic-complexity=\"1\">E</mtext>\n",
    "        </mstyle>\n",
    "        <mrow data-semantic-type=\"relseq\" data-semantic-role=\"equality\" data-semantic-id=\"33\" data-semantic-children=\"31,32\" data-semantic-content=\"16\" data-semantic-parent=\"35\" data-semantic-complexity=\"13\">\n",
    "          <mrow data-semantic-type=\"fenced\" data-semantic-role=\"leftright\" data-semantic-id=\"31\" data-semantic-children=\"30\" data-semantic-content=\"1,15\" data-semantic-parent=\"33\" data-semantic-complexity=\"7\">\n",
    "            <mo stretchy=\"false\" data-semantic-type=\"fence\" data-semantic-role=\"open\" data-semantic-id=\"1\" data-semantic-parent=\"31\" data-semantic-operator=\"fenced\" data-semantic-complexity=\"1\">[</mo>\n",
    "            <maction id=\"MJX-Collapse-8\" actiontype=\"toggle\" selection=\"2\" data-semantic-complexity=\"2\">\n",
    "              <mtext data-semantic-complexity=\"2\">&#x25C2;+&#x25B8;</mtext>\n",
    "              <mrow data-semantic-type=\"infixop\" data-semantic-role=\"addition\" data-semantic-id=\"30\" data-semantic-children=\"4,8,10,14\" data-semantic-content=\"5,9,11\" data-semantic-parent=\"31\" data-semantic-complexity=\"30.799999999999997\">\n",
    "                <msub data-semantic-type=\"subscript\" data-semantic-role=\"latinletter\" data-semantic-id=\"4\" data-semantic-children=\"2,3\" data-semantic-parent=\"30\" data-semantic-complexity=\"6.6\">\n",
    "                  <mi data-semantic-type=\"identifier\" data-semantic-role=\"latinletter\" data-semantic-font=\"italic\" data-semantic-id=\"2\" data-semantic-parent=\"4\" data-semantic-complexity=\"1\">X</mi>\n",
    "                  <mn data-semantic-type=\"number\" data-semantic-role=\"integer\" data-semantic-font=\"normal\" data-semantic-id=\"3\" data-semantic-parent=\"4\" data-semantic-complexity=\"1\">1</mn>\n",
    "                </msub>\n",
    "                <mo data-semantic-type=\"operator\" data-semantic-role=\"addition\" data-semantic-id=\"5\" data-semantic-parent=\"30\" data-semantic-operator=\"infixop,+\" data-semantic-complexity=\"1\">+</mo>\n",
    "                <msub data-semantic-type=\"subscript\" data-semantic-role=\"latinletter\" data-semantic-id=\"8\" data-semantic-children=\"6,7\" data-semantic-parent=\"30\" data-semantic-complexity=\"6.6\">\n",
    "                  <mi data-semantic-type=\"identifier\" data-semantic-role=\"latinletter\" data-semantic-font=\"italic\" data-semantic-id=\"6\" data-semantic-parent=\"8\" data-semantic-complexity=\"1\">X</mi>\n",
    "                  <mn data-semantic-type=\"number\" data-semantic-role=\"integer\" data-semantic-font=\"normal\" data-semantic-id=\"7\" data-semantic-parent=\"8\" data-semantic-complexity=\"1\">2</mn>\n",
    "                </msub>\n",
    "                <mo data-semantic-type=\"operator\" data-semantic-role=\"addition\" data-semantic-id=\"9\" data-semantic-parent=\"30\" data-semantic-operator=\"infixop,+\" data-semantic-complexity=\"1\">+</mo>\n",
    "                <mo data-semantic-type=\"punctuation\" data-semantic-role=\"ellipsis\" data-semantic-id=\"10\" data-semantic-parent=\"30\" data-semantic-complexity=\"1\">&#x22EF;</mo>\n",
    "                <mo data-semantic-type=\"operator\" data-semantic-role=\"addition\" data-semantic-id=\"11\" data-semantic-parent=\"30\" data-semantic-operator=\"infixop,+\" data-semantic-complexity=\"1\">+</mo>\n",
    "                <msub data-semantic-type=\"subscript\" data-semantic-role=\"latinletter\" data-semantic-id=\"14\" data-semantic-children=\"12,13\" data-semantic-parent=\"30\" data-semantic-complexity=\"6.6\">\n",
    "                  <mi data-semantic-type=\"identifier\" data-semantic-role=\"latinletter\" data-semantic-font=\"italic\" data-semantic-id=\"12\" data-semantic-parent=\"14\" data-semantic-complexity=\"1\">X</mi>\n",
    "                  <mi data-semantic-type=\"identifier\" data-semantic-role=\"latinletter\" data-semantic-font=\"italic\" data-semantic-id=\"13\" data-semantic-parent=\"14\" data-semantic-complexity=\"1\">n</mi>\n",
    "                </msub>\n",
    "              </mrow>\n",
    "            </maction>\n",
    "            <mo stretchy=\"false\" data-semantic-type=\"fence\" data-semantic-role=\"close\" data-semantic-id=\"15\" data-semantic-parent=\"31\" data-semantic-operator=\"fenced\" data-semantic-complexity=\"1\">]</mo>\n",
    "          </mrow>\n",
    "          <mo data-semantic-type=\"relation\" data-semantic-role=\"equality\" data-semantic-id=\"16\" data-semantic-parent=\"33\" data-semantic-operator=\"relseq,=\" data-semantic-complexity=\"1\">=</mo>\n",
    "          <maction id=\"MJX-Collapse-9\" actiontype=\"toggle\" selection=\"2\" data-semantic-complexity=\"2\">\n",
    "            <mtext data-semantic-complexity=\"2\">&#x25C2;+&#x25B8;</mtext>\n",
    "            <mrow data-semantic-type=\"infixop\" data-semantic-role=\"addition\" data-semantic-id=\"32\" data-semantic-children=\"19,23,25,29\" data-semantic-content=\"20,24,26\" data-semantic-parent=\"33\" data-semantic-complexity=\"30.799999999999997\">\n",
    "              <msub data-semantic-type=\"subscript\" data-semantic-role=\"greekletter\" data-semantic-id=\"19\" data-semantic-children=\"17,18\" data-semantic-parent=\"32\" data-semantic-complexity=\"6.6\">\n",
    "                <mi mathvariant=\"italic\" data-semantic-type=\"identifier\" data-semantic-role=\"greekletter\" data-semantic-font=\"italic\" data-semantic-id=\"17\" data-semantic-parent=\"19\" data-semantic-complexity=\"1\">&#x3BC;</mi>\n",
    "                <mn data-semantic-type=\"number\" data-semantic-role=\"integer\" data-semantic-font=\"normal\" data-semantic-id=\"18\" data-semantic-parent=\"19\" data-semantic-complexity=\"1\">1</mn>\n",
    "              </msub>\n",
    "              <mo data-semantic-type=\"operator\" data-semantic-role=\"addition\" data-semantic-id=\"20\" data-semantic-parent=\"32\" data-semantic-operator=\"infixop,+\" data-semantic-complexity=\"1\">+</mo>\n",
    "              <msub data-semantic-type=\"subscript\" data-semantic-role=\"greekletter\" data-semantic-id=\"23\" data-semantic-children=\"21,22\" data-semantic-parent=\"32\" data-semantic-complexity=\"6.6\">\n",
    "                <mi mathvariant=\"italic\" data-semantic-type=\"identifier\" data-semantic-role=\"greekletter\" data-semantic-font=\"italic\" data-semantic-id=\"21\" data-semantic-parent=\"23\" data-semantic-complexity=\"1\">&#x3BC;</mi>\n",
    "                <mn data-semantic-type=\"number\" data-semantic-role=\"integer\" data-semantic-font=\"normal\" data-semantic-id=\"22\" data-semantic-parent=\"23\" data-semantic-complexity=\"1\">2</mn>\n",
    "              </msub>\n",
    "              <mo data-semantic-type=\"operator\" data-semantic-role=\"addition\" data-semantic-id=\"24\" data-semantic-parent=\"32\" data-semantic-operator=\"infixop,+\" data-semantic-complexity=\"1\">+</mo>\n",
    "              <mo data-semantic-type=\"punctuation\" data-semantic-role=\"ellipsis\" data-semantic-id=\"25\" data-semantic-parent=\"32\" data-semantic-complexity=\"1\">&#x22EF;</mo>\n",
    "              <mo data-semantic-type=\"operator\" data-semantic-role=\"addition\" data-semantic-id=\"26\" data-semantic-parent=\"32\" data-semantic-operator=\"infixop,+\" data-semantic-complexity=\"1\">+</mo>\n",
    "              <msub data-semantic-type=\"subscript\" data-semantic-role=\"greekletter\" data-semantic-id=\"29\" data-semantic-children=\"27,28\" data-semantic-parent=\"32\" data-semantic-complexity=\"6.6\">\n",
    "                <mi mathvariant=\"italic\" data-semantic-type=\"identifier\" data-semantic-role=\"greekletter\" data-semantic-font=\"italic\" data-semantic-id=\"27\" data-semantic-parent=\"29\" data-semantic-complexity=\"1\">&#x3BC;</mi>\n",
    "                <mi data-semantic-type=\"identifier\" data-semantic-role=\"latinletter\" data-semantic-font=\"italic\" data-semantic-id=\"28\" data-semantic-parent=\"29\" data-semantic-complexity=\"1\">n</mi>\n",
    "              </msub>\n",
    "            </mrow>\n",
    "          </maction>\n",
    "        </mrow>\n",
    "      </mrow>\n",
    "    </mrow>\n",
    "  </maction>\n",
    "</math>"
   ]
  },
  {
   "attachments": {},
   "cell_type": "markdown",
   "metadata": {},
   "source": [
    "The standard error of the sum of different random variables is the square root of the sum of squares of the individual standard errors:"
   ]
  },
  {
   "attachments": {},
   "cell_type": "markdown",
   "metadata": {},
   "source": [
    "<math xmlns=\"http://www.w3.org/1998/Math/MathML\" display=\"block\">\n",
    "  <maction id=\"MJX-Collapse-15\" actiontype=\"toggle\" selection=\"2\" data-semantic-complexity=\"3\">\n",
    "    <mtext data-semantic-complexity=\"3\">&#x25C2;...&#x25B8;</mtext>\n",
    "    <mrow data-semantic-complexity=\"18.5\" data-semantic-collapsed=\"(42 (c 41) 0 40)\" data-semantic-children=\"0,40\" data-semantic-id=\"42\" data-semantic-role=\"text\" data-semantic-type=\"punctuated\">\n",
    "      <mrow>\n",
    "        <mstyle displaystyle=\"false\" scriptlevel=\"0\" data-semantic-complexity=\"1.5\">\n",
    "          <mtext data-semantic-type=\"text\" data-semantic-role=\"unknown\" data-semantic-font=\"normal\" data-semantic-id=\"0\" data-semantic-parent=\"42\" data-semantic-complexity=\"1.5\">SE</mtext>\n",
    "        </mstyle>\n",
    "        <mrow data-semantic-type=\"relseq\" data-semantic-role=\"equality\" data-semantic-id=\"40\" data-semantic-children=\"39,37\" data-semantic-content=\"16\" data-semantic-parent=\"42\" data-semantic-complexity=\"15\">\n",
    "          <mrow data-semantic-type=\"fenced\" data-semantic-role=\"leftright\" data-semantic-id=\"39\" data-semantic-children=\"38\" data-semantic-content=\"1,15\" data-semantic-parent=\"40\" data-semantic-complexity=\"7\">\n",
    "            <mo stretchy=\"false\" data-semantic-type=\"fence\" data-semantic-role=\"open\" data-semantic-id=\"1\" data-semantic-parent=\"39\" data-semantic-operator=\"fenced\" data-semantic-complexity=\"1\">[</mo>\n",
    "            <maction id=\"MJX-Collapse-12\" actiontype=\"toggle\" selection=\"2\" data-semantic-complexity=\"2\">\n",
    "              <mtext data-semantic-complexity=\"2\">&#x25C2;+&#x25B8;</mtext>\n",
    "              <mrow data-semantic-type=\"infixop\" data-semantic-role=\"addition\" data-semantic-id=\"38\" data-semantic-children=\"4,8,10,14\" data-semantic-content=\"5,9,11\" data-semantic-parent=\"39\" data-semantic-complexity=\"30.799999999999997\">\n",
    "                <msub data-semantic-type=\"subscript\" data-semantic-role=\"latinletter\" data-semantic-id=\"4\" data-semantic-children=\"2,3\" data-semantic-parent=\"38\" data-semantic-complexity=\"6.6\">\n",
    "                  <mi data-semantic-type=\"identifier\" data-semantic-role=\"latinletter\" data-semantic-font=\"italic\" data-semantic-id=\"2\" data-semantic-parent=\"4\" data-semantic-complexity=\"1\">X</mi>\n",
    "                  <mn data-semantic-type=\"number\" data-semantic-role=\"integer\" data-semantic-font=\"normal\" data-semantic-id=\"3\" data-semantic-parent=\"4\" data-semantic-complexity=\"1\">1</mn>\n",
    "                </msub>\n",
    "                <mo data-semantic-type=\"operator\" data-semantic-role=\"addition\" data-semantic-id=\"5\" data-semantic-parent=\"38\" data-semantic-operator=\"infixop,+\" data-semantic-complexity=\"1\">+</mo>\n",
    "                <msub data-semantic-type=\"subscript\" data-semantic-role=\"latinletter\" data-semantic-id=\"8\" data-semantic-children=\"6,7\" data-semantic-parent=\"38\" data-semantic-complexity=\"6.6\">\n",
    "                  <mi data-semantic-type=\"identifier\" data-semantic-role=\"latinletter\" data-semantic-font=\"italic\" data-semantic-id=\"6\" data-semantic-parent=\"8\" data-semantic-complexity=\"1\">X</mi>\n",
    "                  <mn data-semantic-type=\"number\" data-semantic-role=\"integer\" data-semantic-font=\"normal\" data-semantic-id=\"7\" data-semantic-parent=\"8\" data-semantic-complexity=\"1\">2</mn>\n",
    "                </msub>\n",
    "                <mo data-semantic-type=\"operator\" data-semantic-role=\"addition\" data-semantic-id=\"9\" data-semantic-parent=\"38\" data-semantic-operator=\"infixop,+\" data-semantic-complexity=\"1\">+</mo>\n",
    "                <mo data-semantic-type=\"punctuation\" data-semantic-role=\"ellipsis\" data-semantic-id=\"10\" data-semantic-parent=\"38\" data-semantic-complexity=\"1\">&#x22EF;</mo>\n",
    "                <mo data-semantic-type=\"operator\" data-semantic-role=\"addition\" data-semantic-id=\"11\" data-semantic-parent=\"38\" data-semantic-operator=\"infixop,+\" data-semantic-complexity=\"1\">+</mo>\n",
    "                <msub data-semantic-type=\"subscript\" data-semantic-role=\"latinletter\" data-semantic-id=\"14\" data-semantic-children=\"12,13\" data-semantic-parent=\"38\" data-semantic-complexity=\"6.6\">\n",
    "                  <mi data-semantic-type=\"identifier\" data-semantic-role=\"latinletter\" data-semantic-font=\"italic\" data-semantic-id=\"12\" data-semantic-parent=\"14\" data-semantic-complexity=\"1\">X</mi>\n",
    "                  <mi data-semantic-type=\"identifier\" data-semantic-role=\"latinletter\" data-semantic-font=\"italic\" data-semantic-id=\"13\" data-semantic-parent=\"14\" data-semantic-complexity=\"1\">n</mi>\n",
    "                </msub>\n",
    "              </mrow>\n",
    "            </maction>\n",
    "            <mo stretchy=\"false\" data-semantic-type=\"fence\" data-semantic-role=\"close\" data-semantic-id=\"15\" data-semantic-parent=\"39\" data-semantic-operator=\"fenced\" data-semantic-complexity=\"1\">]</mo>\n",
    "          </mrow>\n",
    "          <mo data-semantic-type=\"relation\" data-semantic-role=\"equality\" data-semantic-id=\"16\" data-semantic-parent=\"40\" data-semantic-operator=\"relseq,=\" data-semantic-complexity=\"1\">=</mo>\n",
    "          <msqrt data-semantic-type=\"sqrt\" data-semantic-role=\"unknown\" data-semantic-id=\"37\" data-semantic-children=\"36\" data-semantic-parent=\"40\" data-semantic-complexity=\"4\">\n",
    "            <maction id=\"MJX-Collapse-14\" actiontype=\"toggle\" selection=\"2\" data-semantic-complexity=\"2\">\n",
    "              <mtext data-semantic-complexity=\"2\">&#x25C2;+&#x25B8;</mtext>\n",
    "              <mrow data-semantic-type=\"infixop\" data-semantic-role=\"addition\" data-semantic-id=\"36\" data-semantic-children=\"21,27,29,35\" data-semantic-content=\"22,28,30\" data-semantic-parent=\"37\" data-semantic-complexity=\"33.8\">\n",
    "                <msubsup data-semantic-type=\"subsup\" data-semantic-role=\"greekletter\" data-semantic-id=\"21\" data-semantic-children=\"17,18,19\" data-semantic-parent=\"36\" data-semantic-collapsed=\"(21 (20 17 18) 19)\" data-semantic-complexity=\"7.6\">\n",
    "                  <mi mathvariant=\"italic\" data-semantic-type=\"identifier\" data-semantic-role=\"greekletter\" data-semantic-font=\"italic\" data-semantic-id=\"17\" data-semantic-parent=\"21\" data-semantic-complexity=\"1\">&#x3C3;</mi>\n",
    "                  <mn data-semantic-type=\"number\" data-semantic-role=\"integer\" data-semantic-font=\"normal\" data-semantic-id=\"18\" data-semantic-parent=\"21\" data-semantic-complexity=\"1\">1</mn>\n",
    "                  <mn data-semantic-type=\"number\" data-semantic-role=\"integer\" data-semantic-font=\"normal\" data-semantic-id=\"19\" data-semantic-parent=\"21\" data-semantic-complexity=\"1\">2</mn>\n",
    "                </msubsup>\n",
    "                <mo data-semantic-type=\"operator\" data-semantic-role=\"addition\" data-semantic-id=\"22\" data-semantic-parent=\"36\" data-semantic-operator=\"infixop,+\" data-semantic-complexity=\"1\">+</mo>\n",
    "                <msubsup data-semantic-type=\"subsup\" data-semantic-role=\"greekletter\" data-semantic-id=\"27\" data-semantic-children=\"23,24,25\" data-semantic-parent=\"36\" data-semantic-collapsed=\"(27 (26 23 24) 25)\" data-semantic-complexity=\"7.6\">\n",
    "                  <mi mathvariant=\"italic\" data-semantic-type=\"identifier\" data-semantic-role=\"greekletter\" data-semantic-font=\"italic\" data-semantic-id=\"23\" data-semantic-parent=\"27\" data-semantic-complexity=\"1\">&#x3C3;</mi>\n",
    "                  <mn data-semantic-type=\"number\" data-semantic-role=\"integer\" data-semantic-font=\"normal\" data-semantic-id=\"24\" data-semantic-parent=\"27\" data-semantic-complexity=\"1\">2</mn>\n",
    "                  <mn data-semantic-type=\"number\" data-semantic-role=\"integer\" data-semantic-font=\"normal\" data-semantic-id=\"25\" data-semantic-parent=\"27\" data-semantic-complexity=\"1\">2</mn>\n",
    "                </msubsup>\n",
    "                <mo data-semantic-type=\"operator\" data-semantic-role=\"addition\" data-semantic-id=\"28\" data-semantic-parent=\"36\" data-semantic-operator=\"infixop,+\" data-semantic-complexity=\"1\">+</mo>\n",
    "                <mo data-semantic-type=\"punctuation\" data-semantic-role=\"ellipsis\" data-semantic-id=\"29\" data-semantic-parent=\"36\" data-semantic-complexity=\"1\">&#x22EF;</mo>\n",
    "                <mo data-semantic-type=\"operator\" data-semantic-role=\"addition\" data-semantic-id=\"30\" data-semantic-parent=\"36\" data-semantic-operator=\"infixop,+\" data-semantic-complexity=\"1\">+</mo>\n",
    "                <msubsup data-semantic-type=\"subsup\" data-semantic-role=\"greekletter\" data-semantic-id=\"35\" data-semantic-children=\"31,32,33\" data-semantic-parent=\"36\" data-semantic-collapsed=\"(35 (34 31 32) 33)\" data-semantic-complexity=\"7.6\">\n",
    "                  <mi mathvariant=\"italic\" data-semantic-type=\"identifier\" data-semantic-role=\"greekletter\" data-semantic-font=\"italic\" data-semantic-id=\"31\" data-semantic-parent=\"35\" data-semantic-complexity=\"1\">&#x3C3;</mi>\n",
    "                  <mi data-semantic-type=\"identifier\" data-semantic-role=\"latinletter\" data-semantic-font=\"italic\" data-semantic-id=\"32\" data-semantic-parent=\"35\" data-semantic-complexity=\"1\">n</mi>\n",
    "                  <mn data-semantic-type=\"number\" data-semantic-role=\"integer\" data-semantic-font=\"normal\" data-semantic-id=\"33\" data-semantic-parent=\"35\" data-semantic-complexity=\"1\">2</mn>\n",
    "                </msubsup>\n",
    "              </mrow>\n",
    "            </maction>\n",
    "          </msqrt>\n",
    "        </mrow>\n",
    "      </mrow>\n",
    "    </mrow>\n",
    "  </maction>\n",
    "</math>"
   ]
  },
  {
   "attachments": {},
   "cell_type": "markdown",
   "metadata": {},
   "source": [
    "Transformation of random variables\n",
    "\n",
    "If  $$ X $$ is a normally distributed random variable and `a`  and `b` are non-random constants, then $$aX+b$$\n",
    " is also a normally distributed random variable."
   ]
  },
  {
   "attachments": {},
   "cell_type": "markdown",
   "metadata": {},
   "source": [
    "## Law of large numbers"
   ]
  },
  {
   "attachments": {},
   "cell_type": "markdown",
   "metadata": {},
   "source": [
    "An important implication of the properties\n",
    "we described in the previous video is that the standard error\n",
    "of the average of draws becomes smaller and smaller as the number of draws n\n",
    "grows larger.\n",
    "\n",
    "When n is very large, then the standard error is practically 0,\n",
    "and the average of the draws converges to the average of the urn.\n",
    "This is known in statistical textbooks as the law of large numbers,\n",
    "or the law of averages.\n",
    "\n",
    "Note that the law of averages is sometimes misinterpreted.\n",
    "For example, if you toss a coin five times and you see heads each time,\n",
    "you might hear someone argue that the next toss is probably\n",
    "a tail because of the law of averages.\n",
    "\n",
    "On average, we should 50% heads and 50% tails,\n",
    "so we need more tails to make up.\n",
    "\n",
    "A similar argument would be to say that red is due on roulette\n",
    "after seeing black come up five times in a row.\n",
    "These events are independent.\n",
    "\n",
    "So the chance of a coin landing heads is 50%, regardless of the previous five.\n",
    "Similarly for the roulette outcome.\n",
    "\n",
    "The law of averages applies only when the number of draws\n",
    "is very, very large, not in small samples.\n",
    "\n",
    "After a million tosses, you will definitely see about 50% heads,\n",
    "regardless of what the first five were.\n",
    "\n",
    "Another somewhat funny misuse of the law of averages\n",
    "is in sports, where you sometimes hear TV announcers predict\n",
    "a player is about to succeed because they have failed a few times in a row,\n",
    "and they need successes to make up and match their average."
   ]
  },
  {
   "attachments": {},
   "cell_type": "markdown",
   "metadata": {},
   "source": [
    "## How Large is Large Enough in Central Limit Theorem"
   ]
  },
  {
   "attachments": {},
   "cell_type": "markdown",
   "metadata": {},
   "source": [
    "AL IRIZARRY: The central limit theorem works when the number of draws\n",
    "is large.\n",
    "But large is a relative term.\n",
    "\n",
    "How big is large?\n",
    "15, 100, a million?\n",
    "\n",
    "In many circumstances, as few as 30 draws is enough to make the CLT useful.\n",
    "In specific instances, as few as 10 is enough.\n",
    "However, these should not be considered general rules.\n",
    "Note for example, that when the probability of success is very small,\n",
    "we need larger sample sizes.\n",
    "Consider for example, the lottery.\n",
    "\n",
    "In the lottery, the chance of winning are less than 1 in a million.\n",
    "Thousands of people play, so the number of draws is very large.\n",
    "So the central limit should work.\n",
    "\n",
    "Yet, the number of winners, the sum of the draws,\n",
    "range between 0, and in very extreme cases, four.\n",
    "This sum is certainly not well approximated\n",
    "by the normal distribution.\n",
    "\n",
    "So the central limit theorem doesn't apply, even\n",
    "with a very large sample size.\n",
    "\n",
    "This is generally true when the probability of success is very low.\n",
    "In these cases, the Poisson distribution is more appropriate.\n",
    "\n",
    "We do not cover the theory here, but you can\n",
    "learn about the Poisson distribution in any probability textbook and even\n",
    "Wikipedia."
   ]
  },
  {
   "attachments": {},
   "cell_type": "markdown",
   "metadata": {},
   "source": []
  },
  {
   "attachments": {},
   "cell_type": "markdown",
   "metadata": {},
   "source": [
    "## The Big Short : Interest Rates Explained"
   ]
  },
  {
   "attachments": {},
   "cell_type": "markdown",
   "metadata": {},
   "source": [
    "FAEL IRIZARRY: In a way, the sampling models we've been talking about\n",
    "are also used by banks to decide interest rates.\n",
    "Let's see how this could be.\n",
    "Suppose you run a small bank that has a history of identifying\n",
    "potential homeowners that can be trusted to make payments.\n",
    "In fact, historically in a given year only 2%\n",
    "of your customers default, meaning that they don't pay back the money\n",
    "you lent them.\n",
    "\n",
    "However, note that if you simply loan money to everybody without interest,\n",
    "you'll end up losing money due to this 2%.\n",
    "Although you know 2% of your clients will probably default,\n",
    "you don't know which ones.\n",
    "\n",
    "However, by charging everybody just a bit extra\n",
    "you can make up for the losses incurred due to the 2%,\n",
    "and also pay the employees at work to make these loans happen.\n",
    "You can also make a profit, but if you set the interest rate too high\n",
    "your clients will go to another bank.\n",
    "We use all these facts and some probability theory\n",
    "to decide what interest rates we should charge.\n",
    "\n",
    "Suppose your bank will give out 1,000 loans for 180,000 this year.\n",
    "Also suppose that your bank loses, after adding up\n",
    "all the costs, $200,000 per foreclosure.\n",
    "For simplicity, we assume that that includes all operational costs.\n",
    "A sampling model for this scenario is coded like this.\n",
    "We either default and lose money, or not default and not lose money.\n",
    "If we run the simulation we see that we lose $2.8 millions.\n",
    "Note that the total loss defined by the final sum is a random variable.\n",
    "Every time you run the code you get a different answer.\n",
    "This is because it's a probability of defaulting.\n",
    "It's not going to happen for sure.\n",
    "\n",
    "We can easily construct a Monte Carlo simulation\n",
    "to get an idea of the distribution of this random variable.\n",
    "Here's the distribution.\n",
    "You can see that we're going to lose money because of these people\n",
    "that default. And here's the distribution of how much money we're\n",
    "going to lose in millions.\n",
    "\n",
    "We don't really need a Monte Carlo simulation though.\n",
    "Using what we've learned, the CLT tells us\n",
    "that because our losses are a sum of independent draws,\n",
    "its distribution is approximately normal with expected\n",
    "value and standard deviation given by the following formula.\n",
    "We can now set an interest rate to guarantee that on average, we\n",
    "break even.\n",
    "\n",
    "Basically, we need to add a quantity x to each loan, which in this case\n",
    "are represented by draws, so that the expected value is zero.\n",
    "That means breaking even.\n",
    "If we define l to be the loss per foreclosure,\n",
    "we need to set x so that the following formula holds,\n",
    "which implies that x can be calculated using this R code, which gives us\n",
    "about 4,081.\n",
    "\n",
    "This is an interest rate of about 2%.\n",
    "We still have a problem though.\n",
    "\n",
    "Although this interest rate guarantees that on average we break even,\n",
    "there's a 50% chance that we will lose money.\n",
    "\n",
    "If our bank loses money, we have to close it down.\n",
    "\n",
    "So we need to pick an interest rate that makes it unlikely for this to happen.\n",
    "At the same time, if the interest rate is too high\n",
    "our clients will go to another bank.\n",
    "\n",
    "So we must be willing to take some risks.\n",
    "So, let's they say that we want our chances\n",
    "of losing money to be one in 100.\n",
    "What does x have to be now?\n",
    "\n",
    "This one is a bit harder.\n",
    "\n",
    "We want the sum-- let's call it capital S-- to have the probability\n",
    "of S less than zero to be 0.01.\n",
    "\n",
    "We know that S is approximately normal.\n",
    "\n",
    "The expected value of S is given by this formula,\n",
    "with n the number of draws, which in this case\n",
    "represents the number of loans.\n",
    "\n",
    "The standard error is given by this formula.\n",
    "Because x is positive and l is negative, we\n",
    "know that the absolute value of x minus l is x minus l.\n",
    "\n",
    "Note that these are just the formulas we showed earlier,\n",
    "but using more compact symbols.\n",
    "\n",
    "Now we're going to use a mathematical trick that\n",
    "is very common in statistics.\n",
    "\n",
    "We're going to add and subtract the same quantities to both sides of the event S\n",
    "less than zero so that the probability does not change,\n",
    "and we end up with a standard normal random variable\n",
    "on the left, which will then permit us to write down an equation with only\n",
    "x as an unknown.\n",
    "\n",
    "Here it goes.\n",
    "\n",
    "We want the probability of S being less than zero to be 0.01.\n",
    "So what we're going to do now is we're going\n",
    "to subtract the expected value of S and divide by the standard error of S\n",
    "on both sides of the equation.\n",
    "\n",
    "All we did was add and divide by the same quantity on both sides.\n",
    "We did this because now the term on the left\n",
    "is a standard normal random variable, which we will rename as capital Z.\n",
    "Now, we will fill in the blanks with the actual formula for expected value\n",
    "and standard error.\n",
    "\n",
    "The formula now looks like this.\n",
    "We have a Z on the left.\n",
    "\n",
    "That's good, that's going to make things easier later.\n",
    "The right looks complicated, but remember\n",
    "that l, p, and n are all known amounts, so eventually we'll\n",
    "turn them into numbers.\n",
    "\n",
    "Now, because the term on the left side is a normal random variable\n",
    "with expected value of zero and standard error one,\n",
    "it means that the quantity on the right must\n",
    "be equal to qnorm of 0.01, which is negative 2.32.\n",
    "\n",
    "Then the equation above will hold true.\n",
    "Remember that if we set little z to be qnorm of 0.01,\n",
    "this will give you a value of little z for which the following formula is\n",
    "true.\n",
    "\n",
    "The probability of big Z, less than or equal to little z, equal 0.01.\n",
    "So this means that the right side of the complicated equation\n",
    "must be equal to qnorm 0.01.\n",
    "So we have this formula.\n",
    "\n",
    "The trick works, because we end up with an expression containing\n",
    "x that we know has to be equal to an quantity depending on things we know.\n",
    "Solving for x is now simply, algebra.\n",
    "\n",
    "If we do it, we get that the x has to be about 6,249,\n",
    "which is an interest rate of about 3%, which is still pretty good.\n",
    "Note also that by choosing this interest rate,\n",
    "we now have an expected profit per loan of about $2,124,\n",
    "which is a total expected profit of about $2 million.\n",
    "\n",
    "We can run a Monte Carlo simulation and check our theoretical approximation.\n",
    "We do that, and we indeed get that value again.\n",
    "And again, the probability of profit being less than zero\n",
    "according to the Monte Carlo simulation is about 1%."
   ]
  },
  {
   "attachments": {},
   "cell_type": "markdown",
   "metadata": {},
   "source": [
    "## Modeling"
   ]
  },
  {
   "attachments": {},
   "cell_type": "markdown",
   "metadata": {},
   "source": [
    "Suppose your bank will give out 1,000 loans for $180,000 this year. Also, after adding up all costs, suppose your bank loses $200,000 per foreclosure. For simplicity, we assume this includes all operational costs. A sampling model for this scenario can be coded like this:"
   ]
  },
  {
   "attachments": {},
   "cell_type": "markdown",
   "metadata": {},
   "source": [
    "```R\n",
    "n <- 1000\n",
    "loss_per_foreclosure <- -200000\n",
    "p <- 0.02 \n",
    "defaults <- sample( c(0,1), n, prob=c(1-p, p), replace = TRUE)\n",
    "sum(defaults * loss_per_foreclosure)\n",
    "#> [1] -4400000\n",
    "\n",
    "```"
   ]
  },
  {
   "cell_type": "code",
   "execution_count": 30,
   "metadata": {},
   "outputs": [
    {
     "data": {
      "text/plain": [
       "0.02"
      ]
     },
     "metadata": {},
     "output_type": "display_data"
    }
   ],
   "source": [
    "n = 1000\n",
    "loss_per_foreclosure = - 200000\n",
    "\n",
    "p = 0.02 # probability of customers defaulting\n",
    "\n"
   ]
  },
  {
   "cell_type": "code",
   "execution_count": 31,
   "metadata": {},
   "outputs": [
    {
     "data": {
      "text/plain": [
       "defaults (generic function with 1 method)"
      ]
     },
     "metadata": {},
     "output_type": "display_data"
    }
   ],
   "source": [
    "# customers can default or not default\n",
    "\n",
    "defaults(n) = sum(StatsBase.sample([0, 1], Weights([1-p, p]), n, replace = true) .* loss_per_foreclosure)"
   ]
  },
  {
   "attachments": {},
   "cell_type": "markdown",
   "metadata": {},
   "source": [
    "Note that the total loss defined by the final sum is a random variable. Every time you run the above code, you get a different answer. We can easily construct a Monte Carlo simulation to get an idea of the distribution of this random variable."
   ]
  },
  {
   "attachments": {},
   "cell_type": "markdown",
   "metadata": {},
   "source": [
    "```R\n",
    "B <- 10000\n",
    "losses <- replicate(B, {\n",
    "    defaults <- sample( c(0,1), n, prob=c(1-p, p), replace = TRUE) \n",
    "  sum(defaults * loss_per_foreclosure)\n",
    "})\n",
    "\n",
    "```"
   ]
  },
  {
   "cell_type": "code",
   "execution_count": 32,
   "metadata": {},
   "outputs": [
    {
     "data": {
      "text/plain": [
       "10000-element Vector{Int64}:\n",
       " -4600000\n",
       " -2600000\n",
       " -6000000\n",
       " -5000000\n",
       " -3400000\n",
       " -4800000\n",
       " -3800000\n",
       " -4600000\n",
       " -4200000\n",
       " -4800000\n",
       "        ⋮\n",
       " -3800000\n",
       " -5200000\n",
       " -3600000\n",
       " -4200000\n",
       " -4400000\n",
       " -3600000\n",
       " -5000000\n",
       " -4600000\n",
       " -3200000"
      ]
     },
     "metadata": {},
     "output_type": "display_data"
    }
   ],
   "source": [
    "\n",
    "losses = @replicate 10000 defaults 1000"
   ]
  },
  {
   "cell_type": "code",
   "execution_count": 33,
   "metadata": {},
   "outputs": [
    {
     "data": {
      "text/plain": [
       "-3.99836e6"
      ]
     },
     "metadata": {},
     "output_type": "display_data"
    }
   ],
   "source": [
    "mean(losses)"
   ]
  },
  {
   "attachments": {},
   "cell_type": "markdown",
   "metadata": {},
   "source": [
    "We don’t really need a Monte Carlo simulation though. Using what we have learned, the CLT tells us that because our losses are a sum of independent draws, its distribution is approximately normal with expected value and standard errors given by:"
   ]
  },
  {
   "attachments": {},
   "cell_type": "markdown",
   "metadata": {},
   "source": [
    "```R\n",
    "n*(p*loss_per_foreclosure + (1-p)*0)\n",
    "#> [1] -4e+06\n",
    "sqrt(n)*abs(loss_per_foreclosure)*sqrt(p*(1-p))\n",
    "#> [1] 885438\n",
    "```\n",
    "\n"
   ]
  },
  {
   "cell_type": "code",
   "execution_count": 34,
   "metadata": {},
   "outputs": [
    {
     "data": {
      "text/plain": [
       "-4.0e6"
      ]
     },
     "metadata": {},
     "output_type": "display_data"
    }
   ],
   "source": [
    "n * (p * loss_per_foreclosure + (1-p) * 0)"
   ]
  },
  {
   "cell_type": "code",
   "execution_count": 35,
   "metadata": {},
   "outputs": [
    {
     "data": {
      "text/plain": [
       "885437.7448471461"
      ]
     },
     "metadata": {},
     "output_type": "display_data"
    }
   ],
   "source": [
    "sqrt(n) * abs(loss_per_foreclosure) * sqrt(p * (1-p))"
   ]
  },
  {
   "attachments": {},
   "cell_type": "markdown",
   "metadata": {},
   "source": [
    "We can now set an interest rate to guarantee that, on average, we break even. Basically, we need to add a quantity  \n",
    "x\n",
    "  to each loan, which in this case are represented by draws, so that the expected value is 0. If we define  \n",
    "l\n",
    "  to be the loss per foreclosure, we need:"
   ]
  },
  {
   "attachments": {},
   "cell_type": "markdown",
   "metadata": {},
   "source": [
    "l\n",
    "p\n",
    "+\n",
    "x\n",
    "(\n",
    "1\n",
    "−\n",
    "p\n",
    ")\n",
    "=\n",
    "0"
   ]
  },
  {
   "attachments": {},
   "cell_type": "markdown",
   "metadata": {},
   "source": [
    "which implies  \n",
    "x\n",
    "  is"
   ]
  },
  {
   "attachments": {},
   "cell_type": "markdown",
   "metadata": {},
   "source": [
    "```R\n",
    "- loss_per_foreclosure*p/(1-p)\n",
    "#> [1] 4082\n",
    "```"
   ]
  },
  {
   "attachments": {},
   "cell_type": "markdown",
   "metadata": {},
   "source": [
    "or an interest rate of 0.023."
   ]
  },
  {
   "attachments": {},
   "cell_type": "markdown",
   "metadata": {},
   "source": []
  }
 ],
 "metadata": {
  "kernelspec": {
   "display_name": "Julia 1.9.0",
   "language": "julia",
   "name": "julia-1.9"
  },
  "language_info": {
   "file_extension": ".jl",
   "mimetype": "application/julia",
   "name": "julia",
   "version": "1.9.0"
  },
  "orig_nbformat": 4
 },
 "nbformat": 4,
 "nbformat_minor": 2
}
